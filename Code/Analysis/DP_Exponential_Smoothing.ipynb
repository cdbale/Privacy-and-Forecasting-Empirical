{
 "cells": [
  {
   "cell_type": "markdown",
   "id": "0e4052c3",
   "metadata": {},
   "source": [
    "# Examining the Effects of DP on Exponential Smoothing Forecast Accuracy"
   ]
  },
  {
   "cell_type": "markdown",
   "id": "7a4bd4c9",
   "metadata": {},
   "source": [
    "***"
   ]
  },
  {
   "cell_type": "code",
   "execution_count": 1,
   "id": "dd558349",
   "metadata": {},
   "outputs": [],
   "source": [
    "# general modules\n",
    "import pandas as pd\n",
    "import numpy as np\n",
    "import sktime\n",
    "\n",
    "# import exponential smoothing forecasting model\n",
    "from sktime.forecasting.exp_smoothing import ExponentialSmoothing\n",
    "\n",
    "# functions for transformation+forecasting pipeline\n",
    "from sktime.forecasting.compose import TransformedTargetForecaster\n",
    "\n",
    "# time series transformations\n",
    "from sktime.transformations.series.detrend import ConditionalDeseasonalizer\n",
    "\n",
    "##### the `helper_functions.py` file contains many custom functions we wrote to aid in our analysis\n",
    "##### `full_coding_analysis` combines all of the following - train-test split data,\n",
    "##### data protection, train models, compare accuracies, return accuracy results\n",
    "from helper_functions import *\n",
    "\n",
    "# suppress warnings from exponential smoothing model not converging\n",
    "import warnings\n",
    "warnings.filterwarnings('ignore')"
   ]
  },
  {
   "cell_type": "code",
   "execution_count": 2,
   "id": "053d11e1",
   "metadata": {},
   "outputs": [],
   "source": [
    "# import weekly finance time series\n",
    "Y = np.genfromtxt(\"../../Data/Train/Clean/weekly_finance_clean.csv\", delimiter = ',', skip_header = 1)\n",
    "Y = pd.DataFrame(Y)"
   ]
  },
  {
   "cell_type": "code",
   "execution_count": 3,
   "id": "e54219d3",
   "metadata": {},
   "outputs": [],
   "source": [
    "# detrender = Detrender()\n",
    "# detrended_series = [detrender.fit_transform(series) for _ , series in Y.iterrows()]\n",
    "# detrended_series = [i+np.abs(np.min(i))+1.0 for i in detrended_series]\n",
    "# Y = pd.concat(detrended_series, axis=1).T"
   ]
  },
  {
   "cell_type": "markdown",
   "id": "a2cdca93",
   "metadata": {},
   "source": [
    "***"
   ]
  },
  {
   "cell_type": "markdown",
   "id": "693a5968",
   "metadata": {},
   "source": [
    "## SES"
   ]
  },
  {
   "cell_type": "code",
   "execution_count": 4,
   "id": "c6ca18f3",
   "metadata": {},
   "outputs": [],
   "source": [
    "# define forecasting model\n",
    "# perform additive deseasonalization conditional on autocorrelation test for seasonality\n",
    "\n",
    "forecaster = TransformedTargetForecaster(\n",
    "    [\n",
    "        #(\"deseasonalize\", ConditionalDeseasonalizer(model=\"additive\", sp=52)),\n",
    "        (\"forecast\", ExponentialSmoothing(use_boxcox=False)),\n",
    "    ]\n",
    ")"
   ]
  },
  {
   "cell_type": "code",
   "execution_count": 5,
   "id": "96460ce3",
   "metadata": {},
   "outputs": [],
   "source": [
    "results_dict_ses = {}\n",
    "fcasts_ses = {}\n",
    "fcasts_protected_ses = {}\n",
    "tests = {}\n",
    "epsilons = [1, 10, 20]\n",
    "horizons = [1, 20]"
   ]
  },
  {
   "cell_type": "code",
   "execution_count": 6,
   "id": "33b06dee",
   "metadata": {},
   "outputs": [],
   "source": [
    "for e in epsilons:\n",
    "    for h in horizons:\n",
    "        idx = \"h=\"+str(h)+\", epsilon = \"+str(e)\n",
    "        results_dict_ses[idx], tests[idx], fcasts_ses[idx], fcasts_protected_ses[idx] = full_coding_analysis(time_series_data=Y, \n",
    "                                                                                                             forecasting_model=forecaster, \n",
    "                                                                                                             forecast_horizon=h,\n",
    "                                                                                                             epsilon=e)"
   ]
  },
  {
   "cell_type": "code",
   "execution_count": 7,
   "id": "93202597",
   "metadata": {},
   "outputs": [
    {
     "data": {
      "text/plain": [
       "{'h=1, epsilon = 1': {'Mean Accuracies': array([2.18, 2.18]),\n",
       "  'Protected Mean Accuracies:': array([126.75, 126.75]),\n",
       "  '% Change Mean accuracy:': array([-5722.02, -5722.02]),\n",
       "  '% Change Median accuracy:': array([-11907.38, -11907.38]),\n",
       "  '% Forecasted Points adjusted downward:': 3.05,\n",
       "  '% Forecasted Points adjusted upward:': 96.95,\n",
       "  '% Series with improved accuracy:': array([0.61, 0.61]),\n",
       "  '% Series with reduced accuracy:': array([99.39, 99.39]),\n",
       "  'Original Mean Absolute Error Upward Adjusted:': 2.23,\n",
       "  'Original Mean Absolute Error Downward Adjusted:': 0.35000000000000003,\n",
       "  'Protected Mean Absolute Error Upward Adjusted:': 130.61,\n",
       "  'Protected Mean Absolute Error Downward Adjusted:': 4.08},\n",
       " 'h=20, epsilon = 1': {'Mean Accuracies': array([4.45, 5.43]),\n",
       "  'Protected Mean Accuracies:': array([123.91, 124.  ]),\n",
       "  '% Change Mean accuracy:': array([-2685.55, -2183.41]),\n",
       "  '% Change Median accuracy:': array([-3620.84, -3013.39]),\n",
       "  '% Forecasted Points adjusted downward:': 4.88,\n",
       "  '% Forecasted Points adjusted upward:': 95.12,\n",
       "  '% Series with improved accuracy:': array([0., 0.]),\n",
       "  '% Series with reduced accuracy:': array([100., 100.]),\n",
       "  'Original Mean Absolute Error Upward Adjusted:': 4.61,\n",
       "  'Original Mean Absolute Error Downward Adjusted:': 1.39,\n",
       "  'Protected Mean Absolute Error Upward Adjusted:': 129.92999999999998,\n",
       "  'Protected Mean Absolute Error Downward Adjusted:': 6.49},\n",
       " 'h=1, epsilon = 10': {'Mean Accuracies': array([2.18, 2.18]),\n",
       "  'Protected Mean Accuracies:': array([8.42, 8.42]),\n",
       "  '% Change Mean accuracy:': array([-286.61, -286.61]),\n",
       "  '% Change Median accuracy:': array([-122.61, -122.61]),\n",
       "  '% Forecasted Points adjusted downward:': 53.66,\n",
       "  '% Forecasted Points adjusted upward:': 46.339999999999996,\n",
       "  '% Series with improved accuracy:': array([28.05, 28.05]),\n",
       "  '% Series with reduced accuracy:': array([71.95, 71.95]),\n",
       "  'Original Mean Absolute Error Upward Adjusted:': 2.42,\n",
       "  'Original Mean Absolute Error Downward Adjusted:': 1.97,\n",
       "  'Protected Mean Absolute Error Upward Adjusted:': 14.06,\n",
       "  'Protected Mean Absolute Error Downward Adjusted:': 3.55},\n",
       " 'h=20, epsilon = 10': {'Mean Accuracies': array([4.45, 5.43]),\n",
       "  'Protected Mean Accuracies:': array([8.14, 8.99]),\n",
       "  '% Change Mean accuracy:': array([-82.91, -65.47]),\n",
       "  '% Change Median accuracy:': array([-27.57, -20.72]),\n",
       "  '% Forecasted Points adjusted downward:': 62.8,\n",
       "  '% Forecasted Points adjusted upward:': 37.2,\n",
       "  '% Series with improved accuracy:': array([33.54, 32.93]),\n",
       "  '% Series with reduced accuracy:': array([65.85, 67.07]),\n",
       "  'Original Mean Absolute Error Upward Adjusted:': 5.050000000000001,\n",
       "  'Original Mean Absolute Error Downward Adjusted:': 4.09,\n",
       "  'Protected Mean Absolute Error Upward Adjusted:': 12.47,\n",
       "  'Protected Mean Absolute Error Downward Adjusted:': 5.57},\n",
       " 'h=1, epsilon = 20': {'Mean Accuracies': array([2.18, 2.18]),\n",
       "  'Protected Mean Accuracies:': array([4.92, 4.92]),\n",
       "  '% Change Mean accuracy:': array([-125.92, -125.92]),\n",
       "  '% Change Median accuracy:': array([-80.5, -80.5]),\n",
       "  '% Forecasted Points adjusted downward:': 61.59,\n",
       "  '% Forecasted Points adjusted upward:': 38.41,\n",
       "  '% Series with improved accuracy:': array([38.41, 38.41]),\n",
       "  '% Series with reduced accuracy:': array([61.59, 61.59]),\n",
       "  'Original Mean Absolute Error Upward Adjusted:': 2.83,\n",
       "  'Original Mean Absolute Error Downward Adjusted:': 1.77,\n",
       "  'Protected Mean Absolute Error Upward Adjusted:': 8.49,\n",
       "  'Protected Mean Absolute Error Downward Adjusted:': 2.69},\n",
       " 'h=20, epsilon = 20': {'Mean Accuracies': array([4.45, 5.43]),\n",
       "  'Protected Mean Accuracies:': array([6.64, 7.53]),\n",
       "  '% Change Mean accuracy:': array([-49.33, -38.65]),\n",
       "  '% Change Median accuracy:': array([-9.64, -7.94]),\n",
       "  '% Forecasted Points adjusted downward:': 59.760000000000005,\n",
       "  '% Forecasted Points adjusted upward:': 40.239999999999995,\n",
       "  '% Series with improved accuracy:': array([34.15, 33.54]),\n",
       "  '% Series with reduced accuracy:': array([65.85, 66.46]),\n",
       "  'Original Mean Absolute Error Upward Adjusted:': 4.99,\n",
       "  'Original Mean Absolute Error Downward Adjusted:': 4.08,\n",
       "  'Protected Mean Absolute Error Upward Adjusted:': 9.33,\n",
       "  'Protected Mean Absolute Error Downward Adjusted:': 4.84}}"
      ]
     },
     "execution_count": 7,
     "metadata": {},
     "output_type": "execute_result"
    }
   ],
   "source": [
    "results_dict_ses"
   ]
  },
  {
   "cell_type": "markdown",
   "id": "42340529",
   "metadata": {},
   "source": [
    "***\n",
    "***"
   ]
  },
  {
   "cell_type": "code",
   "execution_count": 8,
   "id": "a9658fcb",
   "metadata": {},
   "outputs": [],
   "source": [
    "original_forecasts = fcasts_ses['h=20, epsilon = 20']\n",
    "protected_forecasts = fcasts_protected_ses['h=20, epsilon = 20']\n",
    "test = tests['h=20, epsilon = 20']"
   ]
  },
  {
   "cell_type": "code",
   "execution_count": 9,
   "id": "df660ba3",
   "metadata": {},
   "outputs": [],
   "source": [
    "adjusted_up = original_forecasts < protected_forecasts\n",
    "adjusted_up = pd.concat([row for i, row in adjusted_up.iterrows()])\n",
    "adjusted_down = original_forecasts > protected_forecasts\n",
    "adjusted_down = pd.concat([row for i, row in adjusted_down.iterrows()])"
   ]
  },
  {
   "cell_type": "code",
   "execution_count": 10,
   "id": "71d3b5f6",
   "metadata": {},
   "outputs": [],
   "source": [
    "absolute_error_original = np.absolute(test - original_forecasts)\n",
    "absolute_error_protected = np.absolute(test - protected_forecasts)"
   ]
  },
  {
   "cell_type": "code",
   "execution_count": 11,
   "id": "f14485d6",
   "metadata": {},
   "outputs": [],
   "source": [
    "improved = absolute_error_original > absolute_error_protected\n",
    "improved = pd.concat([row for i, row in improved.iterrows()])\n",
    "worsened = absolute_error_original < absolute_error_protected\n",
    "worsened = pd.concat([row for i, row in worsened.iterrows()])"
   ]
  },
  {
   "cell_type": "code",
   "execution_count": 12,
   "id": "2b84bada",
   "metadata": {},
   "outputs": [
    {
     "data": {
      "text/plain": [
       "0.4810126582278481"
      ]
     },
     "execution_count": 12,
     "metadata": {},
     "output_type": "execute_result"
    }
   ],
   "source": [
    "np.mean(adjusted_down[improved])"
   ]
  },
  {
   "cell_type": "code",
   "execution_count": 13,
   "id": "c0390e10",
   "metadata": {},
   "outputs": [
    {
     "data": {
      "text/plain": [
       "0.5189873417721519"
      ]
     },
     "execution_count": 13,
     "metadata": {},
     "output_type": "execute_result"
    }
   ],
   "source": [
    "np.mean(adjusted_up[improved])"
   ]
  },
  {
   "cell_type": "markdown",
   "id": "92ee4971",
   "metadata": {},
   "source": [
    "***\n",
    "***"
   ]
  },
  {
   "cell_type": "markdown",
   "id": "f27d42f0",
   "metadata": {},
   "source": [
    "## DES"
   ]
  },
  {
   "cell_type": "code",
   "execution_count": 14,
   "id": "e846fd50",
   "metadata": {},
   "outputs": [],
   "source": [
    "# define forecasting model\n",
    "# perform additive deseasonalization conditional on autocorrelation test for seasonality\n",
    "\n",
    "forecaster = TransformedTargetForecaster(\n",
    "    [\n",
    "        #(\"deseasonalize\", ConditionalDeseasonalizer(model=\"additive\", sp=52)),\n",
    "        (\"forecast\", ExponentialSmoothing(trend=\"additive\", use_boxcox=False)),\n",
    "    ]\n",
    ")"
   ]
  },
  {
   "cell_type": "code",
   "execution_count": 15,
   "id": "34770e7d",
   "metadata": {},
   "outputs": [],
   "source": [
    "results_dict_des = {}\n",
    "fcasts_des = {}\n",
    "fcasts_protected_des = {}\n",
    "tests = {}\n",
    "epsilons = [1, 10, 20]\n",
    "horizons = [1, 20]"
   ]
  },
  {
   "cell_type": "code",
   "execution_count": 16,
   "id": "43a86bf0",
   "metadata": {},
   "outputs": [],
   "source": [
    "for e in epsilons:\n",
    "    for h in horizons:\n",
    "        idx = \"h=\"+str(h)+\", epsilon = \"+str(e)\n",
    "        results_dict_des[idx], tests[idx], fcasts_des[idx], fcasts_protected_des[idx] = full_coding_analysis(time_series_data=Y, \n",
    "                                                                                                             forecasting_model=forecaster, \n",
    "                                                                                                             forecast_horizon=h,\n",
    "                                                                                                             epsilon=e)"
   ]
  },
  {
   "cell_type": "code",
   "execution_count": 17,
   "id": "86e5a683",
   "metadata": {},
   "outputs": [
    {
     "data": {
      "text/plain": [
       "{'h=1, epsilon = 1': {'Mean Accuracies': array([2.1, 2.1]),\n",
       "  'Protected Mean Accuracies:': array([127.45, 127.45]),\n",
       "  '% Change Mean accuracy:': array([-5979.16, -5979.16]),\n",
       "  '% Change Median accuracy:': array([-11624.59, -11624.59]),\n",
       "  '% Forecasted Points adjusted downward:': 3.05,\n",
       "  '% Forecasted Points adjusted upward:': 96.95,\n",
       "  '% Series with improved accuracy:': array([0.61, 0.61]),\n",
       "  '% Series with reduced accuracy:': array([99.39, 99.39]),\n",
       "  'Original Mean Absolute Error Upward Adjusted:': 2.1399999999999997,\n",
       "  'Original Mean Absolute Error Downward Adjusted:': 0.58,\n",
       "  'Protected Mean Absolute Error Upward Adjusted:': 131.37,\n",
       "  'Protected Mean Absolute Error Downward Adjusted:': 2.6100000000000003},\n",
       " 'h=20, epsilon = 1': {'Mean Accuracies': array([4.28, 5.24]),\n",
       "  'Protected Mean Accuracies:': array([124.08, 124.18]),\n",
       "  '% Change Mean accuracy:': array([-2796.59, -2270.71]),\n",
       "  '% Change Median accuracy:': array([-3746.7, -3015.3]),\n",
       "  '% Forecasted Points adjusted downward:': 4.2700000000000005,\n",
       "  '% Forecasted Points adjusted upward:': 95.73,\n",
       "  '% Series with improved accuracy:': array([0., 0.]),\n",
       "  '% Series with reduced accuracy:': array([100., 100.]),\n",
       "  'Original Mean Absolute Error Upward Adjusted:': 4.390000000000001,\n",
       "  'Original Mean Absolute Error Downward Adjusted:': 1.8900000000000001,\n",
       "  'Protected Mean Absolute Error Upward Adjusted:': 129.16,\n",
       "  'Protected Mean Absolute Error Downward Adjusted:': 10.15},\n",
       " 'h=1, epsilon = 10': {'Mean Accuracies': array([2.1, 2.1]),\n",
       "  'Protected Mean Accuracies:': array([7.98, 7.98]),\n",
       "  '% Change Mean accuracy:': array([-280.7, -280.7]),\n",
       "  '% Change Median accuracy:': array([-116.31, -116.31]),\n",
       "  '% Forecasted Points adjusted downward:': 55.489999999999995,\n",
       "  '% Forecasted Points adjusted upward:': 44.51,\n",
       "  '% Series with improved accuracy:': array([25.61, 25.61]),\n",
       "  '% Series with reduced accuracy:': array([74.39, 74.39]),\n",
       "  'Original Mean Absolute Error Upward Adjusted:': 2.19,\n",
       "  'Original Mean Absolute Error Downward Adjusted:': 2.02,\n",
       "  'Protected Mean Absolute Error Upward Adjusted:': 13.48,\n",
       "  'Protected Mean Absolute Error Downward Adjusted:': 3.5700000000000003},\n",
       " 'h=20, epsilon = 10': {'Mean Accuracies': array([4.28, 5.24]),\n",
       "  'Protected Mean Accuracies:': array([7.39, 8.26]),\n",
       "  '% Change Mean accuracy:': array([-72.6, -57.7]),\n",
       "  '% Change Median accuracy:': array([-31.34, -20.24]),\n",
       "  '% Forecasted Points adjusted downward:': 51.4,\n",
       "  '% Forecasted Points adjusted upward:': 48.6,\n",
       "  '% Series with improved accuracy:': array([38.41, 39.63]),\n",
       "  '% Series with reduced accuracy:': array([61.59, 60.37]),\n",
       "  'Original Mean Absolute Error Upward Adjusted:': 4.83,\n",
       "  'Original Mean Absolute Error Downward Adjusted:': 3.7699999999999996,\n",
       "  'Protected Mean Absolute Error Upward Adjusted:': 10.11,\n",
       "  'Protected Mean Absolute Error Downward Adjusted:': 4.83},\n",
       " 'h=1, epsilon = 20': {'Mean Accuracies': array([2.1, 2.1]),\n",
       "  'Protected Mean Accuracies:': array([4.4, 4.4]),\n",
       "  '% Change Mean accuracy:': array([-109.76, -109.76]),\n",
       "  '% Change Median accuracy:': array([-44.71, -44.71]),\n",
       "  '% Forecasted Points adjusted downward:': 51.83,\n",
       "  '% Forecasted Points adjusted upward:': 48.17,\n",
       "  '% Series with improved accuracy:': array([33.54, 33.54]),\n",
       "  '% Series with reduced accuracy:': array([66.46, 66.46]),\n",
       "  'Original Mean Absolute Error Upward Adjusted:': 2.03,\n",
       "  'Original Mean Absolute Error Downward Adjusted:': 2.16,\n",
       "  'Protected Mean Absolute Error Upward Adjusted:': 6.0600000000000005,\n",
       "  'Protected Mean Absolute Error Downward Adjusted:': 2.85},\n",
       " 'h=20, epsilon = 20': {'Mean Accuracies': array([4.28, 5.24]),\n",
       "  'Protected Mean Accuracies:': array([5.66, 6.57]),\n",
       "  '% Change Mean accuracy:': array([-32.09, -25.43]),\n",
       "  '% Change Median accuracy:': array([ 3.03, -0.23]),\n",
       "  '% Forecasted Points adjusted downward:': 58.540000000000006,\n",
       "  '% Forecasted Points adjusted upward:': 41.46,\n",
       "  '% Series with improved accuracy:': array([44.51, 42.07]),\n",
       "  '% Series with reduced accuracy:': array([55.49, 57.93]),\n",
       "  'Original Mean Absolute Error Upward Adjusted:': 4.390000000000001,\n",
       "  'Original Mean Absolute Error Downward Adjusted:': 4.21,\n",
       "  'Protected Mean Absolute Error Upward Adjusted:': 7.64,\n",
       "  'Protected Mean Absolute Error Downward Adjusted:': 4.25}}"
      ]
     },
     "execution_count": 17,
     "metadata": {},
     "output_type": "execute_result"
    }
   ],
   "source": [
    "results_dict_des"
   ]
  },
  {
   "cell_type": "markdown",
   "id": "16949b2b",
   "metadata": {},
   "source": [
    "***\n",
    "***"
   ]
  },
  {
   "cell_type": "markdown",
   "id": "87ad41aa",
   "metadata": {},
   "source": [
    "## TES"
   ]
  },
  {
   "cell_type": "code",
   "execution_count": 18,
   "id": "d434fa7a",
   "metadata": {},
   "outputs": [],
   "source": [
    "# define forecasting model\n",
    "# perform additive deseasonalization conditional on autocorrelation test for seasonality\n",
    "\n",
    "forecaster = TransformedTargetForecaster(\n",
    "    [\n",
    "        (\"forecast\", ExponentialSmoothing(trend=\"additive\",\n",
    "                                          seasonal=\"additive\",\n",
    "                                          sp=52,\n",
    "                                          damped_trend=False, \n",
    "                                          use_boxcox=False)),\n",
    "    ]\n",
    ")"
   ]
  },
  {
   "cell_type": "code",
   "execution_count": 19,
   "id": "82f18094",
   "metadata": {},
   "outputs": [],
   "source": [
    "results_dict_tes = {}\n",
    "fcasts_tes = {}\n",
    "fcasts_protected_tes = {}\n",
    "tests = {}\n",
    "epsilons = [1, 10, 20]\n",
    "horizons = [1, 20]"
   ]
  },
  {
   "cell_type": "code",
   "execution_count": 20,
   "id": "d0eac6fb",
   "metadata": {},
   "outputs": [],
   "source": [
    "for e in epsilons:\n",
    "    for h in horizons:\n",
    "        idx = \"h=\"+str(h)+\", epsilon = \"+str(e)\n",
    "        results_dict_tes[idx], tests[idx], fcasts_tes[idx], fcasts_protected_tes[idx] = full_coding_analysis(time_series_data=Y, \n",
    "                                                                                                             forecasting_model=forecaster, \n",
    "                                                                                                             forecast_horizon=h,\n",
    "                                                                                                             epsilon=e)"
   ]
  },
  {
   "cell_type": "code",
   "execution_count": 21,
   "id": "aa626870",
   "metadata": {},
   "outputs": [
    {
     "data": {
      "text/plain": [
       "{'h=1, epsilon = 1': {'Mean Accuracies': array([2.44, 2.44]),\n",
       "  'Protected Mean Accuracies:': array([130.22, 130.22]),\n",
       "  '% Change Mean accuracy:': array([-5232.81, -5232.81]),\n",
       "  '% Change Median accuracy:': array([-11086.98, -11086.98]),\n",
       "  '% Forecasted Points adjusted downward:': 3.66,\n",
       "  '% Forecasted Points adjusted upward:': 96.34,\n",
       "  '% Series with improved accuracy:': array([0., 0.]),\n",
       "  '% Series with reduced accuracy:': array([100., 100.]),\n",
       "  'Original Mean Absolute Error Upward Adjusted:': 2.5100000000000002,\n",
       "  'Original Mean Absolute Error Downward Adjusted:': 0.72,\n",
       "  'Protected Mean Absolute Error Upward Adjusted:': 134.67,\n",
       "  'Protected Mean Absolute Error Downward Adjusted:': 13.19},\n",
       " 'h=20, epsilon = 1': {'Mean Accuracies': array([4.75, 5.74]),\n",
       "  'Protected Mean Accuracies:': array([122.57, 123.25]),\n",
       "  '% Change Mean accuracy:': array([-2482.01, -2045.75]),\n",
       "  '% Change Median accuracy:': array([-3423.77, -2758.52]),\n",
       "  '% Forecasted Points adjusted downward:': 2.96,\n",
       "  '% Forecasted Points adjusted upward:': 97.04,\n",
       "  '% Series with improved accuracy:': array([0., 0.]),\n",
       "  '% Series with reduced accuracy:': array([100., 100.]),\n",
       "  'Original Mean Absolute Error Upward Adjusted:': 4.84,\n",
       "  'Original Mean Absolute Error Downward Adjusted:': 1.68,\n",
       "  'Protected Mean Absolute Error Upward Adjusted:': 125.99000000000001,\n",
       "  'Protected Mean Absolute Error Downward Adjusted:': 10.59},\n",
       " 'h=1, epsilon = 10': {'Mean Accuracies': array([2.44, 2.44]),\n",
       "  'Protected Mean Accuracies:': array([9.03, 9.03]),\n",
       "  '% Change Mean accuracy:': array([-269.71, -269.71]),\n",
       "  '% Change Median accuracy:': array([-189.51, -189.51]),\n",
       "  '% Forecasted Points adjusted downward:': 48.78,\n",
       "  '% Forecasted Points adjusted upward:': 51.22,\n",
       "  '% Series with improved accuracy:': array([26.22, 26.22]),\n",
       "  '% Series with reduced accuracy:': array([73.78, 73.78]),\n",
       "  'Original Mean Absolute Error Upward Adjusted:': 2.9899999999999998,\n",
       "  'Original Mean Absolute Error Downward Adjusted:': 1.8599999999999999,\n",
       "  'Protected Mean Absolute Error Upward Adjusted:': 12.049999999999999,\n",
       "  'Protected Mean Absolute Error Downward Adjusted:': 5.86},\n",
       " 'h=20, epsilon = 10': {'Mean Accuracies': array([4.75, 5.74]),\n",
       "  'Protected Mean Accuracies:': array([10.45, 11.81]),\n",
       "  '% Change Mean accuracy:': array([-120.22, -105.66]),\n",
       "  '% Change Median accuracy:': array([-49.74, -47.94]),\n",
       "  '% Forecasted Points adjusted downward:': 50.21,\n",
       "  '% Forecasted Points adjusted upward:': 49.79,\n",
       "  '% Series with improved accuracy:': array([13.41, 10.98]),\n",
       "  '% Series with reduced accuracy:': array([86.59, 89.02]),\n",
       "  'Original Mean Absolute Error Upward Adjusted:': 4.99,\n",
       "  'Original Mean Absolute Error Downward Adjusted:': 4.51,\n",
       "  'Protected Mean Absolute Error Upward Adjusted:': 13.719999999999999,\n",
       "  'Protected Mean Absolute Error Downward Adjusted:': 7.22},\n",
       " 'h=1, epsilon = 20': {'Mean Accuracies': array([2.44, 2.44]),\n",
       "  'Protected Mean Accuracies:': array([5.72, 5.72]),\n",
       "  '% Change Mean accuracy:': array([-134.29, -134.29]),\n",
       "  '% Change Median accuracy:': array([-109.75, -109.75]),\n",
       "  '% Forecasted Points adjusted downward:': 54.879999999999995,\n",
       "  '% Forecasted Points adjusted upward:': 45.12,\n",
       "  '% Series with improved accuracy:': array([31.1, 31.1]),\n",
       "  '% Series with reduced accuracy:': array([68.9, 68.9]),\n",
       "  'Original Mean Absolute Error Upward Adjusted:': 2.79,\n",
       "  'Original Mean Absolute Error Downward Adjusted:': 2.16,\n",
       "  'Protected Mean Absolute Error Upward Adjusted:': 7.53,\n",
       "  'Protected Mean Absolute Error Downward Adjusted:': 4.24},\n",
       " 'h=20, epsilon = 20': {'Mean Accuracies': array([4.75, 5.74]),\n",
       "  'Protected Mean Accuracies:': array([7.02, 8.1 ]),\n",
       "  '% Change Mean accuracy:': array([-47.95, -40.95]),\n",
       "  '% Change Median accuracy:': array([-16.22, -12.82]),\n",
       "  '% Forecasted Points adjusted downward:': 53.6,\n",
       "  '% Forecasted Points adjusted upward:': 46.400000000000006,\n",
       "  '% Series with improved accuracy:': array([31.1 , 26.83]),\n",
       "  '% Series with reduced accuracy:': array([68.9 , 73.17]),\n",
       "  'Original Mean Absolute Error Upward Adjusted:': 5.04,\n",
       "  'Original Mean Absolute Error Downward Adjusted:': 4.49,\n",
       "  'Protected Mean Absolute Error Upward Adjusted:': 9.17,\n",
       "  'Protected Mean Absolute Error Downward Adjusted:': 5.17}}"
      ]
     },
     "execution_count": 21,
     "metadata": {},
     "output_type": "execute_result"
    }
   ],
   "source": [
    "results_dict_tes"
   ]
  }
 ],
 "metadata": {
  "kernelspec": {
   "display_name": "Python 3 (ipykernel)",
   "language": "python",
   "name": "python3"
  },
  "language_info": {
   "codemirror_mode": {
    "name": "ipython",
    "version": 3
   },
   "file_extension": ".py",
   "mimetype": "text/x-python",
   "name": "python",
   "nbconvert_exporter": "python",
   "pygments_lexer": "ipython3",
   "version": "3.9.7"
  }
 },
 "nbformat": 4,
 "nbformat_minor": 5
}
