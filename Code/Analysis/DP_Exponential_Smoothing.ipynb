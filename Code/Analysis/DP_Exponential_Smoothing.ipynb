{
 "cells": [
  {
   "cell_type": "markdown",
   "id": "0e4052c3",
   "metadata": {},
   "source": [
    "# Examining the Effects of DP on Exponential Smoothing Forecast Accuracy"
   ]
  },
  {
   "cell_type": "markdown",
   "id": "7a4bd4c9",
   "metadata": {},
   "source": [
    "***"
   ]
  },
  {
   "cell_type": "code",
   "execution_count": 1,
   "id": "dd558349",
   "metadata": {},
   "outputs": [],
   "source": [
    "# general modules\n",
    "import pandas as pd\n",
    "import numpy as np\n",
    "import sktime\n",
    "\n",
    "# import exponential smoothing forecasting model\n",
    "from sktime.forecasting.exp_smoothing import ExponentialSmoothing\n",
    "\n",
    "# functions for transformation+forecasting pipeline\n",
    "from sktime.forecasting.compose import TransformedTargetForecaster\n",
    "\n",
    "# time series transformations\n",
    "from sktime.transformations.series.detrend import ConditionalDeseasonalizer\n",
    "\n",
    "##### the `helper_functions.py` file contains many custom functions we wrote to aid in our analysis\n",
    "##### `full_coding_analysis` combines all of the following - train-test split data,\n",
    "##### data protection, train models, compare accuracies, return accuracy results\n",
    "from helper_functions import *\n",
    "\n",
    "# suppress warnings from exponential smoothing model not converging\n",
    "import warnings\n",
    "warnings.filterwarnings('ignore')\n",
    "\n",
    "\n",
    "# nice time series plots\n",
    "from sktime.utils.plotting import plot_series"
   ]
  },
  {
   "cell_type": "code",
   "execution_count": 2,
   "id": "053d11e1",
   "metadata": {},
   "outputs": [],
   "source": [
    "# import weekly finance time series\n",
    "Y = np.genfromtxt(\"../../Data/Train/Clean/weekly_finance_clean.csv\", delimiter = ',', skip_header = 1)\n",
    "Y = pd.DataFrame(Y)"
   ]
  },
  {
   "cell_type": "code",
   "execution_count": 3,
   "id": "e54219d3",
   "metadata": {},
   "outputs": [],
   "source": [
    "# detrender = Detrender()\n",
    "# detrended_series = [detrender.fit_transform(series) for _ , series in Y.iterrows()]\n",
    "# detrended_series = [i+np.abs(np.min(i))+1.0 for i in detrended_series]\n",
    "# Y = pd.concat(detrended_series, axis=1).T"
   ]
  },
  {
   "cell_type": "markdown",
   "id": "a2cdca93",
   "metadata": {},
   "source": [
    "***"
   ]
  },
  {
   "cell_type": "markdown",
   "id": "693a5968",
   "metadata": {},
   "source": [
    "## SES"
   ]
  },
  {
   "cell_type": "code",
   "execution_count": 4,
   "id": "c6ca18f3",
   "metadata": {},
   "outputs": [],
   "source": [
    "# define forecasting model\n",
    "# perform additive deseasonalization conditional on autocorrelation test for seasonality\n",
    "\n",
    "forecaster = TransformedTargetForecaster(\n",
    "    [\n",
    "        (\"forecast\", ExponentialSmoothing(use_boxcox=False)),\n",
    "    ]\n",
    ")"
   ]
  },
  {
   "cell_type": "code",
   "execution_count": 5,
   "id": "96460ce3",
   "metadata": {},
   "outputs": [],
   "source": [
    "results_dict_ses = {}\n",
    "fcasts_ses = {}\n",
    "fcasts_protected_ses = {}\n",
    "tests = {}\n",
    "epsilons = [1, 10, 20]\n",
    "horizons = [1, 20]"
   ]
  },
  {
   "cell_type": "code",
   "execution_count": 6,
   "id": "33b06dee",
   "metadata": {},
   "outputs": [],
   "source": [
    "for e in epsilons:\n",
    "    for h in horizons:\n",
    "        idx = \"h=\"+str(h)+\", epsilon = \"+str(e)\n",
    "        results_dict_ses[idx], tests[idx], fcasts_ses[idx], fcasts_protected_ses[idx] = full_coding_analysis(time_series_data=Y, \n",
    "                                                                                                             forecasting_model=forecaster, \n",
    "                                                                                                             forecast_horizon=h,\n",
    "                                                                                                             epsilon=e)"
   ]
  },
  {
   "cell_type": "code",
   "execution_count": 7,
   "id": "93202597",
   "metadata": {},
   "outputs": [
    {
     "data": {
      "text/plain": [
       "{'h=1, epsilon = 1': {'Mean Accuracies': array([55.3207, 55.3207]),\n",
       "  'Protected Mean Accuracies:': array([327.2314, 327.2314]),\n",
       "  '% Change Mean accuracy:': array([-4.9152, -4.9152]),\n",
       "  '% Change Median accuracy:': array([-5.7566, -5.7566]),\n",
       "  '% Forecasted Points adjusted downward:': 0.5671,\n",
       "  '% Forecasted Points adjusted upward:': 0.4329,\n",
       "  '% Series with improved accuracy:': array([0.1341, 0.1341]),\n",
       "  '% Series with reduced accuracy:': array([0.8659, 0.8659]),\n",
       "  'Original Mean Absolute Error Upward Adjusted:': 67.2469,\n",
       "  'Original Mean Absolute Error Downward Adjusted:': 46.2157,\n",
       "  'Protected Mean Absolute Error Upward Adjusted:': 413.0976,\n",
       "  'Protected Mean Absolute Error Downward Adjusted:': 261.6777},\n",
       " 'h=20, epsilon = 1': {'Mean Accuracies': array([112.5495, 135.001 ]),\n",
       "  'Protected Mean Accuracies:': array([329.759 , 347.0677]),\n",
       "  '% Change Mean accuracy:': array([-1.9299, -1.5709]),\n",
       "  '% Change Median accuracy:': array([-1.7699, -1.4732]),\n",
       "  '% Forecasted Points adjusted downward:': 0.6037,\n",
       "  '% Forecasted Points adjusted upward:': 0.3963,\n",
       "  '% Series with improved accuracy:': array([0.1463, 0.128 ]),\n",
       "  '% Series with reduced accuracy:': array([0.8476, 0.872 ]),\n",
       "  'Original Mean Absolute Error Upward Adjusted:': 130.2558,\n",
       "  'Original Mean Absolute Error Downward Adjusted:': 100.9241,\n",
       "  'Protected Mean Absolute Error Upward Adjusted:': 354.2245,\n",
       "  'Protected Mean Absolute Error Downward Adjusted:': 313.6958},\n",
       " 'h=1, epsilon = 10': {'Mean Accuracies': array([55.3207, 55.3207]),\n",
       "  'Protected Mean Accuracies:': array([107.3192, 107.3192]),\n",
       "  '% Change Mean accuracy:': array([-0.9399, -0.9399]),\n",
       "  '% Change Median accuracy:': array([-1.2636, -1.2636]),\n",
       "  '% Forecasted Points adjusted downward:': 0.622,\n",
       "  '% Forecasted Points adjusted upward:': 0.378,\n",
       "  '% Series with improved accuracy:': array([0.2805, 0.2805]),\n",
       "  '% Series with reduced accuracy:': array([0.7195, 0.7195]),\n",
       "  'Original Mean Absolute Error Upward Adjusted:': 79.714,\n",
       "  'Original Mean Absolute Error Downward Adjusted:': 40.4934,\n",
       "  'Protected Mean Absolute Error Upward Adjusted:': 133.4684,\n",
       "  'Protected Mean Absolute Error Downward Adjusted:': 91.4246},\n",
       " 'h=20, epsilon = 10': {'Mean Accuracies': array([112.5495, 135.001 ]),\n",
       "  'Protected Mean Accuracies:': array([133.9726, 153.9401]),\n",
       "  '% Change Mean accuracy:': array([-0.1903, -0.1403]),\n",
       "  '% Change Median accuracy:': array([-0.4062, -0.27  ]),\n",
       "  '% Forecasted Points adjusted downward:': 0.6159,\n",
       "  '% Forecasted Points adjusted upward:': 0.3841,\n",
       "  '% Series with improved accuracy:': array([0.3963, 0.3415]),\n",
       "  '% Series with reduced accuracy:': array([0.6037, 0.6585]),\n",
       "  'Original Mean Absolute Error Upward Adjusted:': 134.1333,\n",
       "  'Original Mean Absolute Error Downward Adjusted:': 99.0863,\n",
       "  'Protected Mean Absolute Error Upward Adjusted:': 144.2087,\n",
       "  'Protected Mean Absolute Error Downward Adjusted:': 127.5877},\n",
       " 'h=1, epsilon = 20': {'Mean Accuracies': array([55.3207, 55.3207]),\n",
       "  'Protected Mean Accuracies:': array([84.3133, 84.3133]),\n",
       "  '% Change Mean accuracy:': array([-0.5241, -0.5241]),\n",
       "  '% Change Median accuracy:': array([-0.4699, -0.4699]),\n",
       "  '% Forecasted Points adjusted downward:': 0.5427,\n",
       "  '% Forecasted Points adjusted upward:': 0.4573,\n",
       "  '% Series with improved accuracy:': array([0.2927, 0.2927]),\n",
       "  '% Series with reduced accuracy:': array([0.7073, 0.7073]),\n",
       "  'Original Mean Absolute Error Upward Adjusted:': 57.4182,\n",
       "  'Original Mean Absolute Error Downward Adjusted:': 53.5531,\n",
       "  'Protected Mean Absolute Error Upward Adjusted:': 79.488,\n",
       "  'Protected Mean Absolute Error Downward Adjusted:': 88.3796},\n",
       " 'h=20, epsilon = 20': {'Mean Accuracies': array([112.5495, 135.001 ]),\n",
       "  'Protected Mean Accuracies:': array([118.8677, 140.6975]),\n",
       "  '% Change Mean accuracy:': array([-0.0561, -0.0422]),\n",
       "  '% Change Median accuracy:': array([-0.1688, -0.1181]),\n",
       "  '% Forecasted Points adjusted downward:': 0.5427,\n",
       "  '% Forecasted Points adjusted upward:': 0.4573,\n",
       "  '% Series with improved accuracy:': array([0.4207, 0.4024]),\n",
       "  '% Series with reduced accuracy:': array([0.5793, 0.5976]),\n",
       "  'Original Mean Absolute Error Upward Adjusted:': 123.1515,\n",
       "  'Original Mean Absolute Error Downward Adjusted:': 103.6151,\n",
       "  'Protected Mean Absolute Error Upward Adjusted:': 124.4333,\n",
       "  'Protected Mean Absolute Error Downward Adjusted:': 114.1775}}"
      ]
     },
     "execution_count": 7,
     "metadata": {},
     "output_type": "execute_result"
    }
   ],
   "source": [
    "results_dict_ses"
   ]
  },
  {
   "cell_type": "markdown",
   "id": "42340529",
   "metadata": {},
   "source": [
    "***\n",
    "***"
   ]
  },
  {
   "cell_type": "code",
   "execution_count": 8,
   "id": "a9658fcb",
   "metadata": {},
   "outputs": [],
   "source": [
    "original_forecasts = fcasts_ses['h=20, epsilon = 20']\n",
    "protected_forecasts = fcasts_protected_ses['h=20, epsilon = 20']\n",
    "test = tests['h=20, epsilon = 20']"
   ]
  },
  {
   "cell_type": "code",
   "execution_count": 9,
   "id": "df660ba3",
   "metadata": {},
   "outputs": [],
   "source": [
    "adjusted_up = original_forecasts < protected_forecasts\n",
    "adjusted_up = pd.concat([row for i, row in adjusted_up.iterrows()])\n",
    "adjusted_down = original_forecasts > protected_forecasts\n",
    "adjusted_down = pd.concat([row for i, row in adjusted_down.iterrows()])"
   ]
  },
  {
   "cell_type": "code",
   "execution_count": 10,
   "id": "71d3b5f6",
   "metadata": {},
   "outputs": [],
   "source": [
    "absolute_error_original = np.absolute(test - original_forecasts)\n",
    "absolute_error_protected = np.absolute(test - protected_forecasts)"
   ]
  },
  {
   "cell_type": "code",
   "execution_count": 11,
   "id": "f14485d6",
   "metadata": {},
   "outputs": [],
   "source": [
    "improved = absolute_error_original > absolute_error_protected\n",
    "improved = pd.concat([row for i, row in improved.iterrows()])\n",
    "worsened = absolute_error_original < absolute_error_protected\n",
    "worsened = pd.concat([row for i, row in worsened.iterrows()])"
   ]
  },
  {
   "cell_type": "code",
   "execution_count": 12,
   "id": "2b84bada",
   "metadata": {},
   "outputs": [
    {
     "data": {
      "text/plain": [
       "0.42681992337164754"
      ]
     },
     "execution_count": 12,
     "metadata": {},
     "output_type": "execute_result"
    }
   ],
   "source": [
    "np.mean(adjusted_down[improved])"
   ]
  },
  {
   "cell_type": "code",
   "execution_count": 13,
   "id": "c0390e10",
   "metadata": {},
   "outputs": [
    {
     "data": {
      "text/plain": [
       "0.5731800766283525"
      ]
     },
     "execution_count": 13,
     "metadata": {},
     "output_type": "execute_result"
    }
   ],
   "source": [
    "np.mean(adjusted_up[improved])"
   ]
  },
  {
   "cell_type": "markdown",
   "id": "92ee4971",
   "metadata": {},
   "source": [
    "***\n",
    "***"
   ]
  },
  {
   "cell_type": "markdown",
   "id": "f27d42f0",
   "metadata": {},
   "source": [
    "## DES"
   ]
  },
  {
   "cell_type": "code",
   "execution_count": 14,
   "id": "e846fd50",
   "metadata": {},
   "outputs": [],
   "source": [
    "# define forecasting model\n",
    "# perform additive deseasonalization conditional on autocorrelation test for seasonality\n",
    "\n",
    "forecaster = TransformedTargetForecaster(\n",
    "    [\n",
    "        (\"forecast\", ExponentialSmoothing(trend=\"additive\", use_boxcox=False)),\n",
    "    ]\n",
    ")"
   ]
  },
  {
   "cell_type": "code",
   "execution_count": 15,
   "id": "34770e7d",
   "metadata": {},
   "outputs": [],
   "source": [
    "results_dict_des = {}\n",
    "fcasts_des = {}\n",
    "fcasts_protected_des = {}\n",
    "tests = {}\n",
    "epsilons = [1, 10, 20]\n",
    "horizons = [1, 20]"
   ]
  },
  {
   "cell_type": "code",
   "execution_count": 16,
   "id": "43a86bf0",
   "metadata": {},
   "outputs": [],
   "source": [
    "for e in epsilons:\n",
    "    for h in horizons:\n",
    "        idx = \"h=\"+str(h)+\", epsilon = \"+str(e)\n",
    "        results_dict_des[idx], tests[idx], fcasts_des[idx], fcasts_protected_des[idx] = full_coding_analysis(time_series_data=Y, \n",
    "                                                                                                             forecasting_model=forecaster, \n",
    "                                                                                                             forecast_horizon=h,\n",
    "                                                                                                             epsilon=e)"
   ]
  },
  {
   "cell_type": "code",
   "execution_count": 17,
   "id": "86e5a683",
   "metadata": {},
   "outputs": [
    {
     "data": {
      "text/plain": [
       "{'h=1, epsilon = 1': {'Mean Accuracies': array([54.4492, 54.4492]),\n",
       "  'Protected Mean Accuracies:': array([479.9404, 479.9404]),\n",
       "  '% Change Mean accuracy:': array([-7.8145, -7.8145]),\n",
       "  '% Change Median accuracy:': array([-12.9318, -12.9318]),\n",
       "  '% Forecasted Points adjusted downward:': 0.561,\n",
       "  '% Forecasted Points adjusted upward:': 0.439,\n",
       "  '% Series with improved accuracy:': array([0.0732, 0.0732]),\n",
       "  '% Series with reduced accuracy:': array([0.9268, 0.9268]),\n",
       "  'Original Mean Absolute Error Upward Adjusted:': 80.4633,\n",
       "  'Original Mean Absolute Error Downward Adjusted:': 34.0903,\n",
       "  'Protected Mean Absolute Error Upward Adjusted:': 652.2773,\n",
       "  'Protected Mean Absolute Error Downward Adjusted:': 345.068},\n",
       " 'h=20, epsilon = 1': {'Mean Accuracies': array([109.1455, 132.0211]),\n",
       "  'Protected Mean Accuracies:': array([737.9296, 766.1162]),\n",
       "  '% Change Mean accuracy:': array([-5.761, -4.803]),\n",
       "  '% Change Median accuracy:': array([-5.0304, -4.1763]),\n",
       "  '% Forecasted Points adjusted downward:': 0.5915,\n",
       "  '% Forecasted Points adjusted upward:': 0.4085,\n",
       "  '% Series with improved accuracy:': array([0.0549, 0.0671]),\n",
       "  '% Series with reduced accuracy:': array([0.9451, 0.9329]),\n",
       "  'Original Mean Absolute Error Upward Adjusted:': 115.6214,\n",
       "  'Original Mean Absolute Error Downward Adjusted:': 104.6724,\n",
       "  'Protected Mean Absolute Error Upward Adjusted:': 619.1429,\n",
       "  'Protected Mean Absolute Error Downward Adjusted:': 819.9781},\n",
       " 'h=1, epsilon = 10': {'Mean Accuracies': array([54.4492, 54.4492]),\n",
       "  'Protected Mean Accuracies:': array([88.0619, 88.0619]),\n",
       "  '% Change Mean accuracy:': array([-0.6173, -0.6173]),\n",
       "  '% Change Median accuracy:': array([-1.167, -1.167]),\n",
       "  '% Forecasted Points adjusted downward:': 0.5976,\n",
       "  '% Forecasted Points adjusted upward:': 0.4024,\n",
       "  '% Series with improved accuracy:': array([0.3598, 0.3598]),\n",
       "  '% Series with reduced accuracy:': array([0.6402, 0.6402]),\n",
       "  'Original Mean Absolute Error Upward Adjusted:': 81.9419,\n",
       "  'Original Mean Absolute Error Downward Adjusted:': 35.9337,\n",
       "  'Protected Mean Absolute Error Upward Adjusted:': 106.3412,\n",
       "  'Protected Mean Absolute Error Downward Adjusted:': 75.7513},\n",
       " 'h=20, epsilon = 10': {'Mean Accuracies': array([109.1455, 132.0211]),\n",
       "  'Protected Mean Accuracies:': array([129.4984, 151.1858]),\n",
       "  '% Change Mean accuracy:': array([-0.1865, -0.1452]),\n",
       "  '% Change Median accuracy:': array([-0.1947, -0.1421]),\n",
       "  '% Forecasted Points adjusted downward:': 0.5704,\n",
       "  '% Forecasted Points adjusted upward:': 0.4296,\n",
       "  '% Series with improved accuracy:': array([0.3537, 0.3537]),\n",
       "  '% Series with reduced accuracy:': array([0.6463, 0.6463]),\n",
       "  'Original Mean Absolute Error Upward Adjusted:': 121.8498,\n",
       "  'Original Mean Absolute Error Downward Adjusted:': 99.5781,\n",
       "  'Protected Mean Absolute Error Upward Adjusted:': 155.14,\n",
       "  'Protected Mean Absolute Error Downward Adjusted:': 110.1883},\n",
       " 'h=1, epsilon = 20': {'Mean Accuracies': array([54.4492, 54.4492]),\n",
       "  'Protected Mean Accuracies:': array([78.4066, 78.4066]),\n",
       "  '% Change Mean accuracy:': array([-0.44, -0.44]),\n",
       "  '% Change Median accuracy:': array([-1.1099, -1.1099]),\n",
       "  '% Forecasted Points adjusted downward:': 0.5305,\n",
       "  '% Forecasted Points adjusted upward:': 0.4695,\n",
       "  '% Series with improved accuracy:': array([0.311, 0.311]),\n",
       "  '% Series with reduced accuracy:': array([0.689, 0.689]),\n",
       "  'Original Mean Absolute Error Upward Adjusted:': 57.9445,\n",
       "  'Original Mean Absolute Error Downward Adjusted:': 51.3556,\n",
       "  'Protected Mean Absolute Error Upward Adjusted:': 78.7813,\n",
       "  'Protected Mean Absolute Error Downward Adjusted:': 78.0749},\n",
       " 'h=20, epsilon = 20': {'Mean Accuracies': array([109.1455, 132.0211]),\n",
       "  'Protected Mean Accuracies:': array([111.7193, 134.2094]),\n",
       "  '% Change Mean accuracy:': array([-0.0236, -0.0166]),\n",
       "  '% Change Median accuracy:': array([-0.0383, -0.0659]),\n",
       "  '% Forecasted Points adjusted downward:': 0.497,\n",
       "  '% Forecasted Points adjusted upward:': 0.503,\n",
       "  '% Series with improved accuracy:': array([0.4268, 0.4146]),\n",
       "  '% Series with reduced accuracy:': array([0.5732, 0.5854]),\n",
       "  'Original Mean Absolute Error Upward Adjusted:': 106.3266,\n",
       "  'Original Mean Absolute Error Downward Adjusted:': 111.9989,\n",
       "  'Protected Mean Absolute Error Upward Adjusted:': 114.1347,\n",
       "  'Protected Mean Absolute Error Downward Adjusted:': 109.2743}}"
      ]
     },
     "execution_count": 17,
     "metadata": {},
     "output_type": "execute_result"
    }
   ],
   "source": [
    "results_dict_des"
   ]
  },
  {
   "cell_type": "markdown",
   "id": "16949b2b",
   "metadata": {},
   "source": [
    "***\n",
    "***"
   ]
  },
  {
   "cell_type": "markdown",
   "id": "87ad41aa",
   "metadata": {},
   "source": [
    "## TES"
   ]
  },
  {
   "cell_type": "code",
   "execution_count": 18,
   "id": "d434fa7a",
   "metadata": {},
   "outputs": [],
   "source": [
    "# define forecasting model\n",
    "# perform additive deseasonalization conditional on autocorrelation test for seasonality\n",
    "\n",
    "forecaster = TransformedTargetForecaster(\n",
    "    [\n",
    "        (\"forecast\", ExponentialSmoothing(trend=\"additive\",\n",
    "                                          seasonal=\"additive\",\n",
    "                                          sp=52,\n",
    "                                          damped_trend=False, \n",
    "                                          use_boxcox=False)),\n",
    "    ]\n",
    ")"
   ]
  },
  {
   "cell_type": "code",
   "execution_count": 19,
   "id": "82f18094",
   "metadata": {},
   "outputs": [],
   "source": [
    "results_dict_tes = {}\n",
    "fcasts_tes = {}\n",
    "fcasts_protected_tes = {}\n",
    "tests = {}\n",
    "epsilons = [1, 10, 20]\n",
    "horizons = [1, 20]"
   ]
  },
  {
   "cell_type": "code",
   "execution_count": 20,
   "id": "d0eac6fb",
   "metadata": {},
   "outputs": [],
   "source": [
    "for e in epsilons:\n",
    "    for h in horizons:\n",
    "        idx = \"h=\"+str(h)+\", epsilon = \"+str(e)\n",
    "        results_dict_tes[idx], tests[idx], fcasts_tes[idx], fcasts_protected_tes[idx] = full_coding_analysis(time_series_data=Y, \n",
    "                                                                                                             forecasting_model=forecaster, \n",
    "                                                                                                             forecast_horizon=h,\n",
    "                                                                                                             epsilon=e)"
   ]
  },
  {
   "cell_type": "code",
   "execution_count": 21,
   "id": "aa626870",
   "metadata": {},
   "outputs": [
    {
     "data": {
      "text/plain": [
       "{'h=1, epsilon = 1': {'Mean Accuracies': array([66.4076, 66.4076]),\n",
       "  'Protected Mean Accuracies:': array([951.7207, 951.7207]),\n",
       "  '% Change Mean accuracy:': array([-13.3315, -13.3315]),\n",
       "  '% Change Median accuracy:': array([-14.3371, -14.3371]),\n",
       "  '% Forecasted Points adjusted downward:': 0.5793,\n",
       "  '% Forecasted Points adjusted upward:': 0.4207,\n",
       "  '% Series with improved accuracy:': array([0.061, 0.061]),\n",
       "  '% Series with reduced accuracy:': array([0.939, 0.939]),\n",
       "  'Original Mean Absolute Error Upward Adjusted:': 67.0527,\n",
       "  'Original Mean Absolute Error Downward Adjusted:': 65.9391,\n",
       "  'Protected Mean Absolute Error Upward Adjusted:': 1083.6856,\n",
       "  'Protected Mean Absolute Error Downward Adjusted:': 855.8725},\n",
       " 'h=20, epsilon = 1': {'Mean Accuracies': array([116.7834, 138.5197]),\n",
       "  'Protected Mean Accuracies:': array([ 969.2088, 1216.407 ]),\n",
       "  '% Change Mean accuracy:': array([-7.2992, -7.7815]),\n",
       "  '% Change Median accuracy:': array([ -9.0962, -10.7079]),\n",
       "  '% Forecasted Points adjusted downward:': 0.5302,\n",
       "  '% Forecasted Points adjusted upward:': 0.4698,\n",
       "  '% Series with improved accuracy:': array([0., 0.]),\n",
       "  '% Series with reduced accuracy:': array([1., 1.]),\n",
       "  'Original Mean Absolute Error Upward Adjusted:': 117.5041,\n",
       "  'Original Mean Absolute Error Downward Adjusted:': 116.1448,\n",
       "  'Protected Mean Absolute Error Upward Adjusted:': 956.3302,\n",
       "  'Protected Mean Absolute Error Downward Adjusted:': 980.621},\n",
       " 'h=1, epsilon = 10': {'Mean Accuracies': array([66.4076, 66.4076]),\n",
       "  'Protected Mean Accuracies:': array([150.39, 150.39]),\n",
       "  '% Change Mean accuracy:': array([-1.2646, -1.2646]),\n",
       "  '% Change Median accuracy:': array([-1.8814, -1.8814]),\n",
       "  '% Forecasted Points adjusted downward:': 0.4939,\n",
       "  '% Forecasted Points adjusted upward:': 0.5061,\n",
       "  '% Series with improved accuracy:': array([0.2073, 0.2073]),\n",
       "  '% Series with reduced accuracy:': array([0.7927, 0.7927]),\n",
       "  'Original Mean Absolute Error Upward Adjusted:': 71.9762,\n",
       "  'Original Mean Absolute Error Downward Adjusted:': 60.7016,\n",
       "  'Protected Mean Absolute Error Upward Adjusted:': 165.3965,\n",
       "  'Protected Mean Absolute Error Downward Adjusted:': 135.0129},\n",
       " 'h=20, epsilon = 10': {'Mean Accuracies': array([116.7834, 138.5197]),\n",
       "  'Protected Mean Accuracies:': array([191.5945, 229.8658]),\n",
       "  '% Change Mean accuracy:': array([-0.6406, -0.6594]),\n",
       "  '% Change Median accuracy:': array([-0.7131, -0.744 ]),\n",
       "  '% Forecasted Points adjusted downward:': 0.5567,\n",
       "  '% Forecasted Points adjusted upward:': 0.4433,\n",
       "  '% Series with improved accuracy:': array([0.1524, 0.1402]),\n",
       "  '% Series with reduced accuracy:': array([0.8476, 0.8598]),\n",
       "  'Original Mean Absolute Error Upward Adjusted:': 124.1037,\n",
       "  'Original Mean Absolute Error Downward Adjusted:': 110.9545,\n",
       "  'Protected Mean Absolute Error Upward Adjusted:': 203.4683,\n",
       "  'Protected Mean Absolute Error Downward Adjusted:': 182.1398},\n",
       " 'h=1, epsilon = 20': {'Mean Accuracies': array([66.4076, 66.4076]),\n",
       "  'Protected Mean Accuracies:': array([109.0646, 109.0646]),\n",
       "  '% Change Mean accuracy:': array([-0.6424, -0.6424]),\n",
       "  '% Change Median accuracy:': array([-0.4996, -0.4996]),\n",
       "  '% Forecasted Points adjusted downward:': 0.5549,\n",
       "  '% Forecasted Points adjusted upward:': 0.4451,\n",
       "  '% Series with improved accuracy:': array([0.3293, 0.3293]),\n",
       "  '% Series with reduced accuracy:': array([0.6707, 0.6707]),\n",
       "  'Original Mean Absolute Error Upward Adjusted:': 65.2841,\n",
       "  'Original Mean Absolute Error Downward Adjusted:': 67.309,\n",
       "  'Protected Mean Absolute Error Upward Adjusted:': 85.997,\n",
       "  'Protected Mean Absolute Error Downward Adjusted:': 127.5695},\n",
       " 'h=20, epsilon = 20': {'Mean Accuracies': array([116.7834, 138.5197]),\n",
       "  'Protected Mean Accuracies:': array([125.9525, 151.0149]),\n",
       "  '% Change Mean accuracy:': array([-0.0785, -0.0902]),\n",
       "  '% Change Median accuracy:': array([-0.3264, -0.387 ]),\n",
       "  '% Forecasted Points adjusted downward:': 0.5421,\n",
       "  '% Forecasted Points adjusted upward:': 0.4579,\n",
       "  '% Series with improved accuracy:': array([0.3293, 0.3171]),\n",
       "  '% Series with reduced accuracy:': array([0.6707, 0.6829]),\n",
       "  'Original Mean Absolute Error Upward Adjusted:': 122.7279,\n",
       "  'Original Mean Absolute Error Downward Adjusted:': 111.7617,\n",
       "  'Protected Mean Absolute Error Upward Adjusted:': 132.7313,\n",
       "  'Protected Mean Absolute Error Downward Adjusted:': 120.2259}}"
      ]
     },
     "execution_count": 21,
     "metadata": {},
     "output_type": "execute_result"
    }
   ],
   "source": [
    "results_dict_tes"
   ]
  }
 ],
 "metadata": {
  "kernelspec": {
   "display_name": "Python 3 (ipykernel)",
   "language": "python",
   "name": "python3"
  },
  "language_info": {
   "codemirror_mode": {
    "name": "ipython",
    "version": 3
   },
   "file_extension": ".py",
   "mimetype": "text/x-python",
   "name": "python",
   "nbconvert_exporter": "python",
   "pygments_lexer": "ipython3",
   "version": "3.9.7"
  }
 },
 "nbformat": 4,
 "nbformat_minor": 5
}
