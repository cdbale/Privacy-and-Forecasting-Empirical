{
 "cells": [
  {
   "cell_type": "markdown",
   "id": "0e4052c3",
   "metadata": {},
   "source": [
    "# Examining the Effects of DP on Exponential Smoothing Forecast Accuracy"
   ]
  },
  {
   "cell_type": "markdown",
   "id": "7a4bd4c9",
   "metadata": {},
   "source": [
    "***"
   ]
  },
  {
   "cell_type": "code",
   "execution_count": 1,
   "id": "dd558349",
   "metadata": {},
   "outputs": [],
   "source": [
    "# general modules\n",
    "import pandas as pd\n",
    "import numpy as np\n",
    "import sktime\n",
    "\n",
    "# import exponential smoothing forecasting model\n",
    "from sktime.forecasting.exp_smoothing import ExponentialSmoothing\n",
    "\n",
    "# functions for transformation+forecasting pipeline\n",
    "from sktime.forecasting.compose import TransformedTargetForecaster\n",
    "\n",
    "# time series transformations\n",
    "from sktime.transformations.series.detrend import ConditionalDeseasonalizer\n",
    "\n",
    "##### the `helper_functions.py` file contains many custom functions we wrote to aid in our analysis\n",
    "##### `full_coding_analysis` combines all of the following - train-test split data,\n",
    "##### data protection, train models, compare accuracies, return accuracy results\n",
    "from helper_functions import *\n",
    "\n",
    "# suppress warnings from exponential smoothing model not converging\n",
    "import warnings\n",
    "warnings.filterwarnings('ignore')"
   ]
  },
  {
   "cell_type": "code",
   "execution_count": 2,
   "id": "053d11e1",
   "metadata": {},
   "outputs": [],
   "source": [
    "# import weekly finance time series\n",
    "Y = np.genfromtxt(\"../../Data/Train/Clean/weekly_finance_clean.csv\", delimiter = ',', skip_header = 1)\n",
    "Y = pd.DataFrame(Y)"
   ]
  },
  {
   "cell_type": "code",
   "execution_count": 3,
   "id": "e54219d3",
   "metadata": {},
   "outputs": [],
   "source": [
    "# detrender = Detrender()\n",
    "# detrended_series = [detrender.fit_transform(series) for _ , series in Y.iterrows()]\n",
    "# detrended_series = [i+np.abs(np.min(i))+1.0 for i in detrended_series]\n",
    "# Y = pd.concat(detrended_series, axis=1).T"
   ]
  },
  {
   "cell_type": "markdown",
   "id": "a2cdca93",
   "metadata": {},
   "source": [
    "***"
   ]
  },
  {
   "cell_type": "markdown",
   "id": "693a5968",
   "metadata": {},
   "source": [
    "## SES"
   ]
  },
  {
   "cell_type": "code",
   "execution_count": 4,
   "id": "c6ca18f3",
   "metadata": {},
   "outputs": [],
   "source": [
    "# define forecasting model\n",
    "# perform additive deseasonalization conditional on autocorrelation test for seasonality\n",
    "\n",
    "forecaster = TransformedTargetForecaster(\n",
    "    [\n",
    "        (\"forecast\", ExponentialSmoothing(use_boxcox=False)),\n",
    "    ]\n",
    ")"
   ]
  },
  {
   "cell_type": "code",
   "execution_count": 5,
   "id": "96460ce3",
   "metadata": {},
   "outputs": [],
   "source": [
    "results_dict_ses = {}\n",
    "fcasts_ses = {}\n",
    "fcasts_protected_ses = {}\n",
    "tests = {}\n",
    "epsilons = [1, 10, 20]\n",
    "horizons = [1, 20]"
   ]
  },
  {
   "cell_type": "code",
   "execution_count": 6,
   "id": "33b06dee",
   "metadata": {},
   "outputs": [],
   "source": [
    "for e in epsilons:\n",
    "    for h in horizons:\n",
    "        idx = \"h=\"+str(h)+\", epsilon = \"+str(e)\n",
    "        results_dict_ses[idx], tests[idx], fcasts_ses[idx], fcasts_protected_ses[idx] = full_coding_analysis(time_series_data=Y, \n",
    "                                                                                                             forecasting_model=forecaster, \n",
    "                                                                                                             forecast_horizon=h,\n",
    "                                                                                                             epsilon=e)"
   ]
  },
  {
   "cell_type": "code",
   "execution_count": 7,
   "id": "93202597",
   "metadata": {},
   "outputs": [
    {
     "data": {
      "text/plain": [
       "{'h=1, epsilon = 1': {'Mean Accuracies': array([0.0218, 0.0218]),\n",
       "  'Protected Mean Accuracies:': array([1.2811, 1.2811]),\n",
       "  '% Change Mean accuracy:': array([-57.8465, -57.8465]),\n",
       "  '% Change Median accuracy:': array([-120.9714, -120.9714]),\n",
       "  '% Forecasted Points adjusted downward:': 0.0427,\n",
       "  '% Forecasted Points adjusted upward:': 0.9573,\n",
       "  '% Series with improved accuracy:': array([0.0122, 0.0122]),\n",
       "  '% Series with reduced accuracy:': array([0.9878, 0.9878]),\n",
       "  'Original Mean Absolute Error Upward Adjusted:': 0.0225,\n",
       "  'Original Mean Absolute Error Downward Adjusted:': 0.0051,\n",
       "  'Protected Mean Absolute Error Upward Adjusted:': 1.3354,\n",
       "  'Protected Mean Absolute Error Downward Adjusted:': 0.0643},\n",
       " 'h=20, epsilon = 1': {'Mean Accuracies': array([0.0445, 0.0543]),\n",
       "  'Protected Mean Accuracies:': array([1.2224, 1.2233]),\n",
       "  '% Change Mean accuracy:': array([-26.4805, -21.5269]),\n",
       "  '% Change Median accuracy:': array([-33.8758, -28.1642]),\n",
       "  '% Forecasted Points adjusted downward:': 0.0427,\n",
       "  '% Forecasted Points adjusted upward:': 0.9573,\n",
       "  '% Series with improved accuracy:': array([0., 0.]),\n",
       "  '% Series with reduced accuracy:': array([1., 1.]),\n",
       "  'Original Mean Absolute Error Upward Adjusted:': 0.0459,\n",
       "  'Original Mean Absolute Error Downward Adjusted:': 0.0135,\n",
       "  'Protected Mean Absolute Error Upward Adjusted:': 1.274,\n",
       "  'Protected Mean Absolute Error Downward Adjusted:': 0.0652},\n",
       " 'h=1, epsilon = 10': {'Mean Accuracies': array([0.0218, 0.0218]),\n",
       "  'Protected Mean Accuracies:': array([0.076, 0.076]),\n",
       "  '% Change Mean accuracy:': array([-2.4911, -2.4911]),\n",
       "  '% Change Median accuracy:': array([-1.0035, -1.0035]),\n",
       "  '% Forecasted Points adjusted downward:': 0.5793,\n",
       "  '% Forecasted Points adjusted upward:': 0.4207,\n",
       "  '% Series with improved accuracy:': array([0.311, 0.311]),\n",
       "  '% Series with reduced accuracy:': array([0.689, 0.689]),\n",
       "  'Original Mean Absolute Error Upward Adjusted:': 0.0272,\n",
       "  'Original Mean Absolute Error Downward Adjusted:': 0.0178,\n",
       "  'Protected Mean Absolute Error Upward Adjusted:': 0.1342,\n",
       "  'Protected Mean Absolute Error Downward Adjusted:': 0.0338},\n",
       " 'h=20, epsilon = 10': {'Mean Accuracies': array([0.0445, 0.0543]),\n",
       "  'Protected Mean Accuracies:': array([0.092 , 0.0999]),\n",
       "  '% Change Mean accuracy:': array([-1.0683, -0.8401]),\n",
       "  '% Change Median accuracy:': array([-0.2047, -0.2013]),\n",
       "  '% Forecasted Points adjusted downward:': 0.5915,\n",
       "  '% Forecasted Points adjusted upward:': 0.4085,\n",
       "  '% Series with improved accuracy:': array([0.3963, 0.4024]),\n",
       "  '% Series with reduced accuracy:': array([0.6037, 0.5976]),\n",
       "  'Original Mean Absolute Error Upward Adjusted:': 0.0527,\n",
       "  'Original Mean Absolute Error Downward Adjusted:': 0.0388,\n",
       "  'Protected Mean Absolute Error Upward Adjusted:': 0.1541,\n",
       "  'Protected Mean Absolute Error Downward Adjusted:': 0.0491},\n",
       " 'h=1, epsilon = 20': {'Mean Accuracies': array([0.0218, 0.0218]),\n",
       "  'Protected Mean Accuracies:': array([0.0478, 0.0478]),\n",
       "  '% Change Mean accuracy:': array([-1.1939, -1.1939]),\n",
       "  '% Change Median accuracy:': array([-0.5729, -0.5729]),\n",
       "  '% Forecasted Points adjusted downward:': 0.6098,\n",
       "  '% Forecasted Points adjusted upward:': 0.3902,\n",
       "  '% Series with improved accuracy:': array([0.3598, 0.3598]),\n",
       "  '% Series with reduced accuracy:': array([0.6402, 0.6402]),\n",
       "  'Original Mean Absolute Error Upward Adjusted:': 0.0276,\n",
       "  'Original Mean Absolute Error Downward Adjusted:': 0.0181,\n",
       "  'Protected Mean Absolute Error Upward Adjusted:': 0.0817,\n",
       "  'Protected Mean Absolute Error Downward Adjusted:': 0.0261},\n",
       " 'h=20, epsilon = 20': {'Mean Accuracies': array([0.0445, 0.0543]),\n",
       "  'Protected Mean Accuracies:': array([0.0646, 0.0731]),\n",
       "  '% Change Mean accuracy:': array([-0.4525, -0.3457]),\n",
       "  '% Change Median accuracy:': array([-0.1126, -0.1513]),\n",
       "  '% Forecasted Points adjusted downward:': 0.5732,\n",
       "  '% Forecasted Points adjusted upward:': 0.4268,\n",
       "  '% Series with improved accuracy:': array([0.4085, 0.3902]),\n",
       "  '% Series with reduced accuracy:': array([0.5915, 0.6098]),\n",
       "  'Original Mean Absolute Error Upward Adjusted:': 0.0436,\n",
       "  'Original Mean Absolute Error Downward Adjusted:': 0.0451,\n",
       "  'Protected Mean Absolute Error Upward Adjusted:': 0.0823,\n",
       "  'Protected Mean Absolute Error Downward Adjusted:': 0.0515}}"
      ]
     },
     "execution_count": 7,
     "metadata": {},
     "output_type": "execute_result"
    }
   ],
   "source": [
    "results_dict_ses"
   ]
  },
  {
   "cell_type": "markdown",
   "id": "42340529",
   "metadata": {},
   "source": [
    "***\n",
    "***"
   ]
  },
  {
   "cell_type": "code",
   "execution_count": 8,
   "id": "a9658fcb",
   "metadata": {},
   "outputs": [],
   "source": [
    "original_forecasts = fcasts_ses['h=20, epsilon = 20']\n",
    "protected_forecasts = fcasts_protected_ses['h=20, epsilon = 20']\n",
    "test = tests['h=20, epsilon = 20']"
   ]
  },
  {
   "cell_type": "code",
   "execution_count": 9,
   "id": "df660ba3",
   "metadata": {},
   "outputs": [],
   "source": [
    "adjusted_up = original_forecasts < protected_forecasts\n",
    "adjusted_up = pd.concat([row for i, row in adjusted_up.iterrows()])\n",
    "adjusted_down = original_forecasts > protected_forecasts\n",
    "adjusted_down = pd.concat([row for i, row in adjusted_down.iterrows()])"
   ]
  },
  {
   "cell_type": "code",
   "execution_count": 10,
   "id": "71d3b5f6",
   "metadata": {},
   "outputs": [],
   "source": [
    "absolute_error_original = np.absolute(test - original_forecasts)\n",
    "absolute_error_protected = np.absolute(test - protected_forecasts)"
   ]
  },
  {
   "cell_type": "code",
   "execution_count": 11,
   "id": "f14485d6",
   "metadata": {},
   "outputs": [],
   "source": [
    "improved = absolute_error_original > absolute_error_protected\n",
    "improved = pd.concat([row for i, row in improved.iterrows()])\n",
    "worsened = absolute_error_original < absolute_error_protected\n",
    "worsened = pd.concat([row for i, row in worsened.iterrows()])"
   ]
  },
  {
   "cell_type": "code",
   "execution_count": 12,
   "id": "2b84bada",
   "metadata": {},
   "outputs": [
    {
     "data": {
      "text/plain": [
       "0.46419951729686243"
      ]
     },
     "execution_count": 12,
     "metadata": {},
     "output_type": "execute_result"
    }
   ],
   "source": [
    "np.mean(adjusted_down[improved])"
   ]
  },
  {
   "cell_type": "code",
   "execution_count": 13,
   "id": "c0390e10",
   "metadata": {},
   "outputs": [
    {
     "data": {
      "text/plain": [
       "0.5358004827031375"
      ]
     },
     "execution_count": 13,
     "metadata": {},
     "output_type": "execute_result"
    }
   ],
   "source": [
    "np.mean(adjusted_up[improved])"
   ]
  },
  {
   "cell_type": "markdown",
   "id": "92ee4971",
   "metadata": {},
   "source": [
    "***\n",
    "***"
   ]
  },
  {
   "cell_type": "markdown",
   "id": "f27d42f0",
   "metadata": {},
   "source": [
    "## DES"
   ]
  },
  {
   "cell_type": "code",
   "execution_count": 14,
   "id": "e846fd50",
   "metadata": {},
   "outputs": [],
   "source": [
    "# define forecasting model\n",
    "# perform additive deseasonalization conditional on autocorrelation test for seasonality\n",
    "\n",
    "forecaster = TransformedTargetForecaster(\n",
    "    [\n",
    "        (\"forecast\", ExponentialSmoothing(trend=\"additive\", use_boxcox=False)),\n",
    "    ]\n",
    ")"
   ]
  },
  {
   "cell_type": "code",
   "execution_count": 15,
   "id": "34770e7d",
   "metadata": {},
   "outputs": [],
   "source": [
    "results_dict_des = {}\n",
    "fcasts_des = {}\n",
    "fcasts_protected_des = {}\n",
    "tests = {}\n",
    "epsilons = [1, 10, 20]\n",
    "horizons = [1, 20]"
   ]
  },
  {
   "cell_type": "code",
   "execution_count": 16,
   "id": "43a86bf0",
   "metadata": {},
   "outputs": [],
   "source": [
    "for e in epsilons:\n",
    "    for h in horizons:\n",
    "        idx = \"h=\"+str(h)+\", epsilon = \"+str(e)\n",
    "        results_dict_des[idx], tests[idx], fcasts_des[idx], fcasts_protected_des[idx] = full_coding_analysis(time_series_data=Y, \n",
    "                                                                                                             forecasting_model=forecaster, \n",
    "                                                                                                             forecast_horizon=h,\n",
    "                                                                                                             epsilon=e)"
   ]
  },
  {
   "cell_type": "code",
   "execution_count": 17,
   "id": "86e5a683",
   "metadata": {},
   "outputs": [
    {
     "data": {
      "text/plain": [
       "{'h=1, epsilon = 1': {'Mean Accuracies': array([0.021, 0.021]),\n",
       "  'Protected Mean Accuracies:': array([1.2815, 1.2815]),\n",
       "  '% Change Mean accuracy:': array([-60.1278, -60.1278]),\n",
       "  '% Change Median accuracy:': array([-114.7976, -114.7976]),\n",
       "  '% Forecasted Points adjusted downward:': 0.0244,\n",
       "  '% Forecasted Points adjusted upward:': 0.9756,\n",
       "  '% Series with improved accuracy:': array([0.0061, 0.0061]),\n",
       "  '% Series with reduced accuracy:': array([0.9939, 0.9939]),\n",
       "  'Original Mean Absolute Error Upward Adjusted:': 0.0214,\n",
       "  'Original Mean Absolute Error Downward Adjusted:': 0.004,\n",
       "  'Protected Mean Absolute Error Upward Adjusted:': 1.3121,\n",
       "  'Protected Mean Absolute Error Downward Adjusted:': 0.0594},\n",
       " 'h=20, epsilon = 1': {'Mean Accuracies': array([0.0428, 0.0524]),\n",
       "  'Protected Mean Accuracies:': array([1.223 , 1.2241]),\n",
       "  '% Change Mean accuracy:': array([-27.5504, -22.3708]),\n",
       "  '% Change Median accuracy:': array([-37.5498, -30.1769]),\n",
       "  '% Forecasted Points adjusted downward:': 0.039,\n",
       "  '% Forecasted Points adjusted upward:': 0.961,\n",
       "  '% Series with improved accuracy:': array([0.0061, 0.0061]),\n",
       "  '% Series with reduced accuracy:': array([0.9939, 0.9939]),\n",
       "  'Original Mean Absolute Error Upward Adjusted:': 0.0435,\n",
       "  'Original Mean Absolute Error Downward Adjusted:': 0.0274,\n",
       "  'Protected Mean Absolute Error Upward Adjusted:': 1.2668,\n",
       "  'Protected Mean Absolute Error Downward Adjusted:': 0.1446},\n",
       " 'h=1, epsilon = 10': {'Mean Accuracies': array([0.021, 0.021]),\n",
       "  'Protected Mean Accuracies:': array([0.0714, 0.0714]),\n",
       "  '% Change Mean accuracy:': array([-2.406, -2.406]),\n",
       "  '% Change Median accuracy:': array([-0.7953, -0.7953]),\n",
       "  '% Forecasted Points adjusted downward:': 0.5183,\n",
       "  '% Forecasted Points adjusted upward:': 0.4817,\n",
       "  '% Series with improved accuracy:': array([0.2866, 0.2866]),\n",
       "  '% Series with reduced accuracy:': array([0.7134, 0.7134]),\n",
       "  'Original Mean Absolute Error Upward Adjusted:': 0.0232,\n",
       "  'Original Mean Absolute Error Downward Adjusted:': 0.0189,\n",
       "  'Protected Mean Absolute Error Upward Adjusted:': 0.1156,\n",
       "  'Protected Mean Absolute Error Downward Adjusted:': 0.0304},\n",
       " 'h=20, epsilon = 10': {'Mean Accuracies': array([0.0428, 0.0524]),\n",
       "  'Protected Mean Accuracies:': array([0.0899, 0.0982]),\n",
       "  '% Change Mean accuracy:': array([-1.0983, -0.8749]),\n",
       "  '% Change Median accuracy:': array([-0.1675, -0.1252]),\n",
       "  '% Forecasted Points adjusted downward:': 0.4912,\n",
       "  '% Forecasted Points adjusted upward:': 0.5088,\n",
       "  '% Series with improved accuracy:': array([0.3659, 0.3598]),\n",
       "  '% Series with reduced accuracy:': array([0.6341, 0.6402]),\n",
       "  'Original Mean Absolute Error Upward Adjusted:': 0.0453,\n",
       "  'Original Mean Absolute Error Downward Adjusted:': 0.0402,\n",
       "  'Protected Mean Absolute Error Upward Adjusted:': 0.1247,\n",
       "  'Protected Mean Absolute Error Downward Adjusted:': 0.0538},\n",
       " 'h=1, epsilon = 20': {'Mean Accuracies': array([0.021, 0.021]),\n",
       "  'Protected Mean Accuracies:': array([0.0515, 0.0515]),\n",
       "  '% Change Mean accuracy:': array([-1.455, -1.455]),\n",
       "  '% Change Median accuracy:': array([-0.3874, -0.3874]),\n",
       "  '% Forecasted Points adjusted downward:': 0.5427,\n",
       "  '% Forecasted Points adjusted upward:': 0.4573,\n",
       "  '% Series with improved accuracy:': array([0.378, 0.378]),\n",
       "  '% Series with reduced accuracy:': array([0.622, 0.622]),\n",
       "  'Original Mean Absolute Error Upward Adjusted:': 0.0239,\n",
       "  'Original Mean Absolute Error Downward Adjusted:': 0.0185,\n",
       "  'Protected Mean Absolute Error Upward Adjusted:': 0.0829,\n",
       "  'Protected Mean Absolute Error Downward Adjusted:': 0.0249},\n",
       " 'h=20, epsilon = 20': {'Mean Accuracies': array([0.0428, 0.0524]),\n",
       "  'Protected Mean Accuracies:': array([0.0643, 0.0733]),\n",
       "  '% Change Mean accuracy:': array([-0.5007, -0.3991]),\n",
       "  '% Change Median accuracy:': array([-0.0847, -0.0546]),\n",
       "  '% Forecasted Points adjusted downward:': 0.5838,\n",
       "  '% Forecasted Points adjusted upward:': 0.4162,\n",
       "  '% Series with improved accuracy:': array([0.439 , 0.4085]),\n",
       "  '% Series with reduced accuracy:': array([0.561 , 0.5915]),\n",
       "  'Original Mean Absolute Error Upward Adjusted:': 0.0466,\n",
       "  'Original Mean Absolute Error Downward Adjusted:': 0.0402,\n",
       "  'Protected Mean Absolute Error Upward Adjusted:': 0.0929,\n",
       "  'Protected Mean Absolute Error Downward Adjusted:': 0.0439}}"
      ]
     },
     "execution_count": 17,
     "metadata": {},
     "output_type": "execute_result"
    }
   ],
   "source": [
    "results_dict_des"
   ]
  },
  {
   "cell_type": "markdown",
   "id": "16949b2b",
   "metadata": {},
   "source": [
    "***\n",
    "***"
   ]
  },
  {
   "cell_type": "markdown",
   "id": "87ad41aa",
   "metadata": {},
   "source": [
    "## TES"
   ]
  },
  {
   "cell_type": "code",
   "execution_count": 18,
   "id": "d434fa7a",
   "metadata": {},
   "outputs": [],
   "source": [
    "# define forecasting model\n",
    "# perform additive deseasonalization conditional on autocorrelation test for seasonality\n",
    "\n",
    "forecaster = TransformedTargetForecaster(\n",
    "    [\n",
    "        (\"forecast\", ExponentialSmoothing(trend=\"additive\",\n",
    "                                          seasonal=\"additive\",\n",
    "                                          sp=52,\n",
    "                                          damped_trend=False, \n",
    "                                          use_boxcox=False)),\n",
    "    ]\n",
    ")"
   ]
  },
  {
   "cell_type": "code",
   "execution_count": 19,
   "id": "82f18094",
   "metadata": {},
   "outputs": [],
   "source": [
    "results_dict_tes = {}\n",
    "fcasts_tes = {}\n",
    "fcasts_protected_tes = {}\n",
    "tests = {}\n",
    "epsilons = [1, 10, 20]\n",
    "horizons = [1, 20]"
   ]
  },
  {
   "cell_type": "code",
   "execution_count": 20,
   "id": "d0eac6fb",
   "metadata": {},
   "outputs": [],
   "source": [
    "for e in epsilons:\n",
    "    for h in horizons:\n",
    "        idx = \"h=\"+str(h)+\", epsilon = \"+str(e)\n",
    "        results_dict_tes[idx], tests[idx], fcasts_tes[idx], fcasts_protected_tes[idx] = full_coding_analysis(time_series_data=Y, \n",
    "                                                                                                             forecasting_model=forecaster, \n",
    "                                                                                                             forecast_horizon=h,\n",
    "                                                                                                             epsilon=e)"
   ]
  },
  {
   "cell_type": "code",
   "execution_count": 21,
   "id": "aa626870",
   "metadata": {},
   "outputs": [
    {
     "data": {
      "text/plain": [
       "{'h=1, epsilon = 1': {'Mean Accuracies': array([0.0244, 0.0244]),\n",
       "  'Protected Mean Accuracies:': array([1.2961, 1.2961]),\n",
       "  '% Change Mean accuracy:': array([-52.0754, -52.0754]),\n",
       "  '% Change Median accuracy:': array([-108.2696, -108.2696]),\n",
       "  '% Forecasted Points adjusted downward:': 0.0183,\n",
       "  '% Forecasted Points adjusted upward:': 0.9817,\n",
       "  '% Series with improved accuracy:': array([0.0122, 0.0122]),\n",
       "  '% Series with reduced accuracy:': array([0.9878, 0.9878]),\n",
       "  'Original Mean Absolute Error Upward Adjusted:': 0.0248,\n",
       "  'Original Mean Absolute Error Downward Adjusted:': 0.0056,\n",
       "  'Protected Mean Absolute Error Upward Adjusted:': 1.3187,\n",
       "  'Protected Mean Absolute Error Downward Adjusted:': 0.082},\n",
       " 'h=20, epsilon = 1': {'Mean Accuracies': array([0.0475, 0.0574]),\n",
       "  'Protected Mean Accuracies:': array([1.2392, 1.2468]),\n",
       "  '% Change Mean accuracy:': array([-25.1041, -20.7061]),\n",
       "  '% Change Median accuracy:': array([-34.7004, -27.9298]),\n",
       "  '% Forecasted Points adjusted downward:': 0.0299,\n",
       "  '% Forecasted Points adjusted upward:': 0.9701,\n",
       "  '% Series with improved accuracy:': array([0., 0.]),\n",
       "  '% Series with reduced accuracy:': array([1., 1.]),\n",
       "  'Original Mean Absolute Error Upward Adjusted:': 0.0484,\n",
       "  'Original Mean Absolute Error Downward Adjusted:': 0.0188,\n",
       "  'Protected Mean Absolute Error Upward Adjusted:': 1.2717,\n",
       "  'Protected Mean Absolute Error Downward Adjusted:': 0.1846},\n",
       " 'h=1, epsilon = 10': {'Mean Accuracies': array([0.0244, 0.0244]),\n",
       "  'Protected Mean Accuracies:': array([0.0974, 0.0974]),\n",
       "  '% Change Mean accuracy:': array([-2.9899, -2.9899]),\n",
       "  '% Change Median accuracy:': array([-2.2011, -2.2011]),\n",
       "  '% Forecasted Points adjusted downward:': 0.5244,\n",
       "  '% Forecasted Points adjusted upward:': 0.4756,\n",
       "  '% Series with improved accuracy:': array([0.1829, 0.1829]),\n",
       "  '% Series with reduced accuracy:': array([0.8171, 0.8171]),\n",
       "  'Original Mean Absolute Error Upward Adjusted:': 0.0247,\n",
       "  'Original Mean Absolute Error Downward Adjusted:': 0.0241,\n",
       "  'Protected Mean Absolute Error Upward Adjusted:': 0.1396,\n",
       "  'Protected Mean Absolute Error Downward Adjusted:': 0.0592},\n",
       " 'h=20, epsilon = 10': {'Mean Accuracies': array([0.0475, 0.0574]),\n",
       "  'Protected Mean Accuracies:': array([0.099 , 0.1117]),\n",
       "  '% Change Mean accuracy:': array([-1.0849, -0.9443]),\n",
       "  '% Change Median accuracy:': array([-0.4545, -0.4953]),\n",
       "  '% Forecasted Points adjusted downward:': 0.5091,\n",
       "  '% Forecasted Points adjusted upward:': 0.4909,\n",
       "  '% Series with improved accuracy:': array([0.1951, 0.1768]),\n",
       "  '% Series with reduced accuracy:': array([0.8049, 0.8232]),\n",
       "  'Original Mean Absolute Error Upward Adjusted:': 0.0486,\n",
       "  'Original Mean Absolute Error Downward Adjusted:': 0.0463,\n",
       "  'Protected Mean Absolute Error Upward Adjusted:': 0.1256,\n",
       "  'Protected Mean Absolute Error Downward Adjusted:': 0.0733},\n",
       " 'h=1, epsilon = 20': {'Mean Accuracies': array([0.0244, 0.0244]),\n",
       "  'Protected Mean Accuracies:': array([0.0589, 0.0589]),\n",
       "  '% Change Mean accuracy:': array([-1.4117, -1.4117]),\n",
       "  '% Change Median accuracy:': array([-1.1566, -1.1566]),\n",
       "  '% Forecasted Points adjusted downward:': 0.4817,\n",
       "  '% Forecasted Points adjusted upward:': 0.5183,\n",
       "  '% Series with improved accuracy:': array([0.2866, 0.2866]),\n",
       "  '% Series with reduced accuracy:': array([0.7134, 0.7134]),\n",
       "  'Original Mean Absolute Error Upward Adjusted:': 0.0261,\n",
       "  'Original Mean Absolute Error Downward Adjusted:': 0.0226,\n",
       "  'Protected Mean Absolute Error Upward Adjusted:': 0.0747,\n",
       "  'Protected Mean Absolute Error Downward Adjusted:': 0.0419},\n",
       " 'h=20, epsilon = 20': {'Mean Accuracies': array([0.0475, 0.0574]),\n",
       "  'Protected Mean Accuracies:': array([0.0569, 0.0681]),\n",
       "  '% Change Mean accuracy:': array([-0.1991, -0.1852]),\n",
       "  '% Change Median accuracy:': array([-0.1738, -0.1137]),\n",
       "  '% Forecasted Points adjusted downward:': 0.5244,\n",
       "  '% Forecasted Points adjusted upward:': 0.4756,\n",
       "  '% Series with improved accuracy:': array([0.3171, 0.2622]),\n",
       "  '% Series with reduced accuracy:': array([0.6829, 0.7378]),\n",
       "  'Original Mean Absolute Error Upward Adjusted:': 0.0519,\n",
       "  'Original Mean Absolute Error Downward Adjusted:': 0.0435,\n",
       "  'Protected Mean Absolute Error Upward Adjusted:': 0.0637,\n",
       "  'Protected Mean Absolute Error Downward Adjusted:': 0.0508}}"
      ]
     },
     "execution_count": 21,
     "metadata": {},
     "output_type": "execute_result"
    }
   ],
   "source": [
    "results_dict_tes"
   ]
  }
 ],
 "metadata": {
  "kernelspec": {
   "display_name": "Python 3 (ipykernel)",
   "language": "python",
   "name": "python3"
  },
  "language_info": {
   "codemirror_mode": {
    "name": "ipython",
    "version": 3
   },
   "file_extension": ".py",
   "mimetype": "text/x-python",
   "name": "python",
   "nbconvert_exporter": "python",
   "pygments_lexer": "ipython3",
   "version": "3.9.7"
  }
 },
 "nbformat": 4,
 "nbformat_minor": 5
}
