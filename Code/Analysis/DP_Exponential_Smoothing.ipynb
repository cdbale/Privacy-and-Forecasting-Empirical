{
 "cells": [
  {
   "cell_type": "markdown",
   "id": "0e4052c3",
   "metadata": {},
   "source": [
    "# Examining the Effects of DP on Exponential Smoothing Forecast Accuracy"
   ]
  },
  {
   "cell_type": "markdown",
   "id": "7a4bd4c9",
   "metadata": {},
   "source": [
    "***"
   ]
  },
  {
   "cell_type": "code",
   "execution_count": 1,
   "id": "dd558349",
   "metadata": {},
   "outputs": [],
   "source": [
    "# general modules\n",
    "import pandas as pd\n",
    "import numpy as np\n",
    "import sktime\n",
    "\n",
    "# import exponential smoothing forecasting model\n",
    "from sktime.forecasting.exp_smoothing import ExponentialSmoothing\n",
    "\n",
    "# functions for transformation+forecasting pipeline\n",
    "from sktime.forecasting.compose import TransformedTargetForecaster\n",
    "\n",
    "# time series transformations\n",
    "from sktime.transformations.series.detrend import ConditionalDeseasonalizer\n",
    "\n",
    "##### the `helper_functions.py` file contains many custom functions we wrote to aid in our analysis\n",
    "##### `full_coding_analysis` combines all of the following - train-test split data,\n",
    "##### data protection, train models, compare accuracies, return accuracy results\n",
    "from helper_functions import *\n",
    "\n",
    "# suppress warnings from exponential smoothing model not converging\n",
    "import warnings\n",
    "warnings.filterwarnings('ignore')"
   ]
  },
  {
   "cell_type": "code",
   "execution_count": 2,
   "id": "053d11e1",
   "metadata": {},
   "outputs": [],
   "source": [
    "# import weekly finance time series\n",
    "Y = np.genfromtxt(\"../../Data/Train/Clean/weekly_finance_clean.csv\", delimiter = ',', skip_header = 1)\n",
    "Y = pd.DataFrame(Y)"
   ]
  },
  {
   "cell_type": "markdown",
   "id": "a2cdca93",
   "metadata": {},
   "source": [
    "***"
   ]
  },
  {
   "cell_type": "markdown",
   "id": "693a5968",
   "metadata": {},
   "source": [
    "## SES"
   ]
  },
  {
   "cell_type": "code",
   "execution_count": 3,
   "id": "c6ca18f3",
   "metadata": {},
   "outputs": [],
   "source": [
    "# define forecasting model\n",
    "# perform additive deseasonalization conditional on autocorrelation test for seasonality\n",
    "\n",
    "forecaster = TransformedTargetForecaster(\n",
    "    [\n",
    "        (\"deseasonalize\", ConditionalDeseasonalizer(model=\"additive\", sp=52)),\n",
    "        (\"forecast\", ExponentialSmoothing(use_boxcox=False)),\n",
    "    ]\n",
    ")"
   ]
  },
  {
   "cell_type": "code",
   "execution_count": 4,
   "id": "96460ce3",
   "metadata": {},
   "outputs": [],
   "source": [
    "results_dict_ses = {}\n",
    "fcasts_ses = {}\n",
    "fcasts_protected_ses = {}\n",
    "tests = {}\n",
    "epsilons = [1, 10, 20]\n",
    "horizons = [1, 20]"
   ]
  },
  {
   "cell_type": "code",
   "execution_count": 5,
   "id": "33b06dee",
   "metadata": {},
   "outputs": [],
   "source": [
    "for e in epsilons:\n",
    "    for h in horizons:\n",
    "        idx = \"h=\"+str(h)+\", epsilon = \"+str(e)\n",
    "        results_dict_ses[idx], tests[idx], fcasts_ses[idx], fcasts_protected_ses[idx] = full_coding_analysis(time_series_data=Y, \n",
    "                                                                                                             forecasting_model=forecaster, \n",
    "                                                                                                             forecast_horizon=h,\n",
    "                                                                                                             epsilon=e)"
   ]
  },
  {
   "cell_type": "code",
   "execution_count": 6,
   "id": "93202597",
   "metadata": {},
   "outputs": [
    {
     "data": {
      "text/plain": [
       "{'h=1, epsilon = 1': {'Mean Accuracies': array([2.18, 2.18]),\n",
       "  'Protected Mean Accuracies:': array([127.23, 127.23]),\n",
       "  '% Change Mean accuracy:': array([-5730.92, -5730.92]),\n",
       "  '% Change Median accuracy:': array([-12554.45, -12554.45]),\n",
       "  '% Forecasted Points adjusted downward:': 3.66,\n",
       "  '% Forecasted Points adjusted upward:': 96.34,\n",
       "  '% Series with improved accuracy:': array([0., 0.]),\n",
       "  '% Series with reduced accuracy:': array([100., 100.]),\n",
       "  'Original Mean Absolute Error Upward Adjusted:': 2.25,\n",
       "  'Original Mean Absolute Error Downward Adjusted:': 0.33,\n",
       "  'Protected Mean Absolute Error Upward Adjusted:': 131.79000000000002,\n",
       "  'Protected Mean Absolute Error Downward Adjusted:': 7.21},\n",
       " 'h=20, epsilon = 1': {'Mean Accuracies': array([4.4 , 5.37]),\n",
       "  'Protected Mean Accuracies:': array([120.5, 120.6]),\n",
       "  '% Change Mean accuracy:': array([-2637.98, -2145.26]),\n",
       "  '% Change Median accuracy:': array([-3627.6 , -3066.94]),\n",
       "  '% Forecasted Points adjusted downward:': 6.98,\n",
       "  '% Forecasted Points adjusted upward:': 93.02,\n",
       "  '% Series with improved accuracy:': array([0., 0.]),\n",
       "  '% Series with reduced accuracy:': array([100., 100.]),\n",
       "  'Original Mean Absolute Error Upward Adjusted:': 4.61,\n",
       "  'Original Mean Absolute Error Downward Adjusted:': 1.67,\n",
       "  'Protected Mean Absolute Error Upward Adjusted:': 129.07999999999998,\n",
       "  'Protected Mean Absolute Error Downward Adjusted:': 6.140000000000001},\n",
       " 'h=1, epsilon = 10': {'Mean Accuracies': array([2.18, 2.18]),\n",
       "  'Protected Mean Accuracies:': array([7.7, 7.7]),\n",
       "  '% Change Mean accuracy:': array([-253.06, -253.06]),\n",
       "  '% Change Median accuracy:': array([-203.81, -203.81]),\n",
       "  '% Forecasted Points adjusted downward:': 53.05,\n",
       "  '% Forecasted Points adjusted upward:': 46.949999999999996,\n",
       "  '% Series with improved accuracy:': array([21.34, 21.34]),\n",
       "  '% Series with reduced accuracy:': array([78.66, 78.66]),\n",
       "  'Original Mean Absolute Error Upward Adjusted:': 2.8899999999999997,\n",
       "  'Original Mean Absolute Error Downward Adjusted:': 1.55,\n",
       "  'Protected Mean Absolute Error Upward Adjusted:': 11.74,\n",
       "  'Protected Mean Absolute Error Downward Adjusted:': 4.130000000000001},\n",
       " 'h=20, epsilon = 10': {'Mean Accuracies': array([4.4 , 5.37]),\n",
       "  'Protected Mean Accuracies:': array([ 9.6 , 10.43]),\n",
       "  '% Change Mean accuracy:': array([-118.13,  -94.23]),\n",
       "  '% Change Median accuracy:': array([-34.56, -30.98]),\n",
       "  '% Forecasted Points adjusted downward:': 56.43,\n",
       "  '% Forecasted Points adjusted upward:': 43.57,\n",
       "  '% Series with improved accuracy:': array([29.88, 26.22]),\n",
       "  '% Series with reduced accuracy:': array([70.12, 73.78]),\n",
       "  'Original Mean Absolute Error Upward Adjusted:': 4.75,\n",
       "  'Original Mean Absolute Error Downward Adjusted:': 4.130000000000001,\n",
       "  'Protected Mean Absolute Error Upward Adjusted:': 14.87,\n",
       "  'Protected Mean Absolute Error Downward Adjusted:': 5.53},\n",
       " 'h=1, epsilon = 20': {'Mean Accuracies': array([2.18, 2.18]),\n",
       "  'Protected Mean Accuracies:': array([4.2, 4.2]),\n",
       "  '% Change Mean accuracy:': array([-92.58, -92.58]),\n",
       "  '% Change Median accuracy:': array([-81.56, -81.56]),\n",
       "  '% Forecasted Points adjusted downward:': 54.879999999999995,\n",
       "  '% Forecasted Points adjusted upward:': 45.12,\n",
       "  '% Series with improved accuracy:': array([38.41, 38.41]),\n",
       "  '% Series with reduced accuracy:': array([61.59, 61.59]),\n",
       "  'Original Mean Absolute Error Upward Adjusted:': 2.62,\n",
       "  'Original Mean Absolute Error Downward Adjusted:': 1.82,\n",
       "  'Protected Mean Absolute Error Upward Adjusted:': 6.16,\n",
       "  'Protected Mean Absolute Error Downward Adjusted:': 2.59},\n",
       " 'h=20, epsilon = 20': {'Mean Accuracies': array([4.4 , 5.37]),\n",
       "  'Protected Mean Accuracies:': array([6.14, 7.  ]),\n",
       "  '% Change Mean accuracy:': array([-39.57, -30.37]),\n",
       "  '% Change Median accuracy:': array([ -9.71, -15.51]),\n",
       "  '% Forecasted Points adjusted downward:': 61.86000000000001,\n",
       "  '% Forecasted Points adjusted upward:': 38.14,\n",
       "  '% Series with improved accuracy:': array([41.46, 39.63]),\n",
       "  '% Series with reduced accuracy:': array([58.54, 60.37]),\n",
       "  'Original Mean Absolute Error Upward Adjusted:': 4.74,\n",
       "  'Original Mean Absolute Error Downward Adjusted:': 4.19,\n",
       "  'Protected Mean Absolute Error Upward Adjusted:': 8.28,\n",
       "  'Protected Mean Absolute Error Downward Adjusted:': 4.83}}"
      ]
     },
     "execution_count": 6,
     "metadata": {},
     "output_type": "execute_result"
    }
   ],
   "source": [
    "results_dict_ses"
   ]
  },
  {
   "cell_type": "markdown",
   "id": "42340529",
   "metadata": {},
   "source": [
    "***\n",
    "***"
   ]
  },
  {
   "cell_type": "code",
   "execution_count": 7,
   "id": "a9658fcb",
   "metadata": {},
   "outputs": [],
   "source": [
    "original_forecasts = fcasts_ses['h=20, epsilon = 20']\n",
    "protected_forecasts = fcasts_protected_ses['h=20, epsilon = 20']\n",
    "test = tests['h=20, epsilon = 20']"
   ]
  },
  {
   "cell_type": "code",
   "execution_count": 8,
   "id": "df660ba3",
   "metadata": {},
   "outputs": [],
   "source": [
    "adjusted_up = original_forecasts < protected_forecasts\n",
    "adjusted_up = pd.concat([row for i, row in adjusted_up.iterrows()])\n",
    "adjusted_down = original_forecasts > protected_forecasts\n",
    "adjusted_down = pd.concat([row for i, row in adjusted_down.iterrows()])"
   ]
  },
  {
   "cell_type": "code",
   "execution_count": 10,
   "id": "71d3b5f6",
   "metadata": {},
   "outputs": [],
   "source": [
    "absolute_error_original = np.absolute(test - original_forecasts)\n",
    "absolute_error_protected = np.absolute(test - protected_forecasts)"
   ]
  },
  {
   "cell_type": "code",
   "execution_count": 13,
   "id": "f14485d6",
   "metadata": {},
   "outputs": [],
   "source": [
    "improved = absolute_error_original > absolute_error_protected\n",
    "improved = pd.concat([row for i, row in improved.iterrows()])\n",
    "worsened = absolute_error_original < absolute_error_protected\n",
    "worsened = pd.concat([row for i, row in worsened.iterrows()])"
   ]
  },
  {
   "cell_type": "code",
   "execution_count": 15,
   "id": "2b84bada",
   "metadata": {},
   "outputs": [
    {
     "data": {
      "text/plain": [
       "0.5042801556420233"
      ]
     },
     "execution_count": 15,
     "metadata": {},
     "output_type": "execute_result"
    }
   ],
   "source": [
    "np.mean(adjusted_down[improved])"
   ]
  },
  {
   "cell_type": "code",
   "execution_count": 16,
   "id": "c0390e10",
   "metadata": {},
   "outputs": [
    {
     "data": {
      "text/plain": [
       "0.49571984435797667"
      ]
     },
     "execution_count": 16,
     "metadata": {},
     "output_type": "execute_result"
    }
   ],
   "source": [
    "np.mean(adjusted_up[improved])"
   ]
  },
  {
   "cell_type": "markdown",
   "id": "92ee4971",
   "metadata": {},
   "source": [
    "***\n",
    "***"
   ]
  },
  {
   "cell_type": "markdown",
   "id": "f27d42f0",
   "metadata": {},
   "source": [
    "## DES"
   ]
  },
  {
   "cell_type": "code",
   "execution_count": 7,
   "id": "e846fd50",
   "metadata": {},
   "outputs": [],
   "source": [
    "# define forecasting model\n",
    "# perform additive deseasonalization conditional on autocorrelation test for seasonality\n",
    "\n",
    "forecaster = TransformedTargetForecaster(\n",
    "    [\n",
    "        (\"deseasonalize\", ConditionalDeseasonalizer(model=\"additive\", sp=52)),\n",
    "        (\"forecast\", ExponentialSmoothing(trend=\"additive\", use_boxcox=False)),\n",
    "    ]\n",
    ")"
   ]
  },
  {
   "cell_type": "code",
   "execution_count": 8,
   "id": "34770e7d",
   "metadata": {},
   "outputs": [],
   "source": [
    "results_dict_des = {}\n",
    "fcasts_des = {}\n",
    "fcasts_protected_des = {}\n",
    "tests = {}\n",
    "epsilons = [1, 10, 20]\n",
    "horizons = [1, 20]"
   ]
  },
  {
   "cell_type": "code",
   "execution_count": 9,
   "id": "43a86bf0",
   "metadata": {},
   "outputs": [],
   "source": [
    "for e in epsilons:\n",
    "    for h in horizons:\n",
    "        idx = \"h=\"+str(h)+\", epsilon = \"+str(e)\n",
    "        results_dict_des[idx], tests[idx], fcasts_des[idx], fcasts_protected_des[idx] = full_coding_analysis(time_series_data=Y, \n",
    "                                                                                                             forecasting_model=forecaster, \n",
    "                                                                                                             forecast_horizon=h,\n",
    "                                                                                                             epsilon=e)"
   ]
  },
  {
   "cell_type": "code",
   "execution_count": 10,
   "id": "86e5a683",
   "metadata": {},
   "outputs": [
    {
     "data": {
      "text/plain": [
       "{'h=1, epsilon = 1': {'Mean Accuracies': array([2.1, 2.1]),\n",
       "  'Protected Mean Accuracies:': array([127.25, 127.25]),\n",
       "  '% Change Mean accuracy:': array([-5945.49, -5945.49]),\n",
       "  '% Change Median accuracy:': array([-12265.06, -12265.06]),\n",
       "  '% Forecasted Points adjusted downward:': 2.44,\n",
       "  '% Forecasted Points adjusted upward:': 97.56,\n",
       "  '% Series with improved accuracy:': array([0.61, 0.61]),\n",
       "  '% Series with reduced accuracy:': array([99.39, 99.39]),\n",
       "  'Original Mean Absolute Error Upward Adjusted:': 2.15,\n",
       "  'Original Mean Absolute Error Downward Adjusted:': 0.41000000000000003,\n",
       "  'Protected Mean Absolute Error Upward Adjusted:': 130.29,\n",
       "  'Protected Mean Absolute Error Downward Adjusted:': 5.6899999999999995},\n",
       " 'h=20, epsilon = 1': {'Mean Accuracies': array([4.24, 5.18]),\n",
       "  'Protected Mean Accuracies:': array([123.6 , 123.72]),\n",
       "  '% Change Mean accuracy:': array([-2818. , -2288.5]),\n",
       "  '% Change Median accuracy:': array([-3664.37, -2952.29]),\n",
       "  '% Forecasted Points adjusted downward:': 4.51,\n",
       "  '% Forecasted Points adjusted upward:': 95.49,\n",
       "  '% Series with improved accuracy:': array([0.61, 0.61]),\n",
       "  '% Series with reduced accuracy:': array([99.39, 99.39]),\n",
       "  'Original Mean Absolute Error Upward Adjusted:': 4.390000000000001,\n",
       "  'Original Mean Absolute Error Downward Adjusted:': 1.06,\n",
       "  'Protected Mean Absolute Error Upward Adjusted:': 129.26,\n",
       "  'Protected Mean Absolute Error Downward Adjusted:': 3.7900000000000005},\n",
       " 'h=1, epsilon = 10': {'Mean Accuracies': array([2.1, 2.1]),\n",
       "  'Protected Mean Accuracies:': array([8.13, 8.13]),\n",
       "  '% Change Mean accuracy:': array([-286.44, -286.44]),\n",
       "  '% Change Median accuracy:': array([-88.32, -88.32]),\n",
       "  '% Forecasted Points adjusted downward:': 57.93000000000001,\n",
       "  '% Forecasted Points adjusted upward:': 42.07,\n",
       "  '% Series with improved accuracy:': array([32.93, 32.93]),\n",
       "  '% Series with reduced accuracy:': array([67.07, 67.07]),\n",
       "  'Original Mean Absolute Error Upward Adjusted:': 2.33,\n",
       "  'Original Mean Absolute Error Downward Adjusted:': 1.94,\n",
       "  'Protected Mean Absolute Error Upward Adjusted:': 14.399999999999999,\n",
       "  'Protected Mean Absolute Error Downward Adjusted:': 3.58},\n",
       " 'h=20, epsilon = 10': {'Mean Accuracies': array([4.24, 5.18]),\n",
       "  'Protected Mean Accuracies:': array([8.67, 9.51]),\n",
       "  '% Change Mean accuracy:': array([-104.6,  -83.6]),\n",
       "  '% Change Median accuracy:': array([-7.88, -4.68]),\n",
       "  '% Forecasted Points adjusted downward:': 44.82,\n",
       "  '% Forecasted Points adjusted upward:': 55.17999999999999,\n",
       "  '% Series with improved accuracy:': array([37.8, 37.2]),\n",
       "  '% Series with reduced accuracy:': array([62.2, 62.8]),\n",
       "  'Original Mean Absolute Error Upward Adjusted:': 4.64,\n",
       "  'Original Mean Absolute Error Downward Adjusted:': 3.73,\n",
       "  'Protected Mean Absolute Error Upward Adjusted:': 12.509999999999998,\n",
       "  'Protected Mean Absolute Error Downward Adjusted:': 3.93},\n",
       " 'h=1, epsilon = 20': {'Mean Accuracies': array([2.1, 2.1]),\n",
       "  'Protected Mean Accuracies:': array([3.48, 3.48]),\n",
       "  '% Change Mean accuracy:': array([-65.12, -65.12]),\n",
       "  '% Change Median accuracy:': array([-33.31, -33.31]),\n",
       "  '% Forecasted Points adjusted downward:': 56.71000000000001,\n",
       "  '% Forecasted Points adjusted upward:': 43.29,\n",
       "  '% Series with improved accuracy:': array([46.34, 46.34]),\n",
       "  '% Series with reduced accuracy:': array([53.66, 53.66]),\n",
       "  'Original Mean Absolute Error Upward Adjusted:': 2.23,\n",
       "  'Original Mean Absolute Error Downward Adjusted:': 2.01,\n",
       "  'Protected Mean Absolute Error Upward Adjusted:': 4.7,\n",
       "  'Protected Mean Absolute Error Downward Adjusted:': 2.54},\n",
       " 'h=20, epsilon = 20': {'Mean Accuracies': array([4.24, 5.18]),\n",
       "  'Protected Mean Accuracies:': array([4.61, 5.5 ]),\n",
       "  '% Change Mean accuracy:': array([-8.81, -6.11]),\n",
       "  '% Change Median accuracy:': array([-3.78, -3.8 ]),\n",
       "  '% Forecasted Points adjusted downward:': 56.279999999999994,\n",
       "  '% Forecasted Points adjusted upward:': 43.72,\n",
       "  '% Series with improved accuracy:': array([43.29, 44.51]),\n",
       "  '% Series with reduced accuracy:': array([56.71, 55.49]),\n",
       "  'Original Mean Absolute Error Upward Adjusted:': 3.84,\n",
       "  'Original Mean Absolute Error Downward Adjusted:': 4.54,\n",
       "  'Protected Mean Absolute Error Upward Adjusted:': 4.25,\n",
       "  'Protected Mean Absolute Error Downward Adjusted:': 4.89}}"
      ]
     },
     "execution_count": 10,
     "metadata": {},
     "output_type": "execute_result"
    }
   ],
   "source": [
    "results_dict_des"
   ]
  },
  {
   "cell_type": "markdown",
   "id": "16949b2b",
   "metadata": {},
   "source": [
    "***\n",
    "***"
   ]
  },
  {
   "cell_type": "markdown",
   "id": "87ad41aa",
   "metadata": {},
   "source": [
    "## TES"
   ]
  },
  {
   "cell_type": "code",
   "execution_count": 11,
   "id": "d434fa7a",
   "metadata": {},
   "outputs": [],
   "source": [
    "# define forecasting model\n",
    "# perform additive deseasonalization conditional on autocorrelation test for seasonality\n",
    "\n",
    "forecaster = TransformedTargetForecaster(\n",
    "    [\n",
    "        (\"forecast\", ExponentialSmoothing(trend=\"additive\",\n",
    "                                          seasonal=\"additive\",\n",
    "                                          sp=52,\n",
    "                                          damped_trend=False, \n",
    "                                          use_boxcox=False)),\n",
    "    ]\n",
    ")"
   ]
  },
  {
   "cell_type": "code",
   "execution_count": 12,
   "id": "82f18094",
   "metadata": {},
   "outputs": [],
   "source": [
    "results_dict_tes = {}\n",
    "fcasts_tes = {}\n",
    "fcasts_protected_tes = {}\n",
    "tests = {}\n",
    "epsilons = [1, 10, 20]\n",
    "horizons = [1, 20]"
   ]
  },
  {
   "cell_type": "code",
   "execution_count": 13,
   "id": "d0eac6fb",
   "metadata": {},
   "outputs": [],
   "source": [
    "for e in epsilons:\n",
    "    for h in horizons:\n",
    "        idx = \"h=\"+str(h)+\", epsilon = \"+str(e)\n",
    "        results_dict_tes[idx], tests[idx], fcasts_tes[idx], fcasts_protected_tes[idx] = full_coding_analysis(time_series_data=Y, \n",
    "                                                                                                             forecasting_model=forecaster, \n",
    "                                                                                                             forecast_horizon=h,\n",
    "                                                                                                             epsilon=e)"
   ]
  },
  {
   "cell_type": "code",
   "execution_count": 14,
   "id": "aa626870",
   "metadata": {},
   "outputs": [
    {
     "data": {
      "text/plain": [
       "{'h=1, epsilon = 1': {'Mean Accuracies': array([2.44, 2.44]),\n",
       "  'Protected Mean Accuracies:': array([123.93, 123.93]),\n",
       "  '% Change Mean accuracy:': array([-4975.09, -4975.09]),\n",
       "  '% Change Median accuracy:': array([-9975.42, -9975.42]),\n",
       "  '% Forecasted Points adjusted downward:': 1.83,\n",
       "  '% Forecasted Points adjusted upward:': 98.17,\n",
       "  '% Series with improved accuracy:': array([0., 0.]),\n",
       "  '% Series with reduced accuracy:': array([100., 100.]),\n",
       "  'Original Mean Absolute Error Upward Adjusted:': 2.45,\n",
       "  'Original Mean Absolute Error Downward Adjusted:': 1.87,\n",
       "  'Protected Mean Absolute Error Upward Adjusted:': 126.01,\n",
       "  'Protected Mean Absolute Error Downward Adjusted:': 12.06},\n",
       " 'h=20, epsilon = 1': {'Mean Accuracies': array([4.75, 5.74]),\n",
       "  'Protected Mean Accuracies:': array([124.86, 125.54]),\n",
       "  '% Change Mean accuracy:': array([-2530.16, -2085.66]),\n",
       "  '% Change Median accuracy:': array([-3550.65, -2862.79]),\n",
       "  '% Forecasted Points adjusted downward:': 3.1399999999999997,\n",
       "  '% Forecasted Points adjusted upward:': 96.86,\n",
       "  '% Series with improved accuracy:': array([0., 0.]),\n",
       "  '% Series with reduced accuracy:': array([100., 100.]),\n",
       "  'Original Mean Absolute Error Upward Adjusted:': 4.81,\n",
       "  'Original Mean Absolute Error Downward Adjusted:': 2.83,\n",
       "  'Protected Mean Absolute Error Upward Adjusted:': 128.55,\n",
       "  'Protected Mean Absolute Error Downward Adjusted:': 10.95},\n",
       " 'h=1, epsilon = 10': {'Mean Accuracies': array([2.44, 2.44]),\n",
       "  'Protected Mean Accuracies:': array([9.99, 9.99]),\n",
       "  '% Change Mean accuracy:': array([-308.93, -308.93]),\n",
       "  '% Change Median accuracy:': array([-192.2, -192.2]),\n",
       "  '% Forecasted Points adjusted downward:': 42.68,\n",
       "  '% Forecasted Points adjusted upward:': 57.32000000000001,\n",
       "  '% Series with improved accuracy:': array([19.51, 19.51]),\n",
       "  '% Series with reduced accuracy:': array([80.49, 80.49]),\n",
       "  'Original Mean Absolute Error Upward Adjusted:': 2.53,\n",
       "  'Original Mean Absolute Error Downward Adjusted:': 2.33,\n",
       "  'Protected Mean Absolute Error Upward Adjusted:': 13.48,\n",
       "  'Protected Mean Absolute Error Downward Adjusted:': 5.29},\n",
       " 'h=20, epsilon = 10': {'Mean Accuracies': array([4.75, 5.74]),\n",
       "  'Protected Mean Accuracies:': array([ 9.69, 11.13]),\n",
       "  '% Change Mean accuracy:': array([-104.04,  -93.77]),\n",
       "  '% Change Median accuracy:': array([-67.61, -64.03]),\n",
       "  '% Forecasted Points adjusted downward:': 53.11,\n",
       "  '% Forecasted Points adjusted upward:': 46.89,\n",
       "  '% Series with improved accuracy:': array([17.07, 17.07]),\n",
       "  '% Series with reduced accuracy:': array([82.93, 82.93]),\n",
       "  'Original Mean Absolute Error Upward Adjusted:': 5.050000000000001,\n",
       "  'Original Mean Absolute Error Downward Adjusted:': 4.4799999999999995,\n",
       "  'Protected Mean Absolute Error Upward Adjusted:': 12.61,\n",
       "  'Protected Mean Absolute Error Downward Adjusted:': 7.1},\n",
       " 'h=1, epsilon = 20': {'Mean Accuracies': array([2.44, 2.44]),\n",
       "  'Protected Mean Accuracies:': array([5.85, 5.85]),\n",
       "  '% Change Mean accuracy:': array([-139.58, -139.58]),\n",
       "  '% Change Median accuracy:': array([-82.59, -82.59]),\n",
       "  '% Forecasted Points adjusted downward:': 49.39,\n",
       "  '% Forecasted Points adjusted upward:': 50.61,\n",
       "  '% Series with improved accuracy:': array([28.05, 28.05]),\n",
       "  '% Series with reduced accuracy:': array([71.95, 71.95]),\n",
       "  'Original Mean Absolute Error Upward Adjusted:': 2.8899999999999997,\n",
       "  'Original Mean Absolute Error Downward Adjusted:': 1.9800000000000002,\n",
       "  'Protected Mean Absolute Error Upward Adjusted:': 7.79,\n",
       "  'Protected Mean Absolute Error Downward Adjusted:': 3.8600000000000003},\n",
       " 'h=20, epsilon = 20': {'Mean Accuracies': array([4.75, 5.74]),\n",
       "  'Protected Mean Accuracies:': array([6.88, 7.91]),\n",
       "  '% Change Mean accuracy:': array([-45.03, -37.74]),\n",
       "  '% Change Median accuracy:': array([-18.24, -17.87]),\n",
       "  '% Forecasted Points adjusted downward:': 50.14999999999999,\n",
       "  '% Forecasted Points adjusted upward:': 49.85,\n",
       "  '% Series with improved accuracy:': array([31.71, 32.32]),\n",
       "  '% Series with reduced accuracy:': array([68.29, 67.68]),\n",
       "  'Original Mean Absolute Error Upward Adjusted:': 5.19,\n",
       "  'Original Mean Absolute Error Downward Adjusted:': 4.31,\n",
       "  'Protected Mean Absolute Error Upward Adjusted:': 8.84,\n",
       "  'Protected Mean Absolute Error Downward Adjusted:': 4.9399999999999995}}"
      ]
     },
     "execution_count": 14,
     "metadata": {},
     "output_type": "execute_result"
    }
   ],
   "source": [
    "results_dict_tes"
   ]
  }
 ],
 "metadata": {
  "kernelspec": {
   "display_name": "Python 3 (ipykernel)",
   "language": "python",
   "name": "python3"
  },
  "language_info": {
   "codemirror_mode": {
    "name": "ipython",
    "version": 3
   },
   "file_extension": ".py",
   "mimetype": "text/x-python",
   "name": "python",
   "nbconvert_exporter": "python",
   "pygments_lexer": "ipython3",
   "version": "3.9.7"
  }
 },
 "nbformat": 4,
 "nbformat_minor": 5
}
