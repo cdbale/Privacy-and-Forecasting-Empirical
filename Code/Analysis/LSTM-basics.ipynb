{
 "cells": [
  {
   "cell_type": "markdown",
   "id": "27aa9921",
   "metadata": {},
   "source": [
    "# Basic Code for RNN (LSTM)"
   ]
  },
  {
   "cell_type": "markdown",
   "id": "2df09180",
   "metadata": {},
   "source": [
    "***"
   ]
  },
  {
   "cell_type": "markdown",
   "id": "539281c4",
   "metadata": {},
   "source": [
    "### Notes\n",
    "\n",
    "* Does not support COCOB optimizer.\n",
    "* Does not have peephole options for cells.\n",
    "* Recursive approach to forecasts - always produces forecast of horizon 1 and uses as input for next period.\n",
    "* Using L1 loss.\n",
    "* Hyperparameters in DARTS package available to tune (intervals are from Hewamalage, Bergmeir, Bandara (2021):\n",
    "    * Batch size: 40-100\n",
    "    * Epochs: 3-30\n",
    "    * Epoch size: 2-10\n",
    "    * L2 Reg: 0.0001-0.0008\n",
    "    * Cell dimension: 20-50\n",
    "    * Number layers: 1-2\n",
    "    * Standard deviation of initializer: 0.0001-0.0008\n",
    "    * learning rate (optimizer kwargs): 0.001-0.1\n",
    "    * training length (length of sampled time series) (come up with bounds)"
   ]
  },
  {
   "cell_type": "markdown",
   "id": "1e758034",
   "metadata": {},
   "source": [
    "### Importing Modules and Data"
   ]
  },
  {
   "cell_type": "code",
   "execution_count": 44,
   "id": "c2161b82",
   "metadata": {},
   "outputs": [],
   "source": [
    "from darts import TimeSeries\n",
    "import pandas as pd\n",
    "import numpy as np\n",
    "\n",
    "from data_processing_functions import *\n",
    "\n",
    "from darts.models.forecasting.rnn_model import RNNModel\n",
    "from sktime.performance_metrics.forecasting import mean_absolute_error\n",
    "\n",
    "from torch import nn\n",
    "\n",
    "from sktime.utils.plotting import plot_series"
   ]
  },
  {
   "cell_type": "code",
   "execution_count": 2,
   "id": "851d35bd",
   "metadata": {},
   "outputs": [],
   "source": [
    "# import monthly micro time series\n",
    "# ignore header and skip the first row to use integers as column names\n",
    "full_data = pd.read_csv(\"../../Data/Train/Clean/full_m3_monthly_micro_clean.csv\", header=None, skiprows=1)"
   ]
  },
  {
   "cell_type": "code",
   "execution_count": 3,
   "id": "bb3b3fb4",
   "metadata": {},
   "outputs": [],
   "source": [
    "# convert to a list of series, potentially with different lengths\n",
    "# drop NA values\n",
    "full_data = [x.dropna() for _, x in full_data.iterrows()]"
   ]
  },
  {
   "cell_type": "code",
   "execution_count": 4,
   "id": "4a13ab29",
   "metadata": {},
   "outputs": [],
   "source": [
    "# forecast horizon\n",
    "h = 1"
   ]
  },
  {
   "cell_type": "code",
   "execution_count": 5,
   "id": "5ef6b0c3",
   "metadata": {},
   "outputs": [],
   "source": [
    "# create train and test set using forecast horizon\n",
    "Y = [x.iloc[:-h] for x in full_data]\n",
    "Test = [x.iloc[-h:] for x in full_data]\n",
    "Test = pd.DataFrame([x.reset_index(drop=True) for x in Test]).T"
   ]
  },
  {
   "cell_type": "markdown",
   "id": "46b6164f",
   "metadata": {},
   "source": [
    "***"
   ]
  },
  {
   "cell_type": "code",
   "execution_count": 6,
   "id": "b92e74a4",
   "metadata": {},
   "outputs": [],
   "source": [
    "transform_dict = {\"deseasonalize\": {\"sp\": 12, \"seasonality_type\": \"additive\"}}"
   ]
  },
  {
   "cell_type": "code",
   "execution_count": 7,
   "id": "7bce416d",
   "metadata": {},
   "outputs": [],
   "source": [
    "processed, _, _, _, _ = pre_process(ts_data=Y,\n",
    "                                 target_forecast_period=h,\n",
    "                                 mean_normalize=True,\n",
    "                                 log=True,\n",
    "                                 transform_dict=transform_dict)"
   ]
  },
  {
   "cell_type": "code",
   "execution_count": 8,
   "id": "677288e7",
   "metadata": {},
   "outputs": [],
   "source": [
    "# convert to type np.float32 to speed up training\n",
    "processed = [x.astype(np.float32) for x in processed]"
   ]
  },
  {
   "cell_type": "code",
   "execution_count": 9,
   "id": "f60e2a2c",
   "metadata": {},
   "outputs": [],
   "source": [
    "# convert dataframe index to a RangeIndex\n",
    "for i in range(len(processed)):\n",
    "    processed[i].index = pd.RangeIndex(start=0, stop=processed[i].shape[0]) "
   ]
  },
  {
   "cell_type": "code",
   "execution_count": 10,
   "id": "506c5945",
   "metadata": {},
   "outputs": [],
   "source": [
    "processed = [TimeSeries.from_series(x) for x in processed]"
   ]
  },
  {
   "cell_type": "code",
   "execution_count": 11,
   "id": "f64b7715",
   "metadata": {},
   "outputs": [],
   "source": [
    "# RNN parameters\n",
    "input_chunk_length = 24\n",
    "training_length = 30\n",
    "model = \"LSTM\"\n",
    "MAX_SAMPLES_PER_TS = 5\n",
    "NUM_EPOCHS = 10"
   ]
  },
  {
   "cell_type": "code",
   "execution_count": 12,
   "id": "b9c5ac52",
   "metadata": {},
   "outputs": [],
   "source": [
    "# instantiate the model\n",
    "RNN = RNNModel(input_chunk_length=input_chunk_length,\n",
    "               training_length=training_length,\n",
    "               model=model,\n",
    "               random_state=1,\n",
    "               n_epochs=10)"
   ]
  },
  {
   "cell_type": "markdown",
   "id": "022e74bc",
   "metadata": {},
   "source": [
    "### Model Training"
   ]
  },
  {
   "cell_type": "code",
   "execution_count": 13,
   "id": "3405e811",
   "metadata": {},
   "outputs": [
    {
     "name": "stderr",
     "output_type": "stream",
     "text": [
      "[2022-07-01 09:07:30,932] INFO | darts.models.forecasting.torch_forecasting_model | Train dataset contains 2370 samples.\n",
      "[2022-07-01 09:07:30,932] INFO | darts.models.forecasting.torch_forecasting_model | Train dataset contains 2370 samples.\n",
      "2022-07-01 09:07:30 darts.models.forecasting.torch_forecasting_model INFO: Train dataset contains 2370 samples.\n",
      "[2022-07-01 09:07:30,949] INFO | darts.models.forecasting.torch_forecasting_model | Time series values are 32-bits; casting model to float32.\n",
      "[2022-07-01 09:07:30,949] INFO | darts.models.forecasting.torch_forecasting_model | Time series values are 32-bits; casting model to float32.\n",
      "2022-07-01 09:07:30 darts.models.forecasting.torch_forecasting_model INFO: Time series values are 32-bits; casting model to float32.\n",
      "2022-07-01 09:07:30 pytorch_lightning.utilities.rank_zero INFO: GPU available: False, used: False\n",
      "2022-07-01 09:07:30 pytorch_lightning.utilities.rank_zero INFO: TPU available: False, using: 0 TPU cores\n",
      "2022-07-01 09:07:30 pytorch_lightning.utilities.rank_zero INFO: IPU available: False, using: 0 IPUs\n",
      "2022-07-01 09:07:30 pytorch_lightning.utilities.rank_zero INFO: HPU available: False, using: 0 HPUs\n",
      "2022-07-01 09:07:30 pytorch_lightning.callbacks.model_summary INFO: \n",
      "  | Name      | Type    | Params\n",
      "--------------------------------------\n",
      "0 | criterion | MSELoss | 0     \n",
      "1 | rnn       | LSTM    | 2.8 K \n",
      "2 | V         | Linear  | 26    \n",
      "--------------------------------------\n",
      "2.8 K     Trainable params\n",
      "0         Non-trainable params\n",
      "2.8 K     Total params\n",
      "0.011     Total estimated model params size (MB)\n"
     ]
    },
    {
     "data": {
      "application/vnd.jupyter.widget-view+json": {
       "model_id": "b33e1569e0fa4a649708f5a4b8e2dac2",
       "version_major": 2,
       "version_minor": 0
      },
      "text/plain": [
       "Training: 0it [00:00, ?it/s]"
      ]
     },
     "metadata": {},
     "output_type": "display_data"
    },
    {
     "data": {
      "text/plain": [
       "<darts.models.forecasting.rnn_model.RNNModel at 0x233dcd9c1f0>"
      ]
     },
     "execution_count": 13,
     "metadata": {},
     "output_type": "execute_result"
    }
   ],
   "source": [
    "# fit the model\n",
    "RNN.fit(series=processed, max_samples_per_ts=MAX_SAMPLES_PER_TS)"
   ]
  },
  {
   "cell_type": "markdown",
   "id": "801795a7",
   "metadata": {},
   "source": [
    "***"
   ]
  },
  {
   "cell_type": "markdown",
   "id": "5dffb217",
   "metadata": {},
   "source": [
    "### Creating Subsets of Series with the same length and convertime to `TimeSeries` object."
   ]
  },
  {
   "cell_type": "code",
   "execution_count": 14,
   "id": "0f88bcec",
   "metadata": {},
   "outputs": [],
   "source": [
    "# # find all series lengths\n",
    "# ts_lengths = [len(y) for y in Y]"
   ]
  },
  {
   "cell_type": "code",
   "execution_count": 15,
   "id": "d1dfb853",
   "metadata": {},
   "outputs": [],
   "source": [
    "# # find the unique lengths\n",
    "# unique_lengths = np.unique(ts_lengths)"
   ]
  },
  {
   "cell_type": "code",
   "execution_count": 16,
   "id": "4cbbe1fd",
   "metadata": {},
   "outputs": [],
   "source": [
    "# length_clusters = [[i for i in np.where(ts_lengths == unique_lengths[j])[0]] for j in range(len(unique_lengths))]"
   ]
  },
  {
   "cell_type": "code",
   "execution_count": 17,
   "id": "1c1f6b5c",
   "metadata": {},
   "outputs": [],
   "source": [
    "# # pick a cluster for testing\n",
    "# cluster_num = 0"
   ]
  },
  {
   "cell_type": "code",
   "execution_count": 18,
   "id": "4136d1cf",
   "metadata": {},
   "outputs": [],
   "source": [
    "# # define a cluster of series with the same length\n",
    "# cluster_1 = [Y[i] for i in length_clusters[cluster_num]]\n",
    "# # valid_1 = [validation[i] for i in length_clusters[cluster_num]]"
   ]
  },
  {
   "cell_type": "markdown",
   "id": "d03159df",
   "metadata": {},
   "source": [
    "### Pre-process the Data"
   ]
  },
  {
   "cell_type": "code",
   "execution_count": 19,
   "id": "a9ea0261",
   "metadata": {},
   "outputs": [],
   "source": [
    "# transform_dict = {\"deseasonalize\": {\"sp\": 12, \"seasonality_type\": \"additive\"}}"
   ]
  },
  {
   "cell_type": "code",
   "execution_count": 20,
   "id": "761c877c",
   "metadata": {},
   "outputs": [],
   "source": [
    "# processed, _, _, _ = pre_process(ts_data=cluster_1,\n",
    "#                                  target_forecast_period=h,\n",
    "#                                  mean_normalize=True,\n",
    "#                                  log=True,\n",
    "#                                  transform_dict=transform_dict)"
   ]
  },
  {
   "cell_type": "code",
   "execution_count": 21,
   "id": "0374ca50",
   "metadata": {},
   "outputs": [],
   "source": [
    "# convert to type np.float32 to speed up training\n",
    "# processed = [x.astype(np.float32) for x in processed]"
   ]
  },
  {
   "cell_type": "code",
   "execution_count": 22,
   "id": "ea781d06",
   "metadata": {},
   "outputs": [],
   "source": [
    "# # concatenate series into dataframe\n",
    "# processed_df = pd.concat(processed, axis=1)"
   ]
  },
  {
   "cell_type": "code",
   "execution_count": 23,
   "id": "30c897b8",
   "metadata": {},
   "outputs": [],
   "source": [
    "# # convert dataframe index to a RangeIndex\n",
    "# processed_df.index = pd.RangeIndex(start=0, stop=processed_df.shape[0])"
   ]
  },
  {
   "cell_type": "code",
   "execution_count": 24,
   "id": "faaccdf1",
   "metadata": {},
   "outputs": [],
   "source": [
    "# # convert dataframe to TimeSeries object\n",
    "# ts_data = TimeSeries.from_dataframe(df=processed_df)"
   ]
  },
  {
   "cell_type": "markdown",
   "id": "31fdd9b2",
   "metadata": {},
   "source": [
    "***"
   ]
  },
  {
   "cell_type": "markdown",
   "id": "46cf6ead",
   "metadata": {},
   "source": [
    "### Model Setup"
   ]
  },
  {
   "cell_type": "code",
   "execution_count": 25,
   "id": "b947db46",
   "metadata": {},
   "outputs": [],
   "source": [
    "# # RNN parameters\n",
    "# input_chunk_length = 24\n",
    "# training_length = 36\n",
    "# model = \"LSTM\""
   ]
  },
  {
   "cell_type": "code",
   "execution_count": 26,
   "id": "b7393b72",
   "metadata": {},
   "outputs": [],
   "source": [
    "# # instantiate the model\n",
    "# RNN = RNNModel(input_chunk_length=input_chunk_length,\n",
    "#                training_length=training_length,\n",
    "#                model=model,\n",
    "#                random_state=1)"
   ]
  },
  {
   "cell_type": "markdown",
   "id": "fb62b118",
   "metadata": {},
   "source": [
    "### Model Training"
   ]
  },
  {
   "cell_type": "code",
   "execution_count": 27,
   "id": "892f7a5a",
   "metadata": {},
   "outputs": [],
   "source": [
    "# # fit the model\n",
    "# RNN.fit(series=ts_data)"
   ]
  },
  {
   "cell_type": "markdown",
   "id": "bd62e695",
   "metadata": {},
   "source": [
    "### Generate Forecasts"
   ]
  },
  {
   "cell_type": "code",
   "execution_count": 46,
   "id": "bcdf9796",
   "metadata": {},
   "outputs": [
    {
     "data": {
      "application/vnd.jupyter.widget-view+json": {
       "model_id": "7cf702dc94ab455293e792612a411e51",
       "version_major": 2,
       "version_minor": 0
      },
      "text/plain": [
       "Predicting: 75it [00:00, ?it/s]"
      ]
     },
     "metadata": {},
     "output_type": "display_data"
    },
    {
     "data": {
      "application/vnd.jupyter.widget-view+json": {
       "model_id": "8c639b501abc468797ae6db24aed9ba3",
       "version_major": 2,
       "version_minor": 0
      },
      "text/plain": [
       "Predicting: 75it [00:00, ?it/s]"
      ]
     },
     "metadata": {},
     "output_type": "display_data"
    },
    {
     "data": {
      "application/vnd.jupyter.widget-view+json": {
       "model_id": "c9b9763490d44d7c9da1934c73f04772",
       "version_major": 2,
       "version_minor": 0
      },
      "text/plain": [
       "Predicting: 75it [00:00, ?it/s]"
      ]
     },
     "metadata": {},
     "output_type": "display_data"
    },
    {
     "data": {
      "application/vnd.jupyter.widget-view+json": {
       "model_id": "3e86f52f2c7741c8ad60975473b80848",
       "version_major": 2,
       "version_minor": 0
      },
      "text/plain": [
       "Predicting: 75it [00:00, ?it/s]"
      ]
     },
     "metadata": {},
     "output_type": "display_data"
    },
    {
     "data": {
      "application/vnd.jupyter.widget-view+json": {
       "model_id": "a914cc7cd51144cda9a2e0f3af6d75c5",
       "version_major": 2,
       "version_minor": 0
      },
      "text/plain": [
       "Predicting: 75it [00:00, ?it/s]"
      ]
     },
     "metadata": {},
     "output_type": "display_data"
    },
    {
     "data": {
      "application/vnd.jupyter.widget-view+json": {
       "model_id": "47f3d7e9a2784a19918cb587aa7391e1",
       "version_major": 2,
       "version_minor": 0
      },
      "text/plain": [
       "Predicting: 75it [00:00, ?it/s]"
      ]
     },
     "metadata": {},
     "output_type": "display_data"
    },
    {
     "data": {
      "application/vnd.jupyter.widget-view+json": {
       "model_id": "43f387e85c8f4c81b081ba661133b293",
       "version_major": 2,
       "version_minor": 0
      },
      "text/plain": [
       "Predicting: 75it [00:00, ?it/s]"
      ]
     },
     "metadata": {},
     "output_type": "display_data"
    },
    {
     "data": {
      "application/vnd.jupyter.widget-view+json": {
       "model_id": "5f093e458cd34e71b6997cfb69a24f28",
       "version_major": 2,
       "version_minor": 0
      },
      "text/plain": [
       "Predicting: 75it [00:00, ?it/s]"
      ]
     },
     "metadata": {},
     "output_type": "display_data"
    },
    {
     "data": {
      "application/vnd.jupyter.widget-view+json": {
       "model_id": "f4cc5f3380fd4e60a6396c682a9e60c3",
       "version_major": 2,
       "version_minor": 0
      },
      "text/plain": [
       "Predicting: 75it [00:00, ?it/s]"
      ]
     },
     "metadata": {},
     "output_type": "display_data"
    },
    {
     "data": {
      "application/vnd.jupyter.widget-view+json": {
       "model_id": "e521da8b38414014b6c0199740a046ec",
       "version_major": 2,
       "version_minor": 0
      },
      "text/plain": [
       "Predicting: 75it [00:00, ?it/s]"
      ]
     },
     "metadata": {},
     "output_type": "display_data"
    },
    {
     "data": {
      "application/vnd.jupyter.widget-view+json": {
       "model_id": "f2dc733971834a9eaa7841533c05fd49",
       "version_major": 2,
       "version_minor": 0
      },
      "text/plain": [
       "Predicting: 75it [00:00, ?it/s]"
      ]
     },
     "metadata": {},
     "output_type": "display_data"
    },
    {
     "data": {
      "application/vnd.jupyter.widget-view+json": {
       "model_id": "4625fe37315047779ac88508e1cd921a",
       "version_major": 2,
       "version_minor": 0
      },
      "text/plain": [
       "Predicting: 75it [00:00, ?it/s]"
      ]
     },
     "metadata": {},
     "output_type": "display_data"
    },
    {
     "data": {
      "application/vnd.jupyter.widget-view+json": {
       "model_id": "1331f9c396c840ab9107084dab20f2bc",
       "version_major": 2,
       "version_minor": 0
      },
      "text/plain": [
       "Predicting: 75it [00:00, ?it/s]"
      ]
     },
     "metadata": {},
     "output_type": "display_data"
    },
    {
     "data": {
      "application/vnd.jupyter.widget-view+json": {
       "model_id": "acccc82da68f47b1890cda5b7c7b7a79",
       "version_major": 2,
       "version_minor": 0
      },
      "text/plain": [
       "Predicting: 75it [00:00, ?it/s]"
      ]
     },
     "metadata": {},
     "output_type": "display_data"
    },
    {
     "data": {
      "application/vnd.jupyter.widget-view+json": {
       "model_id": "019ee3994b3542439f75e66dce312fe0",
       "version_major": 2,
       "version_minor": 0
      },
      "text/plain": [
       "Predicting: 75it [00:00, ?it/s]"
      ]
     },
     "metadata": {},
     "output_type": "display_data"
    },
    {
     "data": {
      "application/vnd.jupyter.widget-view+json": {
       "model_id": "b2d96ccffa4f48a09e9fa811072d4a39",
       "version_major": 2,
       "version_minor": 0
      },
      "text/plain": [
       "Predicting: 75it [00:00, ?it/s]"
      ]
     },
     "metadata": {},
     "output_type": "display_data"
    },
    {
     "data": {
      "application/vnd.jupyter.widget-view+json": {
       "model_id": "488631013b224d1bb3f9de0a84a7af7e",
       "version_major": 2,
       "version_minor": 0
      },
      "text/plain": [
       "Predicting: 75it [00:00, ?it/s]"
      ]
     },
     "metadata": {},
     "output_type": "display_data"
    },
    {
     "data": {
      "application/vnd.jupyter.widget-view+json": {
       "model_id": "59181a2cf12f4001952b92472a3b170f",
       "version_major": 2,
       "version_minor": 0
      },
      "text/plain": [
       "Predicting: 75it [00:00, ?it/s]"
      ]
     },
     "metadata": {},
     "output_type": "display_data"
    },
    {
     "data": {
      "application/vnd.jupyter.widget-view+json": {
       "model_id": "9f256374e47049c7b77da609c7b439f1",
       "version_major": 2,
       "version_minor": 0
      },
      "text/plain": [
       "Predicting: 75it [00:00, ?it/s]"
      ]
     },
     "metadata": {},
     "output_type": "display_data"
    },
    {
     "data": {
      "application/vnd.jupyter.widget-view+json": {
       "model_id": "63cb48742688456abaa19b5a3313be49",
       "version_major": 2,
       "version_minor": 0
      },
      "text/plain": [
       "Predicting: 75it [00:00, ?it/s]"
      ]
     },
     "metadata": {},
     "output_type": "display_data"
    },
    {
     "data": {
      "application/vnd.jupyter.widget-view+json": {
       "model_id": "4dec7adeca574b41909a2d951de77309",
       "version_major": 2,
       "version_minor": 0
      },
      "text/plain": [
       "Predicting: 75it [00:00, ?it/s]"
      ]
     },
     "metadata": {},
     "output_type": "display_data"
    },
    {
     "data": {
      "application/vnd.jupyter.widget-view+json": {
       "model_id": "bb9266b58a594936aaab5d40b7e45215",
       "version_major": 2,
       "version_minor": 0
      },
      "text/plain": [
       "Predicting: 75it [00:00, ?it/s]"
      ]
     },
     "metadata": {},
     "output_type": "display_data"
    },
    {
     "data": {
      "application/vnd.jupyter.widget-view+json": {
       "model_id": "d347c1ce01c842edaf4c0b3f1e186d4c",
       "version_major": 2,
       "version_minor": 0
      },
      "text/plain": [
       "Predicting: 75it [00:00, ?it/s]"
      ]
     },
     "metadata": {},
     "output_type": "display_data"
    },
    {
     "data": {
      "application/vnd.jupyter.widget-view+json": {
       "model_id": "5ef17c4980f5416b8e9b49a9a0e6a49c",
       "version_major": 2,
       "version_minor": 0
      },
      "text/plain": [
       "Predicting: 75it [00:00, ?it/s]"
      ]
     },
     "metadata": {},
     "output_type": "display_data"
    },
    {
     "data": {
      "application/vnd.jupyter.widget-view+json": {
       "model_id": "96b80278b8e04131bd316664ef6aace0",
       "version_major": 2,
       "version_minor": 0
      },
      "text/plain": [
       "Predicting: 75it [00:00, ?it/s]"
      ]
     },
     "metadata": {},
     "output_type": "display_data"
    },
    {
     "data": {
      "application/vnd.jupyter.widget-view+json": {
       "model_id": "e92acd805b334421b6ca616ea921ba5d",
       "version_major": 2,
       "version_minor": 0
      },
      "text/plain": [
       "Predicting: 75it [00:00, ?it/s]"
      ]
     },
     "metadata": {},
     "output_type": "display_data"
    },
    {
     "data": {
      "application/vnd.jupyter.widget-view+json": {
       "model_id": "872ce6bc23314399a1d8fd3e5763d341",
       "version_major": 2,
       "version_minor": 0
      },
      "text/plain": [
       "Predicting: 75it [00:00, ?it/s]"
      ]
     },
     "metadata": {},
     "output_type": "display_data"
    },
    {
     "data": {
      "application/vnd.jupyter.widget-view+json": {
       "model_id": "ded989df4852468ebda0143ef5ce66c1",
       "version_major": 2,
       "version_minor": 0
      },
      "text/plain": [
       "Predicting: 75it [00:00, ?it/s]"
      ]
     },
     "metadata": {},
     "output_type": "display_data"
    },
    {
     "data": {
      "application/vnd.jupyter.widget-view+json": {
       "model_id": "c16ac0a6505f463eacf4b5297a039d62",
       "version_major": 2,
       "version_minor": 0
      },
      "text/plain": [
       "Predicting: 75it [00:00, ?it/s]"
      ]
     },
     "metadata": {},
     "output_type": "display_data"
    },
    {
     "data": {
      "application/vnd.jupyter.widget-view+json": {
       "model_id": "4dd55be96ccf4207bfd542d2e90afb1a",
       "version_major": 2,
       "version_minor": 0
      },
      "text/plain": [
       "Predicting: 75it [00:00, ?it/s]"
      ]
     },
     "metadata": {},
     "output_type": "display_data"
    },
    {
     "data": {
      "application/vnd.jupyter.widget-view+json": {
       "model_id": "0fe59825b55e42d18d7df2c5d1f4c851",
       "version_major": 2,
       "version_minor": 0
      },
      "text/plain": [
       "Predicting: 75it [00:00, ?it/s]"
      ]
     },
     "metadata": {},
     "output_type": "display_data"
    },
    {
     "data": {
      "application/vnd.jupyter.widget-view+json": {
       "model_id": "4509aca0d3b44a26b674f91950e7c533",
       "version_major": 2,
       "version_minor": 0
      },
      "text/plain": [
       "Predicting: 75it [00:00, ?it/s]"
      ]
     },
     "metadata": {},
     "output_type": "display_data"
    },
    {
     "data": {
      "application/vnd.jupyter.widget-view+json": {
       "model_id": "086b0ff3dcf041bc999aafe8b96f7034",
       "version_major": 2,
       "version_minor": 0
      },
      "text/plain": [
       "Predicting: 75it [00:00, ?it/s]"
      ]
     },
     "metadata": {},
     "output_type": "display_data"
    },
    {
     "data": {
      "application/vnd.jupyter.widget-view+json": {
       "model_id": "8ac52b0cc8fd47f4a5c369b421aceb09",
       "version_major": 2,
       "version_minor": 0
      },
      "text/plain": [
       "Predicting: 75it [00:00, ?it/s]"
      ]
     },
     "metadata": {},
     "output_type": "display_data"
    },
    {
     "data": {
      "application/vnd.jupyter.widget-view+json": {
       "model_id": "d1849bcd52684e1fb8d1b262b73913b1",
       "version_major": 2,
       "version_minor": 0
      },
      "text/plain": [
       "Predicting: 75it [00:00, ?it/s]"
      ]
     },
     "metadata": {},
     "output_type": "display_data"
    },
    {
     "data": {
      "application/vnd.jupyter.widget-view+json": {
       "model_id": "9c6bd2cdf6de42cc8e352d796de2318e",
       "version_major": 2,
       "version_minor": 0
      },
      "text/plain": [
       "Predicting: 75it [00:00, ?it/s]"
      ]
     },
     "metadata": {},
     "output_type": "display_data"
    },
    {
     "data": {
      "application/vnd.jupyter.widget-view+json": {
       "model_id": "9131402034cc4a47b5543f975dcedf1b",
       "version_major": 2,
       "version_minor": 0
      },
      "text/plain": [
       "Predicting: 75it [00:00, ?it/s]"
      ]
     },
     "metadata": {},
     "output_type": "display_data"
    },
    {
     "data": {
      "application/vnd.jupyter.widget-view+json": {
       "model_id": "92b6c0641dcd4ca28ae758b214fdfd5f",
       "version_major": 2,
       "version_minor": 0
      },
      "text/plain": [
       "Predicting: 75it [00:00, ?it/s]"
      ]
     },
     "metadata": {},
     "output_type": "display_data"
    },
    {
     "data": {
      "application/vnd.jupyter.widget-view+json": {
       "model_id": "e1597a64bc07456bb9acfdb3beaf1fc5",
       "version_major": 2,
       "version_minor": 0
      },
      "text/plain": [
       "Predicting: 75it [00:00, ?it/s]"
      ]
     },
     "metadata": {},
     "output_type": "display_data"
    },
    {
     "data": {
      "application/vnd.jupyter.widget-view+json": {
       "model_id": "a58a33cd07c8427780eac65a6fbef581",
       "version_major": 2,
       "version_minor": 0
      },
      "text/plain": [
       "Predicting: 75it [00:00, ?it/s]"
      ]
     },
     "metadata": {},
     "output_type": "display_data"
    },
    {
     "data": {
      "application/vnd.jupyter.widget-view+json": {
       "model_id": "0e03b349098d4d68a3b1b8dc06940d74",
       "version_major": 2,
       "version_minor": 0
      },
      "text/plain": [
       "Predicting: 75it [00:00, ?it/s]"
      ]
     },
     "metadata": {},
     "output_type": "display_data"
    },
    {
     "data": {
      "application/vnd.jupyter.widget-view+json": {
       "model_id": "fe7bd4b8d7064f0085d82d85c0168cc2",
       "version_major": 2,
       "version_minor": 0
      },
      "text/plain": [
       "Predicting: 75it [00:00, ?it/s]"
      ]
     },
     "metadata": {},
     "output_type": "display_data"
    },
    {
     "data": {
      "application/vnd.jupyter.widget-view+json": {
       "model_id": "39d2bf0601024da087c543dbe518b0be",
       "version_major": 2,
       "version_minor": 0
      },
      "text/plain": [
       "Predicting: 75it [00:00, ?it/s]"
      ]
     },
     "metadata": {},
     "output_type": "display_data"
    },
    {
     "data": {
      "application/vnd.jupyter.widget-view+json": {
       "model_id": "2bc695252ab441c0bd4ee2a0e80d9fba",
       "version_major": 2,
       "version_minor": 0
      },
      "text/plain": [
       "Predicting: 75it [00:00, ?it/s]"
      ]
     },
     "metadata": {},
     "output_type": "display_data"
    },
    {
     "data": {
      "application/vnd.jupyter.widget-view+json": {
       "model_id": "596fdaa147854b39b0d11e20922a2e70",
       "version_major": 2,
       "version_minor": 0
      },
      "text/plain": [
       "Predicting: 75it [00:00, ?it/s]"
      ]
     },
     "metadata": {},
     "output_type": "display_data"
    },
    {
     "data": {
      "application/vnd.jupyter.widget-view+json": {
       "model_id": "cb0679b733024880b5632737a0e440ca",
       "version_major": 2,
       "version_minor": 0
      },
      "text/plain": [
       "Predicting: 75it [00:00, ?it/s]"
      ]
     },
     "metadata": {},
     "output_type": "display_data"
    },
    {
     "data": {
      "application/vnd.jupyter.widget-view+json": {
       "model_id": "ed922f1197d840689a3169e267cb6127",
       "version_major": 2,
       "version_minor": 0
      },
      "text/plain": [
       "Predicting: 75it [00:00, ?it/s]"
      ]
     },
     "metadata": {},
     "output_type": "display_data"
    },
    {
     "data": {
      "application/vnd.jupyter.widget-view+json": {
       "model_id": "26463d90dc6f447c92071d31bf7d3539",
       "version_major": 2,
       "version_minor": 0
      },
      "text/plain": [
       "Predicting: 75it [00:00, ?it/s]"
      ]
     },
     "metadata": {},
     "output_type": "display_data"
    },
    {
     "data": {
      "application/vnd.jupyter.widget-view+json": {
       "model_id": "5027dd3fe3df4c378e2872becc7e3e77",
       "version_major": 2,
       "version_minor": 0
      },
      "text/plain": [
       "Predicting: 75it [00:00, ?it/s]"
      ]
     },
     "metadata": {},
     "output_type": "display_data"
    },
    {
     "data": {
      "application/vnd.jupyter.widget-view+json": {
       "model_id": "be76d2f498e54d7db4d0cfda779d3970",
       "version_major": 2,
       "version_minor": 0
      },
      "text/plain": [
       "Predicting: 75it [00:00, ?it/s]"
      ]
     },
     "metadata": {},
     "output_type": "display_data"
    },
    {
     "data": {
      "application/vnd.jupyter.widget-view+json": {
       "model_id": "a4c278e32d22456cae9bf38b064c1045",
       "version_major": 2,
       "version_minor": 0
      },
      "text/plain": [
       "Predicting: 75it [00:00, ?it/s]"
      ]
     },
     "metadata": {},
     "output_type": "display_data"
    },
    {
     "data": {
      "application/vnd.jupyter.widget-view+json": {
       "model_id": "ec68a125e1ba4b6080517c58c4486f6b",
       "version_major": 2,
       "version_minor": 0
      },
      "text/plain": [
       "Predicting: 75it [00:00, ?it/s]"
      ]
     },
     "metadata": {},
     "output_type": "display_data"
    },
    {
     "data": {
      "application/vnd.jupyter.widget-view+json": {
       "model_id": "d87f8623e6964b86bf5dacc520462358",
       "version_major": 2,
       "version_minor": 0
      },
      "text/plain": [
       "Predicting: 75it [00:00, ?it/s]"
      ]
     },
     "metadata": {},
     "output_type": "display_data"
    },
    {
     "data": {
      "application/vnd.jupyter.widget-view+json": {
       "model_id": "b46458e60b8f43a3978c8f8e5600b0c6",
       "version_major": 2,
       "version_minor": 0
      },
      "text/plain": [
       "Predicting: 75it [00:00, ?it/s]"
      ]
     },
     "metadata": {},
     "output_type": "display_data"
    },
    {
     "data": {
      "application/vnd.jupyter.widget-view+json": {
       "model_id": "966162652cf64cd68c4b2bd6f993fa89",
       "version_major": 2,
       "version_minor": 0
      },
      "text/plain": [
       "Predicting: 75it [00:00, ?it/s]"
      ]
     },
     "metadata": {},
     "output_type": "display_data"
    },
    {
     "data": {
      "application/vnd.jupyter.widget-view+json": {
       "model_id": "b51864f3b2854b55864d8c0a5faad2e7",
       "version_major": 2,
       "version_minor": 0
      },
      "text/plain": [
       "Predicting: 75it [00:00, ?it/s]"
      ]
     },
     "metadata": {},
     "output_type": "display_data"
    },
    {
     "data": {
      "application/vnd.jupyter.widget-view+json": {
       "model_id": "59ed2f909a9f4b3f9aeab84a9cbc7c8f",
       "version_major": 2,
       "version_minor": 0
      },
      "text/plain": [
       "Predicting: 75it [00:00, ?it/s]"
      ]
     },
     "metadata": {},
     "output_type": "display_data"
    },
    {
     "data": {
      "application/vnd.jupyter.widget-view+json": {
       "model_id": "cac7396da32648ff8f66c143a1271ebd",
       "version_major": 2,
       "version_minor": 0
      },
      "text/plain": [
       "Predicting: 75it [00:00, ?it/s]"
      ]
     },
     "metadata": {},
     "output_type": "display_data"
    },
    {
     "data": {
      "application/vnd.jupyter.widget-view+json": {
       "model_id": "93993258e9774f2bb20a58c9b12becde",
       "version_major": 2,
       "version_minor": 0
      },
      "text/plain": [
       "Predicting: 75it [00:00, ?it/s]"
      ]
     },
     "metadata": {},
     "output_type": "display_data"
    },
    {
     "data": {
      "application/vnd.jupyter.widget-view+json": {
       "model_id": "0b7777e4c3a3422e9d9876c03b6d0ebf",
       "version_major": 2,
       "version_minor": 0
      },
      "text/plain": [
       "Predicting: 75it [00:00, ?it/s]"
      ]
     },
     "metadata": {},
     "output_type": "display_data"
    },
    {
     "data": {
      "application/vnd.jupyter.widget-view+json": {
       "model_id": "a1659cf4ce584ffdb648aa6e26e8328c",
       "version_major": 2,
       "version_minor": 0
      },
      "text/plain": [
       "Predicting: 75it [00:00, ?it/s]"
      ]
     },
     "metadata": {},
     "output_type": "display_data"
    },
    {
     "data": {
      "application/vnd.jupyter.widget-view+json": {
       "model_id": "b72a003b0551421385ff4381eb9d15a3",
       "version_major": 2,
       "version_minor": 0
      },
      "text/plain": [
       "Predicting: 75it [00:00, ?it/s]"
      ]
     },
     "metadata": {},
     "output_type": "display_data"
    },
    {
     "data": {
      "application/vnd.jupyter.widget-view+json": {
       "model_id": "6897dd61b7de4e36ab5d9c8c099c7928",
       "version_major": 2,
       "version_minor": 0
      },
      "text/plain": [
       "Predicting: 75it [00:00, ?it/s]"
      ]
     },
     "metadata": {},
     "output_type": "display_data"
    },
    {
     "data": {
      "application/vnd.jupyter.widget-view+json": {
       "model_id": "083d0d7f3f064597b4ab19e80b88ce63",
       "version_major": 2,
       "version_minor": 0
      },
      "text/plain": [
       "Predicting: 75it [00:00, ?it/s]"
      ]
     },
     "metadata": {},
     "output_type": "display_data"
    },
    {
     "data": {
      "application/vnd.jupyter.widget-view+json": {
       "model_id": "9d05acda8fc0479990ac3e6217f4e3ad",
       "version_major": 2,
       "version_minor": 0
      },
      "text/plain": [
       "Predicting: 75it [00:00, ?it/s]"
      ]
     },
     "metadata": {},
     "output_type": "display_data"
    },
    {
     "data": {
      "application/vnd.jupyter.widget-view+json": {
       "model_id": "b9a9e8626927476c95be9501e10d92ef",
       "version_major": 2,
       "version_minor": 0
      },
      "text/plain": [
       "Predicting: 75it [00:00, ?it/s]"
      ]
     },
     "metadata": {},
     "output_type": "display_data"
    },
    {
     "data": {
      "application/vnd.jupyter.widget-view+json": {
       "model_id": "e70d91df1bb34278b48e673b178f40eb",
       "version_major": 2,
       "version_minor": 0
      },
      "text/plain": [
       "Predicting: 75it [00:00, ?it/s]"
      ]
     },
     "metadata": {},
     "output_type": "display_data"
    },
    {
     "data": {
      "application/vnd.jupyter.widget-view+json": {
       "model_id": "8de4faa3ef314940bd7ef5650d52ad55",
       "version_major": 2,
       "version_minor": 0
      },
      "text/plain": [
       "Predicting: 75it [00:00, ?it/s]"
      ]
     },
     "metadata": {},
     "output_type": "display_data"
    },
    {
     "data": {
      "application/vnd.jupyter.widget-view+json": {
       "model_id": "fee5b7b27473441788489cc7ada2f0ce",
       "version_major": 2,
       "version_minor": 0
      },
      "text/plain": [
       "Predicting: 75it [00:00, ?it/s]"
      ]
     },
     "metadata": {},
     "output_type": "display_data"
    },
    {
     "data": {
      "application/vnd.jupyter.widget-view+json": {
       "model_id": "64d41b7b58314e75992c2e723713a625",
       "version_major": 2,
       "version_minor": 0
      },
      "text/plain": [
       "Predicting: 75it [00:00, ?it/s]"
      ]
     },
     "metadata": {},
     "output_type": "display_data"
    },
    {
     "data": {
      "application/vnd.jupyter.widget-view+json": {
       "model_id": "18c4e836acfb43bd8e52d382b7daf0c0",
       "version_major": 2,
       "version_minor": 0
      },
      "text/plain": [
       "Predicting: 75it [00:00, ?it/s]"
      ]
     },
     "metadata": {},
     "output_type": "display_data"
    },
    {
     "data": {
      "application/vnd.jupyter.widget-view+json": {
       "model_id": "8d41f39ec6cf4c8b9f1e4f10c8bdab18",
       "version_major": 2,
       "version_minor": 0
      },
      "text/plain": [
       "Predicting: 75it [00:00, ?it/s]"
      ]
     },
     "metadata": {},
     "output_type": "display_data"
    },
    {
     "data": {
      "application/vnd.jupyter.widget-view+json": {
       "model_id": "7afb06a10865443285a51a5d469d391f",
       "version_major": 2,
       "version_minor": 0
      },
      "text/plain": [
       "Predicting: 75it [00:00, ?it/s]"
      ]
     },
     "metadata": {},
     "output_type": "display_data"
    },
    {
     "data": {
      "application/vnd.jupyter.widget-view+json": {
       "model_id": "d7ec4edf19d54624bad6abcba3b47b70",
       "version_major": 2,
       "version_minor": 0
      },
      "text/plain": [
       "Predicting: 75it [00:00, ?it/s]"
      ]
     },
     "metadata": {},
     "output_type": "display_data"
    },
    {
     "data": {
      "application/vnd.jupyter.widget-view+json": {
       "model_id": "f9e0c6d027564e7f855a5bc95cc1e22a",
       "version_major": 2,
       "version_minor": 0
      },
      "text/plain": [
       "Predicting: 75it [00:00, ?it/s]"
      ]
     },
     "metadata": {},
     "output_type": "display_data"
    },
    {
     "data": {
      "application/vnd.jupyter.widget-view+json": {
       "model_id": "19d260948cf445258b38d56c0e5c0060",
       "version_major": 2,
       "version_minor": 0
      },
      "text/plain": [
       "Predicting: 75it [00:00, ?it/s]"
      ]
     },
     "metadata": {},
     "output_type": "display_data"
    },
    {
     "data": {
      "application/vnd.jupyter.widget-view+json": {
       "model_id": "e5a4691ca45d4bf59acb281aec657435",
       "version_major": 2,
       "version_minor": 0
      },
      "text/plain": [
       "Predicting: 75it [00:00, ?it/s]"
      ]
     },
     "metadata": {},
     "output_type": "display_data"
    },
    {
     "data": {
      "application/vnd.jupyter.widget-view+json": {
       "model_id": "01489bf3b70948de9e6fb31f2bf2cd44",
       "version_major": 2,
       "version_minor": 0
      },
      "text/plain": [
       "Predicting: 75it [00:00, ?it/s]"
      ]
     },
     "metadata": {},
     "output_type": "display_data"
    },
    {
     "data": {
      "application/vnd.jupyter.widget-view+json": {
       "model_id": "b3e15aa653f84830a0860ef6de6d0cc5",
       "version_major": 2,
       "version_minor": 0
      },
      "text/plain": [
       "Predicting: 75it [00:00, ?it/s]"
      ]
     },
     "metadata": {},
     "output_type": "display_data"
    },
    {
     "data": {
      "application/vnd.jupyter.widget-view+json": {
       "model_id": "6ba3587eb84d47f3bfc71dc2e35907d2",
       "version_major": 2,
       "version_minor": 0
      },
      "text/plain": [
       "Predicting: 75it [00:00, ?it/s]"
      ]
     },
     "metadata": {},
     "output_type": "display_data"
    },
    {
     "data": {
      "application/vnd.jupyter.widget-view+json": {
       "model_id": "ddb5f561d50e409387713539b3e0de90",
       "version_major": 2,
       "version_minor": 0
      },
      "text/plain": [
       "Predicting: 75it [00:00, ?it/s]"
      ]
     },
     "metadata": {},
     "output_type": "display_data"
    },
    {
     "data": {
      "application/vnd.jupyter.widget-view+json": {
       "model_id": "45a65fd5a8c94fc59df51e7282836f4f",
       "version_major": 2,
       "version_minor": 0
      },
      "text/plain": [
       "Predicting: 75it [00:00, ?it/s]"
      ]
     },
     "metadata": {},
     "output_type": "display_data"
    },
    {
     "data": {
      "application/vnd.jupyter.widget-view+json": {
       "model_id": "6bad86688258474fab68b998555d9c18",
       "version_major": 2,
       "version_minor": 0
      },
      "text/plain": [
       "Predicting: 75it [00:00, ?it/s]"
      ]
     },
     "metadata": {},
     "output_type": "display_data"
    },
    {
     "data": {
      "application/vnd.jupyter.widget-view+json": {
       "model_id": "4dfa7cc24d3e48529f8ef3ff5199296b",
       "version_major": 2,
       "version_minor": 0
      },
      "text/plain": [
       "Predicting: 75it [00:00, ?it/s]"
      ]
     },
     "metadata": {},
     "output_type": "display_data"
    },
    {
     "data": {
      "application/vnd.jupyter.widget-view+json": {
       "model_id": "9f0a445532ac45728854279b1e7952ea",
       "version_major": 2,
       "version_minor": 0
      },
      "text/plain": [
       "Predicting: 75it [00:00, ?it/s]"
      ]
     },
     "metadata": {},
     "output_type": "display_data"
    },
    {
     "data": {
      "application/vnd.jupyter.widget-view+json": {
       "model_id": "441806cd4c8d4d31ba0c383f64cc2b69",
       "version_major": 2,
       "version_minor": 0
      },
      "text/plain": [
       "Predicting: 75it [00:00, ?it/s]"
      ]
     },
     "metadata": {},
     "output_type": "display_data"
    },
    {
     "data": {
      "application/vnd.jupyter.widget-view+json": {
       "model_id": "d7062f711560404e9cd1f156d2e72966",
       "version_major": 2,
       "version_minor": 0
      },
      "text/plain": [
       "Predicting: 75it [00:00, ?it/s]"
      ]
     },
     "metadata": {},
     "output_type": "display_data"
    },
    {
     "data": {
      "application/vnd.jupyter.widget-view+json": {
       "model_id": "7c53598183e84a9f88c4098e7d6a1084",
       "version_major": 2,
       "version_minor": 0
      },
      "text/plain": [
       "Predicting: 75it [00:00, ?it/s]"
      ]
     },
     "metadata": {},
     "output_type": "display_data"
    },
    {
     "data": {
      "application/vnd.jupyter.widget-view+json": {
       "model_id": "ed571ee821524d17b6623cb8cf9408da",
       "version_major": 2,
       "version_minor": 0
      },
      "text/plain": [
       "Predicting: 75it [00:00, ?it/s]"
      ]
     },
     "metadata": {},
     "output_type": "display_data"
    },
    {
     "data": {
      "application/vnd.jupyter.widget-view+json": {
       "model_id": "42229edd4d2b496ab1de4826defd77b8",
       "version_major": 2,
       "version_minor": 0
      },
      "text/plain": [
       "Predicting: 75it [00:00, ?it/s]"
      ]
     },
     "metadata": {},
     "output_type": "display_data"
    },
    {
     "data": {
      "application/vnd.jupyter.widget-view+json": {
       "model_id": "3995dcc7d44d4eb08d2bbae10d9f9cf1",
       "version_major": 2,
       "version_minor": 0
      },
      "text/plain": [
       "Predicting: 75it [00:00, ?it/s]"
      ]
     },
     "metadata": {},
     "output_type": "display_data"
    },
    {
     "data": {
      "application/vnd.jupyter.widget-view+json": {
       "model_id": "90ff1ec929444f08a22a79609f053583",
       "version_major": 2,
       "version_minor": 0
      },
      "text/plain": [
       "Predicting: 75it [00:00, ?it/s]"
      ]
     },
     "metadata": {},
     "output_type": "display_data"
    },
    {
     "data": {
      "application/vnd.jupyter.widget-view+json": {
       "model_id": "e33591ed1ad54d24b0f7d8c0f9fcc420",
       "version_major": 2,
       "version_minor": 0
      },
      "text/plain": [
       "Predicting: 75it [00:00, ?it/s]"
      ]
     },
     "metadata": {},
     "output_type": "display_data"
    },
    {
     "data": {
      "application/vnd.jupyter.widget-view+json": {
       "model_id": "2d6c6414c8364045ad275420c93c19ad",
       "version_major": 2,
       "version_minor": 0
      },
      "text/plain": [
       "Predicting: 75it [00:00, ?it/s]"
      ]
     },
     "metadata": {},
     "output_type": "display_data"
    },
    {
     "data": {
      "application/vnd.jupyter.widget-view+json": {
       "model_id": "0b280608d33e4b55bc571a7ead844982",
       "version_major": 2,
       "version_minor": 0
      },
      "text/plain": [
       "Predicting: 75it [00:00, ?it/s]"
      ]
     },
     "metadata": {},
     "output_type": "display_data"
    },
    {
     "data": {
      "application/vnd.jupyter.widget-view+json": {
       "model_id": "077f4a0aae5440188c89ea2eb6c9e55e",
       "version_major": 2,
       "version_minor": 0
      },
      "text/plain": [
       "Predicting: 75it [00:00, ?it/s]"
      ]
     },
     "metadata": {},
     "output_type": "display_data"
    },
    {
     "data": {
      "application/vnd.jupyter.widget-view+json": {
       "model_id": "ec8df3ebb39e499eb8bf8d41939e940b",
       "version_major": 2,
       "version_minor": 0
      },
      "text/plain": [
       "Predicting: 75it [00:00, ?it/s]"
      ]
     },
     "metadata": {},
     "output_type": "display_data"
    },
    {
     "data": {
      "application/vnd.jupyter.widget-view+json": {
       "model_id": "dcdc26135fde435487950b2dbf913e21",
       "version_major": 2,
       "version_minor": 0
      },
      "text/plain": [
       "Predicting: 75it [00:00, ?it/s]"
      ]
     },
     "metadata": {},
     "output_type": "display_data"
    },
    {
     "data": {
      "application/vnd.jupyter.widget-view+json": {
       "model_id": "2535f705a812430f951f589da35e88c7",
       "version_major": 2,
       "version_minor": 0
      },
      "text/plain": [
       "Predicting: 75it [00:00, ?it/s]"
      ]
     },
     "metadata": {},
     "output_type": "display_data"
    },
    {
     "data": {
      "application/vnd.jupyter.widget-view+json": {
       "model_id": "f10bce7cdd844819a3982417fb5a0d61",
       "version_major": 2,
       "version_minor": 0
      },
      "text/plain": [
       "Predicting: 75it [00:00, ?it/s]"
      ]
     },
     "metadata": {},
     "output_type": "display_data"
    },
    {
     "data": {
      "application/vnd.jupyter.widget-view+json": {
       "model_id": "1ae23c5fde7e4373826cea4c5dbb933e",
       "version_major": 2,
       "version_minor": 0
      },
      "text/plain": [
       "Predicting: 75it [00:00, ?it/s]"
      ]
     },
     "metadata": {},
     "output_type": "display_data"
    },
    {
     "data": {
      "application/vnd.jupyter.widget-view+json": {
       "model_id": "7d2b40f25a0c4d16847acf19380b13d1",
       "version_major": 2,
       "version_minor": 0
      },
      "text/plain": [
       "Predicting: 75it [00:00, ?it/s]"
      ]
     },
     "metadata": {},
     "output_type": "display_data"
    },
    {
     "data": {
      "application/vnd.jupyter.widget-view+json": {
       "model_id": "3943becf55874a18bdcb3391d6d4c5f8",
       "version_major": 2,
       "version_minor": 0
      },
      "text/plain": [
       "Predicting: 75it [00:00, ?it/s]"
      ]
     },
     "metadata": {},
     "output_type": "display_data"
    },
    {
     "data": {
      "application/vnd.jupyter.widget-view+json": {
       "model_id": "04f1297d1db94d07ace641733e94faac",
       "version_major": 2,
       "version_minor": 0
      },
      "text/plain": [
       "Predicting: 75it [00:00, ?it/s]"
      ]
     },
     "metadata": {},
     "output_type": "display_data"
    },
    {
     "data": {
      "application/vnd.jupyter.widget-view+json": {
       "model_id": "a5b78abca634439783a505984540909b",
       "version_major": 2,
       "version_minor": 0
      },
      "text/plain": [
       "Predicting: 75it [00:00, ?it/s]"
      ]
     },
     "metadata": {},
     "output_type": "display_data"
    },
    {
     "data": {
      "application/vnd.jupyter.widget-view+json": {
       "model_id": "71df3bd089dd4fa985ff0c38ee7624e7",
       "version_major": 2,
       "version_minor": 0
      },
      "text/plain": [
       "Predicting: 75it [00:00, ?it/s]"
      ]
     },
     "metadata": {},
     "output_type": "display_data"
    },
    {
     "data": {
      "application/vnd.jupyter.widget-view+json": {
       "model_id": "91edd7c037cf4cd68945b406f2ab683c",
       "version_major": 2,
       "version_minor": 0
      },
      "text/plain": [
       "Predicting: 75it [00:00, ?it/s]"
      ]
     },
     "metadata": {},
     "output_type": "display_data"
    },
    {
     "data": {
      "application/vnd.jupyter.widget-view+json": {
       "model_id": "01a2579e3d234fcd94b682769c44acf4",
       "version_major": 2,
       "version_minor": 0
      },
      "text/plain": [
       "Predicting: 75it [00:00, ?it/s]"
      ]
     },
     "metadata": {},
     "output_type": "display_data"
    },
    {
     "data": {
      "application/vnd.jupyter.widget-view+json": {
       "model_id": "e5f7d93bb879473bbd30d46f00042fdd",
       "version_major": 2,
       "version_minor": 0
      },
      "text/plain": [
       "Predicting: 75it [00:00, ?it/s]"
      ]
     },
     "metadata": {},
     "output_type": "display_data"
    },
    {
     "data": {
      "application/vnd.jupyter.widget-view+json": {
       "model_id": "41cfca7a7e324323bac6c5d4cb7bb917",
       "version_major": 2,
       "version_minor": 0
      },
      "text/plain": [
       "Predicting: 75it [00:00, ?it/s]"
      ]
     },
     "metadata": {},
     "output_type": "display_data"
    },
    {
     "data": {
      "application/vnd.jupyter.widget-view+json": {
       "model_id": "f12aeba39b834f8da37748d2b8ffa98b",
       "version_major": 2,
       "version_minor": 0
      },
      "text/plain": [
       "Predicting: 75it [00:00, ?it/s]"
      ]
     },
     "metadata": {},
     "output_type": "display_data"
    },
    {
     "data": {
      "application/vnd.jupyter.widget-view+json": {
       "model_id": "8236fc63d31a4220ac7919d162a89ddb",
       "version_major": 2,
       "version_minor": 0
      },
      "text/plain": [
       "Predicting: 75it [00:00, ?it/s]"
      ]
     },
     "metadata": {},
     "output_type": "display_data"
    },
    {
     "data": {
      "application/vnd.jupyter.widget-view+json": {
       "model_id": "b8c9b32733df4fa492a46a1a9c4d4225",
       "version_major": 2,
       "version_minor": 0
      },
      "text/plain": [
       "Predicting: 75it [00:00, ?it/s]"
      ]
     },
     "metadata": {},
     "output_type": "display_data"
    },
    {
     "data": {
      "application/vnd.jupyter.widget-view+json": {
       "model_id": "7ee875a10d094edb9a70bee241ece1f9",
       "version_major": 2,
       "version_minor": 0
      },
      "text/plain": [
       "Predicting: 75it [00:00, ?it/s]"
      ]
     },
     "metadata": {},
     "output_type": "display_data"
    },
    {
     "data": {
      "application/vnd.jupyter.widget-view+json": {
       "model_id": "7c6836f792e941ecb2eb35f9ba1d1998",
       "version_major": 2,
       "version_minor": 0
      },
      "text/plain": [
       "Predicting: 75it [00:00, ?it/s]"
      ]
     },
     "metadata": {},
     "output_type": "display_data"
    },
    {
     "data": {
      "application/vnd.jupyter.widget-view+json": {
       "model_id": "4a2b13dc3d8d4bac88687bdf5e3fac8e",
       "version_major": 2,
       "version_minor": 0
      },
      "text/plain": [
       "Predicting: 75it [00:00, ?it/s]"
      ]
     },
     "metadata": {},
     "output_type": "display_data"
    },
    {
     "data": {
      "application/vnd.jupyter.widget-view+json": {
       "model_id": "c9f39f634f7248b48651cee8a66e7d84",
       "version_major": 2,
       "version_minor": 0
      },
      "text/plain": [
       "Predicting: 75it [00:00, ?it/s]"
      ]
     },
     "metadata": {},
     "output_type": "display_data"
    },
    {
     "data": {
      "application/vnd.jupyter.widget-view+json": {
       "model_id": "cb5bd97ff6a74b1ba5661f97470d5e8b",
       "version_major": 2,
       "version_minor": 0
      },
      "text/plain": [
       "Predicting: 75it [00:00, ?it/s]"
      ]
     },
     "metadata": {},
     "output_type": "display_data"
    },
    {
     "data": {
      "application/vnd.jupyter.widget-view+json": {
       "model_id": "bb166d364a6c413d9412498481448991",
       "version_major": 2,
       "version_minor": 0
      },
      "text/plain": [
       "Predicting: 75it [00:00, ?it/s]"
      ]
     },
     "metadata": {},
     "output_type": "display_data"
    },
    {
     "data": {
      "application/vnd.jupyter.widget-view+json": {
       "model_id": "56260fb9a6654062b24f1d3d53159ec5",
       "version_major": 2,
       "version_minor": 0
      },
      "text/plain": [
       "Predicting: 75it [00:00, ?it/s]"
      ]
     },
     "metadata": {},
     "output_type": "display_data"
    },
    {
     "data": {
      "application/vnd.jupyter.widget-view+json": {
       "model_id": "0976882794b64ab99cbee7c240323508",
       "version_major": 2,
       "version_minor": 0
      },
      "text/plain": [
       "Predicting: 75it [00:00, ?it/s]"
      ]
     },
     "metadata": {},
     "output_type": "display_data"
    },
    {
     "data": {
      "application/vnd.jupyter.widget-view+json": {
       "model_id": "7b89f50bf58c48f58f7265bfde739372",
       "version_major": 2,
       "version_minor": 0
      },
      "text/plain": [
       "Predicting: 75it [00:00, ?it/s]"
      ]
     },
     "metadata": {},
     "output_type": "display_data"
    },
    {
     "data": {
      "application/vnd.jupyter.widget-view+json": {
       "model_id": "701e711305cf438ab9e8abcfeaf73a6a",
       "version_major": 2,
       "version_minor": 0
      },
      "text/plain": [
       "Predicting: 75it [00:00, ?it/s]"
      ]
     },
     "metadata": {},
     "output_type": "display_data"
    },
    {
     "data": {
      "application/vnd.jupyter.widget-view+json": {
       "model_id": "ee572fa666f14163855ed7c488f4c8af",
       "version_major": 2,
       "version_minor": 0
      },
      "text/plain": [
       "Predicting: 75it [00:00, ?it/s]"
      ]
     },
     "metadata": {},
     "output_type": "display_data"
    },
    {
     "data": {
      "application/vnd.jupyter.widget-view+json": {
       "model_id": "a35a46cf83f34bee8b2c50bb67ec6658",
       "version_major": 2,
       "version_minor": 0
      },
      "text/plain": [
       "Predicting: 75it [00:00, ?it/s]"
      ]
     },
     "metadata": {},
     "output_type": "display_data"
    },
    {
     "data": {
      "application/vnd.jupyter.widget-view+json": {
       "model_id": "c63cc7950ca44ffcbbe64b794e5ae541",
       "version_major": 2,
       "version_minor": 0
      },
      "text/plain": [
       "Predicting: 75it [00:00, ?it/s]"
      ]
     },
     "metadata": {},
     "output_type": "display_data"
    },
    {
     "data": {
      "application/vnd.jupyter.widget-view+json": {
       "model_id": "2cfd6fac779e4bbda4aebaf73ca259db",
       "version_major": 2,
       "version_minor": 0
      },
      "text/plain": [
       "Predicting: 75it [00:00, ?it/s]"
      ]
     },
     "metadata": {},
     "output_type": "display_data"
    },
    {
     "data": {
      "application/vnd.jupyter.widget-view+json": {
       "model_id": "f196dbd8040644c5b6104c042b9d077a",
       "version_major": 2,
       "version_minor": 0
      },
      "text/plain": [
       "Predicting: 75it [00:00, ?it/s]"
      ]
     },
     "metadata": {},
     "output_type": "display_data"
    },
    {
     "data": {
      "application/vnd.jupyter.widget-view+json": {
       "model_id": "80124c8b067f44a8a61f7229f9a3518a",
       "version_major": 2,
       "version_minor": 0
      },
      "text/plain": [
       "Predicting: 75it [00:00, ?it/s]"
      ]
     },
     "metadata": {},
     "output_type": "display_data"
    },
    {
     "data": {
      "application/vnd.jupyter.widget-view+json": {
       "model_id": "f9ed80e22fc2433ba8f85275c2387799",
       "version_major": 2,
       "version_minor": 0
      },
      "text/plain": [
       "Predicting: 75it [00:00, ?it/s]"
      ]
     },
     "metadata": {},
     "output_type": "display_data"
    },
    {
     "data": {
      "application/vnd.jupyter.widget-view+json": {
       "model_id": "6609278432654e79b2816c3946e35b19",
       "version_major": 2,
       "version_minor": 0
      },
      "text/plain": [
       "Predicting: 75it [00:00, ?it/s]"
      ]
     },
     "metadata": {},
     "output_type": "display_data"
    },
    {
     "data": {
      "application/vnd.jupyter.widget-view+json": {
       "model_id": "a1c21d928bc441fc8a0762e97e6d9d58",
       "version_major": 2,
       "version_minor": 0
      },
      "text/plain": [
       "Predicting: 75it [00:00, ?it/s]"
      ]
     },
     "metadata": {},
     "output_type": "display_data"
    },
    {
     "data": {
      "application/vnd.jupyter.widget-view+json": {
       "model_id": "600f644da7674156bcdb1ed25f5562f6",
       "version_major": 2,
       "version_minor": 0
      },
      "text/plain": [
       "Predicting: 75it [00:00, ?it/s]"
      ]
     },
     "metadata": {},
     "output_type": "display_data"
    },
    {
     "data": {
      "application/vnd.jupyter.widget-view+json": {
       "model_id": "fac0ee6521eb4dc3a7eb3ab36d04af29",
       "version_major": 2,
       "version_minor": 0
      },
      "text/plain": [
       "Predicting: 75it [00:00, ?it/s]"
      ]
     },
     "metadata": {},
     "output_type": "display_data"
    },
    {
     "data": {
      "application/vnd.jupyter.widget-view+json": {
       "model_id": "d4b4ef39bc9a4ac6b48b61130b0239fd",
       "version_major": 2,
       "version_minor": 0
      },
      "text/plain": [
       "Predicting: 75it [00:00, ?it/s]"
      ]
     },
     "metadata": {},
     "output_type": "display_data"
    },
    {
     "data": {
      "application/vnd.jupyter.widget-view+json": {
       "model_id": "fef4f8a954154f4abf7503c51a4612a0",
       "version_major": 2,
       "version_minor": 0
      },
      "text/plain": [
       "Predicting: 75it [00:00, ?it/s]"
      ]
     },
     "metadata": {},
     "output_type": "display_data"
    },
    {
     "data": {
      "application/vnd.jupyter.widget-view+json": {
       "model_id": "7490cf7da9ac46f9b922b1a77d6b10d4",
       "version_major": 2,
       "version_minor": 0
      },
      "text/plain": [
       "Predicting: 75it [00:00, ?it/s]"
      ]
     },
     "metadata": {},
     "output_type": "display_data"
    },
    {
     "data": {
      "application/vnd.jupyter.widget-view+json": {
       "model_id": "e7e57dac262e4892a921622fee7551ef",
       "version_major": 2,
       "version_minor": 0
      },
      "text/plain": [
       "Predicting: 75it [00:00, ?it/s]"
      ]
     },
     "metadata": {},
     "output_type": "display_data"
    },
    {
     "data": {
      "application/vnd.jupyter.widget-view+json": {
       "model_id": "5b5a0970dfdb4d4c9c92f8b9bd0c791a",
       "version_major": 2,
       "version_minor": 0
      },
      "text/plain": [
       "Predicting: 75it [00:00, ?it/s]"
      ]
     },
     "metadata": {},
     "output_type": "display_data"
    },
    {
     "data": {
      "application/vnd.jupyter.widget-view+json": {
       "model_id": "e89148beee0747598a4951190168e0a8",
       "version_major": 2,
       "version_minor": 0
      },
      "text/plain": [
       "Predicting: 75it [00:00, ?it/s]"
      ]
     },
     "metadata": {},
     "output_type": "display_data"
    },
    {
     "data": {
      "application/vnd.jupyter.widget-view+json": {
       "model_id": "d3525055879a4aa7942e7cbf3b5f7289",
       "version_major": 2,
       "version_minor": 0
      },
      "text/plain": [
       "Predicting: 75it [00:00, ?it/s]"
      ]
     },
     "metadata": {},
     "output_type": "display_data"
    },
    {
     "data": {
      "application/vnd.jupyter.widget-view+json": {
       "model_id": "c339c57b5a0d485a81a3b140609a82d1",
       "version_major": 2,
       "version_minor": 0
      },
      "text/plain": [
       "Predicting: 75it [00:00, ?it/s]"
      ]
     },
     "metadata": {},
     "output_type": "display_data"
    },
    {
     "data": {
      "application/vnd.jupyter.widget-view+json": {
       "model_id": "b827295c201842c5a65b0573271b073d",
       "version_major": 2,
       "version_minor": 0
      },
      "text/plain": [
       "Predicting: 75it [00:00, ?it/s]"
      ]
     },
     "metadata": {},
     "output_type": "display_data"
    },
    {
     "data": {
      "application/vnd.jupyter.widget-view+json": {
       "model_id": "a297a042772344f8a099438d94c3bd72",
       "version_major": 2,
       "version_minor": 0
      },
      "text/plain": [
       "Predicting: 75it [00:00, ?it/s]"
      ]
     },
     "metadata": {},
     "output_type": "display_data"
    },
    {
     "data": {
      "application/vnd.jupyter.widget-view+json": {
       "model_id": "17f9843dcca34961940c2618a184858e",
       "version_major": 2,
       "version_minor": 0
      },
      "text/plain": [
       "Predicting: 75it [00:00, ?it/s]"
      ]
     },
     "metadata": {},
     "output_type": "display_data"
    },
    {
     "data": {
      "application/vnd.jupyter.widget-view+json": {
       "model_id": "07f65a8634214792ab62ff41e3771238",
       "version_major": 2,
       "version_minor": 0
      },
      "text/plain": [
       "Predicting: 75it [00:00, ?it/s]"
      ]
     },
     "metadata": {},
     "output_type": "display_data"
    },
    {
     "data": {
      "application/vnd.jupyter.widget-view+json": {
       "model_id": "b98f8b4d40be4692ad1e3072945dd039",
       "version_major": 2,
       "version_minor": 0
      },
      "text/plain": [
       "Predicting: 75it [00:00, ?it/s]"
      ]
     },
     "metadata": {},
     "output_type": "display_data"
    },
    {
     "data": {
      "application/vnd.jupyter.widget-view+json": {
       "model_id": "20bc2defd106463abc142f18872a920f",
       "version_major": 2,
       "version_minor": 0
      },
      "text/plain": [
       "Predicting: 75it [00:00, ?it/s]"
      ]
     },
     "metadata": {},
     "output_type": "display_data"
    },
    {
     "data": {
      "application/vnd.jupyter.widget-view+json": {
       "model_id": "ce31b0a831a24151b449438bfb0d069c",
       "version_major": 2,
       "version_minor": 0
      },
      "text/plain": [
       "Predicting: 75it [00:00, ?it/s]"
      ]
     },
     "metadata": {},
     "output_type": "display_data"
    },
    {
     "data": {
      "application/vnd.jupyter.widget-view+json": {
       "model_id": "15274c53ea83460db3a86dc845e52bc1",
       "version_major": 2,
       "version_minor": 0
      },
      "text/plain": [
       "Predicting: 75it [00:00, ?it/s]"
      ]
     },
     "metadata": {},
     "output_type": "display_data"
    },
    {
     "data": {
      "application/vnd.jupyter.widget-view+json": {
       "model_id": "e96b4b6c337c41d2882dd8dd56a74a47",
       "version_major": 2,
       "version_minor": 0
      },
      "text/plain": [
       "Predicting: 75it [00:00, ?it/s]"
      ]
     },
     "metadata": {},
     "output_type": "display_data"
    },
    {
     "data": {
      "application/vnd.jupyter.widget-view+json": {
       "model_id": "9994588e74194ebe8689a16ec699a06d",
       "version_major": 2,
       "version_minor": 0
      },
      "text/plain": [
       "Predicting: 75it [00:00, ?it/s]"
      ]
     },
     "metadata": {},
     "output_type": "display_data"
    },
    {
     "data": {
      "application/vnd.jupyter.widget-view+json": {
       "model_id": "c57b3ecbec274b6f8d46dbbcd0f9630b",
       "version_major": 2,
       "version_minor": 0
      },
      "text/plain": [
       "Predicting: 75it [00:00, ?it/s]"
      ]
     },
     "metadata": {},
     "output_type": "display_data"
    },
    {
     "data": {
      "application/vnd.jupyter.widget-view+json": {
       "model_id": "accefa88ee084c9c9ce61500232ff1e4",
       "version_major": 2,
       "version_minor": 0
      },
      "text/plain": [
       "Predicting: 75it [00:00, ?it/s]"
      ]
     },
     "metadata": {},
     "output_type": "display_data"
    },
    {
     "data": {
      "application/vnd.jupyter.widget-view+json": {
       "model_id": "7812b0853376477b8a09207aa91c07a9",
       "version_major": 2,
       "version_minor": 0
      },
      "text/plain": [
       "Predicting: 75it [00:00, ?it/s]"
      ]
     },
     "metadata": {},
     "output_type": "display_data"
    },
    {
     "data": {
      "application/vnd.jupyter.widget-view+json": {
       "model_id": "36d09597979b474c98d8db660e74bffc",
       "version_major": 2,
       "version_minor": 0
      },
      "text/plain": [
       "Predicting: 75it [00:00, ?it/s]"
      ]
     },
     "metadata": {},
     "output_type": "display_data"
    },
    {
     "data": {
      "application/vnd.jupyter.widget-view+json": {
       "model_id": "b6ea61b392a44185aec1dbd61a0d3d04",
       "version_major": 2,
       "version_minor": 0
      },
      "text/plain": [
       "Predicting: 75it [00:00, ?it/s]"
      ]
     },
     "metadata": {},
     "output_type": "display_data"
    },
    {
     "data": {
      "application/vnd.jupyter.widget-view+json": {
       "model_id": "3c6992c4487d410ba3e7ab161b95b106",
       "version_major": 2,
       "version_minor": 0
      },
      "text/plain": [
       "Predicting: 75it [00:00, ?it/s]"
      ]
     },
     "metadata": {},
     "output_type": "display_data"
    },
    {
     "data": {
      "application/vnd.jupyter.widget-view+json": {
       "model_id": "cbb2cdc3959f49d69790a59b8586eecd",
       "version_major": 2,
       "version_minor": 0
      },
      "text/plain": [
       "Predicting: 75it [00:00, ?it/s]"
      ]
     },
     "metadata": {},
     "output_type": "display_data"
    },
    {
     "data": {
      "application/vnd.jupyter.widget-view+json": {
       "model_id": "e718b0c580af4caf91782d9966715462",
       "version_major": 2,
       "version_minor": 0
      },
      "text/plain": [
       "Predicting: 75it [00:00, ?it/s]"
      ]
     },
     "metadata": {},
     "output_type": "display_data"
    },
    {
     "data": {
      "application/vnd.jupyter.widget-view+json": {
       "model_id": "61f93336af9f4519a5210112670409a4",
       "version_major": 2,
       "version_minor": 0
      },
      "text/plain": [
       "Predicting: 75it [00:00, ?it/s]"
      ]
     },
     "metadata": {},
     "output_type": "display_data"
    },
    {
     "data": {
      "application/vnd.jupyter.widget-view+json": {
       "model_id": "a758db8c4baa46c0a649b228f698e6db",
       "version_major": 2,
       "version_minor": 0
      },
      "text/plain": [
       "Predicting: 75it [00:00, ?it/s]"
      ]
     },
     "metadata": {},
     "output_type": "display_data"
    },
    {
     "data": {
      "application/vnd.jupyter.widget-view+json": {
       "model_id": "c74f4c28c6444d5b97c71a106d5a2a50",
       "version_major": 2,
       "version_minor": 0
      },
      "text/plain": [
       "Predicting: 75it [00:00, ?it/s]"
      ]
     },
     "metadata": {},
     "output_type": "display_data"
    },
    {
     "data": {
      "application/vnd.jupyter.widget-view+json": {
       "model_id": "3eadec3e69ce40cbb81973de28d8a9e6",
       "version_major": 2,
       "version_minor": 0
      },
      "text/plain": [
       "Predicting: 75it [00:00, ?it/s]"
      ]
     },
     "metadata": {},
     "output_type": "display_data"
    },
    {
     "data": {
      "application/vnd.jupyter.widget-view+json": {
       "model_id": "de108d454e6d46aea4105cf060e08c50",
       "version_major": 2,
       "version_minor": 0
      },
      "text/plain": [
       "Predicting: 75it [00:00, ?it/s]"
      ]
     },
     "metadata": {},
     "output_type": "display_data"
    },
    {
     "data": {
      "application/vnd.jupyter.widget-view+json": {
       "model_id": "a5fdf9c9ec8c4cfdbe5a47b6a592539f",
       "version_major": 2,
       "version_minor": 0
      },
      "text/plain": [
       "Predicting: 75it [00:00, ?it/s]"
      ]
     },
     "metadata": {},
     "output_type": "display_data"
    },
    {
     "data": {
      "application/vnd.jupyter.widget-view+json": {
       "model_id": "670dfe09fcfe48ed99645f08cd4d60c9",
       "version_major": 2,
       "version_minor": 0
      },
      "text/plain": [
       "Predicting: 75it [00:00, ?it/s]"
      ]
     },
     "metadata": {},
     "output_type": "display_data"
    },
    {
     "data": {
      "application/vnd.jupyter.widget-view+json": {
       "model_id": "f45dfc07fc3c4cfb9f73d82bc574e1ec",
       "version_major": 2,
       "version_minor": 0
      },
      "text/plain": [
       "Predicting: 75it [00:00, ?it/s]"
      ]
     },
     "metadata": {},
     "output_type": "display_data"
    },
    {
     "data": {
      "application/vnd.jupyter.widget-view+json": {
       "model_id": "81718f29200e4626a8db99d5ac5d0180",
       "version_major": 2,
       "version_minor": 0
      },
      "text/plain": [
       "Predicting: 75it [00:00, ?it/s]"
      ]
     },
     "metadata": {},
     "output_type": "display_data"
    },
    {
     "data": {
      "application/vnd.jupyter.widget-view+json": {
       "model_id": "3d7c1d5efc4b4c78a1187443218ccade",
       "version_major": 2,
       "version_minor": 0
      },
      "text/plain": [
       "Predicting: 75it [00:00, ?it/s]"
      ]
     },
     "metadata": {},
     "output_type": "display_data"
    },
    {
     "data": {
      "application/vnd.jupyter.widget-view+json": {
       "model_id": "dd9121d9e7644317872c01ba48c96af6",
       "version_major": 2,
       "version_minor": 0
      },
      "text/plain": [
       "Predicting: 75it [00:00, ?it/s]"
      ]
     },
     "metadata": {},
     "output_type": "display_data"
    },
    {
     "data": {
      "application/vnd.jupyter.widget-view+json": {
       "model_id": "6c45ed626d18442e830602b1c57ff39b",
       "version_major": 2,
       "version_minor": 0
      },
      "text/plain": [
       "Predicting: 75it [00:00, ?it/s]"
      ]
     },
     "metadata": {},
     "output_type": "display_data"
    },
    {
     "data": {
      "application/vnd.jupyter.widget-view+json": {
       "model_id": "8562687bc6fe4ef881b0e78ca6c42837",
       "version_major": 2,
       "version_minor": 0
      },
      "text/plain": [
       "Predicting: 75it [00:00, ?it/s]"
      ]
     },
     "metadata": {},
     "output_type": "display_data"
    },
    {
     "data": {
      "application/vnd.jupyter.widget-view+json": {
       "model_id": "4ec0fe077db54adfbcdc79b9f4f5f00e",
       "version_major": 2,
       "version_minor": 0
      },
      "text/plain": [
       "Predicting: 75it [00:00, ?it/s]"
      ]
     },
     "metadata": {},
     "output_type": "display_data"
    },
    {
     "data": {
      "application/vnd.jupyter.widget-view+json": {
       "model_id": "a0a4996dd8504d8aa807ae577c842a1c",
       "version_major": 2,
       "version_minor": 0
      },
      "text/plain": [
       "Predicting: 75it [00:00, ?it/s]"
      ]
     },
     "metadata": {},
     "output_type": "display_data"
    },
    {
     "data": {
      "application/vnd.jupyter.widget-view+json": {
       "model_id": "e36e88f52455442da4755a09bd4ebf6f",
       "version_major": 2,
       "version_minor": 0
      },
      "text/plain": [
       "Predicting: 75it [00:00, ?it/s]"
      ]
     },
     "metadata": {},
     "output_type": "display_data"
    },
    {
     "data": {
      "application/vnd.jupyter.widget-view+json": {
       "model_id": "e8ee5731233d4c1893a5ebf34bd1983e",
       "version_major": 2,
       "version_minor": 0
      },
      "text/plain": [
       "Predicting: 75it [00:00, ?it/s]"
      ]
     },
     "metadata": {},
     "output_type": "display_data"
    },
    {
     "data": {
      "application/vnd.jupyter.widget-view+json": {
       "model_id": "1247580d40bf476284e827fe5ca29a88",
       "version_major": 2,
       "version_minor": 0
      },
      "text/plain": [
       "Predicting: 75it [00:00, ?it/s]"
      ]
     },
     "metadata": {},
     "output_type": "display_data"
    },
    {
     "data": {
      "application/vnd.jupyter.widget-view+json": {
       "model_id": "0e858ec47e734a67b9535c1c68e26035",
       "version_major": 2,
       "version_minor": 0
      },
      "text/plain": [
       "Predicting: 75it [00:00, ?it/s]"
      ]
     },
     "metadata": {},
     "output_type": "display_data"
    },
    {
     "data": {
      "application/vnd.jupyter.widget-view+json": {
       "model_id": "96ca1a43885b4e7f9a4edd10ecf447f0",
       "version_major": 2,
       "version_minor": 0
      },
      "text/plain": [
       "Predicting: 75it [00:00, ?it/s]"
      ]
     },
     "metadata": {},
     "output_type": "display_data"
    },
    {
     "data": {
      "application/vnd.jupyter.widget-view+json": {
       "model_id": "ae6d2a88987c4c6b98e83eb9d27e48f1",
       "version_major": 2,
       "version_minor": 0
      },
      "text/plain": [
       "Predicting: 75it [00:00, ?it/s]"
      ]
     },
     "metadata": {},
     "output_type": "display_data"
    },
    {
     "data": {
      "application/vnd.jupyter.widget-view+json": {
       "model_id": "c2b0ffe9d323483fa6b77bd725421a85",
       "version_major": 2,
       "version_minor": 0
      },
      "text/plain": [
       "Predicting: 75it [00:00, ?it/s]"
      ]
     },
     "metadata": {},
     "output_type": "display_data"
    },
    {
     "data": {
      "application/vnd.jupyter.widget-view+json": {
       "model_id": "80af31e2262a4e9781a32b124c76ce12",
       "version_major": 2,
       "version_minor": 0
      },
      "text/plain": [
       "Predicting: 75it [00:00, ?it/s]"
      ]
     },
     "metadata": {},
     "output_type": "display_data"
    },
    {
     "data": {
      "application/vnd.jupyter.widget-view+json": {
       "model_id": "1aa8fe7afcba46458a3598d9abd5da2d",
       "version_major": 2,
       "version_minor": 0
      },
      "text/plain": [
       "Predicting: 75it [00:00, ?it/s]"
      ]
     },
     "metadata": {},
     "output_type": "display_data"
    },
    {
     "data": {
      "application/vnd.jupyter.widget-view+json": {
       "model_id": "d794ab42ce8f434aa4d324c211c94888",
       "version_major": 2,
       "version_minor": 0
      },
      "text/plain": [
       "Predicting: 75it [00:00, ?it/s]"
      ]
     },
     "metadata": {},
     "output_type": "display_data"
    },
    {
     "data": {
      "application/vnd.jupyter.widget-view+json": {
       "model_id": "5e0a5ee6eb344d5fb3b44a0243cc4888",
       "version_major": 2,
       "version_minor": 0
      },
      "text/plain": [
       "Predicting: 75it [00:00, ?it/s]"
      ]
     },
     "metadata": {},
     "output_type": "display_data"
    },
    {
     "data": {
      "application/vnd.jupyter.widget-view+json": {
       "model_id": "2758c8570e364eb8b46246a6de1bd0f6",
       "version_major": 2,
       "version_minor": 0
      },
      "text/plain": [
       "Predicting: 75it [00:00, ?it/s]"
      ]
     },
     "metadata": {},
     "output_type": "display_data"
    },
    {
     "data": {
      "application/vnd.jupyter.widget-view+json": {
       "model_id": "ac3eba5dfe12469c821492ed35531e49",
       "version_major": 2,
       "version_minor": 0
      },
      "text/plain": [
       "Predicting: 75it [00:00, ?it/s]"
      ]
     },
     "metadata": {},
     "output_type": "display_data"
    },
    {
     "data": {
      "application/vnd.jupyter.widget-view+json": {
       "model_id": "2664ee5953d8498eb714b18cdca2b612",
       "version_major": 2,
       "version_minor": 0
      },
      "text/plain": [
       "Predicting: 75it [00:00, ?it/s]"
      ]
     },
     "metadata": {},
     "output_type": "display_data"
    },
    {
     "data": {
      "application/vnd.jupyter.widget-view+json": {
       "model_id": "92e0d561590d4d269d34cfd6bc64ff5c",
       "version_major": 2,
       "version_minor": 0
      },
      "text/plain": [
       "Predicting: 75it [00:00, ?it/s]"
      ]
     },
     "metadata": {},
     "output_type": "display_data"
    },
    {
     "data": {
      "application/vnd.jupyter.widget-view+json": {
       "model_id": "23919ed916d64da3a4b81c6ca9a9584f",
       "version_major": 2,
       "version_minor": 0
      },
      "text/plain": [
       "Predicting: 75it [00:00, ?it/s]"
      ]
     },
     "metadata": {},
     "output_type": "display_data"
    },
    {
     "data": {
      "application/vnd.jupyter.widget-view+json": {
       "model_id": "4c449d2115de4589a643ea61a134e2fb",
       "version_major": 2,
       "version_minor": 0
      },
      "text/plain": [
       "Predicting: 75it [00:00, ?it/s]"
      ]
     },
     "metadata": {},
     "output_type": "display_data"
    },
    {
     "data": {
      "application/vnd.jupyter.widget-view+json": {
       "model_id": "5df9dce66ad94d9797df9cb24739a786",
       "version_major": 2,
       "version_minor": 0
      },
      "text/plain": [
       "Predicting: 75it [00:00, ?it/s]"
      ]
     },
     "metadata": {},
     "output_type": "display_data"
    },
    {
     "data": {
      "application/vnd.jupyter.widget-view+json": {
       "model_id": "75983687a36043f48592f386c9b8272c",
       "version_major": 2,
       "version_minor": 0
      },
      "text/plain": [
       "Predicting: 75it [00:00, ?it/s]"
      ]
     },
     "metadata": {},
     "output_type": "display_data"
    },
    {
     "data": {
      "application/vnd.jupyter.widget-view+json": {
       "model_id": "044ec9bbfe164ddd804c05f3dcc7a2e9",
       "version_major": 2,
       "version_minor": 0
      },
      "text/plain": [
       "Predicting: 75it [00:00, ?it/s]"
      ]
     },
     "metadata": {},
     "output_type": "display_data"
    },
    {
     "data": {
      "application/vnd.jupyter.widget-view+json": {
       "model_id": "4cbec364d005497bbc6b23f458b1030d",
       "version_major": 2,
       "version_minor": 0
      },
      "text/plain": [
       "Predicting: 75it [00:00, ?it/s]"
      ]
     },
     "metadata": {},
     "output_type": "display_data"
    },
    {
     "data": {
      "application/vnd.jupyter.widget-view+json": {
       "model_id": "81d6ec6c620249f48e9d0587afb84ba6",
       "version_major": 2,
       "version_minor": 0
      },
      "text/plain": [
       "Predicting: 75it [00:00, ?it/s]"
      ]
     },
     "metadata": {},
     "output_type": "display_data"
    },
    {
     "data": {
      "application/vnd.jupyter.widget-view+json": {
       "model_id": "c4330ad18f9a4d318753a419bdf270af",
       "version_major": 2,
       "version_minor": 0
      },
      "text/plain": [
       "Predicting: 75it [00:00, ?it/s]"
      ]
     },
     "metadata": {},
     "output_type": "display_data"
    },
    {
     "data": {
      "application/vnd.jupyter.widget-view+json": {
       "model_id": "9ae6786597534ae6b43fd5b648976e30",
       "version_major": 2,
       "version_minor": 0
      },
      "text/plain": [
       "Predicting: 75it [00:00, ?it/s]"
      ]
     },
     "metadata": {},
     "output_type": "display_data"
    },
    {
     "data": {
      "application/vnd.jupyter.widget-view+json": {
       "model_id": "3ecccc63d703418bac3f413ca657112b",
       "version_major": 2,
       "version_minor": 0
      },
      "text/plain": [
       "Predicting: 75it [00:00, ?it/s]"
      ]
     },
     "metadata": {},
     "output_type": "display_data"
    },
    {
     "data": {
      "application/vnd.jupyter.widget-view+json": {
       "model_id": "cd30d48170824cbe920056e3a653b1c6",
       "version_major": 2,
       "version_minor": 0
      },
      "text/plain": [
       "Predicting: 75it [00:00, ?it/s]"
      ]
     },
     "metadata": {},
     "output_type": "display_data"
    },
    {
     "data": {
      "application/vnd.jupyter.widget-view+json": {
       "model_id": "e719690058be414490fba8eab0cfc275",
       "version_major": 2,
       "version_minor": 0
      },
      "text/plain": [
       "Predicting: 75it [00:00, ?it/s]"
      ]
     },
     "metadata": {},
     "output_type": "display_data"
    },
    {
     "data": {
      "application/vnd.jupyter.widget-view+json": {
       "model_id": "f639a31c52ab451a81d0093b026567ce",
       "version_major": 2,
       "version_minor": 0
      },
      "text/plain": [
       "Predicting: 75it [00:00, ?it/s]"
      ]
     },
     "metadata": {},
     "output_type": "display_data"
    },
    {
     "data": {
      "application/vnd.jupyter.widget-view+json": {
       "model_id": "4027ac4c3be342429cad38a3e50b1703",
       "version_major": 2,
       "version_minor": 0
      },
      "text/plain": [
       "Predicting: 75it [00:00, ?it/s]"
      ]
     },
     "metadata": {},
     "output_type": "display_data"
    },
    {
     "data": {
      "application/vnd.jupyter.widget-view+json": {
       "model_id": "0d2ee07b8c3b4b7abd3d94df80f53248",
       "version_major": 2,
       "version_minor": 0
      },
      "text/plain": [
       "Predicting: 75it [00:00, ?it/s]"
      ]
     },
     "metadata": {},
     "output_type": "display_data"
    },
    {
     "data": {
      "application/vnd.jupyter.widget-view+json": {
       "model_id": "c11783ffa40a47cfb40bf03ae61ccb13",
       "version_major": 2,
       "version_minor": 0
      },
      "text/plain": [
       "Predicting: 75it [00:00, ?it/s]"
      ]
     },
     "metadata": {},
     "output_type": "display_data"
    },
    {
     "data": {
      "application/vnd.jupyter.widget-view+json": {
       "model_id": "6314139ead8d45a5b588ab84e20e72bc",
       "version_major": 2,
       "version_minor": 0
      },
      "text/plain": [
       "Predicting: 75it [00:00, ?it/s]"
      ]
     },
     "metadata": {},
     "output_type": "display_data"
    },
    {
     "data": {
      "application/vnd.jupyter.widget-view+json": {
       "model_id": "0511376f9be44eeebf06b0cec9830aa7",
       "version_major": 2,
       "version_minor": 0
      },
      "text/plain": [
       "Predicting: 75it [00:00, ?it/s]"
      ]
     },
     "metadata": {},
     "output_type": "display_data"
    },
    {
     "data": {
      "application/vnd.jupyter.widget-view+json": {
       "model_id": "5577839b5dbe4ed49a85f94e813c6c44",
       "version_major": 2,
       "version_minor": 0
      },
      "text/plain": [
       "Predicting: 75it [00:00, ?it/s]"
      ]
     },
     "metadata": {},
     "output_type": "display_data"
    },
    {
     "data": {
      "application/vnd.jupyter.widget-view+json": {
       "model_id": "ed97d9eb8831465f8af5e9c47a7fa35f",
       "version_major": 2,
       "version_minor": 0
      },
      "text/plain": [
       "Predicting: 75it [00:00, ?it/s]"
      ]
     },
     "metadata": {},
     "output_type": "display_data"
    },
    {
     "data": {
      "application/vnd.jupyter.widget-view+json": {
       "model_id": "d4873e545ae44afb88ade58bfe4c3e3a",
       "version_major": 2,
       "version_minor": 0
      },
      "text/plain": [
       "Predicting: 75it [00:00, ?it/s]"
      ]
     },
     "metadata": {},
     "output_type": "display_data"
    },
    {
     "data": {
      "application/vnd.jupyter.widget-view+json": {
       "model_id": "f637ae82caa643ff8809dccdf31f0548",
       "version_major": 2,
       "version_minor": 0
      },
      "text/plain": [
       "Predicting: 75it [00:00, ?it/s]"
      ]
     },
     "metadata": {},
     "output_type": "display_data"
    },
    {
     "data": {
      "application/vnd.jupyter.widget-view+json": {
       "model_id": "ca452e93f68a4331b6a94a07bedf31af",
       "version_major": 2,
       "version_minor": 0
      },
      "text/plain": [
       "Predicting: 75it [00:00, ?it/s]"
      ]
     },
     "metadata": {},
     "output_type": "display_data"
    },
    {
     "data": {
      "application/vnd.jupyter.widget-view+json": {
       "model_id": "16969a9e276f475ab1966d60c904d2ba",
       "version_major": 2,
       "version_minor": 0
      },
      "text/plain": [
       "Predicting: 75it [00:00, ?it/s]"
      ]
     },
     "metadata": {},
     "output_type": "display_data"
    },
    {
     "data": {
      "application/vnd.jupyter.widget-view+json": {
       "model_id": "7d470b17420f4573aafa01bd0b42184b",
       "version_major": 2,
       "version_minor": 0
      },
      "text/plain": [
       "Predicting: 75it [00:00, ?it/s]"
      ]
     },
     "metadata": {},
     "output_type": "display_data"
    },
    {
     "data": {
      "application/vnd.jupyter.widget-view+json": {
       "model_id": "4692bb58a06a4ad4a8d25802d017f71b",
       "version_major": 2,
       "version_minor": 0
      },
      "text/plain": [
       "Predicting: 75it [00:00, ?it/s]"
      ]
     },
     "metadata": {},
     "output_type": "display_data"
    },
    {
     "data": {
      "application/vnd.jupyter.widget-view+json": {
       "model_id": "1b5d62ee3cb2497b81d5f1b32780ecab",
       "version_major": 2,
       "version_minor": 0
      },
      "text/plain": [
       "Predicting: 75it [00:00, ?it/s]"
      ]
     },
     "metadata": {},
     "output_type": "display_data"
    },
    {
     "data": {
      "application/vnd.jupyter.widget-view+json": {
       "model_id": "6e31796fabe747b38e852ef55ea251cc",
       "version_major": 2,
       "version_minor": 0
      },
      "text/plain": [
       "Predicting: 75it [00:00, ?it/s]"
      ]
     },
     "metadata": {},
     "output_type": "display_data"
    },
    {
     "data": {
      "application/vnd.jupyter.widget-view+json": {
       "model_id": "637d4edf3a7b46679d0568765ba69227",
       "version_major": 2,
       "version_minor": 0
      },
      "text/plain": [
       "Predicting: 75it [00:00, ?it/s]"
      ]
     },
     "metadata": {},
     "output_type": "display_data"
    },
    {
     "data": {
      "application/vnd.jupyter.widget-view+json": {
       "model_id": "604e132b3b114861b8584748ba9704e8",
       "version_major": 2,
       "version_minor": 0
      },
      "text/plain": [
       "Predicting: 75it [00:00, ?it/s]"
      ]
     },
     "metadata": {},
     "output_type": "display_data"
    },
    {
     "data": {
      "application/vnd.jupyter.widget-view+json": {
       "model_id": "ef94ada5bd814c769035d790c2aaab07",
       "version_major": 2,
       "version_minor": 0
      },
      "text/plain": [
       "Predicting: 75it [00:00, ?it/s]"
      ]
     },
     "metadata": {},
     "output_type": "display_data"
    },
    {
     "data": {
      "application/vnd.jupyter.widget-view+json": {
       "model_id": "8fbf95e68d734873acdd7664150e2047",
       "version_major": 2,
       "version_minor": 0
      },
      "text/plain": [
       "Predicting: 75it [00:00, ?it/s]"
      ]
     },
     "metadata": {},
     "output_type": "display_data"
    },
    {
     "data": {
      "application/vnd.jupyter.widget-view+json": {
       "model_id": "97cc29ea50e7407d82e8c29a6b5d4cc0",
       "version_major": 2,
       "version_minor": 0
      },
      "text/plain": [
       "Predicting: 75it [00:00, ?it/s]"
      ]
     },
     "metadata": {},
     "output_type": "display_data"
    },
    {
     "data": {
      "application/vnd.jupyter.widget-view+json": {
       "model_id": "b9dcf608b2884280b005eacfea3a1b6c",
       "version_major": 2,
       "version_minor": 0
      },
      "text/plain": [
       "Predicting: 75it [00:00, ?it/s]"
      ]
     },
     "metadata": {},
     "output_type": "display_data"
    },
    {
     "data": {
      "application/vnd.jupyter.widget-view+json": {
       "model_id": "5142f9e6273d4190b5f842dd9c1b0a3c",
       "version_major": 2,
       "version_minor": 0
      },
      "text/plain": [
       "Predicting: 75it [00:00, ?it/s]"
      ]
     },
     "metadata": {},
     "output_type": "display_data"
    },
    {
     "data": {
      "application/vnd.jupyter.widget-view+json": {
       "model_id": "c7fa6ca66359475b9459af199d156c7b",
       "version_major": 2,
       "version_minor": 0
      },
      "text/plain": [
       "Predicting: 75it [00:00, ?it/s]"
      ]
     },
     "metadata": {},
     "output_type": "display_data"
    },
    {
     "data": {
      "application/vnd.jupyter.widget-view+json": {
       "model_id": "1508e992767e4d41947e7bed43f462e3",
       "version_major": 2,
       "version_minor": 0
      },
      "text/plain": [
       "Predicting: 75it [00:00, ?it/s]"
      ]
     },
     "metadata": {},
     "output_type": "display_data"
    },
    {
     "data": {
      "application/vnd.jupyter.widget-view+json": {
       "model_id": "55ea4cb1a9ce4134834c8b0edec3088e",
       "version_major": 2,
       "version_minor": 0
      },
      "text/plain": [
       "Predicting: 75it [00:00, ?it/s]"
      ]
     },
     "metadata": {},
     "output_type": "display_data"
    },
    {
     "data": {
      "application/vnd.jupyter.widget-view+json": {
       "model_id": "f14db9b61d9f44f6a5b5a39366059cfe",
       "version_major": 2,
       "version_minor": 0
      },
      "text/plain": [
       "Predicting: 75it [00:00, ?it/s]"
      ]
     },
     "metadata": {},
     "output_type": "display_data"
    },
    {
     "data": {
      "application/vnd.jupyter.widget-view+json": {
       "model_id": "db75d6277d604f928dc341f71bf46456",
       "version_major": 2,
       "version_minor": 0
      },
      "text/plain": [
       "Predicting: 75it [00:00, ?it/s]"
      ]
     },
     "metadata": {},
     "output_type": "display_data"
    },
    {
     "data": {
      "application/vnd.jupyter.widget-view+json": {
       "model_id": "4a7b502b0679408983f758e3da7f4bc8",
       "version_major": 2,
       "version_minor": 0
      },
      "text/plain": [
       "Predicting: 75it [00:00, ?it/s]"
      ]
     },
     "metadata": {},
     "output_type": "display_data"
    },
    {
     "data": {
      "application/vnd.jupyter.widget-view+json": {
       "model_id": "01dc25267915481f932f0f6b1491b383",
       "version_major": 2,
       "version_minor": 0
      },
      "text/plain": [
       "Predicting: 75it [00:00, ?it/s]"
      ]
     },
     "metadata": {},
     "output_type": "display_data"
    },
    {
     "data": {
      "application/vnd.jupyter.widget-view+json": {
       "model_id": "ae7e67e3b2454f9998047b95ffd920fd",
       "version_major": 2,
       "version_minor": 0
      },
      "text/plain": [
       "Predicting: 75it [00:00, ?it/s]"
      ]
     },
     "metadata": {},
     "output_type": "display_data"
    },
    {
     "data": {
      "application/vnd.jupyter.widget-view+json": {
       "model_id": "0b9ef93f8b664afb9183180009950f4d",
       "version_major": 2,
       "version_minor": 0
      },
      "text/plain": [
       "Predicting: 75it [00:00, ?it/s]"
      ]
     },
     "metadata": {},
     "output_type": "display_data"
    },
    {
     "data": {
      "application/vnd.jupyter.widget-view+json": {
       "model_id": "8ee6dc9a85af4128986bcd397de99d6b",
       "version_major": 2,
       "version_minor": 0
      },
      "text/plain": [
       "Predicting: 75it [00:00, ?it/s]"
      ]
     },
     "metadata": {},
     "output_type": "display_data"
    },
    {
     "data": {
      "application/vnd.jupyter.widget-view+json": {
       "model_id": "bb4e3d681a0c4ced8ada2dcf641f11de",
       "version_major": 2,
       "version_minor": 0
      },
      "text/plain": [
       "Predicting: 75it [00:00, ?it/s]"
      ]
     },
     "metadata": {},
     "output_type": "display_data"
    },
    {
     "data": {
      "application/vnd.jupyter.widget-view+json": {
       "model_id": "f2788f8c239547c2a501e553abbe48e5",
       "version_major": 2,
       "version_minor": 0
      },
      "text/plain": [
       "Predicting: 75it [00:00, ?it/s]"
      ]
     },
     "metadata": {},
     "output_type": "display_data"
    },
    {
     "data": {
      "application/vnd.jupyter.widget-view+json": {
       "model_id": "2953f6b7e3674fb4a9cd6ee5c5e7aa0c",
       "version_major": 2,
       "version_minor": 0
      },
      "text/plain": [
       "Predicting: 75it [00:00, ?it/s]"
      ]
     },
     "metadata": {},
     "output_type": "display_data"
    },
    {
     "data": {
      "application/vnd.jupyter.widget-view+json": {
       "model_id": "08c4f2b8dc1d491e8432b116c1a1b44e",
       "version_major": 2,
       "version_minor": 0
      },
      "text/plain": [
       "Predicting: 75it [00:00, ?it/s]"
      ]
     },
     "metadata": {},
     "output_type": "display_data"
    },
    {
     "data": {
      "application/vnd.jupyter.widget-view+json": {
       "model_id": "0d39372dfa7a400589c96213462ebdeb",
       "version_major": 2,
       "version_minor": 0
      },
      "text/plain": [
       "Predicting: 75it [00:00, ?it/s]"
      ]
     },
     "metadata": {},
     "output_type": "display_data"
    },
    {
     "data": {
      "application/vnd.jupyter.widget-view+json": {
       "model_id": "ff13299f6832486cbb0dfbdbbfc484a2",
       "version_major": 2,
       "version_minor": 0
      },
      "text/plain": [
       "Predicting: 75it [00:00, ?it/s]"
      ]
     },
     "metadata": {},
     "output_type": "display_data"
    },
    {
     "data": {
      "application/vnd.jupyter.widget-view+json": {
       "model_id": "8a28c802c3874f5da55562025b97925e",
       "version_major": 2,
       "version_minor": 0
      },
      "text/plain": [
       "Predicting: 75it [00:00, ?it/s]"
      ]
     },
     "metadata": {},
     "output_type": "display_data"
    },
    {
     "data": {
      "application/vnd.jupyter.widget-view+json": {
       "model_id": "7b88cd6455644a6f8e7323cc9bfac982",
       "version_major": 2,
       "version_minor": 0
      },
      "text/plain": [
       "Predicting: 75it [00:00, ?it/s]"
      ]
     },
     "metadata": {},
     "output_type": "display_data"
    },
    {
     "data": {
      "application/vnd.jupyter.widget-view+json": {
       "model_id": "3b8da59fceda4a9082aa01593950599c",
       "version_major": 2,
       "version_minor": 0
      },
      "text/plain": [
       "Predicting: 75it [00:00, ?it/s]"
      ]
     },
     "metadata": {},
     "output_type": "display_data"
    },
    {
     "data": {
      "application/vnd.jupyter.widget-view+json": {
       "model_id": "2e400f66f4be41c9954aac25ba74dab1",
       "version_major": 2,
       "version_minor": 0
      },
      "text/plain": [
       "Predicting: 75it [00:00, ?it/s]"
      ]
     },
     "metadata": {},
     "output_type": "display_data"
    },
    {
     "data": {
      "application/vnd.jupyter.widget-view+json": {
       "model_id": "d504e93f5fd34fa09755588dcb79c9d4",
       "version_major": 2,
       "version_minor": 0
      },
      "text/plain": [
       "Predicting: 75it [00:00, ?it/s]"
      ]
     },
     "metadata": {},
     "output_type": "display_data"
    },
    {
     "data": {
      "application/vnd.jupyter.widget-view+json": {
       "model_id": "162ae7835ab742dea7af2028029ab9c5",
       "version_major": 2,
       "version_minor": 0
      },
      "text/plain": [
       "Predicting: 75it [00:00, ?it/s]"
      ]
     },
     "metadata": {},
     "output_type": "display_data"
    },
    {
     "data": {
      "application/vnd.jupyter.widget-view+json": {
       "model_id": "bc6358d923e74a88bf6cd1c57d95a116",
       "version_major": 2,
       "version_minor": 0
      },
      "text/plain": [
       "Predicting: 75it [00:00, ?it/s]"
      ]
     },
     "metadata": {},
     "output_type": "display_data"
    },
    {
     "data": {
      "application/vnd.jupyter.widget-view+json": {
       "model_id": "bbd6e6e1051d4087b2de9d1212210a3f",
       "version_major": 2,
       "version_minor": 0
      },
      "text/plain": [
       "Predicting: 75it [00:00, ?it/s]"
      ]
     },
     "metadata": {},
     "output_type": "display_data"
    },
    {
     "data": {
      "application/vnd.jupyter.widget-view+json": {
       "model_id": "0a838bbfdc4e4e5a9e75810944a49fcd",
       "version_major": 2,
       "version_minor": 0
      },
      "text/plain": [
       "Predicting: 75it [00:00, ?it/s]"
      ]
     },
     "metadata": {},
     "output_type": "display_data"
    },
    {
     "data": {
      "application/vnd.jupyter.widget-view+json": {
       "model_id": "df45e7a0e3f14c8c9642408c33797e68",
       "version_major": 2,
       "version_minor": 0
      },
      "text/plain": [
       "Predicting: 75it [00:00, ?it/s]"
      ]
     },
     "metadata": {},
     "output_type": "display_data"
    },
    {
     "data": {
      "application/vnd.jupyter.widget-view+json": {
       "model_id": "18c16a3c4cbc46a6a1b06681e1116f4f",
       "version_major": 2,
       "version_minor": 0
      },
      "text/plain": [
       "Predicting: 75it [00:00, ?it/s]"
      ]
     },
     "metadata": {},
     "output_type": "display_data"
    },
    {
     "data": {
      "application/vnd.jupyter.widget-view+json": {
       "model_id": "febf828add2f4049b2efd9b2194ad6d0",
       "version_major": 2,
       "version_minor": 0
      },
      "text/plain": [
       "Predicting: 75it [00:00, ?it/s]"
      ]
     },
     "metadata": {},
     "output_type": "display_data"
    },
    {
     "data": {
      "application/vnd.jupyter.widget-view+json": {
       "model_id": "be168608555f4477abe04b1554f018f5",
       "version_major": 2,
       "version_minor": 0
      },
      "text/plain": [
       "Predicting: 75it [00:00, ?it/s]"
      ]
     },
     "metadata": {},
     "output_type": "display_data"
    },
    {
     "data": {
      "application/vnd.jupyter.widget-view+json": {
       "model_id": "2aac60df258c40da96687379d790ba00",
       "version_major": 2,
       "version_minor": 0
      },
      "text/plain": [
       "Predicting: 75it [00:00, ?it/s]"
      ]
     },
     "metadata": {},
     "output_type": "display_data"
    },
    {
     "data": {
      "application/vnd.jupyter.widget-view+json": {
       "model_id": "4e21e3b0db6c451c8d1262af385fb811",
       "version_major": 2,
       "version_minor": 0
      },
      "text/plain": [
       "Predicting: 75it [00:00, ?it/s]"
      ]
     },
     "metadata": {},
     "output_type": "display_data"
    },
    {
     "data": {
      "application/vnd.jupyter.widget-view+json": {
       "model_id": "19265b3752ba4f02b6591027dd379224",
       "version_major": 2,
       "version_minor": 0
      },
      "text/plain": [
       "Predicting: 75it [00:00, ?it/s]"
      ]
     },
     "metadata": {},
     "output_type": "display_data"
    },
    {
     "data": {
      "application/vnd.jupyter.widget-view+json": {
       "model_id": "2ea2a14eb32145edb1396e83d083fa3a",
       "version_major": 2,
       "version_minor": 0
      },
      "text/plain": [
       "Predicting: 75it [00:00, ?it/s]"
      ]
     },
     "metadata": {},
     "output_type": "display_data"
    },
    {
     "data": {
      "application/vnd.jupyter.widget-view+json": {
       "model_id": "a016cdb5286e4f42ad5ee66fd675089a",
       "version_major": 2,
       "version_minor": 0
      },
      "text/plain": [
       "Predicting: 75it [00:00, ?it/s]"
      ]
     },
     "metadata": {},
     "output_type": "display_data"
    },
    {
     "data": {
      "application/vnd.jupyter.widget-view+json": {
       "model_id": "7f9f795d3179462e89b99c02447c3bda",
       "version_major": 2,
       "version_minor": 0
      },
      "text/plain": [
       "Predicting: 75it [00:00, ?it/s]"
      ]
     },
     "metadata": {},
     "output_type": "display_data"
    },
    {
     "data": {
      "application/vnd.jupyter.widget-view+json": {
       "model_id": "a2c231738a944123870d8653b15d700b",
       "version_major": 2,
       "version_minor": 0
      },
      "text/plain": [
       "Predicting: 75it [00:00, ?it/s]"
      ]
     },
     "metadata": {},
     "output_type": "display_data"
    },
    {
     "data": {
      "application/vnd.jupyter.widget-view+json": {
       "model_id": "6cf9794bca5b4fb9b29e891595abcc55",
       "version_major": 2,
       "version_minor": 0
      },
      "text/plain": [
       "Predicting: 75it [00:00, ?it/s]"
      ]
     },
     "metadata": {},
     "output_type": "display_data"
    },
    {
     "data": {
      "application/vnd.jupyter.widget-view+json": {
       "model_id": "4091ddff42ac42818b5e83778ca789c2",
       "version_major": 2,
       "version_minor": 0
      },
      "text/plain": [
       "Predicting: 75it [00:00, ?it/s]"
      ]
     },
     "metadata": {},
     "output_type": "display_data"
    },
    {
     "data": {
      "application/vnd.jupyter.widget-view+json": {
       "model_id": "7e00044f11674c48a10a64f2bcf22b47",
       "version_major": 2,
       "version_minor": 0
      },
      "text/plain": [
       "Predicting: 75it [00:00, ?it/s]"
      ]
     },
     "metadata": {},
     "output_type": "display_data"
    },
    {
     "data": {
      "application/vnd.jupyter.widget-view+json": {
       "model_id": "467bb0e856e04961a5c2800cf0a6c494",
       "version_major": 2,
       "version_minor": 0
      },
      "text/plain": [
       "Predicting: 75it [00:00, ?it/s]"
      ]
     },
     "metadata": {},
     "output_type": "display_data"
    },
    {
     "data": {
      "application/vnd.jupyter.widget-view+json": {
       "model_id": "fa588a302e934690a0e6fef6c5df1aac",
       "version_major": 2,
       "version_minor": 0
      },
      "text/plain": [
       "Predicting: 75it [00:00, ?it/s]"
      ]
     },
     "metadata": {},
     "output_type": "display_data"
    },
    {
     "data": {
      "application/vnd.jupyter.widget-view+json": {
       "model_id": "c5425c4b13044f438df518225aeeb794",
       "version_major": 2,
       "version_minor": 0
      },
      "text/plain": [
       "Predicting: 75it [00:00, ?it/s]"
      ]
     },
     "metadata": {},
     "output_type": "display_data"
    },
    {
     "data": {
      "application/vnd.jupyter.widget-view+json": {
       "model_id": "a6c4115f9e8d42a69409b2ba076aa823",
       "version_major": 2,
       "version_minor": 0
      },
      "text/plain": [
       "Predicting: 75it [00:00, ?it/s]"
      ]
     },
     "metadata": {},
     "output_type": "display_data"
    },
    {
     "data": {
      "application/vnd.jupyter.widget-view+json": {
       "model_id": "c5411782e6774f6492329a6abc9856d5",
       "version_major": 2,
       "version_minor": 0
      },
      "text/plain": [
       "Predicting: 75it [00:00, ?it/s]"
      ]
     },
     "metadata": {},
     "output_type": "display_data"
    },
    {
     "data": {
      "application/vnd.jupyter.widget-view+json": {
       "model_id": "141e551788a04a96b6651a139a7ffe05",
       "version_major": 2,
       "version_minor": 0
      },
      "text/plain": [
       "Predicting: 75it [00:00, ?it/s]"
      ]
     },
     "metadata": {},
     "output_type": "display_data"
    },
    {
     "data": {
      "application/vnd.jupyter.widget-view+json": {
       "model_id": "10375bd02f1a44d8a37d38580cfb44d4",
       "version_major": 2,
       "version_minor": 0
      },
      "text/plain": [
       "Predicting: 75it [00:00, ?it/s]"
      ]
     },
     "metadata": {},
     "output_type": "display_data"
    },
    {
     "data": {
      "application/vnd.jupyter.widget-view+json": {
       "model_id": "fd9202d602ce40a6b91399fd69d5dcc3",
       "version_major": 2,
       "version_minor": 0
      },
      "text/plain": [
       "Predicting: 75it [00:00, ?it/s]"
      ]
     },
     "metadata": {},
     "output_type": "display_data"
    },
    {
     "data": {
      "application/vnd.jupyter.widget-view+json": {
       "model_id": "4cf385ce33a64071930ee6ac536c454f",
       "version_major": 2,
       "version_minor": 0
      },
      "text/plain": [
       "Predicting: 75it [00:00, ?it/s]"
      ]
     },
     "metadata": {},
     "output_type": "display_data"
    },
    {
     "data": {
      "application/vnd.jupyter.widget-view+json": {
       "model_id": "381d2f3da26e4f1398e548b69ef61973",
       "version_major": 2,
       "version_minor": 0
      },
      "text/plain": [
       "Predicting: 75it [00:00, ?it/s]"
      ]
     },
     "metadata": {},
     "output_type": "display_data"
    },
    {
     "data": {
      "application/vnd.jupyter.widget-view+json": {
       "model_id": "1c1bbd22cdb3412286a1ba0f41044a2e",
       "version_major": 2,
       "version_minor": 0
      },
      "text/plain": [
       "Predicting: 75it [00:00, ?it/s]"
      ]
     },
     "metadata": {},
     "output_type": "display_data"
    },
    {
     "data": {
      "application/vnd.jupyter.widget-view+json": {
       "model_id": "2741409ae82d40b18ff59b6487ad9b0b",
       "version_major": 2,
       "version_minor": 0
      },
      "text/plain": [
       "Predicting: 75it [00:00, ?it/s]"
      ]
     },
     "metadata": {},
     "output_type": "display_data"
    },
    {
     "data": {
      "application/vnd.jupyter.widget-view+json": {
       "model_id": "bc1088ca43af454d95cfb5bce707d020",
       "version_major": 2,
       "version_minor": 0
      },
      "text/plain": [
       "Predicting: 75it [00:00, ?it/s]"
      ]
     },
     "metadata": {},
     "output_type": "display_data"
    },
    {
     "data": {
      "application/vnd.jupyter.widget-view+json": {
       "model_id": "cb0b22ed3ec1466ca7e7d182dd42a95a",
       "version_major": 2,
       "version_minor": 0
      },
      "text/plain": [
       "Predicting: 75it [00:00, ?it/s]"
      ]
     },
     "metadata": {},
     "output_type": "display_data"
    },
    {
     "data": {
      "application/vnd.jupyter.widget-view+json": {
       "model_id": "7749894352a84a79a1a4147adb63e64d",
       "version_major": 2,
       "version_minor": 0
      },
      "text/plain": [
       "Predicting: 75it [00:00, ?it/s]"
      ]
     },
     "metadata": {},
     "output_type": "display_data"
    },
    {
     "data": {
      "application/vnd.jupyter.widget-view+json": {
       "model_id": "816d9c715cb7475d89b291dee2cc75fd",
       "version_major": 2,
       "version_minor": 0
      },
      "text/plain": [
       "Predicting: 75it [00:00, ?it/s]"
      ]
     },
     "metadata": {},
     "output_type": "display_data"
    },
    {
     "data": {
      "application/vnd.jupyter.widget-view+json": {
       "model_id": "9c20330d22f44ab4aa6e201988429f78",
       "version_major": 2,
       "version_minor": 0
      },
      "text/plain": [
       "Predicting: 75it [00:00, ?it/s]"
      ]
     },
     "metadata": {},
     "output_type": "display_data"
    },
    {
     "data": {
      "application/vnd.jupyter.widget-view+json": {
       "model_id": "334e0c445bc740ab9196cd36cb26fe20",
       "version_major": 2,
       "version_minor": 0
      },
      "text/plain": [
       "Predicting: 75it [00:00, ?it/s]"
      ]
     },
     "metadata": {},
     "output_type": "display_data"
    },
    {
     "data": {
      "application/vnd.jupyter.widget-view+json": {
       "model_id": "a61fc0de1aee49499fe98cd59d83418d",
       "version_major": 2,
       "version_minor": 0
      },
      "text/plain": [
       "Predicting: 75it [00:00, ?it/s]"
      ]
     },
     "metadata": {},
     "output_type": "display_data"
    },
    {
     "data": {
      "application/vnd.jupyter.widget-view+json": {
       "model_id": "b3f45d0b43d84add9959db87581bfe4f",
       "version_major": 2,
       "version_minor": 0
      },
      "text/plain": [
       "Predicting: 75it [00:00, ?it/s]"
      ]
     },
     "metadata": {},
     "output_type": "display_data"
    },
    {
     "data": {
      "application/vnd.jupyter.widget-view+json": {
       "model_id": "3a6beee61cdc4aed923fb7b6f9b34a5a",
       "version_major": 2,
       "version_minor": 0
      },
      "text/plain": [
       "Predicting: 75it [00:00, ?it/s]"
      ]
     },
     "metadata": {},
     "output_type": "display_data"
    },
    {
     "data": {
      "application/vnd.jupyter.widget-view+json": {
       "model_id": "123ece5d676e42a58f8fd3fda182d5a1",
       "version_major": 2,
       "version_minor": 0
      },
      "text/plain": [
       "Predicting: 75it [00:00, ?it/s]"
      ]
     },
     "metadata": {},
     "output_type": "display_data"
    },
    {
     "data": {
      "application/vnd.jupyter.widget-view+json": {
       "model_id": "7bf78065d9a0475787d524df4eee06cb",
       "version_major": 2,
       "version_minor": 0
      },
      "text/plain": [
       "Predicting: 75it [00:00, ?it/s]"
      ]
     },
     "metadata": {},
     "output_type": "display_data"
    },
    {
     "data": {
      "application/vnd.jupyter.widget-view+json": {
       "model_id": "2db4ec8b552d4a2ebac846421aa08e8a",
       "version_major": 2,
       "version_minor": 0
      },
      "text/plain": [
       "Predicting: 75it [00:00, ?it/s]"
      ]
     },
     "metadata": {},
     "output_type": "display_data"
    },
    {
     "data": {
      "application/vnd.jupyter.widget-view+json": {
       "model_id": "8941e59bd3584d9a84ab013e5be97b99",
       "version_major": 2,
       "version_minor": 0
      },
      "text/plain": [
       "Predicting: 75it [00:00, ?it/s]"
      ]
     },
     "metadata": {},
     "output_type": "display_data"
    },
    {
     "data": {
      "application/vnd.jupyter.widget-view+json": {
       "model_id": "22a59bcc1db0439eb803a6202a939663",
       "version_major": 2,
       "version_minor": 0
      },
      "text/plain": [
       "Predicting: 75it [00:00, ?it/s]"
      ]
     },
     "metadata": {},
     "output_type": "display_data"
    },
    {
     "data": {
      "application/vnd.jupyter.widget-view+json": {
       "model_id": "d4afc77243174082b2ed0a3600ece0c1",
       "version_major": 2,
       "version_minor": 0
      },
      "text/plain": [
       "Predicting: 75it [00:00, ?it/s]"
      ]
     },
     "metadata": {},
     "output_type": "display_data"
    },
    {
     "data": {
      "application/vnd.jupyter.widget-view+json": {
       "model_id": "e936de528a7949c7902d749a65c56cd0",
       "version_major": 2,
       "version_minor": 0
      },
      "text/plain": [
       "Predicting: 75it [00:00, ?it/s]"
      ]
     },
     "metadata": {},
     "output_type": "display_data"
    },
    {
     "data": {
      "application/vnd.jupyter.widget-view+json": {
       "model_id": "34487e20a96f45af85497ac0ba3b8492",
       "version_major": 2,
       "version_minor": 0
      },
      "text/plain": [
       "Predicting: 75it [00:00, ?it/s]"
      ]
     },
     "metadata": {},
     "output_type": "display_data"
    },
    {
     "data": {
      "application/vnd.jupyter.widget-view+json": {
       "model_id": "17773bdec8a04dfab32bcad17482450b",
       "version_major": 2,
       "version_minor": 0
      },
      "text/plain": [
       "Predicting: 75it [00:00, ?it/s]"
      ]
     },
     "metadata": {},
     "output_type": "display_data"
    },
    {
     "data": {
      "application/vnd.jupyter.widget-view+json": {
       "model_id": "8d390ae88c4a4a13b60cf94cc1e314e4",
       "version_major": 2,
       "version_minor": 0
      },
      "text/plain": [
       "Predicting: 75it [00:00, ?it/s]"
      ]
     },
     "metadata": {},
     "output_type": "display_data"
    },
    {
     "data": {
      "application/vnd.jupyter.widget-view+json": {
       "model_id": "9aa34fda877a43f08d75f674f1051f8d",
       "version_major": 2,
       "version_minor": 0
      },
      "text/plain": [
       "Predicting: 75it [00:00, ?it/s]"
      ]
     },
     "metadata": {},
     "output_type": "display_data"
    },
    {
     "data": {
      "application/vnd.jupyter.widget-view+json": {
       "model_id": "b42507ef437348eab5cdbe87d94372f7",
       "version_major": 2,
       "version_minor": 0
      },
      "text/plain": [
       "Predicting: 75it [00:00, ?it/s]"
      ]
     },
     "metadata": {},
     "output_type": "display_data"
    },
    {
     "data": {
      "application/vnd.jupyter.widget-view+json": {
       "model_id": "455e154bc9d849de90e9147fb7c99c77",
       "version_major": 2,
       "version_minor": 0
      },
      "text/plain": [
       "Predicting: 75it [00:00, ?it/s]"
      ]
     },
     "metadata": {},
     "output_type": "display_data"
    },
    {
     "data": {
      "application/vnd.jupyter.widget-view+json": {
       "model_id": "6767360340ca405086df4875e32d6f69",
       "version_major": 2,
       "version_minor": 0
      },
      "text/plain": [
       "Predicting: 75it [00:00, ?it/s]"
      ]
     },
     "metadata": {},
     "output_type": "display_data"
    },
    {
     "data": {
      "application/vnd.jupyter.widget-view+json": {
       "model_id": "61a226ba079644a3bed3fb43a60fc9ae",
       "version_major": 2,
       "version_minor": 0
      },
      "text/plain": [
       "Predicting: 75it [00:00, ?it/s]"
      ]
     },
     "metadata": {},
     "output_type": "display_data"
    },
    {
     "data": {
      "application/vnd.jupyter.widget-view+json": {
       "model_id": "14be99e4915648edb7c8f61fcb968862",
       "version_major": 2,
       "version_minor": 0
      },
      "text/plain": [
       "Predicting: 75it [00:00, ?it/s]"
      ]
     },
     "metadata": {},
     "output_type": "display_data"
    },
    {
     "data": {
      "application/vnd.jupyter.widget-view+json": {
       "model_id": "d32bd03f8c754ffb8e48087f116fc9bc",
       "version_major": 2,
       "version_minor": 0
      },
      "text/plain": [
       "Predicting: 75it [00:00, ?it/s]"
      ]
     },
     "metadata": {},
     "output_type": "display_data"
    },
    {
     "data": {
      "application/vnd.jupyter.widget-view+json": {
       "model_id": "d316f61328f441d5b0630f2b4aa68ea1",
       "version_major": 2,
       "version_minor": 0
      },
      "text/plain": [
       "Predicting: 75it [00:00, ?it/s]"
      ]
     },
     "metadata": {},
     "output_type": "display_data"
    },
    {
     "data": {
      "application/vnd.jupyter.widget-view+json": {
       "model_id": "7ec40f5230b84cf59395028c52cc3e09",
       "version_major": 2,
       "version_minor": 0
      },
      "text/plain": [
       "Predicting: 75it [00:00, ?it/s]"
      ]
     },
     "metadata": {},
     "output_type": "display_data"
    },
    {
     "data": {
      "application/vnd.jupyter.widget-view+json": {
       "model_id": "81691aebb6a74778a5eff6aedac4f593",
       "version_major": 2,
       "version_minor": 0
      },
      "text/plain": [
       "Predicting: 75it [00:00, ?it/s]"
      ]
     },
     "metadata": {},
     "output_type": "display_data"
    },
    {
     "data": {
      "application/vnd.jupyter.widget-view+json": {
       "model_id": "809f27bcca044409a1cca69ecf7197d4",
       "version_major": 2,
       "version_minor": 0
      },
      "text/plain": [
       "Predicting: 75it [00:00, ?it/s]"
      ]
     },
     "metadata": {},
     "output_type": "display_data"
    },
    {
     "data": {
      "application/vnd.jupyter.widget-view+json": {
       "model_id": "0e6a4f55feaa476ba8fb35a974785dc6",
       "version_major": 2,
       "version_minor": 0
      },
      "text/plain": [
       "Predicting: 75it [00:00, ?it/s]"
      ]
     },
     "metadata": {},
     "output_type": "display_data"
    },
    {
     "data": {
      "application/vnd.jupyter.widget-view+json": {
       "model_id": "e5d1832fddfa47739da7c8ac69e4e1f1",
       "version_major": 2,
       "version_minor": 0
      },
      "text/plain": [
       "Predicting: 75it [00:00, ?it/s]"
      ]
     },
     "metadata": {},
     "output_type": "display_data"
    },
    {
     "data": {
      "application/vnd.jupyter.widget-view+json": {
       "model_id": "4a2091167b5043d8985e1e7bdac0fd7e",
       "version_major": 2,
       "version_minor": 0
      },
      "text/plain": [
       "Predicting: 75it [00:00, ?it/s]"
      ]
     },
     "metadata": {},
     "output_type": "display_data"
    },
    {
     "data": {
      "application/vnd.jupyter.widget-view+json": {
       "model_id": "b757105c3e404116918f63d2d97ebecd",
       "version_major": 2,
       "version_minor": 0
      },
      "text/plain": [
       "Predicting: 75it [00:00, ?it/s]"
      ]
     },
     "metadata": {},
     "output_type": "display_data"
    },
    {
     "data": {
      "application/vnd.jupyter.widget-view+json": {
       "model_id": "61c994cefec443c6bd671dbfbee96ea6",
       "version_major": 2,
       "version_minor": 0
      },
      "text/plain": [
       "Predicting: 75it [00:00, ?it/s]"
      ]
     },
     "metadata": {},
     "output_type": "display_data"
    },
    {
     "data": {
      "application/vnd.jupyter.widget-view+json": {
       "model_id": "0f7b71a09a8c48e3afa5f1978546d13a",
       "version_major": 2,
       "version_minor": 0
      },
      "text/plain": [
       "Predicting: 75it [00:00, ?it/s]"
      ]
     },
     "metadata": {},
     "output_type": "display_data"
    },
    {
     "data": {
      "application/vnd.jupyter.widget-view+json": {
       "model_id": "3f62c55416aa4d92b6bdc23dac35b4f0",
       "version_major": 2,
       "version_minor": 0
      },
      "text/plain": [
       "Predicting: 75it [00:00, ?it/s]"
      ]
     },
     "metadata": {},
     "output_type": "display_data"
    },
    {
     "data": {
      "application/vnd.jupyter.widget-view+json": {
       "model_id": "e057bde63b5749a9b63a7853a2caeabe",
       "version_major": 2,
       "version_minor": 0
      },
      "text/plain": [
       "Predicting: 75it [00:00, ?it/s]"
      ]
     },
     "metadata": {},
     "output_type": "display_data"
    },
    {
     "data": {
      "application/vnd.jupyter.widget-view+json": {
       "model_id": "e2e8c4cd395e4581b30de04a4117234c",
       "version_major": 2,
       "version_minor": 0
      },
      "text/plain": [
       "Predicting: 75it [00:00, ?it/s]"
      ]
     },
     "metadata": {},
     "output_type": "display_data"
    },
    {
     "data": {
      "application/vnd.jupyter.widget-view+json": {
       "model_id": "7de9543875244836be6f9aabea1bba72",
       "version_major": 2,
       "version_minor": 0
      },
      "text/plain": [
       "Predicting: 75it [00:00, ?it/s]"
      ]
     },
     "metadata": {},
     "output_type": "display_data"
    },
    {
     "data": {
      "application/vnd.jupyter.widget-view+json": {
       "model_id": "f2610ed2fdb14188a5ee995ba448585a",
       "version_major": 2,
       "version_minor": 0
      },
      "text/plain": [
       "Predicting: 75it [00:00, ?it/s]"
      ]
     },
     "metadata": {},
     "output_type": "display_data"
    },
    {
     "data": {
      "application/vnd.jupyter.widget-view+json": {
       "model_id": "965d4ea51f404193a0151660de13e694",
       "version_major": 2,
       "version_minor": 0
      },
      "text/plain": [
       "Predicting: 75it [00:00, ?it/s]"
      ]
     },
     "metadata": {},
     "output_type": "display_data"
    },
    {
     "data": {
      "application/vnd.jupyter.widget-view+json": {
       "model_id": "e01cd1a6702745778e19870606737ec3",
       "version_major": 2,
       "version_minor": 0
      },
      "text/plain": [
       "Predicting: 75it [00:00, ?it/s]"
      ]
     },
     "metadata": {},
     "output_type": "display_data"
    },
    {
     "data": {
      "application/vnd.jupyter.widget-view+json": {
       "model_id": "a90d8bff7bd449aeaf463703f986c378",
       "version_major": 2,
       "version_minor": 0
      },
      "text/plain": [
       "Predicting: 75it [00:00, ?it/s]"
      ]
     },
     "metadata": {},
     "output_type": "display_data"
    },
    {
     "data": {
      "application/vnd.jupyter.widget-view+json": {
       "model_id": "78a8b09c0e764167aeb9a012bb2843d6",
       "version_major": 2,
       "version_minor": 0
      },
      "text/plain": [
       "Predicting: 75it [00:00, ?it/s]"
      ]
     },
     "metadata": {},
     "output_type": "display_data"
    },
    {
     "data": {
      "application/vnd.jupyter.widget-view+json": {
       "model_id": "ce14e00692724fb188056a4b6d147030",
       "version_major": 2,
       "version_minor": 0
      },
      "text/plain": [
       "Predicting: 75it [00:00, ?it/s]"
      ]
     },
     "metadata": {},
     "output_type": "display_data"
    },
    {
     "data": {
      "application/vnd.jupyter.widget-view+json": {
       "model_id": "b29851c6fb9143dcbb59bdfe0b2a4a87",
       "version_major": 2,
       "version_minor": 0
      },
      "text/plain": [
       "Predicting: 75it [00:00, ?it/s]"
      ]
     },
     "metadata": {},
     "output_type": "display_data"
    },
    {
     "data": {
      "application/vnd.jupyter.widget-view+json": {
       "model_id": "1fe890a1d61a4f87ace9fb0fc92bfd68",
       "version_major": 2,
       "version_minor": 0
      },
      "text/plain": [
       "Predicting: 75it [00:00, ?it/s]"
      ]
     },
     "metadata": {},
     "output_type": "display_data"
    },
    {
     "data": {
      "application/vnd.jupyter.widget-view+json": {
       "model_id": "dec07b2f29d444f79c830cb27f4b2f97",
       "version_major": 2,
       "version_minor": 0
      },
      "text/plain": [
       "Predicting: 75it [00:00, ?it/s]"
      ]
     },
     "metadata": {},
     "output_type": "display_data"
    },
    {
     "data": {
      "application/vnd.jupyter.widget-view+json": {
       "model_id": "960d8e5cd1054956a44084d0e86735f4",
       "version_major": 2,
       "version_minor": 0
      },
      "text/plain": [
       "Predicting: 75it [00:00, ?it/s]"
      ]
     },
     "metadata": {},
     "output_type": "display_data"
    },
    {
     "data": {
      "application/vnd.jupyter.widget-view+json": {
       "model_id": "c272a60e24b440d0b4cc397ffb417099",
       "version_major": 2,
       "version_minor": 0
      },
      "text/plain": [
       "Predicting: 75it [00:00, ?it/s]"
      ]
     },
     "metadata": {},
     "output_type": "display_data"
    },
    {
     "data": {
      "application/vnd.jupyter.widget-view+json": {
       "model_id": "8267b312120044b5b3c67e35e3aca1d1",
       "version_major": 2,
       "version_minor": 0
      },
      "text/plain": [
       "Predicting: 75it [00:00, ?it/s]"
      ]
     },
     "metadata": {},
     "output_type": "display_data"
    },
    {
     "data": {
      "application/vnd.jupyter.widget-view+json": {
       "model_id": "1fd43683cb1341d3b96f264bf3e084c1",
       "version_major": 2,
       "version_minor": 0
      },
      "text/plain": [
       "Predicting: 75it [00:00, ?it/s]"
      ]
     },
     "metadata": {},
     "output_type": "display_data"
    },
    {
     "data": {
      "application/vnd.jupyter.widget-view+json": {
       "model_id": "9173ae87edc74c78bf4ba9ad8381f1f4",
       "version_major": 2,
       "version_minor": 0
      },
      "text/plain": [
       "Predicting: 75it [00:00, ?it/s]"
      ]
     },
     "metadata": {},
     "output_type": "display_data"
    },
    {
     "data": {
      "application/vnd.jupyter.widget-view+json": {
       "model_id": "739b6e0129da452697783687d1a61b01",
       "version_major": 2,
       "version_minor": 0
      },
      "text/plain": [
       "Predicting: 75it [00:00, ?it/s]"
      ]
     },
     "metadata": {},
     "output_type": "display_data"
    },
    {
     "data": {
      "application/vnd.jupyter.widget-view+json": {
       "model_id": "bd4d5a233c824b559853d1dd71848961",
       "version_major": 2,
       "version_minor": 0
      },
      "text/plain": [
       "Predicting: 75it [00:00, ?it/s]"
      ]
     },
     "metadata": {},
     "output_type": "display_data"
    },
    {
     "data": {
      "application/vnd.jupyter.widget-view+json": {
       "model_id": "1e7f7f4730c041de9ee37c31ca5e2001",
       "version_major": 2,
       "version_minor": 0
      },
      "text/plain": [
       "Predicting: 75it [00:00, ?it/s]"
      ]
     },
     "metadata": {},
     "output_type": "display_data"
    },
    {
     "data": {
      "application/vnd.jupyter.widget-view+json": {
       "model_id": "ca37c969cf3441ca8ca8cd99c201c40d",
       "version_major": 2,
       "version_minor": 0
      },
      "text/plain": [
       "Predicting: 75it [00:00, ?it/s]"
      ]
     },
     "metadata": {},
     "output_type": "display_data"
    },
    {
     "data": {
      "application/vnd.jupyter.widget-view+json": {
       "model_id": "9e887ac2c4d14d2e922a5cc815c959bb",
       "version_major": 2,
       "version_minor": 0
      },
      "text/plain": [
       "Predicting: 75it [00:00, ?it/s]"
      ]
     },
     "metadata": {},
     "output_type": "display_data"
    },
    {
     "data": {
      "application/vnd.jupyter.widget-view+json": {
       "model_id": "a6050faebaf0427cbb5802745a990eea",
       "version_major": 2,
       "version_minor": 0
      },
      "text/plain": [
       "Predicting: 75it [00:00, ?it/s]"
      ]
     },
     "metadata": {},
     "output_type": "display_data"
    },
    {
     "data": {
      "application/vnd.jupyter.widget-view+json": {
       "model_id": "776ce29402dc4e2e83d4135d1c37b29b",
       "version_major": 2,
       "version_minor": 0
      },
      "text/plain": [
       "Predicting: 75it [00:00, ?it/s]"
      ]
     },
     "metadata": {},
     "output_type": "display_data"
    },
    {
     "data": {
      "application/vnd.jupyter.widget-view+json": {
       "model_id": "a27ff1d0d17d47e4a3694c37ee5e4f7d",
       "version_major": 2,
       "version_minor": 0
      },
      "text/plain": [
       "Predicting: 75it [00:00, ?it/s]"
      ]
     },
     "metadata": {},
     "output_type": "display_data"
    },
    {
     "data": {
      "application/vnd.jupyter.widget-view+json": {
       "model_id": "bc290c920c844fa197822ed903516412",
       "version_major": 2,
       "version_minor": 0
      },
      "text/plain": [
       "Predicting: 75it [00:00, ?it/s]"
      ]
     },
     "metadata": {},
     "output_type": "display_data"
    },
    {
     "data": {
      "application/vnd.jupyter.widget-view+json": {
       "model_id": "12696b61302c4d959b0310507b82427c",
       "version_major": 2,
       "version_minor": 0
      },
      "text/plain": [
       "Predicting: 75it [00:00, ?it/s]"
      ]
     },
     "metadata": {},
     "output_type": "display_data"
    },
    {
     "data": {
      "application/vnd.jupyter.widget-view+json": {
       "model_id": "3e666bc3298648fe839f327b68e81395",
       "version_major": 2,
       "version_minor": 0
      },
      "text/plain": [
       "Predicting: 75it [00:00, ?it/s]"
      ]
     },
     "metadata": {},
     "output_type": "display_data"
    },
    {
     "data": {
      "application/vnd.jupyter.widget-view+json": {
       "model_id": "51eb2210541443ef9e2e8f437944ea7c",
       "version_major": 2,
       "version_minor": 0
      },
      "text/plain": [
       "Predicting: 75it [00:00, ?it/s]"
      ]
     },
     "metadata": {},
     "output_type": "display_data"
    },
    {
     "data": {
      "application/vnd.jupyter.widget-view+json": {
       "model_id": "828e42b3046c4901a6c8e1844eaa056d",
       "version_major": 2,
       "version_minor": 0
      },
      "text/plain": [
       "Predicting: 75it [00:00, ?it/s]"
      ]
     },
     "metadata": {},
     "output_type": "display_data"
    },
    {
     "data": {
      "application/vnd.jupyter.widget-view+json": {
       "model_id": "30b03267bf60406da858500d4bd3ff60",
       "version_major": 2,
       "version_minor": 0
      },
      "text/plain": [
       "Predicting: 75it [00:00, ?it/s]"
      ]
     },
     "metadata": {},
     "output_type": "display_data"
    },
    {
     "data": {
      "application/vnd.jupyter.widget-view+json": {
       "model_id": "4c2396342fa24dd5bc749a550815f6fe",
       "version_major": 2,
       "version_minor": 0
      },
      "text/plain": [
       "Predicting: 75it [00:00, ?it/s]"
      ]
     },
     "metadata": {},
     "output_type": "display_data"
    },
    {
     "data": {
      "application/vnd.jupyter.widget-view+json": {
       "model_id": "0a6435ae03204a6e88f15ddd5d1537f0",
       "version_major": 2,
       "version_minor": 0
      },
      "text/plain": [
       "Predicting: 75it [00:00, ?it/s]"
      ]
     },
     "metadata": {},
     "output_type": "display_data"
    },
    {
     "data": {
      "application/vnd.jupyter.widget-view+json": {
       "model_id": "c253becf256a4221972f743a2c5eaf3c",
       "version_major": 2,
       "version_minor": 0
      },
      "text/plain": [
       "Predicting: 75it [00:00, ?it/s]"
      ]
     },
     "metadata": {},
     "output_type": "display_data"
    },
    {
     "data": {
      "application/vnd.jupyter.widget-view+json": {
       "model_id": "9cbc1a1487154c8986d4877a19651324",
       "version_major": 2,
       "version_minor": 0
      },
      "text/plain": [
       "Predicting: 75it [00:00, ?it/s]"
      ]
     },
     "metadata": {},
     "output_type": "display_data"
    },
    {
     "data": {
      "application/vnd.jupyter.widget-view+json": {
       "model_id": "3640412b17bb442797f14a2ba0ff5eac",
       "version_major": 2,
       "version_minor": 0
      },
      "text/plain": [
       "Predicting: 75it [00:00, ?it/s]"
      ]
     },
     "metadata": {},
     "output_type": "display_data"
    },
    {
     "data": {
      "application/vnd.jupyter.widget-view+json": {
       "model_id": "ae68f58d079f4babaec9ddb4b4277fe4",
       "version_major": 2,
       "version_minor": 0
      },
      "text/plain": [
       "Predicting: 75it [00:00, ?it/s]"
      ]
     },
     "metadata": {},
     "output_type": "display_data"
    },
    {
     "data": {
      "application/vnd.jupyter.widget-view+json": {
       "model_id": "09913bbeb63d47f4b6a8d0bcb91222a6",
       "version_major": 2,
       "version_minor": 0
      },
      "text/plain": [
       "Predicting: 75it [00:00, ?it/s]"
      ]
     },
     "metadata": {},
     "output_type": "display_data"
    },
    {
     "data": {
      "application/vnd.jupyter.widget-view+json": {
       "model_id": "5182e25401104ff6a606d8a75a08bca2",
       "version_major": 2,
       "version_minor": 0
      },
      "text/plain": [
       "Predicting: 75it [00:00, ?it/s]"
      ]
     },
     "metadata": {},
     "output_type": "display_data"
    },
    {
     "data": {
      "application/vnd.jupyter.widget-view+json": {
       "model_id": "db0f4776f0c040ec951874b4b13341ab",
       "version_major": 2,
       "version_minor": 0
      },
      "text/plain": [
       "Predicting: 75it [00:00, ?it/s]"
      ]
     },
     "metadata": {},
     "output_type": "display_data"
    },
    {
     "data": {
      "application/vnd.jupyter.widget-view+json": {
       "model_id": "02330a49c9874d16825e3a7c5623e30c",
       "version_major": 2,
       "version_minor": 0
      },
      "text/plain": [
       "Predicting: 75it [00:00, ?it/s]"
      ]
     },
     "metadata": {},
     "output_type": "display_data"
    },
    {
     "data": {
      "application/vnd.jupyter.widget-view+json": {
       "model_id": "c3c2ef1f256f4beba9e06729ddae0f2c",
       "version_major": 2,
       "version_minor": 0
      },
      "text/plain": [
       "Predicting: 75it [00:00, ?it/s]"
      ]
     },
     "metadata": {},
     "output_type": "display_data"
    },
    {
     "data": {
      "application/vnd.jupyter.widget-view+json": {
       "model_id": "a92e4d12d68d46c79d7f41d00b6f21b3",
       "version_major": 2,
       "version_minor": 0
      },
      "text/plain": [
       "Predicting: 75it [00:00, ?it/s]"
      ]
     },
     "metadata": {},
     "output_type": "display_data"
    },
    {
     "data": {
      "application/vnd.jupyter.widget-view+json": {
       "model_id": "f77904ef64eb4a96b6ad45825130d972",
       "version_major": 2,
       "version_minor": 0
      },
      "text/plain": [
       "Predicting: 75it [00:00, ?it/s]"
      ]
     },
     "metadata": {},
     "output_type": "display_data"
    },
    {
     "data": {
      "application/vnd.jupyter.widget-view+json": {
       "model_id": "5dec007c5ff94913a6f1ce5bf68032c3",
       "version_major": 2,
       "version_minor": 0
      },
      "text/plain": [
       "Predicting: 75it [00:00, ?it/s]"
      ]
     },
     "metadata": {},
     "output_type": "display_data"
    },
    {
     "data": {
      "application/vnd.jupyter.widget-view+json": {
       "model_id": "8ec518691e0643bea9da1b4ce8f39a61",
       "version_major": 2,
       "version_minor": 0
      },
      "text/plain": [
       "Predicting: 75it [00:00, ?it/s]"
      ]
     },
     "metadata": {},
     "output_type": "display_data"
    },
    {
     "data": {
      "application/vnd.jupyter.widget-view+json": {
       "model_id": "f67151f2c8b249ce8231c9ea740ddda7",
       "version_major": 2,
       "version_minor": 0
      },
      "text/plain": [
       "Predicting: 75it [00:00, ?it/s]"
      ]
     },
     "metadata": {},
     "output_type": "display_data"
    },
    {
     "data": {
      "application/vnd.jupyter.widget-view+json": {
       "model_id": "a2c651eeff47480e9c72cd1e8cd88a02",
       "version_major": 2,
       "version_minor": 0
      },
      "text/plain": [
       "Predicting: 75it [00:00, ?it/s]"
      ]
     },
     "metadata": {},
     "output_type": "display_data"
    },
    {
     "data": {
      "application/vnd.jupyter.widget-view+json": {
       "model_id": "5d5c2cf7f663447a8c8145d8a33c4081",
       "version_major": 2,
       "version_minor": 0
      },
      "text/plain": [
       "Predicting: 75it [00:00, ?it/s]"
      ]
     },
     "metadata": {},
     "output_type": "display_data"
    },
    {
     "data": {
      "application/vnd.jupyter.widget-view+json": {
       "model_id": "c8d141a1397c436da817e9017be7a4da",
       "version_major": 2,
       "version_minor": 0
      },
      "text/plain": [
       "Predicting: 75it [00:00, ?it/s]"
      ]
     },
     "metadata": {},
     "output_type": "display_data"
    },
    {
     "data": {
      "application/vnd.jupyter.widget-view+json": {
       "model_id": "c927d4629ede4559ba8cca5ab5879bd7",
       "version_major": 2,
       "version_minor": 0
      },
      "text/plain": [
       "Predicting: 75it [00:00, ?it/s]"
      ]
     },
     "metadata": {},
     "output_type": "display_data"
    },
    {
     "data": {
      "application/vnd.jupyter.widget-view+json": {
       "model_id": "6e02e7cefc614313b98c828f0ebc693f",
       "version_major": 2,
       "version_minor": 0
      },
      "text/plain": [
       "Predicting: 75it [00:00, ?it/s]"
      ]
     },
     "metadata": {},
     "output_type": "display_data"
    },
    {
     "data": {
      "application/vnd.jupyter.widget-view+json": {
       "model_id": "1af1dc74182a4ab08cbe7372e666590a",
       "version_major": 2,
       "version_minor": 0
      },
      "text/plain": [
       "Predicting: 75it [00:00, ?it/s]"
      ]
     },
     "metadata": {},
     "output_type": "display_data"
    },
    {
     "data": {
      "application/vnd.jupyter.widget-view+json": {
       "model_id": "c2f366cf60a24727a75562e1446afb12",
       "version_major": 2,
       "version_minor": 0
      },
      "text/plain": [
       "Predicting: 75it [00:00, ?it/s]"
      ]
     },
     "metadata": {},
     "output_type": "display_data"
    },
    {
     "data": {
      "application/vnd.jupyter.widget-view+json": {
       "model_id": "2067ab4556694dbcbe0d1f3791f9c08a",
       "version_major": 2,
       "version_minor": 0
      },
      "text/plain": [
       "Predicting: 75it [00:00, ?it/s]"
      ]
     },
     "metadata": {},
     "output_type": "display_data"
    },
    {
     "data": {
      "application/vnd.jupyter.widget-view+json": {
       "model_id": "784410a7971744959e2fc6e5242e0f4f",
       "version_major": 2,
       "version_minor": 0
      },
      "text/plain": [
       "Predicting: 75it [00:00, ?it/s]"
      ]
     },
     "metadata": {},
     "output_type": "display_data"
    },
    {
     "data": {
      "application/vnd.jupyter.widget-view+json": {
       "model_id": "2778e80f2b0240178cc92e4b98e0609b",
       "version_major": 2,
       "version_minor": 0
      },
      "text/plain": [
       "Predicting: 75it [00:00, ?it/s]"
      ]
     },
     "metadata": {},
     "output_type": "display_data"
    },
    {
     "data": {
      "application/vnd.jupyter.widget-view+json": {
       "model_id": "eee4cd47d53844e0b6ec541e29371f3b",
       "version_major": 2,
       "version_minor": 0
      },
      "text/plain": [
       "Predicting: 75it [00:00, ?it/s]"
      ]
     },
     "metadata": {},
     "output_type": "display_data"
    },
    {
     "data": {
      "application/vnd.jupyter.widget-view+json": {
       "model_id": "d5d3dbf5b3334db7b6d83a0575521863",
       "version_major": 2,
       "version_minor": 0
      },
      "text/plain": [
       "Predicting: 75it [00:00, ?it/s]"
      ]
     },
     "metadata": {},
     "output_type": "display_data"
    },
    {
     "data": {
      "application/vnd.jupyter.widget-view+json": {
       "model_id": "98f9687681db46a4a68bf2a2cbdfd1a0",
       "version_major": 2,
       "version_minor": 0
      },
      "text/plain": [
       "Predicting: 75it [00:00, ?it/s]"
      ]
     },
     "metadata": {},
     "output_type": "display_data"
    },
    {
     "data": {
      "application/vnd.jupyter.widget-view+json": {
       "model_id": "85dbc450a4464228b67b9975396291eb",
       "version_major": 2,
       "version_minor": 0
      },
      "text/plain": [
       "Predicting: 75it [00:00, ?it/s]"
      ]
     },
     "metadata": {},
     "output_type": "display_data"
    },
    {
     "data": {
      "application/vnd.jupyter.widget-view+json": {
       "model_id": "02fec8c1e6ea49aa9125208212b152db",
       "version_major": 2,
       "version_minor": 0
      },
      "text/plain": [
       "Predicting: 75it [00:00, ?it/s]"
      ]
     },
     "metadata": {},
     "output_type": "display_data"
    },
    {
     "data": {
      "application/vnd.jupyter.widget-view+json": {
       "model_id": "6553b893b82b4303b2c9dd82e8734b97",
       "version_major": 2,
       "version_minor": 0
      },
      "text/plain": [
       "Predicting: 75it [00:00, ?it/s]"
      ]
     },
     "metadata": {},
     "output_type": "display_data"
    },
    {
     "data": {
      "application/vnd.jupyter.widget-view+json": {
       "model_id": "f25a06a85909490c8ea0ca5532167279",
       "version_major": 2,
       "version_minor": 0
      },
      "text/plain": [
       "Predicting: 75it [00:00, ?it/s]"
      ]
     },
     "metadata": {},
     "output_type": "display_data"
    },
    {
     "data": {
      "application/vnd.jupyter.widget-view+json": {
       "model_id": "d070b47e70014960909fb79794d636cc",
       "version_major": 2,
       "version_minor": 0
      },
      "text/plain": [
       "Predicting: 75it [00:00, ?it/s]"
      ]
     },
     "metadata": {},
     "output_type": "display_data"
    },
    {
     "data": {
      "application/vnd.jupyter.widget-view+json": {
       "model_id": "8d3b41255f284fce872b63cbf67f3a53",
       "version_major": 2,
       "version_minor": 0
      },
      "text/plain": [
       "Predicting: 75it [00:00, ?it/s]"
      ]
     },
     "metadata": {},
     "output_type": "display_data"
    },
    {
     "data": {
      "application/vnd.jupyter.widget-view+json": {
       "model_id": "d086da14852d42adb00b974feaf053d6",
       "version_major": 2,
       "version_minor": 0
      },
      "text/plain": [
       "Predicting: 75it [00:00, ?it/s]"
      ]
     },
     "metadata": {},
     "output_type": "display_data"
    },
    {
     "data": {
      "application/vnd.jupyter.widget-view+json": {
       "model_id": "5f497b19426b426ebb249c8e2085ac9b",
       "version_major": 2,
       "version_minor": 0
      },
      "text/plain": [
       "Predicting: 75it [00:00, ?it/s]"
      ]
     },
     "metadata": {},
     "output_type": "display_data"
    },
    {
     "data": {
      "application/vnd.jupyter.widget-view+json": {
       "model_id": "ceef2b1324dd48bd837eb8af4f8387ae",
       "version_major": 2,
       "version_minor": 0
      },
      "text/plain": [
       "Predicting: 75it [00:00, ?it/s]"
      ]
     },
     "metadata": {},
     "output_type": "display_data"
    },
    {
     "data": {
      "application/vnd.jupyter.widget-view+json": {
       "model_id": "ed30e136bbc6467a8da4f8d2f2b3621e",
       "version_major": 2,
       "version_minor": 0
      },
      "text/plain": [
       "Predicting: 75it [00:00, ?it/s]"
      ]
     },
     "metadata": {},
     "output_type": "display_data"
    },
    {
     "data": {
      "application/vnd.jupyter.widget-view+json": {
       "model_id": "f5351f6c842d42dfafd873ab932bf2c2",
       "version_major": 2,
       "version_minor": 0
      },
      "text/plain": [
       "Predicting: 75it [00:00, ?it/s]"
      ]
     },
     "metadata": {},
     "output_type": "display_data"
    },
    {
     "data": {
      "application/vnd.jupyter.widget-view+json": {
       "model_id": "b882e4e06acb458892f8189f28839ac5",
       "version_major": 2,
       "version_minor": 0
      },
      "text/plain": [
       "Predicting: 75it [00:00, ?it/s]"
      ]
     },
     "metadata": {},
     "output_type": "display_data"
    },
    {
     "data": {
      "application/vnd.jupyter.widget-view+json": {
       "model_id": "a6a847784f694fa2bd4f90c500b02e29",
       "version_major": 2,
       "version_minor": 0
      },
      "text/plain": [
       "Predicting: 75it [00:00, ?it/s]"
      ]
     },
     "metadata": {},
     "output_type": "display_data"
    },
    {
     "data": {
      "application/vnd.jupyter.widget-view+json": {
       "model_id": "39827db0d9e44fac8295141c6caac838",
       "version_major": 2,
       "version_minor": 0
      },
      "text/plain": [
       "Predicting: 75it [00:00, ?it/s]"
      ]
     },
     "metadata": {},
     "output_type": "display_data"
    },
    {
     "data": {
      "application/vnd.jupyter.widget-view+json": {
       "model_id": "cbfde769aa58485d832d27528d5caf89",
       "version_major": 2,
       "version_minor": 0
      },
      "text/plain": [
       "Predicting: 75it [00:00, ?it/s]"
      ]
     },
     "metadata": {},
     "output_type": "display_data"
    },
    {
     "data": {
      "application/vnd.jupyter.widget-view+json": {
       "model_id": "9cd17f41d74f483880f2f9fadd7638e1",
       "version_major": 2,
       "version_minor": 0
      },
      "text/plain": [
       "Predicting: 75it [00:00, ?it/s]"
      ]
     },
     "metadata": {},
     "output_type": "display_data"
    },
    {
     "data": {
      "application/vnd.jupyter.widget-view+json": {
       "model_id": "03158df8b03a4914bac5261276b5151e",
       "version_major": 2,
       "version_minor": 0
      },
      "text/plain": [
       "Predicting: 75it [00:00, ?it/s]"
      ]
     },
     "metadata": {},
     "output_type": "display_data"
    },
    {
     "data": {
      "application/vnd.jupyter.widget-view+json": {
       "model_id": "1e9d99092eb74fddae4e9ac96cd9881c",
       "version_major": 2,
       "version_minor": 0
      },
      "text/plain": [
       "Predicting: 75it [00:00, ?it/s]"
      ]
     },
     "metadata": {},
     "output_type": "display_data"
    },
    {
     "data": {
      "application/vnd.jupyter.widget-view+json": {
       "model_id": "d90ef3e94aee4117873e9490ea8c1cd5",
       "version_major": 2,
       "version_minor": 0
      },
      "text/plain": [
       "Predicting: 75it [00:00, ?it/s]"
      ]
     },
     "metadata": {},
     "output_type": "display_data"
    },
    {
     "data": {
      "application/vnd.jupyter.widget-view+json": {
       "model_id": "40dec6c36db644708e8c8926fe412a45",
       "version_major": 2,
       "version_minor": 0
      },
      "text/plain": [
       "Predicting: 75it [00:00, ?it/s]"
      ]
     },
     "metadata": {},
     "output_type": "display_data"
    },
    {
     "data": {
      "application/vnd.jupyter.widget-view+json": {
       "model_id": "5b127af0d3d441f292a395d5e62bdec1",
       "version_major": 2,
       "version_minor": 0
      },
      "text/plain": [
       "Predicting: 75it [00:00, ?it/s]"
      ]
     },
     "metadata": {},
     "output_type": "display_data"
    },
    {
     "data": {
      "application/vnd.jupyter.widget-view+json": {
       "model_id": "8ea1ce1318d54906b929ac16f20c5ebd",
       "version_major": 2,
       "version_minor": 0
      },
      "text/plain": [
       "Predicting: 75it [00:00, ?it/s]"
      ]
     },
     "metadata": {},
     "output_type": "display_data"
    },
    {
     "data": {
      "application/vnd.jupyter.widget-view+json": {
       "model_id": "bc0dd60ebc824098ac1b59f12ab73b37",
       "version_major": 2,
       "version_minor": 0
      },
      "text/plain": [
       "Predicting: 75it [00:00, ?it/s]"
      ]
     },
     "metadata": {},
     "output_type": "display_data"
    },
    {
     "data": {
      "application/vnd.jupyter.widget-view+json": {
       "model_id": "4e054e1db43f4bbabe71ba72c3d5a983",
       "version_major": 2,
       "version_minor": 0
      },
      "text/plain": [
       "Predicting: 75it [00:00, ?it/s]"
      ]
     },
     "metadata": {},
     "output_type": "display_data"
    },
    {
     "data": {
      "application/vnd.jupyter.widget-view+json": {
       "model_id": "e7d58b81a768442e8c771e66461c96e8",
       "version_major": 2,
       "version_minor": 0
      },
      "text/plain": [
       "Predicting: 75it [00:00, ?it/s]"
      ]
     },
     "metadata": {},
     "output_type": "display_data"
    },
    {
     "data": {
      "application/vnd.jupyter.widget-view+json": {
       "model_id": "e4dba498051b41b28888a319dada6cf1",
       "version_major": 2,
       "version_minor": 0
      },
      "text/plain": [
       "Predicting: 75it [00:00, ?it/s]"
      ]
     },
     "metadata": {},
     "output_type": "display_data"
    },
    {
     "data": {
      "application/vnd.jupyter.widget-view+json": {
       "model_id": "d2cf800289ee4c9581dc038ab75edfcd",
       "version_major": 2,
       "version_minor": 0
      },
      "text/plain": [
       "Predicting: 75it [00:00, ?it/s]"
      ]
     },
     "metadata": {},
     "output_type": "display_data"
    },
    {
     "data": {
      "application/vnd.jupyter.widget-view+json": {
       "model_id": "181df29f573041a1994447a5e837e20b",
       "version_major": 2,
       "version_minor": 0
      },
      "text/plain": [
       "Predicting: 75it [00:00, ?it/s]"
      ]
     },
     "metadata": {},
     "output_type": "display_data"
    },
    {
     "data": {
      "application/vnd.jupyter.widget-view+json": {
       "model_id": "36cdcf38610e4e51857f259219d897b2",
       "version_major": 2,
       "version_minor": 0
      },
      "text/plain": [
       "Predicting: 75it [00:00, ?it/s]"
      ]
     },
     "metadata": {},
     "output_type": "display_data"
    },
    {
     "data": {
      "application/vnd.jupyter.widget-view+json": {
       "model_id": "432dbd0996964a02a51f455544595f04",
       "version_major": 2,
       "version_minor": 0
      },
      "text/plain": [
       "Predicting: 75it [00:00, ?it/s]"
      ]
     },
     "metadata": {},
     "output_type": "display_data"
    },
    {
     "data": {
      "application/vnd.jupyter.widget-view+json": {
       "model_id": "a62772cb670e4e30be798c0b386f9be3",
       "version_major": 2,
       "version_minor": 0
      },
      "text/plain": [
       "Predicting: 75it [00:00, ?it/s]"
      ]
     },
     "metadata": {},
     "output_type": "display_data"
    },
    {
     "data": {
      "application/vnd.jupyter.widget-view+json": {
       "model_id": "d33030ab3aea4d32a6a61b53fce18fb8",
       "version_major": 2,
       "version_minor": 0
      },
      "text/plain": [
       "Predicting: 75it [00:00, ?it/s]"
      ]
     },
     "metadata": {},
     "output_type": "display_data"
    },
    {
     "data": {
      "application/vnd.jupyter.widget-view+json": {
       "model_id": "094b3c86c4fb4e2491a84ef13a537e07",
       "version_major": 2,
       "version_minor": 0
      },
      "text/plain": [
       "Predicting: 75it [00:00, ?it/s]"
      ]
     },
     "metadata": {},
     "output_type": "display_data"
    },
    {
     "data": {
      "application/vnd.jupyter.widget-view+json": {
       "model_id": "f3029fb6a10a4cce99b24083564799cc",
       "version_major": 2,
       "version_minor": 0
      },
      "text/plain": [
       "Predicting: 75it [00:00, ?it/s]"
      ]
     },
     "metadata": {},
     "output_type": "display_data"
    },
    {
     "data": {
      "application/vnd.jupyter.widget-view+json": {
       "model_id": "49598358e3d0496ba0ba1aa7004a3252",
       "version_major": 2,
       "version_minor": 0
      },
      "text/plain": [
       "Predicting: 75it [00:00, ?it/s]"
      ]
     },
     "metadata": {},
     "output_type": "display_data"
    },
    {
     "data": {
      "application/vnd.jupyter.widget-view+json": {
       "model_id": "0ead49591d8c4c239637b779ef7ac27e",
       "version_major": 2,
       "version_minor": 0
      },
      "text/plain": [
       "Predicting: 75it [00:00, ?it/s]"
      ]
     },
     "metadata": {},
     "output_type": "display_data"
    },
    {
     "data": {
      "application/vnd.jupyter.widget-view+json": {
       "model_id": "78cbc46d78564b5aa4da1f375a56d6e3",
       "version_major": 2,
       "version_minor": 0
      },
      "text/plain": [
       "Predicting: 75it [00:00, ?it/s]"
      ]
     },
     "metadata": {},
     "output_type": "display_data"
    },
    {
     "data": {
      "application/vnd.jupyter.widget-view+json": {
       "model_id": "95b51ee53b1843ffa8bfddd3b5d80abb",
       "version_major": 2,
       "version_minor": 0
      },
      "text/plain": [
       "Predicting: 75it [00:00, ?it/s]"
      ]
     },
     "metadata": {},
     "output_type": "display_data"
    },
    {
     "data": {
      "application/vnd.jupyter.widget-view+json": {
       "model_id": "362b1bec9f284ba5b3962ce243b53e61",
       "version_major": 2,
       "version_minor": 0
      },
      "text/plain": [
       "Predicting: 75it [00:00, ?it/s]"
      ]
     },
     "metadata": {},
     "output_type": "display_data"
    },
    {
     "data": {
      "application/vnd.jupyter.widget-view+json": {
       "model_id": "e4b87035597c4b2f9d0cd95d861f13f3",
       "version_major": 2,
       "version_minor": 0
      },
      "text/plain": [
       "Predicting: 75it [00:00, ?it/s]"
      ]
     },
     "metadata": {},
     "output_type": "display_data"
    },
    {
     "data": {
      "application/vnd.jupyter.widget-view+json": {
       "model_id": "2070a624aac34fc183b850436aef4951",
       "version_major": 2,
       "version_minor": 0
      },
      "text/plain": [
       "Predicting: 75it [00:00, ?it/s]"
      ]
     },
     "metadata": {},
     "output_type": "display_data"
    },
    {
     "data": {
      "application/vnd.jupyter.widget-view+json": {
       "model_id": "c1c57ac0798c4aba840320ccea4f38a7",
       "version_major": 2,
       "version_minor": 0
      },
      "text/plain": [
       "Predicting: 75it [00:00, ?it/s]"
      ]
     },
     "metadata": {},
     "output_type": "display_data"
    },
    {
     "data": {
      "application/vnd.jupyter.widget-view+json": {
       "model_id": "796e03640ec0479f8f78ce384ddd46c6",
       "version_major": 2,
       "version_minor": 0
      },
      "text/plain": [
       "Predicting: 75it [00:00, ?it/s]"
      ]
     },
     "metadata": {},
     "output_type": "display_data"
    },
    {
     "data": {
      "application/vnd.jupyter.widget-view+json": {
       "model_id": "e52362822e8748109be76fd80b569e29",
       "version_major": 2,
       "version_minor": 0
      },
      "text/plain": [
       "Predicting: 75it [00:00, ?it/s]"
      ]
     },
     "metadata": {},
     "output_type": "display_data"
    },
    {
     "data": {
      "application/vnd.jupyter.widget-view+json": {
       "model_id": "33f1f42b38c1439c9b04f252e7318315",
       "version_major": 2,
       "version_minor": 0
      },
      "text/plain": [
       "Predicting: 75it [00:00, ?it/s]"
      ]
     },
     "metadata": {},
     "output_type": "display_data"
    },
    {
     "data": {
      "application/vnd.jupyter.widget-view+json": {
       "model_id": "34db5f87e24547e889c7feb3a9925148",
       "version_major": 2,
       "version_minor": 0
      },
      "text/plain": [
       "Predicting: 75it [00:00, ?it/s]"
      ]
     },
     "metadata": {},
     "output_type": "display_data"
    },
    {
     "data": {
      "application/vnd.jupyter.widget-view+json": {
       "model_id": "25c7897eace54c6cb14f7c8497d64028",
       "version_major": 2,
       "version_minor": 0
      },
      "text/plain": [
       "Predicting: 75it [00:00, ?it/s]"
      ]
     },
     "metadata": {},
     "output_type": "display_data"
    },
    {
     "data": {
      "application/vnd.jupyter.widget-view+json": {
       "model_id": "bfb0475bd81e4c709ce72826754e53aa",
       "version_major": 2,
       "version_minor": 0
      },
      "text/plain": [
       "Predicting: 75it [00:00, ?it/s]"
      ]
     },
     "metadata": {},
     "output_type": "display_data"
    },
    {
     "data": {
      "application/vnd.jupyter.widget-view+json": {
       "model_id": "b5215572d59d4ad2a0491c13ed2c5cd8",
       "version_major": 2,
       "version_minor": 0
      },
      "text/plain": [
       "Predicting: 75it [00:00, ?it/s]"
      ]
     },
     "metadata": {},
     "output_type": "display_data"
    },
    {
     "data": {
      "application/vnd.jupyter.widget-view+json": {
       "model_id": "821e9cb49ad245b0aa1707508ba43273",
       "version_major": 2,
       "version_minor": 0
      },
      "text/plain": [
       "Predicting: 75it [00:00, ?it/s]"
      ]
     },
     "metadata": {},
     "output_type": "display_data"
    },
    {
     "data": {
      "application/vnd.jupyter.widget-view+json": {
       "model_id": "fbb21f9b909e48c3aa34ec5672ea6e58",
       "version_major": 2,
       "version_minor": 0
      },
      "text/plain": [
       "Predicting: 75it [00:00, ?it/s]"
      ]
     },
     "metadata": {},
     "output_type": "display_data"
    },
    {
     "data": {
      "application/vnd.jupyter.widget-view+json": {
       "model_id": "e6ae1b6900ca49f99213bcc39de56acf",
       "version_major": 2,
       "version_minor": 0
      },
      "text/plain": [
       "Predicting: 75it [00:00, ?it/s]"
      ]
     },
     "metadata": {},
     "output_type": "display_data"
    },
    {
     "data": {
      "application/vnd.jupyter.widget-view+json": {
       "model_id": "0ef62fea01f847f2ba7c7eccaf53074b",
       "version_major": 2,
       "version_minor": 0
      },
      "text/plain": [
       "Predicting: 75it [00:00, ?it/s]"
      ]
     },
     "metadata": {},
     "output_type": "display_data"
    },
    {
     "data": {
      "application/vnd.jupyter.widget-view+json": {
       "model_id": "2ab60c4bbc0149c6acd4550fa55c95d4",
       "version_major": 2,
       "version_minor": 0
      },
      "text/plain": [
       "Predicting: 75it [00:00, ?it/s]"
      ]
     },
     "metadata": {},
     "output_type": "display_data"
    },
    {
     "data": {
      "application/vnd.jupyter.widget-view+json": {
       "model_id": "13b1714d42f046ca8afd2ec56c2a56ea",
       "version_major": 2,
       "version_minor": 0
      },
      "text/plain": [
       "Predicting: 75it [00:00, ?it/s]"
      ]
     },
     "metadata": {},
     "output_type": "display_data"
    },
    {
     "data": {
      "application/vnd.jupyter.widget-view+json": {
       "model_id": "3997b7e379654b5a945e48d0bab41451",
       "version_major": 2,
       "version_minor": 0
      },
      "text/plain": [
       "Predicting: 75it [00:00, ?it/s]"
      ]
     },
     "metadata": {},
     "output_type": "display_data"
    },
    {
     "data": {
      "application/vnd.jupyter.widget-view+json": {
       "model_id": "71ae892cc4324f7f8f7ca70d3a6cdc28",
       "version_major": 2,
       "version_minor": 0
      },
      "text/plain": [
       "Predicting: 75it [00:00, ?it/s]"
      ]
     },
     "metadata": {},
     "output_type": "display_data"
    },
    {
     "data": {
      "application/vnd.jupyter.widget-view+json": {
       "model_id": "28e5de86a1aa4a039b1a18c641a8131a",
       "version_major": 2,
       "version_minor": 0
      },
      "text/plain": [
       "Predicting: 75it [00:00, ?it/s]"
      ]
     },
     "metadata": {},
     "output_type": "display_data"
    },
    {
     "data": {
      "application/vnd.jupyter.widget-view+json": {
       "model_id": "c462177534a24326b3a21ccee1e8aaa0",
       "version_major": 2,
       "version_minor": 0
      },
      "text/plain": [
       "Predicting: 75it [00:00, ?it/s]"
      ]
     },
     "metadata": {},
     "output_type": "display_data"
    },
    {
     "data": {
      "application/vnd.jupyter.widget-view+json": {
       "model_id": "e0fdb432fcf840d295dd004339a37679",
       "version_major": 2,
       "version_minor": 0
      },
      "text/plain": [
       "Predicting: 75it [00:00, ?it/s]"
      ]
     },
     "metadata": {},
     "output_type": "display_data"
    },
    {
     "data": {
      "application/vnd.jupyter.widget-view+json": {
       "model_id": "860ba88c6f924d02bd451be61dba1bb0",
       "version_major": 2,
       "version_minor": 0
      },
      "text/plain": [
       "Predicting: 75it [00:00, ?it/s]"
      ]
     },
     "metadata": {},
     "output_type": "display_data"
    },
    {
     "data": {
      "application/vnd.jupyter.widget-view+json": {
       "model_id": "b05b1b9e319347cfa38d04f68d6b81c2",
       "version_major": 2,
       "version_minor": 0
      },
      "text/plain": [
       "Predicting: 75it [00:00, ?it/s]"
      ]
     },
     "metadata": {},
     "output_type": "display_data"
    },
    {
     "data": {
      "application/vnd.jupyter.widget-view+json": {
       "model_id": "b001187d04e242f3955faa54eee6cf33",
       "version_major": 2,
       "version_minor": 0
      },
      "text/plain": [
       "Predicting: 75it [00:00, ?it/s]"
      ]
     },
     "metadata": {},
     "output_type": "display_data"
    },
    {
     "data": {
      "application/vnd.jupyter.widget-view+json": {
       "model_id": "fd38bc136c1d47cd939f88f39fa961e6",
       "version_major": 2,
       "version_minor": 0
      },
      "text/plain": [
       "Predicting: 75it [00:00, ?it/s]"
      ]
     },
     "metadata": {},
     "output_type": "display_data"
    },
    {
     "data": {
      "application/vnd.jupyter.widget-view+json": {
       "model_id": "c9e1d1b495ae421886ba675437e25dac",
       "version_major": 2,
       "version_minor": 0
      },
      "text/plain": [
       "Predicting: 75it [00:00, ?it/s]"
      ]
     },
     "metadata": {},
     "output_type": "display_data"
    },
    {
     "data": {
      "application/vnd.jupyter.widget-view+json": {
       "model_id": "1c56e21f5d7a46f8ab3791a2390f5621",
       "version_major": 2,
       "version_minor": 0
      },
      "text/plain": [
       "Predicting: 75it [00:00, ?it/s]"
      ]
     },
     "metadata": {},
     "output_type": "display_data"
    },
    {
     "data": {
      "application/vnd.jupyter.widget-view+json": {
       "model_id": "53b5804f0f2744aeb5ec39cdb7974da7",
       "version_major": 2,
       "version_minor": 0
      },
      "text/plain": [
       "Predicting: 75it [00:00, ?it/s]"
      ]
     },
     "metadata": {},
     "output_type": "display_data"
    },
    {
     "data": {
      "application/vnd.jupyter.widget-view+json": {
       "model_id": "7a38e420394141b7a9e0453faeb369ac",
       "version_major": 2,
       "version_minor": 0
      },
      "text/plain": [
       "Predicting: 75it [00:00, ?it/s]"
      ]
     },
     "metadata": {},
     "output_type": "display_data"
    },
    {
     "data": {
      "application/vnd.jupyter.widget-view+json": {
       "model_id": "fb9ebf9245e74048ab9dcc4d4bf36b6d",
       "version_major": 2,
       "version_minor": 0
      },
      "text/plain": [
       "Predicting: 75it [00:00, ?it/s]"
      ]
     },
     "metadata": {},
     "output_type": "display_data"
    },
    {
     "data": {
      "application/vnd.jupyter.widget-view+json": {
       "model_id": "074c2bc1352d40d6b5889343a5460287",
       "version_major": 2,
       "version_minor": 0
      },
      "text/plain": [
       "Predicting: 75it [00:00, ?it/s]"
      ]
     },
     "metadata": {},
     "output_type": "display_data"
    },
    {
     "data": {
      "application/vnd.jupyter.widget-view+json": {
       "model_id": "edc0712440ed4e93a11d44e02c51efc4",
       "version_major": 2,
       "version_minor": 0
      },
      "text/plain": [
       "Predicting: 75it [00:00, ?it/s]"
      ]
     },
     "metadata": {},
     "output_type": "display_data"
    },
    {
     "data": {
      "application/vnd.jupyter.widget-view+json": {
       "model_id": "cc9ba147327a4a0bb26baffd5720b774",
       "version_major": 2,
       "version_minor": 0
      },
      "text/plain": [
       "Predicting: 75it [00:00, ?it/s]"
      ]
     },
     "metadata": {},
     "output_type": "display_data"
    },
    {
     "data": {
      "application/vnd.jupyter.widget-view+json": {
       "model_id": "909a60296ef843fba251df97e4e35b17",
       "version_major": 2,
       "version_minor": 0
      },
      "text/plain": [
       "Predicting: 75it [00:00, ?it/s]"
      ]
     },
     "metadata": {},
     "output_type": "display_data"
    },
    {
     "data": {
      "application/vnd.jupyter.widget-view+json": {
       "model_id": "4b00acf01f73406facceaf3688e856ae",
       "version_major": 2,
       "version_minor": 0
      },
      "text/plain": [
       "Predicting: 75it [00:00, ?it/s]"
      ]
     },
     "metadata": {},
     "output_type": "display_data"
    },
    {
     "data": {
      "application/vnd.jupyter.widget-view+json": {
       "model_id": "74418383c5794a0baeff0b8f0eb28551",
       "version_major": 2,
       "version_minor": 0
      },
      "text/plain": [
       "Predicting: 75it [00:00, ?it/s]"
      ]
     },
     "metadata": {},
     "output_type": "display_data"
    },
    {
     "data": {
      "application/vnd.jupyter.widget-view+json": {
       "model_id": "d5e295dbb59a402e9e9549b91ebef448",
       "version_major": 2,
       "version_minor": 0
      },
      "text/plain": [
       "Predicting: 75it [00:00, ?it/s]"
      ]
     },
     "metadata": {},
     "output_type": "display_data"
    },
    {
     "data": {
      "application/vnd.jupyter.widget-view+json": {
       "model_id": "13303b9901dc45f79274f64ee459a975",
       "version_major": 2,
       "version_minor": 0
      },
      "text/plain": [
       "Predicting: 75it [00:00, ?it/s]"
      ]
     },
     "metadata": {},
     "output_type": "display_data"
    },
    {
     "data": {
      "application/vnd.jupyter.widget-view+json": {
       "model_id": "382a793a9cb5473ab7754caa8486a4fc",
       "version_major": 2,
       "version_minor": 0
      },
      "text/plain": [
       "Predicting: 75it [00:00, ?it/s]"
      ]
     },
     "metadata": {},
     "output_type": "display_data"
    },
    {
     "data": {
      "application/vnd.jupyter.widget-view+json": {
       "model_id": "1f430234cc714411989f1740d8f54757",
       "version_major": 2,
       "version_minor": 0
      },
      "text/plain": [
       "Predicting: 75it [00:00, ?it/s]"
      ]
     },
     "metadata": {},
     "output_type": "display_data"
    },
    {
     "data": {
      "application/vnd.jupyter.widget-view+json": {
       "model_id": "df2515ac1abd4c40937d4ce6f36eff22",
       "version_major": 2,
       "version_minor": 0
      },
      "text/plain": [
       "Predicting: 75it [00:00, ?it/s]"
      ]
     },
     "metadata": {},
     "output_type": "display_data"
    },
    {
     "data": {
      "application/vnd.jupyter.widget-view+json": {
       "model_id": "3d4fdc12f20241539533e6ad5881a055",
       "version_major": 2,
       "version_minor": 0
      },
      "text/plain": [
       "Predicting: 75it [00:00, ?it/s]"
      ]
     },
     "metadata": {},
     "output_type": "display_data"
    },
    {
     "data": {
      "application/vnd.jupyter.widget-view+json": {
       "model_id": "84e33a91ac9c4ca497b67f5a04855c25",
       "version_major": 2,
       "version_minor": 0
      },
      "text/plain": [
       "Predicting: 75it [00:00, ?it/s]"
      ]
     },
     "metadata": {},
     "output_type": "display_data"
    },
    {
     "data": {
      "application/vnd.jupyter.widget-view+json": {
       "model_id": "fd9d160718844d1d963a02826e635a67",
       "version_major": 2,
       "version_minor": 0
      },
      "text/plain": [
       "Predicting: 75it [00:00, ?it/s]"
      ]
     },
     "metadata": {},
     "output_type": "display_data"
    },
    {
     "data": {
      "application/vnd.jupyter.widget-view+json": {
       "model_id": "f94fa934184643c09e9814c0c448370a",
       "version_major": 2,
       "version_minor": 0
      },
      "text/plain": [
       "Predicting: 75it [00:00, ?it/s]"
      ]
     },
     "metadata": {},
     "output_type": "display_data"
    },
    {
     "data": {
      "application/vnd.jupyter.widget-view+json": {
       "model_id": "dfd62e8a646d437f87c86a514b513383",
       "version_major": 2,
       "version_minor": 0
      },
      "text/plain": [
       "Predicting: 75it [00:00, ?it/s]"
      ]
     },
     "metadata": {},
     "output_type": "display_data"
    },
    {
     "data": {
      "application/vnd.jupyter.widget-view+json": {
       "model_id": "8cc5fb40a7764af7bd380deda47066a9",
       "version_major": 2,
       "version_minor": 0
      },
      "text/plain": [
       "Predicting: 75it [00:00, ?it/s]"
      ]
     },
     "metadata": {},
     "output_type": "display_data"
    },
    {
     "data": {
      "application/vnd.jupyter.widget-view+json": {
       "model_id": "cbc4aaaf9f9f42bcb9a83b3b32ff10a0",
       "version_major": 2,
       "version_minor": 0
      },
      "text/plain": [
       "Predicting: 75it [00:00, ?it/s]"
      ]
     },
     "metadata": {},
     "output_type": "display_data"
    },
    {
     "data": {
      "application/vnd.jupyter.widget-view+json": {
       "model_id": "25209dd89d5c410e8fd594f6677daa41",
       "version_major": 2,
       "version_minor": 0
      },
      "text/plain": [
       "Predicting: 75it [00:00, ?it/s]"
      ]
     },
     "metadata": {},
     "output_type": "display_data"
    },
    {
     "data": {
      "application/vnd.jupyter.widget-view+json": {
       "model_id": "39853bb429c049519ab513ba9157e645",
       "version_major": 2,
       "version_minor": 0
      },
      "text/plain": [
       "Predicting: 75it [00:00, ?it/s]"
      ]
     },
     "metadata": {},
     "output_type": "display_data"
    },
    {
     "data": {
      "application/vnd.jupyter.widget-view+json": {
       "model_id": "d48f0d56be0e40a78f435251ca5f72a6",
       "version_major": 2,
       "version_minor": 0
      },
      "text/plain": [
       "Predicting: 75it [00:00, ?it/s]"
      ]
     },
     "metadata": {},
     "output_type": "display_data"
    },
    {
     "data": {
      "application/vnd.jupyter.widget-view+json": {
       "model_id": "55b7087580354bbab05e88c73f94be2a",
       "version_major": 2,
       "version_minor": 0
      },
      "text/plain": [
       "Predicting: 75it [00:00, ?it/s]"
      ]
     },
     "metadata": {},
     "output_type": "display_data"
    },
    {
     "data": {
      "application/vnd.jupyter.widget-view+json": {
       "model_id": "4b6a8172a7fe4e76bbeb5887bbbd1fc4",
       "version_major": 2,
       "version_minor": 0
      },
      "text/plain": [
       "Predicting: 75it [00:00, ?it/s]"
      ]
     },
     "metadata": {},
     "output_type": "display_data"
    },
    {
     "data": {
      "application/vnd.jupyter.widget-view+json": {
       "model_id": "b13580e5e3e44bffba9765ffc37444d6",
       "version_major": 2,
       "version_minor": 0
      },
      "text/plain": [
       "Predicting: 75it [00:00, ?it/s]"
      ]
     },
     "metadata": {},
     "output_type": "display_data"
    },
    {
     "data": {
      "application/vnd.jupyter.widget-view+json": {
       "model_id": "14b04faac9864c80a462f5f2930e6f9c",
       "version_major": 2,
       "version_minor": 0
      },
      "text/plain": [
       "Predicting: 75it [00:00, ?it/s]"
      ]
     },
     "metadata": {},
     "output_type": "display_data"
    },
    {
     "data": {
      "application/vnd.jupyter.widget-view+json": {
       "model_id": "8db36bd0c2c649e0b80b1e28654feb1e",
       "version_major": 2,
       "version_minor": 0
      },
      "text/plain": [
       "Predicting: 75it [00:00, ?it/s]"
      ]
     },
     "metadata": {},
     "output_type": "display_data"
    },
    {
     "data": {
      "application/vnd.jupyter.widget-view+json": {
       "model_id": "c3663672fd8b40b39b1d39a5cca03cd3",
       "version_major": 2,
       "version_minor": 0
      },
      "text/plain": [
       "Predicting: 75it [00:00, ?it/s]"
      ]
     },
     "metadata": {},
     "output_type": "display_data"
    },
    {
     "data": {
      "application/vnd.jupyter.widget-view+json": {
       "model_id": "ef2e7c9748bc4fae927ec657ce11e665",
       "version_major": 2,
       "version_minor": 0
      },
      "text/plain": [
       "Predicting: 75it [00:00, ?it/s]"
      ]
     },
     "metadata": {},
     "output_type": "display_data"
    },
    {
     "data": {
      "application/vnd.jupyter.widget-view+json": {
       "model_id": "7b2256d485fd40e5b791045fc7c6c45f",
       "version_major": 2,
       "version_minor": 0
      },
      "text/plain": [
       "Predicting: 75it [00:00, ?it/s]"
      ]
     },
     "metadata": {},
     "output_type": "display_data"
    },
    {
     "data": {
      "application/vnd.jupyter.widget-view+json": {
       "model_id": "b5e6648923cd441897cb64878e7949fb",
       "version_major": 2,
       "version_minor": 0
      },
      "text/plain": [
       "Predicting: 75it [00:00, ?it/s]"
      ]
     },
     "metadata": {},
     "output_type": "display_data"
    },
    {
     "data": {
      "application/vnd.jupyter.widget-view+json": {
       "model_id": "8143961fe40340bb8deab059e589d10c",
       "version_major": 2,
       "version_minor": 0
      },
      "text/plain": [
       "Predicting: 75it [00:00, ?it/s]"
      ]
     },
     "metadata": {},
     "output_type": "display_data"
    },
    {
     "data": {
      "application/vnd.jupyter.widget-view+json": {
       "model_id": "b8f51ca0eef24faa8a528b2af7d21b91",
       "version_major": 2,
       "version_minor": 0
      },
      "text/plain": [
       "Predicting: 75it [00:00, ?it/s]"
      ]
     },
     "metadata": {},
     "output_type": "display_data"
    },
    {
     "data": {
      "application/vnd.jupyter.widget-view+json": {
       "model_id": "55c8092013b648219d7b7ce4496206c4",
       "version_major": 2,
       "version_minor": 0
      },
      "text/plain": [
       "Predicting: 75it [00:00, ?it/s]"
      ]
     },
     "metadata": {},
     "output_type": "display_data"
    },
    {
     "data": {
      "application/vnd.jupyter.widget-view+json": {
       "model_id": "80648c9b54ca42afa4aded4dbb459c30",
       "version_major": 2,
       "version_minor": 0
      },
      "text/plain": [
       "Predicting: 75it [00:00, ?it/s]"
      ]
     },
     "metadata": {},
     "output_type": "display_data"
    },
    {
     "data": {
      "application/vnd.jupyter.widget-view+json": {
       "model_id": "a99ac3d857ec46bab95c27d9d032cf9f",
       "version_major": 2,
       "version_minor": 0
      },
      "text/plain": [
       "Predicting: 75it [00:00, ?it/s]"
      ]
     },
     "metadata": {},
     "output_type": "display_data"
    },
    {
     "data": {
      "application/vnd.jupyter.widget-view+json": {
       "model_id": "8470b8ba22c74bce9f52d37280cc0c85",
       "version_major": 2,
       "version_minor": 0
      },
      "text/plain": [
       "Predicting: 75it [00:00, ?it/s]"
      ]
     },
     "metadata": {},
     "output_type": "display_data"
    },
    {
     "data": {
      "application/vnd.jupyter.widget-view+json": {
       "model_id": "b6c820b7ebbe42629fe8f4d801e270f6",
       "version_major": 2,
       "version_minor": 0
      },
      "text/plain": [
       "Predicting: 75it [00:00, ?it/s]"
      ]
     },
     "metadata": {},
     "output_type": "display_data"
    },
    {
     "data": {
      "application/vnd.jupyter.widget-view+json": {
       "model_id": "a8a9295f89c745fbac04ba45f00ab6e0",
       "version_major": 2,
       "version_minor": 0
      },
      "text/plain": [
       "Predicting: 75it [00:00, ?it/s]"
      ]
     },
     "metadata": {},
     "output_type": "display_data"
    },
    {
     "data": {
      "application/vnd.jupyter.widget-view+json": {
       "model_id": "551f087fb2284ec6a0e1e14a5cb7887b",
       "version_major": 2,
       "version_minor": 0
      },
      "text/plain": [
       "Predicting: 75it [00:00, ?it/s]"
      ]
     },
     "metadata": {},
     "output_type": "display_data"
    },
    {
     "data": {
      "application/vnd.jupyter.widget-view+json": {
       "model_id": "191542a00f5e44a28a451ec0bf39227c",
       "version_major": 2,
       "version_minor": 0
      },
      "text/plain": [
       "Predicting: 75it [00:00, ?it/s]"
      ]
     },
     "metadata": {},
     "output_type": "display_data"
    },
    {
     "data": {
      "application/vnd.jupyter.widget-view+json": {
       "model_id": "12d55171d88a43f1b5b6725a914248ef",
       "version_major": 2,
       "version_minor": 0
      },
      "text/plain": [
       "Predicting: 75it [00:00, ?it/s]"
      ]
     },
     "metadata": {},
     "output_type": "display_data"
    },
    {
     "data": {
      "application/vnd.jupyter.widget-view+json": {
       "model_id": "54c14ab679104b1fb06f319104678938",
       "version_major": 2,
       "version_minor": 0
      },
      "text/plain": [
       "Predicting: 75it [00:00, ?it/s]"
      ]
     },
     "metadata": {},
     "output_type": "display_data"
    },
    {
     "data": {
      "application/vnd.jupyter.widget-view+json": {
       "model_id": "e4892e02937044019e6c71acc8e54a62",
       "version_major": 2,
       "version_minor": 0
      },
      "text/plain": [
       "Predicting: 75it [00:00, ?it/s]"
      ]
     },
     "metadata": {},
     "output_type": "display_data"
    },
    {
     "data": {
      "application/vnd.jupyter.widget-view+json": {
       "model_id": "3cb5fb3884e140e8b566b33177c1bca0",
       "version_major": 2,
       "version_minor": 0
      },
      "text/plain": [
       "Predicting: 75it [00:00, ?it/s]"
      ]
     },
     "metadata": {},
     "output_type": "display_data"
    },
    {
     "data": {
      "application/vnd.jupyter.widget-view+json": {
       "model_id": "858d95e8b59f40ac8530ccf590cd6e2f",
       "version_major": 2,
       "version_minor": 0
      },
      "text/plain": [
       "Predicting: 75it [00:00, ?it/s]"
      ]
     },
     "metadata": {},
     "output_type": "display_data"
    },
    {
     "data": {
      "application/vnd.jupyter.widget-view+json": {
       "model_id": "4048d8382e0b4ebcbe9b09bdc432304b",
       "version_major": 2,
       "version_minor": 0
      },
      "text/plain": [
       "Predicting: 75it [00:00, ?it/s]"
      ]
     },
     "metadata": {},
     "output_type": "display_data"
    },
    {
     "data": {
      "application/vnd.jupyter.widget-view+json": {
       "model_id": "075f2aed6e7c446d877a403fd4a38260",
       "version_major": 2,
       "version_minor": 0
      },
      "text/plain": [
       "Predicting: 75it [00:00, ?it/s]"
      ]
     },
     "metadata": {},
     "output_type": "display_data"
    },
    {
     "data": {
      "application/vnd.jupyter.widget-view+json": {
       "model_id": "4083db5b50d1424a96b10884ba349a17",
       "version_major": 2,
       "version_minor": 0
      },
      "text/plain": [
       "Predicting: 75it [00:00, ?it/s]"
      ]
     },
     "metadata": {},
     "output_type": "display_data"
    },
    {
     "data": {
      "application/vnd.jupyter.widget-view+json": {
       "model_id": "ca92d60443354bfd895ba8d711c1dc50",
       "version_major": 2,
       "version_minor": 0
      },
      "text/plain": [
       "Predicting: 75it [00:00, ?it/s]"
      ]
     },
     "metadata": {},
     "output_type": "display_data"
    },
    {
     "data": {
      "application/vnd.jupyter.widget-view+json": {
       "model_id": "67dda259159a4ac09519dd5e2e5b16c5",
       "version_major": 2,
       "version_minor": 0
      },
      "text/plain": [
       "Predicting: 75it [00:00, ?it/s]"
      ]
     },
     "metadata": {},
     "output_type": "display_data"
    },
    {
     "data": {
      "application/vnd.jupyter.widget-view+json": {
       "model_id": "972b2c1b322c4752a9c336f63ad974a5",
       "version_major": 2,
       "version_minor": 0
      },
      "text/plain": [
       "Predicting: 75it [00:00, ?it/s]"
      ]
     },
     "metadata": {},
     "output_type": "display_data"
    },
    {
     "data": {
      "application/vnd.jupyter.widget-view+json": {
       "model_id": "a24441222e474b608b36cd14b7ce17b3",
       "version_major": 2,
       "version_minor": 0
      },
      "text/plain": [
       "Predicting: 75it [00:00, ?it/s]"
      ]
     },
     "metadata": {},
     "output_type": "display_data"
    },
    {
     "data": {
      "application/vnd.jupyter.widget-view+json": {
       "model_id": "5e16fd5dbe8e4002a2b2cbadbd580bbd",
       "version_major": 2,
       "version_minor": 0
      },
      "text/plain": [
       "Predicting: 75it [00:00, ?it/s]"
      ]
     },
     "metadata": {},
     "output_type": "display_data"
    },
    {
     "data": {
      "application/vnd.jupyter.widget-view+json": {
       "model_id": "490c6f03f4c14ac28c25fbb70dd90ee9",
       "version_major": 2,
       "version_minor": 0
      },
      "text/plain": [
       "Predicting: 75it [00:00, ?it/s]"
      ]
     },
     "metadata": {},
     "output_type": "display_data"
    },
    {
     "data": {
      "application/vnd.jupyter.widget-view+json": {
       "model_id": "7fd1868cb21c4b519547c00a75cdab1d",
       "version_major": 2,
       "version_minor": 0
      },
      "text/plain": [
       "Predicting: 75it [00:00, ?it/s]"
      ]
     },
     "metadata": {},
     "output_type": "display_data"
    },
    {
     "data": {
      "application/vnd.jupyter.widget-view+json": {
       "model_id": "4079f0a3063a44bdb67d613214df100e",
       "version_major": 2,
       "version_minor": 0
      },
      "text/plain": [
       "Predicting: 75it [00:00, ?it/s]"
      ]
     },
     "metadata": {},
     "output_type": "display_data"
    },
    {
     "data": {
      "application/vnd.jupyter.widget-view+json": {
       "model_id": "368d14ba687446bda4c740abfe24ba2c",
       "version_major": 2,
       "version_minor": 0
      },
      "text/plain": [
       "Predicting: 75it [00:00, ?it/s]"
      ]
     },
     "metadata": {},
     "output_type": "display_data"
    },
    {
     "data": {
      "application/vnd.jupyter.widget-view+json": {
       "model_id": "f1edd8b1334e40269ca0e923c81d8966",
       "version_major": 2,
       "version_minor": 0
      },
      "text/plain": [
       "Predicting: 75it [00:00, ?it/s]"
      ]
     },
     "metadata": {},
     "output_type": "display_data"
    },
    {
     "data": {
      "application/vnd.jupyter.widget-view+json": {
       "model_id": "11b6bbe5fd0a49b3bdfc5702f13e4f92",
       "version_major": 2,
       "version_minor": 0
      },
      "text/plain": [
       "Predicting: 75it [00:00, ?it/s]"
      ]
     },
     "metadata": {},
     "output_type": "display_data"
    },
    {
     "data": {
      "application/vnd.jupyter.widget-view+json": {
       "model_id": "731a2ad2549a4273b12dcc3d70128708",
       "version_major": 2,
       "version_minor": 0
      },
      "text/plain": [
       "Predicting: 75it [00:00, ?it/s]"
      ]
     },
     "metadata": {},
     "output_type": "display_data"
    },
    {
     "data": {
      "application/vnd.jupyter.widget-view+json": {
       "model_id": "381568d9ec0b4ca99d02445d5796610d",
       "version_major": 2,
       "version_minor": 0
      },
      "text/plain": [
       "Predicting: 75it [00:00, ?it/s]"
      ]
     },
     "metadata": {},
     "output_type": "display_data"
    },
    {
     "data": {
      "application/vnd.jupyter.widget-view+json": {
       "model_id": "140c341a83cc4e33bfbb1ed19787b4c6",
       "version_major": 2,
       "version_minor": 0
      },
      "text/plain": [
       "Predicting: 75it [00:00, ?it/s]"
      ]
     },
     "metadata": {},
     "output_type": "display_data"
    },
    {
     "data": {
      "application/vnd.jupyter.widget-view+json": {
       "model_id": "15538a02d1aa4863bfb3b8cca4fd0ffa",
       "version_major": 2,
       "version_minor": 0
      },
      "text/plain": [
       "Predicting: 75it [00:00, ?it/s]"
      ]
     },
     "metadata": {},
     "output_type": "display_data"
    },
    {
     "data": {
      "application/vnd.jupyter.widget-view+json": {
       "model_id": "464ced6dce304a82bcabef8109282804",
       "version_major": 2,
       "version_minor": 0
      },
      "text/plain": [
       "Predicting: 75it [00:00, ?it/s]"
      ]
     },
     "metadata": {},
     "output_type": "display_data"
    },
    {
     "data": {
      "application/vnd.jupyter.widget-view+json": {
       "model_id": "6f30e30d75cb4e219c434ce243e159cd",
       "version_major": 2,
       "version_minor": 0
      },
      "text/plain": [
       "Predicting: 75it [00:00, ?it/s]"
      ]
     },
     "metadata": {},
     "output_type": "display_data"
    },
    {
     "data": {
      "application/vnd.jupyter.widget-view+json": {
       "model_id": "b7c55a56ab8845ab9e280ca4fda2900f",
       "version_major": 2,
       "version_minor": 0
      },
      "text/plain": [
       "Predicting: 75it [00:00, ?it/s]"
      ]
     },
     "metadata": {},
     "output_type": "display_data"
    },
    {
     "data": {
      "application/vnd.jupyter.widget-view+json": {
       "model_id": "b1951affc87f43aa9aa4191d4eebef89",
       "version_major": 2,
       "version_minor": 0
      },
      "text/plain": [
       "Predicting: 75it [00:00, ?it/s]"
      ]
     },
     "metadata": {},
     "output_type": "display_data"
    },
    {
     "data": {
      "application/vnd.jupyter.widget-view+json": {
       "model_id": "d7d0209a8b114577993f3bd83708aa78",
       "version_major": 2,
       "version_minor": 0
      },
      "text/plain": [
       "Predicting: 75it [00:00, ?it/s]"
      ]
     },
     "metadata": {},
     "output_type": "display_data"
    },
    {
     "data": {
      "application/vnd.jupyter.widget-view+json": {
       "model_id": "be5734d4abe84c81b48c9eff368e5956",
       "version_major": 2,
       "version_minor": 0
      },
      "text/plain": [
       "Predicting: 75it [00:00, ?it/s]"
      ]
     },
     "metadata": {},
     "output_type": "display_data"
    },
    {
     "data": {
      "application/vnd.jupyter.widget-view+json": {
       "model_id": "ec331b0c52324e2b8e0b015ca7d1fc29",
       "version_major": 2,
       "version_minor": 0
      },
      "text/plain": [
       "Predicting: 75it [00:00, ?it/s]"
      ]
     },
     "metadata": {},
     "output_type": "display_data"
    },
    {
     "data": {
      "application/vnd.jupyter.widget-view+json": {
       "model_id": "917783e26a5043198aa8b9dece877359",
       "version_major": 2,
       "version_minor": 0
      },
      "text/plain": [
       "Predicting: 75it [00:00, ?it/s]"
      ]
     },
     "metadata": {},
     "output_type": "display_data"
    },
    {
     "data": {
      "application/vnd.jupyter.widget-view+json": {
       "model_id": "34c983f9c5084a62b1797f34c9cd379c",
       "version_major": 2,
       "version_minor": 0
      },
      "text/plain": [
       "Predicting: 75it [00:00, ?it/s]"
      ]
     },
     "metadata": {},
     "output_type": "display_data"
    },
    {
     "data": {
      "application/vnd.jupyter.widget-view+json": {
       "model_id": "f9feca95fc2646a1ae9494f489077edb",
       "version_major": 2,
       "version_minor": 0
      },
      "text/plain": [
       "Predicting: 75it [00:00, ?it/s]"
      ]
     },
     "metadata": {},
     "output_type": "display_data"
    },
    {
     "data": {
      "application/vnd.jupyter.widget-view+json": {
       "model_id": "b9e05ec9713f40b39b6408ed79e53684",
       "version_major": 2,
       "version_minor": 0
      },
      "text/plain": [
       "Predicting: 75it [00:00, ?it/s]"
      ]
     },
     "metadata": {},
     "output_type": "display_data"
    },
    {
     "data": {
      "application/vnd.jupyter.widget-view+json": {
       "model_id": "dc76b8f5acdb4b19add5690760844783",
       "version_major": 2,
       "version_minor": 0
      },
      "text/plain": [
       "Predicting: 75it [00:00, ?it/s]"
      ]
     },
     "metadata": {},
     "output_type": "display_data"
    },
    {
     "data": {
      "application/vnd.jupyter.widget-view+json": {
       "model_id": "25c1ee64f19f432a9a643918f3ac60f7",
       "version_major": 2,
       "version_minor": 0
      },
      "text/plain": [
       "Predicting: 75it [00:00, ?it/s]"
      ]
     },
     "metadata": {},
     "output_type": "display_data"
    },
    {
     "data": {
      "application/vnd.jupyter.widget-view+json": {
       "model_id": "86782bdb9599413c9a1bf24ef08622f0",
       "version_major": 2,
       "version_minor": 0
      },
      "text/plain": [
       "Predicting: 75it [00:00, ?it/s]"
      ]
     },
     "metadata": {},
     "output_type": "display_data"
    },
    {
     "data": {
      "application/vnd.jupyter.widget-view+json": {
       "model_id": "178aa362d9ad4fbba4a19e7717a47dce",
       "version_major": 2,
       "version_minor": 0
      },
      "text/plain": [
       "Predicting: 75it [00:00, ?it/s]"
      ]
     },
     "metadata": {},
     "output_type": "display_data"
    },
    {
     "data": {
      "application/vnd.jupyter.widget-view+json": {
       "model_id": "1a89f8ab80b8449ba81d66905d625897",
       "version_major": 2,
       "version_minor": 0
      },
      "text/plain": [
       "Predicting: 75it [00:00, ?it/s]"
      ]
     },
     "metadata": {},
     "output_type": "display_data"
    },
    {
     "data": {
      "application/vnd.jupyter.widget-view+json": {
       "model_id": "802c3aa8cb6d42258232ffeb0f1c184d",
       "version_major": 2,
       "version_minor": 0
      },
      "text/plain": [
       "Predicting: 75it [00:00, ?it/s]"
      ]
     },
     "metadata": {},
     "output_type": "display_data"
    },
    {
     "data": {
      "application/vnd.jupyter.widget-view+json": {
       "model_id": "64d2a7f0c7574e87a817ef4d052f9183",
       "version_major": 2,
       "version_minor": 0
      },
      "text/plain": [
       "Predicting: 75it [00:00, ?it/s]"
      ]
     },
     "metadata": {},
     "output_type": "display_data"
    },
    {
     "data": {
      "application/vnd.jupyter.widget-view+json": {
       "model_id": "cce4abd5a1984bcdb5142f18b5bb81e9",
       "version_major": 2,
       "version_minor": 0
      },
      "text/plain": [
       "Predicting: 75it [00:00, ?it/s]"
      ]
     },
     "metadata": {},
     "output_type": "display_data"
    },
    {
     "data": {
      "application/vnd.jupyter.widget-view+json": {
       "model_id": "f84072027b8044e2b268846f26dbb616",
       "version_major": 2,
       "version_minor": 0
      },
      "text/plain": [
       "Predicting: 75it [00:00, ?it/s]"
      ]
     },
     "metadata": {},
     "output_type": "display_data"
    },
    {
     "data": {
      "application/vnd.jupyter.widget-view+json": {
       "model_id": "40bbb6fef9d4463e9ad895f9bb164548",
       "version_major": 2,
       "version_minor": 0
      },
      "text/plain": [
       "Predicting: 75it [00:00, ?it/s]"
      ]
     },
     "metadata": {},
     "output_type": "display_data"
    },
    {
     "data": {
      "application/vnd.jupyter.widget-view+json": {
       "model_id": "29b9aa4d650b42329a97e30e77025d56",
       "version_major": 2,
       "version_minor": 0
      },
      "text/plain": [
       "Predicting: 75it [00:00, ?it/s]"
      ]
     },
     "metadata": {},
     "output_type": "display_data"
    },
    {
     "data": {
      "application/vnd.jupyter.widget-view+json": {
       "model_id": "18d2ee3c058f455cab2db83462fed9a8",
       "version_major": 2,
       "version_minor": 0
      },
      "text/plain": [
       "Predicting: 75it [00:00, ?it/s]"
      ]
     },
     "metadata": {},
     "output_type": "display_data"
    },
    {
     "data": {
      "application/vnd.jupyter.widget-view+json": {
       "model_id": "392c0220989c46818fca79218709e42c",
       "version_major": 2,
       "version_minor": 0
      },
      "text/plain": [
       "Predicting: 75it [00:00, ?it/s]"
      ]
     },
     "metadata": {},
     "output_type": "display_data"
    },
    {
     "data": {
      "application/vnd.jupyter.widget-view+json": {
       "model_id": "41227637a3884846861f22ee72ece264",
       "version_major": 2,
       "version_minor": 0
      },
      "text/plain": [
       "Predicting: 75it [00:00, ?it/s]"
      ]
     },
     "metadata": {},
     "output_type": "display_data"
    },
    {
     "data": {
      "application/vnd.jupyter.widget-view+json": {
       "model_id": "8024d88468c245dfa34483c3a2887482",
       "version_major": 2,
       "version_minor": 0
      },
      "text/plain": [
       "Predicting: 75it [00:00, ?it/s]"
      ]
     },
     "metadata": {},
     "output_type": "display_data"
    },
    {
     "data": {
      "application/vnd.jupyter.widget-view+json": {
       "model_id": "6fbd049b2ce94a228943b5ec8a5aec97",
       "version_major": 2,
       "version_minor": 0
      },
      "text/plain": [
       "Predicting: 75it [00:00, ?it/s]"
      ]
     },
     "metadata": {},
     "output_type": "display_data"
    },
    {
     "data": {
      "application/vnd.jupyter.widget-view+json": {
       "model_id": "cf7325ab76e5457cbf0aee137fa1af45",
       "version_major": 2,
       "version_minor": 0
      },
      "text/plain": [
       "Predicting: 75it [00:00, ?it/s]"
      ]
     },
     "metadata": {},
     "output_type": "display_data"
    },
    {
     "data": {
      "application/vnd.jupyter.widget-view+json": {
       "model_id": "7713e0a34cb14a44b048ada1f6c72a0e",
       "version_major": 2,
       "version_minor": 0
      },
      "text/plain": [
       "Predicting: 75it [00:00, ?it/s]"
      ]
     },
     "metadata": {},
     "output_type": "display_data"
    },
    {
     "data": {
      "application/vnd.jupyter.widget-view+json": {
       "model_id": "0938c236b23345c2ba7e364a1696b90d",
       "version_major": 2,
       "version_minor": 0
      },
      "text/plain": [
       "Predicting: 75it [00:00, ?it/s]"
      ]
     },
     "metadata": {},
     "output_type": "display_data"
    },
    {
     "data": {
      "application/vnd.jupyter.widget-view+json": {
       "model_id": "656ff3ec810d4906b16b5e0aa7d3881a",
       "version_major": 2,
       "version_minor": 0
      },
      "text/plain": [
       "Predicting: 75it [00:00, ?it/s]"
      ]
     },
     "metadata": {},
     "output_type": "display_data"
    },
    {
     "data": {
      "application/vnd.jupyter.widget-view+json": {
       "model_id": "83a7f535dec243ee8aa171d4bf944916",
       "version_major": 2,
       "version_minor": 0
      },
      "text/plain": [
       "Predicting: 75it [00:00, ?it/s]"
      ]
     },
     "metadata": {},
     "output_type": "display_data"
    },
    {
     "data": {
      "application/vnd.jupyter.widget-view+json": {
       "model_id": "e358d1dde99a4d4ba2e6e6f03b6d4aec",
       "version_major": 2,
       "version_minor": 0
      },
      "text/plain": [
       "Predicting: 75it [00:00, ?it/s]"
      ]
     },
     "metadata": {},
     "output_type": "display_data"
    },
    {
     "data": {
      "application/vnd.jupyter.widget-view+json": {
       "model_id": "bcbdea979770498fbea7e7325c6f53dd",
       "version_major": 2,
       "version_minor": 0
      },
      "text/plain": [
       "Predicting: 75it [00:00, ?it/s]"
      ]
     },
     "metadata": {},
     "output_type": "display_data"
    },
    {
     "data": {
      "application/vnd.jupyter.widget-view+json": {
       "model_id": "3417681de2b944ccb85b9118e5467fd8",
       "version_major": 2,
       "version_minor": 0
      },
      "text/plain": [
       "Predicting: 75it [00:00, ?it/s]"
      ]
     },
     "metadata": {},
     "output_type": "display_data"
    },
    {
     "data": {
      "application/vnd.jupyter.widget-view+json": {
       "model_id": "28b4b6ffc1dc4b65a1dcd08baa11a7ad",
       "version_major": 2,
       "version_minor": 0
      },
      "text/plain": [
       "Predicting: 75it [00:00, ?it/s]"
      ]
     },
     "metadata": {},
     "output_type": "display_data"
    },
    {
     "data": {
      "application/vnd.jupyter.widget-view+json": {
       "model_id": "109af00648b045a09a4f8f47ecc439d5",
       "version_major": 2,
       "version_minor": 0
      },
      "text/plain": [
       "Predicting: 75it [00:00, ?it/s]"
      ]
     },
     "metadata": {},
     "output_type": "display_data"
    },
    {
     "data": {
      "application/vnd.jupyter.widget-view+json": {
       "model_id": "0daf0f8afb2148e390e07db2c961ba51",
       "version_major": 2,
       "version_minor": 0
      },
      "text/plain": [
       "Predicting: 75it [00:00, ?it/s]"
      ]
     },
     "metadata": {},
     "output_type": "display_data"
    },
    {
     "data": {
      "application/vnd.jupyter.widget-view+json": {
       "model_id": "2cf52533b25344108791804158c44883",
       "version_major": 2,
       "version_minor": 0
      },
      "text/plain": [
       "Predicting: 75it [00:00, ?it/s]"
      ]
     },
     "metadata": {},
     "output_type": "display_data"
    },
    {
     "data": {
      "application/vnd.jupyter.widget-view+json": {
       "model_id": "07a630773dca4284b9fa8ddebe8d44a6",
       "version_major": 2,
       "version_minor": 0
      },
      "text/plain": [
       "Predicting: 75it [00:00, ?it/s]"
      ]
     },
     "metadata": {},
     "output_type": "display_data"
    },
    {
     "data": {
      "application/vnd.jupyter.widget-view+json": {
       "model_id": "997b72cf2fab44c6a42f478aa374e25d",
       "version_major": 2,
       "version_minor": 0
      },
      "text/plain": [
       "Predicting: 75it [00:00, ?it/s]"
      ]
     },
     "metadata": {},
     "output_type": "display_data"
    },
    {
     "data": {
      "application/vnd.jupyter.widget-view+json": {
       "model_id": "2a3c72f16d5f4daeaec680dc85c5258d",
       "version_major": 2,
       "version_minor": 0
      },
      "text/plain": [
       "Predicting: 75it [00:00, ?it/s]"
      ]
     },
     "metadata": {},
     "output_type": "display_data"
    },
    {
     "data": {
      "application/vnd.jupyter.widget-view+json": {
       "model_id": "8b5a331c576b4a7eb90a7b631a1a28c0",
       "version_major": 2,
       "version_minor": 0
      },
      "text/plain": [
       "Predicting: 75it [00:00, ?it/s]"
      ]
     },
     "metadata": {},
     "output_type": "display_data"
    },
    {
     "data": {
      "application/vnd.jupyter.widget-view+json": {
       "model_id": "ceca679731ca465596f4ceb13524a203",
       "version_major": 2,
       "version_minor": 0
      },
      "text/plain": [
       "Predicting: 75it [00:00, ?it/s]"
      ]
     },
     "metadata": {},
     "output_type": "display_data"
    },
    {
     "data": {
      "application/vnd.jupyter.widget-view+json": {
       "model_id": "0749b1fc08774943b189d149f57bb74f",
       "version_major": 2,
       "version_minor": 0
      },
      "text/plain": [
       "Predicting: 75it [00:00, ?it/s]"
      ]
     },
     "metadata": {},
     "output_type": "display_data"
    },
    {
     "data": {
      "application/vnd.jupyter.widget-view+json": {
       "model_id": "e504893deeba466d877b2d9691eee0f6",
       "version_major": 2,
       "version_minor": 0
      },
      "text/plain": [
       "Predicting: 75it [00:00, ?it/s]"
      ]
     },
     "metadata": {},
     "output_type": "display_data"
    },
    {
     "data": {
      "application/vnd.jupyter.widget-view+json": {
       "model_id": "b1e29be0388749979c5e138239131c9b",
       "version_major": 2,
       "version_minor": 0
      },
      "text/plain": [
       "Predicting: 75it [00:00, ?it/s]"
      ]
     },
     "metadata": {},
     "output_type": "display_data"
    },
    {
     "data": {
      "application/vnd.jupyter.widget-view+json": {
       "model_id": "6263d4e63f814b1dbb6a9adbdb7cb927",
       "version_major": 2,
       "version_minor": 0
      },
      "text/plain": [
       "Predicting: 75it [00:00, ?it/s]"
      ]
     },
     "metadata": {},
     "output_type": "display_data"
    },
    {
     "data": {
      "application/vnd.jupyter.widget-view+json": {
       "model_id": "2f0dbb43a8794a5ab300d3141a43b168",
       "version_major": 2,
       "version_minor": 0
      },
      "text/plain": [
       "Predicting: 75it [00:00, ?it/s]"
      ]
     },
     "metadata": {},
     "output_type": "display_data"
    },
    {
     "data": {
      "application/vnd.jupyter.widget-view+json": {
       "model_id": "aba8046b45e8442ca865bb5e9ee2277e",
       "version_major": 2,
       "version_minor": 0
      },
      "text/plain": [
       "Predicting: 75it [00:00, ?it/s]"
      ]
     },
     "metadata": {},
     "output_type": "display_data"
    },
    {
     "data": {
      "application/vnd.jupyter.widget-view+json": {
       "model_id": "bc4ad999056c49669d2375692873ab66",
       "version_major": 2,
       "version_minor": 0
      },
      "text/plain": [
       "Predicting: 75it [00:00, ?it/s]"
      ]
     },
     "metadata": {},
     "output_type": "display_data"
    },
    {
     "data": {
      "application/vnd.jupyter.widget-view+json": {
       "model_id": "f63721654a1a4f1cb67d559225ea7fba",
       "version_major": 2,
       "version_minor": 0
      },
      "text/plain": [
       "Predicting: 75it [00:00, ?it/s]"
      ]
     },
     "metadata": {},
     "output_type": "display_data"
    },
    {
     "data": {
      "application/vnd.jupyter.widget-view+json": {
       "model_id": "b5ddbdc8e8d540a58d8854d02ed736f6",
       "version_major": 2,
       "version_minor": 0
      },
      "text/plain": [
       "Predicting: 75it [00:00, ?it/s]"
      ]
     },
     "metadata": {},
     "output_type": "display_data"
    },
    {
     "data": {
      "application/vnd.jupyter.widget-view+json": {
       "model_id": "26007add1e484be4856cf3b04c44ae41",
       "version_major": 2,
       "version_minor": 0
      },
      "text/plain": [
       "Predicting: 75it [00:00, ?it/s]"
      ]
     },
     "metadata": {},
     "output_type": "display_data"
    },
    {
     "data": {
      "application/vnd.jupyter.widget-view+json": {
       "model_id": "20cfc271f99f459f83eabd980c69c233",
       "version_major": 2,
       "version_minor": 0
      },
      "text/plain": [
       "Predicting: 75it [00:00, ?it/s]"
      ]
     },
     "metadata": {},
     "output_type": "display_data"
    },
    {
     "data": {
      "application/vnd.jupyter.widget-view+json": {
       "model_id": "170a8341ebcc447f807c018c8d38191e",
       "version_major": 2,
       "version_minor": 0
      },
      "text/plain": [
       "Predicting: 75it [00:00, ?it/s]"
      ]
     },
     "metadata": {},
     "output_type": "display_data"
    },
    {
     "data": {
      "application/vnd.jupyter.widget-view+json": {
       "model_id": "d3ac045cdfea4c528dcb6e1997e0c501",
       "version_major": 2,
       "version_minor": 0
      },
      "text/plain": [
       "Predicting: 75it [00:00, ?it/s]"
      ]
     },
     "metadata": {},
     "output_type": "display_data"
    },
    {
     "data": {
      "application/vnd.jupyter.widget-view+json": {
       "model_id": "a1b9cf39808f4bf780081dd5dd7c48a1",
       "version_major": 2,
       "version_minor": 0
      },
      "text/plain": [
       "Predicting: 75it [00:00, ?it/s]"
      ]
     },
     "metadata": {},
     "output_type": "display_data"
    },
    {
     "data": {
      "application/vnd.jupyter.widget-view+json": {
       "model_id": "adcc06745f7d45f8b615d7db33f2a83c",
       "version_major": 2,
       "version_minor": 0
      },
      "text/plain": [
       "Predicting: 75it [00:00, ?it/s]"
      ]
     },
     "metadata": {},
     "output_type": "display_data"
    },
    {
     "data": {
      "application/vnd.jupyter.widget-view+json": {
       "model_id": "cafd550ea7d9465689395e0c54f9c087",
       "version_major": 2,
       "version_minor": 0
      },
      "text/plain": [
       "Predicting: 75it [00:00, ?it/s]"
      ]
     },
     "metadata": {},
     "output_type": "display_data"
    },
    {
     "data": {
      "application/vnd.jupyter.widget-view+json": {
       "model_id": "2e4d6015bc74419e8fa455380a4b4771",
       "version_major": 2,
       "version_minor": 0
      },
      "text/plain": [
       "Predicting: 75it [00:00, ?it/s]"
      ]
     },
     "metadata": {},
     "output_type": "display_data"
    },
    {
     "data": {
      "application/vnd.jupyter.widget-view+json": {
       "model_id": "4999213749a94b8f8d40b9b0db3a83a8",
       "version_major": 2,
       "version_minor": 0
      },
      "text/plain": [
       "Predicting: 75it [00:00, ?it/s]"
      ]
     },
     "metadata": {},
     "output_type": "display_data"
    },
    {
     "data": {
      "application/vnd.jupyter.widget-view+json": {
       "model_id": "6eb458c01d6248a7a853379109a61d59",
       "version_major": 2,
       "version_minor": 0
      },
      "text/plain": [
       "Predicting: 75it [00:00, ?it/s]"
      ]
     },
     "metadata": {},
     "output_type": "display_data"
    },
    {
     "data": {
      "application/vnd.jupyter.widget-view+json": {
       "model_id": "df7e61bad90644199d54a71d283a75a8",
       "version_major": 2,
       "version_minor": 0
      },
      "text/plain": [
       "Predicting: 75it [00:00, ?it/s]"
      ]
     },
     "metadata": {},
     "output_type": "display_data"
    },
    {
     "data": {
      "application/vnd.jupyter.widget-view+json": {
       "model_id": "5cf26c8aa3ee40ae98f286752235fa18",
       "version_major": 2,
       "version_minor": 0
      },
      "text/plain": [
       "Predicting: 75it [00:00, ?it/s]"
      ]
     },
     "metadata": {},
     "output_type": "display_data"
    },
    {
     "data": {
      "application/vnd.jupyter.widget-view+json": {
       "model_id": "353dd735ef044b0587753ca892bce3bd",
       "version_major": 2,
       "version_minor": 0
      },
      "text/plain": [
       "Predicting: 75it [00:00, ?it/s]"
      ]
     },
     "metadata": {},
     "output_type": "display_data"
    },
    {
     "data": {
      "application/vnd.jupyter.widget-view+json": {
       "model_id": "7d9fbc4e4dd149d19699d2dab3f9e69f",
       "version_major": 2,
       "version_minor": 0
      },
      "text/plain": [
       "Predicting: 75it [00:00, ?it/s]"
      ]
     },
     "metadata": {},
     "output_type": "display_data"
    },
    {
     "data": {
      "application/vnd.jupyter.widget-view+json": {
       "model_id": "c609f3c6ab0e4c9a98862f6b8ebc6caa",
       "version_major": 2,
       "version_minor": 0
      },
      "text/plain": [
       "Predicting: 75it [00:00, ?it/s]"
      ]
     },
     "metadata": {},
     "output_type": "display_data"
    },
    {
     "data": {
      "application/vnd.jupyter.widget-view+json": {
       "model_id": "7a95cc1f9c0d409893be888fc3f3b151",
       "version_major": 2,
       "version_minor": 0
      },
      "text/plain": [
       "Predicting: 75it [00:00, ?it/s]"
      ]
     },
     "metadata": {},
     "output_type": "display_data"
    },
    {
     "data": {
      "application/vnd.jupyter.widget-view+json": {
       "model_id": "d62fcbe3557f4eb6b27ea324f9868184",
       "version_major": 2,
       "version_minor": 0
      },
      "text/plain": [
       "Predicting: 75it [00:00, ?it/s]"
      ]
     },
     "metadata": {},
     "output_type": "display_data"
    },
    {
     "data": {
      "application/vnd.jupyter.widget-view+json": {
       "model_id": "94e122beec4e4e45b5533475bc5206ff",
       "version_major": 2,
       "version_minor": 0
      },
      "text/plain": [
       "Predicting: 75it [00:00, ?it/s]"
      ]
     },
     "metadata": {},
     "output_type": "display_data"
    },
    {
     "data": {
      "application/vnd.jupyter.widget-view+json": {
       "model_id": "c2a186334dbe4ba5954da26eb329c02b",
       "version_major": 2,
       "version_minor": 0
      },
      "text/plain": [
       "Predicting: 75it [00:00, ?it/s]"
      ]
     },
     "metadata": {},
     "output_type": "display_data"
    },
    {
     "data": {
      "application/vnd.jupyter.widget-view+json": {
       "model_id": "ba0169a203ad4796b2b705f59999d7b6",
       "version_major": 2,
       "version_minor": 0
      },
      "text/plain": [
       "Predicting: 75it [00:00, ?it/s]"
      ]
     },
     "metadata": {},
     "output_type": "display_data"
    },
    {
     "data": {
      "application/vnd.jupyter.widget-view+json": {
       "model_id": "880a540d1994426ebf714799c43b1373",
       "version_major": 2,
       "version_minor": 0
      },
      "text/plain": [
       "Predicting: 75it [00:00, ?it/s]"
      ]
     },
     "metadata": {},
     "output_type": "display_data"
    },
    {
     "data": {
      "application/vnd.jupyter.widget-view+json": {
       "model_id": "8869ea13e1b747698a53e684ed3c37a2",
       "version_major": 2,
       "version_minor": 0
      },
      "text/plain": [
       "Predicting: 75it [00:00, ?it/s]"
      ]
     },
     "metadata": {},
     "output_type": "display_data"
    },
    {
     "data": {
      "application/vnd.jupyter.widget-view+json": {
       "model_id": "e8b4917bde47477bb3951466dd08308b",
       "version_major": 2,
       "version_minor": 0
      },
      "text/plain": [
       "Predicting: 75it [00:00, ?it/s]"
      ]
     },
     "metadata": {},
     "output_type": "display_data"
    },
    {
     "data": {
      "application/vnd.jupyter.widget-view+json": {
       "model_id": "cd88853b4543497aac599f3dbf29dccb",
       "version_major": 2,
       "version_minor": 0
      },
      "text/plain": [
       "Predicting: 75it [00:00, ?it/s]"
      ]
     },
     "metadata": {},
     "output_type": "display_data"
    },
    {
     "data": {
      "application/vnd.jupyter.widget-view+json": {
       "model_id": "9066806ec3374736a2b99ae5412f661f",
       "version_major": 2,
       "version_minor": 0
      },
      "text/plain": [
       "Predicting: 75it [00:00, ?it/s]"
      ]
     },
     "metadata": {},
     "output_type": "display_data"
    },
    {
     "data": {
      "application/vnd.jupyter.widget-view+json": {
       "model_id": "418b7747cbac42d5a9656ed42633a982",
       "version_major": 2,
       "version_minor": 0
      },
      "text/plain": [
       "Predicting: 75it [00:00, ?it/s]"
      ]
     },
     "metadata": {},
     "output_type": "display_data"
    },
    {
     "data": {
      "application/vnd.jupyter.widget-view+json": {
       "model_id": "5d71dda1e22042e792e834ebd804f1f4",
       "version_major": 2,
       "version_minor": 0
      },
      "text/plain": [
       "Predicting: 75it [00:00, ?it/s]"
      ]
     },
     "metadata": {},
     "output_type": "display_data"
    },
    {
     "data": {
      "application/vnd.jupyter.widget-view+json": {
       "model_id": "408327e68c504e83adee4a9ee124491f",
       "version_major": 2,
       "version_minor": 0
      },
      "text/plain": [
       "Predicting: 75it [00:00, ?it/s]"
      ]
     },
     "metadata": {},
     "output_type": "display_data"
    },
    {
     "data": {
      "application/vnd.jupyter.widget-view+json": {
       "model_id": "a990813815114d2abbcd8e10b5f3cd80",
       "version_major": 2,
       "version_minor": 0
      },
      "text/plain": [
       "Predicting: 75it [00:00, ?it/s]"
      ]
     },
     "metadata": {},
     "output_type": "display_data"
    },
    {
     "data": {
      "application/vnd.jupyter.widget-view+json": {
       "model_id": "579b80a4e58c44ee8fa60507ae4ce80d",
       "version_major": 2,
       "version_minor": 0
      },
      "text/plain": [
       "Predicting: 75it [00:00, ?it/s]"
      ]
     },
     "metadata": {},
     "output_type": "display_data"
    },
    {
     "data": {
      "application/vnd.jupyter.widget-view+json": {
       "model_id": "f0b224fabc1f4c16b69b8c3e7d2ccb91",
       "version_major": 2,
       "version_minor": 0
      },
      "text/plain": [
       "Predicting: 75it [00:00, ?it/s]"
      ]
     },
     "metadata": {},
     "output_type": "display_data"
    },
    {
     "data": {
      "application/vnd.jupyter.widget-view+json": {
       "model_id": "cd1d55816c304fb6b5c872da729e70e7",
       "version_major": 2,
       "version_minor": 0
      },
      "text/plain": [
       "Predicting: 75it [00:00, ?it/s]"
      ]
     },
     "metadata": {},
     "output_type": "display_data"
    },
    {
     "data": {
      "application/vnd.jupyter.widget-view+json": {
       "model_id": "288fa55e9a514e87ae105d5fd87480ec",
       "version_major": 2,
       "version_minor": 0
      },
      "text/plain": [
       "Predicting: 75it [00:00, ?it/s]"
      ]
     },
     "metadata": {},
     "output_type": "display_data"
    },
    {
     "data": {
      "application/vnd.jupyter.widget-view+json": {
       "model_id": "597092be8fca441788cd3efa3670c45b",
       "version_major": 2,
       "version_minor": 0
      },
      "text/plain": [
       "Predicting: 75it [00:00, ?it/s]"
      ]
     },
     "metadata": {},
     "output_type": "display_data"
    },
    {
     "data": {
      "application/vnd.jupyter.widget-view+json": {
       "model_id": "415afde39df24a3a98fda801d57637df",
       "version_major": 2,
       "version_minor": 0
      },
      "text/plain": [
       "Predicting: 75it [00:00, ?it/s]"
      ]
     },
     "metadata": {},
     "output_type": "display_data"
    },
    {
     "data": {
      "application/vnd.jupyter.widget-view+json": {
       "model_id": "2200da603ac34ded9559a4631aa8f749",
       "version_major": 2,
       "version_minor": 0
      },
      "text/plain": [
       "Predicting: 75it [00:00, ?it/s]"
      ]
     },
     "metadata": {},
     "output_type": "display_data"
    },
    {
     "data": {
      "application/vnd.jupyter.widget-view+json": {
       "model_id": "3339f65992114b038d730637af073459",
       "version_major": 2,
       "version_minor": 0
      },
      "text/plain": [
       "Predicting: 75it [00:00, ?it/s]"
      ]
     },
     "metadata": {},
     "output_type": "display_data"
    },
    {
     "data": {
      "application/vnd.jupyter.widget-view+json": {
       "model_id": "f342370fcd7f4bf7884ca1b3c1d7cc8f",
       "version_major": 2,
       "version_minor": 0
      },
      "text/plain": [
       "Predicting: 75it [00:00, ?it/s]"
      ]
     },
     "metadata": {},
     "output_type": "display_data"
    },
    {
     "data": {
      "application/vnd.jupyter.widget-view+json": {
       "model_id": "884c9f75e06e44eb8f34f84487fc4cbb",
       "version_major": 2,
       "version_minor": 0
      },
      "text/plain": [
       "Predicting: 75it [00:00, ?it/s]"
      ]
     },
     "metadata": {},
     "output_type": "display_data"
    },
    {
     "data": {
      "application/vnd.jupyter.widget-view+json": {
       "model_id": "35edc90bdb6c456f862dcc6876e33443",
       "version_major": 2,
       "version_minor": 0
      },
      "text/plain": [
       "Predicting: 75it [00:00, ?it/s]"
      ]
     },
     "metadata": {},
     "output_type": "display_data"
    },
    {
     "data": {
      "application/vnd.jupyter.widget-view+json": {
       "model_id": "d25560d503c947248dd19f5a5cc0768b",
       "version_major": 2,
       "version_minor": 0
      },
      "text/plain": [
       "Predicting: 75it [00:00, ?it/s]"
      ]
     },
     "metadata": {},
     "output_type": "display_data"
    },
    {
     "data": {
      "application/vnd.jupyter.widget-view+json": {
       "model_id": "7fe542f6a373461197860db50eb74174",
       "version_major": 2,
       "version_minor": 0
      },
      "text/plain": [
       "Predicting: 75it [00:00, ?it/s]"
      ]
     },
     "metadata": {},
     "output_type": "display_data"
    },
    {
     "data": {
      "application/vnd.jupyter.widget-view+json": {
       "model_id": "830ce513ede84c098299231fc81f06fe",
       "version_major": 2,
       "version_minor": 0
      },
      "text/plain": [
       "Predicting: 75it [00:00, ?it/s]"
      ]
     },
     "metadata": {},
     "output_type": "display_data"
    },
    {
     "data": {
      "application/vnd.jupyter.widget-view+json": {
       "model_id": "723da63acd31408cb717cf233adcf39b",
       "version_major": 2,
       "version_minor": 0
      },
      "text/plain": [
       "Predicting: 75it [00:00, ?it/s]"
      ]
     },
     "metadata": {},
     "output_type": "display_data"
    },
    {
     "data": {
      "application/vnd.jupyter.widget-view+json": {
       "model_id": "cddc1bc91bae4ac58c51daa02cfcb16a",
       "version_major": 2,
       "version_minor": 0
      },
      "text/plain": [
       "Predicting: 75it [00:00, ?it/s]"
      ]
     },
     "metadata": {},
     "output_type": "display_data"
    },
    {
     "data": {
      "application/vnd.jupyter.widget-view+json": {
       "model_id": "79770dad8cab42cf9b4cc590105c9504",
       "version_major": 2,
       "version_minor": 0
      },
      "text/plain": [
       "Predicting: 75it [00:00, ?it/s]"
      ]
     },
     "metadata": {},
     "output_type": "display_data"
    },
    {
     "data": {
      "application/vnd.jupyter.widget-view+json": {
       "model_id": "ba2db1e0477b450f9a1c90cec010c021",
       "version_major": 2,
       "version_minor": 0
      },
      "text/plain": [
       "Predicting: 75it [00:00, ?it/s]"
      ]
     },
     "metadata": {},
     "output_type": "display_data"
    },
    {
     "data": {
      "application/vnd.jupyter.widget-view+json": {
       "model_id": "e824fe3ca28d425a867c82c180c0f1ef",
       "version_major": 2,
       "version_minor": 0
      },
      "text/plain": [
       "Predicting: 75it [00:00, ?it/s]"
      ]
     },
     "metadata": {},
     "output_type": "display_data"
    },
    {
     "data": {
      "application/vnd.jupyter.widget-view+json": {
       "model_id": "7ff2beb1ba0a431fb130c25a617f7804",
       "version_major": 2,
       "version_minor": 0
      },
      "text/plain": [
       "Predicting: 75it [00:00, ?it/s]"
      ]
     },
     "metadata": {},
     "output_type": "display_data"
    },
    {
     "data": {
      "application/vnd.jupyter.widget-view+json": {
       "model_id": "b7a19c1336ce4cecb8f79b287a509fba",
       "version_major": 2,
       "version_minor": 0
      },
      "text/plain": [
       "Predicting: 75it [00:00, ?it/s]"
      ]
     },
     "metadata": {},
     "output_type": "display_data"
    },
    {
     "data": {
      "application/vnd.jupyter.widget-view+json": {
       "model_id": "9e55b888d43d4d3fb778792834df231c",
       "version_major": 2,
       "version_minor": 0
      },
      "text/plain": [
       "Predicting: 75it [00:00, ?it/s]"
      ]
     },
     "metadata": {},
     "output_type": "display_data"
    },
    {
     "data": {
      "application/vnd.jupyter.widget-view+json": {
       "model_id": "c463c340067d40628798ae3753323467",
       "version_major": 2,
       "version_minor": 0
      },
      "text/plain": [
       "Predicting: 75it [00:00, ?it/s]"
      ]
     },
     "metadata": {},
     "output_type": "display_data"
    },
    {
     "data": {
      "application/vnd.jupyter.widget-view+json": {
       "model_id": "aa2112de5bc94925b602ad3fc1a7b01f",
       "version_major": 2,
       "version_minor": 0
      },
      "text/plain": [
       "Predicting: 75it [00:00, ?it/s]"
      ]
     },
     "metadata": {},
     "output_type": "display_data"
    },
    {
     "data": {
      "application/vnd.jupyter.widget-view+json": {
       "model_id": "f764a9d0f9304a82b1f6b0cea38666bb",
       "version_major": 2,
       "version_minor": 0
      },
      "text/plain": [
       "Predicting: 75it [00:00, ?it/s]"
      ]
     },
     "metadata": {},
     "output_type": "display_data"
    },
    {
     "data": {
      "application/vnd.jupyter.widget-view+json": {
       "model_id": "3fedeb38bfc24e45b0efa6ee58776d30",
       "version_major": 2,
       "version_minor": 0
      },
      "text/plain": [
       "Predicting: 75it [00:00, ?it/s]"
      ]
     },
     "metadata": {},
     "output_type": "display_data"
    },
    {
     "data": {
      "application/vnd.jupyter.widget-view+json": {
       "model_id": "9c59df8c43ab4717a08624270adda41d",
       "version_major": 2,
       "version_minor": 0
      },
      "text/plain": [
       "Predicting: 75it [00:00, ?it/s]"
      ]
     },
     "metadata": {},
     "output_type": "display_data"
    },
    {
     "data": {
      "application/vnd.jupyter.widget-view+json": {
       "model_id": "455fec62c12e4db6984878f257737c09",
       "version_major": 2,
       "version_minor": 0
      },
      "text/plain": [
       "Predicting: 75it [00:00, ?it/s]"
      ]
     },
     "metadata": {},
     "output_type": "display_data"
    },
    {
     "data": {
      "application/vnd.jupyter.widget-view+json": {
       "model_id": "bea86484e6bf4a208606945b3c3d39e8",
       "version_major": 2,
       "version_minor": 0
      },
      "text/plain": [
       "Predicting: 75it [00:00, ?it/s]"
      ]
     },
     "metadata": {},
     "output_type": "display_data"
    },
    {
     "data": {
      "application/vnd.jupyter.widget-view+json": {
       "model_id": "46310276d8b540e9a9371459dac987b3",
       "version_major": 2,
       "version_minor": 0
      },
      "text/plain": [
       "Predicting: 75it [00:00, ?it/s]"
      ]
     },
     "metadata": {},
     "output_type": "display_data"
    },
    {
     "data": {
      "application/vnd.jupyter.widget-view+json": {
       "model_id": "4e28e37a1f674b83a7d499675ca27c6f",
       "version_major": 2,
       "version_minor": 0
      },
      "text/plain": [
       "Predicting: 75it [00:00, ?it/s]"
      ]
     },
     "metadata": {},
     "output_type": "display_data"
    },
    {
     "data": {
      "application/vnd.jupyter.widget-view+json": {
       "model_id": "decce0e35c41489d98096650a8882185",
       "version_major": 2,
       "version_minor": 0
      },
      "text/plain": [
       "Predicting: 75it [00:00, ?it/s]"
      ]
     },
     "metadata": {},
     "output_type": "display_data"
    },
    {
     "data": {
      "application/vnd.jupyter.widget-view+json": {
       "model_id": "7bbdb1cac8b148e0aa49048ea3409b9a",
       "version_major": 2,
       "version_minor": 0
      },
      "text/plain": [
       "Predicting: 75it [00:00, ?it/s]"
      ]
     },
     "metadata": {},
     "output_type": "display_data"
    },
    {
     "data": {
      "application/vnd.jupyter.widget-view+json": {
       "model_id": "404074d17cd848e3acea92946aabe098",
       "version_major": 2,
       "version_minor": 0
      },
      "text/plain": [
       "Predicting: 75it [00:00, ?it/s]"
      ]
     },
     "metadata": {},
     "output_type": "display_data"
    },
    {
     "data": {
      "application/vnd.jupyter.widget-view+json": {
       "model_id": "dec983b1b5c041438f1b32e4246400f6",
       "version_major": 2,
       "version_minor": 0
      },
      "text/plain": [
       "Predicting: 75it [00:00, ?it/s]"
      ]
     },
     "metadata": {},
     "output_type": "display_data"
    },
    {
     "data": {
      "application/vnd.jupyter.widget-view+json": {
       "model_id": "4fc165e8b1b2429f9794cdbd111b0f60",
       "version_major": 2,
       "version_minor": 0
      },
      "text/plain": [
       "Predicting: 75it [00:00, ?it/s]"
      ]
     },
     "metadata": {},
     "output_type": "display_data"
    },
    {
     "data": {
      "application/vnd.jupyter.widget-view+json": {
       "model_id": "7b9e5809b6564366a03f21cd0f66ed94",
       "version_major": 2,
       "version_minor": 0
      },
      "text/plain": [
       "Predicting: 75it [00:00, ?it/s]"
      ]
     },
     "metadata": {},
     "output_type": "display_data"
    },
    {
     "data": {
      "application/vnd.jupyter.widget-view+json": {
       "model_id": "561e3a4713c747cab9799917fd3d0158",
       "version_major": 2,
       "version_minor": 0
      },
      "text/plain": [
       "Predicting: 75it [00:00, ?it/s]"
      ]
     },
     "metadata": {},
     "output_type": "display_data"
    },
    {
     "data": {
      "application/vnd.jupyter.widget-view+json": {
       "model_id": "63d09257efa14d939256f69a08c8e1cb",
       "version_major": 2,
       "version_minor": 0
      },
      "text/plain": [
       "Predicting: 75it [00:00, ?it/s]"
      ]
     },
     "metadata": {},
     "output_type": "display_data"
    },
    {
     "data": {
      "application/vnd.jupyter.widget-view+json": {
       "model_id": "1be8e12780b94573b21f5097a6e272da",
       "version_major": 2,
       "version_minor": 0
      },
      "text/plain": [
       "Predicting: 75it [00:00, ?it/s]"
      ]
     },
     "metadata": {},
     "output_type": "display_data"
    },
    {
     "data": {
      "application/vnd.jupyter.widget-view+json": {
       "model_id": "3c7e9fd6b74040cab55b271937179aa8",
       "version_major": 2,
       "version_minor": 0
      },
      "text/plain": [
       "Predicting: 75it [00:00, ?it/s]"
      ]
     },
     "metadata": {},
     "output_type": "display_data"
    },
    {
     "data": {
      "application/vnd.jupyter.widget-view+json": {
       "model_id": "04c4181a5ac943ad863056d1f905c052",
       "version_major": 2,
       "version_minor": 0
      },
      "text/plain": [
       "Predicting: 75it [00:00, ?it/s]"
      ]
     },
     "metadata": {},
     "output_type": "display_data"
    },
    {
     "data": {
      "application/vnd.jupyter.widget-view+json": {
       "model_id": "f353632590a84a1992b3bd4f14237da8",
       "version_major": 2,
       "version_minor": 0
      },
      "text/plain": [
       "Predicting: 75it [00:00, ?it/s]"
      ]
     },
     "metadata": {},
     "output_type": "display_data"
    },
    {
     "data": {
      "application/vnd.jupyter.widget-view+json": {
       "model_id": "771ab00e0261452c863cce23a4ba5a51",
       "version_major": 2,
       "version_minor": 0
      },
      "text/plain": [
       "Predicting: 75it [00:00, ?it/s]"
      ]
     },
     "metadata": {},
     "output_type": "display_data"
    },
    {
     "data": {
      "application/vnd.jupyter.widget-view+json": {
       "model_id": "592c00f2d40b4982bf7a3fc4c5f24d8b",
       "version_major": 2,
       "version_minor": 0
      },
      "text/plain": [
       "Predicting: 75it [00:00, ?it/s]"
      ]
     },
     "metadata": {},
     "output_type": "display_data"
    },
    {
     "data": {
      "application/vnd.jupyter.widget-view+json": {
       "model_id": "e17647a786744ec78b8ec10d4452b56c",
       "version_major": 2,
       "version_minor": 0
      },
      "text/plain": [
       "Predicting: 75it [00:00, ?it/s]"
      ]
     },
     "metadata": {},
     "output_type": "display_data"
    },
    {
     "data": {
      "application/vnd.jupyter.widget-view+json": {
       "model_id": "bedd6311fb874572b1c51cb8f540fbaf",
       "version_major": 2,
       "version_minor": 0
      },
      "text/plain": [
       "Predicting: 75it [00:00, ?it/s]"
      ]
     },
     "metadata": {},
     "output_type": "display_data"
    },
    {
     "data": {
      "application/vnd.jupyter.widget-view+json": {
       "model_id": "e2b39aaa89d742eab2d07df11372b5a9",
       "version_major": 2,
       "version_minor": 0
      },
      "text/plain": [
       "Predicting: 75it [00:00, ?it/s]"
      ]
     },
     "metadata": {},
     "output_type": "display_data"
    },
    {
     "data": {
      "application/vnd.jupyter.widget-view+json": {
       "model_id": "7f7d0e086bb44066899d08e8449a6a24",
       "version_major": 2,
       "version_minor": 0
      },
      "text/plain": [
       "Predicting: 75it [00:00, ?it/s]"
      ]
     },
     "metadata": {},
     "output_type": "display_data"
    },
    {
     "data": {
      "application/vnd.jupyter.widget-view+json": {
       "model_id": "935e8f92e46f487eb102dda06b624d89",
       "version_major": 2,
       "version_minor": 0
      },
      "text/plain": [
       "Predicting: 75it [00:00, ?it/s]"
      ]
     },
     "metadata": {},
     "output_type": "display_data"
    },
    {
     "data": {
      "application/vnd.jupyter.widget-view+json": {
       "model_id": "0171b139117d40e1a3db8412221f3c59",
       "version_major": 2,
       "version_minor": 0
      },
      "text/plain": [
       "Predicting: 75it [00:00, ?it/s]"
      ]
     },
     "metadata": {},
     "output_type": "display_data"
    },
    {
     "data": {
      "application/vnd.jupyter.widget-view+json": {
       "model_id": "cd4e649ac95c4f078046df5a6d80be6f",
       "version_major": 2,
       "version_minor": 0
      },
      "text/plain": [
       "Predicting: 75it [00:00, ?it/s]"
      ]
     },
     "metadata": {},
     "output_type": "display_data"
    },
    {
     "data": {
      "application/vnd.jupyter.widget-view+json": {
       "model_id": "59ea0bd8c15543578e7c7391bf7310c4",
       "version_major": 2,
       "version_minor": 0
      },
      "text/plain": [
       "Predicting: 75it [00:00, ?it/s]"
      ]
     },
     "metadata": {},
     "output_type": "display_data"
    },
    {
     "data": {
      "application/vnd.jupyter.widget-view+json": {
       "model_id": "b9a589298a8946f89df59f3f0714eb0d",
       "version_major": 2,
       "version_minor": 0
      },
      "text/plain": [
       "Predicting: 75it [00:00, ?it/s]"
      ]
     },
     "metadata": {},
     "output_type": "display_data"
    },
    {
     "data": {
      "application/vnd.jupyter.widget-view+json": {
       "model_id": "ed8e32cd413e49cdb16e8c58c81b68f6",
       "version_major": 2,
       "version_minor": 0
      },
      "text/plain": [
       "Predicting: 75it [00:00, ?it/s]"
      ]
     },
     "metadata": {},
     "output_type": "display_data"
    },
    {
     "data": {
      "application/vnd.jupyter.widget-view+json": {
       "model_id": "8930b2ffc5e848e4b39df6b3426ad850",
       "version_major": 2,
       "version_minor": 0
      },
      "text/plain": [
       "Predicting: 75it [00:00, ?it/s]"
      ]
     },
     "metadata": {},
     "output_type": "display_data"
    },
    {
     "data": {
      "application/vnd.jupyter.widget-view+json": {
       "model_id": "b6ffebf266e04c6f80f139d7682359be",
       "version_major": 2,
       "version_minor": 0
      },
      "text/plain": [
       "Predicting: 75it [00:00, ?it/s]"
      ]
     },
     "metadata": {},
     "output_type": "display_data"
    },
    {
     "data": {
      "application/vnd.jupyter.widget-view+json": {
       "model_id": "2859daaec6834185864fe6f6328dc9a0",
       "version_major": 2,
       "version_minor": 0
      },
      "text/plain": [
       "Predicting: 75it [00:00, ?it/s]"
      ]
     },
     "metadata": {},
     "output_type": "display_data"
    },
    {
     "data": {
      "application/vnd.jupyter.widget-view+json": {
       "model_id": "238c773d3e6f42d595adf77c042b1afa",
       "version_major": 2,
       "version_minor": 0
      },
      "text/plain": [
       "Predicting: 75it [00:00, ?it/s]"
      ]
     },
     "metadata": {},
     "output_type": "display_data"
    },
    {
     "data": {
      "application/vnd.jupyter.widget-view+json": {
       "model_id": "f55d8b060ff74b1c99f24da338cb013e",
       "version_major": 2,
       "version_minor": 0
      },
      "text/plain": [
       "Predicting: 75it [00:00, ?it/s]"
      ]
     },
     "metadata": {},
     "output_type": "display_data"
    },
    {
     "data": {
      "application/vnd.jupyter.widget-view+json": {
       "model_id": "41d220f3d11f48c8b0c621263d218cb7",
       "version_major": 2,
       "version_minor": 0
      },
      "text/plain": [
       "Predicting: 75it [00:00, ?it/s]"
      ]
     },
     "metadata": {},
     "output_type": "display_data"
    },
    {
     "data": {
      "application/vnd.jupyter.widget-view+json": {
       "model_id": "3acbd3bed90847cebdbdfc39685ccc60",
       "version_major": 2,
       "version_minor": 0
      },
      "text/plain": [
       "Predicting: 75it [00:00, ?it/s]"
      ]
     },
     "metadata": {},
     "output_type": "display_data"
    },
    {
     "data": {
      "application/vnd.jupyter.widget-view+json": {
       "model_id": "f9f4195ec94a4b6ab1463aa250647b6e",
       "version_major": 2,
       "version_minor": 0
      },
      "text/plain": [
       "Predicting: 75it [00:00, ?it/s]"
      ]
     },
     "metadata": {},
     "output_type": "display_data"
    },
    {
     "data": {
      "application/vnd.jupyter.widget-view+json": {
       "model_id": "cb6c451d9e134aad802251cdee6bc1a4",
       "version_major": 2,
       "version_minor": 0
      },
      "text/plain": [
       "Predicting: 75it [00:00, ?it/s]"
      ]
     },
     "metadata": {},
     "output_type": "display_data"
    },
    {
     "data": {
      "application/vnd.jupyter.widget-view+json": {
       "model_id": "22f66205b24d4d5082e7ff9cb35bcd88",
       "version_major": 2,
       "version_minor": 0
      },
      "text/plain": [
       "Predicting: 75it [00:00, ?it/s]"
      ]
     },
     "metadata": {},
     "output_type": "display_data"
    },
    {
     "data": {
      "application/vnd.jupyter.widget-view+json": {
       "model_id": "23efbdc9a75144deadeb1e64f2c6f688",
       "version_major": 2,
       "version_minor": 0
      },
      "text/plain": [
       "Predicting: 75it [00:00, ?it/s]"
      ]
     },
     "metadata": {},
     "output_type": "display_data"
    },
    {
     "data": {
      "application/vnd.jupyter.widget-view+json": {
       "model_id": "736c34d50cce4a519e4b3c361f65e0be",
       "version_major": 2,
       "version_minor": 0
      },
      "text/plain": [
       "Predicting: 75it [00:00, ?it/s]"
      ]
     },
     "metadata": {},
     "output_type": "display_data"
    },
    {
     "data": {
      "application/vnd.jupyter.widget-view+json": {
       "model_id": "b711d9fbc53c417fb6eb42e1c2d03b93",
       "version_major": 2,
       "version_minor": 0
      },
      "text/plain": [
       "Predicting: 75it [00:00, ?it/s]"
      ]
     },
     "metadata": {},
     "output_type": "display_data"
    },
    {
     "data": {
      "application/vnd.jupyter.widget-view+json": {
       "model_id": "aa7c9447c89f43b89871a90ca4bfdb35",
       "version_major": 2,
       "version_minor": 0
      },
      "text/plain": [
       "Predicting: 75it [00:00, ?it/s]"
      ]
     },
     "metadata": {},
     "output_type": "display_data"
    },
    {
     "data": {
      "application/vnd.jupyter.widget-view+json": {
       "model_id": "efaffe050a964577a443c9bc20a8b5ec",
       "version_major": 2,
       "version_minor": 0
      },
      "text/plain": [
       "Predicting: 75it [00:00, ?it/s]"
      ]
     },
     "metadata": {},
     "output_type": "display_data"
    },
    {
     "data": {
      "application/vnd.jupyter.widget-view+json": {
       "model_id": "c992b160455b4ff9b8819a1ff0b24a8e",
       "version_major": 2,
       "version_minor": 0
      },
      "text/plain": [
       "Predicting: 75it [00:00, ?it/s]"
      ]
     },
     "metadata": {},
     "output_type": "display_data"
    },
    {
     "data": {
      "application/vnd.jupyter.widget-view+json": {
       "model_id": "134dca6a5fbd4868a1ed4914469fad8f",
       "version_major": 2,
       "version_minor": 0
      },
      "text/plain": [
       "Predicting: 75it [00:00, ?it/s]"
      ]
     },
     "metadata": {},
     "output_type": "display_data"
    },
    {
     "data": {
      "application/vnd.jupyter.widget-view+json": {
       "model_id": "a899827bb1f54092aae8cb4255db212d",
       "version_major": 2,
       "version_minor": 0
      },
      "text/plain": [
       "Predicting: 75it [00:00, ?it/s]"
      ]
     },
     "metadata": {},
     "output_type": "display_data"
    },
    {
     "data": {
      "application/vnd.jupyter.widget-view+json": {
       "model_id": "f16a622cc33d4b3899ee7decd89a656d",
       "version_major": 2,
       "version_minor": 0
      },
      "text/plain": [
       "Predicting: 75it [00:00, ?it/s]"
      ]
     },
     "metadata": {},
     "output_type": "display_data"
    },
    {
     "data": {
      "application/vnd.jupyter.widget-view+json": {
       "model_id": "c8c5d2d45ef44dd088a832378d7b22b4",
       "version_major": 2,
       "version_minor": 0
      },
      "text/plain": [
       "Predicting: 75it [00:00, ?it/s]"
      ]
     },
     "metadata": {},
     "output_type": "display_data"
    },
    {
     "data": {
      "application/vnd.jupyter.widget-view+json": {
       "model_id": "ea9871decb7b4e2da035a8fce9de84f5",
       "version_major": 2,
       "version_minor": 0
      },
      "text/plain": [
       "Predicting: 75it [00:00, ?it/s]"
      ]
     },
     "metadata": {},
     "output_type": "display_data"
    },
    {
     "data": {
      "application/vnd.jupyter.widget-view+json": {
       "model_id": "9c8f367f365247beb3902d39ac48a891",
       "version_major": 2,
       "version_minor": 0
      },
      "text/plain": [
       "Predicting: 75it [00:00, ?it/s]"
      ]
     },
     "metadata": {},
     "output_type": "display_data"
    },
    {
     "data": {
      "application/vnd.jupyter.widget-view+json": {
       "model_id": "3518f0adc9c8420688faef84deefb455",
       "version_major": 2,
       "version_minor": 0
      },
      "text/plain": [
       "Predicting: 75it [00:00, ?it/s]"
      ]
     },
     "metadata": {},
     "output_type": "display_data"
    },
    {
     "data": {
      "application/vnd.jupyter.widget-view+json": {
       "model_id": "77e72e0557e540be8153858f9a2a87b9",
       "version_major": 2,
       "version_minor": 0
      },
      "text/plain": [
       "Predicting: 75it [00:00, ?it/s]"
      ]
     },
     "metadata": {},
     "output_type": "display_data"
    },
    {
     "data": {
      "application/vnd.jupyter.widget-view+json": {
       "model_id": "206e3088d1704808a070851ca4d40b44",
       "version_major": 2,
       "version_minor": 0
      },
      "text/plain": [
       "Predicting: 75it [00:00, ?it/s]"
      ]
     },
     "metadata": {},
     "output_type": "display_data"
    },
    {
     "data": {
      "application/vnd.jupyter.widget-view+json": {
       "model_id": "12abdacb02b948b09ab81b37a61aed80",
       "version_major": 2,
       "version_minor": 0
      },
      "text/plain": [
       "Predicting: 75it [00:00, ?it/s]"
      ]
     },
     "metadata": {},
     "output_type": "display_data"
    },
    {
     "data": {
      "application/vnd.jupyter.widget-view+json": {
       "model_id": "2b7fb5b303ce462ebbb84e9a26a3e7ba",
       "version_major": 2,
       "version_minor": 0
      },
      "text/plain": [
       "Predicting: 75it [00:00, ?it/s]"
      ]
     },
     "metadata": {},
     "output_type": "display_data"
    },
    {
     "data": {
      "application/vnd.jupyter.widget-view+json": {
       "model_id": "70f94117a954486d9d5c3860ba9228d9",
       "version_major": 2,
       "version_minor": 0
      },
      "text/plain": [
       "Predicting: 75it [00:00, ?it/s]"
      ]
     },
     "metadata": {},
     "output_type": "display_data"
    },
    {
     "data": {
      "application/vnd.jupyter.widget-view+json": {
       "model_id": "6e05ab9a14074704847a7812a0912980",
       "version_major": 2,
       "version_minor": 0
      },
      "text/plain": [
       "Predicting: 75it [00:00, ?it/s]"
      ]
     },
     "metadata": {},
     "output_type": "display_data"
    },
    {
     "data": {
      "application/vnd.jupyter.widget-view+json": {
       "model_id": "3207b03a37304264b2d7d8740411a15c",
       "version_major": 2,
       "version_minor": 0
      },
      "text/plain": [
       "Predicting: 75it [00:00, ?it/s]"
      ]
     },
     "metadata": {},
     "output_type": "display_data"
    },
    {
     "data": {
      "application/vnd.jupyter.widget-view+json": {
       "model_id": "edf34a43e4be4ec09085b8af1646a1f9",
       "version_major": 2,
       "version_minor": 0
      },
      "text/plain": [
       "Predicting: 75it [00:00, ?it/s]"
      ]
     },
     "metadata": {},
     "output_type": "display_data"
    },
    {
     "data": {
      "application/vnd.jupyter.widget-view+json": {
       "model_id": "f08d2eff5eb4482f85f83595d30f8d08",
       "version_major": 2,
       "version_minor": 0
      },
      "text/plain": [
       "Predicting: 75it [00:00, ?it/s]"
      ]
     },
     "metadata": {},
     "output_type": "display_data"
    },
    {
     "data": {
      "application/vnd.jupyter.widget-view+json": {
       "model_id": "143e283a11df45d1befa13b1790cf052",
       "version_major": 2,
       "version_minor": 0
      },
      "text/plain": [
       "Predicting: 75it [00:00, ?it/s]"
      ]
     },
     "metadata": {},
     "output_type": "display_data"
    },
    {
     "data": {
      "application/vnd.jupyter.widget-view+json": {
       "model_id": "fe04e024749744c3bbf73368e0109bd0",
       "version_major": 2,
       "version_minor": 0
      },
      "text/plain": [
       "Predicting: 75it [00:00, ?it/s]"
      ]
     },
     "metadata": {},
     "output_type": "display_data"
    },
    {
     "data": {
      "application/vnd.jupyter.widget-view+json": {
       "model_id": "62778f4140fa4f77861c1621b888173c",
       "version_major": 2,
       "version_minor": 0
      },
      "text/plain": [
       "Predicting: 75it [00:00, ?it/s]"
      ]
     },
     "metadata": {},
     "output_type": "display_data"
    },
    {
     "data": {
      "application/vnd.jupyter.widget-view+json": {
       "model_id": "e47b07a3f3464ea898bffbc9735c272d",
       "version_major": 2,
       "version_minor": 0
      },
      "text/plain": [
       "Predicting: 75it [00:00, ?it/s]"
      ]
     },
     "metadata": {},
     "output_type": "display_data"
    },
    {
     "data": {
      "application/vnd.jupyter.widget-view+json": {
       "model_id": "16febbf250b24c9d8587e2c5df6b8f35",
       "version_major": 2,
       "version_minor": 0
      },
      "text/plain": [
       "Predicting: 75it [00:00, ?it/s]"
      ]
     },
     "metadata": {},
     "output_type": "display_data"
    },
    {
     "data": {
      "application/vnd.jupyter.widget-view+json": {
       "model_id": "de3e6a9656cb4ac9ae0e3ab9d355a6d3",
       "version_major": 2,
       "version_minor": 0
      },
      "text/plain": [
       "Predicting: 75it [00:00, ?it/s]"
      ]
     },
     "metadata": {},
     "output_type": "display_data"
    },
    {
     "data": {
      "application/vnd.jupyter.widget-view+json": {
       "model_id": "4acea192769543d58c8ea94c17e5ef67",
       "version_major": 2,
       "version_minor": 0
      },
      "text/plain": [
       "Predicting: 75it [00:00, ?it/s]"
      ]
     },
     "metadata": {},
     "output_type": "display_data"
    },
    {
     "data": {
      "application/vnd.jupyter.widget-view+json": {
       "model_id": "ca7a874c3dd64f67a2f4bca78874c1a7",
       "version_major": 2,
       "version_minor": 0
      },
      "text/plain": [
       "Predicting: 75it [00:00, ?it/s]"
      ]
     },
     "metadata": {},
     "output_type": "display_data"
    },
    {
     "data": {
      "application/vnd.jupyter.widget-view+json": {
       "model_id": "ce808e9e2a834696983c244182107aad",
       "version_major": 2,
       "version_minor": 0
      },
      "text/plain": [
       "Predicting: 75it [00:00, ?it/s]"
      ]
     },
     "metadata": {},
     "output_type": "display_data"
    },
    {
     "data": {
      "application/vnd.jupyter.widget-view+json": {
       "model_id": "5c2715b880a84571bdf539ffb8340471",
       "version_major": 2,
       "version_minor": 0
      },
      "text/plain": [
       "Predicting: 75it [00:00, ?it/s]"
      ]
     },
     "metadata": {},
     "output_type": "display_data"
    },
    {
     "data": {
      "application/vnd.jupyter.widget-view+json": {
       "model_id": "173d453611e5481597d81cae0222b1fb",
       "version_major": 2,
       "version_minor": 0
      },
      "text/plain": [
       "Predicting: 75it [00:00, ?it/s]"
      ]
     },
     "metadata": {},
     "output_type": "display_data"
    },
    {
     "data": {
      "application/vnd.jupyter.widget-view+json": {
       "model_id": "3d960174a32e4a629cef8b1b3eec6285",
       "version_major": 2,
       "version_minor": 0
      },
      "text/plain": [
       "Predicting: 75it [00:00, ?it/s]"
      ]
     },
     "metadata": {},
     "output_type": "display_data"
    },
    {
     "data": {
      "application/vnd.jupyter.widget-view+json": {
       "model_id": "d434f3b114784bca8fd58d32523d4d36",
       "version_major": 2,
       "version_minor": 0
      },
      "text/plain": [
       "Predicting: 75it [00:00, ?it/s]"
      ]
     },
     "metadata": {},
     "output_type": "display_data"
    },
    {
     "data": {
      "application/vnd.jupyter.widget-view+json": {
       "model_id": "58d2135d6bfe407389803e121cd95e36",
       "version_major": 2,
       "version_minor": 0
      },
      "text/plain": [
       "Predicting: 75it [00:00, ?it/s]"
      ]
     },
     "metadata": {},
     "output_type": "display_data"
    },
    {
     "data": {
      "application/vnd.jupyter.widget-view+json": {
       "model_id": "6670448f61754c4193e22136224104a8",
       "version_major": 2,
       "version_minor": 0
      },
      "text/plain": [
       "Predicting: 75it [00:00, ?it/s]"
      ]
     },
     "metadata": {},
     "output_type": "display_data"
    },
    {
     "data": {
      "application/vnd.jupyter.widget-view+json": {
       "model_id": "8b7974f64dc04b03b3d4b77a7f1ddd8d",
       "version_major": 2,
       "version_minor": 0
      },
      "text/plain": [
       "Predicting: 75it [00:00, ?it/s]"
      ]
     },
     "metadata": {},
     "output_type": "display_data"
    },
    {
     "data": {
      "application/vnd.jupyter.widget-view+json": {
       "model_id": "2335c89c1cb84d3b82c4a07665531ccc",
       "version_major": 2,
       "version_minor": 0
      },
      "text/plain": [
       "Predicting: 75it [00:00, ?it/s]"
      ]
     },
     "metadata": {},
     "output_type": "display_data"
    },
    {
     "data": {
      "application/vnd.jupyter.widget-view+json": {
       "model_id": "8d1048f022e649748b0587ce59518246",
       "version_major": 2,
       "version_minor": 0
      },
      "text/plain": [
       "Predicting: 75it [00:00, ?it/s]"
      ]
     },
     "metadata": {},
     "output_type": "display_data"
    },
    {
     "data": {
      "application/vnd.jupyter.widget-view+json": {
       "model_id": "eb42b23690ee4160bda713cbeae4343a",
       "version_major": 2,
       "version_minor": 0
      },
      "text/plain": [
       "Predicting: 75it [00:00, ?it/s]"
      ]
     },
     "metadata": {},
     "output_type": "display_data"
    },
    {
     "data": {
      "application/vnd.jupyter.widget-view+json": {
       "model_id": "5ae91a9ef47d4ee38b7fb90d4f7d8550",
       "version_major": 2,
       "version_minor": 0
      },
      "text/plain": [
       "Predicting: 75it [00:00, ?it/s]"
      ]
     },
     "metadata": {},
     "output_type": "display_data"
    },
    {
     "data": {
      "application/vnd.jupyter.widget-view+json": {
       "model_id": "7a9f131d47834505968551f317db724e",
       "version_major": 2,
       "version_minor": 0
      },
      "text/plain": [
       "Predicting: 75it [00:00, ?it/s]"
      ]
     },
     "metadata": {},
     "output_type": "display_data"
    },
    {
     "data": {
      "application/vnd.jupyter.widget-view+json": {
       "model_id": "8e6de2b935c847e08f760f6d0b52bd0e",
       "version_major": 2,
       "version_minor": 0
      },
      "text/plain": [
       "Predicting: 75it [00:00, ?it/s]"
      ]
     },
     "metadata": {},
     "output_type": "display_data"
    },
    {
     "data": {
      "application/vnd.jupyter.widget-view+json": {
       "model_id": "311b49bbbec5430b9d69f1674414aa44",
       "version_major": 2,
       "version_minor": 0
      },
      "text/plain": [
       "Predicting: 75it [00:00, ?it/s]"
      ]
     },
     "metadata": {},
     "output_type": "display_data"
    },
    {
     "data": {
      "application/vnd.jupyter.widget-view+json": {
       "model_id": "d72b6d9fe5f94d77b8eac45455c59597",
       "version_major": 2,
       "version_minor": 0
      },
      "text/plain": [
       "Predicting: 75it [00:00, ?it/s]"
      ]
     },
     "metadata": {},
     "output_type": "display_data"
    },
    {
     "data": {
      "application/vnd.jupyter.widget-view+json": {
       "model_id": "e77f579488d74334a9d68dc0a88cca84",
       "version_major": 2,
       "version_minor": 0
      },
      "text/plain": [
       "Predicting: 75it [00:00, ?it/s]"
      ]
     },
     "metadata": {},
     "output_type": "display_data"
    },
    {
     "data": {
      "application/vnd.jupyter.widget-view+json": {
       "model_id": "e3433e737ee54c4aa1d590a7488176cf",
       "version_major": 2,
       "version_minor": 0
      },
      "text/plain": [
       "Predicting: 75it [00:00, ?it/s]"
      ]
     },
     "metadata": {},
     "output_type": "display_data"
    },
    {
     "data": {
      "application/vnd.jupyter.widget-view+json": {
       "model_id": "8d3515b6731f4789a79e4f8100500ae8",
       "version_major": 2,
       "version_minor": 0
      },
      "text/plain": [
       "Predicting: 75it [00:00, ?it/s]"
      ]
     },
     "metadata": {},
     "output_type": "display_data"
    },
    {
     "data": {
      "application/vnd.jupyter.widget-view+json": {
       "model_id": "046044e9efcf41d8a98a231bdc9f0dcb",
       "version_major": 2,
       "version_minor": 0
      },
      "text/plain": [
       "Predicting: 75it [00:00, ?it/s]"
      ]
     },
     "metadata": {},
     "output_type": "display_data"
    },
    {
     "data": {
      "application/vnd.jupyter.widget-view+json": {
       "model_id": "0c5e1310b0914cb9866e17e950aad77b",
       "version_major": 2,
       "version_minor": 0
      },
      "text/plain": [
       "Predicting: 75it [00:00, ?it/s]"
      ]
     },
     "metadata": {},
     "output_type": "display_data"
    },
    {
     "data": {
      "application/vnd.jupyter.widget-view+json": {
       "model_id": "4ad282f98a6840bd97ea4b2c83e3bf2a",
       "version_major": 2,
       "version_minor": 0
      },
      "text/plain": [
       "Predicting: 75it [00:00, ?it/s]"
      ]
     },
     "metadata": {},
     "output_type": "display_data"
    },
    {
     "data": {
      "application/vnd.jupyter.widget-view+json": {
       "model_id": "018c6ef7d1d94da9a313aeea6e71e0a6",
       "version_major": 2,
       "version_minor": 0
      },
      "text/plain": [
       "Predicting: 75it [00:00, ?it/s]"
      ]
     },
     "metadata": {},
     "output_type": "display_data"
    },
    {
     "data": {
      "application/vnd.jupyter.widget-view+json": {
       "model_id": "a9f3af7de68443ecb45a1b31b53e6f35",
       "version_major": 2,
       "version_minor": 0
      },
      "text/plain": [
       "Predicting: 75it [00:00, ?it/s]"
      ]
     },
     "metadata": {},
     "output_type": "display_data"
    },
    {
     "data": {
      "application/vnd.jupyter.widget-view+json": {
       "model_id": "33261474196b4e57a966960b1b875b32",
       "version_major": 2,
       "version_minor": 0
      },
      "text/plain": [
       "Predicting: 75it [00:00, ?it/s]"
      ]
     },
     "metadata": {},
     "output_type": "display_data"
    },
    {
     "data": {
      "application/vnd.jupyter.widget-view+json": {
       "model_id": "0ca11870778043048d969db0db375708",
       "version_major": 2,
       "version_minor": 0
      },
      "text/plain": [
       "Predicting: 75it [00:00, ?it/s]"
      ]
     },
     "metadata": {},
     "output_type": "display_data"
    },
    {
     "data": {
      "application/vnd.jupyter.widget-view+json": {
       "model_id": "69304dfdf7614c82a8897b3621536e94",
       "version_major": 2,
       "version_minor": 0
      },
      "text/plain": [
       "Predicting: 75it [00:00, ?it/s]"
      ]
     },
     "metadata": {},
     "output_type": "display_data"
    },
    {
     "data": {
      "application/vnd.jupyter.widget-view+json": {
       "model_id": "ace259518419403dbbb8ae242757aa47",
       "version_major": 2,
       "version_minor": 0
      },
      "text/plain": [
       "Predicting: 75it [00:00, ?it/s]"
      ]
     },
     "metadata": {},
     "output_type": "display_data"
    },
    {
     "data": {
      "application/vnd.jupyter.widget-view+json": {
       "model_id": "9e475dc631fa43e3bd3c3c4ffb7658c9",
       "version_major": 2,
       "version_minor": 0
      },
      "text/plain": [
       "Predicting: 75it [00:00, ?it/s]"
      ]
     },
     "metadata": {},
     "output_type": "display_data"
    },
    {
     "data": {
      "application/vnd.jupyter.widget-view+json": {
       "model_id": "854567da79de45ed88bba5b7fbea2af4",
       "version_major": 2,
       "version_minor": 0
      },
      "text/plain": [
       "Predicting: 75it [00:00, ?it/s]"
      ]
     },
     "metadata": {},
     "output_type": "display_data"
    },
    {
     "data": {
      "application/vnd.jupyter.widget-view+json": {
       "model_id": "06a395f682fb4b318597aff60d1bd751",
       "version_major": 2,
       "version_minor": 0
      },
      "text/plain": [
       "Predicting: 75it [00:00, ?it/s]"
      ]
     },
     "metadata": {},
     "output_type": "display_data"
    },
    {
     "data": {
      "application/vnd.jupyter.widget-view+json": {
       "model_id": "914b040322054b5caad847bf3dda817e",
       "version_major": 2,
       "version_minor": 0
      },
      "text/plain": [
       "Predicting: 75it [00:00, ?it/s]"
      ]
     },
     "metadata": {},
     "output_type": "display_data"
    },
    {
     "data": {
      "application/vnd.jupyter.widget-view+json": {
       "model_id": "d524abdfb4c744d6afbf1cc77ad17b20",
       "version_major": 2,
       "version_minor": 0
      },
      "text/plain": [
       "Predicting: 75it [00:00, ?it/s]"
      ]
     },
     "metadata": {},
     "output_type": "display_data"
    },
    {
     "data": {
      "application/vnd.jupyter.widget-view+json": {
       "model_id": "485e2866aa2a4b438729b916499f9338",
       "version_major": 2,
       "version_minor": 0
      },
      "text/plain": [
       "Predicting: 75it [00:00, ?it/s]"
      ]
     },
     "metadata": {},
     "output_type": "display_data"
    },
    {
     "data": {
      "application/vnd.jupyter.widget-view+json": {
       "model_id": "a620f18d4d774518a87c2ba797b1cdbc",
       "version_major": 2,
       "version_minor": 0
      },
      "text/plain": [
       "Predicting: 75it [00:00, ?it/s]"
      ]
     },
     "metadata": {},
     "output_type": "display_data"
    },
    {
     "data": {
      "application/vnd.jupyter.widget-view+json": {
       "model_id": "b185bd8a64334d93a07e360128c26cb6",
       "version_major": 2,
       "version_minor": 0
      },
      "text/plain": [
       "Predicting: 75it [00:00, ?it/s]"
      ]
     },
     "metadata": {},
     "output_type": "display_data"
    },
    {
     "data": {
      "application/vnd.jupyter.widget-view+json": {
       "model_id": "9f7bd2ba6db84bce9fddd16aaf3e5dae",
       "version_major": 2,
       "version_minor": 0
      },
      "text/plain": [
       "Predicting: 75it [00:00, ?it/s]"
      ]
     },
     "metadata": {},
     "output_type": "display_data"
    },
    {
     "data": {
      "application/vnd.jupyter.widget-view+json": {
       "model_id": "7f1d2c8fedf644e0b1d34d1d1a048f4b",
       "version_major": 2,
       "version_minor": 0
      },
      "text/plain": [
       "Predicting: 75it [00:00, ?it/s]"
      ]
     },
     "metadata": {},
     "output_type": "display_data"
    },
    {
     "data": {
      "application/vnd.jupyter.widget-view+json": {
       "model_id": "f36d3db44af84810bfce727952751191",
       "version_major": 2,
       "version_minor": 0
      },
      "text/plain": [
       "Predicting: 75it [00:00, ?it/s]"
      ]
     },
     "metadata": {},
     "output_type": "display_data"
    },
    {
     "data": {
      "application/vnd.jupyter.widget-view+json": {
       "model_id": "a4e7b84bb95f4831b857c5181a2245b6",
       "version_major": 2,
       "version_minor": 0
      },
      "text/plain": [
       "Predicting: 75it [00:00, ?it/s]"
      ]
     },
     "metadata": {},
     "output_type": "display_data"
    },
    {
     "data": {
      "application/vnd.jupyter.widget-view+json": {
       "model_id": "378e08143c64470a8e9b036c3036c281",
       "version_major": 2,
       "version_minor": 0
      },
      "text/plain": [
       "Predicting: 75it [00:00, ?it/s]"
      ]
     },
     "metadata": {},
     "output_type": "display_data"
    },
    {
     "data": {
      "application/vnd.jupyter.widget-view+json": {
       "model_id": "373d721453c64f4bbc113264c8323df9",
       "version_major": 2,
       "version_minor": 0
      },
      "text/plain": [
       "Predicting: 75it [00:00, ?it/s]"
      ]
     },
     "metadata": {},
     "output_type": "display_data"
    },
    {
     "data": {
      "application/vnd.jupyter.widget-view+json": {
       "model_id": "2a8487b90c984290adc26cd59a881c06",
       "version_major": 2,
       "version_minor": 0
      },
      "text/plain": [
       "Predicting: 75it [00:00, ?it/s]"
      ]
     },
     "metadata": {},
     "output_type": "display_data"
    },
    {
     "data": {
      "application/vnd.jupyter.widget-view+json": {
       "model_id": "4a01be14303441fdbc44b848d103ec96",
       "version_major": 2,
       "version_minor": 0
      },
      "text/plain": [
       "Predicting: 75it [00:00, ?it/s]"
      ]
     },
     "metadata": {},
     "output_type": "display_data"
    },
    {
     "data": {
      "application/vnd.jupyter.widget-view+json": {
       "model_id": "f8a55e83b35748fd8f5cd2db7773267e",
       "version_major": 2,
       "version_minor": 0
      },
      "text/plain": [
       "Predicting: 75it [00:00, ?it/s]"
      ]
     },
     "metadata": {},
     "output_type": "display_data"
    },
    {
     "data": {
      "application/vnd.jupyter.widget-view+json": {
       "model_id": "05673675aa8d40f88b347261ec60e2d9",
       "version_major": 2,
       "version_minor": 0
      },
      "text/plain": [
       "Predicting: 75it [00:00, ?it/s]"
      ]
     },
     "metadata": {},
     "output_type": "display_data"
    },
    {
     "data": {
      "application/vnd.jupyter.widget-view+json": {
       "model_id": "0f5d50cfcb1548adb7cb56aa02b1e055",
       "version_major": 2,
       "version_minor": 0
      },
      "text/plain": [
       "Predicting: 75it [00:00, ?it/s]"
      ]
     },
     "metadata": {},
     "output_type": "display_data"
    },
    {
     "data": {
      "application/vnd.jupyter.widget-view+json": {
       "model_id": "64f078bc2a1643229a841ea82fc07e87",
       "version_major": 2,
       "version_minor": 0
      },
      "text/plain": [
       "Predicting: 75it [00:00, ?it/s]"
      ]
     },
     "metadata": {},
     "output_type": "display_data"
    },
    {
     "data": {
      "application/vnd.jupyter.widget-view+json": {
       "model_id": "a441c161998e4d42bc9e2c0f8e74609f",
       "version_major": 2,
       "version_minor": 0
      },
      "text/plain": [
       "Predicting: 75it [00:00, ?it/s]"
      ]
     },
     "metadata": {},
     "output_type": "display_data"
    },
    {
     "data": {
      "application/vnd.jupyter.widget-view+json": {
       "model_id": "b6b7582dd8564e90a15e604637fcb853",
       "version_major": 2,
       "version_minor": 0
      },
      "text/plain": [
       "Predicting: 75it [00:00, ?it/s]"
      ]
     },
     "metadata": {},
     "output_type": "display_data"
    },
    {
     "data": {
      "application/vnd.jupyter.widget-view+json": {
       "model_id": "1135338fcb0d41dd801e1dafdb408cd3",
       "version_major": 2,
       "version_minor": 0
      },
      "text/plain": [
       "Predicting: 75it [00:00, ?it/s]"
      ]
     },
     "metadata": {},
     "output_type": "display_data"
    },
    {
     "data": {
      "application/vnd.jupyter.widget-view+json": {
       "model_id": "4173833a230d49c4a308f1a4f3f86b27",
       "version_major": 2,
       "version_minor": 0
      },
      "text/plain": [
       "Predicting: 75it [00:00, ?it/s]"
      ]
     },
     "metadata": {},
     "output_type": "display_data"
    },
    {
     "data": {
      "application/vnd.jupyter.widget-view+json": {
       "model_id": "7ec2156b2a0945e9a03df9acd5096df4",
       "version_major": 2,
       "version_minor": 0
      },
      "text/plain": [
       "Predicting: 75it [00:00, ?it/s]"
      ]
     },
     "metadata": {},
     "output_type": "display_data"
    },
    {
     "data": {
      "application/vnd.jupyter.widget-view+json": {
       "model_id": "92ff911a41bc4c748f17454404c00bc1",
       "version_major": 2,
       "version_minor": 0
      },
      "text/plain": [
       "Predicting: 75it [00:00, ?it/s]"
      ]
     },
     "metadata": {},
     "output_type": "display_data"
    },
    {
     "data": {
      "application/vnd.jupyter.widget-view+json": {
       "model_id": "9a64dab96f64453fbb5b25d1a4828c5b",
       "version_major": 2,
       "version_minor": 0
      },
      "text/plain": [
       "Predicting: 75it [00:00, ?it/s]"
      ]
     },
     "metadata": {},
     "output_type": "display_data"
    },
    {
     "data": {
      "application/vnd.jupyter.widget-view+json": {
       "model_id": "4ebaeed4b6774e0e8f32daca3b014505",
       "version_major": 2,
       "version_minor": 0
      },
      "text/plain": [
       "Predicting: 75it [00:00, ?it/s]"
      ]
     },
     "metadata": {},
     "output_type": "display_data"
    },
    {
     "data": {
      "application/vnd.jupyter.widget-view+json": {
       "model_id": "4f5e209d4cab4d8da2e9cd39e1a96ad5",
       "version_major": 2,
       "version_minor": 0
      },
      "text/plain": [
       "Predicting: 75it [00:00, ?it/s]"
      ]
     },
     "metadata": {},
     "output_type": "display_data"
    },
    {
     "data": {
      "application/vnd.jupyter.widget-view+json": {
       "model_id": "2f83342c0c464a83976394992b26428a",
       "version_major": 2,
       "version_minor": 0
      },
      "text/plain": [
       "Predicting: 75it [00:00, ?it/s]"
      ]
     },
     "metadata": {},
     "output_type": "display_data"
    },
    {
     "data": {
      "application/vnd.jupyter.widget-view+json": {
       "model_id": "2cb1fb3e435e4845a809464261048478",
       "version_major": 2,
       "version_minor": 0
      },
      "text/plain": [
       "Predicting: 75it [00:00, ?it/s]"
      ]
     },
     "metadata": {},
     "output_type": "display_data"
    },
    {
     "data": {
      "application/vnd.jupyter.widget-view+json": {
       "model_id": "3eee2a839e274923a8edf044c69642f6",
       "version_major": 2,
       "version_minor": 0
      },
      "text/plain": [
       "Predicting: 75it [00:00, ?it/s]"
      ]
     },
     "metadata": {},
     "output_type": "display_data"
    },
    {
     "data": {
      "application/vnd.jupyter.widget-view+json": {
       "model_id": "88f95e06f51f484f8f11d83c4ebc2eb3",
       "version_major": 2,
       "version_minor": 0
      },
      "text/plain": [
       "Predicting: 75it [00:00, ?it/s]"
      ]
     },
     "metadata": {},
     "output_type": "display_data"
    },
    {
     "data": {
      "application/vnd.jupyter.widget-view+json": {
       "model_id": "e9febe51f3d04fa487732e515e371723",
       "version_major": 2,
       "version_minor": 0
      },
      "text/plain": [
       "Predicting: 75it [00:00, ?it/s]"
      ]
     },
     "metadata": {},
     "output_type": "display_data"
    },
    {
     "data": {
      "application/vnd.jupyter.widget-view+json": {
       "model_id": "9b5ade74f9174050ab13e7e95b6f01c6",
       "version_major": 2,
       "version_minor": 0
      },
      "text/plain": [
       "Predicting: 75it [00:00, ?it/s]"
      ]
     },
     "metadata": {},
     "output_type": "display_data"
    },
    {
     "data": {
      "application/vnd.jupyter.widget-view+json": {
       "model_id": "e8034b5429fe4855ad34d8cee05b9b33",
       "version_major": 2,
       "version_minor": 0
      },
      "text/plain": [
       "Predicting: 75it [00:00, ?it/s]"
      ]
     },
     "metadata": {},
     "output_type": "display_data"
    },
    {
     "data": {
      "application/vnd.jupyter.widget-view+json": {
       "model_id": "d8ced5807a2045caa637d2f4d5e0530c",
       "version_major": 2,
       "version_minor": 0
      },
      "text/plain": [
       "Predicting: 75it [00:00, ?it/s]"
      ]
     },
     "metadata": {},
     "output_type": "display_data"
    },
    {
     "data": {
      "application/vnd.jupyter.widget-view+json": {
       "model_id": "110e5fe15f79482fac75d85c4e9ab575",
       "version_major": 2,
       "version_minor": 0
      },
      "text/plain": [
       "Predicting: 75it [00:00, ?it/s]"
      ]
     },
     "metadata": {},
     "output_type": "display_data"
    },
    {
     "data": {
      "application/vnd.jupyter.widget-view+json": {
       "model_id": "9500c0dda34444759d77315b028c7ceb",
       "version_major": 2,
       "version_minor": 0
      },
      "text/plain": [
       "Predicting: 75it [00:00, ?it/s]"
      ]
     },
     "metadata": {},
     "output_type": "display_data"
    },
    {
     "data": {
      "application/vnd.jupyter.widget-view+json": {
       "model_id": "41a52600b6ae445b9363059ef510a8bd",
       "version_major": 2,
       "version_minor": 0
      },
      "text/plain": [
       "Predicting: 75it [00:00, ?it/s]"
      ]
     },
     "metadata": {},
     "output_type": "display_data"
    },
    {
     "data": {
      "application/vnd.jupyter.widget-view+json": {
       "model_id": "3e50cbfb36d4480c8de49b87f1cb5bba",
       "version_major": 2,
       "version_minor": 0
      },
      "text/plain": [
       "Predicting: 75it [00:00, ?it/s]"
      ]
     },
     "metadata": {},
     "output_type": "display_data"
    },
    {
     "data": {
      "application/vnd.jupyter.widget-view+json": {
       "model_id": "5efbe9a77392430e8b801529cc74d9e2",
       "version_major": 2,
       "version_minor": 0
      },
      "text/plain": [
       "Predicting: 75it [00:00, ?it/s]"
      ]
     },
     "metadata": {},
     "output_type": "display_data"
    },
    {
     "data": {
      "application/vnd.jupyter.widget-view+json": {
       "model_id": "4e2a49eeedd84224a27b149d2eb9fe31",
       "version_major": 2,
       "version_minor": 0
      },
      "text/plain": [
       "Predicting: 75it [00:00, ?it/s]"
      ]
     },
     "metadata": {},
     "output_type": "display_data"
    },
    {
     "data": {
      "application/vnd.jupyter.widget-view+json": {
       "model_id": "780fd697e5124144b7f861cc345b0835",
       "version_major": 2,
       "version_minor": 0
      },
      "text/plain": [
       "Predicting: 75it [00:00, ?it/s]"
      ]
     },
     "metadata": {},
     "output_type": "display_data"
    },
    {
     "data": {
      "application/vnd.jupyter.widget-view+json": {
       "model_id": "d8cbc3a9b7bc4fdeadb617263b19d70a",
       "version_major": 2,
       "version_minor": 0
      },
      "text/plain": [
       "Predicting: 75it [00:00, ?it/s]"
      ]
     },
     "metadata": {},
     "output_type": "display_data"
    },
    {
     "data": {
      "application/vnd.jupyter.widget-view+json": {
       "model_id": "6101967ddb5941a1ae736761d6dc00f4",
       "version_major": 2,
       "version_minor": 0
      },
      "text/plain": [
       "Predicting: 75it [00:00, ?it/s]"
      ]
     },
     "metadata": {},
     "output_type": "display_data"
    }
   ],
   "source": [
    "fitted = [RNN.historical_forecasts(series=x, start=24, retrain=False) for x in processed[:18]]"
   ]
  },
  {
   "cell_type": "code",
   "execution_count": 47,
   "id": "a4febe41",
   "metadata": {},
   "outputs": [],
   "source": [
    "fitted = [x.pd_series().reset_index(drop=True) for x in fitted]"
   ]
  },
  {
   "cell_type": "code",
   "execution_count": 52,
   "id": "35c5ff68",
   "metadata": {},
   "outputs": [],
   "source": [
    "for f in fitted:\n",
    "    f.index = np.arange(input_chunk_length, len(processed[0]))"
   ]
  },
  {
   "cell_type": "code",
   "execution_count": 55,
   "id": "2ab01837",
   "metadata": {},
   "outputs": [
    {
     "data": {
      "application/vnd.jupyter.widget-view+json": {
       "model_id": "2bc4684b8cf34acbb823c8c1d43032b9",
       "version_major": 2,
       "version_minor": 0
      },
      "text/plain": [
       "Predicting: 75it [00:00, ?it/s]"
      ]
     },
     "metadata": {},
     "output_type": "display_data"
    }
   ],
   "source": [
    "fcasts = RNN.predict(n=h, series=processed)"
   ]
  },
  {
   "cell_type": "code",
   "execution_count": 56,
   "id": "b1c4f78a",
   "metadata": {},
   "outputs": [],
   "source": [
    "fcasts = [x.pd_series().reset_index(drop=True) for x in fcasts]"
   ]
  },
  {
   "cell_type": "code",
   "execution_count": 57,
   "id": "37be4089",
   "metadata": {},
   "outputs": [],
   "source": [
    "for f in fcasts:\n",
    "    f.index = np.arange(len(processed[0]), len(processed[0])+1)"
   ]
  },
  {
   "cell_type": "markdown",
   "id": "31a3f177",
   "metadata": {},
   "source": [
    "### Post Process Forecasts"
   ]
  },
  {
   "cell_type": "code",
   "execution_count": 59,
   "id": "9a513287",
   "metadata": {},
   "outputs": [],
   "source": [
    "fcasts = post_process(full_ts_data=Y,\n",
    "                      forecasts=fcasts,\n",
    "                      target_forecast_period=h,\n",
    "                      mean_normalize=True,\n",
    "                      log=True,\n",
    "                      transform_dict=transform_dict)"
   ]
  },
  {
   "cell_type": "code",
   "execution_count": 60,
   "id": "83332886",
   "metadata": {},
   "outputs": [],
   "source": [
    "fitted = post_process(full_ts_data=Y,\n",
    "                      forecasts=fitted,\n",
    "                      target_forecast_period=h,\n",
    "                      mean_normalize=True,\n",
    "                      log=True,\n",
    "                      transform_dict=transform_dict)"
   ]
  },
  {
   "cell_type": "markdown",
   "id": "54788bf3",
   "metadata": {},
   "source": [
    "### Assess Forecast Accuracy"
   ]
  },
  {
   "cell_type": "code",
   "execution_count": 61,
   "id": "e02f461f",
   "metadata": {},
   "outputs": [
    {
     "data": {
      "text/plain": [
       "637.6762616641279"
      ]
     },
     "execution_count": 61,
     "metadata": {},
     "output_type": "execute_result"
    }
   ],
   "source": [
    "mean_absolute_error(Test, fcasts)"
   ]
  },
  {
   "cell_type": "code",
   "execution_count": 62,
   "id": "8c0ecb4a",
   "metadata": {},
   "outputs": [
    {
     "data": {
      "text/html": [
       "<div>\n",
       "<style scoped>\n",
       "    .dataframe tbody tr th:only-of-type {\n",
       "        vertical-align: middle;\n",
       "    }\n",
       "\n",
       "    .dataframe tbody tr th {\n",
       "        vertical-align: top;\n",
       "    }\n",
       "\n",
       "    .dataframe thead th {\n",
       "        text-align: right;\n",
       "    }\n",
       "</style>\n",
       "<table border=\"1\" class=\"dataframe\">\n",
       "  <thead>\n",
       "    <tr style=\"text-align: right;\">\n",
       "      <th></th>\n",
       "      <th>0</th>\n",
       "      <th>1</th>\n",
       "      <th>2</th>\n",
       "      <th>3</th>\n",
       "      <th>4</th>\n",
       "      <th>5</th>\n",
       "      <th>6</th>\n",
       "      <th>7</th>\n",
       "      <th>8</th>\n",
       "      <th>9</th>\n",
       "      <th>10</th>\n",
       "      <th>11</th>\n",
       "      <th>12</th>\n",
       "      <th>13</th>\n",
       "      <th>14</th>\n",
       "      <th>15</th>\n",
       "      <th>16</th>\n",
       "      <th>17</th>\n",
       "    </tr>\n",
       "  </thead>\n",
       "  <tbody>\n",
       "    <tr>\n",
       "      <th>0</th>\n",
       "      <td>3419.229156</td>\n",
       "      <td>1021.645679</td>\n",
       "      <td>3102.954858</td>\n",
       "      <td>1440.948040</td>\n",
       "      <td>4729.174066</td>\n",
       "      <td>1064.943613</td>\n",
       "      <td>2258.968653</td>\n",
       "      <td>2438.377727</td>\n",
       "      <td>3130.187528</td>\n",
       "      <td>4739.152560</td>\n",
       "      <td>3705.312384</td>\n",
       "      <td>3983.243998</td>\n",
       "      <td>3352.017403</td>\n",
       "      <td>4565.281239</td>\n",
       "      <td>1567.887444</td>\n",
       "      <td>871.384194</td>\n",
       "      <td>1822.773619</td>\n",
       "      <td>1862.495403</td>\n",
       "    </tr>\n",
       "    <tr>\n",
       "      <th>1</th>\n",
       "      <td>3843.039086</td>\n",
       "      <td>1075.866728</td>\n",
       "      <td>3454.678456</td>\n",
       "      <td>1609.409302</td>\n",
       "      <td>4889.290864</td>\n",
       "      <td>1162.138993</td>\n",
       "      <td>2141.361926</td>\n",
       "      <td>2083.540479</td>\n",
       "      <td>3319.172606</td>\n",
       "      <td>4957.801106</td>\n",
       "      <td>3222.808178</td>\n",
       "      <td>3296.461857</td>\n",
       "      <td>3614.447808</td>\n",
       "      <td>4923.498627</td>\n",
       "      <td>1708.989450</td>\n",
       "      <td>914.327789</td>\n",
       "      <td>1931.047543</td>\n",
       "      <td>1958.967592</td>\n",
       "    </tr>\n",
       "    <tr>\n",
       "      <th>2</th>\n",
       "      <td>3977.304845</td>\n",
       "      <td>1216.443402</td>\n",
       "      <td>2932.800816</td>\n",
       "      <td>1561.607302</td>\n",
       "      <td>4630.520324</td>\n",
       "      <td>1208.981102</td>\n",
       "      <td>2334.907369</td>\n",
       "      <td>2109.737604</td>\n",
       "      <td>3011.270913</td>\n",
       "      <td>4825.666925</td>\n",
       "      <td>3400.104496</td>\n",
       "      <td>2973.655714</td>\n",
       "      <td>3523.018862</td>\n",
       "      <td>5043.358738</td>\n",
       "      <td>1729.822698</td>\n",
       "      <td>869.316951</td>\n",
       "      <td>1751.207700</td>\n",
       "      <td>2079.341569</td>\n",
       "    </tr>\n",
       "    <tr>\n",
       "      <th>3</th>\n",
       "      <td>3847.299498</td>\n",
       "      <td>1101.764638</td>\n",
       "      <td>3009.700127</td>\n",
       "      <td>1627.740240</td>\n",
       "      <td>4663.973583</td>\n",
       "      <td>1218.189852</td>\n",
       "      <td>2419.655669</td>\n",
       "      <td>2360.113100</td>\n",
       "      <td>2776.444679</td>\n",
       "      <td>4371.542736</td>\n",
       "      <td>3030.902129</td>\n",
       "      <td>2701.114127</td>\n",
       "      <td>3340.492609</td>\n",
       "      <td>4770.837602</td>\n",
       "      <td>1724.139704</td>\n",
       "      <td>952.627245</td>\n",
       "      <td>1751.399875</td>\n",
       "      <td>2135.161254</td>\n",
       "    </tr>\n",
       "    <tr>\n",
       "      <th>4</th>\n",
       "      <td>4134.466860</td>\n",
       "      <td>1162.961033</td>\n",
       "      <td>3105.930936</td>\n",
       "      <td>1785.663301</td>\n",
       "      <td>4855.279393</td>\n",
       "      <td>1217.925726</td>\n",
       "      <td>2452.432007</td>\n",
       "      <td>2335.754293</td>\n",
       "      <td>2731.279618</td>\n",
       "      <td>4207.272779</td>\n",
       "      <td>2347.103247</td>\n",
       "      <td>2977.791556</td>\n",
       "      <td>2909.041829</td>\n",
       "      <td>3982.132916</td>\n",
       "      <td>1722.033733</td>\n",
       "      <td>891.841295</td>\n",
       "      <td>1819.753788</td>\n",
       "      <td>2177.420998</td>\n",
       "    </tr>\n",
       "    <tr>\n",
       "      <th>5</th>\n",
       "      <td>4155.650021</td>\n",
       "      <td>1321.298912</td>\n",
       "      <td>3093.454283</td>\n",
       "      <td>1869.619942</td>\n",
       "      <td>4825.928668</td>\n",
       "      <td>1352.611314</td>\n",
       "      <td>2610.479148</td>\n",
       "      <td>2339.852467</td>\n",
       "      <td>2690.704668</td>\n",
       "      <td>4057.953589</td>\n",
       "      <td>1759.985749</td>\n",
       "      <td>2597.544566</td>\n",
       "      <td>3085.677716</td>\n",
       "      <td>4163.985750</td>\n",
       "      <td>1888.381622</td>\n",
       "      <td>1049.973239</td>\n",
       "      <td>1818.561110</td>\n",
       "      <td>2152.328982</td>\n",
       "    </tr>\n",
       "    <tr>\n",
       "      <th>6</th>\n",
       "      <td>4361.442545</td>\n",
       "      <td>1622.988263</td>\n",
       "      <td>3076.301912</td>\n",
       "      <td>1996.274506</td>\n",
       "      <td>5237.252668</td>\n",
       "      <td>1331.319919</td>\n",
       "      <td>2570.646049</td>\n",
       "      <td>1802.949048</td>\n",
       "      <td>2551.117646</td>\n",
       "      <td>3926.061999</td>\n",
       "      <td>2834.677137</td>\n",
       "      <td>2579.621666</td>\n",
       "      <td>3389.031197</td>\n",
       "      <td>4560.811132</td>\n",
       "      <td>1815.724408</td>\n",
       "      <td>1078.446768</td>\n",
       "      <td>1773.652684</td>\n",
       "      <td>2258.072638</td>\n",
       "    </tr>\n",
       "    <tr>\n",
       "      <th>7</th>\n",
       "      <td>3873.638237</td>\n",
       "      <td>1362.646345</td>\n",
       "      <td>3240.841823</td>\n",
       "      <td>2013.585504</td>\n",
       "      <td>5114.623387</td>\n",
       "      <td>1463.389914</td>\n",
       "      <td>2606.232405</td>\n",
       "      <td>1860.258963</td>\n",
       "      <td>2597.332718</td>\n",
       "      <td>3868.102584</td>\n",
       "      <td>3276.311627</td>\n",
       "      <td>2330.071444</td>\n",
       "      <td>2993.656707</td>\n",
       "      <td>4226.503612</td>\n",
       "      <td>1772.794060</td>\n",
       "      <td>1225.445241</td>\n",
       "      <td>1676.082119</td>\n",
       "      <td>2225.593436</td>\n",
       "    </tr>\n",
       "    <tr>\n",
       "      <th>8</th>\n",
       "      <td>4160.873495</td>\n",
       "      <td>1472.234448</td>\n",
       "      <td>3339.131625</td>\n",
       "      <td>1982.717179</td>\n",
       "      <td>5139.557263</td>\n",
       "      <td>1565.366432</td>\n",
       "      <td>2593.783716</td>\n",
       "      <td>1897.676217</td>\n",
       "      <td>2549.129420</td>\n",
       "      <td>3749.893998</td>\n",
       "      <td>2805.153909</td>\n",
       "      <td>2669.098821</td>\n",
       "      <td>3217.429650</td>\n",
       "      <td>4530.472248</td>\n",
       "      <td>1837.664611</td>\n",
       "      <td>1187.856877</td>\n",
       "      <td>1703.164664</td>\n",
       "      <td>1904.339599</td>\n",
       "    </tr>\n",
       "    <tr>\n",
       "      <th>9</th>\n",
       "      <td>3772.568161</td>\n",
       "      <td>1374.055493</td>\n",
       "      <td>3451.176076</td>\n",
       "      <td>2260.320290</td>\n",
       "      <td>4943.469729</td>\n",
       "      <td>1527.287196</td>\n",
       "      <td>2491.409679</td>\n",
       "      <td>1890.018982</td>\n",
       "      <td>2615.324892</td>\n",
       "      <td>3873.120909</td>\n",
       "      <td>3514.446237</td>\n",
       "      <td>2957.901989</td>\n",
       "      <td>3045.148143</td>\n",
       "      <td>4464.200246</td>\n",
       "      <td>1732.763443</td>\n",
       "      <td>1056.823733</td>\n",
       "      <td>1797.049624</td>\n",
       "      <td>1972.933768</td>\n",
       "    </tr>\n",
       "    <tr>\n",
       "      <th>10</th>\n",
       "      <td>4219.945491</td>\n",
       "      <td>1534.329804</td>\n",
       "      <td>3651.570522</td>\n",
       "      <td>2114.183608</td>\n",
       "      <td>4839.699567</td>\n",
       "      <td>1687.599366</td>\n",
       "      <td>2653.822990</td>\n",
       "      <td>2121.702896</td>\n",
       "      <td>2762.426942</td>\n",
       "      <td>4119.989564</td>\n",
       "      <td>2536.535045</td>\n",
       "      <td>2874.202283</td>\n",
       "      <td>3226.293778</td>\n",
       "      <td>4640.483542</td>\n",
       "      <td>1820.193610</td>\n",
       "      <td>1100.279838</td>\n",
       "      <td>1670.252443</td>\n",
       "      <td>1773.909673</td>\n",
       "    </tr>\n",
       "    <tr>\n",
       "      <th>11</th>\n",
       "      <td>3802.647542</td>\n",
       "      <td>1475.092185</td>\n",
       "      <td>3795.225587</td>\n",
       "      <td>2340.816536</td>\n",
       "      <td>5385.027815</td>\n",
       "      <td>1648.691986</td>\n",
       "      <td>2761.361265</td>\n",
       "      <td>2150.073577</td>\n",
       "      <td>2833.308206</td>\n",
       "      <td>4077.872537</td>\n",
       "      <td>4184.609534</td>\n",
       "      <td>3340.404522</td>\n",
       "      <td>3077.200154</td>\n",
       "      <td>4987.018736</td>\n",
       "      <td>1907.622520</td>\n",
       "      <td>1063.013169</td>\n",
       "      <td>1664.552176</td>\n",
       "      <td>1798.518680</td>\n",
       "    </tr>\n",
       "    <tr>\n",
       "      <th>12</th>\n",
       "      <td>3763.533758</td>\n",
       "      <td>1374.023327</td>\n",
       "      <td>3722.731366</td>\n",
       "      <td>2347.987007</td>\n",
       "      <td>5519.584160</td>\n",
       "      <td>1813.995032</td>\n",
       "      <td>2921.074915</td>\n",
       "      <td>2482.018323</td>\n",
       "      <td>2972.052272</td>\n",
       "      <td>4183.384323</td>\n",
       "      <td>3176.622190</td>\n",
       "      <td>3499.282566</td>\n",
       "      <td>2971.790152</td>\n",
       "      <td>4719.686193</td>\n",
       "      <td>1727.704560</td>\n",
       "      <td>1081.559145</td>\n",
       "      <td>1653.579896</td>\n",
       "      <td>1815.660747</td>\n",
       "    </tr>\n",
       "    <tr>\n",
       "      <th>13</th>\n",
       "      <td>3485.691953</td>\n",
       "      <td>1183.380256</td>\n",
       "      <td>3798.334122</td>\n",
       "      <td>2411.545877</td>\n",
       "      <td>5688.432509</td>\n",
       "      <td>1928.303938</td>\n",
       "      <td>2972.130464</td>\n",
       "      <td>2298.143473</td>\n",
       "      <td>3044.223058</td>\n",
       "      <td>4219.356418</td>\n",
       "      <td>2656.124381</td>\n",
       "      <td>4236.398591</td>\n",
       "      <td>2687.730753</td>\n",
       "      <td>4612.871523</td>\n",
       "      <td>1842.069096</td>\n",
       "      <td>1062.812810</td>\n",
       "      <td>1663.560966</td>\n",
       "      <td>1900.330088</td>\n",
       "    </tr>\n",
       "    <tr>\n",
       "      <th>14</th>\n",
       "      <td>3438.621382</td>\n",
       "      <td>1067.079623</td>\n",
       "      <td>3969.152123</td>\n",
       "      <td>2361.633661</td>\n",
       "      <td>5623.784258</td>\n",
       "      <td>1853.794054</td>\n",
       "      <td>2664.119801</td>\n",
       "      <td>2007.927411</td>\n",
       "      <td>3022.594187</td>\n",
       "      <td>4220.286039</td>\n",
       "      <td>3090.023377</td>\n",
       "      <td>3432.857235</td>\n",
       "      <td>2741.601723</td>\n",
       "      <td>3878.453336</td>\n",
       "      <td>1729.668742</td>\n",
       "      <td>996.349993</td>\n",
       "      <td>1726.892031</td>\n",
       "      <td>1991.160898</td>\n",
       "    </tr>\n",
       "    <tr>\n",
       "      <th>15</th>\n",
       "      <td>3519.817238</td>\n",
       "      <td>803.351190</td>\n",
       "      <td>3967.200937</td>\n",
       "      <td>2568.854357</td>\n",
       "      <td>5585.704403</td>\n",
       "      <td>1976.855240</td>\n",
       "      <td>2741.887830</td>\n",
       "      <td>1947.704414</td>\n",
       "      <td>3058.295665</td>\n",
       "      <td>4529.115012</td>\n",
       "      <td>3014.274546</td>\n",
       "      <td>4040.695804</td>\n",
       "      <td>2617.791251</td>\n",
       "      <td>4315.332683</td>\n",
       "      <td>1726.485381</td>\n",
       "      <td>942.951382</td>\n",
       "      <td>1817.035147</td>\n",
       "      <td>2096.986703</td>\n",
       "    </tr>\n",
       "    <tr>\n",
       "      <th>16</th>\n",
       "      <td>2971.790930</td>\n",
       "      <td>950.525244</td>\n",
       "      <td>4156.385146</td>\n",
       "      <td>2625.940187</td>\n",
       "      <td>6097.850394</td>\n",
       "      <td>2011.535334</td>\n",
       "      <td>2755.791488</td>\n",
       "      <td>1943.759885</td>\n",
       "      <td>3184.372647</td>\n",
       "      <td>4631.668189</td>\n",
       "      <td>2237.830152</td>\n",
       "      <td>3124.685782</td>\n",
       "      <td>2759.964375</td>\n",
       "      <td>4189.817918</td>\n",
       "      <td>1703.849106</td>\n",
       "      <td>940.812961</td>\n",
       "      <td>1824.198250</td>\n",
       "      <td>2199.916626</td>\n",
       "    </tr>\n",
       "    <tr>\n",
       "      <th>17</th>\n",
       "      <td>2883.414735</td>\n",
       "      <td>889.478382</td>\n",
       "      <td>4236.658751</td>\n",
       "      <td>2786.995823</td>\n",
       "      <td>6376.769357</td>\n",
       "      <td>2014.013389</td>\n",
       "      <td>2645.940028</td>\n",
       "      <td>2010.742024</td>\n",
       "      <td>2998.530538</td>\n",
       "      <td>4052.483334</td>\n",
       "      <td>1584.210312</td>\n",
       "      <td>3471.341994</td>\n",
       "      <td>2554.236391</td>\n",
       "      <td>3907.263513</td>\n",
       "      <td>1367.365019</td>\n",
       "      <td>845.739701</td>\n",
       "      <td>1925.069144</td>\n",
       "      <td>2057.551178</td>\n",
       "    </tr>\n",
       "    <tr>\n",
       "      <th>18</th>\n",
       "      <td>2556.587804</td>\n",
       "      <td>843.487219</td>\n",
       "      <td>4143.599550</td>\n",
       "      <td>2731.424273</td>\n",
       "      <td>6006.000169</td>\n",
       "      <td>2149.357526</td>\n",
       "      <td>2779.932565</td>\n",
       "      <td>2089.743481</td>\n",
       "      <td>2538.777026</td>\n",
       "      <td>3557.546636</td>\n",
       "      <td>2436.143341</td>\n",
       "      <td>3776.097161</td>\n",
       "      <td>2798.513709</td>\n",
       "      <td>3813.596761</td>\n",
       "      <td>1266.599306</td>\n",
       "      <td>863.910839</td>\n",
       "      <td>1764.929614</td>\n",
       "      <td>2169.134627</td>\n",
       "    </tr>\n",
       "    <tr>\n",
       "      <th>19</th>\n",
       "      <td>2514.275490</td>\n",
       "      <td>846.445845</td>\n",
       "      <td>4034.883484</td>\n",
       "      <td>3113.038789</td>\n",
       "      <td>6149.641648</td>\n",
       "      <td>1771.945682</td>\n",
       "      <td>2462.616298</td>\n",
       "      <td>1511.817114</td>\n",
       "      <td>2574.870735</td>\n",
       "      <td>3676.391307</td>\n",
       "      <td>3087.913330</td>\n",
       "      <td>3479.355262</td>\n",
       "      <td>2688.323563</td>\n",
       "      <td>3767.556545</td>\n",
       "      <td>1179.832679</td>\n",
       "      <td>939.626703</td>\n",
       "      <td>1845.684078</td>\n",
       "      <td>2176.952722</td>\n",
       "    </tr>\n",
       "    <tr>\n",
       "      <th>20</th>\n",
       "      <td>2754.562725</td>\n",
       "      <td>900.597919</td>\n",
       "      <td>4464.707666</td>\n",
       "      <td>3449.397159</td>\n",
       "      <td>6648.558697</td>\n",
       "      <td>1691.068209</td>\n",
       "      <td>2338.171964</td>\n",
       "      <td>1682.076039</td>\n",
       "      <td>2784.172828</td>\n",
       "      <td>3836.935914</td>\n",
       "      <td>2786.286985</td>\n",
       "      <td>3097.889015</td>\n",
       "      <td>2199.510336</td>\n",
       "      <td>3614.613454</td>\n",
       "      <td>1229.135929</td>\n",
       "      <td>988.266235</td>\n",
       "      <td>1925.871509</td>\n",
       "      <td>2025.009578</td>\n",
       "    </tr>\n",
       "    <tr>\n",
       "      <th>21</th>\n",
       "      <td>2787.919280</td>\n",
       "      <td>1009.365374</td>\n",
       "      <td>4589.127825</td>\n",
       "      <td>3877.809432</td>\n",
       "      <td>6679.609370</td>\n",
       "      <td>1738.363345</td>\n",
       "      <td>2355.353727</td>\n",
       "      <td>1813.102047</td>\n",
       "      <td>2968.596794</td>\n",
       "      <td>3981.286547</td>\n",
       "      <td>3764.637356</td>\n",
       "      <td>2826.718688</td>\n",
       "      <td>2373.318143</td>\n",
       "      <td>3894.584115</td>\n",
       "      <td>1239.262103</td>\n",
       "      <td>1035.657670</td>\n",
       "      <td>1921.061187</td>\n",
       "      <td>2131.408345</td>\n",
       "    </tr>\n",
       "    <tr>\n",
       "      <th>22</th>\n",
       "      <td>2819.743360</td>\n",
       "      <td>1038.934977</td>\n",
       "      <td>4775.362768</td>\n",
       "      <td>4007.886079</td>\n",
       "      <td>6530.138359</td>\n",
       "      <td>1745.227856</td>\n",
       "      <td>2608.303258</td>\n",
       "      <td>1902.188000</td>\n",
       "      <td>2927.100546</td>\n",
       "      <td>4084.648662</td>\n",
       "      <td>2522.493194</td>\n",
       "      <td>3283.633852</td>\n",
       "      <td>1936.073160</td>\n",
       "      <td>3521.345808</td>\n",
       "      <td>1192.427777</td>\n",
       "      <td>1118.733144</td>\n",
       "      <td>1875.811211</td>\n",
       "      <td>1965.049068</td>\n",
       "    </tr>\n",
       "    <tr>\n",
       "      <th>23</th>\n",
       "      <td>3107.465593</td>\n",
       "      <td>1120.924525</td>\n",
       "      <td>4765.667571</td>\n",
       "      <td>4350.618223</td>\n",
       "      <td>7027.377143</td>\n",
       "      <td>2084.587766</td>\n",
       "      <td>2936.700460</td>\n",
       "      <td>2290.658020</td>\n",
       "      <td>2989.399221</td>\n",
       "      <td>3966.523119</td>\n",
       "      <td>3897.527904</td>\n",
       "      <td>2939.695904</td>\n",
       "      <td>1946.732486</td>\n",
       "      <td>3985.778912</td>\n",
       "      <td>1306.428425</td>\n",
       "      <td>1190.476241</td>\n",
       "      <td>1886.122849</td>\n",
       "      <td>2077.184797</td>\n",
       "    </tr>\n",
       "    <tr>\n",
       "      <th>24</th>\n",
       "      <td>3045.418464</td>\n",
       "      <td>1143.049132</td>\n",
       "      <td>5086.067733</td>\n",
       "      <td>4382.949922</td>\n",
       "      <td>7509.677332</td>\n",
       "      <td>2141.376322</td>\n",
       "      <td>3012.968140</td>\n",
       "      <td>2285.802704</td>\n",
       "      <td>3147.180959</td>\n",
       "      <td>4177.675010</td>\n",
       "      <td>3145.090691</td>\n",
       "      <td>3224.529377</td>\n",
       "      <td>2138.919651</td>\n",
       "      <td>4229.938666</td>\n",
       "      <td>1400.941590</td>\n",
       "      <td>1266.787759</td>\n",
       "      <td>2000.897647</td>\n",
       "      <td>2004.301447</td>\n",
       "    </tr>\n",
       "    <tr>\n",
       "      <th>25</th>\n",
       "      <td>2939.797389</td>\n",
       "      <td>1052.710386</td>\n",
       "      <td>5108.239667</td>\n",
       "      <td>4434.917575</td>\n",
       "      <td>7486.738658</td>\n",
       "      <td>2335.781255</td>\n",
       "      <td>3370.877691</td>\n",
       "      <td>2487.212740</td>\n",
       "      <td>3312.393296</td>\n",
       "      <td>4342.535677</td>\n",
       "      <td>2692.469672</td>\n",
       "      <td>3921.560815</td>\n",
       "      <td>2423.107252</td>\n",
       "      <td>4428.674218</td>\n",
       "      <td>1528.010752</td>\n",
       "      <td>1337.418314</td>\n",
       "      <td>2042.235776</td>\n",
       "      <td>1926.799985</td>\n",
       "    </tr>\n",
       "    <tr>\n",
       "      <th>26</th>\n",
       "      <td>2840.624311</td>\n",
       "      <td>1099.871252</td>\n",
       "      <td>5387.663729</td>\n",
       "      <td>4797.973976</td>\n",
       "      <td>7517.433241</td>\n",
       "      <td>1868.394791</td>\n",
       "      <td>3131.146316</td>\n",
       "      <td>2526.976422</td>\n",
       "      <td>3242.732583</td>\n",
       "      <td>4317.954685</td>\n",
       "      <td>3036.679150</td>\n",
       "      <td>4199.463681</td>\n",
       "      <td>2434.023695</td>\n",
       "      <td>4615.261857</td>\n",
       "      <td>1675.244405</td>\n",
       "      <td>1457.212915</td>\n",
       "      <td>1813.420725</td>\n",
       "      <td>1942.126382</td>\n",
       "    </tr>\n",
       "    <tr>\n",
       "      <th>27</th>\n",
       "      <td>2265.105969</td>\n",
       "      <td>1061.581974</td>\n",
       "      <td>5360.537852</td>\n",
       "      <td>4778.276503</td>\n",
       "      <td>7390.414790</td>\n",
       "      <td>1937.039540</td>\n",
       "      <td>3145.227971</td>\n",
       "      <td>2557.521060</td>\n",
       "      <td>3497.736626</td>\n",
       "      <td>4415.199648</td>\n",
       "      <td>3003.989930</td>\n",
       "      <td>3488.897906</td>\n",
       "      <td>2454.059893</td>\n",
       "      <td>4624.030382</td>\n",
       "      <td>1698.690279</td>\n",
       "      <td>1357.508730</td>\n",
       "      <td>2026.785420</td>\n",
       "      <td>1924.693766</td>\n",
       "    </tr>\n",
       "    <tr>\n",
       "      <th>28</th>\n",
       "      <td>2515.882755</td>\n",
       "      <td>1104.909372</td>\n",
       "      <td>4587.793108</td>\n",
       "      <td>4472.333453</td>\n",
       "      <td>6422.174527</td>\n",
       "      <td>2047.954666</td>\n",
       "      <td>3373.612819</td>\n",
       "      <td>2541.431825</td>\n",
       "      <td>3474.117745</td>\n",
       "      <td>4444.051544</td>\n",
       "      <td>2213.622529</td>\n",
       "      <td>3066.169803</td>\n",
       "      <td>2685.889951</td>\n",
       "      <td>4894.107208</td>\n",
       "      <td>1810.269039</td>\n",
       "      <td>1434.510887</td>\n",
       "      <td>1877.956841</td>\n",
       "      <td>2069.488891</td>\n",
       "    </tr>\n",
       "    <tr>\n",
       "      <th>29</th>\n",
       "      <td>2392.763550</td>\n",
       "      <td>1145.871840</td>\n",
       "      <td>4422.292832</td>\n",
       "      <td>4327.490762</td>\n",
       "      <td>6698.611297</td>\n",
       "      <td>1976.410365</td>\n",
       "      <td>3503.583157</td>\n",
       "      <td>2491.776333</td>\n",
       "      <td>3091.451505</td>\n",
       "      <td>4347.827551</td>\n",
       "      <td>1697.185417</td>\n",
       "      <td>3069.468164</td>\n",
       "      <td>2670.224592</td>\n",
       "      <td>4507.005569</td>\n",
       "      <td>1710.674469</td>\n",
       "      <td>1310.913003</td>\n",
       "      <td>1922.400609</td>\n",
       "      <td>2048.555540</td>\n",
       "    </tr>\n",
       "    <tr>\n",
       "      <th>30</th>\n",
       "      <td>2085.388204</td>\n",
       "      <td>1123.943087</td>\n",
       "      <td>4630.820417</td>\n",
       "      <td>4682.138253</td>\n",
       "      <td>6946.320229</td>\n",
       "      <td>1984.197557</td>\n",
       "      <td>3510.766557</td>\n",
       "      <td>2669.788693</td>\n",
       "      <td>2984.393961</td>\n",
       "      <td>4437.890726</td>\n",
       "      <td>2755.014665</td>\n",
       "      <td>3525.039362</td>\n",
       "      <td>3108.409820</td>\n",
       "      <td>4723.814611</td>\n",
       "      <td>1811.343642</td>\n",
       "      <td>1046.720733</td>\n",
       "      <td>1861.954101</td>\n",
       "      <td>2149.036053</td>\n",
       "    </tr>\n",
       "    <tr>\n",
       "      <th>31</th>\n",
       "      <td>2161.336444</td>\n",
       "      <td>976.345525</td>\n",
       "      <td>4881.103929</td>\n",
       "      <td>5031.014847</td>\n",
       "      <td>7358.141088</td>\n",
       "      <td>1737.509201</td>\n",
       "      <td>3683.629519</td>\n",
       "      <td>2813.577261</td>\n",
       "      <td>3018.079043</td>\n",
       "      <td>4406.093165</td>\n",
       "      <td>3563.443949</td>\n",
       "      <td>3530.351968</td>\n",
       "      <td>2920.382325</td>\n",
       "      <td>4728.510218</td>\n",
       "      <td>1896.101896</td>\n",
       "      <td>1112.698515</td>\n",
       "      <td>1888.938047</td>\n",
       "      <td>2295.752212</td>\n",
       "    </tr>\n",
       "    <tr>\n",
       "      <th>32</th>\n",
       "      <td>2057.582649</td>\n",
       "      <td>974.455156</td>\n",
       "      <td>4873.028656</td>\n",
       "      <td>5254.861651</td>\n",
       "      <td>7660.285071</td>\n",
       "      <td>1882.413238</td>\n",
       "      <td>3581.331268</td>\n",
       "      <td>2757.459539</td>\n",
       "      <td>3178.074303</td>\n",
       "      <td>4425.292644</td>\n",
       "      <td>3215.843164</td>\n",
       "      <td>3053.285283</td>\n",
       "      <td>2701.177045</td>\n",
       "      <td>4477.807347</td>\n",
       "      <td>1684.944603</td>\n",
       "      <td>1106.898142</td>\n",
       "      <td>1943.037831</td>\n",
       "      <td>2234.699877</td>\n",
       "    </tr>\n",
       "    <tr>\n",
       "      <th>33</th>\n",
       "      <td>1978.143330</td>\n",
       "      <td>1008.172568</td>\n",
       "      <td>4472.729953</td>\n",
       "      <td>4739.114994</td>\n",
       "      <td>7573.731330</td>\n",
       "      <td>1969.633598</td>\n",
       "      <td>3484.018595</td>\n",
       "      <td>2499.693195</td>\n",
       "      <td>3012.615651</td>\n",
       "      <td>4156.998540</td>\n",
       "      <td>3991.853137</td>\n",
       "      <td>2952.147543</td>\n",
       "      <td>2620.239141</td>\n",
       "      <td>4148.964973</td>\n",
       "      <td>1621.286939</td>\n",
       "      <td>1025.611572</td>\n",
       "      <td>1805.711278</td>\n",
       "      <td>2350.307500</td>\n",
       "    </tr>\n",
       "    <tr>\n",
       "      <th>34</th>\n",
       "      <td>1533.479769</td>\n",
       "      <td>1005.370484</td>\n",
       "      <td>4881.301116</td>\n",
       "      <td>5489.599956</td>\n",
       "      <td>7944.060499</td>\n",
       "      <td>2273.417887</td>\n",
       "      <td>3660.618950</td>\n",
       "      <td>2879.916504</td>\n",
       "      <td>3066.319672</td>\n",
       "      <td>4172.255676</td>\n",
       "      <td>2661.828270</td>\n",
       "      <td>3076.364871</td>\n",
       "      <td>2829.300609</td>\n",
       "      <td>4027.823245</td>\n",
       "      <td>1665.442852</td>\n",
       "      <td>1071.752096</td>\n",
       "      <td>1665.811493</td>\n",
       "      <td>2371.228992</td>\n",
       "    </tr>\n",
       "    <tr>\n",
       "      <th>35</th>\n",
       "      <td>1591.973889</td>\n",
       "      <td>1073.753525</td>\n",
       "      <td>5175.380966</td>\n",
       "      <td>5884.986805</td>\n",
       "      <td>8385.469566</td>\n",
       "      <td>2136.835707</td>\n",
       "      <td>3297.643315</td>\n",
       "      <td>2688.825350</td>\n",
       "      <td>2964.253346</td>\n",
       "      <td>4062.389058</td>\n",
       "      <td>4302.211661</td>\n",
       "      <td>3581.253187</td>\n",
       "      <td>2765.398933</td>\n",
       "      <td>3559.153910</td>\n",
       "      <td>1430.264674</td>\n",
       "      <td>951.891080</td>\n",
       "      <td>1485.275576</td>\n",
       "      <td>2445.052043</td>\n",
       "    </tr>\n",
       "    <tr>\n",
       "      <th>36</th>\n",
       "      <td>1820.538729</td>\n",
       "      <td>1069.942980</td>\n",
       "      <td>5403.667511</td>\n",
       "      <td>6375.593785</td>\n",
       "      <td>8630.396009</td>\n",
       "      <td>2057.743302</td>\n",
       "      <td>3313.814043</td>\n",
       "      <td>2458.392472</td>\n",
       "      <td>2800.098171</td>\n",
       "      <td>4008.103680</td>\n",
       "      <td>3149.527857</td>\n",
       "      <td>2599.330630</td>\n",
       "      <td>2874.514316</td>\n",
       "      <td>3050.836231</td>\n",
       "      <td>1359.816214</td>\n",
       "      <td>886.142714</td>\n",
       "      <td>1590.661822</td>\n",
       "      <td>2521.309255</td>\n",
       "    </tr>\n",
       "    <tr>\n",
       "      <th>37</th>\n",
       "      <td>1788.049184</td>\n",
       "      <td>1043.872805</td>\n",
       "      <td>5407.048515</td>\n",
       "      <td>6518.651711</td>\n",
       "      <td>8668.642652</td>\n",
       "      <td>1986.961912</td>\n",
       "      <td>3292.530370</td>\n",
       "      <td>2428.736614</td>\n",
       "      <td>2785.139445</td>\n",
       "      <td>3993.665808</td>\n",
       "      <td>2646.675591</td>\n",
       "      <td>2997.079136</td>\n",
       "      <td>2897.553572</td>\n",
       "      <td>3056.835063</td>\n",
       "      <td>1404.576867</td>\n",
       "      <td>912.968118</td>\n",
       "      <td>1737.387224</td>\n",
       "      <td>2397.619060</td>\n",
       "    </tr>\n",
       "    <tr>\n",
       "      <th>38</th>\n",
       "      <td>1785.265562</td>\n",
       "      <td>1021.911459</td>\n",
       "      <td>5389.306397</td>\n",
       "      <td>6748.203647</td>\n",
       "      <td>8952.374877</td>\n",
       "      <td>2182.336055</td>\n",
       "      <td>3587.707503</td>\n",
       "      <td>2681.938679</td>\n",
       "      <td>2775.026221</td>\n",
       "      <td>3918.262781</td>\n",
       "      <td>2898.456849</td>\n",
       "      <td>3010.767315</td>\n",
       "      <td>2895.310622</td>\n",
       "      <td>3273.345459</td>\n",
       "      <td>1504.319930</td>\n",
       "      <td>970.180591</td>\n",
       "      <td>1760.515249</td>\n",
       "      <td>2369.584859</td>\n",
       "    </tr>\n",
       "    <tr>\n",
       "      <th>39</th>\n",
       "      <td>1985.464219</td>\n",
       "      <td>966.853271</td>\n",
       "      <td>5497.135626</td>\n",
       "      <td>7003.543295</td>\n",
       "      <td>9307.832372</td>\n",
       "      <td>2079.000241</td>\n",
       "      <td>3747.237976</td>\n",
       "      <td>2500.401237</td>\n",
       "      <td>2687.424362</td>\n",
       "      <td>3867.715613</td>\n",
       "      <td>2859.458495</td>\n",
       "      <td>3050.272471</td>\n",
       "      <td>2792.793918</td>\n",
       "      <td>3372.604563</td>\n",
       "      <td>1513.982361</td>\n",
       "      <td>1012.385808</td>\n",
       "      <td>1899.435142</td>\n",
       "      <td>2531.321239</td>\n",
       "    </tr>\n",
       "    <tr>\n",
       "      <th>40</th>\n",
       "      <td>2014.049625</td>\n",
       "      <td>1006.640192</td>\n",
       "      <td>5416.457590</td>\n",
       "      <td>7256.095461</td>\n",
       "      <td>9486.060336</td>\n",
       "      <td>2190.119064</td>\n",
       "      <td>3706.149607</td>\n",
       "      <td>2683.623970</td>\n",
       "      <td>2678.661773</td>\n",
       "      <td>3964.506617</td>\n",
       "      <td>2166.411107</td>\n",
       "      <td>2127.265976</td>\n",
       "      <td>2593.222922</td>\n",
       "      <td>3722.398628</td>\n",
       "      <td>1487.655884</td>\n",
       "      <td>983.201624</td>\n",
       "      <td>2117.398434</td>\n",
       "      <td>2377.013748</td>\n",
       "    </tr>\n",
       "    <tr>\n",
       "      <th>41</th>\n",
       "      <td>1699.381197</td>\n",
       "      <td>1042.029776</td>\n",
       "      <td>5481.089588</td>\n",
       "      <td>7378.808914</td>\n",
       "      <td>9459.633331</td>\n",
       "      <td>1546.638111</td>\n",
       "      <td>3720.321930</td>\n",
       "      <td>2669.359947</td>\n",
       "      <td>2393.719645</td>\n",
       "      <td>3803.865158</td>\n",
       "      <td>1597.686225</td>\n",
       "      <td>2208.605503</td>\n",
       "      <td>2730.558404</td>\n",
       "      <td>3520.515167</td>\n",
       "      <td>1396.592024</td>\n",
       "      <td>942.272145</td>\n",
       "      <td>2144.478322</td>\n",
       "      <td>2393.123426</td>\n",
       "    </tr>\n",
       "  </tbody>\n",
       "</table>\n",
       "</div>"
      ],
      "text/plain": [
       "             0            1            2            3            4   \\\n",
       "0   3419.229156  1021.645679  3102.954858  1440.948040  4729.174066   \n",
       "1   3843.039086  1075.866728  3454.678456  1609.409302  4889.290864   \n",
       "2   3977.304845  1216.443402  2932.800816  1561.607302  4630.520324   \n",
       "3   3847.299498  1101.764638  3009.700127  1627.740240  4663.973583   \n",
       "4   4134.466860  1162.961033  3105.930936  1785.663301  4855.279393   \n",
       "5   4155.650021  1321.298912  3093.454283  1869.619942  4825.928668   \n",
       "6   4361.442545  1622.988263  3076.301912  1996.274506  5237.252668   \n",
       "7   3873.638237  1362.646345  3240.841823  2013.585504  5114.623387   \n",
       "8   4160.873495  1472.234448  3339.131625  1982.717179  5139.557263   \n",
       "9   3772.568161  1374.055493  3451.176076  2260.320290  4943.469729   \n",
       "10  4219.945491  1534.329804  3651.570522  2114.183608  4839.699567   \n",
       "11  3802.647542  1475.092185  3795.225587  2340.816536  5385.027815   \n",
       "12  3763.533758  1374.023327  3722.731366  2347.987007  5519.584160   \n",
       "13  3485.691953  1183.380256  3798.334122  2411.545877  5688.432509   \n",
       "14  3438.621382  1067.079623  3969.152123  2361.633661  5623.784258   \n",
       "15  3519.817238   803.351190  3967.200937  2568.854357  5585.704403   \n",
       "16  2971.790930   950.525244  4156.385146  2625.940187  6097.850394   \n",
       "17  2883.414735   889.478382  4236.658751  2786.995823  6376.769357   \n",
       "18  2556.587804   843.487219  4143.599550  2731.424273  6006.000169   \n",
       "19  2514.275490   846.445845  4034.883484  3113.038789  6149.641648   \n",
       "20  2754.562725   900.597919  4464.707666  3449.397159  6648.558697   \n",
       "21  2787.919280  1009.365374  4589.127825  3877.809432  6679.609370   \n",
       "22  2819.743360  1038.934977  4775.362768  4007.886079  6530.138359   \n",
       "23  3107.465593  1120.924525  4765.667571  4350.618223  7027.377143   \n",
       "24  3045.418464  1143.049132  5086.067733  4382.949922  7509.677332   \n",
       "25  2939.797389  1052.710386  5108.239667  4434.917575  7486.738658   \n",
       "26  2840.624311  1099.871252  5387.663729  4797.973976  7517.433241   \n",
       "27  2265.105969  1061.581974  5360.537852  4778.276503  7390.414790   \n",
       "28  2515.882755  1104.909372  4587.793108  4472.333453  6422.174527   \n",
       "29  2392.763550  1145.871840  4422.292832  4327.490762  6698.611297   \n",
       "30  2085.388204  1123.943087  4630.820417  4682.138253  6946.320229   \n",
       "31  2161.336444   976.345525  4881.103929  5031.014847  7358.141088   \n",
       "32  2057.582649   974.455156  4873.028656  5254.861651  7660.285071   \n",
       "33  1978.143330  1008.172568  4472.729953  4739.114994  7573.731330   \n",
       "34  1533.479769  1005.370484  4881.301116  5489.599956  7944.060499   \n",
       "35  1591.973889  1073.753525  5175.380966  5884.986805  8385.469566   \n",
       "36  1820.538729  1069.942980  5403.667511  6375.593785  8630.396009   \n",
       "37  1788.049184  1043.872805  5407.048515  6518.651711  8668.642652   \n",
       "38  1785.265562  1021.911459  5389.306397  6748.203647  8952.374877   \n",
       "39  1985.464219   966.853271  5497.135626  7003.543295  9307.832372   \n",
       "40  2014.049625  1006.640192  5416.457590  7256.095461  9486.060336   \n",
       "41  1699.381197  1042.029776  5481.089588  7378.808914  9459.633331   \n",
       "\n",
       "             5            6            7            8            9   \\\n",
       "0   1064.943613  2258.968653  2438.377727  3130.187528  4739.152560   \n",
       "1   1162.138993  2141.361926  2083.540479  3319.172606  4957.801106   \n",
       "2   1208.981102  2334.907369  2109.737604  3011.270913  4825.666925   \n",
       "3   1218.189852  2419.655669  2360.113100  2776.444679  4371.542736   \n",
       "4   1217.925726  2452.432007  2335.754293  2731.279618  4207.272779   \n",
       "5   1352.611314  2610.479148  2339.852467  2690.704668  4057.953589   \n",
       "6   1331.319919  2570.646049  1802.949048  2551.117646  3926.061999   \n",
       "7   1463.389914  2606.232405  1860.258963  2597.332718  3868.102584   \n",
       "8   1565.366432  2593.783716  1897.676217  2549.129420  3749.893998   \n",
       "9   1527.287196  2491.409679  1890.018982  2615.324892  3873.120909   \n",
       "10  1687.599366  2653.822990  2121.702896  2762.426942  4119.989564   \n",
       "11  1648.691986  2761.361265  2150.073577  2833.308206  4077.872537   \n",
       "12  1813.995032  2921.074915  2482.018323  2972.052272  4183.384323   \n",
       "13  1928.303938  2972.130464  2298.143473  3044.223058  4219.356418   \n",
       "14  1853.794054  2664.119801  2007.927411  3022.594187  4220.286039   \n",
       "15  1976.855240  2741.887830  1947.704414  3058.295665  4529.115012   \n",
       "16  2011.535334  2755.791488  1943.759885  3184.372647  4631.668189   \n",
       "17  2014.013389  2645.940028  2010.742024  2998.530538  4052.483334   \n",
       "18  2149.357526  2779.932565  2089.743481  2538.777026  3557.546636   \n",
       "19  1771.945682  2462.616298  1511.817114  2574.870735  3676.391307   \n",
       "20  1691.068209  2338.171964  1682.076039  2784.172828  3836.935914   \n",
       "21  1738.363345  2355.353727  1813.102047  2968.596794  3981.286547   \n",
       "22  1745.227856  2608.303258  1902.188000  2927.100546  4084.648662   \n",
       "23  2084.587766  2936.700460  2290.658020  2989.399221  3966.523119   \n",
       "24  2141.376322  3012.968140  2285.802704  3147.180959  4177.675010   \n",
       "25  2335.781255  3370.877691  2487.212740  3312.393296  4342.535677   \n",
       "26  1868.394791  3131.146316  2526.976422  3242.732583  4317.954685   \n",
       "27  1937.039540  3145.227971  2557.521060  3497.736626  4415.199648   \n",
       "28  2047.954666  3373.612819  2541.431825  3474.117745  4444.051544   \n",
       "29  1976.410365  3503.583157  2491.776333  3091.451505  4347.827551   \n",
       "30  1984.197557  3510.766557  2669.788693  2984.393961  4437.890726   \n",
       "31  1737.509201  3683.629519  2813.577261  3018.079043  4406.093165   \n",
       "32  1882.413238  3581.331268  2757.459539  3178.074303  4425.292644   \n",
       "33  1969.633598  3484.018595  2499.693195  3012.615651  4156.998540   \n",
       "34  2273.417887  3660.618950  2879.916504  3066.319672  4172.255676   \n",
       "35  2136.835707  3297.643315  2688.825350  2964.253346  4062.389058   \n",
       "36  2057.743302  3313.814043  2458.392472  2800.098171  4008.103680   \n",
       "37  1986.961912  3292.530370  2428.736614  2785.139445  3993.665808   \n",
       "38  2182.336055  3587.707503  2681.938679  2775.026221  3918.262781   \n",
       "39  2079.000241  3747.237976  2500.401237  2687.424362  3867.715613   \n",
       "40  2190.119064  3706.149607  2683.623970  2678.661773  3964.506617   \n",
       "41  1546.638111  3720.321930  2669.359947  2393.719645  3803.865158   \n",
       "\n",
       "             10           11           12           13           14  \\\n",
       "0   3705.312384  3983.243998  3352.017403  4565.281239  1567.887444   \n",
       "1   3222.808178  3296.461857  3614.447808  4923.498627  1708.989450   \n",
       "2   3400.104496  2973.655714  3523.018862  5043.358738  1729.822698   \n",
       "3   3030.902129  2701.114127  3340.492609  4770.837602  1724.139704   \n",
       "4   2347.103247  2977.791556  2909.041829  3982.132916  1722.033733   \n",
       "5   1759.985749  2597.544566  3085.677716  4163.985750  1888.381622   \n",
       "6   2834.677137  2579.621666  3389.031197  4560.811132  1815.724408   \n",
       "7   3276.311627  2330.071444  2993.656707  4226.503612  1772.794060   \n",
       "8   2805.153909  2669.098821  3217.429650  4530.472248  1837.664611   \n",
       "9   3514.446237  2957.901989  3045.148143  4464.200246  1732.763443   \n",
       "10  2536.535045  2874.202283  3226.293778  4640.483542  1820.193610   \n",
       "11  4184.609534  3340.404522  3077.200154  4987.018736  1907.622520   \n",
       "12  3176.622190  3499.282566  2971.790152  4719.686193  1727.704560   \n",
       "13  2656.124381  4236.398591  2687.730753  4612.871523  1842.069096   \n",
       "14  3090.023377  3432.857235  2741.601723  3878.453336  1729.668742   \n",
       "15  3014.274546  4040.695804  2617.791251  4315.332683  1726.485381   \n",
       "16  2237.830152  3124.685782  2759.964375  4189.817918  1703.849106   \n",
       "17  1584.210312  3471.341994  2554.236391  3907.263513  1367.365019   \n",
       "18  2436.143341  3776.097161  2798.513709  3813.596761  1266.599306   \n",
       "19  3087.913330  3479.355262  2688.323563  3767.556545  1179.832679   \n",
       "20  2786.286985  3097.889015  2199.510336  3614.613454  1229.135929   \n",
       "21  3764.637356  2826.718688  2373.318143  3894.584115  1239.262103   \n",
       "22  2522.493194  3283.633852  1936.073160  3521.345808  1192.427777   \n",
       "23  3897.527904  2939.695904  1946.732486  3985.778912  1306.428425   \n",
       "24  3145.090691  3224.529377  2138.919651  4229.938666  1400.941590   \n",
       "25  2692.469672  3921.560815  2423.107252  4428.674218  1528.010752   \n",
       "26  3036.679150  4199.463681  2434.023695  4615.261857  1675.244405   \n",
       "27  3003.989930  3488.897906  2454.059893  4624.030382  1698.690279   \n",
       "28  2213.622529  3066.169803  2685.889951  4894.107208  1810.269039   \n",
       "29  1697.185417  3069.468164  2670.224592  4507.005569  1710.674469   \n",
       "30  2755.014665  3525.039362  3108.409820  4723.814611  1811.343642   \n",
       "31  3563.443949  3530.351968  2920.382325  4728.510218  1896.101896   \n",
       "32  3215.843164  3053.285283  2701.177045  4477.807347  1684.944603   \n",
       "33  3991.853137  2952.147543  2620.239141  4148.964973  1621.286939   \n",
       "34  2661.828270  3076.364871  2829.300609  4027.823245  1665.442852   \n",
       "35  4302.211661  3581.253187  2765.398933  3559.153910  1430.264674   \n",
       "36  3149.527857  2599.330630  2874.514316  3050.836231  1359.816214   \n",
       "37  2646.675591  2997.079136  2897.553572  3056.835063  1404.576867   \n",
       "38  2898.456849  3010.767315  2895.310622  3273.345459  1504.319930   \n",
       "39  2859.458495  3050.272471  2792.793918  3372.604563  1513.982361   \n",
       "40  2166.411107  2127.265976  2593.222922  3722.398628  1487.655884   \n",
       "41  1597.686225  2208.605503  2730.558404  3520.515167  1396.592024   \n",
       "\n",
       "             15           16           17  \n",
       "0    871.384194  1822.773619  1862.495403  \n",
       "1    914.327789  1931.047543  1958.967592  \n",
       "2    869.316951  1751.207700  2079.341569  \n",
       "3    952.627245  1751.399875  2135.161254  \n",
       "4    891.841295  1819.753788  2177.420998  \n",
       "5   1049.973239  1818.561110  2152.328982  \n",
       "6   1078.446768  1773.652684  2258.072638  \n",
       "7   1225.445241  1676.082119  2225.593436  \n",
       "8   1187.856877  1703.164664  1904.339599  \n",
       "9   1056.823733  1797.049624  1972.933768  \n",
       "10  1100.279838  1670.252443  1773.909673  \n",
       "11  1063.013169  1664.552176  1798.518680  \n",
       "12  1081.559145  1653.579896  1815.660747  \n",
       "13  1062.812810  1663.560966  1900.330088  \n",
       "14   996.349993  1726.892031  1991.160898  \n",
       "15   942.951382  1817.035147  2096.986703  \n",
       "16   940.812961  1824.198250  2199.916626  \n",
       "17   845.739701  1925.069144  2057.551178  \n",
       "18   863.910839  1764.929614  2169.134627  \n",
       "19   939.626703  1845.684078  2176.952722  \n",
       "20   988.266235  1925.871509  2025.009578  \n",
       "21  1035.657670  1921.061187  2131.408345  \n",
       "22  1118.733144  1875.811211  1965.049068  \n",
       "23  1190.476241  1886.122849  2077.184797  \n",
       "24  1266.787759  2000.897647  2004.301447  \n",
       "25  1337.418314  2042.235776  1926.799985  \n",
       "26  1457.212915  1813.420725  1942.126382  \n",
       "27  1357.508730  2026.785420  1924.693766  \n",
       "28  1434.510887  1877.956841  2069.488891  \n",
       "29  1310.913003  1922.400609  2048.555540  \n",
       "30  1046.720733  1861.954101  2149.036053  \n",
       "31  1112.698515  1888.938047  2295.752212  \n",
       "32  1106.898142  1943.037831  2234.699877  \n",
       "33  1025.611572  1805.711278  2350.307500  \n",
       "34  1071.752096  1665.811493  2371.228992  \n",
       "35   951.891080  1485.275576  2445.052043  \n",
       "36   886.142714  1590.661822  2521.309255  \n",
       "37   912.968118  1737.387224  2397.619060  \n",
       "38   970.180591  1760.515249  2369.584859  \n",
       "39  1012.385808  1899.435142  2531.321239  \n",
       "40   983.201624  2117.398434  2377.013748  \n",
       "41   942.272145  2144.478322  2393.123426  "
      ]
     },
     "execution_count": 62,
     "metadata": {},
     "output_type": "execute_result"
    }
   ],
   "source": [
    "fitted"
   ]
  },
  {
   "cell_type": "markdown",
   "id": "17bf0e4a",
   "metadata": {},
   "source": [
    "***"
   ]
  },
  {
   "cell_type": "code",
   "execution_count": 77,
   "id": "f0d7d8cb",
   "metadata": {},
   "outputs": [],
   "source": [
    "temp = fitted.iloc[:,4]"
   ]
  },
  {
   "cell_type": "code",
   "execution_count": 78,
   "id": "f730ddb1",
   "metadata": {},
   "outputs": [],
   "source": [
    "temp.index = np.arange(input_chunk_length, len(processed[0]))"
   ]
  },
  {
   "cell_type": "code",
   "execution_count": 79,
   "id": "101759c9",
   "metadata": {},
   "outputs": [
    {
     "data": {
      "text/plain": [
       "(<Figure size 1152x288 with 1 Axes>, <AxesSubplot:ylabel='4'>)"
      ]
     },
     "execution_count": 79,
     "metadata": {},
     "output_type": "execute_result"
    },
    {
     "data": {
      "image/png": "[encoded data removed]",
      "text/plain": [
       "<Figure size 1152x288 with 1 Axes>"
      ]
     },
     "metadata": {
      "needs_background": "light"
     },
     "output_type": "display_data"
    }
   ],
   "source": [
    "plot_series(Y[4], temp)"
   ]
  },
  {
   "cell_type": "markdown",
   "id": "7f7cb5c9",
   "metadata": {},
   "source": [
    "***"
   ]
  },
  {
   "cell_type": "markdown",
   "id": "f189b858",
   "metadata": {},
   "source": [
    "### Make it loop over all clusters"
   ]
  },
  {
   "cell_type": "code",
   "execution_count": null,
   "id": "80d76706",
   "metadata": {},
   "outputs": [],
   "source": [
    "# transformation dictionary\n",
    "transform_dict = {\"deseasonalize\": {\"sp\": 12, \"seasonality_type\": \"additive\"}}"
   ]
  },
  {
   "cell_type": "code",
   "execution_count": null,
   "id": "dce2abd1",
   "metadata": {},
   "outputs": [],
   "source": [
    "# pre-process all data\n",
    "processed, _, _, _ = pre_process(ts_data=Y,\n",
    "                                 target_forecast_period=h,\n",
    "                                 mean_normalize=True,\n",
    "                                 log=True,\n",
    "                                 transform_dict=transform_dict)"
   ]
  },
  {
   "cell_type": "code",
   "execution_count": null,
   "id": "2290adf7",
   "metadata": {},
   "outputs": [],
   "source": [
    "# RNN parameters\n",
    "input_chunk_length = 12\n",
    "model = \"LSTM\""
   ]
  },
  {
   "cell_type": "code",
   "execution_count": null,
   "id": "6255b415",
   "metadata": {},
   "outputs": [],
   "source": [
    "full_forecasts = np.zeros([len(Y), h, 2])"
   ]
  },
  {
   "cell_type": "code",
   "execution_count": null,
   "id": "c368a046",
   "metadata": {},
   "outputs": [],
   "source": [
    "for m in range(2):\n",
    "    for i in length_clusters:\n",
    "        # define a cluster of series with the same length\n",
    "        cluster = [Y[j] for j in i]\n",
    "        cluster_processed = [processed[j] for j in i]\n",
    "    \n",
    "        # concatenate series into dataframe\n",
    "        processed_df = pd.concat(cluster_processed, axis=1)\n",
    "    \n",
    "        # convert dataframe index to a RangeIndex\n",
    "        processed_df.index = pd.RangeIndex(start=0, stop=processed_df.shape[0])\n",
    "    \n",
    "        # convert dataframe to TimeSeries object\n",
    "        ts_data = TimeSeries.from_dataframe(df=processed_df)\n",
    "    \n",
    "        # instantiate the model\n",
    "        RNN = RNNModel(input_chunk_length=input_chunk_length,\n",
    "                       model=model,\n",
    "                       loss_fn=nn.L1Loss())\n",
    "    \n",
    "        # fit the model\n",
    "        RNN.fit(series=ts_data)\n",
    "    \n",
    "        # generate forecasts\n",
    "        f = RNN.predict(n=h)\n",
    "    \n",
    "        # convert to dataframe\n",
    "        f = f.pd_dataframe()\n",
    "    \n",
    "        # store forecasts in appropriate indexes\n",
    "        full_forecasts[i,:,m] = f.T"
   ]
  },
  {
   "cell_type": "markdown",
   "id": "6c2db902",
   "metadata": {},
   "source": [
    "Take the median of the forecasts across the different seed values."
   ]
  },
  {
   "cell_type": "code",
   "execution_count": null,
   "id": "369f0259",
   "metadata": {},
   "outputs": [],
   "source": [
    "median_forecasts = np.median(full_forecasts, axis=2)"
   ]
  },
  {
   "cell_type": "code",
   "execution_count": null,
   "id": "ebccc5ff",
   "metadata": {},
   "outputs": [],
   "source": [
    "median_forecasts = [pd.Series(median_forecasts[i,:]) for i in range(median_forecasts.shape[0])]"
   ]
  },
  {
   "cell_type": "code",
   "execution_count": null,
   "id": "48057858",
   "metadata": {},
   "outputs": [],
   "source": [
    "median_forecasts"
   ]
  },
  {
   "cell_type": "code",
   "execution_count": null,
   "id": "dd4a57ca",
   "metadata": {},
   "outputs": [],
   "source": [
    "fcasts = post_process(full_ts_data=Y,\n",
    "                      forecasts=median_forecasts,\n",
    "                      target_forecast_period=h,\n",
    "                      mean_normalize=True,\n",
    "                      log=True,\n",
    "                      transform_dict=transform_dict)"
   ]
  },
  {
   "cell_type": "code",
   "execution_count": null,
   "id": "62192513",
   "metadata": {},
   "outputs": [],
   "source": [
    "mean_absolute_error(Test, fcasts)"
   ]
  },
  {
   "cell_type": "markdown",
   "id": "52327136",
   "metadata": {},
   "source": [
    "***"
   ]
  },
  {
   "cell_type": "markdown",
   "id": "ff7536a3",
   "metadata": {},
   "source": [
    "Take a validation set from the end of each sequence and use to optimize hyper-parameters. Then, re-train the networks with the optimal parameters using the full training series, then evaluate on the test data."
   ]
  },
  {
   "cell_type": "code",
   "execution_count": null,
   "id": "b2621915",
   "metadata": {},
   "outputs": [],
   "source": [
    "# I think what needs to happen is the algorithm selects a set of parameters which are passed\n",
    "# to the neural network. This network is fit and evaluated on the validation data, then the a\n",
    "# algorithm adjusts the parameters. This continuous until optimal parameters are found, then the\n",
    "# network is trained on the full training data and evaluated on the test data."
   ]
  }
 ],
 "metadata": {
  "kernelspec": {
   "display_name": "Python 3 (ipykernel)",
   "language": "python",
   "name": "python3"
  },
  "language_info": {
   "codemirror_mode": {
    "name": "ipython",
    "version": 3
   },
   "file_extension": ".py",
   "mimetype": "text/x-python",
   "name": "python",
   "nbconvert_exporter": "python",
   "pygments_lexer": "ipython3",
   "version": "3.9.7"
  }
 },
 "nbformat": 4,
 "nbformat_minor": 5
}
