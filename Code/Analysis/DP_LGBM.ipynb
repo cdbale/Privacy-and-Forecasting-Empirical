{
 "cells": [
  {
   "cell_type": "markdown",
   "id": "0e4052c3",
   "metadata": {},
   "source": [
    "# Examining the Effects of DP on LGBM Forecast Accuracy"
   ]
  },
  {
   "cell_type": "markdown",
   "id": "7a4bd4c9",
   "metadata": {},
   "source": [
    "***"
   ]
  },
  {
   "cell_type": "code",
   "execution_count": 1,
   "id": "dd558349",
   "metadata": {},
   "outputs": [],
   "source": [
    "# general modules\n",
    "import pandas as pd\n",
    "import numpy as np\n",
    "import lightgbm as lgb\n",
    "\n",
    "##### the `helper_functions.py` file contains many custom functions we wrote to aid in our analysis\n",
    "##### `full_coding_analysis` combines all of the following - train-test split data,\n",
    "##### data protection, train models, compare accuracies, return accuracy results\n",
    "from helper_functions import *\n",
    "\n",
    "# nice time series plots\n",
    "from sktime.utils.plotting import plot_series"
   ]
  },
  {
   "cell_type": "code",
   "execution_count": 2,
   "id": "053d11e1",
   "metadata": {},
   "outputs": [],
   "source": [
    "# import weekly finance time series\n",
    "Y = np.genfromtxt(\"../../Data/Train/Clean/weekly_finance_clean.csv\", delimiter = ',', skip_header = 1)\n",
    "Y = pd.DataFrame(Y)"
   ]
  },
  {
   "cell_type": "code",
   "execution_count": 3,
   "id": "fc27e432",
   "metadata": {},
   "outputs": [],
   "source": [
    "# detrender = Detrender()\n",
    "# detrended_series = [detrender.fit_transform(series) for _ , series in Y.iterrows()]\n",
    "# detrended_series = [i+np.abs(np.min(i))+1.0 for i in detrended_series]\n",
    "# Y = pd.concat(detrended_series, axis=1).T"
   ]
  },
  {
   "cell_type": "markdown",
   "id": "a2cdca93",
   "metadata": {},
   "source": [
    "***"
   ]
  },
  {
   "cell_type": "markdown",
   "id": "693a5968",
   "metadata": {},
   "source": [
    "## Simple Model (window length = 10)"
   ]
  },
  {
   "cell_type": "code",
   "execution_count": 4,
   "id": "c6ca18f3",
   "metadata": {},
   "outputs": [],
   "source": [
    "forecaster = lgb.LGBMRegressor()\n",
    "window_length = 10"
   ]
  },
  {
   "cell_type": "code",
   "execution_count": 5,
   "id": "96460ce3",
   "metadata": {},
   "outputs": [],
   "source": [
    "results_dict_10 = {}\n",
    "fcasts_10 = {}\n",
    "fcasts_protected_10 = {}\n",
    "tests = {}\n",
    "epsilons = [1, 10, 20]\n",
    "horizons = [1, 20]"
   ]
  },
  {
   "cell_type": "code",
   "execution_count": 6,
   "id": "33b06dee",
   "metadata": {},
   "outputs": [],
   "source": [
    "for e in epsilons:\n",
    "    for h in horizons:\n",
    "        idx = \"h=\"+str(h)+\", epsilon = \"+str(e)\n",
    "        results_dict_10[idx], tests[idx], fcasts_10[idx], fcasts_protected_10[idx] = full_coding_analysis(time_series_data=Y, \n",
    "                                                                                                          forecasting_model=forecaster, \n",
    "                                                                                                          forecast_horizon=h,\n",
    "                                                                                                          epsilon=e,\n",
    "                                                                                                          window_length=window_length)"
   ]
  },
  {
   "cell_type": "code",
   "execution_count": 7,
   "id": "93202597",
   "metadata": {},
   "outputs": [
    {
     "data": {
      "text/plain": [
       "{'h=1, epsilon = 1': {'Mean Accuracies': array([3.17, 3.17]),\n",
       "  'Protected Mean Accuracies:': array([128.38, 128.38]),\n",
       "  '% Change Mean accuracy:': array([-3943.86, -3943.86]),\n",
       "  '% Change Median accuracy:': array([-9981.4, -9981.4]),\n",
       "  '% Forecasted Points adjusted downward:': 1.83,\n",
       "  '% Forecasted Points adjusted upward:': 98.17,\n",
       "  '% Series with improved accuracy:': array([0., 0.]),\n",
       "  '% Series with reduced accuracy:': array([100., 100.]),\n",
       "  'Original Mean Absolute Error Upward Adjusted:': 3.2300000000000004,\n",
       "  'Original Mean Absolute Error Downward Adjusted:': 0.22999999999999998,\n",
       "  'Protected Mean Absolute Error Upward Adjusted:': 130.68,\n",
       "  'Protected Mean Absolute Error Downward Adjusted:': 5.11},\n",
       " 'h=20, epsilon = 1': {'Mean Accuracies': array([5.55, 6.48]),\n",
       "  'Protected Mean Accuracies:': array([115.52, 115.72]),\n",
       "  '% Change Mean accuracy:': array([-1979.93, -1686.  ]),\n",
       "  '% Change Median accuracy:': array([-2893.73, -2533.28]),\n",
       "  '% Forecasted Points adjusted downward:': 4.18,\n",
       "  '% Forecasted Points adjusted upward:': 95.82000000000001,\n",
       "  '% Series with improved accuracy:': array([1.22, 1.22]),\n",
       "  '% Series with reduced accuracy:': array([98.78, 98.78]),\n",
       "  'Original Mean Absolute Error Upward Adjusted:': 5.74,\n",
       "  'Original Mean Absolute Error Downward Adjusted:': 1.26,\n",
       "  'Protected Mean Absolute Error Upward Adjusted:': 120.35,\n",
       "  'Protected Mean Absolute Error Downward Adjusted:': 4.62},\n",
       " 'h=1, epsilon = 10': {'Mean Accuracies': array([3.17, 3.17]),\n",
       "  'Protected Mean Accuracies:': array([9.28, 9.28]),\n",
       "  '% Change Mean accuracy:': array([-192.28, -192.28]),\n",
       "  '% Change Median accuracy:': array([-101.96, -101.96]),\n",
       "  '% Forecasted Points adjusted downward:': 51.83,\n",
       "  '% Forecasted Points adjusted upward:': 48.17,\n",
       "  '% Series with improved accuracy:': array([29.88, 29.88]),\n",
       "  '% Series with reduced accuracy:': array([70.12, 70.12]),\n",
       "  'Original Mean Absolute Error Upward Adjusted:': 4.22,\n",
       "  'Original Mean Absolute Error Downward Adjusted:': 2.21,\n",
       "  'Protected Mean Absolute Error Upward Adjusted:': 15.620000000000001,\n",
       "  'Protected Mean Absolute Error Downward Adjusted:': 3.38},\n",
       " 'h=20, epsilon = 10': {'Mean Accuracies': array([5.55, 6.48]),\n",
       "  'Protected Mean Accuracies:': array([ 9.55, 10.42]),\n",
       "  '% Change Mean accuracy:': array([-71.94, -60.81]),\n",
       "  '% Change Median accuracy:': array([-31.93, -32.2 ]),\n",
       "  '% Forecasted Points adjusted downward:': 58.540000000000006,\n",
       "  '% Forecasted Points adjusted upward:': 41.46,\n",
       "  '% Series with improved accuracy:': array([28.66, 29.88]),\n",
       "  '% Series with reduced accuracy:': array([71.34, 70.12]),\n",
       "  'Original Mean Absolute Error Upward Adjusted:': 7.449999999999999,\n",
       "  'Original Mean Absolute Error Downward Adjusted:': 4.21,\n",
       "  'Protected Mean Absolute Error Upward Adjusted:': 14.81,\n",
       "  'Protected Mean Absolute Error Downward Adjusted:': 5.82},\n",
       " 'h=1, epsilon = 20': {'Mean Accuracies': array([3.17, 3.17]),\n",
       "  'Protected Mean Accuracies:': array([4.9, 4.9]),\n",
       "  '% Change Mean accuracy:': array([-54.26, -54.26]),\n",
       "  '% Change Median accuracy:': array([-54.87, -54.87]),\n",
       "  '% Forecasted Points adjusted downward:': 53.66,\n",
       "  '% Forecasted Points adjusted upward:': 46.339999999999996,\n",
       "  '% Series with improved accuracy:': array([38.41, 38.41]),\n",
       "  '% Series with reduced accuracy:': array([61.59, 61.59]),\n",
       "  'Original Mean Absolute Error Upward Adjusted:': 4.68,\n",
       "  'Original Mean Absolute Error Downward Adjusted:': 1.8800000000000001,\n",
       "  'Protected Mean Absolute Error Upward Adjusted:': 7.82,\n",
       "  'Protected Mean Absolute Error Downward Adjusted:': 2.37},\n",
       " 'h=20, epsilon = 20': {'Mean Accuracies': array([5.55, 6.48]),\n",
       "  'Protected Mean Accuracies:': array([6.62, 7.54]),\n",
       "  '% Change Mean accuracy:': array([-19.2 , -16.43]),\n",
       "  '% Change Median accuracy:': array([-18.7 , -22.27]),\n",
       "  '% Forecasted Points adjusted downward:': 60.4,\n",
       "  '% Forecasted Points adjusted upward:': 39.6,\n",
       "  '% Series with improved accuracy:': array([42.68, 42.68]),\n",
       "  '% Series with reduced accuracy:': array([57.32, 57.32]),\n",
       "  'Original Mean Absolute Error Upward Adjusted:': 4.95,\n",
       "  'Original Mean Absolute Error Downward Adjusted:': 5.949999999999999,\n",
       "  'Protected Mean Absolute Error Upward Adjusted:': 7.35,\n",
       "  'Protected Mean Absolute Error Downward Adjusted:': 6.140000000000001}}"
      ]
     },
     "execution_count": 7,
     "metadata": {},
     "output_type": "execute_result"
    }
   ],
   "source": [
    "results_dict_10"
   ]
  },
  {
   "cell_type": "markdown",
   "id": "92ee4971",
   "metadata": {},
   "source": [
    "***\n",
    "***"
   ]
  },
  {
   "cell_type": "markdown",
   "id": "31b5ceaa",
   "metadata": {},
   "source": [
    "## 'Medium' Model (window length = 20)"
   ]
  },
  {
   "cell_type": "code",
   "execution_count": 8,
   "id": "b90008b5",
   "metadata": {},
   "outputs": [],
   "source": [
    "forecaster = lgb.LGBMRegressor()\n",
    "window_length = 20"
   ]
  },
  {
   "cell_type": "code",
   "execution_count": 9,
   "id": "73e5d4b5",
   "metadata": {},
   "outputs": [],
   "source": [
    "results_dict_20 = {}\n",
    "fcasts_20 = {}\n",
    "fcasts_protected_20 = {}\n",
    "tests = {}\n",
    "epsilons = [1, 10, 20]\n",
    "horizons = [1, 20]"
   ]
  },
  {
   "cell_type": "code",
   "execution_count": 10,
   "id": "05a6575c",
   "metadata": {},
   "outputs": [],
   "source": [
    "for e in epsilons:\n",
    "    for h in horizons:\n",
    "        idx = \"h=\"+str(h)+\", epsilon = \"+str(e)\n",
    "        results_dict_20[idx], tests[idx], fcasts_20[idx], fcasts_protected_20[idx] = full_coding_analysis(time_series_data=Y, \n",
    "                                                                                                          forecasting_model=forecaster, \n",
    "                                                                                                          forecast_horizon=h,\n",
    "                                                                                                          epsilon=e,\n",
    "                                                                                                          window_length=window_length)"
   ]
  },
  {
   "cell_type": "code",
   "execution_count": 11,
   "id": "e458b963",
   "metadata": {},
   "outputs": [
    {
     "data": {
      "text/plain": [
       "{'h=1, epsilon = 1': {'Mean Accuracies': array([3.29, 3.29]),\n",
       "  'Protected Mean Accuracies:': array([129.05, 129.05]),\n",
       "  '% Change Mean accuracy:': array([-3819.67, -3819.67]),\n",
       "  '% Change Median accuracy:': array([-8810.31, -8810.31]),\n",
       "  '% Forecasted Points adjusted downward:': 3.66,\n",
       "  '% Forecasted Points adjusted upward:': 96.34,\n",
       "  '% Series with improved accuracy:': array([0., 0.]),\n",
       "  '% Series with reduced accuracy:': array([100., 100.]),\n",
       "  'Original Mean Absolute Error Upward Adjusted:': 3.4000000000000004,\n",
       "  'Original Mean Absolute Error Downward Adjusted:': 0.44999999999999996,\n",
       "  'Protected Mean Absolute Error Upward Adjusted:': 133.5,\n",
       "  'Protected Mean Absolute Error Downward Adjusted:': 12.02},\n",
       " 'h=20, epsilon = 1': {'Mean Accuracies': array([5.68, 6.64]),\n",
       "  'Protected Mean Accuracies:': array([120.16, 120.35]),\n",
       "  '% Change Mean accuracy:': array([-2013.8 , -1711.83]),\n",
       "  '% Change Median accuracy:': array([-3108.3 , -2608.56]),\n",
       "  '% Forecasted Points adjusted downward:': 4.45,\n",
       "  '% Forecasted Points adjusted upward:': 95.55,\n",
       "  '% Series with improved accuracy:': array([0.61, 0.61]),\n",
       "  '% Series with reduced accuracy:': array([99.39, 99.39]),\n",
       "  'Original Mean Absolute Error Upward Adjusted:': 5.88,\n",
       "  'Original Mean Absolute Error Downward Adjusted:': 1.52,\n",
       "  'Protected Mean Absolute Error Upward Adjusted:': 125.37,\n",
       "  'Protected Mean Absolute Error Downward Adjusted:': 8.14},\n",
       " 'h=1, epsilon = 10': {'Mean Accuracies': array([3.29, 3.29]),\n",
       "  'Protected Mean Accuracies:': array([8.67, 8.67]),\n",
       "  '% Change Mean accuracy:': array([-163.21, -163.21]),\n",
       "  '% Change Median accuracy:': array([-78.13, -78.13]),\n",
       "  '% Forecasted Points adjusted downward:': 51.22,\n",
       "  '% Forecasted Points adjusted upward:': 48.78,\n",
       "  '% Series with improved accuracy:': array([32.93, 32.93]),\n",
       "  '% Series with reduced accuracy:': array([67.07, 67.07]),\n",
       "  'Original Mean Absolute Error Upward Adjusted:': 4.37,\n",
       "  'Original Mean Absolute Error Downward Adjusted:': 2.27,\n",
       "  'Protected Mean Absolute Error Upward Adjusted:': 13.91,\n",
       "  'Protected Mean Absolute Error Downward Adjusted:': 3.6700000000000004},\n",
       " 'h=20, epsilon = 10': {'Mean Accuracies': array([5.68, 6.64]),\n",
       "  'Protected Mean Accuracies:': array([11.07, 11.93]),\n",
       "  '% Change Mean accuracy:': array([-94.76, -79.61]),\n",
       "  '% Change Median accuracy:': array([-34.33, -33.78]),\n",
       "  '% Forecasted Points adjusted downward:': 58.08,\n",
       "  '% Forecasted Points adjusted upward:': 41.92,\n",
       "  '% Series with improved accuracy:': array([29.88, 29.88]),\n",
       "  '% Series with reduced accuracy:': array([70.12, 70.12]),\n",
       "  'Original Mean Absolute Error Upward Adjusted:': 6.890000000000001,\n",
       "  'Original Mean Absolute Error Downward Adjusted:': 4.81,\n",
       "  'Protected Mean Absolute Error Upward Adjusted:': 17.169999999999998,\n",
       "  'Protected Mean Absolute Error Downward Adjusted:': 6.67},\n",
       " 'h=1, epsilon = 20': {'Mean Accuracies': array([3.29, 3.29]),\n",
       "  'Protected Mean Accuracies:': array([4.71, 4.71]),\n",
       "  '% Change Mean accuracy:': array([-43.03, -43.03]),\n",
       "  '% Change Median accuracy:': array([-25.58, -25.58]),\n",
       "  '% Forecasted Points adjusted downward:': 54.879999999999995,\n",
       "  '% Forecasted Points adjusted upward:': 45.12,\n",
       "  '% Series with improved accuracy:': array([40.85, 40.85]),\n",
       "  '% Series with reduced accuracy:': array([59.15, 59.15]),\n",
       "  'Original Mean Absolute Error Upward Adjusted:': 3.9800000000000004,\n",
       "  'Original Mean Absolute Error Downward Adjusted:': 2.73,\n",
       "  'Protected Mean Absolute Error Upward Adjusted:': 6.239999999999999,\n",
       "  'Protected Mean Absolute Error Downward Adjusted:': 3.45},\n",
       " 'h=20, epsilon = 20': {'Mean Accuracies': array([5.68, 6.64]),\n",
       "  'Protected Mean Accuracies:': array([6.86, 7.76]),\n",
       "  '% Change Mean accuracy:': array([-20.72, -16.78]),\n",
       "  '% Change Median accuracy:': array([ -8.93, -10.3 ]),\n",
       "  '% Forecasted Points adjusted downward:': 49.15,\n",
       "  '% Forecasted Points adjusted upward:': 50.849999999999994,\n",
       "  '% Series with improved accuracy:': array([49.39, 45.12]),\n",
       "  '% Series with reduced accuracy:': array([50.61, 54.88]),\n",
       "  'Original Mean Absolute Error Upward Adjusted:': 6.510000000000001,\n",
       "  'Original Mean Absolute Error Downward Adjusted:': 4.83,\n",
       "  'Protected Mean Absolute Error Upward Adjusted:': 8.260000000000002,\n",
       "  'Protected Mean Absolute Error Downward Adjusted:': 5.42}}"
      ]
     },
     "execution_count": 11,
     "metadata": {},
     "output_type": "execute_result"
    }
   ],
   "source": [
    "results_dict_20"
   ]
  },
  {
   "cell_type": "markdown",
   "id": "16949b2b",
   "metadata": {},
   "source": [
    "***\n",
    "***"
   ]
  },
  {
   "cell_type": "markdown",
   "id": "06e14070",
   "metadata": {},
   "source": [
    "## Complex Model (window length = 40)"
   ]
  },
  {
   "cell_type": "code",
   "execution_count": 12,
   "id": "0068a8a0",
   "metadata": {},
   "outputs": [],
   "source": [
    "forecaster = lgb.LGBMRegressor()\n",
    "window_length = 40"
   ]
  },
  {
   "cell_type": "code",
   "execution_count": 13,
   "id": "1dac849f",
   "metadata": {},
   "outputs": [],
   "source": [
    "results_dict_40 = {}\n",
    "fcasts_40 = {}\n",
    "fcasts_protected_40 = {}\n",
    "tests = {}\n",
    "epsilons = [1, 10, 20]\n",
    "horizons = [1, 20]"
   ]
  },
  {
   "cell_type": "code",
   "execution_count": 14,
   "id": "76eac929",
   "metadata": {},
   "outputs": [],
   "source": [
    "for e in epsilons:\n",
    "    for h in horizons:\n",
    "        idx = \"h=\"+str(h)+\", epsilon = \"+str(e)\n",
    "        results_dict_40[idx], tests[idx], fcasts_40[idx], fcasts_protected_40[idx] = full_coding_analysis(time_series_data=Y, \n",
    "                                                                                                          forecasting_model=forecaster, \n",
    "                                                                                                          forecast_horizon=h,\n",
    "                                                                                                          epsilon=e,\n",
    "                                                                                                          window_length=window_length)"
   ]
  },
  {
   "cell_type": "code",
   "execution_count": 15,
   "id": "b8747d6b",
   "metadata": {},
   "outputs": [
    {
     "data": {
      "text/plain": [
       "{'h=1, epsilon = 1': {'Mean Accuracies': array([3.15, 3.15]),\n",
       "  'Protected Mean Accuracies:': array([126.33, 126.33]),\n",
       "  '% Change Mean accuracy:': array([-3908.18, -3908.18]),\n",
       "  '% Change Median accuracy:': array([-10224.18, -10224.18]),\n",
       "  '% Forecasted Points adjusted downward:': 3.66,\n",
       "  '% Forecasted Points adjusted upward:': 96.34,\n",
       "  '% Series with improved accuracy:': array([0., 0.]),\n",
       "  '% Series with reduced accuracy:': array([100., 100.]),\n",
       "  'Original Mean Absolute Error Upward Adjusted:': 3.2399999999999998,\n",
       "  'Original Mean Absolute Error Downward Adjusted:': 0.79,\n",
       "  'Protected Mean Absolute Error Upward Adjusted:': 130.66,\n",
       "  'Protected Mean Absolute Error Downward Adjusted:': 12.21},\n",
       " 'h=20, epsilon = 1': {'Mean Accuracies': array([5.48, 6.37]),\n",
       "  'Protected Mean Accuracies:': array([122.56, 122.77]),\n",
       "  '% Change Mean accuracy:': array([-2137.37, -1828.09]),\n",
       "  '% Change Median accuracy:': array([-3436.12, -2781.44]),\n",
       "  '% Forecasted Points adjusted downward:': 4.18,\n",
       "  '% Forecasted Points adjusted upward:': 95.82000000000001,\n",
       "  '% Series with improved accuracy:': array([0., 0.]),\n",
       "  '% Series with reduced accuracy:': array([100., 100.]),\n",
       "  'Original Mean Absolute Error Upward Adjusted:': 5.64,\n",
       "  'Original Mean Absolute Error Downward Adjusted:': 1.7000000000000002,\n",
       "  'Protected Mean Absolute Error Upward Adjusted:': 127.49,\n",
       "  'Protected Mean Absolute Error Downward Adjusted:': 9.53},\n",
       " 'h=1, epsilon = 10': {'Mean Accuracies': array([3.15, 3.15]),\n",
       "  'Protected Mean Accuracies:': array([9.41, 9.41]),\n",
       "  '% Change Mean accuracy:': array([-198.54, -198.54]),\n",
       "  '% Change Median accuracy:': array([-130.67, -130.67]),\n",
       "  '% Forecasted Points adjusted downward:': 62.2,\n",
       "  '% Forecasted Points adjusted upward:': 37.8,\n",
       "  '% Series with improved accuracy:': array([26.22, 26.22]),\n",
       "  '% Series with reduced accuracy:': array([73.78, 73.78]),\n",
       "  'Original Mean Absolute Error Upward Adjusted:': 5.2,\n",
       "  'Original Mean Absolute Error Downward Adjusted:': 1.91,\n",
       "  'Protected Mean Absolute Error Upward Adjusted:': 18.5,\n",
       "  'Protected Mean Absolute Error Downward Adjusted:': 3.88},\n",
       " 'h=20, epsilon = 10': {'Mean Accuracies': array([5.48, 6.37]),\n",
       "  'Protected Mean Accuracies:': array([ 9.3 , 10.19]),\n",
       "  '% Change Mean accuracy:': array([-69.75, -59.97]),\n",
       "  '% Change Median accuracy:': array([-40.37, -34.18]),\n",
       "  '% Forecasted Points adjusted downward:': 56.39999999999999,\n",
       "  '% Forecasted Points adjusted upward:': 43.6,\n",
       "  '% Series with improved accuracy:': array([32.32, 31.71]),\n",
       "  '% Series with reduced accuracy:': array([67.68, 68.29]),\n",
       "  'Original Mean Absolute Error Upward Adjusted:': 7.26,\n",
       "  'Original Mean Absolute Error Downward Adjusted:': 4.1000000000000005,\n",
       "  'Protected Mean Absolute Error Upward Adjusted:': 13.91,\n",
       "  'Protected Mean Absolute Error Downward Adjusted:': 5.7299999999999995},\n",
       " 'h=1, epsilon = 20': {'Mean Accuracies': array([3.15, 3.15]),\n",
       "  'Protected Mean Accuracies:': array([4.93, 4.93]),\n",
       "  '% Change Mean accuracy:': array([-56.28, -56.28]),\n",
       "  '% Change Median accuracy:': array([-46.99, -46.99]),\n",
       "  '% Forecasted Points adjusted downward:': 51.83,\n",
       "  '% Forecasted Points adjusted upward:': 48.17,\n",
       "  '% Series with improved accuracy:': array([34.15, 34.15]),\n",
       "  '% Series with reduced accuracy:': array([65.85, 65.85]),\n",
       "  'Original Mean Absolute Error Upward Adjusted:': 3.6700000000000004,\n",
       "  'Original Mean Absolute Error Downward Adjusted:': 2.67,\n",
       "  'Protected Mean Absolute Error Upward Adjusted:': 6.5,\n",
       "  'Protected Mean Absolute Error Downward Adjusted:': 3.46},\n",
       " 'h=20, epsilon = 20': {'Mean Accuracies': array([5.48, 6.37]),\n",
       "  'Protected Mean Accuracies:': array([7.62, 8.49]),\n",
       "  '% Change Mean accuracy:': array([-39.05, -33.35]),\n",
       "  '% Change Median accuracy:': array([-22.04, -12.58]),\n",
       "  '% Forecasted Points adjusted downward:': 53.93,\n",
       "  '% Forecasted Points adjusted upward:': 46.07,\n",
       "  '% Series with improved accuracy:': array([39.63, 38.41]),\n",
       "  '% Series with reduced accuracy:': array([60.37, 61.59]),\n",
       "  'Original Mean Absolute Error Upward Adjusted:': 6.619999999999999,\n",
       "  'Original Mean Absolute Error Downward Adjusted:': 4.5,\n",
       "  'Protected Mean Absolute Error Upward Adjusted:': 9.950000000000001,\n",
       "  'Protected Mean Absolute Error Downward Adjusted:': 5.62}}"
      ]
     },
     "execution_count": 15,
     "metadata": {},
     "output_type": "execute_result"
    }
   ],
   "source": [
    "results_dict_40"
   ]
  }
 ],
 "metadata": {
  "kernelspec": {
   "display_name": "Python 3 (ipykernel)",
   "language": "python",
   "name": "python3"
  },
  "language_info": {
   "codemirror_mode": {
    "name": "ipython",
    "version": 3
   },
   "file_extension": ".py",
   "mimetype": "text/x-python",
   "name": "python",
   "nbconvert_exporter": "python",
   "pygments_lexer": "ipython3",
   "version": "3.9.7"
  }
 },
 "nbformat": 4,
 "nbformat_minor": 5
}
