{
 "cells": [
  {
   "cell_type": "markdown",
   "id": "0e4052c3",
   "metadata": {},
   "source": [
    "# Examining the Effects of DP on LGBM Forecast Accuracy"
   ]
  },
  {
   "cell_type": "markdown",
   "id": "7a4bd4c9",
   "metadata": {},
   "source": [
    "***"
   ]
  },
  {
   "cell_type": "code",
   "execution_count": 1,
   "id": "dd558349",
   "metadata": {},
   "outputs": [],
   "source": [
    "# general modules\n",
    "import pandas as pd\n",
    "import numpy as np\n",
    "import lightgbm as lgb\n",
    "\n",
    "##### the `helper_functions.py` file contains many custom functions we wrote to aid in our analysis\n",
    "##### `full_coding_analysis` combines all of the following - train-test split data,\n",
    "##### data protection, train models, compare accuracies, return accuracy results\n",
    "from helper_functions import *\n",
    "\n",
    "# nice time series plots\n",
    "from sktime.utils.plotting import plot_series"
   ]
  },
  {
   "cell_type": "code",
   "execution_count": 2,
   "id": "053d11e1",
   "metadata": {},
   "outputs": [],
   "source": [
    "# import weekly finance time series\n",
    "Y = np.genfromtxt(\"../../Data/Train/Clean/weekly_finance_clean.csv\", delimiter = ',', skip_header = 1)\n",
    "Y = pd.DataFrame(Y)"
   ]
  },
  {
   "cell_type": "code",
   "execution_count": 3,
   "id": "fc27e432",
   "metadata": {},
   "outputs": [],
   "source": [
    "# detrender = Detrender()\n",
    "# detrended_series = [detrender.fit_transform(series) for _ , series in Y.iterrows()]\n",
    "# detrended_series = [i+np.abs(np.min(i))+1.0 for i in detrended_series]\n",
    "# Y = pd.concat(detrended_series, axis=1).T"
   ]
  },
  {
   "cell_type": "markdown",
   "id": "a2cdca93",
   "metadata": {},
   "source": [
    "***"
   ]
  },
  {
   "cell_type": "markdown",
   "id": "693a5968",
   "metadata": {},
   "source": [
    "## Simple Model (window length = 10)"
   ]
  },
  {
   "cell_type": "code",
   "execution_count": 4,
   "id": "c6ca18f3",
   "metadata": {},
   "outputs": [],
   "source": [
    "forecaster = lgb.LGBMRegressor()\n",
    "window_length = 10"
   ]
  },
  {
   "cell_type": "code",
   "execution_count": 5,
   "id": "96460ce3",
   "metadata": {},
   "outputs": [],
   "source": [
    "results_dict_10 = {}\n",
    "fcasts_10 = {}\n",
    "fcasts_protected_10 = {}\n",
    "tests = {}\n",
    "epsilons = [1, 10, 20]\n",
    "horizons = [1, 20]"
   ]
  },
  {
   "cell_type": "code",
   "execution_count": 6,
   "id": "33b06dee",
   "metadata": {},
   "outputs": [],
   "source": [
    "for e in epsilons:\n",
    "    for h in horizons:\n",
    "        idx = \"h=\"+str(h)+\", epsilon = \"+str(e)\n",
    "        results_dict_10[idx], tests[idx], fcasts_10[idx], fcasts_protected_10[idx] = full_coding_analysis(time_series_data=Y, \n",
    "                                                                                                          forecasting_model=forecaster, \n",
    "                                                                                                          forecast_horizon=h,\n",
    "                                                                                                          epsilon=e,\n",
    "                                                                                                          window_length=window_length)"
   ]
  },
  {
   "cell_type": "code",
   "execution_count": 7,
   "id": "93202597",
   "metadata": {},
   "outputs": [
    {
     "data": {
      "text/plain": [
       "{'h=1, epsilon = 1': {'Mean Accuracies': array([0.0312, 0.0312]),\n",
       "  'Protected Mean Accuracies:': array([1.2791, 1.2791]),\n",
       "  '% Change Mean accuracy:': array([-39.9834, -39.9834]),\n",
       "  '% Change Median accuracy:': array([-97.7431, -97.7431]),\n",
       "  '% Forecasted Points adjusted downward:': 0.0244,\n",
       "  '% Forecasted Points adjusted upward:': 0.9756,\n",
       "  '% Series with improved accuracy:': array([0.0061, 0.0061]),\n",
       "  '% Series with reduced accuracy:': array([0.9939, 0.9939]),\n",
       "  'Original Mean Absolute Error Upward Adjusted:': 0.0319,\n",
       "  'Original Mean Absolute Error Downward Adjusted:': 0.0051,\n",
       "  'Protected Mean Absolute Error Upward Adjusted:': 1.3101,\n",
       "  'Protected Mean Absolute Error Downward Adjusted:': 0.0398},\n",
       " 'h=20, epsilon = 1': {'Mean Accuracies': array([0.051 , 0.0608]),\n",
       "  'Protected Mean Accuracies:': array([1.2415, 1.2425]),\n",
       "  '% Change Mean accuracy:': array([-23.3201, -19.4243]),\n",
       "  '% Change Median accuracy:': array([-35.0819, -28.2532]),\n",
       "  '% Forecasted Points adjusted downward:': 0.0402,\n",
       "  '% Forecasted Points adjusted upward:': 0.9598,\n",
       "  '% Series with improved accuracy:': array([0.0061, 0.0061]),\n",
       "  '% Series with reduced accuracy:': array([0.9939, 0.9939]),\n",
       "  'Original Mean Absolute Error Upward Adjusted:': 0.0525,\n",
       "  'Original Mean Absolute Error Downward Adjusted:': 0.0159,\n",
       "  'Protected Mean Absolute Error Upward Adjusted:': 1.2914,\n",
       "  'Protected Mean Absolute Error Downward Adjusted:': 0.0499},\n",
       " 'h=1, epsilon = 10': {'Mean Accuracies': array([0.0312, 0.0312]),\n",
       "  'Protected Mean Accuracies:': array([0.0972, 0.0972]),\n",
       "  '% Change Mean accuracy:': array([-2.1134, -2.1134]),\n",
       "  '% Change Median accuracy:': array([-1.2714, -1.2714]),\n",
       "  '% Forecasted Points adjusted downward:': 0.4878,\n",
       "  '% Forecasted Points adjusted upward:': 0.5122,\n",
       "  '% Series with improved accuracy:': array([0.2805, 0.2805]),\n",
       "  '% Series with reduced accuracy:': array([0.7195, 0.7195]),\n",
       "  'Original Mean Absolute Error Upward Adjusted:': 0.0404,\n",
       "  'Original Mean Absolute Error Downward Adjusted:': 0.0215,\n",
       "  'Protected Mean Absolute Error Upward Adjusted:': 0.1491,\n",
       "  'Protected Mean Absolute Error Downward Adjusted:': 0.0427},\n",
       " 'h=20, epsilon = 10': {'Mean Accuracies': array([0.051 , 0.0608]),\n",
       "  'Protected Mean Accuracies:': array([0.0992, 0.1077]),\n",
       "  '% Change Mean accuracy:': array([-0.9434, -0.7712]),\n",
       "  '% Change Median accuracy:': array([-0.3974, -0.2508]),\n",
       "  '% Forecasted Points adjusted downward:': 0.5128,\n",
       "  '% Forecasted Points adjusted upward:': 0.4872,\n",
       "  '% Series with improved accuracy:': array([0.25  , 0.2561]),\n",
       "  '% Series with reduced accuracy:': array([0.75  , 0.7439]),\n",
       "  'Original Mean Absolute Error Upward Adjusted:': 0.0588,\n",
       "  'Original Mean Absolute Error Downward Adjusted:': 0.0437,\n",
       "  'Protected Mean Absolute Error Upward Adjusted:': 0.134,\n",
       "  'Protected Mean Absolute Error Downward Adjusted:': 0.0661},\n",
       " 'h=1, epsilon = 20': {'Mean Accuracies': array([0.0312, 0.0312]),\n",
       "  'Protected Mean Accuracies:': array([0.0469, 0.0469]),\n",
       "  '% Change Mean accuracy:': array([-0.5016, -0.5016]),\n",
       "  '% Change Median accuracy:': array([-0.2911, -0.2911]),\n",
       "  '% Forecasted Points adjusted downward:': 0.4695,\n",
       "  '% Forecasted Points adjusted upward:': 0.5305,\n",
       "  '% Series with improved accuracy:': array([0.3902, 0.3902]),\n",
       "  '% Series with reduced accuracy:': array([0.6098, 0.6098]),\n",
       "  'Original Mean Absolute Error Upward Adjusted:': 0.0384,\n",
       "  'Original Mean Absolute Error Downward Adjusted:': 0.023,\n",
       "  'Protected Mean Absolute Error Upward Adjusted:': 0.0619,\n",
       "  'Protected Mean Absolute Error Downward Adjusted:': 0.0299},\n",
       " 'h=20, epsilon = 20': {'Mean Accuracies': array([0.051 , 0.0608]),\n",
       "  'Protected Mean Accuracies:': array([0.07  , 0.0791]),\n",
       "  '% Change Mean accuracy:': array([-0.3709, -0.2998]),\n",
       "  '% Change Median accuracy:': array([-0.0992, -0.0672]),\n",
       "  '% Forecasted Points adjusted downward:': 0.4915,\n",
       "  '% Forecasted Points adjusted upward:': 0.5085,\n",
       "  '% Series with improved accuracy:': array([0.439 , 0.4329]),\n",
       "  '% Series with reduced accuracy:': array([0.561 , 0.5671]),\n",
       "  'Original Mean Absolute Error Upward Adjusted:': 0.056,\n",
       "  'Original Mean Absolute Error Downward Adjusted:': 0.046,\n",
       "  'Protected Mean Absolute Error Upward Adjusted:': 0.0919,\n",
       "  'Protected Mean Absolute Error Downward Adjusted:': 0.0473}}"
      ]
     },
     "execution_count": 7,
     "metadata": {},
     "output_type": "execute_result"
    }
   ],
   "source": [
    "results_dict_10"
   ]
  },
  {
   "cell_type": "markdown",
   "id": "92ee4971",
   "metadata": {},
   "source": [
    "***\n",
    "***"
   ]
  },
  {
   "cell_type": "markdown",
   "id": "31b5ceaa",
   "metadata": {},
   "source": [
    "## 'Medium' Model (window length = 20)"
   ]
  },
  {
   "cell_type": "code",
   "execution_count": 8,
   "id": "b90008b5",
   "metadata": {},
   "outputs": [],
   "source": [
    "forecaster = lgb.LGBMRegressor()\n",
    "window_length = 20"
   ]
  },
  {
   "cell_type": "code",
   "execution_count": 9,
   "id": "73e5d4b5",
   "metadata": {},
   "outputs": [],
   "source": [
    "results_dict_20 = {}\n",
    "fcasts_20 = {}\n",
    "fcasts_protected_20 = {}\n",
    "tests = {}\n",
    "epsilons = [1, 10, 20]\n",
    "horizons = [1, 20]"
   ]
  },
  {
   "cell_type": "code",
   "execution_count": 10,
   "id": "05a6575c",
   "metadata": {},
   "outputs": [],
   "source": [
    "for e in epsilons:\n",
    "    for h in horizons:\n",
    "        idx = \"h=\"+str(h)+\", epsilon = \"+str(e)\n",
    "        results_dict_20[idx], tests[idx], fcasts_20[idx], fcasts_protected_20[idx] = full_coding_analysis(time_series_data=Y, \n",
    "                                                                                                          forecasting_model=forecaster, \n",
    "                                                                                                          forecast_horizon=h,\n",
    "                                                                                                          epsilon=e,\n",
    "                                                                                                          window_length=window_length)"
   ]
  },
  {
   "cell_type": "code",
   "execution_count": 11,
   "id": "e458b963",
   "metadata": {},
   "outputs": [
    {
     "data": {
      "text/plain": [
       "{'h=1, epsilon = 1': {'Mean Accuracies': array([0.0305, 0.0305]),\n",
       "  'Protected Mean Accuracies:': array([1.2905, 1.2905]),\n",
       "  '% Change Mean accuracy:': array([-41.294, -41.294]),\n",
       "  '% Change Median accuracy:': array([-91.6226, -91.6226]),\n",
       "  '% Forecasted Points adjusted downward:': 0.0244,\n",
       "  '% Forecasted Points adjusted upward:': 0.9756,\n",
       "  '% Series with improved accuracy:': array([0.0061, 0.0061]),\n",
       "  '% Series with reduced accuracy:': array([0.9939, 0.9939]),\n",
       "  'Original Mean Absolute Error Upward Adjusted:': 0.0311,\n",
       "  'Original Mean Absolute Error Downward Adjusted:': 0.0076,\n",
       "  'Protected Mean Absolute Error Upward Adjusted:': 1.3206,\n",
       "  'Protected Mean Absolute Error Downward Adjusted:': 0.0862},\n",
       " 'h=20, epsilon = 1': {'Mean Accuracies': array([0.0549, 0.0649]),\n",
       "  'Protected Mean Accuracies:': array([1.2641, 1.2651]),\n",
       "  '% Change Mean accuracy:': array([-22.0472, -18.4955]),\n",
       "  '% Change Median accuracy:': array([-32.9876, -27.8288]),\n",
       "  '% Forecasted Points adjusted downward:': 0.0265,\n",
       "  '% Forecasted Points adjusted upward:': 0.9735,\n",
       "  '% Series with improved accuracy:': array([0.0122, 0.0183]),\n",
       "  '% Series with reduced accuracy:': array([0.9878, 0.9817]),\n",
       "  'Original Mean Absolute Error Upward Adjusted:': 0.056,\n",
       "  'Original Mean Absolute Error Downward Adjusted:': 0.0131,\n",
       "  'Protected Mean Absolute Error Upward Adjusted:': 1.2976,\n",
       "  'Protected Mean Absolute Error Downward Adjusted:': 0.0381},\n",
       " 'h=1, epsilon = 10': {'Mean Accuracies': array([0.0305, 0.0305]),\n",
       "  'Protected Mean Accuracies:': array([0.0927, 0.0927]),\n",
       "  '% Change Mean accuracy:': array([-2.0375, -2.0375]),\n",
       "  '% Change Median accuracy:': array([-0.7764, -0.7764]),\n",
       "  '% Forecasted Points adjusted downward:': 0.4634,\n",
       "  '% Forecasted Points adjusted upward:': 0.5366,\n",
       "  '% Series with improved accuracy:': array([0.2622, 0.2622]),\n",
       "  '% Series with reduced accuracy:': array([0.7378, 0.7378]),\n",
       "  'Original Mean Absolute Error Upward Adjusted:': 0.0347,\n",
       "  'Original Mean Absolute Error Downward Adjusted:': 0.0257,\n",
       "  'Protected Mean Absolute Error Upward Adjusted:': 0.1289,\n",
       "  'Protected Mean Absolute Error Downward Adjusted:': 0.0508},\n",
       " 'h=20, epsilon = 10': {'Mean Accuracies': array([0.0549, 0.0649]),\n",
       "  'Protected Mean Accuracies:': array([0.1141, 0.1226]),\n",
       "  '% Change Mean accuracy:': array([-1.08  , -0.8896]),\n",
       "  '% Change Median accuracy:': array([-0.149 , -0.1263]),\n",
       "  '% Forecasted Points adjusted downward:': 0.568,\n",
       "  '% Forecasted Points adjusted upward:': 0.432,\n",
       "  '% Series with improved accuracy:': array([0.311 , 0.3415]),\n",
       "  '% Series with reduced accuracy:': array([0.689 , 0.6585]),\n",
       "  'Original Mean Absolute Error Upward Adjusted:': 0.0673,\n",
       "  'Original Mean Absolute Error Downward Adjusted:': 0.0454,\n",
       "  'Protected Mean Absolute Error Upward Adjusted:': 0.1868,\n",
       "  'Protected Mean Absolute Error Downward Adjusted:': 0.0588},\n",
       " 'h=1, epsilon = 20': {'Mean Accuracies': array([0.0305, 0.0305]),\n",
       "  'Protected Mean Accuracies:': array([0.0484, 0.0484]),\n",
       "  '% Change Mean accuracy:': array([-0.5871, -0.5871]),\n",
       "  '% Change Median accuracy:': array([-0.1859, -0.1859]),\n",
       "  '% Forecasted Points adjusted downward:': 0.4817,\n",
       "  '% Forecasted Points adjusted upward:': 0.5183,\n",
       "  '% Series with improved accuracy:': array([0.4451, 0.4451]),\n",
       "  '% Series with reduced accuracy:': array([0.5549, 0.5549]),\n",
       "  'Original Mean Absolute Error Upward Adjusted:': 0.0389,\n",
       "  'Original Mean Absolute Error Downward Adjusted:': 0.0214,\n",
       "  'Protected Mean Absolute Error Upward Adjusted:': 0.0703,\n",
       "  'Protected Mean Absolute Error Downward Adjusted:': 0.0249},\n",
       " 'h=20, epsilon = 20': {'Mean Accuracies': array([0.0549, 0.0649]),\n",
       "  'Protected Mean Accuracies:': array([0.082 , 0.0915]),\n",
       "  '% Change Mean accuracy:': array([-0.4954, -0.4103]),\n",
       "  '% Change Median accuracy:': array([-0.1667, -0.187 ]),\n",
       "  '% Forecasted Points adjusted downward:': 0.5256,\n",
       "  '% Forecasted Points adjusted upward:': 0.4744,\n",
       "  '% Series with improved accuracy:': array([0.4085, 0.4024]),\n",
       "  '% Series with reduced accuracy:': array([0.5915, 0.5976]),\n",
       "  'Original Mean Absolute Error Upward Adjusted:': 0.0573,\n",
       "  'Original Mean Absolute Error Downward Adjusted:': 0.0527,\n",
       "  'Protected Mean Absolute Error Upward Adjusted:': 0.1049,\n",
       "  'Protected Mean Absolute Error Downward Adjusted:': 0.0614}}"
      ]
     },
     "execution_count": 11,
     "metadata": {},
     "output_type": "execute_result"
    }
   ],
   "source": [
    "results_dict_20"
   ]
  },
  {
   "cell_type": "markdown",
   "id": "16949b2b",
   "metadata": {},
   "source": [
    "***\n",
    "***"
   ]
  },
  {
   "cell_type": "markdown",
   "id": "06e14070",
   "metadata": {},
   "source": [
    "## Complex Model (window length = 40)"
   ]
  },
  {
   "cell_type": "code",
   "execution_count": 12,
   "id": "0068a8a0",
   "metadata": {},
   "outputs": [],
   "source": [
    "forecaster = lgb.LGBMRegressor()\n",
    "window_length = 40"
   ]
  },
  {
   "cell_type": "code",
   "execution_count": 13,
   "id": "1dac849f",
   "metadata": {},
   "outputs": [],
   "source": [
    "results_dict_40 = {}\n",
    "fcasts_40 = {}\n",
    "fcasts_protected_40 = {}\n",
    "tests = {}\n",
    "epsilons = [1, 10, 20]\n",
    "horizons = [1, 20]"
   ]
  },
  {
   "cell_type": "code",
   "execution_count": 14,
   "id": "76eac929",
   "metadata": {},
   "outputs": [],
   "source": [
    "for e in epsilons:\n",
    "    for h in horizons:\n",
    "        idx = \"h=\"+str(h)+\", epsilon = \"+str(e)\n",
    "        results_dict_40[idx], tests[idx], fcasts_40[idx], fcasts_protected_40[idx] = full_coding_analysis(time_series_data=Y, \n",
    "                                                                                                          forecasting_model=forecaster, \n",
    "                                                                                                          forecast_horizon=h,\n",
    "                                                                                                          epsilon=e,\n",
    "                                                                                                          window_length=window_length)"
   ]
  },
  {
   "cell_type": "code",
   "execution_count": 15,
   "id": "b8747d6b",
   "metadata": {},
   "outputs": [
    {
     "data": {
      "text/plain": [
       "{'h=1, epsilon = 1': {'Mean Accuracies': array([0.0279, 0.0279]),\n",
       "  'Protected Mean Accuracies:': array([1.292, 1.292]),\n",
       "  '% Change Mean accuracy:': array([-45.342, -45.342]),\n",
       "  '% Change Median accuracy:': array([-104.4488, -104.4488]),\n",
       "  '% Forecasted Points adjusted downward:': 0.0183,\n",
       "  '% Forecasted Points adjusted upward:': 0.9817,\n",
       "  '% Series with improved accuracy:': array([0.0061, 0.0061]),\n",
       "  '% Series with reduced accuracy:': array([0.9939, 0.9939]),\n",
       "  'Original Mean Absolute Error Upward Adjusted:': 0.0283,\n",
       "  'Original Mean Absolute Error Downward Adjusted:': 0.0038,\n",
       "  'Protected Mean Absolute Error Upward Adjusted:': 1.3144,\n",
       "  'Protected Mean Absolute Error Downward Adjusted:': 0.089},\n",
       " 'h=20, epsilon = 1': {'Mean Accuracies': array([0.0701, 0.0801]),\n",
       "  'Protected Mean Accuracies:': array([1.2207, 1.2219]),\n",
       "  '% Change Mean accuracy:': array([-16.4231, -14.2513]),\n",
       "  '% Change Median accuracy:': array([-31.0881, -25.1221]),\n",
       "  '% Forecasted Points adjusted downward:': 0.0369,\n",
       "  '% Forecasted Points adjusted upward:': 0.9631,\n",
       "  '% Series with improved accuracy:': array([0., 0.]),\n",
       "  '% Series with reduced accuracy:': array([1., 1.]),\n",
       "  'Original Mean Absolute Error Upward Adjusted:': 0.072,\n",
       "  'Original Mean Absolute Error Downward Adjusted:': 0.0189,\n",
       "  'Protected Mean Absolute Error Upward Adjusted:': 1.2631,\n",
       "  'Protected Mean Absolute Error Downward Adjusted:': 0.1137},\n",
       " 'h=1, epsilon = 10': {'Mean Accuracies': array([0.0279, 0.0279]),\n",
       "  'Protected Mean Accuracies:': array([0.1017, 0.1017]),\n",
       "  '% Change Mean accuracy:': array([-2.6476, -2.6476]),\n",
       "  '% Change Median accuracy:': array([-1.2898, -1.2898]),\n",
       "  '% Forecasted Points adjusted downward:': 0.5,\n",
       "  '% Forecasted Points adjusted upward:': 0.5,\n",
       "  '% Series with improved accuracy:': array([0.2805, 0.2805]),\n",
       "  '% Series with reduced accuracy:': array([0.7195, 0.7195]),\n",
       "  'Original Mean Absolute Error Upward Adjusted:': 0.0343,\n",
       "  'Original Mean Absolute Error Downward Adjusted:': 0.0214,\n",
       "  'Protected Mean Absolute Error Upward Adjusted:': 0.1633,\n",
       "  'Protected Mean Absolute Error Downward Adjusted:': 0.0401},\n",
       " 'h=20, epsilon = 10': {'Mean Accuracies': array([0.0701, 0.0801]),\n",
       "  'Protected Mean Accuracies:': array([0.1112, 0.12  ]),\n",
       "  '% Change Mean accuracy:': array([-0.5866, -0.4976]),\n",
       "  '% Change Median accuracy:': array([-0.2682, -0.2224]),\n",
       "  '% Forecasted Points adjusted downward:': 0.4991,\n",
       "  '% Forecasted Points adjusted upward:': 0.5009,\n",
       "  '% Series with improved accuracy:': array([0.311, 0.311]),\n",
       "  '% Series with reduced accuracy:': array([0.689, 0.689]),\n",
       "  'Original Mean Absolute Error Upward Adjusted:': 0.075,\n",
       "  'Original Mean Absolute Error Downward Adjusted:': 0.0651,\n",
       "  'Protected Mean Absolute Error Upward Adjusted:': 0.1456,\n",
       "  'Protected Mean Absolute Error Downward Adjusted:': 0.0766},\n",
       " 'h=1, epsilon = 20': {'Mean Accuracies': array([0.0279, 0.0279]),\n",
       "  'Protected Mean Accuracies:': array([0.0472, 0.0472]),\n",
       "  '% Change Mean accuracy:': array([-0.6916, -0.6916]),\n",
       "  '% Change Median accuracy:': array([-0.4815, -0.4815]),\n",
       "  '% Forecasted Points adjusted downward:': 0.4329,\n",
       "  '% Forecasted Points adjusted upward:': 0.5671,\n",
       "  '% Series with improved accuracy:': array([0.3354, 0.3354]),\n",
       "  '% Series with reduced accuracy:': array([0.6646, 0.6646]),\n",
       "  'Original Mean Absolute Error Upward Adjusted:': 0.0331,\n",
       "  'Original Mean Absolute Error Downward Adjusted:': 0.0211,\n",
       "  'Protected Mean Absolute Error Upward Adjusted:': 0.0606,\n",
       "  'Protected Mean Absolute Error Downward Adjusted:': 0.0296},\n",
       " 'h=20, epsilon = 20': {'Mean Accuracies': array([0.0701, 0.0801]),\n",
       "  'Protected Mean Accuracies:': array([0.0689, 0.078 ]),\n",
       "  '% Change Mean accuracy:': array([0.0163, 0.0262]),\n",
       "  '% Change Median accuracy:': array([0.0216, 0.0662]),\n",
       "  '% Forecasted Points adjusted downward:': 0.5372,\n",
       "  '% Forecasted Points adjusted upward:': 0.4628,\n",
       "  '% Series with improved accuracy:': array([0.4207, 0.4573]),\n",
       "  '% Series with reduced accuracy:': array([0.5793, 0.5427]),\n",
       "  'Original Mean Absolute Error Upward Adjusted:': 0.0508,\n",
       "  'Original Mean Absolute Error Downward Adjusted:': 0.0866,\n",
       "  'Protected Mean Absolute Error Upward Adjusted:': 0.0659,\n",
       "  'Protected Mean Absolute Error Downward Adjusted:': 0.0715}}"
      ]
     },
     "execution_count": 15,
     "metadata": {},
     "output_type": "execute_result"
    }
   ],
   "source": [
    "results_dict_40"
   ]
  }
 ],
 "metadata": {
  "kernelspec": {
   "display_name": "Python 3 (ipykernel)",
   "language": "python",
   "name": "python3"
  },
  "language_info": {
   "codemirror_mode": {
    "name": "ipython",
    "version": 3
   },
   "file_extension": ".py",
   "mimetype": "text/x-python",
   "name": "python",
   "nbconvert_exporter": "python",
   "pygments_lexer": "ipython3",
   "version": "3.9.7"
  }
 },
 "nbformat": 4,
 "nbformat_minor": 5
}
