{
 "cells": [
  {
   "cell_type": "markdown",
   "id": "0e4052c3",
   "metadata": {},
   "source": [
    "# Examining the Effects of DP on LGBM Forecast Accuracy"
   ]
  },
  {
   "cell_type": "markdown",
   "id": "7a4bd4c9",
   "metadata": {},
   "source": [
    "***"
   ]
  },
  {
   "cell_type": "code",
   "execution_count": 1,
   "id": "dd558349",
   "metadata": {},
   "outputs": [],
   "source": [
    "# general modules\n",
    "import pandas as pd\n",
    "import numpy as np\n",
    "import lightgbm as lgb\n",
    "\n",
    "##### the `helper_functions.py` file contains many custom functions we wrote to aid in our analysis\n",
    "##### `full_coding_analysis` combines all of the following - train-test split data,\n",
    "##### data protection, train models, compare accuracies, return accuracy results\n",
    "from helper_functions import *\n",
    "\n",
    "# nice time series plots\n",
    "from sktime.utils.plotting import plot_series"
   ]
  },
  {
   "cell_type": "code",
   "execution_count": 2,
   "id": "053d11e1",
   "metadata": {},
   "outputs": [],
   "source": [
    "# import weekly finance time series\n",
    "Y = np.genfromtxt(\"../../Data/Train/Clean/weekly_finance_clean.csv\", delimiter = ',', skip_header = 1)\n",
    "Y = pd.DataFrame(Y)"
   ]
  },
  {
   "cell_type": "markdown",
   "id": "a2cdca93",
   "metadata": {},
   "source": [
    "***"
   ]
  },
  {
   "cell_type": "markdown",
   "id": "693a5968",
   "metadata": {},
   "source": [
    "## Simple Model (window length = 10)"
   ]
  },
  {
   "cell_type": "code",
   "execution_count": 3,
   "id": "c6ca18f3",
   "metadata": {},
   "outputs": [],
   "source": [
    "forecaster = lgb.LGBMRegressor()\n",
    "window_length = 10"
   ]
  },
  {
   "cell_type": "code",
   "execution_count": 4,
   "id": "96460ce3",
   "metadata": {},
   "outputs": [],
   "source": [
    "results_dict_10 = {}\n",
    "fcasts_10 = {}\n",
    "fcasts_protected_10 = {}\n",
    "tests = {}\n",
    "epsilons = [1, 10, 20]\n",
    "horizons = [1, 20]"
   ]
  },
  {
   "cell_type": "code",
   "execution_count": 5,
   "id": "33b06dee",
   "metadata": {},
   "outputs": [],
   "source": [
    "for e in epsilons:\n",
    "    for h in horizons:\n",
    "        idx = \"h=\"+str(h)+\", epsilon = \"+str(e)\n",
    "        results_dict_10[idx], tests[idx], fcasts_10[idx], fcasts_protected_10[idx] = full_coding_analysis(time_series_data=Y, \n",
    "                                                                                                          forecasting_model=forecaster, \n",
    "                                                                                                          forecast_horizon=h,\n",
    "                                                                                                          epsilon=e,\n",
    "                                                                                                          window_length=window_length)"
   ]
  },
  {
   "cell_type": "code",
   "execution_count": 6,
   "id": "93202597",
   "metadata": {},
   "outputs": [
    {
     "data": {
      "text/plain": [
       "{'h=1, epsilon = 1': {'Mean Accuracies': array([3.12, 3.12]),\n",
       "  'Protected Mean Accuracies:': array([130.78, 130.78]),\n",
       "  '% Change Mean accuracy:': array([-4090.42, -4090.42]),\n",
       "  '% Change Median accuracy:': array([-10166.71, -10166.71]),\n",
       "  '% Forecasted Points adjusted downward:': 2.44,\n",
       "  '% Forecasted Points adjusted upward:': 97.56,\n",
       "  '% Series with improved accuracy:': array([1.22, 1.22]),\n",
       "  '% Series with reduced accuracy:': array([98.78, 98.78]),\n",
       "  'Original Mean Absolute Error Upward Adjusted:': 3.17,\n",
       "  'Original Mean Absolute Error Downward Adjusted:': 1.09,\n",
       "  'Protected Mean Absolute Error Upward Adjusted:': 133.79000000000002,\n",
       "  'Protected Mean Absolute Error Downward Adjusted:': 10.489999999999998},\n",
       " 'h=20, epsilon = 1': {'Mean Accuracies': array([5.1 , 6.08]),\n",
       "  'Protected Mean Accuracies:': array([122.43, 122.53]),\n",
       "  '% Change Mean accuracy:': array([-2298.31, -1914.07]),\n",
       "  '% Change Median accuracy:': array([-3447.17, -2775.29]),\n",
       "  '% Forecasted Points adjusted downward:': 4.7,\n",
       "  '% Forecasted Points adjusted upward:': 95.3,\n",
       "  '% Series with improved accuracy:': array([0.61, 0.61]),\n",
       "  '% Series with reduced accuracy:': array([99.39, 99.39]),\n",
       "  'Original Mean Absolute Error Upward Adjusted:': 5.25,\n",
       "  'Original Mean Absolute Error Downward Adjusted:': 2.07,\n",
       "  'Protected Mean Absolute Error Upward Adjusted:': 128.22,\n",
       "  'Protected Mean Absolute Error Downward Adjusted:': 4.8},\n",
       " 'h=1, epsilon = 10': {'Mean Accuracies': array([3.12, 3.12]),\n",
       "  'Protected Mean Accuracies:': array([8.31, 8.31]),\n",
       "  '% Change Mean accuracy:': array([-166.38, -166.38]),\n",
       "  '% Change Median accuracy:': array([-80.38, -80.38]),\n",
       "  '% Forecasted Points adjusted downward:': 46.949999999999996,\n",
       "  '% Forecasted Points adjusted upward:': 53.05,\n",
       "  '% Series with improved accuracy:': array([32.32, 32.32]),\n",
       "  '% Series with reduced accuracy:': array([67.68, 67.68]),\n",
       "  'Original Mean Absolute Error Upward Adjusted:': 3.8699999999999997,\n",
       "  'Original Mean Absolute Error Downward Adjusted:': 2.27,\n",
       "  'Protected Mean Absolute Error Upward Adjusted:': 12.13,\n",
       "  'Protected Mean Absolute Error Downward Adjusted:': 4.0},\n",
       " 'h=20, epsilon = 10': {'Mean Accuracies': array([5.1 , 6.08]),\n",
       "  'Protected Mean Accuracies:': array([10.24, 11.08]),\n",
       "  '% Change Mean accuracy:': array([-100.57,  -82.13]),\n",
       "  '% Change Median accuracy:': array([-36.36, -31.43]),\n",
       "  '% Forecasted Points adjusted downward:': 59.91,\n",
       "  '% Forecasted Points adjusted upward:': 40.089999999999996,\n",
       "  '% Series with improved accuracy:': array([24.39, 28.66]),\n",
       "  '% Series with reduced accuracy:': array([75.61, 71.34]),\n",
       "  'Original Mean Absolute Error Upward Adjusted:': 6.21,\n",
       "  'Original Mean Absolute Error Downward Adjusted:': 4.36,\n",
       "  'Protected Mean Absolute Error Upward Adjusted:': 16.56,\n",
       "  'Protected Mean Absolute Error Downward Adjusted:': 6.01},\n",
       " 'h=1, epsilon = 20': {'Mean Accuracies': array([3.12, 3.12]),\n",
       "  'Protected Mean Accuracies:': array([5.12, 5.12]),\n",
       "  '% Change Mean accuracy:': array([-64.01, -64.01]),\n",
       "  '% Change Median accuracy:': array([-51.03, -51.03]),\n",
       "  '% Forecasted Points adjusted downward:': 49.39,\n",
       "  '% Forecasted Points adjusted upward:': 50.61,\n",
       "  '% Series with improved accuracy:': array([39.63, 39.63]),\n",
       "  '% Series with reduced accuracy:': array([60.37, 60.37]),\n",
       "  'Original Mean Absolute Error Upward Adjusted:': 4.17,\n",
       "  'Original Mean Absolute Error Downward Adjusted:': 2.0500000000000003,\n",
       "  'Protected Mean Absolute Error Upward Adjusted:': 7.5200000000000005,\n",
       "  'Protected Mean Absolute Error Downward Adjusted:': 2.6599999999999997},\n",
       " 'h=20, epsilon = 20': {'Mean Accuracies': array([5.1 , 6.08]),\n",
       "  'Protected Mean Accuracies:': array([6.97, 7.85]),\n",
       "  '% Change Mean accuracy:': array([-36.63, -29.09]),\n",
       "  '% Change Median accuracy:': array([ 0.59, -2.69]),\n",
       "  '% Forecasted Points adjusted downward:': 50.61,\n",
       "  '% Forecasted Points adjusted upward:': 49.39,\n",
       "  '% Series with improved accuracy:': array([44.51, 46.34]),\n",
       "  '% Series with reduced accuracy:': array([55.49, 53.66]),\n",
       "  'Original Mean Absolute Error Upward Adjusted:': 5.07,\n",
       "  'Original Mean Absolute Error Downward Adjusted:': 5.140000000000001,\n",
       "  'Protected Mean Absolute Error Upward Adjusted:': 7.9799999999999995,\n",
       "  'Protected Mean Absolute Error Downward Adjusted:': 5.99}}"
      ]
     },
     "execution_count": 6,
     "metadata": {},
     "output_type": "execute_result"
    }
   ],
   "source": [
    "results_dict_10"
   ]
  },
  {
   "cell_type": "markdown",
   "id": "92ee4971",
   "metadata": {},
   "source": [
    "***\n",
    "***"
   ]
  },
  {
   "cell_type": "markdown",
   "id": "31b5ceaa",
   "metadata": {},
   "source": [
    "## 'Medium' Model (window length = 20)"
   ]
  },
  {
   "cell_type": "code",
   "execution_count": 7,
   "id": "b90008b5",
   "metadata": {},
   "outputs": [],
   "source": [
    "forecaster = lgb.LGBMRegressor()\n",
    "window_length = 20"
   ]
  },
  {
   "cell_type": "code",
   "execution_count": 8,
   "id": "73e5d4b5",
   "metadata": {},
   "outputs": [],
   "source": [
    "results_dict_20 = {}\n",
    "fcasts_20 = {}\n",
    "fcasts_protected_20 = {}\n",
    "tests = {}\n",
    "epsilons = [1, 10, 20]\n",
    "horizons = [1, 20]"
   ]
  },
  {
   "cell_type": "code",
   "execution_count": 9,
   "id": "05a6575c",
   "metadata": {},
   "outputs": [],
   "source": [
    "for e in epsilons:\n",
    "    for h in horizons:\n",
    "        idx = \"h=\"+str(h)+\", epsilon = \"+str(e)\n",
    "        results_dict_20[idx], tests[idx], fcasts_20[idx], fcasts_protected_20[idx] = full_coding_analysis(time_series_data=Y, \n",
    "                                                                                                          forecasting_model=forecaster, \n",
    "                                                                                                          forecast_horizon=h,\n",
    "                                                                                                          epsilon=e,\n",
    "                                                                                                          window_length=window_length)"
   ]
  },
  {
   "cell_type": "code",
   "execution_count": 10,
   "id": "e458b963",
   "metadata": {},
   "outputs": [
    {
     "data": {
      "text/plain": [
       "{'h=1, epsilon = 1': {'Mean Accuracies': array([3.05, 3.05]),\n",
       "  'Protected Mean Accuracies:': array([126.98, 126.98]),\n",
       "  '% Change Mean accuracy:': array([-4061.47, -4061.47]),\n",
       "  '% Change Median accuracy:': array([-9342.92, -9342.92]),\n",
       "  '% Forecasted Points adjusted downward:': 3.05,\n",
       "  '% Forecasted Points adjusted upward:': 96.95,\n",
       "  '% Series with improved accuracy:': array([0.61, 0.61]),\n",
       "  '% Series with reduced accuracy:': array([99.39, 99.39]),\n",
       "  'Original Mean Absolute Error Upward Adjusted:': 3.1300000000000003,\n",
       "  'Original Mean Absolute Error Downward Adjusted:': 0.67,\n",
       "  'Protected Mean Absolute Error Upward Adjusted:': 130.85999999999999,\n",
       "  'Protected Mean Absolute Error Downward Adjusted:': 3.53},\n",
       " 'h=20, epsilon = 1': {'Mean Accuracies': array([5.49, 6.49]),\n",
       "  'Protected Mean Accuracies:': array([125.63, 125.73]),\n",
       "  '% Change Mean accuracy:': array([-2190.38, -1837.56]),\n",
       "  '% Change Median accuracy:': array([-3240.04, -2732.52]),\n",
       "  '% Forecasted Points adjusted downward:': 3.54,\n",
       "  '% Forecasted Points adjusted upward:': 96.46000000000001,\n",
       "  '% Series with improved accuracy:': array([0., 0.]),\n",
       "  '% Series with reduced accuracy:': array([100., 100.]),\n",
       "  'Original Mean Absolute Error Upward Adjusted:': 5.63,\n",
       "  'Original Mean Absolute Error Downward Adjusted:': 1.54,\n",
       "  'Protected Mean Absolute Error Upward Adjusted:': 129.99,\n",
       "  'Protected Mean Absolute Error Downward Adjusted:': 6.58},\n",
       " 'h=1, epsilon = 10': {'Mean Accuracies': array([3.05, 3.05]),\n",
       "  'Protected Mean Accuracies:': array([8.41, 8.41]),\n",
       "  '% Change Mean accuracy:': array([-175.73, -175.73]),\n",
       "  '% Change Median accuracy:': array([-83.8, -83.8]),\n",
       "  '% Forecasted Points adjusted downward:': 51.83,\n",
       "  '% Forecasted Points adjusted upward:': 48.17,\n",
       "  '% Series with improved accuracy:': array([31.1, 31.1]),\n",
       "  '% Series with reduced accuracy:': array([68.9, 68.9]),\n",
       "  'Original Mean Absolute Error Upward Adjusted:': 4.0,\n",
       "  'Original Mean Absolute Error Downward Adjusted:': 2.17,\n",
       "  'Protected Mean Absolute Error Upward Adjusted:': 12.740000000000002,\n",
       "  'Protected Mean Absolute Error Downward Adjusted:': 4.390000000000001},\n",
       " 'h=20, epsilon = 10': {'Mean Accuracies': array([5.49, 6.49]),\n",
       "  'Protected Mean Accuracies:': array([10.18, 11.02]),\n",
       "  '% Change Mean accuracy:': array([-85.52, -69.84]),\n",
       "  '% Change Median accuracy:': array([-31.3 , -25.93]),\n",
       "  '% Forecasted Points adjusted downward:': 55.78999999999999,\n",
       "  '% Forecasted Points adjusted upward:': 44.21,\n",
       "  '% Series with improved accuracy:': array([26.83, 27.44]),\n",
       "  '% Series with reduced accuracy:': array([73.17, 72.56]),\n",
       "  'Original Mean Absolute Error Upward Adjusted:': 6.2,\n",
       "  'Original Mean Absolute Error Downward Adjusted:': 4.92,\n",
       "  'Protected Mean Absolute Error Upward Adjusted:': 14.71,\n",
       "  'Protected Mean Absolute Error Downward Adjusted:': 6.58},\n",
       " 'h=1, epsilon = 20': {'Mean Accuracies': array([3.05, 3.05]),\n",
       "  'Protected Mean Accuracies:': array([4.82, 4.82]),\n",
       "  '% Change Mean accuracy:': array([-58.11, -58.11]),\n",
       "  '% Change Median accuracy:': array([-41.35, -41.35]),\n",
       "  '% Forecasted Points adjusted downward:': 51.22,\n",
       "  '% Forecasted Points adjusted upward:': 48.78,\n",
       "  '% Series with improved accuracy:': array([37.8, 37.8]),\n",
       "  '% Series with reduced accuracy:': array([62.2, 62.2]),\n",
       "  'Original Mean Absolute Error Upward Adjusted:': 3.32,\n",
       "  'Original Mean Absolute Error Downward Adjusted:': 2.79,\n",
       "  'Protected Mean Absolute Error Upward Adjusted:': 6.12,\n",
       "  'Protected Mean Absolute Error Downward Adjusted:': 3.5900000000000003},\n",
       " 'h=20, epsilon = 20': {'Mean Accuracies': array([5.49, 6.49]),\n",
       "  'Protected Mean Accuracies:': array([7.76, 8.62]),\n",
       "  '% Change Mean accuracy:': array([-41.5 , -32.86]),\n",
       "  '% Change Median accuracy:': array([-1.04, -5.34]),\n",
       "  '% Forecasted Points adjusted downward:': 44.51,\n",
       "  '% Forecasted Points adjusted upward:': 55.489999999999995,\n",
       "  '% Series with improved accuracy:': array([45.12, 48.78]),\n",
       "  '% Series with reduced accuracy:': array([54.88, 51.22]),\n",
       "  'Original Mean Absolute Error Upward Adjusted:': 5.87,\n",
       "  'Original Mean Absolute Error Downward Adjusted:': 5.01,\n",
       "  'Protected Mean Absolute Error Upward Adjusted:': 9.520000000000001,\n",
       "  'Protected Mean Absolute Error Downward Adjusted:': 5.56}}"
      ]
     },
     "execution_count": 10,
     "metadata": {},
     "output_type": "execute_result"
    }
   ],
   "source": [
    "results_dict_20"
   ]
  },
  {
   "cell_type": "markdown",
   "id": "16949b2b",
   "metadata": {},
   "source": [
    "***\n",
    "***"
   ]
  },
  {
   "cell_type": "markdown",
   "id": "06e14070",
   "metadata": {},
   "source": [
    "## Complex Model (window length = 40)"
   ]
  },
  {
   "cell_type": "code",
   "execution_count": 11,
   "id": "0068a8a0",
   "metadata": {},
   "outputs": [],
   "source": [
    "forecaster = lgb.LGBMRegressor()\n",
    "window_length = 40"
   ]
  },
  {
   "cell_type": "code",
   "execution_count": 12,
   "id": "1dac849f",
   "metadata": {},
   "outputs": [],
   "source": [
    "results_dict_40 = {}\n",
    "fcasts_40 = {}\n",
    "fcasts_protected_40 = {}\n",
    "tests = {}\n",
    "epsilons = [1, 10, 20]\n",
    "horizons = [1, 20]"
   ]
  },
  {
   "cell_type": "code",
   "execution_count": 13,
   "id": "76eac929",
   "metadata": {},
   "outputs": [],
   "source": [
    "for e in epsilons:\n",
    "    for h in horizons:\n",
    "        idx = \"h=\"+str(h)+\", epsilon = \"+str(e)\n",
    "        results_dict_40[idx], tests[idx], fcasts_40[idx], fcasts_protected_40[idx] = full_coding_analysis(time_series_data=Y, \n",
    "                                                                                                          forecasting_model=forecaster, \n",
    "                                                                                                          forecast_horizon=h,\n",
    "                                                                                                          epsilon=e,\n",
    "                                                                                                          window_length=window_length)"
   ]
  },
  {
   "cell_type": "code",
   "execution_count": 14,
   "id": "b8747d6b",
   "metadata": {},
   "outputs": [
    {
     "data": {
      "text/plain": [
       "{'h=1, epsilon = 1': {'Mean Accuracies': array([2.79, 2.79]),\n",
       "  'Protected Mean Accuracies:': array([128.53, 128.53]),\n",
       "  '% Change Mean accuracy:': array([-4510.07, -4510.07]),\n",
       "  '% Change Median accuracy:': array([-10615.27, -10615.27]),\n",
       "  '% Forecasted Points adjusted downward:': 3.66,\n",
       "  '% Forecasted Points adjusted upward:': 96.34,\n",
       "  '% Series with improved accuracy:': array([1.22, 1.22]),\n",
       "  '% Series with reduced accuracy:': array([98.78, 98.78]),\n",
       "  'Original Mean Absolute Error Upward Adjusted:': 2.87,\n",
       "  'Original Mean Absolute Error Downward Adjusted:': 0.74,\n",
       "  'Protected Mean Absolute Error Upward Adjusted:': 133.16,\n",
       "  'Protected Mean Absolute Error Downward Adjusted:': 6.68},\n",
       " 'h=20, epsilon = 1': {'Mean Accuracies': array([7.01, 8.01]),\n",
       "  'Protected Mean Accuracies:': array([127.57, 127.69]),\n",
       "  '% Change Mean accuracy:': array([-1720.83, -1493.76]),\n",
       "  '% Change Median accuracy:': array([-3225.62, -2610.6 ]),\n",
       "  '% Forecasted Points adjusted downward:': 3.1399999999999997,\n",
       "  '% Forecasted Points adjusted upward:': 96.86,\n",
       "  '% Series with improved accuracy:': array([0., 0.]),\n",
       "  '% Series with reduced accuracy:': array([100., 100.]),\n",
       "  'Original Mean Absolute Error Upward Adjusted:': 7.21,\n",
       "  'Original Mean Absolute Error Downward Adjusted:': 0.8500000000000001,\n",
       "  'Protected Mean Absolute Error Upward Adjusted:': 131.53,\n",
       "  'Protected Mean Absolute Error Downward Adjusted:': 5.52},\n",
       " 'h=1, epsilon = 10': {'Mean Accuracies': array([2.79, 2.79]),\n",
       "  'Protected Mean Accuracies:': array([9.67, 9.67]),\n",
       "  '% Change Mean accuracy:': array([-246.99, -246.99]),\n",
       "  '% Change Median accuracy:': array([-104.89, -104.89]),\n",
       "  '% Forecasted Points adjusted downward:': 43.9,\n",
       "  '% Forecasted Points adjusted upward:': 56.10000000000001,\n",
       "  '% Series with improved accuracy:': array([25.61, 25.61]),\n",
       "  '% Series with reduced accuracy:': array([74.39, 74.39]),\n",
       "  'Original Mean Absolute Error Upward Adjusted:': 3.3099999999999996,\n",
       "  'Original Mean Absolute Error Downward Adjusted:': 2.12,\n",
       "  'Protected Mean Absolute Error Upward Adjusted:': 13.900000000000002,\n",
       "  'Protected Mean Absolute Error Downward Adjusted:': 4.279999999999999},\n",
       " 'h=20, epsilon = 10': {'Mean Accuracies': array([7.01, 8.01]),\n",
       "  'Protected Mean Accuracies:': array([10.57, 11.45]),\n",
       "  '% Change Mean accuracy:': array([-50.86, -42.92]),\n",
       "  '% Change Median accuracy:': array([-16.58, -12.88]),\n",
       "  '% Forecasted Points adjusted downward:': 53.02,\n",
       "  '% Forecasted Points adjusted upward:': 46.98,\n",
       "  '% Series with improved accuracy:': array([32.32, 33.54]),\n",
       "  '% Series with reduced accuracy:': array([67.68, 66.46]),\n",
       "  'Original Mean Absolute Error Upward Adjusted:': 7.26,\n",
       "  'Original Mean Absolute Error Downward Adjusted:': 6.78,\n",
       "  'Protected Mean Absolute Error Upward Adjusted:': 14.04,\n",
       "  'Protected Mean Absolute Error Downward Adjusted:': 7.489999999999999},\n",
       " 'h=1, epsilon = 20': {'Mean Accuracies': array([2.79, 2.79]),\n",
       "  'Protected Mean Accuracies:': array([4.92, 4.92]),\n",
       "  '% Change Mean accuracy:': array([-76.62, -76.62]),\n",
       "  '% Change Median accuracy:': array([-47.79, -47.79]),\n",
       "  '% Forecasted Points adjusted downward:': 48.17,\n",
       "  '% Forecasted Points adjusted upward:': 51.83,\n",
       "  '% Series with improved accuracy:': array([34.76, 34.76]),\n",
       "  '% Series with reduced accuracy:': array([65.24, 65.24]),\n",
       "  'Original Mean Absolute Error Upward Adjusted:': 3.2300000000000004,\n",
       "  'Original Mean Absolute Error Downward Adjusted:': 2.31,\n",
       "  'Protected Mean Absolute Error Upward Adjusted:': 6.419999999999999,\n",
       "  'Protected Mean Absolute Error Downward Adjusted:': 3.3099999999999996},\n",
       " 'h=20, epsilon = 20': {'Mean Accuracies': array([7.01, 8.01]),\n",
       "  'Protected Mean Accuracies:': array([7.99, 8.98]),\n",
       "  '% Change Mean accuracy:': array([-13.98, -12.07]),\n",
       "  '% Change Median accuracy:': array([-6.37,  0.79]),\n",
       "  '% Forecasted Points adjusted downward:': 47.620000000000005,\n",
       "  '% Forecasted Points adjusted upward:': 52.38,\n",
       "  '% Series with improved accuracy:': array([38.41, 39.63]),\n",
       "  '% Series with reduced accuracy:': array([61.59, 60.37]),\n",
       "  'Original Mean Absolute Error Upward Adjusted:': 6.7,\n",
       "  'Original Mean Absolute Error Downward Adjusted:': 7.35,\n",
       "  'Protected Mean Absolute Error Upward Adjusted:': 9.13,\n",
       "  'Protected Mean Absolute Error Downward Adjusted:': 6.72}}"
      ]
     },
     "execution_count": 14,
     "metadata": {},
     "output_type": "execute_result"
    }
   ],
   "source": [
    "results_dict_40"
   ]
  }
 ],
 "metadata": {
  "kernelspec": {
   "display_name": "Python 3 (ipykernel)",
   "language": "python",
   "name": "python3"
  },
  "language_info": {
   "codemirror_mode": {
    "name": "ipython",
    "version": 3
   },
   "file_extension": ".py",
   "mimetype": "text/x-python",
   "name": "python",
   "nbconvert_exporter": "python",
   "pygments_lexer": "ipython3",
   "version": "3.9.7"
  }
 },
 "nbformat": 4,
 "nbformat_minor": 5
}
