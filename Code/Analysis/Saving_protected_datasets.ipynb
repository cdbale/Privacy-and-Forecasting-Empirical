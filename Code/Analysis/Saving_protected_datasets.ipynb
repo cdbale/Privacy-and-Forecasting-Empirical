{
 "cells": [
  {
   "cell_type": "code",
   "execution_count": 10,
   "id": "69bd5763",
   "metadata": {},
   "outputs": [],
   "source": [
    "from data_protection_functions import *\n",
    "import pandas as pd"
   ]
  },
  {
   "cell_type": "code",
   "execution_count": 11,
   "id": "3c9194b8",
   "metadata": {},
   "outputs": [],
   "source": [
    "# import monthly micro time series\n",
    "# ignore header and skip the first row to use integers as column names\n",
    "full_data = pd.read_csv(\"../../Data/Train/Clean/full_m3_monthly_micro_clean.csv\", header=None, skiprows=1)"
   ]
  },
  {
   "cell_type": "code",
   "execution_count": 12,
   "id": "e52bd2a7",
   "metadata": {},
   "outputs": [],
   "source": [
    "# convert to a list of series, potentially with different lengths\n",
    "# drop NA values\n",
    "full_data = [x.dropna() for _, x in full_data.iterrows()]"
   ]
  },
  {
   "cell_type": "markdown",
   "id": "8931d103",
   "metadata": {},
   "source": [
    "***"
   ]
  },
  {
   "cell_type": "code",
   "execution_count": 13,
   "id": "f78edfc5",
   "metadata": {},
   "outputs": [],
   "source": [
    "protection_methods = {\"Top\": [0.10, 0.20, 0.40],\n",
    "                      \"Bottom\": [0.10, 0.20, 0.40],\n",
    "                      \"AN\": [0.5, 1, 1.5, 2],\n",
    "                      \"DP\": [0.1, 1, 4.6, 10, 20]}\n",
    "\n",
    "h = [1, 18]"
   ]
  },
  {
   "cell_type": "code",
   "execution_count": 14,
   "id": "f3e094f2",
   "metadata": {},
   "outputs": [],
   "source": [
    "data_path = \"../../Data/Train/Clean/\""
   ]
  },
  {
   "cell_type": "markdown",
   "id": "7c8e045d",
   "metadata": {},
   "source": [
    "# Need to do this for each horizon."
   ]
  },
  {
   "cell_type": "code",
   "execution_count": 17,
   "id": "237eadfa",
   "metadata": {},
   "outputs": [],
   "source": [
    "for H in h:\n",
    "    # create training data excluding test horizon\n",
    "    Y = [x.iloc[:-H] for x in full_data]\n",
    "    \n",
    "    Y_df = pd.DataFrame(Y)\n",
    "    \n",
    "    Y_df.to_csv(data_path + \"m3_monthly_micro_h\" + str(H) + \".csv\", index=False)\n",
    "    \n",
    "    # for each protection method\n",
    "    for p in protection_methods.items():\n",
    "        params = p[1]\n",
    "        \n",
    "        # for each protection method parameter\n",
    "        for param in params:\n",
    "            protection_method = p[0] + \"_\" + str(param)\n",
    "            if p[0] == \"Top\":\n",
    "                Y_protected = apply_data_protection(Y, coding_type=p[0], coding_percentage=param)\n",
    "            elif p[0] == \"Bottom\":\n",
    "                Y_protected = apply_data_protection(Y, coding_type=p[0], coding_percentage=param)\n",
    "            elif p[0] == \"AN\":\n",
    "                Y_protected = apply_data_protection(Y, num_stdev=param)\n",
    "            elif p[0] == \"DP\":\n",
    "                Y_protected = apply_data_protection(Y, epsilon=param)\n",
    "                \n",
    "            Y_protected = pd.DataFrame(Y_protected)\n",
    "            \n",
    "            Y_protected.to_csv(data_path + \"protected_m3_monthly_micro_h\" + str(H) + \"_\" + protection_method + \".csv\", index=False)"
   ]
  },
  {
   "cell_type": "code",
   "execution_count": null,
   "id": "611b9211",
   "metadata": {},
   "outputs": [],
   "source": []
  },
  {
   "cell_type": "code",
   "execution_count": null,
   "id": "12060bb4",
   "metadata": {},
   "outputs": [],
   "source": []
  }
 ],
 "metadata": {
  "kernelspec": {
   "display_name": "Python 3 (ipykernel)",
   "language": "python",
   "name": "python3"
  },
  "language_info": {
   "codemirror_mode": {
    "name": "ipython",
    "version": 3
   },
   "file_extension": ".py",
   "mimetype": "text/x-python",
   "name": "python",
   "nbconvert_exporter": "python",
   "pygments_lexer": "ipython3",
   "version": "3.9.7"
  }
 },
 "nbformat": 4,
 "nbformat_minor": 5
}
