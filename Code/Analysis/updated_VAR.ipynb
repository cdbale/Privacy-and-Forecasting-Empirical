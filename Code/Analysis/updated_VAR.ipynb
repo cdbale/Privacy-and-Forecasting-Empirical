{
 "cells": [
  {
   "cell_type": "markdown",
   "id": "9544259e",
   "metadata": {},
   "source": [
    "## Updated Code for Implementing VAR Model"
   ]
  },
  {
   "cell_type": "code",
   "execution_count": 1,
   "id": "789f365a",
   "metadata": {},
   "outputs": [],
   "source": [
    "# load modules\n",
    "import numpy as np\n",
    "import pandas as pd\n",
    "import pmdarima as pm\n",
    "import statsmodels.api as sm\n",
    "from sktime.transformations.series.difference import Differencer\n",
    "from sktime.performance_metrics.forecasting import mean_absolute_error, MeanAbsoluteError\n",
    "from sktime.forecasting.var import VAR\n",
    "from data_protection_functions import *\n",
    "from data_processing_functions import *\n",
    "from forecasting_functions import *\n",
    "# nice time series plots\n",
    "from sktime.utils.plotting import plot_series\n",
    "from sktime.forecasting.model_selection import ForecastingGridSearchCV, ExpandingWindowSplitter, SlidingWindowSplitter\n",
    "from sktime.forecasting.compose import TransformedTargetForecaster"
   ]
  },
  {
   "cell_type": "code",
   "execution_count": 2,
   "id": "689e31f0",
   "metadata": {},
   "outputs": [],
   "source": [
    "# import weekly finance time series\n",
    "# ignore header and skip the first row to use integers as column names\n",
    "full_data = pd.read_csv(\"../../Data/Train/Clean/full_m3_monthly_micro_clean.csv\", header=None, skiprows=1)"
   ]
  },
  {
   "cell_type": "code",
   "execution_count": 3,
   "id": "3d1fb57d",
   "metadata": {},
   "outputs": [],
   "source": [
    "# convert to a list of series, potentially with different lengths\n",
    "full_data = [x.dropna() for _, x in full_data.iterrows()]"
   ]
  },
  {
   "cell_type": "markdown",
   "id": "e15a3d83",
   "metadata": {},
   "source": [
    "***"
   ]
  },
  {
   "cell_type": "code",
   "execution_count": 4,
   "id": "83970906",
   "metadata": {},
   "outputs": [],
   "source": [
    "# forecast horizon\n",
    "h = 1"
   ]
  },
  {
   "cell_type": "code",
   "execution_count": 5,
   "id": "28d276fb",
   "metadata": {},
   "outputs": [],
   "source": [
    "Y = [x.iloc[:-h] for x in full_data]\n",
    "Test = [x.iloc[-h:] for x in full_data]"
   ]
  },
  {
   "cell_type": "markdown",
   "id": "89c602a9",
   "metadata": {},
   "source": [
    "## Step 2: Apply Data Protection to Generate Protected Series"
   ]
  },
  {
   "cell_type": "code",
   "execution_count": 6,
   "id": "ae6ed46d",
   "metadata": {},
   "outputs": [],
   "source": [
    "Y_protected = apply_data_protection(Y, epsilon=1)"
   ]
  },
  {
   "cell_type": "markdown",
   "id": "0067768e",
   "metadata": {},
   "source": [
    "***"
   ]
  },
  {
   "cell_type": "markdown",
   "id": "782893dd",
   "metadata": {},
   "source": [
    "## Step 3: Pre-process the data."
   ]
  },
  {
   "cell_type": "code",
   "execution_count": 7,
   "id": "5f7f5b36",
   "metadata": {},
   "outputs": [],
   "source": [
    "Y_processed, Y_last_window, Y_last_window_trend, _, full_lags  = pre_process(ts_data=Y, \n",
    "                                                                  target_forecast_period=h,\n",
    "                                                                  log=True, \n",
    "                                                                  make_stationary=True, \n",
    "                                                                  sp=12)\n",
    "\n",
    "Y_protected_processed, Y_protected_last_window, Y_protected_last_window_trend, _, full_lags_protected = pre_process(ts_data=Y_protected, \n",
    "                                                                                               target_forecast_period=h,\n",
    "                                                                                               log=True,  \n",
    "                                                                                               make_stationary=True, \n",
    "                                                                                               sp=12)"
   ]
  },
  {
   "cell_type": "markdown",
   "id": "3fb67880",
   "metadata": {},
   "source": [
    "***"
   ]
  },
  {
   "cell_type": "code",
   "execution_count": 8,
   "id": "3b22629d",
   "metadata": {},
   "outputs": [],
   "source": [
    "# forecasts_original = post_process(full_ts_data=Y, \n",
    "#                                   forecasts=Y_processed, \n",
    "#                                   target_forecast_period=h,\n",
    "#                                   full_lags=full_lags,\n",
    "#                                   log=True,\n",
    "#                                   make_stationary=True,\n",
    "#                                   sp=12)"
   ]
  },
  {
   "cell_type": "markdown",
   "id": "b7c85a39",
   "metadata": {},
   "source": [
    "***"
   ]
  },
  {
   "cell_type": "markdown",
   "id": "3babf72d",
   "metadata": {},
   "source": [
    "***"
   ]
  },
  {
   "cell_type": "markdown",
   "id": "472b3121",
   "metadata": {},
   "source": [
    "## Step 4: Train Models and Generate Forecasts"
   ]
  },
  {
   "cell_type": "code",
   "execution_count": 9,
   "id": "02559de9",
   "metadata": {},
   "outputs": [],
   "source": [
    "# param_grid = {\"maxlags\": [10, 15, 20, 25, 30, 35, 40], \"trend\": [\"c\", \"ct\", \"ctt\", \"n\"]}\n",
    "# param_grid = {\"maxlags\": [10, 25, 40], \"trend\": [\"c\", \"n\"]}"
   ]
  },
  {
   "cell_type": "code",
   "execution_count": 10,
   "id": "5bb02d0b",
   "metadata": {},
   "outputs": [],
   "source": [
    "forecasts_original = train_and_forecast(ts_data=Y_processed,\n",
    "                                        horizon_length=h,\n",
    "                                        forecasting_model=\"VAR\")\n",
    "\n",
    "forecasts_protected = train_and_forecast(ts_data=Y_protected_processed,\n",
    "                                         horizon_length=h,\n",
    "                                         forecasting_model=\"VAR\")"
   ]
  },
  {
   "cell_type": "markdown",
   "id": "9fca71d1",
   "metadata": {},
   "source": [
    "***"
   ]
  },
  {
   "cell_type": "markdown",
   "id": "1b208b67",
   "metadata": {},
   "source": [
    "## Post Process the Forecasts"
   ]
  },
  {
   "cell_type": "code",
   "execution_count": 11,
   "id": "220ca573",
   "metadata": {},
   "outputs": [],
   "source": [
    "forecasts_original = post_process(full_ts_data=Y, \n",
    "                                  forecasts=forecasts_original, \n",
    "                                  target_forecast_period=h,\n",
    "                                  log=True,\n",
    "                                  make_stationary=True,\n",
    "                                  sp=12,\n",
    "                                  full_lags=full_lags)\n",
    "\n",
    "forecasts_protected = post_process(full_ts_data=Y_protected, \n",
    "                                   forecasts=forecasts_protected, \n",
    "                                   target_forecast_period=h,\n",
    "                                   log=True,\n",
    "                                   make_stationary=False,\n",
    "                                   sp=12,\n",
    "                                   full_lags=full_lags_protected)"
   ]
  },
  {
   "cell_type": "code",
   "execution_count": 12,
   "id": "b5f265ec",
   "metadata": {},
   "outputs": [
    {
     "data": {
      "text/html": [
       "<div>\n",
       "<style scoped>\n",
       "    .dataframe tbody tr th:only-of-type {\n",
       "        vertical-align: middle;\n",
       "    }\n",
       "\n",
       "    .dataframe tbody tr th {\n",
       "        vertical-align: top;\n",
       "    }\n",
       "\n",
       "    .dataframe thead th {\n",
       "        text-align: right;\n",
       "    }\n",
       "</style>\n",
       "<table border=\"1\" class=\"dataframe\">\n",
       "  <thead>\n",
       "    <tr style=\"text-align: right;\">\n",
       "      <th></th>\n",
       "      <th>0</th>\n",
       "      <th>1</th>\n",
       "      <th>2</th>\n",
       "      <th>3</th>\n",
       "      <th>4</th>\n",
       "      <th>5</th>\n",
       "      <th>6</th>\n",
       "      <th>7</th>\n",
       "      <th>8</th>\n",
       "      <th>9</th>\n",
       "      <th>...</th>\n",
       "      <th>464</th>\n",
       "      <th>465</th>\n",
       "      <th>466</th>\n",
       "      <th>467</th>\n",
       "      <th>468</th>\n",
       "      <th>469</th>\n",
       "      <th>470</th>\n",
       "      <th>471</th>\n",
       "      <th>472</th>\n",
       "      <th>473</th>\n",
       "    </tr>\n",
       "  </thead>\n",
       "  <tbody>\n",
       "    <tr>\n",
       "      <th>0</th>\n",
       "      <td>798.107469</td>\n",
       "      <td>3154.080207</td>\n",
       "      <td>4369.97244</td>\n",
       "      <td>6368.258517</td>\n",
       "      <td>8996.215254</td>\n",
       "      <td>328.838628</td>\n",
       "      <td>2804.273732</td>\n",
       "      <td>2649.00548</td>\n",
       "      <td>2617.154035</td>\n",
       "      <td>4247.259117</td>\n",
       "      <td>...</td>\n",
       "      <td>2403.334645</td>\n",
       "      <td>3822.946249</td>\n",
       "      <td>5070.454238</td>\n",
       "      <td>7166.416515</td>\n",
       "      <td>4839.675524</td>\n",
       "      <td>8002.019398</td>\n",
       "      <td>5174.22819</td>\n",
       "      <td>4054.280824</td>\n",
       "      <td>8233.050653</td>\n",
       "      <td>2685.604593</td>\n",
       "    </tr>\n",
       "  </tbody>\n",
       "</table>\n",
       "<p>1 rows × 474 columns</p>\n",
       "</div>"
      ],
      "text/plain": [
       "          0            1           2            3            4           5    \\\n",
       "0  798.107469  3154.080207  4369.97244  6368.258517  8996.215254  328.838628   \n",
       "\n",
       "           6           7            8            9    ...          464  \\\n",
       "0  2804.273732  2649.00548  2617.154035  4247.259117  ...  2403.334645   \n",
       "\n",
       "           465          466          467          468          469  \\\n",
       "0  3822.946249  5070.454238  7166.416515  4839.675524  8002.019398   \n",
       "\n",
       "          470          471          472          473  \n",
       "0  5174.22819  4054.280824  8233.050653  2685.604593  \n",
       "\n",
       "[1 rows x 474 columns]"
      ]
     },
     "execution_count": 12,
     "metadata": {},
     "output_type": "execute_result"
    }
   ],
   "source": [
    "forecasts_original"
   ]
  },
  {
   "cell_type": "code",
   "execution_count": 13,
   "id": "91be2915",
   "metadata": {},
   "outputs": [
    {
     "data": {
      "text/html": [
       "<div>\n",
       "<style scoped>\n",
       "    .dataframe tbody tr th:only-of-type {\n",
       "        vertical-align: middle;\n",
       "    }\n",
       "\n",
       "    .dataframe tbody tr th {\n",
       "        vertical-align: top;\n",
       "    }\n",
       "\n",
       "    .dataframe thead th {\n",
       "        text-align: right;\n",
       "    }\n",
       "</style>\n",
       "<table border=\"1\" class=\"dataframe\">\n",
       "  <thead>\n",
       "    <tr style=\"text-align: right;\">\n",
       "      <th></th>\n",
       "      <th>0</th>\n",
       "      <th>1</th>\n",
       "      <th>2</th>\n",
       "      <th>3</th>\n",
       "      <th>4</th>\n",
       "      <th>5</th>\n",
       "      <th>6</th>\n",
       "      <th>7</th>\n",
       "      <th>8</th>\n",
       "      <th>9</th>\n",
       "      <th>...</th>\n",
       "      <th>464</th>\n",
       "      <th>465</th>\n",
       "      <th>466</th>\n",
       "      <th>467</th>\n",
       "      <th>468</th>\n",
       "      <th>469</th>\n",
       "      <th>470</th>\n",
       "      <th>471</th>\n",
       "      <th>472</th>\n",
       "      <th>473</th>\n",
       "    </tr>\n",
       "  </thead>\n",
       "  <tbody>\n",
       "    <tr>\n",
       "      <th>0</th>\n",
       "      <td>224.496251</td>\n",
       "      <td>69.291683</td>\n",
       "      <td>669.906393</td>\n",
       "      <td>144.206388</td>\n",
       "      <td>495.973634</td>\n",
       "      <td>491.635122</td>\n",
       "      <td>83.945809</td>\n",
       "      <td>2428.250298</td>\n",
       "      <td>52.314552</td>\n",
       "      <td>403.605092</td>\n",
       "      <td>...</td>\n",
       "      <td>301.449377</td>\n",
       "      <td>11232.002376</td>\n",
       "      <td>565.822681</td>\n",
       "      <td>9973.00331</td>\n",
       "      <td>3325.556729</td>\n",
       "      <td>3151.765838</td>\n",
       "      <td>5245.194967</td>\n",
       "      <td>1853.321809</td>\n",
       "      <td>8138.153155</td>\n",
       "      <td>296.740819</td>\n",
       "    </tr>\n",
       "  </tbody>\n",
       "</table>\n",
       "<p>1 rows × 474 columns</p>\n",
       "</div>"
      ],
      "text/plain": [
       "          0          1           2           3           4           5    \\\n",
       "0  224.496251  69.291683  669.906393  144.206388  495.973634  491.635122   \n",
       "\n",
       "         6            7          8           9    ...         464  \\\n",
       "0  83.945809  2428.250298  52.314552  403.605092  ...  301.449377   \n",
       "\n",
       "            465         466         467          468          469  \\\n",
       "0  11232.002376  565.822681  9973.00331  3325.556729  3151.765838   \n",
       "\n",
       "           470          471          472         473  \n",
       "0  5245.194967  1853.321809  8138.153155  296.740819  \n",
       "\n",
       "[1 rows x 474 columns]"
      ]
     },
     "execution_count": 13,
     "metadata": {},
     "output_type": "execute_result"
    }
   ],
   "source": [
    "forecasts_protected"
   ]
  },
  {
   "cell_type": "code",
   "execution_count": 14,
   "id": "90cd97cd",
   "metadata": {},
   "outputs": [],
   "source": [
    "Test = pd.DataFrame([x.reset_index(drop=True) for x in Test]).T"
   ]
  },
  {
   "cell_type": "code",
   "execution_count": 15,
   "id": "c3318b28",
   "metadata": {},
   "outputs": [
    {
     "data": {
      "text/plain": [
       "753.1416838746653"
      ]
     },
     "execution_count": 15,
     "metadata": {},
     "output_type": "execute_result"
    }
   ],
   "source": [
    "mean_absolute_error(Test, forecasts_original)"
   ]
  },
  {
   "cell_type": "code",
   "execution_count": 16,
   "id": "b4f924a6",
   "metadata": {},
   "outputs": [
    {
     "data": {
      "text/plain": [
       "2839.318499290283"
      ]
     },
     "execution_count": 16,
     "metadata": {},
     "output_type": "execute_result"
    }
   ],
   "source": [
    "mean_absolute_error(Test, forecasts_protected)"
   ]
  },
  {
   "cell_type": "markdown",
   "id": "4758ffe9",
   "metadata": {},
   "source": [
    "***"
   ]
  }
 ],
 "metadata": {
  "kernelspec": {
   "display_name": "Python 3 (ipykernel)",
   "language": "python",
   "name": "python3"
  },
  "language_info": {
   "codemirror_mode": {
    "name": "ipython",
    "version": 3
   },
   "file_extension": ".py",
   "mimetype": "text/x-python",
   "name": "python",
   "nbconvert_exporter": "python",
   "pygments_lexer": "ipython3",
   "version": "3.9.7"
  }
 },
 "nbformat": 4,
 "nbformat_minor": 5
}
