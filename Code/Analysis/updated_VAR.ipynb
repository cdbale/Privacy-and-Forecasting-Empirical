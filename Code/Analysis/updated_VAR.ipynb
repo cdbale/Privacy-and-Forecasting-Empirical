{
 "cells": [
  {
   "cell_type": "markdown",
   "id": "9544259e",
   "metadata": {},
   "source": [
    "## Updated Code for Implementing VAR Model"
   ]
  },
  {
   "cell_type": "code",
   "execution_count": 86,
   "id": "789f365a",
   "metadata": {},
   "outputs": [],
   "source": [
    "# load modules\n",
    "import numpy as np\n",
    "import pandas as pd\n",
    "import pmdarima as pm\n",
    "import statsmodels.api as sm\n",
    "from sktime.transformations.series.difference import Differencer\n",
    "from sktime.performance_metrics.forecasting import mean_absolute_error, MeanAbsoluteError\n",
    "from sktime.forecasting.var import VAR\n",
    "from data_protection_functions import *\n",
    "from data_processing_functions import *\n",
    "from forecasting_functions import *\n",
    "# nice time series plots\n",
    "from sktime.utils.plotting import plot_series\n",
    "from sktime.forecasting.model_selection import ForecastingGridSearchCV, ExpandingWindowSplitter, SlidingWindowSplitter\n",
    "from sktime.forecasting.compose import TransformedTargetForecaster"
   ]
  },
  {
   "cell_type": "code",
   "execution_count": 87,
   "id": "689e31f0",
   "metadata": {},
   "outputs": [],
   "source": [
    "# import weekly finance time series\n",
    "# ignore header and skip the first row to use integers as column names\n",
    "full_data = pd.read_csv(\"../../Data/Train/Clean/full_m3_monthly_micro_clean.csv\", header=None, skiprows=1)"
   ]
  },
  {
   "cell_type": "code",
   "execution_count": 88,
   "id": "3d1fb57d",
   "metadata": {},
   "outputs": [],
   "source": [
    "# convert to a list of series, potentially with different lengths\n",
    "full_data = [x.dropna() for _, x in full_data.iterrows()]"
   ]
  },
  {
   "cell_type": "markdown",
   "id": "e15a3d83",
   "metadata": {},
   "source": [
    "***"
   ]
  },
  {
   "cell_type": "code",
   "execution_count": 4,
   "id": "83970906",
   "metadata": {},
   "outputs": [],
   "source": [
    "# forecast horizon\n",
    "h = 1"
   ]
  },
  {
   "cell_type": "code",
   "execution_count": 5,
   "id": "28d276fb",
   "metadata": {},
   "outputs": [],
   "source": [
    "Y = [x.iloc[:-h] for x in full_data]\n",
    "Test = [x.iloc[-h:] for x in full_data]"
   ]
  },
  {
   "cell_type": "markdown",
   "id": "89c602a9",
   "metadata": {},
   "source": [
    "## Step 2: Apply Data Protection to Generate Protected Series"
   ]
  },
  {
   "cell_type": "code",
   "execution_count": 6,
   "id": "ae6ed46d",
   "metadata": {},
   "outputs": [],
   "source": [
    "protection_method = \"Top_10\"\n",
    "Y_protected = apply_data_protection(Y, coding_type=\"Top\", coding_percentage=0.10)"
   ]
  },
  {
   "cell_type": "markdown",
   "id": "782893dd",
   "metadata": {},
   "source": [
    "## Step 3: Pre-process the data."
   ]
  },
  {
   "cell_type": "code",
   "execution_count": 7,
   "id": "5f7f5b36",
   "metadata": {},
   "outputs": [],
   "source": [
    "Y_processed, Y_last_window, Y_last_window_trend = pre_process(ts_data=Y, \n",
    "                                                              log=True, \n",
    "                                                              make_stationary=True, \n",
    "                                                              sp=12)\n",
    "Y_protected_processed, Y_protected_last_window, Y_protected_last_window_trend = pre_process(ts_data=Y_protected, \n",
    "                                                                                            log=True,  \n",
    "                                                                                            make_stationary=True, \n",
    "                                                                                            sp=12)"
   ]
  },
  {
   "cell_type": "markdown",
   "id": "472b3121",
   "metadata": {},
   "source": [
    "## Step 4: Train Models and Generate Forecasts"
   ]
  },
  {
   "cell_type": "code",
   "execution_count": 8,
   "id": "02559de9",
   "metadata": {},
   "outputs": [],
   "source": [
    "# param_grid = {\"maxlags\": [10, 15, 20, 25, 30, 35, 40], \"trend\": [\"c\", \"ct\", \"ctt\", \"n\"]}\n",
    "param_grid = {\"maxlags\": [10, 25, 40], \"trend\": [\"c\", \"n\"]}"
   ]
  },
  {
   "cell_type": "code",
   "execution_count": null,
   "id": "5fc78b4c",
   "metadata": {},
   "outputs": [],
   "source": []
  },
  {
   "cell_type": "code",
   "execution_count": 9,
   "id": "5bb02d0b",
   "metadata": {},
   "outputs": [
    {
     "name": "stdout",
     "output_type": "stream",
     "text": [
      "{'maxlags': 40, 'trend': 'n'}\n",
      "{'maxlags': 25, 'trend': 'c'}\n",
      "{'maxlags': 25, 'trend': 'c'}\n",
      "{'maxlags': 40, 'trend': 'n'}\n",
      "{'maxlags': 40, 'trend': 'c'}\n",
      "{'maxlags': 40, 'trend': 'n'}\n",
      "{'maxlags': 25, 'trend': 'c'}\n",
      "{'maxlags': 25, 'trend': 'c'}\n",
      "{'maxlags': 40, 'trend': 'n'}\n",
      "{'maxlags': 40, 'trend': 'c'}\n"
     ]
    }
   ],
   "source": [
    "forecasts_original = train_and_forecast(ts_data=Y_processed,\n",
    "                                        horizon_length=h,\n",
    "                                        forecasting_model=\"VAR\",\n",
    "                                        param_grid=param_grid,\n",
    "                                        protection_method=protection_method,\n",
    "                                        last_window=Y_last_window)\n",
    "\n",
    "forecasts_protected = train_and_forecast(ts_data=Y_protected_processed,\n",
    "                                         horizon_length=h,\n",
    "                                         forecasting_model=\"VAR\",\n",
    "                                         param_grid=param_grid,\n",
    "                                         protection_method=protection_method,\n",
    "                                         last_window=Y_protected_last_window)"
   ]
  },
  {
   "cell_type": "markdown",
   "id": "1b208b67",
   "metadata": {},
   "source": [
    "## Post Process the Forecasts"
   ]
  },
  {
   "cell_type": "code",
   "execution_count": 10,
   "id": "220ca573",
   "metadata": {},
   "outputs": [],
   "source": [
    "forecasts_original = post_process(full_ts_data=Y, \n",
    "                                  forecasts=forecasts_original, \n",
    "                                  last_window_with_trend=Y_last_window_trend,\n",
    "                                  log=True,\n",
    "                                  make_stationary=True,\n",
    "                                  sp=12)\n",
    "\n",
    "forecasts_protected = post_process(full_ts_data=Y_protected, \n",
    "                                   forecasts=forecasts_protected, \n",
    "                                   last_window_with_trend=Y_protected_last_window_trend,\n",
    "                                   log=True,\n",
    "                                   make_stationary=True,\n",
    "                                   sp=12)"
   ]
  },
  {
   "cell_type": "code",
   "execution_count": 11,
   "id": "b5f265ec",
   "metadata": {},
   "outputs": [
    {
     "data": {
      "text/html": [
       "<div>\n",
       "<style scoped>\n",
       "    .dataframe tbody tr th:only-of-type {\n",
       "        vertical-align: middle;\n",
       "    }\n",
       "\n",
       "    .dataframe tbody tr th {\n",
       "        vertical-align: top;\n",
       "    }\n",
       "\n",
       "    .dataframe thead th {\n",
       "        text-align: right;\n",
       "    }\n",
       "</style>\n",
       "<table border=\"1\" class=\"dataframe\">\n",
       "  <thead>\n",
       "    <tr style=\"text-align: right;\">\n",
       "      <th></th>\n",
       "      <th>0</th>\n",
       "      <th>1</th>\n",
       "      <th>2</th>\n",
       "      <th>3</th>\n",
       "      <th>4</th>\n",
       "      <th>5</th>\n",
       "      <th>6</th>\n",
       "      <th>7</th>\n",
       "      <th>8</th>\n",
       "      <th>9</th>\n",
       "      <th>...</th>\n",
       "      <th>464</th>\n",
       "      <th>465</th>\n",
       "      <th>466</th>\n",
       "      <th>467</th>\n",
       "      <th>468</th>\n",
       "      <th>469</th>\n",
       "      <th>470</th>\n",
       "      <th>471</th>\n",
       "      <th>472</th>\n",
       "      <th>473</th>\n",
       "    </tr>\n",
       "  </thead>\n",
       "  <tbody>\n",
       "    <tr>\n",
       "      <th>0</th>\n",
       "      <td>1412.002344</td>\n",
       "      <td>764.878538</td>\n",
       "      <td>4007.594888</td>\n",
       "      <td>5551.107254</td>\n",
       "      <td>5225.792988</td>\n",
       "      <td>2489.461665</td>\n",
       "      <td>4152.94807</td>\n",
       "      <td>1421.349483</td>\n",
       "      <td>4962.965708</td>\n",
       "      <td>4660.0698</td>\n",
       "      <td>...</td>\n",
       "      <td>2889.27726</td>\n",
       "      <td>4620.0</td>\n",
       "      <td>7000.0</td>\n",
       "      <td>8640.0</td>\n",
       "      <td>5196.370168</td>\n",
       "      <td>7420.0</td>\n",
       "      <td>5170.0</td>\n",
       "      <td>4820.0</td>\n",
       "      <td>8286.48946</td>\n",
       "      <td>7770.0</td>\n",
       "    </tr>\n",
       "  </tbody>\n",
       "</table>\n",
       "<p>1 rows × 474 columns</p>\n",
       "</div>"
      ],
      "text/plain": [
       "           0           1            2            3            4    \\\n",
       "0  1412.002344  764.878538  4007.594888  5551.107254  5225.792988   \n",
       "\n",
       "           5           6            7            8          9    ...  \\\n",
       "0  2489.461665  4152.94807  1421.349483  4962.965708  4660.0698  ...   \n",
       "\n",
       "          464     465     466     467          468     469     470     471  \\\n",
       "0  2889.27726  4620.0  7000.0  8640.0  5196.370168  7420.0  5170.0  4820.0   \n",
       "\n",
       "          472     473  \n",
       "0  8286.48946  7770.0  \n",
       "\n",
       "[1 rows x 474 columns]"
      ]
     },
     "execution_count": 11,
     "metadata": {},
     "output_type": "execute_result"
    }
   ],
   "source": [
    "forecasts_original"
   ]
  },
  {
   "cell_type": "code",
   "execution_count": 12,
   "id": "91be2915",
   "metadata": {},
   "outputs": [
    {
     "data": {
      "text/html": [
       "<div>\n",
       "<style scoped>\n",
       "    .dataframe tbody tr th:only-of-type {\n",
       "        vertical-align: middle;\n",
       "    }\n",
       "\n",
       "    .dataframe tbody tr th {\n",
       "        vertical-align: top;\n",
       "    }\n",
       "\n",
       "    .dataframe thead th {\n",
       "        text-align: right;\n",
       "    }\n",
       "</style>\n",
       "<table border=\"1\" class=\"dataframe\">\n",
       "  <thead>\n",
       "    <tr style=\"text-align: right;\">\n",
       "      <th></th>\n",
       "      <th>0</th>\n",
       "      <th>1</th>\n",
       "      <th>2</th>\n",
       "      <th>3</th>\n",
       "      <th>4</th>\n",
       "      <th>5</th>\n",
       "      <th>6</th>\n",
       "      <th>7</th>\n",
       "      <th>8</th>\n",
       "      <th>9</th>\n",
       "      <th>...</th>\n",
       "      <th>464</th>\n",
       "      <th>465</th>\n",
       "      <th>466</th>\n",
       "      <th>467</th>\n",
       "      <th>468</th>\n",
       "      <th>469</th>\n",
       "      <th>470</th>\n",
       "      <th>471</th>\n",
       "      <th>472</th>\n",
       "      <th>473</th>\n",
       "    </tr>\n",
       "  </thead>\n",
       "  <tbody>\n",
       "    <tr>\n",
       "      <th>0</th>\n",
       "      <td>1446.203762</td>\n",
       "      <td>747.665384</td>\n",
       "      <td>4104.666559</td>\n",
       "      <td>5409.085638</td>\n",
       "      <td>5352.371765</td>\n",
       "      <td>2385.575299</td>\n",
       "      <td>3721.847916</td>\n",
       "      <td>1259.46482</td>\n",
       "      <td>4871.802566</td>\n",
       "      <td>4579.534704</td>\n",
       "      <td>...</td>\n",
       "      <td>2695.120872</td>\n",
       "      <td>4620.0</td>\n",
       "      <td>7000.0</td>\n",
       "      <td>8296.0</td>\n",
       "      <td>4974.978245</td>\n",
       "      <td>7420.0</td>\n",
       "      <td>5170.0</td>\n",
       "      <td>4820.0</td>\n",
       "      <td>8245.323193</td>\n",
       "      <td>4135.0</td>\n",
       "    </tr>\n",
       "  </tbody>\n",
       "</table>\n",
       "<p>1 rows × 474 columns</p>\n",
       "</div>"
      ],
      "text/plain": [
       "           0           1            2            3            4    \\\n",
       "0  1446.203762  747.665384  4104.666559  5409.085638  5352.371765   \n",
       "\n",
       "           5            6           7            8            9    ...  \\\n",
       "0  2385.575299  3721.847916  1259.46482  4871.802566  4579.534704  ...   \n",
       "\n",
       "           464     465     466     467          468     469     470     471  \\\n",
       "0  2695.120872  4620.0  7000.0  8296.0  4974.978245  7420.0  5170.0  4820.0   \n",
       "\n",
       "           472     473  \n",
       "0  8245.323193  4135.0  \n",
       "\n",
       "[1 rows x 474 columns]"
      ]
     },
     "execution_count": 12,
     "metadata": {},
     "output_type": "execute_result"
    }
   ],
   "source": [
    "forecasts_protected"
   ]
  },
  {
   "cell_type": "code",
   "execution_count": 13,
   "id": "90cd97cd",
   "metadata": {},
   "outputs": [],
   "source": [
    "Test = pd.DataFrame([x.reset_index(drop=True) for x in Test]).T"
   ]
  },
  {
   "cell_type": "code",
   "execution_count": 14,
   "id": "c3318b28",
   "metadata": {},
   "outputs": [
    {
     "data": {
      "text/plain": [
       "{'Global MAPE': 0.4478,\n",
       " 'Global Protected MAPE': 0.4377,\n",
       " 'Global MAE': 1000.0351,\n",
       " 'Global Protected MAE': 952.1946,\n",
       " 'Global MdAE': 1000.0351,\n",
       " 'Global Protected MdAE': 952.1946,\n",
       " 'Original MAE Up': 809.9396,\n",
       " 'Protected MAE Up': 798.518,\n",
       " 'Original MAE Down': 1176.5175,\n",
       " 'Protected MAE Down': 990.6627,\n",
       " 'Original MdAE Up': 528.1477,\n",
       " 'Protected MdAE Up': 435.2355,\n",
       " 'Original MdAE Down': 730.0,\n",
       " 'Protected MdAE Down': 690.5352}"
      ]
     },
     "execution_count": 14,
     "metadata": {},
     "output_type": "execute_result"
    }
   ],
   "source": [
    "forecast_results(test_data=Test, original_forecasts=forecasts_original, protected_forecasts=forecasts_protected)"
   ]
  },
  {
   "cell_type": "markdown",
   "id": "4758ffe9",
   "metadata": {},
   "source": [
    "***"
   ]
  },
  {
   "cell_type": "code",
   "execution_count": 20,
   "id": "92c7087d",
   "metadata": {},
   "outputs": [],
   "source": [
    "param_grid = {\"maxlags\": [10, 25, 40], \"trend\": [\"c\", \"n\"]}"
   ]
  },
  {
   "cell_type": "code",
   "execution_count": 21,
   "id": "7c8ecd94",
   "metadata": {},
   "outputs": [
    {
     "name": "stdout",
     "output_type": "stream",
     "text": [
      "{'maxlags': 40, 'trend': 'n'}\n",
      "{'maxlags': 25, 'trend': 'c'}\n",
      "{'maxlags': 25, 'trend': 'c'}\n",
      "{'maxlags': 40, 'trend': 'n'}\n",
      "{'maxlags': 40, 'trend': 'c'}\n",
      "{'maxlags': 40, 'trend': 'n'}\n",
      "{'maxlags': 25, 'trend': 'c'}\n",
      "{'maxlags': 25, 'trend': 'c'}\n",
      "{'maxlags': 40, 'trend': 'n'}\n",
      "{'maxlags': 40, 'trend': 'c'}\n"
     ]
    },
    {
     "data": {
      "text/plain": [
       "{'Global MAPE': 0.4478,\n",
       " 'Global Protected MAPE': 0.4377,\n",
       " 'Global MAE': 1000.0351,\n",
       " 'Global Protected MAE': 952.1946,\n",
       " 'Global MdAE': 1000.0351,\n",
       " 'Global Protected MdAE': 952.1946,\n",
       " 'Original MAE Up': 809.9396,\n",
       " 'Protected MAE Up': 798.518,\n",
       " 'Original MAE Down': 1176.5175,\n",
       " 'Protected MAE Down': 990.6627,\n",
       " 'Original MdAE Up': 528.1477,\n",
       " 'Protected MdAE Up': 435.2355,\n",
       " 'Original MdAE Down': 730.0,\n",
       " 'Protected MdAE Down': 690.5352}"
      ]
     },
     "execution_count": 21,
     "metadata": {},
     "output_type": "execute_result"
    }
   ],
   "source": [
    "full_forecast_analysis(Y=Y,\n",
    "                       Y_protected=Y_protected,\n",
    "                       Test=Test,\n",
    "                       h=1,\n",
    "                       protection_method=protection_method,\n",
    "                       forecasting_model=\"VAR\",\n",
    "                       make_stationary=True,\n",
    "                       sp=12,\n",
    "                       log=True,\n",
    "                       param_grid=param_grid)"
   ]
  },
  {
   "cell_type": "code",
   "execution_count": null,
   "id": "e4748e37",
   "metadata": {},
   "outputs": [],
   "source": []
  }
 ],
 "metadata": {
  "kernelspec": {
   "display_name": "Python 3 (ipykernel)",
   "language": "python",
   "name": "python3"
  },
  "language_info": {
   "codemirror_mode": {
    "name": "ipython",
    "version": 3
   },
   "file_extension": ".py",
   "mimetype": "text/x-python",
   "name": "python",
   "nbconvert_exporter": "python",
   "pygments_lexer": "ipython3",
   "version": "3.9.7"
  }
 },
 "nbformat": 4,
 "nbformat_minor": 5
}
