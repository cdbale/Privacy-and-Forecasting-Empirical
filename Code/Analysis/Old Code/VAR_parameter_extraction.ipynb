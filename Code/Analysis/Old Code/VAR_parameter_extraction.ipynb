{
 "cells": [
  {
   "cell_type": "code",
   "execution_count": 131,
   "id": "6f96b18a",
   "metadata": {},
   "outputs": [],
   "source": [
    "from statsmodels.tsa.vector_ar.var_model import VAR\n",
    "\n",
    "# load modules\n",
    "import numpy as np\n",
    "import pandas as pd\n",
    "\n",
    "from data_protection_functions import *\n",
    "from data_processing_functions import *\n",
    "# from forecasting_functions import *\n",
    "\n",
    "# nice time series plots\n",
    "from sktime.utils.plotting import plot_series\n",
    "\n",
    "from sktime.performance_metrics.forecasting import mean_absolute_error"
   ]
  },
  {
   "cell_type": "markdown",
   "id": "aa03b044",
   "metadata": {},
   "source": [
    "***"
   ]
  },
  {
   "cell_type": "code",
   "execution_count": 132,
   "id": "38491d17",
   "metadata": {},
   "outputs": [],
   "source": [
    "# import weekly finance time series\n",
    "# ignore header and skip the first row to use integers as column names\n",
    "full_data = pd.read_csv(\"../../Data/Train/Clean/full_m3_monthly_micro_clean.csv\", header=None, skiprows=1)"
   ]
  },
  {
   "cell_type": "code",
   "execution_count": 133,
   "id": "77b60b18",
   "metadata": {},
   "outputs": [],
   "source": [
    "# convert to a list of series, potentially with different lengths\n",
    "full_data = [x.dropna() for _, x in full_data.iterrows()]"
   ]
  },
  {
   "cell_type": "code",
   "execution_count": 134,
   "id": "db94192a",
   "metadata": {},
   "outputs": [],
   "source": [
    "# forecast horizon\n",
    "h = 1"
   ]
  },
  {
   "cell_type": "code",
   "execution_count": 135,
   "id": "a09c7ad7",
   "metadata": {},
   "outputs": [],
   "source": [
    "Y = [x.iloc[:-h] for x in full_data]\n",
    "test = pd.read_csv(\"../../Outputs/Forecasts/Test_h1.csv\")"
   ]
  },
  {
   "cell_type": "markdown",
   "id": "c7bb75bd",
   "metadata": {},
   "source": [
    "***"
   ]
  },
  {
   "cell_type": "markdown",
   "id": "28e7e1bc",
   "metadata": {},
   "source": [
    "### Apply Data Protection"
   ]
  },
  {
   "cell_type": "code",
   "execution_count": 136,
   "id": "e7c9e754",
   "metadata": {},
   "outputs": [],
   "source": [
    "epsilons = [1]"
   ]
  },
  {
   "cell_type": "code",
   "execution_count": 137,
   "id": "d0cf7335",
   "metadata": {},
   "outputs": [],
   "source": [
    "eps = epsilons[0]\n",
    "Y_protected = apply_data_protection(Y, epsilon=eps)"
   ]
  },
  {
   "cell_type": "markdown",
   "id": "3969047d",
   "metadata": {},
   "source": [
    "***"
   ]
  },
  {
   "cell_type": "markdown",
   "id": "daee736a",
   "metadata": {},
   "source": [
    "### Extract A Subset of the Data"
   ]
  },
  {
   "cell_type": "code",
   "execution_count": 138,
   "id": "cd53da38",
   "metadata": {},
   "outputs": [],
   "source": [
    "Y = Y[:5]\n",
    "Y_protected = Y_protected[:5]"
   ]
  },
  {
   "cell_type": "markdown",
   "id": "6b368ab9",
   "metadata": {},
   "source": [
    "***"
   ]
  },
  {
   "cell_type": "markdown",
   "id": "3adbb698",
   "metadata": {},
   "source": [
    "### Pre-Process the Data"
   ]
  },
  {
   "cell_type": "code",
   "execution_count": 139,
   "id": "73f29bbc",
   "metadata": {},
   "outputs": [],
   "source": [
    "Y_processed, Y_last_window, Y_last_window_trend, _, full_lags = pre_process(ts_data=Y,\n",
    "                                                                            target_forecast_period=h,\n",
    "                                                                            log=True,\n",
    "                                                                            make_stationary=False,\n",
    "                                                                            sp=12)\n",
    "\n",
    "Y_protected_processed, Y_protected_last_window, Y_protected_last_window_trend, _, full_lags_protected = pre_process(ts_data=Y_protected,\n",
    "                                                                                                                    target_forecast_period=h,\n",
    "                                                                                                                    log=True,\n",
    "                                                                                                                    make_stationary=False,\n",
    "                                                                                                                    sp=12)"
   ]
  },
  {
   "cell_type": "markdown",
   "id": "fb087b86",
   "metadata": {},
   "source": [
    "### Train Models and Generate Forecasts"
   ]
  },
  {
   "cell_type": "code",
   "execution_count": 140,
   "id": "05acd79b",
   "metadata": {},
   "outputs": [],
   "source": [
    "def VAR_forecast(ts_data, h, param_grid, noisy_protection=False):\n",
    "    \n",
    "    intercept_list = []\n",
    "    lag_list = []\n",
    "    coef_list = []\n",
    "    fitted_list = []\n",
    "\n",
    "    # get the length of each series\n",
    "    lengths = [len(y) for y in ts_data]\n",
    "\n",
    "    # store the unique length values\n",
    "    unique_lengths = np.unique(lengths)\n",
    "\n",
    "    # store the forecasts in an array of all forecasts using the stored series indices\n",
    "    full_forecasts = np.zeros([len(ts_data), h])\n",
    "\n",
    "    for k, l in enumerate(unique_lengths):\n",
    "\n",
    "        # get the indexes of each series with the lth length\n",
    "        Y_ids = np.nonzero(lengths == l)[0]\n",
    "\n",
    "        split_ids = split(Y_ids, 5)\n",
    "\n",
    "        for i, j in enumerate(split_ids):\n",
    "                \n",
    "            # store series in a list\n",
    "            group = [ts_data[m].reset_index(drop=True) for m in j]\n",
    "\n",
    "            # convert list to TxK dataframe\n",
    "            group = pd.concat(group, axis=1, ignore_index=True)\n",
    "            \n",
    "            ####################################################\n",
    "            \n",
    "            forecaster = VAR(endog=group)\n",
    "            results = forecaster.fit()\n",
    "            \n",
    "            fitted = results.fittedvalues\n",
    "            fitted_list = fitted\n",
    "            \n",
    "            # extract intercept coefficients\n",
    "            intercepts = results.coefs_exog\n",
    "            intercept_list.append(intercepts)\n",
    "            \n",
    "            # extract lag coefficients\n",
    "            coefs = results.coefs\n",
    "            coef_list.append(coefs)\n",
    "            \n",
    "            # number of lags in VAR model\n",
    "            lag_order = results.k_ar\n",
    "            lag_list.append(lag_order)\n",
    "            \n",
    "            # forecast nfs steps ahead using lag_order prior values\n",
    "            y_pred = results.forecast(np.array(group[-lag_order:]), steps=h)\n",
    "            \n",
    "            # forecaster = VAR()\n",
    "            # forecaster.fit(group)\n",
    "            # y_pred = forecaster.predict(h)\n",
    "\n",
    "            # store forecasts in dataframe for all series\n",
    "            full_forecasts[j,:] = y_pred.T\n",
    "\n",
    "    full_forecasts = [pd.Series(full_forecasts[i,:]) for i in range(full_forecasts.shape[0])]\n",
    "\n",
    "    for i in range(len(full_forecasts)):\n",
    "        last_time = ts_data[i].index[-1]\n",
    "        full_forecasts[i].index = np.arange(last_time+1, last_time+1+h)\n",
    "\n",
    "    return full_forecasts, intercept_list, lag_list, coef_list, fitted_list"
   ]
  },
  {
   "cell_type": "code",
   "execution_count": 141,
   "id": "802b679c",
   "metadata": {},
   "outputs": [],
   "source": [
    "forecasts_original, orig_intercepts, orig_lags, orig_coefs, orig_fitted = VAR_forecast(Y_processed, h=1, param_grid=None)"
   ]
  },
  {
   "cell_type": "code",
   "execution_count": 142,
   "id": "60b68888",
   "metadata": {},
   "outputs": [],
   "source": [
    "forecasts_protected, protected_intercepts, protected_lags, protected_coefs, protected_fitted = VAR_forecast(Y_protected_processed, h=1, param_grid=None)"
   ]
  },
  {
   "cell_type": "markdown",
   "id": "3925c567",
   "metadata": {},
   "source": [
    "### Post-process Forecasts"
   ]
  },
  {
   "cell_type": "code",
   "execution_count": 143,
   "id": "79d0814d",
   "metadata": {},
   "outputs": [],
   "source": [
    "forecasts_original = post_process(full_ts_data=Y, \n",
    "                                  forecasts=forecasts_original, \n",
    "                                  target_forecast_period=h,\n",
    "                                  log=True,\n",
    "                                  make_stationary=False,\n",
    "                                  sp=12,\n",
    "                                  full_lags=full_lags)\n",
    "\n",
    "forecasts_protected = post_process(full_ts_data=Y_protected, \n",
    "                                   forecasts=forecasts_protected, \n",
    "                                   target_forecast_period=h,\n",
    "                                   log=True,\n",
    "                                   make_stationary=False,\n",
    "                                   sp=12,\n",
    "                                   full_lags=full_lags_protected)"
   ]
  },
  {
   "cell_type": "markdown",
   "id": "10107b77",
   "metadata": {},
   "source": [
    "### Calculate Errors"
   ]
  },
  {
   "cell_type": "code",
   "execution_count": 144,
   "id": "99f1d738",
   "metadata": {},
   "outputs": [
    {
     "data": {
      "text/plain": [
       "908.8075071489199"
      ]
     },
     "execution_count": 144,
     "metadata": {},
     "output_type": "execute_result"
    }
   ],
   "source": [
    "mean_absolute_error(forecasts_original, test.iloc[:,:5])"
   ]
  },
  {
   "cell_type": "code",
   "execution_count": 145,
   "id": "22ac8935",
   "metadata": {},
   "outputs": [
    {
     "data": {
      "text/plain": [
       "3998.5449032339266"
      ]
     },
     "execution_count": 145,
     "metadata": {},
     "output_type": "execute_result"
    }
   ],
   "source": [
    "mean_absolute_error(forecasts_protected, test.iloc[:,:5])"
   ]
  },
  {
   "cell_type": "markdown",
   "id": "5998a1a1",
   "metadata": {},
   "source": [
    "### Perform Analysis for Range of Epsilon Values"
   ]
  },
  {
   "cell_type": "code",
   "execution_count": 146,
   "id": "1b6d7d74",
   "metadata": {},
   "outputs": [],
   "source": [
    "epsilons = [0.1, 1, 4.6, 10, 20]"
   ]
  },
  {
   "cell_type": "code",
   "execution_count": 147,
   "id": "fd729ffb",
   "metadata": {},
   "outputs": [],
   "source": [
    "protected_intercepts_dict = {}\n",
    "protected_lags_dict = {}\n",
    "protected_coefs_dict = {}\n",
    "num_diffs_dict = {}\n",
    "fitted_dict = {}\n",
    "\n",
    "for eps in epsilons:\n",
    "    \n",
    "    # protect the data using the current epsilon\n",
    "    Y_protected = apply_data_protection(Y, epsilon=eps)\n",
    "    \n",
    "    # extract first five protected series\n",
    "    Y_protected = Y_protected[:5]\n",
    "    \n",
    "    Y_protected_processed, Y_protected_last_window, Y_protected_last_window_trend, _, full_lags_protected = pre_process(ts_data=Y_protected,\n",
    "                                                                                                                        target_forecast_period=h,\n",
    "                                                                                                                        log=True,\n",
    "                                                                                                                        make_stationary=False,\n",
    "                                                                                                                        sp=12)\n",
    "    \n",
    "    forecasts_protected, protected_intercepts, protected_lags, protected_coefs, protected_fitted = VAR_forecast(Y_protected_processed, h=1, param_grid=None)\n",
    "    \n",
    "    forecasts_protected = post_process(full_ts_data=Y_protected, \n",
    "                                       forecasts=forecasts_protected, \n",
    "                                       target_forecast_period=h,\n",
    "                                       log=True,\n",
    "                                       make_stationary=False,\n",
    "                                       sp=12,\n",
    "                                       full_lags=full_lags_protected)\n",
    "    \n",
    "    num_diffs_dict[str(eps)] = full_lags_protected\n",
    "    protected_intercepts_dict[str(eps)] = protected_intercepts\n",
    "    protected_lags_dict[str(eps)] = protected_lags\n",
    "    protected_coefs_dict[str(eps)] = protected_coefs\n",
    "    fitted_dict[str(eps)] = protected_fitted"
   ]
  },
  {
   "cell_type": "code",
   "execution_count": 148,
   "id": "3adcbee9",
   "metadata": {},
   "outputs": [],
   "source": [
    "num_diffs_dict['orig'] = full_lags"
   ]
  },
  {
   "cell_type": "code",
   "execution_count": 149,
   "id": "bfb3c02f",
   "metadata": {},
   "outputs": [
    {
     "data": {
      "text/plain": [
       "{'0.1': None, '1': None, '4.6': None, '10': None, '20': None, 'orig': None}"
      ]
     },
     "execution_count": 149,
     "metadata": {},
     "output_type": "execute_result"
    }
   ],
   "source": [
    "num_diffs_dict"
   ]
  },
  {
   "cell_type": "code",
   "execution_count": 150,
   "id": "2d50d5ac",
   "metadata": {},
   "outputs": [],
   "source": [
    "protected_coefs_dict['orig'] = orig_coefs"
   ]
  },
  {
   "cell_type": "code",
   "execution_count": 151,
   "id": "66dde0c0",
   "metadata": {},
   "outputs": [],
   "source": [
    "protected_intercepts_dict['orig'] = orig_intercepts"
   ]
  },
  {
   "cell_type": "code",
   "execution_count": 152,
   "id": "cdc4b779",
   "metadata": {},
   "outputs": [],
   "source": [
    "fitted_dict['orig'] = orig_fitted"
   ]
  },
  {
   "cell_type": "markdown",
   "id": "18ecf075",
   "metadata": {},
   "source": [
    "### Save Values"
   ]
  },
  {
   "cell_type": "markdown",
   "id": "5690d9aa",
   "metadata": {},
   "source": [
    "The number of first differences taken for each series."
   ]
  },
  {
   "cell_type": "code",
   "execution_count": 153,
   "id": "88f17ee8",
   "metadata": {},
   "outputs": [
    {
     "ename": "TypeError",
     "evalue": "'NoneType' object is not subscriptable",
     "output_type": "error",
     "traceback": [
      "\u001b[1;31m---------------------------------------------------------------------------\u001b[0m",
      "\u001b[1;31mTypeError\u001b[0m                                 Traceback (most recent call last)",
      "\u001b[1;32m~\\AppData\\Local\\Temp/ipykernel_18084/3836849515.py\u001b[0m in \u001b[0;36m<module>\u001b[1;34m\u001b[0m\n\u001b[1;32m----> 1\u001b[1;33m \u001b[1;33m[\u001b[0m\u001b[0mx\u001b[0m\u001b[1;33m[\u001b[0m\u001b[1;36m1\u001b[0m\u001b[1;33m]\u001b[0m\u001b[1;33m[\u001b[0m\u001b[1;34m'0'\u001b[0m\u001b[1;33m]\u001b[0m\u001b[1;33m[\u001b[0m\u001b[1;36m0\u001b[0m\u001b[1;33m]\u001b[0m \u001b[1;32mfor\u001b[0m \u001b[0mx\u001b[0m \u001b[1;32min\u001b[0m \u001b[0mnum_diffs_dict\u001b[0m\u001b[1;33m.\u001b[0m\u001b[0mitems\u001b[0m\u001b[1;33m(\u001b[0m\u001b[1;33m)\u001b[0m\u001b[1;33m]\u001b[0m\u001b[1;33m\u001b[0m\u001b[1;33m\u001b[0m\u001b[0m\n\u001b[0m",
      "\u001b[1;32m~\\AppData\\Local\\Temp/ipykernel_18084/3836849515.py\u001b[0m in \u001b[0;36m<listcomp>\u001b[1;34m(.0)\u001b[0m\n\u001b[1;32m----> 1\u001b[1;33m \u001b[1;33m[\u001b[0m\u001b[0mx\u001b[0m\u001b[1;33m[\u001b[0m\u001b[1;36m1\u001b[0m\u001b[1;33m]\u001b[0m\u001b[1;33m[\u001b[0m\u001b[1;34m'0'\u001b[0m\u001b[1;33m]\u001b[0m\u001b[1;33m[\u001b[0m\u001b[1;36m0\u001b[0m\u001b[1;33m]\u001b[0m \u001b[1;32mfor\u001b[0m \u001b[0mx\u001b[0m \u001b[1;32min\u001b[0m \u001b[0mnum_diffs_dict\u001b[0m\u001b[1;33m.\u001b[0m\u001b[0mitems\u001b[0m\u001b[1;33m(\u001b[0m\u001b[1;33m)\u001b[0m\u001b[1;33m]\u001b[0m\u001b[1;33m\u001b[0m\u001b[1;33m\u001b[0m\u001b[0m\n\u001b[0m",
      "\u001b[1;31mTypeError\u001b[0m: 'NoneType' object is not subscriptable"
     ]
    }
   ],
   "source": [
    "[x[1]['0'][0] for x in num_diffs_dict.items()]"
   ]
  },
  {
   "cell_type": "code",
   "execution_count": 154,
   "id": "3568083a",
   "metadata": {},
   "outputs": [],
   "source": [
    "fitted = [x[1] for x in fitted_dict.items()]"
   ]
  },
  {
   "cell_type": "code",
   "execution_count": 155,
   "id": "0e3db41f",
   "metadata": {},
   "outputs": [],
   "source": [
    "fitted = pd.concat(fitted, keys=['0.1', '1', '4.6', '10', '20', 'Original']).reset_index()"
   ]
  },
  {
   "cell_type": "code",
   "execution_count": 156,
   "id": "47a36885",
   "metadata": {},
   "outputs": [],
   "source": [
    "fitted = fitted.iloc[:, [0, 2, 3, 4, 5, 6]]"
   ]
  },
  {
   "cell_type": "code",
   "execution_count": 158,
   "id": "d81cc42e",
   "metadata": {},
   "outputs": [],
   "source": [
    "fitted.to_csv(\"../../Outputs/Tables/var_fitted_vals.csv\", index=False)"
   ]
  },
  {
   "cell_type": "code",
   "execution_count": 160,
   "id": "c2474380",
   "metadata": {},
   "outputs": [],
   "source": [
    "coefs_df = pd.concat([pd.DataFrame(i[1][0][0,:].T) for i in protected_coefs_dict.items()], axis=1)\n",
    "coefs_df.to_csv(\"../../Outputs/Tables/var_coefs_dp.csv\", index=False)"
   ]
  },
  {
   "cell_type": "code",
   "execution_count": 162,
   "id": "40f99183",
   "metadata": {},
   "outputs": [],
   "source": [
    "ints_df = pd.concat([pd.DataFrame(i[1][0]) for i in protected_intercepts_dict.items()], axis=1)\n",
    "ints_df.to_csv(\"../../Outputs/Tables/var_ints_dp.csv\", index=False)"
   ]
  },
  {
   "cell_type": "code",
   "execution_count": null,
   "id": "dee7ca9a",
   "metadata": {},
   "outputs": [],
   "source": []
  }
 ],
 "metadata": {
  "kernelspec": {
   "display_name": "Python 3 (ipykernel)",
   "language": "python",
   "name": "python3"
  },
  "language_info": {
   "codemirror_mode": {
    "name": "ipython",
    "version": 3
   },
   "file_extension": ".py",
   "mimetype": "text/x-python",
   "name": "python",
   "nbconvert_exporter": "python",
   "pygments_lexer": "ipython3",
   "version": "3.9.7"
  }
 },
 "nbformat": 4,
 "nbformat_minor": 5
}
