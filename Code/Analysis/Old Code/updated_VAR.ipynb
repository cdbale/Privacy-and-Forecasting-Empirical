{
 "cells": [
  {
   "cell_type": "markdown",
   "id": "9544259e",
   "metadata": {},
   "source": [
    "## Updated Code for Implementing VAR Model"
   ]
  },
  {
   "cell_type": "markdown",
   "id": "2a251c60",
   "metadata": {},
   "source": [
    "We are going to extract time series features and cluster series based on their feature values. We use the bisection k-means algorithm as it tends to produce clusters of similar size, and we can specify the number of clusters prior. E.g., we can pick a cluster number that leads to VAR models that are estimatable."
   ]
  },
  {
   "cell_type": "code",
   "execution_count": 1,
   "id": "789f365a",
   "metadata": {},
   "outputs": [],
   "source": [
    "# load modules\n",
    "import numpy as np\n",
    "import pandas as pd\n",
    "import pmdarima as pm\n",
    "import statsmodels.api as sm\n",
    "from sktime.transformations.series.difference import Differencer\n",
    "from sktime.performance_metrics.forecasting import mean_absolute_error, MeanAbsoluteError\n",
    "from sktime.forecasting.var import VAR\n",
    "from data_protection_functions import *\n",
    "from data_processing_functions import *\n",
    "from forecasting_functions import *\n",
    "# nice time series plots\n",
    "from sktime.utils.plotting import plot_series\n",
    "from sktime.forecasting.model_selection import ForecastingGridSearchCV, ExpandingWindowSplitter, SlidingWindowSplitter\n",
    "from sktime.forecasting.compose import TransformedTargetForecaster"
   ]
  },
  {
   "cell_type": "code",
   "execution_count": 2,
   "id": "689e31f0",
   "metadata": {},
   "outputs": [],
   "source": [
    "# import weekly finance time series\n",
    "# ignore header and skip the first row to use integers as column names\n",
    "full_data = pd.read_csv(\"../../Data/Train/Clean/full_m3_monthly_micro_clean.csv\", header=None, skiprows=1)"
   ]
  },
  {
   "cell_type": "code",
   "execution_count": 3,
   "id": "3d1fb57d",
   "metadata": {},
   "outputs": [],
   "source": [
    "# convert to a list of series, potentially with different lengths\n",
    "full_data = [x.dropna() for _, x in full_data.iterrows()]"
   ]
  },
  {
   "cell_type": "markdown",
   "id": "e15a3d83",
   "metadata": {},
   "source": [
    "***"
   ]
  },
  {
   "cell_type": "code",
   "execution_count": 4,
   "id": "83970906",
   "metadata": {},
   "outputs": [],
   "source": [
    "# forecast horizon\n",
    "h = 1"
   ]
  },
  {
   "cell_type": "code",
   "execution_count": 5,
   "id": "28d276fb",
   "metadata": {},
   "outputs": [],
   "source": [
    "Y = [x.iloc[:-h] for x in full_data]\n",
    "Test = [x.iloc[-h:] for x in full_data]"
   ]
  },
  {
   "cell_type": "code",
   "execution_count": 6,
   "id": "90cd97cd",
   "metadata": {},
   "outputs": [],
   "source": [
    "Test = pd.DataFrame([x.reset_index(drop=True) for x in Test]).T"
   ]
  },
  {
   "cell_type": "markdown",
   "id": "aca3b3dc",
   "metadata": {},
   "source": [
    "***"
   ]
  },
  {
   "cell_type": "markdown",
   "id": "0d78b3c4",
   "metadata": {},
   "source": [
    "Apply clustering to each length of series."
   ]
  },
  {
   "cell_type": "markdown",
   "id": "573701db",
   "metadata": {},
   "source": [
    "Import the original time series features."
   ]
  },
  {
   "cell_type": "code",
   "execution_count": 7,
   "id": "b2083bd1",
   "metadata": {},
   "outputs": [],
   "source": [
    "feats = pd.read_csv(\"../../Data/Train/Clean/tsfeatures/tsfeatures_h1.csv\")"
   ]
  },
  {
   "cell_type": "code",
   "execution_count": 8,
   "id": "a7689811",
   "metadata": {},
   "outputs": [],
   "source": [
    "feats = feats.drop([\"nperiods\", \"seasonal_period\", \"spike\", \"linearity\", \"curvature\", \"e_acf10\",\n",
    "                    \"peak\", \"trough\"], axis=1)"
   ]
  },
  {
   "cell_type": "code",
   "execution_count": 9,
   "id": "bb137f80",
   "metadata": {},
   "outputs": [],
   "source": [
    "series_lengths = [len(y) for y in Y]"
   ]
  },
  {
   "cell_type": "code",
   "execution_count": 10,
   "id": "d4e21d9c",
   "metadata": {},
   "outputs": [],
   "source": [
    "unique_lengths = np.unique(series_lengths)"
   ]
  },
  {
   "cell_type": "code",
   "execution_count": 76,
   "id": "21112b07",
   "metadata": {},
   "outputs": [],
   "source": [
    "length = unique_lengths[1]"
   ]
  },
  {
   "cell_type": "code",
   "execution_count": 77,
   "id": "2720fe43",
   "metadata": {},
   "outputs": [],
   "source": [
    "tsd = [Y[i] for i,l in enumerate(series_lengths) if l == length]\n",
    "tsi = [i for i,l in enumerate(series_lengths) if l == length]"
   ]
  },
  {
   "cell_type": "code",
   "execution_count": 78,
   "id": "b7f2c0d6",
   "metadata": {},
   "outputs": [],
   "source": [
    "f = feats.iloc[tsi]"
   ]
  },
  {
   "cell_type": "code",
   "execution_count": 79,
   "id": "b46e55c7",
   "metadata": {},
   "outputs": [],
   "source": [
    "from sklearn.preprocessing import StandardScaler"
   ]
  },
  {
   "cell_type": "code",
   "execution_count": 80,
   "id": "235ca64d",
   "metadata": {},
   "outputs": [],
   "source": [
    "scaler = StandardScaler()"
   ]
  },
  {
   "cell_type": "code",
   "execution_count": 81,
   "id": "58e0e660",
   "metadata": {},
   "outputs": [],
   "source": [
    "f_scaled = scaler.fit_transform(f)"
   ]
  },
  {
   "cell_type": "code",
   "execution_count": 82,
   "id": "18b6fbc9",
   "metadata": {},
   "outputs": [],
   "source": [
    "from sklearn.cluster import BisectingKMeans"
   ]
  },
  {
   "cell_type": "code",
   "execution_count": 96,
   "id": "34701eb0",
   "metadata": {},
   "outputs": [
    {
     "name": "stderr",
     "output_type": "stream",
     "text": [
      "C:\\Users\\Cameron\\anaconda3\\lib\\site-packages\\sklearn\\cluster\\_bisect_k_means.py:259: UserWarning: BisectingKMeans is known to have a memory leak on Windows with MKL, when there are less chunks than available threads. You can avoid it by setting the environment variable OMP_NUM_THREADS=2.\n",
      "  warnings.warn(\n"
     ]
    }
   ],
   "source": [
    "bisect_means = BisectingKMeans(n_clusters=int(np.ceil(len(tsd)/8)), n_init=20, bisecting_strategy=\"largest_cluster\").fit(f_scaled)"
   ]
  },
  {
   "cell_type": "code",
   "execution_count": 97,
   "id": "c4cd8863",
   "metadata": {},
   "outputs": [],
   "source": [
    "cluster_ids, counts = np.unique(bisect_means.labels_, return_counts=True)"
   ]
  },
  {
   "cell_type": "code",
   "execution_count": 98,
   "id": "5e278060",
   "metadata": {},
   "outputs": [
    {
     "data": {
      "text/plain": [
       "1"
      ]
     },
     "execution_count": 98,
     "metadata": {},
     "output_type": "execute_result"
    }
   ],
   "source": [
    "np.sum(counts==1)"
   ]
  },
  {
   "cell_type": "markdown",
   "id": "87f1b590",
   "metadata": {},
   "source": [
    "So now we have the cluster assignments for the series. Apply differencing and forecast for each cluster."
   ]
  },
  {
   "cell_type": "code",
   "execution_count": 210,
   "id": "0c8f5683",
   "metadata": {},
   "outputs": [],
   "source": [
    "ids = [i for i,j in enumerate(bisect_means.labels_) if j == cluster_ids[2]]"
   ]
  },
  {
   "cell_type": "code",
   "execution_count": 211,
   "id": "7362aa98",
   "metadata": {},
   "outputs": [],
   "source": [
    "series = [tsd[i] for i,j in enumerate(bisect_means.labels_) if j == cluster_ids[2]]"
   ]
  },
  {
   "cell_type": "markdown",
   "id": "9960a1d6",
   "metadata": {},
   "source": [
    "***"
   ]
  },
  {
   "cell_type": "markdown",
   "id": "89c602a9",
   "metadata": {},
   "source": [
    "## Step 2: Apply Data Protection to Generate Protected Series"
   ]
  },
  {
   "cell_type": "code",
   "execution_count": 212,
   "id": "ae6ed46d",
   "metadata": {},
   "outputs": [],
   "source": [
    "Y_protected = apply_data_protection(Y, epsilon=20)"
   ]
  },
  {
   "cell_type": "markdown",
   "id": "0067768e",
   "metadata": {},
   "source": [
    "***"
   ]
  },
  {
   "cell_type": "markdown",
   "id": "782893dd",
   "metadata": {},
   "source": [
    "## Step 3: Pre-process the data."
   ]
  },
  {
   "cell_type": "code",
   "execution_count": 213,
   "id": "5f7f5b36",
   "metadata": {},
   "outputs": [],
   "source": [
    "Y_processed, _, _, _  = pre_process(ts_data=series, \n",
    "                                    target_forecast_period=h,\n",
    "                                    log=True, \n",
    "                                    make_stationary=True)\n",
    "\n",
    "# Y_protected_processed, Y_protected_last_window, Y_protected_last_window_trend, _, full_lags_protected = pre_process(ts_data=Y_protected, \n",
    "#                                                                                                target_forecast_period=h,\n",
    "#                                                                                                log=True,  \n",
    "#                                                                                                make_stationary=True, \n",
    "#                                                                                                sp=12)"
   ]
  },
  {
   "cell_type": "markdown",
   "id": "3fb67880",
   "metadata": {},
   "source": [
    "***"
   ]
  },
  {
   "cell_type": "code",
   "execution_count": 214,
   "id": "3b22629d",
   "metadata": {},
   "outputs": [],
   "source": [
    "# forecasts_original = post_process(full_ts_data=series, \n",
    "#                                   forecasts=Y_processed, \n",
    "#                                   target_forecast_period=h,\n",
    "#                                   log=True,\n",
    "#                                   make_stationary=True)"
   ]
  },
  {
   "cell_type": "markdown",
   "id": "b7c85a39",
   "metadata": {},
   "source": [
    "***"
   ]
  },
  {
   "cell_type": "markdown",
   "id": "3babf72d",
   "metadata": {},
   "source": [
    "***"
   ]
  },
  {
   "cell_type": "markdown",
   "id": "472b3121",
   "metadata": {},
   "source": [
    "## Step 4: Train Models and Generate Forecasts"
   ]
  },
  {
   "cell_type": "code",
   "execution_count": 215,
   "id": "bd6a7d63",
   "metadata": {},
   "outputs": [],
   "source": [
    "from statsmodels.tsa.vector_ar.var_model import VAR"
   ]
  },
  {
   "cell_type": "code",
   "execution_count": 216,
   "id": "9a2d083b",
   "metadata": {},
   "outputs": [],
   "source": [
    "D = pd.concat(Y_processed, axis=1, ignore_index=True)"
   ]
  },
  {
   "cell_type": "code",
   "execution_count": 217,
   "id": "76d416a5",
   "metadata": {},
   "outputs": [],
   "source": [
    "var_mod = VAR(D)"
   ]
  },
  {
   "cell_type": "code",
   "execution_count": 218,
   "id": "c231c7fc",
   "metadata": {},
   "outputs": [],
   "source": [
    "var_results = var_mod.fit(ic='bic', trend='c')"
   ]
  },
  {
   "cell_type": "code",
   "execution_count": 219,
   "id": "0de3e16a",
   "metadata": {},
   "outputs": [
    {
     "data": {
      "text/plain": [
       "  Summary of Regression Results   \n",
       "==================================\n",
       "Model:                         VAR\n",
       "Method:                        OLS\n",
       "Date:           Wed, 12, Oct, 2022\n",
       "Time:                     14:42:53\n",
       "--------------------------------------------------------------------\n",
       "No. of Equations:         11.0000    BIC:                   -24.2628\n",
       "Nobs:                     66.0000    HQIC:                  -24.4835\n",
       "Log likelihood:          -206.434    FPE:                2.01519e-11\n",
       "AIC:                     -24.6277    Det(Omega_mle):     1.70796e-11\n",
       "--------------------------------------------------------------------\n",
       "Results for equation 0\n",
       "========================================================================\n",
       "           coefficient       std. error           t-stat            prob\n",
       "------------------------------------------------------------------------\n",
       "const        -0.010119         0.038810           -0.261           0.794\n",
       "========================================================================\n",
       "\n",
       "Results for equation 1\n",
       "========================================================================\n",
       "           coefficient       std. error           t-stat            prob\n",
       "------------------------------------------------------------------------\n",
       "const        -0.007574         0.042415           -0.179           0.858\n",
       "========================================================================\n",
       "\n",
       "Results for equation 2\n",
       "========================================================================\n",
       "           coefficient       std. error           t-stat            prob\n",
       "------------------------------------------------------------------------\n",
       "const        -0.012273         0.045449           -0.270           0.787\n",
       "========================================================================\n",
       "\n",
       "Results for equation 3\n",
       "========================================================================\n",
       "           coefficient       std. error           t-stat            prob\n",
       "------------------------------------------------------------------------\n",
       "const        -0.014542         0.049077           -0.296           0.767\n",
       "========================================================================\n",
       "\n",
       "Results for equation 4\n",
       "========================================================================\n",
       "           coefficient       std. error           t-stat            prob\n",
       "------------------------------------------------------------------------\n",
       "const        -0.009406         0.066565           -0.141           0.888\n",
       "========================================================================\n",
       "\n",
       "Results for equation 5\n",
       "========================================================================\n",
       "           coefficient       std. error           t-stat            prob\n",
       "------------------------------------------------------------------------\n",
       "const        -0.013543         0.040421           -0.335           0.738\n",
       "========================================================================\n",
       "\n",
       "Results for equation 6\n",
       "========================================================================\n",
       "           coefficient       std. error           t-stat            prob\n",
       "------------------------------------------------------------------------\n",
       "const        -0.006640         0.035219           -0.189           0.850\n",
       "========================================================================\n",
       "\n",
       "Results for equation 7\n",
       "========================================================================\n",
       "           coefficient       std. error           t-stat            prob\n",
       "------------------------------------------------------------------------\n",
       "const        -0.011746         0.042891           -0.274           0.784\n",
       "========================================================================\n",
       "\n",
       "Results for equation 8\n",
       "========================================================================\n",
       "           coefficient       std. error           t-stat            prob\n",
       "------------------------------------------------------------------------\n",
       "const        -0.007194         0.034557           -0.208           0.835\n",
       "========================================================================\n",
       "\n",
       "Results for equation 9\n",
       "========================================================================\n",
       "           coefficient       std. error           t-stat            prob\n",
       "------------------------------------------------------------------------\n",
       "const        -0.008711         0.060239           -0.145           0.885\n",
       "========================================================================\n",
       "\n",
       "Results for equation 10\n",
       "========================================================================\n",
       "           coefficient       std. error           t-stat            prob\n",
       "------------------------------------------------------------------------\n",
       "const        -0.006824         0.059888           -0.114           0.909\n",
       "========================================================================\n",
       "\n",
       "Correlation matrix of residuals\n",
       "             0         1         2         3         4         5         6         7         8         9        10\n",
       "0     1.000000  0.361942  0.382321  0.234527  0.017516  0.329740 -0.100822 -0.048964  0.177581 -0.061426  0.236641\n",
       "1     0.361942  1.000000  0.242718  0.261311  0.081164  0.341184  0.327671  0.118553  0.399276  0.317237  0.324271\n",
       "2     0.382321  0.242718  1.000000  0.393768  0.358301  0.418578  0.014296  0.099876  0.107454  0.081314  0.142251\n",
       "3     0.234527  0.261311  0.393768  1.000000  0.413562  0.268090 -0.002541  0.075288  0.164831  0.196922  0.152751\n",
       "4     0.017516  0.081164  0.358301  0.413562  1.000000  0.146615  0.208458  0.465272  0.148460  0.120164  0.030321\n",
       "5     0.329740  0.341184  0.418578  0.268090  0.146615  1.000000  0.036004  0.177762  0.212809  0.142982  0.312253\n",
       "6    -0.100822  0.327671  0.014296 -0.002541  0.208458  0.036004  1.000000  0.349677  0.107337  0.190904 -0.029911\n",
       "7    -0.048964  0.118553  0.099876  0.075288  0.465272  0.177762  0.349677  1.000000  0.306754  0.324116  0.262014\n",
       "8     0.177581  0.399276  0.107454  0.164831  0.148460  0.212809  0.107337  0.306754  1.000000  0.420374  0.291803\n",
       "9    -0.061426  0.317237  0.081314  0.196922  0.120164  0.142982  0.190904  0.324116  0.420374  1.000000  0.592109\n",
       "10    0.236641  0.324271  0.142251  0.152751  0.030321  0.312253 -0.029911  0.262014  0.291803  0.592109  1.000000\n",
       "\n"
      ]
     },
     "execution_count": 219,
     "metadata": {},
     "output_type": "execute_result"
    }
   ],
   "source": [
    "var_results.summary()"
   ]
  },
  {
   "cell_type": "code",
   "execution_count": 220,
   "id": "7ee1448f",
   "metadata": {},
   "outputs": [
    {
     "data": {
      "text/html": [
       "<div>\n",
       "<style scoped>\n",
       "    .dataframe tbody tr th:only-of-type {\n",
       "        vertical-align: middle;\n",
       "    }\n",
       "\n",
       "    .dataframe tbody tr th {\n",
       "        vertical-align: top;\n",
       "    }\n",
       "\n",
       "    .dataframe thead th {\n",
       "        text-align: right;\n",
       "    }\n",
       "</style>\n",
       "<table border=\"1\" class=\"dataframe\">\n",
       "  <thead>\n",
       "    <tr style=\"text-align: right;\">\n",
       "      <th></th>\n",
       "      <th>0</th>\n",
       "      <th>1</th>\n",
       "      <th>2</th>\n",
       "      <th>3</th>\n",
       "      <th>4</th>\n",
       "      <th>5</th>\n",
       "      <th>6</th>\n",
       "      <th>7</th>\n",
       "      <th>8</th>\n",
       "      <th>9</th>\n",
       "      <th>...</th>\n",
       "      <th>1</th>\n",
       "      <th>2</th>\n",
       "      <th>3</th>\n",
       "      <th>4</th>\n",
       "      <th>5</th>\n",
       "      <th>6</th>\n",
       "      <th>7</th>\n",
       "      <th>8</th>\n",
       "      <th>9</th>\n",
       "      <th>10</th>\n",
       "    </tr>\n",
       "  </thead>\n",
       "  <tbody>\n",
       "  </tbody>\n",
       "</table>\n",
       "<p>0 rows × 121 columns</p>\n",
       "</div>"
      ],
      "text/plain": [
       "Empty DataFrame\n",
       "Columns: [0, 1, 2, 3, 4, 5, 6, 7, 8, 9, 10, 0, 1, 2, 3, 4, 5, 6, 7, 8, 9, 10, 0, 1, 2, 3, 4, 5, 6, 7, 8, 9, 10, 0, 1, 2, 3, 4, 5, 6, 7, 8, 9, 10, 0, 1, 2, 3, 4, 5, 6, 7, 8, 9, 10, 0, 1, 2, 3, 4, 5, 6, 7, 8, 9, 10, 0, 1, 2, 3, 4, 5, 6, 7, 8, 9, 10, 0, 1, 2, 3, 4, 5, 6, 7, 8, 9, 10, 0, 1, 2, 3, 4, 5, 6, 7, 8, 9, 10, 0, ...]\n",
       "Index: []\n",
       "\n",
       "[0 rows x 121 columns]"
      ]
     },
     "execution_count": 220,
     "metadata": {},
     "output_type": "execute_result"
    }
   ],
   "source": [
    "pd.concat([pd.DataFrame(var_results.coefs[:,:,i]) for i in range(var_results.coefs.shape[2])], axis=1)"
   ]
  },
  {
   "cell_type": "code",
   "execution_count": 174,
   "id": "fafd6eaa",
   "metadata": {},
   "outputs": [],
   "source": [
    "intercepts = var_results.coefs_exog"
   ]
  },
  {
   "cell_type": "code",
   "execution_count": 175,
   "id": "124e1e4f",
   "metadata": {},
   "outputs": [],
   "source": [
    "lag_order = var_results.k_ar"
   ]
  },
  {
   "cell_type": "code",
   "execution_count": 176,
   "id": "1932dbf3",
   "metadata": {},
   "outputs": [],
   "source": [
    "if lag_order == 0:\n",
    "    fcasts = np.repeat(intercepts, h, axis=1).T\n",
    "else:\n",
    "    fcasts = var_results.forecast(D.values[-lag_order:], h)"
   ]
  },
  {
   "cell_type": "code",
   "execution_count": 177,
   "id": "26631b67",
   "metadata": {},
   "outputs": [
    {
     "data": {
      "text/plain": [
       "array([[-0.01011863, -0.00757358, -0.01227335, -0.01454206, -0.00940646,\n",
       "        -0.0135427 , -0.00664023, -0.01174647, -0.00719372, -0.00871082,\n",
       "        -0.00682449]])"
      ]
     },
     "execution_count": 177,
     "metadata": {},
     "output_type": "execute_result"
    }
   ],
   "source": [
    "fcasts"
   ]
  },
  {
   "cell_type": "code",
   "execution_count": 178,
   "id": "b4b52ab5",
   "metadata": {},
   "outputs": [],
   "source": [
    "fcasts = [pd.Series(fcasts[:,i]) for i in range(len(Y_processed))]"
   ]
  },
  {
   "cell_type": "code",
   "execution_count": 180,
   "id": "3c364327",
   "metadata": {},
   "outputs": [],
   "source": [
    "fcast_indexes = [np.arange(series[i].index[-1]+1, series[i].index[-1]+h+1) for i in range(len(series))]"
   ]
  },
  {
   "cell_type": "code",
   "execution_count": 181,
   "id": "09d65aea",
   "metadata": {},
   "outputs": [],
   "source": [
    "for i,f in enumerate(fcasts):\n",
    "    f.index = fcast_indexes[i]"
   ]
  },
  {
   "cell_type": "code",
   "execution_count": 182,
   "id": "5bb02d0b",
   "metadata": {},
   "outputs": [],
   "source": [
    "# forecasts_original = train_and_forecast(ts_data=Y_processed,\n",
    "#                                         horizon_length=h,\n",
    "#                                         forecasting_model=\"VAR\")\n",
    "\n",
    "# forecasts_protected = train_and_forecast(ts_data=Y_protected_processed,\n",
    "#                                          horizon_length=h,\n",
    "#                                          forecasting_model=\"VAR\")"
   ]
  },
  {
   "cell_type": "markdown",
   "id": "9fca71d1",
   "metadata": {},
   "source": [
    "***"
   ]
  },
  {
   "cell_type": "markdown",
   "id": "1b208b67",
   "metadata": {},
   "source": [
    "## Post Process the Forecasts"
   ]
  },
  {
   "cell_type": "code",
   "execution_count": 183,
   "id": "220ca573",
   "metadata": {},
   "outputs": [],
   "source": [
    "forecasts_original = post_process(full_ts_data=series, \n",
    "                                  forecasts=fcasts, \n",
    "                                  target_forecast_period=h,\n",
    "                                  log=True,\n",
    "                                  make_stationary=True)\n",
    "\n",
    "# forecasts_protected = post_process(full_ts_data=Y_protected, \n",
    "#                                    forecasts=forecasts_protected, \n",
    "#                                    target_forecast_period=h,\n",
    "#                                    log=True,\n",
    "#                                    make_stationary=False,\n",
    "#                                    sp=12,\n",
    "#                                    full_lags=full_lags_protected)"
   ]
  },
  {
   "cell_type": "code",
   "execution_count": 184,
   "id": "9173f490",
   "metadata": {},
   "outputs": [
    {
     "data": {
      "text/html": [
       "<div>\n",
       "<style scoped>\n",
       "    .dataframe tbody tr th:only-of-type {\n",
       "        vertical-align: middle;\n",
       "    }\n",
       "\n",
       "    .dataframe tbody tr th {\n",
       "        vertical-align: top;\n",
       "    }\n",
       "\n",
       "    .dataframe thead th {\n",
       "        text-align: right;\n",
       "    }\n",
       "</style>\n",
       "<table border=\"1\" class=\"dataframe\">\n",
       "  <thead>\n",
       "    <tr style=\"text-align: right;\">\n",
       "      <th></th>\n",
       "      <th>0</th>\n",
       "      <th>1</th>\n",
       "      <th>2</th>\n",
       "      <th>3</th>\n",
       "      <th>4</th>\n",
       "      <th>5</th>\n",
       "      <th>6</th>\n",
       "      <th>7</th>\n",
       "      <th>8</th>\n",
       "      <th>9</th>\n",
       "      <th>10</th>\n",
       "    </tr>\n",
       "  </thead>\n",
       "  <tbody>\n",
       "    <tr>\n",
       "      <th>0</th>\n",
       "      <td>2375.837746</td>\n",
       "      <td>3275.101575</td>\n",
       "      <td>2469.504157</td>\n",
       "      <td>1419.21096</td>\n",
       "      <td>2129.870926</td>\n",
       "      <td>1509.41935</td>\n",
       "      <td>1986.763543</td>\n",
       "      <td>2194.075406</td>\n",
       "      <td>3365.700786</td>\n",
       "      <td>2755.889074</td>\n",
       "      <td>2304.221081</td>\n",
       "    </tr>\n",
       "  </tbody>\n",
       "</table>\n",
       "</div>"
      ],
      "text/plain": [
       "            0            1            2           3            4           5   \\\n",
       "0  2375.837746  3275.101575  2469.504157  1419.21096  2129.870926  1509.41935   \n",
       "\n",
       "            6            7            8            9            10  \n",
       "0  1986.763543  2194.075406  3365.700786  2755.889074  2304.221081  "
      ]
     },
     "execution_count": 184,
     "metadata": {},
     "output_type": "execute_result"
    }
   ],
   "source": [
    "forecasts_original"
   ]
  },
  {
   "cell_type": "code",
   "execution_count": 185,
   "id": "29d35ee3",
   "metadata": {},
   "outputs": [
    {
     "data": {
      "text/html": [
       "<div>\n",
       "<style scoped>\n",
       "    .dataframe tbody tr th:only-of-type {\n",
       "        vertical-align: middle;\n",
       "    }\n",
       "\n",
       "    .dataframe tbody tr th {\n",
       "        vertical-align: top;\n",
       "    }\n",
       "\n",
       "    .dataframe thead th {\n",
       "        text-align: right;\n",
       "    }\n",
       "</style>\n",
       "<table border=\"1\" class=\"dataframe\">\n",
       "  <thead>\n",
       "    <tr style=\"text-align: right;\">\n",
       "      <th></th>\n",
       "      <th>8</th>\n",
       "      <th>9</th>\n",
       "      <th>14</th>\n",
       "      <th>15</th>\n",
       "      <th>16</th>\n",
       "      <th>56</th>\n",
       "      <th>155</th>\n",
       "      <th>169</th>\n",
       "      <th>179</th>\n",
       "      <th>184</th>\n",
       "      <th>186</th>\n",
       "    </tr>\n",
       "  </thead>\n",
       "  <tbody>\n",
       "    <tr>\n",
       "      <th>0</th>\n",
       "      <td>4240.0</td>\n",
       "      <td>4100.0</td>\n",
       "      <td>1360.0</td>\n",
       "      <td>1180.0</td>\n",
       "      <td>1560.0</td>\n",
       "      <td>3650.0</td>\n",
       "      <td>4400.0</td>\n",
       "      <td>6650.0</td>\n",
       "      <td>2440.0</td>\n",
       "      <td>1320.0</td>\n",
       "      <td>2300.0</td>\n",
       "    </tr>\n",
       "  </tbody>\n",
       "</table>\n",
       "</div>"
      ],
      "text/plain": [
       "      8       9       14      15      16      56      155     169     179  \\\n",
       "0  4240.0  4100.0  1360.0  1180.0  1560.0  3650.0  4400.0  6650.0  2440.0   \n",
       "\n",
       "      184     186  \n",
       "0  1320.0  2300.0  "
      ]
     },
     "execution_count": 185,
     "metadata": {},
     "output_type": "execute_result"
    }
   ],
   "source": [
    "Test.iloc[:,ids]"
   ]
  },
  {
   "cell_type": "code",
   "execution_count": 186,
   "id": "c3318b28",
   "metadata": {},
   "outputs": [
    {
     "data": {
      "text/plain": [
       "1453.0181241237158"
      ]
     },
     "execution_count": 186,
     "metadata": {},
     "output_type": "execute_result"
    }
   ],
   "source": [
    "mean_absolute_error(Test.iloc[:,ids], forecasts_original)"
   ]
  },
  {
   "cell_type": "markdown",
   "id": "4758ffe9",
   "metadata": {},
   "source": [
    "***"
   ]
  }
 ],
 "metadata": {
  "kernelspec": {
   "display_name": "Python 3 (ipykernel)",
   "language": "python",
   "name": "python3"
  },
  "language_info": {
   "codemirror_mode": {
    "name": "ipython",
    "version": 3
   },
   "file_extension": ".py",
   "mimetype": "text/x-python",
   "name": "python",
   "nbconvert_exporter": "python",
   "pygments_lexer": "ipython3",
   "version": "3.9.7"
  }
 },
 "nbformat": 4,
 "nbformat_minor": 5
}
