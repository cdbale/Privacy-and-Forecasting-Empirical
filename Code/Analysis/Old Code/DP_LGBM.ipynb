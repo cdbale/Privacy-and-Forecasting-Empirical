{
 "cells": [
  {
   "cell_type": "markdown",
   "id": "0e4052c3",
   "metadata": {},
   "source": [
    "# Examining the Effects of DP on LGBM Forecast Accuracy"
   ]
  },
  {
   "cell_type": "markdown",
   "id": "7a4bd4c9",
   "metadata": {},
   "source": [
    "***"
   ]
  },
  {
   "cell_type": "code",
   "execution_count": 1,
   "id": "dd558349",
   "metadata": {},
   "outputs": [],
   "source": [
    "# general modules\n",
    "import pandas as pd\n",
    "import numpy as np\n",
    "import lightgbm as lgb\n",
    "\n",
    "##### the `helper_functions.py` file contains many custom functions we wrote to aid in our analysis\n",
    "##### `full_coding_analysis` combines all of the following - train-test split data,\n",
    "##### data protection, train models, compare accuracies, return accuracy results\n",
    "from helper_functions import *\n",
    "\n",
    "# nice time series plots\n",
    "from sktime.utils.plotting import plot_series"
   ]
  },
  {
   "cell_type": "code",
   "execution_count": 2,
   "id": "053d11e1",
   "metadata": {},
   "outputs": [],
   "source": [
    "# import weekly finance time series\n",
    "Y = np.genfromtxt(\"../../Data/Train/Clean/weekly_finance_clean.csv\", delimiter = ',', skip_header = 1)\n",
    "Y = pd.DataFrame(Y)"
   ]
  },
  {
   "cell_type": "code",
   "execution_count": 3,
   "id": "fc27e432",
   "metadata": {},
   "outputs": [],
   "source": [
    "# detrender = Detrender()\n",
    "# detrended_series = [detrender.fit_transform(series) for _ , series in Y.iterrows()]\n",
    "# detrended_series = [i+np.abs(np.min(i))+1.0 for i in detrended_series]\n",
    "# Y = pd.concat(detrended_series, axis=1).T"
   ]
  },
  {
   "cell_type": "markdown",
   "id": "a2cdca93",
   "metadata": {},
   "source": [
    "***"
   ]
  },
  {
   "cell_type": "markdown",
   "id": "693a5968",
   "metadata": {},
   "source": [
    "## Simple Model (window length = 10)"
   ]
  },
  {
   "cell_type": "code",
   "execution_count": 4,
   "id": "c6ca18f3",
   "metadata": {},
   "outputs": [],
   "source": [
    "forecaster = lgb.LGBMRegressor()\n",
    "window_length = 10"
   ]
  },
  {
   "cell_type": "code",
   "execution_count": 5,
   "id": "96460ce3",
   "metadata": {},
   "outputs": [],
   "source": [
    "results_dict_10 = {}\n",
    "fcasts_10 = {}\n",
    "fcasts_protected_10 = {}\n",
    "tests = {}\n",
    "epsilons = [1, 10, 20]\n",
    "horizons = [1, 20]"
   ]
  },
  {
   "cell_type": "code",
   "execution_count": 6,
   "id": "33b06dee",
   "metadata": {},
   "outputs": [],
   "source": [
    "for e in epsilons:\n",
    "    for h in horizons:\n",
    "        idx = \"h=\"+str(h)+\", epsilon = \"+str(e)\n",
    "        results_dict_10[idx], tests[idx], fcasts_10[idx], fcasts_protected_10[idx] = full_coding_analysis(time_series_data=Y, \n",
    "                                                                                                          forecasting_model=forecaster, \n",
    "                                                                                                          forecast_horizon=h,\n",
    "                                                                                                          epsilon=e,\n",
    "                                                                                                          window_length=window_length)"
   ]
  },
  {
   "cell_type": "code",
   "execution_count": 7,
   "id": "93202597",
   "metadata": {},
   "outputs": [
    {
     "data": {
      "text/plain": [
       "{'h=1, epsilon = 1': {'Mean Accuracies': array([67.4396, 67.4396]),\n",
       "  'Protected Mean Accuracies:': array([549.639, 549.639]),\n",
       "  '% Change Mean accuracy:': array([-7.1501, -7.1501]),\n",
       "  '% Change Median accuracy:': array([-5.0574, -5.0574]),\n",
       "  '% Forecasted Points adjusted downward:': 0.3171,\n",
       "  '% Forecasted Points adjusted upward:': 0.6829,\n",
       "  '% Series with improved accuracy:': array([0.122, 0.122]),\n",
       "  '% Series with reduced accuracy:': array([0.878, 0.878]),\n",
       "  'Original Mean Absolute Error Upward Adjusted:': 83.2448,\n",
       "  'Original Mean Absolute Error Downward Adjusted:': 33.3976,\n",
       "  'Protected Mean Absolute Error Upward Adjusted:': 738.9472,\n",
       "  'Protected Mean Absolute Error Downward Adjusted:': 141.8982},\n",
       " 'h=20, epsilon = 1': {'Mean Accuracies': array([115.1224, 138.0561]),\n",
       "  'Protected Mean Accuracies:': array([516.7913, 532.1066]),\n",
       "  '% Change Mean accuracy:': array([-3.4891, -2.8543]),\n",
       "  '% Change Median accuracy:': array([-1.653 , -1.4481]),\n",
       "  '% Forecasted Points adjusted downward:': 0.4341,\n",
       "  '% Forecasted Points adjusted upward:': 0.5659,\n",
       "  '% Series with improved accuracy:': array([0.0793, 0.0854]),\n",
       "  '% Series with reduced accuracy:': array([0.9207, 0.9146]),\n",
       "  'Original Mean Absolute Error Upward Adjusted:': 150.3604,\n",
       "  'Original Mean Absolute Error Downward Adjusted:': 69.1943,\n",
       "  'Protected Mean Absolute Error Upward Adjusted:': 758.3682,\n",
       "  'Protected Mean Absolute Error Downward Adjusted:': 201.927},\n",
       " 'h=1, epsilon = 10': {'Mean Accuracies': array([67.4396, 67.4396]),\n",
       "  'Protected Mean Accuracies:': array([150.5869, 150.5869]),\n",
       "  '% Change Mean accuracy:': array([-1.2329, -1.2329]),\n",
       "  '% Change Median accuracy:': array([-0.713, -0.713]),\n",
       "  '% Forecasted Points adjusted downward:': 0.5061,\n",
       "  '% Forecasted Points adjusted upward:': 0.4939,\n",
       "  '% Series with improved accuracy:': array([0.3171, 0.3171]),\n",
       "  '% Series with reduced accuracy:': array([0.6829, 0.6829]),\n",
       "  'Original Mean Absolute Error Upward Adjusted:': 84.6311,\n",
       "  'Original Mean Absolute Error Downward Adjusted:': 50.6623,\n",
       "  'Protected Mean Absolute Error Upward Adjusted:': 204.3646,\n",
       "  'Protected Mean Absolute Error Downward Adjusted:': 98.105},\n",
       " 'h=20, epsilon = 10': {'Mean Accuracies': array([115.1224, 138.0561]),\n",
       "  'Protected Mean Accuracies:': array([221.712 , 246.7996]),\n",
       "  '% Change Mean accuracy:': array([-0.9259, -0.7877]),\n",
       "  '% Change Median accuracy:': array([-0.1955, -0.2181]),\n",
       "  '% Forecasted Points adjusted downward:': 0.5238,\n",
       "  '% Forecasted Points adjusted upward:': 0.4762,\n",
       "  '% Series with improved accuracy:': array([0.2866, 0.2805]),\n",
       "  '% Series with reduced accuracy:': array([0.7134, 0.7195]),\n",
       "  'Original Mean Absolute Error Upward Adjusted:': 123.7121,\n",
       "  'Original Mean Absolute Error Downward Adjusted:': 107.3127,\n",
       "  'Protected Mean Absolute Error Upward Adjusted:': 299.2081,\n",
       "  'Protected Mean Absolute Error Downward Adjusted:': 151.2528},\n",
       " 'h=1, epsilon = 20': {'Mean Accuracies': array([67.4396, 67.4396]),\n",
       "  'Protected Mean Accuracies:': array([89.2041, 89.2041]),\n",
       "  '% Change Mean accuracy:': array([-0.3227, -0.3227]),\n",
       "  '% Change Median accuracy:': array([-0.1702, -0.1702]),\n",
       "  '% Forecasted Points adjusted downward:': 0.5122,\n",
       "  '% Forecasted Points adjusted upward:': 0.4878,\n",
       "  '% Series with improved accuracy:': array([0.4634, 0.4634]),\n",
       "  '% Series with reduced accuracy:': array([0.5366, 0.5366]),\n",
       "  'Original Mean Absolute Error Upward Adjusted:': 90.4711,\n",
       "  'Original Mean Absolute Error Downward Adjusted:': 45.5048,\n",
       "  'Protected Mean Absolute Error Upward Adjusted:': 113.5039,\n",
       "  'Protected Mean Absolute Error Downward Adjusted:': 66.0615},\n",
       " 'h=20, epsilon = 20': {'Mean Accuracies': array([115.1224, 138.0561]),\n",
       "  'Protected Mean Accuracies:': array([139.3401, 162.2316]),\n",
       "  '% Change Mean accuracy:': array([-0.2104, -0.1751]),\n",
       "  '% Change Median accuracy:': array([0.0426, 0.026 ]),\n",
       "  '% Forecasted Points adjusted downward:': 0.6277,\n",
       "  '% Forecasted Points adjusted upward:': 0.3723,\n",
       "  '% Series with improved accuracy:': array([0.3963, 0.4024]),\n",
       "  '% Series with reduced accuracy:': array([0.6037, 0.5976]),\n",
       "  'Original Mean Absolute Error Upward Adjusted:': 99.06,\n",
       "  'Original Mean Absolute Error Downward Adjusted:': 124.6476,\n",
       "  'Protected Mean Absolute Error Upward Adjusted:': 144.6697,\n",
       "  'Protected Mean Absolute Error Downward Adjusted:': 136.1795}}"
      ]
     },
     "execution_count": 7,
     "metadata": {},
     "output_type": "execute_result"
    }
   ],
   "source": [
    "results_dict_10"
   ]
  },
  {
   "cell_type": "markdown",
   "id": "92ee4971",
   "metadata": {},
   "source": [
    "***\n",
    "***"
   ]
  },
  {
   "cell_type": "markdown",
   "id": "31b5ceaa",
   "metadata": {},
   "source": [
    "## 'Medium' Model (window length = 20)"
   ]
  },
  {
   "cell_type": "code",
   "execution_count": 8,
   "id": "b90008b5",
   "metadata": {},
   "outputs": [],
   "source": [
    "forecaster = lgb.LGBMRegressor()\n",
    "window_length = 20"
   ]
  },
  {
   "cell_type": "code",
   "execution_count": 9,
   "id": "73e5d4b5",
   "metadata": {},
   "outputs": [],
   "source": [
    "results_dict_20 = {}\n",
    "fcasts_20 = {}\n",
    "fcasts_protected_20 = {}\n",
    "tests = {}\n",
    "epsilons = [1, 10, 20]\n",
    "horizons = [1, 20]"
   ]
  },
  {
   "cell_type": "code",
   "execution_count": 10,
   "id": "05a6575c",
   "metadata": {},
   "outputs": [],
   "source": [
    "for e in epsilons:\n",
    "    for h in horizons:\n",
    "        idx = \"h=\"+str(h)+\", epsilon = \"+str(e)\n",
    "        results_dict_20[idx], tests[idx], fcasts_20[idx], fcasts_protected_20[idx] = full_coding_analysis(time_series_data=Y, \n",
    "                                                                                                          forecasting_model=forecaster, \n",
    "                                                                                                          forecast_horizon=h,\n",
    "                                                                                                          epsilon=e,\n",
    "                                                                                                          window_length=window_length)"
   ]
  },
  {
   "cell_type": "code",
   "execution_count": 11,
   "id": "e458b963",
   "metadata": {},
   "outputs": [
    {
     "data": {
      "text/plain": [
       "{'h=1, epsilon = 1': {'Mean Accuracies': array([64.9424, 64.9424]),\n",
       "  'Protected Mean Accuracies:': array([489.4416, 489.4416]),\n",
       "  '% Change Mean accuracy:': array([-6.5366, -6.5366]),\n",
       "  '% Change Median accuracy:': array([-5.6225, -5.6225]),\n",
       "  '% Forecasted Points adjusted downward:': 0.6037,\n",
       "  '% Forecasted Points adjusted upward:': 0.3963,\n",
       "  '% Series with improved accuracy:': array([0.1098, 0.1098]),\n",
       "  '% Series with reduced accuracy:': array([0.8902, 0.8902]),\n",
       "  'Original Mean Absolute Error Upward Adjusted:': 37.9052,\n",
       "  'Original Mean Absolute Error Downward Adjusted:': 82.694,\n",
       "  'Protected Mean Absolute Error Upward Adjusted:': 145.3944,\n",
       "  'Protected Mean Absolute Error Downward Adjusted:': 715.3312},\n",
       " 'h=20, epsilon = 1': {'Mean Accuracies': array([125.6744, 149.4553]),\n",
       "  'Protected Mean Accuracies:': array([356.5481, 373.3674]),\n",
       "  '% Change Mean accuracy:': array([-1.8371, -1.4982]),\n",
       "  '% Change Median accuracy:': array([-1.169 , -1.2053]),\n",
       "  '% Forecasted Points adjusted downward:': 0.4976,\n",
       "  '% Forecasted Points adjusted upward:': 0.5024,\n",
       "  '% Series with improved accuracy:': array([0.1463, 0.1707]),\n",
       "  '% Series with reduced accuracy:': array([0.8537, 0.8293]),\n",
       "  'Original Mean Absolute Error Upward Adjusted:': 132.848,\n",
       "  'Original Mean Absolute Error Downward Adjusted:': 118.4306,\n",
       "  'Protected Mean Absolute Error Upward Adjusted:': 324.2976,\n",
       "  'Protected Mean Absolute Error Downward Adjusted:': 389.1148},\n",
       " 'h=1, epsilon = 10': {'Mean Accuracies': array([64.9424, 64.9424]),\n",
       "  'Protected Mean Accuracies:': array([191.4367, 191.4367]),\n",
       "  '% Change Mean accuracy:': array([-1.9478, -1.9478]),\n",
       "  '% Change Median accuracy:': array([-0.4825, -0.4825]),\n",
       "  '% Forecasted Points adjusted downward:': 0.5427,\n",
       "  '% Forecasted Points adjusted upward:': 0.4573,\n",
       "  '% Series with improved accuracy:': array([0.3476, 0.3476]),\n",
       "  '% Series with reduced accuracy:': array([0.6524, 0.6524]),\n",
       "  'Original Mean Absolute Error Upward Adjusted:': 80.4716,\n",
       "  'Original Mean Absolute Error Downward Adjusted:': 51.856,\n",
       "  'Protected Mean Absolute Error Upward Adjusted:': 131.5348,\n",
       "  'Protected Mean Absolute Error Downward Adjusted:': 241.9159},\n",
       " 'h=20, epsilon = 10': {'Mean Accuracies': array([125.6744, 149.4553]),\n",
       "  'Protected Mean Accuracies:': array([242.5273, 266.1369]),\n",
       "  '% Change Mean accuracy:': array([-0.9298, -0.7807]),\n",
       "  '% Change Median accuracy:': array([-0.05  ,  0.0136]),\n",
       "  '% Forecasted Points adjusted downward:': 0.5707,\n",
       "  '% Forecasted Points adjusted upward:': 0.4293,\n",
       "  '% Series with improved accuracy:': array([0.3537, 0.3537]),\n",
       "  '% Series with reduced accuracy:': array([0.6463, 0.6463]),\n",
       "  'Original Mean Absolute Error Upward Adjusted:': 130.1394,\n",
       "  'Original Mean Absolute Error Downward Adjusted:': 122.3162,\n",
       "  'Protected Mean Absolute Error Upward Adjusted:': 368.9911,\n",
       "  'Protected Mean Absolute Error Downward Adjusted:': 147.4092},\n",
       " 'h=1, epsilon = 20': {'Mean Accuracies': array([64.9424, 64.9424]),\n",
       "  'Protected Mean Accuracies:': array([89.0539, 89.0539]),\n",
       "  '% Change Mean accuracy:': array([-0.3713, -0.3713]),\n",
       "  '% Change Median accuracy:': array([-0.3647, -0.3647]),\n",
       "  '% Forecasted Points adjusted downward:': 0.4451,\n",
       "  '% Forecasted Points adjusted upward:': 0.5549,\n",
       "  '% Series with improved accuracy:': array([0.4024, 0.4024]),\n",
       "  '% Series with reduced accuracy:': array([0.5976, 0.5976]),\n",
       "  'Original Mean Absolute Error Upward Adjusted:': 54.5875,\n",
       "  'Original Mean Absolute Error Downward Adjusted:': 77.8505,\n",
       "  'Protected Mean Absolute Error Upward Adjusted:': 81.5422,\n",
       "  'Protected Mean Absolute Error Downward Adjusted:': 98.4178},\n",
       " 'h=20, epsilon = 20': {'Mean Accuracies': array([125.6744, 149.4553]),\n",
       "  'Protected Mean Accuracies:': array([128.4908, 151.0394]),\n",
       "  '% Change Mean accuracy:': array([-0.0224, -0.0106]),\n",
       "  '% Change Median accuracy:': array([0.1242, 0.0979]),\n",
       "  '% Forecasted Points adjusted downward:': 0.5823,\n",
       "  '% Forecasted Points adjusted upward:': 0.4177,\n",
       "  '% Series with improved accuracy:': array([0.4573, 0.439 ]),\n",
       "  '% Series with reduced accuracy:': array([0.5427, 0.561 ]),\n",
       "  'Original Mean Absolute Error Upward Adjusted:': 108.3719,\n",
       "  'Original Mean Absolute Error Downward Adjusted:': 138.0852,\n",
       "  'Protected Mean Absolute Error Upward Adjusted:': 109.4469,\n",
       "  'Protected Mean Absolute Error Downward Adjusted:': 142.1505}}"
      ]
     },
     "execution_count": 11,
     "metadata": {},
     "output_type": "execute_result"
    }
   ],
   "source": [
    "results_dict_20"
   ]
  },
  {
   "cell_type": "markdown",
   "id": "16949b2b",
   "metadata": {},
   "source": [
    "***\n",
    "***"
   ]
  },
  {
   "cell_type": "markdown",
   "id": "06e14070",
   "metadata": {},
   "source": [
    "## Complex Model (window length = 40)"
   ]
  },
  {
   "cell_type": "code",
   "execution_count": 12,
   "id": "0068a8a0",
   "metadata": {},
   "outputs": [],
   "source": [
    "forecaster = lgb.LGBMRegressor()\n",
    "window_length = 40"
   ]
  },
  {
   "cell_type": "code",
   "execution_count": 13,
   "id": "1dac849f",
   "metadata": {},
   "outputs": [],
   "source": [
    "results_dict_40 = {}\n",
    "fcasts_40 = {}\n",
    "fcasts_protected_40 = {}\n",
    "tests = {}\n",
    "epsilons = [1, 10, 20]\n",
    "horizons = [1, 20]"
   ]
  },
  {
   "cell_type": "code",
   "execution_count": 14,
   "id": "76eac929",
   "metadata": {},
   "outputs": [],
   "source": [
    "for e in epsilons:\n",
    "    for h in horizons:\n",
    "        idx = \"h=\"+str(h)+\", epsilon = \"+str(e)\n",
    "        results_dict_40[idx], tests[idx], fcasts_40[idx], fcasts_protected_40[idx] = full_coding_analysis(time_series_data=Y, \n",
    "                                                                                                          forecasting_model=forecaster, \n",
    "                                                                                                          forecast_horizon=h,\n",
    "                                                                                                          epsilon=e,\n",
    "                                                                                                          window_length=window_length)"
   ]
  },
  {
   "cell_type": "code",
   "execution_count": 15,
   "id": "b8747d6b",
   "metadata": {},
   "outputs": [
    {
     "data": {
      "text/plain": [
       "{'h=1, epsilon = 1': {'Mean Accuracies': array([67.7525, 67.7525]),\n",
       "  'Protected Mean Accuracies:': array([327.4112, 327.4112]),\n",
       "  '% Change Mean accuracy:': array([-3.8325, -3.8325]),\n",
       "  '% Change Median accuracy:': array([-5.9228, -5.9228]),\n",
       "  '% Forecasted Points adjusted downward:': 0.5671,\n",
       "  '% Forecasted Points adjusted upward:': 0.4329,\n",
       "  '% Series with improved accuracy:': array([0.1341, 0.1341]),\n",
       "  '% Series with reduced accuracy:': array([0.8659, 0.8659]),\n",
       "  'Original Mean Absolute Error Upward Adjusted:': 45.1255,\n",
       "  'Original Mean Absolute Error Downward Adjusted:': 85.0268,\n",
       "  'Protected Mean Absolute Error Upward Adjusted:': 235.9519,\n",
       "  'Protected Mean Absolute Error Downward Adjusted:': 397.235},\n",
       " 'h=20, epsilon = 1': {'Mean Accuracies': array([166.4712, 191.1059]),\n",
       "  'Protected Mean Accuracies:': array([520.5619, 536.5541]),\n",
       "  '% Change Mean accuracy:': array([-2.127 , -1.8076]),\n",
       "  '% Change Median accuracy:': array([-1.4224, -1.2455]),\n",
       "  '% Forecasted Points adjusted downward:': 0.3787,\n",
       "  '% Forecasted Points adjusted upward:': 0.6213,\n",
       "  '% Series with improved accuracy:': array([0.1341, 0.1524]),\n",
       "  '% Series with reduced accuracy:': array([0.8659, 0.8476]),\n",
       "  'Original Mean Absolute Error Upward Adjusted:': 199.0172,\n",
       "  'Original Mean Absolute Error Downward Adjusted:': 113.0664,\n",
       "  'Protected Mean Absolute Error Upward Adjusted:': 703.3015,\n",
       "  'Protected Mean Absolute Error Downward Adjusted:': 220.7043},\n",
       " 'h=1, epsilon = 10': {'Mean Accuracies': array([67.7525, 67.7525]),\n",
       "  'Protected Mean Accuracies:': array([198.6905, 198.6905]),\n",
       "  '% Change Mean accuracy:': array([-1.9326, -1.9326]),\n",
       "  '% Change Median accuracy:': array([-1.3485, -1.3485]),\n",
       "  '% Forecasted Points adjusted downward:': 0.5793,\n",
       "  '% Forecasted Points adjusted upward:': 0.4207,\n",
       "  '% Series with improved accuracy:': array([0.2378, 0.2378]),\n",
       "  '% Series with reduced accuracy:': array([0.7622, 0.7622]),\n",
       "  'Original Mean Absolute Error Upward Adjusted:': 92.6705,\n",
       "  'Original Mean Absolute Error Downward Adjusted:': 49.6541,\n",
       "  'Protected Mean Absolute Error Upward Adjusted:': 350.916,\n",
       "  'Protected Mean Absolute Error Downward Adjusted:': 88.1267},\n",
       " 'h=20, epsilon = 10': {'Mean Accuracies': array([166.4712, 191.1059]),\n",
       "  'Protected Mean Accuracies:': array([266.3205, 299.3272]),\n",
       "  '% Change Mean accuracy:': array([-0.5998, -0.5663]),\n",
       "  '% Change Median accuracy:': array([-0.1769, -0.1617]),\n",
       "  '% Forecasted Points adjusted downward:': 0.5451,\n",
       "  '% Forecasted Points adjusted upward:': 0.4549,\n",
       "  '% Series with improved accuracy:': array([0.3598, 0.3415]),\n",
       "  '% Series with reduced accuracy:': array([0.6402, 0.6585]),\n",
       "  'Original Mean Absolute Error Upward Adjusted:': 209.1327,\n",
       "  'Original Mean Absolute Error Downward Adjusted:': 130.8722,\n",
       "  'Protected Mean Absolute Error Upward Adjusted:': 388.9027,\n",
       "  'Protected Mean Absolute Error Downward Adjusted:': 164.0316},\n",
       " 'h=1, epsilon = 20': {'Mean Accuracies': array([67.7525, 67.7525]),\n",
       "  'Protected Mean Accuracies:': array([163.4289, 163.4289]),\n",
       "  '% Change Mean accuracy:': array([-1.4121, -1.4121]),\n",
       "  '% Change Median accuracy:': array([-0.6243, -0.6243]),\n",
       "  '% Forecasted Points adjusted downward:': 0.4939,\n",
       "  '% Forecasted Points adjusted upward:': 0.5061,\n",
       "  '% Series with improved accuracy:': array([0.3415, 0.3415]),\n",
       "  '% Series with reduced accuracy:': array([0.6585, 0.6585]),\n",
       "  'Original Mean Absolute Error Upward Adjusted:': 72.1572,\n",
       "  'Original Mean Absolute Error Downward Adjusted:': 63.239,\n",
       "  'Protected Mean Absolute Error Upward Adjusted:': 85.6692,\n",
       "  'Protected Mean Absolute Error Downward Adjusted:': 243.1087},\n",
       " 'h=20, epsilon = 20': {'Mean Accuracies': array([166.4712, 191.1059]),\n",
       "  'Protected Mean Accuracies:': array([137.2385, 158.9562]),\n",
       "  '% Change Mean accuracy:': array([0.1756, 0.1682]),\n",
       "  '% Change Median accuracy:': array([0.0432, 0.0241]),\n",
       "  '% Forecasted Points adjusted downward:': 0.5716,\n",
       "  '% Forecasted Points adjusted upward:': 0.4284,\n",
       "  '% Series with improved accuracy:': array([0.4573, 0.5   ]),\n",
       "  '% Series with reduced accuracy:': array([0.5427, 0.5   ]),\n",
       "  'Original Mean Absolute Error Upward Adjusted:': 123.3763,\n",
       "  'Original Mean Absolute Error Downward Adjusted:': 198.7637,\n",
       "  'Protected Mean Absolute Error Upward Adjusted:': 132.2989,\n",
       "  'Protected Mean Absolute Error Downward Adjusted:': 140.9399}}"
      ]
     },
     "execution_count": 15,
     "metadata": {},
     "output_type": "execute_result"
    }
   ],
   "source": [
    "results_dict_40"
   ]
  }
 ],
 "metadata": {
  "kernelspec": {
   "display_name": "Python 3 (ipykernel)",
   "language": "python",
   "name": "python3"
  },
  "language_info": {
   "codemirror_mode": {
    "name": "ipython",
    "version": 3
   },
   "file_extension": ".py",
   "mimetype": "text/x-python",
   "name": "python",
   "nbconvert_exporter": "python",
   "pygments_lexer": "ipython3",
   "version": "3.9.7"
  }
 },
 "nbformat": 4,
 "nbformat_minor": 5
}
