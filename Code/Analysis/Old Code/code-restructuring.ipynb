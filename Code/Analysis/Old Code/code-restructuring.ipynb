{
 "cells": [
  {
   "cell_type": "markdown",
   "id": "512776c6",
   "metadata": {},
   "source": [
    "## Restructure Data Analysis Framework"
   ]
  },
  {
   "cell_type": "markdown",
   "id": "b80094d6",
   "metadata": {},
   "source": [
    "***"
   ]
  },
  {
   "cell_type": "code",
   "execution_count": 1,
   "id": "42d516ab",
   "metadata": {},
   "outputs": [],
   "source": [
    "import pandas as pd\n",
    "import numpy as np\n",
    "\n",
    "from data_protection_functions import *\n",
    "from data_processing_functions import *\n",
    "from forecasting_functions import *\n",
    "\n",
    "# nice time series plots\n",
    "from sktime.utils.plotting import plot_series\n",
    "\n",
    "import sktime\n",
    "import lightgbm\n",
    "\n",
    "from sktime.performance_metrics.forecasting import mean_absolute_percentage_error, median_absolute_percentage_error"
   ]
  },
  {
   "cell_type": "markdown",
   "id": "1342d5eb",
   "metadata": {},
   "source": [
    "### Step 1: Import Time Series Data"
   ]
  },
  {
   "cell_type": "code",
   "execution_count": 2,
   "id": "97decc7e",
   "metadata": {},
   "outputs": [],
   "source": [
    "# import weekly finance time series\n",
    "# ignore header and skip the first row to use integers as column names\n",
    "full_data = pd.read_csv(\"../../Data/Train/Clean/full_m3_monthly_micro_clean.csv\", header=None, skiprows=1)"
   ]
  },
  {
   "cell_type": "code",
   "execution_count": 3,
   "id": "2ab139ff",
   "metadata": {},
   "outputs": [],
   "source": [
    "# convert to a list of series, potentially with different lengths\n",
    "full_data = [x.dropna() for _, x in full_data.iterrows()]"
   ]
  },
  {
   "cell_type": "code",
   "execution_count": 4,
   "id": "6d202e68",
   "metadata": {},
   "outputs": [],
   "source": [
    "# forecast horizon\n",
    "h = 1"
   ]
  },
  {
   "cell_type": "code",
   "execution_count": 5,
   "id": "7221a5b0",
   "metadata": {},
   "outputs": [],
   "source": [
    "Y = [x.iloc[:-h] for x in full_data]\n",
    "Test = [x.iloc[-h:] for x in full_data]"
   ]
  },
  {
   "cell_type": "markdown",
   "id": "a32eb59a",
   "metadata": {},
   "source": [
    "***"
   ]
  },
  {
   "cell_type": "markdown",
   "id": "07bb5eeb",
   "metadata": {},
   "source": [
    "### Step 2: Apply Data Protection to Generate Protected Series"
   ]
  },
  {
   "cell_type": "markdown",
   "id": "072e3186",
   "metadata": {},
   "source": [
    "At the end of this step, we will have two time series datasets:\n",
    "\n",
    "* Confidential (original) dataset\n",
    "* Protected dataset"
   ]
  },
  {
   "cell_type": "code",
   "execution_count": 6,
   "id": "802c7c93",
   "metadata": {},
   "outputs": [],
   "source": [
    "protection_method = \"Top_10\"\n",
    "\n",
    "Y_protected = apply_data_protection(Y, coding_type=\"Top\", coding_percentage=0.10)"
   ]
  },
  {
   "cell_type": "markdown",
   "id": "0f7542dc",
   "metadata": {},
   "source": [
    "***"
   ]
  },
  {
   "cell_type": "markdown",
   "id": "9ad96a70",
   "metadata": {},
   "source": [
    "### Step 3: Pre-process the Confidential and Sensitive Datasets"
   ]
  },
  {
   "cell_type": "code",
   "execution_count": 7,
   "id": "532d40e2",
   "metadata": {},
   "outputs": [],
   "source": [
    "window_length = 20\n",
    "\n",
    "transform_dict = {\"windows\":{\"window_length\":window_length}, \"deseasonalize\":{\"sp\":12, \"seasonality_type\":\"additive\"}}"
   ]
  },
  {
   "cell_type": "code",
   "execution_count": 8,
   "id": "a35db15f",
   "metadata": {},
   "outputs": [],
   "source": [
    "# transform_dict = {}"
   ]
  },
  {
   "cell_type": "code",
   "execution_count": 9,
   "id": "a7d3bdce",
   "metadata": {},
   "outputs": [],
   "source": [
    "Y_processed, Y_last_window, Y_last_window_trend = pre_process(Y, \n",
    "                                                              mean_normalize=True, \n",
    "                                                              log=True, \n",
    "                                                              transform_dict=transform_dict)\n",
    "\n",
    "Y_protected_processed, Y_protected_last_window, Y_protected_last_window_trend = pre_process(Y_protected, \n",
    "                                                                                            mean_normalize=True, \n",
    "                                                                                            log=True, \n",
    "                                                                                            transform_dict=transform_dict)"
   ]
  },
  {
   "cell_type": "markdown",
   "id": "3a47b603",
   "metadata": {},
   "source": [
    "### Step 4: Train Models and Generate Forecasts"
   ]
  },
  {
   "cell_type": "code",
   "execution_count": 10,
   "id": "dc10adce",
   "metadata": {},
   "outputs": [],
   "source": [
    "forecasting_model = \"Multivariate_LGBM\"\n",
    "\n",
    "forecasts_original = train_and_forecast(ts_data=Y_processed, \n",
    "                                        horizon_length=h, \n",
    "                                        forecasting_model=forecasting_model, \n",
    "                                        protection_method=protection_method, \n",
    "                                        last_window=Y_last_window)\n",
    "\n",
    "forecasts_protected = train_and_forecast(ts_data=Y_protected_processed, \n",
    "                                         horizon_length=h, \n",
    "                                         forecasting_model=forecasting_model, \n",
    "                                         protection_method=protection_method, \n",
    "                                         last_window=Y_protected_last_window)"
   ]
  },
  {
   "cell_type": "markdown",
   "id": "295c56f6",
   "metadata": {},
   "source": [
    "### Step 5: Post Process the Forecasts"
   ]
  },
  {
   "cell_type": "code",
   "execution_count": 11,
   "id": "e22be5ff",
   "metadata": {},
   "outputs": [],
   "source": [
    "forecasts_original = post_process(full_ts_data=Y, \n",
    "                                  forecasts=forecasts_original, \n",
    "                                  last_window_with_trend=Y_last_window_trend,\n",
    "                                  mean_normalize=True,\n",
    "                                  log=True,\n",
    "                                  transform_dict=transform_dict)"
   ]
  },
  {
   "cell_type": "code",
   "execution_count": 12,
   "id": "d1af4560",
   "metadata": {},
   "outputs": [],
   "source": [
    "forecasts_protected = post_process(full_ts_data=Y_protected, \n",
    "                                   forecasts=forecasts_protected, \n",
    "                                   last_window_with_trend=Y_protected_last_window_trend,\n",
    "                                   mean_normalize=True,\n",
    "                                   log=True,\n",
    "                                   transform_dict=transform_dict)"
   ]
  },
  {
   "cell_type": "markdown",
   "id": "1c8214d4",
   "metadata": {},
   "source": [
    "### Step 6: Saving Forecasts"
   ]
  },
  {
   "cell_type": "code",
   "execution_count": 13,
   "id": "5d1bfce5",
   "metadata": {},
   "outputs": [],
   "source": [
    "# save the forecasts to a file\n",
    "forecasts_original.to_csv(\"../../Outputs/Forecasts/\" + forecasting_model + \"_\" + \"h\" + str(h) + \"_original.csv\")\n",
    "forecasts_protected.to_csv(\"../../Outputs/Forecasts/\" + forecasting_model + \"_\" + \"h\" + str(h) + \"_\" + protection_method + \".csv\")"
   ]
  },
  {
   "cell_type": "markdown",
   "id": "3577caf5",
   "metadata": {},
   "source": [
    "### Step 7: Forecast Evaluation"
   ]
  },
  {
   "cell_type": "code",
   "execution_count": 14,
   "id": "92cef41f",
   "metadata": {},
   "outputs": [],
   "source": [
    "# Things to calculate\n",
    "# series-level MAPE, MdAPE\n",
    "# the percentage of series that had improved/worsened accuracy"
   ]
  },
  {
   "cell_type": "code",
   "execution_count": 15,
   "id": "241563e7",
   "metadata": {},
   "outputs": [],
   "source": [
    "Test = pd.DataFrame([x.reset_index(drop=True) for x in Test]).T"
   ]
  },
  {
   "cell_type": "code",
   "execution_count": 16,
   "id": "98dd5c85",
   "metadata": {},
   "outputs": [
    {
     "data": {
      "text/plain": [
       "{'Global MAPE': 0.2265,\n",
       " 'Global Protected MAPE': 0.2232,\n",
       " 'Global MAE': 666.7842,\n",
       " 'Global Protected MAE': 646.5698,\n",
       " 'Global MdAE': 666.7842,\n",
       " 'Global Protected MdAE': 646.5698,\n",
       " 'Original MAE Up': 655.2745,\n",
       " 'Protected MAE Up': 655.0543,\n",
       " 'Original MAE Down': 676.6691,\n",
       " 'Protected MAE Down': 639.2831,\n",
       " 'Original MdAE Up': 379.6991,\n",
       " 'Protected MdAE Up': 389.3447,\n",
       " 'Original MdAE Down': 413.2852,\n",
       " 'Protected MdAE Down': 386.5654}"
      ]
     },
     "execution_count": 16,
     "metadata": {},
     "output_type": "execute_result"
    }
   ],
   "source": [
    "forecast_results(test_data=Test, original_forecasts=forecasts_original, protected_forecasts=forecasts_protected)"
   ]
  },
  {
   "cell_type": "markdown",
   "id": "848d9cb5",
   "metadata": {},
   "source": [
    "***"
   ]
  },
  {
   "cell_type": "code",
   "execution_count": 2,
   "id": "fab0e1c8",
   "metadata": {},
   "outputs": [],
   "source": [
    "# import weekly finance time series\n",
    "# ignore header and skip the first row to use integers as column names\n",
    "full_data = pd.read_csv(\"../../Data/Train/Clean/full_m3_monthly_micro_clean.csv\", header=None, skiprows=1)"
   ]
  },
  {
   "cell_type": "code",
   "execution_count": 3,
   "id": "568d2d26",
   "metadata": {},
   "outputs": [],
   "source": [
    "# convert to a list of series, potentially with different lengths\n",
    "full_data = [x.dropna() for _, x in full_data.iterrows()]"
   ]
  },
  {
   "cell_type": "code",
   "execution_count": 17,
   "id": "d0fd72da",
   "metadata": {},
   "outputs": [],
   "source": [
    "h = 1\n",
    "protection_method = \"Top_10\"\n",
    "forecasting_model = \"Multivariate_LGBM\"\n",
    "window_length = 20\n",
    "seasonality_type = \"additive\"\n",
    "sp = 12\n",
    "remove_seasonality = True\n",
    "mean_normalize = True"
   ]
  },
  {
   "cell_type": "code",
   "execution_count": 18,
   "id": "b3b7d0ff",
   "metadata": {},
   "outputs": [],
   "source": [
    "Y = [x.iloc[:-h] for x in full_data]\n",
    "Test = [x.iloc[-h:] for x in full_data]"
   ]
  },
  {
   "cell_type": "code",
   "execution_count": 19,
   "id": "5f229d8f",
   "metadata": {},
   "outputs": [],
   "source": [
    "Y_protected = apply_data_protection(Y, coding_type=\"Top\", coding_percentage=0.10)"
   ]
  },
  {
   "cell_type": "code",
   "execution_count": 21,
   "id": "d19c224b",
   "metadata": {},
   "outputs": [
    {
     "data": {
      "text/plain": [
       "{'Global MAPE': 0.2265,\n",
       " 'Global Protected MAPE': 0.2232,\n",
       " 'Global MAE': 666.7842,\n",
       " 'Global Protected MAE': 646.5698,\n",
       " 'Global MdAE': 666.7842,\n",
       " 'Global Protected MdAE': 646.5698,\n",
       " 'Original MAE Up': 655.2745,\n",
       " 'Protected MAE Up': 655.0543,\n",
       " 'Original MAE Down': 676.6691,\n",
       " 'Protected MAE Down': 639.2831,\n",
       " 'Original MdAE Up': 379.6991,\n",
       " 'Protected MdAE Up': 389.3447,\n",
       " 'Original MdAE Down': 413.2852,\n",
       " 'Protected MdAE Down': 386.5654}"
      ]
     },
     "execution_count": 21,
     "metadata": {},
     "output_type": "execute_result"
    }
   ],
   "source": [
    "full_forecast_analysis(Y=Y,\n",
    "                       Y_protected=Y_protected,\n",
    "                       Test=Test,\n",
    "                       h=h,\n",
    "                       protection_method=protection_method,\n",
    "                       forecasting_model=forecasting_model,\n",
    "                       window_length=window_length,\n",
    "                       seasonality_type=seasonality_type,\n",
    "                       sp=sp,\n",
    "                       remove_seasonality=remove_seasonality,\n",
    "                       mean_normalize=mean_normalize,\n",
    "                       log=True)"
   ]
  },
  {
   "cell_type": "code",
   "execution_count": null,
   "id": "6aa9630e",
   "metadata": {},
   "outputs": [],
   "source": []
  }
 ],
 "metadata": {
  "kernelspec": {
   "display_name": "Python 3 (ipykernel)",
   "language": "python",
   "name": "python3"
  },
  "language_info": {
   "codemirror_mode": {
    "name": "ipython",
    "version": 3
   },
   "file_extension": ".py",
   "mimetype": "text/x-python",
   "name": "python",
   "nbconvert_exporter": "python",
   "pygments_lexer": "ipython3",
   "version": "3.9.7"
  }
 },
 "nbformat": 4,
 "nbformat_minor": 5
}
