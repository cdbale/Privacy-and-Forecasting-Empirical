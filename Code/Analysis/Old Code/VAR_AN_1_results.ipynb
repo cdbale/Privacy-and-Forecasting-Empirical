{
 "cells": [
  {
   "cell_type": "code",
   "execution_count": 1,
   "id": "59f08276",
   "metadata": {},
   "outputs": [],
   "source": [
    "import pandas as pd\n",
    "import numpy as np\n",
    "\n",
    "from data_processing_functions import *\n",
    "\n",
    "from sktime.performance_metrics.forecasting import mean_absolute_error\n",
    "\n",
    "# nice time series plots\n",
    "from sktime.utils.plotting import plot_series\n",
    "\n",
    "# from sktime.forecasting.var import VAR\n",
    "\n",
    "from statsmodels.tsa.vector_ar.var_model import VAR"
   ]
  },
  {
   "cell_type": "code",
   "execution_count": 2,
   "id": "5530cfd0",
   "metadata": {},
   "outputs": [],
   "source": [
    "full_data = pd.read_csv(\"../../Data/Train/Clean/m3_monthly_micro_h1.csv\", header=None, skiprows=1)\n",
    "protected_full = pd.read_csv(\"../../Data/Train/Clean/protected_m3_monthly_micro_h1_AN_1.csv\")\n",
    "# convert to a list of series, potentially with different lengths\n",
    "full_data = [x.dropna() for _, x in full_data.iterrows()]\n",
    "protected_full = [x.dropna() for _, x in protected_full.iterrows()]\n",
    "test = pd.read_csv(\"../../Outputs/Forecasts/Test_h1.csv\")\n",
    "orig_fcasts = pd.read_csv(\"../../Outputs/Forecasts/VAR_h1_original.csv\")\n",
    "protected_fcasts = pd.read_csv(\"../../Outputs/Forecasts/VAR_h1_AN_1.csv\")"
   ]
  },
  {
   "cell_type": "code",
   "execution_count": 3,
   "id": "8b2f50c2",
   "metadata": {},
   "outputs": [],
   "source": [
    "orig_maes = mean_absolute_error(test, orig_fcasts, multioutput=\"raw_values\")"
   ]
  },
  {
   "cell_type": "code",
   "execution_count": 4,
   "id": "b8cda2d0",
   "metadata": {},
   "outputs": [],
   "source": [
    "protected_maes = mean_absolute_error(test, protected_fcasts, multioutput=\"raw_values\")"
   ]
  },
  {
   "cell_type": "code",
   "execution_count": 5,
   "id": "1d03e490",
   "metadata": {},
   "outputs": [
    {
     "data": {
      "text/plain": [
       "288"
      ]
     },
     "execution_count": 5,
     "metadata": {},
     "output_type": "execute_result"
    }
   ],
   "source": [
    "np.argsort(protected_maes)[-1]"
   ]
  },
  {
   "cell_type": "code",
   "execution_count": 6,
   "id": "5b2c4498",
   "metadata": {},
   "outputs": [
    {
     "data": {
      "text/plain": [
       "105972.76541849073"
      ]
     },
     "execution_count": 6,
     "metadata": {},
     "output_type": "execute_result"
    }
   ],
   "source": [
    "np.max(protected_maes) - np.min(protected_maes)"
   ]
  },
  {
   "cell_type": "markdown",
   "id": "2c2d0e76",
   "metadata": {},
   "source": [
    "***"
   ]
  },
  {
   "cell_type": "code",
   "execution_count": null,
   "id": "eb2ed258",
   "metadata": {},
   "outputs": [],
   "source": [
    "temp, _, _, _ = pre_process(ts_data=full_data[3:6], target_forecast_period=3, log=True, make_stationary=True)"
   ]
  },
  {
   "cell_type": "code",
   "execution_count": null,
   "id": "d8584189",
   "metadata": {},
   "outputs": [],
   "source": [
    "fcast1 = pd.Series([0.1, 0.2, 0.1])\n",
    "fcast1.index = np.arange(full_data[3].index[-1] + 1, full_data[3].index[-1] + 4)"
   ]
  },
  {
   "cell_type": "code",
   "execution_count": null,
   "id": "78987a2b",
   "metadata": {},
   "outputs": [],
   "source": [
    "fcast2 = pd.Series([-0.1, -0.2, 0.2])\n",
    "fcast2.index = np.arange(full_data[4].index[-1] + 1, full_data[4].index[-1] + 4)"
   ]
  },
  {
   "cell_type": "code",
   "execution_count": null,
   "id": "5b1cfb72",
   "metadata": {},
   "outputs": [],
   "source": [
    "fcasts = [fcast1, fcast2]"
   ]
  },
  {
   "cell_type": "code",
   "execution_count": null,
   "id": "538e9b74",
   "metadata": {},
   "outputs": [],
   "source": [
    "temp2 = post_process(full_ts_data=full_data[3:6],\n",
    "                     forecasts=temp,\n",
    "                     target_forecast_period=3,\n",
    "                     log=True,\n",
    "                     make_stationary=True,\n",
    "                     is_fitted=True)"
   ]
  },
  {
   "cell_type": "code",
   "execution_count": null,
   "id": "70dde688",
   "metadata": {},
   "outputs": [],
   "source": [
    "temp2"
   ]
  },
  {
   "cell_type": "markdown",
   "id": "fa5c4524",
   "metadata": {},
   "source": [
    "***"
   ]
  },
  {
   "cell_type": "code",
   "execution_count": 44,
   "id": "1abe87b6",
   "metadata": {},
   "outputs": [],
   "source": [
    "temp, _, _, full_lags = pre_process(protected_full[283:289], target_forecast_period=1, log=True, make_stationary=True, sp=12)"
   ]
  },
  {
   "cell_type": "code",
   "execution_count": 8,
   "id": "9c336790",
   "metadata": {},
   "outputs": [],
   "source": [
    "# temp, _, _, full_lags = pre_process(full_data[283:289], target_forecast_period=1, log=True, make_stationary=True, sp=12)"
   ]
  },
  {
   "cell_type": "code",
   "execution_count": null,
   "id": "123d7d50",
   "metadata": {},
   "outputs": [],
   "source": [
    "ps = temp[0]\n",
    "ps.index = np.arange(0, len(ps))\n",
    "plot_series(ps)"
   ]
  },
  {
   "cell_type": "code",
   "execution_count": null,
   "id": "397dc3bb",
   "metadata": {},
   "outputs": [],
   "source": [
    "ps = temp[1]\n",
    "ps.index = np.arange(0, len(ps))\n",
    "plot_series(ps)"
   ]
  },
  {
   "cell_type": "code",
   "execution_count": null,
   "id": "921b2a9d",
   "metadata": {},
   "outputs": [],
   "source": [
    "ps = temp[2]\n",
    "ps.index = np.arange(0, len(ps))\n",
    "plot_series(ps)"
   ]
  },
  {
   "cell_type": "code",
   "execution_count": null,
   "id": "cf459064",
   "metadata": {},
   "outputs": [],
   "source": [
    "ps = temp[3]\n",
    "ps.index = np.arange(0, len(ps))\n",
    "plot_series(ps)"
   ]
  },
  {
   "cell_type": "code",
   "execution_count": null,
   "id": "dbc6c4c0",
   "metadata": {},
   "outputs": [],
   "source": [
    "ps = temp[4]\n",
    "ps.index = np.arange(0, len(ps))\n",
    "plot_series(ps)"
   ]
  },
  {
   "cell_type": "code",
   "execution_count": null,
   "id": "0e8e6af8",
   "metadata": {},
   "outputs": [],
   "source": [
    "ps = temp[5]\n",
    "ps.index = np.arange(0, len(ps))\n",
    "plot_series(ps)"
   ]
  },
  {
   "cell_type": "code",
   "execution_count": 45,
   "id": "30150c64",
   "metadata": {},
   "outputs": [],
   "source": [
    "# convert list to TxK dataframe\n",
    "group = pd.concat(temp, axis=1, ignore_index=True)"
   ]
  },
  {
   "cell_type": "code",
   "execution_count": 46,
   "id": "e4fc2b64",
   "metadata": {},
   "outputs": [
    {
     "data": {
      "text/plain": [
       "(124,)"
      ]
     },
     "execution_count": 46,
     "metadata": {},
     "output_type": "execute_result"
    }
   ],
   "source": [
    "full_data[283].shape"
   ]
  },
  {
   "cell_type": "code",
   "execution_count": 47,
   "id": "314312d1",
   "metadata": {},
   "outputs": [
    {
     "data": {
      "text/plain": [
       "(123,)"
      ]
     },
     "execution_count": 47,
     "metadata": {},
     "output_type": "execute_result"
    }
   ],
   "source": [
    "temp[0].shape"
   ]
  },
  {
   "cell_type": "code",
   "execution_count": 48,
   "id": "1d049840",
   "metadata": {},
   "outputs": [
    {
     "data": {
      "text/plain": [
       "(123, 6)"
      ]
     },
     "execution_count": 48,
     "metadata": {},
     "output_type": "execute_result"
    }
   ],
   "source": [
    "group.shape"
   ]
  },
  {
   "cell_type": "code",
   "execution_count": 49,
   "id": "dee632a3",
   "metadata": {},
   "outputs": [
    {
     "data": {
      "text/plain": [
       "Int64Index([  1,   2,   3,   4,   5,   6,   7,   8,   9,  10,\n",
       "            ...\n",
       "            114, 115, 116, 117, 118, 119, 120, 121, 122, 123],\n",
       "           dtype='int64', length=123)"
      ]
     },
     "execution_count": 49,
     "metadata": {},
     "output_type": "execute_result"
    }
   ],
   "source": [
    "group.index"
   ]
  },
  {
   "cell_type": "code",
   "execution_count": 50,
   "id": "f9d4fe70",
   "metadata": {},
   "outputs": [
    {
     "name": "stderr",
     "output_type": "stream",
     "text": [
      "C:\\Users\\Cameron\\anaconda3\\lib\\site-packages\\statsmodels\\tsa\\base\\tsa_model.py:471: ValueWarning: An unsupported index was provided and will be ignored when e.g. forecasting.\n",
      "  self._init_dates(dates, freq)\n"
     ]
    }
   ],
   "source": [
    "forecaster = VAR(endog=group)\n",
    "results = forecaster.fit(ic='bic', trend='c')"
   ]
  },
  {
   "cell_type": "code",
   "execution_count": 51,
   "id": "1389f80f",
   "metadata": {},
   "outputs": [
    {
     "data": {
      "text/plain": [
       "  Summary of Regression Results   \n",
       "==================================\n",
       "Model:                         VAR\n",
       "Method:                        OLS\n",
       "Date:           Thu, 09, Feb, 2023\n",
       "Time:                     16:14:21\n",
       "--------------------------------------------------------------------\n",
       "No. of Equations:         6.00000    BIC:                   0.496157\n",
       "Nobs:                     122.000    HQIC:                -0.0770793\n",
       "Log likelihood:          -968.044    FPE:                   0.626000\n",
       "AIC:                    -0.469162    Det(Omega_mle):        0.447914\n",
       "--------------------------------------------------------------------\n",
       "Results for equation 0\n",
       "========================================================================\n",
       "           coefficient       std. error           t-stat            prob\n",
       "------------------------------------------------------------------------\n",
       "const         0.053730         0.099182            0.542           0.588\n",
       "L1.0         -0.418612         0.071066           -5.890           0.000\n",
       "L1.1         -0.068881         0.182168           -0.378           0.705\n",
       "L1.2          0.216054         0.235197            0.919           0.358\n",
       "L1.3          0.670554         0.320626            2.091           0.036\n",
       "L1.4         -0.056239         0.033645           -1.672           0.095\n",
       "L1.5         -0.016694         0.031392           -0.532           0.595\n",
       "========================================================================\n",
       "\n",
       "Results for equation 1\n",
       "========================================================================\n",
       "           coefficient       std. error           t-stat            prob\n",
       "------------------------------------------------------------------------\n",
       "const        -0.061177         0.079152           -0.773           0.440\n",
       "L1.0          0.005327         0.056714            0.094           0.925\n",
       "L1.1         -0.679100         0.145379           -4.671           0.000\n",
       "L1.2          0.080284         0.187699            0.428           0.669\n",
       "L1.3          0.026998         0.255874            0.106           0.916\n",
       "L1.4          0.081302         0.026851            3.028           0.002\n",
       "L1.5          0.045065         0.025053            1.799           0.072\n",
       "========================================================================\n",
       "\n",
       "Results for equation 2\n",
       "========================================================================\n",
       "           coefficient       std. error           t-stat            prob\n",
       "------------------------------------------------------------------------\n",
       "const         0.000138         0.032452            0.004           0.997\n",
       "L1.0         -0.006181         0.023253           -0.266           0.790\n",
       "L1.1          0.062275         0.059605            1.045           0.296\n",
       "L1.2         -0.512927         0.076956           -6.665           0.000\n",
       "L1.3          0.029648         0.104908            0.283           0.777\n",
       "L1.4         -0.015477         0.011009           -1.406           0.160\n",
       "L1.5         -0.015992         0.010271           -1.557           0.119\n",
       "========================================================================\n",
       "\n",
       "Results for equation 3\n",
       "========================================================================\n",
       "           coefficient       std. error           t-stat            prob\n",
       "------------------------------------------------------------------------\n",
       "const        -0.005165         0.026768           -0.193           0.847\n",
       "L1.0          0.019920         0.019179            1.039           0.299\n",
       "L1.1          0.005959         0.049164            0.121           0.904\n",
       "L1.2          0.136030         0.063476            2.143           0.032\n",
       "L1.3         -0.418936         0.086531           -4.841           0.000\n",
       "L1.4          0.001331         0.009080            0.147           0.883\n",
       "L1.5         -0.004154         0.008472           -0.490           0.624\n",
       "========================================================================\n",
       "\n",
       "Results for equation 4\n",
       "========================================================================\n",
       "           coefficient       std. error           t-stat            prob\n",
       "------------------------------------------------------------------------\n",
       "const        -0.039538         0.239661           -0.165           0.869\n",
       "L1.0          0.367705         0.171722            2.141           0.032\n",
       "L1.1         -0.640307         0.440185           -1.455           0.146\n",
       "L1.2         -0.167675         0.568323           -0.295           0.768\n",
       "L1.3         -0.805478         0.774749           -1.040           0.298\n",
       "L1.4         -0.459389         0.081300           -5.651           0.000\n",
       "L1.5          0.151339         0.075855            1.995           0.046\n",
       "========================================================================\n",
       "\n",
       "Results for equation 5\n",
       "========================================================================\n",
       "           coefficient       std. error           t-stat            prob\n",
       "------------------------------------------------------------------------\n",
       "const        -0.018030         0.255019           -0.071           0.944\n",
       "L1.0          0.217656         0.182726            1.191           0.234\n",
       "L1.1         -1.271902         0.468393           -2.715           0.007\n",
       "L1.2          0.635229         0.604742            1.050           0.294\n",
       "L1.3          0.144361         0.824396            0.175           0.861\n",
       "L1.4          0.033319         0.086509            0.385           0.700\n",
       "L1.5         -0.521518         0.080716           -6.461           0.000\n",
       "========================================================================\n",
       "\n",
       "Correlation matrix of residuals\n",
       "            0         1         2         3         4         5\n",
       "0    1.000000  0.124948  0.005859 -0.015185  0.010994  0.249811\n",
       "1    0.124948  1.000000  0.010937  0.213200 -0.106616  0.123562\n",
       "2    0.005859  0.010937  1.000000  0.098721  0.087509 -0.023643\n",
       "3   -0.015185  0.213200  0.098721  1.000000  0.002745 -0.088534\n",
       "4    0.010994 -0.106616  0.087509  0.002745  1.000000 -0.241659\n",
       "5    0.249811  0.123562 -0.023643 -0.088534 -0.241659  1.000000\n",
       "\n"
      ]
     },
     "execution_count": 51,
     "metadata": {},
     "output_type": "execute_result"
    }
   ],
   "source": [
    "results.summary()"
   ]
  },
  {
   "cell_type": "code",
   "execution_count": 52,
   "id": "06333469",
   "metadata": {},
   "outputs": [],
   "source": [
    "# number of lags in VAR model\n",
    "lag_order = results.k_ar"
   ]
  },
  {
   "cell_type": "code",
   "execution_count": 53,
   "id": "4c4a6b86",
   "metadata": {},
   "outputs": [],
   "source": [
    "fvs = results.fittedvalues.T"
   ]
  },
  {
   "cell_type": "code",
   "execution_count": 54,
   "id": "0681b87c",
   "metadata": {},
   "outputs": [],
   "source": [
    "fvs = pd.concat([group.iloc[0:lag_order,:].T, fvs], axis=1, ignore_index=True)"
   ]
  },
  {
   "cell_type": "code",
   "execution_count": 55,
   "id": "1f590824",
   "metadata": {},
   "outputs": [],
   "source": [
    "fvs = [fvs.iloc[i,:] for i in range(fvs.shape[0])]"
   ]
  },
  {
   "cell_type": "code",
   "execution_count": 56,
   "id": "50d1d0a7",
   "metadata": {},
   "outputs": [],
   "source": [
    "group = [group.T.iloc[i,:] for i in range(group.T.shape[0])]"
   ]
  },
  {
   "cell_type": "markdown",
   "id": "68e83602",
   "metadata": {},
   "source": [
    "***"
   ]
  },
  {
   "cell_type": "code",
   "execution_count": 57,
   "id": "7b4b2a83",
   "metadata": {},
   "outputs": [],
   "source": [
    "temp1 = fvs[0]\n",
    "temp2 = group[0]"
   ]
  },
  {
   "cell_type": "code",
   "execution_count": 64,
   "id": "4de4cb83",
   "metadata": {},
   "outputs": [
    {
     "data": {
      "text/plain": [
       "0     -8.050717\n",
       "1      3.886585\n",
       "2     -3.162461\n",
       "3     -0.352645\n",
       "4      0.277939\n",
       "         ...   \n",
       "118    0.402346\n",
       "119   -0.002654\n",
       "120    0.172391\n",
       "121    0.193549\n",
       "122    0.222002\n",
       "Name: 0, Length: 123, dtype: float64"
      ]
     },
     "execution_count": 64,
     "metadata": {},
     "output_type": "execute_result"
    }
   ],
   "source": [
    "temp1"
   ]
  },
  {
   "cell_type": "code",
   "execution_count": 65,
   "id": "52874138",
   "metadata": {},
   "outputs": [
    {
     "data": {
      "text/plain": [
       "1     -8.050717\n",
       "2      7.727143\n",
       "3      0.652138\n",
       "4     -0.226004\n",
       "5     -0.043878\n",
       "         ...   \n",
       "119   -0.185798\n",
       "120   -0.042757\n",
       "121   -0.173213\n",
       "122    0.147827\n",
       "123    0.233686\n",
       "Name: 0, Length: 123, dtype: float64"
      ]
     },
     "execution_count": 65,
     "metadata": {},
     "output_type": "execute_result"
    }
   ],
   "source": [
    "temp2"
   ]
  },
  {
   "cell_type": "code",
   "execution_count": 66,
   "id": "8d01d4d7",
   "metadata": {},
   "outputs": [
    {
     "data": {
      "text/plain": [
       "0      100.000000\n",
       "1       91.949283\n",
       "2       95.835868\n",
       "3       92.673407\n",
       "4       92.320762\n",
       "          ...    \n",
       "119     98.834032\n",
       "120     98.831379\n",
       "121     99.003770\n",
       "122     99.197319\n",
       "123     99.419321\n",
       "Length: 124, dtype: float64"
      ]
     },
     "execution_count": 66,
     "metadata": {},
     "output_type": "execute_result"
    }
   ],
   "source": [
    "pd.Series(np.r_[100, temp1].cumsum())"
   ]
  },
  {
   "cell_type": "code",
   "execution_count": 67,
   "id": "f236b075",
   "metadata": {},
   "outputs": [
    {
     "data": {
      "text/plain": [
       "0      100.000000\n",
       "1       91.949283\n",
       "2       99.676426\n",
       "3      100.328564\n",
       "4      100.102560\n",
       "          ...    \n",
       "119     99.253779\n",
       "120     99.211022\n",
       "121     99.037809\n",
       "122     99.185635\n",
       "123     99.419321\n",
       "Length: 124, dtype: float64"
      ]
     },
     "execution_count": 67,
     "metadata": {},
     "output_type": "execute_result"
    }
   ],
   "source": [
    "pd.Series(np.r_[100, temp2].cumsum())"
   ]
  },
  {
   "cell_type": "markdown",
   "id": "8a1f08b5",
   "metadata": {},
   "source": [
    "Steps:\n",
    "\n",
    "- difference the original series\n",
    "- fit forecasting model, ignoring NaN values\n",
    "- generate forecast\n",
    "- add NaN value back in, append forecast to end, and reverse the differencing (make sure that we accommodate forecasts of any length)\n",
    "- remove the forecasts from the end of the series and save separately"
   ]
  },
  {
   "cell_type": "code",
   "execution_count": null,
   "id": "b5a0851f",
   "metadata": {},
   "outputs": [],
   "source": [
    "h = 2"
   ]
  },
  {
   "cell_type": "code",
   "execution_count": null,
   "id": "f45128fe",
   "metadata": {},
   "outputs": [],
   "source": [
    "# difference the original series\n",
    "diffed_full = full_data[0].diff()"
   ]
  },
  {
   "cell_type": "code",
   "execution_count": null,
   "id": "310be6ad",
   "metadata": {},
   "outputs": [],
   "source": [
    "diffed_full"
   ]
  },
  {
   "cell_type": "code",
   "execution_count": null,
   "id": "edc76c75",
   "metadata": {},
   "outputs": [],
   "source": [
    "# remove NA values\n",
    "diffed_full = diffed_full.dropna()"
   ]
  },
  {
   "cell_type": "code",
   "execution_count": null,
   "id": "6aa38976",
   "metadata": {},
   "outputs": [],
   "source": [
    "diffed_full"
   ]
  },
  {
   "cell_type": "code",
   "execution_count": null,
   "id": "d2910d29",
   "metadata": {},
   "outputs": [],
   "source": [
    "# store the index of the last period\n",
    "last_period = diffed_full.index[-1] + 1"
   ]
  },
  {
   "cell_type": "code",
   "execution_count": null,
   "id": "e4586521",
   "metadata": {},
   "outputs": [],
   "source": [
    "# fit forecast model\n",
    "fcast = pd.Series([10, -10])\n",
    "# assign the correct index\n",
    "fcast.index = np.arange(last_period, last_period+h)"
   ]
  },
  {
   "cell_type": "code",
   "execution_count": null,
   "id": "6bad2323",
   "metadata": {},
   "outputs": [],
   "source": [
    "fcast"
   ]
  },
  {
   "cell_type": "code",
   "execution_count": null,
   "id": "04824aa2",
   "metadata": {},
   "outputs": [],
   "source": [
    "# store the initial value of the time series\n",
    "# first_val = full_data[0].iloc[0]\n",
    "first_val = full_data[0].iloc[-1]"
   ]
  },
  {
   "cell_type": "code",
   "execution_count": null,
   "id": "a580d4ec",
   "metadata": {},
   "outputs": [],
   "source": [
    "first_val"
   ]
  },
  {
   "cell_type": "code",
   "execution_count": null,
   "id": "b00f18dc",
   "metadata": {},
   "outputs": [],
   "source": [
    "reverse_diffed = np.r_[first_val, fcast].cumsum()# .astype(int)"
   ]
  },
  {
   "cell_type": "code",
   "execution_count": null,
   "id": "1a788b0a",
   "metadata": {},
   "outputs": [],
   "source": [
    "reverse_diffed[-h:]"
   ]
  },
  {
   "cell_type": "code",
   "execution_count": null,
   "id": "575dc941",
   "metadata": {},
   "outputs": [],
   "source": [
    "full_data[0]"
   ]
  },
  {
   "cell_type": "markdown",
   "id": "a85371c8",
   "metadata": {},
   "source": [
    "***"
   ]
  },
  {
   "cell_type": "code",
   "execution_count": null,
   "id": "b4ed4643",
   "metadata": {},
   "outputs": [],
   "source": [
    "group"
   ]
  },
  {
   "cell_type": "code",
   "execution_count": null,
   "id": "97b80cdd",
   "metadata": {},
   "outputs": [],
   "source": [
    "temp_post = post_process(full_ts_data=protected_full[283:289],\n",
    "             forecasts=fvs,\n",
    "             target_forecast_period=1,\n",
    "             make_stationary=True,\n",
    "             log=True,\n",
    "             is_fitted=True)"
   ]
  },
  {
   "cell_type": "code",
   "execution_count": null,
   "id": "ea269920",
   "metadata": {},
   "outputs": [],
   "source": [
    "temp_post.shape"
   ]
  },
  {
   "cell_type": "code",
   "execution_count": null,
   "id": "fff22ed7",
   "metadata": {},
   "outputs": [],
   "source": [
    "protected_full[283].shape"
   ]
  },
  {
   "cell_type": "code",
   "execution_count": null,
   "id": "208db341",
   "metadata": {},
   "outputs": [],
   "source": [
    "temp_post"
   ]
  },
  {
   "cell_type": "code",
   "execution_count": null,
   "id": "aad345bd",
   "metadata": {},
   "outputs": [],
   "source": [
    "pd.concat(protected_full[283:289], axis=1)"
   ]
  },
  {
   "cell_type": "code",
   "execution_count": null,
   "id": "ffbdb12b",
   "metadata": {},
   "outputs": [],
   "source": [
    "ps = temp_post.iloc[:,5]\n",
    "ps.index = np.arange(0, len(ps))\n",
    "plot_series(ps)"
   ]
  },
  {
   "cell_type": "code",
   "execution_count": null,
   "id": "8735677e",
   "metadata": {},
   "outputs": [],
   "source": [
    "results.coefs"
   ]
  },
  {
   "cell_type": "code",
   "execution_count": null,
   "id": "8fe49eea",
   "metadata": {},
   "outputs": [],
   "source": [
    "intercepts = results.coefs_exog"
   ]
  },
  {
   "cell_type": "code",
   "execution_count": null,
   "id": "f7cfae8a",
   "metadata": {},
   "outputs": [],
   "source": [
    "lag_order"
   ]
  },
  {
   "cell_type": "code",
   "execution_count": null,
   "id": "85d14c92",
   "metadata": {},
   "outputs": [],
   "source": [
    "# forecast nfs steps ahead using lag_order prior values\n",
    "predictions = results.forecast(np.array(group[-lag_order:]), steps=1)"
   ]
  },
  {
   "cell_type": "code",
   "execution_count": null,
   "id": "1637173a",
   "metadata": {},
   "outputs": [],
   "source": [
    "predictions.T"
   ]
  },
  {
   "cell_type": "markdown",
   "id": "8a06da08",
   "metadata": {},
   "source": [
    "Results on the original versions of the series."
   ]
  },
  {
   "cell_type": "code",
   "execution_count": null,
   "id": "49e39f95",
   "metadata": {},
   "outputs": [],
   "source": [
    "temp, _, _, full_lags = pre_process(full_data[283:289], target_forecast_period=1, log=True, make_stationary=True, sp=12)"
   ]
  },
  {
   "cell_type": "code",
   "execution_count": null,
   "id": "f9455399",
   "metadata": {},
   "outputs": [],
   "source": [
    "# convert list to TxK dataframe\n",
    "group = pd.concat(temp, axis=1, ignore_index=True)"
   ]
  },
  {
   "cell_type": "code",
   "execution_count": null,
   "id": "b8bf7cf4",
   "metadata": {},
   "outputs": [],
   "source": [
    "group"
   ]
  },
  {
   "cell_type": "code",
   "execution_count": null,
   "id": "9ddc32a1",
   "metadata": {},
   "outputs": [],
   "source": [
    "forecaster = VAR(endog=group)\n",
    "results = forecaster.fit(ic='bic', trend='c')"
   ]
  },
  {
   "cell_type": "code",
   "execution_count": null,
   "id": "141d0112",
   "metadata": {},
   "outputs": [],
   "source": [
    "results.summary()"
   ]
  },
  {
   "cell_type": "code",
   "execution_count": null,
   "id": "5e0646af",
   "metadata": {},
   "outputs": [],
   "source": [
    "results.coefs"
   ]
  },
  {
   "cell_type": "code",
   "execution_count": null,
   "id": "c976a161",
   "metadata": {},
   "outputs": [],
   "source": [
    "intercepts = results.coefs_exog"
   ]
  },
  {
   "cell_type": "code",
   "execution_count": null,
   "id": "308f63e5",
   "metadata": {},
   "outputs": [],
   "source": [
    "# number of lags in VAR model\n",
    "lag_order = results.k_ar"
   ]
  },
  {
   "cell_type": "code",
   "execution_count": null,
   "id": "305aa429",
   "metadata": {},
   "outputs": [],
   "source": [
    "lag_order"
   ]
  },
  {
   "cell_type": "code",
   "execution_count": null,
   "id": "2e5bebb2",
   "metadata": {},
   "outputs": [],
   "source": [
    "# forecast nfs steps ahead using lag_order prior values\n",
    "predictions = results.forecast(np.array(group[-lag_order:]), steps=1)"
   ]
  },
  {
   "cell_type": "code",
   "execution_count": null,
   "id": "ec9e84fa",
   "metadata": {},
   "outputs": [],
   "source": [
    "predictions.T"
   ]
  },
  {
   "cell_type": "code",
   "execution_count": null,
   "id": "45533f05",
   "metadata": {},
   "outputs": [],
   "source": []
  }
 ],
 "metadata": {
  "kernelspec": {
   "display_name": "Python 3 (ipykernel)",
   "language": "python",
   "name": "python3"
  },
  "language_info": {
   "codemirror_mode": {
    "name": "ipython",
    "version": 3
   },
   "file_extension": ".py",
   "mimetype": "text/x-python",
   "name": "python",
   "nbconvert_exporter": "python",
   "pygments_lexer": "ipython3",
   "version": "3.9.7"
  }
 },
 "nbformat": 4,
 "nbformat_minor": 5
}
