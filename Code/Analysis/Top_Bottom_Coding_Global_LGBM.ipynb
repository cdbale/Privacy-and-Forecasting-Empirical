{
 "cells": [
  {
   "cell_type": "markdown",
   "id": "cd2ff7cb",
   "metadata": {},
   "source": [
    "## Analyzing the Effects of Top/Bottom Coding on The Accuracy of Global LGBM Forecasts"
   ]
  },
  {
   "cell_type": "markdown",
   "id": "1474c915",
   "metadata": {},
   "source": [
    "***"
   ]
  },
  {
   "cell_type": "markdown",
   "id": "aa7ba28b",
   "metadata": {},
   "source": [
    "## Import Modules"
   ]
  },
  {
   "cell_type": "code",
   "execution_count": 1,
   "id": "f5f4856f",
   "metadata": {},
   "outputs": [],
   "source": [
    "# general modules\n",
    "import numpy as np\n",
    "import pandas as pd\n",
    "import matplotlib.pyplot as plt\n",
    "import seaborn as sns\n",
    "\n",
    "# light gradient boosting model package\n",
    "import lightgbm as lgb\n",
    "\n",
    "##### the `helper_functions.py` file contains many custom functions we wrote to aid in our analysis\n",
    "##### `full_coding_analysis` combines all of the following - train-test split data,\n",
    "##### data protection, train models, compare accuracies, return accuracy results\n",
    "from helper_functions import full_coding_analysis\n",
    "from helper_functions import *\n",
    "\n",
    "# import detrender and deseasonalizer\n",
    "from sktime.transformations.series.detrend import Detrender\n",
    "# nice time series plots\n",
    "from sktime.utils.plotting import plot_series"
   ]
  },
  {
   "cell_type": "markdown",
   "id": "bd7c1d74",
   "metadata": {},
   "source": [
    "## Import data"
   ]
  },
  {
   "cell_type": "code",
   "execution_count": 2,
   "id": "ca873e50",
   "metadata": {},
   "outputs": [],
   "source": [
    "# import weekly finance time series\n",
    "Y = np.genfromtxt(\"../../Data/Train/Clean/weekly_finance_clean.csv\", delimiter = ',', skip_header = 1)\n",
    "Y = pd.DataFrame(Y)"
   ]
  },
  {
   "cell_type": "markdown",
   "id": "c5e92131",
   "metadata": {},
   "source": [
    "This file experiments with applying top and bottom coding to detrended data (intuition suggests this type of data is a better candidate for this type of protection than the original finance series data) so we remove the trend from the finance data here."
   ]
  },
  {
   "cell_type": "code",
   "execution_count": 3,
   "id": "c23729ac",
   "metadata": {},
   "outputs": [],
   "source": [
    "detrender = Detrender()\n",
    "detrended_series = [detrender.fit_transform(series) for _ , series in Y.iterrows()]\n",
    "detrended_series = [i+np.abs(np.min(i))+1.0 for i in detrended_series]\n",
    "Y = pd.concat(detrended_series, axis=1).T"
   ]
  },
  {
   "cell_type": "markdown",
   "id": "07ad35d9",
   "metadata": {},
   "source": [
    "***"
   ]
  },
  {
   "cell_type": "markdown",
   "id": "05057abd",
   "metadata": {},
   "source": [
    "We obtain results for a combination of forecast horizons, coding types (top and bottom), coding percentages, and model complexities:\n",
    "\n",
    "* Forecast Horizons: (1, 5, 15)\n",
    "* Coding Types: (Top, Bottom)\n",
    "* Coding Percentages: (0.10, 0.20, 0.40)\n",
    "* Model complexities (window length): (10, 20, 40)"
   ]
  },
  {
   "cell_type": "markdown",
   "id": "c5a9df38",
   "metadata": {},
   "source": [
    "## Simple Model (window length = 10)"
   ]
  },
  {
   "cell_type": "code",
   "execution_count": 4,
   "id": "dbf6e2d5",
   "metadata": {},
   "outputs": [],
   "source": [
    "forecaster = lgb.LGBMRegressor()\n",
    "window_length = 10"
   ]
  },
  {
   "cell_type": "code",
   "execution_count": 5,
   "id": "a2adde68",
   "metadata": {},
   "outputs": [],
   "source": [
    "results_dict_10 = {}\n",
    "fcasts_10 = {}\n",
    "fcasts_protected_10 = {}\n",
    "tests = {}\n",
    "types = [\"Top\", \"Bottom\"]\n",
    "percentages = [0.10, 0.20, 0.40]\n",
    "horizons = [1, 20]"
   ]
  },
  {
   "cell_type": "code",
   "execution_count": 6,
   "id": "01b494c4",
   "metadata": {},
   "outputs": [],
   "source": [
    "for t in types:\n",
    "    for p in percentages:\n",
    "        for h in horizons:\n",
    "            idx = \"h=\"+str(h)+\", \"+t+\" \"+str(p)\n",
    "            results_dict_10[idx], tests[idx], fcasts_10[idx], fcasts_protected_10[idx] = full_coding_analysis(time_series_data=Y,\n",
    "                                                                                                              forecasting_model=forecaster,\n",
    "                                                                                                              forecast_horizon=h, \n",
    "                                                                                                              coding_type=t, \n",
    "                                                                                                              coding_percentage=p, \n",
    "                                                                                                              window_length=window_length)"
   ]
  },
  {
   "cell_type": "markdown",
   "id": "a4ec92e9",
   "metadata": {},
   "source": [
    "***"
   ]
  },
  {
   "cell_type": "code",
   "execution_count": 7,
   "id": "f38bbe6b",
   "metadata": {},
   "outputs": [
    {
     "data": {
      "text/plain": [
       "{'h=1, Top 0.1': {'Mean Accuracies': array([0.3457, 0.3457]),\n",
       "  'Protected Mean Accuracies:': array([0.3675, 0.3675]),\n",
       "  '% Change Mean accuracy:': array([-0.063, -0.063]),\n",
       "  '% Change Median accuracy:': array([-0.2091, -0.2091]),\n",
       "  '% Forecasted Points adjusted downward:': 0.3537,\n",
       "  '% Forecasted Points adjusted upward:': 0.6463,\n",
       "  '% Series with improved accuracy:': array([0.4329, 0.4329]),\n",
       "  '% Series with reduced accuracy:': array([0.5671, 0.5671]),\n",
       "  'Original Mean Absolute Error Upward Adjusted:': 0.351,\n",
       "  'Original Mean Absolute Error Downward Adjusted:': 0.336,\n",
       "  'Protected Mean Absolute Error Upward Adjusted:': 0.3625,\n",
       "  'Protected Mean Absolute Error Downward Adjusted:': 0.3765},\n",
       " 'h=20, Top 0.1': {'Mean Accuracies': array([0.485 , 0.5894]),\n",
       "  'Protected Mean Accuracies:': array([0.4547, 0.5566]),\n",
       "  '% Change Mean accuracy:': array([0.0624, 0.0557]),\n",
       "  '% Change Median accuracy:': array([0.1249, 0.0919]),\n",
       "  '% Forecasted Points adjusted downward:': 0.421,\n",
       "  '% Forecasted Points adjusted upward:': 0.579,\n",
       "  '% Series with improved accuracy:': array([0.5427, 0.561 ]),\n",
       "  '% Series with reduced accuracy:': array([0.4573, 0.439 ]),\n",
       "  'Original Mean Absolute Error Upward Adjusted:': 0.5372,\n",
       "  'Original Mean Absolute Error Downward Adjusted:': 0.4132,\n",
       "  'Protected Mean Absolute Error Upward Adjusted:': 0.4412,\n",
       "  'Protected Mean Absolute Error Downward Adjusted:': 0.4733},\n",
       " 'h=1, Top 0.2': {'Mean Accuracies': array([0.3457, 0.3457]),\n",
       "  'Protected Mean Accuracies:': array([0.379, 0.379]),\n",
       "  '% Change Mean accuracy:': array([-0.0963, -0.0963]),\n",
       "  '% Change Median accuracy:': array([-0.5302, -0.5302]),\n",
       "  '% Forecasted Points adjusted downward:': 0.372,\n",
       "  '% Forecasted Points adjusted upward:': 0.628,\n",
       "  '% Series with improved accuracy:': array([0.3598, 0.3598]),\n",
       "  '% Series with reduced accuracy:': array([0.6402, 0.6402]),\n",
       "  'Original Mean Absolute Error Upward Adjusted:': 0.3204,\n",
       "  'Original Mean Absolute Error Downward Adjusted:': 0.3884,\n",
       "  'Protected Mean Absolute Error Upward Adjusted:': 0.3341,\n",
       "  'Protected Mean Absolute Error Downward Adjusted:': 0.4547},\n",
       " 'h=20, Top 0.2': {'Mean Accuracies': array([0.485 , 0.5894]),\n",
       "  'Protected Mean Accuracies:': array([0.4661, 0.563 ]),\n",
       "  '% Change Mean accuracy:': array([0.0388, 0.0447]),\n",
       "  '% Change Median accuracy:': array([0.0668, 0.0854]),\n",
       "  '% Forecasted Points adjusted downward:': 0.3561,\n",
       "  '% Forecasted Points adjusted upward:': 0.6439,\n",
       "  '% Series with improved accuracy:': array([0.561 , 0.5427]),\n",
       "  '% Series with reduced accuracy:': array([0.439 , 0.4573]),\n",
       "  'Original Mean Absolute Error Upward Adjusted:': 0.4785,\n",
       "  'Original Mean Absolute Error Downward Adjusted:': 0.4967,\n",
       "  'Protected Mean Absolute Error Upward Adjusted:': 0.4002,\n",
       "  'Protected Mean Absolute Error Downward Adjusted:': 0.5854},\n",
       " 'h=1, Top 0.4': {'Mean Accuracies': array([0.3457, 0.3457]),\n",
       "  'Protected Mean Accuracies:': array([0.4409, 0.4409]),\n",
       "  '% Change Mean accuracy:': array([-0.2755, -0.2755]),\n",
       "  '% Change Median accuracy:': array([-1.1971, -1.1971]),\n",
       "  '% Forecasted Points adjusted downward:': 0.4817,\n",
       "  '% Forecasted Points adjusted upward:': 0.5183,\n",
       "  '% Series with improved accuracy:': array([0.2561, 0.2561]),\n",
       "  '% Series with reduced accuracy:': array([0.7439, 0.7439]),\n",
       "  'Original Mean Absolute Error Upward Adjusted:': 0.4514,\n",
       "  'Original Mean Absolute Error Downward Adjusted:': 0.2319,\n",
       "  'Protected Mean Absolute Error Upward Adjusted:': 0.5057,\n",
       "  'Protected Mean Absolute Error Downward Adjusted:': 0.3712},\n",
       " 'h=20, Top 0.4': {'Mean Accuracies': array([0.485 , 0.5894]),\n",
       "  'Protected Mean Accuracies:': array([0.4801, 0.5874]),\n",
       "  '% Change Mean accuracy:': array([0.0102, 0.0033]),\n",
       "  '% Change Median accuracy:': array([ 0.0321, -0.0077]),\n",
       "  '% Forecasted Points adjusted downward:': 0.3701,\n",
       "  '% Forecasted Points adjusted upward:': 0.6299,\n",
       "  '% Series with improved accuracy:': array([0.5   , 0.4878]),\n",
       "  '% Series with reduced accuracy:': array([0.5   , 0.5122]),\n",
       "  'Original Mean Absolute Error Upward Adjusted:': 0.5122,\n",
       "  'Original Mean Absolute Error Downward Adjusted:': 0.4387,\n",
       "  'Protected Mean Absolute Error Upward Adjusted:': 0.4586,\n",
       "  'Protected Mean Absolute Error Downward Adjusted:': 0.5166},\n",
       " 'h=1, Bottom 0.1': {'Mean Accuracies': array([0.3457, 0.3457]),\n",
       "  'Protected Mean Accuracies:': array([0.4512, 0.4512]),\n",
       "  '% Change Mean accuracy:': array([-0.3054, -0.3054]),\n",
       "  '% Change Median accuracy:': array([-0.0802, -0.0802]),\n",
       "  '% Forecasted Points adjusted downward:': 0.5183,\n",
       "  '% Forecasted Points adjusted upward:': 0.4817,\n",
       "  '% Series with improved accuracy:': array([0.4329, 0.4329]),\n",
       "  '% Series with reduced accuracy:': array([0.5671, 0.5671]),\n",
       "  'Original Mean Absolute Error Upward Adjusted:': 0.5841,\n",
       "  'Original Mean Absolute Error Downward Adjusted:': 0.124,\n",
       "  'Protected Mean Absolute Error Upward Adjusted:': 0.7974,\n",
       "  'Protected Mean Absolute Error Downward Adjusted:': 0.1295},\n",
       " 'h=20, Bottom 0.1': {'Mean Accuracies': array([0.485 , 0.5894]),\n",
       "  'Protected Mean Accuracies:': array([0.4463, 0.5593]),\n",
       "  '% Change Mean accuracy:': array([0.0797, 0.051 ]),\n",
       "  '% Change Median accuracy:': array([0.1258, 0.1117]),\n",
       "  '% Forecasted Points adjusted downward:': 0.3665,\n",
       "  '% Forecasted Points adjusted upward:': 0.6335,\n",
       "  '% Series with improved accuracy:': array([0.5671, 0.5671]),\n",
       "  '% Series with reduced accuracy:': array([0.4329, 0.4329]),\n",
       "  'Original Mean Absolute Error Upward Adjusted:': 0.5963,\n",
       "  'Original Mean Absolute Error Downward Adjusted:': 0.2926,\n",
       "  'Protected Mean Absolute Error Upward Adjusted:': 0.5281,\n",
       "  'Protected Mean Absolute Error Downward Adjusted:': 0.3049},\n",
       " 'h=1, Bottom 0.2': {'Mean Accuracies': array([0.3457, 0.3457]),\n",
       "  'Protected Mean Accuracies:': array([0.5084, 0.5084]),\n",
       "  '% Change Mean accuracy:': array([-0.4706, -0.4706]),\n",
       "  '% Change Median accuracy:': array([-0.1501, -0.1501]),\n",
       "  '% Forecasted Points adjusted downward:': 0.6463,\n",
       "  '% Forecasted Points adjusted upward:': 0.3537,\n",
       "  '% Series with improved accuracy:': array([0.3598, 0.3598]),\n",
       "  '% Series with reduced accuracy:': array([0.6402, 0.6402]),\n",
       "  'Original Mean Absolute Error Upward Adjusted:': 0.7949,\n",
       "  'Original Mean Absolute Error Downward Adjusted:': 0.0999,\n",
       "  'Protected Mean Absolute Error Upward Adjusted:': 1.2252,\n",
       "  'Protected Mean Absolute Error Downward Adjusted:': 0.1161},\n",
       " 'h=20, Bottom 0.2': {'Mean Accuracies': array([0.485 , 0.5894]),\n",
       "  'Protected Mean Accuracies:': array([0.4426, 0.5541]),\n",
       "  '% Change Mean accuracy:': array([0.0874, 0.0598]),\n",
       "  '% Change Median accuracy:': array([0.1105, 0.11  ]),\n",
       "  '% Forecasted Points adjusted downward:': 0.3546,\n",
       "  '% Forecasted Points adjusted upward:': 0.6454,\n",
       "  '% Series with improved accuracy:': array([0.5305, 0.5183]),\n",
       "  '% Series with reduced accuracy:': array([0.4695, 0.4817]),\n",
       "  'Original Mean Absolute Error Upward Adjusted:': 0.6019,\n",
       "  'Original Mean Absolute Error Downward Adjusted:': 0.2722,\n",
       "  'Protected Mean Absolute Error Upward Adjusted:': 0.5218,\n",
       "  'Protected Mean Absolute Error Downward Adjusted:': 0.2985},\n",
       " 'h=1, Bottom 0.4': {'Mean Accuracies': array([0.3457, 0.3457]),\n",
       "  'Protected Mean Accuracies:': array([0.5813, 0.5813]),\n",
       "  '% Change Mean accuracy:': array([-0.6817, -0.6817]),\n",
       "  '% Change Median accuracy:': array([-0.7796, -0.7796]),\n",
       "  '% Forecasted Points adjusted downward:': 0.6463,\n",
       "  '% Forecasted Points adjusted upward:': 0.3537,\n",
       "  '% Series with improved accuracy:': array([0.2744, 0.2744]),\n",
       "  '% Series with reduced accuracy:': array([0.7256, 0.7256]),\n",
       "  'Original Mean Absolute Error Upward Adjusted:': 0.8094,\n",
       "  'Original Mean Absolute Error Downward Adjusted:': 0.092,\n",
       "  'Protected Mean Absolute Error Upward Adjusted:': 1.3798,\n",
       "  'Protected Mean Absolute Error Downward Adjusted:': 0.1445},\n",
       " 'h=20, Bottom 0.4': {'Mean Accuracies': array([0.485 , 0.5894]),\n",
       "  'Protected Mean Accuracies:': array([0.4597, 0.5693]),\n",
       "  '% Change Mean accuracy:': array([0.0521, 0.0341]),\n",
       "  '% Change Median accuracy:': array([0.0338, 0.0287]),\n",
       "  '% Forecasted Points adjusted downward:': 0.4229,\n",
       "  '% Forecasted Points adjusted upward:': 0.5771,\n",
       "  '% Series with improved accuracy:': array([0.4878, 0.4573]),\n",
       "  '% Series with reduced accuracy:': array([0.5122, 0.5427]),\n",
       "  'Original Mean Absolute Error Upward Adjusted:': 0.6506,\n",
       "  'Original Mean Absolute Error Downward Adjusted:': 0.2589,\n",
       "  'Protected Mean Absolute Error Upward Adjusted:': 0.5806,\n",
       "  'Protected Mean Absolute Error Downward Adjusted:': 0.2947}}"
      ]
     },
     "execution_count": 7,
     "metadata": {},
     "output_type": "execute_result"
    }
   ],
   "source": [
    "results_dict_10"
   ]
  },
  {
   "cell_type": "markdown",
   "id": "bffc242f",
   "metadata": {},
   "source": [
    "***\n",
    "***"
   ]
  },
  {
   "cell_type": "markdown",
   "id": "f2e10713",
   "metadata": {},
   "source": [
    "## 'Medium' Model (window length = 20)"
   ]
  },
  {
   "cell_type": "code",
   "execution_count": 8,
   "id": "ac63a58f",
   "metadata": {},
   "outputs": [],
   "source": [
    "forecaster = lgb.LGBMRegressor()\n",
    "window_length = 20"
   ]
  },
  {
   "cell_type": "code",
   "execution_count": 9,
   "id": "2a53ca6c",
   "metadata": {},
   "outputs": [],
   "source": [
    "results_dict_20 = {}\n",
    "fcasts_20 = {}\n",
    "fcasts_protected_20 = {}\n",
    "tests = {}\n",
    "types = [\"Top\", \"Bottom\"]\n",
    "percentages = [0.10, 0.20, 0.40]\n",
    "horizons = [1, 20]"
   ]
  },
  {
   "cell_type": "code",
   "execution_count": 10,
   "id": "754fdb14",
   "metadata": {},
   "outputs": [],
   "source": [
    "for t in types:\n",
    "    for p in percentages:\n",
    "        for h in horizons:\n",
    "            idx = \"h=\"+str(h)+\", \"+t+\" \"+str(p)\n",
    "            results_dict_20[idx], tests[idx], fcasts_20[idx], fcasts_protected_20[idx] = full_coding_analysis(time_series_data=Y,\n",
    "                                                                                                              forecasting_model=forecaster,\n",
    "                                                                                                              forecast_horizon=h, \n",
    "                                                                                                              coding_type=t, \n",
    "                                                                                                              coding_percentage=p, \n",
    "                                                                                                              window_length=window_length)"
   ]
  },
  {
   "cell_type": "code",
   "execution_count": 11,
   "id": "8e8429fa",
   "metadata": {},
   "outputs": [
    {
     "data": {
      "text/plain": [
       "{'h=1, Top 0.1': {'Mean Accuracies': array([0.3431, 0.3431]),\n",
       "  'Protected Mean Accuracies:': array([0.3648, 0.3648]),\n",
       "  '% Change Mean accuracy:': array([-0.0634, -0.0634]),\n",
       "  '% Change Median accuracy:': array([-0.1924, -0.1924]),\n",
       "  '% Forecasted Points adjusted downward:': 0.4146,\n",
       "  '% Forecasted Points adjusted upward:': 0.5854,\n",
       "  '% Series with improved accuracy:': array([0.4268, 0.4268]),\n",
       "  '% Series with reduced accuracy:': array([0.5732, 0.5732]),\n",
       "  'Original Mean Absolute Error Upward Adjusted:': 0.3431,\n",
       "  'Original Mean Absolute Error Downward Adjusted:': 0.343,\n",
       "  'Protected Mean Absolute Error Upward Adjusted:': 0.3605,\n",
       "  'Protected Mean Absolute Error Downward Adjusted:': 0.371},\n",
       " 'h=20, Top 0.1': {'Mean Accuracies': array([0.4815, 0.5946]),\n",
       "  'Protected Mean Accuracies:': array([0.4718, 0.5843]),\n",
       "  '% Change Mean accuracy:': array([0.0201, 0.0175]),\n",
       "  '% Change Median accuracy:': array([0.0439, 0.0638]),\n",
       "  '% Forecasted Points adjusted downward:': 0.4293,\n",
       "  '% Forecasted Points adjusted upward:': 0.5707,\n",
       "  '% Series with improved accuracy:': array([0.4756, 0.5244]),\n",
       "  '% Series with reduced accuracy:': array([0.5244, 0.4756]),\n",
       "  'Original Mean Absolute Error Upward Adjusted:': 0.487,\n",
       "  'Original Mean Absolute Error Downward Adjusted:': 0.4741,\n",
       "  'Protected Mean Absolute Error Upward Adjusted:': 0.4158,\n",
       "  'Protected Mean Absolute Error Downward Adjusted:': 0.5463},\n",
       " 'h=1, Top 0.2': {'Mean Accuracies': array([0.3431, 0.3431]),\n",
       "  'Protected Mean Accuracies:': array([0.3828, 0.3828]),\n",
       "  '% Change Mean accuracy:': array([-0.1157, -0.1157]),\n",
       "  '% Change Median accuracy:': array([-0.4643, -0.4643]),\n",
       "  '% Forecasted Points adjusted downward:': 0.3902,\n",
       "  '% Forecasted Points adjusted upward:': 0.6098,\n",
       "  '% Series with improved accuracy:': array([0.3354, 0.3354]),\n",
       "  '% Series with reduced accuracy:': array([0.6646, 0.6646]),\n",
       "  'Original Mean Absolute Error Upward Adjusted:': 0.3614,\n",
       "  'Original Mean Absolute Error Downward Adjusted:': 0.3144,\n",
       "  'Protected Mean Absolute Error Upward Adjusted:': 0.3759,\n",
       "  'Protected Mean Absolute Error Downward Adjusted:': 0.3935},\n",
       " 'h=20, Top 0.2': {'Mean Accuracies': array([0.4815, 0.5946]),\n",
       "  'Protected Mean Accuracies:': array([0.453, 0.563]),\n",
       "  '% Change Mean accuracy:': array([0.0591, 0.0532]),\n",
       "  '% Change Median accuracy:': array([0.0419, 0.0651]),\n",
       "  '% Forecasted Points adjusted downward:': 0.3595,\n",
       "  '% Forecasted Points adjusted upward:': 0.6405,\n",
       "  '% Series with improved accuracy:': array([0.5915, 0.5854]),\n",
       "  '% Series with reduced accuracy:': array([0.4085, 0.4146]),\n",
       "  'Original Mean Absolute Error Upward Adjusted:': 0.4503,\n",
       "  'Original Mean Absolute Error Downward Adjusted:': 0.537,\n",
       "  'Protected Mean Absolute Error Upward Adjusted:': 0.3866,\n",
       "  'Protected Mean Absolute Error Downward Adjusted:': 0.5714},\n",
       " 'h=1, Top 0.4': {'Mean Accuracies': array([0.3431, 0.3431]),\n",
       "  'Protected Mean Accuracies:': array([0.4418, 0.4418]),\n",
       "  '% Change Mean accuracy:': array([-0.2879, -0.2879]),\n",
       "  '% Change Median accuracy:': array([-1.3033, -1.3033]),\n",
       "  '% Forecasted Points adjusted downward:': 0.5,\n",
       "  '% Forecasted Points adjusted upward:': 0.5,\n",
       "  '% Series with improved accuracy:': array([0.2622, 0.2622]),\n",
       "  '% Series with reduced accuracy:': array([0.7378, 0.7378]),\n",
       "  'Original Mean Absolute Error Upward Adjusted:': 0.3876,\n",
       "  'Original Mean Absolute Error Downward Adjusted:': 0.2986,\n",
       "  'Protected Mean Absolute Error Upward Adjusted:': 0.4518,\n",
       "  'Protected Mean Absolute Error Downward Adjusted:': 0.4318},\n",
       " 'h=20, Top 0.4': {'Mean Accuracies': array([0.4815, 0.5946]),\n",
       "  'Protected Mean Accuracies:': array([0.4696, 0.5808]),\n",
       "  '% Change Mean accuracy:': array([0.0246, 0.0233]),\n",
       "  '% Change Median accuracy:': array([-0.0282, -0.0574]),\n",
       "  '% Forecasted Points adjusted downward:': 0.3759,\n",
       "  '% Forecasted Points adjusted upward:': 0.6241,\n",
       "  '% Series with improved accuracy:': array([0.5183, 0.5061]),\n",
       "  '% Series with reduced accuracy:': array([0.4817, 0.4939]),\n",
       "  'Original Mean Absolute Error Upward Adjusted:': 0.4941,\n",
       "  'Original Mean Absolute Error Downward Adjusted:': 0.4605,\n",
       "  'Protected Mean Absolute Error Upward Adjusted:': 0.4379,\n",
       "  'Protected Mean Absolute Error Downward Adjusted:': 0.5223},\n",
       " 'h=1, Bottom 0.1': {'Mean Accuracies': array([0.3431, 0.3431]),\n",
       "  'Protected Mean Accuracies:': array([0.4461, 0.4461]),\n",
       "  '% Change Mean accuracy:': array([-0.3004, -0.3004]),\n",
       "  '% Change Median accuracy:': array([0.0147, 0.0147]),\n",
       "  '% Forecasted Points adjusted downward:': 0.5854,\n",
       "  '% Forecasted Points adjusted upward:': 0.4146,\n",
       "  '% Series with improved accuracy:': array([0.4024, 0.4024]),\n",
       "  '% Series with reduced accuracy:': array([0.5976, 0.5976]),\n",
       "  'Original Mean Absolute Error Upward Adjusted:': 0.6626,\n",
       "  'Original Mean Absolute Error Downward Adjusted:': 0.1167,\n",
       "  'Protected Mean Absolute Error Upward Adjusted:': 0.9092,\n",
       "  'Protected Mean Absolute Error Downward Adjusted:': 0.1181},\n",
       " 'h=20, Bottom 0.1': {'Mean Accuracies': array([0.4815, 0.5946]),\n",
       "  'Protected Mean Accuracies:': array([0.4526, 0.568 ]),\n",
       "  '% Change Mean accuracy:': array([0.06  , 0.0447]),\n",
       "  '% Change Median accuracy:': array([0.0462, 0.0395]),\n",
       "  '% Forecasted Points adjusted downward:': 0.4159,\n",
       "  '% Forecasted Points adjusted upward:': 0.5841,\n",
       "  '% Series with improved accuracy:': array([0.5061, 0.4817]),\n",
       "  '% Series with reduced accuracy:': array([0.4939, 0.5183]),\n",
       "  'Original Mean Absolute Error Upward Adjusted:': 0.5684,\n",
       "  'Original Mean Absolute Error Downward Adjusted:': 0.3593,\n",
       "  'Protected Mean Absolute Error Upward Adjusted:': 0.5106,\n",
       "  'Protected Mean Absolute Error Downward Adjusted:': 0.3711},\n",
       " 'h=1, Bottom 0.2': {'Mean Accuracies': array([0.3431, 0.3431]),\n",
       "  'Protected Mean Accuracies:': array([0.5027, 0.5027]),\n",
       "  '% Change Mean accuracy:': array([-0.4653, -0.4653]),\n",
       "  '% Change Median accuracy:': array([-0.0816, -0.0816]),\n",
       "  '% Forecasted Points adjusted downward:': 0.6585,\n",
       "  '% Forecasted Points adjusted upward:': 0.3415,\n",
       "  '% Series with improved accuracy:': array([0.3415, 0.3415]),\n",
       "  '% Series with reduced accuracy:': array([0.6585, 0.6585]),\n",
       "  'Original Mean Absolute Error Upward Adjusted:': 0.7874,\n",
       "  'Original Mean Absolute Error Downward Adjusted:': 0.1127,\n",
       "  'Protected Mean Absolute Error Upward Adjusted:': 1.2282,\n",
       "  'Protected Mean Absolute Error Downward Adjusted:': 0.1265},\n",
       " 'h=20, Bottom 0.2': {'Mean Accuracies': array([0.4815, 0.5946]),\n",
       "  'Protected Mean Accuracies:': array([0.4551, 0.5662]),\n",
       "  '% Change Mean accuracy:': array([0.0547, 0.0479]),\n",
       "  '% Change Median accuracy:': array([0.0116, 0.0409]),\n",
       "  '% Forecasted Points adjusted downward:': 0.3982,\n",
       "  '% Forecasted Points adjusted upward:': 0.6018,\n",
       "  '% Series with improved accuracy:': array([0.5   , 0.4695]),\n",
       "  '% Series with reduced accuracy:': array([0.5   , 0.5305]),\n",
       "  'Original Mean Absolute Error Upward Adjusted:': 0.604,\n",
       "  'Original Mean Absolute Error Downward Adjusted:': 0.2963,\n",
       "  'Protected Mean Absolute Error Upward Adjusted:': 0.5419,\n",
       "  'Protected Mean Absolute Error Downward Adjusted:': 0.324},\n",
       " 'h=1, Bottom 0.4': {'Mean Accuracies': array([0.3431, 0.3431]),\n",
       "  'Protected Mean Accuracies:': array([0.5799, 0.5799]),\n",
       "  '% Change Mean accuracy:': array([-0.6905, -0.6905]),\n",
       "  '% Change Median accuracy:': array([-0.7611, -0.7611]),\n",
       "  '% Forecasted Points adjusted downward:': 0.6463,\n",
       "  '% Forecasted Points adjusted upward:': 0.3537,\n",
       "  '% Series with improved accuracy:': array([0.2683, 0.2683]),\n",
       "  '% Series with reduced accuracy:': array([0.7317, 0.7317]),\n",
       "  'Original Mean Absolute Error Upward Adjusted:': 0.7985,\n",
       "  'Original Mean Absolute Error Downward Adjusted:': 0.0939,\n",
       "  'Protected Mean Absolute Error Upward Adjusted:': 1.3738,\n",
       "  'Protected Mean Absolute Error Downward Adjusted:': 0.1456},\n",
       " 'h=20, Bottom 0.4': {'Mean Accuracies': array([0.4815, 0.5946]),\n",
       "  'Protected Mean Accuracies:': array([0.476 , 0.5873]),\n",
       "  '% Change Mean accuracy:': array([0.0113, 0.0124]),\n",
       "  '% Change Median accuracy:': array([-0.0455, -0.066 ]),\n",
       "  '% Forecasted Points adjusted downward:': 0.4601,\n",
       "  '% Forecasted Points adjusted upward:': 0.5399,\n",
       "  '% Series with improved accuracy:': array([0.439 , 0.4268]),\n",
       "  '% Series with reduced accuracy:': array([0.561 , 0.5732]),\n",
       "  'Original Mean Absolute Error Upward Adjusted:': 0.6167,\n",
       "  'Original Mean Absolute Error Downward Adjusted:': 0.3228,\n",
       "  'Protected Mean Absolute Error Upward Adjusted:': 0.5696,\n",
       "  'Protected Mean Absolute Error Downward Adjusted:': 0.3662}}"
      ]
     },
     "execution_count": 11,
     "metadata": {},
     "output_type": "execute_result"
    }
   ],
   "source": [
    "results_dict_20"
   ]
  },
  {
   "cell_type": "markdown",
   "id": "6baeb9ba",
   "metadata": {},
   "source": [
    "***\n",
    "***"
   ]
  },
  {
   "cell_type": "markdown",
   "id": "c18762ca",
   "metadata": {},
   "source": [
    "## More Complex Model (window length = 40)"
   ]
  },
  {
   "cell_type": "code",
   "execution_count": 12,
   "id": "696c7603",
   "metadata": {},
   "outputs": [],
   "source": [
    "forecaster = lgb.LGBMRegressor()\n",
    "window_length = 40"
   ]
  },
  {
   "cell_type": "code",
   "execution_count": 13,
   "id": "fd51370f",
   "metadata": {},
   "outputs": [],
   "source": [
    "results_dict_40 = {}\n",
    "fcasts_40 = {}\n",
    "fcasts_protected_40 = {}\n",
    "tests = {}\n",
    "types = [\"Top\", \"Bottom\"]\n",
    "percentages = [0.10, 0.20, 0.40]\n",
    "horizons = [1, 20]"
   ]
  },
  {
   "cell_type": "code",
   "execution_count": 14,
   "id": "0f20575f",
   "metadata": {},
   "outputs": [],
   "source": [
    "for t in types:\n",
    "    for p in percentages:\n",
    "        for h in horizons:\n",
    "            idx = \"h=\"+str(h)+\", \"+t+\" \"+str(p)\n",
    "            results_dict_40[idx], tests[idx], fcasts_40[idx], fcasts_protected_40[idx] = full_coding_analysis(time_series_data=Y,\n",
    "                                                                                                              forecasting_model=forecaster,\n",
    "                                                                                                              forecast_horizon=h, \n",
    "                                                                                                              coding_type=t, \n",
    "                                                                                                              coding_percentage=p, \n",
    "                                                                                                              window_length=window_length)"
   ]
  },
  {
   "cell_type": "code",
   "execution_count": 15,
   "id": "f68bf763",
   "metadata": {},
   "outputs": [
    {
     "data": {
      "text/plain": [
       "{'h=1, Top 0.1': {'Mean Accuracies': array([0.3589, 0.3589]),\n",
       "  'Protected Mean Accuracies:': array([0.3624, 0.3624]),\n",
       "  '% Change Mean accuracy:': array([-0.0099, -0.0099]),\n",
       "  '% Change Median accuracy:': array([-0.0686, -0.0686]),\n",
       "  '% Forecasted Points adjusted downward:': 0.4268,\n",
       "  '% Forecasted Points adjusted upward:': 0.5732,\n",
       "  '% Series with improved accuracy:': array([0.4756, 0.4756]),\n",
       "  '% Series with reduced accuracy:': array([0.5244, 0.5244]),\n",
       "  'Original Mean Absolute Error Upward Adjusted:': 0.2203,\n",
       "  'Original Mean Absolute Error Downward Adjusted:': 0.545,\n",
       "  'Protected Mean Absolute Error Upward Adjusted:': 0.2135,\n",
       "  'Protected Mean Absolute Error Downward Adjusted:': 0.5624},\n",
       " 'h=20, Top 0.1': {'Mean Accuracies': array([0.4757, 0.5814]),\n",
       "  'Protected Mean Accuracies:': array([0.4513, 0.5601]),\n",
       "  '% Change Mean accuracy:': array([0.0514, 0.0366]),\n",
       "  '% Change Median accuracy:': array([ 0.0235, -0.0572]),\n",
       "  '% Forecasted Points adjusted downward:': 0.3765,\n",
       "  '% Forecasted Points adjusted upward:': 0.6235,\n",
       "  '% Series with improved accuracy:': array([0.5549, 0.5366]),\n",
       "  '% Series with reduced accuracy:': array([0.4451, 0.4634]),\n",
       "  'Original Mean Absolute Error Upward Adjusted:': 0.5038,\n",
       "  'Original Mean Absolute Error Downward Adjusted:': 0.4292,\n",
       "  'Protected Mean Absolute Error Upward Adjusted:': 0.4355,\n",
       "  'Protected Mean Absolute Error Downward Adjusted:': 0.4773},\n",
       " 'h=1, Top 0.2': {'Mean Accuracies': array([0.3589, 0.3589]),\n",
       "  'Protected Mean Accuracies:': array([0.3849, 0.3849]),\n",
       "  '% Change Mean accuracy:': array([-0.0725, -0.0725]),\n",
       "  '% Change Median accuracy:': array([-0.328, -0.328]),\n",
       "  '% Forecasted Points adjusted downward:': 0.4329,\n",
       "  '% Forecasted Points adjusted upward:': 0.5671,\n",
       "  '% Series with improved accuracy:': array([0.4024, 0.4024]),\n",
       "  '% Series with reduced accuracy:': array([0.5976, 0.5976]),\n",
       "  'Original Mean Absolute Error Upward Adjusted:': 0.2893,\n",
       "  'Original Mean Absolute Error Downward Adjusted:': 0.4501,\n",
       "  'Protected Mean Absolute Error Upward Adjusted:': 0.3011,\n",
       "  'Protected Mean Absolute Error Downward Adjusted:': 0.4947},\n",
       " 'h=20, Top 0.2': {'Mean Accuracies': array([0.4757, 0.5814]),\n",
       "  'Protected Mean Accuracies:': array([0.4616, 0.5692]),\n",
       "  '% Change Mean accuracy:': array([0.0298, 0.021 ]),\n",
       "  '% Change Median accuracy:': array([-0.015 , -0.0833]),\n",
       "  '% Forecasted Points adjusted downward:': 0.4043,\n",
       "  '% Forecasted Points adjusted upward:': 0.5957,\n",
       "  '% Series with improved accuracy:': array([0.5488, 0.5427]),\n",
       "  '% Series with reduced accuracy:': array([0.4512, 0.4573]),\n",
       "  'Original Mean Absolute Error Upward Adjusted:': 0.4887,\n",
       "  'Original Mean Absolute Error Downward Adjusted:': 0.4565,\n",
       "  'Protected Mean Absolute Error Upward Adjusted:': 0.4334,\n",
       "  'Protected Mean Absolute Error Downward Adjusted:': 0.503},\n",
       " 'h=1, Top 0.4': {'Mean Accuracies': array([0.3589, 0.3589]),\n",
       "  'Protected Mean Accuracies:': array([0.454, 0.454]),\n",
       "  '% Change Mean accuracy:': array([-0.2652, -0.2652]),\n",
       "  '% Change Median accuracy:': array([-1.1891, -1.1891]),\n",
       "  '% Forecasted Points adjusted downward:': 0.5,\n",
       "  '% Forecasted Points adjusted upward:': 0.5,\n",
       "  '% Series with improved accuracy:': array([0.2622, 0.2622]),\n",
       "  '% Series with reduced accuracy:': array([0.7378, 0.7378]),\n",
       "  'Original Mean Absolute Error Upward Adjusted:': 0.455,\n",
       "  'Original Mean Absolute Error Downward Adjusted:': 0.2627,\n",
       "  'Protected Mean Absolute Error Upward Adjusted:': 0.5204,\n",
       "  'Protected Mean Absolute Error Downward Adjusted:': 0.3877},\n",
       " 'h=20, Top 0.4': {'Mean Accuracies': array([0.4757, 0.5814]),\n",
       "  'Protected Mean Accuracies:': array([0.4892, 0.5966]),\n",
       "  '% Change Mean accuracy:': array([-0.0283, -0.0263]),\n",
       "  '% Change Median accuracy:': array([-0.0565, -0.1065]),\n",
       "  '% Forecasted Points adjusted downward:': 0.4018,\n",
       "  '% Forecasted Points adjusted upward:': 0.5982,\n",
       "  '% Series with improved accuracy:': array([0.4451, 0.4329]),\n",
       "  '% Series with reduced accuracy:': array([0.5549, 0.5671]),\n",
       "  'Original Mean Absolute Error Upward Adjusted:': 0.4956,\n",
       "  'Original Mean Absolute Error Downward Adjusted:': 0.4461,\n",
       "  'Protected Mean Absolute Error Upward Adjusted:': 0.465,\n",
       "  'Protected Mean Absolute Error Downward Adjusted:': 0.5253},\n",
       " 'h=1, Bottom 0.1': {'Mean Accuracies': array([0.3589, 0.3589]),\n",
       "  'Protected Mean Accuracies:': array([0.4489, 0.4489]),\n",
       "  '% Change Mean accuracy:': array([-0.251, -0.251]),\n",
       "  '% Change Median accuracy:': array([0.1359, 0.1359]),\n",
       "  '% Forecasted Points adjusted downward:': 0.4634,\n",
       "  '% Forecasted Points adjusted upward:': 0.5366,\n",
       "  '% Series with improved accuracy:': array([0.4756, 0.4756]),\n",
       "  '% Series with reduced accuracy:': array([0.5244, 0.5244]),\n",
       "  'Original Mean Absolute Error Upward Adjusted:': 0.5814,\n",
       "  'Original Mean Absolute Error Downward Adjusted:': 0.1012,\n",
       "  'Protected Mean Absolute Error Upward Adjusted:': 0.7506,\n",
       "  'Protected Mean Absolute Error Downward Adjusted:': 0.0997},\n",
       " 'h=20, Bottom 0.1': {'Mean Accuracies': array([0.4757, 0.5814]),\n",
       "  'Protected Mean Accuracies:': array([0.4454, 0.5586]),\n",
       "  '% Change Mean accuracy:': array([0.0637, 0.0392]),\n",
       "  '% Change Median accuracy:': array([ 0.0147, -0.028 ]),\n",
       "  '% Forecasted Points adjusted downward:': 0.4113,\n",
       "  '% Forecasted Points adjusted upward:': 0.5887,\n",
       "  '% Series with improved accuracy:': array([0.4939, 0.4817]),\n",
       "  '% Series with reduced accuracy:': array([0.5061, 0.5183]),\n",
       "  'Original Mean Absolute Error Upward Adjusted:': 0.5803,\n",
       "  'Original Mean Absolute Error Downward Adjusted:': 0.3261,\n",
       "  'Protected Mean Absolute Error Upward Adjusted:': 0.5154,\n",
       "  'Protected Mean Absolute Error Downward Adjusted:': 0.3452},\n",
       " 'h=1, Bottom 0.2': {'Mean Accuracies': array([0.3589, 0.3589]),\n",
       "  'Protected Mean Accuracies:': array([0.5007, 0.5007]),\n",
       "  '% Change Mean accuracy:': array([-0.3951, -0.3951]),\n",
       "  '% Change Median accuracy:': array([0.0157, 0.0157]),\n",
       "  '% Forecasted Points adjusted downward:': 0.5976,\n",
       "  '% Forecasted Points adjusted upward:': 0.4024,\n",
       "  '% Series with improved accuracy:': array([0.4085, 0.4085]),\n",
       "  '% Series with reduced accuracy:': array([0.5915, 0.5915]),\n",
       "  'Original Mean Absolute Error Upward Adjusted:': 0.747,\n",
       "  'Original Mean Absolute Error Downward Adjusted:': 0.0975,\n",
       "  'Protected Mean Absolute Error Upward Adjusted:': 1.0877,\n",
       "  'Protected Mean Absolute Error Downward Adjusted:': 0.1053},\n",
       " 'h=20, Bottom 0.2': {'Mean Accuracies': array([0.4757, 0.5814]),\n",
       "  'Protected Mean Accuracies:': array([0.4474, 0.5589]),\n",
       "  '% Change Mean accuracy:': array([0.0596, 0.0387]),\n",
       "  '% Change Median accuracy:': array([ 0.0704, -0.0227]),\n",
       "  '% Forecasted Points adjusted downward:': 0.4085,\n",
       "  '% Forecasted Points adjusted upward:': 0.5915,\n",
       "  '% Series with improved accuracy:': array([0.4939, 0.4573]),\n",
       "  '% Series with reduced accuracy:': array([0.5061, 0.5427]),\n",
       "  'Original Mean Absolute Error Upward Adjusted:': 0.6003,\n",
       "  'Original Mean Absolute Error Downward Adjusted:': 0.2954,\n",
       "  'Protected Mean Absolute Error Upward Adjusted:': 0.5325,\n",
       "  'Protected Mean Absolute Error Downward Adjusted:': 0.3241},\n",
       " 'h=1, Bottom 0.4': {'Mean Accuracies': array([0.3589, 0.3589]),\n",
       "  'Protected Mean Accuracies:': array([0.5823, 0.5823]),\n",
       "  '% Change Mean accuracy:': array([-0.6226, -0.6226]),\n",
       "  '% Change Median accuracy:': array([-0.638, -0.638]),\n",
       "  '% Forecasted Points adjusted downward:': 0.628,\n",
       "  '% Forecasted Points adjusted upward:': 0.372,\n",
       "  '% Series with improved accuracy:': array([0.2683, 0.2683]),\n",
       "  '% Series with reduced accuracy:': array([0.7317, 0.7317]),\n",
       "  'Original Mean Absolute Error Upward Adjusted:': 0.8116,\n",
       "  'Original Mean Absolute Error Downward Adjusted:': 0.0907,\n",
       "  'Protected Mean Absolute Error Upward Adjusted:': 1.3208,\n",
       "  'Protected Mean Absolute Error Downward Adjusted:': 0.1449},\n",
       " 'h=20, Bottom 0.4': {'Mean Accuracies': array([0.4757, 0.5814]),\n",
       "  'Protected Mean Accuracies:': array([0.4784, 0.5878]),\n",
       "  '% Change Mean accuracy:': array([-0.0056, -0.011 ]),\n",
       "  '% Change Median accuracy:': array([-0.0529, -0.098 ]),\n",
       "  '% Forecasted Points adjusted downward:': 0.4503,\n",
       "  '% Forecasted Points adjusted upward:': 0.5497,\n",
       "  '% Series with improved accuracy:': array([0.4146, 0.439 ]),\n",
       "  '% Series with reduced accuracy:': array([0.5854, 0.561 ]),\n",
       "  'Original Mean Absolute Error Upward Adjusted:': 0.6319,\n",
       "  'Original Mean Absolute Error Downward Adjusted:': 0.2851,\n",
       "  'Protected Mean Absolute Error Upward Adjusted:': 0.5977,\n",
       "  'Protected Mean Absolute Error Downward Adjusted:': 0.3327}}"
      ]
     },
     "execution_count": 15,
     "metadata": {},
     "output_type": "execute_result"
    }
   ],
   "source": [
    "results_dict_40"
   ]
  },
  {
   "cell_type": "code",
   "execution_count": 16,
   "id": "50fe1005",
   "metadata": {},
   "outputs": [],
   "source": [
    "original_forecasts = fcasts_40['h=20, Bottom 0.1']\n",
    "protected_forecasts = fcasts_protected_40['h=20, Bottom 0.1']\n",
    "test = tests['h=20, Bottom 0.1']"
   ]
  },
  {
   "cell_type": "code",
   "execution_count": 17,
   "id": "d04428a2",
   "metadata": {},
   "outputs": [],
   "source": [
    "adjusted_up = original_forecasts < protected_forecasts\n",
    "adjusted_up = pd.concat([row for i, row in adjusted_up.iterrows()])\n",
    "adjusted_down = original_forecasts > protected_forecasts\n",
    "adjusted_down = pd.concat([row for i, row in adjusted_down.iterrows()])"
   ]
  },
  {
   "cell_type": "code",
   "execution_count": 18,
   "id": "216fda1f",
   "metadata": {},
   "outputs": [],
   "source": [
    "absolute_error_original = np.absolute(test - original_forecasts)\n",
    "absolute_error_protected = np.absolute(test - protected_forecasts)"
   ]
  },
  {
   "cell_type": "code",
   "execution_count": 19,
   "id": "801db772",
   "metadata": {},
   "outputs": [],
   "source": [
    "improved = absolute_error_original > absolute_error_protected\n",
    "improved = pd.concat([row for i, row in improved.iterrows()])\n",
    "worsened = absolute_error_original < absolute_error_protected\n",
    "worsened = pd.concat([row for i, row in worsened.iterrows()])"
   ]
  },
  {
   "cell_type": "code",
   "execution_count": 20,
   "id": "fd52f1ad",
   "metadata": {},
   "outputs": [
    {
     "data": {
      "text/plain": [
       "0.28313253012048195"
      ]
     },
     "execution_count": 20,
     "metadata": {},
     "output_type": "execute_result"
    }
   ],
   "source": [
    "np.mean(adjusted_down[improved])"
   ]
  },
  {
   "cell_type": "code",
   "execution_count": 21,
   "id": "d73c5f66",
   "metadata": {},
   "outputs": [
    {
     "data": {
      "text/plain": [
       "0.7168674698795181"
      ]
     },
     "execution_count": 21,
     "metadata": {},
     "output_type": "execute_result"
    }
   ],
   "source": [
    "np.mean(adjusted_up[improved])"
   ]
  }
 ],
 "metadata": {
  "kernelspec": {
   "display_name": "Python 3 (ipykernel)",
   "language": "python",
   "name": "python3"
  },
  "language_info": {
   "codemirror_mode": {
    "name": "ipython",
    "version": 3
   },
   "file_extension": ".py",
   "mimetype": "text/x-python",
   "name": "python",
   "nbconvert_exporter": "python",
   "pygments_lexer": "ipython3",
   "version": "3.9.7"
  }
 },
 "nbformat": 4,
 "nbformat_minor": 5
}
