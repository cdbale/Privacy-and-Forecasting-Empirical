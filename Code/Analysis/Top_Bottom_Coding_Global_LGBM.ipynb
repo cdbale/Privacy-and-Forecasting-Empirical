{
 "cells": [
  {
   "cell_type": "markdown",
   "id": "cd2ff7cb",
   "metadata": {},
   "source": [
    "## Analyzing the Effects of Top/Bottom Coding on The Accuracy of Global LGBM Forecasts"
   ]
  },
  {
   "cell_type": "markdown",
   "id": "1474c915",
   "metadata": {},
   "source": [
    "***"
   ]
  },
  {
   "cell_type": "markdown",
   "id": "aa7ba28b",
   "metadata": {},
   "source": [
    "## Import Modules"
   ]
  },
  {
   "cell_type": "code",
   "execution_count": 1,
   "id": "f5f4856f",
   "metadata": {},
   "outputs": [],
   "source": [
    "# general modules\n",
    "import numpy as np\n",
    "import pandas as pd\n",
    "import matplotlib.pyplot as plt\n",
    "import seaborn as sns\n",
    "\n",
    "# light gradient boosting model package\n",
    "import lightgbm as lgb\n",
    "\n",
    "##### the `helper_functions.py` file contains many custom functions we wrote to aid in our analysis\n",
    "##### `full_coding_analysis` combines all of the following - train-test split data,\n",
    "##### data protection, train models, compare accuracies, return accuracy results\n",
    "from helper_functions import full_coding_analysis\n",
    "from helper_functions import *\n",
    "\n",
    "# import detrender and deseasonalizer\n",
    "from sktime.transformations.series.detrend import Detrender\n",
    "# nice time series plots\n",
    "from sktime.utils.plotting import plot_series"
   ]
  },
  {
   "cell_type": "markdown",
   "id": "bd7c1d74",
   "metadata": {},
   "source": [
    "## Import data"
   ]
  },
  {
   "cell_type": "code",
   "execution_count": 2,
   "id": "ca873e50",
   "metadata": {},
   "outputs": [],
   "source": [
    "# import weekly finance time series\n",
    "Y = np.genfromtxt(\"../../Data/Train/Clean/weekly_finance_clean.csv\", delimiter = ',', skip_header = 1)\n",
    "Y = pd.DataFrame(Y)"
   ]
  },
  {
   "cell_type": "markdown",
   "id": "c5e92131",
   "metadata": {},
   "source": [
    "This file experiments with applying top and bottom coding to detrended data (intuition suggests this type of data is a better candidate for this type of protection than the original finance series data) so we remove the trend from the finance data here."
   ]
  },
  {
   "cell_type": "code",
   "execution_count": 3,
   "id": "c23729ac",
   "metadata": {},
   "outputs": [],
   "source": [
    "# detrender = Detrender()\n",
    "# detrended_series = [detrender.fit_transform(series) for _ , series in Y.iterrows()]\n",
    "# detrended_series = [i+np.abs(np.min(i))+1.0 for i in detrended_series]\n",
    "# Y = pd.concat(detrended_series, axis=1).T"
   ]
  },
  {
   "cell_type": "markdown",
   "id": "07ad35d9",
   "metadata": {},
   "source": [
    "***"
   ]
  },
  {
   "cell_type": "markdown",
   "id": "05057abd",
   "metadata": {},
   "source": [
    "We obtain results for a combination of forecast horizons, coding types (top and bottom), coding percentages, and model complexities:\n",
    "\n",
    "* Forecast Horizons: (1, 5, 15)\n",
    "* Coding Types: (Top, Bottom)\n",
    "* Coding Percentages: (0.10, 0.20, 0.40)\n",
    "* Model complexities (window length): (10, 20, 40)"
   ]
  },
  {
   "cell_type": "markdown",
   "id": "c5a9df38",
   "metadata": {},
   "source": [
    "## Simple Model (window length = 10)"
   ]
  },
  {
   "cell_type": "code",
   "execution_count": 4,
   "id": "dbf6e2d5",
   "metadata": {},
   "outputs": [],
   "source": [
    "forecaster = lgb.LGBMRegressor()\n",
    "window_length = 10"
   ]
  },
  {
   "cell_type": "code",
   "execution_count": 5,
   "id": "a2adde68",
   "metadata": {},
   "outputs": [],
   "source": [
    "results_dict_10 = {}\n",
    "fcasts_10 = {}\n",
    "fcasts_protected_10 = {}\n",
    "tests = {}\n",
    "types = [\"Top\", \"Bottom\"]\n",
    "percentages = [0.10, 0.20, 0.40]\n",
    "horizons = [1, 20]"
   ]
  },
  {
   "cell_type": "code",
   "execution_count": 6,
   "id": "01b494c4",
   "metadata": {},
   "outputs": [],
   "source": [
    "for t in types:\n",
    "    for p in percentages:\n",
    "        for h in horizons:\n",
    "            idx = \"h=\"+str(h)+\", \"+t+\" \"+str(p)\n",
    "            results_dict_10[idx], tests[idx], fcasts_10[idx], fcasts_protected_10[idx] = full_coding_analysis(time_series_data=Y,\n",
    "                                                                                                              forecasting_model=forecaster,\n",
    "                                                                                                              forecast_horizon=h, \n",
    "                                                                                                              coding_type=t, \n",
    "                                                                                                              coding_percentage=p, \n",
    "                                                                                                              window_length=window_length)"
   ]
  },
  {
   "cell_type": "markdown",
   "id": "a4ec92e9",
   "metadata": {},
   "source": [
    "***"
   ]
  },
  {
   "cell_type": "code",
   "execution_count": 7,
   "id": "f38bbe6b",
   "metadata": {},
   "outputs": [
    {
     "data": {
      "text/plain": [
       "{'h=1, Top 0.1': {'Mean Accuracies': array([3.12, 3.12]),\n",
       "  'Protected Mean Accuracies:': array([4.71, 4.71]),\n",
       "  '% Change Mean accuracy:': array([-51.04, -51.04]),\n",
       "  '% Change Median accuracy:': array([-153.1, -153.1]),\n",
       "  '% Forecasted Points adjusted downward:': 55.489999999999995,\n",
       "  '% Forecasted Points adjusted upward:': 44.51,\n",
       "  '% Series with improved accuracy:': array([31.1, 31.1]),\n",
       "  '% Series with reduced accuracy:': array([68.9, 68.9]),\n",
       "  'Original Mean Absolute Error Upward Adjusted:': 4.52,\n",
       "  'Original Mean Absolute Error Downward Adjusted:': 2.0,\n",
       "  'Protected Mean Absolute Error Upward Adjusted:': 4.3999999999999995,\n",
       "  'Protected Mean Absolute Error Downward Adjusted:': 4.97},\n",
       " 'h=20, Top 0.1': {'Mean Accuracies': array([5.1 , 6.08]),\n",
       "  'Protected Mean Accuracies:': array([5.87, 6.8 ]),\n",
       "  '% Change Mean accuracy:': array([-14.96, -11.75]),\n",
       "  '% Change Median accuracy:': array([-17.48, -13.17]),\n",
       "  '% Forecasted Points adjusted downward:': 69.45,\n",
       "  '% Forecasted Points adjusted upward:': 30.55,\n",
       "  '% Series with improved accuracy:': array([33.54, 32.93]),\n",
       "  '% Series with reduced accuracy:': array([66.46, 67.07]),\n",
       "  'Original Mean Absolute Error Upward Adjusted:': 5.13,\n",
       "  'Original Mean Absolute Error Downward Adjusted:': 5.09,\n",
       "  'Protected Mean Absolute Error Upward Adjusted:': 5.33,\n",
       "  'Protected Mean Absolute Error Downward Adjusted:': 6.11},\n",
       " 'h=1, Top 0.2': {'Mean Accuracies': array([3.12, 3.12]),\n",
       "  'Protected Mean Accuracies:': array([6.58, 6.58]),\n",
       "  '% Change Mean accuracy:': array([-110.85, -110.85]),\n",
       "  '% Change Median accuracy:': array([-209.33, -209.33]),\n",
       "  '% Forecasted Points adjusted downward:': 57.32000000000001,\n",
       "  '% Forecasted Points adjusted upward:': 42.68,\n",
       "  '% Series with improved accuracy:': array([23.17, 23.17]),\n",
       "  '% Series with reduced accuracy:': array([76.83, 76.83]),\n",
       "  'Original Mean Absolute Error Upward Adjusted:': 5.13,\n",
       "  'Original Mean Absolute Error Downward Adjusted:': 1.63,\n",
       "  'Protected Mean Absolute Error Upward Adjusted:': 4.8500000000000005,\n",
       "  'Protected Mean Absolute Error Downward Adjusted:': 7.870000000000001},\n",
       " 'h=20, Top 0.2': {'Mean Accuracies': array([5.1 , 6.08]),\n",
       "  'Protected Mean Accuracies:': array([7.44, 8.33]),\n",
       "  '% Change Mean accuracy:': array([-45.66, -37.  ]),\n",
       "  '% Change Median accuracy:': array([-68.21, -53.48]),\n",
       "  '% Forecasted Points adjusted downward:': 65.61,\n",
       "  '% Forecasted Points adjusted upward:': 34.39,\n",
       "  '% Series with improved accuracy:': array([26.83, 28.66]),\n",
       "  '% Series with reduced accuracy:': array([73.17, 71.34]),\n",
       "  'Original Mean Absolute Error Upward Adjusted:': 6.83,\n",
       "  'Original Mean Absolute Error Downward Adjusted:': 4.2,\n",
       "  'Protected Mean Absolute Error Upward Adjusted:': 7.21,\n",
       "  'Protected Mean Absolute Error Downward Adjusted:': 7.55},\n",
       " 'h=1, Top 0.4': {'Mean Accuracies': array([3.12, 3.12]),\n",
       "  'Protected Mean Accuracies:': array([10.77, 10.77]),\n",
       "  '% Change Mean accuracy:': array([-245.07, -245.07]),\n",
       "  '% Change Median accuracy:': array([-573.2, -573.2]),\n",
       "  '% Forecasted Points adjusted downward:': 65.85,\n",
       "  '% Forecasted Points adjusted upward:': 34.150000000000006,\n",
       "  '% Series with improved accuracy:': array([15.85, 15.85]),\n",
       "  '% Series with reduced accuracy:': array([84.15, 84.15]),\n",
       "  'Original Mean Absolute Error Upward Adjusted:': 6.02,\n",
       "  'Original Mean Absolute Error Downward Adjusted:': 1.6199999999999999,\n",
       "  'Protected Mean Absolute Error Upward Adjusted:': 8.39,\n",
       "  'Protected Mean Absolute Error Downward Adjusted:': 12.0},\n",
       " 'h=20, Top 0.4': {'Mean Accuracies': array([5.1 , 6.08]),\n",
       "  'Protected Mean Accuracies:': array([11.14, 11.9 ]),\n",
       "  '% Change Mean accuracy:': array([-118.28,  -95.6 ]),\n",
       "  '% Change Median accuracy:': array([-173.45, -134.79]),\n",
       "  '% Forecasted Points adjusted downward:': 67.77,\n",
       "  '% Forecasted Points adjusted upward:': 32.23,\n",
       "  '% Series with improved accuracy:': array([20.12, 20.12]),\n",
       "  '% Series with reduced accuracy:': array([79.88, 79.88]),\n",
       "  'Original Mean Absolute Error Upward Adjusted:': 7.140000000000001,\n",
       "  'Original Mean Absolute Error Downward Adjusted:': 4.130000000000001,\n",
       "  'Protected Mean Absolute Error Upward Adjusted:': 11.34,\n",
       "  'Protected Mean Absolute Error Downward Adjusted:': 11.05},\n",
       " 'h=1, Bottom 0.1': {'Mean Accuracies': array([3.12, 3.12]),\n",
       "  'Protected Mean Accuracies:': array([3.72, 3.72]),\n",
       "  '% Change Mean accuracy:': array([-19.31, -19.31]),\n",
       "  '% Change Median accuracy:': array([-11.58, -11.58]),\n",
       "  '% Forecasted Points adjusted downward:': 64.63,\n",
       "  '% Forecasted Points adjusted upward:': 35.370000000000005,\n",
       "  '% Series with improved accuracy:': array([48.78, 48.78]),\n",
       "  '% Series with reduced accuracy:': array([51.22, 51.22]),\n",
       "  'Original Mean Absolute Error Upward Adjusted:': 4.84,\n",
       "  'Original Mean Absolute Error Downward Adjusted:': 2.18,\n",
       "  'Protected Mean Absolute Error Upward Adjusted:': 6.29,\n",
       "  'Protected Mean Absolute Error Downward Adjusted:': 2.32},\n",
       " 'h=20, Bottom 0.1': {'Mean Accuracies': array([5.1 , 6.08]),\n",
       "  'Protected Mean Accuracies:': array([5.48, 6.37]),\n",
       "  '% Change Mean accuracy:': array([-7.37, -4.64]),\n",
       "  '% Change Median accuracy:': array([-6.86, -3.7 ]),\n",
       "  '% Forecasted Points adjusted downward:': 61.370000000000005,\n",
       "  '% Forecasted Points adjusted upward:': 38.629999999999995,\n",
       "  '% Series with improved accuracy:': array([47.56, 50.  ]),\n",
       "  '% Series with reduced accuracy:': array([52.44, 50.  ]),\n",
       "  'Original Mean Absolute Error Upward Adjusted:': 7.1499999999999995,\n",
       "  'Original Mean Absolute Error Downward Adjusted:': 3.82,\n",
       "  'Protected Mean Absolute Error Upward Adjusted:': 7.7700000000000005,\n",
       "  'Protected Mean Absolute Error Downward Adjusted:': 4.04},\n",
       " 'h=1, Bottom 0.2': {'Mean Accuracies': array([3.12, 3.12]),\n",
       "  'Protected Mean Accuracies:': array([4.86, 4.86]),\n",
       "  '% Change Mean accuracy:': array([-55.77, -55.77]),\n",
       "  '% Change Median accuracy:': array([-43.38, -43.38]),\n",
       "  '% Forecasted Points adjusted downward:': 71.34,\n",
       "  '% Forecasted Points adjusted upward:': 28.660000000000004,\n",
       "  '% Series with improved accuracy:': array([38.41, 38.41]),\n",
       "  '% Series with reduced accuracy:': array([61.59, 61.59]),\n",
       "  'Original Mean Absolute Error Upward Adjusted:': 5.970000000000001,\n",
       "  'Original Mean Absolute Error Downward Adjusted:': 1.9800000000000002,\n",
       "  'Protected Mean Absolute Error Upward Adjusted:': 10.84,\n",
       "  'Protected Mean Absolute Error Downward Adjusted:': 2.46},\n",
       " 'h=20, Bottom 0.2': {'Mean Accuracies': array([5.1 , 6.08]),\n",
       "  'Protected Mean Accuracies:': array([6.45, 7.27]),\n",
       "  '% Change Mean accuracy:': array([-26.4 , -19.57]),\n",
       "  '% Change Median accuracy:': array([-14.76, -11.48]),\n",
       "  '% Forecasted Points adjusted downward:': 72.07000000000001,\n",
       "  '% Forecasted Points adjusted upward:': 27.93,\n",
       "  '% Series with improved accuracy:': array([42.07, 42.68]),\n",
       "  '% Series with reduced accuracy:': array([57.93, 57.32]),\n",
       "  'Original Mean Absolute Error Upward Adjusted:': 8.21,\n",
       "  'Original Mean Absolute Error Downward Adjusted:': 3.9,\n",
       "  'Protected Mean Absolute Error Upward Adjusted:': 12.25,\n",
       "  'Protected Mean Absolute Error Downward Adjusted:': 4.21},\n",
       " 'h=1, Bottom 0.4': {'Mean Accuracies': array([3.12, 3.12]),\n",
       "  'Protected Mean Accuracies:': array([8.04, 8.04]),\n",
       "  '% Change Mean accuracy:': array([-157.5, -157.5]),\n",
       "  '% Change Median accuracy:': array([-198.45, -198.45]),\n",
       "  '% Forecasted Points adjusted downward:': 77.44,\n",
       "  '% Forecasted Points adjusted upward:': 22.56,\n",
       "  '% Series with improved accuracy:': array([15.85, 15.85]),\n",
       "  '% Series with reduced accuracy:': array([84.15, 84.15]),\n",
       "  'Original Mean Absolute Error Upward Adjusted:': 6.54,\n",
       "  'Original Mean Absolute Error Downward Adjusted:': 2.12,\n",
       "  'Protected Mean Absolute Error Upward Adjusted:': 20.4,\n",
       "  'Protected Mean Absolute Error Downward Adjusted:': 4.43},\n",
       " 'h=20, Bottom 0.4': {'Mean Accuracies': array([5.1 , 6.08]),\n",
       "  'Protected Mean Accuracies:': array([9.18, 9.94]),\n",
       "  '% Change Mean accuracy:': array([-79.78, -63.42]),\n",
       "  '% Change Median accuracy:': array([-64.7 , -51.96]),\n",
       "  '% Forecasted Points adjusted downward:': 76.46,\n",
       "  '% Forecasted Points adjusted upward:': 23.54,\n",
       "  '% Series with improved accuracy:': array([27.44, 27.44]),\n",
       "  '% Series with reduced accuracy:': array([72.56, 72.56]),\n",
       "  'Original Mean Absolute Error Upward Adjusted:': 8.85,\n",
       "  'Original Mean Absolute Error Downward Adjusted:': 3.95,\n",
       "  'Protected Mean Absolute Error Upward Adjusted:': 20.07,\n",
       "  'Protected Mean Absolute Error Downward Adjusted:': 5.82}}"
      ]
     },
     "execution_count": 7,
     "metadata": {},
     "output_type": "execute_result"
    }
   ],
   "source": [
    "results_dict_10"
   ]
  },
  {
   "cell_type": "markdown",
   "id": "bffc242f",
   "metadata": {},
   "source": [
    "***\n",
    "***"
   ]
  },
  {
   "cell_type": "markdown",
   "id": "f2e10713",
   "metadata": {},
   "source": [
    "## 'Medium' Model (window length = 20)"
   ]
  },
  {
   "cell_type": "code",
   "execution_count": 8,
   "id": "ac63a58f",
   "metadata": {},
   "outputs": [],
   "source": [
    "forecaster = lgb.LGBMRegressor()\n",
    "window_length = 20"
   ]
  },
  {
   "cell_type": "code",
   "execution_count": 9,
   "id": "2a53ca6c",
   "metadata": {},
   "outputs": [],
   "source": [
    "results_dict_20 = {}\n",
    "fcasts_20 = {}\n",
    "fcasts_protected_20 = {}\n",
    "tests = {}\n",
    "types = [\"Top\", \"Bottom\"]\n",
    "percentages = [0.10, 0.20, 0.40]\n",
    "horizons = [1, 20]"
   ]
  },
  {
   "cell_type": "code",
   "execution_count": 10,
   "id": "754fdb14",
   "metadata": {},
   "outputs": [],
   "source": [
    "for t in types:\n",
    "    for p in percentages:\n",
    "        for h in horizons:\n",
    "            idx = \"h=\"+str(h)+\", \"+t+\" \"+str(p)\n",
    "            results_dict_20[idx], tests[idx], fcasts_20[idx], fcasts_protected_20[idx] = full_coding_analysis(time_series_data=Y,\n",
    "                                                                                                              forecasting_model=forecaster,\n",
    "                                                                                                              forecast_horizon=h, \n",
    "                                                                                                              coding_type=t, \n",
    "                                                                                                              coding_percentage=p, \n",
    "                                                                                                              window_length=window_length)"
   ]
  },
  {
   "cell_type": "code",
   "execution_count": 11,
   "id": "8e8429fa",
   "metadata": {},
   "outputs": [
    {
     "data": {
      "text/plain": [
       "{'h=1, Top 0.1': {'Mean Accuracies': array([3.05, 3.05]),\n",
       "  'Protected Mean Accuracies:': array([4.58, 4.58]),\n",
       "  '% Change Mean accuracy:': array([-50.01, -50.01]),\n",
       "  '% Change Median accuracy:': array([-126.92, -126.92]),\n",
       "  '% Forecasted Points adjusted downward:': 54.879999999999995,\n",
       "  '% Forecasted Points adjusted upward:': 45.12,\n",
       "  '% Series with improved accuracy:': array([33.54, 33.54]),\n",
       "  '% Series with reduced accuracy:': array([66.46, 66.46]),\n",
       "  'Original Mean Absolute Error Upward Adjusted:': 4.42,\n",
       "  'Original Mean Absolute Error Downward Adjusted:': 1.92,\n",
       "  'Protected Mean Absolute Error Upward Adjusted:': 4.31,\n",
       "  'Protected Mean Absolute Error Downward Adjusted:': 4.8},\n",
       " 'h=20, Top 0.1': {'Mean Accuracies': array([5.49, 6.49]),\n",
       "  'Protected Mean Accuracies:': array([6.35, 7.36]),\n",
       "  '% Change Mean accuracy:': array([-15.83, -13.36]),\n",
       "  '% Change Median accuracy:': array([-12.88, -12.91]),\n",
       "  '% Forecasted Points adjusted downward:': 67.86999999999999,\n",
       "  '% Forecasted Points adjusted upward:': 32.129999999999995,\n",
       "  '% Series with improved accuracy:': array([35.37, 36.59]),\n",
       "  '% Series with reduced accuracy:': array([64.63, 63.41]),\n",
       "  'Original Mean Absolute Error Upward Adjusted:': 5.37,\n",
       "  'Original Mean Absolute Error Downward Adjusted:': 5.54,\n",
       "  'Protected Mean Absolute Error Upward Adjusted:': 5.81,\n",
       "  'Protected Mean Absolute Error Downward Adjusted:': 6.61},\n",
       " 'h=1, Top 0.2': {'Mean Accuracies': array([3.05, 3.05]),\n",
       "  'Protected Mean Accuracies:': array([6.63, 6.63]),\n",
       "  '% Change Mean accuracy:': array([-117.45, -117.45]),\n",
       "  '% Change Median accuracy:': array([-229.12, -229.12]),\n",
       "  '% Forecasted Points adjusted downward:': 57.93000000000001,\n",
       "  '% Forecasted Points adjusted upward:': 42.07,\n",
       "  '% Series with improved accuracy:': array([24.39, 24.39]),\n",
       "  '% Series with reduced accuracy:': array([75.61, 75.61]),\n",
       "  'Original Mean Absolute Error Upward Adjusted:': 4.49,\n",
       "  'Original Mean Absolute Error Downward Adjusted:': 2.01,\n",
       "  'Protected Mean Absolute Error Upward Adjusted:': 4.63,\n",
       "  'Protected Mean Absolute Error Downward Adjusted:': 8.09},\n",
       " 'h=20, Top 0.2': {'Mean Accuracies': array([5.49, 6.49]),\n",
       "  'Protected Mean Accuracies:': array([7.82, 8.8 ]),\n",
       "  '% Change Mean accuracy:': array([-42.55, -35.65]),\n",
       "  '% Change Median accuracy:': array([-55.43, -49.77]),\n",
       "  '% Forecasted Points adjusted downward:': 64.66,\n",
       "  '% Forecasted Points adjusted upward:': 35.339999999999996,\n",
       "  '% Series with improved accuracy:': array([31.71, 31.71]),\n",
       "  '% Series with reduced accuracy:': array([68.29, 68.29]),\n",
       "  'Original Mean Absolute Error Upward Adjusted:': 5.7700000000000005,\n",
       "  'Original Mean Absolute Error Downward Adjusted:': 5.33,\n",
       "  'Protected Mean Absolute Error Upward Adjusted:': 7.17,\n",
       "  'Protected Mean Absolute Error Downward Adjusted:': 8.18},\n",
       " 'h=1, Top 0.4': {'Mean Accuracies': array([3.05, 3.05]),\n",
       "  'Protected Mean Accuracies:': array([10.92, 10.92]),\n",
       "  '% Change Mean accuracy:': array([-257.99, -257.99]),\n",
       "  '% Change Median accuracy:': array([-553.3, -553.3]),\n",
       "  '% Forecasted Points adjusted downward:': 67.07,\n",
       "  '% Forecasted Points adjusted upward:': 32.93,\n",
       "  '% Series with improved accuracy:': array([14.63, 14.63]),\n",
       "  '% Series with reduced accuracy:': array([85.37, 85.37]),\n",
       "  'Original Mean Absolute Error Upward Adjusted:': 5.53,\n",
       "  'Original Mean Absolute Error Downward Adjusted:': 1.83,\n",
       "  'Protected Mean Absolute Error Upward Adjusted:': 8.85,\n",
       "  'Protected Mean Absolute Error Downward Adjusted:': 11.940000000000001},\n",
       " 'h=20, Top 0.4': {'Mean Accuracies': array([5.49, 6.49]),\n",
       "  'Protected Mean Accuracies:': array([11.19, 11.94]),\n",
       "  '% Change Mean accuracy:': array([-103.97,  -83.93]),\n",
       "  '% Change Median accuracy:': array([-154.93, -133.75]),\n",
       "  '% Forecasted Points adjusted downward:': 68.99,\n",
       "  '% Forecasted Points adjusted upward:': 31.009999999999998,\n",
       "  '% Series with improved accuracy:': array([20.73, 22.56]),\n",
       "  '% Series with reduced accuracy:': array([79.27, 77.44]),\n",
       "  'Original Mean Absolute Error Upward Adjusted:': 5.510000000000001,\n",
       "  'Original Mean Absolute Error Downward Adjusted:': 5.47,\n",
       "  'Protected Mean Absolute Error Upward Adjusted:': 9.98,\n",
       "  'Protected Mean Absolute Error Downward Adjusted:': 11.73},\n",
       " 'h=1, Bottom 0.1': {'Mean Accuracies': array([3.05, 3.05]),\n",
       "  'Protected Mean Accuracies:': array([3.5, 3.5]),\n",
       "  '% Change Mean accuracy:': array([-14.56, -14.56]),\n",
       "  '% Change Median accuracy:': array([6.42, 6.42]),\n",
       "  '% Forecasted Points adjusted downward:': 61.59,\n",
       "  '% Forecasted Points adjusted upward:': 38.41,\n",
       "  '% Series with improved accuracy:': array([52.44, 52.44]),\n",
       "  '% Series with reduced accuracy:': array([47.56, 47.56]),\n",
       "  'Original Mean Absolute Error Upward Adjusted:': 4.130000000000001,\n",
       "  'Original Mean Absolute Error Downward Adjusted:': 2.3800000000000003,\n",
       "  'Protected Mean Absolute Error Upward Adjusted:': 5.33,\n",
       "  'Protected Mean Absolute Error Downward Adjusted:': 2.35},\n",
       " 'h=20, Bottom 0.1': {'Mean Accuracies': array([5.49, 6.49]),\n",
       "  'Protected Mean Accuracies:': array([5.88, 6.74]),\n",
       "  '% Change Mean accuracy:': array([-7.16, -3.8 ]),\n",
       "  '% Change Median accuracy:': array([-6.18, -4.97]),\n",
       "  '% Forecasted Points adjusted downward:': 59.24,\n",
       "  '% Forecasted Points adjusted upward:': 40.760000000000005,\n",
       "  '% Series with improved accuracy:': array([42.68, 47.56]),\n",
       "  '% Series with reduced accuracy:': array([57.32, 52.44]),\n",
       "  'Original Mean Absolute Error Upward Adjusted:': 6.63,\n",
       "  'Original Mean Absolute Error Downward Adjusted:': 4.7,\n",
       "  'Protected Mean Absolute Error Upward Adjusted:': 7.920000000000001,\n",
       "  'Protected Mean Absolute Error Downward Adjusted:': 4.47},\n",
       " 'h=1, Bottom 0.2': {'Mean Accuracies': array([3.05, 3.05]),\n",
       "  'Protected Mean Accuracies:': array([4.89, 4.89]),\n",
       "  '% Change Mean accuracy:': array([-60.24, -60.24]),\n",
       "  '% Change Median accuracy:': array([-49.3, -49.3]),\n",
       "  '% Forecasted Points adjusted downward:': 73.78,\n",
       "  '% Forecasted Points adjusted upward:': 26.22,\n",
       "  '% Series with improved accuracy:': array([32.32, 32.32]),\n",
       "  '% Series with reduced accuracy:': array([67.68, 67.68]),\n",
       "  'Original Mean Absolute Error Upward Adjusted:': 5.220000000000001,\n",
       "  'Original Mean Absolute Error Downward Adjusted:': 2.2800000000000002,\n",
       "  'Protected Mean Absolute Error Upward Adjusted:': 11.0,\n",
       "  'Protected Mean Absolute Error Downward Adjusted:': 2.7199999999999998},\n",
       " 'h=20, Bottom 0.2': {'Mean Accuracies': array([5.49, 6.49]),\n",
       "  'Protected Mean Accuracies:': array([6.78, 7.6 ]),\n",
       "  '% Change Mean accuracy:': array([-23.58, -17.06]),\n",
       "  '% Change Median accuracy:': array([-10.47, -13.14]),\n",
       "  '% Forecasted Points adjusted downward:': 70.82000000000001,\n",
       "  '% Forecasted Points adjusted upward:': 29.18,\n",
       "  '% Series with improved accuracy:': array([42.07, 43.9 ]),\n",
       "  '% Series with reduced accuracy:': array([57.93, 56.1 ]),\n",
       "  'Original Mean Absolute Error Upward Adjusted:': 8.07,\n",
       "  'Original Mean Absolute Error Downward Adjusted:': 4.42,\n",
       "  'Protected Mean Absolute Error Upward Adjusted:': 12.42,\n",
       "  'Protected Mean Absolute Error Downward Adjusted:': 4.45},\n",
       " 'h=1, Bottom 0.4': {'Mean Accuracies': array([3.05, 3.05]),\n",
       "  'Protected Mean Accuracies:': array([8.04, 8.04]),\n",
       "  '% Change Mean accuracy:': array([-163.61, -163.61]),\n",
       "  '% Change Median accuracy:': array([-184.5, -184.5]),\n",
       "  '% Forecasted Points adjusted downward:': 76.83,\n",
       "  '% Forecasted Points adjusted upward:': 23.169999999999998,\n",
       "  '% Series with improved accuracy:': array([15.24, 15.24]),\n",
       "  '% Series with reduced accuracy:': array([84.76, 84.76]),\n",
       "  'Original Mean Absolute Error Upward Adjusted:': 5.680000000000001,\n",
       "  'Original Mean Absolute Error Downward Adjusted:': 2.26,\n",
       "  'Protected Mean Absolute Error Upward Adjusted:': 19.950000000000003,\n",
       "  'Protected Mean Absolute Error Downward Adjusted:': 4.45},\n",
       " 'h=20, Bottom 0.4': {'Mean Accuracies': array([5.49, 6.49]),\n",
       "  'Protected Mean Accuracies:': array([ 9.29, 10.06]),\n",
       "  '% Change Mean accuracy:': array([-69.38, -55.07]),\n",
       "  '% Change Median accuracy:': array([-55.73, -54.5 ]),\n",
       "  '% Forecasted Points adjusted downward:': 78.86999999999999,\n",
       "  '% Forecasted Points adjusted upward:': 21.13,\n",
       "  '% Series with improved accuracy:': array([24.39, 25.  ]),\n",
       "  '% Series with reduced accuracy:': array([75.61, 75.  ]),\n",
       "  'Original Mean Absolute Error Upward Adjusted:': 8.75,\n",
       "  'Original Mean Absolute Error Downward Adjusted:': 4.61,\n",
       "  'Protected Mean Absolute Error Upward Adjusted:': 20.32,\n",
       "  'Protected Mean Absolute Error Downward Adjusted:': 6.34}}"
      ]
     },
     "execution_count": 11,
     "metadata": {},
     "output_type": "execute_result"
    }
   ],
   "source": [
    "results_dict_20"
   ]
  },
  {
   "cell_type": "markdown",
   "id": "6baeb9ba",
   "metadata": {},
   "source": [
    "***\n",
    "***"
   ]
  },
  {
   "cell_type": "markdown",
   "id": "c18762ca",
   "metadata": {},
   "source": [
    "## More Complex Model (window length = 40)"
   ]
  },
  {
   "cell_type": "code",
   "execution_count": 12,
   "id": "696c7603",
   "metadata": {},
   "outputs": [],
   "source": [
    "forecaster = lgb.LGBMRegressor()\n",
    "window_length = 40"
   ]
  },
  {
   "cell_type": "code",
   "execution_count": 13,
   "id": "fd51370f",
   "metadata": {},
   "outputs": [],
   "source": [
    "results_dict_40 = {}\n",
    "fcasts_40 = {}\n",
    "fcasts_protected_40 = {}\n",
    "tests = {}\n",
    "types = [\"Top\", \"Bottom\"]\n",
    "percentages = [0.10, 0.20, 0.40]\n",
    "horizons = [1, 20]"
   ]
  },
  {
   "cell_type": "code",
   "execution_count": 14,
   "id": "0f20575f",
   "metadata": {},
   "outputs": [],
   "source": [
    "for t in types:\n",
    "    for p in percentages:\n",
    "        for h in horizons:\n",
    "            idx = \"h=\"+str(h)+\", \"+t+\" \"+str(p)\n",
    "            results_dict_40[idx], tests[idx], fcasts_40[idx], fcasts_protected_40[idx] = full_coding_analysis(time_series_data=Y,\n",
    "                                                                                                              forecasting_model=forecaster,\n",
    "                                                                                                              forecast_horizon=h, \n",
    "                                                                                                              coding_type=t, \n",
    "                                                                                                              coding_percentage=p, \n",
    "                                                                                                              window_length=window_length)"
   ]
  },
  {
   "cell_type": "code",
   "execution_count": 15,
   "id": "f68bf763",
   "metadata": {},
   "outputs": [
    {
     "data": {
      "text/plain": [
       "{'h=1, Top 0.1': {'Mean Accuracies': array([2.79, 2.79]),\n",
       "  'Protected Mean Accuracies:': array([4.52, 4.52]),\n",
       "  '% Change Mean accuracy:': array([-62.12, -62.12]),\n",
       "  '% Change Median accuracy:': array([-165.05, -165.05]),\n",
       "  '% Forecasted Points adjusted downward:': 62.2,\n",
       "  '% Forecasted Points adjusted upward:': 37.8,\n",
       "  '% Series with improved accuracy:': array([30.49, 30.49]),\n",
       "  '% Series with reduced accuracy:': array([69.51, 69.51]),\n",
       "  'Original Mean Absolute Error Upward Adjusted:': 4.19,\n",
       "  'Original Mean Absolute Error Downward Adjusted:': 1.94,\n",
       "  'Protected Mean Absolute Error Upward Adjusted:': 4.12,\n",
       "  'Protected Mean Absolute Error Downward Adjusted:': 4.760000000000001},\n",
       " 'h=20, Top 0.1': {'Mean Accuracies': array([7.01, 8.01]),\n",
       "  'Protected Mean Accuracies:': array([7.47, 8.44]),\n",
       "  '% Change Mean accuracy:': array([-6.55, -5.29]),\n",
       "  '% Change Median accuracy:': array([-11.73,  -6.94]),\n",
       "  '% Forecasted Points adjusted downward:': 69.36,\n",
       "  '% Forecasted Points adjusted upward:': 30.64,\n",
       "  '% Series with improved accuracy:': array([41.46, 39.63]),\n",
       "  '% Series with reduced accuracy:': array([58.54, 60.37]),\n",
       "  'Original Mean Absolute Error Upward Adjusted:': 7.02,\n",
       "  'Original Mean Absolute Error Downward Adjusted:': 7.000000000000001,\n",
       "  'Protected Mean Absolute Error Upward Adjusted:': 6.93,\n",
       "  'Protected Mean Absolute Error Downward Adjusted:': 7.7},\n",
       " 'h=1, Top 0.2': {'Mean Accuracies': array([2.79, 2.79]),\n",
       "  'Protected Mean Accuracies:': array([6.3, 6.3]),\n",
       "  '% Change Mean accuracy:': array([-126.06, -126.06]),\n",
       "  '% Change Median accuracy:': array([-252.13, -252.13]),\n",
       "  '% Forecasted Points adjusted downward:': 59.150000000000006,\n",
       "  '% Forecasted Points adjusted upward:': 40.849999999999994,\n",
       "  '% Series with improved accuracy:': array([21.95, 21.95]),\n",
       "  '% Series with reduced accuracy:': array([78.05, 78.05]),\n",
       "  'Original Mean Absolute Error Upward Adjusted:': 4.16,\n",
       "  'Original Mean Absolute Error Downward Adjusted:': 1.8399999999999999,\n",
       "  'Protected Mean Absolute Error Upward Adjusted:': 3.95,\n",
       "  'Protected Mean Absolute Error Downward Adjusted:': 7.93},\n",
       " 'h=20, Top 0.2': {'Mean Accuracies': array([7.01, 8.01]),\n",
       "  'Protected Mean Accuracies:': array([9.06, 9.99]),\n",
       "  '% Change Mean accuracy:': array([-29.28, -24.65]),\n",
       "  '% Change Median accuracy:': array([-56.8 , -40.92]),\n",
       "  '% Forecasted Points adjusted downward:': 67.67999999999999,\n",
       "  '% Forecasted Points adjusted upward:': 32.32,\n",
       "  '% Series with improved accuracy:': array([31.1 , 32.93]),\n",
       "  '% Series with reduced accuracy:': array([68.9 , 67.07]),\n",
       "  'Original Mean Absolute Error Upward Adjusted:': 7.5200000000000005,\n",
       "  'Original Mean Absolute Error Downward Adjusted:': 6.76,\n",
       "  'Protected Mean Absolute Error Upward Adjusted:': 8.0,\n",
       "  'Protected Mean Absolute Error Downward Adjusted:': 9.56},\n",
       " 'h=1, Top 0.4': {'Mean Accuracies': array([2.79, 2.79]),\n",
       "  'Protected Mean Accuracies:': array([10.71, 10.71]),\n",
       "  '% Change Mean accuracy:': array([-284.08, -284.08]),\n",
       "  '% Change Median accuracy:': array([-614.25, -614.25]),\n",
       "  '% Forecasted Points adjusted downward:': 66.46,\n",
       "  '% Forecasted Points adjusted upward:': 33.54,\n",
       "  '% Series with improved accuracy:': array([14.63, 14.63]),\n",
       "  '% Series with reduced accuracy:': array([85.37, 85.37]),\n",
       "  'Original Mean Absolute Error Upward Adjusted:': 4.9399999999999995,\n",
       "  'Original Mean Absolute Error Downward Adjusted:': 1.7000000000000002,\n",
       "  'Protected Mean Absolute Error Upward Adjusted:': 8.06,\n",
       "  'Protected Mean Absolute Error Downward Adjusted:': 12.04},\n",
       " 'h=20, Top 0.4': {'Mean Accuracies': array([7.01, 8.01]),\n",
       "  'Protected Mean Accuracies:': array([11.59, 12.38]),\n",
       "  '% Change Mean accuracy:': array([-65.36, -54.51]),\n",
       "  '% Change Median accuracy:': array([-156.18, -114.53]),\n",
       "  '% Forecasted Points adjusted downward:': 71.31,\n",
       "  '% Forecasted Points adjusted upward:': 28.689999999999998,\n",
       "  '% Series with improved accuracy:': array([23.78, 25.  ]),\n",
       "  '% Series with reduced accuracy:': array([76.22, 75.  ]),\n",
       "  'Original Mean Absolute Error Upward Adjusted:': 5.8999999999999995,\n",
       "  'Original Mean Absolute Error Downward Adjusted:': 7.449999999999999,\n",
       "  'Protected Mean Absolute Error Upward Adjusted:': 9.08,\n",
       "  'Protected Mean Absolute Error Downward Adjusted:': 12.590000000000002},\n",
       " 'h=1, Bottom 0.1': {'Mean Accuracies': array([2.79, 2.79]),\n",
       "  'Protected Mean Accuracies:': array([3.52, 3.52]),\n",
       "  '% Change Mean accuracy:': array([-26.18, -26.18]),\n",
       "  '% Change Median accuracy:': array([-10.65, -10.65]),\n",
       "  '% Forecasted Points adjusted downward:': 65.24,\n",
       "  '% Forecasted Points adjusted upward:': 34.760000000000005,\n",
       "  '% Series with improved accuracy:': array([48.17, 48.17]),\n",
       "  '% Series with reduced accuracy:': array([51.83, 51.83]),\n",
       "  'Original Mean Absolute Error Upward Adjusted:': 4.08,\n",
       "  'Original Mean Absolute Error Downward Adjusted:': 2.1,\n",
       "  'Protected Mean Absolute Error Upward Adjusted:': 5.99,\n",
       "  'Protected Mean Absolute Error Downward Adjusted:': 2.1999999999999997},\n",
       " 'h=20, Bottom 0.1': {'Mean Accuracies': array([7.01, 8.01]),\n",
       "  'Protected Mean Accuracies:': array([6.83, 7.75]),\n",
       "  '% Change Mean accuracy:': array([2.45, 3.24]),\n",
       "  '% Change Median accuracy:': array([-9.24, -4.68]),\n",
       "  '% Forecasted Points adjusted downward:': 61.68,\n",
       "  '% Forecasted Points adjusted upward:': 38.32,\n",
       "  '% Series with improved accuracy:': array([45.73, 45.73]),\n",
       "  '% Series with reduced accuracy:': array([54.27, 54.27]),\n",
       "  'Original Mean Absolute Error Upward Adjusted:': 5.779999999999999,\n",
       "  'Original Mean Absolute Error Downward Adjusted:': 7.7700000000000005,\n",
       "  'Protected Mean Absolute Error Upward Adjusted:': 6.79,\n",
       "  'Protected Mean Absolute Error Downward Adjusted:': 6.859999999999999},\n",
       " 'h=1, Bottom 0.2': {'Mean Accuracies': array([2.79, 2.79]),\n",
       "  'Protected Mean Accuracies:': array([4.83, 4.83]),\n",
       "  '% Change Mean accuracy:': array([-73.23, -73.23]),\n",
       "  '% Change Median accuracy:': array([-55.24, -55.24]),\n",
       "  '% Forecasted Points adjusted downward:': 73.78,\n",
       "  '% Forecasted Points adjusted upward:': 26.22,\n",
       "  '% Series with improved accuracy:': array([35.98, 35.98]),\n",
       "  '% Series with reduced accuracy:': array([64.02, 64.02]),\n",
       "  'Original Mean Absolute Error Upward Adjusted:': 4.7,\n",
       "  'Original Mean Absolute Error Downward Adjusted:': 2.11,\n",
       "  'Protected Mean Absolute Error Upward Adjusted:': 11.33,\n",
       "  'Protected Mean Absolute Error Downward Adjusted:': 2.52},\n",
       " 'h=20, Bottom 0.2': {'Mean Accuracies': array([7.01, 8.01]),\n",
       "  'Protected Mean Accuracies:': array([7.63, 8.47]),\n",
       "  '% Change Mean accuracy:': array([-8.92, -5.78]),\n",
       "  '% Change Median accuracy:': array([-21.02, -17.5 ]),\n",
       "  '% Forecasted Points adjusted downward:': 71.89,\n",
       "  '% Forecasted Points adjusted upward:': 28.110000000000003,\n",
       "  '% Series with improved accuracy:': array([38.41, 40.85]),\n",
       "  '% Series with reduced accuracy:': array([61.59, 59.15]),\n",
       "  'Original Mean Absolute Error Upward Adjusted:': 9.5,\n",
       "  'Original Mean Absolute Error Downward Adjusted:': 6.03,\n",
       "  'Protected Mean Absolute Error Upward Adjusted:': 13.05,\n",
       "  'Protected Mean Absolute Error Downward Adjusted:': 5.510000000000001},\n",
       " 'h=1, Bottom 0.4': {'Mean Accuracies': array([2.79, 2.79]),\n",
       "  'Protected Mean Accuracies:': array([8.17, 8.17]),\n",
       "  '% Change Mean accuracy:': array([-193.11, -193.11]),\n",
       "  '% Change Median accuracy:': array([-226.06, -226.06]),\n",
       "  '% Forecasted Points adjusted downward:': 79.27,\n",
       "  '% Forecasted Points adjusted upward:': 20.73,\n",
       "  '% Series with improved accuracy:': array([13.41, 13.41]),\n",
       "  '% Series with reduced accuracy:': array([86.59, 86.59]),\n",
       "  'Original Mean Absolute Error Upward Adjusted:': 4.43,\n",
       "  'Original Mean Absolute Error Downward Adjusted:': 2.36,\n",
       "  'Protected Mean Absolute Error Upward Adjusted:': 21.41,\n",
       "  'Protected Mean Absolute Error Downward Adjusted:': 4.71},\n",
       " 'h=20, Bottom 0.4': {'Mean Accuracies': array([7.01, 8.01]),\n",
       "  'Protected Mean Accuracies:': array([ 9.96, 10.71]),\n",
       "  '% Change Mean accuracy:': array([-42.1 , -33.68]),\n",
       "  '% Change Median accuracy:': array([-62.85, -52.28]),\n",
       "  '% Forecasted Points adjusted downward:': 81.13,\n",
       "  '% Forecasted Points adjusted upward:': 18.87,\n",
       "  '% Series with improved accuracy:': array([26.22, 25.  ]),\n",
       "  '% Series with reduced accuracy:': array([73.78, 75.  ]),\n",
       "  'Original Mean Absolute Error Upward Adjusted:': 11.21,\n",
       "  'Original Mean Absolute Error Downward Adjusted:': 6.03,\n",
       "  'Protected Mean Absolute Error Upward Adjusted:': 21.07,\n",
       "  'Protected Mean Absolute Error Downward Adjusted:': 7.37}}"
      ]
     },
     "execution_count": 15,
     "metadata": {},
     "output_type": "execute_result"
    }
   ],
   "source": [
    "results_dict_40"
   ]
  },
  {
   "cell_type": "code",
   "execution_count": 16,
   "id": "50fe1005",
   "metadata": {},
   "outputs": [],
   "source": [
    "original_forecasts = fcasts_40['h=20, Bottom 0.1']\n",
    "protected_forecasts = fcasts_protected_40['h=20, Bottom 0.1']\n",
    "test = tests['h=20, Bottom 0.1']"
   ]
  },
  {
   "cell_type": "code",
   "execution_count": 17,
   "id": "d04428a2",
   "metadata": {},
   "outputs": [],
   "source": [
    "adjusted_up = original_forecasts < protected_forecasts\n",
    "adjusted_up = pd.concat([row for i, row in adjusted_up.iterrows()])\n",
    "adjusted_down = original_forecasts > protected_forecasts\n",
    "adjusted_down = pd.concat([row for i, row in adjusted_down.iterrows()])"
   ]
  },
  {
   "cell_type": "code",
   "execution_count": 18,
   "id": "216fda1f",
   "metadata": {},
   "outputs": [],
   "source": [
    "absolute_error_original = np.absolute(test - original_forecasts)\n",
    "absolute_error_protected = np.absolute(test - protected_forecasts)"
   ]
  },
  {
   "cell_type": "code",
   "execution_count": 19,
   "id": "801db772",
   "metadata": {},
   "outputs": [],
   "source": [
    "improved = absolute_error_original > absolute_error_protected\n",
    "improved = pd.concat([row for i, row in improved.iterrows()])\n",
    "worsened = absolute_error_original < absolute_error_protected\n",
    "worsened = pd.concat([row for i, row in worsened.iterrows()])"
   ]
  },
  {
   "cell_type": "code",
   "execution_count": 20,
   "id": "fd52f1ad",
   "metadata": {},
   "outputs": [
    {
     "data": {
      "text/plain": [
       "0.6435845213849287"
      ]
     },
     "execution_count": 20,
     "metadata": {},
     "output_type": "execute_result"
    }
   ],
   "source": [
    "np.mean(adjusted_down[improved])"
   ]
  },
  {
   "cell_type": "code",
   "execution_count": 21,
   "id": "d73c5f66",
   "metadata": {},
   "outputs": [
    {
     "data": {
      "text/plain": [
       "0.3564154786150713"
      ]
     },
     "execution_count": 21,
     "metadata": {},
     "output_type": "execute_result"
    }
   ],
   "source": [
    "np.mean(adjusted_up[improved])"
   ]
  }
 ],
 "metadata": {
  "kernelspec": {
   "display_name": "Python 3 (ipykernel)",
   "language": "python",
   "name": "python3"
  },
  "language_info": {
   "codemirror_mode": {
    "name": "ipython",
    "version": 3
   },
   "file_extension": ".py",
   "mimetype": "text/x-python",
   "name": "python",
   "nbconvert_exporter": "python",
   "pygments_lexer": "ipython3",
   "version": "3.9.7"
  }
 },
 "nbformat": 4,
 "nbformat_minor": 5
}
