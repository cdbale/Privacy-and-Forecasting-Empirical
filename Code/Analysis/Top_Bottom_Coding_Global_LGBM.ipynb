{
 "cells": [
  {
   "cell_type": "markdown",
   "id": "cd2ff7cb",
   "metadata": {},
   "source": [
    "## Analyzing the Effects of Top/Bottom Coding on The Accuracy of Global LGBM Forecasts"
   ]
  },
  {
   "cell_type": "markdown",
   "id": "1474c915",
   "metadata": {},
   "source": [
    "***"
   ]
  },
  {
   "cell_type": "markdown",
   "id": "7d22d69a",
   "metadata": {},
   "source": [
    "## Import Modules"
   ]
  },
  {
   "cell_type": "code",
   "execution_count": 1,
   "id": "f5f4856f",
   "metadata": {},
   "outputs": [],
   "source": [
    "# general modules\n",
    "import numpy as np\n",
    "import pandas as pd\n",
    "\n",
    "# light gradient boosting model package\n",
    "import lightgbm as lgb\n",
    "\n",
    "##### the `helper_functions.py` file contains many custom functions we wrote to aid in our analysis\n",
    "##### `full_coding_analysis` combines all of the following - train-test split data,\n",
    "##### data protection, train models, compare accuracies, return accuracy results\n",
    "from helper_functions import full_coding_analysis"
   ]
  },
  {
   "cell_type": "markdown",
   "id": "1d2aa6c5",
   "metadata": {},
   "source": [
    "## Import data"
   ]
  },
  {
   "cell_type": "code",
   "execution_count": 2,
   "id": "04b3ec8c",
   "metadata": {},
   "outputs": [],
   "source": [
    "# import weekly finance time series\n",
    "Y = np.genfromtxt(\"../../Data/Train/Clean/weekly_finance_clean.csv\", delimiter = ',', skip_header = 1)\n",
    "Y = pd.DataFrame(Y)"
   ]
  },
  {
   "cell_type": "markdown",
   "id": "08e4daca",
   "metadata": {},
   "source": [
    "***"
   ]
  },
  {
   "cell_type": "markdown",
   "id": "f05d9145",
   "metadata": {},
   "source": [
    "We obtain results for a combination of forecast horizons, coding types (top and bottom), coding percentages, and model complexities:\n",
    "\n",
    "* Forecast Horizons: (1, 5, 15)\n",
    "* Coding Types: (Top, Bottom)\n",
    "* Coding Percentages: (0.10, 0.20, 0.40)\n",
    "* Model complexities (window length): (10, 20, 40)"
   ]
  },
  {
   "cell_type": "markdown",
   "id": "485e4843",
   "metadata": {},
   "source": [
    "## Simple Model (window length = 10)"
   ]
  },
  {
   "cell_type": "code",
   "execution_count": 3,
   "id": "63005eee",
   "metadata": {},
   "outputs": [],
   "source": [
    "forecaster = lgb.LGBMRegressor()\n",
    "window_length=10"
   ]
  },
  {
   "cell_type": "code",
   "execution_count": 4,
   "id": "1a5d84e9",
   "metadata": {},
   "outputs": [],
   "source": [
    "results_dict_10 = {}\n",
    "types = [\"Top\", \"Bottom\"]\n",
    "percentages = [0.10, 0.20, 0.40]\n",
    "horizons = [1, 5, 15]"
   ]
  },
  {
   "cell_type": "code",
   "execution_count": 5,
   "id": "8ade1773",
   "metadata": {},
   "outputs": [],
   "source": [
    "for t in types:\n",
    "    for p in percentages:\n",
    "        for h in horizons:\n",
    "            results_dict_10[\"h=\"+str(h)+\", \"+t+\" \"+str(p)] = full_coding_analysis(Y, forecaster, forecast_horizon=h, coding_type=t, coding_percentage=p, window_length=window_length)"
   ]
  },
  {
   "cell_type": "code",
   "execution_count": 6,
   "id": "d86e60fb",
   "metadata": {},
   "outputs": [
    {
     "data": {
      "text/plain": [
       "{'h=1, Top 0.1': {'% of forecasted points adjusted downward:': 55.50000000000001,\n",
       "  '% of forecasted points adjusted upward:': 44.5,\n",
       "  '% Series with improved accuracy:': array([31.1, 31.1]),\n",
       "  '% Series with worsened accuracy:': array([68.9, 68.9]),\n",
       "  '% Series with unchanged accuracy:': array([0., 0.]),\n",
       "  '% Change global accuracy:': array([-51., -51.])},\n",
       " 'h=5, Top 0.1': {'% of forecasted points adjusted downward:': 66.7,\n",
       "  '% of forecasted points adjusted upward:': 33.300000000000004,\n",
       "  '% Series with improved accuracy:': array([34.8, 36. ]),\n",
       "  '% Series with worsened accuracy:': array([65.2, 64. ]),\n",
       "  '% Series with unchanged accuracy:': array([0., 0.]),\n",
       "  '% Change global accuracy:': array([-39.7, -35.5])},\n",
       " 'h=15, Top 0.1': {'% of forecasted points adjusted downward:': 65.5,\n",
       "  '% of forecasted points adjusted upward:': 34.5,\n",
       "  '% Series with improved accuracy:': array([37.2, 39.6]),\n",
       "  '% Series with worsened accuracy:': array([62.8, 60.4]),\n",
       "  '% Series with unchanged accuracy:': array([0., 0.]),\n",
       "  '% Change global accuracy:': array([-13.6, -11.1])},\n",
       " 'h=1, Top 0.2': {'% of forecasted points adjusted downward:': 57.3,\n",
       "  '% of forecasted points adjusted upward:': 42.699999999999996,\n",
       "  '% Series with improved accuracy:': array([23.2, 23.2]),\n",
       "  '% Series with worsened accuracy:': array([76.8, 76.8]),\n",
       "  '% Series with unchanged accuracy:': array([0., 0.]),\n",
       "  '% Change global accuracy:': array([-110.9, -110.9])},\n",
       " 'h=5, Top 0.2': {'% of forecasted points adjusted downward:': 65.0,\n",
       "  '% of forecasted points adjusted upward:': 35.0,\n",
       "  '% Series with improved accuracy:': array([29.9, 29.3]),\n",
       "  '% Series with worsened accuracy:': array([70.1, 70.7]),\n",
       "  '% Series with unchanged accuracy:': array([0., 0.]),\n",
       "  '% Change global accuracy:': array([-89.2, -79. ])},\n",
       " 'h=15, Top 0.2': {'% of forecasted points adjusted downward:': 65.60000000000001,\n",
       "  '% of forecasted points adjusted upward:': 34.4,\n",
       "  '% Series with improved accuracy:': array([26.8, 28. ]),\n",
       "  '% Series with worsened accuracy:': array([73.2, 72. ]),\n",
       "  '% Series with unchanged accuracy:': array([0., 0.]),\n",
       "  '% Change global accuracy:': array([-44. , -36.7])},\n",
       " 'h=1, Top 0.4': {'% of forecasted points adjusted downward:': 65.9,\n",
       "  '% of forecasted points adjusted upward:': 34.1,\n",
       "  '% Series with improved accuracy:': array([15.9, 15.9]),\n",
       "  '% Series with worsened accuracy:': array([84.1, 84.1]),\n",
       "  '% Series with unchanged accuracy:': array([0., 0.]),\n",
       "  '% Change global accuracy:': array([-245.1, -245.1])},\n",
       " 'h=5, Top 0.4': {'% of forecasted points adjusted downward:': 65.2,\n",
       "  '% of forecasted points adjusted upward:': 34.8,\n",
       "  '% Series with improved accuracy:': array([18.3, 15.9]),\n",
       "  '% Series with worsened accuracy:': array([81.7, 84.1]),\n",
       "  '% Series with unchanged accuracy:': array([0., 0.]),\n",
       "  '% Change global accuracy:': array([-202.4, -179. ])},\n",
       " 'h=15, Top 0.4': {'% of forecasted points adjusted downward:': 66.9,\n",
       "  '% of forecasted points adjusted upward:': 33.1,\n",
       "  '% Series with improved accuracy:': array([20.7, 21.3]),\n",
       "  '% Series with worsened accuracy:': array([79.3, 78.7]),\n",
       "  '% Series with unchanged accuracy:': array([0., 0.]),\n",
       "  '% Change global accuracy:': array([-115.4,  -97.2])},\n",
       " 'h=1, Bottom 0.1': {'% of forecasted points adjusted downward:': 64.60000000000001,\n",
       "  '% of forecasted points adjusted upward:': 35.4,\n",
       "  '% Series with improved accuracy:': array([48.8, 48.8]),\n",
       "  '% Series with worsened accuracy:': array([51.2, 51.2]),\n",
       "  '% Series with unchanged accuracy:': array([0., 0.]),\n",
       "  '% Change global accuracy:': array([-19.3, -19.3])},\n",
       " 'h=5, Bottom 0.1': {'% of forecasted points adjusted downward:': 63.2,\n",
       "  '% of forecasted points adjusted upward:': 36.8,\n",
       "  '% Series with improved accuracy:': array([42.7, 46.3]),\n",
       "  '% Series with worsened accuracy:': array([57.3, 53.7]),\n",
       "  '% Series with unchanged accuracy:': array([0., 0.]),\n",
       "  '% Change global accuracy:': array([-12.9, -11.3])},\n",
       " 'h=15, Bottom 0.1': {'% of forecasted points adjusted downward:': 61.6,\n",
       "  '% of forecasted points adjusted upward:': 38.4,\n",
       "  '% Series with improved accuracy:': array([50. , 49.4]),\n",
       "  '% Series with worsened accuracy:': array([50. , 50.6]),\n",
       "  '% Series with unchanged accuracy:': array([0., 0.]),\n",
       "  '% Change global accuracy:': array([-4.9, -2.4])},\n",
       " 'h=1, Bottom 0.2': {'% of forecasted points adjusted downward:': 71.3,\n",
       "  '% of forecasted points adjusted upward:': 28.7,\n",
       "  '% Series with improved accuracy:': array([38.4, 38.4]),\n",
       "  '% Series with worsened accuracy:': array([61.6, 61.6]),\n",
       "  '% Series with unchanged accuracy:': array([0., 0.]),\n",
       "  '% Change global accuracy:': array([-55.8, -55.8])},\n",
       " 'h=5, Bottom 0.2': {'% of forecasted points adjusted downward:': 73.2,\n",
       "  '% of forecasted points adjusted upward:': 26.8,\n",
       "  '% Series with improved accuracy:': array([37.2, 37.8]),\n",
       "  '% Series with worsened accuracy:': array([62.8, 62.2]),\n",
       "  '% Series with unchanged accuracy:': array([0., 0.]),\n",
       "  '% Change global accuracy:': array([-38.6, -34. ])},\n",
       " 'h=15, Bottom 0.2': {'% of forecasted points adjusted downward:': 72.89999999999999,\n",
       "  '% of forecasted points adjusted upward:': 27.1,\n",
       "  '% Series with improved accuracy:': array([42.1, 40.9]),\n",
       "  '% Series with worsened accuracy:': array([57.9, 59.1]),\n",
       "  '% Series with unchanged accuracy:': array([0., 0.]),\n",
       "  '% Change global accuracy:': array([-18.3, -14.1])},\n",
       " 'h=1, Bottom 0.4': {'% of forecasted points adjusted downward:': 77.4,\n",
       "  '% of forecasted points adjusted upward:': 22.6,\n",
       "  '% Series with improved accuracy:': array([15.9, 15.9]),\n",
       "  '% Series with worsened accuracy:': array([84.1, 84.1]),\n",
       "  '% Series with unchanged accuracy:': array([0., 0.]),\n",
       "  '% Change global accuracy:': array([-157.5, -157.5])},\n",
       " 'h=5, Bottom 0.4': {'% of forecasted points adjusted downward:': 76.3,\n",
       "  '% of forecasted points adjusted upward:': 23.7,\n",
       "  '% Series with improved accuracy:': array([22. , 23.2]),\n",
       "  '% Series with worsened accuracy:': array([78. , 76.8]),\n",
       "  '% Series with unchanged accuracy:': array([0., 0.]),\n",
       "  '% Change global accuracy:': array([-126. , -111.2])},\n",
       " 'h=15, Bottom 0.4': {'% of forecasted points adjusted downward:': 74.1,\n",
       "  '% of forecasted points adjusted upward:': 25.900000000000002,\n",
       "  '% Series with improved accuracy:': array([29.3, 31.1]),\n",
       "  '% Series with worsened accuracy:': array([70.7, 68.9]),\n",
       "  '% Series with unchanged accuracy:': array([0., 0.]),\n",
       "  '% Change global accuracy:': array([-73.5, -60.8])}}"
      ]
     },
     "execution_count": 6,
     "metadata": {},
     "output_type": "execute_result"
    }
   ],
   "source": [
    "results_dict_10"
   ]
  },
  {
   "cell_type": "markdown",
   "id": "e19e57f0",
   "metadata": {},
   "source": [
    "***\n",
    "***"
   ]
  },
  {
   "cell_type": "markdown",
   "id": "376456ac",
   "metadata": {},
   "source": [
    "## 'Medium' Model (window length = 20)"
   ]
  },
  {
   "cell_type": "code",
   "execution_count": 7,
   "id": "8ce58411",
   "metadata": {},
   "outputs": [],
   "source": [
    "forecaster = lgb.LGBMRegressor()\n",
    "window_length=20"
   ]
  },
  {
   "cell_type": "code",
   "execution_count": 8,
   "id": "fccf22c9",
   "metadata": {},
   "outputs": [],
   "source": [
    "results_dict_20 = {}\n",
    "types = [\"Top\", \"Bottom\"]\n",
    "percentages = [0.10, 0.20, 0.40]\n",
    "horizons = [1, 5, 15]"
   ]
  },
  {
   "cell_type": "code",
   "execution_count": 9,
   "id": "65d0d8d5",
   "metadata": {},
   "outputs": [],
   "source": [
    "for t in types:\n",
    "    for p in percentages:\n",
    "        for h in horizons:\n",
    "            results_dict_20[\"h=\"+str(h)+\", \"+t+\" \"+str(p)] = full_coding_analysis(Y, forecaster, forecast_horizon=h, coding_type=t, coding_percentage=p, window_length=window_length)"
   ]
  },
  {
   "cell_type": "code",
   "execution_count": 10,
   "id": "256a935a",
   "metadata": {},
   "outputs": [
    {
     "data": {
      "text/plain": [
       "{'h=1, Top 0.1': {'% of forecasted points adjusted downward:': 54.900000000000006,\n",
       "  '% of forecasted points adjusted upward:': 45.1,\n",
       "  '% Series with improved accuracy:': array([33.5, 33.5]),\n",
       "  '% Series with worsened accuracy:': array([66.5, 66.5]),\n",
       "  '% Series with unchanged accuracy:': array([0., 0.]),\n",
       "  '% Change global accuracy:': array([-50., -50.])},\n",
       " 'h=5, Top 0.1': {'% of forecasted points adjusted downward:': 65.2,\n",
       "  '% of forecasted points adjusted upward:': 34.8,\n",
       "  '% Series with improved accuracy:': array([40.2, 40.2]),\n",
       "  '% Series with worsened accuracy:': array([59.8, 59.8]),\n",
       "  '% Series with unchanged accuracy:': array([0., 0.]),\n",
       "  '% Change global accuracy:': array([-32.5, -28.7])},\n",
       " 'h=15, Top 0.1': {'% of forecasted points adjusted downward:': 65.4,\n",
       "  '% of forecasted points adjusted upward:': 34.599999999999994,\n",
       "  '% Series with improved accuracy:': array([39. , 41.5]),\n",
       "  '% Series with worsened accuracy:': array([61. , 58.5]),\n",
       "  '% Series with unchanged accuracy:': array([0., 0.]),\n",
       "  '% Change global accuracy:': array([-20.8, -17.6])},\n",
       " 'h=1, Top 0.2': {'% of forecasted points adjusted downward:': 57.9,\n",
       "  '% of forecasted points adjusted upward:': 42.1,\n",
       "  '% Series with improved accuracy:': array([24.4, 24.4]),\n",
       "  '% Series with worsened accuracy:': array([75.6, 75.6]),\n",
       "  '% Series with unchanged accuracy:': array([0., 0.]),\n",
       "  '% Change global accuracy:': array([-117.5, -117.5])},\n",
       " 'h=5, Top 0.2': {'% of forecasted points adjusted downward:': 63.2,\n",
       "  '% of forecasted points adjusted upward:': 36.8,\n",
       "  '% Series with improved accuracy:': array([31.7, 31.7]),\n",
       "  '% Series with worsened accuracy:': array([68.3, 68.3]),\n",
       "  '% Series with unchanged accuracy:': array([0., 0.]),\n",
       "  '% Change global accuracy:': array([-88.9, -78.8])},\n",
       " 'h=15, Top 0.2': {'% of forecasted points adjusted downward:': 69.1,\n",
       "  '% of forecasted points adjusted upward:': 30.9,\n",
       "  '% Series with improved accuracy:': array([31.1, 29.3]),\n",
       "  '% Series with worsened accuracy:': array([68.9, 70.7]),\n",
       "  '% Series with unchanged accuracy:': array([0., 0.]),\n",
       "  '% Change global accuracy:': array([-53.9, -45. ])},\n",
       " 'h=1, Top 0.4': {'% of forecasted points adjusted downward:': 67.10000000000001,\n",
       "  '% of forecasted points adjusted upward:': 32.9,\n",
       "  '% Series with improved accuracy:': array([14.6, 14.6]),\n",
       "  '% Series with worsened accuracy:': array([85.4, 85.4]),\n",
       "  '% Series with unchanged accuracy:': array([0., 0.]),\n",
       "  '% Change global accuracy:': array([-258., -258.])},\n",
       " 'h=5, Top 0.4': {'% of forecasted points adjusted downward:': 65.4,\n",
       "  '% of forecasted points adjusted upward:': 34.599999999999994,\n",
       "  '% Series with improved accuracy:': array([19.5, 18.3]),\n",
       "  '% Series with worsened accuracy:': array([80.5, 81.7]),\n",
       "  '% Series with unchanged accuracy:': array([0., 0.]),\n",
       "  '% Change global accuracy:': array([-202.4, -178. ])},\n",
       " 'h=15, Top 0.4': {'% of forecasted points adjusted downward:': 64.9,\n",
       "  '% of forecasted points adjusted upward:': 35.099999999999994,\n",
       "  '% Series with improved accuracy:': array([19.5, 18.3]),\n",
       "  '% Series with worsened accuracy:': array([80.5, 81.7]),\n",
       "  '% Series with unchanged accuracy:': array([0., 0.]),\n",
       "  '% Change global accuracy:': array([-132.5, -111.5])},\n",
       " 'h=1, Bottom 0.1': {'% of forecasted points adjusted downward:': 61.6,\n",
       "  '% of forecasted points adjusted upward:': 38.4,\n",
       "  '% Series with improved accuracy:': array([52.4, 52.4]),\n",
       "  '% Series with worsened accuracy:': array([47.6, 47.6]),\n",
       "  '% Series with unchanged accuracy:': array([0., 0.]),\n",
       "  '% Change global accuracy:': array([-14.6, -14.6])},\n",
       " 'h=5, Bottom 0.1': {'% of forecasted points adjusted downward:': 59.9,\n",
       "  '% of forecasted points adjusted upward:': 40.1,\n",
       "  '% Series with improved accuracy:': array([51.2, 52.4]),\n",
       "  '% Series with worsened accuracy:': array([48.8, 47.6]),\n",
       "  '% Series with unchanged accuracy:': array([0., 0.]),\n",
       "  '% Change global accuracy:': array([-8.3, -7.3])},\n",
       " 'h=15, Bottom 0.1': {'% of forecasted points adjusted downward:': 59.599999999999994,\n",
       "  '% of forecasted points adjusted upward:': 40.400000000000006,\n",
       "  '% Series with improved accuracy:': array([42.7, 45.1]),\n",
       "  '% Series with worsened accuracy:': array([57.3, 54.9]),\n",
       "  '% Series with unchanged accuracy:': array([0., 0.]),\n",
       "  '% Change global accuracy:': array([-9.4, -6.7])},\n",
       " 'h=1, Bottom 0.2': {'% of forecasted points adjusted downward:': 73.8,\n",
       "  '% of forecasted points adjusted upward:': 26.200000000000003,\n",
       "  '% Series with improved accuracy:': array([32.3, 32.3]),\n",
       "  '% Series with worsened accuracy:': array([67.7, 67.7]),\n",
       "  '% Series with unchanged accuracy:': array([0., 0.]),\n",
       "  '% Change global accuracy:': array([-60.2, -60.2])},\n",
       " 'h=5, Bottom 0.2': {'% of forecasted points adjusted downward:': 66.3,\n",
       "  '% of forecasted points adjusted upward:': 33.7,\n",
       "  '% Series with improved accuracy:': array([38.4, 42.1]),\n",
       "  '% Series with worsened accuracy:': array([61.6, 57.9]),\n",
       "  '% Series with unchanged accuracy:': array([0., 0.]),\n",
       "  '% Change global accuracy:': array([-41.4, -35.5])},\n",
       " 'h=15, Bottom 0.2': {'% of forecasted points adjusted downward:': 69.89999999999999,\n",
       "  '% of forecasted points adjusted upward:': 30.099999999999998,\n",
       "  '% Series with improved accuracy:': array([40.2, 40.2]),\n",
       "  '% Series with worsened accuracy:': array([59.8, 59.8]),\n",
       "  '% Series with unchanged accuracy:': array([0., 0.]),\n",
       "  '% Change global accuracy:': array([-33.3, -27.1])},\n",
       " 'h=1, Bottom 0.4': {'% of forecasted points adjusted downward:': 76.8,\n",
       "  '% of forecasted points adjusted upward:': 23.200000000000003,\n",
       "  '% Series with improved accuracy:': array([15.2, 15.2]),\n",
       "  '% Series with worsened accuracy:': array([84.8, 84.8]),\n",
       "  '% Series with unchanged accuracy:': array([0., 0.]),\n",
       "  '% Change global accuracy:': array([-163.6, -163.6])},\n",
       " 'h=5, Bottom 0.4': {'% of forecasted points adjusted downward:': 76.6,\n",
       "  '% of forecasted points adjusted upward:': 23.400000000000002,\n",
       "  '% Series with improved accuracy:': array([21.3, 18.9]),\n",
       "  '% Series with worsened accuracy:': array([78.7, 81.1]),\n",
       "  '% Series with unchanged accuracy:': array([0., 0.]),\n",
       "  '% Change global accuracy:': array([-128. , -112.4])},\n",
       " 'h=15, Bottom 0.4': {'% of forecasted points adjusted downward:': 75.1,\n",
       "  '% of forecasted points adjusted upward:': 24.9,\n",
       "  '% Series with improved accuracy:': array([26.8, 27.4]),\n",
       "  '% Series with worsened accuracy:': array([73.2, 72.6]),\n",
       "  '% Series with unchanged accuracy:': array([0., 0.]),\n",
       "  '% Change global accuracy:': array([-88.3, -73.5])}}"
      ]
     },
     "execution_count": 10,
     "metadata": {},
     "output_type": "execute_result"
    }
   ],
   "source": [
    "results_dict_20"
   ]
  },
  {
   "cell_type": "markdown",
   "id": "f88c22d2",
   "metadata": {},
   "source": [
    "***\n",
    "***"
   ]
  },
  {
   "cell_type": "markdown",
   "id": "d7999692",
   "metadata": {},
   "source": [
    "## More Complex Model (window length = 40)"
   ]
  },
  {
   "cell_type": "code",
   "execution_count": 11,
   "id": "a831790c",
   "metadata": {},
   "outputs": [],
   "source": [
    "forecaster = lgb.LGBMRegressor()\n",
    "window_length=40"
   ]
  },
  {
   "cell_type": "code",
   "execution_count": 12,
   "id": "a7e0b37b",
   "metadata": {},
   "outputs": [],
   "source": [
    "results_dict_40 = {}\n",
    "types = [\"Top\", \"Bottom\"]\n",
    "percentages = [0.10, 0.20, 0.40]\n",
    "horizons = [1, 5, 15]"
   ]
  },
  {
   "cell_type": "code",
   "execution_count": 13,
   "id": "f4e33be8",
   "metadata": {},
   "outputs": [],
   "source": [
    "for t in types:\n",
    "    for p in percentages:\n",
    "        for h in horizons:\n",
    "            results_dict_40[\"h=\"+str(h)+\", \"+t+\" \"+str(p)] = full_coding_analysis(Y, forecaster, forecast_horizon=h, coding_type=t, coding_percentage=p, window_length=window_length)"
   ]
  },
  {
   "cell_type": "code",
   "execution_count": 14,
   "id": "e0eff053",
   "metadata": {},
   "outputs": [
    {
     "data": {
      "text/plain": [
       "{'h=1, Top 0.1': {'% of forecasted points adjusted downward:': 62.2,\n",
       "  '% of forecasted points adjusted upward:': 37.8,\n",
       "  '% Series with improved accuracy:': array([30.5, 30.5]),\n",
       "  '% Series with worsened accuracy:': array([69.5, 69.5]),\n",
       "  '% Series with unchanged accuracy:': array([0., 0.]),\n",
       "  '% Change global accuracy:': array([-62.1, -62.1])},\n",
       " 'h=5, Top 0.1': {'% of forecasted points adjusted downward:': 67.9,\n",
       "  '% of forecasted points adjusted upward:': 32.1,\n",
       "  '% Series with improved accuracy:': array([39. , 36.6]),\n",
       "  '% Series with worsened accuracy:': array([61. , 63.4]),\n",
       "  '% Series with unchanged accuracy:': array([0., 0.]),\n",
       "  '% Change global accuracy:': array([-32.5, -28.2])},\n",
       " 'h=15, Top 0.1': {'% of forecasted points adjusted downward:': 65.60000000000001,\n",
       "  '% of forecasted points adjusted upward:': 34.4,\n",
       "  '% Series with improved accuracy:': array([37.2, 37.8]),\n",
       "  '% Series with worsened accuracy:': array([62.8, 62.2]),\n",
       "  '% Series with unchanged accuracy:': array([0., 0.]),\n",
       "  '% Change global accuracy:': array([-15.5, -13.6])},\n",
       " 'h=1, Top 0.2': {'% of forecasted points adjusted downward:': 59.099999999999994,\n",
       "  '% of forecasted points adjusted upward:': 40.9,\n",
       "  '% Series with improved accuracy:': array([22., 22.]),\n",
       "  '% Series with worsened accuracy:': array([78., 78.]),\n",
       "  '% Series with unchanged accuracy:': array([0., 0.]),\n",
       "  '% Change global accuracy:': array([-126.1, -126.1])},\n",
       " 'h=5, Top 0.2': {'% of forecasted points adjusted downward:': 65.7,\n",
       "  '% of forecasted points adjusted upward:': 34.300000000000004,\n",
       "  '% Series with improved accuracy:': array([32.3, 29.9]),\n",
       "  '% Series with worsened accuracy:': array([67.7, 70.1]),\n",
       "  '% Series with unchanged accuracy:': array([0., 0.]),\n",
       "  '% Change global accuracy:': array([-83.8, -73.7])},\n",
       " 'h=15, Top 0.2': {'% of forecasted points adjusted downward:': 68.60000000000001,\n",
       "  '% of forecasted points adjusted upward:': 31.4,\n",
       "  '% Series with improved accuracy:': array([26.2, 28. ]),\n",
       "  '% Series with worsened accuracy:': array([73.8, 72. ]),\n",
       "  '% Series with unchanged accuracy:': array([0., 0.]),\n",
       "  '% Change global accuracy:': array([-35.8, -31.1])},\n",
       " 'h=1, Top 0.4': {'% of forecasted points adjusted downward:': 66.5,\n",
       "  '% of forecasted points adjusted upward:': 33.5,\n",
       "  '% Series with improved accuracy:': array([14.6, 14.6]),\n",
       "  '% Series with worsened accuracy:': array([85.4, 85.4]),\n",
       "  '% Series with unchanged accuracy:': array([0., 0.]),\n",
       "  '% Change global accuracy:': array([-284.1, -284.1])},\n",
       " 'h=5, Top 0.4': {'% of forecasted points adjusted downward:': 64.9,\n",
       "  '% of forecasted points adjusted upward:': 35.099999999999994,\n",
       "  '% Series with improved accuracy:': array([22.6, 20.1]),\n",
       "  '% Series with worsened accuracy:': array([77.4, 79.9]),\n",
       "  '% Series with unchanged accuracy:': array([0., 0.]),\n",
       "  '% Change global accuracy:': array([-189.2, -166. ])},\n",
       " 'h=15, Top 0.4': {'% of forecasted points adjusted downward:': 71.1,\n",
       "  '% of forecasted points adjusted upward:': 28.9,\n",
       "  '% Series with improved accuracy:': array([20.1, 19.5]),\n",
       "  '% Series with worsened accuracy:': array([79.9, 80.5]),\n",
       "  '% Series with unchanged accuracy:': array([0., 0.]),\n",
       "  '% Change global accuracy:': array([-93.6, -80.4])},\n",
       " 'h=1, Bottom 0.1': {'% of forecasted points adjusted downward:': 65.2,\n",
       "  '% of forecasted points adjusted upward:': 34.8,\n",
       "  '% Series with improved accuracy:': array([48.2, 48.2]),\n",
       "  '% Series with worsened accuracy:': array([51.8, 51.8]),\n",
       "  '% Series with unchanged accuracy:': array([0., 0.]),\n",
       "  '% Change global accuracy:': array([-26.2, -26.2])},\n",
       " 'h=5, Bottom 0.1': {'% of forecasted points adjusted downward:': 63.0,\n",
       "  '% of forecasted points adjusted upward:': 37.0,\n",
       "  '% Series with improved accuracy:': array([45.7, 47. ]),\n",
       "  '% Series with worsened accuracy:': array([54.3, 53. ]),\n",
       "  '% Series with unchanged accuracy:': array([0., 0.]),\n",
       "  '% Change global accuracy:': array([-5.8, -4.9])},\n",
       " 'h=15, Bottom 0.1': {'% of forecasted points adjusted downward:': 64.5,\n",
       "  '% of forecasted points adjusted upward:': 35.5,\n",
       "  '% Series with improved accuracy:': array([43.9, 42.1]),\n",
       "  '% Series with worsened accuracy:': array([56.1, 57.9]),\n",
       "  '% Series with unchanged accuracy:': array([0., 0.]),\n",
       "  '% Change global accuracy:': array([-7.6, -5.6])},\n",
       " 'h=1, Bottom 0.2': {'% of forecasted points adjusted downward:': 73.8,\n",
       "  '% of forecasted points adjusted upward:': 26.200000000000003,\n",
       "  '% Series with improved accuracy:': array([36., 36.]),\n",
       "  '% Series with worsened accuracy:': array([64., 64.]),\n",
       "  '% Series with unchanged accuracy:': array([0., 0.]),\n",
       "  '% Change global accuracy:': array([-73.2, -73.2])},\n",
       " 'h=5, Bottom 0.2': {'% of forecasted points adjusted downward:': 69.6,\n",
       "  '% of forecasted points adjusted upward:': 30.4,\n",
       "  '% Series with improved accuracy:': array([36.6, 37.8]),\n",
       "  '% Series with worsened accuracy:': array([63.4, 62.2]),\n",
       "  '% Series with unchanged accuracy:': array([0., 0.]),\n",
       "  '% Change global accuracy:': array([-40.1, -34.1])},\n",
       " 'h=15, Bottom 0.2': {'% of forecasted points adjusted downward:': 76.5,\n",
       "  '% of forecasted points adjusted upward:': 23.5,\n",
       "  '% Series with improved accuracy:': array([37.2, 37.8]),\n",
       "  '% Series with worsened accuracy:': array([62.8, 62.2]),\n",
       "  '% Series with unchanged accuracy:': array([0., 0.]),\n",
       "  '% Change global accuracy:': array([-19.6, -16.3])},\n",
       " 'h=1, Bottom 0.4': {'% of forecasted points adjusted downward:': 79.3,\n",
       "  '% of forecasted points adjusted upward:': 20.7,\n",
       "  '% Series with improved accuracy:': array([13.4, 13.4]),\n",
       "  '% Series with worsened accuracy:': array([86.6, 86.6]),\n",
       "  '% Series with unchanged accuracy:': array([0., 0.]),\n",
       "  '% Change global accuracy:': array([-193.1, -193.1])},\n",
       " 'h=5, Bottom 0.4': {'% of forecasted points adjusted downward:': 75.5,\n",
       "  '% of forecasted points adjusted upward:': 24.5,\n",
       "  '% Series with improved accuracy:': array([22. , 22.6]),\n",
       "  '% Series with worsened accuracy:': array([78. , 77.4]),\n",
       "  '% Series with unchanged accuracy:': array([0., 0.]),\n",
       "  '% Change global accuracy:': array([-121.2, -105.9])},\n",
       " 'h=15, Bottom 0.4': {'% of forecasted points adjusted downward:': 80.60000000000001,\n",
       "  '% of forecasted points adjusted upward:': 19.400000000000002,\n",
       "  '% Series with improved accuracy:': array([22.6, 23.8]),\n",
       "  '% Series with worsened accuracy:': array([77.4, 76.2]),\n",
       "  '% Series with unchanged accuracy:': array([0., 0.]),\n",
       "  '% Change global accuracy:': array([-57.2, -48. ])}}"
      ]
     },
     "execution_count": 14,
     "metadata": {},
     "output_type": "execute_result"
    }
   ],
   "source": [
    "results_dict_40"
   ]
  }
 ],
 "metadata": {
  "kernelspec": {
   "display_name": "Python 3 (ipykernel)",
   "language": "python",
   "name": "python3"
  },
  "language_info": {
   "codemirror_mode": {
    "name": "ipython",
    "version": 3
   },
   "file_extension": ".py",
   "mimetype": "text/x-python",
   "name": "python",
   "nbconvert_exporter": "python",
   "pygments_lexer": "ipython3",
   "version": "3.9.7"
  }
 },
 "nbformat": 4,
 "nbformat_minor": 5
}
