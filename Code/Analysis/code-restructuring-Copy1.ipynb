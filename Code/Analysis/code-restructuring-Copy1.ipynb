{
 "cells": [
  {
   "cell_type": "markdown",
   "id": "512776c6",
   "metadata": {},
   "source": [
    "## Restructure Data Analysis Framework"
   ]
  },
  {
   "cell_type": "markdown",
   "id": "b80094d6",
   "metadata": {},
   "source": [
    "***"
   ]
  },
  {
   "cell_type": "code",
   "execution_count": 1,
   "id": "42d516ab",
   "metadata": {},
   "outputs": [],
   "source": [
    "import pandas as pd\n",
    "import numpy as np\n",
    "\n",
    "from data_protection_functions import *\n",
    "from data_processing_functions import *\n",
    "from forecasting_functions import *\n",
    "\n",
    "# nice time series plots\n",
    "from sktime.utils.plotting import plot_series\n",
    "\n",
    "# import detrender and deseasonalizer\n",
    "from sktime.transformations.series.detrend import Detrender\n",
    "\n",
    "# import exponential smoothing forecasting model\n",
    "from sktime.forecasting.exp_smoothing import ExponentialSmoothing\n",
    "\n",
    "import sktime\n",
    "import lightgbm\n",
    "\n",
    "from sktime.performance_metrics.forecasting import mean_absolute_percentage_error, median_absolute_percentage_error"
   ]
  },
  {
   "cell_type": "markdown",
   "id": "1342d5eb",
   "metadata": {},
   "source": [
    "### Step 1: Import Time Series Data"
   ]
  },
  {
   "cell_type": "code",
   "execution_count": 2,
   "id": "97decc7e",
   "metadata": {},
   "outputs": [],
   "source": [
    "# import weekly finance time series\n",
    "# ignore header and skip the first row to use integers as column names\n",
    "full_data = pd.read_csv(\"../../Data/Train/Clean/full_m3_daily_micro_clean.csv\", header=None, skiprows=1)"
   ]
  },
  {
   "cell_type": "code",
   "execution_count": 3,
   "id": "a22d71c6",
   "metadata": {},
   "outputs": [],
   "source": [
    "# convert to a list of series, potentially with different lengths\n",
    "full_data = [x.dropna() for _, x in full_data.iterrows()]"
   ]
  },
  {
   "cell_type": "code",
   "execution_count": 4,
   "id": "e36209b5",
   "metadata": {},
   "outputs": [],
   "source": [
    "# Y, Test = full_data.iloc[:,:-1], full_data.iloc[:,-1:]"
   ]
  },
  {
   "cell_type": "markdown",
   "id": "a32eb59a",
   "metadata": {},
   "source": [
    "***"
   ]
  },
  {
   "cell_type": "markdown",
   "id": "07bb5eeb",
   "metadata": {},
   "source": [
    "### Step 2: Apply Data Protection to Generate Protected Series"
   ]
  },
  {
   "cell_type": "markdown",
   "id": "072e3186",
   "metadata": {},
   "source": [
    "At the end of this step, we will have two time series datasets:\n",
    "\n",
    "* Confidential (original) dataset\n",
    "* Protected dataset"
   ]
  },
  {
   "cell_type": "code",
   "execution_count": 5,
   "id": "802c7c93",
   "metadata": {},
   "outputs": [],
   "source": [
    "# Y_protected = apply_data_protection(Y, coding_type=\"Top\", coding_percentage=0.10)"
   ]
  },
  {
   "cell_type": "markdown",
   "id": "0f7542dc",
   "metadata": {},
   "source": [
    "***"
   ]
  },
  {
   "cell_type": "markdown",
   "id": "9ad96a70",
   "metadata": {},
   "source": [
    "### Step 3: Pre-process the Confidential and Sensitive Datasets"
   ]
  },
  {
   "cell_type": "code",
   "execution_count": 6,
   "id": "f3ce8777",
   "metadata": {},
   "outputs": [],
   "source": [
    "# # parameters for SES\n",
    "# h = 1\n",
    "# sp = 1\n",
    "# # seasonality_type = \"multiplicative\""
   ]
  },
  {
   "cell_type": "code",
   "execution_count": 7,
   "id": "3035bff8",
   "metadata": {},
   "outputs": [],
   "source": [
    "# # parameters for LGBM\n",
    "# h = 10\n",
    "# window_length = 20"
   ]
  },
  {
   "cell_type": "code",
   "execution_count": 8,
   "id": "532d40e2",
   "metadata": {},
   "outputs": [],
   "source": [
    "# # transform_dict = {\"deseasonalize\":{\"sp\":sp, \"seasonality_type\":seasonality_type}}\n",
    "# transform_dict = {}"
   ]
  },
  {
   "cell_type": "code",
   "execution_count": 9,
   "id": "a7d3bdce",
   "metadata": {},
   "outputs": [],
   "source": [
    "# Y_processed, Y_last_window, Y_last_window_trend = pre_process(Y, truncate=True, log=True, transform_dict=transform_dict)\n",
    "# Y_protected_processed, Y_protected_last_window, Y_protected_last_window_trend = pre_process(Y_protected, truncate=True, log=True, transform_dict=transform_dict)"
   ]
  },
  {
   "cell_type": "markdown",
   "id": "3a47b603",
   "metadata": {},
   "source": [
    "### Step 4: Train Models and Generate Forecasts"
   ]
  },
  {
   "cell_type": "code",
   "execution_count": 10,
   "id": "acc1c069",
   "metadata": {},
   "outputs": [],
   "source": [
    "# forecasting_model = ExponentialSmoothing(use_boxcox=False)"
   ]
  },
  {
   "cell_type": "code",
   "execution_count": 11,
   "id": "92fc8790",
   "metadata": {},
   "outputs": [],
   "source": [
    "# forecasts_original = train_and_forecast(ts_data=Y_processed, forecasting_model=forecasting_model, horizon_length=h, last_window=Y_last_window)\n",
    "# forecasts_protected = train_and_forecast(ts_data=Y_protected_processed, forecasting_model=forecasting_model, horizon_length=h, last_window=Y_protected_last_window)"
   ]
  },
  {
   "cell_type": "markdown",
   "id": "cf112c85",
   "metadata": {},
   "source": [
    "### Step 5: Post Process the Forecasts"
   ]
  },
  {
   "cell_type": "code",
   "execution_count": 12,
   "id": "97d83440",
   "metadata": {},
   "outputs": [],
   "source": [
    "# forecasts_original = post_process(full_ts_data=Y, \n",
    "#                                   forecasts=forecasts_original, \n",
    "#                                   last_window_with_trend=Y_last_window_trend,\n",
    "#                                   truncate=True,\n",
    "#                                   log=True,\n",
    "#                                   bias_adjusted=False,\n",
    "#                                   transform_dict=transform_dict)"
   ]
  },
  {
   "cell_type": "code",
   "execution_count": 13,
   "id": "e0adbf09",
   "metadata": {},
   "outputs": [],
   "source": [
    "# forecasts_protected = post_process(full_ts_data=Y_protected, \n",
    "#                                    forecasts=forecasts_protected, \n",
    "#                                    last_window_with_trend=Y_protected_last_window_trend,\n",
    "#                                    truncate=True,\n",
    "#                                    log=True,\n",
    "#                                    bias_adjusted=False,\n",
    "#                                    transform_dict=transform_dict)"
   ]
  },
  {
   "cell_type": "markdown",
   "id": "f894a9be",
   "metadata": {},
   "source": [
    "### Step 6: Forecast Evaluation"
   ]
  },
  {
   "cell_type": "code",
   "execution_count": 14,
   "id": "ac4c5b40",
   "metadata": {},
   "outputs": [],
   "source": [
    "# Things to calculate\n",
    "# series-level MAPE, MdAPE\n",
    "# the percentage of series that had improved/worsened accuracy"
   ]
  },
  {
   "cell_type": "code",
   "execution_count": 15,
   "id": "9727580e",
   "metadata": {},
   "outputs": [],
   "source": [
    "# forecast_results(test_data=Test.T, original_forecasts=forecasts_original, protected_forecasts=forecasts_protected)"
   ]
  },
  {
   "cell_type": "code",
   "execution_count": 20,
   "id": "e8793240",
   "metadata": {},
   "outputs": [
    {
     "data": {
      "text/plain": [
       "{'Global MAPE, MdAPE': array([0.2516, 0.2516]),\n",
       " 'Global Protected MAPE, MdAPE': array([0.3421, 0.3421]),\n",
       " 'Original MAPE Up, Down': array([0.1666, 0.2898]),\n",
       " 'Protected MAPE Up, Down': array([0.2501, 0.3835]),\n",
       " 'Original MdAPE Up, Down': array([0.1197, 0.1407]),\n",
       " 'Protected MdAPE Up, Down': array([0.1381, 0.2949])}"
      ]
     },
     "execution_count": 20,
     "metadata": {},
     "output_type": "execute_result"
    }
   ],
   "source": [
    "# full_forecast_analysis(full_data=full_data,\n",
    "#                        forecasting_model=ExponentialSmoothing(trend=\"additive\", use_boxcox=False),\n",
    "#                        h=1,\n",
    "#                        truncate=True,\n",
    "#                        log=True,\n",
    "#                        num_stdev=1)"
   ]
  },
  {
   "cell_type": "code",
   "execution_count": null,
   "id": "9e529384",
   "metadata": {},
   "outputs": [],
   "source": []
  }
 ],
 "metadata": {
  "kernelspec": {
   "display_name": "Python 3 (ipykernel)",
   "language": "python",
   "name": "python3"
  },
  "language_info": {
   "codemirror_mode": {
    "name": "ipython",
    "version": 3
   },
   "file_extension": ".py",
   "mimetype": "text/x-python",
   "name": "python",
   "nbconvert_exporter": "python",
   "pygments_lexer": "ipython3",
   "version": "3.9.7"
  }
 },
 "nbformat": 4,
 "nbformat_minor": 5
}
