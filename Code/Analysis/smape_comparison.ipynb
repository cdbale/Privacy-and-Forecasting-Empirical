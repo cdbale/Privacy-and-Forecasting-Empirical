{
 "cells": [
  {
   "cell_type": "code",
   "execution_count": 1,
   "id": "4c4dc835",
   "metadata": {},
   "outputs": [],
   "source": [
    "# load modules\n",
    "import numpy as np\n",
    "import pandas as pd\n",
    "from sktime.performance_metrics.forecasting import mean_absolute_percentage_error, mean_absolute_error\n",
    "\n",
    "from data_protection_functions import *\n",
    "from data_processing_functions import *\n",
    "from forecasting_functions import *\n",
    "\n",
    "# nice time series plots\n",
    "from sktime.utils.plotting import plot_series"
   ]
  },
  {
   "cell_type": "code",
   "execution_count": 2,
   "id": "61ce9690",
   "metadata": {},
   "outputs": [],
   "source": [
    "test = pd.read_csv(\"../../Outputs/Forecasts/Wikipedia/Test_h59.csv\")"
   ]
  },
  {
   "cell_type": "code",
   "execution_count": 18,
   "id": "aedca9ee",
   "metadata": {},
   "outputs": [],
   "source": [
    "fcasts = pd.read_csv(\"../../Outputs/Forecasts/Wikipedia/RNN_h59_DP_0.1.csv\")"
   ]
  },
  {
   "cell_type": "code",
   "execution_count": 19,
   "id": "b667f1bd",
   "metadata": {},
   "outputs": [
    {
     "name": "stderr",
     "output_type": "stream",
     "text": [
      "C:\\Users\\Cameron\\anaconda3\\lib\\site-packages\\sktime\\performance_metrics\\forecasting\\_functions.py:1545: FutureWarning: In the percentage error metric functions the default argument symmetric=True is changing to symmetric=False in v0.12.0.\n",
      "  warn(\n"
     ]
    },
    {
     "data": {
      "text/plain": [
       "1.3591838075859712"
      ]
     },
     "execution_count": 19,
     "metadata": {},
     "output_type": "execute_result"
    }
   ],
   "source": [
    "mean_absolute_percentage_error(test, fcasts, symmetric=True)"
   ]
  },
  {
   "cell_type": "code",
   "execution_count": 20,
   "id": "9172ac35",
   "metadata": {},
   "outputs": [
    {
     "data": {
      "text/plain": [
       "1014.7942144032037"
      ]
     },
     "execution_count": 20,
     "metadata": {},
     "output_type": "execute_result"
    }
   ],
   "source": [
    "mean_absolute_error(test, fcasts)"
   ]
  },
  {
   "cell_type": "code",
   "execution_count": null,
   "id": "ab592867",
   "metadata": {},
   "outputs": [],
   "source": []
  },
  {
   "cell_type": "code",
   "execution_count": null,
   "id": "1141b776",
   "metadata": {},
   "outputs": [],
   "source": []
  }
 ],
 "metadata": {
  "kernelspec": {
   "display_name": "Python 3 (ipykernel)",
   "language": "python",
   "name": "python3"
  },
  "language_info": {
   "codemirror_mode": {
    "name": "ipython",
    "version": 3
   },
   "file_extension": ".py",
   "mimetype": "text/x-python",
   "name": "python",
   "nbconvert_exporter": "python",
   "pygments_lexer": "ipython3",
   "version": "3.9.7"
  }
 },
 "nbformat": 4,
 "nbformat_minor": 5
}
