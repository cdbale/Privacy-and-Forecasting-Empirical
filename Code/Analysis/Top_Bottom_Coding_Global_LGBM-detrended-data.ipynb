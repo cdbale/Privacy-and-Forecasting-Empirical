{
 "cells": [
  {
   "cell_type": "markdown",
   "id": "cd2ff7cb",
   "metadata": {},
   "source": [
    "## Analyzing the Effects of Top/Bottom Coding on The Accuracy of Global LGBM Forecasts"
   ]
  },
  {
   "cell_type": "markdown",
   "id": "1474c915",
   "metadata": {},
   "source": [
    "***"
   ]
  },
  {
   "cell_type": "markdown",
   "id": "aa7ba28b",
   "metadata": {},
   "source": [
    "## Import Modules"
   ]
  },
  {
   "cell_type": "code",
   "execution_count": 1,
   "id": "f5f4856f",
   "metadata": {},
   "outputs": [],
   "source": [
    "# general modules\n",
    "import numpy as np\n",
    "import pandas as pd\n",
    "import matplotlib.pyplot as plt\n",
    "import seaborn as sns\n",
    "\n",
    "# light gradient boosting model package\n",
    "import lightgbm as lgb\n",
    "\n",
    "##### the `helper_functions.py` file contains many custom functions we wrote to aid in our analysis\n",
    "##### `full_coding_analysis` combines all of the following - train-test split data,\n",
    "##### data protection, train models, compare accuracies, return accuracy results\n",
    "from helper_functions import full_coding_analysis\n",
    "from helper_functions import *\n",
    "\n",
    "# import detrender and deseasonalizer\n",
    "from sktime.transformations.series.detrend import Detrender\n",
    "# nice time series plots\n",
    "from sktime.utils.plotting import plot_series"
   ]
  },
  {
   "cell_type": "markdown",
   "id": "bd7c1d74",
   "metadata": {},
   "source": [
    "## Import data"
   ]
  },
  {
   "cell_type": "code",
   "execution_count": 2,
   "id": "ca873e50",
   "metadata": {},
   "outputs": [],
   "source": [
    "# import weekly finance time series\n",
    "Y = np.genfromtxt(\"../../Data/Train/Clean/weekly_finance_clean.csv\", delimiter = ',', skip_header = 1)\n",
    "Y = pd.DataFrame(Y)"
   ]
  },
  {
   "cell_type": "markdown",
   "id": "c5e92131",
   "metadata": {},
   "source": [
    "This file experiments with applying top and bottom coding to detrended data (intuition suggests this type of data is a better candidate for this type of protection than the original finance series data) so we remove the trend from the finance data here."
   ]
  },
  {
   "cell_type": "code",
   "execution_count": 3,
   "id": "c23729ac",
   "metadata": {},
   "outputs": [],
   "source": [
    "detrender = Detrender()\n",
    "detrended_series = [detrender.fit_transform(series) for _ , series in Y.iterrows()]"
   ]
  },
  {
   "cell_type": "code",
   "execution_count": 4,
   "id": "b0437ee9",
   "metadata": {},
   "outputs": [],
   "source": [
    "detrended_series = [i+np.abs(np.min(i))+1.0 for i in detrended_series]\n",
    "Y = pd.concat(detrended_series, axis=1).T"
   ]
  },
  {
   "cell_type": "markdown",
   "id": "07ad35d9",
   "metadata": {},
   "source": [
    "***"
   ]
  },
  {
   "cell_type": "markdown",
   "id": "05057abd",
   "metadata": {},
   "source": [
    "We obtain results for a combination of forecast horizons, coding types (top and bottom), coding percentages, and model complexities:\n",
    "\n",
    "* Forecast Horizons: (1, 5, 15)\n",
    "* Coding Types: (Top, Bottom)\n",
    "* Coding Percentages: (0.10, 0.20, 0.40)\n",
    "* Model complexities (window length): (10, 20, 40)"
   ]
  },
  {
   "cell_type": "markdown",
   "id": "c5a9df38",
   "metadata": {},
   "source": [
    "## Simple Model (window length = 10)"
   ]
  },
  {
   "cell_type": "code",
   "execution_count": 5,
   "id": "dbf6e2d5",
   "metadata": {},
   "outputs": [],
   "source": [
    "forecaster = lgb.LGBMRegressor()\n",
    "window_length = 10"
   ]
  },
  {
   "cell_type": "code",
   "execution_count": 6,
   "id": "a2adde68",
   "metadata": {},
   "outputs": [],
   "source": [
    "results_dict_10 = {}\n",
    "fcasts_10 = {}\n",
    "fcasts_protected_10 = {}\n",
    "tests = {}\n",
    "types = [\"Top\", \"Bottom\"]\n",
    "percentages = [0.10, 0.20, 0.40]\n",
    "horizons = [1, 20]"
   ]
  },
  {
   "cell_type": "code",
   "execution_count": 7,
   "id": "01b494c4",
   "metadata": {},
   "outputs": [],
   "source": [
    "for t in types:\n",
    "    for p in percentages:\n",
    "        for h in horizons:\n",
    "            idx = \"h=\"+str(h)+\", \"+t+\" \"+str(p)\n",
    "            results_dict_10[idx], tests[idx], fcasts_10[idx], fcasts_protected_10[idx] = full_coding_analysis(time_series_data=Y,\n",
    "                                                                                                              forecasting_model=forecaster,\n",
    "                                                                                                              forecast_horizon=h, \n",
    "                                                                                                              coding_type=t, \n",
    "                                                                                                              coding_percentage=p, \n",
    "                                                                                                              window_length=window_length)"
   ]
  },
  {
   "cell_type": "code",
   "execution_count": 8,
   "id": "f38bbe6b",
   "metadata": {},
   "outputs": [
    {
     "data": {
      "text/plain": [
       "{'h=1, Top 0.1': {'Mean Accuracies': array([34.57, 34.57]),\n",
       "  'Protected Mean Accuracies:': array([36.75, 36.75]),\n",
       "  '% Change Mean accuracy:': array([-6.3, -6.3]),\n",
       "  '% Change Median accuracy:': array([-20.91, -20.91]),\n",
       "  '% Forecasted Points adjusted downward:': 35.370000000000005,\n",
       "  '% Forecasted Points adjusted upward:': 64.63,\n",
       "  '% Series with improved accuracy:': array([43.29, 43.29]),\n",
       "  '% Series with reduced accuracy:': array([56.71, 56.71]),\n",
       "  'Original Mean Absolute Error Upward Adjusted:': 35.099999999999994,\n",
       "  'Original Mean Absolute Error Downward Adjusted:': 33.6,\n",
       "  'Protected Mean Absolute Error Upward Adjusted:': 36.25,\n",
       "  'Protected Mean Absolute Error Downward Adjusted:': 37.65},\n",
       " 'h=20, Top 0.1': {'Mean Accuracies': array([48.5 , 58.94]),\n",
       "  'Protected Mean Accuracies:': array([45.47, 55.66]),\n",
       "  '% Change Mean accuracy:': array([6.24, 5.57]),\n",
       "  '% Change Median accuracy:': array([12.49,  9.19]),\n",
       "  '% Forecasted Points adjusted downward:': 42.1,\n",
       "  '% Forecasted Points adjusted upward:': 57.9,\n",
       "  '% Series with improved accuracy:': array([54.27, 56.1 ]),\n",
       "  '% Series with reduced accuracy:': array([45.73, 43.9 ]),\n",
       "  'Original Mean Absolute Error Upward Adjusted:': 53.72,\n",
       "  'Original Mean Absolute Error Downward Adjusted:': 41.32,\n",
       "  'Protected Mean Absolute Error Upward Adjusted:': 44.12,\n",
       "  'Protected Mean Absolute Error Downward Adjusted:': 47.33},\n",
       " 'h=1, Top 0.2': {'Mean Accuracies': array([34.57, 34.57]),\n",
       "  'Protected Mean Accuracies:': array([37.9, 37.9]),\n",
       "  '% Change Mean accuracy:': array([-9.63, -9.63]),\n",
       "  '% Change Median accuracy:': array([-53.02, -53.02]),\n",
       "  '% Forecasted Points adjusted downward:': 37.2,\n",
       "  '% Forecasted Points adjusted upward:': 62.8,\n",
       "  '% Series with improved accuracy:': array([35.98, 35.98]),\n",
       "  '% Series with reduced accuracy:': array([64.02, 64.02]),\n",
       "  'Original Mean Absolute Error Upward Adjusted:': 32.04,\n",
       "  'Original Mean Absolute Error Downward Adjusted:': 38.84,\n",
       "  'Protected Mean Absolute Error Upward Adjusted:': 33.410000000000004,\n",
       "  'Protected Mean Absolute Error Downward Adjusted:': 45.47},\n",
       " 'h=20, Top 0.2': {'Mean Accuracies': array([48.5 , 58.94]),\n",
       "  'Protected Mean Accuracies:': array([46.61, 56.3 ]),\n",
       "  '% Change Mean accuracy:': array([3.88, 4.47]),\n",
       "  '% Change Median accuracy:': array([6.68, 8.54]),\n",
       "  '% Forecasted Points adjusted downward:': 35.61,\n",
       "  '% Forecasted Points adjusted upward:': 64.39,\n",
       "  '% Series with improved accuracy:': array([56.1 , 54.27]),\n",
       "  '% Series with reduced accuracy:': array([43.9 , 45.73]),\n",
       "  'Original Mean Absolute Error Upward Adjusted:': 47.85,\n",
       "  'Original Mean Absolute Error Downward Adjusted:': 49.669999999999995,\n",
       "  'Protected Mean Absolute Error Upward Adjusted:': 40.02,\n",
       "  'Protected Mean Absolute Error Downward Adjusted:': 58.540000000000006},\n",
       " 'h=1, Top 0.4': {'Mean Accuracies': array([34.57, 34.57]),\n",
       "  'Protected Mean Accuracies:': array([44.09, 44.09]),\n",
       "  '% Change Mean accuracy:': array([-27.55, -27.55]),\n",
       "  '% Change Median accuracy:': array([-119.71, -119.71]),\n",
       "  '% Forecasted Points adjusted downward:': 48.17,\n",
       "  '% Forecasted Points adjusted upward:': 51.83,\n",
       "  '% Series with improved accuracy:': array([25.61, 25.61]),\n",
       "  '% Series with reduced accuracy:': array([74.39, 74.39]),\n",
       "  'Original Mean Absolute Error Upward Adjusted:': 45.14,\n",
       "  'Original Mean Absolute Error Downward Adjusted:': 23.189999999999998,\n",
       "  'Protected Mean Absolute Error Upward Adjusted:': 50.57000000000001,\n",
       "  'Protected Mean Absolute Error Downward Adjusted:': 37.12},\n",
       " 'h=20, Top 0.4': {'Mean Accuracies': array([48.5 , 58.94]),\n",
       "  'Protected Mean Accuracies:': array([48.01, 58.74]),\n",
       "  '% Change Mean accuracy:': array([1.02, 0.33]),\n",
       "  '% Change Median accuracy:': array([ 3.21, -0.77]),\n",
       "  '% Forecasted Points adjusted downward:': 37.01,\n",
       "  '% Forecasted Points adjusted upward:': 62.99,\n",
       "  '% Series with improved accuracy:': array([50.  , 48.78]),\n",
       "  '% Series with reduced accuracy:': array([50.  , 51.22]),\n",
       "  'Original Mean Absolute Error Upward Adjusted:': 51.22,\n",
       "  'Original Mean Absolute Error Downward Adjusted:': 43.87,\n",
       "  'Protected Mean Absolute Error Upward Adjusted:': 45.86,\n",
       "  'Protected Mean Absolute Error Downward Adjusted:': 51.66},\n",
       " 'h=1, Bottom 0.1': {'Mean Accuracies': array([34.57, 34.57]),\n",
       "  'Protected Mean Accuracies:': array([45.12, 45.12]),\n",
       "  '% Change Mean accuracy:': array([-30.54, -30.54]),\n",
       "  '% Change Median accuracy:': array([-8.02, -8.02]),\n",
       "  '% Forecasted Points adjusted downward:': 51.83,\n",
       "  '% Forecasted Points adjusted upward:': 48.17,\n",
       "  '% Series with improved accuracy:': array([43.29, 43.29]),\n",
       "  '% Series with reduced accuracy:': array([56.71, 56.71]),\n",
       "  'Original Mean Absolute Error Upward Adjusted:': 58.41,\n",
       "  'Original Mean Absolute Error Downward Adjusted:': 12.4,\n",
       "  'Protected Mean Absolute Error Upward Adjusted:': 79.74,\n",
       "  'Protected Mean Absolute Error Downward Adjusted:': 12.950000000000001},\n",
       " 'h=20, Bottom 0.1': {'Mean Accuracies': array([48.5 , 58.94]),\n",
       "  'Protected Mean Accuracies:': array([44.63, 55.93]),\n",
       "  '% Change Mean accuracy:': array([7.97, 5.1 ]),\n",
       "  '% Change Median accuracy:': array([12.58, 11.17]),\n",
       "  '% Forecasted Points adjusted downward:': 36.65,\n",
       "  '% Forecasted Points adjusted upward:': 63.349999999999994,\n",
       "  '% Series with improved accuracy:': array([56.71, 56.71]),\n",
       "  '% Series with reduced accuracy:': array([43.29, 43.29]),\n",
       "  'Original Mean Absolute Error Upward Adjusted:': 59.63,\n",
       "  'Original Mean Absolute Error Downward Adjusted:': 29.26,\n",
       "  'Protected Mean Absolute Error Upward Adjusted:': 52.81,\n",
       "  'Protected Mean Absolute Error Downward Adjusted:': 30.490000000000002},\n",
       " 'h=1, Bottom 0.2': {'Mean Accuracies': array([34.57, 34.57]),\n",
       "  'Protected Mean Accuracies:': array([50.84, 50.84]),\n",
       "  '% Change Mean accuracy:': array([-47.06, -47.06]),\n",
       "  '% Change Median accuracy:': array([-15.01, -15.01]),\n",
       "  '% Forecasted Points adjusted downward:': 64.63,\n",
       "  '% Forecasted Points adjusted upward:': 35.370000000000005,\n",
       "  '% Series with improved accuracy:': array([35.98, 35.98]),\n",
       "  '% Series with reduced accuracy:': array([64.02, 64.02]),\n",
       "  'Original Mean Absolute Error Upward Adjusted:': 79.49000000000001,\n",
       "  'Original Mean Absolute Error Downward Adjusted:': 9.99,\n",
       "  'Protected Mean Absolute Error Upward Adjusted:': 122.52000000000001,\n",
       "  'Protected Mean Absolute Error Downward Adjusted:': 11.61},\n",
       " 'h=20, Bottom 0.2': {'Mean Accuracies': array([48.5 , 58.94]),\n",
       "  'Protected Mean Accuracies:': array([44.26, 55.41]),\n",
       "  '% Change Mean accuracy:': array([8.74, 5.98]),\n",
       "  '% Change Median accuracy:': array([11.05, 11.  ]),\n",
       "  '% Forecasted Points adjusted downward:': 35.46,\n",
       "  '% Forecasted Points adjusted upward:': 64.53999999999999,\n",
       "  '% Series with improved accuracy:': array([53.05, 51.83]),\n",
       "  '% Series with reduced accuracy:': array([46.95, 48.17]),\n",
       "  'Original Mean Absolute Error Upward Adjusted:': 60.19,\n",
       "  'Original Mean Absolute Error Downward Adjusted:': 27.22,\n",
       "  'Protected Mean Absolute Error Upward Adjusted:': 52.18000000000001,\n",
       "  'Protected Mean Absolute Error Downward Adjusted:': 29.849999999999998},\n",
       " 'h=1, Bottom 0.4': {'Mean Accuracies': array([34.57, 34.57]),\n",
       "  'Protected Mean Accuracies:': array([58.13, 58.13]),\n",
       "  '% Change Mean accuracy:': array([-68.17, -68.17]),\n",
       "  '% Change Median accuracy:': array([-77.96, -77.96]),\n",
       "  '% Forecasted Points adjusted downward:': 64.63,\n",
       "  '% Forecasted Points adjusted upward:': 35.370000000000005,\n",
       "  '% Series with improved accuracy:': array([27.44, 27.44]),\n",
       "  '% Series with reduced accuracy:': array([72.56, 72.56]),\n",
       "  'Original Mean Absolute Error Upward Adjusted:': 80.94,\n",
       "  'Original Mean Absolute Error Downward Adjusted:': 9.2,\n",
       "  'Protected Mean Absolute Error Upward Adjusted:': 137.98,\n",
       "  'Protected Mean Absolute Error Downward Adjusted:': 14.45},\n",
       " 'h=20, Bottom 0.4': {'Mean Accuracies': array([48.5 , 58.94]),\n",
       "  'Protected Mean Accuracies:': array([45.97, 56.93]),\n",
       "  '% Change Mean accuracy:': array([5.21, 3.41]),\n",
       "  '% Change Median accuracy:': array([3.38, 2.87]),\n",
       "  '% Forecasted Points adjusted downward:': 42.29,\n",
       "  '% Forecasted Points adjusted upward:': 57.709999999999994,\n",
       "  '% Series with improved accuracy:': array([48.78, 45.73]),\n",
       "  '% Series with reduced accuracy:': array([51.22, 54.27]),\n",
       "  'Original Mean Absolute Error Upward Adjusted:': 65.06,\n",
       "  'Original Mean Absolute Error Downward Adjusted:': 25.89,\n",
       "  'Protected Mean Absolute Error Upward Adjusted:': 58.06,\n",
       "  'Protected Mean Absolute Error Downward Adjusted:': 29.470000000000002}}"
      ]
     },
     "execution_count": 8,
     "metadata": {},
     "output_type": "execute_result"
    }
   ],
   "source": [
    "results_dict_10"
   ]
  },
  {
   "cell_type": "code",
   "execution_count": 9,
   "id": "bded4e9c",
   "metadata": {},
   "outputs": [],
   "source": [
    "# plot the accuracy changes for a given scenario\n",
    "fcasts = fcasts_10[\"h=20, Bottom 0.1\"]\n",
    "fcasts_protected = fcasts_protected_10[\"h=20, Bottom 0.1\"]\n",
    "Test = tests[\"h=20, Bottom 0.1\"]"
   ]
  },
  {
   "cell_type": "code",
   "execution_count": 10,
   "id": "363c744c",
   "metadata": {},
   "outputs": [],
   "source": [
    "maes_orig = mean_absolute_error(Test, fcasts, multioutput=\"raw_values\")\n",
    "maes_protected = mean_absolute_error(Test, fcasts_protected, multioutput=\"raw_values\")\n",
    "rmses_orig = mean_squared_error(Test, fcasts, square_root=True, multioutput=\"raw_values\")\n",
    "rmses_protected = mean_squared_error(Test, fcasts_protected, square_root=True, multioutput=\"raw_values\")"
   ]
  },
  {
   "cell_type": "code",
   "execution_count": 11,
   "id": "069d70f8",
   "metadata": {},
   "outputs": [],
   "source": [
    "pct_maes = (maes_orig-maes_protected)/maes_orig\n",
    "pct_rmses = (rmses_orig-rmses_protected)/rmses_orig"
   ]
  },
  {
   "cell_type": "code",
   "execution_count": 12,
   "id": "7ef7a1fc",
   "metadata": {},
   "outputs": [
    {
     "data": {
      "text/plain": [
       "(array([ 1.,  0.,  0.,  0.,  0.,  0.,  0.,  0.,  0.,  0.,  0.,  1.,  1.,\n",
       "         3.,  7., 14., 45., 73., 14.,  5.]),\n",
       " array([-4.60601520e+00, -4.33482504e+00, -4.06363487e+00, -3.79244470e+00,\n",
       "        -3.52125454e+00, -3.25006437e+00, -2.97887420e+00, -2.70768404e+00,\n",
       "        -2.43649387e+00, -2.16530370e+00, -1.89411353e+00, -1.62292337e+00,\n",
       "        -1.35173320e+00, -1.08054303e+00, -8.09352868e-01, -5.38162701e-01,\n",
       "        -2.66972534e-01,  4.21763287e-03,  2.75407800e-01,  5.46597966e-01,\n",
       "         8.17788133e-01]),\n",
       " <BarContainer object of 20 artists>)"
      ]
     },
     "execution_count": 12,
     "metadata": {},
     "output_type": "execute_result"
    },
    {
     "data": {
      "image/png": "[encoded data removed]",
      "text/plain": [
       "<Figure size 432x288 with 2 Axes>"
      ]
     },
     "metadata": {
      "needs_background": "light"
     },
     "output_type": "display_data"
    }
   ],
   "source": [
    "fig, (ax1, ax2) = plt.subplots(1, 2)\n",
    "fig.suptitle('Horizontally stacked subplots')\n",
    "ax1.hist(pct_maes, bins=20)\n",
    "ax2.hist(pct_rmses, bins=20)"
   ]
  },
  {
   "cell_type": "code",
   "execution_count": 13,
   "id": "77e09f7c",
   "metadata": {},
   "outputs": [
    {
     "data": {
      "image/png": "[encoded data removed]",
      "text/plain": [
       "<Figure size 432x288 with 2 Axes>"
      ]
     },
     "metadata": {
      "needs_background": "light"
     },
     "output_type": "display_data"
    }
   ],
   "source": [
    "# call regplot on each axes\n",
    "fig, (ax1, ax2) = plt.subplots(ncols=2, sharey=True)\n",
    "sns.kdeplot(x=pct_maes, ax=ax1)\n",
    "sns.kdeplot(x=pct_rmses, ax=ax2)\n",
    "plt.show()"
   ]
  },
  {
   "cell_type": "markdown",
   "id": "bffc242f",
   "metadata": {},
   "source": [
    "***\n",
    "***"
   ]
  },
  {
   "cell_type": "markdown",
   "id": "f2e10713",
   "metadata": {},
   "source": [
    "## 'Medium' Model (window length = 20)"
   ]
  },
  {
   "cell_type": "code",
   "execution_count": 14,
   "id": "ac63a58f",
   "metadata": {},
   "outputs": [],
   "source": [
    "forecaster = lgb.LGBMRegressor()\n",
    "window_length = 20"
   ]
  },
  {
   "cell_type": "code",
   "execution_count": 15,
   "id": "2a53ca6c",
   "metadata": {},
   "outputs": [],
   "source": [
    "results_dict_20 = {}\n",
    "fcasts_20 = {}\n",
    "fcasts_protected_20 = {}\n",
    "tests = {}\n",
    "types = [\"Top\", \"Bottom\"]\n",
    "percentages = [0.10, 0.20, 0.40]\n",
    "horizons = [1, 20]"
   ]
  },
  {
   "cell_type": "code",
   "execution_count": 16,
   "id": "754fdb14",
   "metadata": {},
   "outputs": [],
   "source": [
    "for t in types:\n",
    "    for p in percentages:\n",
    "        for h in horizons:\n",
    "            idx = \"h=\"+str(h)+\", \"+t+\" \"+str(p)\n",
    "            results_dict_20[idx], tests[idx], fcasts_20[idx], fcasts_protected_20[idx] = full_coding_analysis(time_series_data=Y,\n",
    "                                                                                                              forecasting_model=forecaster,\n",
    "                                                                                                              forecast_horizon=h, \n",
    "                                                                                                              coding_type=t, \n",
    "                                                                                                              coding_percentage=p, \n",
    "                                                                                                              window_length=window_length)"
   ]
  },
  {
   "cell_type": "code",
   "execution_count": 17,
   "id": "8e8429fa",
   "metadata": {},
   "outputs": [
    {
     "data": {
      "text/plain": [
       "{'h=1, Top 0.1': {'Mean Accuracies': array([34.31, 34.31]),\n",
       "  'Protected Mean Accuracies:': array([36.48, 36.48]),\n",
       "  '% Change Mean accuracy:': array([-6.34, -6.34]),\n",
       "  '% Change Median accuracy:': array([-19.24, -19.24]),\n",
       "  '% Forecasted Points adjusted downward:': 41.46,\n",
       "  '% Forecasted Points adjusted upward:': 58.540000000000006,\n",
       "  '% Series with improved accuracy:': array([42.68, 42.68]),\n",
       "  '% Series with reduced accuracy:': array([57.32, 57.32]),\n",
       "  'Original Mean Absolute Error Upward Adjusted:': 34.31,\n",
       "  'Original Mean Absolute Error Downward Adjusted:': 34.300000000000004,\n",
       "  'Protected Mean Absolute Error Upward Adjusted:': 36.05,\n",
       "  'Protected Mean Absolute Error Downward Adjusted:': 37.1},\n",
       " 'h=20, Top 0.1': {'Mean Accuracies': array([48.15, 59.46]),\n",
       "  'Protected Mean Accuracies:': array([47.18, 58.43]),\n",
       "  '% Change Mean accuracy:': array([2.01, 1.75]),\n",
       "  '% Change Median accuracy:': array([4.39, 6.38]),\n",
       "  '% Forecasted Points adjusted downward:': 42.93,\n",
       "  '% Forecasted Points adjusted upward:': 57.07,\n",
       "  '% Series with improved accuracy:': array([47.56, 52.44]),\n",
       "  '% Series with reduced accuracy:': array([52.44, 47.56]),\n",
       "  'Original Mean Absolute Error Upward Adjusted:': 48.699999999999996,\n",
       "  'Original Mean Absolute Error Downward Adjusted:': 47.410000000000004,\n",
       "  'Protected Mean Absolute Error Upward Adjusted:': 41.58,\n",
       "  'Protected Mean Absolute Error Downward Adjusted:': 54.63},\n",
       " 'h=1, Top 0.2': {'Mean Accuracies': array([34.31, 34.31]),\n",
       "  'Protected Mean Accuracies:': array([38.28, 38.28]),\n",
       "  '% Change Mean accuracy:': array([-11.57, -11.57]),\n",
       "  '% Change Median accuracy:': array([-46.43, -46.43]),\n",
       "  '% Forecasted Points adjusted downward:': 39.019999999999996,\n",
       "  '% Forecasted Points adjusted upward:': 60.980000000000004,\n",
       "  '% Series with improved accuracy:': array([33.54, 33.54]),\n",
       "  '% Series with reduced accuracy:': array([66.46, 66.46]),\n",
       "  'Original Mean Absolute Error Upward Adjusted:': 36.14,\n",
       "  'Original Mean Absolute Error Downward Adjusted:': 31.44,\n",
       "  'Protected Mean Absolute Error Upward Adjusted:': 37.59,\n",
       "  'Protected Mean Absolute Error Downward Adjusted:': 39.35},\n",
       " 'h=20, Top 0.2': {'Mean Accuracies': array([48.15, 59.46]),\n",
       "  'Protected Mean Accuracies:': array([45.3, 56.3]),\n",
       "  '% Change Mean accuracy:': array([5.91, 5.32]),\n",
       "  '% Change Median accuracy:': array([4.19, 6.51]),\n",
       "  '% Forecasted Points adjusted downward:': 35.949999999999996,\n",
       "  '% Forecasted Points adjusted upward:': 64.05,\n",
       "  '% Series with improved accuracy:': array([59.15, 58.54]),\n",
       "  '% Series with reduced accuracy:': array([40.85, 41.46]),\n",
       "  'Original Mean Absolute Error Upward Adjusted:': 45.03,\n",
       "  'Original Mean Absolute Error Downward Adjusted:': 53.7,\n",
       "  'Protected Mean Absolute Error Upward Adjusted:': 38.66,\n",
       "  'Protected Mean Absolute Error Downward Adjusted:': 57.14},\n",
       " 'h=1, Top 0.4': {'Mean Accuracies': array([34.31, 34.31]),\n",
       "  'Protected Mean Accuracies:': array([44.18, 44.18]),\n",
       "  '% Change Mean accuracy:': array([-28.79, -28.79]),\n",
       "  '% Change Median accuracy:': array([-130.33, -130.33]),\n",
       "  '% Forecasted Points adjusted downward:': 50.0,\n",
       "  '% Forecasted Points adjusted upward:': 50.0,\n",
       "  '% Series with improved accuracy:': array([26.22, 26.22]),\n",
       "  '% Series with reduced accuracy:': array([73.78, 73.78]),\n",
       "  'Original Mean Absolute Error Upward Adjusted:': 38.76,\n",
       "  'Original Mean Absolute Error Downward Adjusted:': 29.86,\n",
       "  'Protected Mean Absolute Error Upward Adjusted:': 45.18,\n",
       "  'Protected Mean Absolute Error Downward Adjusted:': 43.18},\n",
       " 'h=20, Top 0.4': {'Mean Accuracies': array([48.15, 59.46]),\n",
       "  'Protected Mean Accuracies:': array([46.96, 58.08]),\n",
       "  '% Change Mean accuracy:': array([2.46, 2.33]),\n",
       "  '% Change Median accuracy:': array([-2.82, -5.74]),\n",
       "  '% Forecasted Points adjusted downward:': 37.59,\n",
       "  '% Forecasted Points adjusted upward:': 62.41,\n",
       "  '% Series with improved accuracy:': array([51.83, 50.61]),\n",
       "  '% Series with reduced accuracy:': array([48.17, 49.39]),\n",
       "  'Original Mean Absolute Error Upward Adjusted:': 49.41,\n",
       "  'Original Mean Absolute Error Downward Adjusted:': 46.050000000000004,\n",
       "  'Protected Mean Absolute Error Upward Adjusted:': 43.79,\n",
       "  'Protected Mean Absolute Error Downward Adjusted:': 52.23},\n",
       " 'h=1, Bottom 0.1': {'Mean Accuracies': array([34.31, 34.31]),\n",
       "  'Protected Mean Accuracies:': array([44.61, 44.61]),\n",
       "  '% Change Mean accuracy:': array([-30.04, -30.04]),\n",
       "  '% Change Median accuracy:': array([1.47, 1.47]),\n",
       "  '% Forecasted Points adjusted downward:': 58.540000000000006,\n",
       "  '% Forecasted Points adjusted upward:': 41.46,\n",
       "  '% Series with improved accuracy:': array([40.24, 40.24]),\n",
       "  '% Series with reduced accuracy:': array([59.76, 59.76]),\n",
       "  'Original Mean Absolute Error Upward Adjusted:': 66.25999999999999,\n",
       "  'Original Mean Absolute Error Downward Adjusted:': 11.67,\n",
       "  'Protected Mean Absolute Error Upward Adjusted:': 90.92,\n",
       "  'Protected Mean Absolute Error Downward Adjusted:': 11.81},\n",
       " 'h=20, Bottom 0.1': {'Mean Accuracies': array([48.15, 59.46]),\n",
       "  'Protected Mean Accuracies:': array([45.26, 56.8 ]),\n",
       "  '% Change Mean accuracy:': array([6.  , 4.47]),\n",
       "  '% Change Median accuracy:': array([4.62, 3.95]),\n",
       "  '% Forecasted Points adjusted downward:': 41.589999999999996,\n",
       "  '% Forecasted Points adjusted upward:': 58.41,\n",
       "  '% Series with improved accuracy:': array([50.61, 48.17]),\n",
       "  '% Series with reduced accuracy:': array([49.39, 51.83]),\n",
       "  'Original Mean Absolute Error Upward Adjusted:': 56.84,\n",
       "  'Original Mean Absolute Error Downward Adjusted:': 35.93,\n",
       "  'Protected Mean Absolute Error Upward Adjusted:': 51.06,\n",
       "  'Protected Mean Absolute Error Downward Adjusted:': 37.11},\n",
       " 'h=1, Bottom 0.2': {'Mean Accuracies': array([34.31, 34.31]),\n",
       "  'Protected Mean Accuracies:': array([50.27, 50.27]),\n",
       "  '% Change Mean accuracy:': array([-46.53, -46.53]),\n",
       "  '% Change Median accuracy:': array([-8.16, -8.16]),\n",
       "  '% Forecasted Points adjusted downward:': 65.85,\n",
       "  '% Forecasted Points adjusted upward:': 34.150000000000006,\n",
       "  '% Series with improved accuracy:': array([34.15, 34.15]),\n",
       "  '% Series with reduced accuracy:': array([65.85, 65.85]),\n",
       "  'Original Mean Absolute Error Upward Adjusted:': 78.74,\n",
       "  'Original Mean Absolute Error Downward Adjusted:': 11.27,\n",
       "  'Protected Mean Absolute Error Upward Adjusted:': 122.82,\n",
       "  'Protected Mean Absolute Error Downward Adjusted:': 12.65},\n",
       " 'h=20, Bottom 0.2': {'Mean Accuracies': array([48.15, 59.46]),\n",
       "  'Protected Mean Accuracies:': array([45.51, 56.62]),\n",
       "  '% Change Mean accuracy:': array([5.47, 4.79]),\n",
       "  '% Change Median accuracy:': array([1.16, 4.09]),\n",
       "  '% Forecasted Points adjusted downward:': 39.82,\n",
       "  '% Forecasted Points adjusted upward:': 60.18,\n",
       "  '% Series with improved accuracy:': array([50.  , 46.95]),\n",
       "  '% Series with reduced accuracy:': array([50.  , 53.05]),\n",
       "  'Original Mean Absolute Error Upward Adjusted:': 60.4,\n",
       "  'Original Mean Absolute Error Downward Adjusted:': 29.630000000000003,\n",
       "  'Protected Mean Absolute Error Upward Adjusted:': 54.190000000000005,\n",
       "  'Protected Mean Absolute Error Downward Adjusted:': 32.4},\n",
       " 'h=1, Bottom 0.4': {'Mean Accuracies': array([34.31, 34.31]),\n",
       "  'Protected Mean Accuracies:': array([57.99, 57.99]),\n",
       "  '% Change Mean accuracy:': array([-69.05, -69.05]),\n",
       "  '% Change Median accuracy:': array([-76.11, -76.11]),\n",
       "  '% Forecasted Points adjusted downward:': 64.63,\n",
       "  '% Forecasted Points adjusted upward:': 35.370000000000005,\n",
       "  '% Series with improved accuracy:': array([26.83, 26.83]),\n",
       "  '% Series with reduced accuracy:': array([73.17, 73.17]),\n",
       "  'Original Mean Absolute Error Upward Adjusted:': 79.85,\n",
       "  'Original Mean Absolute Error Downward Adjusted:': 9.39,\n",
       "  'Protected Mean Absolute Error Upward Adjusted:': 137.38,\n",
       "  'Protected Mean Absolute Error Downward Adjusted:': 14.56},\n",
       " 'h=20, Bottom 0.4': {'Mean Accuracies': array([48.15, 59.46]),\n",
       "  'Protected Mean Accuracies:': array([47.6 , 58.73]),\n",
       "  '% Change Mean accuracy:': array([1.13, 1.24]),\n",
       "  '% Change Median accuracy:': array([-4.55, -6.6 ]),\n",
       "  '% Forecasted Points adjusted downward:': 46.01,\n",
       "  '% Forecasted Points adjusted upward:': 53.99,\n",
       "  '% Series with improved accuracy:': array([43.9 , 42.68]),\n",
       "  '% Series with reduced accuracy:': array([56.1 , 57.32]),\n",
       "  'Original Mean Absolute Error Upward Adjusted:': 61.67,\n",
       "  'Original Mean Absolute Error Downward Adjusted:': 32.28,\n",
       "  'Protected Mean Absolute Error Upward Adjusted:': 56.96,\n",
       "  'Protected Mean Absolute Error Downward Adjusted:': 36.620000000000005}}"
      ]
     },
     "execution_count": 17,
     "metadata": {},
     "output_type": "execute_result"
    }
   ],
   "source": [
    "results_dict_20"
   ]
  },
  {
   "cell_type": "markdown",
   "id": "6baeb9ba",
   "metadata": {},
   "source": [
    "***\n",
    "***"
   ]
  },
  {
   "cell_type": "markdown",
   "id": "c18762ca",
   "metadata": {},
   "source": [
    "## More Complex Model (window length = 40)"
   ]
  },
  {
   "cell_type": "code",
   "execution_count": 18,
   "id": "696c7603",
   "metadata": {},
   "outputs": [],
   "source": [
    "forecaster = lgb.LGBMRegressor()\n",
    "window_length = 40"
   ]
  },
  {
   "cell_type": "code",
   "execution_count": 19,
   "id": "fd51370f",
   "metadata": {},
   "outputs": [],
   "source": [
    "results_dict_40 = {}\n",
    "fcasts_40 = {}\n",
    "fcasts_protected_40 = {}\n",
    "tests = {}\n",
    "types = [\"Top\", \"Bottom\"]\n",
    "percentages = [0.10, 0.20, 0.40]\n",
    "horizons = [1, 20]"
   ]
  },
  {
   "cell_type": "code",
   "execution_count": 20,
   "id": "0f20575f",
   "metadata": {},
   "outputs": [],
   "source": [
    "for t in types:\n",
    "    for p in percentages:\n",
    "        for h in horizons:\n",
    "            idx = \"h=\"+str(h)+\", \"+t+\" \"+str(p)\n",
    "            results_dict_40[idx], tests[idx], fcasts_40[idx], fcasts_protected_40[idx] = full_coding_analysis(time_series_data=Y,\n",
    "                                                                                                              forecasting_model=forecaster,\n",
    "                                                                                                              forecast_horizon=h, \n",
    "                                                                                                              coding_type=t, \n",
    "                                                                                                              coding_percentage=p, \n",
    "                                                                                                              window_length=window_length)"
   ]
  },
  {
   "cell_type": "code",
   "execution_count": 21,
   "id": "f68bf763",
   "metadata": {},
   "outputs": [
    {
     "data": {
      "text/plain": [
       "{'h=1, Top 0.1': {'Mean Accuracies': array([35.89, 35.89]),\n",
       "  'Protected Mean Accuracies:': array([36.24, 36.24]),\n",
       "  '% Change Mean accuracy:': array([-0.99, -0.99]),\n",
       "  '% Change Median accuracy:': array([-6.86, -6.86]),\n",
       "  '% Forecasted Points adjusted downward:': 42.68,\n",
       "  '% Forecasted Points adjusted upward:': 57.32000000000001,\n",
       "  '% Series with improved accuracy:': array([47.56, 47.56]),\n",
       "  '% Series with reduced accuracy:': array([52.44, 52.44]),\n",
       "  'Original Mean Absolute Error Upward Adjusted:': 22.03,\n",
       "  'Original Mean Absolute Error Downward Adjusted:': 54.50000000000001,\n",
       "  'Protected Mean Absolute Error Upward Adjusted:': 21.349999999999998,\n",
       "  'Protected Mean Absolute Error Downward Adjusted:': 56.24},\n",
       " 'h=20, Top 0.1': {'Mean Accuracies': array([47.57, 58.14]),\n",
       "  'Protected Mean Accuracies:': array([45.13, 56.01]),\n",
       "  '% Change Mean accuracy:': array([5.14, 3.66]),\n",
       "  '% Change Median accuracy:': array([ 2.35, -5.72]),\n",
       "  '% Forecasted Points adjusted downward:': 37.65,\n",
       "  '% Forecasted Points adjusted upward:': 62.35000000000001,\n",
       "  '% Series with improved accuracy:': array([55.49, 53.66]),\n",
       "  '% Series with reduced accuracy:': array([44.51, 46.34]),\n",
       "  'Original Mean Absolute Error Upward Adjusted:': 50.38,\n",
       "  'Original Mean Absolute Error Downward Adjusted:': 42.92,\n",
       "  'Protected Mean Absolute Error Upward Adjusted:': 43.55,\n",
       "  'Protected Mean Absolute Error Downward Adjusted:': 47.73},\n",
       " 'h=1, Top 0.2': {'Mean Accuracies': array([35.89, 35.89]),\n",
       "  'Protected Mean Accuracies:': array([38.49, 38.49]),\n",
       "  '% Change Mean accuracy:': array([-7.25, -7.25]),\n",
       "  '% Change Median accuracy:': array([-32.8, -32.8]),\n",
       "  '% Forecasted Points adjusted downward:': 43.29,\n",
       "  '% Forecasted Points adjusted upward:': 56.71000000000001,\n",
       "  '% Series with improved accuracy:': array([40.24, 40.24]),\n",
       "  '% Series with reduced accuracy:': array([59.76, 59.76]),\n",
       "  'Original Mean Absolute Error Upward Adjusted:': 28.93,\n",
       "  'Original Mean Absolute Error Downward Adjusted:': 45.01,\n",
       "  'Protected Mean Absolute Error Upward Adjusted:': 30.11,\n",
       "  'Protected Mean Absolute Error Downward Adjusted:': 49.47},\n",
       " 'h=20, Top 0.2': {'Mean Accuracies': array([47.57, 58.14]),\n",
       "  'Protected Mean Accuracies:': array([46.16, 56.92]),\n",
       "  '% Change Mean accuracy:': array([2.98, 2.1 ]),\n",
       "  '% Change Median accuracy:': array([-1.5 , -8.33]),\n",
       "  '% Forecasted Points adjusted downward:': 40.43,\n",
       "  '% Forecasted Points adjusted upward:': 59.57,\n",
       "  '% Series with improved accuracy:': array([54.88, 54.27]),\n",
       "  '% Series with reduced accuracy:': array([45.12, 45.73]),\n",
       "  'Original Mean Absolute Error Upward Adjusted:': 48.870000000000005,\n",
       "  'Original Mean Absolute Error Downward Adjusted:': 45.65,\n",
       "  'Protected Mean Absolute Error Upward Adjusted:': 43.34,\n",
       "  'Protected Mean Absolute Error Downward Adjusted:': 50.3},\n",
       " 'h=1, Top 0.4': {'Mean Accuracies': array([35.89, 35.89]),\n",
       "  'Protected Mean Accuracies:': array([45.4, 45.4]),\n",
       "  '% Change Mean accuracy:': array([-26.52, -26.52]),\n",
       "  '% Change Median accuracy:': array([-118.91, -118.91]),\n",
       "  '% Forecasted Points adjusted downward:': 50.0,\n",
       "  '% Forecasted Points adjusted upward:': 50.0,\n",
       "  '% Series with improved accuracy:': array([26.22, 26.22]),\n",
       "  '% Series with reduced accuracy:': array([73.78, 73.78]),\n",
       "  'Original Mean Absolute Error Upward Adjusted:': 45.5,\n",
       "  'Original Mean Absolute Error Downward Adjusted:': 26.27,\n",
       "  'Protected Mean Absolute Error Upward Adjusted:': 52.04,\n",
       "  'Protected Mean Absolute Error Downward Adjusted:': 38.769999999999996},\n",
       " 'h=20, Top 0.4': {'Mean Accuracies': array([47.57, 58.14]),\n",
       "  'Protected Mean Accuracies:': array([48.92, 59.66]),\n",
       "  '% Change Mean accuracy:': array([-2.83, -2.63]),\n",
       "  '% Change Median accuracy:': array([ -5.65, -10.65]),\n",
       "  '% Forecasted Points adjusted downward:': 40.18,\n",
       "  '% Forecasted Points adjusted upward:': 59.81999999999999,\n",
       "  '% Series with improved accuracy:': array([44.51, 43.29]),\n",
       "  '% Series with reduced accuracy:': array([55.49, 56.71]),\n",
       "  'Original Mean Absolute Error Upward Adjusted:': 49.559999999999995,\n",
       "  'Original Mean Absolute Error Downward Adjusted:': 44.61,\n",
       "  'Protected Mean Absolute Error Upward Adjusted:': 46.5,\n",
       "  'Protected Mean Absolute Error Downward Adjusted:': 52.53},\n",
       " 'h=1, Bottom 0.1': {'Mean Accuracies': array([35.89, 35.89]),\n",
       "  'Protected Mean Accuracies:': array([44.89, 44.89]),\n",
       "  '% Change Mean accuracy:': array([-25.1, -25.1]),\n",
       "  '% Change Median accuracy:': array([13.59, 13.59]),\n",
       "  '% Forecasted Points adjusted downward:': 46.339999999999996,\n",
       "  '% Forecasted Points adjusted upward:': 53.66,\n",
       "  '% Series with improved accuracy:': array([47.56, 47.56]),\n",
       "  '% Series with reduced accuracy:': array([52.44, 52.44]),\n",
       "  'Original Mean Absolute Error Upward Adjusted:': 58.14,\n",
       "  'Original Mean Absolute Error Downward Adjusted:': 10.12,\n",
       "  'Protected Mean Absolute Error Upward Adjusted:': 75.06,\n",
       "  'Protected Mean Absolute Error Downward Adjusted:': 9.969999999999999},\n",
       " 'h=20, Bottom 0.1': {'Mean Accuracies': array([47.57, 58.14]),\n",
       "  'Protected Mean Accuracies:': array([44.54, 55.86]),\n",
       "  '% Change Mean accuracy:': array([6.37, 3.92]),\n",
       "  '% Change Median accuracy:': array([ 1.47, -2.8 ]),\n",
       "  '% Forecasted Points adjusted downward:': 41.13,\n",
       "  '% Forecasted Points adjusted upward:': 58.87,\n",
       "  '% Series with improved accuracy:': array([49.39, 48.17]),\n",
       "  '% Series with reduced accuracy:': array([50.61, 51.83]),\n",
       "  'Original Mean Absolute Error Upward Adjusted:': 58.03,\n",
       "  'Original Mean Absolute Error Downward Adjusted:': 32.61,\n",
       "  'Protected Mean Absolute Error Upward Adjusted:': 51.54,\n",
       "  'Protected Mean Absolute Error Downward Adjusted:': 34.52},\n",
       " 'h=1, Bottom 0.2': {'Mean Accuracies': array([35.89, 35.89]),\n",
       "  'Protected Mean Accuracies:': array([50.07, 50.07]),\n",
       "  '% Change Mean accuracy:': array([-39.51, -39.51]),\n",
       "  '% Change Median accuracy:': array([1.57, 1.57]),\n",
       "  '% Forecasted Points adjusted downward:': 59.760000000000005,\n",
       "  '% Forecasted Points adjusted upward:': 40.239999999999995,\n",
       "  '% Series with improved accuracy:': array([40.85, 40.85]),\n",
       "  '% Series with reduced accuracy:': array([59.15, 59.15]),\n",
       "  'Original Mean Absolute Error Upward Adjusted:': 74.7,\n",
       "  'Original Mean Absolute Error Downward Adjusted:': 9.75,\n",
       "  'Protected Mean Absolute Error Upward Adjusted:': 108.76999999999998,\n",
       "  'Protected Mean Absolute Error Downward Adjusted:': 10.530000000000001},\n",
       " 'h=20, Bottom 0.2': {'Mean Accuracies': array([47.57, 58.14]),\n",
       "  'Protected Mean Accuracies:': array([44.74, 55.89]),\n",
       "  '% Change Mean accuracy:': array([5.96, 3.87]),\n",
       "  '% Change Median accuracy:': array([ 7.04, -2.27]),\n",
       "  '% Forecasted Points adjusted downward:': 40.849999999999994,\n",
       "  '% Forecasted Points adjusted upward:': 59.150000000000006,\n",
       "  '% Series with improved accuracy:': array([49.39, 45.73]),\n",
       "  '% Series with reduced accuracy:': array([50.61, 54.27]),\n",
       "  'Original Mean Absolute Error Upward Adjusted:': 60.029999999999994,\n",
       "  'Original Mean Absolute Error Downward Adjusted:': 29.54,\n",
       "  'Protected Mean Absolute Error Upward Adjusted:': 53.25,\n",
       "  'Protected Mean Absolute Error Downward Adjusted:': 32.41},\n",
       " 'h=1, Bottom 0.4': {'Mean Accuracies': array([35.89, 35.89]),\n",
       "  'Protected Mean Accuracies:': array([58.23, 58.23]),\n",
       "  '% Change Mean accuracy:': array([-62.26, -62.26]),\n",
       "  '% Change Median accuracy:': array([-63.8, -63.8]),\n",
       "  '% Forecasted Points adjusted downward:': 62.8,\n",
       "  '% Forecasted Points adjusted upward:': 37.2,\n",
       "  '% Series with improved accuracy:': array([26.83, 26.83]),\n",
       "  '% Series with reduced accuracy:': array([73.17, 73.17]),\n",
       "  'Original Mean Absolute Error Upward Adjusted:': 81.16,\n",
       "  'Original Mean Absolute Error Downward Adjusted:': 9.07,\n",
       "  'Protected Mean Absolute Error Upward Adjusted:': 132.07999999999998,\n",
       "  'Protected Mean Absolute Error Downward Adjusted:': 14.49},\n",
       " 'h=20, Bottom 0.4': {'Mean Accuracies': array([47.57, 58.14]),\n",
       "  'Protected Mean Accuracies:': array([47.84, 58.78]),\n",
       "  '% Change Mean accuracy:': array([-0.56, -1.1 ]),\n",
       "  '% Change Median accuracy:': array([-5.29, -9.8 ]),\n",
       "  '% Forecasted Points adjusted downward:': 45.03,\n",
       "  '% Forecasted Points adjusted upward:': 54.97,\n",
       "  '% Series with improved accuracy:': array([41.46, 43.9 ]),\n",
       "  '% Series with reduced accuracy:': array([58.54, 56.1 ]),\n",
       "  'Original Mean Absolute Error Upward Adjusted:': 63.190000000000005,\n",
       "  'Original Mean Absolute Error Downward Adjusted:': 28.51,\n",
       "  'Protected Mean Absolute Error Upward Adjusted:': 59.77,\n",
       "  'Protected Mean Absolute Error Downward Adjusted:': 33.269999999999996}}"
      ]
     },
     "execution_count": 21,
     "metadata": {},
     "output_type": "execute_result"
    }
   ],
   "source": [
    "results_dict_40"
   ]
  },
  {
   "cell_type": "code",
   "execution_count": 22,
   "id": "50fe1005",
   "metadata": {},
   "outputs": [],
   "source": [
    "original_forecasts = fcasts_40['h=20, Bottom 0.1']\n",
    "protected_forecasts = fcasts_protected_40['h=20, Bottom 0.1']\n",
    "test = tests['h=20, Bottom 0.1']"
   ]
  },
  {
   "cell_type": "code",
   "execution_count": 23,
   "id": "d04428a2",
   "metadata": {},
   "outputs": [],
   "source": [
    "adjusted_up = original_forecasts < protected_forecasts\n",
    "adjusted_up = pd.concat([row for i, row in adjusted_up.iterrows()])\n",
    "adjusted_down = original_forecasts > protected_forecasts\n",
    "adjusted_down = pd.concat([row for i, row in adjusted_down.iterrows()])"
   ]
  },
  {
   "cell_type": "code",
   "execution_count": 24,
   "id": "216fda1f",
   "metadata": {},
   "outputs": [],
   "source": [
    "absolute_error_original = np.absolute(test - original_forecasts)\n",
    "absolute_error_protected = np.absolute(test - protected_forecasts)"
   ]
  },
  {
   "cell_type": "code",
   "execution_count": 25,
   "id": "801db772",
   "metadata": {},
   "outputs": [],
   "source": [
    "improved = absolute_error_original > absolute_error_protected\n",
    "improved = pd.concat([row for i, row in improved.iterrows()])\n",
    "worsened = absolute_error_original < absolute_error_protected\n",
    "worsened = pd.concat([row for i, row in worsened.iterrows()])"
   ]
  },
  {
   "cell_type": "code",
   "execution_count": 26,
   "id": "fd52f1ad",
   "metadata": {},
   "outputs": [
    {
     "data": {
      "text/plain": [
       "0.28313253012048195"
      ]
     },
     "execution_count": 26,
     "metadata": {},
     "output_type": "execute_result"
    }
   ],
   "source": [
    "np.mean(adjusted_down[improved])"
   ]
  },
  {
   "cell_type": "code",
   "execution_count": 27,
   "id": "d73c5f66",
   "metadata": {},
   "outputs": [
    {
     "data": {
      "text/plain": [
       "0.7168674698795181"
      ]
     },
     "execution_count": 27,
     "metadata": {},
     "output_type": "execute_result"
    }
   ],
   "source": [
    "np.mean(adjusted_up[improved])"
   ]
  }
 ],
 "metadata": {
  "kernelspec": {
   "display_name": "Python 3 (ipykernel)",
   "language": "python",
   "name": "python3"
  },
  "language_info": {
   "codemirror_mode": {
    "name": "ipython",
    "version": 3
   },
   "file_extension": ".py",
   "mimetype": "text/x-python",
   "name": "python",
   "nbconvert_exporter": "python",
   "pygments_lexer": "ipython3",
   "version": "3.9.7"
  }
 },
 "nbformat": 4,
 "nbformat_minor": 5
}
