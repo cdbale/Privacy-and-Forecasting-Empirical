{
 "cells": [
  {
   "cell_type": "markdown",
   "id": "cd2ff7cb",
   "metadata": {},
   "source": [
    "## Analyzing the Effects of Top/Bottom Coding on The Accuracy of Global LGBM Forecasts"
   ]
  },
  {
   "cell_type": "markdown",
   "id": "1474c915",
   "metadata": {},
   "source": [
    "***"
   ]
  },
  {
   "cell_type": "markdown",
   "id": "aa7ba28b",
   "metadata": {},
   "source": [
    "## Import Modules"
   ]
  },
  {
   "cell_type": "code",
   "execution_count": 1,
   "id": "f5f4856f",
   "metadata": {},
   "outputs": [],
   "source": [
    "# general modules\n",
    "import numpy as np\n",
    "import pandas as pd\n",
    "\n",
    "# light gradient boosting model package\n",
    "import lightgbm as lgb\n",
    "\n",
    "##### the `helper_functions.py` file contains many custom functions we wrote to aid in our analysis\n",
    "##### `full_coding_analysis` combines all of the following - train-test split data,\n",
    "##### data protection, train models, compare accuracies, return accuracy results\n",
    "from helper_functions import full_coding_analysis\n",
    "from helper_functions import *\n",
    "\n",
    "# import detrender and deseasonalizer\n",
    "from sktime.transformations.series.detrend import Detrender\n",
    "# nice time series plots\n",
    "from sktime.utils.plotting import plot_series"
   ]
  },
  {
   "cell_type": "markdown",
   "id": "bd7c1d74",
   "metadata": {},
   "source": [
    "## Import data"
   ]
  },
  {
   "cell_type": "code",
   "execution_count": 2,
   "id": "ca873e50",
   "metadata": {},
   "outputs": [],
   "source": [
    "# import weekly finance time series\n",
    "Y = np.genfromtxt(\"../../Data/Train/Clean/weekly_finance_clean.csv\", delimiter = ',', skip_header = 1)\n",
    "Y = pd.DataFrame(Y)"
   ]
  },
  {
   "cell_type": "markdown",
   "id": "c5e92131",
   "metadata": {},
   "source": [
    "This file experiments with applying top and bottom coding to detrended data (intuition suggests this type of data is a better candidate for this type of protection than the original finance series data) so we remove the trend from the finance data here."
   ]
  },
  {
   "cell_type": "code",
   "execution_count": 3,
   "id": "c23729ac",
   "metadata": {},
   "outputs": [],
   "source": [
    "detrender = Detrender()\n",
    "detrended_series = [detrender.fit_transform(series) for _ , series in Y.iterrows()]"
   ]
  },
  {
   "cell_type": "code",
   "execution_count": 4,
   "id": "b0437ee9",
   "metadata": {},
   "outputs": [],
   "source": [
    "detrended_series = [i+np.abs(np.min(i))+1.0 for i in detrended_series]\n",
    "Y = pd.concat(detrended_series, axis=1).T"
   ]
  },
  {
   "cell_type": "markdown",
   "id": "07ad35d9",
   "metadata": {},
   "source": [
    "***"
   ]
  },
  {
   "cell_type": "markdown",
   "id": "05057abd",
   "metadata": {},
   "source": [
    "We obtain results for a combination of forecast horizons, coding types (top and bottom), coding percentages, and model complexities:\n",
    "\n",
    "* Forecast Horizons: (1, 5, 15)\n",
    "* Coding Types: (Top, Bottom)\n",
    "* Coding Percentages: (0.10, 0.20, 0.40)\n",
    "* Model complexities (window length): (10, 20, 40)"
   ]
  },
  {
   "cell_type": "markdown",
   "id": "c5a9df38",
   "metadata": {},
   "source": [
    "## Simple Model (window length = 10)"
   ]
  },
  {
   "cell_type": "code",
   "execution_count": 5,
   "id": "dbf6e2d5",
   "metadata": {},
   "outputs": [],
   "source": [
    "forecaster = lgb.LGBMRegressor()\n",
    "window_length=10"
   ]
  },
  {
   "cell_type": "code",
   "execution_count": 6,
   "id": "a2adde68",
   "metadata": {},
   "outputs": [],
   "source": [
    "results_dict_10 = {}\n",
    "types = [\"Top\", \"Bottom\"]\n",
    "percentages = [0.10, 0.20, 0.40]\n",
    "horizons = [1, 5, 15]"
   ]
  },
  {
   "cell_type": "code",
   "execution_count": 7,
   "id": "01b494c4",
   "metadata": {},
   "outputs": [],
   "source": [
    "for t in types:\n",
    "    for p in percentages:\n",
    "        for h in horizons:\n",
    "            results_dict_10[\"h=\"+str(h)+\", \"+t+\" \"+str(p)] = full_coding_analysis(Y, forecaster, forecast_horizon=h, coding_type=t, coding_percentage=p, window_length=window_length)"
   ]
  },
  {
   "cell_type": "code",
   "execution_count": 8,
   "id": "f38bbe6b",
   "metadata": {},
   "outputs": [
    {
     "data": {
      "text/plain": [
       "{'h=1, Top 0.1': {'% of forecasted points adjusted downward:': 35.4,\n",
       "  '% of forecasted points adjusted upward:': 64.60000000000001,\n",
       "  '% Series with improved accuracy:': array([43.3, 43.3]),\n",
       "  '% Series with worsened accuracy:': array([56.7, 56.7]),\n",
       "  '% Series with unchanged accuracy:': array([0., 0.]),\n",
       "  '% Change mean global accuracy:': array([-6.3, -6.3]),\n",
       "  '% Change median global accuracy:': array([-20.9, -20.9])},\n",
       " 'h=5, Top 0.1': {'% of forecasted points adjusted downward:': 35.9,\n",
       "  '% of forecasted points adjusted upward:': 64.1,\n",
       "  '% Series with improved accuracy:': array([52.4, 55.5]),\n",
       "  '% Series with worsened accuracy:': array([47.6, 44.5]),\n",
       "  '% Series with unchanged accuracy:': array([0., 0.]),\n",
       "  '% Change mean global accuracy:': array([4.2, 2.8]),\n",
       "  '% Change median global accuracy:': array([7.8, 4.5])},\n",
       " 'h=15, Top 0.1': {'% of forecasted points adjusted downward:': 42.699999999999996,\n",
       "  '% of forecasted points adjusted upward:': 57.3,\n",
       "  '% Series with improved accuracy:': array([49.4, 50. ]),\n",
       "  '% Series with worsened accuracy:': array([50.6, 50. ]),\n",
       "  '% Series with unchanged accuracy:': array([0., 0.]),\n",
       "  '% Change mean global accuracy:': array([5.8, 5.7]),\n",
       "  '% Change median global accuracy:': array([2.9, 5.4])},\n",
       " 'h=1, Top 0.2': {'% of forecasted points adjusted downward:': 37.2,\n",
       "  '% of forecasted points adjusted upward:': 62.8,\n",
       "  '% Series with improved accuracy:': array([36., 36.]),\n",
       "  '% Series with worsened accuracy:': array([64., 64.]),\n",
       "  '% Series with unchanged accuracy:': array([0., 0.]),\n",
       "  '% Change mean global accuracy:': array([-9.6, -9.6]),\n",
       "  '% Change median global accuracy:': array([-53., -53.])},\n",
       " 'h=5, Top 0.2': {'% of forecasted points adjusted downward:': 39.900000000000006,\n",
       "  '% of forecasted points adjusted upward:': 60.099999999999994,\n",
       "  '% Series with improved accuracy:': array([52.4, 48.2]),\n",
       "  '% Series with worsened accuracy:': array([47.6, 51.8]),\n",
       "  '% Series with unchanged accuracy:': array([0., 0.]),\n",
       "  '% Change mean global accuracy:': array([-2.3, -1.9]),\n",
       "  '% Change median global accuracy:': array([-15.5,  -9.7])},\n",
       " 'h=15, Top 0.2': {'% of forecasted points adjusted downward:': 34.1,\n",
       "  '% of forecasted points adjusted upward:': 65.9,\n",
       "  '% Series with improved accuracy:': array([56.7, 60.4]),\n",
       "  '% Series with worsened accuracy:': array([43.3, 39.6]),\n",
       "  '% Series with unchanged accuracy:': array([0., 0.]),\n",
       "  '% Change mean global accuracy:': array([7.4, 6.6]),\n",
       "  '% Change median global accuracy:': array([ 5.5, 10.5])},\n",
       " 'h=1, Top 0.4': {'% of forecasted points adjusted downward:': 48.199999999999996,\n",
       "  '% of forecasted points adjusted upward:': 51.800000000000004,\n",
       "  '% Series with improved accuracy:': array([25.6, 25.6]),\n",
       "  '% Series with worsened accuracy:': array([74.4, 74.4]),\n",
       "  '% Series with unchanged accuracy:': array([0., 0.]),\n",
       "  '% Change mean global accuracy:': array([-27.6, -27.6]),\n",
       "  '% Change median global accuracy:': array([-119.7, -119.7])},\n",
       " 'h=5, Top 0.4': {'% of forecasted points adjusted downward:': 44.9,\n",
       "  '% of forecasted points adjusted upward:': 55.1,\n",
       "  '% Series with improved accuracy:': array([37.2, 36. ]),\n",
       "  '% Series with worsened accuracy:': array([62.8, 64. ]),\n",
       "  '% Series with unchanged accuracy:': array([0., 0.]),\n",
       "  '% Change mean global accuracy:': array([-19.3, -15. ]),\n",
       "  '% Change median global accuracy:': array([-42.9, -33.9])},\n",
       " 'h=15, Top 0.4': {'% of forecasted points adjusted downward:': 37.4,\n",
       "  '% of forecasted points adjusted upward:': 62.6,\n",
       "  '% Series with improved accuracy:': array([44.5, 50. ]),\n",
       "  '% Series with worsened accuracy:': array([55.5, 50. ]),\n",
       "  '% Series with unchanged accuracy:': array([0., 0.]),\n",
       "  '% Change mean global accuracy:': array([-1.2, -0.6]),\n",
       "  '% Change median global accuracy:': array([-2.7,  3.2])},\n",
       " 'h=1, Bottom 0.1': {'% of forecasted points adjusted downward:': 51.800000000000004,\n",
       "  '% of forecasted points adjusted upward:': 48.199999999999996,\n",
       "  '% Series with improved accuracy:': array([43.3, 43.3]),\n",
       "  '% Series with worsened accuracy:': array([56.7, 56.7]),\n",
       "  '% Series with unchanged accuracy:': array([0., 0.]),\n",
       "  '% Change mean global accuracy:': array([-30.5, -30.5]),\n",
       "  '% Change median global accuracy:': array([-8., -8.])},\n",
       " 'h=5, Bottom 0.1': {'% of forecasted points adjusted downward:': 45.5,\n",
       "  '% of forecasted points adjusted upward:': 54.50000000000001,\n",
       "  '% Series with improved accuracy:': array([47.6, 45.7]),\n",
       "  '% Series with worsened accuracy:': array([52.4, 54.3]),\n",
       "  '% Series with unchanged accuracy:': array([0., 0.]),\n",
       "  '% Change mean global accuracy:': array([-13. , -11.4]),\n",
       "  '% Change median global accuracy:': array([0.9, 2. ])},\n",
       " 'h=15, Bottom 0.1': {'% of forecasted points adjusted downward:': 40.300000000000004,\n",
       "  '% of forecasted points adjusted upward:': 59.699999999999996,\n",
       "  '% Series with improved accuracy:': array([53.7, 53.7]),\n",
       "  '% Series with worsened accuracy:': array([46.3, 46.3]),\n",
       "  '% Series with unchanged accuracy:': array([0., 0.]),\n",
       "  '% Change mean global accuracy:': array([3.5, 1.4]),\n",
       "  '% Change median global accuracy:': array([8.7, 9.5])},\n",
       " 'h=1, Bottom 0.2': {'% of forecasted points adjusted downward:': 64.60000000000001,\n",
       "  '% of forecasted points adjusted upward:': 35.4,\n",
       "  '% Series with improved accuracy:': array([36., 36.]),\n",
       "  '% Series with worsened accuracy:': array([64., 64.]),\n",
       "  '% Series with unchanged accuracy:': array([0., 0.]),\n",
       "  '% Change mean global accuracy:': array([-47.1, -47.1]),\n",
       "  '% Change median global accuracy:': array([-15., -15.])},\n",
       " 'h=5, Bottom 0.2': {'% of forecasted points adjusted downward:': 55.00000000000001,\n",
       "  '% of forecasted points adjusted upward:': 45.0,\n",
       "  '% Series with improved accuracy:': array([38.4, 42.1]),\n",
       "  '% Series with worsened accuracy:': array([61.6, 57.9]),\n",
       "  '% Series with unchanged accuracy:': array([0., 0.]),\n",
       "  '% Change mean global accuracy:': array([-22.4, -17.7]),\n",
       "  '% Change median global accuracy:': array([0.5, 5.6])},\n",
       " 'h=15, Bottom 0.2': {'% of forecasted points adjusted downward:': 39.4,\n",
       "  '% of forecasted points adjusted upward:': 60.6,\n",
       "  '% Series with improved accuracy:': array([54.3, 53.7]),\n",
       "  '% Series with worsened accuracy:': array([45.7, 46.3]),\n",
       "  '% Series with unchanged accuracy:': array([0., 0.]),\n",
       "  '% Change mean global accuracy:': array([2.4, 1.2]),\n",
       "  '% Change median global accuracy:': array([11. , 12.5])},\n",
       " 'h=1, Bottom 0.4': {'% of forecasted points adjusted downward:': 64.60000000000001,\n",
       "  '% of forecasted points adjusted upward:': 35.4,\n",
       "  '% Series with improved accuracy:': array([27.4, 27.4]),\n",
       "  '% Series with worsened accuracy:': array([72.6, 72.6]),\n",
       "  '% Series with unchanged accuracy:': array([0., 0.]),\n",
       "  '% Change mean global accuracy:': array([-68.2, -68.2]),\n",
       "  '% Change median global accuracy:': array([-78., -78.])},\n",
       " 'h=5, Bottom 0.4': {'% of forecasted points adjusted downward:': 60.4,\n",
       "  '% of forecasted points adjusted upward:': 39.6,\n",
       "  '% Series with improved accuracy:': array([29.3, 28.7]),\n",
       "  '% Series with worsened accuracy:': array([70.7, 71.3]),\n",
       "  '% Series with unchanged accuracy:': array([0., 0.]),\n",
       "  '% Change mean global accuracy:': array([-40.9, -32.4]),\n",
       "  '% Change median global accuracy:': array([-30.5, -22.2])},\n",
       " 'h=15, Bottom 0.4': {'% of forecasted points adjusted downward:': 45.1,\n",
       "  '% of forecasted points adjusted upward:': 54.900000000000006,\n",
       "  '% Series with improved accuracy:': array([43.9, 44.5]),\n",
       "  '% Series with worsened accuracy:': array([56.1, 55.5]),\n",
       "  '% Series with unchanged accuracy:': array([0., 0.]),\n",
       "  '% Change mean global accuracy:': array([-5.6, -5.4]),\n",
       "  '% Change median global accuracy:': array([-1.7,  4.6])}}"
      ]
     },
     "execution_count": 8,
     "metadata": {},
     "output_type": "execute_result"
    }
   ],
   "source": [
    "results_dict_10"
   ]
  },
  {
   "cell_type": "markdown",
   "id": "bffc242f",
   "metadata": {},
   "source": [
    "***\n",
    "***"
   ]
  },
  {
   "cell_type": "markdown",
   "id": "f2e10713",
   "metadata": {},
   "source": [
    "## 'Medium' Model (window length = 20)"
   ]
  },
  {
   "cell_type": "code",
   "execution_count": 9,
   "id": "ac63a58f",
   "metadata": {},
   "outputs": [],
   "source": [
    "forecaster = lgb.LGBMRegressor()\n",
    "window_length=20"
   ]
  },
  {
   "cell_type": "code",
   "execution_count": 10,
   "id": "31a3ec2e",
   "metadata": {},
   "outputs": [],
   "source": [
    "results_dict_20 = {}\n",
    "types = [\"Top\", \"Bottom\"]\n",
    "percentages = [0.10, 0.20, 0.40]\n",
    "horizons = [1, 5, 15]"
   ]
  },
  {
   "cell_type": "code",
   "execution_count": 11,
   "id": "e00493ff",
   "metadata": {},
   "outputs": [],
   "source": [
    "for t in types:\n",
    "    for p in percentages:\n",
    "        for h in horizons:\n",
    "            results_dict_20[\"h=\"+str(h)+\", \"+t+\" \"+str(p)] = full_coding_analysis(Y, forecaster, forecast_horizon=h, coding_type=t, coding_percentage=p, window_length=window_length)"
   ]
  },
  {
   "cell_type": "code",
   "execution_count": 12,
   "id": "8e8429fa",
   "metadata": {},
   "outputs": [
    {
     "data": {
      "text/plain": [
       "{'h=1, Top 0.1': {'% of forecasted points adjusted downward:': 41.5,\n",
       "  '% of forecasted points adjusted upward:': 58.5,\n",
       "  '% Series with improved accuracy:': array([42.7, 42.7]),\n",
       "  '% Series with worsened accuracy:': array([57.3, 57.3]),\n",
       "  '% Series with unchanged accuracy:': array([0., 0.]),\n",
       "  '% Change mean global accuracy:': array([-6.3, -6.3]),\n",
       "  '% Change median global accuracy:': array([-19.2, -19.2])},\n",
       " 'h=5, Top 0.1': {'% of forecasted points adjusted downward:': 38.3,\n",
       "  '% of forecasted points adjusted upward:': 61.7,\n",
       "  '% Series with improved accuracy:': array([53.7, 54.9]),\n",
       "  '% Series with worsened accuracy:': array([46.3, 45.1]),\n",
       "  '% Series with unchanged accuracy:': array([0., 0.]),\n",
       "  '% Change mean global accuracy:': array([3.8, 3.4]),\n",
       "  '% Change median global accuracy:': array([4.1, 7. ])},\n",
       " 'h=15, Top 0.1': {'% of forecasted points adjusted downward:': 36.0,\n",
       "  '% of forecasted points adjusted upward:': 64.0,\n",
       "  '% Series with improved accuracy:': array([55.5, 56.7]),\n",
       "  '% Series with worsened accuracy:': array([44.5, 43.3]),\n",
       "  '% Series with unchanged accuracy:': array([0., 0.]),\n",
       "  '% Change mean global accuracy:': array([12.7, 11.7]),\n",
       "  '% Change median global accuracy:': array([3.5, 5.5])},\n",
       " 'h=1, Top 0.2': {'% of forecasted points adjusted downward:': 39.0,\n",
       "  '% of forecasted points adjusted upward:': 61.0,\n",
       "  '% Series with improved accuracy:': array([33.5, 33.5]),\n",
       "  '% Series with worsened accuracy:': array([66.5, 66.5]),\n",
       "  '% Series with unchanged accuracy:': array([0., 0.]),\n",
       "  '% Change mean global accuracy:': array([-11.6, -11.6]),\n",
       "  '% Change median global accuracy:': array([-46.4, -46.4])},\n",
       " 'h=5, Top 0.2': {'% of forecasted points adjusted downward:': 39.800000000000004,\n",
       "  '% of forecasted points adjusted upward:': 60.199999999999996,\n",
       "  '% Series with improved accuracy:': array([50., 50.]),\n",
       "  '% Series with worsened accuracy:': array([50., 50.]),\n",
       "  '% Series with unchanged accuracy:': array([0., 0.]),\n",
       "  '% Change mean global accuracy:': array([0.5, 0.2]),\n",
       "  '% Change median global accuracy:': array([-4.3, -0.3])},\n",
       " 'h=15, Top 0.2': {'% of forecasted points adjusted downward:': 40.2,\n",
       "  '% of forecasted points adjusted upward:': 59.8,\n",
       "  '% Series with improved accuracy:': array([54.3, 54.9]),\n",
       "  '% Series with worsened accuracy:': array([45.7, 45.1]),\n",
       "  '% Series with unchanged accuracy:': array([0., 0.]),\n",
       "  '% Change mean global accuracy:': array([9.4, 9.5]),\n",
       "  '% Change median global accuracy:': array([1.4, 4.8])},\n",
       " 'h=1, Top 0.4': {'% of forecasted points adjusted downward:': 50.0,\n",
       "  '% of forecasted points adjusted upward:': 50.0,\n",
       "  '% Series with improved accuracy:': array([26.2, 26.2]),\n",
       "  '% Series with worsened accuracy:': array([73.8, 73.8]),\n",
       "  '% Series with unchanged accuracy:': array([0., 0.]),\n",
       "  '% Change mean global accuracy:': array([-28.8, -28.8]),\n",
       "  '% Change median global accuracy:': array([-130.3, -130.3])},\n",
       " 'h=5, Top 0.4': {'% of forecasted points adjusted downward:': 43.0,\n",
       "  '% of forecasted points adjusted upward:': 56.99999999999999,\n",
       "  '% Series with improved accuracy:': array([28. , 29.3]),\n",
       "  '% Series with worsened accuracy:': array([72. , 70.7]),\n",
       "  '% Series with unchanged accuracy:': array([0., 0.]),\n",
       "  '% Change mean global accuracy:': array([-17.7, -13.8]),\n",
       "  '% Change median global accuracy:': array([-38. , -27.9])},\n",
       " 'h=15, Top 0.4': {'% of forecasted points adjusted downward:': 32.800000000000004,\n",
       "  '% of forecasted points adjusted upward:': 67.2,\n",
       "  '% Series with improved accuracy:': array([53. , 54.9]),\n",
       "  '% Series with worsened accuracy:': array([47. , 45.1]),\n",
       "  '% Series with unchanged accuracy:': array([0., 0.]),\n",
       "  '% Change mean global accuracy:': array([5.3, 6.2]),\n",
       "  '% Change median global accuracy:': array([-4.1, -0.9])},\n",
       " 'h=1, Bottom 0.1': {'% of forecasted points adjusted downward:': 58.5,\n",
       "  '% of forecasted points adjusted upward:': 41.5,\n",
       "  '% Series with improved accuracy:': array([40.2, 40.2]),\n",
       "  '% Series with worsened accuracy:': array([59.8, 59.8]),\n",
       "  '% Series with unchanged accuracy:': array([0., 0.]),\n",
       "  '% Change mean global accuracy:': array([-30., -30.]),\n",
       "  '% Change median global accuracy:': array([1.5, 1.5])},\n",
       " 'h=5, Bottom 0.1': {'% of forecasted points adjusted downward:': 45.0,\n",
       "  '% of forecasted points adjusted upward:': 55.00000000000001,\n",
       "  '% Series with improved accuracy:': array([42.7, 44.5]),\n",
       "  '% Series with worsened accuracy:': array([57.3, 55.5]),\n",
       "  '% Series with unchanged accuracy:': array([0., 0.]),\n",
       "  '% Change mean global accuracy:': array([-12.3,  -9. ]),\n",
       "  '% Change median global accuracy:': array([1.8, 7.6])},\n",
       " 'h=15, Bottom 0.1': {'% of forecasted points adjusted downward:': 39.4,\n",
       "  '% of forecasted points adjusted upward:': 60.6,\n",
       "  '% Series with improved accuracy:': array([54.9, 54.3]),\n",
       "  '% Series with worsened accuracy:': array([45.1, 45.7]),\n",
       "  '% Series with unchanged accuracy:': array([0., 0.]),\n",
       "  '% Change mean global accuracy:': array([8.6, 8.5]),\n",
       "  '% Change median global accuracy:': array([3.7, 1.6])},\n",
       " 'h=1, Bottom 0.2': {'% of forecasted points adjusted downward:': 65.9,\n",
       "  '% of forecasted points adjusted upward:': 34.1,\n",
       "  '% Series with improved accuracy:': array([34.1, 34.1]),\n",
       "  '% Series with worsened accuracy:': array([65.9, 65.9]),\n",
       "  '% Series with unchanged accuracy:': array([0., 0.]),\n",
       "  '% Change mean global accuracy:': array([-46.5, -46.5]),\n",
       "  '% Change median global accuracy:': array([-8.2, -8.2])},\n",
       " 'h=5, Bottom 0.2': {'% of forecasted points adjusted downward:': 53.900000000000006,\n",
       "  '% of forecasted points adjusted upward:': 46.1,\n",
       "  '% Series with improved accuracy:': array([39.6, 41.5]),\n",
       "  '% Series with worsened accuracy:': array([60.4, 58.5]),\n",
       "  '% Series with unchanged accuracy:': array([0., 0.]),\n",
       "  '% Change mean global accuracy:': array([-23.1, -16.7]),\n",
       "  '% Change median global accuracy:': array([-1.2,  0.3])},\n",
       " 'h=15, Bottom 0.2': {'% of forecasted points adjusted downward:': 36.9,\n",
       "  '% of forecasted points adjusted upward:': 63.1,\n",
       "  '% Series with improved accuracy:': array([53.7, 51.8]),\n",
       "  '% Series with worsened accuracy:': array([46.3, 48.2]),\n",
       "  '% Series with unchanged accuracy:': array([0., 0.]),\n",
       "  '% Change mean global accuracy:': array([8.6, 9.1]),\n",
       "  '% Change median global accuracy:': array([ 9.7, 11.8])},\n",
       " 'h=1, Bottom 0.4': {'% of forecasted points adjusted downward:': 64.60000000000001,\n",
       "  '% of forecasted points adjusted upward:': 35.4,\n",
       "  '% Series with improved accuracy:': array([26.8, 26.8]),\n",
       "  '% Series with worsened accuracy:': array([73.2, 73.2]),\n",
       "  '% Series with unchanged accuracy:': array([0., 0.]),\n",
       "  '% Change mean global accuracy:': array([-69., -69.]),\n",
       "  '% Change median global accuracy:': array([-76.1, -76.1])},\n",
       " 'h=5, Bottom 0.4': {'% of forecasted points adjusted downward:': 57.099999999999994,\n",
       "  '% of forecasted points adjusted upward:': 42.9,\n",
       "  '% Series with improved accuracy:': array([29.3, 32.9]),\n",
       "  '% Series with worsened accuracy:': array([70.7, 67.1]),\n",
       "  '% Series with unchanged accuracy:': array([0., 0.]),\n",
       "  '% Change mean global accuracy:': array([-40.4, -30.1]),\n",
       "  '% Change median global accuracy:': array([-22.4, -11.2])},\n",
       " 'h=15, Bottom 0.4': {'% of forecasted points adjusted downward:': 47.199999999999996,\n",
       "  '% of forecasted points adjusted upward:': 52.800000000000004,\n",
       "  '% Series with improved accuracy:': array([44.5, 39.6]),\n",
       "  '% Series with worsened accuracy:': array([55.5, 60.4]),\n",
       "  '% Series with unchanged accuracy:': array([0., 0.]),\n",
       "  '% Change mean global accuracy:': array([-0.5,  1.6]),\n",
       "  '% Change median global accuracy:': array([-5.5, -3.7])}}"
      ]
     },
     "execution_count": 12,
     "metadata": {},
     "output_type": "execute_result"
    }
   ],
   "source": [
    "results_dict_20"
   ]
  },
  {
   "cell_type": "markdown",
   "id": "6baeb9ba",
   "metadata": {},
   "source": [
    "***\n",
    "***"
   ]
  },
  {
   "cell_type": "markdown",
   "id": "c18762ca",
   "metadata": {},
   "source": [
    "## More Complex Model (window length = 40)"
   ]
  },
  {
   "cell_type": "code",
   "execution_count": 13,
   "id": "696c7603",
   "metadata": {},
   "outputs": [],
   "source": [
    "forecaster = lgb.LGBMRegressor()\n",
    "window_length=40"
   ]
  },
  {
   "cell_type": "code",
   "execution_count": 14,
   "id": "be69fa8c",
   "metadata": {},
   "outputs": [],
   "source": [
    "results_dict_40 = {}\n",
    "types = [\"Top\", \"Bottom\"]\n",
    "percentages = [0.10, 0.20, 0.40]\n",
    "horizons = [1, 5, 15]"
   ]
  },
  {
   "cell_type": "code",
   "execution_count": 15,
   "id": "dd7a0b75",
   "metadata": {},
   "outputs": [],
   "source": [
    "for t in types:\n",
    "    for p in percentages:\n",
    "        for h in horizons:\n",
    "            results_dict_40[\"h=\"+str(h)+\", \"+t+\" \"+str(p)] = full_coding_analysis(Y, forecaster, forecast_horizon=h, coding_type=t, coding_percentage=p, window_length=window_length)"
   ]
  },
  {
   "cell_type": "code",
   "execution_count": 16,
   "id": "f68bf763",
   "metadata": {},
   "outputs": [
    {
     "data": {
      "text/plain": [
       "{'h=1, Top 0.1': {'% of forecasted points adjusted downward:': 42.699999999999996,\n",
       "  '% of forecasted points adjusted upward:': 57.3,\n",
       "  '% Series with improved accuracy:': array([47.6, 47.6]),\n",
       "  '% Series with worsened accuracy:': array([52.4, 52.4]),\n",
       "  '% Series with unchanged accuracy:': array([0., 0.]),\n",
       "  '% Change mean global accuracy:': array([-1., -1.]),\n",
       "  '% Change median global accuracy:': array([-6.9, -6.9])},\n",
       " 'h=5, Top 0.1': {'% of forecasted points adjusted downward:': 43.0,\n",
       "  '% of forecasted points adjusted upward:': 56.99999999999999,\n",
       "  '% Series with improved accuracy:': array([55.5, 55.5]),\n",
       "  '% Series with worsened accuracy:': array([44.5, 44.5]),\n",
       "  '% Series with unchanged accuracy:': array([0., 0.]),\n",
       "  '% Change mean global accuracy:': array([3.4, 3.3]),\n",
       "  '% Change median global accuracy:': array([4.8, 7.7])},\n",
       " 'h=15, Top 0.1': {'% of forecasted points adjusted downward:': 48.1,\n",
       "  '% of forecasted points adjusted upward:': 51.9,\n",
       "  '% Series with improved accuracy:': array([56.1, 59.1]),\n",
       "  '% Series with worsened accuracy:': array([43.9, 40.9]),\n",
       "  '% Series with unchanged accuracy:': array([0., 0.]),\n",
       "  '% Change mean global accuracy:': array([5.6, 6.5]),\n",
       "  '% Change median global accuracy:': array([8.3, 3.7])},\n",
       " 'h=1, Top 0.2': {'% of forecasted points adjusted downward:': 43.3,\n",
       "  '% of forecasted points adjusted upward:': 56.699999999999996,\n",
       "  '% Series with improved accuracy:': array([40.2, 40.2]),\n",
       "  '% Series with worsened accuracy:': array([59.8, 59.8]),\n",
       "  '% Series with unchanged accuracy:': array([0., 0.]),\n",
       "  '% Change mean global accuracy:': array([-7.2, -7.2]),\n",
       "  '% Change median global accuracy:': array([-32.8, -32.8])},\n",
       " 'h=5, Top 0.2': {'% of forecasted points adjusted downward:': 44.0,\n",
       "  '% of forecasted points adjusted upward:': 56.00000000000001,\n",
       "  '% Series with improved accuracy:': array([47. , 48.2]),\n",
       "  '% Series with worsened accuracy:': array([53. , 51.8]),\n",
       "  '% Series with unchanged accuracy:': array([0., 0.]),\n",
       "  '% Change mean global accuracy:': array([1.2, 0.6]),\n",
       "  '% Change median global accuracy:': array([-5.3, -1. ])},\n",
       " 'h=15, Top 0.2': {'% of forecasted points adjusted downward:': 48.3,\n",
       "  '% of forecasted points adjusted upward:': 51.7,\n",
       "  '% Series with improved accuracy:': array([57.9, 57.9]),\n",
       "  '% Series with worsened accuracy:': array([42.1, 42.1]),\n",
       "  '% Series with unchanged accuracy:': array([0., 0.]),\n",
       "  '% Change mean global accuracy:': array([6.2, 5.8]),\n",
       "  '% Change median global accuracy:': array([14.5, 14.4])},\n",
       " 'h=1, Top 0.4': {'% of forecasted points adjusted downward:': 50.0,\n",
       "  '% of forecasted points adjusted upward:': 50.0,\n",
       "  '% Series with improved accuracy:': array([26.2, 26.2]),\n",
       "  '% Series with worsened accuracy:': array([73.8, 73.8]),\n",
       "  '% Series with unchanged accuracy:': array([0., 0.]),\n",
       "  '% Change mean global accuracy:': array([-26.5, -26.5]),\n",
       "  '% Change median global accuracy:': array([-118.9, -118.9])},\n",
       " 'h=5, Top 0.4': {'% of forecasted points adjusted downward:': 46.5,\n",
       "  '% of forecasted points adjusted upward:': 53.5,\n",
       "  '% Series with improved accuracy:': array([36.6, 38.4]),\n",
       "  '% Series with worsened accuracy:': array([63.4, 61.6]),\n",
       "  '% Series with unchanged accuracy:': array([0., 0.]),\n",
       "  '% Change mean global accuracy:': array([-9.9, -7.4]),\n",
       "  '% Change median global accuracy:': array([-27. , -23.3])},\n",
       " 'h=15, Top 0.4': {'% of forecasted points adjusted downward:': 38.9,\n",
       "  '% of forecasted points adjusted upward:': 61.1,\n",
       "  '% Series with improved accuracy:': array([46.3, 48.2]),\n",
       "  '% Series with worsened accuracy:': array([53.7, 51.8]),\n",
       "  '% Series with unchanged accuracy:': array([0., 0.]),\n",
       "  '% Change mean global accuracy:': array([3.4, 4.4]),\n",
       "  '% Change median global accuracy:': array([2.4, 4.6])},\n",
       " 'h=1, Bottom 0.1': {'% of forecasted points adjusted downward:': 46.300000000000004,\n",
       "  '% of forecasted points adjusted upward:': 53.7,\n",
       "  '% Series with improved accuracy:': array([47.6, 47.6]),\n",
       "  '% Series with worsened accuracy:': array([52.4, 52.4]),\n",
       "  '% Series with unchanged accuracy:': array([0., 0.]),\n",
       "  '% Change mean global accuracy:': array([-25.1, -25.1]),\n",
       "  '% Change median global accuracy:': array([13.6, 13.6])},\n",
       " 'h=5, Bottom 0.1': {'% of forecasted points adjusted downward:': 46.300000000000004,\n",
       "  '% of forecasted points adjusted upward:': 53.7,\n",
       "  '% Series with improved accuracy:': array([47.6, 47. ]),\n",
       "  '% Series with worsened accuracy:': array([52.4, 53. ]),\n",
       "  '% Series with unchanged accuracy:': array([0., 0.]),\n",
       "  '% Change mean global accuracy:': array([-4.2, -2.7]),\n",
       "  '% Change median global accuracy:': array([1.3, 5.8])},\n",
       " 'h=15, Bottom 0.1': {'% of forecasted points adjusted downward:': 42.199999999999996,\n",
       "  '% of forecasted points adjusted upward:': 57.8,\n",
       "  '% Series with improved accuracy:': array([64.6, 62.8]),\n",
       "  '% Series with worsened accuracy:': array([35.4, 37.2]),\n",
       "  '% Series with unchanged accuracy:': array([0., 0.]),\n",
       "  '% Change mean global accuracy:': array([15.9, 15.3]),\n",
       "  '% Change median global accuracy:': array([15.7, 14.9])},\n",
       " 'h=1, Bottom 0.2': {'% of forecasted points adjusted downward:': 59.8,\n",
       "  '% of forecasted points adjusted upward:': 40.2,\n",
       "  '% Series with improved accuracy:': array([40.9, 40.9]),\n",
       "  '% Series with worsened accuracy:': array([59.1, 59.1]),\n",
       "  '% Series with unchanged accuracy:': array([0., 0.]),\n",
       "  '% Change mean global accuracy:': array([-39.5, -39.5]),\n",
       "  '% Change median global accuracy:': array([1.6, 1.6])},\n",
       " 'h=5, Bottom 0.2': {'% of forecasted points adjusted downward:': 52.0,\n",
       "  '% of forecasted points adjusted upward:': 48.0,\n",
       "  '% Series with improved accuracy:': array([42.1, 40.2]),\n",
       "  '% Series with worsened accuracy:': array([57.9, 59.8]),\n",
       "  '% Series with unchanged accuracy:': array([0., 0.]),\n",
       "  '% Change mean global accuracy:': array([-13.4,  -9.1]),\n",
       "  '% Change median global accuracy:': array([5. , 8.3])},\n",
       " 'h=15, Bottom 0.2': {'% of forecasted points adjusted downward:': 42.3,\n",
       "  '% of forecasted points adjusted upward:': 57.699999999999996,\n",
       "  '% Series with improved accuracy:': array([59.8, 59.8]),\n",
       "  '% Series with worsened accuracy:': array([40.2, 40.2]),\n",
       "  '% Series with unchanged accuracy:': array([0., 0.]),\n",
       "  '% Change mean global accuracy:': array([11.4, 12. ]),\n",
       "  '% Change median global accuracy:': array([14. , 13.8])},\n",
       " 'h=1, Bottom 0.4': {'% of forecasted points adjusted downward:': 62.8,\n",
       "  '% of forecasted points adjusted upward:': 37.2,\n",
       "  '% Series with improved accuracy:': array([26.8, 26.8]),\n",
       "  '% Series with worsened accuracy:': array([73.2, 73.2]),\n",
       "  '% Series with unchanged accuracy:': array([0., 0.]),\n",
       "  '% Change mean global accuracy:': array([-62.3, -62.3]),\n",
       "  '% Change median global accuracy:': array([-63.8, -63.8])},\n",
       " 'h=5, Bottom 0.4': {'% of forecasted points adjusted downward:': 56.00000000000001,\n",
       "  '% of forecasted points adjusted upward:': 44.0,\n",
       "  '% Series with improved accuracy:': array([34.1, 33.5]),\n",
       "  '% Series with worsened accuracy:': array([65.9, 66.5]),\n",
       "  '% Series with unchanged accuracy:': array([0., 0.]),\n",
       "  '% Change mean global accuracy:': array([-29.2, -21.5]),\n",
       "  '% Change median global accuracy:': array([-12.2, -12.6])},\n",
       " 'h=15, Bottom 0.4': {'% of forecasted points adjusted downward:': 49.3,\n",
       "  '% of forecasted points adjusted upward:': 50.7,\n",
       "  '% Series with improved accuracy:': array([47.6, 46.3]),\n",
       "  '% Series with worsened accuracy:': array([52.4, 53.7]),\n",
       "  '% Series with unchanged accuracy:': array([0., 0.]),\n",
       "  '% Change mean global accuracy:': array([3. , 5.4]),\n",
       "  '% Change median global accuracy:': array([2.9, 5.1])}}"
      ]
     },
     "execution_count": 16,
     "metadata": {},
     "output_type": "execute_result"
    }
   ],
   "source": [
    "results_dict_40"
   ]
  }
 ],
 "metadata": {
  "kernelspec": {
   "display_name": "Python 3 (ipykernel)",
   "language": "python",
   "name": "python3"
  },
  "language_info": {
   "codemirror_mode": {
    "name": "ipython",
    "version": 3
   },
   "file_extension": ".py",
   "mimetype": "text/x-python",
   "name": "python",
   "nbconvert_exporter": "python",
   "pygments_lexer": "ipython3",
   "version": "3.9.7"
  }
 },
 "nbformat": 4,
 "nbformat_minor": 5
}
