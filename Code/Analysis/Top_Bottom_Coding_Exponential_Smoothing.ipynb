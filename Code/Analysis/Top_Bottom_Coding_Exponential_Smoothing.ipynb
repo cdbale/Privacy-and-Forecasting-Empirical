{
 "cells": [
  {
   "cell_type": "markdown",
   "id": "9f218c5b",
   "metadata": {},
   "source": [
    "### Analyzing the Effects of Top/Bottom Coding on The Accuracy of Exponential Smoothing Forecasts"
   ]
  },
  {
   "cell_type": "markdown",
   "id": "fad24aa7",
   "metadata": {},
   "source": [
    "***"
   ]
  },
  {
   "cell_type": "markdown",
   "id": "4d7ae16f",
   "metadata": {},
   "source": [
    "#### Analysis Flow:"
   ]
  },
  {
   "cell_type": "markdown",
   "id": "e7794258",
   "metadata": {},
   "source": [
    "* Inputs:\n",
    "    * Time series data\n",
    "    * Forecasting Model\n",
    "    * Protection Method"
   ]
  },
  {
   "cell_type": "markdown",
   "id": "aba41285",
   "metadata": {},
   "source": [
    "* Analysis:\n",
    "    * Pre-process data\n",
    "    * Fit forecasting models\n",
    "    * Generate forecasts for a variety of horizons"
   ]
  },
  {
   "cell_type": "markdown",
   "id": "7f5ca953",
   "metadata": {},
   "source": [
    "* Outputs:\n",
    "    * Forecasts for original data\n",
    "    * Forecasts for confidential data\n",
    "    * Accuracy for local forecasts\n",
    "    * Global accuracy\n",
    "    * % improvements/reduction in forecast accuracy across all series"
   ]
  },
  {
   "cell_type": "markdown",
   "id": "afb0903f",
   "metadata": {},
   "source": [
    "***"
   ]
  },
  {
   "cell_type": "markdown",
   "id": "e4cc966f",
   "metadata": {},
   "source": [
    "## Import Modules"
   ]
  },
  {
   "cell_type": "markdown",
   "id": "45de246f",
   "metadata": {},
   "source": [
    "Note the functions imported from `helper_functions`, as these are custom functions written by the paper authors. See `helper_functions.py` for comments and functions descriptions."
   ]
  },
  {
   "cell_type": "code",
   "execution_count": 1,
   "id": "92e893fe",
   "metadata": {},
   "outputs": [],
   "source": [
    "# general modules\n",
    "import pandas as pd\n",
    "import numpy as np\n",
    "\n",
    "# import exponential smoothing forecasting model\n",
    "from sktime.forecasting.exp_smoothing import ExponentialSmoothing\n",
    "\n",
    "# functions for transformation+forecasting pipeline\n",
    "from sktime.forecasting.compose import TransformedTargetForecaster\n",
    "\n",
    "# time series transformations\n",
    "from sktime.transformations.series.detrend import ConditionalDeseasonalizer\n",
    "\n",
    "##### the `helper_functions.py` file contains many custom functions we wrote to aid in our analysis\n",
    "##### `full_coding_analysis` combines all of the following - train-test split data,\n",
    "##### data protection, train models, compare accuracies, return accuracy results\n",
    "from helper_functions import full_coding_analysis\n",
    "\n",
    "# suppress warnings from exponential smoothing model not converging\n",
    "import warnings\n",
    "warnings.filterwarnings('ignore')"
   ]
  },
  {
   "cell_type": "markdown",
   "id": "35683117",
   "metadata": {},
   "source": [
    "Import data."
   ]
  },
  {
   "cell_type": "code",
   "execution_count": 2,
   "id": "3a709c4f",
   "metadata": {},
   "outputs": [],
   "source": [
    "# import weekly finance time series\n",
    "Y = pd.read_csv(\"../../Data/Train/Clean/weekly_finance_clean.csv\")"
   ]
  },
  {
   "cell_type": "markdown",
   "id": "41c9cdbf",
   "metadata": {},
   "source": [
    "## SES"
   ]
  },
  {
   "cell_type": "code",
   "execution_count": 3,
   "id": "ea73077d",
   "metadata": {},
   "outputs": [],
   "source": [
    "# define forecasting model\n",
    "# perform multiplicative deseasonalization conditional on autocorrelation test for seasonality\n",
    "\n",
    "forecaster = TransformedTargetForecaster(\n",
    "    [\n",
    "        (\"deseasonalize\", ConditionalDeseasonalizer(model=\"multiplicative\", sp=52)),\n",
    "        (\"forecast\", ExponentialSmoothing(use_boxcox=False)),\n",
    "    ]\n",
    ")"
   ]
  },
  {
   "cell_type": "markdown",
   "id": "1b78928e",
   "metadata": {},
   "source": [
    "We obtain results for a combination of forecast horizons, coding types (top and bottom), and coding percentages:\n",
    "\n",
    "* Forecast Horizons: (1, 5, 15)\n",
    "* Coding Types: (Top, Bottom)\n",
    "* Coding Percentages: (0.10, 0.20, 0.40)"
   ]
  },
  {
   "cell_type": "code",
   "execution_count": 4,
   "id": "a62b342b",
   "metadata": {},
   "outputs": [],
   "source": [
    "results_dict_ses = {}\n",
    "types = [\"Top\", \"Bottom\"]\n",
    "percentages = [0.10, 0.20, 0.40]\n",
    "horizons = [1, 5, 15]"
   ]
  },
  {
   "cell_type": "code",
   "execution_count": 5,
   "id": "e63853ed",
   "metadata": {},
   "outputs": [],
   "source": [
    "for t in types:\n",
    "    for p in percentages:\n",
    "        for h in horizons:\n",
    "            results_dict_ses[\"h=\"+str(h)+\", \"+t+\" \"+str(p)] = full_coding_analysis(Y, forecaster, forecast_horizon=h, coding_type=t, coding_percentage=p)"
   ]
  },
  {
   "cell_type": "code",
   "execution_count": 6,
   "id": "f4f02ec3",
   "metadata": {},
   "outputs": [
    {
     "data": {
      "text/plain": [
       "{'h=1, Top 0.1': {'% of forecasted points adjusted downward:': 72.0,\n",
       "  '% of forecasted points adjusted upward:': 18.9,\n",
       "  '% Series with improved accuracy:': array([29.9, 29.9]),\n",
       "  '% Series with worsened accuracy:': array([61., 61.]),\n",
       "  '% Series with unchanged accuracy:': array([9.1, 9.1]),\n",
       "  '% Change mean global accuracy:': array([-82.6, -82.6]),\n",
       "  '% Change median global accuracy:': array([-179., -179.])},\n",
       " 'h=5, Top 0.1': {'% of forecasted points adjusted downward:': 73.5,\n",
       "  '% of forecasted points adjusted upward:': 17.299999999999997,\n",
       "  '% Series with improved accuracy:': array([26.8, 26.8]),\n",
       "  '% Series with worsened accuracy:': array([64., 64.]),\n",
       "  '% Series with unchanged accuracy:': array([9.1, 9.1]),\n",
       "  '% Change mean global accuracy:': array([-53.6, -43.7]),\n",
       "  '% Change median global accuracy:': array([-79. , -64.9])},\n",
       " 'h=15, Top 0.1': {'% of forecasted points adjusted downward:': 73.0,\n",
       "  '% of forecasted points adjusted upward:': 16.6,\n",
       "  '% Series with improved accuracy:': array([26.2, 25. ]),\n",
       "  '% Series with worsened accuracy:': array([63.4, 64.6]),\n",
       "  '% Series with unchanged accuracy:': array([10.4, 10.4]),\n",
       "  '% Change mean global accuracy:': array([-37. , -28.8]),\n",
       "  '% Change median global accuracy:': array([-57.7, -49.6])},\n",
       " 'h=1, Top 0.2': {'% of forecasted points adjusted downward:': 75.6,\n",
       "  '% of forecasted points adjusted upward:': 15.9,\n",
       "  '% Series with improved accuracy:': array([23.8, 23.8]),\n",
       "  '% Series with worsened accuracy:': array([67.7, 67.7]),\n",
       "  '% Series with unchanged accuracy:': array([8.5, 8.5]),\n",
       "  '% Change mean global accuracy:': array([-179.8, -179.8]),\n",
       "  '% Change median global accuracy:': array([-337.4, -337.4])},\n",
       " 'h=5, Top 0.2': {'% of forecasted points adjusted downward:': 81.10000000000001,\n",
       "  '% of forecasted points adjusted upward:': 13.4,\n",
       "  '% Series with improved accuracy:': array([22. , 24.4]),\n",
       "  '% Series with worsened accuracy:': array([72.6, 70.1]),\n",
       "  '% Series with unchanged accuracy:': array([5.5, 5.5]),\n",
       "  '% Change mean global accuracy:': array([-123.5, -100.9]),\n",
       "  '% Change median global accuracy:': array([-199.4, -180.4])},\n",
       " 'h=15, Top 0.2': {'% of forecasted points adjusted downward:': 74.3,\n",
       "  '% of forecasted points adjusted upward:': 18.4,\n",
       "  '% Series with improved accuracy:': array([20.1, 21.3]),\n",
       "  '% Series with worsened accuracy:': array([72.6, 71.3]),\n",
       "  '% Series with unchanged accuracy:': array([7.3, 7.3]),\n",
       "  '% Change mean global accuracy:': array([-92.6, -74.3]),\n",
       "  '% Change median global accuracy:': array([-98.7, -89.9])},\n",
       " 'h=1, Top 0.4': {'% of forecasted points adjusted downward:': 84.1,\n",
       "  '% of forecasted points adjusted upward:': 12.8,\n",
       "  '% Series with improved accuracy:': array([14.6, 14.6]),\n",
       "  '% Series with worsened accuracy:': array([82.3, 82.3]),\n",
       "  '% Series with unchanged accuracy:': array([3., 3.]),\n",
       "  '% Change mean global accuracy:': array([-415.2, -415.2]),\n",
       "  '% Change median global accuracy:': array([-647.4, -647.4])},\n",
       " 'h=5, Top 0.4': {'% of forecasted points adjusted downward:': 86.2,\n",
       "  '% of forecasted points adjusted upward:': 10.100000000000001,\n",
       "  '% Series with improved accuracy:': array([16.5, 15.9]),\n",
       "  '% Series with worsened accuracy:': array([79.9, 80.5]),\n",
       "  '% Series with unchanged accuracy:': array([3.7, 3.7]),\n",
       "  '% Change mean global accuracy:': array([-294.2, -241.8]),\n",
       "  '% Change median global accuracy:': array([-379.4, -337.3])},\n",
       " 'h=15, Top 0.4': {'% of forecasted points adjusted downward:': 81.2,\n",
       "  '% of forecasted points adjusted upward:': 14.499999999999998,\n",
       "  '% Series with improved accuracy:': array([17.1, 18.3]),\n",
       "  '% Series with worsened accuracy:': array([78.7, 77.4]),\n",
       "  '% Series with unchanged accuracy:': array([4.3, 4.3]),\n",
       "  '% Change mean global accuracy:': array([-216.3, -173.4]),\n",
       "  '% Change median global accuracy:': array([-161.2, -148.6])},\n",
       " 'h=1, Bottom 0.1': {'% of forecasted points adjusted downward:': 46.300000000000004,\n",
       "  '% of forecasted points adjusted upward:': 41.5,\n",
       "  '% Series with improved accuracy:': array([35.4, 35.4]),\n",
       "  '% Series with worsened accuracy:': array([52.4, 52.4]),\n",
       "  '% Series with unchanged accuracy:': array([12.2, 12.2]),\n",
       "  '% Change mean global accuracy:': array([-23.7, -23.7]),\n",
       "  '% Change median global accuracy:': array([-9.3, -9.3])},\n",
       " 'h=5, Bottom 0.1': {'% of forecasted points adjusted downward:': 30.599999999999998,\n",
       "  '% of forecasted points adjusted upward:': 52.900000000000006,\n",
       "  '% Series with improved accuracy:': array([45.1, 46.3]),\n",
       "  '% Series with worsened accuracy:': array([38.4, 37.2]),\n",
       "  '% Series with unchanged accuracy:': array([16.5, 16.5]),\n",
       "  '% Change mean global accuracy:': array([-12.9, -10.3]),\n",
       "  '% Change median global accuracy:': array([-17.8, -13.3])},\n",
       " 'h=15, Bottom 0.1': {'% of forecasted points adjusted downward:': 34.8,\n",
       "  '% of forecasted points adjusted upward:': 50.5,\n",
       "  '% Series with improved accuracy:': array([36.6, 33.5]),\n",
       "  '% Series with worsened accuracy:': array([48.8, 51.8]),\n",
       "  '% Series with unchanged accuracy:': array([14.6, 14.6]),\n",
       "  '% Change mean global accuracy:': array([-16.2, -12.2]),\n",
       "  '% Change median global accuracy:': array([-15.7, -13.4])},\n",
       " 'h=1, Bottom 0.2': {'% of forecasted points adjusted downward:': 46.300000000000004,\n",
       "  '% of forecasted points adjusted upward:': 42.1,\n",
       "  '% Series with improved accuracy:': array([32.9, 32.9]),\n",
       "  '% Series with worsened accuracy:': array([55.5, 55.5]),\n",
       "  '% Series with unchanged accuracy:': array([11.6, 11.6]),\n",
       "  '% Change mean global accuracy:': array([-59.1, -59.1]),\n",
       "  '% Change median global accuracy:': array([-11.5, -11.5])},\n",
       " 'h=5, Bottom 0.2': {'% of forecasted points adjusted downward:': 34.9,\n",
       "  '% of forecasted points adjusted upward:': 51.7,\n",
       "  '% Series with improved accuracy:': array([44.5, 43.9]),\n",
       "  '% Series with worsened accuracy:': array([42.1, 42.7]),\n",
       "  '% Series with unchanged accuracy:': array([13.4, 13.4]),\n",
       "  '% Change mean global accuracy:': array([-43.1, -35.5]),\n",
       "  '% Change median global accuracy:': array([-18.2, -15.4])},\n",
       " 'h=15, Bottom 0.2': {'% of forecasted points adjusted downward:': 38.3,\n",
       "  '% of forecasted points adjusted upward:': 47.0,\n",
       "  '% Series with improved accuracy:': array([32.9, 29.9]),\n",
       "  '% Series with worsened accuracy:': array([52.4, 55.5]),\n",
       "  '% Series with unchanged accuracy:': array([14.6, 14.6]),\n",
       "  '% Change mean global accuracy:': array([-41.6, -32.4]),\n",
       "  '% Change median global accuracy:': array([-17.2, -15.5])},\n",
       " 'h=1, Bottom 0.4': {'% of forecasted points adjusted downward:': 40.9,\n",
       "  '% of forecasted points adjusted upward:': 47.599999999999994,\n",
       "  '% Series with improved accuracy:': array([29.9, 29.9]),\n",
       "  '% Series with worsened accuracy:': array([58.5, 58.5]),\n",
       "  '% Series with unchanged accuracy:': array([11.6, 11.6]),\n",
       "  '% Change mean global accuracy:': array([-181.8, -181.8]),\n",
       "  '% Change median global accuracy:': array([-15.4, -15.4])},\n",
       " 'h=5, Bottom 0.4': {'% of forecasted points adjusted downward:': 35.0,\n",
       "  '% of forecasted points adjusted upward:': 53.400000000000006,\n",
       "  '% Series with improved accuracy:': array([41.5, 40.9]),\n",
       "  '% Series with worsened accuracy:': array([47. , 47.6]),\n",
       "  '% Series with unchanged accuracy:': array([11.6, 11.6]),\n",
       "  '% Change mean global accuracy:': array([-134.4, -110.6]),\n",
       "  '% Change median global accuracy:': array([-23.7, -21.6])},\n",
       " 'h=15, Bottom 0.4': {'% of forecasted points adjusted downward:': 36.5,\n",
       "  '% of forecasted points adjusted upward:': 50.1,\n",
       "  '% Series with improved accuracy:': array([34.8, 32.3]),\n",
       "  '% Series with worsened accuracy:': array([51.8, 54.3]),\n",
       "  '% Series with unchanged accuracy:': array([13.4, 13.4]),\n",
       "  '% Change mean global accuracy:': array([-110.1,  -89. ]),\n",
       "  '% Change median global accuracy:': array([-25. , -21.7])}}"
      ]
     },
     "execution_count": 6,
     "metadata": {},
     "output_type": "execute_result"
    }
   ],
   "source": [
    "results_dict_ses"
   ]
  },
  {
   "cell_type": "markdown",
   "id": "597216e4",
   "metadata": {},
   "source": [
    "***\n",
    "***"
   ]
  },
  {
   "cell_type": "markdown",
   "id": "5a78d11b",
   "metadata": {},
   "source": [
    "## DES"
   ]
  },
  {
   "cell_type": "code",
   "execution_count": 7,
   "id": "0ea64299",
   "metadata": {},
   "outputs": [],
   "source": [
    "# define forecasting model\n",
    "# perform multiplicative deseasonalization conditional on autocorrelation test for seasonality\n",
    "\n",
    "forecaster = TransformedTargetForecaster(\n",
    "    [\n",
    "        (\"deseasonalize\", ConditionalDeseasonalizer(model=\"multiplicative\", sp=52)),\n",
    "        (\"forecast\", ExponentialSmoothing(trend=\"additive\", use_boxcox=False)),\n",
    "    ]\n",
    ")"
   ]
  },
  {
   "cell_type": "markdown",
   "id": "2439d3d2",
   "metadata": {},
   "source": [
    "We obtain results for a combination of forecast horizons, coding types (top and bottom), and coding percentages:\n",
    "\n",
    "* Forecast Horizons: (1, 5, 15)\n",
    "* Coding Types: (Top, Bottom)\n",
    "* Coding Percentages: (0.10, 0.20, 0.40)"
   ]
  },
  {
   "cell_type": "code",
   "execution_count": 8,
   "id": "8e3701ab",
   "metadata": {},
   "outputs": [],
   "source": [
    "results_dict_des = {}\n",
    "types = [\"Top\", \"Bottom\"]\n",
    "percentages = [0.10, 0.20, 0.40]\n",
    "horizons = [1, 5, 15]"
   ]
  },
  {
   "cell_type": "code",
   "execution_count": 9,
   "id": "7b7cfb19",
   "metadata": {},
   "outputs": [],
   "source": [
    "for t in types:\n",
    "    for p in percentages:\n",
    "        for h in horizons:\n",
    "            results_dict_des[\"h=\"+str(h)+\", \"+t+\" \"+str(p)] = full_coding_analysis(Y, forecaster, forecast_horizon=h, coding_type=t, coding_percentage=p)"
   ]
  },
  {
   "cell_type": "code",
   "execution_count": 10,
   "id": "89ecc756",
   "metadata": {},
   "outputs": [
    {
     "data": {
      "text/plain": [
       "{'h=1, Top 0.1': {'% of forecasted points adjusted downward:': 75.6,\n",
       "  '% of forecasted points adjusted upward:': 24.4,\n",
       "  '% Series with improved accuracy:': array([35.4, 35.4]),\n",
       "  '% Series with worsened accuracy:': array([64.6, 64.6]),\n",
       "  '% Series with unchanged accuracy:': array([0., 0.]),\n",
       "  '% Change mean global accuracy:': array([-83.2, -83.2]),\n",
       "  '% Change median global accuracy:': array([-231.7, -231.7])},\n",
       " 'h=5, Top 0.1': {'% of forecasted points adjusted downward:': 81.69999999999999,\n",
       "  '% of forecasted points adjusted upward:': 18.3,\n",
       "  '% Series with improved accuracy:': array([31.7, 28.7]),\n",
       "  '% Series with worsened accuracy:': array([68.3, 71.3]),\n",
       "  '% Series with unchanged accuracy:': array([0., 0.]),\n",
       "  '% Change mean global accuracy:': array([-47.3, -38.7]),\n",
       "  '% Change median global accuracy:': array([-82.3, -67. ])},\n",
       " 'h=15, Top 0.1': {'% of forecasted points adjusted downward:': 72.8,\n",
       "  '% of forecasted points adjusted upward:': 27.200000000000003,\n",
       "  '% Series with improved accuracy:': array([35.4, 34.1]),\n",
       "  '% Series with worsened accuracy:': array([64.6, 65.9]),\n",
       "  '% Series with unchanged accuracy:': array([0., 0.]),\n",
       "  '% Change mean global accuracy:': array([-27.1, -20.1]),\n",
       "  '% Change median global accuracy:': array([-49.4, -38.7])},\n",
       " 'h=1, Top 0.2': {'% of forecasted points adjusted downward:': 81.10000000000001,\n",
       "  '% of forecasted points adjusted upward:': 18.9,\n",
       "  '% Series with improved accuracy:': array([32.3, 32.3]),\n",
       "  '% Series with worsened accuracy:': array([67.7, 67.7]),\n",
       "  '% Series with unchanged accuracy:': array([0., 0.]),\n",
       "  '% Change mean global accuracy:': array([-181.7, -181.7]),\n",
       "  '% Change median global accuracy:': array([-461.3, -461.3])},\n",
       " 'h=5, Top 0.2': {'% of forecasted points adjusted downward:': 84.3,\n",
       "  '% of forecasted points adjusted upward:': 15.7,\n",
       "  '% Series with improved accuracy:': array([24.4, 22. ]),\n",
       "  '% Series with worsened accuracy:': array([75.6, 78. ]),\n",
       "  '% Series with unchanged accuracy:': array([0., 0.]),\n",
       "  '% Change mean global accuracy:': array([-114.9,  -94.2]),\n",
       "  '% Change median global accuracy:': array([-203.5, -187.2])},\n",
       " 'h=15, Top 0.2': {'% of forecasted points adjusted downward:': 73.3,\n",
       "  '% of forecasted points adjusted upward:': 26.700000000000003,\n",
       "  '% Series with improved accuracy:': array([27.4, 26.2]),\n",
       "  '% Series with worsened accuracy:': array([72.6, 73.8]),\n",
       "  '% Series with unchanged accuracy:': array([0., 0.]),\n",
       "  '% Change mean global accuracy:': array([-82.9, -65.6]),\n",
       "  '% Change median global accuracy:': array([-104.2,  -90.2])},\n",
       " 'h=1, Top 0.4': {'% of forecasted points adjusted downward:': 86.6,\n",
       "  '% of forecasted points adjusted upward:': 13.4,\n",
       "  '% Series with improved accuracy:': array([23.8, 23.8]),\n",
       "  '% Series with worsened accuracy:': array([76.2, 76.2]),\n",
       "  '% Series with unchanged accuracy:': array([0., 0.]),\n",
       "  '% Change mean global accuracy:': array([-419.4, -419.4]),\n",
       "  '% Change median global accuracy:': array([-784.2, -784.2])},\n",
       " 'h=5, Top 0.4': {'% of forecasted points adjusted downward:': 84.5,\n",
       "  '% of forecasted points adjusted upward:': 15.5,\n",
       "  '% Series with improved accuracy:': array([19.5, 18.9]),\n",
       "  '% Series with worsened accuracy:': array([80.5, 81.1]),\n",
       "  '% Series with unchanged accuracy:': array([0., 0.]),\n",
       "  '% Change mean global accuracy:': array([-278.4, -229.9]),\n",
       "  '% Change median global accuracy:': array([-399.2, -345.5])},\n",
       " 'h=15, Top 0.4': {'% of forecasted points adjusted downward:': 79.4,\n",
       "  '% of forecasted points adjusted upward:': 20.599999999999998,\n",
       "  '% Series with improved accuracy:': array([24.4, 24.4]),\n",
       "  '% Series with worsened accuracy:': array([75.6, 75.6]),\n",
       "  '% Series with unchanged accuracy:': array([0., 0.]),\n",
       "  '% Change mean global accuracy:': array([-200.6, -160.9]),\n",
       "  '% Change median global accuracy:': array([-196.1, -165.1])},\n",
       " 'h=1, Bottom 0.1': {'% of forecasted points adjusted downward:': 56.699999999999996,\n",
       "  '% of forecasted points adjusted upward:': 43.3,\n",
       "  '% Series with improved accuracy:': array([47., 47.]),\n",
       "  '% Series with worsened accuracy:': array([53., 53.]),\n",
       "  '% Series with unchanged accuracy:': array([0., 0.]),\n",
       "  '% Change mean global accuracy:': array([-24.3, -24.3]),\n",
       "  '% Change median global accuracy:': array([-32.8, -32.8])},\n",
       " 'h=5, Bottom 0.1': {'% of forecasted points adjusted downward:': 57.4,\n",
       "  '% of forecasted points adjusted upward:': 42.6,\n",
       "  '% Series with improved accuracy:': array([44.5, 43.9]),\n",
       "  '% Series with worsened accuracy:': array([55.5, 56.1]),\n",
       "  '% Series with unchanged accuracy:': array([0., 0.]),\n",
       "  '% Change mean global accuracy:': array([-8.9, -6.9]),\n",
       "  '% Change median global accuracy:': array([ -9.5, -15. ])},\n",
       " 'h=15, Bottom 0.1': {'% of forecasted points adjusted downward:': 52.0,\n",
       "  '% of forecasted points adjusted upward:': 47.4,\n",
       "  '% Series with improved accuracy:': array([41.5, 42.1]),\n",
       "  '% Series with worsened accuracy:': array([57.9, 57.3]),\n",
       "  '% Series with unchanged accuracy:': array([0.6, 0.6]),\n",
       "  '% Change mean global accuracy:': array([-7. , -3.7]),\n",
       "  '% Change median global accuracy:': array([-16.4, -18.2])},\n",
       " 'h=1, Bottom 0.2': {'% of forecasted points adjusted downward:': 59.8,\n",
       "  '% of forecasted points adjusted upward:': 40.2,\n",
       "  '% Series with improved accuracy:': array([43.3, 43.3]),\n",
       "  '% Series with worsened accuracy:': array([56.7, 56.7]),\n",
       "  '% Series with unchanged accuracy:': array([0., 0.]),\n",
       "  '% Change mean global accuracy:': array([-60.8, -60.8]),\n",
       "  '% Change median global accuracy:': array([-33.9, -33.9])},\n",
       " 'h=5, Bottom 0.2': {'% of forecasted points adjusted downward:': 60.0,\n",
       "  '% of forecasted points adjusted upward:': 39.4,\n",
       "  '% Series with improved accuracy:': array([44.5, 42.1]),\n",
       "  '% Series with worsened accuracy:': array([54.9, 57.3]),\n",
       "  '% Series with unchanged accuracy:': array([0.6, 0.6]),\n",
       "  '% Change mean global accuracy:': array([-36.5, -30.3]),\n",
       "  '% Change median global accuracy:': array([-10.3, -16.2])},\n",
       " 'h=15, Bottom 0.2': {'% of forecasted points adjusted downward:': 58.599999999999994,\n",
       "  '% of forecasted points adjusted upward:': 40.8,\n",
       "  '% Series with improved accuracy:': array([43.3, 44.5]),\n",
       "  '% Series with worsened accuracy:': array([56.1, 54.9]),\n",
       "  '% Series with unchanged accuracy:': array([0.6, 0.6]),\n",
       "  '% Change mean global accuracy:': array([-30.8, -22.9]),\n",
       "  '% Change median global accuracy:': array([-19. , -20.4])},\n",
       " 'h=1, Bottom 0.4': {'% of forecasted points adjusted downward:': 52.400000000000006,\n",
       "  '% of forecasted points adjusted upward:': 47.599999999999994,\n",
       "  '% Series with improved accuracy:': array([42.7, 42.7]),\n",
       "  '% Series with worsened accuracy:': array([57.3, 57.3]),\n",
       "  '% Series with unchanged accuracy:': array([0., 0.]),\n",
       "  '% Change mean global accuracy:': array([-185.8, -185.8]),\n",
       "  '% Change median global accuracy:': array([-52.3, -52.3])},\n",
       " 'h=5, Bottom 0.4': {'% of forecasted points adjusted downward:': 57.99999999999999,\n",
       "  '% of forecasted points adjusted upward:': 41.3,\n",
       "  '% Series with improved accuracy:': array([45.7, 40.9]),\n",
       "  '% Series with worsened accuracy:': array([53.7, 58.5]),\n",
       "  '% Series with unchanged accuracy:': array([0.6, 0.6]),\n",
       "  '% Change mean global accuracy:': array([-124.6, -103.1]),\n",
       "  '% Change median global accuracy:': array([-25.9, -25.6])},\n",
       " 'h=15, Bottom 0.4': {'% of forecasted points adjusted downward:': 57.099999999999994,\n",
       "  '% of forecasted points adjusted upward:': 42.9,\n",
       "  '% Series with improved accuracy:': array([49.4, 47. ]),\n",
       "  '% Series with worsened accuracy:': array([50.6, 53. ]),\n",
       "  '% Series with unchanged accuracy:': array([0., 0.]),\n",
       "  '% Change mean global accuracy:': array([-97.8, -78.3]),\n",
       "  '% Change median global accuracy:': array([-21.5, -24.2])}}"
      ]
     },
     "execution_count": 10,
     "metadata": {},
     "output_type": "execute_result"
    }
   ],
   "source": [
    "results_dict_des"
   ]
  },
  {
   "cell_type": "markdown",
   "id": "9b297a10",
   "metadata": {},
   "source": [
    "***\n",
    "***"
   ]
  },
  {
   "cell_type": "markdown",
   "id": "919e3c36",
   "metadata": {},
   "source": [
    "## TES"
   ]
  },
  {
   "cell_type": "code",
   "execution_count": 11,
   "id": "45356770",
   "metadata": {},
   "outputs": [],
   "source": [
    "# define forecasting model\n",
    "# perform multiplicative deseasonalization conditional on autocorrelation test for seasonality\n",
    "\n",
    "forecaster = TransformedTargetForecaster(\n",
    "    [\n",
    "        (\"forecast\", ExponentialSmoothing(trend=\"additive\",\n",
    "                                          seasonal=\"multiplicative\",\n",
    "                                          sp=52,\n",
    "                                          damped_trend=False, \n",
    "                                          use_boxcox=False)),\n",
    "    ]\n",
    ")"
   ]
  },
  {
   "cell_type": "markdown",
   "id": "a002814d",
   "metadata": {},
   "source": [
    "We obtain results for a combination of forecast horizons, coding types (top and bottom), and coding percentages:\n",
    "\n",
    "* Forecast Horizons: (1, 5, 15)\n",
    "* Coding Types: (Top, Bottom)\n",
    "* Coding Percentages: (0.10, 0.20, 0.40)"
   ]
  },
  {
   "cell_type": "code",
   "execution_count": 12,
   "id": "15407745",
   "metadata": {},
   "outputs": [],
   "source": [
    "results_dict_tes = {}\n",
    "types = [\"Top\", \"Bottom\"]\n",
    "percentages = [0.10, 0.20, 0.40]\n",
    "horizons = [1, 5, 15]"
   ]
  },
  {
   "cell_type": "code",
   "execution_count": 13,
   "id": "54bbe29d",
   "metadata": {},
   "outputs": [],
   "source": [
    "for t in types:\n",
    "    for p in percentages:\n",
    "        for h in horizons:\n",
    "            results_dict_tes[\"h=\"+str(h)+\", \"+t+\" \"+str(p)] = full_coding_analysis(Y, forecaster, forecast_horizon=h, coding_type=t, coding_percentage=p)"
   ]
  },
  {
   "cell_type": "code",
   "execution_count": 14,
   "id": "d350132a",
   "metadata": {},
   "outputs": [
    {
     "data": {
      "text/plain": [
       "{'h=1, Top 0.1': {'% of forecasted points adjusted downward:': 76.8,\n",
       "  '% of forecasted points adjusted upward:': 23.200000000000003,\n",
       "  '% Series with improved accuracy:': array([36.6, 36.6]),\n",
       "  '% Series with worsened accuracy:': array([63.4, 63.4]),\n",
       "  '% Series with unchanged accuracy:': array([0., 0.]),\n",
       "  '% Change mean global accuracy:': array([-62.2, -62.2]),\n",
       "  '% Change median global accuracy:': array([-172.1, -172.1])},\n",
       " 'h=5, Top 0.1': {'% of forecasted points adjusted downward:': 78.0,\n",
       "  '% of forecasted points adjusted upward:': 22.0,\n",
       "  '% Series with improved accuracy:': array([31.7, 31.7]),\n",
       "  '% Series with worsened accuracy:': array([68.3, 68.3]),\n",
       "  '% Series with unchanged accuracy:': array([0., 0.]),\n",
       "  '% Change mean global accuracy:': array([-51.7, -43.7]),\n",
       "  '% Change median global accuracy:': array([-92.4, -80.8])},\n",
       " 'h=15, Top 0.1': {'% of forecasted points adjusted downward:': 79.60000000000001,\n",
       "  '% of forecasted points adjusted upward:': 20.4,\n",
       "  '% Series with improved accuracy:': array([34.1, 34.1]),\n",
       "  '% Series with worsened accuracy:': array([65.9, 65.9]),\n",
       "  '% Series with unchanged accuracy:': array([0., 0.]),\n",
       "  '% Change mean global accuracy:': array([-44.3, -36.2]),\n",
       "  '% Change median global accuracy:': array([-50.5, -42.5])},\n",
       " 'h=1, Top 0.2': {'% of forecasted points adjusted downward:': 81.10000000000001,\n",
       "  '% of forecasted points adjusted upward:': 18.9,\n",
       "  '% Series with improved accuracy:': array([24.4, 24.4]),\n",
       "  '% Series with worsened accuracy:': array([75.6, 75.6]),\n",
       "  '% Series with unchanged accuracy:': array([0., 0.]),\n",
       "  '% Change mean global accuracy:': array([-136.9, -136.9]),\n",
       "  '% Change median global accuracy:': array([-367.8, -367.8])},\n",
       " 'h=5, Top 0.2': {'% of forecasted points adjusted downward:': 77.8,\n",
       "  '% of forecasted points adjusted upward:': 22.2,\n",
       "  '% Series with improved accuracy:': array([27.4, 29.3]),\n",
       "  '% Series with worsened accuracy:': array([72.6, 70.7]),\n",
       "  '% Series with unchanged accuracy:': array([0., 0.]),\n",
       "  '% Change mean global accuracy:': array([-124.2, -105.1]),\n",
       "  '% Change median global accuracy:': array([-210.7, -174.2])},\n",
       " 'h=15, Top 0.2': {'% of forecasted points adjusted downward:': 79.60000000000001,\n",
       "  '% of forecasted points adjusted upward:': 20.4,\n",
       "  '% Series with improved accuracy:': array([26.8, 26.8]),\n",
       "  '% Series with worsened accuracy:': array([73.2, 73.2]),\n",
       "  '% Series with unchanged accuracy:': array([0., 0.]),\n",
       "  '% Change mean global accuracy:': array([-107.2,  -87.2]),\n",
       "  '% Change median global accuracy:': array([-125.9,  -98.6])},\n",
       " 'h=1, Top 0.4': {'% of forecasted points adjusted downward:': 85.39999999999999,\n",
       "  '% of forecasted points adjusted upward:': 14.6,\n",
       "  '% Series with improved accuracy:': array([20.1, 20.1]),\n",
       "  '% Series with worsened accuracy:': array([79.9, 79.9]),\n",
       "  '% Series with unchanged accuracy:': array([0., 0.]),\n",
       "  '% Change mean global accuracy:': array([-315.9, -315.9]),\n",
       "  '% Change median global accuracy:': array([-584.7, -584.7])},\n",
       " 'h=5, Top 0.4': {'% of forecasted points adjusted downward:': 81.8,\n",
       "  '% of forecasted points adjusted upward:': 18.2,\n",
       "  '% Series with improved accuracy:': array([23.2, 22.6]),\n",
       "  '% Series with worsened accuracy:': array([76.8, 77.4]),\n",
       "  '% Series with unchanged accuracy:': array([0., 0.]),\n",
       "  '% Change mean global accuracy:': array([-296.2, -252. ]),\n",
       "  '% Change median global accuracy:': array([-400.8, -359.7])},\n",
       " 'h=15, Top 0.4': {'% of forecasted points adjusted downward:': 84.1,\n",
       "  '% of forecasted points adjusted upward:': 15.9,\n",
       "  '% Series with improved accuracy:': array([28.7, 28. ]),\n",
       "  '% Series with worsened accuracy:': array([71.3, 72. ]),\n",
       "  '% Series with unchanged accuracy:': array([0., 0.]),\n",
       "  '% Change mean global accuracy:': array([-222.4, -180.8]),\n",
       "  '% Change median global accuracy:': array([-185. , -155.4])},\n",
       " 'h=1, Bottom 0.1': {'% of forecasted points adjusted downward:': 42.699999999999996,\n",
       "  '% of forecasted points adjusted upward:': 57.3,\n",
       "  '% Series with improved accuracy:': array([50.6, 50.6]),\n",
       "  '% Series with worsened accuracy:': array([49.4, 49.4]),\n",
       "  '% Series with unchanged accuracy:': array([0., 0.]),\n",
       "  '% Change mean global accuracy:': array([-15.5, -15.5]),\n",
       "  '% Change median global accuracy:': array([-32.9, -32.9])},\n",
       " 'h=5, Bottom 0.1': {'% of forecasted points adjusted downward:': 35.0,\n",
       "  '% of forecasted points adjusted upward:': 65.0,\n",
       "  '% Series with improved accuracy:': array([45.1, 47. ]),\n",
       "  '% Series with worsened accuracy:': array([54.9, 53. ]),\n",
       "  '% Series with unchanged accuracy:': array([0., 0.]),\n",
       "  '% Change mean global accuracy:': array([-15.1, -16.4]),\n",
       "  '% Change median global accuracy:': array([-33.7, -26.7])},\n",
       " 'h=15, Bottom 0.1': {'% of forecasted points adjusted downward:': 41.5,\n",
       "  '% of forecasted points adjusted upward:': 58.5,\n",
       "  '% Series with improved accuracy:': array([53.7, 53. ]),\n",
       "  '% Series with worsened accuracy:': array([46.3, 47. ]),\n",
       "  '% Series with unchanged accuracy:': array([0., 0.]),\n",
       "  '% Change mean global accuracy:': array([-10.4,  -7.9]),\n",
       "  '% Change median global accuracy:': array([-6.6, -2.1])},\n",
       " 'h=1, Bottom 0.2': {'% of forecasted points adjusted downward:': 42.1,\n",
       "  '% of forecasted points adjusted upward:': 57.9,\n",
       "  '% Series with improved accuracy:': array([54.9, 54.9]),\n",
       "  '% Series with worsened accuracy:': array([45.1, 45.1]),\n",
       "  '% Series with unchanged accuracy:': array([0., 0.]),\n",
       "  '% Change mean global accuracy:': array([-37.2, -37.2]),\n",
       "  '% Change median global accuracy:': array([-22.9, -22.9])},\n",
       " 'h=5, Bottom 0.2': {'% of forecasted points adjusted downward:': 44.3,\n",
       "  '% of forecasted points adjusted upward:': 55.7,\n",
       "  '% Series with improved accuracy:': array([55.5, 51.2]),\n",
       "  '% Series with worsened accuracy:': array([44.5, 48.8]),\n",
       "  '% Series with unchanged accuracy:': array([0., 0.]),\n",
       "  '% Change mean global accuracy:': array([-43.7, -41.6]),\n",
       "  '% Change median global accuracy:': array([-12.1, -16.9])},\n",
       " 'h=15, Bottom 0.2': {'% of forecasted points adjusted downward:': 43.5,\n",
       "  '% of forecasted points adjusted upward:': 56.49999999999999,\n",
       "  '% Series with improved accuracy:': array([50. , 48.8]),\n",
       "  '% Series with worsened accuracy:': array([50. , 51.2]),\n",
       "  '% Series with unchanged accuracy:': array([0., 0.]),\n",
       "  '% Change mean global accuracy:': array([-32.1, -25.8]),\n",
       "  '% Change median global accuracy:': array([-11.4, -12.2])},\n",
       " 'h=1, Bottom 0.4': {'% of forecasted points adjusted downward:': 38.4,\n",
       "  '% of forecasted points adjusted upward:': 61.6,\n",
       "  '% Series with improved accuracy:': array([51.8, 51.8]),\n",
       "  '% Series with worsened accuracy:': array([48.2, 48.2]),\n",
       "  '% Series with unchanged accuracy:': array([0., 0.]),\n",
       "  '% Change mean global accuracy:': array([-131.5, -131.5]),\n",
       "  '% Change median global accuracy:': array([-15.7, -15.7])},\n",
       " 'h=5, Bottom 0.4': {'% of forecasted points adjusted downward:': 42.3,\n",
       "  '% of forecasted points adjusted upward:': 57.699999999999996,\n",
       "  '% Series with improved accuracy:': array([43.9, 43.3]),\n",
       "  '% Series with worsened accuracy:': array([56.1, 56.7]),\n",
       "  '% Series with unchanged accuracy:': array([0., 0.]),\n",
       "  '% Change mean global accuracy:': array([-133.4, -117.3]),\n",
       "  '% Change median global accuracy:': array([-33. , -24.1])},\n",
       " 'h=15, Bottom 0.4': {'% of forecasted points adjusted downward:': 40.699999999999996,\n",
       "  '% of forecasted points adjusted upward:': 59.3,\n",
       "  '% Series with improved accuracy:': array([48.8, 51.2]),\n",
       "  '% Series with worsened accuracy:': array([51.2, 48.8]),\n",
       "  '% Series with unchanged accuracy:': array([0., 0.]),\n",
       "  '% Change mean global accuracy:': array([-97.7, -79.7]),\n",
       "  '% Change median global accuracy:': array([-7.9, -7.1])}}"
      ]
     },
     "execution_count": 14,
     "metadata": {},
     "output_type": "execute_result"
    }
   ],
   "source": [
    "results_dict_tes"
   ]
  }
 ],
 "metadata": {
  "kernelspec": {
   "display_name": "Python 3 (ipykernel)",
   "language": "python",
   "name": "python3"
  },
  "language_info": {
   "codemirror_mode": {
    "name": "ipython",
    "version": 3
   },
   "file_extension": ".py",
   "mimetype": "text/x-python",
   "name": "python",
   "nbconvert_exporter": "python",
   "pygments_lexer": "ipython3",
   "version": "3.9.7"
  }
 },
 "nbformat": 4,
 "nbformat_minor": 5
}
