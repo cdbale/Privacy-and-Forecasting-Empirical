{
 "cells": [
  {
   "cell_type": "markdown",
   "id": "9f218c5b",
   "metadata": {},
   "source": [
    "### Analyzing the Effects of Top/Bottom Coding on The Accuracy of Exponential Smoothing Forecasts"
   ]
  },
  {
   "cell_type": "markdown",
   "id": "fad24aa7",
   "metadata": {},
   "source": [
    "***"
   ]
  },
  {
   "cell_type": "markdown",
   "id": "4d7ae16f",
   "metadata": {},
   "source": [
    "#### Analysis Flow:"
   ]
  },
  {
   "cell_type": "markdown",
   "id": "e7794258",
   "metadata": {},
   "source": [
    "* Inputs:\n",
    "    * Time series data\n",
    "    * Forecasting Model\n",
    "    * Protection Method"
   ]
  },
  {
   "cell_type": "markdown",
   "id": "aba41285",
   "metadata": {},
   "source": [
    "* Analysis:\n",
    "    * Pre-process data\n",
    "    * Fit forecasting models\n",
    "    * Generate forecasts for a variety of horizons"
   ]
  },
  {
   "cell_type": "markdown",
   "id": "7f5ca953",
   "metadata": {},
   "source": [
    "* Outputs:\n",
    "    * Forecasts for original data\n",
    "    * Forecasts for confidential data\n",
    "    * Accuracy for local forecasts\n",
    "    * Global accuracy\n",
    "    * % improvements/reduction in forecast accuracy across all series"
   ]
  },
  {
   "cell_type": "markdown",
   "id": "afb0903f",
   "metadata": {},
   "source": [
    "***"
   ]
  },
  {
   "cell_type": "markdown",
   "id": "e4cc966f",
   "metadata": {},
   "source": [
    "## Import Modules"
   ]
  },
  {
   "cell_type": "markdown",
   "id": "45de246f",
   "metadata": {},
   "source": [
    "Note the functions imported from `helper_functions`, as these are custom functions written by the paper authors. See `helper_functions.py` for comments and functions descriptions."
   ]
  },
  {
   "cell_type": "code",
   "execution_count": null,
   "id": "92e893fe",
   "metadata": {},
   "outputs": [],
   "source": [
    "# general modules\n",
    "import pandas as pd\n",
    "import numpy as np\n",
    "import sktime\n",
    "\n",
    "# import exponential smoothing forecasting model\n",
    "from sktime.forecasting.exp_smoothing import ExponentialSmoothing\n",
    "\n",
    "# functions for transformation+forecasting pipeline\n",
    "from sktime.forecasting.compose import TransformedTargetForecaster\n",
    "from sktime.forecasting.compose import EnsembleForecaster\n",
    "\n",
    "# time series transformations\n",
    "from sktime.transformations.series.detrend import ConditionalDeseasonalizer, Detrender\n",
    "\n",
    "##### the `helper_functions.py` file contains many custom functions we wrote to aid in our analysis\n",
    "##### `full_coding_analysis` combines all of the following - train-test split data,\n",
    "##### data protection, train models, compare accuracies, return accuracy results\n",
    "from helper_functions import full_coding_analysis\n",
    "\n",
    "# suppress warnings from exponential smoothing model not converging\n",
    "import warnings\n",
    "warnings.filterwarnings('ignore')"
   ]
  },
  {
   "cell_type": "markdown",
   "id": "35683117",
   "metadata": {},
   "source": [
    "Import data."
   ]
  },
  {
   "cell_type": "code",
   "execution_count": null,
   "id": "3a709c4f",
   "metadata": {},
   "outputs": [],
   "source": [
    "# import weekly finance time series\n",
    "Y = np.genfromtxt(\"../../Data/Train/Clean/weekly_finance_clean.csv\", delimiter = ',', skip_header = 1)\n",
    "Y = pd.DataFrame(Y)"
   ]
  },
  {
   "cell_type": "code",
   "execution_count": null,
   "id": "b7dddea9",
   "metadata": {},
   "outputs": [],
   "source": [
    "detrender = Detrender()\n",
    "detrended_series = [detrender.fit_transform(series) for _ , series in Y.iterrows()]\n",
    "detrended_series = [i+np.abs(np.min(i))+1.0 for i in detrended_series]\n",
    "Y = pd.concat(detrended_series, axis=1).T"
   ]
  },
  {
   "cell_type": "markdown",
   "id": "41c9cdbf",
   "metadata": {},
   "source": [
    "## SES"
   ]
  },
  {
   "cell_type": "code",
   "execution_count": null,
   "id": "ea73077d",
   "metadata": {},
   "outputs": [],
   "source": [
    "# define forecasting model\n",
    "# perform multiplicative deseasonalization conditional on autocorrelation test for seasonality\n",
    "\n",
    "forecaster = TransformedTargetForecaster(\n",
    "    [\n",
    "        (\"deseasonalize\", ConditionalDeseasonalizer(model=\"multiplicative\", sp=52)),\n",
    "        (\"forecast\", ExponentialSmoothing(use_boxcox=False)),\n",
    "    ]\n",
    ")"
   ]
  },
  {
   "cell_type": "markdown",
   "id": "1b78928e",
   "metadata": {},
   "source": [
    "We obtain results for a combination of forecast horizons, coding types (top and bottom), and coding percentages:\n",
    "\n",
    "* Forecast Horizons: (1, 5, 15)\n",
    "* Coding Types: (Top, Bottom)\n",
    "* Coding Percentages: (0.10, 0.20, 0.40)"
   ]
  },
  {
   "cell_type": "code",
   "execution_count": null,
   "id": "a62b342b",
   "metadata": {},
   "outputs": [],
   "source": [
    "results_dict_ses = {}\n",
    "types = [\"Top\", \"Bottom\"]\n",
    "percentages = [0.10, 0.20, 0.40]\n",
    "horizons = [1, 5, 15]"
   ]
  },
  {
   "cell_type": "code",
   "execution_count": null,
   "id": "e63853ed",
   "metadata": {},
   "outputs": [],
   "source": [
    "for t in types:\n",
    "    for p in percentages:\n",
    "        for h in horizons:\n",
    "            results_dict_ses[\"h=\"+str(h)+\", \"+t+\" \"+str(p)] = full_coding_analysis(Y, forecaster, forecast_horizon=h, coding_type=t, coding_percentage=p)"
   ]
  },
  {
   "cell_type": "code",
   "execution_count": null,
   "id": "f4f02ec3",
   "metadata": {},
   "outputs": [],
   "source": [
    "results_dict_ses"
   ]
  },
  {
   "cell_type": "markdown",
   "id": "597216e4",
   "metadata": {},
   "source": [
    "***\n",
    "***"
   ]
  },
  {
   "cell_type": "markdown",
   "id": "5a78d11b",
   "metadata": {},
   "source": [
    "## DES"
   ]
  },
  {
   "cell_type": "code",
   "execution_count": null,
   "id": "0ea64299",
   "metadata": {},
   "outputs": [],
   "source": [
    "# define forecasting model\n",
    "# perform multiplicative deseasonalization conditional on autocorrelation test for seasonality\n",
    "\n",
    "forecaster = TransformedTargetForecaster(\n",
    "    [\n",
    "        (\"deseasonalize\", ConditionalDeseasonalizer(model=\"multiplicative\", sp=52)),\n",
    "        (\"forecast\", ExponentialSmoothing(trend=\"additive\", use_boxcox=False)),\n",
    "    ]\n",
    ")"
   ]
  },
  {
   "cell_type": "markdown",
   "id": "2439d3d2",
   "metadata": {},
   "source": [
    "We obtain results for a combination of forecast horizons, coding types (top and bottom), and coding percentages:\n",
    "\n",
    "* Forecast Horizons: (1, 5, 15)\n",
    "* Coding Types: (Top, Bottom)\n",
    "* Coding Percentages: (0.10, 0.20, 0.40)"
   ]
  },
  {
   "cell_type": "code",
   "execution_count": null,
   "id": "8e3701ab",
   "metadata": {},
   "outputs": [],
   "source": [
    "results_dict_des = {}\n",
    "types = [\"Top\", \"Bottom\"]\n",
    "percentages = [0.10, 0.20, 0.40]\n",
    "horizons = [1, 5, 15]"
   ]
  },
  {
   "cell_type": "code",
   "execution_count": null,
   "id": "7b7cfb19",
   "metadata": {},
   "outputs": [],
   "source": [
    "for t in types:\n",
    "    for p in percentages:\n",
    "        for h in horizons:\n",
    "            results_dict_des[\"h=\"+str(h)+\", \"+t+\" \"+str(p)] = full_coding_analysis(Y, forecaster, forecast_horizon=h, coding_type=t, coding_percentage=p)"
   ]
  },
  {
   "cell_type": "code",
   "execution_count": null,
   "id": "89ecc756",
   "metadata": {},
   "outputs": [],
   "source": [
    "results_dict_des"
   ]
  },
  {
   "cell_type": "markdown",
   "id": "9b297a10",
   "metadata": {},
   "source": [
    "***\n",
    "***"
   ]
  },
  {
   "cell_type": "markdown",
   "id": "aa0579c9",
   "metadata": {},
   "source": [
    "## DES With Damped Trend"
   ]
  },
  {
   "cell_type": "code",
   "execution_count": null,
   "id": "a6dd282b",
   "metadata": {},
   "outputs": [],
   "source": [
    "# define forecasting model\n",
    "# perform multiplicative deseasonalization conditional on autocorrelation test for seasonality\n",
    "\n",
    "forecaster = TransformedTargetForecaster(\n",
    "    [\n",
    "        (\"deseasonalize\", ConditionalDeseasonalizer(model=\"multiplicative\", sp=52)),\n",
    "        (\"forecast\", ExponentialSmoothing(trend=\"additive\", damped_trend=True, use_boxcox=False)),\n",
    "    ]\n",
    ")"
   ]
  },
  {
   "cell_type": "markdown",
   "id": "df546aa3",
   "metadata": {},
   "source": [
    "We obtain results for a combination of forecast horizons, coding types (top and bottom), and coding percentages:\n",
    "\n",
    "* Forecast Horizons: (1, 5, 15)\n",
    "* Coding Types: (Top, Bottom)\n",
    "* Coding Percentages: (0.10, 0.20, 0.40)"
   ]
  },
  {
   "cell_type": "code",
   "execution_count": null,
   "id": "8f3eb562",
   "metadata": {},
   "outputs": [],
   "source": [
    "results_dict_ddes = {}\n",
    "types = [\"Top\", \"Bottom\"]\n",
    "percentages = [0.10, 0.20, 0.40]\n",
    "horizons = [1, 5, 15]"
   ]
  },
  {
   "cell_type": "code",
   "execution_count": null,
   "id": "13ca484c",
   "metadata": {},
   "outputs": [],
   "source": [
    "for t in types:\n",
    "    for p in percentages:\n",
    "        for h in horizons:\n",
    "            results_dict_ddes[\"h=\"+str(h)+\", \"+t+\" \"+str(p)] = full_coding_analysis(Y, forecaster, forecast_horizon=h, coding_type=t, coding_percentage=p)"
   ]
  },
  {
   "cell_type": "code",
   "execution_count": null,
   "id": "59c496fb",
   "metadata": {},
   "outputs": [],
   "source": [
    "results_dict_ddes"
   ]
  },
  {
   "cell_type": "markdown",
   "id": "f1438c9c",
   "metadata": {},
   "source": [
    "***\n",
    "***"
   ]
  },
  {
   "cell_type": "markdown",
   "id": "919e3c36",
   "metadata": {},
   "source": [
    "## TES"
   ]
  },
  {
   "cell_type": "code",
   "execution_count": null,
   "id": "45356770",
   "metadata": {},
   "outputs": [],
   "source": [
    "# define forecasting model\n",
    "# perform multiplicative deseasonalization conditional on autocorrelation test for seasonality\n",
    "\n",
    "forecaster = TransformedTargetForecaster(\n",
    "    [\n",
    "        (\"forecast\", ExponentialSmoothing(trend=\"additive\",\n",
    "                                          seasonal=\"multiplicative\",\n",
    "                                          sp=52,\n",
    "                                          damped_trend=False, \n",
    "                                          use_boxcox=False)),\n",
    "    ]\n",
    ")"
   ]
  },
  {
   "cell_type": "markdown",
   "id": "a002814d",
   "metadata": {},
   "source": [
    "We obtain results for a combination of forecast horizons, coding types (top and bottom), and coding percentages:\n",
    "\n",
    "* Forecast Horizons: (1, 5, 15)\n",
    "* Coding Types: (Top, Bottom)\n",
    "* Coding Percentages: (0.10, 0.20, 0.40)"
   ]
  },
  {
   "cell_type": "code",
   "execution_count": null,
   "id": "15407745",
   "metadata": {},
   "outputs": [],
   "source": [
    "results_dict_tes = {}\n",
    "types = [\"Top\", \"Bottom\"]\n",
    "percentages = [0.10, 0.20, 0.40]\n",
    "horizons = [1, 5, 15]"
   ]
  },
  {
   "cell_type": "code",
   "execution_count": null,
   "id": "54bbe29d",
   "metadata": {},
   "outputs": [],
   "source": [
    "for t in types:\n",
    "    for p in percentages:\n",
    "        for h in horizons:\n",
    "            results_dict_tes[\"h=\"+str(h)+\", \"+t+\" \"+str(p)] = full_coding_analysis(Y, forecaster, forecast_horizon=h, coding_type=t, coding_percentage=p)"
   ]
  },
  {
   "cell_type": "code",
   "execution_count": null,
   "id": "d350132a",
   "metadata": {},
   "outputs": [],
   "source": [
    "results_dict_tes"
   ]
  },
  {
   "cell_type": "markdown",
   "id": "0e6d4472",
   "metadata": {},
   "source": [
    "***\n",
    "***"
   ]
  },
  {
   "cell_type": "markdown",
   "id": "6041b1ac",
   "metadata": {},
   "source": [
    "## TES With Damped Trend"
   ]
  },
  {
   "cell_type": "code",
   "execution_count": null,
   "id": "1675acbc",
   "metadata": {},
   "outputs": [],
   "source": [
    "# define forecasting model\n",
    "# perform multiplicative deseasonalization conditional on autocorrelation test for seasonality\n",
    "\n",
    "forecaster = TransformedTargetForecaster(\n",
    "    [\n",
    "        (\"forecast\", ExponentialSmoothing(trend=\"additive\",\n",
    "                                          seasonal=\"multiplicative\",\n",
    "                                          sp=52,\n",
    "                                          damped_trend=True, \n",
    "                                          use_boxcox=False)),\n",
    "    ]\n",
    ")"
   ]
  },
  {
   "cell_type": "markdown",
   "id": "02e6d31f",
   "metadata": {},
   "source": [
    "We obtain results for a combination of forecast horizons, coding types (top and bottom), and coding percentages:\n",
    "\n",
    "* Forecast Horizons: (1, 5, 15)\n",
    "* Coding Types: (Top, Bottom)\n",
    "* Coding Percentages: (0.10, 0.20, 0.40)"
   ]
  },
  {
   "cell_type": "code",
   "execution_count": null,
   "id": "fe1fc6dd",
   "metadata": {},
   "outputs": [],
   "source": [
    "results_dict_dtes = {}\n",
    "types = [\"Top\", \"Bottom\"]\n",
    "percentages = [0.10, 0.20, 0.40]\n",
    "horizons = [1, 5, 15]"
   ]
  },
  {
   "cell_type": "code",
   "execution_count": null,
   "id": "7179b8f5",
   "metadata": {},
   "outputs": [],
   "source": [
    "for t in types:\n",
    "    for p in percentages:\n",
    "        for h in horizons:\n",
    "            results_dict_dtes[\"h=\"+str(h)+\", \"+t+\" \"+str(p)] = full_coding_analysis(Y, forecaster, forecast_horizon=h, coding_type=t, coding_percentage=p)"
   ]
  },
  {
   "cell_type": "code",
   "execution_count": null,
   "id": "26b635d8",
   "metadata": {},
   "outputs": [],
   "source": [
    "results_dict_dtes"
   ]
  },
  {
   "cell_type": "markdown",
   "id": "a28b57cd",
   "metadata": {},
   "source": [
    "***\n",
    "***"
   ]
  },
  {
   "cell_type": "markdown",
   "id": "198300bd",
   "metadata": {},
   "source": [
    "## Ensemble Forecaster"
   ]
  },
  {
   "cell_type": "code",
   "execution_count": null,
   "id": "3a3a8363",
   "metadata": {},
   "outputs": [],
   "source": [
    "ses = ExponentialSmoothing(use_boxcox=False)\n",
    "holt = ExponentialSmoothing(trend=\"additive\", damped_trend=False, use_boxcox=False)\n",
    "damped = ExponentialSmoothing(trend=\"additive\", damped_trend=True, use_boxcox=False)\n",
    "\n",
    "forecaster = TransformedTargetForecaster(\n",
    "    [\n",
    "        (\"deseasonalize\", ConditionalDeseasonalizer(model=\"multiplicative\", sp=52)),\n",
    "        (\"forecast\", EnsembleForecaster(\n",
    "            [\n",
    "                (\"ses\", ses),\n",
    "                (\"holt\", holt),\n",
    "                (\"damped\", damped),\n",
    "            ]\n",
    "        )),\n",
    "    ]\n",
    ")"
   ]
  },
  {
   "cell_type": "markdown",
   "id": "cf6e8328",
   "metadata": {},
   "source": [
    "We obtain results for a combination of forecast horizons, coding types (top and bottom), and coding percentages:\n",
    "\n",
    "* Forecast Horizons: (1, 5, 15)\n",
    "* Coding Types: (Top, Bottom)\n",
    "* Coding Percentages: (0.10, 0.20, 0.40)"
   ]
  },
  {
   "cell_type": "code",
   "execution_count": null,
   "id": "16d5be61",
   "metadata": {},
   "outputs": [],
   "source": [
    "results_dict_ensemble = {}\n",
    "types = [\"Top\", \"Bottom\"]\n",
    "percentages = [0.10, 0.20, 0.40]\n",
    "horizons = [1, 5, 15]"
   ]
  },
  {
   "cell_type": "code",
   "execution_count": null,
   "id": "f859ceeb",
   "metadata": {},
   "outputs": [],
   "source": [
    "for t in types:\n",
    "    for p in percentages:\n",
    "        for h in horizons:\n",
    "            results_dict_ensemble[\"h=\"+str(h)+\", \"+t+\" \"+str(p)] = full_coding_analysis(Y, forecaster, forecast_horizon=h, coding_type=t, coding_percentage=p)"
   ]
  },
  {
   "cell_type": "code",
   "execution_count": null,
   "id": "ccd5cae0",
   "metadata": {},
   "outputs": [],
   "source": [
    "results_dict_ensemble"
   ]
  }
 ],
 "metadata": {
  "kernelspec": {
   "display_name": "Python 3 (ipykernel)",
   "language": "python",
   "name": "python3"
  },
  "language_info": {
   "codemirror_mode": {
    "name": "ipython",
    "version": 3
   },
   "file_extension": ".py",
   "mimetype": "text/x-python",
   "name": "python",
   "nbconvert_exporter": "python",
   "pygments_lexer": "ipython3",
   "version": "3.9.7"
  }
 },
 "nbformat": 4,
 "nbformat_minor": 5
}
