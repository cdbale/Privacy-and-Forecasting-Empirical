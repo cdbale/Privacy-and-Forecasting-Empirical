{
 "cells": [
  {
   "cell_type": "code",
   "execution_count": 21,
   "id": "bce51a89",
   "metadata": {},
   "outputs": [],
   "source": [
    "import pandas as pd\n",
    "import numpy as np\n",
    "from sktime.performance_metrics.forecasting import mean_absolute_error"
   ]
  },
  {
   "cell_type": "markdown",
   "id": "a1f614f5",
   "metadata": {},
   "source": [
    "### Import data - calculate adjustment directions"
   ]
  },
  {
   "cell_type": "code",
   "execution_count": 111,
   "id": "3b1c340b",
   "metadata": {},
   "outputs": [],
   "source": [
    "# import datasets\n",
    "test_data = pd.read_csv(\"../../Outputs/Forecasts/Test_h18.csv\")\n",
    "original_forecasts = pd.read_csv(\"../../Outputs/Forecasts/TES_h18_original.csv\")\n",
    "protected_forecasts = pd.read_csv(\"../../Outputs/Forecasts/TES_h18_Top_0.4.csv\")"
   ]
  },
  {
   "cell_type": "code",
   "execution_count": 94,
   "id": "ad8f60e1",
   "metadata": {},
   "outputs": [],
   "source": [
    "# collapsed_original = pd.concat([row for i, row in original_forecasts.iterrows()], ignore_index=True)\n",
    "# collapsed_protected = pd.concat([row for i, row in protected_forecasts.iterrows()], ignore_index=True)\n",
    "# collapsed_test = pd.concat([row for i, row in test_data.iterrows()], ignore_index=True)"
   ]
  },
  {
   "cell_type": "code",
   "execution_count": 95,
   "id": "0df5db7c",
   "metadata": {},
   "outputs": [],
   "source": [
    "# split into lists\n",
    "test_data = [test_data[col] for col in test_data]\n",
    "original_forecasts = [original_forecasts[col] for col in original_forecasts]\n",
    "protected_forecasts = [protected_forecasts[col] for col in protected_forecasts]"
   ]
  },
  {
   "cell_type": "code",
   "execution_count": 96,
   "id": "456e264d",
   "metadata": {},
   "outputs": [],
   "source": [
    "# booleans for adjustment direction\n",
    "adjusted_up = [protected_forecasts[i] > original_forecasts[i] for i, _ in enumerate(protected_forecasts)]\n",
    "adjusted_down = [protected_forecasts[i] < original_forecasts[i] for i, _ in enumerate(protected_forecasts)]"
   ]
  },
  {
   "cell_type": "markdown",
   "id": "c76efcbe",
   "metadata": {},
   "source": [
    "***"
   ]
  },
  {
   "cell_type": "markdown",
   "id": "764e5697",
   "metadata": {},
   "source": [
    "### Function to Calculate AvgRelMAE"
   ]
  },
  {
   "cell_type": "code",
   "execution_count": 97,
   "id": "a43b158e",
   "metadata": {},
   "outputs": [],
   "source": [
    "def AvgRelMAE(test_series, original_fcasts, protected_fcasts, t):\n",
    "    r = [mean_absolute_error(test_series[i], protected_fcasts[i])/mean_absolute_error(test_series[i], original_fcasts[i]) for i, _ in enumerate(test_series)]\n",
    "    n = [len(j) for i, j in enumerate(protected_fcasts)]\n",
    "    nlogr = [n[i]*np.log(r[i]) for i, _ in enumerate(r)]\n",
    "    # nlogr.sort()\n",
    "    # trim_val = int(t*len(nlogr))\n",
    "    # nlogr = nlogr[trim_val:]\n",
    "    # nlogr = nlogr[:-trim_val]\n",
    "    return (1 - np.exp((1/np.sum(n))*np.sum(nlogr))) * 100"
   ]
  },
  {
   "cell_type": "markdown",
   "id": "c296a039",
   "metadata": {},
   "source": [
    "### Calculate AvgRelMAE for Positive Adjusted Forecasts"
   ]
  },
  {
   "cell_type": "code",
   "execution_count": 98,
   "id": "c4cfb932",
   "metadata": {},
   "outputs": [],
   "source": [
    "test_up = [test_data[i][j] for i, j in enumerate(adjusted_up) if len(test_data[i][j]) > 0]"
   ]
  },
  {
   "cell_type": "code",
   "execution_count": 99,
   "id": "03140df6",
   "metadata": {},
   "outputs": [],
   "source": [
    "orig_up = [original_forecasts[i][j] for i, j in enumerate(adjusted_up) if len(original_forecasts[i][j]) > 0]"
   ]
  },
  {
   "cell_type": "code",
   "execution_count": 100,
   "id": "208b914a",
   "metadata": {},
   "outputs": [],
   "source": [
    "protected_up = [protected_forecasts[i][j] for i, j in enumerate(adjusted_up) if len(protected_forecasts[i][j]) > 0]"
   ]
  },
  {
   "cell_type": "code",
   "execution_count": 101,
   "id": "0a1a333d",
   "metadata": {},
   "outputs": [
    {
     "data": {
      "text/plain": [
       "12.528727872857681"
      ]
     },
     "execution_count": 101,
     "metadata": {},
     "output_type": "execute_result"
    }
   ],
   "source": [
    "AvgRelMAE(test_up, orig_up, protected_up, 0.05)"
   ]
  },
  {
   "cell_type": "markdown",
   "id": "4e56fc81",
   "metadata": {},
   "source": [
    "***"
   ]
  },
  {
   "cell_type": "markdown",
   "id": "33ba3d6d",
   "metadata": {},
   "source": [
    "### Calculate AvgRelMAE for Negative Adjusted Forecasts"
   ]
  },
  {
   "cell_type": "code",
   "execution_count": 102,
   "id": "909a58ef",
   "metadata": {},
   "outputs": [],
   "source": [
    "test_down = [test_data[i][j] for i, j in enumerate(adjusted_down) if len(test_data[i][j]) > 0]"
   ]
  },
  {
   "cell_type": "code",
   "execution_count": 103,
   "id": "2f4cb5b1",
   "metadata": {},
   "outputs": [],
   "source": [
    "orig_down = [original_forecasts[i][j] for i, j in enumerate(adjusted_down) if len(original_forecasts[i][j]) > 0]"
   ]
  },
  {
   "cell_type": "code",
   "execution_count": 104,
   "id": "b07d8719",
   "metadata": {},
   "outputs": [],
   "source": [
    "protected_down = [protected_forecasts[i][j] for i, j in enumerate(adjusted_down) if len(protected_forecasts[i][j]) > 0]"
   ]
  },
  {
   "cell_type": "code",
   "execution_count": 105,
   "id": "a72d5a98",
   "metadata": {},
   "outputs": [
    {
     "data": {
      "text/plain": [
       "11.868049685914862"
      ]
     },
     "execution_count": 105,
     "metadata": {},
     "output_type": "execute_result"
    }
   ],
   "source": [
    "AvgRelMAE(test_down, orig_down, protected_down, 0.05)"
   ]
  },
  {
   "cell_type": "markdown",
   "id": "c427c19d",
   "metadata": {},
   "source": [
    "***"
   ]
  },
  {
   "cell_type": "markdown",
   "id": "0f92725e",
   "metadata": {},
   "source": [
    "### Proportion of Forecasts Adjusted in Either Direction"
   ]
  },
  {
   "cell_type": "code",
   "execution_count": 106,
   "id": "4e4cbdb9",
   "metadata": {},
   "outputs": [
    {
     "data": {
      "text/plain": [
       "0.4098687294889827"
      ]
     },
     "execution_count": 106,
     "metadata": {},
     "output_type": "execute_result"
    }
   ],
   "source": [
    "np.mean(adjusted_up)"
   ]
  },
  {
   "cell_type": "code",
   "execution_count": 107,
   "id": "bf433ea0",
   "metadata": {},
   "outputs": [
    {
     "data": {
      "text/plain": [
       "0.5901312705110173"
      ]
     },
     "execution_count": 107,
     "metadata": {},
     "output_type": "execute_result"
    }
   ],
   "source": [
    "np.mean(adjusted_down)"
   ]
  },
  {
   "cell_type": "markdown",
   "id": "b2ef220e",
   "metadata": {},
   "source": [
    "### Magnitude of Adjustments"
   ]
  },
  {
   "cell_type": "code",
   "execution_count": 108,
   "id": "fa6998de",
   "metadata": {},
   "outputs": [],
   "source": [
    "absolute_size_up = [np.abs(orig_up[i] - protected_up[i]) for i, _ in enumerate(orig_up)]"
   ]
  },
  {
   "cell_type": "code",
   "execution_count": 109,
   "id": "99f71850",
   "metadata": {},
   "outputs": [
    {
     "data": {
      "text/plain": [
       "207.58056656268369"
      ]
     },
     "execution_count": 109,
     "metadata": {},
     "output_type": "execute_result"
    }
   ],
   "source": [
    "np.mean(np.concatenate(absolute_size_up))"
   ]
  },
  {
   "cell_type": "code",
   "execution_count": 110,
   "id": "49860d50",
   "metadata": {},
   "outputs": [
    {
     "name": "stderr",
     "output_type": "stream",
     "text": [
      "C:\\Users\\Cameron\\anaconda3\\lib\\site-packages\\numpy\\core\\_methods.py:163: VisibleDeprecationWarning: Creating an ndarray from ragged nested sequences (which is a list-or-tuple of lists-or-tuples-or ndarrays with different lengths or shapes) is deprecated. If you meant to do this, you must specify 'dtype=object' when creating the ndarray.\n",
      "  arr = asanyarray(a)\n"
     ]
    },
    {
     "data": {
      "text/plain": [
       "array([nan, nan, nan, nan, nan, nan, nan, nan, nan, nan, nan, nan, nan,\n",
       "       nan, nan, nan, nan, nan])"
      ]
     },
     "execution_count": 110,
     "metadata": {},
     "output_type": "execute_result"
    }
   ],
   "source": [
    "np.mean(absolute_size_up)"
   ]
  },
  {
   "cell_type": "code",
   "execution_count": 43,
   "id": "5da5170a",
   "metadata": {},
   "outputs": [],
   "source": [
    "absolute_size_down = [np.mean(np.abs(orig_down[i] - protected_down[i])) for i, _ in enumerate(orig_down)]"
   ]
  },
  {
   "cell_type": "code",
   "execution_count": 44,
   "id": "4cf78cc3",
   "metadata": {},
   "outputs": [
    {
     "data": {
      "text/plain": [
       "234.18409822992004"
      ]
     },
     "execution_count": 44,
     "metadata": {},
     "output_type": "execute_result"
    }
   ],
   "source": [
    "np.mean(absolute_size_down)"
   ]
  },
  {
   "cell_type": "code",
   "execution_count": null,
   "id": "1b4dfa13",
   "metadata": {},
   "outputs": [],
   "source": []
  }
 ],
 "metadata": {
  "kernelspec": {
   "display_name": "Python 3 (ipykernel)",
   "language": "python",
   "name": "python3"
  },
  "language_info": {
   "codemirror_mode": {
    "name": "ipython",
    "version": 3
   },
   "file_extension": ".py",
   "mimetype": "text/x-python",
   "name": "python",
   "nbconvert_exporter": "python",
   "pygments_lexer": "ipython3",
   "version": "3.9.7"
  }
 },
 "nbformat": 4,
 "nbformat_minor": 5
}
