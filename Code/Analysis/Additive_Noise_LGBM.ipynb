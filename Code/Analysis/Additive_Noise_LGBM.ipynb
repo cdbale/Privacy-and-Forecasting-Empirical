{
 "cells": [
  {
   "cell_type": "markdown",
   "id": "0e4052c3",
   "metadata": {},
   "source": [
    "# Examining the Effects of Additive Noise on LGBM Forecast Accuracy"
   ]
  },
  {
   "cell_type": "markdown",
   "id": "7a4bd4c9",
   "metadata": {},
   "source": [
    "***"
   ]
  },
  {
   "cell_type": "code",
   "execution_count": 1,
   "id": "dd558349",
   "metadata": {},
   "outputs": [],
   "source": [
    "# general modules\n",
    "import pandas as pd\n",
    "import numpy as np\n",
    "import lightgbm as lgb\n",
    "\n",
    "##### the `helper_functions.py` file contains many custom functions we wrote to aid in our analysis\n",
    "##### `full_coding_analysis` combines all of the following - train-test split data,\n",
    "##### data protection, train models, compare accuracies, return accuracy results\n",
    "from helper_functions import *"
   ]
  },
  {
   "cell_type": "code",
   "execution_count": 2,
   "id": "053d11e1",
   "metadata": {},
   "outputs": [],
   "source": [
    "# import weekly finance time series\n",
    "Y = np.genfromtxt(\"../../Data/Train/Clean/weekly_finance_clean.csv\", delimiter = ',', skip_header = 1)\n",
    "Y = pd.DataFrame(Y)"
   ]
  },
  {
   "cell_type": "markdown",
   "id": "a2cdca93",
   "metadata": {},
   "source": [
    "***"
   ]
  },
  {
   "cell_type": "code",
   "execution_count": 3,
   "id": "c6ca18f3",
   "metadata": {},
   "outputs": [],
   "source": [
    "forecaster = lgb.LGBMRegressor()\n",
    "window_length=10"
   ]
  },
  {
   "cell_type": "code",
   "execution_count": 4,
   "id": "96460ce3",
   "metadata": {},
   "outputs": [],
   "source": [
    "results_dict_10 = {}\n",
    "num_stdevs = [1, 2]\n",
    "horizons = [1, 5, 15]"
   ]
  },
  {
   "cell_type": "code",
   "execution_count": 5,
   "id": "f1dbcdb1",
   "metadata": {},
   "outputs": [
    {
     "data": {
      "text/plain": [
       "{'% of forecasted points adjusted downward:': 53.900000000000006,\n",
       " '% of forecasted points adjusted upward:': 46.1,\n",
       " '% Series with improved accuracy:': array([20.1, 18.9]),\n",
       " '% Series with worsened accuracy:': array([79.9, 81.1]),\n",
       " '% Series with unchanged accuracy:': array([0., 0.]),\n",
       " '% Change mean global accuracy:': array([-178.2, -158. ]),\n",
       " '% Change median global accuracy:': array([-52.9, -53. ])}"
      ]
     },
     "execution_count": 5,
     "metadata": {},
     "output_type": "execute_result"
    }
   ],
   "source": [
    "full_coding_analysis(time_series_data=Y,\n",
    "                     forecasting_model=forecaster,\n",
    "                     forecast_horizon=10,\n",
    "                     num_stdev=1,\n",
    "                     window_length=window_length)"
   ]
  },
  {
   "cell_type": "code",
   "execution_count": 6,
   "id": "33b06dee",
   "metadata": {},
   "outputs": [],
   "source": [
    "for n in num_stdevs:\n",
    "    for h in horizons:\n",
    "        results_dict_10[\"h=\"+str(h)+\", \"+str(n)+\" stan. devs\"] = full_coding_analysis(time_series_data=Y, \n",
    "                                                                                 forecasting_model=forecaster, \n",
    "                                                                                 forecast_horizon=h,\n",
    "                                                                                 num_stdev=n,\n",
    "                                                                                 window_length=window_length)"
   ]
  },
  {
   "cell_type": "code",
   "execution_count": 7,
   "id": "93202597",
   "metadata": {},
   "outputs": [
    {
     "data": {
      "text/plain": [
       "{'h=1, 1 stan. devs': {'% of forecasted points adjusted downward:': 55.50000000000001,\n",
       "  '% of forecasted points adjusted upward:': 44.5,\n",
       "  '% Series with improved accuracy:': array([18.3, 18.3]),\n",
       "  '% Series with worsened accuracy:': array([81.7, 81.7]),\n",
       "  '% Series with unchanged accuracy:': array([0., 0.]),\n",
       "  '% Change mean global accuracy:': array([-328.9, -328.9]),\n",
       "  '% Change median global accuracy:': array([-214.8, -214.8])},\n",
       " 'h=5, 1 stan. devs': {'% of forecasted points adjusted downward:': 54.800000000000004,\n",
       "  '% of forecasted points adjusted upward:': 45.2,\n",
       "  '% Series with improved accuracy:': array([18.3, 16.5]),\n",
       "  '% Series with worsened accuracy:': array([81.7, 83.5]),\n",
       "  '% Series with unchanged accuracy:': array([0., 0.]),\n",
       "  '% Change mean global accuracy:': array([-273.8, -245.5]),\n",
       "  '% Change median global accuracy:': array([-176.7, -156.2])},\n",
       " 'h=15, 1 stan. devs': {'% of forecasted points adjusted downward:': 48.3,\n",
       "  '% of forecasted points adjusted upward:': 51.7,\n",
       "  '% Series with improved accuracy:': array([20.1, 19.5]),\n",
       "  '% Series with worsened accuracy:': array([79.9, 80.5]),\n",
       "  '% Series with unchanged accuracy:': array([0., 0.]),\n",
       "  '% Change mean global accuracy:': array([-173.9, -149.6]),\n",
       "  '% Change median global accuracy:': array([-67.3, -55.7])},\n",
       " 'h=1, 2 stan. devs': {'% of forecasted points adjusted downward:': 48.8,\n",
       "  '% of forecasted points adjusted upward:': 51.2,\n",
       "  '% Series with improved accuracy:': array([9.8, 9.8]),\n",
       "  '% Series with worsened accuracy:': array([90.2, 90.2]),\n",
       "  '% Series with unchanged accuracy:': array([0., 0.]),\n",
       "  '% Change mean global accuracy:': array([-980.2, -980.2]),\n",
       "  '% Change median global accuracy:': array([-593.3, -593.3])},\n",
       " 'h=5, 2 stan. devs': {'% of forecasted points adjusted downward:': 43.2,\n",
       "  '% of forecasted points adjusted upward:': 56.8,\n",
       "  '% Series with improved accuracy:': array([6.1, 5.5]),\n",
       "  '% Series with worsened accuracy:': array([93.9, 94.5]),\n",
       "  '% Series with unchanged accuracy:': array([0., 0.]),\n",
       "  '% Change mean global accuracy:': array([-899.5, -796.7]),\n",
       "  '% Change median global accuracy:': array([-392.7, -358.1])},\n",
       " 'h=15, 2 stan. devs': {'% of forecasted points adjusted downward:': 40.300000000000004,\n",
       "  '% of forecasted points adjusted upward:': 59.699999999999996,\n",
       "  '% Series with improved accuracy:': array([13.4, 11.6]),\n",
       "  '% Series with worsened accuracy:': array([86.6, 88.4]),\n",
       "  '% Series with unchanged accuracy:': array([0., 0.]),\n",
       "  '% Change mean global accuracy:': array([-534.7, -458.5]),\n",
       "  '% Change median global accuracy:': array([-150.9, -128.7])}}"
      ]
     },
     "execution_count": 7,
     "metadata": {},
     "output_type": "execute_result"
    }
   ],
   "source": [
    "results_dict_10"
   ]
  }
 ],
 "metadata": {
  "kernelspec": {
   "display_name": "Python 3 (ipykernel)",
   "language": "python",
   "name": "python3"
  },
  "language_info": {
   "codemirror_mode": {
    "name": "ipython",
    "version": 3
   },
   "file_extension": ".py",
   "mimetype": "text/x-python",
   "name": "python",
   "nbconvert_exporter": "python",
   "pygments_lexer": "ipython3",
   "version": "3.9.7"
  }
 },
 "nbformat": 4,
 "nbformat_minor": 5
}
