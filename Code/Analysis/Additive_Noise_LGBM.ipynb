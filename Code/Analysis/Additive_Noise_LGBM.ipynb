{
 "cells": [
  {
   "cell_type": "markdown",
   "id": "0e4052c3",
   "metadata": {},
   "source": [
    "# Examining the Effects of Additive Noise on LGBM Forecast Accuracy"
   ]
  },
  {
   "cell_type": "markdown",
   "id": "7a4bd4c9",
   "metadata": {},
   "source": [
    "***"
   ]
  },
  {
   "cell_type": "code",
   "execution_count": 1,
   "id": "dd558349",
   "metadata": {},
   "outputs": [],
   "source": [
    "# general modules\n",
    "import pandas as pd\n",
    "import numpy as np\n",
    "import lightgbm as lgb\n",
    "\n",
    "##### the `helper_functions.py` file contains many custom functions we wrote to aid in our analysis\n",
    "##### `full_coding_analysis` combines all of the following - train-test split data,\n",
    "##### data protection, train models, compare accuracies, return accuracy results\n",
    "from helper_functions import *"
   ]
  },
  {
   "cell_type": "code",
   "execution_count": 2,
   "id": "053d11e1",
   "metadata": {},
   "outputs": [],
   "source": [
    "# import weekly finance time series\n",
    "Y = np.genfromtxt(\"../../Data/Train/Clean/weekly_finance_clean.csv\", delimiter = ',', skip_header = 1)\n",
    "Y = pd.DataFrame(Y)"
   ]
  },
  {
   "cell_type": "markdown",
   "id": "a2cdca93",
   "metadata": {},
   "source": [
    "***"
   ]
  },
  {
   "cell_type": "code",
   "execution_count": 3,
   "id": "c6ca18f3",
   "metadata": {},
   "outputs": [],
   "source": [
    "forecaster = lgb.LGBMRegressor()\n",
    "window_length=10"
   ]
  },
  {
   "cell_type": "code",
   "execution_count": 4,
   "id": "96460ce3",
   "metadata": {},
   "outputs": [],
   "source": [
    "results_dict_10 = {}\n",
    "num_stdevs = [1, 2]\n",
    "horizons = [1, 5, 15]"
   ]
  },
  {
   "cell_type": "code",
   "execution_count": 5,
   "id": "f1dbcdb1",
   "metadata": {},
   "outputs": [
    {
     "data": {
      "text/plain": [
       "{'% of forecasted points adjusted downward:': 55.400000000000006,\n",
       " '% of forecasted points adjusted upward:': 44.6,\n",
       " '% Series with improved accuracy:': array([22.6, 18.9]),\n",
       " '% Series with worsened accuracy:': array([77.4, 81.1]),\n",
       " '% Series with unchanged accuracy:': array([0., 0.]),\n",
       " '% Change mean global accuracy:': array([-187.7, -165.2]),\n",
       " '% Change median global accuracy:': array([-69.9, -74.4])}"
      ]
     },
     "execution_count": 5,
     "metadata": {},
     "output_type": "execute_result"
    }
   ],
   "source": [
    "full_coding_analysis(time_series_data=Y,\n",
    "                     forecasting_model=forecaster,\n",
    "                     forecast_horizon=10,\n",
    "                     num_stdev=1,\n",
    "                     window_length=window_length)"
   ]
  },
  {
   "cell_type": "code",
   "execution_count": 6,
   "id": "33b06dee",
   "metadata": {},
   "outputs": [],
   "source": [
    "for n in num_stdevs:\n",
    "    for h in horizons:\n",
    "        results_dict_10[\"h=\"+str(h)+\", \"+str(n)+\" stan. devs\"] = full_coding_analysis(time_series_data=Y, \n",
    "                                                                                 forecasting_model=forecaster, \n",
    "                                                                                 forecast_horizon=h,\n",
    "                                                                                 num_stdev=n,\n",
    "                                                                                 window_length=window_length)"
   ]
  },
  {
   "cell_type": "code",
   "execution_count": 7,
   "id": "93202597",
   "metadata": {},
   "outputs": [
    {
     "data": {
      "text/plain": [
       "{'h=1, 1 stan. devs': {'% of forecasted points adjusted downward:': 52.400000000000006,\n",
       "  '% of forecasted points adjusted upward:': 47.599999999999994,\n",
       "  '% Series with improved accuracy:': array([20.7, 20.7]),\n",
       "  '% Series with worsened accuracy:': array([79.3, 79.3]),\n",
       "  '% Series with unchanged accuracy:': array([0., 0.]),\n",
       "  '% Change mean global accuracy:': array([-301.6, -301.6]),\n",
       "  '% Change median global accuracy:': array([-200.1, -200.1])},\n",
       " 'h=5, 1 stan. devs': {'% of forecasted points adjusted downward:': 50.0,\n",
       "  '% of forecasted points adjusted upward:': 50.0,\n",
       "  '% Series with improved accuracy:': array([14. , 12.2]),\n",
       "  '% Series with worsened accuracy:': array([86. , 87.8]),\n",
       "  '% Series with unchanged accuracy:': array([0., 0.]),\n",
       "  '% Change mean global accuracy:': array([-284. , -254.9]),\n",
       "  '% Change median global accuracy:': array([-193.1, -166.5])},\n",
       " 'h=15, 1 stan. devs': {'% of forecasted points adjusted downward:': 50.0,\n",
       "  '% of forecasted points adjusted upward:': 50.0,\n",
       "  '% Series with improved accuracy:': array([22. , 21.3]),\n",
       "  '% Series with worsened accuracy:': array([78. , 78.7]),\n",
       "  '% Series with unchanged accuracy:': array([0., 0.]),\n",
       "  '% Change mean global accuracy:': array([-179.3, -153.7]),\n",
       "  '% Change median global accuracy:': array([-66.4, -59.8])},\n",
       " 'h=1, 2 stan. devs': {'% of forecasted points adjusted downward:': 39.6,\n",
       "  '% of forecasted points adjusted upward:': 60.4,\n",
       "  '% Series with improved accuracy:': array([11., 11.]),\n",
       "  '% Series with worsened accuracy:': array([89., 89.]),\n",
       "  '% Series with unchanged accuracy:': array([0., 0.]),\n",
       "  '% Change mean global accuracy:': array([-1062.6, -1062.6]),\n",
       "  '% Change median global accuracy:': array([-596.7, -596.7])},\n",
       " 'h=5, 2 stan. devs': {'% of forecasted points adjusted downward:': 47.099999999999994,\n",
       "  '% of forecasted points adjusted upward:': 52.900000000000006,\n",
       "  '% Series with improved accuracy:': array([6.1, 7.9]),\n",
       "  '% Series with worsened accuracy:': array([93.9, 92.1]),\n",
       "  '% Series with unchanged accuracy:': array([0., 0.]),\n",
       "  '% Change mean global accuracy:': array([-889. , -787.1]),\n",
       "  '% Change median global accuracy:': array([-413.7, -384.2])},\n",
       " 'h=15, 2 stan. devs': {'% of forecasted points adjusted downward:': 44.7,\n",
       "  '% of forecasted points adjusted upward:': 55.300000000000004,\n",
       "  '% Series with improved accuracy:': array([10.4, 11.6]),\n",
       "  '% Series with worsened accuracy:': array([89.6, 88.4]),\n",
       "  '% Series with unchanged accuracy:': array([0., 0.]),\n",
       "  '% Change mean global accuracy:': array([-552.3, -473.7]),\n",
       "  '% Change median global accuracy:': array([-170.8, -141.8])}}"
      ]
     },
     "execution_count": 7,
     "metadata": {},
     "output_type": "execute_result"
    }
   ],
   "source": [
    "results_dict_10"
   ]
  }
 ],
 "metadata": {
  "kernelspec": {
   "display_name": "Python 3 (ipykernel)",
   "language": "python",
   "name": "python3"
  },
  "language_info": {
   "codemirror_mode": {
    "name": "ipython",
    "version": 3
   },
   "file_extension": ".py",
   "mimetype": "text/x-python",
   "name": "python",
   "nbconvert_exporter": "python",
   "pygments_lexer": "ipython3",
   "version": "3.9.7"
  }
 },
 "nbformat": 4,
 "nbformat_minor": 5
}
