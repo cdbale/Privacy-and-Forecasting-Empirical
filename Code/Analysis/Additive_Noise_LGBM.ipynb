{
 "cells": [
  {
   "cell_type": "markdown",
   "id": "0e4052c3",
   "metadata": {},
   "source": [
    "# Examining the Effects of Additive Noise on LGBM Forecast Accuracy"
   ]
  },
  {
   "cell_type": "markdown",
   "id": "7a4bd4c9",
   "metadata": {},
   "source": [
    "***"
   ]
  },
  {
   "cell_type": "code",
   "execution_count": 1,
   "id": "dd558349",
   "metadata": {},
   "outputs": [],
   "source": [
    "# general modules\n",
    "import pandas as pd\n",
    "import numpy as np\n",
    "import lightgbm as lgb\n",
    "\n",
    "##### the `helper_functions.py` file contains many custom functions we wrote to aid in our analysis\n",
    "##### `full_coding_analysis` combines all of the following - train-test split data,\n",
    "##### data protection, train models, compare accuracies, return accuracy results\n",
    "from helper_functions import *"
   ]
  },
  {
   "cell_type": "code",
   "execution_count": 2,
   "id": "053d11e1",
   "metadata": {},
   "outputs": [],
   "source": [
    "# import weekly finance time series\n",
    "Y = np.genfromtxt(\"../../Data/Train/Clean/weekly_finance_clean.csv\", delimiter = ',', skip_header = 1)\n",
    "Y = pd.DataFrame(Y)"
   ]
  },
  {
   "cell_type": "markdown",
   "id": "a2cdca93",
   "metadata": {},
   "source": [
    "***"
   ]
  },
  {
   "cell_type": "markdown",
   "id": "693a5968",
   "metadata": {},
   "source": [
    "## Simple Model (window length = 10)"
   ]
  },
  {
   "cell_type": "code",
   "execution_count": 3,
   "id": "c6ca18f3",
   "metadata": {},
   "outputs": [],
   "source": [
    "forecaster = lgb.LGBMRegressor()\n",
    "window_length=10"
   ]
  },
  {
   "cell_type": "code",
   "execution_count": 4,
   "id": "96460ce3",
   "metadata": {},
   "outputs": [],
   "source": [
    "results_dict_10 = {}\n",
    "fcasts_10 = {}\n",
    "fcasts_protected_10 = {}\n",
    "tests = {}\n",
    "num_stdevs = [1, 2]\n",
    "horizons = [1, 20]"
   ]
  },
  {
   "cell_type": "code",
   "execution_count": 5,
   "id": "33b06dee",
   "metadata": {},
   "outputs": [],
   "source": [
    "for n in num_stdevs:\n",
    "    for h in horizons:\n",
    "        idx = \"h=\"+str(h)+\", \"+str(n)+\" stan. devs\"\n",
    "        results_dict_10[idx], tests[idx], fcasts_10[idx], fcasts_protected_10[idx] = full_coding_analysis(time_series_data=Y, \n",
    "                                                                                                          forecasting_model=forecaster, \n",
    "                                                                                                          forecast_horizon=h,\n",
    "                                                                                                          num_stdev=n,\n",
    "                                                                                                          window_length=window_length)"
   ]
  },
  {
   "cell_type": "code",
   "execution_count": 6,
   "id": "93202597",
   "metadata": {},
   "outputs": [
    {
     "data": {
      "text/plain": [
       "{'h=1, 1 stan. devs': {'Mean Accuracies': array([3.12, 3.12]),\n",
       "  'Protected Mean Accuracies:': array([13.81, 13.81]),\n",
       "  '% Change Mean accuracy:': array([-342.44, -342.44]),\n",
       "  '% Change Median accuracy:': array([-255.15, -255.15]),\n",
       "  '% Forecasted Points adjusted downward:': 53.66,\n",
       "  '% Forecasted Points adjusted upward:': 46.339999999999996,\n",
       "  '% Series with improved accuracy:': array([21.34, 21.34]),\n",
       "  '% Series with reduced accuracy:': array([78.66, 78.66]),\n",
       "  'Original Mean Absolute Error Upward Adjusted:': 4.42,\n",
       "  'Original Mean Absolute Error Downward Adjusted:': 2.0,\n",
       "  'Protected Mean Absolute Error Upward Adjusted:': 23.23,\n",
       "  'Protected Mean Absolute Error Downward Adjusted:': 5.67},\n",
       " 'h=20, 1 stan. devs': {'Mean Accuracies': array([5.1 , 6.08]),\n",
       "  'Protected Mean Accuracies:': array([14.86, 15.72]),\n",
       "  '% Change Mean accuracy:': array([-191.03, -158.34]),\n",
       "  '% Change Median accuracy:': array([-53.85, -49.09]),\n",
       "  '% Forecasted Points adjusted downward:': 54.48,\n",
       "  '% Forecasted Points adjusted upward:': 45.519999999999996,\n",
       "  '% Series with improved accuracy:': array([17.68, 18.9 ]),\n",
       "  '% Series with reduced accuracy:': array([82.32, 81.1 ]),\n",
       "  'Original Mean Absolute Error Upward Adjusted:': 6.04,\n",
       "  'Original Mean Absolute Error Downward Adjusted:': 4.32,\n",
       "  'Protected Mean Absolute Error Upward Adjusted:': 23.89,\n",
       "  'Protected Mean Absolute Error Downward Adjusted:': 7.31},\n",
       " 'h=1, 2 stan. devs': {'Mean Accuracies': array([3.12, 3.12]),\n",
       "  'Protected Mean Accuracies:': array([34.87, 34.87]),\n",
       "  '% Change Mean accuracy:': array([-1017.29, -1017.29]),\n",
       "  '% Change Median accuracy:': array([-532.52, -532.52]),\n",
       "  '% Forecasted Points adjusted downward:': 42.07,\n",
       "  '% Forecasted Points adjusted upward:': 57.93000000000001,\n",
       "  '% Series with improved accuracy:': array([15.24, 15.24]),\n",
       "  '% Series with reduced accuracy:': array([84.76, 84.76]),\n",
       "  'Original Mean Absolute Error Upward Adjusted:': 4.29,\n",
       "  'Original Mean Absolute Error Downward Adjusted:': 1.51,\n",
       "  'Protected Mean Absolute Error Upward Adjusted:': 56.57,\n",
       "  'Protected Mean Absolute Error Downward Adjusted:': 4.99},\n",
       " 'h=20, 2 stan. devs': {'Mean Accuracies': array([5.1 , 6.08]),\n",
       "  'Protected Mean Accuracies:': array([34.42, 34.94]),\n",
       "  '% Change Mean accuracy:': array([-574.35, -474.3 ]),\n",
       "  '% Change Median accuracy:': array([-187.39, -151.05]),\n",
       "  '% Forecasted Points adjusted downward:': 43.69,\n",
       "  '% Forecasted Points adjusted upward:': 56.31,\n",
       "  '% Series with improved accuracy:': array([9.15, 9.15]),\n",
       "  '% Series with reduced accuracy:': array([90.85, 90.85]),\n",
       "  'Original Mean Absolute Error Upward Adjusted:': 6.52,\n",
       "  'Original Mean Absolute Error Downward Adjusted:': 3.27,\n",
       "  'Protected Mean Absolute Error Upward Adjusted:': 55.730000000000004,\n",
       "  'Protected Mean Absolute Error Downward Adjusted:': 6.959999999999999}}"
      ]
     },
     "execution_count": 6,
     "metadata": {},
     "output_type": "execute_result"
    }
   ],
   "source": [
    "results_dict_10"
   ]
  },
  {
   "cell_type": "markdown",
   "id": "92ee4971",
   "metadata": {},
   "source": [
    "***\n",
    "***"
   ]
  },
  {
   "cell_type": "markdown",
   "id": "31b5ceaa",
   "metadata": {},
   "source": [
    "## 'Medium' Model (window length = 20)"
   ]
  },
  {
   "cell_type": "code",
   "execution_count": 7,
   "id": "b90008b5",
   "metadata": {},
   "outputs": [],
   "source": [
    "forecaster = lgb.LGBMRegressor()\n",
    "window_length = 20"
   ]
  },
  {
   "cell_type": "code",
   "execution_count": 8,
   "id": "d97db584",
   "metadata": {},
   "outputs": [],
   "source": [
    "results_dict_20 = {}\n",
    "fcasts_20 = {}\n",
    "fcasts_protected_20 = {}\n",
    "tests = {}\n",
    "num_stdevs = [1, 2]\n",
    "horizons = [1, 20]"
   ]
  },
  {
   "cell_type": "code",
   "execution_count": 9,
   "id": "3c10841a",
   "metadata": {},
   "outputs": [],
   "source": [
    "for n in num_stdevs:\n",
    "    for h in horizons:\n",
    "        idx = \"h=\"+str(h)+\", \"+str(n)+\" stan. devs\"\n",
    "        results_dict_20[idx], tests[idx], fcasts_20[idx], fcasts_protected_20[idx] = full_coding_analysis(time_series_data=Y, \n",
    "                                                                                                          forecasting_model=forecaster, \n",
    "                                                                                                          forecast_horizon=h,\n",
    "                                                                                                          num_stdev=n,\n",
    "                                                                                                          window_length=window_length)"
   ]
  },
  {
   "cell_type": "code",
   "execution_count": 10,
   "id": "f34e8433",
   "metadata": {},
   "outputs": [
    {
     "data": {
      "text/plain": [
       "{'h=1, 1 stan. devs': {'Mean Accuracies': array([3.05, 3.05]),\n",
       "  'Protected Mean Accuracies:': array([12.02, 12.02]),\n",
       "  '% Change Mean accuracy:': array([-294., -294.]),\n",
       "  '% Change Median accuracy:': array([-208.06, -208.06]),\n",
       "  '% Forecasted Points adjusted downward:': 48.17,\n",
       "  '% Forecasted Points adjusted upward:': 51.83,\n",
       "  '% Series with improved accuracy:': array([21.95, 21.95]),\n",
       "  '% Series with reduced accuracy:': array([78.05, 78.05]),\n",
       "  'Original Mean Absolute Error Upward Adjusted:': 4.07,\n",
       "  'Original Mean Absolute Error Downward Adjusted:': 1.96,\n",
       "  'Protected Mean Absolute Error Upward Adjusted:': 18.66,\n",
       "  'Protected Mean Absolute Error Downward Adjusted:': 4.88},\n",
       " 'h=20, 1 stan. devs': {'Mean Accuracies': array([5.49, 6.49]),\n",
       "  'Protected Mean Accuracies:': array([14.07, 14.92]),\n",
       "  '% Change Mean accuracy:': array([-156.6 , -129.85]),\n",
       "  '% Change Median accuracy:': array([-55.79, -53.  ]),\n",
       "  '% Forecasted Points adjusted downward:': 48.78,\n",
       "  '% Forecasted Points adjusted upward:': 51.22,\n",
       "  '% Series with improved accuracy:': array([20.73, 23.78]),\n",
       "  '% Series with reduced accuracy:': array([79.27, 76.22]),\n",
       "  'Original Mean Absolute Error Upward Adjusted:': 6.47,\n",
       "  'Original Mean Absolute Error Downward Adjusted:': 4.45,\n",
       "  'Protected Mean Absolute Error Upward Adjusted:': 20.599999999999998,\n",
       "  'Protected Mean Absolute Error Downward Adjusted:': 7.23},\n",
       " 'h=1, 2 stan. devs': {'Mean Accuracies': array([3.05, 3.05]),\n",
       "  'Protected Mean Accuracies:': array([34.94, 34.94]),\n",
       "  '% Change Mean accuracy:': array([-1045.13, -1045.13]),\n",
       "  '% Change Median accuracy:': array([-464.65, -464.65]),\n",
       "  '% Forecasted Points adjusted downward:': 43.9,\n",
       "  '% Forecasted Points adjusted upward:': 56.10000000000001,\n",
       "  '% Series with improved accuracy:': array([10.98, 10.98]),\n",
       "  '% Series with reduced accuracy:': array([89.02, 89.02]),\n",
       "  'Original Mean Absolute Error Upward Adjusted:': 3.9,\n",
       "  'Original Mean Absolute Error Downward Adjusted:': 1.96,\n",
       "  'Protected Mean Absolute Error Upward Adjusted:': 57.720000000000006,\n",
       "  'Protected Mean Absolute Error Downward Adjusted:': 5.84},\n",
       " 'h=20, 2 stan. devs': {'Mean Accuracies': array([5.49, 6.49]),\n",
       "  'Protected Mean Accuracies:': array([35.83, 36.45]),\n",
       "  '% Change Mean accuracy:': array([-553.16, -461.68]),\n",
       "  '% Change Median accuracy:': array([-203.72, -177.71]),\n",
       "  '% Forecasted Points adjusted downward:': 42.65,\n",
       "  '% Forecasted Points adjusted upward:': 57.35,\n",
       "  '% Series with improved accuracy:': array([9.15, 9.76]),\n",
       "  '% Series with reduced accuracy:': array([90.85, 90.24]),\n",
       "  'Original Mean Absolute Error Upward Adjusted:': 6.890000000000001,\n",
       "  'Original Mean Absolute Error Downward Adjusted:': 3.5999999999999996,\n",
       "  'Protected Mean Absolute Error Upward Adjusted:': 56.86,\n",
       "  'Protected Mean Absolute Error Downward Adjusted:': 7.55}}"
      ]
     },
     "execution_count": 10,
     "metadata": {},
     "output_type": "execute_result"
    }
   ],
   "source": [
    "results_dict_20"
   ]
  },
  {
   "cell_type": "markdown",
   "id": "16949b2b",
   "metadata": {},
   "source": [
    "***\n",
    "***"
   ]
  },
  {
   "cell_type": "markdown",
   "id": "06e14070",
   "metadata": {},
   "source": [
    "## Complex Model (window length = 40)"
   ]
  },
  {
   "cell_type": "code",
   "execution_count": 11,
   "id": "0068a8a0",
   "metadata": {},
   "outputs": [],
   "source": [
    "forecaster = lgb.LGBMRegressor()\n",
    "window_length = 40"
   ]
  },
  {
   "cell_type": "code",
   "execution_count": 12,
   "id": "865f9c69",
   "metadata": {},
   "outputs": [],
   "source": [
    "results_dict_40 = {}\n",
    "fcasts_40 = {}\n",
    "fcasts_protected_40 = {}\n",
    "tests = {}\n",
    "num_stdevs = [1, 2]\n",
    "horizons = [1, 20]"
   ]
  },
  {
   "cell_type": "code",
   "execution_count": 13,
   "id": "98c813f9",
   "metadata": {},
   "outputs": [],
   "source": [
    "for n in num_stdevs:\n",
    "    for h in horizons:\n",
    "        idx = \"h=\"+str(h)+\", \"+str(n)+\" stan. devs\"\n",
    "        results_dict_40[idx], tests[idx], fcasts_40[idx], fcasts_protected_40[idx] = full_coding_analysis(time_series_data=Y, \n",
    "                                                                                                          forecasting_model=forecaster, \n",
    "                                                                                                          forecast_horizon=h,\n",
    "                                                                                                          num_stdev=n,\n",
    "                                                                                                          window_length=window_length)"
   ]
  },
  {
   "cell_type": "code",
   "execution_count": 14,
   "id": "b8747d6b",
   "metadata": {},
   "outputs": [
    {
     "data": {
      "text/plain": [
       "{'h=1, 1 stan. devs': {'Mean Accuracies': array([2.79, 2.79]),\n",
       "  'Protected Mean Accuracies:': array([12.13, 12.13]),\n",
       "  '% Change Mean accuracy:': array([-334.95, -334.95]),\n",
       "  '% Change Median accuracy:': array([-157.41, -157.41]),\n",
       "  '% Forecasted Points adjusted downward:': 48.78,\n",
       "  '% Forecasted Points adjusted upward:': 51.22,\n",
       "  '% Series with improved accuracy:': array([21.34, 21.34]),\n",
       "  '% Series with reduced accuracy:': array([78.66, 78.66]),\n",
       "  'Original Mean Absolute Error Upward Adjusted:': 3.29,\n",
       "  'Original Mean Absolute Error Downward Adjusted:': 2.26,\n",
       "  'Protected Mean Absolute Error Upward Adjusted:': 17.76,\n",
       "  'Protected Mean Absolute Error Downward Adjusted:': 6.21},\n",
       " 'h=20, 1 stan. devs': {'Mean Accuracies': array([7.01, 8.01]),\n",
       "  'Protected Mean Accuracies:': array([15.05, 15.94]),\n",
       "  '% Change Mean accuracy:': array([-114.77,  -98.96]),\n",
       "  '% Change Median accuracy:': array([-71.45, -54.3 ]),\n",
       "  '% Forecasted Points adjusted downward:': 50.849999999999994,\n",
       "  '% Forecasted Points adjusted upward:': 49.15,\n",
       "  '% Series with improved accuracy:': array([20.73, 22.56]),\n",
       "  '% Series with reduced accuracy:': array([79.27, 77.44]),\n",
       "  'Original Mean Absolute Error Upward Adjusted:': 8.01,\n",
       "  'Original Mean Absolute Error Downward Adjusted:': 6.04,\n",
       "  'Protected Mean Absolute Error Upward Adjusted:': 20.75,\n",
       "  'Protected Mean Absolute Error Downward Adjusted:': 9.54},\n",
       " 'h=1, 2 stan. devs': {'Mean Accuracies': array([2.79, 2.79]),\n",
       "  'Protected Mean Accuracies:': array([36.79, 36.79]),\n",
       "  '% Change Mean accuracy:': array([-1219.45, -1219.45]),\n",
       "  '% Change Median accuracy:': array([-814.83, -814.83]),\n",
       "  '% Forecasted Points adjusted downward:': 40.849999999999994,\n",
       "  '% Forecasted Points adjusted upward:': 59.150000000000006,\n",
       "  '% Series with improved accuracy:': array([10.98, 10.98]),\n",
       "  '% Series with reduced accuracy:': array([89.02, 89.02]),\n",
       "  'Original Mean Absolute Error Upward Adjusted:': 3.61,\n",
       "  'Original Mean Absolute Error Downward Adjusted:': 1.59,\n",
       "  'Protected Mean Absolute Error Upward Adjusted:': 57.95,\n",
       "  'Protected Mean Absolute Error Downward Adjusted:': 6.140000000000001},\n",
       " 'h=20, 2 stan. devs': {'Mean Accuracies': array([7.01, 8.01]),\n",
       "  'Protected Mean Accuracies:': array([35.83, 36.48]),\n",
       "  '% Change Mean accuracy:': array([-411.32, -355.26]),\n",
       "  '% Change Median accuracy:': array([-216.91, -188.59]),\n",
       "  '% Forecasted Points adjusted downward:': 43.78,\n",
       "  '% Forecasted Points adjusted upward:': 56.220000000000006,\n",
       "  '% Series with improved accuracy:': array([10.98,  8.54]),\n",
       "  '% Series with reduced accuracy:': array([89.02, 91.46]),\n",
       "  'Original Mean Absolute Error Upward Adjusted:': 8.99,\n",
       "  'Original Mean Absolute Error Downward Adjusted:': 4.46,\n",
       "  'Protected Mean Absolute Error Upward Adjusted:': 56.46,\n",
       "  'Protected Mean Absolute Error Downward Adjusted:': 9.33}}"
      ]
     },
     "execution_count": 14,
     "metadata": {},
     "output_type": "execute_result"
    }
   ],
   "source": [
    "results_dict_40"
   ]
  }
 ],
 "metadata": {
  "kernelspec": {
   "display_name": "Python 3 (ipykernel)",
   "language": "python",
   "name": "python3"
  },
  "language_info": {
   "codemirror_mode": {
    "name": "ipython",
    "version": 3
   },
   "file_extension": ".py",
   "mimetype": "text/x-python",
   "name": "python",
   "nbconvert_exporter": "python",
   "pygments_lexer": "ipython3",
   "version": "3.9.7"
  }
 },
 "nbformat": 4,
 "nbformat_minor": 5
}
