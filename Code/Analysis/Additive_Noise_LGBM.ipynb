{
 "cells": [
  {
   "cell_type": "markdown",
   "id": "0e4052c3",
   "metadata": {},
   "source": [
    "# Examining the Effects of Additive Noise on LGBM Forecast Accuracy"
   ]
  },
  {
   "cell_type": "markdown",
   "id": "7a4bd4c9",
   "metadata": {},
   "source": [
    "***"
   ]
  },
  {
   "cell_type": "code",
   "execution_count": 1,
   "id": "dd558349",
   "metadata": {},
   "outputs": [],
   "source": [
    "# general modules\n",
    "import pandas as pd\n",
    "import numpy as np\n",
    "import lightgbm as lgb\n",
    "\n",
    "##### the `helper_functions.py` file contains many custom functions we wrote to aid in our analysis\n",
    "##### `full_coding_analysis` combines all of the following - train-test split data,\n",
    "##### data protection, train models, compare accuracies, return accuracy results\n",
    "from helper_functions import *"
   ]
  },
  {
   "cell_type": "code",
   "execution_count": 2,
   "id": "053d11e1",
   "metadata": {},
   "outputs": [],
   "source": [
    "# import weekly finance time series\n",
    "Y = np.genfromtxt(\"../../Data/Train/Clean/weekly_finance_clean.csv\", delimiter = ',', skip_header = 1)\n",
    "Y = pd.DataFrame(Y)"
   ]
  },
  {
   "cell_type": "code",
   "execution_count": 3,
   "id": "7cdb11c7",
   "metadata": {},
   "outputs": [],
   "source": [
    "# detrender = Detrender()\n",
    "# detrended_series = [detrender.fit_transform(series) for _ , series in Y.iterrows()]\n",
    "# detrended_series = [i+np.abs(np.min(i))+1.0 for i in detrended_series]\n",
    "# Y = pd.concat(detrended_series, axis=1).T"
   ]
  },
  {
   "cell_type": "markdown",
   "id": "a2cdca93",
   "metadata": {},
   "source": [
    "***"
   ]
  },
  {
   "cell_type": "markdown",
   "id": "693a5968",
   "metadata": {},
   "source": [
    "## Simple Model (window length = 10)"
   ]
  },
  {
   "cell_type": "code",
   "execution_count": 4,
   "id": "c6ca18f3",
   "metadata": {},
   "outputs": [],
   "source": [
    "forecaster = lgb.LGBMRegressor()\n",
    "window_length=10"
   ]
  },
  {
   "cell_type": "code",
   "execution_count": 5,
   "id": "96460ce3",
   "metadata": {},
   "outputs": [],
   "source": [
    "results_dict_10 = {}\n",
    "fcasts_10 = {}\n",
    "fcasts_protected_10 = {}\n",
    "tests = {}\n",
    "num_stdevs = [1, 2]\n",
    "horizons = [1, 20]"
   ]
  },
  {
   "cell_type": "code",
   "execution_count": 6,
   "id": "33b06dee",
   "metadata": {},
   "outputs": [],
   "source": [
    "for n in num_stdevs:\n",
    "    for h in horizons:\n",
    "        idx = \"h=\"+str(h)+\", \"+str(n)+\" stan. devs\"\n",
    "        results_dict_10[idx], tests[idx], fcasts_10[idx], fcasts_protected_10[idx] = full_coding_analysis(time_series_data=Y, \n",
    "                                                                                                          forecasting_model=forecaster, \n",
    "                                                                                                          forecast_horizon=h,\n",
    "                                                                                                          num_stdev=n,\n",
    "                                                                                                          window_length=window_length)"
   ]
  },
  {
   "cell_type": "code",
   "execution_count": 7,
   "id": "93202597",
   "metadata": {},
   "outputs": [
    {
     "data": {
      "text/plain": [
       "{'h=1, 1 stan. devs': {'Mean Accuracies': array([0.0312, 0.0312]),\n",
       "  'Protected Mean Accuracies:': array([0.1432, 0.1432]),\n",
       "  '% Change Mean accuracy:': array([-3.5877, -3.5877]),\n",
       "  '% Change Median accuracy:': array([-1.9138, -1.9138]),\n",
       "  '% Forecasted Points adjusted downward:': 0.4634,\n",
       "  '% Forecasted Points adjusted upward:': 0.5366,\n",
       "  '% Series with improved accuracy:': array([0.1707, 0.1707]),\n",
       "  '% Series with reduced accuracy:': array([0.8293, 0.8293]),\n",
       "  'Original Mean Absolute Error Upward Adjusted:': 0.0377,\n",
       "  'Original Mean Absolute Error Downward Adjusted:': 0.0237,\n",
       "  'Protected Mean Absolute Error Upward Adjusted:': 0.2241,\n",
       "  'Protected Mean Absolute Error Downward Adjusted:': 0.0495},\n",
       " 'h=20, 1 stan. devs': {'Mean Accuracies': array([0.051 , 0.0608]),\n",
       "  'Protected Mean Accuracies:': array([0.1519, 0.1604]),\n",
       "  '% Change Mean accuracy:': array([-1.9762, -1.6372]),\n",
       "  '% Change Median accuracy:': array([-0.6108, -0.5434]),\n",
       "  '% Forecasted Points adjusted downward:': 0.5366,\n",
       "  '% Forecasted Points adjusted upward:': 0.4634,\n",
       "  '% Series with improved accuracy:': array([0.2012, 0.2012]),\n",
       "  '% Series with reduced accuracy:': array([0.7988, 0.7988]),\n",
       "  'Original Mean Absolute Error Upward Adjusted:': 0.0633,\n",
       "  'Original Mean Absolute Error Downward Adjusted:': 0.0405,\n",
       "  'Protected Mean Absolute Error Upward Adjusted:': 0.2541,\n",
       "  'Protected Mean Absolute Error Downward Adjusted:': 0.0637},\n",
       " 'h=1, 2 stan. devs': {'Mean Accuracies': array([0.0312, 0.0312]),\n",
       "  'Protected Mean Accuracies:': array([0.3241, 0.3241]),\n",
       "  '% Change Mean accuracy:': array([-9.3833, -9.3833]),\n",
       "  '% Change Median accuracy:': array([-4.3099, -4.3099]),\n",
       "  '% Forecasted Points adjusted downward:': 0.4939,\n",
       "  '% Forecasted Points adjusted upward:': 0.5061,\n",
       "  '% Series with improved accuracy:': array([0.1463, 0.1463]),\n",
       "  '% Series with reduced accuracy:': array([0.8537, 0.8537]),\n",
       "  'Original Mean Absolute Error Upward Adjusted:': 0.0453,\n",
       "  'Original Mean Absolute Error Downward Adjusted:': 0.0168,\n",
       "  'Protected Mean Absolute Error Upward Adjusted:': 0.5778,\n",
       "  'Protected Mean Absolute Error Downward Adjusted:': 0.064},\n",
       " 'h=20, 2 stan. devs': {'Mean Accuracies': array([0.051 , 0.0608]),\n",
       "  'Protected Mean Accuracies:': array([0.3346, 0.3406]),\n",
       "  '% Change Mean accuracy:': array([-5.5545, -4.5993]),\n",
       "  '% Change Median accuracy:': array([-1.8827, -1.6318]),\n",
       "  '% Forecasted Points adjusted downward:': 0.4521,\n",
       "  '% Forecasted Points adjusted upward:': 0.5479,\n",
       "  '% Series with improved accuracy:': array([0.1098, 0.0976]),\n",
       "  '% Series with reduced accuracy:': array([0.8902, 0.9024]),\n",
       "  'Original Mean Absolute Error Upward Adjusted:': 0.066,\n",
       "  'Original Mean Absolute Error Downward Adjusted:': 0.0329,\n",
       "  'Protected Mean Absolute Error Upward Adjusted:': 0.5477,\n",
       "  'Protected Mean Absolute Error Downward Adjusted:': 0.0764}}"
      ]
     },
     "execution_count": 7,
     "metadata": {},
     "output_type": "execute_result"
    }
   ],
   "source": [
    "results_dict_10"
   ]
  },
  {
   "cell_type": "markdown",
   "id": "92ee4971",
   "metadata": {},
   "source": [
    "***\n",
    "***"
   ]
  },
  {
   "cell_type": "markdown",
   "id": "31b5ceaa",
   "metadata": {},
   "source": [
    "## 'Medium' Model (window length = 20)"
   ]
  },
  {
   "cell_type": "code",
   "execution_count": 8,
   "id": "b90008b5",
   "metadata": {},
   "outputs": [],
   "source": [
    "forecaster = lgb.LGBMRegressor()\n",
    "window_length = 20"
   ]
  },
  {
   "cell_type": "code",
   "execution_count": 9,
   "id": "d97db584",
   "metadata": {},
   "outputs": [],
   "source": [
    "results_dict_20 = {}\n",
    "fcasts_20 = {}\n",
    "fcasts_protected_20 = {}\n",
    "tests = {}\n",
    "num_stdevs = [1, 2]\n",
    "horizons = [1, 20]"
   ]
  },
  {
   "cell_type": "code",
   "execution_count": 10,
   "id": "3c10841a",
   "metadata": {},
   "outputs": [],
   "source": [
    "for n in num_stdevs:\n",
    "    for h in horizons:\n",
    "        idx = \"h=\"+str(h)+\", \"+str(n)+\" stan. devs\"\n",
    "        results_dict_20[idx], tests[idx], fcasts_20[idx], fcasts_protected_20[idx] = full_coding_analysis(time_series_data=Y, \n",
    "                                                                                                          forecasting_model=forecaster, \n",
    "                                                                                                          forecast_horizon=h,\n",
    "                                                                                                          num_stdev=n,\n",
    "                                                                                                          window_length=window_length)"
   ]
  },
  {
   "cell_type": "code",
   "execution_count": 11,
   "id": "f34e8433",
   "metadata": {},
   "outputs": [
    {
     "data": {
      "text/plain": [
       "{'h=1, 1 stan. devs': {'Mean Accuracies': array([0.0305, 0.0305]),\n",
       "  'Protected Mean Accuracies:': array([0.1374, 0.1374]),\n",
       "  '% Change Mean accuracy:': array([-3.502, -3.502]),\n",
       "  '% Change Median accuracy:': array([-2.1314, -2.1314]),\n",
       "  '% Forecasted Points adjusted downward:': 0.5488,\n",
       "  '% Forecasted Points adjusted upward:': 0.4512,\n",
       "  '% Series with improved accuracy:': array([0.1829, 0.1829]),\n",
       "  '% Series with reduced accuracy:': array([0.8171, 0.8171]),\n",
       "  'Original Mean Absolute Error Upward Adjusted:': 0.0419,\n",
       "  'Original Mean Absolute Error Downward Adjusted:': 0.0212,\n",
       "  'Protected Mean Absolute Error Upward Adjusted:': 0.2362,\n",
       "  'Protected Mean Absolute Error Downward Adjusted:': 0.0561},\n",
       " 'h=20, 1 stan. devs': {'Mean Accuracies': array([0.0549, 0.0649]),\n",
       "  'Protected Mean Accuracies:': array([0.1548, 0.1629]),\n",
       "  '% Change Mean accuracy:': array([-1.8221, -1.5102]),\n",
       "  '% Change Median accuracy:': array([-0.6846, -0.6642]),\n",
       "  '% Forecasted Points adjusted downward:': 0.4796,\n",
       "  '% Forecasted Points adjusted upward:': 0.5204,\n",
       "  '% Series with improved accuracy:': array([0.2012, 0.189 ]),\n",
       "  '% Series with reduced accuracy:': array([0.7988, 0.811 ]),\n",
       "  'Original Mean Absolute Error Upward Adjusted:': 0.0608,\n",
       "  'Original Mean Absolute Error Downward Adjusted:': 0.0484,\n",
       "  'Protected Mean Absolute Error Upward Adjusted:': 0.215,\n",
       "  'Protected Mean Absolute Error Downward Adjusted:': 0.0895},\n",
       " 'h=1, 2 stan. devs': {'Mean Accuracies': array([0.0305, 0.0305]),\n",
       "  'Protected Mean Accuracies:': array([0.3721, 0.3721]),\n",
       "  '% Change Mean accuracy:': array([-11.1964, -11.1964]),\n",
       "  '% Change Median accuracy:': array([-6.4791, -6.4791]),\n",
       "  '% Forecasted Points adjusted downward:': 0.378,\n",
       "  '% Forecasted Points adjusted upward:': 0.622,\n",
       "  '% Series with improved accuracy:': array([0.0915, 0.0915]),\n",
       "  '% Series with reduced accuracy:': array([0.9085, 0.9085]),\n",
       "  'Original Mean Absolute Error Upward Adjusted:': 0.0391,\n",
       "  'Original Mean Absolute Error Downward Adjusted:': 0.0164,\n",
       "  'Protected Mean Absolute Error Upward Adjusted:': 0.5659,\n",
       "  'Protected Mean Absolute Error Downward Adjusted:': 0.0533},\n",
       " 'h=20, 2 stan. devs': {'Mean Accuracies': array([0.0549, 0.0649]),\n",
       "  'Protected Mean Accuracies:': array([0.3421, 0.3483]),\n",
       "  '% Change Mean accuracy:': array([-5.2374, -4.3667]),\n",
       "  '% Change Median accuracy:': array([-1.5657, -1.3691]),\n",
       "  '% Forecasted Points adjusted downward:': 0.4646,\n",
       "  '% Forecasted Points adjusted upward:': 0.5354,\n",
       "  '% Series with improved accuracy:': array([0.0732, 0.0732]),\n",
       "  '% Series with reduced accuracy:': array([0.9268, 0.9268]),\n",
       "  'Original Mean Absolute Error Upward Adjusted:': 0.0721,\n",
       "  'Original Mean Absolute Error Downward Adjusted:': 0.035,\n",
       "  'Protected Mean Absolute Error Upward Adjusted:': 0.5736,\n",
       "  'Protected Mean Absolute Error Downward Adjusted:': 0.0754}}"
      ]
     },
     "execution_count": 11,
     "metadata": {},
     "output_type": "execute_result"
    }
   ],
   "source": [
    "results_dict_20"
   ]
  },
  {
   "cell_type": "markdown",
   "id": "16949b2b",
   "metadata": {},
   "source": [
    "***\n",
    "***"
   ]
  },
  {
   "cell_type": "markdown",
   "id": "06e14070",
   "metadata": {},
   "source": [
    "## Complex Model (window length = 40)"
   ]
  },
  {
   "cell_type": "code",
   "execution_count": 12,
   "id": "0068a8a0",
   "metadata": {},
   "outputs": [],
   "source": [
    "forecaster = lgb.LGBMRegressor()\n",
    "window_length = 40"
   ]
  },
  {
   "cell_type": "code",
   "execution_count": 13,
   "id": "865f9c69",
   "metadata": {},
   "outputs": [],
   "source": [
    "results_dict_40 = {}\n",
    "fcasts_40 = {}\n",
    "fcasts_protected_40 = {}\n",
    "tests = {}\n",
    "num_stdevs = [1, 2]\n",
    "horizons = [1, 20]"
   ]
  },
  {
   "cell_type": "code",
   "execution_count": 14,
   "id": "98c813f9",
   "metadata": {},
   "outputs": [],
   "source": [
    "for n in num_stdevs:\n",
    "    for h in horizons:\n",
    "        idx = \"h=\"+str(h)+\", \"+str(n)+\" stan. devs\"\n",
    "        results_dict_40[idx], tests[idx], fcasts_40[idx], fcasts_protected_40[idx] = full_coding_analysis(time_series_data=Y, \n",
    "                                                                                                          forecasting_model=forecaster, \n",
    "                                                                                                          forecast_horizon=h,\n",
    "                                                                                                          num_stdev=n,\n",
    "                                                                                                          window_length=window_length)"
   ]
  },
  {
   "cell_type": "code",
   "execution_count": 15,
   "id": "b8747d6b",
   "metadata": {},
   "outputs": [
    {
     "data": {
      "text/plain": [
       "{'h=1, 1 stan. devs': {'Mean Accuracies': array([0.0279, 0.0279]),\n",
       "  'Protected Mean Accuracies:': array([0.1319, 0.1319]),\n",
       "  '% Change Mean accuracy:': array([-3.7311, -3.7311]),\n",
       "  '% Change Median accuracy:': array([-2.2785, -2.2785]),\n",
       "  '% Forecasted Points adjusted downward:': 0.4939,\n",
       "  '% Forecasted Points adjusted upward:': 0.5061,\n",
       "  '% Series with improved accuracy:': array([0.2134, 0.2134]),\n",
       "  '% Series with reduced accuracy:': array([0.7866, 0.7866]),\n",
       "  'Original Mean Absolute Error Upward Adjusted:': 0.0353,\n",
       "  'Original Mean Absolute Error Downward Adjusted:': 0.0203,\n",
       "  'Protected Mean Absolute Error Upward Adjusted:': 0.2079,\n",
       "  'Protected Mean Absolute Error Downward Adjusted:': 0.0541},\n",
       " 'h=20, 1 stan. devs': {'Mean Accuracies': array([0.0701, 0.0801]),\n",
       "  'Protected Mean Accuracies:': array([0.1527, 0.1616]),\n",
       "  '% Change Mean accuracy:': array([-1.1799, -1.0175]),\n",
       "  '% Change Median accuracy:': array([-0.527 , -0.5011]),\n",
       "  '% Forecasted Points adjusted downward:': 0.5226,\n",
       "  '% Forecasted Points adjusted upward:': 0.4774,\n",
       "  '% Series with improved accuracy:': array([0.1951, 0.1829]),\n",
       "  '% Series with reduced accuracy:': array([0.8049, 0.8171]),\n",
       "  'Original Mean Absolute Error Upward Adjusted:': 0.0783,\n",
       "  'Original Mean Absolute Error Downward Adjusted:': 0.0625,\n",
       "  'Protected Mean Absolute Error Upward Adjusted:': 0.2258,\n",
       "  'Protected Mean Absolute Error Downward Adjusted:': 0.0859},\n",
       " 'h=1, 2 stan. devs': {'Mean Accuracies': array([0.0279, 0.0279]),\n",
       "  'Protected Mean Accuracies:': array([0.3539, 0.3539]),\n",
       "  '% Change Mean accuracy:': array([-11.6933, -11.6933]),\n",
       "  '% Change Median accuracy:': array([-6.9574, -6.9574]),\n",
       "  '% Forecasted Points adjusted downward:': 0.4329,\n",
       "  '% Forecasted Points adjusted upward:': 0.5671,\n",
       "  '% Series with improved accuracy:': array([0.0854, 0.0854]),\n",
       "  '% Series with reduced accuracy:': array([0.9146, 0.9146]),\n",
       "  'Original Mean Absolute Error Upward Adjusted:': 0.0389,\n",
       "  'Original Mean Absolute Error Downward Adjusted:': 0.0134,\n",
       "  'Protected Mean Absolute Error Upward Adjusted:': 0.5786,\n",
       "  'Protected Mean Absolute Error Downward Adjusted:': 0.0595},\n",
       " 'h=20, 2 stan. devs': {'Mean Accuracies': array([0.0701, 0.0801]),\n",
       "  'Protected Mean Accuracies:': array([0.3382, 0.3452]),\n",
       "  '% Change Mean accuracy:': array([-3.8269, -3.3081]),\n",
       "  '% Change Median accuracy:': array([-1.6159, -1.4389]),\n",
       "  '% Forecasted Points adjusted downward:': 0.3878,\n",
       "  '% Forecasted Points adjusted upward:': 0.6122,\n",
       "  '% Series with improved accuracy:': array([0.1037, 0.0854]),\n",
       "  '% Series with reduced accuracy:': array([0.8963, 0.9146]),\n",
       "  'Original Mean Absolute Error Upward Adjusted:': 0.0844,\n",
       "  'Original Mean Absolute Error Downward Adjusted:': 0.0475,\n",
       "  'Protected Mean Absolute Error Upward Adjusted:': 0.4977,\n",
       "  'Protected Mean Absolute Error Downward Adjusted:': 0.0863}}"
      ]
     },
     "execution_count": 15,
     "metadata": {},
     "output_type": "execute_result"
    }
   ],
   "source": [
    "results_dict_40"
   ]
  }
 ],
 "metadata": {
  "kernelspec": {
   "display_name": "Python 3 (ipykernel)",
   "language": "python",
   "name": "python3"
  },
  "language_info": {
   "codemirror_mode": {
    "name": "ipython",
    "version": 3
   },
   "file_extension": ".py",
   "mimetype": "text/x-python",
   "name": "python",
   "nbconvert_exporter": "python",
   "pygments_lexer": "ipython3",
   "version": "3.9.7"
  }
 },
 "nbformat": 4,
 "nbformat_minor": 5
}
