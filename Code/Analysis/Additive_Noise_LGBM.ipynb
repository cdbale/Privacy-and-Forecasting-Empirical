{
 "cells": [
  {
   "cell_type": "markdown",
   "id": "0e4052c3",
   "metadata": {},
   "source": [
    "# Examining the Effects of Additive Noise on LGBM Forecast Accuracy"
   ]
  },
  {
   "cell_type": "markdown",
   "id": "7a4bd4c9",
   "metadata": {},
   "source": [
    "***"
   ]
  },
  {
   "cell_type": "code",
   "execution_count": 1,
   "id": "dd558349",
   "metadata": {},
   "outputs": [],
   "source": [
    "# general modules\n",
    "import pandas as pd\n",
    "import numpy as np\n",
    "import lightgbm as lgb\n",
    "\n",
    "##### the `helper_functions.py` file contains many custom functions we wrote to aid in our analysis\n",
    "##### `full_coding_analysis` combines all of the following - train-test split data,\n",
    "##### data protection, train models, compare accuracies, return accuracy results\n",
    "from helper_functions import *"
   ]
  },
  {
   "cell_type": "code",
   "execution_count": 2,
   "id": "053d11e1",
   "metadata": {},
   "outputs": [],
   "source": [
    "# import weekly finance time series\n",
    "Y = np.genfromtxt(\"../../Data/Train/Clean/weekly_finance_clean.csv\", delimiter = ',', skip_header = 1)\n",
    "Y = pd.DataFrame(Y)"
   ]
  },
  {
   "cell_type": "code",
   "execution_count": 3,
   "id": "7cdb11c7",
   "metadata": {},
   "outputs": [],
   "source": [
    "# detrender = Detrender()\n",
    "# detrended_series = [detrender.fit_transform(series) for _ , series in Y.iterrows()]\n",
    "# detrended_series = [i+np.abs(np.min(i))+1.0 for i in detrended_series]\n",
    "# Y = pd.concat(detrended_series, axis=1).T"
   ]
  },
  {
   "cell_type": "markdown",
   "id": "a2cdca93",
   "metadata": {},
   "source": [
    "***"
   ]
  },
  {
   "cell_type": "markdown",
   "id": "693a5968",
   "metadata": {},
   "source": [
    "## Simple Model (window length = 10)"
   ]
  },
  {
   "cell_type": "code",
   "execution_count": 4,
   "id": "c6ca18f3",
   "metadata": {},
   "outputs": [],
   "source": [
    "forecaster = lgb.LGBMRegressor()\n",
    "window_length=10"
   ]
  },
  {
   "cell_type": "code",
   "execution_count": 5,
   "id": "96460ce3",
   "metadata": {},
   "outputs": [],
   "source": [
    "results_dict_10 = {}\n",
    "fcasts_10 = {}\n",
    "fcasts_protected_10 = {}\n",
    "tests = {}\n",
    "num_stdevs = [1, 2]\n",
    "horizons = [1, 20]"
   ]
  },
  {
   "cell_type": "code",
   "execution_count": 6,
   "id": "33b06dee",
   "metadata": {},
   "outputs": [],
   "source": [
    "for n in num_stdevs:\n",
    "    for h in horizons:\n",
    "        idx = \"h=\"+str(h)+\", \"+str(n)+\" stan. devs\"\n",
    "        results_dict_10[idx], tests[idx], fcasts_10[idx], fcasts_protected_10[idx] = full_coding_analysis(time_series_data=Y, \n",
    "                                                                                                          forecasting_model=forecaster, \n",
    "                                                                                                          forecast_horizon=h,\n",
    "                                                                                                          num_stdev=n,\n",
    "                                                                                                          window_length=window_length)"
   ]
  },
  {
   "cell_type": "code",
   "execution_count": 7,
   "id": "93202597",
   "metadata": {},
   "outputs": [
    {
     "data": {
      "text/plain": [
       "{'h=1, 1 stan. devs': {'Mean Accuracies': array([3.17, 3.17]),\n",
       "  'Protected Mean Accuracies:': array([12.61, 12.61]),\n",
       "  '% Change Mean accuracy:': array([-297.11, -297.11]),\n",
       "  '% Change Median accuracy:': array([-306.49, -306.49]),\n",
       "  '% Forecasted Points adjusted downward:': 61.59,\n",
       "  '% Forecasted Points adjusted upward:': 38.41,\n",
       "  '% Series with improved accuracy:': array([16.46, 16.46]),\n",
       "  '% Series with reduced accuracy:': array([83.54, 83.54]),\n",
       "  'Original Mean Absolute Error Upward Adjusted:': 5.12,\n",
       "  'Original Mean Absolute Error Downward Adjusted:': 1.96,\n",
       "  'Protected Mean Absolute Error Upward Adjusted:': 24.23,\n",
       "  'Protected Mean Absolute Error Downward Adjusted:': 5.36},\n",
       " 'h=20, 1 stan. devs': {'Mean Accuracies': array([5.55, 6.48]),\n",
       "  'Protected Mean Accuracies:': array([15.91, 16.94]),\n",
       "  '% Change Mean accuracy:': array([-186.44, -161.38]),\n",
       "  '% Change Median accuracy:': array([-132.05, -136.4 ]),\n",
       "  '% Forecasted Points adjusted downward:': 61.25000000000001,\n",
       "  '% Forecasted Points adjusted upward:': 38.75,\n",
       "  '% Series with improved accuracy:': array([11.59, 11.59]),\n",
       "  '% Series with reduced accuracy:': array([88.41, 88.41]),\n",
       "  'Original Mean Absolute Error Upward Adjusted:': 8.290000000000001,\n",
       "  'Original Mean Absolute Error Downward Adjusted:': 3.83,\n",
       "  'Protected Mean Absolute Error Upward Adjusted:': 27.47,\n",
       "  'Protected Mean Absolute Error Downward Adjusted:': 8.59},\n",
       " 'h=1, 2 stan. devs': {'Mean Accuracies': array([3.17, 3.17]),\n",
       "  'Protected Mean Accuracies:': array([35.32, 35.32]),\n",
       "  '% Change Mean accuracy:': array([-1012.41, -1012.41]),\n",
       "  '% Change Median accuracy:': array([-884.62, -884.62]),\n",
       "  '% Forecasted Points adjusted downward:': 53.66,\n",
       "  '% Forecasted Points adjusted upward:': 46.339999999999996,\n",
       "  '% Series with improved accuracy:': array([6.71, 6.71]),\n",
       "  '% Series with reduced accuracy:': array([93.29, 93.29]),\n",
       "  'Original Mean Absolute Error Upward Adjusted:': 4.92,\n",
       "  'Original Mean Absolute Error Downward Adjusted:': 1.67,\n",
       "  'Protected Mean Absolute Error Upward Adjusted:': 66.75,\n",
       "  'Protected Mean Absolute Error Downward Adjusted:': 8.17},\n",
       " 'h=20, 2 stan. devs': {'Mean Accuracies': array([5.55, 6.48]),\n",
       "  'Protected Mean Accuracies:': array([32.84, 33.6 ]),\n",
       "  '% Change Mean accuracy:': array([-491.32, -418.55]),\n",
       "  '% Change Median accuracy:': array([-291.02, -256.65]),\n",
       "  '% Forecasted Points adjusted downward:': 55.61000000000001,\n",
       "  '% Forecasted Points adjusted upward:': 44.39,\n",
       "  '% Series with improved accuracy:': array([4.27, 3.66]),\n",
       "  '% Series with reduced accuracy:': array([95.73, 96.34]),\n",
       "  'Original Mean Absolute Error Upward Adjusted:': 8.39,\n",
       "  'Original Mean Absolute Error Downward Adjusted:': 3.29,\n",
       "  'Protected Mean Absolute Error Upward Adjusted:': 59.51,\n",
       "  'Protected Mean Absolute Error Downward Adjusted:': 11.55}}"
      ]
     },
     "execution_count": 7,
     "metadata": {},
     "output_type": "execute_result"
    }
   ],
   "source": [
    "results_dict_10"
   ]
  },
  {
   "cell_type": "markdown",
   "id": "92ee4971",
   "metadata": {},
   "source": [
    "***\n",
    "***"
   ]
  },
  {
   "cell_type": "markdown",
   "id": "31b5ceaa",
   "metadata": {},
   "source": [
    "## 'Medium' Model (window length = 20)"
   ]
  },
  {
   "cell_type": "code",
   "execution_count": 8,
   "id": "b90008b5",
   "metadata": {},
   "outputs": [],
   "source": [
    "forecaster = lgb.LGBMRegressor()\n",
    "window_length = 20"
   ]
  },
  {
   "cell_type": "code",
   "execution_count": 9,
   "id": "d97db584",
   "metadata": {},
   "outputs": [],
   "source": [
    "results_dict_20 = {}\n",
    "fcasts_20 = {}\n",
    "fcasts_protected_20 = {}\n",
    "tests = {}\n",
    "num_stdevs = [1, 2]\n",
    "horizons = [1, 20]"
   ]
  },
  {
   "cell_type": "code",
   "execution_count": 10,
   "id": "3c10841a",
   "metadata": {},
   "outputs": [],
   "source": [
    "for n in num_stdevs:\n",
    "    for h in horizons:\n",
    "        idx = \"h=\"+str(h)+\", \"+str(n)+\" stan. devs\"\n",
    "        results_dict_20[idx], tests[idx], fcasts_20[idx], fcasts_protected_20[idx] = full_coding_analysis(time_series_data=Y, \n",
    "                                                                                                          forecasting_model=forecaster, \n",
    "                                                                                                          forecast_horizon=h,\n",
    "                                                                                                          num_stdev=n,\n",
    "                                                                                                          window_length=window_length)"
   ]
  },
  {
   "cell_type": "code",
   "execution_count": 11,
   "id": "f34e8433",
   "metadata": {},
   "outputs": [
    {
     "data": {
      "text/plain": [
       "{'h=1, 1 stan. devs': {'Mean Accuracies': array([3.29, 3.29]),\n",
       "  'Protected Mean Accuracies:': array([13.34, 13.34]),\n",
       "  '% Change Mean accuracy:': array([-305.09, -305.09]),\n",
       "  '% Change Median accuracy:': array([-166.46, -166.46]),\n",
       "  '% Forecasted Points adjusted downward:': 69.51,\n",
       "  '% Forecasted Points adjusted upward:': 30.490000000000002,\n",
       "  '% Series with improved accuracy:': array([16.46, 16.46]),\n",
       "  '% Series with reduced accuracy:': array([83.54, 83.54]),\n",
       "  'Original Mean Absolute Error Upward Adjusted:': 6.22,\n",
       "  'Original Mean Absolute Error Downward Adjusted:': 2.01,\n",
       "  'Protected Mean Absolute Error Upward Adjusted:': 32.41,\n",
       "  'Protected Mean Absolute Error Downward Adjusted:': 4.97},\n",
       " 'h=20, 1 stan. devs': {'Mean Accuracies': array([5.68, 6.64]),\n",
       "  'Protected Mean Accuracies:': array([14.19, 15.09]),\n",
       "  '% Change Mean accuracy:': array([-149.54, -127.17]),\n",
       "  '% Change Median accuracy:': array([-107.35,  -97.96]),\n",
       "  '% Forecasted Points adjusted downward:': 63.349999999999994,\n",
       "  '% Forecasted Points adjusted upward:': 36.65,\n",
       "  '% Series with improved accuracy:': array([12.8, 12.2]),\n",
       "  '% Series with reduced accuracy:': array([87.2, 87.8]),\n",
       "  'Original Mean Absolute Error Upward Adjusted:': 8.74,\n",
       "  'Original Mean Absolute Error Downward Adjusted:': 3.92,\n",
       "  'Protected Mean Absolute Error Upward Adjusted:': 25.14,\n",
       "  'Protected Mean Absolute Error Downward Adjusted:': 7.85},\n",
       " 'h=1, 2 stan. devs': {'Mean Accuracies': array([3.29, 3.29]),\n",
       "  'Protected Mean Accuracies:': array([35.74, 35.74]),\n",
       "  '% Change Mean accuracy:': array([-985.54, -985.54]),\n",
       "  '% Change Median accuracy:': array([-695.02, -695.02]),\n",
       "  '% Forecasted Points adjusted downward:': 53.05,\n",
       "  '% Forecasted Points adjusted upward:': 46.949999999999996,\n",
       "  '% Series with improved accuracy:': array([9.76, 9.76]),\n",
       "  '% Series with reduced accuracy:': array([90.24, 90.24]),\n",
       "  'Original Mean Absolute Error Upward Adjusted:': 5.36,\n",
       "  'Original Mean Absolute Error Downward Adjusted:': 1.47,\n",
       "  'Protected Mean Absolute Error Upward Adjusted:': 67.42,\n",
       "  'Protected Mean Absolute Error Downward Adjusted:': 7.7},\n",
       " 'h=20, 2 stan. devs': {'Mean Accuracies': array([5.68, 6.64]),\n",
       "  'Protected Mean Accuracies:': array([34.1 , 34.83]),\n",
       "  '% Change Mean accuracy:': array([-499.97, -424.43]),\n",
       "  '% Change Median accuracy:': array([-275.22, -232.67]),\n",
       "  '% Forecasted Points adjusted downward:': 53.32,\n",
       "  '% Forecasted Points adjusted upward:': 46.68,\n",
       "  '% Series with improved accuracy:': array([6.71, 7.93]),\n",
       "  '% Series with reduced accuracy:': array([93.29, 92.07]),\n",
       "  'Original Mean Absolute Error Upward Adjusted:': 8.38,\n",
       "  'Original Mean Absolute Error Downward Adjusted:': 3.3300000000000005,\n",
       "  'Protected Mean Absolute Error Upward Adjusted:': 60.31999999999999,\n",
       "  'Protected Mean Absolute Error Downward Adjusted:': 11.16}}"
      ]
     },
     "execution_count": 11,
     "metadata": {},
     "output_type": "execute_result"
    }
   ],
   "source": [
    "results_dict_20"
   ]
  },
  {
   "cell_type": "markdown",
   "id": "16949b2b",
   "metadata": {},
   "source": [
    "***\n",
    "***"
   ]
  },
  {
   "cell_type": "markdown",
   "id": "06e14070",
   "metadata": {},
   "source": [
    "## Complex Model (window length = 40)"
   ]
  },
  {
   "cell_type": "code",
   "execution_count": 12,
   "id": "0068a8a0",
   "metadata": {},
   "outputs": [],
   "source": [
    "forecaster = lgb.LGBMRegressor()\n",
    "window_length = 40"
   ]
  },
  {
   "cell_type": "code",
   "execution_count": 13,
   "id": "865f9c69",
   "metadata": {},
   "outputs": [],
   "source": [
    "results_dict_40 = {}\n",
    "fcasts_40 = {}\n",
    "fcasts_protected_40 = {}\n",
    "tests = {}\n",
    "num_stdevs = [1, 2]\n",
    "horizons = [1, 20]"
   ]
  },
  {
   "cell_type": "code",
   "execution_count": 14,
   "id": "98c813f9",
   "metadata": {},
   "outputs": [],
   "source": [
    "for n in num_stdevs:\n",
    "    for h in horizons:\n",
    "        idx = \"h=\"+str(h)+\", \"+str(n)+\" stan. devs\"\n",
    "        results_dict_40[idx], tests[idx], fcasts_40[idx], fcasts_protected_40[idx] = full_coding_analysis(time_series_data=Y, \n",
    "                                                                                                          forecasting_model=forecaster, \n",
    "                                                                                                          forecast_horizon=h,\n",
    "                                                                                                          num_stdev=n,\n",
    "                                                                                                          window_length=window_length)"
   ]
  },
  {
   "cell_type": "code",
   "execution_count": 15,
   "id": "b8747d6b",
   "metadata": {},
   "outputs": [
    {
     "data": {
      "text/plain": [
       "{'h=1, 1 stan. devs': {'Mean Accuracies': array([3.15, 3.15]),\n",
       "  'Protected Mean Accuracies:': array([13.74, 13.74]),\n",
       "  '% Change Mean accuracy:': array([-335.9, -335.9]),\n",
       "  '% Change Median accuracy:': array([-228.51, -228.51]),\n",
       "  '% Forecasted Points adjusted downward:': 56.10000000000001,\n",
       "  '% Forecasted Points adjusted upward:': 43.9,\n",
       "  '% Series with improved accuracy:': array([17.68, 17.68]),\n",
       "  '% Series with reduced accuracy:': array([82.32, 82.32]),\n",
       "  'Original Mean Absolute Error Upward Adjusted:': 4.88,\n",
       "  'Original Mean Absolute Error Downward Adjusted:': 1.7999999999999998,\n",
       "  'Protected Mean Absolute Error Upward Adjusted:': 25.2,\n",
       "  'Protected Mean Absolute Error Downward Adjusted:': 4.77},\n",
       " 'h=20, 1 stan. devs': {'Mean Accuracies': array([5.48, 6.37]),\n",
       "  'Protected Mean Accuracies:': array([14.72, 15.67]),\n",
       "  '% Change Mean accuracy:': array([-168.68, -146.1 ]),\n",
       "  '% Change Median accuracy:': array([-128.38, -104.3 ]),\n",
       "  '% Forecasted Points adjusted downward:': 66.77,\n",
       "  '% Forecasted Points adjusted upward:': 33.23,\n",
       "  '% Series with improved accuracy:': array([11.59, 10.37]),\n",
       "  '% Series with reduced accuracy:': array([88.41, 89.63]),\n",
       "  'Original Mean Absolute Error Upward Adjusted:': 8.73,\n",
       "  'Original Mean Absolute Error Downward Adjusted:': 3.8600000000000003,\n",
       "  'Protected Mean Absolute Error Upward Adjusted:': 27.810000000000002,\n",
       "  'Protected Mean Absolute Error Downward Adjusted:': 8.200000000000001},\n",
       " 'h=1, 2 stan. devs': {'Mean Accuracies': array([3.15, 3.15]),\n",
       "  'Protected Mean Accuracies:': array([36.49, 36.49]),\n",
       "  '% Change Mean accuracy:': array([-1057.75, -1057.75]),\n",
       "  '% Change Median accuracy:': array([-772.55, -772.55]),\n",
       "  '% Forecasted Points adjusted downward:': 51.22,\n",
       "  '% Forecasted Points adjusted upward:': 48.78,\n",
       "  '% Series with improved accuracy:': array([7.93, 7.93]),\n",
       "  '% Series with reduced accuracy:': array([92.07, 92.07]),\n",
       "  'Original Mean Absolute Error Upward Adjusted:': 5.0200000000000005,\n",
       "  'Original Mean Absolute Error Downward Adjusted:': 1.37,\n",
       "  'Protected Mean Absolute Error Upward Adjusted:': 67.19000000000001,\n",
       "  'Protected Mean Absolute Error Downward Adjusted:': 7.249999999999999},\n",
       " 'h=20, 2 stan. devs': {'Mean Accuracies': array([5.48, 6.37]),\n",
       "  'Protected Mean Accuracies:': array([36.07, 36.68]),\n",
       "  '% Change Mean accuracy:': array([-558.48, -476.08]),\n",
       "  '% Change Median accuracy:': array([-346.82, -279.53]),\n",
       "  '% Forecasted Points adjusted downward:': 52.53,\n",
       "  '% Forecasted Points adjusted upward:': 47.47,\n",
       "  '% Series with improved accuracy:': array([3.05, 3.66]),\n",
       "  '% Series with reduced accuracy:': array([96.95, 96.34]),\n",
       "  'Original Mean Absolute Error Upward Adjusted:': 8.05,\n",
       "  'Original Mean Absolute Error Downward Adjusted:': 3.16,\n",
       "  'Protected Mean Absolute Error Upward Adjusted:': 62.78,\n",
       "  'Protected Mean Absolute Error Downward Adjusted:': 11.940000000000001}}"
      ]
     },
     "execution_count": 15,
     "metadata": {},
     "output_type": "execute_result"
    }
   ],
   "source": [
    "results_dict_40"
   ]
  }
 ],
 "metadata": {
  "kernelspec": {
   "display_name": "Python 3 (ipykernel)",
   "language": "python",
   "name": "python3"
  },
  "language_info": {
   "codemirror_mode": {
    "name": "ipython",
    "version": 3
   },
   "file_extension": ".py",
   "mimetype": "text/x-python",
   "name": "python",
   "nbconvert_exporter": "python",
   "pygments_lexer": "ipython3",
   "version": "3.9.7"
  }
 },
 "nbformat": 4,
 "nbformat_minor": 5
}
