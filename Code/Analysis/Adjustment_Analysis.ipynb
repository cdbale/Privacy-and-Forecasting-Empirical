{
 "cells": [
  {
   "cell_type": "markdown",
   "id": "ec219ead",
   "metadata": {},
   "source": [
    "# Adjustment Analysis"
   ]
  },
  {
   "cell_type": "markdown",
   "id": "408d171d",
   "metadata": {},
   "source": [
    "This notebook contains experiments for analyzing the drivers of whether privacy adjusted forecasts are better or worse than their original counterparts."
   ]
  },
  {
   "cell_type": "code",
   "execution_count": 186,
   "id": "c3100ff8",
   "metadata": {},
   "outputs": [],
   "source": [
    "import numpy as np\n",
    "import pandas as pd\n",
    "import matplotlib.pyplot as plt\n",
    "from matplotlib.ticker import PercentFormatter\n",
    "import os\n",
    "\n",
    "from sktime.performance_metrics.forecasting import mean_absolute_error\n",
    "from sktime.utils.plotting import plot_series\n",
    "\n",
    "from tsfeatures import tsfeatures\n",
    "\n",
    "from sklearn.preprocessing import StandardScaler\n",
    "from sklearn.ensemble import RandomForestClassifier\n",
    "from sklearn.tree import DecisionTreeClassifier\n",
    "from sklearn.tree import export_graphviz\n",
    "from sklearn.inspection import permutation_importance\n",
    "from sklearn.tree import plot_tree\n",
    "\n",
    "import graphviz "
   ]
  },
  {
   "cell_type": "markdown",
   "id": "dc605665",
   "metadata": {},
   "source": [
    "Start with defining the path where results will be saved, and the path to the forecast files. "
   ]
  },
  {
   "cell_type": "code",
   "execution_count": 187,
   "id": "1d21fe7a",
   "metadata": {},
   "outputs": [],
   "source": [
    "# results file path\n",
    "results_path = \"../../Outputs/Results/\"\n",
    "# forecasts file path\n",
    "forecasts_path = \"../../Outputs/Forecasts/\"\n",
    "# names of forecast files\n",
    "fcast_files = os.listdir(forecasts_path)"
   ]
  },
  {
   "cell_type": "markdown",
   "id": "89477d60",
   "metadata": {},
   "source": [
    "Read in the train and test data, and the k-nts+ (k=3) data for $h = 1$."
   ]
  },
  {
   "cell_type": "code",
   "execution_count": 188,
   "id": "6bb832f9",
   "metadata": {},
   "outputs": [],
   "source": [
    "train_data = pd.read_csv(\"../../Data/Train/Clean/m3_monthly_micro_h1.csv\", header=None, skiprows=1)\n",
    "protected_data = pd.read_csv(\"../../Data/Train/Clean/protected_m3_monthly_micro_h1_k-nts-plus_3.csv\", header=None, skiprows=1)"
   ]
  },
  {
   "cell_type": "code",
   "execution_count": 189,
   "id": "bdb15fb6",
   "metadata": {},
   "outputs": [],
   "source": [
    "# convert to a list of series, drop missing values, convert to log scale\n",
    "train_data = [x.dropna() for _, x in train_data.iterrows()]\n",
    "protected_data = [x.dropna() for _, x in protected_data.iterrows()]\n",
    "test_data = pd.read_csv(forecasts_path + \"Test_h1.csv\")\n",
    "\n",
    "# import original time series features\n",
    "# features = pd.read_csv(\"../../Data/Train/Clean/tsfeatures/tsfeatures_h1.csv\")"
   ]
  },
  {
   "cell_type": "markdown",
   "id": "12119b61",
   "metadata": {},
   "source": [
    "Set up simple linear regression to estimate the slope of the time series."
   ]
  },
  {
   "cell_type": "code",
   "execution_count": 190,
   "id": "4d52583f",
   "metadata": {},
   "outputs": [],
   "source": [
    "from sklearn.linear_model import LinearRegression"
   ]
  },
  {
   "cell_type": "code",
   "execution_count": 191,
   "id": "f57d79d7",
   "metadata": {},
   "outputs": [],
   "source": [
    "slopes = []\n",
    "for i,j in enumerate(train_data):\n",
    "    x = np.array(np.arange(0, j.shape[0])).reshape(-1,1)\n",
    "    model = LinearRegression().fit(x, j)\n",
    "    slopes.append(model.coef_[0])"
   ]
  },
  {
   "cell_type": "markdown",
   "id": "1dd467ae",
   "metadata": {},
   "source": [
    "Calculate coefficients of variation for the original and protected data sets.\n",
    "Compute the bins."
   ]
  },
  {
   "cell_type": "code",
   "execution_count": 192,
   "id": "dd23a406",
   "metadata": {},
   "outputs": [],
   "source": [
    "coef_vars = np.array([np.std(x, ddof=1)/np.mean(x) for x in train_data]).reshape(-1,1)\n",
    "protected_coef_vars = np.array([np.std(x, ddof=1)/np.mean(x) for x in protected_data]).reshape(-1,1)\n",
    "\n",
    "# calculate the percentage change in coefficient of variation\n",
    "change_in_coef = (protected_coef_vars - coef_vars)/coef_vars"
   ]
  },
  {
   "cell_type": "markdown",
   "id": "d9196706",
   "metadata": {},
   "source": [
    "***"
   ]
  },
  {
   "cell_type": "markdown",
   "id": "4076b260",
   "metadata": {},
   "source": [
    "# Import Time Series Characteristics"
   ]
  },
  {
   "cell_type": "markdown",
   "id": "1bf4f422",
   "metadata": {},
   "source": [
    "Now, we write a loop to read in the time series features, the original forecasts, and the protected forecasts for each model and dataset. We calculate whether the adjustment was valuable based on the forecast errors, add this to the features, and combine all of these dataframes into one."
   ]
  },
  {
   "cell_type": "code",
   "execution_count": 193,
   "id": "aed5489e",
   "metadata": {},
   "outputs": [],
   "source": [
    "fcast_files = [f for f in fcast_files if \"h1_\" in f]"
   ]
  },
  {
   "cell_type": "code",
   "execution_count": 194,
   "id": "379849a8",
   "metadata": {},
   "outputs": [],
   "source": [
    "fcast_files = [f for f in fcast_files if \"h1_original\" in f or \"k_nts_plus_3\" in f]"
   ]
  },
  {
   "cell_type": "code",
   "execution_count": 195,
   "id": "cc02ad94",
   "metadata": {},
   "outputs": [
    {
     "data": {
      "text/plain": [
       "['ARIMA_h1_k_nts_plus_3.csv',\n",
       " 'ARIMA_h1_original.csv',\n",
       " 'DES_h1_k_nts_plus_3.csv',\n",
       " 'DES_h1_original.csv',\n",
       " 'Multivariate_LGBM_h1_k_nts_plus_3.csv',\n",
       " 'Multivariate_LGBM_h1_original.csv',\n",
       " 'RNN_h1_k_nts_plus_3.csv',\n",
       " 'RNN_h1_original.csv',\n",
       " 'SES_h1_k_nts_plus_3.csv',\n",
       " 'SES_h1_original.csv',\n",
       " 'TES_h1_k_nts_plus_3.csv',\n",
       " 'TES_h1_original.csv',\n",
       " 'VAR_h1_k_nts_plus_3.csv',\n",
       " 'VAR_h1_original.csv']"
      ]
     },
     "execution_count": 195,
     "metadata": {},
     "output_type": "execute_result"
    }
   ],
   "source": [
    "fcast_files"
   ]
  },
  {
   "cell_type": "code",
   "execution_count": 196,
   "id": "2871330e",
   "metadata": {},
   "outputs": [],
   "source": [
    "models = [\"SES\", \"DES\", \"TES\", \"ARIMA\", \"VAR\", \"Multivariate_LGBM\", \"RNN\"]"
   ]
  },
  {
   "cell_type": "code",
   "execution_count": 197,
   "id": "8c37e249",
   "metadata": {},
   "outputs": [],
   "source": [
    "def binner(bin_var):\n",
    "    high_q = np.quantile(bin_var, 3/4)\n",
    "    med_q = np.quantile(bin_var, 1/4)\n",
    "    new_var = []\n",
    "    for i,j in enumerate(bin_var):\n",
    "        if j >= high_q:\n",
    "            new_var.append(\"High\")\n",
    "        elif j > med_q:\n",
    "            new_var.append(\"Medium\")\n",
    "        else:\n",
    "            new_var.append(\"Low\")\n",
    "            \n",
    "    return pd.Series(new_var)"
   ]
  },
  {
   "cell_type": "code",
   "execution_count": 198,
   "id": "8ba45d45",
   "metadata": {},
   "outputs": [],
   "source": [
    "series_means = [np.mean(x) for x in train_data]"
   ]
  },
  {
   "cell_type": "code",
   "execution_count": 199,
   "id": "bf5d5e37",
   "metadata": {},
   "outputs": [],
   "source": [
    "full_data = []\n",
    "\n",
    "overall_valuable = []\n",
    "\n",
    "# for each file with time series features\n",
    "for m in models:\n",
    "    # get the name of the file with the protected forecasts for the model\n",
    "    protected_fcast_file = [f for f in fcast_files if m in f and \"original\" not in f]\n",
    "    original_fcast_file = [f for f in fcast_files if m in f and \"original\" in f]\n",
    "    [protected_fcast_file] = protected_fcast_file\n",
    "    [original_fcast_file] = original_fcast_file\n",
    "    \n",
    "    # import the privacy adjusted forecasts\n",
    "    fcasts_protected = pd.read_csv(forecasts_path + protected_fcast_file)\n",
    "    # import the original forecasts\n",
    "    fcasts_original = pd.read_csv(forecasts_path + original_fcast_file)\n",
    "    \n",
    "    # calculate original MAE\n",
    "    original_errors = mean_absolute_error(test_data, fcasts_original, multioutput=\"raw_values\")\n",
    "    # calculate protected MAE\n",
    "    protected_errors = mean_absolute_error(test_data, fcasts_protected, multioutput=\"raw_values\")\n",
    "    \n",
    "    # measure average relative mean absolute error\n",
    "    r = protected_errors/original_errors\n",
    "    log_mae_ratio = np.log(r).reshape(-1,1)\n",
    "    \n",
    "    # calculate whether the adjustment improved accuracy\n",
    "    valuable = (protected_errors < original_errors) * 1.0\n",
    "    adjustment_direction = (fcasts_protected > fcasts_original) * 1.0\n",
    "    valuable = valuable.reshape(-1,1)\n",
    "    adjustment_direction = np.array(adjustment_direction).reshape(-1,1)\n",
    "    \n",
    "    overall_valuable.append(valuable)\n",
    "    \n",
    "    # Calculate adjustment magnitude (absolute difference in forecasts), normalized by the mean of the series.\n",
    "    magnitudes = (fcasts_protected - fcasts_original).abs().T.divide(series_means, axis=0)\n",
    "    \n",
    "    combined = np.concatenate([valuable,\n",
    "                               log_mae_ratio,\n",
    "                               adjustment_direction,\n",
    "                               coef_vars,\n",
    "                               change_in_coef,\n",
    "                               magnitudes], axis=1)\n",
    "    \n",
    "    combined = pd.DataFrame(combined)\n",
    "    \n",
    "    combined['model_name'] = m\n",
    "    combined['slope'] = slopes\n",
    "    \n",
    "    combined.columns = [\"is_valuable\",\n",
    "                        \"log_mae_ratio\",\n",
    "                        \"positive_adjustment\",\n",
    "                        \"coef_var\",\n",
    "                        \"change_in_coef\",\n",
    "                        \"magnitudes\",\n",
    "                        \"model_name\",\n",
    "                        \"slope\"]\n",
    "    \n",
    "    full_data.append(combined)"
   ]
  },
  {
   "cell_type": "code",
   "execution_count": 200,
   "id": "96f61cd9",
   "metadata": {},
   "outputs": [],
   "source": [
    "full_data = pd.concat(full_data, axis=0, ignore_index=True)"
   ]
  },
  {
   "cell_type": "code",
   "execution_count": 201,
   "id": "5a76322c",
   "metadata": {},
   "outputs": [],
   "source": [
    "trim_amount = int(np.floor(0.05*len(full_data.log_mae_ratio)))\n",
    "sorted_ratio = np.sort(full_data.log_mae_ratio)\n",
    "\n",
    "lower = sorted_ratio[trim_amount-1]\n",
    "upper = sorted_ratio[-trim_amount]"
   ]
  },
  {
   "cell_type": "code",
   "execution_count": 202,
   "id": "6d45fcb5",
   "metadata": {},
   "outputs": [],
   "source": [
    "indexes_to_keep = [i for i,j in enumerate(full_data.log_mae_ratio) if j < upper and j > lower]"
   ]
  },
  {
   "cell_type": "code",
   "execution_count": 203,
   "id": "96b08f52",
   "metadata": {},
   "outputs": [],
   "source": [
    "full_data = full_data.iloc[indexes_to_keep,:]\n",
    "full_data = full_data.reset_index(drop=True)"
   ]
  },
  {
   "cell_type": "code",
   "execution_count": 204,
   "id": "f2bcfe82",
   "metadata": {},
   "outputs": [],
   "source": [
    "bin_change_in_coef = []\n",
    "\n",
    "for i, j in enumerate(full_data.change_in_coef):\n",
    "    if j < -0.05:\n",
    "        bin_change_in_coef.append(\"Decreased\")\n",
    "    elif j > 0.05:\n",
    "        bin_change_in_coef.append(\"Increased\")\n",
    "    else:\n",
    "        bin_change_in_coef.append(\"Maintained\")\n",
    "        \n",
    "full_data[\"bin_change_in_coef\"] = bin_change_in_coef"
   ]
  },
  {
   "cell_type": "code",
   "execution_count": 205,
   "id": "a3b875e3",
   "metadata": {},
   "outputs": [],
   "source": [
    "full_data['magnitude_bins'] = binner(full_data.magnitudes)"
   ]
  },
  {
   "cell_type": "code",
   "execution_count": 206,
   "id": "bdcc2a08",
   "metadata": {},
   "outputs": [],
   "source": [
    "full_data['coef_bins'] = binner(full_data.coef_var)"
   ]
  },
  {
   "cell_type": "code",
   "execution_count": 207,
   "id": "075dc090",
   "metadata": {},
   "outputs": [],
   "source": [
    "def AvgRelMAE(ratios):\n",
    "    return np.exp((1/len(ratios))*np.sum(ratios))"
   ]
  },
  {
   "cell_type": "markdown",
   "id": "afbed29b",
   "metadata": {},
   "source": [
    "43% of privacy adjustments were valuable (less than random chance, tends to make forecasts worse)"
   ]
  },
  {
   "cell_type": "code",
   "execution_count": 208,
   "id": "882381a4",
   "metadata": {},
   "outputs": [
    {
     "data": {
      "text/plain": [
       "0.4250334672021419"
      ]
     },
     "execution_count": 208,
     "metadata": {},
     "output_type": "execute_result"
    }
   ],
   "source": [
    "np.mean(full_data.is_valuable)"
   ]
  },
  {
   "cell_type": "markdown",
   "id": "4cada94d",
   "metadata": {},
   "source": [
    "Tabulate the percentage of valuable adjustments by adjustment direction and magnitude. "
   ]
  },
  {
   "cell_type": "code",
   "execution_count": 209,
   "id": "7553a7b9",
   "metadata": {},
   "outputs": [
    {
     "data": {
      "text/html": [
       "<div>\n",
       "<style scoped>\n",
       "    .dataframe tbody tr th:only-of-type {\n",
       "        vertical-align: middle;\n",
       "    }\n",
       "\n",
       "    .dataframe tbody tr th {\n",
       "        vertical-align: top;\n",
       "    }\n",
       "\n",
       "    .dataframe thead th {\n",
       "        text-align: right;\n",
       "    }\n",
       "</style>\n",
       "<table border=\"1\" class=\"dataframe\">\n",
       "  <thead>\n",
       "    <tr style=\"text-align: right;\">\n",
       "      <th>positive_adjustment</th>\n",
       "      <th>0.0</th>\n",
       "      <th>1.0</th>\n",
       "      <th>All</th>\n",
       "    </tr>\n",
       "    <tr>\n",
       "      <th>magnitude_bins</th>\n",
       "      <th></th>\n",
       "      <th></th>\n",
       "      <th></th>\n",
       "    </tr>\n",
       "  </thead>\n",
       "  <tbody>\n",
       "    <tr>\n",
       "      <th>High</th>\n",
       "      <td>0.303867</td>\n",
       "      <td>0.405195</td>\n",
       "      <td>0.356091</td>\n",
       "    </tr>\n",
       "    <tr>\n",
       "      <th>Low</th>\n",
       "      <td>0.467742</td>\n",
       "      <td>0.490667</td>\n",
       "      <td>0.479250</td>\n",
       "    </tr>\n",
       "    <tr>\n",
       "      <th>Medium</th>\n",
       "      <td>0.418639</td>\n",
       "      <td>0.443765</td>\n",
       "      <td>0.432396</td>\n",
       "    </tr>\n",
       "    <tr>\n",
       "      <th>All</th>\n",
       "      <td>0.402128</td>\n",
       "      <td>0.445501</td>\n",
       "      <td>0.425033</td>\n",
       "    </tr>\n",
       "  </tbody>\n",
       "</table>\n",
       "</div>"
      ],
      "text/plain": [
       "positive_adjustment       0.0       1.0       All\n",
       "magnitude_bins                                   \n",
       "High                 0.303867  0.405195  0.356091\n",
       "Low                  0.467742  0.490667  0.479250\n",
       "Medium               0.418639  0.443765  0.432396\n",
       "All                  0.402128  0.445501  0.425033"
      ]
     },
     "execution_count": 209,
     "metadata": {},
     "output_type": "execute_result"
    }
   ],
   "source": [
    "pd.pivot_table(data=full_data, values=\"is_valuable\", index=\"magnitude_bins\", columns=\"positive_adjustment\", aggfunc=np.mean, margins=True)"
   ]
  },
  {
   "cell_type": "code",
   "execution_count": 210,
   "id": "a453a25d",
   "metadata": {},
   "outputs": [
    {
     "data": {
      "text/html": [
       "<div>\n",
       "<style scoped>\n",
       "    .dataframe tbody tr th:only-of-type {\n",
       "        vertical-align: middle;\n",
       "    }\n",
       "\n",
       "    .dataframe tbody tr th {\n",
       "        vertical-align: top;\n",
       "    }\n",
       "\n",
       "    .dataframe thead th {\n",
       "        text-align: right;\n",
       "    }\n",
       "</style>\n",
       "<table border=\"1\" class=\"dataframe\">\n",
       "  <thead>\n",
       "    <tr style=\"text-align: right;\">\n",
       "      <th>positive_adjustment</th>\n",
       "      <th>0.0</th>\n",
       "      <th>1.0</th>\n",
       "      <th>All</th>\n",
       "    </tr>\n",
       "    <tr>\n",
       "      <th>magnitude_bins</th>\n",
       "      <th></th>\n",
       "      <th></th>\n",
       "      <th></th>\n",
       "    </tr>\n",
       "  </thead>\n",
       "  <tbody>\n",
       "    <tr>\n",
       "      <th>High</th>\n",
       "      <td>1.470395</td>\n",
       "      <td>1.351251</td>\n",
       "      <td>1.407732</td>\n",
       "    </tr>\n",
       "    <tr>\n",
       "      <th>Low</th>\n",
       "      <td>1.060349</td>\n",
       "      <td>0.993290</td>\n",
       "      <td>1.026137</td>\n",
       "    </tr>\n",
       "    <tr>\n",
       "      <th>Medium</th>\n",
       "      <td>1.166326</td>\n",
       "      <td>1.123600</td>\n",
       "      <td>1.142735</td>\n",
       "    </tr>\n",
       "    <tr>\n",
       "      <th>All</th>\n",
       "      <td>1.207081</td>\n",
       "      <td>1.141401</td>\n",
       "      <td>1.171937</td>\n",
       "    </tr>\n",
       "  </tbody>\n",
       "</table>\n",
       "</div>"
      ],
      "text/plain": [
       "positive_adjustment       0.0       1.0       All\n",
       "magnitude_bins                                   \n",
       "High                 1.470395  1.351251  1.407732\n",
       "Low                  1.060349  0.993290  1.026137\n",
       "Medium               1.166326  1.123600  1.142735\n",
       "All                  1.207081  1.141401  1.171937"
      ]
     },
     "execution_count": 210,
     "metadata": {},
     "output_type": "execute_result"
    }
   ],
   "source": [
    "pd.pivot_table(data=full_data, values=\"log_mae_ratio\", index=\"magnitude_bins\", columns=\"positive_adjustment\", aggfunc=AvgRelMAE, margins=True)"
   ]
  },
  {
   "cell_type": "code",
   "execution_count": 211,
   "id": "7f503cd1",
   "metadata": {},
   "outputs": [
    {
     "data": {
      "text/html": [
       "<div>\n",
       "<style scoped>\n",
       "    .dataframe tbody tr th:only-of-type {\n",
       "        vertical-align: middle;\n",
       "    }\n",
       "\n",
       "    .dataframe tbody tr th {\n",
       "        vertical-align: top;\n",
       "    }\n",
       "\n",
       "    .dataframe thead th {\n",
       "        text-align: right;\n",
       "    }\n",
       "</style>\n",
       "<table border=\"1\" class=\"dataframe\">\n",
       "  <thead>\n",
       "    <tr style=\"text-align: right;\">\n",
       "      <th>bin_change_in_coef</th>\n",
       "      <th>Decreased</th>\n",
       "      <th>Increased</th>\n",
       "      <th>Maintained</th>\n",
       "      <th>All</th>\n",
       "    </tr>\n",
       "    <tr>\n",
       "      <th>coef_bins</th>\n",
       "      <th></th>\n",
       "      <th></th>\n",
       "      <th></th>\n",
       "      <th></th>\n",
       "    </tr>\n",
       "  </thead>\n",
       "  <tbody>\n",
       "    <tr>\n",
       "      <th>High</th>\n",
       "      <td>0.490566</td>\n",
       "      <td>0.447368</td>\n",
       "      <td>0.405172</td>\n",
       "      <td>0.461847</td>\n",
       "    </tr>\n",
       "    <tr>\n",
       "      <th>Low</th>\n",
       "      <td>0.382353</td>\n",
       "      <td>0.360502</td>\n",
       "      <td>0.315789</td>\n",
       "      <td>0.356952</td>\n",
       "    </tr>\n",
       "    <tr>\n",
       "      <th>Medium</th>\n",
       "      <td>0.425406</td>\n",
       "      <td>0.491416</td>\n",
       "      <td>0.402857</td>\n",
       "      <td>0.440723</td>\n",
       "    </tr>\n",
       "    <tr>\n",
       "      <th>All</th>\n",
       "      <td>0.450337</td>\n",
       "      <td>0.416813</td>\n",
       "      <td>0.393617</td>\n",
       "      <td>0.425033</td>\n",
       "    </tr>\n",
       "  </tbody>\n",
       "</table>\n",
       "</div>"
      ],
      "text/plain": [
       "bin_change_in_coef  Decreased  Increased  Maintained       All\n",
       "coef_bins                                                     \n",
       "High                 0.490566   0.447368    0.405172  0.461847\n",
       "Low                  0.382353   0.360502    0.315789  0.356952\n",
       "Medium               0.425406   0.491416    0.402857  0.440723\n",
       "All                  0.450337   0.416813    0.393617  0.425033"
      ]
     },
     "execution_count": 211,
     "metadata": {},
     "output_type": "execute_result"
    }
   ],
   "source": [
    "pd.pivot_table(data=full_data, values=\"is_valuable\", index=\"coef_bins\", columns=\"bin_change_in_coef\", aggfunc=np.mean, margins=True)"
   ]
  },
  {
   "cell_type": "code",
   "execution_count": 212,
   "id": "b0429830",
   "metadata": {},
   "outputs": [
    {
     "data": {
      "text/html": [
       "<div>\n",
       "<style scoped>\n",
       "    .dataframe tbody tr th:only-of-type {\n",
       "        vertical-align: middle;\n",
       "    }\n",
       "\n",
       "    .dataframe tbody tr th {\n",
       "        vertical-align: top;\n",
       "    }\n",
       "\n",
       "    .dataframe thead th {\n",
       "        text-align: right;\n",
       "    }\n",
       "</style>\n",
       "<table border=\"1\" class=\"dataframe\">\n",
       "  <thead>\n",
       "    <tr style=\"text-align: right;\">\n",
       "      <th>bin_change_in_coef</th>\n",
       "      <th>Decreased</th>\n",
       "      <th>Increased</th>\n",
       "      <th>Maintained</th>\n",
       "      <th>All</th>\n",
       "    </tr>\n",
       "    <tr>\n",
       "      <th>coef_bins</th>\n",
       "      <th></th>\n",
       "      <th></th>\n",
       "      <th></th>\n",
       "      <th></th>\n",
       "    </tr>\n",
       "  </thead>\n",
       "  <tbody>\n",
       "    <tr>\n",
       "      <th>High</th>\n",
       "      <td>1.058511</td>\n",
       "      <td>1.298189</td>\n",
       "      <td>1.135990</td>\n",
       "      <td>1.093283</td>\n",
       "    </tr>\n",
       "    <tr>\n",
       "      <th>Low</th>\n",
       "      <td>1.152134</td>\n",
       "      <td>1.267741</td>\n",
       "      <td>1.361529</td>\n",
       "      <td>1.271430</td>\n",
       "    </tr>\n",
       "    <tr>\n",
       "      <th>Medium</th>\n",
       "      <td>1.184280</td>\n",
       "      <td>1.118152</td>\n",
       "      <td>1.191335</td>\n",
       "      <td>1.164851</td>\n",
       "    </tr>\n",
       "    <tr>\n",
       "      <th>All</th>\n",
       "      <td>1.131188</td>\n",
       "      <td>1.205376</td>\n",
       "      <td>1.189729</td>\n",
       "      <td>1.171937</td>\n",
       "    </tr>\n",
       "  </tbody>\n",
       "</table>\n",
       "</div>"
      ],
      "text/plain": [
       "bin_change_in_coef  Decreased  Increased  Maintained       All\n",
       "coef_bins                                                     \n",
       "High                 1.058511   1.298189    1.135990  1.093283\n",
       "Low                  1.152134   1.267741    1.361529  1.271430\n",
       "Medium               1.184280   1.118152    1.191335  1.164851\n",
       "All                  1.131188   1.205376    1.189729  1.171937"
      ]
     },
     "execution_count": 212,
     "metadata": {},
     "output_type": "execute_result"
    }
   ],
   "source": [
    "pd.pivot_table(data=full_data, values=\"log_mae_ratio\", index=\"coef_bins\", columns=\"bin_change_in_coef\", aggfunc=AvgRelMAE, margins=True)"
   ]
  },
  {
   "cell_type": "markdown",
   "id": "96fe4def",
   "metadata": {},
   "source": [
    "Look at whether forecasts improved as a function of positive/negative adjustment and linearity of the series."
   ]
  },
  {
   "cell_type": "code",
   "execution_count": 213,
   "id": "54c552b3",
   "metadata": {},
   "outputs": [],
   "source": [
    "full_data['positive_slope'] = full_data.slope > 0"
   ]
  },
  {
   "cell_type": "code",
   "execution_count": 214,
   "id": "043dad10",
   "metadata": {},
   "outputs": [
    {
     "data": {
      "text/html": [
       "<div>\n",
       "<style scoped>\n",
       "    .dataframe tbody tr th:only-of-type {\n",
       "        vertical-align: middle;\n",
       "    }\n",
       "\n",
       "    .dataframe tbody tr th {\n",
       "        vertical-align: top;\n",
       "    }\n",
       "\n",
       "    .dataframe thead th {\n",
       "        text-align: right;\n",
       "    }\n",
       "</style>\n",
       "<table border=\"1\" class=\"dataframe\">\n",
       "  <thead>\n",
       "    <tr style=\"text-align: right;\">\n",
       "      <th>positive_adjustment</th>\n",
       "      <th>0.0</th>\n",
       "      <th>1.0</th>\n",
       "      <th>All</th>\n",
       "    </tr>\n",
       "    <tr>\n",
       "      <th>positive_slope</th>\n",
       "      <th></th>\n",
       "      <th></th>\n",
       "      <th></th>\n",
       "    </tr>\n",
       "  </thead>\n",
       "  <tbody>\n",
       "    <tr>\n",
       "      <th>False</th>\n",
       "      <td>0.395833</td>\n",
       "      <td>0.450163</td>\n",
       "      <td>0.426282</td>\n",
       "    </tr>\n",
       "    <tr>\n",
       "      <th>True</th>\n",
       "      <td>0.415556</td>\n",
       "      <td>0.429379</td>\n",
       "      <td>0.421642</td>\n",
       "    </tr>\n",
       "    <tr>\n",
       "      <th>All</th>\n",
       "      <td>0.402128</td>\n",
       "      <td>0.445501</td>\n",
       "      <td>0.425033</td>\n",
       "    </tr>\n",
       "  </tbody>\n",
       "</table>\n",
       "</div>"
      ],
      "text/plain": [
       "positive_adjustment       0.0       1.0       All\n",
       "positive_slope                                   \n",
       "False                0.395833  0.450163  0.426282\n",
       "True                 0.415556  0.429379  0.421642\n",
       "All                  0.402128  0.445501  0.425033"
      ]
     },
     "execution_count": 214,
     "metadata": {},
     "output_type": "execute_result"
    }
   ],
   "source": [
    "pd.pivot_table(data=full_data, values=\"is_valuable\", index=\"positive_slope\", columns=\"positive_adjustment\", aggfunc=np.mean, margins=True)"
   ]
  },
  {
   "cell_type": "code",
   "execution_count": 215,
   "id": "a16d9d2c",
   "metadata": {},
   "outputs": [
    {
     "data": {
      "text/html": [
       "<div>\n",
       "<style scoped>\n",
       "    .dataframe tbody tr th:only-of-type {\n",
       "        vertical-align: middle;\n",
       "    }\n",
       "\n",
       "    .dataframe tbody tr th {\n",
       "        vertical-align: top;\n",
       "    }\n",
       "\n",
       "    .dataframe thead th {\n",
       "        text-align: right;\n",
       "    }\n",
       "</style>\n",
       "<table border=\"1\" class=\"dataframe\">\n",
       "  <thead>\n",
       "    <tr style=\"text-align: right;\">\n",
       "      <th>positive_adjustment</th>\n",
       "      <th>0.0</th>\n",
       "      <th>1.0</th>\n",
       "      <th>All</th>\n",
       "    </tr>\n",
       "    <tr>\n",
       "      <th>positive_slope</th>\n",
       "      <th></th>\n",
       "      <th></th>\n",
       "      <th></th>\n",
       "    </tr>\n",
       "  </thead>\n",
       "  <tbody>\n",
       "    <tr>\n",
       "      <th>False</th>\n",
       "      <td>1.239876</td>\n",
       "      <td>1.143497</td>\n",
       "      <td>1.184902</td>\n",
       "    </tr>\n",
       "    <tr>\n",
       "      <th>True</th>\n",
       "      <td>1.139990</td>\n",
       "      <td>1.134182</td>\n",
       "      <td>1.137429</td>\n",
       "    </tr>\n",
       "    <tr>\n",
       "      <th>All</th>\n",
       "      <td>1.207081</td>\n",
       "      <td>1.141401</td>\n",
       "      <td>1.171937</td>\n",
       "    </tr>\n",
       "  </tbody>\n",
       "</table>\n",
       "</div>"
      ],
      "text/plain": [
       "positive_adjustment       0.0       1.0       All\n",
       "positive_slope                                   \n",
       "False                1.239876  1.143497  1.184902\n",
       "True                 1.139990  1.134182  1.137429\n",
       "All                  1.207081  1.141401  1.171937"
      ]
     },
     "execution_count": 215,
     "metadata": {},
     "output_type": "execute_result"
    }
   ],
   "source": [
    "pd.pivot_table(data=full_data, values=\"log_mae_ratio\", index=\"positive_slope\", columns=\"positive_adjustment\", aggfunc=AvgRelMAE, margins=True)"
   ]
  },
  {
   "cell_type": "code",
   "execution_count": 216,
   "id": "27d24576",
   "metadata": {},
   "outputs": [
    {
     "data": {
      "text/html": [
       "<div>\n",
       "<style scoped>\n",
       "    .dataframe tbody tr th:only-of-type {\n",
       "        vertical-align: middle;\n",
       "    }\n",
       "\n",
       "    .dataframe tbody tr th {\n",
       "        vertical-align: top;\n",
       "    }\n",
       "\n",
       "    .dataframe thead th {\n",
       "        text-align: right;\n",
       "    }\n",
       "</style>\n",
       "<table border=\"1\" class=\"dataframe\">\n",
       "  <thead>\n",
       "    <tr style=\"text-align: right;\">\n",
       "      <th>positive_adjustment</th>\n",
       "      <th>0.0</th>\n",
       "      <th>1.0</th>\n",
       "      <th>All</th>\n",
       "    </tr>\n",
       "    <tr>\n",
       "      <th>positive_slope</th>\n",
       "      <th></th>\n",
       "      <th></th>\n",
       "      <th></th>\n",
       "    </tr>\n",
       "  </thead>\n",
       "  <tbody>\n",
       "    <tr>\n",
       "      <th>False</th>\n",
       "      <td>0.321285</td>\n",
       "      <td>0.409639</td>\n",
       "      <td>0.730924</td>\n",
       "    </tr>\n",
       "    <tr>\n",
       "      <th>True</th>\n",
       "      <td>0.150602</td>\n",
       "      <td>0.118474</td>\n",
       "      <td>0.269076</td>\n",
       "    </tr>\n",
       "    <tr>\n",
       "      <th>All</th>\n",
       "      <td>0.471888</td>\n",
       "      <td>0.528112</td>\n",
       "      <td>1.000000</td>\n",
       "    </tr>\n",
       "  </tbody>\n",
       "</table>\n",
       "</div>"
      ],
      "text/plain": [
       "positive_adjustment       0.0       1.0       All\n",
       "positive_slope                                   \n",
       "False                0.321285  0.409639  0.730924\n",
       "True                 0.150602  0.118474  0.269076\n",
       "All                  0.471888  0.528112  1.000000"
      ]
     },
     "execution_count": 216,
     "metadata": {},
     "output_type": "execute_result"
    }
   ],
   "source": [
    "pd.crosstab(full_data.positive_slope, full_data.positive_adjustment, margins=True)/ full_data.shape[0]"
   ]
  },
  {
   "cell_type": "markdown",
   "id": "e5085a8e",
   "metadata": {},
   "source": [
    "Measure the forecast accuracy before and after data protection excluding the series with negative slopes that were downward adjusted."
   ]
  },
  {
   "cell_type": "code",
   "execution_count": 176,
   "id": "5d97f238",
   "metadata": {},
   "outputs": [],
   "source": [
    "full_data = full_data.loc[full_data.positive_slope==0.0,:]\n",
    "full_data = full_data.loc[full_data.positive_adjustment==0.0,:]"
   ]
  },
  {
   "cell_type": "code",
   "execution_count": 177,
   "id": "464f14a7",
   "metadata": {},
   "outputs": [],
   "source": [
    "to_exclude = list(full_data.index)"
   ]
  },
  {
   "cell_type": "code",
   "execution_count": 178,
   "id": "d3bdc8de",
   "metadata": {},
   "outputs": [],
   "source": [
    "full_data = []\n",
    "\n",
    "# for each file with time series features\n",
    "for m in models:\n",
    "    # get the name of the file with the protected forecasts for the model\n",
    "    protected_fcast_file = [f for f in fcast_files if m in f and \"original\" not in f]\n",
    "    original_fcast_file = [f for f in fcast_files if m in f and \"original\" in f]\n",
    "    [protected_fcast_file] = protected_fcast_file\n",
    "    [original_fcast_file] = original_fcast_file\n",
    "    \n",
    "    # import the privacy adjusted forecasts\n",
    "    fcasts_protected = pd.read_csv(forecasts_path + protected_fcast_file)\n",
    "    # import the original forecasts\n",
    "    fcasts_original = pd.read_csv(forecasts_path + original_fcast_file)\n",
    "    \n",
    "    # calculate original MAE\n",
    "    original_errors = mean_absolute_error(test_data, fcasts_original, multioutput=\"raw_values\").reshape(-1,1)\n",
    "    # calculate protected MAE\n",
    "    protected_errors = mean_absolute_error(test_data, fcasts_protected, multioutput=\"raw_values\").reshape(-1,1)\n",
    "        \n",
    "    combined = np.concatenate([original_errors,\n",
    "                               protected_errors], axis=1)\n",
    "    \n",
    "    combined = pd.DataFrame(combined)\n",
    "    \n",
    "    combined['model_name'] = m\n",
    "    \n",
    "    combined.columns = [\"original_errors\",\n",
    "                        \"protected_errors\",\n",
    "                        \"model_name\"]\n",
    "    \n",
    "    full_data.append(combined)"
   ]
  },
  {
   "cell_type": "code",
   "execution_count": 179,
   "id": "2e3bd972",
   "metadata": {},
   "outputs": [],
   "source": [
    "full_data = pd.concat(full_data, axis=0).reset_index(drop=True)"
   ]
  },
  {
   "cell_type": "code",
   "execution_count": 180,
   "id": "50f253ff",
   "metadata": {},
   "outputs": [
    {
     "data": {
      "text/html": [
       "<div>\n",
       "<style scoped>\n",
       "    .dataframe tbody tr th:only-of-type {\n",
       "        vertical-align: middle;\n",
       "    }\n",
       "\n",
       "    .dataframe tbody tr th {\n",
       "        vertical-align: top;\n",
       "    }\n",
       "\n",
       "    .dataframe thead th {\n",
       "        text-align: right;\n",
       "    }\n",
       "</style>\n",
       "<table border=\"1\" class=\"dataframe\">\n",
       "  <thead>\n",
       "    <tr style=\"text-align: right;\">\n",
       "      <th></th>\n",
       "      <th>original_errors</th>\n",
       "      <th>protected_errors</th>\n",
       "      <th>model_name</th>\n",
       "    </tr>\n",
       "  </thead>\n",
       "  <tbody>\n",
       "    <tr>\n",
       "      <th>0</th>\n",
       "      <td>287.739587</td>\n",
       "      <td>1137.856845</td>\n",
       "      <td>SES</td>\n",
       "    </tr>\n",
       "    <tr>\n",
       "      <th>1</th>\n",
       "      <td>328.101792</td>\n",
       "      <td>56.394353</td>\n",
       "      <td>SES</td>\n",
       "    </tr>\n",
       "    <tr>\n",
       "      <th>2</th>\n",
       "      <td>1208.833366</td>\n",
       "      <td>111.499170</td>\n",
       "      <td>SES</td>\n",
       "    </tr>\n",
       "    <tr>\n",
       "      <th>3</th>\n",
       "      <td>674.605024</td>\n",
       "      <td>1518.029571</td>\n",
       "      <td>SES</td>\n",
       "    </tr>\n",
       "    <tr>\n",
       "      <th>4</th>\n",
       "      <td>166.640453</td>\n",
       "      <td>4035.526482</td>\n",
       "      <td>SES</td>\n",
       "    </tr>\n",
       "    <tr>\n",
       "      <th>...</th>\n",
       "      <td>...</td>\n",
       "      <td>...</td>\n",
       "      <td>...</td>\n",
       "    </tr>\n",
       "    <tr>\n",
       "      <th>3313</th>\n",
       "      <td>793.367263</td>\n",
       "      <td>1914.136464</td>\n",
       "      <td>RNN</td>\n",
       "    </tr>\n",
       "    <tr>\n",
       "      <th>3314</th>\n",
       "      <td>32.506911</td>\n",
       "      <td>258.359652</td>\n",
       "      <td>RNN</td>\n",
       "    </tr>\n",
       "    <tr>\n",
       "      <th>3315</th>\n",
       "      <td>102.107697</td>\n",
       "      <td>25.565636</td>\n",
       "      <td>RNN</td>\n",
       "    </tr>\n",
       "    <tr>\n",
       "      <th>3316</th>\n",
       "      <td>10.099762</td>\n",
       "      <td>481.575580</td>\n",
       "      <td>RNN</td>\n",
       "    </tr>\n",
       "    <tr>\n",
       "      <th>3317</th>\n",
       "      <td>322.774268</td>\n",
       "      <td>198.798800</td>\n",
       "      <td>RNN</td>\n",
       "    </tr>\n",
       "  </tbody>\n",
       "</table>\n",
       "<p>2358 rows × 3 columns</p>\n",
       "</div>"
      ],
      "text/plain": [
       "      original_errors  protected_errors model_name\n",
       "0          287.739587       1137.856845        SES\n",
       "1          328.101792         56.394353        SES\n",
       "2         1208.833366        111.499170        SES\n",
       "3          674.605024       1518.029571        SES\n",
       "4          166.640453       4035.526482        SES\n",
       "...               ...               ...        ...\n",
       "3313       793.367263       1914.136464        RNN\n",
       "3314        32.506911        258.359652        RNN\n",
       "3315       102.107697         25.565636        RNN\n",
       "3316        10.099762        481.575580        RNN\n",
       "3317       322.774268        198.798800        RNN\n",
       "\n",
       "[2358 rows x 3 columns]"
      ]
     },
     "execution_count": 180,
     "metadata": {},
     "output_type": "execute_result"
    }
   ],
   "source": [
    "full_data.drop(to_exclude, axis=0)"
   ]
  },
  {
   "cell_type": "code",
   "execution_count": 181,
   "id": "0ea6ac7f",
   "metadata": {},
   "outputs": [
    {
     "data": {
      "text/plain": [
       "685.710070507856"
      ]
     },
     "execution_count": 181,
     "metadata": {},
     "output_type": "execute_result"
    }
   ],
   "source": [
    "np.mean(full_data.original_errors)"
   ]
  },
  {
   "cell_type": "code",
   "execution_count": 183,
   "id": "6d50711d",
   "metadata": {},
   "outputs": [
    {
     "data": {
      "text/plain": [
       "781.0163908920538"
      ]
     },
     "execution_count": 183,
     "metadata": {},
     "output_type": "execute_result"
    }
   ],
   "source": [
    "np.mean(full_data.protected_errors)"
   ]
  },
  {
   "cell_type": "code",
   "execution_count": 184,
   "id": "b90114da",
   "metadata": {},
   "outputs": [
    {
     "data": {
      "text/plain": [
       "0.13898003529188716"
      ]
     },
     "execution_count": 184,
     "metadata": {},
     "output_type": "execute_result"
    }
   ],
   "source": [
    "(781.01-685.71)/685.71"
   ]
  },
  {
   "cell_type": "markdown",
   "id": "c719cbbe",
   "metadata": {},
   "source": [
    "***"
   ]
  },
  {
   "cell_type": "markdown",
   "id": "c437b7fb",
   "metadata": {},
   "source": [
    "Look at the average series with improved accuracy and the average series with worse accuracy."
   ]
  },
  {
   "cell_type": "code",
   "execution_count": null,
   "id": "b2be2074",
   "metadata": {},
   "outputs": [],
   "source": [
    "avg_valuable = np.hstack(overall_valuable).mean(axis=1)"
   ]
  },
  {
   "cell_type": "code",
   "execution_count": null,
   "id": "571b34d8",
   "metadata": {},
   "outputs": [],
   "source": [
    "improved_accuracy = [train_data[i] for i,j in enumerate(avg_valuable) if j == 1.0]"
   ]
  },
  {
   "cell_type": "code",
   "execution_count": null,
   "id": "21a94d7e",
   "metadata": {},
   "outputs": [],
   "source": [
    "worse_accuracy = [train_data[i] for i,j in enumerate(avg_valuable) if j < 1.0]"
   ]
  },
  {
   "cell_type": "markdown",
   "id": "55809291",
   "metadata": {},
   "source": [
    "Plot the average series with improved accuracy."
   ]
  },
  {
   "cell_type": "code",
   "execution_count": null,
   "id": "db3000c4",
   "metadata": {},
   "outputs": [],
   "source": [
    "min_len = np.min([len(x) for x in improved_accuracy])"
   ]
  },
  {
   "cell_type": "code",
   "execution_count": null,
   "id": "90cce199",
   "metadata": {},
   "outputs": [],
   "source": [
    "improved_accuracy = [x.iloc[-min_len:].reset_index(drop=True) for x in improved_accuracy]"
   ]
  },
  {
   "cell_type": "code",
   "execution_count": null,
   "id": "f5a03ede",
   "metadata": {},
   "outputs": [],
   "source": [
    "avg_improved = np.mean(pd.concat(improved_accuracy, axis=1, ignore_index=True), axis=1)"
   ]
  },
  {
   "cell_type": "code",
   "execution_count": null,
   "id": "1c921fbe",
   "metadata": {},
   "outputs": [],
   "source": [
    "plot_series(avg_improved)"
   ]
  },
  {
   "cell_type": "markdown",
   "id": "3a185a98",
   "metadata": {},
   "source": [
    "Plot the average series with worse accuracy."
   ]
  },
  {
   "cell_type": "code",
   "execution_count": null,
   "id": "467cb739",
   "metadata": {},
   "outputs": [],
   "source": [
    "min_len = np.min([len(x) for x in worse_accuracy])"
   ]
  },
  {
   "cell_type": "code",
   "execution_count": null,
   "id": "329755b1",
   "metadata": {},
   "outputs": [],
   "source": [
    "worse_accuracy = [x.iloc[-min_len:].reset_index(drop=True) for x in worse_accuracy]"
   ]
  },
  {
   "cell_type": "code",
   "execution_count": null,
   "id": "e1f8b176",
   "metadata": {},
   "outputs": [],
   "source": [
    "avg_worse = np.mean(pd.concat(worse_accuracy, axis=1, ignore_index=True), axis=1)"
   ]
  },
  {
   "cell_type": "code",
   "execution_count": null,
   "id": "737bb568",
   "metadata": {},
   "outputs": [],
   "source": [
    "plot_series(avg_worse)"
   ]
  },
  {
   "cell_type": "code",
   "execution_count": null,
   "id": "78267440",
   "metadata": {},
   "outputs": [],
   "source": []
  },
  {
   "cell_type": "markdown",
   "id": "9842ae37",
   "metadata": {},
   "source": [
    "***"
   ]
  },
  {
   "cell_type": "markdown",
   "id": "42f135f1",
   "metadata": {},
   "source": [
    "# Calculate Forecast Characteristics"
   ]
  },
  {
   "cell_type": "markdown",
   "id": "77bcf297",
   "metadata": {},
   "source": [
    "We want to calculate adjustment variables for each protection method across all models and protection parameters."
   ]
  },
  {
   "cell_type": "markdown",
   "id": "83117c8d",
   "metadata": {},
   "source": [
    "We will need to loop through forecast files."
   ]
  },
  {
   "cell_type": "code",
   "execution_count": null,
   "id": "a6392314",
   "metadata": {},
   "outputs": [],
   "source": [
    "protection_methods = {\"Top\": [0.1, 0.2, 0.4],\n",
    "                      \"Bottom\": [0.1, 0.2, 0.4], \n",
    "                      \"AN\": [0.5, 1, 1.5, 2],\n",
    "                      \"DP\": [0.1, 1, 4.6, 10, 20]}"
   ]
  },
  {
   "cell_type": "markdown",
   "id": "3a6ca535",
   "metadata": {},
   "source": [
    "# Need to concatenate dataframes so index will line up."
   ]
  },
  {
   "cell_type": "code",
   "execution_count": null,
   "id": "02cf5005",
   "metadata": {},
   "outputs": [],
   "source": [
    "forecast_characteristics = []\n",
    "\n",
    "# for each model\n",
    "for model in models:\n",
    "    \n",
    "    # import the original forecasts\n",
    "    original_file = [f for f in fcast_files if model in f and 'original' in f]\n",
    "    [original_file] = original_file\n",
    "    original_fcasts = pd.read_csv(forecasts_path + original_file)\n",
    "    \n",
    "    # for each protection method\n",
    "    for method in protection_methods.items():\n",
    "        \n",
    "        # for each parameter\n",
    "        for param in method[1]:\n",
    "            \n",
    "            # import the forecasts based on protected data\n",
    "            protected_file = [f for f in fcast_files if method[0] in f and \"_\"+str(param)+\".csv\" in f and model in f]\n",
    "            \n",
    "            [protected_file] = protected_file\n",
    "            \n",
    "            # import each protected file and calculate characteristics\n",
    "            protected_fcasts = pd.read_csv(forecasts_path + protected_file)\n",
    "            \n",
    "            # adjustment direction\n",
    "            direction = (protected_fcasts > original_fcasts).T\n",
    "            \n",
    "            # Calculate adjustment magnitude (absolute difference in forecasts), normalized by the mean of the series.\n",
    "            series_means = [np.mean(x) for x in train_data]\n",
    "            magnitudes = (protected_fcasts - original_fcasts).abs().T.divide(series_means, axis=0)\n",
    "\n",
    "            # Calculate binary large and small adjustment indicators (belongs to 4th and 1st quantiles, respectively).\n",
    "            # qs = np.quantile(magnitudes, q=[0.25, 0.75])\n",
    "            # large_magnitudes = magnitudes >= qs[1]\n",
    "            # small_magnitudes = magnitudes <= qs[0]\n",
    "            \n",
    "            # calculate original MAE\n",
    "            original_errors = mean_absolute_error(test_data, original_fcasts, multioutput=\"raw_values\")\n",
    "            # calculate protected MAE\n",
    "            adjusted_errors = mean_absolute_error(test_data, protected_fcasts, multioutput=\"raw_values\")\n",
    "            # calculate whether the adjustment improved accuracy\n",
    "            valuable = pd.Series(adjusted_errors < original_errors)\n",
    "            \n",
    "            # indicators for the protection method, parameter, and model\n",
    "            method_col = pd.Series(np.repeat(method[0], len(train_data))).reset_index(drop=True)\n",
    "            param_col = pd.Series(np.repeat(str(param), len(train_data))).reset_index(drop=True)\n",
    "            model_col = pd.Series(np.repeat(model, len(train_data))).reset_index(drop=True)\n",
    "            \n",
    "            # concatenate adjustment variables separately and reset the index\n",
    "            X = pd.concat([direction, magnitudes], ignore_index=True, axis=1).reset_index(drop=True)\n",
    "            \n",
    "            # separate concatenations because the index was getting messed up\n",
    "            X = pd.concat([method_col, param_col, model_col, X, valuable], axis=1)\n",
    "            \n",
    "            X.columns = [\"Method\", \"Parameter\", \"Model\", \"Direction\", \"Magnitude\", \"Valuable\"]\n",
    "            \n",
    "            forecast_characteristics.append(X)"
   ]
  },
  {
   "cell_type": "code",
   "execution_count": null,
   "id": "30d4b3f6",
   "metadata": {},
   "outputs": [],
   "source": [
    "adjustment_df = pd.concat(forecast_characteristics, axis=0)"
   ]
  },
  {
   "cell_type": "code",
   "execution_count": null,
   "id": "02bd0754",
   "metadata": {},
   "outputs": [],
   "source": [
    "adjustment_df.loc[adjustment_df.Method==\"Top\",:].mean()"
   ]
  },
  {
   "cell_type": "code",
   "execution_count": null,
   "id": "8a396d5b",
   "metadata": {},
   "outputs": [],
   "source": [
    "adjustment_df.loc[adjustment_df.Method==\"Top\",:].groupby([\"Direction\"]).mean()"
   ]
  },
  {
   "cell_type": "code",
   "execution_count": null,
   "id": "21cbc81e",
   "metadata": {},
   "outputs": [],
   "source": [
    "adjustment_df.loc[adjustment_df.Method==\"Top\",:].groupby([\"Parameter\"]).mean()"
   ]
  },
  {
   "cell_type": "markdown",
   "id": "f45738eb",
   "metadata": {},
   "source": [
    "Include top and bottom adjustment results with k-nts adjustment results."
   ]
  },
  {
   "cell_type": "code",
   "execution_count": null,
   "id": "9bc3ceca",
   "metadata": {},
   "outputs": [],
   "source": [
    "adjustment_df.loc[adjustment_df.Method==\"Top\",:].groupby([\"Direction\", \"Parameter\"]).mean()"
   ]
  },
  {
   "cell_type": "code",
   "execution_count": null,
   "id": "e77b0a48",
   "metadata": {},
   "outputs": [],
   "source": [
    "adjustment_df.loc[adjustment_df.Method==\"Bottom\",:].mean(axis=0)"
   ]
  },
  {
   "cell_type": "code",
   "execution_count": null,
   "id": "d03180f8",
   "metadata": {},
   "outputs": [],
   "source": [
    "adjustment_df.loc[adjustment_df.Method==\"Bottom\",:].groupby([\"Direction\", \"Parameter\"]).mean()"
   ]
  },
  {
   "cell_type": "code",
   "execution_count": null,
   "id": "e7d57a80",
   "metadata": {},
   "outputs": [],
   "source": [
    "adjustment_df.loc[adjustment_df.Method==\"AN\",:].mean(axis=0)"
   ]
  },
  {
   "cell_type": "code",
   "execution_count": null,
   "id": "e3ed2713",
   "metadata": {},
   "outputs": [],
   "source": [
    "adjustment_df.loc[adjustment_df.Method==\"AN\",:].groupby([\"Direction\", \"Parameter\"]).mean()"
   ]
  },
  {
   "cell_type": "code",
   "execution_count": null,
   "id": "aea4d885",
   "metadata": {},
   "outputs": [],
   "source": [
    "adjustment_df.loc[adjustment_df.Method==\"DP\",:].mean(axis=0)"
   ]
  },
  {
   "cell_type": "code",
   "execution_count": null,
   "id": "e779e323",
   "metadata": {},
   "outputs": [],
   "source": [
    "adjustment_df.loc[adjustment_df.Method==\"DP\",:].groupby([\"Direction\", \"Parameter\"]).mean()"
   ]
  },
  {
   "cell_type": "markdown",
   "id": "fdfe76fd",
   "metadata": {},
   "source": [
    "***"
   ]
  },
  {
   "cell_type": "markdown",
   "id": "b94c1db1",
   "metadata": {},
   "source": [
    "Calculations of interest."
   ]
  },
  {
   "cell_type": "markdown",
   "id": "d05faf9a",
   "metadata": {},
   "source": [
    "Calculate adjustment characteristics for top coding across all models."
   ]
  },
  {
   "cell_type": "markdown",
   "id": "856cb061",
   "metadata": {},
   "source": [
    "Get the proportions of directions and large and small magnitude adjustments for top coding and differential privacy."
   ]
  },
  {
   "cell_type": "code",
   "execution_count": null,
   "id": "2f6efc86",
   "metadata": {},
   "outputs": [],
   "source": [
    "# adjustment_df.loc[adjustment_df.Method==\"Top\",[\"Direction\", \"Valuable\"]].groupby(\"Direction\").mean()"
   ]
  },
  {
   "cell_type": "code",
   "execution_count": null,
   "id": "5f89181d",
   "metadata": {},
   "outputs": [],
   "source": [
    "# adjustment_df.loc[adjustment_df.Method==\"Top\",[\"Direction\", \"Magnitude\"]].mean(axis=0)"
   ]
  },
  {
   "cell_type": "code",
   "execution_count": null,
   "id": "34de72a1",
   "metadata": {},
   "outputs": [],
   "source": [
    "# adjustment_df.loc[adjustment_df.Method==\"DP\",[\"Direction\", \"Magnitude\"]].mean(axis=0)"
   ]
  },
  {
   "cell_type": "markdown",
   "id": "58a8f8e8",
   "metadata": {},
   "source": [
    "***"
   ]
  },
  {
   "cell_type": "markdown",
   "id": "a7f652ce",
   "metadata": {},
   "source": [
    "We need to combine our predictor variables."
   ]
  },
  {
   "cell_type": "code",
   "execution_count": null,
   "id": "920a9d50",
   "metadata": {},
   "outputs": [],
   "source": [
    "# X = pd.concat([direction, magnitudes, large_magnitudes, small_magnitudes], axis=1, ignore_index=True).reset_index(drop=True)"
   ]
  },
  {
   "cell_type": "code",
   "execution_count": null,
   "id": "e3494829",
   "metadata": {},
   "outputs": [],
   "source": [
    "# X.columns = [\"Direction\", \"Magnitude\", \"Large_Magnitude\", \"Small_Magnitude\"]"
   ]
  },
  {
   "cell_type": "code",
   "execution_count": null,
   "id": "9bdc9c54",
   "metadata": {},
   "outputs": [],
   "source": [
    "# X = pd.concat([X, ts_features], axis=1)"
   ]
  },
  {
   "cell_type": "code",
   "execution_count": null,
   "id": "1bde8518",
   "metadata": {},
   "outputs": [],
   "source": [
    "full_data"
   ]
  },
  {
   "cell_type": "code",
   "execution_count": null,
   "id": "ff2a8bca",
   "metadata": {},
   "outputs": [],
   "source": [
    "rf_data = full_data.loc[:,[\"is_valuable\", \"positive_adjustment\", \"magnitudes\", \"linearity\"]]"
   ]
  },
  {
   "cell_type": "code",
   "execution_count": null,
   "id": "1d350d00",
   "metadata": {},
   "outputs": [],
   "source": [
    "y = rf_data.is_valuable"
   ]
  },
  {
   "cell_type": "code",
   "execution_count": null,
   "id": "b9a78826",
   "metadata": {},
   "outputs": [],
   "source": [
    "X = rf_data.drop('is_valuable', axis=1)"
   ]
  },
  {
   "cell_type": "code",
   "execution_count": null,
   "id": "7c902011",
   "metadata": {},
   "outputs": [],
   "source": [
    "scaler = StandardScaler()"
   ]
  },
  {
   "cell_type": "code",
   "execution_count": null,
   "id": "53984466",
   "metadata": {},
   "outputs": [],
   "source": [
    "X_scaled = pd.DataFrame(scaler.fit_transform(X), columns=X.columns)"
   ]
  },
  {
   "cell_type": "code",
   "execution_count": null,
   "id": "614d75a6",
   "metadata": {},
   "outputs": [],
   "source": [
    "X_scaled"
   ]
  },
  {
   "cell_type": "markdown",
   "id": "830cb704",
   "metadata": {},
   "source": [
    "***"
   ]
  },
  {
   "cell_type": "markdown",
   "id": "59f22edd",
   "metadata": {},
   "source": [
    "## Predicting Adjustment Value Using Random Forest"
   ]
  },
  {
   "cell_type": "code",
   "execution_count": null,
   "id": "cf0e5ff6",
   "metadata": {},
   "outputs": [],
   "source": [
    "RF = RandomForestClassifier()"
   ]
  },
  {
   "cell_type": "code",
   "execution_count": null,
   "id": "fcb4ae17",
   "metadata": {},
   "outputs": [],
   "source": [
    "RF.fit(X, y)"
   ]
  },
  {
   "cell_type": "code",
   "execution_count": null,
   "id": "f55cfee0",
   "metadata": {},
   "outputs": [],
   "source": [
    "RF.score(X_scaled, y)"
   ]
  },
  {
   "cell_type": "code",
   "execution_count": null,
   "id": "81321e46",
   "metadata": {},
   "outputs": [],
   "source": [
    "1-np.mean(y)"
   ]
  },
  {
   "cell_type": "code",
   "execution_count": null,
   "id": "8fb68273",
   "metadata": {},
   "outputs": [],
   "source": [
    "result = permutation_importance(RF, X_scaled, y, n_repeats=20)"
   ]
  },
  {
   "cell_type": "code",
   "execution_count": null,
   "id": "738649c8",
   "metadata": {},
   "outputs": [],
   "source": [
    "importance_indices = np.flip(np.argsort(result.importances_mean))"
   ]
  },
  {
   "cell_type": "code",
   "execution_count": null,
   "id": "811144e5",
   "metadata": {},
   "outputs": [],
   "source": [
    "importances = pd.Series(result.importances_mean[importance_indices], index=X_scaled.columns[importance_indices])"
   ]
  },
  {
   "cell_type": "code",
   "execution_count": null,
   "id": "760d4a10",
   "metadata": {},
   "outputs": [],
   "source": [
    "fig, ax = plt.subplots(figsize=(8,8))\n",
    "importances.plot.bar(yerr=result.importances_std, ax=ax)\n",
    "ax.set_title(\"Permutation Based Time Series Feature Importances\")\n",
    "ax.set_ylabel(\"Mean Accuracy Decrease\")\n",
    "ax.set_xticklabels(X_scaled.columns[importance_indices])\n",
    "fig.tight_layout()\n",
    "plt.show()"
   ]
  },
  {
   "cell_type": "code",
   "execution_count": null,
   "id": "9fc07a89",
   "metadata": {},
   "outputs": [],
   "source": [
    "dt_features = X_scaled.columns[importance_indices]"
   ]
  },
  {
   "cell_type": "code",
   "execution_count": null,
   "id": "57dd727b",
   "metadata": {},
   "outputs": [],
   "source": [
    "dt_features"
   ]
  },
  {
   "cell_type": "markdown",
   "id": "2bc070c7",
   "metadata": {},
   "source": [
    "# Marginal Distributions of Important Variables"
   ]
  },
  {
   "cell_type": "code",
   "execution_count": null,
   "id": "953e0c03",
   "metadata": {},
   "outputs": [],
   "source": [
    "def marginal_plot(ax1, feature, x_axis_label, y_axis_label_left, y_axis_label_right):\n",
    "    \n",
    "    h1 = np.histogram(feature, bins=10)\n",
    "    \n",
    "    bin_ids = np.digitize(feature, h1[1])\n",
    "    \n",
    "    y_line = pd.concat([pd.Series(bin_ids), y], axis=1).groupby(0).mean()\n",
    "    \n",
    "    # fig1, ax1 = plt.subplots(1, 1)\n",
    "    ax2 = ax1.twinx()\n",
    "    ax3 = ax2.twiny()\n",
    "\n",
    "    ax1.hist(feature, alpha=0.5, align='mid', weights=np.ones(len(feature)) / len(feature))\n",
    "\n",
    "    # ax.plot(y_line)\n",
    "    ax1.set_xlabel(x_axis_label)\n",
    "    ax1.set_ylabel(y_axis_label_left)\n",
    "    ax1.yaxis.set_major_formatter(PercentFormatter(1))\n",
    "\n",
    "    ax3.plot(y_line)\n",
    "    ax3.set_xlabel('')\n",
    "    # note this needs to be ax2 due to subtle overlay issues....\n",
    "    ax2.set_ylabel(y_axis_label_right)\n",
    "    ax2.yaxis.set_major_formatter(PercentFormatter(1))\n",
    "\n",
    "    ax3.axes.get_xaxis().set_ticks([])\n",
    "\n",
    "    # plt.draw()"
   ]
  },
  {
   "cell_type": "code",
   "execution_count": null,
   "id": "2763a97a",
   "metadata": {},
   "outputs": [],
   "source": [
    "fig, ax = plt.subplots(3, 2, figsize=(10,8))\n",
    "marginal_plot(ax[0,0], X.series_mean, \"Difference in Series Means\", \"Proportion of Series\", \"\")\n",
    "marginal_plot(ax[0,1], X.trend, \"Difference in Strengths of Trend\", \"\", \"Proportion Improved Accuracy\")\n",
    "marginal_plot(ax[1,0], X.curvature, \"Difference in Absolute Value of Curvature Coefficients\", \"Proportion of Series\", \"\")\n",
    "marginal_plot(ax[1,1], X.stability, \"Difference in Stability\", \"\", \"Proportion Improved Accuracy\")\n",
    "marginal_plot(ax[2,0], X.max_var_shift, \"Difference in Maximum Variance Shift\", \"Proportion of Series\", \"\")\n",
    "marginal_plot(ax[2,1], X.hurst, \"Difference in Hurst Coefficient\", \"\", \"Proportion Improved Accuracy\")\n",
    "plt.tight_layout()"
   ]
  },
  {
   "cell_type": "markdown",
   "id": "c76c5cce",
   "metadata": {},
   "source": [
    "## Explaining Adjustment Value Using Decision Tree"
   ]
  },
  {
   "cell_type": "markdown",
   "id": "354ab429",
   "metadata": {},
   "source": [
    "Need to figure out how to generalize decision tree classifications, accounting for series with different lengths."
   ]
  },
  {
   "cell_type": "markdown",
   "id": "6d0b3756",
   "metadata": {},
   "source": [
    "We extract the most important predictors of whether a privacy adjusted forecast had better accuracy."
   ]
  },
  {
   "cell_type": "code",
   "execution_count": null,
   "id": "9a96d645",
   "metadata": {},
   "outputs": [],
   "source": [
    "DT = DecisionTreeClassifier(max_depth=3)"
   ]
  },
  {
   "cell_type": "code",
   "execution_count": null,
   "id": "3d2e70bb",
   "metadata": {},
   "outputs": [],
   "source": [
    "dt_results = DT.fit(X_scaled.loc[:,dt_features], y)"
   ]
  },
  {
   "cell_type": "code",
   "execution_count": null,
   "id": "4288090f",
   "metadata": {},
   "outputs": [],
   "source": [
    "plt.figure(figsize=(15,10))\n",
    "plot_tree(DT, filled=True)\n",
    "plt.title(\"Decision tree trained on Adjustment Features\")\n",
    "plt.show()"
   ]
  },
  {
   "cell_type": "markdown",
   "id": "663d173c",
   "metadata": {},
   "source": [
    "***"
   ]
  },
  {
   "cell_type": "markdown",
   "id": "86f63329",
   "metadata": {},
   "source": [
    "Get the leaf indices of each sample."
   ]
  },
  {
   "cell_type": "code",
   "execution_count": null,
   "id": "705c80c4",
   "metadata": {},
   "outputs": [],
   "source": [
    "leaf_indices = DT.apply(X_scaled.loc[:,dt_features])"
   ]
  },
  {
   "cell_type": "markdown",
   "id": "2e8c250c",
   "metadata": {},
   "source": [
    "Get the leaf indices."
   ]
  },
  {
   "cell_type": "code",
   "execution_count": null,
   "id": "ce2a1f36",
   "metadata": {},
   "outputs": [],
   "source": [
    "unique_leaf_indices = np.unique(leaf_indices)"
   ]
  },
  {
   "cell_type": "markdown",
   "id": "c4826e41",
   "metadata": {},
   "source": [
    "Get the gini impurity of each leaf node."
   ]
  },
  {
   "cell_type": "code",
   "execution_count": null,
   "id": "0fc9ded6",
   "metadata": {},
   "outputs": [],
   "source": [
    "gini_leaves = DT.tree_.impurity[unique_leaf_indices]"
   ]
  },
  {
   "cell_type": "markdown",
   "id": "9dae49e4",
   "metadata": {},
   "source": [
    "Get sorted indices of leaf nodes sorted based on gini impurity."
   ]
  },
  {
   "cell_type": "code",
   "execution_count": null,
   "id": "144cf1d5",
   "metadata": {},
   "outputs": [],
   "source": [
    "sorted_leaves = unique_leaf_indices[np.argsort(gini_leaves)]"
   ]
  },
  {
   "cell_type": "markdown",
   "id": "67e1e9af",
   "metadata": {},
   "source": [
    "For each leaf, get the modal outcome."
   ]
  },
  {
   "cell_type": "code",
   "execution_count": null,
   "id": "4ea3f1f7",
   "metadata": {},
   "outputs": [],
   "source": [
    "[np.mean(y[leaf_indices==x]) for x in sorted_leaves]"
   ]
  },
  {
   "cell_type": "code",
   "execution_count": null,
   "id": "c8e62114",
   "metadata": {},
   "outputs": [],
   "source": [
    "leaves = []\n",
    "for i in sorted_leaves[:2]:\n",
    "    leaves.append(X.loc[leaf_indices==i,dt_features]) "
   ]
  },
  {
   "cell_type": "code",
   "execution_count": null,
   "id": "c8e08219",
   "metadata": {},
   "outputs": [],
   "source": [
    "leaf_means = [x.mean(axis=0) for x in leaves]"
   ]
  },
  {
   "cell_type": "markdown",
   "id": "0fe6ea19",
   "metadata": {},
   "source": [
    "Display the mean feature values for the series in each of the leaves with lowest gini."
   ]
  },
  {
   "cell_type": "code",
   "execution_count": null,
   "id": "971755d5",
   "metadata": {},
   "outputs": [],
   "source": [
    "leaf_means"
   ]
  },
  {
   "cell_type": "markdown",
   "id": "4e2b1bfd",
   "metadata": {},
   "source": [
    "Now, plot the average mean-normalized original and protected series in each leaf."
   ]
  },
  {
   "cell_type": "code",
   "execution_count": null,
   "id": "dec50e53",
   "metadata": {},
   "outputs": [],
   "source": [
    "leaf_orig_series = []\n",
    "for i in sorted_leaves[:2]:\n",
    "    leaf_orig_series.append([full_data.loc[k,'original_series'] for k, l in enumerate(leaf_indices) if l==i])\n",
    "    #leaf_orig_series.append(X.loc[leaf_indices==i,dt_features]) "
   ]
  },
  {
   "cell_type": "code",
   "execution_count": null,
   "id": "2e8b727c",
   "metadata": {},
   "outputs": [],
   "source": [
    "originals = [np.unique(x) for x in leaf_orig_series]"
   ]
  },
  {
   "cell_type": "code",
   "execution_count": null,
   "id": "52abce8b",
   "metadata": {},
   "outputs": [],
   "source": [
    "originals"
   ]
  },
  {
   "cell_type": "code",
   "execution_count": null,
   "id": "f71301a0",
   "metadata": {},
   "outputs": [],
   "source": [
    "originals = [[train_data[x] for x in y] for y in originals]"
   ]
  },
  {
   "cell_type": "code",
   "execution_count": null,
   "id": "ce501406",
   "metadata": {},
   "outputs": [],
   "source": [
    "lens = np.unique([len(x) for x in originals[0]])"
   ]
  },
  {
   "cell_type": "code",
   "execution_count": null,
   "id": "ab1d4abf",
   "metadata": {},
   "outputs": [],
   "source": [
    "mean_series = []\n",
    "for l in lens:\n",
    "    current_series = [x for x in originals[0] if len(x) == l]\n",
    "    current_series = pd.concat(current_series, axis=1)\n",
    "    mean_series.append(current_series.mean(axis=1))"
   ]
  },
  {
   "cell_type": "code",
   "execution_count": null,
   "id": "0b619e04",
   "metadata": {},
   "outputs": [],
   "source": [
    "plot_series(mean_series[0])"
   ]
  },
  {
   "cell_type": "code",
   "execution_count": null,
   "id": "e9adfe7a",
   "metadata": {},
   "outputs": [],
   "source": [
    "plot_series(mean_series[1])"
   ]
  },
  {
   "cell_type": "code",
   "execution_count": null,
   "id": "fbad74df",
   "metadata": {},
   "outputs": [],
   "source": [
    "lens = np.unique([len(x) for x in originals[1]])"
   ]
  },
  {
   "cell_type": "code",
   "execution_count": null,
   "id": "9a495074",
   "metadata": {},
   "outputs": [],
   "source": [
    "mean_series = []\n",
    "for l in lens:\n",
    "    current_series = [x for x in originals[1] if len(x) == l]\n",
    "    current_series = pd.concat(current_series, axis=1)\n",
    "    mean_series.append(current_series.mean(axis=1))"
   ]
  },
  {
   "cell_type": "code",
   "execution_count": null,
   "id": "9473f973",
   "metadata": {},
   "outputs": [],
   "source": [
    "plot_series(mean_series[0])"
   ]
  },
  {
   "cell_type": "code",
   "execution_count": null,
   "id": "30a56bf1",
   "metadata": {},
   "outputs": [],
   "source": [
    "plot_series(mean_series[1])"
   ]
  },
  {
   "cell_type": "code",
   "execution_count": null,
   "id": "73c5ef71",
   "metadata": {},
   "outputs": [],
   "source": [
    "plot_series(mean_series[2])"
   ]
  },
  {
   "cell_type": "code",
   "execution_count": null,
   "id": "e53cc806",
   "metadata": {},
   "outputs": [],
   "source": [
    "lens = np.unique([len(x) for x in originals[2]])"
   ]
  },
  {
   "cell_type": "code",
   "execution_count": null,
   "id": "2baac316",
   "metadata": {},
   "outputs": [],
   "source": [
    "mean_series = []\n",
    "for l in lens:\n",
    "    current_series = [x for x in originals[2] if len(x) == l]\n",
    "    current_series = pd.concat(current_series, axis=1)\n",
    "    mean_series.append(current_series.mean(axis=1))"
   ]
  },
  {
   "cell_type": "code",
   "execution_count": null,
   "id": "3b5df484",
   "metadata": {},
   "outputs": [],
   "source": [
    "plot_series(mean_series[0])"
   ]
  },
  {
   "cell_type": "code",
   "execution_count": null,
   "id": "007b18a7",
   "metadata": {},
   "outputs": [],
   "source": [
    "plot_series(mean_series[1])"
   ]
  },
  {
   "cell_type": "code",
   "execution_count": null,
   "id": "8148dccc",
   "metadata": {},
   "outputs": [],
   "source": []
  },
  {
   "cell_type": "code",
   "execution_count": null,
   "id": "259511f1",
   "metadata": {},
   "outputs": [],
   "source": []
  },
  {
   "cell_type": "code",
   "execution_count": null,
   "id": "104cefff",
   "metadata": {},
   "outputs": [],
   "source": []
  },
  {
   "cell_type": "code",
   "execution_count": null,
   "id": "f081d4d9",
   "metadata": {},
   "outputs": [],
   "source": []
  },
  {
   "cell_type": "code",
   "execution_count": null,
   "id": "a4327365",
   "metadata": {},
   "outputs": [],
   "source": []
  },
  {
   "cell_type": "code",
   "execution_count": null,
   "id": "778be33d",
   "metadata": {},
   "outputs": [],
   "source": []
  },
  {
   "cell_type": "code",
   "execution_count": null,
   "id": "67dd1573",
   "metadata": {},
   "outputs": [],
   "source": []
  },
  {
   "cell_type": "code",
   "execution_count": null,
   "id": "53bd8446",
   "metadata": {},
   "outputs": [],
   "source": []
  },
  {
   "cell_type": "code",
   "execution_count": null,
   "id": "1d89bf53",
   "metadata": {},
   "outputs": [],
   "source": []
  },
  {
   "cell_type": "code",
   "execution_count": null,
   "id": "458cdf83",
   "metadata": {},
   "outputs": [],
   "source": []
  }
 ],
 "metadata": {
  "kernelspec": {
   "display_name": "Python 3 (ipykernel)",
   "language": "python",
   "name": "python3"
  },
  "language_info": {
   "codemirror_mode": {
    "name": "ipython",
    "version": 3
   },
   "file_extension": ".py",
   "mimetype": "text/x-python",
   "name": "python",
   "nbconvert_exporter": "python",
   "pygments_lexer": "ipython3",
   "version": "3.9.7"
  }
 },
 "nbformat": 4,
 "nbformat_minor": 5
}
