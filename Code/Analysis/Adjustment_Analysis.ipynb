{
 "cells": [
  {
   "cell_type": "markdown",
   "id": "ec219ead",
   "metadata": {},
   "source": [
    "# Adjustment Analysis"
   ]
  },
  {
   "cell_type": "markdown",
   "id": "408d171d",
   "metadata": {},
   "source": [
    "This notebook contains experiments for analyzing the drivers of whether privacy adjusted forecasts are better or worse than their original counterparts. The use of random forest and decision trees is motivated by the work of [Naghmeh et al. (2022).](https://www.sciencedirect.com/science/article/abs/pii/S0377221722002260)"
   ]
  },
  {
   "cell_type": "markdown",
   "id": "62b40d5d",
   "metadata": {},
   "source": [
    "# In the random forest, do a version with indicators for model and protection type, and a version without for aggregate results."
   ]
  },
  {
   "cell_type": "code",
   "execution_count": 74,
   "id": "c3100ff8",
   "metadata": {},
   "outputs": [],
   "source": [
    "import numpy as np\n",
    "import pandas as pd\n",
    "import matplotlib.pyplot as plt\n",
    "from matplotlib.ticker import PercentFormatter\n",
    "# plt.rcParams['figure.figsize'] = [20, 15]\n",
    "import os\n",
    "\n",
    "from sktime.performance_metrics.forecasting import mean_absolute_error\n",
    "from sktime.utils.plotting import plot_series\n",
    "\n",
    "from tsfeatures import tsfeatures\n",
    "\n",
    "from sklearn.preprocessing import StandardScaler\n",
    "from sklearn.ensemble import RandomForestClassifier\n",
    "from sklearn.tree import DecisionTreeClassifier\n",
    "from sklearn.tree import export_graphviz\n",
    "from sklearn.inspection import permutation_importance\n",
    "from sklearn.tree import plot_tree\n",
    "\n",
    "import graphviz "
   ]
  },
  {
   "cell_type": "markdown",
   "id": "dd1f9e4b",
   "metadata": {},
   "source": [
    "The first step is to classify the adjusted forecasts as valuable or not (improved accuracy or not) and then extract a large number of adjustment and time series features to predict the `valuable` variable."
   ]
  },
  {
   "cell_type": "markdown",
   "id": "dc605665",
   "metadata": {},
   "source": [
    "Start with defining the path where results will be saved, and the path to the forecast files. "
   ]
  },
  {
   "cell_type": "code",
   "execution_count": 2,
   "id": "1d21fe7a",
   "metadata": {},
   "outputs": [],
   "source": [
    "# results file path\n",
    "results_path = \"../../Outputs/Results/\"\n",
    "# forecasts file path\n",
    "forecasts_path = \"../../Outputs/Forecasts/\"\n",
    "# names of forecast files\n",
    "fcast_files = os.listdir(forecasts_path)"
   ]
  },
  {
   "cell_type": "markdown",
   "id": "89477d60",
   "metadata": {},
   "source": [
    "Read in the train and test data for $h = 1$."
   ]
  },
  {
   "cell_type": "code",
   "execution_count": 3,
   "id": "6bb832f9",
   "metadata": {},
   "outputs": [],
   "source": [
    "train_data = pd.read_csv(\"../../Data/Train/Clean/m3_monthly_micro_h1.csv\", header=None, skiprows=1)\n",
    "# convert to a list of series, and drop missing values\n",
    "train_data = [x.dropna() for _, x in train_data.iterrows()]\n",
    "test_data = pd.read_csv(forecasts_path + \"Test_h1.csv\")"
   ]
  },
  {
   "cell_type": "markdown",
   "id": "d9196706",
   "metadata": {},
   "source": [
    "***"
   ]
  },
  {
   "cell_type": "markdown",
   "id": "4076b260",
   "metadata": {},
   "source": [
    "# Import Time Series Characteristics"
   ]
  },
  {
   "cell_type": "markdown",
   "id": "1bf4f422",
   "metadata": {},
   "source": [
    "Now, we write a loop to read in the time series features, the original forecasts, and the protected forecasts for each model and dataset. We calculate whether the adjustment was valuable based on the forecast errors, add this to the features, and combine all of these dataframes into one."
   ]
  },
  {
   "cell_type": "code",
   "execution_count": 4,
   "id": "8e92076f",
   "metadata": {},
   "outputs": [],
   "source": [
    "files = os.listdir(\"../../Data/Train/Clean/tsfeatures\")"
   ]
  },
  {
   "cell_type": "markdown",
   "id": "078099d7",
   "metadata": {},
   "source": [
    "Extract only the files for $h = 1$ and for Top coding."
   ]
  },
  {
   "cell_type": "code",
   "execution_count": 5,
   "id": "1e7858e6",
   "metadata": {},
   "outputs": [],
   "source": [
    "files = [f for f in files if \"h1_\" in f and \"k-nts\" not in f]"
   ]
  },
  {
   "cell_type": "code",
   "execution_count": 6,
   "id": "379849a8",
   "metadata": {},
   "outputs": [],
   "source": [
    "fcast_files = [f for f in fcast_files if \"h1_\" in f and \"m3_original\" not in f and \"k_nts\" not in f]"
   ]
  },
  {
   "cell_type": "markdown",
   "id": "2068c40a",
   "metadata": {},
   "source": [
    "Now we have lists of the feature files and the forecast files."
   ]
  },
  {
   "cell_type": "code",
   "execution_count": 7,
   "id": "2871330e",
   "metadata": {},
   "outputs": [],
   "source": [
    "models = [\"SES\", \"DES\", \"TES\", \"ARIMA\", \"VAR\", \"Multivariate_LGBM\", \"RNN\"]"
   ]
  },
  {
   "cell_type": "code",
   "execution_count": 87,
   "id": "a3384240",
   "metadata": {},
   "outputs": [],
   "source": [
    "ts_features = pd.read_csv(\"../../Data/Train/Clean/tsfeatures/tsfeatures_h1.csv\")"
   ]
  },
  {
   "cell_type": "code",
   "execution_count": 89,
   "id": "e9d837f2",
   "metadata": {},
   "outputs": [
    {
     "data": {
      "text/plain": [
       "0.500045830129239"
      ]
     },
     "execution_count": 89,
     "metadata": {},
     "output_type": "execute_result"
    }
   ],
   "source": [
    "np.min(ts_features.hurst)"
   ]
  },
  {
   "cell_type": "code",
   "execution_count": 90,
   "id": "db82bf16",
   "metadata": {},
   "outputs": [
    {
     "data": {
      "text/plain": [
       "0.998999598195642"
      ]
     },
     "execution_count": 90,
     "metadata": {},
     "output_type": "execute_result"
    }
   ],
   "source": [
    "np.max(ts_features.hurst)"
   ]
  },
  {
   "cell_type": "code",
   "execution_count": null,
   "id": "bfbcedba",
   "metadata": {},
   "outputs": [],
   "source": []
  },
  {
   "cell_type": "code",
   "execution_count": 9,
   "id": "a41d44b4",
   "metadata": {},
   "outputs": [],
   "source": [
    "ts_features = np.abs(ts_features)"
   ]
  },
  {
   "cell_type": "code",
   "execution_count": 10,
   "id": "bf5d5e37",
   "metadata": {},
   "outputs": [],
   "source": [
    "full_data = []\n",
    "# for each file with time series features\n",
    "for f in files:\n",
    "    ts_features_protected = np.abs(pd.read_csv(\"../../Data/Train/Clean/tsfeatures/\" + f))\n",
    "    feature_diffs = ts_features - ts_features_protected\n",
    "    # for each forecasting model\n",
    "    for m in models:\n",
    "        # get the name of the file with the protected forecasts for the model\n",
    "        fcast_file = [fcasts for fcasts in fcast_files if f in fcasts and m in fcasts]\n",
    "        [fcast_file] = fcast_file\n",
    "        # import the privacy adjusted forecasts\n",
    "        fcasts_protected = pd.read_csv(forecasts_path + fcast_file)\n",
    "        # import the original forecasts\n",
    "        fcasts_original = pd.read_csv(forecasts_path + m + \"_h1_original.csv\")\n",
    "        # calculate original MAE\n",
    "        original_errors = mean_absolute_error(test_data, fcasts_original, multioutput=\"raw_values\")\n",
    "        # calculate protected MAE\n",
    "        adjusted_errors = mean_absolute_error(test_data, fcasts_protected, multioutput=\"raw_values\")\n",
    "        # calculate whether the adjustment improved accuracy\n",
    "        valuable = adjusted_errors < original_errors\n",
    "        \n",
    "        combined = pd.concat([feature_diffs, pd.Series(valuable, name='valuable'), pd.Series(np.repeat(m, len(valuable)), name='model'), pd.Series(feature_diffs.index, name=\"original_series\")], axis=1)\n",
    "        \n",
    "        full_data.append(combined)"
   ]
  },
  {
   "cell_type": "code",
   "execution_count": 11,
   "id": "caa87b97",
   "metadata": {},
   "outputs": [],
   "source": [
    "full_data = pd.concat(full_data, axis=0).reset_index(drop=True)"
   ]
  },
  {
   "cell_type": "code",
   "execution_count": 12,
   "id": "a330fa35",
   "metadata": {},
   "outputs": [
    {
     "data": {
      "text/html": [
       "<div>\n",
       "<style scoped>\n",
       "    .dataframe tbody tr th:only-of-type {\n",
       "        vertical-align: middle;\n",
       "    }\n",
       "\n",
       "    .dataframe tbody tr th {\n",
       "        vertical-align: top;\n",
       "    }\n",
       "\n",
       "    .dataframe thead th {\n",
       "        text-align: right;\n",
       "    }\n",
       "</style>\n",
       "<table border=\"1\" class=\"dataframe\">\n",
       "  <thead>\n",
       "    <tr style=\"text-align: right;\">\n",
       "      <th></th>\n",
       "      <th>series_mean</th>\n",
       "      <th>series_variance</th>\n",
       "      <th>entropy</th>\n",
       "      <th>stability</th>\n",
       "      <th>lumpiness</th>\n",
       "      <th>max_level_shift</th>\n",
       "      <th>time_level_shift</th>\n",
       "      <th>max_var_shift</th>\n",
       "      <th>time_var_shift</th>\n",
       "      <th>max_kl_shift</th>\n",
       "      <th>...</th>\n",
       "      <th>x_acf10</th>\n",
       "      <th>diff1_acf1</th>\n",
       "      <th>diff1_acf10</th>\n",
       "      <th>diff2_acf1</th>\n",
       "      <th>diff2_acf10</th>\n",
       "      <th>seas_acf1</th>\n",
       "      <th>nonlinearity</th>\n",
       "      <th>valuable</th>\n",
       "      <th>model</th>\n",
       "      <th>original_series</th>\n",
       "    </tr>\n",
       "  </thead>\n",
       "  <tbody>\n",
       "    <tr>\n",
       "      <th>0</th>\n",
       "      <td>0.459075</td>\n",
       "      <td>-3.618455</td>\n",
       "      <td>-0.031703</td>\n",
       "      <td>0.163650</td>\n",
       "      <td>-0.920658</td>\n",
       "      <td>-0.970139</td>\n",
       "      <td>15</td>\n",
       "      <td>-9.377682</td>\n",
       "      <td>28</td>\n",
       "      <td>-34.432373</td>\n",
       "      <td>...</td>\n",
       "      <td>0.188492</td>\n",
       "      <td>0.044066</td>\n",
       "      <td>0.053093</td>\n",
       "      <td>0.014978</td>\n",
       "      <td>0.040755</td>\n",
       "      <td>0.002605</td>\n",
       "      <td>-0.041006</td>\n",
       "      <td>True</td>\n",
       "      <td>SES</td>\n",
       "      <td>0</td>\n",
       "    </tr>\n",
       "    <tr>\n",
       "      <th>1</th>\n",
       "      <td>0.400392</td>\n",
       "      <td>-2.885622</td>\n",
       "      <td>0.000000</td>\n",
       "      <td>-0.048443</td>\n",
       "      <td>-1.113314</td>\n",
       "      <td>-1.117344</td>\n",
       "      <td>2</td>\n",
       "      <td>-6.731426</td>\n",
       "      <td>-10</td>\n",
       "      <td>-7.934486</td>\n",
       "      <td>...</td>\n",
       "      <td>0.015951</td>\n",
       "      <td>-0.092287</td>\n",
       "      <td>-0.201130</td>\n",
       "      <td>-0.055909</td>\n",
       "      <td>-0.190957</td>\n",
       "      <td>-0.079814</td>\n",
       "      <td>-0.039702</td>\n",
       "      <td>False</td>\n",
       "      <td>SES</td>\n",
       "      <td>1</td>\n",
       "    </tr>\n",
       "    <tr>\n",
       "      <th>2</th>\n",
       "      <td>0.046779</td>\n",
       "      <td>-0.164079</td>\n",
       "      <td>-0.059254</td>\n",
       "      <td>0.104042</td>\n",
       "      <td>-0.315271</td>\n",
       "      <td>-0.059936</td>\n",
       "      <td>0</td>\n",
       "      <td>-0.385103</td>\n",
       "      <td>0</td>\n",
       "      <td>-0.787156</td>\n",
       "      <td>...</td>\n",
       "      <td>0.300568</td>\n",
       "      <td>0.006736</td>\n",
       "      <td>0.063653</td>\n",
       "      <td>0.017297</td>\n",
       "      <td>0.095153</td>\n",
       "      <td>0.025769</td>\n",
       "      <td>0.003036</td>\n",
       "      <td>True</td>\n",
       "      <td>SES</td>\n",
       "      <td>2</td>\n",
       "    </tr>\n",
       "    <tr>\n",
       "      <th>3</th>\n",
       "      <td>0.422581</td>\n",
       "      <td>-3.127755</td>\n",
       "      <td>-0.087785</td>\n",
       "      <td>0.367855</td>\n",
       "      <td>-0.794671</td>\n",
       "      <td>-0.809231</td>\n",
       "      <td>0</td>\n",
       "      <td>-7.821573</td>\n",
       "      <td>-13</td>\n",
       "      <td>-3.632079</td>\n",
       "      <td>...</td>\n",
       "      <td>1.440058</td>\n",
       "      <td>0.026277</td>\n",
       "      <td>-0.106059</td>\n",
       "      <td>-0.014490</td>\n",
       "      <td>-0.265756</td>\n",
       "      <td>0.223338</td>\n",
       "      <td>-0.124772</td>\n",
       "      <td>False</td>\n",
       "      <td>SES</td>\n",
       "      <td>3</td>\n",
       "    </tr>\n",
       "    <tr>\n",
       "      <th>4</th>\n",
       "      <td>0.063042</td>\n",
       "      <td>-0.332426</td>\n",
       "      <td>-0.051145</td>\n",
       "      <td>0.086886</td>\n",
       "      <td>-0.491970</td>\n",
       "      <td>-0.156039</td>\n",
       "      <td>2</td>\n",
       "      <td>-0.660888</td>\n",
       "      <td>3</td>\n",
       "      <td>-2.397004</td>\n",
       "      <td>...</td>\n",
       "      <td>0.335359</td>\n",
       "      <td>-0.030536</td>\n",
       "      <td>-0.119088</td>\n",
       "      <td>-0.006634</td>\n",
       "      <td>-0.096981</td>\n",
       "      <td>0.123247</td>\n",
       "      <td>0.172501</td>\n",
       "      <td>True</td>\n",
       "      <td>SES</td>\n",
       "      <td>4</td>\n",
       "    </tr>\n",
       "    <tr>\n",
       "      <th>...</th>\n",
       "      <td>...</td>\n",
       "      <td>...</td>\n",
       "      <td>...</td>\n",
       "      <td>...</td>\n",
       "      <td>...</td>\n",
       "      <td>...</td>\n",
       "      <td>...</td>\n",
       "      <td>...</td>\n",
       "      <td>...</td>\n",
       "      <td>...</td>\n",
       "      <td>...</td>\n",
       "      <td>...</td>\n",
       "      <td>...</td>\n",
       "      <td>...</td>\n",
       "      <td>...</td>\n",
       "      <td>...</td>\n",
       "      <td>...</td>\n",
       "      <td>...</td>\n",
       "      <td>...</td>\n",
       "      <td>...</td>\n",
       "      <td>...</td>\n",
       "    </tr>\n",
       "    <tr>\n",
       "      <th>49765</th>\n",
       "      <td>0.033281</td>\n",
       "      <td>0.005803</td>\n",
       "      <td>0.237188</td>\n",
       "      <td>0.043805</td>\n",
       "      <td>-0.203502</td>\n",
       "      <td>0.038292</td>\n",
       "      <td>1</td>\n",
       "      <td>0.008229</td>\n",
       "      <td>-7</td>\n",
       "      <td>0.410619</td>\n",
       "      <td>...</td>\n",
       "      <td>0.311019</td>\n",
       "      <td>0.105289</td>\n",
       "      <td>0.000651</td>\n",
       "      <td>0.044451</td>\n",
       "      <td>-0.097926</td>\n",
       "      <td>-0.064641</td>\n",
       "      <td>0.186451</td>\n",
       "      <td>False</td>\n",
       "      <td>RNN</td>\n",
       "      <td>469</td>\n",
       "    </tr>\n",
       "    <tr>\n",
       "      <th>49766</th>\n",
       "      <td>0.005801</td>\n",
       "      <td>0.000296</td>\n",
       "      <td>0.002190</td>\n",
       "      <td>0.071287</td>\n",
       "      <td>-0.035114</td>\n",
       "      <td>0.005480</td>\n",
       "      <td>-48</td>\n",
       "      <td>0.000199</td>\n",
       "      <td>37</td>\n",
       "      <td>-0.296223</td>\n",
       "      <td>...</td>\n",
       "      <td>0.076957</td>\n",
       "      <td>-0.104524</td>\n",
       "      <td>-0.174285</td>\n",
       "      <td>-0.080151</td>\n",
       "      <td>-0.279228</td>\n",
       "      <td>-0.003533</td>\n",
       "      <td>0.175199</td>\n",
       "      <td>True</td>\n",
       "      <td>RNN</td>\n",
       "      <td>470</td>\n",
       "    </tr>\n",
       "    <tr>\n",
       "      <th>49767</th>\n",
       "      <td>0.030024</td>\n",
       "      <td>0.004845</td>\n",
       "      <td>0.098819</td>\n",
       "      <td>-0.129925</td>\n",
       "      <td>0.164607</td>\n",
       "      <td>0.068698</td>\n",
       "      <td>0</td>\n",
       "      <td>0.007060</td>\n",
       "      <td>-2</td>\n",
       "      <td>1.480214</td>\n",
       "      <td>...</td>\n",
       "      <td>-0.507695</td>\n",
       "      <td>0.012650</td>\n",
       "      <td>0.049103</td>\n",
       "      <td>-0.052857</td>\n",
       "      <td>-0.088141</td>\n",
       "      <td>-0.141969</td>\n",
       "      <td>-0.617745</td>\n",
       "      <td>True</td>\n",
       "      <td>RNN</td>\n",
       "      <td>471</td>\n",
       "    </tr>\n",
       "    <tr>\n",
       "      <th>49768</th>\n",
       "      <td>0.005286</td>\n",
       "      <td>0.000223</td>\n",
       "      <td>-0.021327</td>\n",
       "      <td>0.018810</td>\n",
       "      <td>0.796254</td>\n",
       "      <td>0.017636</td>\n",
       "      <td>-29</td>\n",
       "      <td>0.001026</td>\n",
       "      <td>-15</td>\n",
       "      <td>11.232731</td>\n",
       "      <td>...</td>\n",
       "      <td>0.097035</td>\n",
       "      <td>0.013598</td>\n",
       "      <td>0.192291</td>\n",
       "      <td>-0.015761</td>\n",
       "      <td>0.193426</td>\n",
       "      <td>0.107589</td>\n",
       "      <td>-0.025163</td>\n",
       "      <td>True</td>\n",
       "      <td>RNN</td>\n",
       "      <td>472</td>\n",
       "    </tr>\n",
       "    <tr>\n",
       "      <th>49769</th>\n",
       "      <td>0.081182</td>\n",
       "      <td>0.038739</td>\n",
       "      <td>0.026734</td>\n",
       "      <td>-0.113195</td>\n",
       "      <td>0.359371</td>\n",
       "      <td>0.139008</td>\n",
       "      <td>-86</td>\n",
       "      <td>0.093570</td>\n",
       "      <td>4</td>\n",
       "      <td>2.942130</td>\n",
       "      <td>...</td>\n",
       "      <td>-0.563518</td>\n",
       "      <td>-0.019755</td>\n",
       "      <td>-0.039482</td>\n",
       "      <td>-0.033259</td>\n",
       "      <td>-0.104751</td>\n",
       "      <td>-0.050995</td>\n",
       "      <td>0.500241</td>\n",
       "      <td>False</td>\n",
       "      <td>RNN</td>\n",
       "      <td>473</td>\n",
       "    </tr>\n",
       "  </tbody>\n",
       "</table>\n",
       "<p>49770 rows × 36 columns</p>\n",
       "</div>"
      ],
      "text/plain": [
       "       series_mean  series_variance   entropy  stability  lumpiness  \\\n",
       "0         0.459075        -3.618455 -0.031703   0.163650  -0.920658   \n",
       "1         0.400392        -2.885622  0.000000  -0.048443  -1.113314   \n",
       "2         0.046779        -0.164079 -0.059254   0.104042  -0.315271   \n",
       "3         0.422581        -3.127755 -0.087785   0.367855  -0.794671   \n",
       "4         0.063042        -0.332426 -0.051145   0.086886  -0.491970   \n",
       "...            ...              ...       ...        ...        ...   \n",
       "49765     0.033281         0.005803  0.237188   0.043805  -0.203502   \n",
       "49766     0.005801         0.000296  0.002190   0.071287  -0.035114   \n",
       "49767     0.030024         0.004845  0.098819  -0.129925   0.164607   \n",
       "49768     0.005286         0.000223 -0.021327   0.018810   0.796254   \n",
       "49769     0.081182         0.038739  0.026734  -0.113195   0.359371   \n",
       "\n",
       "       max_level_shift  time_level_shift  max_var_shift  time_var_shift  \\\n",
       "0            -0.970139                15      -9.377682              28   \n",
       "1            -1.117344                 2      -6.731426             -10   \n",
       "2            -0.059936                 0      -0.385103               0   \n",
       "3            -0.809231                 0      -7.821573             -13   \n",
       "4            -0.156039                 2      -0.660888               3   \n",
       "...                ...               ...            ...             ...   \n",
       "49765         0.038292                 1       0.008229              -7   \n",
       "49766         0.005480               -48       0.000199              37   \n",
       "49767         0.068698                 0       0.007060              -2   \n",
       "49768         0.017636               -29       0.001026             -15   \n",
       "49769         0.139008               -86       0.093570               4   \n",
       "\n",
       "       max_kl_shift  ...   x_acf10  diff1_acf1  diff1_acf10  diff2_acf1  \\\n",
       "0        -34.432373  ...  0.188492    0.044066     0.053093    0.014978   \n",
       "1         -7.934486  ...  0.015951   -0.092287    -0.201130   -0.055909   \n",
       "2         -0.787156  ...  0.300568    0.006736     0.063653    0.017297   \n",
       "3         -3.632079  ...  1.440058    0.026277    -0.106059   -0.014490   \n",
       "4         -2.397004  ...  0.335359   -0.030536    -0.119088   -0.006634   \n",
       "...             ...  ...       ...         ...          ...         ...   \n",
       "49765      0.410619  ...  0.311019    0.105289     0.000651    0.044451   \n",
       "49766     -0.296223  ...  0.076957   -0.104524    -0.174285   -0.080151   \n",
       "49767      1.480214  ... -0.507695    0.012650     0.049103   -0.052857   \n",
       "49768     11.232731  ...  0.097035    0.013598     0.192291   -0.015761   \n",
       "49769      2.942130  ... -0.563518   -0.019755    -0.039482   -0.033259   \n",
       "\n",
       "       diff2_acf10  seas_acf1  nonlinearity  valuable  model  original_series  \n",
       "0         0.040755   0.002605     -0.041006      True    SES                0  \n",
       "1        -0.190957  -0.079814     -0.039702     False    SES                1  \n",
       "2         0.095153   0.025769      0.003036      True    SES                2  \n",
       "3        -0.265756   0.223338     -0.124772     False    SES                3  \n",
       "4        -0.096981   0.123247      0.172501      True    SES                4  \n",
       "...            ...        ...           ...       ...    ...              ...  \n",
       "49765    -0.097926  -0.064641      0.186451     False    RNN              469  \n",
       "49766    -0.279228  -0.003533      0.175199      True    RNN              470  \n",
       "49767    -0.088141  -0.141969     -0.617745      True    RNN              471  \n",
       "49768     0.193426   0.107589     -0.025163      True    RNN              472  \n",
       "49769    -0.104751  -0.050995      0.500241     False    RNN              473  \n",
       "\n",
       "[49770 rows x 36 columns]"
      ]
     },
     "execution_count": 12,
     "metadata": {},
     "output_type": "execute_result"
    }
   ],
   "source": [
    "full_data"
   ]
  },
  {
   "cell_type": "code",
   "execution_count": 13,
   "id": "a31f0974",
   "metadata": {},
   "outputs": [
    {
     "data": {
      "text/plain": [
       "Index(['series_mean', 'series_variance', 'entropy', 'stability', 'lumpiness',\n",
       "       'max_level_shift', 'time_level_shift', 'max_var_shift',\n",
       "       'time_var_shift', 'max_kl_shift', 'time_kl_shift', 'crossing_points',\n",
       "       'flat_spots', 'hurst', 'nperiods', 'seasonal_period', 'trend', 'spike',\n",
       "       'linearity', 'curvature', 'e_acf1', 'e_acf10', 'seasonal_strength',\n",
       "       'peak', 'trough', 'x_acf1', 'x_acf10', 'diff1_acf1', 'diff1_acf10',\n",
       "       'diff2_acf1', 'diff2_acf10', 'seas_acf1', 'nonlinearity', 'valuable',\n",
       "       'model', 'original_series'],\n",
       "      dtype='object')"
      ]
     },
     "execution_count": 13,
     "metadata": {},
     "output_type": "execute_result"
    }
   ],
   "source": [
    "full_data.columns"
   ]
  },
  {
   "cell_type": "code",
   "execution_count": 14,
   "id": "519e4aa2",
   "metadata": {},
   "outputs": [],
   "source": [
    "full_data = full_data.drop([\"nperiods\", \"seasonal_period\", \"model\", \"time_level_shift\", \"time_var_shift\", \"time_kl_shift\",\n",
    "                            \"e_acf10\", \"x_acf10\", \"diff1_acf1\", \"diff1_acf10\", \"diff2_acf1\", \"diff2_acf10\"], axis=1)"
   ]
  },
  {
   "cell_type": "markdown",
   "id": "42f135f1",
   "metadata": {},
   "source": [
    "# Calculate Forecast Characteristics"
   ]
  },
  {
   "cell_type": "markdown",
   "id": "77bcf297",
   "metadata": {},
   "source": [
    "We want to calculate adjustment variables for each protection method across all models and protection parameters."
   ]
  },
  {
   "cell_type": "markdown",
   "id": "83117c8d",
   "metadata": {},
   "source": [
    "We will need to loop through forecast files."
   ]
  },
  {
   "cell_type": "code",
   "execution_count": 15,
   "id": "a6392314",
   "metadata": {},
   "outputs": [],
   "source": [
    "protection_methods = {\"Top\": [0.1, 0.2, 0.4],\n",
    "                      \"Bottom\": [0.1, 0.2, 0.4], \n",
    "                      \"AN\": [0.5, 1, 1.5, 2],\n",
    "                      \"DP\": [0.1, 1, 4.6, 10, 20]}"
   ]
  },
  {
   "cell_type": "markdown",
   "id": "3a6ca535",
   "metadata": {},
   "source": [
    "# Need to concatenate dataframes so index will line up."
   ]
  },
  {
   "cell_type": "code",
   "execution_count": 16,
   "id": "02cf5005",
   "metadata": {},
   "outputs": [],
   "source": [
    "forecast_characteristics = []\n",
    "\n",
    "# for each model\n",
    "for model in models:\n",
    "    \n",
    "    # import the original forecasts\n",
    "    original_file = [f for f in fcast_files if model in f and 'original' in f]\n",
    "    [original_file] = original_file\n",
    "    original_fcasts = pd.read_csv(forecasts_path + original_file)\n",
    "    \n",
    "    # for each protection method\n",
    "    for method in protection_methods.items():\n",
    "        \n",
    "        # for each parameter\n",
    "        for param in method[1]:\n",
    "            \n",
    "            # import the forecasts based on protected data\n",
    "            protected_file = [f for f in fcast_files if method[0] in f and \"_\"+str(param)+\".csv\" in f and model in f]\n",
    "            \n",
    "            [protected_file] = protected_file\n",
    "            \n",
    "            # import each protected file and calculate characteristics\n",
    "            protected_fcasts = pd.read_csv(forecasts_path + protected_file)\n",
    "            \n",
    "            # adjustment direction\n",
    "            direction = (protected_fcasts > original_fcasts).T\n",
    "            \n",
    "            # Calculate adjustment magnitude (absolute difference in forecasts), normalized by the mean of the series.\n",
    "            series_means = [np.mean(x) for x in train_data]\n",
    "            magnitudes = (protected_fcasts - original_fcasts).abs().T.divide(series_means, axis=0)\n",
    "\n",
    "            # Calculate binary large and small adjustment indicators (belongs to 4th and 1st quantiles, respectively).\n",
    "            # qs = np.quantile(magnitudes, q=[0.25, 0.75])\n",
    "            # large_magnitudes = magnitudes >= qs[1]\n",
    "            # small_magnitudes = magnitudes <= qs[0]\n",
    "            \n",
    "            # calculate original MAE\n",
    "            original_errors = mean_absolute_error(test_data, original_fcasts, multioutput=\"raw_values\")\n",
    "            # calculate protected MAE\n",
    "            adjusted_errors = mean_absolute_error(test_data, protected_fcasts, multioutput=\"raw_values\")\n",
    "            # calculate whether the adjustment improved accuracy\n",
    "            valuable = pd.Series(adjusted_errors < original_errors)\n",
    "            \n",
    "            # indicators for the protection method, parameter, and model\n",
    "            method_col = pd.Series(np.repeat(method[0], len(train_data))).reset_index(drop=True)\n",
    "            param_col = pd.Series(np.repeat(str(param), len(train_data))).reset_index(drop=True)\n",
    "            model_col = pd.Series(np.repeat(model, len(train_data))).reset_index(drop=True)\n",
    "            \n",
    "            # concatenate adjustment variables separately and reset the index\n",
    "            X = pd.concat([direction, magnitudes], ignore_index=True, axis=1).reset_index(drop=True)\n",
    "            \n",
    "            # separate concatenations because the index was getting messed up\n",
    "            X = pd.concat([method_col, param_col, model_col, X, valuable], axis=1)\n",
    "            \n",
    "            X.columns = [\"Method\", \"Parameter\", \"Model\", \"Direction\", \"Magnitude\", \"Valuable\"]\n",
    "            \n",
    "            forecast_characteristics.append(X)"
   ]
  },
  {
   "cell_type": "code",
   "execution_count": 17,
   "id": "30d4b3f6",
   "metadata": {},
   "outputs": [],
   "source": [
    "adjustment_df = pd.concat(forecast_characteristics, axis=0)"
   ]
  },
  {
   "cell_type": "code",
   "execution_count": 18,
   "id": "02bd0754",
   "metadata": {},
   "outputs": [
    {
     "data": {
      "text/plain": [
       "Direction    0.374623\n",
       "Magnitude    0.047343\n",
       "Valuable     0.519892\n",
       "dtype: float64"
      ]
     },
     "execution_count": 18,
     "metadata": {},
     "output_type": "execute_result"
    }
   ],
   "source": [
    "adjustment_df.loc[adjustment_df.Method==\"Top\",:].mean()"
   ]
  },
  {
   "cell_type": "code",
   "execution_count": 19,
   "id": "8a396d5b",
   "metadata": {},
   "outputs": [
    {
     "data": {
      "text/html": [
       "<div>\n",
       "<style scoped>\n",
       "    .dataframe tbody tr th:only-of-type {\n",
       "        vertical-align: middle;\n",
       "    }\n",
       "\n",
       "    .dataframe tbody tr th {\n",
       "        vertical-align: top;\n",
       "    }\n",
       "\n",
       "    .dataframe thead th {\n",
       "        text-align: right;\n",
       "    }\n",
       "</style>\n",
       "<table border=\"1\" class=\"dataframe\">\n",
       "  <thead>\n",
       "    <tr style=\"text-align: right;\">\n",
       "      <th></th>\n",
       "      <th>Magnitude</th>\n",
       "      <th>Valuable</th>\n",
       "    </tr>\n",
       "    <tr>\n",
       "      <th>Direction</th>\n",
       "      <th></th>\n",
       "      <th></th>\n",
       "    </tr>\n",
       "  </thead>\n",
       "  <tbody>\n",
       "    <tr>\n",
       "      <th>False</th>\n",
       "      <td>0.060653</td>\n",
       "      <td>0.486586</td>\n",
       "    </tr>\n",
       "    <tr>\n",
       "      <th>True</th>\n",
       "      <td>0.025124</td>\n",
       "      <td>0.575489</td>\n",
       "    </tr>\n",
       "  </tbody>\n",
       "</table>\n",
       "</div>"
      ],
      "text/plain": [
       "           Magnitude  Valuable\n",
       "Direction                     \n",
       "False       0.060653  0.486586\n",
       "True        0.025124  0.575489"
      ]
     },
     "execution_count": 19,
     "metadata": {},
     "output_type": "execute_result"
    }
   ],
   "source": [
    "adjustment_df.loc[adjustment_df.Method==\"Top\",:].groupby([\"Direction\"]).mean()"
   ]
  },
  {
   "cell_type": "code",
   "execution_count": 20,
   "id": "21cbc81e",
   "metadata": {},
   "outputs": [
    {
     "data": {
      "text/html": [
       "<div>\n",
       "<style scoped>\n",
       "    .dataframe tbody tr th:only-of-type {\n",
       "        vertical-align: middle;\n",
       "    }\n",
       "\n",
       "    .dataframe tbody tr th {\n",
       "        vertical-align: top;\n",
       "    }\n",
       "\n",
       "    .dataframe thead th {\n",
       "        text-align: right;\n",
       "    }\n",
       "</style>\n",
       "<table border=\"1\" class=\"dataframe\">\n",
       "  <thead>\n",
       "    <tr style=\"text-align: right;\">\n",
       "      <th></th>\n",
       "      <th>Direction</th>\n",
       "      <th>Magnitude</th>\n",
       "      <th>Valuable</th>\n",
       "    </tr>\n",
       "    <tr>\n",
       "      <th>Parameter</th>\n",
       "      <th></th>\n",
       "      <th></th>\n",
       "      <th></th>\n",
       "    </tr>\n",
       "  </thead>\n",
       "  <tbody>\n",
       "    <tr>\n",
       "      <th>0.1</th>\n",
       "      <td>0.414406</td>\n",
       "      <td>0.022905</td>\n",
       "      <td>0.536468</td>\n",
       "    </tr>\n",
       "    <tr>\n",
       "      <th>0.2</th>\n",
       "      <td>0.379747</td>\n",
       "      <td>0.041751</td>\n",
       "      <td>0.522604</td>\n",
       "    </tr>\n",
       "    <tr>\n",
       "      <th>0.4</th>\n",
       "      <td>0.329717</td>\n",
       "      <td>0.077373</td>\n",
       "      <td>0.500603</td>\n",
       "    </tr>\n",
       "  </tbody>\n",
       "</table>\n",
       "</div>"
      ],
      "text/plain": [
       "           Direction  Magnitude  Valuable\n",
       "Parameter                                \n",
       "0.1         0.414406   0.022905  0.536468\n",
       "0.2         0.379747   0.041751  0.522604\n",
       "0.4         0.329717   0.077373  0.500603"
      ]
     },
     "execution_count": 20,
     "metadata": {},
     "output_type": "execute_result"
    }
   ],
   "source": [
    "adjustment_df.loc[adjustment_df.Method==\"Top\",:].groupby([\"Parameter\"]).mean()"
   ]
  },
  {
   "cell_type": "markdown",
   "id": "f45738eb",
   "metadata": {},
   "source": [
    "Include top and bottom adjustment results with k-nts adjustment results."
   ]
  },
  {
   "cell_type": "code",
   "execution_count": 21,
   "id": "9bc3ceca",
   "metadata": {},
   "outputs": [
    {
     "data": {
      "text/html": [
       "<div>\n",
       "<style scoped>\n",
       "    .dataframe tbody tr th:only-of-type {\n",
       "        vertical-align: middle;\n",
       "    }\n",
       "\n",
       "    .dataframe tbody tr th {\n",
       "        vertical-align: top;\n",
       "    }\n",
       "\n",
       "    .dataframe thead th {\n",
       "        text-align: right;\n",
       "    }\n",
       "</style>\n",
       "<table border=\"1\" class=\"dataframe\">\n",
       "  <thead>\n",
       "    <tr style=\"text-align: right;\">\n",
       "      <th></th>\n",
       "      <th></th>\n",
       "      <th>Magnitude</th>\n",
       "      <th>Valuable</th>\n",
       "    </tr>\n",
       "    <tr>\n",
       "      <th>Direction</th>\n",
       "      <th>Parameter</th>\n",
       "      <th></th>\n",
       "      <th></th>\n",
       "    </tr>\n",
       "  </thead>\n",
       "  <tbody>\n",
       "    <tr>\n",
       "      <th rowspan=\"3\" valign=\"top\">False</th>\n",
       "      <th>0.1</th>\n",
       "      <td>0.027037</td>\n",
       "      <td>0.511065</td>\n",
       "    </tr>\n",
       "    <tr>\n",
       "      <th>0.2</th>\n",
       "      <td>0.051412</td>\n",
       "      <td>0.491254</td>\n",
       "    </tr>\n",
       "    <tr>\n",
       "      <th>0.4</th>\n",
       "      <td>0.098572</td>\n",
       "      <td>0.460881</td>\n",
       "    </tr>\n",
       "    <tr>\n",
       "      <th rowspan=\"3\" valign=\"top\">True</th>\n",
       "      <th>0.1</th>\n",
       "      <td>0.017067</td>\n",
       "      <td>0.572364</td>\n",
       "    </tr>\n",
       "    <tr>\n",
       "      <th>0.2</th>\n",
       "      <td>0.025972</td>\n",
       "      <td>0.573810</td>\n",
       "    </tr>\n",
       "    <tr>\n",
       "      <th>0.4</th>\n",
       "      <td>0.034275</td>\n",
       "      <td>0.581353</td>\n",
       "    </tr>\n",
       "  </tbody>\n",
       "</table>\n",
       "</div>"
      ],
      "text/plain": [
       "                     Magnitude  Valuable\n",
       "Direction Parameter                     \n",
       "False     0.1         0.027037  0.511065\n",
       "          0.2         0.051412  0.491254\n",
       "          0.4         0.098572  0.460881\n",
       "True      0.1         0.017067  0.572364\n",
       "          0.2         0.025972  0.573810\n",
       "          0.4         0.034275  0.581353"
      ]
     },
     "execution_count": 21,
     "metadata": {},
     "output_type": "execute_result"
    }
   ],
   "source": [
    "adjustment_df.loc[adjustment_df.Method==\"Top\",:].groupby([\"Direction\", \"Parameter\"]).mean()"
   ]
  },
  {
   "cell_type": "code",
   "execution_count": 22,
   "id": "e77b0a48",
   "metadata": {},
   "outputs": [
    {
     "data": {
      "text/plain": [
       "Direction    0.766727\n",
       "Magnitude    0.074552\n",
       "Valuable     0.452984\n",
       "dtype: float64"
      ]
     },
     "execution_count": 22,
     "metadata": {},
     "output_type": "execute_result"
    }
   ],
   "source": [
    "adjustment_df.loc[adjustment_df.Method==\"Bottom\",:].mean(axis=0)"
   ]
  },
  {
   "cell_type": "code",
   "execution_count": 23,
   "id": "d03180f8",
   "metadata": {},
   "outputs": [
    {
     "data": {
      "text/html": [
       "<div>\n",
       "<style scoped>\n",
       "    .dataframe tbody tr th:only-of-type {\n",
       "        vertical-align: middle;\n",
       "    }\n",
       "\n",
       "    .dataframe tbody tr th {\n",
       "        vertical-align: top;\n",
       "    }\n",
       "\n",
       "    .dataframe thead th {\n",
       "        text-align: right;\n",
       "    }\n",
       "</style>\n",
       "<table border=\"1\" class=\"dataframe\">\n",
       "  <thead>\n",
       "    <tr style=\"text-align: right;\">\n",
       "      <th></th>\n",
       "      <th></th>\n",
       "      <th>Magnitude</th>\n",
       "      <th>Valuable</th>\n",
       "    </tr>\n",
       "    <tr>\n",
       "      <th>Direction</th>\n",
       "      <th>Parameter</th>\n",
       "      <th></th>\n",
       "      <th></th>\n",
       "    </tr>\n",
       "  </thead>\n",
       "  <tbody>\n",
       "    <tr>\n",
       "      <th rowspan=\"3\" valign=\"top\">False</th>\n",
       "      <th>0.1</th>\n",
       "      <td>0.026930</td>\n",
       "      <td>0.481836</td>\n",
       "    </tr>\n",
       "    <tr>\n",
       "      <th>0.2</th>\n",
       "      <td>0.038745</td>\n",
       "      <td>0.511307</td>\n",
       "    </tr>\n",
       "    <tr>\n",
       "      <th>0.4</th>\n",
       "      <td>0.068688</td>\n",
       "      <td>0.547917</td>\n",
       "    </tr>\n",
       "    <tr>\n",
       "      <th rowspan=\"3\" valign=\"top\">True</th>\n",
       "      <th>0.1</th>\n",
       "      <td>0.036443</td>\n",
       "      <td>0.488116</td>\n",
       "    </tr>\n",
       "    <tr>\n",
       "      <th>0.2</th>\n",
       "      <td>0.066876</td>\n",
       "      <td>0.456780</td>\n",
       "    </tr>\n",
       "    <tr>\n",
       "      <th>0.4</th>\n",
       "      <td>0.140469</td>\n",
       "      <td>0.378436</td>\n",
       "    </tr>\n",
       "  </tbody>\n",
       "</table>\n",
       "</div>"
      ],
      "text/plain": [
       "                     Magnitude  Valuable\n",
       "Direction Parameter                     \n",
       "False     0.1         0.026930  0.481836\n",
       "          0.2         0.038745  0.511307\n",
       "          0.4         0.068688  0.547917\n",
       "True      0.1         0.036443  0.488116\n",
       "          0.2         0.066876  0.456780\n",
       "          0.4         0.140469  0.378436"
      ]
     },
     "execution_count": 23,
     "metadata": {},
     "output_type": "execute_result"
    }
   ],
   "source": [
    "adjustment_df.loc[adjustment_df.Method==\"Bottom\",:].groupby([\"Direction\", \"Parameter\"]).mean()"
   ]
  },
  {
   "cell_type": "code",
   "execution_count": 24,
   "id": "e7d57a80",
   "metadata": {},
   "outputs": [
    {
     "data": {
      "text/plain": [
       "Direction    0.318716\n",
       "Magnitude    0.256092\n",
       "Valuable     0.316908\n",
       "dtype: float64"
      ]
     },
     "execution_count": 24,
     "metadata": {},
     "output_type": "execute_result"
    }
   ],
   "source": [
    "adjustment_df.loc[adjustment_df.Method==\"AN\",:].mean(axis=0)"
   ]
  },
  {
   "cell_type": "code",
   "execution_count": 25,
   "id": "e3ed2713",
   "metadata": {},
   "outputs": [
    {
     "data": {
      "text/html": [
       "<div>\n",
       "<style scoped>\n",
       "    .dataframe tbody tr th:only-of-type {\n",
       "        vertical-align: middle;\n",
       "    }\n",
       "\n",
       "    .dataframe tbody tr th {\n",
       "        vertical-align: top;\n",
       "    }\n",
       "\n",
       "    .dataframe thead th {\n",
       "        text-align: right;\n",
       "    }\n",
       "</style>\n",
       "<table border=\"1\" class=\"dataframe\">\n",
       "  <thead>\n",
       "    <tr style=\"text-align: right;\">\n",
       "      <th></th>\n",
       "      <th></th>\n",
       "      <th>Magnitude</th>\n",
       "      <th>Valuable</th>\n",
       "    </tr>\n",
       "    <tr>\n",
       "      <th>Direction</th>\n",
       "      <th>Parameter</th>\n",
       "      <th></th>\n",
       "      <th></th>\n",
       "    </tr>\n",
       "  </thead>\n",
       "  <tbody>\n",
       "    <tr>\n",
       "      <th rowspan=\"4\" valign=\"top\">False</th>\n",
       "      <th>0.5</th>\n",
       "      <td>0.104600</td>\n",
       "      <td>0.404332</td>\n",
       "    </tr>\n",
       "    <tr>\n",
       "      <th>1</th>\n",
       "      <td>0.208823</td>\n",
       "      <td>0.314764</td>\n",
       "    </tr>\n",
       "    <tr>\n",
       "      <th>1.5</th>\n",
       "      <td>0.300538</td>\n",
       "      <td>0.251366</td>\n",
       "    </tr>\n",
       "    <tr>\n",
       "      <th>2</th>\n",
       "      <td>0.372906</td>\n",
       "      <td>0.216216</td>\n",
       "    </tr>\n",
       "    <tr>\n",
       "      <th rowspan=\"4\" valign=\"top\">True</th>\n",
       "      <th>0.5</th>\n",
       "      <td>0.147574</td>\n",
       "      <td>0.453227</td>\n",
       "    </tr>\n",
       "    <tr>\n",
       "      <th>1</th>\n",
       "      <td>0.243805</td>\n",
       "      <td>0.382883</td>\n",
       "    </tr>\n",
       "    <tr>\n",
       "      <th>1.5</th>\n",
       "      <td>0.283277</td>\n",
       "      <td>0.312034</td>\n",
       "    </tr>\n",
       "    <tr>\n",
       "      <th>2</th>\n",
       "      <td>0.425961</td>\n",
       "      <td>0.301746</td>\n",
       "    </tr>\n",
       "  </tbody>\n",
       "</table>\n",
       "</div>"
      ],
      "text/plain": [
       "                     Magnitude  Valuable\n",
       "Direction Parameter                     \n",
       "False     0.5         0.104600  0.404332\n",
       "          1           0.208823  0.314764\n",
       "          1.5         0.300538  0.251366\n",
       "          2           0.372906  0.216216\n",
       "True      0.5         0.147574  0.453227\n",
       "          1           0.243805  0.382883\n",
       "          1.5         0.283277  0.312034\n",
       "          2           0.425961  0.301746"
      ]
     },
     "execution_count": 25,
     "metadata": {},
     "output_type": "execute_result"
    }
   ],
   "source": [
    "adjustment_df.loc[adjustment_df.Method==\"AN\",:].groupby([\"Direction\", \"Parameter\"]).mean()"
   ]
  },
  {
   "cell_type": "code",
   "execution_count": 26,
   "id": "aea4d885",
   "metadata": {},
   "outputs": [
    {
     "data": {
      "text/plain": [
       "Direction    0.270766\n",
       "Magnitude    0.565768\n",
       "Valuable     0.262929\n",
       "dtype: float64"
      ]
     },
     "execution_count": 26,
     "metadata": {},
     "output_type": "execute_result"
    }
   ],
   "source": [
    "adjustment_df.loc[adjustment_df.Method==\"DP\",:].mean(axis=0)"
   ]
  },
  {
   "cell_type": "code",
   "execution_count": 27,
   "id": "e779e323",
   "metadata": {},
   "outputs": [
    {
     "data": {
      "text/html": [
       "<div>\n",
       "<style scoped>\n",
       "    .dataframe tbody tr th:only-of-type {\n",
       "        vertical-align: middle;\n",
       "    }\n",
       "\n",
       "    .dataframe tbody tr th {\n",
       "        vertical-align: top;\n",
       "    }\n",
       "\n",
       "    .dataframe thead th {\n",
       "        text-align: right;\n",
       "    }\n",
       "</style>\n",
       "<table border=\"1\" class=\"dataframe\">\n",
       "  <thead>\n",
       "    <tr style=\"text-align: right;\">\n",
       "      <th></th>\n",
       "      <th></th>\n",
       "      <th>Magnitude</th>\n",
       "      <th>Valuable</th>\n",
       "    </tr>\n",
       "    <tr>\n",
       "      <th>Direction</th>\n",
       "      <th>Parameter</th>\n",
       "      <th></th>\n",
       "      <th></th>\n",
       "    </tr>\n",
       "  </thead>\n",
       "  <tbody>\n",
       "    <tr>\n",
       "      <th rowspan=\"5\" valign=\"top\">False</th>\n",
       "      <th>0.1</th>\n",
       "      <td>0.761683</td>\n",
       "      <td>0.046574</td>\n",
       "    </tr>\n",
       "    <tr>\n",
       "      <th>1</th>\n",
       "      <td>0.591218</td>\n",
       "      <td>0.087935</td>\n",
       "    </tr>\n",
       "    <tr>\n",
       "      <th>10</th>\n",
       "      <td>0.141919</td>\n",
       "      <td>0.378176</td>\n",
       "    </tr>\n",
       "    <tr>\n",
       "      <th>20</th>\n",
       "      <td>0.074939</td>\n",
       "      <td>0.447961</td>\n",
       "    </tr>\n",
       "    <tr>\n",
       "      <th>4.6</th>\n",
       "      <td>0.274371</td>\n",
       "      <td>0.277682</td>\n",
       "    </tr>\n",
       "    <tr>\n",
       "      <th rowspan=\"5\" valign=\"top\">True</th>\n",
       "      <th>0.1</th>\n",
       "      <td>5.316044</td>\n",
       "      <td>0.098592</td>\n",
       "    </tr>\n",
       "    <tr>\n",
       "      <th>1</th>\n",
       "      <td>4.353034</td>\n",
       "      <td>0.171875</td>\n",
       "    </tr>\n",
       "    <tr>\n",
       "      <th>10</th>\n",
       "      <td>0.148968</td>\n",
       "      <td>0.427155</td>\n",
       "    </tr>\n",
       "    <tr>\n",
       "      <th>20</th>\n",
       "      <td>0.074270</td>\n",
       "      <td>0.487620</td>\n",
       "    </tr>\n",
       "    <tr>\n",
       "      <th>4.6</th>\n",
       "      <td>0.474433</td>\n",
       "      <td>0.359312</td>\n",
       "    </tr>\n",
       "  </tbody>\n",
       "</table>\n",
       "</div>"
      ],
      "text/plain": [
       "                     Magnitude  Valuable\n",
       "Direction Parameter                     \n",
       "False     0.1         0.761683  0.046574\n",
       "          1           0.591218  0.087935\n",
       "          10          0.141919  0.378176\n",
       "          20          0.074939  0.447961\n",
       "          4.6         0.274371  0.277682\n",
       "True      0.1         5.316044  0.098592\n",
       "          1           4.353034  0.171875\n",
       "          10          0.148968  0.427155\n",
       "          20          0.074270  0.487620\n",
       "          4.6         0.474433  0.359312"
      ]
     },
     "execution_count": 27,
     "metadata": {},
     "output_type": "execute_result"
    }
   ],
   "source": [
    "adjustment_df.loc[adjustment_df.Method==\"DP\",:].groupby([\"Direction\", \"Parameter\"]).mean()"
   ]
  },
  {
   "cell_type": "markdown",
   "id": "fdfe76fd",
   "metadata": {},
   "source": [
    "***"
   ]
  },
  {
   "cell_type": "markdown",
   "id": "b94c1db1",
   "metadata": {},
   "source": [
    "Calculations of interest."
   ]
  },
  {
   "cell_type": "markdown",
   "id": "d05faf9a",
   "metadata": {},
   "source": [
    "Calculate adjustment characteristics for top coding across all models."
   ]
  },
  {
   "cell_type": "markdown",
   "id": "856cb061",
   "metadata": {},
   "source": [
    "Get the proportions of directions and large and small magnitude adjustments for top coding and differential privacy."
   ]
  },
  {
   "cell_type": "code",
   "execution_count": 28,
   "id": "2f6efc86",
   "metadata": {},
   "outputs": [],
   "source": [
    "# adjustment_df.loc[adjustment_df.Method==\"Top\",[\"Direction\", \"Valuable\"]].groupby(\"Direction\").mean()"
   ]
  },
  {
   "cell_type": "code",
   "execution_count": 29,
   "id": "5f89181d",
   "metadata": {},
   "outputs": [],
   "source": [
    "# adjustment_df.loc[adjustment_df.Method==\"Top\",[\"Direction\", \"Magnitude\"]].mean(axis=0)"
   ]
  },
  {
   "cell_type": "code",
   "execution_count": 30,
   "id": "34de72a1",
   "metadata": {},
   "outputs": [],
   "source": [
    "# adjustment_df.loc[adjustment_df.Method==\"DP\",[\"Direction\", \"Magnitude\"]].mean(axis=0)"
   ]
  },
  {
   "cell_type": "markdown",
   "id": "58a8f8e8",
   "metadata": {},
   "source": [
    "***"
   ]
  },
  {
   "cell_type": "markdown",
   "id": "a7f652ce",
   "metadata": {},
   "source": [
    "We need to combine our predictor variables."
   ]
  },
  {
   "cell_type": "code",
   "execution_count": 31,
   "id": "920a9d50",
   "metadata": {},
   "outputs": [],
   "source": [
    "# X = pd.concat([direction, magnitudes, large_magnitudes, small_magnitudes], axis=1, ignore_index=True).reset_index(drop=True)"
   ]
  },
  {
   "cell_type": "code",
   "execution_count": 32,
   "id": "e3494829",
   "metadata": {},
   "outputs": [],
   "source": [
    "# X.columns = [\"Direction\", \"Magnitude\", \"Large_Magnitude\", \"Small_Magnitude\"]"
   ]
  },
  {
   "cell_type": "code",
   "execution_count": 33,
   "id": "9bdc9c54",
   "metadata": {},
   "outputs": [],
   "source": [
    "# X = pd.concat([X, ts_features], axis=1)"
   ]
  },
  {
   "cell_type": "code",
   "execution_count": 34,
   "id": "b9a78826",
   "metadata": {},
   "outputs": [],
   "source": [
    "X = full_data.drop(['valuable', 'original_series'], axis=1)"
   ]
  },
  {
   "cell_type": "code",
   "execution_count": 35,
   "id": "1d350d00",
   "metadata": {},
   "outputs": [],
   "source": [
    "y = full_data.valuable"
   ]
  },
  {
   "cell_type": "code",
   "execution_count": 36,
   "id": "7c902011",
   "metadata": {},
   "outputs": [],
   "source": [
    "scaler = StandardScaler()"
   ]
  },
  {
   "cell_type": "code",
   "execution_count": 37,
   "id": "53984466",
   "metadata": {},
   "outputs": [],
   "source": [
    "X_scaled = pd.DataFrame(scaler.fit_transform(X), columns=X.columns)"
   ]
  },
  {
   "cell_type": "code",
   "execution_count": 38,
   "id": "614d75a6",
   "metadata": {},
   "outputs": [
    {
     "data": {
      "text/html": [
       "<div>\n",
       "<style scoped>\n",
       "    .dataframe tbody tr th:only-of-type {\n",
       "        vertical-align: middle;\n",
       "    }\n",
       "\n",
       "    .dataframe tbody tr th {\n",
       "        vertical-align: top;\n",
       "    }\n",
       "\n",
       "    .dataframe thead th {\n",
       "        text-align: right;\n",
       "    }\n",
       "</style>\n",
       "<table border=\"1\" class=\"dataframe\">\n",
       "  <thead>\n",
       "    <tr style=\"text-align: right;\">\n",
       "      <th></th>\n",
       "      <th>series_mean</th>\n",
       "      <th>series_variance</th>\n",
       "      <th>entropy</th>\n",
       "      <th>stability</th>\n",
       "      <th>lumpiness</th>\n",
       "      <th>max_level_shift</th>\n",
       "      <th>max_var_shift</th>\n",
       "      <th>max_kl_shift</th>\n",
       "      <th>crossing_points</th>\n",
       "      <th>flat_spots</th>\n",
       "      <th>...</th>\n",
       "      <th>spike</th>\n",
       "      <th>linearity</th>\n",
       "      <th>curvature</th>\n",
       "      <th>e_acf1</th>\n",
       "      <th>seasonal_strength</th>\n",
       "      <th>peak</th>\n",
       "      <th>trough</th>\n",
       "      <th>x_acf1</th>\n",
       "      <th>seas_acf1</th>\n",
       "      <th>nonlinearity</th>\n",
       "    </tr>\n",
       "  </thead>\n",
       "  <tbody>\n",
       "    <tr>\n",
       "      <th>0</th>\n",
       "      <td>0.036375</td>\n",
       "      <td>0.015059</td>\n",
       "      <td>0.416104</td>\n",
       "      <td>0.110714</td>\n",
       "      <td>-0.756654</td>\n",
       "      <td>-0.098127</td>\n",
       "      <td>-0.858761</td>\n",
       "      <td>-1.845131</td>\n",
       "      <td>0.064743</td>\n",
       "      <td>-0.046508</td>\n",
       "      <td>...</td>\n",
       "      <td>-0.337398</td>\n",
       "      <td>0.224609</td>\n",
       "      <td>-1.161570</td>\n",
       "      <td>0.414960</td>\n",
       "      <td>-1.657262</td>\n",
       "      <td>-1.462119</td>\n",
       "      <td>-0.372011</td>\n",
       "      <td>-0.567106</td>\n",
       "      <td>-0.627464</td>\n",
       "      <td>-0.118702</td>\n",
       "    </tr>\n",
       "    <tr>\n",
       "      <th>1</th>\n",
       "      <td>-0.035708</td>\n",
       "      <td>0.112255</td>\n",
       "      <td>0.578501</td>\n",
       "      <td>-0.886671</td>\n",
       "      <td>-0.991998</td>\n",
       "      <td>-0.199967</td>\n",
       "      <td>-0.430132</td>\n",
       "      <td>-0.127455</td>\n",
       "      <td>0.541067</td>\n",
       "      <td>0.310397</td>\n",
       "      <td>...</td>\n",
       "      <td>-0.025608</td>\n",
       "      <td>-0.399462</td>\n",
       "      <td>-0.110288</td>\n",
       "      <td>-0.342426</td>\n",
       "      <td>-0.476742</td>\n",
       "      <td>-0.145754</td>\n",
       "      <td>-0.944956</td>\n",
       "      <td>-0.891335</td>\n",
       "      <td>-1.090533</td>\n",
       "      <td>-0.116229</td>\n",
       "    </tr>\n",
       "    <tr>\n",
       "      <th>2</th>\n",
       "      <td>-0.470069</td>\n",
       "      <td>0.473213</td>\n",
       "      <td>0.274976</td>\n",
       "      <td>-0.169596</td>\n",
       "      <td>-0.017128</td>\n",
       "      <td>0.531574</td>\n",
       "      <td>0.597818</td>\n",
       "      <td>0.335858</td>\n",
       "      <td>0.350537</td>\n",
       "      <td>0.488850</td>\n",
       "      <td>...</td>\n",
       "      <td>0.408950</td>\n",
       "      <td>0.247099</td>\n",
       "      <td>0.241587</td>\n",
       "      <td>-0.338420</td>\n",
       "      <td>-0.545373</td>\n",
       "      <td>0.183338</td>\n",
       "      <td>1.346823</td>\n",
       "      <td>-0.098656</td>\n",
       "      <td>-0.497320</td>\n",
       "      <td>-0.035155</td>\n",
       "    </tr>\n",
       "    <tr>\n",
       "      <th>3</th>\n",
       "      <td>-0.008452</td>\n",
       "      <td>0.080140</td>\n",
       "      <td>0.128829</td>\n",
       "      <td>1.071009</td>\n",
       "      <td>-0.602751</td>\n",
       "      <td>0.013193</td>\n",
       "      <td>-0.606709</td>\n",
       "      <td>0.151441</td>\n",
       "      <td>0.731597</td>\n",
       "      <td>0.667303</td>\n",
       "      <td>...</td>\n",
       "      <td>-0.313027</td>\n",
       "      <td>-0.380220</td>\n",
       "      <td>-0.328442</td>\n",
       "      <td>0.309472</td>\n",
       "      <td>0.542573</td>\n",
       "      <td>-0.474845</td>\n",
       "      <td>-0.085539</td>\n",
       "      <td>1.137095</td>\n",
       "      <td>0.612717</td>\n",
       "      <td>-0.277604</td>\n",
       "    </tr>\n",
       "    <tr>\n",
       "      <th>4</th>\n",
       "      <td>-0.450092</td>\n",
       "      <td>0.450885</td>\n",
       "      <td>0.316516</td>\n",
       "      <td>-0.250276</td>\n",
       "      <td>-0.232980</td>\n",
       "      <td>0.465087</td>\n",
       "      <td>0.553148</td>\n",
       "      <td>0.231502</td>\n",
       "      <td>0.350537</td>\n",
       "      <td>0.131945</td>\n",
       "      <td>...</td>\n",
       "      <td>0.402212</td>\n",
       "      <td>0.168552</td>\n",
       "      <td>0.484009</td>\n",
       "      <td>0.209060</td>\n",
       "      <td>-0.124234</td>\n",
       "      <td>-0.145754</td>\n",
       "      <td>0.200934</td>\n",
       "      <td>-0.025647</td>\n",
       "      <td>0.050359</td>\n",
       "      <td>0.286317</td>\n",
       "    </tr>\n",
       "    <tr>\n",
       "      <th>...</th>\n",
       "      <td>...</td>\n",
       "      <td>...</td>\n",
       "      <td>...</td>\n",
       "      <td>...</td>\n",
       "      <td>...</td>\n",
       "      <td>...</td>\n",
       "      <td>...</td>\n",
       "      <td>...</td>\n",
       "      <td>...</td>\n",
       "      <td>...</td>\n",
       "      <td>...</td>\n",
       "      <td>...</td>\n",
       "      <td>...</td>\n",
       "      <td>...</td>\n",
       "      <td>...</td>\n",
       "      <td>...</td>\n",
       "      <td>...</td>\n",
       "      <td>...</td>\n",
       "      <td>...</td>\n",
       "      <td>...</td>\n",
       "      <td>...</td>\n",
       "    </tr>\n",
       "    <tr>\n",
       "      <th>49765</th>\n",
       "      <td>-0.486650</td>\n",
       "      <td>0.495744</td>\n",
       "      <td>1.793471</td>\n",
       "      <td>-0.452868</td>\n",
       "      <td>0.119406</td>\n",
       "      <td>0.599530</td>\n",
       "      <td>0.661528</td>\n",
       "      <td>0.413501</td>\n",
       "      <td>0.541067</td>\n",
       "      <td>-2.544848</td>\n",
       "      <td>...</td>\n",
       "      <td>0.411628</td>\n",
       "      <td>0.482924</td>\n",
       "      <td>0.482732</td>\n",
       "      <td>-1.404593</td>\n",
       "      <td>-0.681232</td>\n",
       "      <td>-0.145754</td>\n",
       "      <td>1.060351</td>\n",
       "      <td>-0.943949</td>\n",
       "      <td>-1.005287</td>\n",
       "      <td>0.312780</td>\n",
       "    </tr>\n",
       "    <tr>\n",
       "      <th>49766</th>\n",
       "      <td>-0.520405</td>\n",
       "      <td>0.495014</td>\n",
       "      <td>0.589720</td>\n",
       "      <td>-0.323631</td>\n",
       "      <td>0.325105</td>\n",
       "      <td>0.576830</td>\n",
       "      <td>0.660228</td>\n",
       "      <td>0.367681</td>\n",
       "      <td>0.541067</td>\n",
       "      <td>0.131945</td>\n",
       "      <td>...</td>\n",
       "      <td>0.411628</td>\n",
       "      <td>0.353192</td>\n",
       "      <td>0.414397</td>\n",
       "      <td>0.282329</td>\n",
       "      <td>-0.511676</td>\n",
       "      <td>-0.145754</td>\n",
       "      <td>0.200934</td>\n",
       "      <td>-0.360953</td>\n",
       "      <td>-0.661948</td>\n",
       "      <td>0.291436</td>\n",
       "    </tr>\n",
       "    <tr>\n",
       "      <th>49767</th>\n",
       "      <td>-0.490650</td>\n",
       "      <td>0.495617</td>\n",
       "      <td>1.084690</td>\n",
       "      <td>-1.269849</td>\n",
       "      <td>0.569079</td>\n",
       "      <td>0.620566</td>\n",
       "      <td>0.661339</td>\n",
       "      <td>0.482836</td>\n",
       "      <td>0.541067</td>\n",
       "      <td>-0.581867</td>\n",
       "      <td>...</td>\n",
       "      <td>0.411628</td>\n",
       "      <td>0.399656</td>\n",
       "      <td>0.440956</td>\n",
       "      <td>-1.107732</td>\n",
       "      <td>-0.430381</td>\n",
       "      <td>-0.145754</td>\n",
       "      <td>0.200934</td>\n",
       "      <td>-1.212189</td>\n",
       "      <td>-1.439753</td>\n",
       "      <td>-1.212767</td>\n",
       "    </tr>\n",
       "    <tr>\n",
       "      <th>49768</th>\n",
       "      <td>-0.521037</td>\n",
       "      <td>0.495004</td>\n",
       "      <td>0.469253</td>\n",
       "      <td>-0.570406</td>\n",
       "      <td>1.340684</td>\n",
       "      <td>0.585240</td>\n",
       "      <td>0.660362</td>\n",
       "      <td>1.115024</td>\n",
       "      <td>0.541067</td>\n",
       "      <td>0.488850</td>\n",
       "      <td>...</td>\n",
       "      <td>0.411628</td>\n",
       "      <td>0.334304</td>\n",
       "      <td>0.406773</td>\n",
       "      <td>0.780516</td>\n",
       "      <td>-1.074435</td>\n",
       "      <td>-0.145754</td>\n",
       "      <td>-2.090846</td>\n",
       "      <td>-0.771936</td>\n",
       "      <td>-0.037616</td>\n",
       "      <td>-0.088647</td>\n",
       "    </tr>\n",
       "    <tr>\n",
       "      <th>49769</th>\n",
       "      <td>-0.427810</td>\n",
       "      <td>0.500112</td>\n",
       "      <td>0.715441</td>\n",
       "      <td>-1.191176</td>\n",
       "      <td>0.806997</td>\n",
       "      <td>0.669208</td>\n",
       "      <td>0.675351</td>\n",
       "      <td>0.577602</td>\n",
       "      <td>0.541067</td>\n",
       "      <td>-0.403414</td>\n",
       "      <td>...</td>\n",
       "      <td>0.411648</td>\n",
       "      <td>0.570057</td>\n",
       "      <td>0.537787</td>\n",
       "      <td>-0.315961</td>\n",
       "      <td>-0.639959</td>\n",
       "      <td>0.841520</td>\n",
       "      <td>0.200934</td>\n",
       "      <td>-1.161647</td>\n",
       "      <td>-0.928617</td>\n",
       "      <td>0.908036</td>\n",
       "    </tr>\n",
       "  </tbody>\n",
       "</table>\n",
       "<p>49770 rows × 22 columns</p>\n",
       "</div>"
      ],
      "text/plain": [
       "       series_mean  series_variance   entropy  stability  lumpiness  \\\n",
       "0         0.036375         0.015059  0.416104   0.110714  -0.756654   \n",
       "1        -0.035708         0.112255  0.578501  -0.886671  -0.991998   \n",
       "2        -0.470069         0.473213  0.274976  -0.169596  -0.017128   \n",
       "3        -0.008452         0.080140  0.128829   1.071009  -0.602751   \n",
       "4        -0.450092         0.450885  0.316516  -0.250276  -0.232980   \n",
       "...            ...              ...       ...        ...        ...   \n",
       "49765    -0.486650         0.495744  1.793471  -0.452868   0.119406   \n",
       "49766    -0.520405         0.495014  0.589720  -0.323631   0.325105   \n",
       "49767    -0.490650         0.495617  1.084690  -1.269849   0.569079   \n",
       "49768    -0.521037         0.495004  0.469253  -0.570406   1.340684   \n",
       "49769    -0.427810         0.500112  0.715441  -1.191176   0.806997   \n",
       "\n",
       "       max_level_shift  max_var_shift  max_kl_shift  crossing_points  \\\n",
       "0            -0.098127      -0.858761     -1.845131         0.064743   \n",
       "1            -0.199967      -0.430132     -0.127455         0.541067   \n",
       "2             0.531574       0.597818      0.335858         0.350537   \n",
       "3             0.013193      -0.606709      0.151441         0.731597   \n",
       "4             0.465087       0.553148      0.231502         0.350537   \n",
       "...                ...            ...           ...              ...   \n",
       "49765         0.599530       0.661528      0.413501         0.541067   \n",
       "49766         0.576830       0.660228      0.367681         0.541067   \n",
       "49767         0.620566       0.661339      0.482836         0.541067   \n",
       "49768         0.585240       0.660362      1.115024         0.541067   \n",
       "49769         0.669208       0.675351      0.577602         0.541067   \n",
       "\n",
       "       flat_spots  ...     spike  linearity  curvature    e_acf1  \\\n",
       "0       -0.046508  ... -0.337398   0.224609  -1.161570  0.414960   \n",
       "1        0.310397  ... -0.025608  -0.399462  -0.110288 -0.342426   \n",
       "2        0.488850  ...  0.408950   0.247099   0.241587 -0.338420   \n",
       "3        0.667303  ... -0.313027  -0.380220  -0.328442  0.309472   \n",
       "4        0.131945  ...  0.402212   0.168552   0.484009  0.209060   \n",
       "...           ...  ...       ...        ...        ...       ...   \n",
       "49765   -2.544848  ...  0.411628   0.482924   0.482732 -1.404593   \n",
       "49766    0.131945  ...  0.411628   0.353192   0.414397  0.282329   \n",
       "49767   -0.581867  ...  0.411628   0.399656   0.440956 -1.107732   \n",
       "49768    0.488850  ...  0.411628   0.334304   0.406773  0.780516   \n",
       "49769   -0.403414  ...  0.411648   0.570057   0.537787 -0.315961   \n",
       "\n",
       "       seasonal_strength      peak    trough    x_acf1  seas_acf1  \\\n",
       "0              -1.657262 -1.462119 -0.372011 -0.567106  -0.627464   \n",
       "1              -0.476742 -0.145754 -0.944956 -0.891335  -1.090533   \n",
       "2              -0.545373  0.183338  1.346823 -0.098656  -0.497320   \n",
       "3               0.542573 -0.474845 -0.085539  1.137095   0.612717   \n",
       "4              -0.124234 -0.145754  0.200934 -0.025647   0.050359   \n",
       "...                  ...       ...       ...       ...        ...   \n",
       "49765          -0.681232 -0.145754  1.060351 -0.943949  -1.005287   \n",
       "49766          -0.511676 -0.145754  0.200934 -0.360953  -0.661948   \n",
       "49767          -0.430381 -0.145754  0.200934 -1.212189  -1.439753   \n",
       "49768          -1.074435 -0.145754 -2.090846 -0.771936  -0.037616   \n",
       "49769          -0.639959  0.841520  0.200934 -1.161647  -0.928617   \n",
       "\n",
       "       nonlinearity  \n",
       "0         -0.118702  \n",
       "1         -0.116229  \n",
       "2         -0.035155  \n",
       "3         -0.277604  \n",
       "4          0.286317  \n",
       "...             ...  \n",
       "49765      0.312780  \n",
       "49766      0.291436  \n",
       "49767     -1.212767  \n",
       "49768     -0.088647  \n",
       "49769      0.908036  \n",
       "\n",
       "[49770 rows x 22 columns]"
      ]
     },
     "execution_count": 38,
     "metadata": {},
     "output_type": "execute_result"
    }
   ],
   "source": [
    "X_scaled"
   ]
  },
  {
   "cell_type": "markdown",
   "id": "830cb704",
   "metadata": {},
   "source": [
    "***"
   ]
  },
  {
   "cell_type": "markdown",
   "id": "321a0dd1",
   "metadata": {},
   "source": [
    "## Use Relief to choose a subset of most important features"
   ]
  },
  {
   "cell_type": "code",
   "execution_count": 39,
   "id": "938fa780",
   "metadata": {},
   "outputs": [],
   "source": [
    "# import sklearn_relief as relief"
   ]
  },
  {
   "cell_type": "code",
   "execution_count": 40,
   "id": "22bf829b",
   "metadata": {},
   "outputs": [],
   "source": [
    "# # put data into numpy array\n",
    "# np_X_scaled = np.array(X_scaled)"
   ]
  },
  {
   "cell_type": "code",
   "execution_count": 41,
   "id": "160c5ae8",
   "metadata": {},
   "outputs": [],
   "source": [
    "# # label vector\n",
    "# np_y = np.array(y)"
   ]
  },
  {
   "cell_type": "code",
   "execution_count": 42,
   "id": "9d587aa6",
   "metadata": {},
   "outputs": [],
   "source": [
    "# r = relief.Relief(n_features=6)"
   ]
  },
  {
   "cell_type": "code",
   "execution_count": 43,
   "id": "18936ba6",
   "metadata": {},
   "outputs": [],
   "source": [
    "# chosen_features = r.fit_transform(np_X_scaled, np_y)"
   ]
  },
  {
   "cell_type": "code",
   "execution_count": 44,
   "id": "2f1c8a7a",
   "metadata": {},
   "outputs": [],
   "source": [
    "# importance_weights = np.flip(np.argsort(r.w_))"
   ]
  },
  {
   "cell_type": "code",
   "execution_count": 45,
   "id": "6cfd57e3",
   "metadata": {},
   "outputs": [],
   "source": [
    "# cols = X_scaled.columns[importance_weights][:6]"
   ]
  },
  {
   "cell_type": "code",
   "execution_count": 46,
   "id": "3bf65ce3",
   "metadata": {},
   "outputs": [],
   "source": [
    "# X_scaled.loc[:,cols]"
   ]
  },
  {
   "cell_type": "markdown",
   "id": "26d4c0f0",
   "metadata": {},
   "source": [
    "## Using MRMR to Select Features"
   ]
  },
  {
   "cell_type": "code",
   "execution_count": 47,
   "id": "827e6f50",
   "metadata": {},
   "outputs": [],
   "source": [
    "import mrmr"
   ]
  },
  {
   "cell_type": "code",
   "execution_count": 48,
   "id": "6bc70b4c",
   "metadata": {},
   "outputs": [],
   "source": [
    "from mrmr import mrmr_classif"
   ]
  },
  {
   "cell_type": "code",
   "execution_count": 49,
   "id": "edca8996",
   "metadata": {},
   "outputs": [
    {
     "name": "stderr",
     "output_type": "stream",
     "text": [
      "100%|██████████████████████████████████████████████████████████████████████████████████| 10/10 [00:01<00:00,  9.83it/s]\n"
     ]
    }
   ],
   "source": [
    "selected_features = mrmr_classif(X=X_scaled, y=y, K=10)"
   ]
  },
  {
   "cell_type": "code",
   "execution_count": 50,
   "id": "ec97a372",
   "metadata": {},
   "outputs": [
    {
     "data": {
      "text/plain": [
       "['max_var_shift',\n",
       " 'trend',\n",
       " 'series_mean',\n",
       " 'max_level_shift',\n",
       " 'hurst',\n",
       " 'series_variance',\n",
       " 'seas_acf1',\n",
       " 'linearity',\n",
       " 'curvature',\n",
       " 'stability']"
      ]
     },
     "execution_count": 50,
     "metadata": {},
     "output_type": "execute_result"
    }
   ],
   "source": [
    "selected_features"
   ]
  },
  {
   "cell_type": "code",
   "execution_count": 51,
   "id": "bf1eee90",
   "metadata": {},
   "outputs": [
    {
     "data": {
      "image/png": "[encoded data removed]",
      "text/plain": [
       "<Figure size 864x1296 with 2 Axes>"
      ]
     },
     "metadata": {
      "needs_background": "light"
     },
     "output_type": "display_data"
    }
   ],
   "source": [
    "f = plt.figure(figsize=(12, 18))\n",
    "plt.matshow(X_scaled.loc[:,selected_features].corr(), fignum=f.number)\n",
    "plt.xticks(range(X_scaled.loc[:,selected_features].select_dtypes(['number']).shape[1]), X_scaled.loc[:,selected_features].select_dtypes(['number']).columns, fontsize=14, rotation=45)\n",
    "plt.yticks(range(X_scaled.loc[:,selected_features].select_dtypes(['number']).shape[1]), X_scaled.loc[:,selected_features].select_dtypes(['number']).columns, fontsize=14)\n",
    "cb = plt.colorbar()\n",
    "cb.ax.tick_params(labelsize=14)\n",
    "plt.title('Correlation Matrix', fontsize=16);"
   ]
  },
  {
   "cell_type": "markdown",
   "id": "f0a8e46c",
   "metadata": {},
   "source": [
    "***"
   ]
  },
  {
   "cell_type": "markdown",
   "id": "59f22edd",
   "metadata": {},
   "source": [
    "## Predicting Adjustment Value Using Random Forest"
   ]
  },
  {
   "cell_type": "code",
   "execution_count": 52,
   "id": "cf0e5ff6",
   "metadata": {},
   "outputs": [],
   "source": [
    "RF = RandomForestClassifier()"
   ]
  },
  {
   "cell_type": "code",
   "execution_count": 53,
   "id": "fcb4ae17",
   "metadata": {},
   "outputs": [
    {
     "data": {
      "text/html": [
       "<style>#sk-container-id-1 {color: black;background-color: white;}#sk-container-id-1 pre{padding: 0;}#sk-container-id-1 div.sk-toggleable {background-color: white;}#sk-container-id-1 label.sk-toggleable__label {cursor: pointer;display: block;width: 100%;margin-bottom: 0;padding: 0.3em;box-sizing: border-box;text-align: center;}#sk-container-id-1 label.sk-toggleable__label-arrow:before {content: \"▸\";float: left;margin-right: 0.25em;color: #696969;}#sk-container-id-1 label.sk-toggleable__label-arrow:hover:before {color: black;}#sk-container-id-1 div.sk-estimator:hover label.sk-toggleable__label-arrow:before {color: black;}#sk-container-id-1 div.sk-toggleable__content {max-height: 0;max-width: 0;overflow: hidden;text-align: left;background-color: #f0f8ff;}#sk-container-id-1 div.sk-toggleable__content pre {margin: 0.2em;color: black;border-radius: 0.25em;background-color: #f0f8ff;}#sk-container-id-1 input.sk-toggleable__control:checked~div.sk-toggleable__content {max-height: 200px;max-width: 100%;overflow: auto;}#sk-container-id-1 input.sk-toggleable__control:checked~label.sk-toggleable__label-arrow:before {content: \"▾\";}#sk-container-id-1 div.sk-estimator input.sk-toggleable__control:checked~label.sk-toggleable__label {background-color: #d4ebff;}#sk-container-id-1 div.sk-label input.sk-toggleable__control:checked~label.sk-toggleable__label {background-color: #d4ebff;}#sk-container-id-1 input.sk-hidden--visually {border: 0;clip: rect(1px 1px 1px 1px);clip: rect(1px, 1px, 1px, 1px);height: 1px;margin: -1px;overflow: hidden;padding: 0;position: absolute;width: 1px;}#sk-container-id-1 div.sk-estimator {font-family: monospace;background-color: #f0f8ff;border: 1px dotted black;border-radius: 0.25em;box-sizing: border-box;margin-bottom: 0.5em;}#sk-container-id-1 div.sk-estimator:hover {background-color: #d4ebff;}#sk-container-id-1 div.sk-parallel-item::after {content: \"\";width: 100%;border-bottom: 1px solid gray;flex-grow: 1;}#sk-container-id-1 div.sk-label:hover label.sk-toggleable__label {background-color: #d4ebff;}#sk-container-id-1 div.sk-serial::before {content: \"\";position: absolute;border-left: 1px solid gray;box-sizing: border-box;top: 0;bottom: 0;left: 50%;z-index: 0;}#sk-container-id-1 div.sk-serial {display: flex;flex-direction: column;align-items: center;background-color: white;padding-right: 0.2em;padding-left: 0.2em;position: relative;}#sk-container-id-1 div.sk-item {position: relative;z-index: 1;}#sk-container-id-1 div.sk-parallel {display: flex;align-items: stretch;justify-content: center;background-color: white;position: relative;}#sk-container-id-1 div.sk-item::before, #sk-container-id-1 div.sk-parallel-item::before {content: \"\";position: absolute;border-left: 1px solid gray;box-sizing: border-box;top: 0;bottom: 0;left: 50%;z-index: -1;}#sk-container-id-1 div.sk-parallel-item {display: flex;flex-direction: column;z-index: 1;position: relative;background-color: white;}#sk-container-id-1 div.sk-parallel-item:first-child::after {align-self: flex-end;width: 50%;}#sk-container-id-1 div.sk-parallel-item:last-child::after {align-self: flex-start;width: 50%;}#sk-container-id-1 div.sk-parallel-item:only-child::after {width: 0;}#sk-container-id-1 div.sk-dashed-wrapped {border: 1px dashed gray;margin: 0 0.4em 0.5em 0.4em;box-sizing: border-box;padding-bottom: 0.4em;background-color: white;}#sk-container-id-1 div.sk-label label {font-family: monospace;font-weight: bold;display: inline-block;line-height: 1.2em;}#sk-container-id-1 div.sk-label-container {text-align: center;}#sk-container-id-1 div.sk-container {/* jupyter's `normalize.less` sets `[hidden] { display: none; }` but bootstrap.min.css set `[hidden] { display: none !important; }` so we also need the `!important` here to be able to override the default hidden behavior on the sphinx rendered scikit-learn.org. See: https://github.com/scikit-learn/scikit-learn/issues/21755 */display: inline-block !important;position: relative;}#sk-container-id-1 div.sk-text-repr-fallback {display: none;}</style><div id=\"sk-container-id-1\" class=\"sk-top-container\"><div class=\"sk-text-repr-fallback\"><pre>RandomForestClassifier()</pre><b>In a Jupyter environment, please rerun this cell to show the HTML representation or trust the notebook. <br />On GitHub, the HTML representation is unable to render, please try loading this page with nbviewer.org.</b></div><div class=\"sk-container\" hidden><div class=\"sk-item\"><div class=\"sk-estimator sk-toggleable\"><input class=\"sk-toggleable__control sk-hidden--visually\" id=\"sk-estimator-id-1\" type=\"checkbox\" checked><label for=\"sk-estimator-id-1\" class=\"sk-toggleable__label sk-toggleable__label-arrow\">RandomForestClassifier</label><div class=\"sk-toggleable__content\"><pre>RandomForestClassifier()</pre></div></div></div></div></div>"
      ],
      "text/plain": [
       "RandomForestClassifier()"
      ]
     },
     "execution_count": 53,
     "metadata": {},
     "output_type": "execute_result"
    }
   ],
   "source": [
    "RF.fit(X_scaled.loc[:,selected_features], y)"
   ]
  },
  {
   "cell_type": "code",
   "execution_count": 54,
   "id": "f55cfee0",
   "metadata": {},
   "outputs": [
    {
     "data": {
      "text/plain": [
       "0.7951175406871609"
      ]
     },
     "execution_count": 54,
     "metadata": {},
     "output_type": "execute_result"
    }
   ],
   "source": [
    "RF.score(X_scaled.loc[:,selected_features], y)"
   ]
  },
  {
   "cell_type": "code",
   "execution_count": 55,
   "id": "81321e46",
   "metadata": {},
   "outputs": [
    {
     "data": {
      "text/plain": [
       "0.6332730560578661"
      ]
     },
     "execution_count": 55,
     "metadata": {},
     "output_type": "execute_result"
    }
   ],
   "source": [
    "1-np.mean(y)"
   ]
  },
  {
   "cell_type": "code",
   "execution_count": 56,
   "id": "8fb68273",
   "metadata": {},
   "outputs": [],
   "source": [
    "result = permutation_importance(RF, X_scaled.loc[:,selected_features], y, n_repeats=20)"
   ]
  },
  {
   "cell_type": "code",
   "execution_count": 57,
   "id": "738649c8",
   "metadata": {},
   "outputs": [],
   "source": [
    "importance_indices = np.flip(np.argsort(result.importances_mean))"
   ]
  },
  {
   "cell_type": "code",
   "execution_count": 58,
   "id": "811144e5",
   "metadata": {},
   "outputs": [],
   "source": [
    "importances = pd.Series(result.importances_mean[importance_indices], index=X_scaled.loc[:,selected_features].columns[importance_indices])"
   ]
  },
  {
   "cell_type": "code",
   "execution_count": 60,
   "id": "760d4a10",
   "metadata": {},
   "outputs": [
    {
     "data": {
      "image/png": "[encoded data removed]",
      "text/plain": [
       "<Figure size 576x576 with 1 Axes>"
      ]
     },
     "metadata": {
      "needs_background": "light"
     },
     "output_type": "display_data"
    }
   ],
   "source": [
    "fig, ax = plt.subplots(figsize=(8,8))\n",
    "importances.plot.bar(yerr=result.importances_std, ax=ax)\n",
    "ax.set_title(\"Permutation Based Time Series Feature Importances\")\n",
    "ax.set_ylabel(\"Mean Accuracy Decrease\")\n",
    "ax.set_xticklabels(X_scaled.loc[:,selected_features].columns[importance_indices])\n",
    "fig.tight_layout()\n",
    "plt.show()"
   ]
  },
  {
   "cell_type": "code",
   "execution_count": 61,
   "id": "9fc07a89",
   "metadata": {},
   "outputs": [],
   "source": [
    "dt_features = X_scaled.loc[:,selected_features].columns[importance_indices][:6]"
   ]
  },
  {
   "cell_type": "code",
   "execution_count": 62,
   "id": "57dd727b",
   "metadata": {},
   "outputs": [
    {
     "data": {
      "text/plain": [
       "Index(['series_mean', 'trend', 'curvature', 'stability', 'max_var_shift',\n",
       "       'hurst'],\n",
       "      dtype='object')"
      ]
     },
     "execution_count": 62,
     "metadata": {},
     "output_type": "execute_result"
    }
   ],
   "source": [
    "dt_features"
   ]
  },
  {
   "cell_type": "markdown",
   "id": "2bc070c7",
   "metadata": {},
   "source": [
    "# Marginal Distributions of Important Variables"
   ]
  },
  {
   "cell_type": "code",
   "execution_count": 75,
   "id": "953e0c03",
   "metadata": {},
   "outputs": [],
   "source": [
    "def marginal_plot(ax1, feature, x_axis_label, y_axis_label_left, y_axis_label_right):\n",
    "    \n",
    "    h1 = np.histogram(feature, bins=10)\n",
    "    \n",
    "    bin_ids = np.digitize(feature, h1[1])\n",
    "    \n",
    "    y_line = pd.concat([pd.Series(bin_ids), y], axis=1).groupby(0).mean()\n",
    "    \n",
    "    # fig1, ax1 = plt.subplots(1, 1)\n",
    "    ax2 = ax1.twinx()\n",
    "    ax3 = ax2.twiny()\n",
    "\n",
    "    ax1.hist(feature, alpha=0.5, align='mid', weights=np.ones(len(feature)) / len(feature))\n",
    "\n",
    "    # ax.plot(y_line)\n",
    "    ax1.set_xlabel(x_axis_label)\n",
    "    ax1.set_ylabel(y_axis_label_left)\n",
    "    ax1.yaxis.set_major_formatter(PercentFormatter(1))\n",
    "\n",
    "    ax3.plot(y_line)\n",
    "    ax3.set_xlabel('')\n",
    "    # note this needs to be ax2 due to subtle overlay issues....\n",
    "    ax2.set_ylabel(y_axis_label_right)\n",
    "    ax2.yaxis.set_major_formatter(PercentFormatter(1))\n",
    "\n",
    "    ax3.axes.get_xaxis().set_ticks([])\n",
    "\n",
    "    # plt.draw()"
   ]
  },
  {
   "cell_type": "code",
   "execution_count": 86,
   "id": "2763a97a",
   "metadata": {},
   "outputs": [
    {
     "data": {
      "image/png": "[encoded data removed]",
      "text/plain": [
       "<Figure size 720x576 with 18 Axes>"
      ]
     },
     "metadata": {
      "needs_background": "light"
     },
     "output_type": "display_data"
    }
   ],
   "source": [
    "fig, ax = plt.subplots(3, 2, figsize=(10,8))\n",
    "marginal_plot(ax[0,0], X.series_mean, \"Difference in Series Means\", \"Proportion of Series\", \"\")\n",
    "marginal_plot(ax[0,1], X.trend, \"Difference in Strengths of Trend\", \"\", \"Proportion Improved Accuracy\")\n",
    "marginal_plot(ax[1,0], X.curvature, \"Difference in Absolute Value of Curvature Coefficients\", \"Proportion of Series\", \"\")\n",
    "marginal_plot(ax[1,1], X.stability, \"Difference in Stability\", \"\", \"Proportion Improved Accuracy\")\n",
    "marginal_plot(ax[2,0], X.max_var_shift, \"Difference in Maximum Variance Shift\", \"Proportion of Series\", \"\")\n",
    "marginal_plot(ax[2,1], X.hurst, \"Difference in Hurst Coefficient\", \"\", \"Proportion Improved Accuracy\")\n",
    "plt.tight_layout()"
   ]
  },
  {
   "cell_type": "markdown",
   "id": "c76c5cce",
   "metadata": {},
   "source": [
    "## Explaining Adjustment Value Using Decision Tree"
   ]
  },
  {
   "cell_type": "markdown",
   "id": "354ab429",
   "metadata": {},
   "source": [
    "Need to figure out how to generalize decision tree classifications, accounting for series with different lengths."
   ]
  },
  {
   "cell_type": "markdown",
   "id": "6d0b3756",
   "metadata": {},
   "source": [
    "We extract the most important predictors of whether a privacy adjusted forecast had better accuracy."
   ]
  },
  {
   "cell_type": "code",
   "execution_count": null,
   "id": "9a96d645",
   "metadata": {},
   "outputs": [],
   "source": [
    "DT = DecisionTreeClassifier(max_depth=3)"
   ]
  },
  {
   "cell_type": "code",
   "execution_count": null,
   "id": "3d2e70bb",
   "metadata": {},
   "outputs": [],
   "source": [
    "dt_results = DT.fit(X_scaled.loc[:,dt_features], y)"
   ]
  },
  {
   "cell_type": "code",
   "execution_count": null,
   "id": "4288090f",
   "metadata": {},
   "outputs": [],
   "source": [
    "plt.figure(figsize=(15,10))\n",
    "plot_tree(DT, filled=True)\n",
    "plt.title(\"Decision tree trained on Adjustment Features\")\n",
    "plt.show()"
   ]
  },
  {
   "cell_type": "markdown",
   "id": "663d173c",
   "metadata": {},
   "source": [
    "***"
   ]
  },
  {
   "cell_type": "markdown",
   "id": "86f63329",
   "metadata": {},
   "source": [
    "Get the leaf indices of each sample."
   ]
  },
  {
   "cell_type": "code",
   "execution_count": null,
   "id": "705c80c4",
   "metadata": {},
   "outputs": [],
   "source": [
    "leaf_indices = DT.apply(X_scaled.loc[:,dt_features])"
   ]
  },
  {
   "cell_type": "markdown",
   "id": "2e8c250c",
   "metadata": {},
   "source": [
    "Get the leaf indices."
   ]
  },
  {
   "cell_type": "code",
   "execution_count": null,
   "id": "ce2a1f36",
   "metadata": {},
   "outputs": [],
   "source": [
    "unique_leaf_indices = np.unique(leaf_indices)"
   ]
  },
  {
   "cell_type": "markdown",
   "id": "c4826e41",
   "metadata": {},
   "source": [
    "Get the gini impurity of each leaf node."
   ]
  },
  {
   "cell_type": "code",
   "execution_count": null,
   "id": "0fc9ded6",
   "metadata": {},
   "outputs": [],
   "source": [
    "gini_leaves = DT.tree_.impurity[unique_leaf_indices]"
   ]
  },
  {
   "cell_type": "markdown",
   "id": "9dae49e4",
   "metadata": {},
   "source": [
    "Get sorted indices of leaf nodes sorted based on gini impurity."
   ]
  },
  {
   "cell_type": "code",
   "execution_count": null,
   "id": "144cf1d5",
   "metadata": {},
   "outputs": [],
   "source": [
    "sorted_leaves = unique_leaf_indices[np.argsort(gini_leaves)]"
   ]
  },
  {
   "cell_type": "markdown",
   "id": "67e1e9af",
   "metadata": {},
   "source": [
    "For each leaf, get the modal outcome."
   ]
  },
  {
   "cell_type": "code",
   "execution_count": null,
   "id": "4ea3f1f7",
   "metadata": {},
   "outputs": [],
   "source": [
    "[np.mean(y[leaf_indices==x]) for x in sorted_leaves]"
   ]
  },
  {
   "cell_type": "code",
   "execution_count": null,
   "id": "c8e62114",
   "metadata": {},
   "outputs": [],
   "source": [
    "leaves = []\n",
    "for i in sorted_leaves[:2]:\n",
    "    leaves.append(X.loc[leaf_indices==i,dt_features]) "
   ]
  },
  {
   "cell_type": "code",
   "execution_count": null,
   "id": "c8e08219",
   "metadata": {},
   "outputs": [],
   "source": [
    "leaf_means = [x.mean(axis=0) for x in leaves]"
   ]
  },
  {
   "cell_type": "markdown",
   "id": "0fe6ea19",
   "metadata": {},
   "source": [
    "Display the mean feature values for the series in each of the leaves with lowest gini."
   ]
  },
  {
   "cell_type": "code",
   "execution_count": null,
   "id": "971755d5",
   "metadata": {},
   "outputs": [],
   "source": [
    "leaf_means"
   ]
  },
  {
   "cell_type": "markdown",
   "id": "4e2b1bfd",
   "metadata": {},
   "source": [
    "Now, plot the average mean-normalized original and protected series in each leaf."
   ]
  },
  {
   "cell_type": "code",
   "execution_count": null,
   "id": "dec50e53",
   "metadata": {},
   "outputs": [],
   "source": [
    "leaf_orig_series = []\n",
    "for i in sorted_leaves[:2]:\n",
    "    leaf_orig_series.append([full_data.loc[k,'original_series'] for k, l in enumerate(leaf_indices) if l==i])\n",
    "    #leaf_orig_series.append(X.loc[leaf_indices==i,dt_features]) "
   ]
  },
  {
   "cell_type": "code",
   "execution_count": null,
   "id": "2e8b727c",
   "metadata": {},
   "outputs": [],
   "source": [
    "originals = [np.unique(x) for x in leaf_orig_series]"
   ]
  },
  {
   "cell_type": "code",
   "execution_count": null,
   "id": "52abce8b",
   "metadata": {},
   "outputs": [],
   "source": [
    "originals"
   ]
  },
  {
   "cell_type": "code",
   "execution_count": null,
   "id": "f71301a0",
   "metadata": {},
   "outputs": [],
   "source": [
    "originals = [[train_data[x] for x in y] for y in originals]"
   ]
  },
  {
   "cell_type": "code",
   "execution_count": null,
   "id": "ce501406",
   "metadata": {},
   "outputs": [],
   "source": [
    "lens = np.unique([len(x) for x in originals[0]])"
   ]
  },
  {
   "cell_type": "code",
   "execution_count": null,
   "id": "ab1d4abf",
   "metadata": {},
   "outputs": [],
   "source": [
    "mean_series = []\n",
    "for l in lens:\n",
    "    current_series = [x for x in originals[0] if len(x) == l]\n",
    "    current_series = pd.concat(current_series, axis=1)\n",
    "    mean_series.append(current_series.mean(axis=1))"
   ]
  },
  {
   "cell_type": "code",
   "execution_count": null,
   "id": "0b619e04",
   "metadata": {},
   "outputs": [],
   "source": [
    "plot_series(mean_series[0])"
   ]
  },
  {
   "cell_type": "code",
   "execution_count": null,
   "id": "e9adfe7a",
   "metadata": {},
   "outputs": [],
   "source": [
    "plot_series(mean_series[1])"
   ]
  },
  {
   "cell_type": "code",
   "execution_count": null,
   "id": "fbad74df",
   "metadata": {},
   "outputs": [],
   "source": [
    "lens = np.unique([len(x) for x in originals[1]])"
   ]
  },
  {
   "cell_type": "code",
   "execution_count": null,
   "id": "9a495074",
   "metadata": {},
   "outputs": [],
   "source": [
    "mean_series = []\n",
    "for l in lens:\n",
    "    current_series = [x for x in originals[1] if len(x) == l]\n",
    "    current_series = pd.concat(current_series, axis=1)\n",
    "    mean_series.append(current_series.mean(axis=1))"
   ]
  },
  {
   "cell_type": "code",
   "execution_count": null,
   "id": "9473f973",
   "metadata": {},
   "outputs": [],
   "source": [
    "plot_series(mean_series[0])"
   ]
  },
  {
   "cell_type": "code",
   "execution_count": null,
   "id": "30a56bf1",
   "metadata": {},
   "outputs": [],
   "source": [
    "plot_series(mean_series[1])"
   ]
  },
  {
   "cell_type": "code",
   "execution_count": null,
   "id": "73c5ef71",
   "metadata": {},
   "outputs": [],
   "source": [
    "plot_series(mean_series[2])"
   ]
  },
  {
   "cell_type": "code",
   "execution_count": null,
   "id": "e53cc806",
   "metadata": {},
   "outputs": [],
   "source": [
    "lens = np.unique([len(x) for x in originals[2]])"
   ]
  },
  {
   "cell_type": "code",
   "execution_count": null,
   "id": "2baac316",
   "metadata": {},
   "outputs": [],
   "source": [
    "mean_series = []\n",
    "for l in lens:\n",
    "    current_series = [x for x in originals[2] if len(x) == l]\n",
    "    current_series = pd.concat(current_series, axis=1)\n",
    "    mean_series.append(current_series.mean(axis=1))"
   ]
  },
  {
   "cell_type": "code",
   "execution_count": null,
   "id": "3b5df484",
   "metadata": {},
   "outputs": [],
   "source": [
    "plot_series(mean_series[0])"
   ]
  },
  {
   "cell_type": "code",
   "execution_count": null,
   "id": "007b18a7",
   "metadata": {},
   "outputs": [],
   "source": [
    "plot_series(mean_series[1])"
   ]
  },
  {
   "cell_type": "code",
   "execution_count": null,
   "id": "8148dccc",
   "metadata": {},
   "outputs": [],
   "source": []
  },
  {
   "cell_type": "code",
   "execution_count": null,
   "id": "259511f1",
   "metadata": {},
   "outputs": [],
   "source": []
  },
  {
   "cell_type": "code",
   "execution_count": null,
   "id": "104cefff",
   "metadata": {},
   "outputs": [],
   "source": []
  },
  {
   "cell_type": "code",
   "execution_count": null,
   "id": "f081d4d9",
   "metadata": {},
   "outputs": [],
   "source": []
  },
  {
   "cell_type": "code",
   "execution_count": null,
   "id": "a4327365",
   "metadata": {},
   "outputs": [],
   "source": []
  },
  {
   "cell_type": "code",
   "execution_count": null,
   "id": "778be33d",
   "metadata": {},
   "outputs": [],
   "source": []
  },
  {
   "cell_type": "code",
   "execution_count": null,
   "id": "67dd1573",
   "metadata": {},
   "outputs": [],
   "source": []
  },
  {
   "cell_type": "code",
   "execution_count": null,
   "id": "53bd8446",
   "metadata": {},
   "outputs": [],
   "source": []
  },
  {
   "cell_type": "code",
   "execution_count": null,
   "id": "1d89bf53",
   "metadata": {},
   "outputs": [],
   "source": []
  },
  {
   "cell_type": "code",
   "execution_count": null,
   "id": "458cdf83",
   "metadata": {},
   "outputs": [],
   "source": []
  }
 ],
 "metadata": {
  "kernelspec": {
   "display_name": "Python 3 (ipykernel)",
   "language": "python",
   "name": "python3"
  },
  "language_info": {
   "codemirror_mode": {
    "name": "ipython",
    "version": 3
   },
   "file_extension": ".py",
   "mimetype": "text/x-python",
   "name": "python",
   "nbconvert_exporter": "python",
   "pygments_lexer": "ipython3",
   "version": "3.9.7"
  }
 },
 "nbformat": 4,
 "nbformat_minor": 5
}
