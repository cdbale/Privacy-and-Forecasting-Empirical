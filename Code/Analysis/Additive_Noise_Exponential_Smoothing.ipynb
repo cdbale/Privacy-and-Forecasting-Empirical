{
 "cells": [
  {
   "cell_type": "markdown",
   "id": "0e4052c3",
   "metadata": {},
   "source": [
    "## Examining the Effects of Additive Noise on Exponential Smoothing Forecast Accuracy"
   ]
  },
  {
   "cell_type": "markdown",
   "id": "7a4bd4c9",
   "metadata": {},
   "source": [
    "***"
   ]
  },
  {
   "cell_type": "code",
   "execution_count": 1,
   "id": "dd558349",
   "metadata": {},
   "outputs": [],
   "source": [
    "# general modules\n",
    "import pandas as pd\n",
    "import numpy as np\n",
    "import sktime\n",
    "\n",
    "# import exponential smoothing forecasting model\n",
    "from sktime.forecasting.exp_smoothing import ExponentialSmoothing\n",
    "\n",
    "# functions for transformation+forecasting pipeline\n",
    "from sktime.forecasting.compose import TransformedTargetForecaster\n",
    "\n",
    "# time series transformations\n",
    "from sktime.transformations.series.detrend import ConditionalDeseasonalizer\n",
    "\n",
    "##### the `helper_functions.py` file contains many custom functions we wrote to aid in our analysis\n",
    "##### `full_coding_analysis` combines all of the following - train-test split data,\n",
    "##### data protection, train models, compare accuracies, return accuracy results\n",
    "from helper_functions import *\n",
    "\n",
    "# suppress warnings from exponential smoothing model not converging\n",
    "import warnings\n",
    "warnings.filterwarnings('ignore')"
   ]
  },
  {
   "cell_type": "code",
   "execution_count": 2,
   "id": "053d11e1",
   "metadata": {},
   "outputs": [],
   "source": [
    "# import weekly finance time series\n",
    "Y = np.genfromtxt(\"../../Data/Train/Clean/weekly_finance_clean.csv\", delimiter = ',', skip_header = 1)\n",
    "Y = pd.DataFrame(Y)"
   ]
  },
  {
   "cell_type": "code",
   "execution_count": 3,
   "id": "de7346af",
   "metadata": {},
   "outputs": [],
   "source": [
    "# detrender = Detrender()\n",
    "# detrended_series = [detrender.fit_transform(series) for _ , series in Y.iterrows()]\n",
    "# detrended_series = [i+np.abs(np.min(i))+1.0 for i in detrended_series]\n",
    "# Y = pd.concat(detrended_series, axis=1).T"
   ]
  },
  {
   "cell_type": "markdown",
   "id": "a2cdca93",
   "metadata": {},
   "source": [
    "***"
   ]
  },
  {
   "cell_type": "markdown",
   "id": "693a5968",
   "metadata": {},
   "source": [
    "## SES"
   ]
  },
  {
   "cell_type": "code",
   "execution_count": 4,
   "id": "c6ca18f3",
   "metadata": {},
   "outputs": [],
   "source": [
    "# define forecasting model\n",
    "# perform additive deseasonalization conditional on autocorrelation test for seasonality\n",
    "\n",
    "forecaster = TransformedTargetForecaster(\n",
    "    [\n",
    "        (\"forecast\", ExponentialSmoothing(use_boxcox=False)),\n",
    "    ]\n",
    ")"
   ]
  },
  {
   "cell_type": "code",
   "execution_count": 5,
   "id": "96460ce3",
   "metadata": {},
   "outputs": [],
   "source": [
    "results_dict_ses = {}\n",
    "fcasts_ses = {}\n",
    "fcasts_protected_ses = {}\n",
    "tests = {}\n",
    "num_stdevs = [1, 2]\n",
    "horizons = [1, 20]"
   ]
  },
  {
   "cell_type": "code",
   "execution_count": 6,
   "id": "33b06dee",
   "metadata": {},
   "outputs": [],
   "source": [
    "for n in num_stdevs:\n",
    "    for h in horizons:\n",
    "        idx = \"h=\"+str(h)+\", \"+str(n)+\" stan. devs\"\n",
    "        results_dict_ses[idx], tests[idx], fcasts_ses[idx], fcasts_protected_ses[idx] = full_coding_analysis(time_series_data=Y, \n",
    "                                                                                                             forecasting_model=forecaster, \n",
    "                                                                                                             forecast_horizon=h,\n",
    "                                                                                                             num_stdev=n)"
   ]
  },
  {
   "cell_type": "markdown",
   "id": "58ca2364",
   "metadata": {},
   "source": [
    "***\n",
    "***"
   ]
  },
  {
   "cell_type": "code",
   "execution_count": 7,
   "id": "a5ca6036",
   "metadata": {},
   "outputs": [],
   "source": [
    "adjusted_up = fcasts_ses['h=20, 1 stan. devs'] < fcasts_protected_ses['h=20, 1 stan. devs']\n",
    "adjusted_up = pd.concat([row for i, row in adjusted_up.iterrows()])\n",
    "\n",
    "adjusted_down = fcasts_ses['h=20, 1 stan. devs'] > fcasts_protected_ses['h=20, 1 stan. devs']\n",
    "adjusted_down = pd.concat([row for i, row in adjusted_down.iterrows()])"
   ]
  },
  {
   "cell_type": "code",
   "execution_count": 8,
   "id": "8f1fc618",
   "metadata": {},
   "outputs": [],
   "source": [
    "absolute_error = np.absolute(tests['h=20, 1 stan. devs'] - fcasts_ses['h=20, 1 stan. devs'])\n",
    "absolute_error = pd.concat([row for i, row in absolute_error.iterrows()])"
   ]
  },
  {
   "cell_type": "code",
   "execution_count": 9,
   "id": "30185949",
   "metadata": {},
   "outputs": [],
   "source": [
    "protected_absolute_error = np.absolute(tests['h=20, 1 stan. devs'] - fcasts_protected_ses['h=20, 1 stan. devs'])\n",
    "protected_absolute_error = pd.concat([row for i, row in protected_absolute_error.iterrows()])"
   ]
  },
  {
   "cell_type": "code",
   "execution_count": 10,
   "id": "99910f5c",
   "metadata": {},
   "outputs": [
    {
     "data": {
      "text/plain": [
       "0.056041622409181965"
      ]
     },
     "execution_count": 10,
     "metadata": {},
     "output_type": "execute_result"
    }
   ],
   "source": [
    "np.mean(absolute_error[adjusted_up])"
   ]
  },
  {
   "cell_type": "code",
   "execution_count": 11,
   "id": "ce6b17b6",
   "metadata": {},
   "outputs": [
    {
     "data": {
      "text/plain": [
       "0.03587464750502811"
      ]
     },
     "execution_count": 11,
     "metadata": {},
     "output_type": "execute_result"
    }
   ],
   "source": [
    "np.mean(absolute_error[adjusted_down])"
   ]
  },
  {
   "cell_type": "code",
   "execution_count": 12,
   "id": "fe5422f8",
   "metadata": {},
   "outputs": [
    {
     "data": {
      "text/plain": [
       "0.24837399193509896"
      ]
     },
     "execution_count": 12,
     "metadata": {},
     "output_type": "execute_result"
    }
   ],
   "source": [
    "np.mean(protected_absolute_error[adjusted_up])"
   ]
  },
  {
   "cell_type": "code",
   "execution_count": 13,
   "id": "25222ef4",
   "metadata": {},
   "outputs": [
    {
     "data": {
      "text/plain": [
       "0.06163279913763265"
      ]
     },
     "execution_count": 13,
     "metadata": {},
     "output_type": "execute_result"
    }
   ],
   "source": [
    "np.mean(protected_absolute_error[adjusted_down])"
   ]
  },
  {
   "cell_type": "markdown",
   "id": "4a1834f5",
   "metadata": {},
   "source": [
    "***\n",
    "***"
   ]
  },
  {
   "cell_type": "code",
   "execution_count": 14,
   "id": "93202597",
   "metadata": {},
   "outputs": [
    {
     "data": {
      "text/plain": [
       "{'h=1, 1 stan. devs': {'Mean Accuracies': array([0.0218, 0.0218]),\n",
       "  'Protected Mean Accuracies:': array([0.1096, 0.1096]),\n",
       "  '% Change Mean accuracy:': array([-4.0354, -4.0354]),\n",
       "  '% Change Median accuracy:': array([-1.7981, -1.7981]),\n",
       "  '% Forecasted Points adjusted downward:': 0.628,\n",
       "  '% Forecasted Points adjusted upward:': 0.372,\n",
       "  '% Series with improved accuracy:': array([0.2561, 0.2561]),\n",
       "  '% Series with reduced accuracy:': array([0.7439, 0.7439]),\n",
       "  'Original Mean Absolute Error Upward Adjusted:': 0.0271,\n",
       "  'Original Mean Absolute Error Downward Adjusted:': 0.0186,\n",
       "  'Protected Mean Absolute Error Upward Adjusted:': 0.2215,\n",
       "  'Protected Mean Absolute Error Downward Adjusted:': 0.0433},\n",
       " 'h=20, 1 stan. devs': {'Mean Accuracies': array([0.0445, 0.0543]),\n",
       "  'Protected Mean Accuracies:': array([0.1413, 0.1484]),\n",
       "  '% Change Mean accuracy:': array([-2.1774, -1.7335]),\n",
       "  '% Change Median accuracy:': array([-0.7161, -0.6214]),\n",
       "  '% Forecasted Points adjusted downward:': 0.5732,\n",
       "  '% Forecasted Points adjusted upward:': 0.4268,\n",
       "  '% Series with improved accuracy:': array([0.25  , 0.2317]),\n",
       "  '% Series with reduced accuracy:': array([0.7439, 0.7683]),\n",
       "  'Original Mean Absolute Error Upward Adjusted:': 0.056,\n",
       "  'Original Mean Absolute Error Downward Adjusted:': 0.0359,\n",
       "  'Protected Mean Absolute Error Upward Adjusted:': 0.2484,\n",
       "  'Protected Mean Absolute Error Downward Adjusted:': 0.0616},\n",
       " 'h=1, 2 stan. devs': {'Mean Accuracies': array([0.0218, 0.0218]),\n",
       "  'Protected Mean Accuracies:': array([0.3575, 0.3575]),\n",
       "  '% Change Mean accuracy:': array([-15.4227, -15.4227]),\n",
       "  '% Change Median accuracy:': array([-6.6041, -6.6041]),\n",
       "  '% Forecasted Points adjusted downward:': 0.4695,\n",
       "  '% Forecasted Points adjusted upward:': 0.5305,\n",
       "  '% Series with improved accuracy:': array([0.1098, 0.1098]),\n",
       "  '% Series with reduced accuracy:': array([0.8902, 0.8902]),\n",
       "  'Original Mean Absolute Error Upward Adjusted:': 0.0282,\n",
       "  'Original Mean Absolute Error Downward Adjusted:': 0.0145,\n",
       "  'Protected Mean Absolute Error Upward Adjusted:': 0.6266,\n",
       "  'Protected Mean Absolute Error Downward Adjusted:': 0.0535},\n",
       " 'h=20, 2 stan. devs': {'Mean Accuracies': array([0.0445, 0.0543]),\n",
       "  'Protected Mean Accuracies:': array([0.3536, 0.3586]),\n",
       "  '% Change Mean accuracy:': array([-6.9496, -5.6029]),\n",
       "  '% Change Median accuracy:': array([-2.0232, -1.6754]),\n",
       "  '% Forecasted Points adjusted downward:': 0.5183,\n",
       "  '% Forecasted Points adjusted upward:': 0.4817,\n",
       "  '% Series with improved accuracy:': array([0.1037, 0.0915]),\n",
       "  '% Series with reduced accuracy:': array([0.8963, 0.9085]),\n",
       "  'Original Mean Absolute Error Upward Adjusted:': 0.0553,\n",
       "  'Original Mean Absolute Error Downward Adjusted:': 0.0344,\n",
       "  'Protected Mean Absolute Error Upward Adjusted:': 0.6448,\n",
       "  'Protected Mean Absolute Error Downward Adjusted:': 0.083}}"
      ]
     },
     "execution_count": 14,
     "metadata": {},
     "output_type": "execute_result"
    }
   ],
   "source": [
    "results_dict_ses"
   ]
  },
  {
   "cell_type": "markdown",
   "id": "92ee4971",
   "metadata": {},
   "source": [
    "***\n",
    "***"
   ]
  },
  {
   "cell_type": "markdown",
   "id": "fd8a115f",
   "metadata": {},
   "source": [
    "## DES"
   ]
  },
  {
   "cell_type": "code",
   "execution_count": 15,
   "id": "56fd1478",
   "metadata": {},
   "outputs": [],
   "source": [
    "# define forecasting model\n",
    "# perform additive deseasonalization conditional on autocorrelation test for seasonality\n",
    "\n",
    "forecaster = TransformedTargetForecaster(\n",
    "    [\n",
    "        (\"forecast\", ExponentialSmoothing(trend=\"additive\", use_boxcox=False)),\n",
    "    ]\n",
    ")"
   ]
  },
  {
   "cell_type": "code",
   "execution_count": 16,
   "id": "d53855fb",
   "metadata": {},
   "outputs": [],
   "source": [
    "results_dict_des = {}\n",
    "fcasts_des = {}\n",
    "fcasts_protected_des = {}\n",
    "tests = {}\n",
    "num_stdevs = [1, 2]\n",
    "horizons = [1, 20]"
   ]
  },
  {
   "cell_type": "code",
   "execution_count": 17,
   "id": "679e3752",
   "metadata": {},
   "outputs": [],
   "source": [
    "for n in num_stdevs:\n",
    "    for h in horizons:\n",
    "        idx = \"h=\"+str(h)+\", \"+str(n)+\" stan. devs\"\n",
    "        results_dict_des[idx], tests[idx], fcasts_des[idx], fcasts_protected_des[idx] = full_coding_analysis(time_series_data=Y, \n",
    "                                                                                                             forecasting_model=forecaster, \n",
    "                                                                                                             forecast_horizon=h,\n",
    "                                                                                                             num_stdev=n)"
   ]
  },
  {
   "cell_type": "code",
   "execution_count": 18,
   "id": "3dfc1a39",
   "metadata": {},
   "outputs": [
    {
     "data": {
      "text/plain": [
       "{'h=1, 1 stan. devs': {'Mean Accuracies': array([0.021, 0.021]),\n",
       "  'Protected Mean Accuracies:': array([0.1181, 0.1181]),\n",
       "  '% Change Mean accuracy:': array([-4.634, -4.634]),\n",
       "  '% Change Median accuracy:': array([-1.5348, -1.5348]),\n",
       "  '% Forecasted Points adjusted downward:': 0.5,\n",
       "  '% Forecasted Points adjusted upward:': 0.5,\n",
       "  '% Series with improved accuracy:': array([0.3049, 0.3049]),\n",
       "  '% Series with reduced accuracy:': array([0.6951, 0.6951]),\n",
       "  'Original Mean Absolute Error Upward Adjusted:': 0.0234,\n",
       "  'Original Mean Absolute Error Downward Adjusted:': 0.0185,\n",
       "  'Protected Mean Absolute Error Upward Adjusted:': 0.1882,\n",
       "  'Protected Mean Absolute Error Downward Adjusted:': 0.048},\n",
       " 'h=20, 1 stan. devs': {'Mean Accuracies': array([0.0428, 0.0524]),\n",
       "  'Protected Mean Accuracies:': array([0.1408, 0.1479]),\n",
       "  '% Change Mean accuracy:': array([-2.2858, -1.8241]),\n",
       "  '% Change Median accuracy:': array([-0.4037, -0.338 ]),\n",
       "  '% Forecasted Points adjusted downward:': 0.4595,\n",
       "  '% Forecasted Points adjusted upward:': 0.5405,\n",
       "  '% Series with improved accuracy:': array([0.2378, 0.2805]),\n",
       "  '% Series with reduced accuracy:': array([0.7622, 0.7195]),\n",
       "  'Original Mean Absolute Error Upward Adjusted:': 0.046,\n",
       "  'Original Mean Absolute Error Downward Adjusted:': 0.0391,\n",
       "  'Protected Mean Absolute Error Upward Adjusted:': 0.201,\n",
       "  'Protected Mean Absolute Error Downward Adjusted:': 0.0698},\n",
       " 'h=1, 2 stan. devs': {'Mean Accuracies': array([0.021, 0.021]),\n",
       "  'Protected Mean Accuracies:': array([0.3587, 0.3587]),\n",
       "  '% Change Mean accuracy:': array([-16.1095, -16.1095]),\n",
       "  '% Change Median accuracy:': array([-5.951, -5.951]),\n",
       "  '% Forecasted Points adjusted downward:': 0.4024,\n",
       "  '% Forecasted Points adjusted upward:': 0.5976,\n",
       "  '% Series with improved accuracy:': array([0.1768, 0.1768]),\n",
       "  '% Series with reduced accuracy:': array([0.8232, 0.8232]),\n",
       "  'Original Mean Absolute Error Upward Adjusted:': 0.0242,\n",
       "  'Original Mean Absolute Error Downward Adjusted:': 0.0162,\n",
       "  'Protected Mean Absolute Error Upward Adjusted:': 0.562,\n",
       "  'Protected Mean Absolute Error Downward Adjusted:': 0.0569},\n",
       " 'h=20, 2 stan. devs': {'Mean Accuracies': array([0.0428, 0.0524]),\n",
       "  'Protected Mean Accuracies:': array([0.3268, 0.3327]),\n",
       "  '% Change Mean accuracy:': array([-6.63  , -5.3517]),\n",
       "  '% Change Median accuracy:': array([-1.5409, -1.124 ]),\n",
       "  '% Forecasted Points adjusted downward:': 0.4189,\n",
       "  '% Forecasted Points adjusted upward:': 0.5811,\n",
       "  '% Series with improved accuracy:': array([0.1707, 0.1585]),\n",
       "  '% Series with reduced accuracy:': array([0.8293, 0.8415]),\n",
       "  'Original Mean Absolute Error Upward Adjusted:': 0.0505,\n",
       "  'Original Mean Absolute Error Downward Adjusted:': 0.0323,\n",
       "  'Protected Mean Absolute Error Upward Adjusted:': 0.5059,\n",
       "  'Protected Mean Absolute Error Downward Adjusted:': 0.0784}}"
      ]
     },
     "execution_count": 18,
     "metadata": {},
     "output_type": "execute_result"
    }
   ],
   "source": [
    "results_dict_des"
   ]
  },
  {
   "cell_type": "markdown",
   "id": "16949b2b",
   "metadata": {},
   "source": [
    "***\n",
    "***"
   ]
  },
  {
   "cell_type": "markdown",
   "id": "a96331bb",
   "metadata": {},
   "source": [
    "## TES"
   ]
  },
  {
   "cell_type": "code",
   "execution_count": 19,
   "id": "d2c4a618",
   "metadata": {},
   "outputs": [],
   "source": [
    "# define forecasting model\n",
    "# perform additive deseasonalization conditional on autocorrelation test for seasonality\n",
    "\n",
    "forecaster = TransformedTargetForecaster(\n",
    "    [\n",
    "        (\"forecast\", ExponentialSmoothing(trend=\"additive\",\n",
    "                                          seasonal=\"additive\",\n",
    "                                          sp=52,\n",
    "                                          damped_trend=False, \n",
    "                                          use_boxcox=False)),\n",
    "    ]\n",
    ")"
   ]
  },
  {
   "cell_type": "code",
   "execution_count": 20,
   "id": "9e0b4da5",
   "metadata": {},
   "outputs": [],
   "source": [
    "results_dict_tes = {}\n",
    "fcasts_tes = {}\n",
    "fcasts_protected_tes = {}\n",
    "tests = {}\n",
    "num_stdevs = [1, 2]\n",
    "horizons = [1, 20]"
   ]
  },
  {
   "cell_type": "code",
   "execution_count": 21,
   "id": "a64ae5c2",
   "metadata": {},
   "outputs": [],
   "source": [
    "for n in num_stdevs:\n",
    "    for h in horizons:\n",
    "        idx = \"h=\"+str(h)+\", \"+str(n)+\" stan. devs\"\n",
    "        results_dict_tes[idx], tests[idx], fcasts_tes[idx], fcasts_protected_tes[idx] = full_coding_analysis(time_series_data=Y, \n",
    "                                                                                                             forecasting_model=forecaster, \n",
    "                                                                                                             forecast_horizon=h,\n",
    "                                                                                                             num_stdev=n)"
   ]
  },
  {
   "cell_type": "code",
   "execution_count": 22,
   "id": "c9210f04",
   "metadata": {},
   "outputs": [
    {
     "data": {
      "text/plain": [
       "{'h=1, 1 stan. devs': {'Mean Accuracies': array([0.0244, 0.0244]),\n",
       "  'Protected Mean Accuracies:': array([0.1622, 0.1622]),\n",
       "  '% Change Mean accuracy:': array([-5.6439, -5.6439]),\n",
       "  '% Change Median accuracy:': array([-4.6937, -4.6937]),\n",
       "  '% Forecasted Points adjusted downward:': 0.5,\n",
       "  '% Forecasted Points adjusted upward:': 0.5,\n",
       "  '% Series with improved accuracy:': array([0.128, 0.128]),\n",
       "  '% Series with reduced accuracy:': array([0.872, 0.872]),\n",
       "  'Original Mean Absolute Error Upward Adjusted:': 0.0282,\n",
       "  'Original Mean Absolute Error Downward Adjusted:': 0.0207,\n",
       "  'Protected Mean Absolute Error Upward Adjusted:': 0.2329,\n",
       "  'Protected Mean Absolute Error Downward Adjusted:': 0.0916},\n",
       " 'h=20, 1 stan. devs': {'Mean Accuracies': array([0.0475, 0.0574]),\n",
       "  'Protected Mean Accuracies:': array([0.1471, 0.1646]),\n",
       "  '% Change Mean accuracy:': array([-2.0986, -1.8661]),\n",
       "  '% Change Median accuracy:': array([-1.202 , -1.1612]),\n",
       "  '% Forecasted Points adjusted downward:': 0.4945,\n",
       "  '% Forecasted Points adjusted upward:': 0.5055,\n",
       "  '% Series with improved accuracy:': array([0.0732, 0.0671]),\n",
       "  '% Series with reduced accuracy:': array([0.9268, 0.9329]),\n",
       "  'Original Mean Absolute Error Upward Adjusted:': 0.0528,\n",
       "  'Original Mean Absolute Error Downward Adjusted:': 0.042,\n",
       "  'Protected Mean Absolute Error Upward Adjusted:': 0.2054,\n",
       "  'Protected Mean Absolute Error Downward Adjusted:': 0.0875},\n",
       " 'h=1, 2 stan. devs': {'Mean Accuracies': array([0.0244, 0.0244]),\n",
       "  'Protected Mean Accuracies:': array([0.403, 0.403]),\n",
       "  '% Change Mean accuracy:': array([-15.5036, -15.5036]),\n",
       "  '% Change Median accuracy:': array([-13.3045, -13.3045]),\n",
       "  '% Forecasted Points adjusted downward:': 0.3415,\n",
       "  '% Forecasted Points adjusted upward:': 0.6585,\n",
       "  '% Series with improved accuracy:': array([0.0549, 0.0549]),\n",
       "  '% Series with reduced accuracy:': array([0.9451, 0.9451]),\n",
       "  'Original Mean Absolute Error Upward Adjusted:': 0.0286,\n",
       "  'Original Mean Absolute Error Downward Adjusted:': 0.0164,\n",
       "  'Protected Mean Absolute Error Upward Adjusted:': 0.5477,\n",
       "  'Protected Mean Absolute Error Downward Adjusted:': 0.124},\n",
       " 'h=20, 2 stan. devs': {'Mean Accuracies': array([0.0475, 0.0574]),\n",
       "  'Protected Mean Accuracies:': array([0.3514, 0.3715]),\n",
       "  '% Change Mean accuracy:': array([-6.4025, -5.4685]),\n",
       "  '% Change Median accuracy:': array([-2.9435, -2.9565]),\n",
       "  '% Forecasted Points adjusted downward:': 0.3875,\n",
       "  '% Forecasted Points adjusted upward:': 0.6125,\n",
       "  '% Series with improved accuracy:': array([0., 0.]),\n",
       "  '% Series with reduced accuracy:': array([1., 1.]),\n",
       "  'Original Mean Absolute Error Upward Adjusted:': 0.0557,\n",
       "  'Original Mean Absolute Error Downward Adjusted:': 0.0345,\n",
       "  'Protected Mean Absolute Error Upward Adjusted:': 0.4941,\n",
       "  'Protected Mean Absolute Error Downward Adjusted:': 0.1258}}"
      ]
     },
     "execution_count": 22,
     "metadata": {},
     "output_type": "execute_result"
    }
   ],
   "source": [
    "results_dict_tes"
   ]
  }
 ],
 "metadata": {
  "kernelspec": {
   "display_name": "Python 3 (ipykernel)",
   "language": "python",
   "name": "python3"
  },
  "language_info": {
   "codemirror_mode": {
    "name": "ipython",
    "version": 3
   },
   "file_extension": ".py",
   "mimetype": "text/x-python",
   "name": "python",
   "nbconvert_exporter": "python",
   "pygments_lexer": "ipython3",
   "version": "3.9.7"
  }
 },
 "nbformat": 4,
 "nbformat_minor": 5
}
