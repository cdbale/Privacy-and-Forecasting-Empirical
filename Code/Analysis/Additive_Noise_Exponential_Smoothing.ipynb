{
 "cells": [
  {
   "cell_type": "markdown",
   "id": "0e4052c3",
   "metadata": {},
   "source": [
    "## Examining the Effects of Additive Noise on Exponential Smoothing Forecast Accuracy"
   ]
  },
  {
   "cell_type": "markdown",
   "id": "7a4bd4c9",
   "metadata": {},
   "source": [
    "***"
   ]
  },
  {
   "cell_type": "code",
   "execution_count": 1,
   "id": "dd558349",
   "metadata": {},
   "outputs": [],
   "source": [
    "# general modules\n",
    "import pandas as pd\n",
    "import numpy as np\n",
    "import sktime\n",
    "\n",
    "# import exponential smoothing forecasting model\n",
    "from sktime.forecasting.exp_smoothing import ExponentialSmoothing\n",
    "\n",
    "# functions for transformation+forecasting pipeline\n",
    "from sktime.forecasting.compose import TransformedTargetForecaster\n",
    "\n",
    "# time series transformations\n",
    "from sktime.transformations.series.detrend import ConditionalDeseasonalizer\n",
    "\n",
    "##### the `helper_functions.py` file contains many custom functions we wrote to aid in our analysis\n",
    "##### `full_coding_analysis` combines all of the following - train-test split data,\n",
    "##### data protection, train models, compare accuracies, return accuracy results\n",
    "from helper_functions import *\n",
    "\n",
    "# suppress warnings from exponential smoothing model not converging\n",
    "import warnings\n",
    "warnings.filterwarnings('ignore')"
   ]
  },
  {
   "cell_type": "code",
   "execution_count": 2,
   "id": "053d11e1",
   "metadata": {},
   "outputs": [],
   "source": [
    "# import weekly finance time series\n",
    "Y = np.genfromtxt(\"../../Data/Train/Clean/weekly_finance_clean.csv\", delimiter = ',', skip_header = 1)\n",
    "Y = pd.DataFrame(Y)"
   ]
  },
  {
   "cell_type": "markdown",
   "id": "a2cdca93",
   "metadata": {},
   "source": [
    "***"
   ]
  },
  {
   "cell_type": "markdown",
   "id": "693a5968",
   "metadata": {},
   "source": [
    "## SES"
   ]
  },
  {
   "cell_type": "code",
   "execution_count": 3,
   "id": "c6ca18f3",
   "metadata": {},
   "outputs": [],
   "source": [
    "# define forecasting model\n",
    "# perform additive deseasonalization conditional on autocorrelation test for seasonality\n",
    "\n",
    "forecaster = TransformedTargetForecaster(\n",
    "    [\n",
    "        (\"deseasonalize\", ConditionalDeseasonalizer(model=\"additive\", sp=52)),\n",
    "        (\"forecast\", ExponentialSmoothing(use_boxcox=False)),\n",
    "    ]\n",
    ")"
   ]
  },
  {
   "cell_type": "code",
   "execution_count": 4,
   "id": "96460ce3",
   "metadata": {},
   "outputs": [],
   "source": [
    "results_dict_ses = {}\n",
    "fcasts_ses = {}\n",
    "fcasts_protected_ses = {}\n",
    "tests = {}\n",
    "num_stdevs = [1, 2]\n",
    "horizons = [1, 20]"
   ]
  },
  {
   "cell_type": "code",
   "execution_count": 5,
   "id": "33b06dee",
   "metadata": {},
   "outputs": [],
   "source": [
    "for n in num_stdevs:\n",
    "    for h in horizons:\n",
    "        idx = \"h=\"+str(h)+\", \"+str(n)+\" stan. devs\"\n",
    "        results_dict_ses[idx], tests[idx], fcasts_ses[idx], fcasts_protected_ses[idx] = full_coding_analysis(time_series_data=Y, \n",
    "                                                                                                             forecasting_model=forecaster, \n",
    "                                                                                                             forecast_horizon=h,\n",
    "                                                                                                             num_stdev=n)"
   ]
  },
  {
   "cell_type": "markdown",
   "id": "58ca2364",
   "metadata": {},
   "source": [
    "***\n",
    "***"
   ]
  },
  {
   "cell_type": "code",
   "execution_count": 6,
   "id": "a5ca6036",
   "metadata": {},
   "outputs": [],
   "source": [
    "adjusted_up = fcasts_ses['h=20, 1 stan. devs'] < fcasts_protected_ses['h=20, 1 stan. devs']\n",
    "adjusted_up = pd.concat([row for i, row in adjusted_up.iterrows()])\n",
    "\n",
    "adjusted_down = fcasts_ses['h=20, 1 stan. devs'] > fcasts_protected_ses['h=20, 1 stan. devs']\n",
    "adjusted_down = pd.concat([row for i, row in adjusted_down.iterrows()])"
   ]
  },
  {
   "cell_type": "code",
   "execution_count": 7,
   "id": "8f1fc618",
   "metadata": {},
   "outputs": [],
   "source": [
    "absolute_error = np.absolute(tests['h=20, 1 stan. devs'] - fcasts_ses['h=20, 1 stan. devs'])\n",
    "absolute_error = pd.concat([row for i, row in absolute_error.iterrows()])"
   ]
  },
  {
   "cell_type": "code",
   "execution_count": 8,
   "id": "30185949",
   "metadata": {},
   "outputs": [],
   "source": [
    "protected_absolute_error = np.absolute(tests['h=20, 1 stan. devs'] - fcasts_protected_ses['h=20, 1 stan. devs'])\n",
    "protected_absolute_error = pd.concat([row for i, row in protected_absolute_error.iterrows()])"
   ]
  },
  {
   "cell_type": "code",
   "execution_count": 9,
   "id": "99910f5c",
   "metadata": {},
   "outputs": [
    {
     "data": {
      "text/plain": [
       "0.058868766632536554"
      ]
     },
     "execution_count": 9,
     "metadata": {},
     "output_type": "execute_result"
    }
   ],
   "source": [
    "np.mean(absolute_error[adjusted_up])"
   ]
  },
  {
   "cell_type": "code",
   "execution_count": 10,
   "id": "ce6b17b6",
   "metadata": {},
   "outputs": [
    {
     "data": {
      "text/plain": [
       "0.0336538758617732"
      ]
     },
     "execution_count": 10,
     "metadata": {},
     "output_type": "execute_result"
    }
   ],
   "source": [
    "np.mean(absolute_error[adjusted_down])"
   ]
  },
  {
   "cell_type": "code",
   "execution_count": 11,
   "id": "fe5422f8",
   "metadata": {},
   "outputs": [
    {
     "data": {
      "text/plain": [
       "0.2055825619956616"
      ]
     },
     "execution_count": 11,
     "metadata": {},
     "output_type": "execute_result"
    }
   ],
   "source": [
    "np.mean(protected_absolute_error[adjusted_up])"
   ]
  },
  {
   "cell_type": "code",
   "execution_count": 12,
   "id": "25222ef4",
   "metadata": {},
   "outputs": [
    {
     "data": {
      "text/plain": [
       "0.05334478674245851"
      ]
     },
     "execution_count": 12,
     "metadata": {},
     "output_type": "execute_result"
    }
   ],
   "source": [
    "np.mean(protected_absolute_error[adjusted_down])"
   ]
  },
  {
   "cell_type": "markdown",
   "id": "4a1834f5",
   "metadata": {},
   "source": [
    "***\n",
    "***"
   ]
  },
  {
   "cell_type": "code",
   "execution_count": 13,
   "id": "93202597",
   "metadata": {},
   "outputs": [
    {
     "data": {
      "text/plain": [
       "{'h=1, 1 stan. devs': {'Mean Accuracies': array([2.18, 2.18]),\n",
       "  'Protected Mean Accuracies:': array([13.1, 13.1]),\n",
       "  '% Change Mean accuracy:': array([-500.5, -500.5]),\n",
       "  '% Change Median accuracy:': array([-229.24, -229.24]),\n",
       "  '% Forecasted Points adjusted downward:': 64.63,\n",
       "  '% Forecasted Points adjusted upward:': 35.370000000000005,\n",
       "  '% Series with improved accuracy:': array([21.34, 21.34]),\n",
       "  '% Series with reduced accuracy:': array([78.66, 78.66]),\n",
       "  'Original Mean Absolute Error Upward Adjusted:': 2.42,\n",
       "  'Original Mean Absolute Error Downward Adjusted:': 2.0500000000000003,\n",
       "  'Protected Mean Absolute Error Upward Adjusted:': 28.16,\n",
       "  'Protected Mean Absolute Error Downward Adjusted:': 4.859999999999999},\n",
       " 'h=20, 1 stan. devs': {'Mean Accuracies': array([4.4 , 5.37]),\n",
       "  'Protected Mean Accuracies:': array([11.59, 12.35]),\n",
       "  '% Change Mean accuracy:': array([-163.27, -129.96]),\n",
       "  '% Change Median accuracy:': array([-50.52, -41.24]),\n",
       "  '% Forecasted Points adjusted downward:': 58.93000000000001,\n",
       "  '% Forecasted Points adjusted upward:': 41.07,\n",
       "  '% Series with improved accuracy:': array([28.05, 27.44]),\n",
       "  '% Series with reduced accuracy:': array([71.95, 72.56]),\n",
       "  'Original Mean Absolute Error Upward Adjusted:': 5.89,\n",
       "  'Original Mean Absolute Error Downward Adjusted:': 3.37,\n",
       "  'Protected Mean Absolute Error Upward Adjusted:': 20.560000000000002,\n",
       "  'Protected Mean Absolute Error Downward Adjusted:': 5.33},\n",
       " 'h=1, 2 stan. devs': {'Mean Accuracies': array([2.18, 2.18]),\n",
       "  'Protected Mean Accuracies:': array([35.53, 35.53]),\n",
       "  '% Change Mean accuracy:': array([-1528.39, -1528.39]),\n",
       "  '% Change Median accuracy:': array([-825.38, -825.38]),\n",
       "  '% Forecasted Points adjusted downward:': 52.44,\n",
       "  '% Forecasted Points adjusted upward:': 47.56,\n",
       "  '% Series with improved accuracy:': array([6.71, 6.71]),\n",
       "  '% Series with reduced accuracy:': array([93.29, 93.29]),\n",
       "  'Original Mean Absolute Error Upward Adjusted:': 2.98,\n",
       "  'Original Mean Absolute Error Downward Adjusted:': 1.46,\n",
       "  'Protected Mean Absolute Error Upward Adjusted:': 68.64,\n",
       "  'Protected Mean Absolute Error Downward Adjusted:': 5.510000000000001},\n",
       " 'h=20, 2 stan. devs': {'Mean Accuracies': array([4.4 , 5.37]),\n",
       "  'Protected Mean Accuracies:': array([33.27, 33.8 ]),\n",
       "  '% Change Mean accuracy:': array([-655.98, -529.24]),\n",
       "  '% Change Median accuracy:': array([-186.7 , -165.38]),\n",
       "  '% Forecasted Points adjusted downward:': 49.45,\n",
       "  '% Forecasted Points adjusted upward:': 50.55,\n",
       "  '% Series with improved accuracy:': array([12.2, 12.2]),\n",
       "  '% Series with reduced accuracy:': array([87.8, 87.8]),\n",
       "  'Original Mean Absolute Error Upward Adjusted:': 5.6000000000000005,\n",
       "  'Original Mean Absolute Error Downward Adjusted:': 3.18,\n",
       "  'Protected Mean Absolute Error Upward Adjusted:': 57.84,\n",
       "  'Protected Mean Absolute Error Downward Adjusted:': 8.16}}"
      ]
     },
     "execution_count": 13,
     "metadata": {},
     "output_type": "execute_result"
    }
   ],
   "source": [
    "results_dict_ses"
   ]
  },
  {
   "cell_type": "markdown",
   "id": "92ee4971",
   "metadata": {},
   "source": [
    "***\n",
    "***"
   ]
  },
  {
   "cell_type": "markdown",
   "id": "fd8a115f",
   "metadata": {},
   "source": [
    "## DES"
   ]
  },
  {
   "cell_type": "code",
   "execution_count": 14,
   "id": "56fd1478",
   "metadata": {},
   "outputs": [],
   "source": [
    "# define forecasting model\n",
    "# perform additive deseasonalization conditional on autocorrelation test for seasonality\n",
    "\n",
    "forecaster = TransformedTargetForecaster(\n",
    "    [\n",
    "        (\"deseasonalize\", ConditionalDeseasonalizer(model=\"additive\", sp=52)),\n",
    "        (\"forecast\", ExponentialSmoothing(trend=\"additive\", use_boxcox=False)),\n",
    "    ]\n",
    ")"
   ]
  },
  {
   "cell_type": "code",
   "execution_count": 15,
   "id": "d53855fb",
   "metadata": {},
   "outputs": [],
   "source": [
    "results_dict_des = {}\n",
    "fcasts_des = {}\n",
    "fcasts_protected_des = {}\n",
    "tests = {}\n",
    "num_stdevs = [1, 2]\n",
    "horizons = [1, 20]"
   ]
  },
  {
   "cell_type": "code",
   "execution_count": 16,
   "id": "679e3752",
   "metadata": {},
   "outputs": [],
   "source": [
    "for n in num_stdevs:\n",
    "    for h in horizons:\n",
    "        idx = \"h=\"+str(h)+\", \"+str(n)+\" stan. devs\"\n",
    "        results_dict_des[idx], tests[idx], fcasts_des[idx], fcasts_protected_des[idx] = full_coding_analysis(time_series_data=Y, \n",
    "                                                                                                             forecasting_model=forecaster, \n",
    "                                                                                                             forecast_horizon=h,\n",
    "                                                                                                             num_stdev=n)"
   ]
  },
  {
   "cell_type": "code",
   "execution_count": 17,
   "id": "3dfc1a39",
   "metadata": {},
   "outputs": [
    {
     "data": {
      "text/plain": [
       "{'h=1, 1 stan. devs': {'Mean Accuracies': array([2.1, 2.1]),\n",
       "  'Protected Mean Accuracies:': array([11.49, 11.49]),\n",
       "  '% Change Mean accuracy:': array([-445.94, -445.94]),\n",
       "  '% Change Median accuracy:': array([-206.35, -206.35]),\n",
       "  '% Forecasted Points adjusted downward:': 52.44,\n",
       "  '% Forecasted Points adjusted upward:': 47.56,\n",
       "  '% Series with improved accuracy:': array([20.12, 20.12]),\n",
       "  '% Series with reduced accuracy:': array([79.88, 79.88]),\n",
       "  'Original Mean Absolute Error Upward Adjusted:': 2.39,\n",
       "  'Original Mean Absolute Error Downward Adjusted:': 1.8499999999999999,\n",
       "  'Protected Mean Absolute Error Upward Adjusted:': 18.98,\n",
       "  'Protected Mean Absolute Error Downward Adjusted:': 4.7},\n",
       " 'h=20, 1 stan. devs': {'Mean Accuracies': array([4.24, 5.18]),\n",
       "  'Protected Mean Accuracies:': array([12.64, 13.42]),\n",
       "  '% Change Mean accuracy:': array([-198.48, -159.05]),\n",
       "  '% Change Median accuracy:': array([-43.61, -37.95]),\n",
       "  '% Forecasted Points adjusted downward:': 46.43,\n",
       "  '% Forecasted Points adjusted upward:': 53.56999999999999,\n",
       "  '% Series with improved accuracy:': array([30.49, 31.1 ]),\n",
       "  '% Series with reduced accuracy:': array([69.51, 68.9 ]),\n",
       "  'Original Mean Absolute Error Upward Adjusted:': 4.49,\n",
       "  'Original Mean Absolute Error Downward Adjusted:': 3.95,\n",
       "  'Protected Mean Absolute Error Upward Adjusted:': 18.66,\n",
       "  'Protected Mean Absolute Error Downward Adjusted:': 5.7},\n",
       " 'h=1, 2 stan. devs': {'Mean Accuracies': array([2.1, 2.1]),\n",
       "  'Protected Mean Accuracies:': array([34.48, 34.48]),\n",
       "  '% Change Mean accuracy:': array([-1537.95, -1537.95]),\n",
       "  '% Change Median accuracy:': array([-658.48, -658.48]),\n",
       "  '% Forecasted Points adjusted downward:': 46.339999999999996,\n",
       "  '% Forecasted Points adjusted upward:': 53.66,\n",
       "  '% Series with improved accuracy:': array([12.2, 12.2]),\n",
       "  '% Series with reduced accuracy:': array([87.8, 87.8]),\n",
       "  'Original Mean Absolute Error Upward Adjusted:': 2.85,\n",
       "  'Original Mean Absolute Error Downward Adjusted:': 1.24,\n",
       "  'Protected Mean Absolute Error Upward Adjusted:': 59.93000000000001,\n",
       "  'Protected Mean Absolute Error Downward Adjusted:': 5.01},\n",
       " 'h=20, 2 stan. devs': {'Mean Accuracies': array([4.24, 5.18]),\n",
       "  'Protected Mean Accuracies:': array([34.63, 35.2 ]),\n",
       "  '% Change Mean accuracy:': array([-717.49, -579.63]),\n",
       "  '% Change Median accuracy:': array([-204.62, -159.86]),\n",
       "  '% Forecasted Points adjusted downward:': 41.52,\n",
       "  '% Forecasted Points adjusted upward:': 58.48,\n",
       "  '% Series with improved accuracy:': array([10.98, 12.2 ]),\n",
       "  '% Series with reduced accuracy:': array([89.02, 87.8 ]),\n",
       "  'Original Mean Absolute Error Upward Adjusted:': 4.9799999999999995,\n",
       "  'Original Mean Absolute Error Downward Adjusted:': 3.18,\n",
       "  'Protected Mean Absolute Error Upward Adjusted:': 54.449999999999996,\n",
       "  'Protected Mean Absolute Error Downward Adjusted:': 6.72}}"
      ]
     },
     "execution_count": 17,
     "metadata": {},
     "output_type": "execute_result"
    }
   ],
   "source": [
    "results_dict_des"
   ]
  },
  {
   "cell_type": "markdown",
   "id": "16949b2b",
   "metadata": {},
   "source": [
    "***\n",
    "***"
   ]
  },
  {
   "cell_type": "markdown",
   "id": "a96331bb",
   "metadata": {},
   "source": [
    "## TES"
   ]
  },
  {
   "cell_type": "code",
   "execution_count": 18,
   "id": "d2c4a618",
   "metadata": {},
   "outputs": [],
   "source": [
    "# define forecasting model\n",
    "# perform additive deseasonalization conditional on autocorrelation test for seasonality\n",
    "\n",
    "forecaster = TransformedTargetForecaster(\n",
    "    [\n",
    "        (\"forecast\", ExponentialSmoothing(trend=\"additive\",\n",
    "                                          seasonal=\"additive\",\n",
    "                                          sp=52,\n",
    "                                          damped_trend=False, \n",
    "                                          use_boxcox=False)),\n",
    "    ]\n",
    ")"
   ]
  },
  {
   "cell_type": "code",
   "execution_count": 19,
   "id": "9e0b4da5",
   "metadata": {},
   "outputs": [],
   "source": [
    "results_dict_tes = {}\n",
    "fcasts_tes = {}\n",
    "fcasts_protected_tes = {}\n",
    "tests = {}\n",
    "num_stdevs = [1, 2]\n",
    "horizons = [1, 20]"
   ]
  },
  {
   "cell_type": "code",
   "execution_count": 20,
   "id": "a64ae5c2",
   "metadata": {},
   "outputs": [],
   "source": [
    "for n in num_stdevs:\n",
    "    for h in horizons:\n",
    "        idx = \"h=\"+str(h)+\", \"+str(n)+\" stan. devs\"\n",
    "        results_dict_tes[idx], tests[idx], fcasts_tes[idx], fcasts_protected_tes[idx] = full_coding_analysis(time_series_data=Y, \n",
    "                                                                                                             forecasting_model=forecaster, \n",
    "                                                                                                             forecast_horizon=h,\n",
    "                                                                                                             num_stdev=n)"
   ]
  },
  {
   "cell_type": "code",
   "execution_count": 21,
   "id": "c9210f04",
   "metadata": {},
   "outputs": [
    {
     "data": {
      "text/plain": [
       "{'h=1, 1 stan. devs': {'Mean Accuracies': array([2.44, 2.44]),\n",
       "  'Protected Mean Accuracies:': array([14.74, 14.74]),\n",
       "  '% Change Mean accuracy:': array([-503.7, -503.7]),\n",
       "  '% Change Median accuracy:': array([-355.47, -355.47]),\n",
       "  '% Forecasted Points adjusted downward:': 50.0,\n",
       "  '% Forecasted Points adjusted upward:': 50.0,\n",
       "  '% Series with improved accuracy:': array([13.41, 13.41]),\n",
       "  '% Series with reduced accuracy:': array([86.59, 86.59]),\n",
       "  'Original Mean Absolute Error Upward Adjusted:': 2.74,\n",
       "  'Original Mean Absolute Error Downward Adjusted:': 2.1399999999999997,\n",
       "  'Protected Mean Absolute Error Upward Adjusted:': 22.11,\n",
       "  'Protected Mean Absolute Error Downward Adjusted:': 7.37},\n",
       " 'h=20, 1 stan. devs': {'Mean Accuracies': array([4.75, 5.74]),\n",
       "  'Protected Mean Accuracies:': array([15.13, 16.91]),\n",
       "  '% Change Mean accuracy:': array([-218.65, -194.43]),\n",
       "  '% Change Median accuracy:': array([-113.76, -111.3 ]),\n",
       "  '% Forecasted Points adjusted downward:': 49.88,\n",
       "  '% Forecasted Points adjusted upward:': 50.12,\n",
       "  '% Series with improved accuracy:': array([7.32, 7.32]),\n",
       "  '% Series with reduced accuracy:': array([92.68, 92.68]),\n",
       "  'Original Mean Absolute Error Upward Adjusted:': 5.07,\n",
       "  'Original Mean Absolute Error Downward Adjusted:': 4.42,\n",
       "  'Protected Mean Absolute Error Upward Adjusted:': 20.79,\n",
       "  'Protected Mean Absolute Error Downward Adjusted:': 9.43},\n",
       " 'h=1, 2 stan. devs': {'Mean Accuracies': array([2.44, 2.44]),\n",
       "  'Protected Mean Accuracies:': array([38.72, 38.72]),\n",
       "  '% Change Mean accuracy:': array([-1485.52, -1485.52]),\n",
       "  '% Change Median accuracy:': array([-1078.9, -1078.9]),\n",
       "  '% Forecasted Points adjusted downward:': 35.370000000000005,\n",
       "  '% Forecasted Points adjusted upward:': 64.63,\n",
       "  '% Series with improved accuracy:': array([6.1, 6.1]),\n",
       "  '% Series with reduced accuracy:': array([93.9, 93.9]),\n",
       "  'Original Mean Absolute Error Upward Adjusted:': 3.0,\n",
       "  'Original Mean Absolute Error Downward Adjusted:': 1.43,\n",
       "  'Protected Mean Absolute Error Upward Adjusted:': 53.98,\n",
       "  'Protected Mean Absolute Error Downward Adjusted:': 10.82},\n",
       " 'h=20, 2 stan. devs': {'Mean Accuracies': array([4.75, 5.74]),\n",
       "  'Protected Mean Accuracies:': array([35.43, 37.6 ]),\n",
       "  '% Change Mean accuracy:': array([-646.3 , -554.63]),\n",
       "  '% Change Median accuracy:': array([-294.02, -280.03]),\n",
       "  '% Forecasted Points adjusted downward:': 37.230000000000004,\n",
       "  '% Forecasted Points adjusted upward:': 62.77,\n",
       "  '% Series with improved accuracy:': array([0.61, 0.  ]),\n",
       "  '% Series with reduced accuracy:': array([ 99.39, 100.  ]),\n",
       "  'Original Mean Absolute Error Upward Adjusted:': 5.5,\n",
       "  'Original Mean Absolute Error Downward Adjusted:': 3.4799999999999995,\n",
       "  'Protected Mean Absolute Error Upward Adjusted:': 48.88,\n",
       "  'Protected Mean Absolute Error Downward Adjusted:': 12.740000000000002}}"
      ]
     },
     "execution_count": 21,
     "metadata": {},
     "output_type": "execute_result"
    }
   ],
   "source": [
    "results_dict_tes"
   ]
  }
 ],
 "metadata": {
  "kernelspec": {
   "display_name": "Python 3 (ipykernel)",
   "language": "python",
   "name": "python3"
  },
  "language_info": {
   "codemirror_mode": {
    "name": "ipython",
    "version": 3
   },
   "file_extension": ".py",
   "mimetype": "text/x-python",
   "name": "python",
   "nbconvert_exporter": "python",
   "pygments_lexer": "ipython3",
   "version": "3.9.7"
  }
 },
 "nbformat": 4,
 "nbformat_minor": 5
}
