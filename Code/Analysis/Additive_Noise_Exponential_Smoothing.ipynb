{
 "cells": [
  {
   "cell_type": "markdown",
   "id": "0e4052c3",
   "metadata": {},
   "source": [
    "## Examining the Effects of Additive Noise on Exponential Smoothing Forecast Accuracy"
   ]
  },
  {
   "cell_type": "markdown",
   "id": "7a4bd4c9",
   "metadata": {},
   "source": [
    "***"
   ]
  },
  {
   "cell_type": "code",
   "execution_count": 1,
   "id": "dd558349",
   "metadata": {},
   "outputs": [],
   "source": [
    "# general modules\n",
    "import pandas as pd\n",
    "import numpy as np\n",
    "import sktime\n",
    "\n",
    "# import exponential smoothing forecasting model\n",
    "from sktime.forecasting.exp_smoothing import ExponentialSmoothing\n",
    "\n",
    "# functions for transformation+forecasting pipeline\n",
    "from sktime.forecasting.compose import TransformedTargetForecaster\n",
    "\n",
    "# time series transformations\n",
    "from sktime.transformations.series.detrend import ConditionalDeseasonalizer\n",
    "\n",
    "##### the `helper_functions.py` file contains many custom functions we wrote to aid in our analysis\n",
    "##### `full_coding_analysis` combines all of the following - train-test split data,\n",
    "##### data protection, train models, compare accuracies, return accuracy results\n",
    "from helper_functions import *\n",
    "\n",
    "# suppress warnings from exponential smoothing model not converging\n",
    "import warnings\n",
    "warnings.filterwarnings('ignore')\n",
    "\n",
    "# nice time series plots\n",
    "from sktime.utils.plotting import plot_series"
   ]
  },
  {
   "cell_type": "code",
   "execution_count": 2,
   "id": "053d11e1",
   "metadata": {},
   "outputs": [],
   "source": [
    "# import weekly finance time series\n",
    "Y = np.genfromtxt(\"../../Data/Train/Clean/weekly_finance_clean.csv\", delimiter = ',', skip_header = 1)\n",
    "Y = pd.DataFrame(Y)"
   ]
  },
  {
   "cell_type": "markdown",
   "id": "167c3365",
   "metadata": {},
   "source": [
    "***\n",
    "***"
   ]
  },
  {
   "cell_type": "code",
   "execution_count": 3,
   "id": "ce018232",
   "metadata": {},
   "outputs": [],
   "source": [
    "# time_series_data = Y\n",
    "# forecast_horizon=20\n",
    "# coding_type=\"Top\"\n",
    "# coding_percentage=0.10\n",
    "# forecasting_model = lgb.LGBMRegressor()\n",
    "# # define forecasting model\n",
    "# # perform additive deseasonalization conditional on autocorrelation test for seasonality\n",
    "\n",
    "# forecasting_model = TransformedTargetForecaster(\n",
    "#     [\n",
    "#         (\"forecast\", ExponentialSmoothing(use_boxcox=False)),\n",
    "#     ]\n",
    "# )\n",
    "# window_length=10"
   ]
  },
  {
   "cell_type": "code",
   "execution_count": 4,
   "id": "664c389b",
   "metadata": {},
   "outputs": [],
   "source": [
    "# # create train-test split - we assume the 'test' values are unobserved\n",
    "#     # transpose the input data because `temporal_train_test_split` splits on rows\n",
    "# Train, Test = temporal_train_test_split(time_series_data.T, test_size=forecast_horizon)\n",
    "#     # transpose back\n",
    "# Train = Train.T\n",
    "# Test = Test.T"
   ]
  },
  {
   "cell_type": "code",
   "execution_count": 5,
   "id": "5eefcbc5",
   "metadata": {},
   "outputs": [],
   "source": [
    "# if coding_type is not None:\n",
    "#     Train_protected = Train.apply(coding_protection, axis=1, args=(coding_type, coding_percentage))\n",
    "# elif num_stdev is not None:\n",
    "#     Train_protected = additive_noise_protection(Train, num_stdev=num_stdev)\n",
    "# elif epsilon is not None:\n",
    "#     Train_protected = DP_protection(Train, epsilon=epsilon)"
   ]
  },
  {
   "cell_type": "code",
   "execution_count": 6,
   "id": "b0379be8",
   "metadata": {},
   "outputs": [],
   "source": [
    "# Train, mins, means = pre_process(Train)\n",
    "# Train_protected, mins_protected, means_protected = pre_process(Train_protected)"
   ]
  },
  {
   "cell_type": "code",
   "execution_count": 7,
   "id": "0b5eec7a",
   "metadata": {},
   "outputs": [],
   "source": [
    "# if type(forecasting_model) == lgb.sklearn.LGBMRegressor:\n",
    "#     #Train, Test = pre_process(Train, Test)\n",
    "#     #Train_protected, _ = pre_process(Train_protected, Test)\n",
    "#     # construct detrender\n",
    "#     detrender = Detrender()\n",
    "#     detrended_series = [detrender.fit_transform(series) for _ , series in Train_protected.iterrows()]\n",
    "#     Train_protected_orig = Train_protected.copy()\n",
    "#     Train_protected = pd.concat(detrended_series, axis=1).T\n",
    "#     detrended_series = [detrender.fit_transform(series) for _ , series in Train.iterrows()]\n",
    "#     Train_orig = Train.copy()\n",
    "#     Train = pd.concat(detrended_series, axis=1).T\n",
    "    \n",
    "# if type(forecasting_model) == sktime.forecasting.compose._pipeline.TransformedTargetForecaster:\n",
    "#     # create nested dataframes to use with sktime functions\n",
    "#     Train = from_2d_array_to_nested(Train)\n",
    "#     Train_protected = from_2d_array_to_nested(Train_protected)"
   ]
  },
  {
   "cell_type": "code",
   "execution_count": 8,
   "id": "fbea1907",
   "metadata": {},
   "outputs": [],
   "source": [
    "# # forecasts from model trained on original data\n",
    "# fcasts = train_and_forecast(forecasting_model=forecasting_model, horizon_length=forecast_horizon, training_data=Train, window_length=window_length)\n",
    "\n",
    "#     # forecasts from model trained on protected data\n",
    "# fcasts_protected = train_and_forecast(forecasting_model=forecasting_model, horizon_length=forecast_horizon, training_data=Train_protected, window_length=window_length)"
   ]
  },
  {
   "cell_type": "code",
   "execution_count": 9,
   "id": "3af5a6b0",
   "metadata": {},
   "outputs": [],
   "source": [
    "# if type(forecasting_model) == lgb.sklearn.LGBMRegressor:\n",
    "#     fcasts = reverse_transformation(fcasts, Train_orig, \"Add Trend\")\n",
    "#     fcasts_protected = reverse_transformation(fcasts_protected, Train_protected_orig, \"Add Trend\")"
   ]
  },
  {
   "cell_type": "code",
   "execution_count": 10,
   "id": "69345d09",
   "metadata": {},
   "outputs": [],
   "source": [
    "# fcasts = post_process(fcasts, mins, means)\n",
    "# fcasts_protected = post_process(fcasts_protected, mins_protected, means_protected)"
   ]
  },
  {
   "cell_type": "markdown",
   "id": "f7d8236f",
   "metadata": {},
   "source": [
    "***\n",
    "***"
   ]
  },
  {
   "cell_type": "code",
   "execution_count": 11,
   "id": "de7346af",
   "metadata": {},
   "outputs": [],
   "source": [
    "# detrender = Detrender()\n",
    "# detrended_series = [detrender.fit_transform(series) for _ , series in Y.iterrows()]\n",
    "# detrended_series = [i+np.abs(np.min(i))+1.0 for i in detrended_series]\n",
    "# Y = pd.concat(detrended_series, axis=1).T"
   ]
  },
  {
   "cell_type": "markdown",
   "id": "a2cdca93",
   "metadata": {},
   "source": [
    "***"
   ]
  },
  {
   "cell_type": "markdown",
   "id": "693a5968",
   "metadata": {},
   "source": [
    "## SES"
   ]
  },
  {
   "cell_type": "code",
   "execution_count": 12,
   "id": "c6ca18f3",
   "metadata": {},
   "outputs": [],
   "source": [
    "# define forecasting model\n",
    "# perform additive deseasonalization conditional on autocorrelation test for seasonality\n",
    "\n",
    "forecaster = TransformedTargetForecaster(\n",
    "    [\n",
    "        (\"forecast\", ExponentialSmoothing(use_boxcox=False)),\n",
    "    ]\n",
    ")"
   ]
  },
  {
   "cell_type": "code",
   "execution_count": 13,
   "id": "96460ce3",
   "metadata": {},
   "outputs": [],
   "source": [
    "results_dict_ses = {}\n",
    "fcasts_ses = {}\n",
    "fcasts_protected_ses = {}\n",
    "tests = {}\n",
    "num_stdevs = [1, 2]\n",
    "horizons = [1, 20]"
   ]
  },
  {
   "cell_type": "code",
   "execution_count": 14,
   "id": "33b06dee",
   "metadata": {},
   "outputs": [],
   "source": [
    "for n in num_stdevs:\n",
    "    for h in horizons:\n",
    "        idx = \"h=\"+str(h)+\", \"+str(n)+\" stan. devs\"\n",
    "        results_dict_ses[idx], tests[idx], fcasts_ses[idx], fcasts_protected_ses[idx] = full_coding_analysis(time_series_data=Y, \n",
    "                                                                                                             forecasting_model=forecaster, \n",
    "                                                                                                             forecast_horizon=h,\n",
    "                                                                                                             num_stdev=n)"
   ]
  },
  {
   "cell_type": "markdown",
   "id": "58ca2364",
   "metadata": {},
   "source": [
    "***\n",
    "***"
   ]
  },
  {
   "cell_type": "code",
   "execution_count": 15,
   "id": "93202597",
   "metadata": {},
   "outputs": [
    {
     "data": {
      "text/plain": [
       "{'h=1, 1 stan. devs': {'Mean Accuracies': array([55.3207, 55.3207]),\n",
       "  'Protected Mean Accuracies:': array([109.6771, 109.6771]),\n",
       "  '% Change Mean accuracy:': array([-0.9826, -0.9826]),\n",
       "  '% Change Median accuracy:': array([-1.6811, -1.6811]),\n",
       "  '% Forecasted Points adjusted downward:': 0.6402,\n",
       "  '% Forecasted Points adjusted upward:': 0.3598,\n",
       "  '% Series with improved accuracy:': array([0.2439, 0.2439]),\n",
       "  '% Series with reduced accuracy:': array([0.7561, 0.7561]),\n",
       "  'Original Mean Absolute Error Upward Adjusted:': 65.4895,\n",
       "  'Original Mean Absolute Error Downward Adjusted:': 49.6068,\n",
       "  'Protected Mean Absolute Error Upward Adjusted:': 115.0888,\n",
       "  'Protected Mean Absolute Error Downward Adjusted:': 106.6362},\n",
       " 'h=20, 1 stan. devs': {'Mean Accuracies': array([112.5495, 135.001 ]),\n",
       "  'Protected Mean Accuracies:': array([149.1244, 167.7697]),\n",
       "  '% Change Mean accuracy:': array([-0.325 , -0.2427]),\n",
       "  '% Change Median accuracy:': array([-0.3574, -0.2399]),\n",
       "  '% Forecasted Points adjusted downward:': 0.628,\n",
       "  '% Forecasted Points adjusted upward:': 0.372,\n",
       "  '% Series with improved accuracy:': array([0.2988, 0.2927]),\n",
       "  '% Series with reduced accuracy:': array([0.7012, 0.7073]),\n",
       "  'Original Mean Absolute Error Upward Adjusted:': 128.3948,\n",
       "  'Original Mean Absolute Error Downward Adjusted:': 103.1653,\n",
       "  'Protected Mean Absolute Error Upward Adjusted:': 146.268,\n",
       "  'Protected Mean Absolute Error Downward Adjusted:': 150.816},\n",
       " 'h=1, 2 stan. devs': {'Mean Accuracies': array([55.3207, 55.3207]),\n",
       "  'Protected Mean Accuracies:': array([189.0846, 189.0846]),\n",
       "  '% Change Mean accuracy:': array([-2.418, -2.418]),\n",
       "  '% Change Median accuracy:': array([-2.6845, -2.6845]),\n",
       "  '% Forecasted Points adjusted downward:': 0.75,\n",
       "  '% Forecasted Points adjusted upward:': 0.25,\n",
       "  '% Series with improved accuracy:': array([0.1585, 0.1585]),\n",
       "  '% Series with reduced accuracy:': array([0.8415, 0.8415]),\n",
       "  'Original Mean Absolute Error Upward Adjusted:': 72.4073,\n",
       "  'Original Mean Absolute Error Downward Adjusted:': 49.6252,\n",
       "  'Protected Mean Absolute Error Upward Adjusted:': 188.7756,\n",
       "  'Protected Mean Absolute Error Downward Adjusted:': 189.1876},\n",
       " 'h=20, 2 stan. devs': {'Mean Accuracies': array([112.5495, 135.001 ]),\n",
       "  'Protected Mean Accuracies:': array([208.4973, 225.2978]),\n",
       "  '% Change Mean accuracy:': array([-0.8525, -0.6689]),\n",
       "  '% Change Median accuracy:': array([-1.4308, -1.1042]),\n",
       "  '% Forecasted Points adjusted downward:': 0.7744,\n",
       "  '% Forecasted Points adjusted upward:': 0.2256,\n",
       "  '% Series with improved accuracy:': array([0.1585, 0.1707]),\n",
       "  '% Series with reduced accuracy:': array([0.8415, 0.8293]),\n",
       "  'Original Mean Absolute Error Upward Adjusted:': 176.23,\n",
       "  'Original Mean Absolute Error Downward Adjusted:': 93.9969,\n",
       "  'Protected Mean Absolute Error Upward Adjusted:': 216.1197,\n",
       "  'Protected Mean Absolute Error Downward Adjusted:': 206.2765}}"
      ]
     },
     "execution_count": 15,
     "metadata": {},
     "output_type": "execute_result"
    }
   ],
   "source": [
    "results_dict_ses"
   ]
  },
  {
   "cell_type": "markdown",
   "id": "92ee4971",
   "metadata": {},
   "source": [
    "***\n",
    "***"
   ]
  },
  {
   "cell_type": "markdown",
   "id": "fd8a115f",
   "metadata": {},
   "source": [
    "## DES"
   ]
  },
  {
   "cell_type": "code",
   "execution_count": 16,
   "id": "56fd1478",
   "metadata": {},
   "outputs": [],
   "source": [
    "# define forecasting model\n",
    "# perform additive deseasonalization conditional on autocorrelation test for seasonality\n",
    "\n",
    "forecaster = TransformedTargetForecaster(\n",
    "    [\n",
    "        (\"forecast\", ExponentialSmoothing(trend=\"additive\", use_boxcox=False)),\n",
    "    ]\n",
    ")"
   ]
  },
  {
   "cell_type": "code",
   "execution_count": 17,
   "id": "d53855fb",
   "metadata": {},
   "outputs": [],
   "source": [
    "results_dict_des = {}\n",
    "fcasts_des = {}\n",
    "fcasts_protected_des = {}\n",
    "tests = {}\n",
    "num_stdevs = [1, 2]\n",
    "horizons = [1, 20]"
   ]
  },
  {
   "cell_type": "code",
   "execution_count": 18,
   "id": "679e3752",
   "metadata": {},
   "outputs": [],
   "source": [
    "for n in num_stdevs:\n",
    "    for h in horizons:\n",
    "        idx = \"h=\"+str(h)+\", \"+str(n)+\" stan. devs\"\n",
    "        results_dict_des[idx], tests[idx], fcasts_des[idx], fcasts_protected_des[idx] = full_coding_analysis(time_series_data=Y, \n",
    "                                                                                                             forecasting_model=forecaster, \n",
    "                                                                                                             forecast_horizon=h,\n",
    "                                                                                                             num_stdev=n)"
   ]
  },
  {
   "cell_type": "code",
   "execution_count": 19,
   "id": "3dfc1a39",
   "metadata": {},
   "outputs": [
    {
     "data": {
      "text/plain": [
       "{'h=1, 1 stan. devs': {'Mean Accuracies': array([54.4492, 54.4492]),\n",
       "  'Protected Mean Accuracies:': array([131.9051, 131.9051]),\n",
       "  '% Change Mean accuracy:': array([-1.4225, -1.4225]),\n",
       "  '% Change Median accuracy:': array([-1.702, -1.702]),\n",
       "  '% Forecasted Points adjusted downward:': 0.5732,\n",
       "  '% Forecasted Points adjusted upward:': 0.4268,\n",
       "  '% Series with improved accuracy:': array([0.2317, 0.2317]),\n",
       "  '% Series with reduced accuracy:': array([0.7683, 0.7683]),\n",
       "  'Original Mean Absolute Error Upward Adjusted:': 63.2068,\n",
       "  'Original Mean Absolute Error Downward Adjusted:': 47.9275,\n",
       "  'Protected Mean Absolute Error Upward Adjusted:': 127.4885,\n",
       "  'Protected Mean Absolute Error Downward Adjusted:': 135.1941},\n",
       " 'h=20, 1 stan. devs': {'Mean Accuracies': array([109.1455, 132.0211]),\n",
       "  'Protected Mean Accuracies:': array([165.5499, 188.5545]),\n",
       "  '% Change Mean accuracy:': array([-0.5168, -0.4282]),\n",
       "  '% Change Median accuracy:': array([-0.2728, -0.2722]),\n",
       "  '% Forecasted Points adjusted downward:': 0.4963,\n",
       "  '% Forecasted Points adjusted upward:': 0.5037,\n",
       "  '% Series with improved accuracy:': array([0.3232, 0.3537]),\n",
       "  '% Series with reduced accuracy:': array([0.6768, 0.6463]),\n",
       "  'Original Mean Absolute Error Upward Adjusted:': 125.715,\n",
       "  'Original Mean Absolute Error Downward Adjusted:': 92.3316,\n",
       "  'Protected Mean Absolute Error Upward Adjusted:': 174.0607,\n",
       "  'Protected Mean Absolute Error Downward Adjusted:': 156.9137},\n",
       " 'h=1, 2 stan. devs': {'Mean Accuracies': array([54.4492, 54.4492]),\n",
       "  'Protected Mean Accuracies:': array([187.1425, 187.1425]),\n",
       "  '% Change Mean accuracy:': array([-2.437, -2.437]),\n",
       "  '% Change Median accuracy:': array([-4.1463, -4.1463]),\n",
       "  '% Forecasted Points adjusted downward:': 0.5976,\n",
       "  '% Forecasted Points adjusted upward:': 0.4024,\n",
       "  '% Series with improved accuracy:': array([0.1646, 0.1646]),\n",
       "  '% Series with reduced accuracy:': array([0.8354, 0.8354]),\n",
       "  'Original Mean Absolute Error Upward Adjusted:': 80.5584,\n",
       "  'Original Mean Absolute Error Downward Adjusted:': 36.8654,\n",
       "  'Protected Mean Absolute Error Upward Adjusted:': 234.846,\n",
       "  'Protected Mean Absolute Error Downward Adjusted:': 155.0156},\n",
       " 'h=20, 2 stan. devs': {'Mean Accuracies': array([109.1455, 132.0211]),\n",
       "  'Protected Mean Accuracies:': array([309.3236, 329.848 ]),\n",
       "  '% Change Mean accuracy:': array([-1.834 , -1.4984]),\n",
       "  '% Change Median accuracy:': array([-1.1188, -1.0734]),\n",
       "  '% Forecasted Points adjusted downward:': 0.6421,\n",
       "  '% Forecasted Points adjusted upward:': 0.3579,\n",
       "  '% Series with improved accuracy:': array([0.1768, 0.1768]),\n",
       "  '% Series with reduced accuracy:': array([0.8232, 0.8232]),\n",
       "  'Original Mean Absolute Error Upward Adjusted:': 101.0405,\n",
       "  'Original Mean Absolute Error Downward Adjusted:': 113.6636,\n",
       "  'Protected Mean Absolute Error Upward Adjusted:': 263.9188,\n",
       "  'Protected Mean Absolute Error Downward Adjusted:': 334.6346}}"
      ]
     },
     "execution_count": 19,
     "metadata": {},
     "output_type": "execute_result"
    }
   ],
   "source": [
    "results_dict_des"
   ]
  },
  {
   "cell_type": "markdown",
   "id": "16949b2b",
   "metadata": {},
   "source": [
    "***\n",
    "***"
   ]
  },
  {
   "cell_type": "markdown",
   "id": "a96331bb",
   "metadata": {},
   "source": [
    "## TES"
   ]
  },
  {
   "cell_type": "code",
   "execution_count": 20,
   "id": "d2c4a618",
   "metadata": {},
   "outputs": [],
   "source": [
    "# define forecasting model\n",
    "# perform additive deseasonalization conditional on autocorrelation test for seasonality\n",
    "\n",
    "forecaster = TransformedTargetForecaster(\n",
    "    [\n",
    "        (\"forecast\", ExponentialSmoothing(trend=\"additive\",\n",
    "                                          seasonal=\"additive\",\n",
    "                                          sp=52,\n",
    "                                          damped_trend=False, \n",
    "                                          use_boxcox=False)),\n",
    "    ]\n",
    ")"
   ]
  },
  {
   "cell_type": "code",
   "execution_count": 21,
   "id": "9e0b4da5",
   "metadata": {},
   "outputs": [],
   "source": [
    "results_dict_tes = {}\n",
    "fcasts_tes = {}\n",
    "fcasts_protected_tes = {}\n",
    "tests = {}\n",
    "num_stdevs = [1, 2]\n",
    "horizons = [1, 20]"
   ]
  },
  {
   "cell_type": "code",
   "execution_count": 22,
   "id": "a64ae5c2",
   "metadata": {},
   "outputs": [],
   "source": [
    "for n in num_stdevs:\n",
    "    for h in horizons:\n",
    "        idx = \"h=\"+str(h)+\", \"+str(n)+\" stan. devs\"\n",
    "        results_dict_tes[idx], tests[idx], fcasts_tes[idx], fcasts_protected_tes[idx] = full_coding_analysis(time_series_data=Y, \n",
    "                                                                                                             forecasting_model=forecaster, \n",
    "                                                                                                             forecast_horizon=h,\n",
    "                                                                                                             num_stdev=n)"
   ]
  },
  {
   "cell_type": "code",
   "execution_count": 23,
   "id": "c9210f04",
   "metadata": {},
   "outputs": [
    {
     "data": {
      "text/plain": [
       "{'h=1, 1 stan. devs': {'Mean Accuracies': array([66.4076, 66.4076]),\n",
       "  'Protected Mean Accuracies:': array([215.2398, 215.2398]),\n",
       "  '% Change Mean accuracy:': array([-2.2412, -2.2412]),\n",
       "  '% Change Median accuracy:': array([-2.0045, -2.0045]),\n",
       "  '% Forecasted Points adjusted downward:': 0.5915,\n",
       "  '% Forecasted Points adjusted upward:': 0.4085,\n",
       "  '% Series with improved accuracy:': array([0.1463, 0.1463]),\n",
       "  '% Series with reduced accuracy:': array([0.8537, 0.8537]),\n",
       "  'Original Mean Absolute Error Upward Adjusted:': 87.0271,\n",
       "  'Original Mean Absolute Error Downward Adjusted:': 52.1653,\n",
       "  'Protected Mean Absolute Error Upward Adjusted:': 189.4094,\n",
       "  'Protected Mean Absolute Error Downward Adjusted:': 233.0815},\n",
       " 'h=20, 1 stan. devs': {'Mean Accuracies': array([116.7834, 138.5197]),\n",
       "  'Protected Mean Accuracies:': array([246.0935, 300.8327]),\n",
       "  '% Change Mean accuracy:': array([-1.1073, -1.1718]),\n",
       "  '% Change Median accuracy:': array([-1.5984, -1.6331]),\n",
       "  '% Forecasted Points adjusted downward:': 0.5463,\n",
       "  '% Forecasted Points adjusted upward:': 0.4537,\n",
       "  '% Series with improved accuracy:': array([0.0671, 0.0549]),\n",
       "  '% Series with reduced accuracy:': array([0.9329, 0.9451]),\n",
       "  'Original Mean Absolute Error Upward Adjusted:': 115.9788,\n",
       "  'Original Mean Absolute Error Downward Adjusted:': 117.4516,\n",
       "  'Protected Mean Absolute Error Upward Adjusted:': 239.6372,\n",
       "  'Protected Mean Absolute Error Downward Adjusted:': 251.4544},\n",
       " 'h=1, 2 stan. devs': {'Mean Accuracies': array([66.4076, 66.4076]),\n",
       "  'Protected Mean Accuracies:': array([453.2267, 453.2267]),\n",
       "  '% Change Mean accuracy:': array([-5.8249, -5.8249]),\n",
       "  '% Change Median accuracy:': array([-5.771, -5.771]),\n",
       "  '% Forecasted Points adjusted downward:': 0.5488,\n",
       "  '% Forecasted Points adjusted upward:': 0.4512,\n",
       "  '% Series with improved accuracy:': array([0.1098, 0.1098]),\n",
       "  '% Series with reduced accuracy:': array([0.8902, 0.8902]),\n",
       "  'Original Mean Absolute Error Upward Adjusted:': 71.3385,\n",
       "  'Original Mean Absolute Error Downward Adjusted:': 62.3534,\n",
       "  'Protected Mean Absolute Error Upward Adjusted:': 435.4511,\n",
       "  'Protected Mean Absolute Error Downward Adjusted:': 467.8422},\n",
       " 'h=20, 2 stan. devs': {'Mean Accuracies': array([116.7834, 138.5197]),\n",
       "  'Protected Mean Accuracies:': array([408.3401, 498.5995]),\n",
       "  '% Change Mean accuracy:': array([-2.4966, -2.5995]),\n",
       "  '% Change Median accuracy:': array([-3.4437, -3.7491]),\n",
       "  '% Forecasted Points adjusted downward:': 0.5793,\n",
       "  '% Forecasted Points adjusted upward:': 0.4207,\n",
       "  '% Series with improved accuracy:': array([0.0183, 0.0122]),\n",
       "  '% Series with reduced accuracy:': array([0.9817, 0.9878]),\n",
       "  'Original Mean Absolute Error Upward Adjusted:': 117.9056,\n",
       "  'Original Mean Absolute Error Downward Adjusted:': 115.9684,\n",
       "  'Protected Mean Absolute Error Upward Adjusted:': 330.7058,\n",
       "  'Protected Mean Absolute Error Downward Adjusted:': 464.7271}}"
      ]
     },
     "execution_count": 23,
     "metadata": {},
     "output_type": "execute_result"
    }
   ],
   "source": [
    "results_dict_tes"
   ]
  }
 ],
 "metadata": {
  "kernelspec": {
   "display_name": "Python 3 (ipykernel)",
   "language": "python",
   "name": "python3"
  },
  "language_info": {
   "codemirror_mode": {
    "name": "ipython",
    "version": 3
   },
   "file_extension": ".py",
   "mimetype": "text/x-python",
   "name": "python",
   "nbconvert_exporter": "python",
   "pygments_lexer": "ipython3",
   "version": "3.9.7"
  }
 },
 "nbformat": 4,
 "nbformat_minor": 5
}
