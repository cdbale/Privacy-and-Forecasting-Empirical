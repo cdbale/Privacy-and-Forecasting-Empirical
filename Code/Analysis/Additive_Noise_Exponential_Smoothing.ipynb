{
 "cells": [
  {
   "cell_type": "markdown",
   "id": "0e4052c3",
   "metadata": {},
   "source": [
    "## Examining the Effects of Additive Noise on Exponential Smoothing Forecast Accuracy"
   ]
  },
  {
   "cell_type": "markdown",
   "id": "7a4bd4c9",
   "metadata": {},
   "source": [
    "***"
   ]
  },
  {
   "cell_type": "code",
   "execution_count": 1,
   "id": "dd558349",
   "metadata": {},
   "outputs": [],
   "source": [
    "# general modules\n",
    "import pandas as pd\n",
    "import numpy as np\n",
    "import sktime\n",
    "\n",
    "# import exponential smoothing forecasting model\n",
    "from sktime.forecasting.exp_smoothing import ExponentialSmoothing\n",
    "\n",
    "# functions for transformation+forecasting pipeline\n",
    "from sktime.forecasting.compose import TransformedTargetForecaster\n",
    "\n",
    "# time series transformations\n",
    "from sktime.transformations.series.detrend import ConditionalDeseasonalizer\n",
    "\n",
    "##### the `helper_functions.py` file contains many custom functions we wrote to aid in our analysis\n",
    "##### `full_coding_analysis` combines all of the following - train-test split data,\n",
    "##### data protection, train models, compare accuracies, return accuracy results\n",
    "from helper_functions import *\n",
    "\n",
    "# suppress warnings from exponential smoothing model not converging\n",
    "import warnings\n",
    "warnings.filterwarnings('ignore')"
   ]
  },
  {
   "cell_type": "code",
   "execution_count": 2,
   "id": "053d11e1",
   "metadata": {},
   "outputs": [],
   "source": [
    "# import weekly finance time series\n",
    "Y = np.genfromtxt(\"../../Data/Train/Clean/weekly_finance_clean.csv\", delimiter = ',', skip_header = 1)\n",
    "Y = pd.DataFrame(Y)"
   ]
  },
  {
   "cell_type": "code",
   "execution_count": 3,
   "id": "de7346af",
   "metadata": {},
   "outputs": [],
   "source": [
    "# detrender = Detrender()\n",
    "# detrended_series = [detrender.fit_transform(series) for _ , series in Y.iterrows()]\n",
    "# detrended_series = [i+np.abs(np.min(i))+1.0 for i in detrended_series]\n",
    "# Y = pd.concat(detrended_series, axis=1).T"
   ]
  },
  {
   "cell_type": "markdown",
   "id": "a2cdca93",
   "metadata": {},
   "source": [
    "***"
   ]
  },
  {
   "cell_type": "markdown",
   "id": "693a5968",
   "metadata": {},
   "source": [
    "## SES"
   ]
  },
  {
   "cell_type": "code",
   "execution_count": 4,
   "id": "c6ca18f3",
   "metadata": {},
   "outputs": [],
   "source": [
    "# define forecasting model\n",
    "# perform additive deseasonalization conditional on autocorrelation test for seasonality\n",
    "\n",
    "forecaster = TransformedTargetForecaster(\n",
    "    [\n",
    "        #(\"deseasonalize\", ConditionalDeseasonalizer(model=\"additive\", sp=52)),\n",
    "        (\"forecast\", ExponentialSmoothing(use_boxcox=False)),\n",
    "    ]\n",
    ")"
   ]
  },
  {
   "cell_type": "code",
   "execution_count": 5,
   "id": "96460ce3",
   "metadata": {},
   "outputs": [],
   "source": [
    "results_dict_ses = {}\n",
    "fcasts_ses = {}\n",
    "fcasts_protected_ses = {}\n",
    "tests = {}\n",
    "num_stdevs = [1, 2]\n",
    "horizons = [1, 20]"
   ]
  },
  {
   "cell_type": "code",
   "execution_count": 6,
   "id": "33b06dee",
   "metadata": {},
   "outputs": [],
   "source": [
    "for n in num_stdevs:\n",
    "    for h in horizons:\n",
    "        idx = \"h=\"+str(h)+\", \"+str(n)+\" stan. devs\"\n",
    "        results_dict_ses[idx], tests[idx], fcasts_ses[idx], fcasts_protected_ses[idx] = full_coding_analysis(time_series_data=Y, \n",
    "                                                                                                             forecasting_model=forecaster, \n",
    "                                                                                                             forecast_horizon=h,\n",
    "                                                                                                             num_stdev=n)"
   ]
  },
  {
   "cell_type": "markdown",
   "id": "58ca2364",
   "metadata": {},
   "source": [
    "***\n",
    "***"
   ]
  },
  {
   "cell_type": "code",
   "execution_count": 7,
   "id": "a5ca6036",
   "metadata": {},
   "outputs": [],
   "source": [
    "adjusted_up = fcasts_ses['h=20, 1 stan. devs'] < fcasts_protected_ses['h=20, 1 stan. devs']\n",
    "adjusted_up = pd.concat([row for i, row in adjusted_up.iterrows()])\n",
    "\n",
    "adjusted_down = fcasts_ses['h=20, 1 stan. devs'] > fcasts_protected_ses['h=20, 1 stan. devs']\n",
    "adjusted_down = pd.concat([row for i, row in adjusted_down.iterrows()])"
   ]
  },
  {
   "cell_type": "code",
   "execution_count": 8,
   "id": "8f1fc618",
   "metadata": {},
   "outputs": [],
   "source": [
    "absolute_error = np.absolute(tests['h=20, 1 stan. devs'] - fcasts_ses['h=20, 1 stan. devs'])\n",
    "absolute_error = pd.concat([row for i, row in absolute_error.iterrows()])"
   ]
  },
  {
   "cell_type": "code",
   "execution_count": 9,
   "id": "30185949",
   "metadata": {},
   "outputs": [],
   "source": [
    "protected_absolute_error = np.absolute(tests['h=20, 1 stan. devs'] - fcasts_protected_ses['h=20, 1 stan. devs'])\n",
    "protected_absolute_error = pd.concat([row for i, row in protected_absolute_error.iterrows()])"
   ]
  },
  {
   "cell_type": "code",
   "execution_count": 10,
   "id": "99910f5c",
   "metadata": {},
   "outputs": [
    {
     "data": {
      "text/plain": [
       "0.05884192028913125"
      ]
     },
     "execution_count": 10,
     "metadata": {},
     "output_type": "execute_result"
    }
   ],
   "source": [
    "np.mean(absolute_error[adjusted_up])"
   ]
  },
  {
   "cell_type": "code",
   "execution_count": 11,
   "id": "ce6b17b6",
   "metadata": {},
   "outputs": [
    {
     "data": {
      "text/plain": [
       "0.03505460217496818"
      ]
     },
     "execution_count": 11,
     "metadata": {},
     "output_type": "execute_result"
    }
   ],
   "source": [
    "np.mean(absolute_error[adjusted_down])"
   ]
  },
  {
   "cell_type": "code",
   "execution_count": 12,
   "id": "fe5422f8",
   "metadata": {},
   "outputs": [
    {
     "data": {
      "text/plain": [
       "0.24282142166013315"
      ]
     },
     "execution_count": 12,
     "metadata": {},
     "output_type": "execute_result"
    }
   ],
   "source": [
    "np.mean(protected_absolute_error[adjusted_up])"
   ]
  },
  {
   "cell_type": "code",
   "execution_count": 13,
   "id": "25222ef4",
   "metadata": {},
   "outputs": [
    {
     "data": {
      "text/plain": [
       "0.055579050489302124"
      ]
     },
     "execution_count": 13,
     "metadata": {},
     "output_type": "execute_result"
    }
   ],
   "source": [
    "np.mean(protected_absolute_error[adjusted_down])"
   ]
  },
  {
   "cell_type": "markdown",
   "id": "4a1834f5",
   "metadata": {},
   "source": [
    "***\n",
    "***"
   ]
  },
  {
   "cell_type": "code",
   "execution_count": 14,
   "id": "93202597",
   "metadata": {},
   "outputs": [
    {
     "data": {
      "text/plain": [
       "{'h=1, 1 stan. devs': {'Mean Accuracies': array([2.18, 2.18]),\n",
       "  'Protected Mean Accuracies:': array([12.65, 12.65]),\n",
       "  '% Change Mean accuracy:': array([-480.98, -480.98]),\n",
       "  '% Change Median accuracy:': array([-203.37, -203.37]),\n",
       "  '% Forecasted Points adjusted downward:': 65.24,\n",
       "  '% Forecasted Points adjusted upward:': 34.760000000000005,\n",
       "  '% Series with improved accuracy:': array([18.9, 18.9]),\n",
       "  '% Series with reduced accuracy:': array([81.1, 81.1]),\n",
       "  'Original Mean Absolute Error Upward Adjusted:': 2.92,\n",
       "  'Original Mean Absolute Error Downward Adjusted:': 1.78,\n",
       "  'Protected Mean Absolute Error Upward Adjusted:': 28.299999999999997,\n",
       "  'Protected Mean Absolute Error Downward Adjusted:': 4.31},\n",
       " 'h=20, 1 stan. devs': {'Mean Accuracies': array([4.45, 5.43]),\n",
       "  'Protected Mean Accuracies:': array([12.98, 13.7 ]),\n",
       "  '% Change Mean accuracy:': array([-191.78, -152.28]),\n",
       "  '% Change Median accuracy:': array([-41.38, -40.4 ]),\n",
       "  '% Forecasted Points adjusted downward:': 60.370000000000005,\n",
       "  '% Forecasted Points adjusted upward:': 39.629999999999995,\n",
       "  '% Series with improved accuracy:': array([24.39, 25.  ]),\n",
       "  '% Series with reduced accuracy:': array([75.61, 75.  ]),\n",
       "  'Original Mean Absolute Error Upward Adjusted:': 5.88,\n",
       "  'Original Mean Absolute Error Downward Adjusted:': 3.51,\n",
       "  'Protected Mean Absolute Error Upward Adjusted:': 24.279999999999998,\n",
       "  'Protected Mean Absolute Error Downward Adjusted:': 5.56},\n",
       " 'h=1, 2 stan. devs': {'Mean Accuracies': array([2.18, 2.18]),\n",
       "  'Protected Mean Accuracies:': array([36.79, 36.79]),\n",
       "  '% Change Mean accuracy:': array([-1590.02, -1590.02]),\n",
       "  '% Change Median accuracy:': array([-726.08, -726.08]),\n",
       "  '% Forecasted Points adjusted downward:': 50.61,\n",
       "  '% Forecasted Points adjusted upward:': 49.39,\n",
       "  '% Series with improved accuracy:': array([6.71, 6.71]),\n",
       "  '% Series with reduced accuracy:': array([93.29, 93.29]),\n",
       "  'Original Mean Absolute Error Upward Adjusted:': 2.92,\n",
       "  'Original Mean Absolute Error Downward Adjusted:': 1.46,\n",
       "  'Protected Mean Absolute Error Upward Adjusted:': 67.9,\n",
       "  'Protected Mean Absolute Error Downward Adjusted:': 6.4399999999999995},\n",
       " 'h=20, 2 stan. devs': {'Mean Accuracies': array([4.45, 5.43]),\n",
       "  'Protected Mean Accuracies:': array([31.44, 32.01]),\n",
       "  '% Change Mean accuracy:': array([-606.73, -489.37]),\n",
       "  '% Change Median accuracy:': array([-143.83, -124.53]),\n",
       "  '% Forecasted Points adjusted downward:': 50.61,\n",
       "  '% Forecasted Points adjusted upward:': 49.39,\n",
       "  '% Series with improved accuracy:': array([15.24, 14.02]),\n",
       "  '% Series with reduced accuracy:': array([84.15, 85.98]),\n",
       "  'Original Mean Absolute Error Upward Adjusted:': 5.65,\n",
       "  'Original Mean Absolute Error Downward Adjusted:': 3.2800000000000002,\n",
       "  'Protected Mean Absolute Error Upward Adjusted:': 56.26,\n",
       "  'Protected Mean Absolute Error Downward Adjusted:': 7.22}}"
      ]
     },
     "execution_count": 14,
     "metadata": {},
     "output_type": "execute_result"
    }
   ],
   "source": [
    "results_dict_ses"
   ]
  },
  {
   "cell_type": "markdown",
   "id": "92ee4971",
   "metadata": {},
   "source": [
    "***\n",
    "***"
   ]
  },
  {
   "cell_type": "markdown",
   "id": "fd8a115f",
   "metadata": {},
   "source": [
    "## DES"
   ]
  },
  {
   "cell_type": "code",
   "execution_count": 15,
   "id": "56fd1478",
   "metadata": {},
   "outputs": [],
   "source": [
    "# define forecasting model\n",
    "# perform additive deseasonalization conditional on autocorrelation test for seasonality\n",
    "\n",
    "forecaster = TransformedTargetForecaster(\n",
    "    [\n",
    "        #(\"deseasonalize\", ConditionalDeseasonalizer(model=\"additive\", sp=52)),\n",
    "        (\"forecast\", ExponentialSmoothing(trend=\"additive\", use_boxcox=False)),\n",
    "    ]\n",
    ")"
   ]
  },
  {
   "cell_type": "code",
   "execution_count": 16,
   "id": "d53855fb",
   "metadata": {},
   "outputs": [],
   "source": [
    "results_dict_des = {}\n",
    "fcasts_des = {}\n",
    "fcasts_protected_des = {}\n",
    "tests = {}\n",
    "num_stdevs = [1, 2]\n",
    "horizons = [1, 20]"
   ]
  },
  {
   "cell_type": "code",
   "execution_count": 17,
   "id": "679e3752",
   "metadata": {},
   "outputs": [],
   "source": [
    "for n in num_stdevs:\n",
    "    for h in horizons:\n",
    "        idx = \"h=\"+str(h)+\", \"+str(n)+\" stan. devs\"\n",
    "        results_dict_des[idx], tests[idx], fcasts_des[idx], fcasts_protected_des[idx] = full_coding_analysis(time_series_data=Y, \n",
    "                                                                                                             forecasting_model=forecaster, \n",
    "                                                                                                             forecast_horizon=h,\n",
    "                                                                                                             num_stdev=n)"
   ]
  },
  {
   "cell_type": "code",
   "execution_count": 18,
   "id": "3dfc1a39",
   "metadata": {},
   "outputs": [
    {
     "data": {
      "text/plain": [
       "{'h=1, 1 stan. devs': {'Mean Accuracies': array([2.1, 2.1]),\n",
       "  'Protected Mean Accuracies:': array([11.34, 11.34]),\n",
       "  '% Change Mean accuracy:': array([-441.05, -441.05]),\n",
       "  '% Change Median accuracy:': array([-158.21, -158.21]),\n",
       "  '% Forecasted Points adjusted downward:': 50.61,\n",
       "  '% Forecasted Points adjusted upward:': 49.39,\n",
       "  '% Series with improved accuracy:': array([21.95, 21.95]),\n",
       "  '% Series with reduced accuracy:': array([78.05, 78.05]),\n",
       "  'Original Mean Absolute Error Upward Adjusted:': 2.34,\n",
       "  'Original Mean Absolute Error Downward Adjusted:': 1.8599999999999999,\n",
       "  'Protected Mean Absolute Error Upward Adjusted:': 18.63,\n",
       "  'Protected Mean Absolute Error Downward Adjusted:': 4.2299999999999995},\n",
       " 'h=20, 1 stan. devs': {'Mean Accuracies': array([4.28, 5.24]),\n",
       "  'Protected Mean Accuracies:': array([12.12, 12.88]),\n",
       "  '% Change Mean accuracy:': array([-182.93, -145.85]),\n",
       "  '% Change Median accuracy:': array([-70.47, -58.62]),\n",
       "  '% Forecasted Points adjusted downward:': 54.449999999999996,\n",
       "  '% Forecasted Points adjusted upward:': 45.550000000000004,\n",
       "  '% Series with improved accuracy:': array([28.66, 29.27]),\n",
       "  '% Series with reduced accuracy:': array([71.34, 70.73]),\n",
       "  'Original Mean Absolute Error Upward Adjusted:': 4.96,\n",
       "  'Original Mean Absolute Error Downward Adjusted:': 3.7199999999999998,\n",
       "  'Protected Mean Absolute Error Upward Adjusted:': 18.84,\n",
       "  'Protected Mean Absolute Error Downward Adjusted:': 6.5},\n",
       " 'h=1, 2 stan. devs': {'Mean Accuracies': array([2.1, 2.1]),\n",
       "  'Protected Mean Accuracies:': array([34.05, 34.05]),\n",
       "  '% Change Mean accuracy:': array([-1523.93, -1523.93]),\n",
       "  '% Change Median accuracy:': array([-394.04, -394.04]),\n",
       "  '% Forecasted Points adjusted downward:': 45.12,\n",
       "  '% Forecasted Points adjusted upward:': 54.879999999999995,\n",
       "  '% Series with improved accuracy:': array([9.15, 9.15]),\n",
       "  '% Series with reduced accuracy:': array([90.85, 90.85]),\n",
       "  'Original Mean Absolute Error Upward Adjusted:': 2.54,\n",
       "  'Original Mean Absolute Error Downward Adjusted:': 1.5599999999999998,\n",
       "  'Protected Mean Absolute Error Upward Adjusted:': 57.64,\n",
       "  'Protected Mean Absolute Error Downward Adjusted:': 5.35},\n",
       " 'h=20, 2 stan. devs': {'Mean Accuracies': array([4.28, 5.24]),\n",
       "  'Protected Mean Accuracies:': array([30.27, 30.82]),\n",
       "  '% Change Mean accuracy:': array([-606.59, -488.37]),\n",
       "  '% Change Median accuracy:': array([-158.54, -126.19]),\n",
       "  '% Forecasted Points adjusted downward:': 46.31,\n",
       "  '% Forecasted Points adjusted upward:': 53.690000000000005,\n",
       "  '% Series with improved accuracy:': array([14.63, 14.63]),\n",
       "  '% Series with reduced accuracy:': array([85.37, 85.37]),\n",
       "  'Original Mean Absolute Error Upward Adjusted:': 4.77,\n",
       "  'Original Mean Absolute Error Downward Adjusted:': 3.7199999999999998,\n",
       "  'Protected Mean Absolute Error Upward Adjusted:': 49.35,\n",
       "  'Protected Mean Absolute Error Downward Adjusted:': 8.15}}"
      ]
     },
     "execution_count": 18,
     "metadata": {},
     "output_type": "execute_result"
    }
   ],
   "source": [
    "results_dict_des"
   ]
  },
  {
   "cell_type": "markdown",
   "id": "16949b2b",
   "metadata": {},
   "source": [
    "***\n",
    "***"
   ]
  },
  {
   "cell_type": "markdown",
   "id": "a96331bb",
   "metadata": {},
   "source": [
    "## TES"
   ]
  },
  {
   "cell_type": "code",
   "execution_count": 19,
   "id": "d2c4a618",
   "metadata": {},
   "outputs": [],
   "source": [
    "# define forecasting model\n",
    "# perform additive deseasonalization conditional on autocorrelation test for seasonality\n",
    "\n",
    "forecaster = TransformedTargetForecaster(\n",
    "    [\n",
    "        (\"forecast\", ExponentialSmoothing(trend=\"additive\",\n",
    "                                          seasonal=\"additive\",\n",
    "                                          sp=52,\n",
    "                                          damped_trend=False, \n",
    "                                          use_boxcox=False)),\n",
    "    ]\n",
    ")"
   ]
  },
  {
   "cell_type": "code",
   "execution_count": 20,
   "id": "9e0b4da5",
   "metadata": {},
   "outputs": [],
   "source": [
    "results_dict_tes = {}\n",
    "fcasts_tes = {}\n",
    "fcasts_protected_tes = {}\n",
    "tests = {}\n",
    "num_stdevs = [1, 2]\n",
    "horizons = [1, 20]"
   ]
  },
  {
   "cell_type": "code",
   "execution_count": 21,
   "id": "a64ae5c2",
   "metadata": {},
   "outputs": [],
   "source": [
    "for n in num_stdevs:\n",
    "    for h in horizons:\n",
    "        idx = \"h=\"+str(h)+\", \"+str(n)+\" stan. devs\"\n",
    "        results_dict_tes[idx], tests[idx], fcasts_tes[idx], fcasts_protected_tes[idx] = full_coding_analysis(time_series_data=Y, \n",
    "                                                                                                             forecasting_model=forecaster, \n",
    "                                                                                                             forecast_horizon=h,\n",
    "                                                                                                             num_stdev=n)"
   ]
  },
  {
   "cell_type": "code",
   "execution_count": 22,
   "id": "c9210f04",
   "metadata": {},
   "outputs": [
    {
     "data": {
      "text/plain": [
       "{'h=1, 1 stan. devs': {'Mean Accuracies': array([2.44, 2.44]),\n",
       "  'Protected Mean Accuracies:': array([14.49, 14.49]),\n",
       "  '% Change Mean accuracy:': array([-493.41, -493.41]),\n",
       "  '% Change Median accuracy:': array([-400.52, -400.52]),\n",
       "  '% Forecasted Points adjusted downward:': 42.68,\n",
       "  '% Forecasted Points adjusted upward:': 57.32000000000001,\n",
       "  '% Series with improved accuracy:': array([20.73, 20.73]),\n",
       "  '% Series with reduced accuracy:': array([79.27, 79.27]),\n",
       "  'Original Mean Absolute Error Upward Adjusted:': 3.15,\n",
       "  'Original Mean Absolute Error Downward Adjusted:': 1.49,\n",
       "  'Protected Mean Absolute Error Upward Adjusted:': 18.77,\n",
       "  'Protected Mean Absolute Error Downward Adjusted:': 8.74},\n",
       " 'h=20, 1 stan. devs': {'Mean Accuracies': array([4.75, 5.74]),\n",
       "  'Protected Mean Accuracies:': array([14.08, 15.95]),\n",
       "  '% Change Mean accuracy:': array([-196.55, -177.75]),\n",
       "  '% Change Median accuracy:': array([-106.06, -114.1 ]),\n",
       "  '% Forecasted Points adjusted downward:': 48.809999999999995,\n",
       "  '% Forecasted Points adjusted upward:': 51.190000000000005,\n",
       "  '% Series with improved accuracy:': array([4.27, 3.66]),\n",
       "  '% Series with reduced accuracy:': array([95.73, 96.34]),\n",
       "  'Original Mean Absolute Error Upward Adjusted:': 5.220000000000001,\n",
       "  'Original Mean Absolute Error Downward Adjusted:': 4.25,\n",
       "  'Protected Mean Absolute Error Upward Adjusted:': 18.68,\n",
       "  'Protected Mean Absolute Error Downward Adjusted:': 9.25},\n",
       " 'h=1, 2 stan. devs': {'Mean Accuracies': array([2.44, 2.44]),\n",
       "  'Protected Mean Accuracies:': array([36.23, 36.23]),\n",
       "  '% Change Mean accuracy:': array([-1383.55, -1383.55]),\n",
       "  '% Change Median accuracy:': array([-1184.95, -1184.95]),\n",
       "  '% Forecasted Points adjusted downward:': 35.370000000000005,\n",
       "  '% Forecasted Points adjusted upward:': 64.63,\n",
       "  '% Series with improved accuracy:': array([7.32, 7.32]),\n",
       "  '% Series with reduced accuracy:': array([92.68, 92.68]),\n",
       "  'Original Mean Absolute Error Upward Adjusted:': 2.8899999999999997,\n",
       "  'Original Mean Absolute Error Downward Adjusted:': 1.6199999999999999,\n",
       "  'Protected Mean Absolute Error Upward Adjusted:': 50.27,\n",
       "  'Protected Mean Absolute Error Downward Adjusted:': 10.56},\n",
       " 'h=20, 2 stan. devs': {'Mean Accuracies': array([4.75, 5.74]),\n",
       "  'Protected Mean Accuracies:': array([34.67, 36.88]),\n",
       "  '% Change Mean accuracy:': array([-630.25, -542.06]),\n",
       "  '% Change Median accuracy:': array([-286.09, -283.71]),\n",
       "  '% Forecasted Points adjusted downward:': 37.87,\n",
       "  '% Forecasted Points adjusted upward:': 62.129999999999995,\n",
       "  '% Series with improved accuracy:': array([1.22, 1.22]),\n",
       "  '% Series with reduced accuracy:': array([98.78, 98.78]),\n",
       "  'Original Mean Absolute Error Upward Adjusted:': 5.42,\n",
       "  'Original Mean Absolute Error Downward Adjusted:': 3.64,\n",
       "  'Protected Mean Absolute Error Upward Adjusted:': 47.79,\n",
       "  'Protected Mean Absolute Error Downward Adjusted:': 13.13}}"
      ]
     },
     "execution_count": 22,
     "metadata": {},
     "output_type": "execute_result"
    }
   ],
   "source": [
    "results_dict_tes"
   ]
  }
 ],
 "metadata": {
  "kernelspec": {
   "display_name": "Python 3 (ipykernel)",
   "language": "python",
   "name": "python3"
  },
  "language_info": {
   "codemirror_mode": {
    "name": "ipython",
    "version": 3
   },
   "file_extension": ".py",
   "mimetype": "text/x-python",
   "name": "python",
   "nbconvert_exporter": "python",
   "pygments_lexer": "ipython3",
   "version": "3.9.7"
  }
 },
 "nbformat": 4,
 "nbformat_minor": 5
}
