{
 "cells": [
  {
   "cell_type": "markdown",
   "id": "bb4dbcc1",
   "metadata": {},
   "source": [
    "## Code for Implementing Univariate LGBM with Cross Validation"
   ]
  },
  {
   "cell_type": "markdown",
   "id": "5311ccf5",
   "metadata": {},
   "source": [
    "***"
   ]
  },
  {
   "cell_type": "code",
   "execution_count": 1,
   "id": "3a827375",
   "metadata": {},
   "outputs": [],
   "source": [
    "from sktime.forecasting.compose import make_reduction\n",
    "from sktime.performance_metrics.forecasting import mean_absolute_error, MeanAbsoluteError\n",
    "from sktime.forecasting.model_selection import ForecastingGridSearchCV, ExpandingWindowSplitter\n",
    "from sktime.forecasting.compose import TransformedTargetForecaster\n",
    "\n",
    "import lightgbm\n",
    "import numpy as np\n",
    "import pandas as pd\n",
    "\n",
    "from data_protection_functions import *\n",
    "from data_processing_functions import *\n",
    "from forecasting_functions import *"
   ]
  },
  {
   "cell_type": "markdown",
   "id": "ee62b4bb",
   "metadata": {},
   "source": [
    "***"
   ]
  },
  {
   "cell_type": "markdown",
   "id": "614ba745",
   "metadata": {},
   "source": [
    "### Import Data and Create Train/Test"
   ]
  },
  {
   "cell_type": "code",
   "execution_count": 2,
   "id": "13a58710",
   "metadata": {},
   "outputs": [],
   "source": [
    "# import weekly finance time series\n",
    "# ignore header and skip the first row to use integers as column names\n",
    "full_data = pd.read_csv(\"../../Data/Train/Clean/full_m3_monthly_micro_clean.csv\", header=None, skiprows=1)"
   ]
  },
  {
   "cell_type": "code",
   "execution_count": 3,
   "id": "a547eacc",
   "metadata": {},
   "outputs": [],
   "source": [
    "# convert to a list of series, potentially with different lengths\n",
    "full_data = [x.dropna() for _, x in full_data.iterrows()]"
   ]
  },
  {
   "cell_type": "code",
   "execution_count": 4,
   "id": "9578dac0",
   "metadata": {},
   "outputs": [],
   "source": [
    "# forecast horizon\n",
    "h = 1"
   ]
  },
  {
   "cell_type": "code",
   "execution_count": 5,
   "id": "3ccf8d31",
   "metadata": {},
   "outputs": [],
   "source": [
    "Y = [x.iloc[:-h] for x in full_data]\n",
    "Test = [x.iloc[-h:] for x in full_data]"
   ]
  },
  {
   "cell_type": "markdown",
   "id": "2ade4975",
   "metadata": {},
   "source": [
    "***"
   ]
  },
  {
   "cell_type": "markdown",
   "id": "75e36cfd",
   "metadata": {},
   "source": [
    "### Apply Data Protection to Generate Protected Dataset"
   ]
  },
  {
   "cell_type": "code",
   "execution_count": 6,
   "id": "553bd64b",
   "metadata": {},
   "outputs": [],
   "source": [
    "protection_method = \"Top_10\"\n",
    "Y_protected = apply_data_protection(Y, coding_type=\"Top\", coding_percentage=0.10)"
   ]
  },
  {
   "cell_type": "markdown",
   "id": "28345c74",
   "metadata": {},
   "source": [
    "***"
   ]
  },
  {
   "cell_type": "markdown",
   "id": "80db88de",
   "metadata": {},
   "source": [
    "### Pre-Process the Data"
   ]
  },
  {
   "cell_type": "code",
   "execution_count": 7,
   "id": "e72c2af5",
   "metadata": {},
   "outputs": [],
   "source": [
    "Y_processed, Y_last_window, Y_last_window_trend = pre_process(ts_data=Y, \n",
    "                                                              log=True)\n",
    "Y_protected_processed, Y_protected_last_window, Y_protected_last_window_trend = pre_process(ts_data=Y_protected, \n",
    "                                                                                            log=True)"
   ]
  },
  {
   "cell_type": "markdown",
   "id": "fd51555e",
   "metadata": {},
   "source": [
    "***"
   ]
  },
  {
   "cell_type": "markdown",
   "id": "3c03f359",
   "metadata": {},
   "source": [
    "### Train Models and Generate Forecasts"
   ]
  },
  {
   "cell_type": "code",
   "execution_count": 8,
   "id": "7cfb822e",
   "metadata": {},
   "outputs": [],
   "source": [
    "param_grid = {\"window_length\": [16, 28, 40]}"
   ]
  },
  {
   "cell_type": "code",
   "execution_count": 9,
   "id": "b73e422d",
   "metadata": {},
   "outputs": [],
   "source": [
    "forecasts_original = train_and_forecast(ts_data=Y_processed,\n",
    "                                        horizon_length=h,\n",
    "                                        forecasting_model=\"Univariate_LGBM\",\n",
    "                                        protection_method=protection_method,\n",
    "                                        last_window=Y_last_window,\n",
    "                                        param_grid=param_grid)\n",
    "\n",
    "forecasts_protected = train_and_forecast(ts_data=Y_protected_processed,\n",
    "                                         horizon_length=h,\n",
    "                                         forecasting_model=\"Univariate_LGBM\",\n",
    "                                         protection_method=protection_method,\n",
    "                                         last_window=Y_protected_last_window,\n",
    "                                         param_grid=param_grid)"
   ]
  },
  {
   "cell_type": "markdown",
   "id": "9aa44ed3",
   "metadata": {},
   "source": [
    "***"
   ]
  },
  {
   "cell_type": "markdown",
   "id": "fb7efece",
   "metadata": {},
   "source": [
    "### Post-Process the Forecasts"
   ]
  },
  {
   "cell_type": "code",
   "execution_count": 10,
   "id": "e8c80fdc",
   "metadata": {},
   "outputs": [],
   "source": [
    "forecasts_original = post_process(full_ts_data=Y, \n",
    "                                  forecasts=forecasts_original,\n",
    "                                  log=True)\n",
    "\n",
    "forecasts_protected = post_process(full_ts_data=Y_protected, \n",
    "                                   forecasts=forecasts_protected,\n",
    "                                   log=True)"
   ]
  },
  {
   "cell_type": "markdown",
   "id": "9901afcd",
   "metadata": {},
   "source": [
    "***"
   ]
  },
  {
   "cell_type": "markdown",
   "id": "669d51a6",
   "metadata": {},
   "source": [
    "### Assess Forecast Accuracy"
   ]
  },
  {
   "cell_type": "code",
   "execution_count": 11,
   "id": "f523d946",
   "metadata": {},
   "outputs": [
    {
     "data": {
      "text/html": [
       "<div>\n",
       "<style scoped>\n",
       "    .dataframe tbody tr th:only-of-type {\n",
       "        vertical-align: middle;\n",
       "    }\n",
       "\n",
       "    .dataframe tbody tr th {\n",
       "        vertical-align: top;\n",
       "    }\n",
       "\n",
       "    .dataframe thead th {\n",
       "        text-align: right;\n",
       "    }\n",
       "</style>\n",
       "<table border=\"1\" class=\"dataframe\">\n",
       "  <thead>\n",
       "    <tr style=\"text-align: right;\">\n",
       "      <th></th>\n",
       "      <th>0</th>\n",
       "      <th>1</th>\n",
       "      <th>2</th>\n",
       "      <th>3</th>\n",
       "      <th>4</th>\n",
       "      <th>5</th>\n",
       "      <th>6</th>\n",
       "      <th>7</th>\n",
       "      <th>8</th>\n",
       "      <th>9</th>\n",
       "      <th>...</th>\n",
       "      <th>464</th>\n",
       "      <th>465</th>\n",
       "      <th>466</th>\n",
       "      <th>467</th>\n",
       "      <th>468</th>\n",
       "      <th>469</th>\n",
       "      <th>470</th>\n",
       "      <th>471</th>\n",
       "      <th>472</th>\n",
       "      <th>473</th>\n",
       "    </tr>\n",
       "  </thead>\n",
       "  <tbody>\n",
       "    <tr>\n",
       "      <th>0</th>\n",
       "      <td>1929.391112</td>\n",
       "      <td>1120.363435</td>\n",
       "      <td>5203.647953</td>\n",
       "      <td>5702.945278</td>\n",
       "      <td>8273.85006</td>\n",
       "      <td>2021.335154</td>\n",
       "      <td>3578.735699</td>\n",
       "      <td>2715.743664</td>\n",
       "      <td>2887.422083</td>\n",
       "      <td>4146.966092</td>\n",
       "      <td>...</td>\n",
       "      <td>2700.014411</td>\n",
       "      <td>5040.123499</td>\n",
       "      <td>5588.182442</td>\n",
       "      <td>7588.825751</td>\n",
       "      <td>4913.260231</td>\n",
       "      <td>8327.800188</td>\n",
       "      <td>5269.137583</td>\n",
       "      <td>4234.61247</td>\n",
       "      <td>8263.804043</td>\n",
       "      <td>2696.70368</td>\n",
       "    </tr>\n",
       "  </tbody>\n",
       "</table>\n",
       "<p>1 rows × 474 columns</p>\n",
       "</div>"
      ],
      "text/plain": [
       "           0            1            2            3           4    \\\n",
       "0  1929.391112  1120.363435  5203.647953  5702.945278  8273.85006   \n",
       "\n",
       "           5            6            7            8            9    ...  \\\n",
       "0  2021.335154  3578.735699  2715.743664  2887.422083  4146.966092  ...   \n",
       "\n",
       "           464          465          466          467          468  \\\n",
       "0  2700.014411  5040.123499  5588.182442  7588.825751  4913.260231   \n",
       "\n",
       "           469          470         471          472         473  \n",
       "0  8327.800188  5269.137583  4234.61247  8263.804043  2696.70368  \n",
       "\n",
       "[1 rows x 474 columns]"
      ]
     },
     "execution_count": 11,
     "metadata": {},
     "output_type": "execute_result"
    }
   ],
   "source": [
    "forecasts_original"
   ]
  },
  {
   "cell_type": "code",
   "execution_count": 12,
   "id": "ae841e74",
   "metadata": {},
   "outputs": [
    {
     "data": {
      "text/html": [
       "<div>\n",
       "<style scoped>\n",
       "    .dataframe tbody tr th:only-of-type {\n",
       "        vertical-align: middle;\n",
       "    }\n",
       "\n",
       "    .dataframe tbody tr th {\n",
       "        vertical-align: top;\n",
       "    }\n",
       "\n",
       "    .dataframe thead th {\n",
       "        text-align: right;\n",
       "    }\n",
       "</style>\n",
       "<table border=\"1\" class=\"dataframe\">\n",
       "  <thead>\n",
       "    <tr style=\"text-align: right;\">\n",
       "      <th></th>\n",
       "      <th>0</th>\n",
       "      <th>1</th>\n",
       "      <th>2</th>\n",
       "      <th>3</th>\n",
       "      <th>4</th>\n",
       "      <th>5</th>\n",
       "      <th>6</th>\n",
       "      <th>7</th>\n",
       "      <th>8</th>\n",
       "      <th>9</th>\n",
       "      <th>...</th>\n",
       "      <th>464</th>\n",
       "      <th>465</th>\n",
       "      <th>466</th>\n",
       "      <th>467</th>\n",
       "      <th>468</th>\n",
       "      <th>469</th>\n",
       "      <th>470</th>\n",
       "      <th>471</th>\n",
       "      <th>472</th>\n",
       "      <th>473</th>\n",
       "    </tr>\n",
       "  </thead>\n",
       "  <tbody>\n",
       "    <tr>\n",
       "      <th>0</th>\n",
       "      <td>1929.391112</td>\n",
       "      <td>1079.612389</td>\n",
       "      <td>5033.494035</td>\n",
       "      <td>5487.328837</td>\n",
       "      <td>8201.62018</td>\n",
       "      <td>1957.831879</td>\n",
       "      <td>3464.506134</td>\n",
       "      <td>2604.863038</td>\n",
       "      <td>2862.842187</td>\n",
       "      <td>4119.552128</td>\n",
       "      <td>...</td>\n",
       "      <td>2667.021008</td>\n",
       "      <td>4693.228933</td>\n",
       "      <td>5436.169227</td>\n",
       "      <td>7600.619858</td>\n",
       "      <td>4921.280058</td>\n",
       "      <td>8032.924633</td>\n",
       "      <td>5267.3539</td>\n",
       "      <td>4317.476917</td>\n",
       "      <td>8265.535047</td>\n",
       "      <td>2737.599791</td>\n",
       "    </tr>\n",
       "  </tbody>\n",
       "</table>\n",
       "<p>1 rows × 474 columns</p>\n",
       "</div>"
      ],
      "text/plain": [
       "           0            1            2            3           4    \\\n",
       "0  1929.391112  1079.612389  5033.494035  5487.328837  8201.62018   \n",
       "\n",
       "           5            6            7            8            9    ...  \\\n",
       "0  1957.831879  3464.506134  2604.863038  2862.842187  4119.552128  ...   \n",
       "\n",
       "           464          465          466          467          468  \\\n",
       "0  2667.021008  4693.228933  5436.169227  7600.619858  4921.280058   \n",
       "\n",
       "           469        470          471          472          473  \n",
       "0  8032.924633  5267.3539  4317.476917  8265.535047  2737.599791  \n",
       "\n",
       "[1 rows x 474 columns]"
      ]
     },
     "execution_count": 12,
     "metadata": {},
     "output_type": "execute_result"
    }
   ],
   "source": [
    "forecasts_protected"
   ]
  },
  {
   "cell_type": "code",
   "execution_count": 13,
   "id": "e801ada1",
   "metadata": {},
   "outputs": [],
   "source": [
    "Test = pd.DataFrame([x.reset_index(drop=True) for x in Test]).T"
   ]
  },
  {
   "cell_type": "code",
   "execution_count": 14,
   "id": "e0c34bda",
   "metadata": {},
   "outputs": [
    {
     "data": {
      "text/plain": [
       "{'Global MAPE': 0.2502,\n",
       " 'Global Protected MAPE': 0.2513,\n",
       " 'Global MAE': 705.2435,\n",
       " 'Global Protected MAE': 717.667,\n",
       " 'Global MdAE': 705.2435,\n",
       " 'Global Protected MdAE': 717.667,\n",
       " 'Original MAE Up': 476.7975,\n",
       " 'Protected MAE Up': 460.9732,\n",
       " 'Original MAE Down': 807.7581,\n",
       " 'Protected MAE Down': 835.1603,\n",
       " 'Original MdAE Up': 318.2963,\n",
       " 'Protected MdAE Up': 312.2579,\n",
       " 'Original MdAE Down': 477.8498,\n",
       " 'Protected MdAE Down': 487.6453}"
      ]
     },
     "execution_count": 14,
     "metadata": {},
     "output_type": "execute_result"
    }
   ],
   "source": [
    "forecast_results(test_data=Test, original_forecasts=forecasts_original, protected_forecasts=forecasts_protected)"
   ]
  },
  {
   "cell_type": "markdown",
   "id": "c1bd06e0",
   "metadata": {},
   "source": [
    "***"
   ]
  },
  {
   "cell_type": "markdown",
   "id": "b2891011",
   "metadata": {},
   "source": [
    "### All in One Function"
   ]
  },
  {
   "cell_type": "code",
   "execution_count": 2,
   "id": "cc33835a",
   "metadata": {},
   "outputs": [],
   "source": [
    "# import weekly finance time series\n",
    "# ignore header and skip the first row to use integers as column names\n",
    "full_data = pd.read_csv(\"../../Data/Train/Clean/full_m3_monthly_micro_clean.csv\", header=None, skiprows=1)"
   ]
  },
  {
   "cell_type": "code",
   "execution_count": 3,
   "id": "ea53419c",
   "metadata": {},
   "outputs": [],
   "source": [
    "# convert to a list of series, potentially with different lengths\n",
    "full_data = [x.dropna() for _, x in full_data.iterrows()]"
   ]
  },
  {
   "cell_type": "code",
   "execution_count": 4,
   "id": "6b8a8ae7",
   "metadata": {},
   "outputs": [],
   "source": [
    "# forecast horizon\n",
    "h = 1"
   ]
  },
  {
   "cell_type": "code",
   "execution_count": 5,
   "id": "090484a3",
   "metadata": {},
   "outputs": [],
   "source": [
    "Y = [x.iloc[:-h] for x in full_data]\n",
    "Test = [x.iloc[-h:] for x in full_data]"
   ]
  },
  {
   "cell_type": "code",
   "execution_count": 6,
   "id": "d3d84ab4",
   "metadata": {},
   "outputs": [],
   "source": [
    "protection_method = \"Top_10\"\n",
    "Y_protected = apply_data_protection(Y, coding_type=\"Top\", coding_percentage=0.10)"
   ]
  },
  {
   "cell_type": "code",
   "execution_count": 7,
   "id": "d3e51906",
   "metadata": {},
   "outputs": [],
   "source": [
    "param_grid = {\"window_length\": [16, 28, 40]}"
   ]
  },
  {
   "cell_type": "code",
   "execution_count": 8,
   "id": "200330c0",
   "metadata": {},
   "outputs": [
    {
     "data": {
      "text/plain": [
       "{'Global MAPE': 0.2502,\n",
       " 'Global Protected MAPE': 0.2513,\n",
       " 'Global MAE': 705.2435,\n",
       " 'Global Protected MAE': 717.667,\n",
       " 'Global MdAE': 705.2435,\n",
       " 'Global Protected MdAE': 717.667,\n",
       " 'Original MAE Up': 476.7975,\n",
       " 'Protected MAE Up': 460.9732,\n",
       " 'Original MAE Down': 807.7581,\n",
       " 'Protected MAE Down': 835.1603,\n",
       " 'Original MdAE Up': 318.2963,\n",
       " 'Protected MdAE Up': 312.2579,\n",
       " 'Original MdAE Down': 477.8498,\n",
       " 'Protected MdAE Down': 487.6453}"
      ]
     },
     "execution_count": 8,
     "metadata": {},
     "output_type": "execute_result"
    }
   ],
   "source": [
    "full_forecast_analysis(Y=Y,\n",
    "                       Y_protected=Y_protected,\n",
    "                       Test=Test,\n",
    "                       h=1,\n",
    "                       protection_method=protection_method,\n",
    "                       forecasting_model=\"Univariate_LGBM\",\n",
    "                       log=True,\n",
    "                       param_grid=param_grid)"
   ]
  },
  {
   "cell_type": "code",
   "execution_count": null,
   "id": "6fd2d855",
   "metadata": {},
   "outputs": [],
   "source": []
  }
 ],
 "metadata": {
  "kernelspec": {
   "display_name": "Python 3 (ipykernel)",
   "language": "python",
   "name": "python3"
  },
  "language_info": {
   "codemirror_mode": {
    "name": "ipython",
    "version": 3
   },
   "file_extension": ".py",
   "mimetype": "text/x-python",
   "name": "python",
   "nbconvert_exporter": "python",
   "pygments_lexer": "ipython3",
   "version": "3.9.7"
  }
 },
 "nbformat": 4,
 "nbformat_minor": 5
}
