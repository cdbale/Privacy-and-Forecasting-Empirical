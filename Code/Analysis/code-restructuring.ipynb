{
 "cells": [
  {
   "cell_type": "markdown",
   "id": "512776c6",
   "metadata": {},
   "source": [
    "## Restructure Data Analysis Framework"
   ]
  },
  {
   "cell_type": "markdown",
   "id": "b80094d6",
   "metadata": {},
   "source": [
    "***"
   ]
  },
  {
   "cell_type": "code",
   "execution_count": 1,
   "id": "42d516ab",
   "metadata": {},
   "outputs": [],
   "source": [
    "import pandas as pd\n",
    "import numpy as np\n",
    "\n",
    "from data_protection_functions import *\n",
    "from pre_processing_functions import *\n",
    "\n",
    "# nice time series plots\n",
    "from sktime.utils.plotting import plot_series"
   ]
  },
  {
   "cell_type": "markdown",
   "id": "1342d5eb",
   "metadata": {},
   "source": [
    "### Step 1: Import Time Series Data"
   ]
  },
  {
   "cell_type": "code",
   "execution_count": 2,
   "id": "97decc7e",
   "metadata": {},
   "outputs": [],
   "source": [
    "# import weekly finance time series\n",
    "# ignore header and skip the first row to use integers as column names\n",
    "Y = pd.read_csv(\"../../Data/Train/Clean/weekly_finance_clean.csv\", header=None, skiprows=1)"
   ]
  },
  {
   "cell_type": "markdown",
   "id": "a32eb59a",
   "metadata": {},
   "source": [
    "***"
   ]
  },
  {
   "cell_type": "markdown",
   "id": "07bb5eeb",
   "metadata": {},
   "source": [
    "### Step 2: Apply Data Protection to Generate Protected Series"
   ]
  },
  {
   "cell_type": "markdown",
   "id": "072e3186",
   "metadata": {},
   "source": [
    "At the end of this step, we will have two time series datasets:\n",
    "\n",
    "* Confidential (original) dataset\n",
    "* Protected dataset"
   ]
  },
  {
   "cell_type": "code",
   "execution_count": 3,
   "id": "802c7c93",
   "metadata": {},
   "outputs": [],
   "source": [
    "Y_protected = apply_data_protection(Y, epsilon=4.6)"
   ]
  },
  {
   "cell_type": "markdown",
   "id": "0f7542dc",
   "metadata": {},
   "source": [
    "***"
   ]
  },
  {
   "cell_type": "markdown",
   "id": "9ad96a70",
   "metadata": {},
   "source": [
    "### Step 3: Pre-process the Confidential and Sensitive Datasets"
   ]
  },
  {
   "cell_type": "code",
   "execution_count": null,
   "id": "4e253ed5",
   "metadata": {},
   "outputs": [],
   "source": [
    "# implemented multiplicative conditional de-seasonalization\n",
    "# pick back up with additional pre-processing steps and functions"
   ]
  }
 ],
 "metadata": {
  "kernelspec": {
   "display_name": "Python 3 (ipykernel)",
   "language": "python",
   "name": "python3"
  },
  "language_info": {
   "codemirror_mode": {
    "name": "ipython",
    "version": 3
   },
   "file_extension": ".py",
   "mimetype": "text/x-python",
   "name": "python",
   "nbconvert_exporter": "python",
   "pygments_lexer": "ipython3",
   "version": "3.9.7"
  }
 },
 "nbformat": 4,
 "nbformat_minor": 5
}
