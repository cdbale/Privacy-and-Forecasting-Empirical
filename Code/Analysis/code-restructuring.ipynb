{
 "cells": [
  {
   "cell_type": "markdown",
   "id": "512776c6",
   "metadata": {},
   "source": [
    "## Restructure Data Analysis Framework"
   ]
  },
  {
   "cell_type": "markdown",
   "id": "b80094d6",
   "metadata": {},
   "source": [
    "***"
   ]
  },
  {
   "cell_type": "code",
   "execution_count": 1,
   "id": "42d516ab",
   "metadata": {},
   "outputs": [],
   "source": [
    "import pandas as pd\n",
    "import numpy as np\n",
    "\n",
    "from data_protection_functions import *\n",
    "from data_processing_functions import *\n",
    "\n",
    "# nice time series plots\n",
    "from sktime.utils.plotting import plot_series\n",
    "\n",
    "# import detrender and deseasonalizer\n",
    "from sktime.transformations.series.detrend import Detrender\n",
    "\n",
    "# import exponential smoothing forecasting model\n",
    "from sktime.forecasting.exp_smoothing import ExponentialSmoothing\n",
    "\n",
    "import sktime\n",
    "import lightgbm"
   ]
  },
  {
   "cell_type": "markdown",
   "id": "1342d5eb",
   "metadata": {},
   "source": [
    "### Step 1: Import Time Series Data"
   ]
  },
  {
   "cell_type": "code",
   "execution_count": 2,
   "id": "97decc7e",
   "metadata": {},
   "outputs": [],
   "source": [
    "# import weekly finance time series\n",
    "# ignore header and skip the first row to use integers as column names\n",
    "Full_data = pd.read_csv(\"../../Data/Train/Clean/weekly_finance_clean.csv\", header=None, skiprows=1)\n",
    "Y, Test = Full_data.iloc[:,:-20], Full_data.iloc[:,-20:]"
   ]
  },
  {
   "cell_type": "markdown",
   "id": "a32eb59a",
   "metadata": {},
   "source": [
    "***"
   ]
  },
  {
   "cell_type": "markdown",
   "id": "07bb5eeb",
   "metadata": {},
   "source": [
    "### Step 2: Apply Data Protection to Generate Protected Series"
   ]
  },
  {
   "cell_type": "markdown",
   "id": "072e3186",
   "metadata": {},
   "source": [
    "At the end of this step, we will have two time series datasets:\n",
    "\n",
    "* Confidential (original) dataset\n",
    "* Protected dataset"
   ]
  },
  {
   "cell_type": "code",
   "execution_count": 3,
   "id": "802c7c93",
   "metadata": {},
   "outputs": [],
   "source": [
    "Y_protected = apply_data_protection(Y, epsilon=4.6)"
   ]
  },
  {
   "cell_type": "markdown",
   "id": "0f7542dc",
   "metadata": {},
   "source": [
    "***"
   ]
  },
  {
   "cell_type": "markdown",
   "id": "9ad96a70",
   "metadata": {},
   "source": [
    "### Step 3: Pre-process the Confidential and Sensitive Datasets"
   ]
  },
  {
   "cell_type": "code",
   "execution_count": 4,
   "id": "532d40e2",
   "metadata": {},
   "outputs": [],
   "source": [
    "transform_dict = {\"windows\":{\"window_length\":8, \"h\":3}}\n",
    "# transform_dict = None"
   ]
  },
  {
   "cell_type": "code",
   "execution_count": 5,
   "id": "e3b0bb53",
   "metadata": {},
   "outputs": [],
   "source": [
    "X_train, last_window = reduce_train_test_global(train_data=np.array(Y), window_length=8, h=3)"
   ]
  },
  {
   "cell_type": "code",
   "execution_count": 6,
   "id": "fc4d1adb",
   "metadata": {},
   "outputs": [
    {
     "data": {
      "text/html": [
       "<div>\n",
       "<style scoped>\n",
       "    .dataframe tbody tr th:only-of-type {\n",
       "        vertical-align: middle;\n",
       "    }\n",
       "\n",
       "    .dataframe tbody tr th {\n",
       "        vertical-align: top;\n",
       "    }\n",
       "\n",
       "    .dataframe thead th {\n",
       "        text-align: right;\n",
       "    }\n",
       "</style>\n",
       "<table border=\"1\" class=\"dataframe\">\n",
       "  <thead>\n",
       "    <tr style=\"text-align: right;\">\n",
       "      <th></th>\n",
       "      <th>219</th>\n",
       "      <th>220</th>\n",
       "      <th>221</th>\n",
       "      <th>222</th>\n",
       "      <th>223</th>\n",
       "      <th>224</th>\n",
       "      <th>225</th>\n",
       "      <th>226</th>\n",
       "    </tr>\n",
       "  </thead>\n",
       "  <tbody>\n",
       "    <tr>\n",
       "      <th>0</th>\n",
       "      <td>10780.44</td>\n",
       "      <td>10742.64</td>\n",
       "      <td>10723.13</td>\n",
       "      <td>10713.97</td>\n",
       "      <td>10681.56</td>\n",
       "      <td>10686.59</td>\n",
       "      <td>10704.66</td>\n",
       "      <td>10684.96</td>\n",
       "    </tr>\n",
       "    <tr>\n",
       "      <th>1</th>\n",
       "      <td>3835.10</td>\n",
       "      <td>3715.80</td>\n",
       "      <td>3715.80</td>\n",
       "      <td>3575.10</td>\n",
       "      <td>3575.10</td>\n",
       "      <td>3449.90</td>\n",
       "      <td>3449.90</td>\n",
       "      <td>3796.60</td>\n",
       "    </tr>\n",
       "    <tr>\n",
       "      <th>2</th>\n",
       "      <td>913.30</td>\n",
       "      <td>976.00</td>\n",
       "      <td>977.70</td>\n",
       "      <td>1007.70</td>\n",
       "      <td>965.50</td>\n",
       "      <td>931.20</td>\n",
       "      <td>996.40</td>\n",
       "      <td>1054.50</td>\n",
       "    </tr>\n",
       "    <tr>\n",
       "      <th>3</th>\n",
       "      <td>913.30</td>\n",
       "      <td>976.00</td>\n",
       "      <td>977.70</td>\n",
       "      <td>1007.70</td>\n",
       "      <td>965.50</td>\n",
       "      <td>931.20</td>\n",
       "      <td>996.40</td>\n",
       "      <td>1054.50</td>\n",
       "    </tr>\n",
       "    <tr>\n",
       "      <th>4</th>\n",
       "      <td>2442.00</td>\n",
       "      <td>2392.00</td>\n",
       "      <td>2477.00</td>\n",
       "      <td>2541.00</td>\n",
       "      <td>2617.00</td>\n",
       "      <td>2577.00</td>\n",
       "      <td>2522.00</td>\n",
       "      <td>2483.00</td>\n",
       "    </tr>\n",
       "    <tr>\n",
       "      <th>...</th>\n",
       "      <td>...</td>\n",
       "      <td>...</td>\n",
       "      <td>...</td>\n",
       "      <td>...</td>\n",
       "      <td>...</td>\n",
       "      <td>...</td>\n",
       "      <td>...</td>\n",
       "      <td>...</td>\n",
       "    </tr>\n",
       "    <tr>\n",
       "      <th>159</th>\n",
       "      <td>1085.00</td>\n",
       "      <td>1078.00</td>\n",
       "      <td>1092.00</td>\n",
       "      <td>1085.00</td>\n",
       "      <td>1078.00</td>\n",
       "      <td>1092.00</td>\n",
       "      <td>1085.00</td>\n",
       "      <td>1078.00</td>\n",
       "    </tr>\n",
       "    <tr>\n",
       "      <th>160</th>\n",
       "      <td>1785.00</td>\n",
       "      <td>1778.00</td>\n",
       "      <td>1820.00</td>\n",
       "      <td>1813.00</td>\n",
       "      <td>1806.00</td>\n",
       "      <td>1799.00</td>\n",
       "      <td>1792.00</td>\n",
       "      <td>1786.00</td>\n",
       "    </tr>\n",
       "    <tr>\n",
       "      <th>161</th>\n",
       "      <td>2462.90</td>\n",
       "      <td>2468.20</td>\n",
       "      <td>2543.30</td>\n",
       "      <td>2490.50</td>\n",
       "      <td>2423.60</td>\n",
       "      <td>2533.40</td>\n",
       "      <td>2781.30</td>\n",
       "      <td>2468.50</td>\n",
       "    </tr>\n",
       "    <tr>\n",
       "      <th>162</th>\n",
       "      <td>1906.00</td>\n",
       "      <td>1690.10</td>\n",
       "      <td>1759.70</td>\n",
       "      <td>1980.20</td>\n",
       "      <td>1880.70</td>\n",
       "      <td>1734.20</td>\n",
       "      <td>1754.80</td>\n",
       "      <td>1853.50</td>\n",
       "    </tr>\n",
       "    <tr>\n",
       "      <th>163</th>\n",
       "      <td>6156.00</td>\n",
       "      <td>6463.00</td>\n",
       "      <td>6689.00</td>\n",
       "      <td>7196.00</td>\n",
       "      <td>6520.00</td>\n",
       "      <td>6367.00</td>\n",
       "      <td>6085.00</td>\n",
       "      <td>7233.00</td>\n",
       "    </tr>\n",
       "  </tbody>\n",
       "</table>\n",
       "<p>164 rows × 8 columns</p>\n",
       "</div>"
      ],
      "text/plain": [
       "          219       220       221       222       223       224       225  \\\n",
       "0    10780.44  10742.64  10723.13  10713.97  10681.56  10686.59  10704.66   \n",
       "1     3835.10   3715.80   3715.80   3575.10   3575.10   3449.90   3449.90   \n",
       "2      913.30    976.00    977.70   1007.70    965.50    931.20    996.40   \n",
       "3      913.30    976.00    977.70   1007.70    965.50    931.20    996.40   \n",
       "4     2442.00   2392.00   2477.00   2541.00   2617.00   2577.00   2522.00   \n",
       "..        ...       ...       ...       ...       ...       ...       ...   \n",
       "159   1085.00   1078.00   1092.00   1085.00   1078.00   1092.00   1085.00   \n",
       "160   1785.00   1778.00   1820.00   1813.00   1806.00   1799.00   1792.00   \n",
       "161   2462.90   2468.20   2543.30   2490.50   2423.60   2533.40   2781.30   \n",
       "162   1906.00   1690.10   1759.70   1980.20   1880.70   1734.20   1754.80   \n",
       "163   6156.00   6463.00   6689.00   7196.00   6520.00   6367.00   6085.00   \n",
       "\n",
       "          226  \n",
       "0    10684.96  \n",
       "1     3796.60  \n",
       "2     1054.50  \n",
       "3     1054.50  \n",
       "4     2483.00  \n",
       "..        ...  \n",
       "159   1078.00  \n",
       "160   1786.00  \n",
       "161   2468.50  \n",
       "162   1853.50  \n",
       "163   7233.00  \n",
       "\n",
       "[164 rows x 8 columns]"
      ]
     },
     "execution_count": 6,
     "metadata": {},
     "output_type": "execute_result"
    }
   ],
   "source": [
    "Y.iloc[:,-8:]"
   ]
  },
  {
   "cell_type": "code",
   "execution_count": 7,
   "id": "9f479e2c",
   "metadata": {},
   "outputs": [
    {
     "data": {
      "text/html": [
       "<div>\n",
       "<style scoped>\n",
       "    .dataframe tbody tr th:only-of-type {\n",
       "        vertical-align: middle;\n",
       "    }\n",
       "\n",
       "    .dataframe tbody tr th {\n",
       "        vertical-align: top;\n",
       "    }\n",
       "\n",
       "    .dataframe thead th {\n",
       "        text-align: right;\n",
       "    }\n",
       "</style>\n",
       "<table border=\"1\" class=\"dataframe\">\n",
       "  <thead>\n",
       "    <tr style=\"text-align: right;\">\n",
       "      <th></th>\n",
       "      <th>0</th>\n",
       "      <th>1</th>\n",
       "      <th>2</th>\n",
       "      <th>3</th>\n",
       "      <th>4</th>\n",
       "      <th>5</th>\n",
       "      <th>6</th>\n",
       "      <th>7</th>\n",
       "    </tr>\n",
       "  </thead>\n",
       "  <tbody>\n",
       "    <tr>\n",
       "      <th>0</th>\n",
       "      <td>2.401750e+01</td>\n",
       "      <td>-1.874286</td>\n",
       "      <td>-9.476071</td>\n",
       "      <td>-6.727857</td>\n",
       "      <td>-27.229643</td>\n",
       "      <td>-10.291429</td>\n",
       "      <td>19.686786</td>\n",
       "      <td>11.895000</td>\n",
       "    </tr>\n",
       "    <tr>\n",
       "      <th>1</th>\n",
       "      <td>9.607500e+01</td>\n",
       "      <td>5.307143</td>\n",
       "      <td>33.839286</td>\n",
       "      <td>-78.328571</td>\n",
       "      <td>-49.796429</td>\n",
       "      <td>-146.464286</td>\n",
       "      <td>-117.932143</td>\n",
       "      <td>257.300000</td>\n",
       "    </tr>\n",
       "    <tr>\n",
       "      <th>2</th>\n",
       "      <td>-2.662500e+01</td>\n",
       "      <td>25.257143</td>\n",
       "      <td>16.139286</td>\n",
       "      <td>35.321429</td>\n",
       "      <td>-17.696429</td>\n",
       "      <td>-62.814286</td>\n",
       "      <td>-8.432143</td>\n",
       "      <td>38.850000</td>\n",
       "    </tr>\n",
       "    <tr>\n",
       "      <th>3</th>\n",
       "      <td>-2.662500e+01</td>\n",
       "      <td>25.257143</td>\n",
       "      <td>16.139286</td>\n",
       "      <td>35.321429</td>\n",
       "      <td>-17.696429</td>\n",
       "      <td>-62.814286</td>\n",
       "      <td>-8.432143</td>\n",
       "      <td>38.850000</td>\n",
       "    </tr>\n",
       "    <tr>\n",
       "      <th>4</th>\n",
       "      <td>-9.666667e+00</td>\n",
       "      <td>-75.297619</td>\n",
       "      <td>-5.928571</td>\n",
       "      <td>42.440476</td>\n",
       "      <td>102.809524</td>\n",
       "      <td>47.178571</td>\n",
       "      <td>-23.452381</td>\n",
       "      <td>-78.083333</td>\n",
       "    </tr>\n",
       "    <tr>\n",
       "      <th>...</th>\n",
       "      <td>...</td>\n",
       "      <td>...</td>\n",
       "      <td>...</td>\n",
       "      <td>...</td>\n",
       "      <td>...</td>\n",
       "      <td>...</td>\n",
       "      <td>...</td>\n",
       "      <td>...</td>\n",
       "    </tr>\n",
       "    <tr>\n",
       "      <th>159</th>\n",
       "      <td>6.821210e-13</td>\n",
       "      <td>-6.750000</td>\n",
       "      <td>7.500000</td>\n",
       "      <td>0.750000</td>\n",
       "      <td>-6.000000</td>\n",
       "      <td>8.250000</td>\n",
       "      <td>1.500000</td>\n",
       "      <td>-5.250000</td>\n",
       "    </tr>\n",
       "    <tr>\n",
       "      <th>160</th>\n",
       "      <td>-1.208333e+01</td>\n",
       "      <td>-19.166667</td>\n",
       "      <td>22.750000</td>\n",
       "      <td>15.666667</td>\n",
       "      <td>8.583333</td>\n",
       "      <td>1.500000</td>\n",
       "      <td>-5.583333</td>\n",
       "      <td>-11.666667</td>\n",
       "    </tr>\n",
       "    <tr>\n",
       "      <th>161</th>\n",
       "      <td>4.275000e+00</td>\n",
       "      <td>-8.378571</td>\n",
       "      <td>48.767857</td>\n",
       "      <td>-21.985714</td>\n",
       "      <td>-106.839286</td>\n",
       "      <td>-14.992857</td>\n",
       "      <td>214.953571</td>\n",
       "      <td>-115.800000</td>\n",
       "    </tr>\n",
       "    <tr>\n",
       "      <th>162</th>\n",
       "      <td>7.693333e+01</td>\n",
       "      <td>-136.347619</td>\n",
       "      <td>-64.128571</td>\n",
       "      <td>158.990476</td>\n",
       "      <td>62.109524</td>\n",
       "      <td>-81.771429</td>\n",
       "      <td>-58.552381</td>\n",
       "      <td>42.766667</td>\n",
       "    </tr>\n",
       "    <tr>\n",
       "      <th>163</th>\n",
       "      <td>-2.656667e+02</td>\n",
       "      <td>-6.369048</td>\n",
       "      <td>171.928571</td>\n",
       "      <td>631.226190</td>\n",
       "      <td>-92.476190</td>\n",
       "      <td>-293.178571</td>\n",
       "      <td>-622.880952</td>\n",
       "      <td>477.416667</td>\n",
       "    </tr>\n",
       "  </tbody>\n",
       "</table>\n",
       "<p>164 rows × 8 columns</p>\n",
       "</div>"
      ],
      "text/plain": [
       "                0           1           2           3           4           5  \\\n",
       "0    2.401750e+01   -1.874286   -9.476071   -6.727857  -27.229643  -10.291429   \n",
       "1    9.607500e+01    5.307143   33.839286  -78.328571  -49.796429 -146.464286   \n",
       "2   -2.662500e+01   25.257143   16.139286   35.321429  -17.696429  -62.814286   \n",
       "3   -2.662500e+01   25.257143   16.139286   35.321429  -17.696429  -62.814286   \n",
       "4   -9.666667e+00  -75.297619   -5.928571   42.440476  102.809524   47.178571   \n",
       "..            ...         ...         ...         ...         ...         ...   \n",
       "159  6.821210e-13   -6.750000    7.500000    0.750000   -6.000000    8.250000   \n",
       "160 -1.208333e+01  -19.166667   22.750000   15.666667    8.583333    1.500000   \n",
       "161  4.275000e+00   -8.378571   48.767857  -21.985714 -106.839286  -14.992857   \n",
       "162  7.693333e+01 -136.347619  -64.128571  158.990476   62.109524  -81.771429   \n",
       "163 -2.656667e+02   -6.369048  171.928571  631.226190  -92.476190 -293.178571   \n",
       "\n",
       "              6           7  \n",
       "0     19.686786   11.895000  \n",
       "1   -117.932143  257.300000  \n",
       "2     -8.432143   38.850000  \n",
       "3     -8.432143   38.850000  \n",
       "4    -23.452381  -78.083333  \n",
       "..          ...         ...  \n",
       "159    1.500000   -5.250000  \n",
       "160   -5.583333  -11.666667  \n",
       "161  214.953571 -115.800000  \n",
       "162  -58.552381   42.766667  \n",
       "163 -622.880952  477.416667  \n",
       "\n",
       "[164 rows x 8 columns]"
      ]
     },
     "execution_count": 7,
     "metadata": {},
     "output_type": "execute_result"
    }
   ],
   "source": [
    "last_window"
   ]
  },
  {
   "cell_type": "code",
   "execution_count": 10,
   "id": "cc179d84",
   "metadata": {},
   "outputs": [
    {
     "data": {
      "text/plain": [
       "(<Figure size 1152x288 with 1 Axes>, <AxesSubplot:ylabel='0'>)"
      ]
     },
     "execution_count": 10,
     "metadata": {},
     "output_type": "execute_result"
    },
    {
     "data": {
      "image/png": "[encoded data removed]",
      "text/plain": [
       "<Figure size 1152x288 with 1 Axes>"
      ]
     },
     "metadata": {
      "needs_background": "light"
     },
     "output_type": "display_data"
    }
   ],
   "source": [
    "plot_series(Y.iloc[0,-8:])"
   ]
  },
  {
   "cell_type": "code",
   "execution_count": 11,
   "id": "9450ca24",
   "metadata": {},
   "outputs": [
    {
     "data": {
      "text/plain": [
       "(<Figure size 1152x288 with 1 Axes>, <AxesSubplot:ylabel='0'>)"
      ]
     },
     "execution_count": 11,
     "metadata": {},
     "output_type": "execute_result"
    },
    {
     "data": {
      "image/png": "[encoded data removed]",
      "text/plain": [
       "<Figure size 1152x288 with 1 Axes>"
      ]
     },
     "metadata": {
      "needs_background": "light"
     },
     "output_type": "display_data"
    }
   ],
   "source": [
    "plot_series(last_window.iloc[0,:])"
   ]
  },
  {
   "cell_type": "code",
   "execution_count": null,
   "id": "013c7969",
   "metadata": {},
   "outputs": [],
   "source": [
    "# just implemented detrending and last window in reduce train-test global\n",
    "# next need to implement it all in pre-processing and start train and forecasting"
   ]
  },
  {
   "cell_type": "code",
   "execution_count": null,
   "id": "a7d3bdce",
   "metadata": {},
   "outputs": [],
   "source": [
    "Y_processed = pre_process(Y, truncate=True, log=True, transform_dict=transform_dict)\n",
    "Y_protected_processed = pre_process(Y_protected, truncate=True, log=True, transform_dict=transform_dict)"
   ]
  },
  {
   "cell_type": "markdown",
   "id": "3a47b603",
   "metadata": {},
   "source": [
    "### Step 4: Train Models and Generate Forecasts"
   ]
  },
  {
   "cell_type": "code",
   "execution_count": null,
   "id": "5a39d32c",
   "metadata": {},
   "outputs": [],
   "source": [
    "def train_and_forecast(ts_data, forecasting_model, horizon_length):\n",
    "    \"\"\"\n",
    "    Performs model training and forecasting using the supplied model applied to the supplied time series data.\n",
    "\n",
    "    :param ts_data: pandas dataframe containing EITHER\n",
    "        - series in the rows and time periods in the columns - used with traditional forecasting models.\n",
    "        - reduced tabular data with target feature in the last column.\n",
    "    :param forecasting_model: the model to use to perform forecasts. Must have .fit and .predict methods\n",
    "    :param horizon_length: the number of steps ahead you with to forecast relative to the last point in the series\n",
    "    :return fcasts: a pandas dataframe containing forecasts for all series, dimensions are transposed relative to the\n",
    "        input data - series are in the columns, each row corresponds to a time period.\n",
    "    \"\"\"\n",
    "\n",
    "    # define sktime relative forecasting horizon\n",
    "    h = np.arange(1, horizon_length+1)\n",
    "\n",
    "    # list to store forecasts\n",
    "    fcasts = []\n",
    "    \n",
    "    # if using an exponential smoothing model,\n",
    "    if type(forecasting_model) == sktime.forecasting.exp_smoothing.ExponentialSmoothing:\n",
    "        \n",
    "        fcasts = ts_data.apply(lambda x: forecasting_model.fit(x).predict(h), axis=1).T\n",
    "        \n",
    "    # if using an LGBM,\n",
    "    elif type(forecasting_model) == lgb.sklearn.LGBMRegressor:\n",
    "\n",
    "        # store number of time series and number of time periods\n",
    "        num_series, num_periods = training_data.shape\n",
    "        # reduced train and test data\n",
    "        X_train, Y_train = reduce_train_test_global(train_data=np.array(training_data), window_length=window_length, h=horizon_length)\n",
    "        # train global model\n",
    "        forecasting_model.fit(X_train, Y_train)\n",
    "        # select last window of training data\n",
    "        ## this is equivalent to the last row of x_train rolled forward to include the last value of Y_train\n",
    "        last_window = training_data.iloc[:,-window_length:]\n",
    "\n",
    "        ## generate forecasts ##\n",
    "\n",
    "        # store forecasted value based on last window of training data\n",
    "        last_prediction = forecasting_model.predict(last_window)\n",
    "        for i in range(horizon_length):\n",
    "            # add latest forecast\n",
    "            fcasts.append(last_prediction)\n",
    "            # roll window forward one period (places first value in window at the end)\n",
    "            last_window = np.roll(last_window, -1)\n",
    "            # replace the end value (used to be first value) with the latest forecast\n",
    "            last_window[:,-1] = last_prediction\n",
    "            # forecast for next period\n",
    "            last_prediction = forecasting_model.predict(last_window)\n",
    "\n",
    "        # combine forecasts into (num_series, horizon_length) shaped array\n",
    "        fcasts = np.concatenate([i.reshape(num_series, 1) for i in fcasts], axis=1)\n",
    "\n",
    "        # convert forecasts into a list of pandas series\n",
    "        fcasts = [pd.Series(i, index=np.arange(num_periods, num_periods+horizon_length)) for i in fcasts]\n",
    "\n",
    "    return fcasts"
   ]
  },
  {
   "cell_type": "code",
   "execution_count": null,
   "id": "acc1c069",
   "metadata": {},
   "outputs": [],
   "source": [
    "forecasting_model = lightgbm.LGBMRegressor()"
   ]
  },
  {
   "cell_type": "code",
   "execution_count": null,
   "id": "5ab3e310",
   "metadata": {},
   "outputs": [],
   "source": [
    " # define sktime relative forecasting horizon\n",
    "h = np.arange(1, 5+1)"
   ]
  },
  {
   "cell_type": "code",
   "execution_count": null,
   "id": "ce4a9153",
   "metadata": {},
   "outputs": [],
   "source": [
    "# if using an LGBM,\n",
    "elif type(forecasting_model) == lgb.sklearn.LGBMRegressor:\n",
    "    # store number of time series and number of time periods\n",
    "    # num_series, num_periods = training_data.shape\n",
    "    # reduced train and test data\n",
    "    # X_train, Y_train = reduce_train_test_global(train_data=np.array(training_data), window_length=window_length, h=horizon_length)\n",
    "    # train global model\n",
    "    forecasting_model.fit(X_train, Y_train)\n",
    "    # select last window of training data\n",
    "    ## this is equivalent to the last row of x_train rolled forward to include the last value of Y_train\n",
    "    last_window = training_data.iloc[:,-window_length:]\n",
    "\n",
    "    ## generate forecasts ##\n",
    "\n",
    "    # store forecasted value based on last window of training data\n",
    "    last_prediction = forecasting_model.predict(last_window)\n",
    "    for i in range(horizon_length):\n",
    "        # add latest forecast\n",
    "        fcasts.append(last_prediction)\n",
    "        # roll window forward one period (places first value in window at the end)\n",
    "        last_window = np.roll(last_window, -1)\n",
    "        # replace the end value (used to be first value) with the latest forecast\n",
    "        last_window[:,-1] = last_prediction\n",
    "        # forecast for next period\n",
    "        last_prediction = forecasting_model.predict(last_window)\n",
    "\n",
    "    # combine forecasts into (num_series, horizon_length) shaped array\n",
    "    fcasts = np.concatenate([i.reshape(num_series, 1) for i in fcasts], axis=1)\n",
    "\n",
    "    # convert forecasts into a list of pandas series\n",
    "    fcasts = [pd.Series(i, index=np.arange(num_periods, num_periods+horizon_length)) for i in fcasts]"
   ]
  },
  {
   "cell_type": "code",
   "execution_count": null,
   "id": "157097d1",
   "metadata": {},
   "outputs": [],
   "source": [
    "Y_processed"
   ]
  },
  {
   "cell_type": "code",
   "execution_count": null,
   "id": "38f4b400",
   "metadata": {},
   "outputs": [],
   "source": [
    "forecasting_model.fit(X_train, Y_train)"
   ]
  },
  {
   "cell_type": "code",
   "execution_count": null,
   "id": "f97d5865",
   "metadata": {},
   "outputs": [],
   "source": [
    "## this is equivalent to the last row of x_train rolled forward to include the last value of Y_train\n",
    "last_window = Y.iloc[:,-window_length:]"
   ]
  },
  {
   "cell_type": "code",
   "execution_count": null,
   "id": "f74de573",
   "metadata": {},
   "outputs": [],
   "source": [
    "### figure out where to output the last window of training data to use for forecasting\n",
    "# could do it in the global reduce function"
   ]
  },
  {
   "cell_type": "code",
   "execution_count": null,
   "id": "860ed050",
   "metadata": {},
   "outputs": [],
   "source": [
    "# need to include de-trending prior to extracting the last window"
   ]
  }
 ],
 "metadata": {
  "kernelspec": {
   "display_name": "Python 3 (ipykernel)",
   "language": "python",
   "name": "python3"
  },
  "language_info": {
   "codemirror_mode": {
    "name": "ipython",
    "version": 3
   },
   "file_extension": ".py",
   "mimetype": "text/x-python",
   "name": "python",
   "nbconvert_exporter": "python",
   "pygments_lexer": "ipython3",
   "version": "3.9.7"
  }
 },
 "nbformat": 4,
 "nbformat_minor": 5
}
