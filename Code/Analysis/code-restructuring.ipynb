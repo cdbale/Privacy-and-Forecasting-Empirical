{
 "cells": [
  {
   "cell_type": "markdown",
   "id": "512776c6",
   "metadata": {},
   "source": [
    "## Restructure Data Analysis Framework"
   ]
  },
  {
   "cell_type": "markdown",
   "id": "b80094d6",
   "metadata": {},
   "source": [
    "***"
   ]
  },
  {
   "cell_type": "code",
   "execution_count": 1,
   "id": "42d516ab",
   "metadata": {},
   "outputs": [],
   "source": [
    "import pandas as pd\n",
    "import numpy as np\n",
    "\n",
    "from data_protection_functions import *\n",
    "from data_processing_functions import *\n",
    "from forecasting_functions import *\n",
    "\n",
    "# nice time series plots\n",
    "from sktime.utils.plotting import plot_series\n",
    "\n",
    "# import detrender and deseasonalizer\n",
    "from sktime.transformations.series.detrend import Detrender, Deseasonalizer\n",
    "\n",
    "# import exponential smoothing forecasting model\n",
    "from sktime.forecasting.exp_smoothing import ExponentialSmoothing\n",
    "\n",
    "import sktime\n",
    "import lightgbm\n",
    "\n",
    "from sktime.performance_metrics.forecasting import mean_absolute_percentage_error, median_absolute_percentage_error"
   ]
  },
  {
   "cell_type": "markdown",
   "id": "1342d5eb",
   "metadata": {},
   "source": [
    "### Step 1: Import Time Series Data"
   ]
  },
  {
   "cell_type": "code",
   "execution_count": 2,
   "id": "97decc7e",
   "metadata": {},
   "outputs": [],
   "source": [
    "# import weekly finance time series\n",
    "# ignore header and skip the first row to use integers as column names\n",
    "full_data = pd.read_csv(\"../../Data/Train/Clean/full_m4_weekly_finance_clean.csv\", header=None, skiprows=1)"
   ]
  },
  {
   "cell_type": "code",
   "execution_count": 3,
   "id": "2ab139ff",
   "metadata": {},
   "outputs": [],
   "source": [
    "# convert to a list of series, potentially with different lengths\n",
    "full_data = [x.dropna() for _, x in full_data.iterrows()]"
   ]
  },
  {
   "cell_type": "code",
   "execution_count": 4,
   "id": "6d202e68",
   "metadata": {},
   "outputs": [],
   "source": [
    "# forecast horizon\n",
    "h = 1"
   ]
  },
  {
   "cell_type": "code",
   "execution_count": 5,
   "id": "7221a5b0",
   "metadata": {},
   "outputs": [],
   "source": [
    "Y = [x.iloc[:-h] for x in full_data]\n",
    "Test = [x.iloc[-h:] for x in full_data]"
   ]
  },
  {
   "cell_type": "markdown",
   "id": "a32eb59a",
   "metadata": {},
   "source": [
    "***"
   ]
  },
  {
   "cell_type": "markdown",
   "id": "07bb5eeb",
   "metadata": {},
   "source": [
    "### Step 2: Apply Data Protection to Generate Protected Series"
   ]
  },
  {
   "cell_type": "markdown",
   "id": "072e3186",
   "metadata": {},
   "source": [
    "At the end of this step, we will have two time series datasets:\n",
    "\n",
    "* Confidential (original) dataset\n",
    "* Protected dataset"
   ]
  },
  {
   "cell_type": "code",
   "execution_count": 55,
   "id": "802c7c93",
   "metadata": {},
   "outputs": [],
   "source": [
    "Y_protected = apply_data_protection(Y, coding_type=\"Top\", coding_percentage=0.10)"
   ]
  },
  {
   "cell_type": "markdown",
   "id": "0f7542dc",
   "metadata": {},
   "source": [
    "***"
   ]
  },
  {
   "cell_type": "markdown",
   "id": "9ad96a70",
   "metadata": {},
   "source": [
    "### Step 3: Pre-process the Confidential and Sensitive Datasets"
   ]
  },
  {
   "cell_type": "code",
   "execution_count": 84,
   "id": "f415eab2",
   "metadata": {},
   "outputs": [],
   "source": [
    "# parameters for LGBM\n",
    "window_length = 20"
   ]
  },
  {
   "cell_type": "code",
   "execution_count": 85,
   "id": "532d40e2",
   "metadata": {},
   "outputs": [],
   "source": [
    "transform_dict = {\"windows\":{\"window_length\":window_length}, \"deseasonalize\":{\"sp\":52, \"seasonality_type\":\"additive\"}}"
   ]
  },
  {
   "cell_type": "code",
   "execution_count": 86,
   "id": "a35db15f",
   "metadata": {},
   "outputs": [],
   "source": [
    "# transform_dict = {}"
   ]
  },
  {
   "cell_type": "code",
   "execution_count": 87,
   "id": "33b1b09f",
   "metadata": {},
   "outputs": [],
   "source": [
    "forecasting_model = lgb.LGBMRegressor()"
   ]
  },
  {
   "cell_type": "code",
   "execution_count": 88,
   "id": "b184a452",
   "metadata": {},
   "outputs": [],
   "source": [
    "# forecasting_model = ExponentialSmoothing(trend=\"additive\", seasonal=\"additive\", sp=52, use_boxcox=False)"
   ]
  },
  {
   "cell_type": "code",
   "execution_count": 89,
   "id": "a7d3bdce",
   "metadata": {},
   "outputs": [],
   "source": [
    "Y_processed, Y_last_window, Y_last_window_trend = pre_process(Y, truncate=True, mean_normalize=True, log=True, transform_dict=transform_dict)\n",
    "Y_protected_processed, Y_protected_last_window, Y_protected_last_window_trend = pre_process(Y_protected, truncate=True, mean_normalize=True, log=True, transform_dict=transform_dict)"
   ]
  },
  {
   "cell_type": "markdown",
   "id": "3a47b603",
   "metadata": {},
   "source": [
    "### Step 4: Train Models and Generate Forecasts"
   ]
  },
  {
   "cell_type": "code",
   "execution_count": 90,
   "id": "dc10adce",
   "metadata": {},
   "outputs": [],
   "source": [
    "forecasts_original = train_and_forecast(ts_data=Y_processed, forecasting_model=forecasting_model, horizon_length=h, last_window=Y_last_window)\n",
    "forecasts_protected = train_and_forecast(ts_data=Y_protected_processed, forecasting_model=forecasting_model, horizon_length=h, last_window=Y_protected_last_window)"
   ]
  },
  {
   "cell_type": "markdown",
   "id": "295c56f6",
   "metadata": {},
   "source": [
    "### Step 5: Post Process the Forecasts"
   ]
  },
  {
   "cell_type": "code",
   "execution_count": 91,
   "id": "e22be5ff",
   "metadata": {},
   "outputs": [],
   "source": [
    "forecasts_original = post_process(full_ts_data=Y, \n",
    "                                  forecasts=forecasts_original, \n",
    "                                  last_window_with_trend=Y_last_window_trend,\n",
    "                                  truncate=True,\n",
    "                                  mean_normalize=True,\n",
    "                                  log=True,\n",
    "                                  bias_adjusted=True,\n",
    "                                  transform_dict=transform_dict)"
   ]
  },
  {
   "cell_type": "code",
   "execution_count": 92,
   "id": "d1af4560",
   "metadata": {},
   "outputs": [],
   "source": [
    "forecasts_protected = post_process(full_ts_data=Y_protected, \n",
    "                                   forecasts=forecasts_protected, \n",
    "                                   last_window_with_trend=Y_protected_last_window_trend,\n",
    "                                   truncate=True,\n",
    "                                   mean_normalize=True,\n",
    "                                   log=True,\n",
    "                                   bias_adjusted=True,\n",
    "                                   transform_dict=transform_dict)"
   ]
  },
  {
   "cell_type": "markdown",
   "id": "3577caf5",
   "metadata": {},
   "source": [
    "### Step 6: Forecast Evaluation"
   ]
  },
  {
   "cell_type": "code",
   "execution_count": 93,
   "id": "92cef41f",
   "metadata": {},
   "outputs": [],
   "source": [
    "# Things to calculate\n",
    "# series-level MAPE, MdAPE\n",
    "# the percentage of series that had improved/worsened accuracy"
   ]
  },
  {
   "cell_type": "code",
   "execution_count": 94,
   "id": "241563e7",
   "metadata": {},
   "outputs": [],
   "source": [
    "# Test = pd.DataFrame([x.reset_index(drop=True) for x in Test]).T"
   ]
  },
  {
   "cell_type": "code",
   "execution_count": 95,
   "id": "98dd5c85",
   "metadata": {},
   "outputs": [
    {
     "data": {
      "text/plain": [
       "{'Global MAPE, MdAPE': array([0.032, 0.032]),\n",
       " 'Global Protected MAPE, MdAPE': array([0.1251, 0.1251]),\n",
       " 'Original MAPE Up, Down': array([0.0392, 0.0301]),\n",
       " 'Protected MAPE Up, Down': array([0.0438, 0.1463]),\n",
       " 'Original MdAPE Up, Down': array([0.0129, 0.0125]),\n",
       " 'Protected MdAPE Up, Down': array([0.0189, 0.0927])}"
      ]
     },
     "execution_count": 95,
     "metadata": {},
     "output_type": "execute_result"
    }
   ],
   "source": [
    "forecast_results(test_data=Test, original_forecasts=forecasts_original, protected_forecasts=forecasts_protected)"
   ]
  },
  {
   "cell_type": "code",
   "execution_count": 19,
   "id": "d19c224b",
   "metadata": {},
   "outputs": [],
   "source": [
    "# full_forecast_analysis(full_data=full_data,\n",
    "#                        forecasting_model=lgb.LGBMRegressor(),\n",
    "#                        h=1,\n",
    "#                        truncate=True,\n",
    "#                        log=True,\n",
    "#                        window_length=20,\n",
    "#                        coding_type=\"Top\",\n",
    "#                        coding_percentage=0.10)"
   ]
  },
  {
   "cell_type": "code",
   "execution_count": null,
   "id": "6aa9630e",
   "metadata": {},
   "outputs": [],
   "source": []
  }
 ],
 "metadata": {
  "kernelspec": {
   "display_name": "Python 3 (ipykernel)",
   "language": "python",
   "name": "python3"
  },
  "language_info": {
   "codemirror_mode": {
    "name": "ipython",
    "version": 3
   },
   "file_extension": ".py",
   "mimetype": "text/x-python",
   "name": "python",
   "nbconvert_exporter": "python",
   "pygments_lexer": "ipython3",
   "version": "3.9.7"
  }
 },
 "nbformat": 4,
 "nbformat_minor": 5
}
