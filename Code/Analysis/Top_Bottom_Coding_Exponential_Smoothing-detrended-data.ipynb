{
 "cells": [
  {
   "cell_type": "markdown",
   "id": "9f218c5b",
   "metadata": {},
   "source": [
    "### Analyzing the Effects of Top/Bottom Coding on The Accuracy of Exponential Smoothing Forecasts"
   ]
  },
  {
   "cell_type": "markdown",
   "id": "fad24aa7",
   "metadata": {},
   "source": [
    "***"
   ]
  },
  {
   "cell_type": "markdown",
   "id": "4d7ae16f",
   "metadata": {},
   "source": [
    "#### Analysis Flow:"
   ]
  },
  {
   "cell_type": "markdown",
   "id": "e7794258",
   "metadata": {},
   "source": [
    "* Inputs:\n",
    "    * Time series data\n",
    "    * Forecasting Model\n",
    "    * Protection Method"
   ]
  },
  {
   "cell_type": "markdown",
   "id": "aba41285",
   "metadata": {},
   "source": [
    "* Analysis:\n",
    "    * Pre-process data\n",
    "    * Fit forecasting models\n",
    "    * Generate forecasts for a variety of horizons"
   ]
  },
  {
   "cell_type": "markdown",
   "id": "7f5ca953",
   "metadata": {},
   "source": [
    "* Outputs:\n",
    "    * Forecasts for original data\n",
    "    * Forecasts for confidential data\n",
    "    * Accuracy for local forecasts\n",
    "    * Global accuracy\n",
    "    * % improvements/reduction in forecast accuracy across all series"
   ]
  },
  {
   "cell_type": "markdown",
   "id": "afb0903f",
   "metadata": {},
   "source": [
    "***"
   ]
  },
  {
   "cell_type": "markdown",
   "id": "e4cc966f",
   "metadata": {},
   "source": [
    "## Import Modules"
   ]
  },
  {
   "cell_type": "markdown",
   "id": "45de246f",
   "metadata": {},
   "source": [
    "Note the functions imported from `helper_functions`, as these are custom functions written by the paper authors. See `helper_functions.py` for comments and functions descriptions."
   ]
  },
  {
   "cell_type": "code",
   "execution_count": 1,
   "id": "92e893fe",
   "metadata": {},
   "outputs": [],
   "source": [
    "# general modules\n",
    "import pandas as pd\n",
    "import numpy as np\n",
    "import sktime\n",
    "\n",
    "# import exponential smoothing forecasting model\n",
    "from sktime.forecasting.exp_smoothing import ExponentialSmoothing\n",
    "\n",
    "# functions for transformation+forecasting pipeline\n",
    "from sktime.forecasting.compose import TransformedTargetForecaster\n",
    "from sktime.forecasting.compose import EnsembleForecaster\n",
    "\n",
    "# time series transformations\n",
    "from sktime.transformations.series.detrend import ConditionalDeseasonalizer, Detrender\n",
    "\n",
    "##### the `helper_functions.py` file contains many custom functions we wrote to aid in our analysis\n",
    "##### `full_coding_analysis` combines all of the following - train-test split data,\n",
    "##### data protection, train models, compare accuracies, return accuracy results\n",
    "from helper_functions import full_coding_analysis\n",
    "\n",
    "# suppress warnings from exponential smoothing model not converging\n",
    "import warnings\n",
    "warnings.filterwarnings('ignore')"
   ]
  },
  {
   "cell_type": "markdown",
   "id": "35683117",
   "metadata": {},
   "source": [
    "Import data."
   ]
  },
  {
   "cell_type": "code",
   "execution_count": 2,
   "id": "3a709c4f",
   "metadata": {},
   "outputs": [],
   "source": [
    "# import weekly finance time series\n",
    "Y = np.genfromtxt(\"../../Data/Train/Clean/weekly_finance_clean.csv\", delimiter = ',', skip_header = 1)\n",
    "Y = pd.DataFrame(Y)"
   ]
  },
  {
   "cell_type": "code",
   "execution_count": 3,
   "id": "b7dddea9",
   "metadata": {},
   "outputs": [],
   "source": [
    "detrender = Detrender()\n",
    "detrended_series = [detrender.fit_transform(series) for _ , series in Y.iterrows()]\n",
    "detrended_series = [i+np.abs(np.min(i))+1.0 for i in detrended_series]\n",
    "Y = pd.concat(detrended_series, axis=1).T"
   ]
  },
  {
   "cell_type": "markdown",
   "id": "41c9cdbf",
   "metadata": {},
   "source": [
    "## SES"
   ]
  },
  {
   "cell_type": "code",
   "execution_count": 4,
   "id": "ea73077d",
   "metadata": {},
   "outputs": [],
   "source": [
    "# define forecasting model\n",
    "# perform multiplicative deseasonalization conditional on autocorrelation test for seasonality\n",
    "\n",
    "forecaster = TransformedTargetForecaster(\n",
    "    [\n",
    "        (\"deseasonalize\", ConditionalDeseasonalizer(model=\"multiplicative\", sp=52)),\n",
    "        (\"forecast\", ExponentialSmoothing(use_boxcox=False)),\n",
    "    ]\n",
    ")"
   ]
  },
  {
   "cell_type": "markdown",
   "id": "1b78928e",
   "metadata": {},
   "source": [
    "We obtain results for a combination of forecast horizons, coding types (top and bottom), and coding percentages:\n",
    "\n",
    "* Forecast Horizons: (1, 5, 15)\n",
    "* Coding Types: (Top, Bottom)\n",
    "* Coding Percentages: (0.10, 0.20, 0.40)"
   ]
  },
  {
   "cell_type": "code",
   "execution_count": 5,
   "id": "a62b342b",
   "metadata": {},
   "outputs": [],
   "source": [
    "results_dict_ses = {}\n",
    "types = [\"Top\", \"Bottom\"]\n",
    "percentages = [0.10, 0.20, 0.40]\n",
    "horizons = [1, 5, 15]"
   ]
  },
  {
   "cell_type": "code",
   "execution_count": 6,
   "id": "e63853ed",
   "metadata": {},
   "outputs": [],
   "source": [
    "for t in types:\n",
    "    for p in percentages:\n",
    "        for h in horizons:\n",
    "            results_dict_ses[\"h=\"+str(h)+\", \"+t+\" \"+str(p)] = full_coding_analysis(Y, forecaster, forecast_horizon=h, coding_type=t, coding_percentage=p)"
   ]
  },
  {
   "cell_type": "code",
   "execution_count": 7,
   "id": "f4f02ec3",
   "metadata": {},
   "outputs": [
    {
     "data": {
      "text/plain": [
       "{'h=1, Top 0.1': {'% of forecasted points adjusted downward:': 62.8,\n",
       "  '% of forecasted points adjusted upward:': 30.5,\n",
       "  '% Series with improved accuracy:': array([45.7, 45.7]),\n",
       "  '% Series with worsened accuracy:': array([47.6, 47.6]),\n",
       "  '% Series with unchanged accuracy:': array([6.7, 6.7]),\n",
       "  '% Change mean global accuracy:': array([-25.2, -25.2]),\n",
       "  '% Change median global accuracy:': array([-27.8, -27.8])},\n",
       " 'h=5, Top 0.1': {'% of forecasted points adjusted downward:': 63.5,\n",
       "  '% of forecasted points adjusted upward:': 27.3,\n",
       "  '% Series with improved accuracy:': array([39.6, 39.6]),\n",
       "  '% Series with worsened accuracy:': array([51.2, 51.2]),\n",
       "  '% Series with unchanged accuracy:': array([9.1, 9.1]),\n",
       "  '% Change mean global accuracy:': array([-6.4, -5.7]),\n",
       "  '% Change median global accuracy:': array([-3.4, -4.5])},\n",
       " 'h=15, Top 0.1': {'% of forecasted points adjusted downward:': 58.5,\n",
       "  '% of forecasted points adjusted upward:': 32.4,\n",
       "  '% Series with improved accuracy:': array([42.1, 42.7]),\n",
       "  '% Series with worsened accuracy:': array([48.8, 48.2]),\n",
       "  '% Series with unchanged accuracy:': array([9.1, 9.1]),\n",
       "  '% Change mean global accuracy:': array([-4.9, -4.1]),\n",
       "  '% Change median global accuracy:': array([-4.2, -3.4])},\n",
       " 'h=1, Top 0.2': {'% of forecasted points adjusted downward:': 72.6,\n",
       "  '% of forecasted points adjusted upward:': 22.0,\n",
       "  '% Series with improved accuracy:': array([38.4, 38.4]),\n",
       "  '% Series with worsened accuracy:': array([56.1, 56.1]),\n",
       "  '% Series with unchanged accuracy:': array([5.5, 5.5]),\n",
       "  '% Change mean global accuracy:': array([-64.5, -64.5]),\n",
       "  '% Change median global accuracy:': array([-34.2, -34.2])},\n",
       " 'h=5, Top 0.2': {'% of forecasted points adjusted downward:': 74.6,\n",
       "  '% of forecasted points adjusted upward:': 20.5,\n",
       "  '% Series with improved accuracy:': array([35.4, 36.6]),\n",
       "  '% Series with worsened accuracy:': array([59.8, 58.5]),\n",
       "  '% Series with unchanged accuracy:': array([4.9, 4.9]),\n",
       "  '% Change mean global accuracy:': array([-32.9, -26.5]),\n",
       "  '% Change median global accuracy:': array([-8.3, -5.7])},\n",
       " 'h=15, Top 0.2': {'% of forecasted points adjusted downward:': 70.8,\n",
       "  '% of forecasted points adjusted upward:': 22.5,\n",
       "  '% Series with improved accuracy:': array([43.3, 41.5]),\n",
       "  '% Series with worsened accuracy:': array([50. , 51.8]),\n",
       "  '% Series with unchanged accuracy:': array([6.7, 6.7]),\n",
       "  '% Change mean global accuracy:': array([-15.9, -12.5]),\n",
       "  '% Change median global accuracy:': array([-9.3, -7.4])},\n",
       " 'h=1, Top 0.4': {'% of forecasted points adjusted downward:': 81.10000000000001,\n",
       "  '% of forecasted points adjusted upward:': 15.9,\n",
       "  '% Series with improved accuracy:': array([29.9, 29.9]),\n",
       "  '% Series with worsened accuracy:': array([67.1, 67.1]),\n",
       "  '% Series with unchanged accuracy:': array([3., 3.]),\n",
       "  '% Change mean global accuracy:': array([-155.1, -155.1]),\n",
       "  '% Change median global accuracy:': array([-161.6, -161.6])},\n",
       " 'h=5, Top 0.4': {'% of forecasted points adjusted downward:': 82.1,\n",
       "  '% of forecasted points adjusted upward:': 14.299999999999999,\n",
       "  '% Series with improved accuracy:': array([28.7, 28. ]),\n",
       "  '% Series with worsened accuracy:': array([67.7, 68.3]),\n",
       "  '% Series with unchanged accuracy:': array([3.7, 3.7]),\n",
       "  '% Change mean global accuracy:': array([-88.4, -71.4]),\n",
       "  '% Change median global accuracy:': array([-43.8, -41.1])},\n",
       " 'h=15, Top 0.4': {'% of forecasted points adjusted downward:': 76.0,\n",
       "  '% of forecasted points adjusted upward:': 17.9,\n",
       "  '% Series with improved accuracy:': array([37.2, 36.6]),\n",
       "  '% Series with worsened accuracy:': array([56.7, 57.3]),\n",
       "  '% Series with unchanged accuracy:': array([6.1, 6.1]),\n",
       "  '% Change mean global accuracy:': array([-46.2, -36.8]),\n",
       "  '% Change median global accuracy:': array([-37.2, -30.1])},\n",
       " 'h=1, Bottom 0.1': {'% of forecasted points adjusted downward:': 36.0,\n",
       "  '% of forecasted points adjusted upward:': 55.50000000000001,\n",
       "  '% Series with improved accuracy:': array([38.4, 38.4]),\n",
       "  '% Series with worsened accuracy:': array([53., 53.]),\n",
       "  '% Series with unchanged accuracy:': array([8.5, 8.5]),\n",
       "  '% Change mean global accuracy:': array([-25.3, -25.3]),\n",
       "  '% Change median global accuracy:': array([0.2, 0.2])},\n",
       " 'h=5, Bottom 0.1': {'% of forecasted points adjusted downward:': 38.5,\n",
       "  '% of forecasted points adjusted upward:': 48.0,\n",
       "  '% Series with improved accuracy:': array([34.1, 36.6]),\n",
       "  '% Series with worsened accuracy:': array([52.4, 50. ]),\n",
       "  '% Series with unchanged accuracy:': array([13.4, 13.4]),\n",
       "  '% Change mean global accuracy:': array([-11.7,  -9.4]),\n",
       "  '% Change median global accuracy:': array([-18.8, -21.6])},\n",
       " 'h=15, Bottom 0.1': {'% of forecasted points adjusted downward:': 29.599999999999998,\n",
       "  '% of forecasted points adjusted upward:': 63.1,\n",
       "  '% Series with improved accuracy:': array([48.8, 48.8]),\n",
       "  '% Series with worsened accuracy:': array([43.9, 43.9]),\n",
       "  '% Series with unchanged accuracy:': array([7.3, 7.3]),\n",
       "  '% Change mean global accuracy:': array([-3.5, -3.3]),\n",
       "  '% Change median global accuracy:': array([-3.3, -7.4])},\n",
       " 'h=1, Bottom 0.2': {'% of forecasted points adjusted downward:': 32.300000000000004,\n",
       "  '% of forecasted points adjusted upward:': 60.4,\n",
       "  '% Series with improved accuracy:': array([34.8, 34.8]),\n",
       "  '% Series with worsened accuracy:': array([57.9, 57.9]),\n",
       "  '% Series with unchanged accuracy:': array([7.3, 7.3]),\n",
       "  '% Change mean global accuracy:': array([-49.3, -49.3]),\n",
       "  '% Change median global accuracy:': array([-3.1, -3.1])},\n",
       " 'h=5, Bottom 0.2': {'% of forecasted points adjusted downward:': 38.2,\n",
       "  '% of forecasted points adjusted upward:': 54.50000000000001,\n",
       "  '% Series with improved accuracy:': array([39. , 40.2]),\n",
       "  '% Series with worsened accuracy:': array([53.7, 52.4]),\n",
       "  '% Series with unchanged accuracy:': array([7.3, 7.3]),\n",
       "  '% Change mean global accuracy:': array([-24.3, -19.6]),\n",
       "  '% Change median global accuracy:': array([-30.3, -28.7])},\n",
       " 'h=15, Bottom 0.2': {'% of forecasted points adjusted downward:': 29.5,\n",
       "  '% of forecasted points adjusted upward:': 63.2,\n",
       "  '% Series with improved accuracy:': array([53. , 51.2]),\n",
       "  '% Series with worsened accuracy:': array([39.6, 41.5]),\n",
       "  '% Series with unchanged accuracy:': array([7.3, 7.3]),\n",
       "  '% Change mean global accuracy:': array([-9.6, -8.2]),\n",
       "  '% Change median global accuracy:': array([-11. ,  -6.5])},\n",
       " 'h=1, Bottom 0.4': {'% of forecasted points adjusted downward:': 22.6,\n",
       "  '% of forecasted points adjusted upward:': 70.1,\n",
       "  '% Series with improved accuracy:': array([34.1, 34.1]),\n",
       "  '% Series with worsened accuracy:': array([58.5, 58.5]),\n",
       "  '% Series with unchanged accuracy:': array([7.3, 7.3]),\n",
       "  '% Change mean global accuracy:': array([-106.3, -106.3]),\n",
       "  '% Change median global accuracy:': array([-69.5, -69.5])},\n",
       " 'h=5, Bottom 0.4': {'% of forecasted points adjusted downward:': 29.9,\n",
       "  '% of forecasted points adjusted upward:': 64.0,\n",
       "  '% Series with improved accuracy:': array([40.2, 42.7]),\n",
       "  '% Series with worsened accuracy:': array([53.7, 51.2]),\n",
       "  '% Series with unchanged accuracy:': array([6.1, 6.1]),\n",
       "  '% Change mean global accuracy:': array([-62.4, -50.5]),\n",
       "  '% Change median global accuracy:': array([-62.8, -52.9])},\n",
       " 'h=15, Bottom 0.4': {'% of forecasted points adjusted downward:': 24.5,\n",
       "  '% of forecasted points adjusted upward:': 70.6,\n",
       "  '% Series with improved accuracy:': array([48.8, 50. ]),\n",
       "  '% Series with worsened accuracy:': array([46.3, 45.1]),\n",
       "  '% Series with unchanged accuracy:': array([4.9, 4.9]),\n",
       "  '% Change mean global accuracy:': array([-35.1, -29.2]),\n",
       "  '% Change median global accuracy:': array([-21.6, -23.7])}}"
      ]
     },
     "execution_count": 7,
     "metadata": {},
     "output_type": "execute_result"
    }
   ],
   "source": [
    "results_dict_ses"
   ]
  },
  {
   "cell_type": "markdown",
   "id": "597216e4",
   "metadata": {},
   "source": [
    "***\n",
    "***"
   ]
  },
  {
   "cell_type": "markdown",
   "id": "5a78d11b",
   "metadata": {},
   "source": [
    "## DES"
   ]
  },
  {
   "cell_type": "code",
   "execution_count": 8,
   "id": "0ea64299",
   "metadata": {},
   "outputs": [],
   "source": [
    "# define forecasting model\n",
    "# perform multiplicative deseasonalization conditional on autocorrelation test for seasonality\n",
    "\n",
    "forecaster = TransformedTargetForecaster(\n",
    "    [\n",
    "        (\"deseasonalize\", ConditionalDeseasonalizer(model=\"multiplicative\", sp=52)),\n",
    "        (\"forecast\", ExponentialSmoothing(trend=\"additive\", use_boxcox=False)),\n",
    "    ]\n",
    ")"
   ]
  },
  {
   "cell_type": "markdown",
   "id": "2439d3d2",
   "metadata": {},
   "source": [
    "We obtain results for a combination of forecast horizons, coding types (top and bottom), and coding percentages:\n",
    "\n",
    "* Forecast Horizons: (1, 5, 15)\n",
    "* Coding Types: (Top, Bottom)\n",
    "* Coding Percentages: (0.10, 0.20, 0.40)"
   ]
  },
  {
   "cell_type": "code",
   "execution_count": 9,
   "id": "8e3701ab",
   "metadata": {},
   "outputs": [],
   "source": [
    "results_dict_des = {}\n",
    "types = [\"Top\", \"Bottom\"]\n",
    "percentages = [0.10, 0.20, 0.40]\n",
    "horizons = [1, 5, 15]"
   ]
  },
  {
   "cell_type": "code",
   "execution_count": 10,
   "id": "7b7cfb19",
   "metadata": {},
   "outputs": [],
   "source": [
    "for t in types:\n",
    "    for p in percentages:\n",
    "        for h in horizons:\n",
    "            results_dict_des[\"h=\"+str(h)+\", \"+t+\" \"+str(p)] = full_coding_analysis(Y, forecaster, forecast_horizon=h, coding_type=t, coding_percentage=p)"
   ]
  },
  {
   "cell_type": "code",
   "execution_count": 11,
   "id": "89ecc756",
   "metadata": {},
   "outputs": [
    {
     "data": {
      "text/plain": [
       "{'h=1, Top 0.1': {'% of forecasted points adjusted downward:': 63.4,\n",
       "  '% of forecasted points adjusted upward:': 36.6,\n",
       "  '% Series with improved accuracy:': array([51.8, 51.8]),\n",
       "  '% Series with worsened accuracy:': array([48.2, 48.2]),\n",
       "  '% Series with unchanged accuracy:': array([0., 0.]),\n",
       "  '% Change mean global accuracy:': array([-23.1, -23.1]),\n",
       "  '% Change median global accuracy:': array([-37.1, -37.1])},\n",
       " 'h=5, Top 0.1': {'% of forecasted points adjusted downward:': 68.2,\n",
       "  '% of forecasted points adjusted upward:': 31.8,\n",
       "  '% Series with improved accuracy:': array([48.2, 48.8]),\n",
       "  '% Series with worsened accuracy:': array([51.8, 51.2]),\n",
       "  '% Series with unchanged accuracy:': array([0., 0.]),\n",
       "  '% Change mean global accuracy:': array([-2.2, -2.4]),\n",
       "  '% Change median global accuracy:': array([-7.6, -5.1])},\n",
       " 'h=15, Top 0.1': {'% of forecasted points adjusted downward:': 55.7,\n",
       "  '% of forecasted points adjusted upward:': 44.3,\n",
       "  '% Series with improved accuracy:': array([43.9, 47.6]),\n",
       "  '% Series with worsened accuracy:': array([56.1, 52.4]),\n",
       "  '% Series with unchanged accuracy:': array([0., 0.]),\n",
       "  '% Change mean global accuracy:': array([-1.9, -0.9]),\n",
       "  '% Change median global accuracy:': array([-6.4, -7.1])},\n",
       " 'h=1, Top 0.2': {'% of forecasted points adjusted downward:': 69.5,\n",
       "  '% of forecasted points adjusted upward:': 30.5,\n",
       "  '% Series with improved accuracy:': array([40.2, 40.2]),\n",
       "  '% Series with worsened accuracy:': array([59.8, 59.8]),\n",
       "  '% Series with unchanged accuracy:': array([0., 0.]),\n",
       "  '% Change mean global accuracy:': array([-61.1, -61.1]),\n",
       "  '% Change median global accuracy:': array([-47.6, -47.6])},\n",
       " 'h=5, Top 0.2': {'% of forecasted points adjusted downward:': 72.89999999999999,\n",
       "  '% of forecasted points adjusted upward:': 27.1,\n",
       "  '% Series with improved accuracy:': array([37.2, 40.2]),\n",
       "  '% Series with worsened accuracy:': array([62.8, 59.8]),\n",
       "  '% Series with unchanged accuracy:': array([0., 0.]),\n",
       "  '% Change mean global accuracy:': array([-31. , -25.1]),\n",
       "  '% Change median global accuracy:': array([-17.3, -10. ])},\n",
       " 'h=15, Top 0.2': {'% of forecasted points adjusted downward:': 60.699999999999996,\n",
       "  '% of forecasted points adjusted upward:': 39.300000000000004,\n",
       "  '% Series with improved accuracy:': array([44.5, 43.9]),\n",
       "  '% Series with worsened accuracy:': array([55.5, 56.1]),\n",
       "  '% Series with unchanged accuracy:': array([0., 0.]),\n",
       "  '% Change mean global accuracy:': array([-10.1,  -7.7]),\n",
       "  '% Change median global accuracy:': array([-3.1, -5.8])},\n",
       " 'h=1, Top 0.4': {'% of forecasted points adjusted downward:': 73.8,\n",
       "  '% of forecasted points adjusted upward:': 26.200000000000003,\n",
       "  '% Series with improved accuracy:': array([32.3, 32.3]),\n",
       "  '% Series with worsened accuracy:': array([67.7, 67.7]),\n",
       "  '% Series with unchanged accuracy:': array([0., 0.]),\n",
       "  '% Change mean global accuracy:': array([-148.7, -148.7]),\n",
       "  '% Change median global accuracy:': array([-197.9, -197.9])},\n",
       " 'h=5, Top 0.4': {'% of forecasted points adjusted downward:': 79.60000000000001,\n",
       "  '% of forecasted points adjusted upward:': 20.4,\n",
       "  '% Series with improved accuracy:': array([29.9, 30.5]),\n",
       "  '% Series with worsened accuracy:': array([70.1, 69.5]),\n",
       "  '% Series with unchanged accuracy:': array([0., 0.]),\n",
       "  '% Change mean global accuracy:': array([-86.7, -70.3]),\n",
       "  '% Change median global accuracy:': array([-45.3, -38.4])},\n",
       " 'h=15, Top 0.4': {'% of forecasted points adjusted downward:': 70.19999999999999,\n",
       "  '% of forecasted points adjusted upward:': 29.799999999999997,\n",
       "  '% Series with improved accuracy:': array([34.8, 34.1]),\n",
       "  '% Series with worsened accuracy:': array([65.2, 65.9]),\n",
       "  '% Series with unchanged accuracy:': array([0., 0.]),\n",
       "  '% Change mean global accuracy:': array([-35.9, -27.7]),\n",
       "  '% Change median global accuracy:': array([-27.5, -19.1])},\n",
       " 'h=1, Bottom 0.1': {'% of forecasted points adjusted downward:': 45.7,\n",
       "  '% of forecasted points adjusted upward:': 54.300000000000004,\n",
       "  '% Series with improved accuracy:': array([45.7, 45.7]),\n",
       "  '% Series with worsened accuracy:': array([54.3, 54.3]),\n",
       "  '% Series with unchanged accuracy:': array([0., 0.]),\n",
       "  '% Change mean global accuracy:': array([-21.4, -21.4]),\n",
       "  '% Change median global accuracy:': array([-7.6, -7.6])},\n",
       " 'h=5, Bottom 0.1': {'% of forecasted points adjusted downward:': 47.599999999999994,\n",
       "  '% of forecasted points adjusted upward:': 52.400000000000006,\n",
       "  '% Series with improved accuracy:': array([43.9, 42.1]),\n",
       "  '% Series with worsened accuracy:': array([56.1, 57.9]),\n",
       "  '% Series with unchanged accuracy:': array([0., 0.]),\n",
       "  '% Change mean global accuracy:': array([-10.1,  -8. ]),\n",
       "  '% Change median global accuracy:': array([-12.3, -11.2])},\n",
       " 'h=15, Bottom 0.1': {'% of forecasted points adjusted downward:': 47.8,\n",
       "  '% of forecasted points adjusted upward:': 52.2,\n",
       "  '% Series with improved accuracy:': array([57.9, 59.1]),\n",
       "  '% Series with worsened accuracy:': array([42.1, 40.9]),\n",
       "  '% Series with unchanged accuracy:': array([0., 0.]),\n",
       "  '% Change mean global accuracy:': array([-0.1,  0.4]),\n",
       "  '% Change median global accuracy:': array([ 0.1, -2.5])},\n",
       " 'h=1, Bottom 0.2': {'% of forecasted points adjusted downward:': 42.1,\n",
       "  '% of forecasted points adjusted upward:': 57.9,\n",
       "  '% Series with improved accuracy:': array([37.8, 37.8]),\n",
       "  '% Series with worsened accuracy:': array([62.2, 62.2]),\n",
       "  '% Series with unchanged accuracy:': array([0., 0.]),\n",
       "  '% Change mean global accuracy:': array([-45.7, -45.7]),\n",
       "  '% Change median global accuracy:': array([-16.3, -16.3])},\n",
       " 'h=5, Bottom 0.2': {'% of forecasted points adjusted downward:': 50.2,\n",
       "  '% of forecasted points adjusted upward:': 49.8,\n",
       "  '% Series with improved accuracy:': array([44.5, 45.7]),\n",
       "  '% Series with worsened accuracy:': array([55.5, 54.3]),\n",
       "  '% Series with unchanged accuracy:': array([0., 0.]),\n",
       "  '% Change mean global accuracy:': array([-22.3, -18. ]),\n",
       "  '% Change median global accuracy:': array([-29.4, -27.2])},\n",
       " 'h=15, Bottom 0.2': {'% of forecasted points adjusted downward:': 45.4,\n",
       "  '% of forecasted points adjusted upward:': 54.6,\n",
       "  '% Series with improved accuracy:': array([54.3, 53.7]),\n",
       "  '% Series with worsened accuracy:': array([45.7, 46.3]),\n",
       "  '% Series with unchanged accuracy:': array([0., 0.]),\n",
       "  '% Change mean global accuracy:': array([-8.2, -6.4]),\n",
       "  '% Change median global accuracy:': array([-3.8,  0. ])},\n",
       " 'h=1, Bottom 0.4': {'% of forecasted points adjusted downward:': 40.2,\n",
       "  '% of forecasted points adjusted upward:': 59.8,\n",
       "  '% Series with improved accuracy:': array([38.4, 38.4]),\n",
       "  '% Series with worsened accuracy:': array([61.6, 61.6]),\n",
       "  '% Series with unchanged accuracy:': array([0., 0.]),\n",
       "  '% Change mean global accuracy:': array([-101.1, -101.1]),\n",
       "  '% Change median global accuracy:': array([-73.4, -73.4])},\n",
       " 'h=5, Bottom 0.4': {'% of forecasted points adjusted downward:': 44.0,\n",
       "  '% of forecasted points adjusted upward:': 56.00000000000001,\n",
       "  '% Series with improved accuracy:': array([39. , 41.5]),\n",
       "  '% Series with worsened accuracy:': array([61. , 58.5]),\n",
       "  '% Series with unchanged accuracy:': array([0., 0.]),\n",
       "  '% Change mean global accuracy:': array([-61.4, -49.9]),\n",
       "  '% Change median global accuracy:': array([-59. , -44.5])},\n",
       " 'h=15, Bottom 0.4': {'% of forecasted points adjusted downward:': 41.9,\n",
       "  '% of forecasted points adjusted upward:': 58.099999999999994,\n",
       "  '% Series with improved accuracy:': array([45.7, 46.3]),\n",
       "  '% Series with worsened accuracy:': array([54.3, 53.7]),\n",
       "  '% Series with unchanged accuracy:': array([0., 0.]),\n",
       "  '% Change mean global accuracy:': array([-32.8, -26.4]),\n",
       "  '% Change median global accuracy:': array([-13.4, -11.8])}}"
      ]
     },
     "execution_count": 11,
     "metadata": {},
     "output_type": "execute_result"
    }
   ],
   "source": [
    "results_dict_des"
   ]
  },
  {
   "cell_type": "markdown",
   "id": "9b297a10",
   "metadata": {},
   "source": [
    "***\n",
    "***"
   ]
  },
  {
   "cell_type": "markdown",
   "id": "919e3c36",
   "metadata": {},
   "source": [
    "## TES"
   ]
  },
  {
   "cell_type": "code",
   "execution_count": 12,
   "id": "45356770",
   "metadata": {},
   "outputs": [],
   "source": [
    "# define forecasting model\n",
    "# perform multiplicative deseasonalization conditional on autocorrelation test for seasonality\n",
    "\n",
    "forecaster = TransformedTargetForecaster(\n",
    "    [\n",
    "        (\"forecast\", ExponentialSmoothing(trend=\"additive\",\n",
    "                                          seasonal=\"multiplicative\",\n",
    "                                          sp=52,\n",
    "                                          damped_trend=False, \n",
    "                                          use_boxcox=False)),\n",
    "    ]\n",
    ")"
   ]
  },
  {
   "cell_type": "markdown",
   "id": "a002814d",
   "metadata": {},
   "source": [
    "We obtain results for a combination of forecast horizons, coding types (top and bottom), and coding percentages:\n",
    "\n",
    "* Forecast Horizons: (1, 5, 15)\n",
    "* Coding Types: (Top, Bottom)\n",
    "* Coding Percentages: (0.10, 0.20, 0.40)"
   ]
  },
  {
   "cell_type": "code",
   "execution_count": 13,
   "id": "15407745",
   "metadata": {},
   "outputs": [],
   "source": [
    "results_dict_tes = {}\n",
    "types = [\"Top\", \"Bottom\"]\n",
    "percentages = [0.10, 0.20, 0.40]\n",
    "horizons = [1, 5, 15]"
   ]
  },
  {
   "cell_type": "code",
   "execution_count": 14,
   "id": "54bbe29d",
   "metadata": {},
   "outputs": [],
   "source": [
    "for t in types:\n",
    "    for p in percentages:\n",
    "        for h in horizons:\n",
    "            results_dict_tes[\"h=\"+str(h)+\", \"+t+\" \"+str(p)] = full_coding_analysis(Y, forecaster, forecast_horizon=h, coding_type=t, coding_percentage=p)"
   ]
  },
  {
   "cell_type": "code",
   "execution_count": 15,
   "id": "d350132a",
   "metadata": {},
   "outputs": [
    {
     "data": {
      "text/plain": [
       "{'h=1, Top 0.1': {'% of forecasted points adjusted downward:': 58.5,\n",
       "  '% of forecasted points adjusted upward:': 41.5,\n",
       "  '% Series with improved accuracy:': array([48.2, 48.2]),\n",
       "  '% Series with worsened accuracy:': array([51.8, 51.8]),\n",
       "  '% Series with unchanged accuracy:': array([0., 0.]),\n",
       "  '% Change mean global accuracy:': array([-9.4, -9.4]),\n",
       "  '% Change median global accuracy:': array([-11.4, -11.4])},\n",
       " 'h=5, Top 0.1': {'% of forecasted points adjusted downward:': 60.199999999999996,\n",
       "  '% of forecasted points adjusted upward:': 39.800000000000004,\n",
       "  '% Series with improved accuracy:': array([50.6, 51.2]),\n",
       "  '% Series with worsened accuracy:': array([49.4, 48.8]),\n",
       "  '% Series with unchanged accuracy:': array([0., 0.]),\n",
       "  '% Change mean global accuracy:': array([-38.1, -34.9]),\n",
       "  '% Change median global accuracy:': array([-1.4,  1.9])},\n",
       " 'h=15, Top 0.1': {'% of forecasted points adjusted downward:': 60.5,\n",
       "  '% of forecasted points adjusted upward:': 39.5,\n",
       "  '% Series with improved accuracy:': array([49.4, 48.8]),\n",
       "  '% Series with worsened accuracy:': array([50.6, 51.2]),\n",
       "  '% Series with unchanged accuracy:': array([0., 0.]),\n",
       "  '% Change mean global accuracy:': array([4.8, 7.7]),\n",
       "  '% Change median global accuracy:': array([-6.8, -9. ])},\n",
       " 'h=1, Top 0.2': {'% of forecasted points adjusted downward:': 68.89999999999999,\n",
       "  '% of forecasted points adjusted upward:': 31.1,\n",
       "  '% Series with improved accuracy:': array([39., 39.]),\n",
       "  '% Series with worsened accuracy:': array([61., 61.]),\n",
       "  '% Series with unchanged accuracy:': array([0., 0.]),\n",
       "  '% Change mean global accuracy:': array([-40.6, -40.6]),\n",
       "  '% Change median global accuracy:': array([-2.5, -2.5])},\n",
       " 'h=5, Top 0.2': {'% of forecasted points adjusted downward:': 65.4,\n",
       "  '% of forecasted points adjusted upward:': 34.599999999999994,\n",
       "  '% Series with improved accuracy:': array([49.4, 46.3]),\n",
       "  '% Series with worsened accuracy:': array([50.6, 53.7]),\n",
       "  '% Series with unchanged accuracy:': array([0., 0.]),\n",
       "  '% Change mean global accuracy:': array([-27.2, -17.5]),\n",
       "  '% Change median global accuracy:': array([-7.5, -4.8])},\n",
       " 'h=15, Top 0.2': {'% of forecasted points adjusted downward:': 62.4,\n",
       "  '% of forecasted points adjusted upward:': 37.6,\n",
       "  '% Series with improved accuracy:': array([46.3, 45.1]),\n",
       "  '% Series with worsened accuracy:': array([53.7, 54.9]),\n",
       "  '% Series with unchanged accuracy:': array([0., 0.]),\n",
       "  '% Change mean global accuracy:': array([2.1, 7.2]),\n",
       "  '% Change median global accuracy:': array([-12.1, -14.5])},\n",
       " 'h=1, Top 0.4': {'% of forecasted points adjusted downward:': 80.5,\n",
       "  '% of forecasted points adjusted upward:': 19.5,\n",
       "  '% Series with improved accuracy:': array([30.5, 30.5]),\n",
       "  '% Series with worsened accuracy:': array([69.5, 69.5]),\n",
       "  '% Series with unchanged accuracy:': array([0., 0.]),\n",
       "  '% Change mean global accuracy:': array([-99.9, -99.9]),\n",
       "  '% Change median global accuracy:': array([-59.2, -59.2])},\n",
       " 'h=5, Top 0.4': {'% of forecasted points adjusted downward:': 76.0,\n",
       "  '% of forecasted points adjusted upward:': 24.0,\n",
       "  '% Series with improved accuracy:': array([34.8, 33.5]),\n",
       "  '% Series with worsened accuracy:': array([65.2, 66.5]),\n",
       "  '% Series with unchanged accuracy:': array([0., 0.]),\n",
       "  '% Change mean global accuracy:': array([-71.7, -55.1]),\n",
       "  '% Change median global accuracy:': array([-34.5, -31.8])},\n",
       " 'h=15, Top 0.4': {'% of forecasted points adjusted downward:': 67.9,\n",
       "  '% of forecasted points adjusted upward:': 32.1,\n",
       "  '% Series with improved accuracy:': array([29.9, 34.8]),\n",
       "  '% Series with worsened accuracy:': array([70.1, 65.2]),\n",
       "  '% Series with unchanged accuracy:': array([0., 0.]),\n",
       "  '% Change mean global accuracy:': array([-24.4, -14.5]),\n",
       "  '% Change median global accuracy:': array([-59. , -45.4])},\n",
       " 'h=1, Bottom 0.1': {'% of forecasted points adjusted downward:': 33.5,\n",
       "  '% of forecasted points adjusted upward:': 66.5,\n",
       "  '% Series with improved accuracy:': array([54.3, 54.3]),\n",
       "  '% Series with worsened accuracy:': array([45.7, 45.7]),\n",
       "  '% Series with unchanged accuracy:': array([0., 0.]),\n",
       "  '% Change mean global accuracy:': array([-10.8, -10.8]),\n",
       "  '% Change median global accuracy:': array([1., 1.])},\n",
       " 'h=5, Bottom 0.1': {'% of forecasted points adjusted downward:': 37.2,\n",
       "  '% of forecasted points adjusted upward:': 62.8,\n",
       "  '% Series with improved accuracy:': array([53.7, 51.2]),\n",
       "  '% Series with worsened accuracy:': array([46.3, 48.8]),\n",
       "  '% Series with unchanged accuracy:': array([0., 0.]),\n",
       "  '% Change mean global accuracy:': array([-4.9, -2.6]),\n",
       "  '% Change median global accuracy:': array([-16.4, -11. ])},\n",
       " 'h=15, Bottom 0.1': {'% of forecasted points adjusted downward:': 35.8,\n",
       "  '% of forecasted points adjusted upward:': 64.2,\n",
       "  '% Series with improved accuracy:': array([63.4, 61.6]),\n",
       "  '% Series with worsened accuracy:': array([36.6, 38.4]),\n",
       "  '% Series with unchanged accuracy:': array([0., 0.]),\n",
       "  '% Change mean global accuracy:': array([15.1, 16.2]),\n",
       "  '% Change median global accuracy:': array([-10. ,  -7.6])},\n",
       " 'h=1, Bottom 0.2': {'% of forecasted points adjusted downward:': 28.7,\n",
       "  '% of forecasted points adjusted upward:': 71.3,\n",
       "  '% Series with improved accuracy:': array([46.3, 46.3]),\n",
       "  '% Series with worsened accuracy:': array([53.7, 53.7]),\n",
       "  '% Series with unchanged accuracy:': array([0., 0.]),\n",
       "  '% Change mean global accuracy:': array([-30.3, -30.3]),\n",
       "  '% Change median global accuracy:': array([-6.7, -6.7])},\n",
       " 'h=5, Bottom 0.2': {'% of forecasted points adjusted downward:': 36.8,\n",
       "  '% of forecasted points adjusted upward:': 63.2,\n",
       "  '% Series with improved accuracy:': array([49.4, 50. ]),\n",
       "  '% Series with worsened accuracy:': array([50.6, 50. ]),\n",
       "  '% Series with unchanged accuracy:': array([0., 0.]),\n",
       "  '% Change mean global accuracy:': array([-12.7,  -9.7]),\n",
       "  '% Change median global accuracy:': array([-38.4, -21.5])},\n",
       " 'h=15, Bottom 0.2': {'% of forecasted points adjusted downward:': 32.0,\n",
       "  '% of forecasted points adjusted upward:': 68.0,\n",
       "  '% Series with improved accuracy:': array([60.4, 61. ]),\n",
       "  '% Series with worsened accuracy:': array([39.6, 39. ]),\n",
       "  '% Series with unchanged accuracy:': array([0., 0.]),\n",
       "  '% Change mean global accuracy:': array([13.5, 15.1]),\n",
       "  '% Change median global accuracy:': array([-6.9, -2.3])},\n",
       " 'h=1, Bottom 0.4': {'% of forecasted points adjusted downward:': 25.0,\n",
       "  '% of forecasted points adjusted upward:': 75.0,\n",
       "  '% Series with improved accuracy:': array([48.8, 48.8]),\n",
       "  '% Series with worsened accuracy:': array([51.2, 51.2]),\n",
       "  '% Series with unchanged accuracy:': array([0., 0.]),\n",
       "  '% Change mean global accuracy:': array([-70.2, -70.2]),\n",
       "  '% Change median global accuracy:': array([-34.9, -34.9])},\n",
       " 'h=5, Bottom 0.4': {'% of forecasted points adjusted downward:': 31.8,\n",
       "  '% of forecasted points adjusted upward:': 68.2,\n",
       "  '% Series with improved accuracy:': array([48.2, 47. ]),\n",
       "  '% Series with worsened accuracy:': array([51.8, 53. ]),\n",
       "  '% Series with unchanged accuracy:': array([0., 0.]),\n",
       "  '% Change mean global accuracy:': array([-44.6, -35.1]),\n",
       "  '% Change median global accuracy:': array([-58.4, -42.3])},\n",
       " 'h=15, Bottom 0.4': {'% of forecasted points adjusted downward:': 28.599999999999998,\n",
       "  '% of forecasted points adjusted upward:': 71.39999999999999,\n",
       "  '% Series with improved accuracy:': array([58.5, 61. ]),\n",
       "  '% Series with worsened accuracy:': array([41.5, 39. ]),\n",
       "  '% Series with unchanged accuracy:': array([0., 0.]),\n",
       "  '% Change mean global accuracy:': array([-1.6,  2.7]),\n",
       "  '% Change median global accuracy:': array([-20.9, -16.4])}}"
      ]
     },
     "execution_count": 15,
     "metadata": {},
     "output_type": "execute_result"
    }
   ],
   "source": [
    "results_dict_tes"
   ]
  }
 ],
 "metadata": {
  "kernelspec": {
   "display_name": "Python 3 (ipykernel)",
   "language": "python",
   "name": "python3"
  },
  "language_info": {
   "codemirror_mode": {
    "name": "ipython",
    "version": 3
   },
   "file_extension": ".py",
   "mimetype": "text/x-python",
   "name": "python",
   "nbconvert_exporter": "python",
   "pygments_lexer": "ipython3",
   "version": "3.9.7"
  }
 },
 "nbformat": 4,
 "nbformat_minor": 5
}
