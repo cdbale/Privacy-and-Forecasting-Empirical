{
 "cells": [
  {
   "cell_type": "markdown",
   "id": "68012269",
   "metadata": {},
   "source": [
    "### Code for function that obtains results for multiple protection methods and forecasting models."
   ]
  },
  {
   "cell_type": "markdown",
   "id": "c673f4d9",
   "metadata": {},
   "source": [
    "***"
   ]
  },
  {
   "cell_type": "code",
   "execution_count": 1,
   "id": "64bd1924",
   "metadata": {},
   "outputs": [],
   "source": [
    "import pandas as pd\n",
    "import numpy as np\n",
    "\n",
    "from data_protection_functions import *\n",
    "from data_processing_functions import *\n",
    "from forecasting_functions import *\n",
    "\n",
    "# nice time series plots\n",
    "from sktime.utils.plotting import plot_series\n",
    "\n",
    "# import exponential smoothing forecasting model\n",
    "from sktime.forecasting.exp_smoothing import ExponentialSmoothing\n",
    "\n",
    "import lightgbm"
   ]
  },
  {
   "cell_type": "code",
   "execution_count": 2,
   "id": "c91eb823",
   "metadata": {},
   "outputs": [],
   "source": [
    "# import weekly finance time series\n",
    "# ignore header and skip the first row to use integers as column names\n",
    "full_data = pd.read_csv(\"../../Data/Train/Clean/full_m3_monthly_micro_clean.csv\", header=None, skiprows=1)"
   ]
  },
  {
   "cell_type": "code",
   "execution_count": 3,
   "id": "8e3ac0c9",
   "metadata": {},
   "outputs": [],
   "source": [
    "# convert to a list of series, potentially with different lengths\n",
    "full_data = [x.dropna() for _, x in full_data.iterrows()]"
   ]
  },
  {
   "cell_type": "code",
   "execution_count": 4,
   "id": "72645a42",
   "metadata": {},
   "outputs": [],
   "source": [
    "### Set parameters\n",
    "\n",
    "## Protection parameters\n",
    "epsilon = 4.6\n",
    "coding_percentage = 0.10\n",
    "num_stdev = 1\n",
    "\n",
    "## Forecasting parameters\n",
    "# forecast horizon\n",
    "h = 1\n",
    "# LGBM window length\n",
    "window_length = 20\n",
    "# seasonal periodicity\n",
    "sp = 12"
   ]
  },
  {
   "cell_type": "code",
   "execution_count": 5,
   "id": "549575dc",
   "metadata": {},
   "outputs": [],
   "source": [
    "dp_results = all_models_one_protection(full_data=full_data, h=h, sp=sp, window_length=window_length, epsilon=epsilon)"
   ]
  },
  {
   "cell_type": "code",
   "execution_count": 6,
   "id": "e8371c77",
   "metadata": {},
   "outputs": [],
   "source": [
    "add_noise_results = all_models_one_protection(full_data=full_data, h=h, sp=sp, window_length=window_length, num_stdev=num_stdev)"
   ]
  },
  {
   "cell_type": "code",
   "execution_count": 7,
   "id": "afb17fa4",
   "metadata": {},
   "outputs": [],
   "source": [
    "top_results = all_models_one_protection(full_data=full_data, h=h, sp=sp, window_length=window_length, coding_type=\"Top\", coding_percentage=coding_percentage)"
   ]
  },
  {
   "cell_type": "code",
   "execution_count": 8,
   "id": "237e5c28",
   "metadata": {},
   "outputs": [],
   "source": [
    "bottom_results = all_models_one_protection(full_data=full_data, h=h, sp=sp, window_length=window_length, coding_type=\"Bottom\", coding_percentage=coding_percentage)"
   ]
  },
  {
   "cell_type": "code",
   "execution_count": 9,
   "id": "98309c28",
   "metadata": {},
   "outputs": [
    {
     "data": {
      "text/plain": [
       "[{'Global MAE': 686.7062,\n",
       "  'Global Protected MAE': 1121.5447,\n",
       "  'Global MdAE': 686.7062,\n",
       "  'Global Protected MdAE': 1121.5447,\n",
       "  'Original MAE Up': 599.0161,\n",
       "  'Protected MAE Up': 633.9543,\n",
       "  'Original MAE Down': 707.2585,\n",
       "  'Protected MAE Down': 1235.8237,\n",
       "  'Original MdAE Up': 404.0999,\n",
       "  'Protected MdAE Up': 485.1058,\n",
       "  'Original MdAE Down': 464.9907,\n",
       "  'Protected MdAE Down': 853.5541},\n",
       " {'Global MAE': 680.5364,\n",
       "  'Global Protected MAE': 1293.0925,\n",
       "  'Global MdAE': 680.5364,\n",
       "  'Global Protected MdAE': 1293.0925,\n",
       "  'Original MAE Up': 722.5413,\n",
       "  'Protected MAE Up': 1192.2909,\n",
       "  'Original MAE Down': 666.7701,\n",
       "  'Protected MAE Down': 1326.1284,\n",
       "  'Original MdAE Up': 577.8677,\n",
       "  'Protected MdAE Up': 706.6922,\n",
       "  'Original MdAE Down': 408.154,\n",
       "  'Protected MdAE Down': 1087.0819},\n",
       " {'Global MAE': 637.9026,\n",
       "  'Global Protected MAE': 1681.5848,\n",
       "  'Global MdAE': 637.9026,\n",
       "  'Global Protected MdAE': 1681.5848,\n",
       "  'Original MAE Up': 801.3323,\n",
       "  'Protected MAE Up': 2342.8587,\n",
       "  'Original MAE Down': 555.4095,\n",
       "  'Protected MAE Down': 1347.7989,\n",
       "  'Original MdAE Up': 504.9085,\n",
       "  'Protected MdAE Up': 888.1286,\n",
       "  'Original MdAE Down': 327.3309,\n",
       "  'Protected MdAE Down': 1063.0861},\n",
       " {'Global MAE': 666.7842,\n",
       "  'Global Protected MAE': 1208.657,\n",
       "  'Global MdAE': 666.7842,\n",
       "  'Global Protected MdAE': 1208.657,\n",
       "  'Original MAE Up': 640.1456,\n",
       "  'Protected MAE Up': 1200.6335,\n",
       "  'Original MAE Down': 679.8523,\n",
       "  'Protected MAE Down': 1212.593,\n",
       "  'Original MdAE Up': 379.7787,\n",
       "  'Protected MdAE Up': 618.9574,\n",
       "  'Original MdAE Down': 408.6929,\n",
       "  'Protected MdAE Down': 860.2598}]"
      ]
     },
     "execution_count": 9,
     "metadata": {},
     "output_type": "execute_result"
    }
   ],
   "source": [
    "dp_results"
   ]
  },
  {
   "cell_type": "code",
   "execution_count": 10,
   "id": "030b1435",
   "metadata": {},
   "outputs": [
    {
     "data": {
      "text/plain": [
       "[{'Global MAE': 686.7062,\n",
       "  'Global Protected MAE': 881.0834,\n",
       "  'Global MdAE': 686.7062,\n",
       "  'Global Protected MdAE': 881.0834,\n",
       "  'Original MAE Up': 530.3575,\n",
       "  'Protected MAE Up': 552.8628,\n",
       "  'Original MAE Down': 751.5792,\n",
       "  'Protected MAE Down': 1017.2705,\n",
       "  'Original MdAE Up': 402.704,\n",
       "  'Protected MdAE Up': 415.0336,\n",
       "  'Original MdAE Down': 475.3426,\n",
       "  'Protected MdAE Down': 713.1431},\n",
       " {'Global MAE': 680.5364,\n",
       "  'Global Protected MAE': 1077.8732,\n",
       "  'Global MdAE': 680.5364,\n",
       "  'Global Protected MdAE': 1077.8732,\n",
       "  'Original MAE Up': 672.9603,\n",
       "  'Protected MAE Up': 1041.3855,\n",
       "  'Original MAE Down': 684.1475,\n",
       "  'Protected MAE Down': 1095.2646,\n",
       "  'Original MdAE Up': 501.2064,\n",
       "  'Protected MdAE Up': 563.5293,\n",
       "  'Original MdAE Down': 420.5541,\n",
       "  'Protected MdAE Down': 845.8976},\n",
       " {'Global MAE': 637.9026,\n",
       "  'Global Protected MAE': 1530.9597,\n",
       "  'Global MdAE': 637.9026,\n",
       "  'Global Protected MdAE': 1530.9597,\n",
       "  'Original MAE Up': 698.7527,\n",
       "  'Protected MAE Up': 2381.5206,\n",
       "  'Original MAE Down': 606.8962,\n",
       "  'Protected MAE Down': 1097.5528,\n",
       "  'Original MdAE Up': 423.5008,\n",
       "  'Protected MdAE Up': 623.9964,\n",
       "  'Original MdAE Down': 347.0362,\n",
       "  'Protected MdAE Down': 802.8442},\n",
       " {'Global MAE': 666.7842,\n",
       "  'Global Protected MAE': 1274.3461,\n",
       "  'Global MdAE': 666.7842,\n",
       "  'Global Protected MdAE': 1274.3461,\n",
       "  'Original MAE Up': 648.8068,\n",
       "  'Protected MAE Up': 1655.4605,\n",
       "  'Original MAE Down': 677.4018,\n",
       "  'Protected MAE Down': 1049.2584,\n",
       "  'Original MdAE Up': 419.356,\n",
       "  'Protected MdAE Up': 583.8757,\n",
       "  'Original MdAE Down': 384.9082,\n",
       "  'Protected MdAE Down': 718.1789}]"
      ]
     },
     "execution_count": 10,
     "metadata": {},
     "output_type": "execute_result"
    }
   ],
   "source": [
    "add_noise_results"
   ]
  },
  {
   "cell_type": "code",
   "execution_count": 11,
   "id": "d81d5f24",
   "metadata": {},
   "outputs": [
    {
     "data": {
      "text/plain": [
       "[{'Global MAE': 686.7062,\n",
       "  'Global Protected MAE': 678.2735,\n",
       "  'Global MdAE': 686.7062,\n",
       "  'Global Protected MdAE': 678.2735,\n",
       "  'Original MAE Up': 455.127,\n",
       "  'Protected MAE Up': 446.8865,\n",
       "  'Original MAE Down': 789.8193,\n",
       "  'Protected MAE Down': 781.2518,\n",
       "  'Original MdAE Up': 373.8373,\n",
       "  'Protected MdAE Up': 371.6574,\n",
       "  'Original MdAE Down': 505.0888,\n",
       "  'Protected MdAE Down': 470.2978},\n",
       " {'Global MAE': 680.5364,\n",
       "  'Global Protected MAE': 671.4773,\n",
       "  'Global MdAE': 680.5364,\n",
       "  'Global Protected MdAE': 671.4773,\n",
       "  'Original MAE Up': 514.8034,\n",
       "  'Protected MAE Up': 507.3922,\n",
       "  'Original MAE Down': 836.7602,\n",
       "  'Protected MAE Down': 826.1476,\n",
       "  'Original MdAE Up': 366.766,\n",
       "  'Protected MdAE Up': 353.839,\n",
       "  'Original MdAE Down': 545.7665,\n",
       "  'Protected MdAE Down': 508.4852},\n",
       " {'Global MAE': 637.9026,\n",
       "  'Global Protected MAE': 627.0949,\n",
       "  'Global MdAE': 637.9026,\n",
       "  'Global Protected MdAE': 627.0949,\n",
       "  'Original MAE Up': 536.7065,\n",
       "  'Protected MAE Up': 531.1357,\n",
       "  'Original MAE Down': 736.5688,\n",
       "  'Protected MAE Down': 720.6551,\n",
       "  'Original MdAE Up': 379.3371,\n",
       "  'Protected MdAE Up': 355.9622,\n",
       "  'Original MdAE Down': 376.6005,\n",
       "  'Protected MdAE Down': 369.0946},\n",
       " {'Global MAE': 666.7842,\n",
       "  'Global Protected MAE': 646.5698,\n",
       "  'Global MdAE': 666.7842,\n",
       "  'Global Protected MdAE': 646.5698,\n",
       "  'Original MAE Up': 655.2745,\n",
       "  'Protected MAE Up': 655.0543,\n",
       "  'Original MAE Down': 676.6691,\n",
       "  'Protected MAE Down': 639.2831,\n",
       "  'Original MdAE Up': 379.6991,\n",
       "  'Protected MdAE Up': 389.3447,\n",
       "  'Original MdAE Down': 413.2852,\n",
       "  'Protected MdAE Down': 386.5654}]"
      ]
     },
     "execution_count": 11,
     "metadata": {},
     "output_type": "execute_result"
    }
   ],
   "source": [
    "top_results"
   ]
  },
  {
   "cell_type": "code",
   "execution_count": 12,
   "id": "fff22254",
   "metadata": {},
   "outputs": [
    {
     "data": {
      "text/plain": [
       "[{'Global MAE': 686.7062,\n",
       "  'Global Protected MAE': 701.6073,\n",
       "  'Global MdAE': 686.7062,\n",
       "  'Global Protected MdAE': 701.6073,\n",
       "  'Original MAE Up': 647.6574,\n",
       "  'Protected MAE Up': 668.3307,\n",
       "  'Original MAE Down': 978.1771,\n",
       "  'Protected MAE Down': 949.994,\n",
       "  'Original MdAE Up': 441.302,\n",
       "  'Protected MdAE Up': 455.3612,\n",
       "  'Original MdAE Down': 555.1798,\n",
       "  'Protected MdAE Down': 475.6539},\n",
       " {'Global MAE': 680.5364,\n",
       "  'Global Protected MAE': 685.8691,\n",
       "  'Global MdAE': 680.5364,\n",
       "  'Global Protected MdAE': 685.8691,\n",
       "  'Original MAE Up': 638.0573,\n",
       "  'Protected MAE Up': 646.0826,\n",
       "  'Original MAE Down': 886.6387,\n",
       "  'Protected MAE Down': 878.9075,\n",
       "  'Original MdAE Up': 428.6617,\n",
       "  'Protected MdAE Up': 418.8098,\n",
       "  'Original MdAE Down': 545.3313,\n",
       "  'Protected MdAE Down': 530.2265},\n",
       " {'Global MAE': 637.9026,\n",
       "  'Global Protected MAE': 643.6376,\n",
       "  'Global MdAE': 637.9026,\n",
       "  'Global Protected MdAE': 643.6376,\n",
       "  'Original MAE Up': 590.8202,\n",
       "  'Protected MAE Up': 611.1763,\n",
       "  'Original MAE Down': 753.7184,\n",
       "  'Protected MAE Down': 723.4876,\n",
       "  'Original MdAE Up': 351.7284,\n",
       "  'Protected MdAE Up': 377.4703,\n",
       "  'Original MdAE Down': 471.2149,\n",
       "  'Protected MdAE Down': 496.6856},\n",
       " {'Global MAE': 666.7842,\n",
       "  'Global Protected MAE': 662.4296,\n",
       "  'Global MdAE': 666.7842,\n",
       "  'Global Protected MdAE': 662.4296,\n",
       "  'Original MAE Up': 651.8629,\n",
       "  'Protected MAE Up': 668.1671,\n",
       "  'Original MAE Down': 694.2145,\n",
       "  'Protected MAE Down': 651.8823,\n",
       "  'Original MdAE Up': 387.629,\n",
       "  'Protected MdAE Up': 418.1313,\n",
       "  'Original MdAE Down': 413.2852,\n",
       "  'Protected MdAE Down': 373.4745}]"
      ]
     },
     "execution_count": 12,
     "metadata": {},
     "output_type": "execute_result"
    }
   ],
   "source": [
    "bottom_results"
   ]
  },
  {
   "cell_type": "markdown",
   "id": "77ffc265",
   "metadata": {},
   "source": [
    "***"
   ]
  },
  {
   "cell_type": "code",
   "execution_count": 13,
   "id": "6ad26e41",
   "metadata": {},
   "outputs": [],
   "source": [
    "colnames = [\"Error Metric\", \n",
    "            \"Forecasting Model\", \n",
    "            \"Original\", \n",
    "            \"DP\" + \" (epsilon=\" + str(epsilon) + \")\",\n",
    "            \"Add. Noise (\" + str(num_stdev) + \" SD)\",\n",
    "            \"Top Coding (\" + str(int(coding_percentage*100)) + \"%)\",\n",
    "            \"Bottom Coding (\" + str(int(coding_percentage*100)) + \"%)\"]"
   ]
  },
  {
   "cell_type": "code",
   "execution_count": 14,
   "id": "22a18c53",
   "metadata": {},
   "outputs": [],
   "source": [
    "models = [\"SES\", \"DES\", \"TES\", \"LGBM\"]"
   ]
  },
  {
   "cell_type": "code",
   "execution_count": 15,
   "id": "11eabb27",
   "metadata": {},
   "outputs": [],
   "source": [
    "original_mae = [r['Global MAE'] for r in dp_results]\n",
    "dp_mae = [r['Global Protected MAE'] for r in dp_results]\n",
    "an_mae = [r['Global Protected MAE'] for r in add_noise_results]\n",
    "tc_mae = [r['Global Protected MAE'] for r in top_results]\n",
    "bc_mae = [r['Global Protected MAE'] for r in bottom_results]"
   ]
  },
  {
   "cell_type": "code",
   "execution_count": null,
   "id": "b10777ae",
   "metadata": {},
   "outputs": [],
   "source": []
  }
 ],
 "metadata": {
  "kernelspec": {
   "display_name": "Python 3 (ipykernel)",
   "language": "python",
   "name": "python3"
  },
  "language_info": {
   "codemirror_mode": {
    "name": "ipython",
    "version": 3
   },
   "file_extension": ".py",
   "mimetype": "text/x-python",
   "name": "python",
   "nbconvert_exporter": "python",
   "pygments_lexer": "ipython3",
   "version": "3.9.7"
  }
 },
 "nbformat": 4,
 "nbformat_minor": 5
}
