{
 "cells": [
  {
   "cell_type": "markdown",
   "id": "dd4dd470",
   "metadata": {},
   "source": [
    "## Code for Implementing ARIMA Models"
   ]
  },
  {
   "cell_type": "code",
   "execution_count": 1,
   "id": "9e26cc40",
   "metadata": {},
   "outputs": [],
   "source": [
    "# load modules\n",
    "import numpy as np\n",
    "import pandas as pd\n",
    "from sktime.performance_metrics.forecasting import mean_absolute_error, MeanAbsoluteError\n",
    "from sktime.forecasting.arima import AutoARIMA\n",
    "\n",
    "from data_protection_functions import *\n",
    "from data_processing_functions import *\n",
    "from forecasting_functions import *\n",
    "\n",
    "# nice time series plots\n",
    "from sktime.utils.plotting import plot_series\n",
    "from sktime.forecasting.model_selection import ForecastingGridSearchCV, ExpandingWindowSplitter, SlidingWindowSplitter\n",
    "from sktime.forecasting.compose import TransformedTargetForecaster"
   ]
  },
  {
   "cell_type": "markdown",
   "id": "89c649ba",
   "metadata": {},
   "source": [
    "***"
   ]
  },
  {
   "cell_type": "markdown",
   "id": "76805ead",
   "metadata": {},
   "source": [
    "### Import Data and Create Train/Test"
   ]
  },
  {
   "cell_type": "code",
   "execution_count": 2,
   "id": "f0c94c58",
   "metadata": {},
   "outputs": [],
   "source": [
    "# import weekly finance time series\n",
    "# ignore header and skip the first row to use integers as column names\n",
    "full_data = pd.read_csv(\"../../Data/Train/Clean/full_m3_monthly_micro_clean.csv\", header=None, skiprows=1).iloc[300:302,:]"
   ]
  },
  {
   "cell_type": "code",
   "execution_count": 3,
   "id": "fc9607e5",
   "metadata": {},
   "outputs": [],
   "source": [
    "# convert to a list of series, potentially with different lengths\n",
    "full_data = [x.dropna() for _, x in full_data.iterrows()]"
   ]
  },
  {
   "cell_type": "code",
   "execution_count": 4,
   "id": "dd8df1d5",
   "metadata": {},
   "outputs": [],
   "source": [
    "# forecast horizon\n",
    "h = 1"
   ]
  },
  {
   "cell_type": "code",
   "execution_count": 5,
   "id": "c1193274",
   "metadata": {},
   "outputs": [],
   "source": [
    "Y = [x.iloc[:-h] for x in full_data]\n",
    "Test = [x.iloc[-h:] for x in full_data]"
   ]
  },
  {
   "cell_type": "markdown",
   "id": "696b10c1",
   "metadata": {},
   "source": [
    "***"
   ]
  },
  {
   "cell_type": "markdown",
   "id": "86cec0ce",
   "metadata": {},
   "source": [
    "### Apply Data Protection to Generate Protected Dataset"
   ]
  },
  {
   "cell_type": "code",
   "execution_count": 6,
   "id": "058f994d",
   "metadata": {},
   "outputs": [],
   "source": [
    "protection_method = \"Top_10\"\n",
    "Y_protected = apply_data_protection(Y, coding_type=\"Top\", coding_percentage=0.10)"
   ]
  },
  {
   "cell_type": "markdown",
   "id": "8ef6544b",
   "metadata": {},
   "source": [
    "***"
   ]
  },
  {
   "cell_type": "markdown",
   "id": "cb28d607",
   "metadata": {},
   "source": [
    "### Pre-Process the Data"
   ]
  },
  {
   "cell_type": "code",
   "execution_count": 7,
   "id": "62c6628d",
   "metadata": {},
   "outputs": [],
   "source": [
    "Y_processed, Y_last_window, Y_last_window_trend = pre_process(ts_data=Y, \n",
    "                                                              log=True)\n",
    "\n",
    "Y_protected_processed, Y_protected_last_window, Y_protected_last_window_trend = pre_process(ts_data=Y_protected, \n",
    "                                                                                            log=True)"
   ]
  },
  {
   "cell_type": "markdown",
   "id": "e5f2b8f8",
   "metadata": {},
   "source": [
    "***"
   ]
  },
  {
   "cell_type": "markdown",
   "id": "f9f21f74",
   "metadata": {},
   "source": [
    "### Train Models and Generate Forecasts"
   ]
  },
  {
   "cell_type": "code",
   "execution_count": 8,
   "id": "ed18d715",
   "metadata": {},
   "outputs": [],
   "source": [
    "forecasts_original = train_and_forecast(ts_data=Y_processed,\n",
    "                                        horizon_length=h,\n",
    "                                        forecasting_model=\"ARIMA\",\n",
    "                                        protection_method=protection_method)\n",
    "\n",
    "forecasts_protected = train_and_forecast(ts_data=Y_protected_processed,\n",
    "                                         horizon_length=h,\n",
    "                                         forecasting_model=\"ARIMA\",\n",
    "                                         protection_method=protection_method)"
   ]
  },
  {
   "cell_type": "markdown",
   "id": "1b91555d",
   "metadata": {},
   "source": [
    "***"
   ]
  },
  {
   "cell_type": "markdown",
   "id": "2d0cadb9",
   "metadata": {},
   "source": [
    "### Post Process the Forecasts"
   ]
  },
  {
   "cell_type": "code",
   "execution_count": 9,
   "id": "f843b2da",
   "metadata": {},
   "outputs": [],
   "source": [
    "forecasts_original = post_process(full_ts_data=Y, \n",
    "                                  forecasts=forecasts_original,\n",
    "                                  log=True)\n",
    "\n",
    "forecasts_protected = post_process(full_ts_data=Y_protected, \n",
    "                                   forecasts=forecasts_protected,\n",
    "                                   log=True)"
   ]
  },
  {
   "cell_type": "markdown",
   "id": "5fecb69a",
   "metadata": {},
   "source": [
    "***"
   ]
  },
  {
   "cell_type": "markdown",
   "id": "006b34a1",
   "metadata": {},
   "source": [
    "### Assess Forecast Accuracy"
   ]
  },
  {
   "cell_type": "code",
   "execution_count": 10,
   "id": "24d15f6f",
   "metadata": {},
   "outputs": [
    {
     "data": {
      "text/html": [
       "<div>\n",
       "<style scoped>\n",
       "    .dataframe tbody tr th:only-of-type {\n",
       "        vertical-align: middle;\n",
       "    }\n",
       "\n",
       "    .dataframe tbody tr th {\n",
       "        vertical-align: top;\n",
       "    }\n",
       "\n",
       "    .dataframe thead th {\n",
       "        text-align: right;\n",
       "    }\n",
       "</style>\n",
       "<table border=\"1\" class=\"dataframe\">\n",
       "  <thead>\n",
       "    <tr style=\"text-align: right;\">\n",
       "      <th></th>\n",
       "      <th>0</th>\n",
       "      <th>1</th>\n",
       "    </tr>\n",
       "  </thead>\n",
       "  <tbody>\n",
       "    <tr>\n",
       "      <th>0</th>\n",
       "      <td>1501.903547</td>\n",
       "      <td>1963.150103</td>\n",
       "    </tr>\n",
       "  </tbody>\n",
       "</table>\n",
       "</div>"
      ],
      "text/plain": [
       "             0            1\n",
       "0  1501.903547  1963.150103"
      ]
     },
     "execution_count": 10,
     "metadata": {},
     "output_type": "execute_result"
    }
   ],
   "source": [
    "forecasts_original"
   ]
  },
  {
   "cell_type": "code",
   "execution_count": 11,
   "id": "41ae48e7",
   "metadata": {},
   "outputs": [
    {
     "data": {
      "text/html": [
       "<div>\n",
       "<style scoped>\n",
       "    .dataframe tbody tr th:only-of-type {\n",
       "        vertical-align: middle;\n",
       "    }\n",
       "\n",
       "    .dataframe tbody tr th {\n",
       "        vertical-align: top;\n",
       "    }\n",
       "\n",
       "    .dataframe thead th {\n",
       "        text-align: right;\n",
       "    }\n",
       "</style>\n",
       "<table border=\"1\" class=\"dataframe\">\n",
       "  <thead>\n",
       "    <tr style=\"text-align: right;\">\n",
       "      <th></th>\n",
       "      <th>0</th>\n",
       "      <th>1</th>\n",
       "    </tr>\n",
       "  </thead>\n",
       "  <tbody>\n",
       "    <tr>\n",
       "      <th>0</th>\n",
       "      <td>1326.605058</td>\n",
       "      <td>1966.651749</td>\n",
       "    </tr>\n",
       "  </tbody>\n",
       "</table>\n",
       "</div>"
      ],
      "text/plain": [
       "             0            1\n",
       "0  1326.605058  1966.651749"
      ]
     },
     "execution_count": 11,
     "metadata": {},
     "output_type": "execute_result"
    }
   ],
   "source": [
    "forecasts_protected"
   ]
  },
  {
   "cell_type": "code",
   "execution_count": 12,
   "id": "c2c6907a",
   "metadata": {},
   "outputs": [],
   "source": [
    "Test = pd.DataFrame([x.reset_index(drop=True) for x in Test]).T"
   ]
  },
  {
   "cell_type": "code",
   "execution_count": 13,
   "id": "50be253a",
   "metadata": {},
   "outputs": [
    {
     "data": {
      "text/plain": [
       "{'Global MAPE': 0.312,\n",
       " 'Global Protected MAPE': 0.3551,\n",
       " 'Global MAE': 834.9732,\n",
       " 'Global Protected MAE': 920.8716,\n",
       " 'Global MdAE': 834.9732,\n",
       " 'Global Protected MdAE': 920.8716,\n",
       " 'Original MAE Up': 1164.8499,\n",
       " 'Protected MAE Up': 1161.3483,\n",
       " 'Original MAE Down': 505.0965,\n",
       " 'Protected MAE Down': 680.3949,\n",
       " 'Original MdAE Up': 1164.8499,\n",
       " 'Protected MdAE Up': 1161.3483,\n",
       " 'Original MdAE Down': 505.0965,\n",
       " 'Protected MdAE Down': 680.3949}"
      ]
     },
     "execution_count": 13,
     "metadata": {},
     "output_type": "execute_result"
    }
   ],
   "source": [
    "forecast_results(test_data=Test, original_forecasts=forecasts_original, protected_forecasts=forecasts_protected)"
   ]
  },
  {
   "cell_type": "markdown",
   "id": "e390207c",
   "metadata": {},
   "source": [
    "***"
   ]
  },
  {
   "cell_type": "markdown",
   "id": "b5d3e1df",
   "metadata": {},
   "source": [
    "### All in One Function"
   ]
  },
  {
   "cell_type": "code",
   "execution_count": 14,
   "id": "8e938845",
   "metadata": {},
   "outputs": [],
   "source": [
    "# import weekly finance time series\n",
    "# ignore header and skip the first row to use integers as column names\n",
    "full_data = pd.read_csv(\"../../Data/Train/Clean/full_m3_monthly_micro_clean.csv\", header=None, skiprows=1).iloc[300:302,:]"
   ]
  },
  {
   "cell_type": "code",
   "execution_count": 15,
   "id": "0d883749",
   "metadata": {},
   "outputs": [],
   "source": [
    "# convert to a list of series, potentially with different lengths\n",
    "full_data = [x.dropna() for _, x in full_data.iterrows()]"
   ]
  },
  {
   "cell_type": "code",
   "execution_count": 16,
   "id": "09298f04",
   "metadata": {},
   "outputs": [],
   "source": [
    "# forecast horizon\n",
    "h = 1"
   ]
  },
  {
   "cell_type": "code",
   "execution_count": 17,
   "id": "d025c131",
   "metadata": {},
   "outputs": [],
   "source": [
    "Y = [x.iloc[:-h] for x in full_data]\n",
    "Test = [x.iloc[-h:] for x in full_data]"
   ]
  },
  {
   "cell_type": "code",
   "execution_count": 18,
   "id": "0e0bf2d2",
   "metadata": {},
   "outputs": [],
   "source": [
    "protection_method = \"Top_10\"\n",
    "Y_protected = apply_data_protection(Y, coding_type=\"Top\", coding_percentage=0.10)"
   ]
  },
  {
   "cell_type": "code",
   "execution_count": 19,
   "id": "6137836b",
   "metadata": {},
   "outputs": [
    {
     "data": {
      "text/plain": [
       "{'Global MAPE': 0.312,\n",
       " 'Global Protected MAPE': 0.3551,\n",
       " 'Global MAE': 834.9732,\n",
       " 'Global Protected MAE': 920.8716,\n",
       " 'Global MdAE': 834.9732,\n",
       " 'Global Protected MdAE': 920.8716,\n",
       " 'Original MAE Up': 1164.8499,\n",
       " 'Protected MAE Up': 1161.3483,\n",
       " 'Original MAE Down': 505.0965,\n",
       " 'Protected MAE Down': 680.3949,\n",
       " 'Original MdAE Up': 1164.8499,\n",
       " 'Protected MdAE Up': 1161.3483,\n",
       " 'Original MdAE Down': 505.0965,\n",
       " 'Protected MdAE Down': 680.3949}"
      ]
     },
     "execution_count": 19,
     "metadata": {},
     "output_type": "execute_result"
    }
   ],
   "source": [
    "full_forecast_analysis(Y=Y,\n",
    "                       Y_protected=Y_protected,\n",
    "                       Test=Test,\n",
    "                       h=1,\n",
    "                       protection_method=protection_method,\n",
    "                       forecasting_model=\"ARIMA\",\n",
    "                       log=True)"
   ]
  },
  {
   "cell_type": "code",
   "execution_count": null,
   "id": "796401b2",
   "metadata": {},
   "outputs": [],
   "source": []
  }
 ],
 "metadata": {
  "kernelspec": {
   "display_name": "Python 3 (ipykernel)",
   "language": "python",
   "name": "python3"
  },
  "language_info": {
   "codemirror_mode": {
    "name": "ipython",
    "version": 3
   },
   "file_extension": ".py",
   "mimetype": "text/x-python",
   "name": "python",
   "nbconvert_exporter": "python",
   "pygments_lexer": "ipython3",
   "version": "3.9.7"
  }
 },
 "nbformat": 4,
 "nbformat_minor": 5
}
