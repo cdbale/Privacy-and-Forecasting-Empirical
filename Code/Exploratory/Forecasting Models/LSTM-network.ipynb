{
 "cells": [
  {
   "cell_type": "markdown",
   "id": "27aa9921",
   "metadata": {},
   "source": [
    "# Experimental Code with RNN (LSTM)"
   ]
  },
  {
   "cell_type": "markdown",
   "id": "2df09180",
   "metadata": {},
   "source": [
    "***"
   ]
  },
  {
   "cell_type": "markdown",
   "id": "1e758034",
   "metadata": {},
   "source": [
    "### Importing Modules and Data"
   ]
  },
  {
   "cell_type": "code",
   "execution_count": 1,
   "id": "c2161b82",
   "metadata": {},
   "outputs": [],
   "source": [
    "from darts import TimeSeries\n",
    "import pandas as pd\n",
    "import numpy as np\n",
    "\n",
    "from darts.models.forecasting.rnn_model import RNNModel\n",
    "from sktime.performance_metrics.forecasting import mean_absolute_error"
   ]
  },
  {
   "cell_type": "code",
   "execution_count": 2,
   "id": "851d35bd",
   "metadata": {},
   "outputs": [],
   "source": [
    "# import monthly micro time series\n",
    "# ignore header and skip the first row to use integers as column names\n",
    "full_data = pd.read_csv(\"../../../Data/Train/Clean/full_m3_monthly_micro_clean.csv\", header=None, skiprows=1)"
   ]
  },
  {
   "cell_type": "code",
   "execution_count": 3,
   "id": "bb3b3fb4",
   "metadata": {},
   "outputs": [],
   "source": [
    "# convert to a list of series, potentially with different lengths\n",
    "# drop NA values\n",
    "full_data = [x.dropna() for _, x in full_data.iterrows()]"
   ]
  },
  {
   "cell_type": "code",
   "execution_count": 4,
   "id": "4a13ab29",
   "metadata": {},
   "outputs": [],
   "source": [
    "# forecast horizon\n",
    "h = 1"
   ]
  },
  {
   "cell_type": "code",
   "execution_count": 21,
   "id": "5ef6b0c3",
   "metadata": {},
   "outputs": [],
   "source": [
    "# create train and test set using forecast horizon\n",
    "Y = [x.iloc[:-h] for x in full_data]\n",
    "Test = [x.iloc[-h:] for x in full_data]\n",
    "Test = pd.DataFrame([x.reset_index(drop=True) for x in Test]).T"
   ]
  },
  {
   "cell_type": "markdown",
   "id": "801795a7",
   "metadata": {},
   "source": [
    "***"
   ]
  },
  {
   "cell_type": "markdown",
   "id": "5dffb217",
   "metadata": {},
   "source": [
    "### Creating Subsets of Series with the same length and convertime to `TimeSeries` object."
   ]
  },
  {
   "cell_type": "code",
   "execution_count": 6,
   "id": "0f88bcec",
   "metadata": {},
   "outputs": [],
   "source": [
    "# find all series lengths\n",
    "ts_lengths = [len(y) for y in full_data]"
   ]
  },
  {
   "cell_type": "code",
   "execution_count": 7,
   "id": "d1dfb853",
   "metadata": {},
   "outputs": [],
   "source": [
    "# find the unique lengths\n",
    "unique_lengths = np.unique(ts_lengths)"
   ]
  },
  {
   "cell_type": "code",
   "execution_count": 35,
   "id": "4cbbe1fd",
   "metadata": {},
   "outputs": [],
   "source": [
    "length_clusters = [[i for i in np.where(ts_lengths == unique_lengths[j])[0]] for j in range(len(unique_lengths))]"
   ]
  },
  {
   "cell_type": "code",
   "execution_count": 36,
   "id": "4136d1cf",
   "metadata": {},
   "outputs": [],
   "source": [
    "# define a cluster of series with the same length\n",
    "cluster_1 = [full_data[i] for i in length_clusters[0]]"
   ]
  },
  {
   "cell_type": "code",
   "execution_count": 37,
   "id": "0374ca50",
   "metadata": {},
   "outputs": [],
   "source": [
    "# conver to type np.float32 to speed up training\n",
    "cluster_1 = [x.astype(np.float32) for x in cluster_1]"
   ]
  },
  {
   "cell_type": "code",
   "execution_count": 38,
   "id": "ea781d06",
   "metadata": {},
   "outputs": [],
   "source": [
    "# concatenate series into dataframe\n",
    "cluster_1 = pd.concat(cluster_1, axis=1)"
   ]
  },
  {
   "cell_type": "code",
   "execution_count": 39,
   "id": "30c897b8",
   "metadata": {},
   "outputs": [],
   "source": [
    "# convert dataframe index to a RangeIndex\n",
    "cluster_1.index = pd.RangeIndex(start=0, stop=cluster_1.shape[0])"
   ]
  },
  {
   "cell_type": "code",
   "execution_count": 40,
   "id": "faaccdf1",
   "metadata": {},
   "outputs": [],
   "source": [
    "# convert dataframe to TimeSeries object\n",
    "ts_data = TimeSeries.from_dataframe(df=cluster_1)"
   ]
  },
  {
   "cell_type": "markdown",
   "id": "31fdd9b2",
   "metadata": {},
   "source": [
    "***"
   ]
  },
  {
   "cell_type": "markdown",
   "id": "46cf6ead",
   "metadata": {},
   "source": [
    "### Model Setup"
   ]
  },
  {
   "cell_type": "code",
   "execution_count": 41,
   "id": "b947db46",
   "metadata": {},
   "outputs": [],
   "source": [
    "# RNN parameters\n",
    "input_chunk_length = 12\n",
    "model = \"LSTM\""
   ]
  },
  {
   "cell_type": "code",
   "execution_count": 42,
   "id": "b7393b72",
   "metadata": {},
   "outputs": [],
   "source": [
    "# instantiate the model\n",
    "RNN = RNNModel(input_chunk_length=input_chunk_length,\n",
    "               model=model)"
   ]
  },
  {
   "cell_type": "markdown",
   "id": "fb62b118",
   "metadata": {},
   "source": [
    "### Model Training"
   ]
  },
  {
   "cell_type": "code",
   "execution_count": 43,
   "id": "892f7a5a",
   "metadata": {},
   "outputs": [
    {
     "name": "stderr",
     "output_type": "stream",
     "text": [
      "[2022-05-28 14:51:03,943] INFO | darts.models.forecasting.torch_forecasting_model | Train dataset contains 43 samples.\n",
      "[2022-05-28 14:51:03,943] INFO | darts.models.forecasting.torch_forecasting_model | Train dataset contains 43 samples.\n",
      "2022-05-28 14:51:03 darts.models.forecasting.torch_forecasting_model INFO: Train dataset contains 43 samples.\n",
      "[2022-05-28 14:51:03,950] INFO | darts.models.forecasting.torch_forecasting_model | Time series values are 32-bits; casting model to float32.\n",
      "[2022-05-28 14:51:03,950] INFO | darts.models.forecasting.torch_forecasting_model | Time series values are 32-bits; casting model to float32.\n",
      "2022-05-28 14:51:03 darts.models.forecasting.torch_forecasting_model INFO: Time series values are 32-bits; casting model to float32.\n",
      "2022-05-28 14:51:03 pytorch_lightning.utilities.rank_zero INFO: GPU available: False, used: False\n",
      "2022-05-28 14:51:03 pytorch_lightning.utilities.rank_zero INFO: TPU available: False, using: 0 TPU cores\n",
      "2022-05-28 14:51:03 pytorch_lightning.utilities.rank_zero INFO: IPU available: False, using: 0 IPUs\n",
      "2022-05-28 14:51:03 pytorch_lightning.utilities.rank_zero INFO: HPU available: False, using: 0 HPUs\n",
      "2022-05-28 14:51:03 pytorch_lightning.callbacks.model_summary INFO: \n",
      "  | Name      | Type    | Params\n",
      "--------------------------------------\n",
      "0 | criterion | MSELoss | 0     \n",
      "1 | rnn       | LSTM    | 4.5 K \n",
      "2 | V         | Linear  | 468   \n",
      "--------------------------------------\n",
      "5.0 K     Trainable params\n",
      "0         Non-trainable params\n",
      "5.0 K     Total params\n",
      "0.020     Total estimated model params size (MB)\n"
     ]
    },
    {
     "data": {
      "application/vnd.jupyter.widget-view+json": {
       "model_id": "2583bad6dd2a4c8a991dde5e3949d97f",
       "version_major": 2,
       "version_minor": 0
      },
      "text/plain": [
       "Training: 0it [00:00, ?it/s]"
      ]
     },
     "metadata": {},
     "output_type": "display_data"
    },
    {
     "data": {
      "text/plain": [
       "<darts.models.forecasting.rnn_model.RNNModel at 0x22179598280>"
      ]
     },
     "execution_count": 43,
     "metadata": {},
     "output_type": "execute_result"
    }
   ],
   "source": [
    "# fit the model\n",
    "RNN.fit(series=ts_data)"
   ]
  },
  {
   "cell_type": "markdown",
   "id": "bd62e695",
   "metadata": {},
   "source": [
    "### Generate Forecasts"
   ]
  },
  {
   "cell_type": "code",
   "execution_count": 44,
   "id": "2ab01837",
   "metadata": {},
   "outputs": [
    {
     "data": {
      "application/vnd.jupyter.widget-view+json": {
       "model_id": "45fe3eb0ac224ae4b40c1524db3f22ce",
       "version_major": 2,
       "version_minor": 0
      },
      "text/plain": [
       "Predicting: 2it [00:00, ?it/s]"
      ]
     },
     "metadata": {},
     "output_type": "display_data"
    }
   ],
   "source": [
    "fcasts = RNN.predict(n=h)"
   ]
  },
  {
   "cell_type": "code",
   "execution_count": 45,
   "id": "b1c4f78a",
   "metadata": {},
   "outputs": [],
   "source": [
    "fcasts = fcasts.pd_dataframe()"
   ]
  },
  {
   "cell_type": "code",
   "execution_count": 48,
   "id": "19f19a2d",
   "metadata": {},
   "outputs": [],
   "source": [
    "cluster_test = Test.iloc[:,length_clusters[0]]"
   ]
  },
  {
   "cell_type": "markdown",
   "id": "54788bf3",
   "metadata": {},
   "source": [
    "### Assess Forecast Accuracy"
   ]
  },
  {
   "cell_type": "code",
   "execution_count": 49,
   "id": "e02f461f",
   "metadata": {},
   "outputs": [
    {
     "data": {
      "text/plain": [
       "2843.4294"
      ]
     },
     "execution_count": 49,
     "metadata": {},
     "output_type": "execute_result"
    }
   ],
   "source": [
    "mean_absolute_error(cluster_test, fcasts)"
   ]
  },
  {
   "cell_type": "code",
   "execution_count": null,
   "id": "c1394457",
   "metadata": {},
   "outputs": [],
   "source": []
  }
 ],
 "metadata": {
  "kernelspec": {
   "display_name": "Python 3 (ipykernel)",
   "language": "python",
   "name": "python3"
  },
  "language_info": {
   "codemirror_mode": {
    "name": "ipython",
    "version": 3
   },
   "file_extension": ".py",
   "mimetype": "text/x-python",
   "name": "python",
   "nbconvert_exporter": "python",
   "pygments_lexer": "ipython3",
   "version": "3.9.7"
  }
 },
 "nbformat": 4,
 "nbformat_minor": 5
}
