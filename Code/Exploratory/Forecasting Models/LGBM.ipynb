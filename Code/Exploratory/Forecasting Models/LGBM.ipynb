{
 "cells": [
  {
   "cell_type": "markdown",
   "metadata": {},
   "source": [
    "# Implement LGBM Forecasting Model"
   ]
  },
  {
   "cell_type": "markdown",
   "metadata": {},
   "source": [
    "***"
   ]
  },
  {
   "cell_type": "markdown",
   "metadata": {},
   "source": [
    "This code implements an LGBM forecasting model. We use `sktime` to aid in managing the data, plotting, and setting up a forecasting pipeline."
   ]
  },
  {
   "cell_type": "markdown",
   "metadata": {},
   "source": [
    "***"
   ]
  },
  {
   "cell_type": "markdown",
   "metadata": {},
   "source": [
    "Documentation for working with data in `sktime` can be found [here](https://www.sktime.org/en/stable/examples/loading_data.html)."
   ]
  },
  {
   "cell_type": "markdown",
   "metadata": {},
   "source": [
    "Nested pandas DataFrames are used to store data in `sktime`. Rows correspond to instances, columns correspond to features. The values for each time period for a given feature are nested within a dataframe cell, e.g.:"
   ]
  },
  {
   "cell_type": "markdown",
   "metadata": {},
   "source": [
    "| index |   dim_0   |    ...    |  dim_c-1  |\n",
    "|:-----:|:---------:|:---------:|:---------:|\n",
    "|   0   | pd.Series | pd.Series | pd.Series |\n",
    "|  ...  | pd.Series | pd.Series | pd.Series |\n",
    "|   n   | pd.Series | pd.Series | pd.Series |"
   ]
  },
  {
   "cell_type": "markdown",
   "metadata": {},
   "source": [
    "A `pd.Series` is the one-dimensional data structure for `pandas`."
   ]
  },
  {
   "cell_type": "markdown",
   "metadata": {},
   "source": [
    "For univariate series, this structure becomes:"
   ]
  },
  {
   "cell_type": "markdown",
   "metadata": {},
   "source": [
    "| index |   dim_0   |\n",
    "|:-----:|:---------:|\n",
    "|   0   | pd.Series |\n",
    "|  ...  | pd.Series |\n",
    "|   n   | pd.Series |"
   ]
  },
  {
   "cell_type": "markdown",
   "metadata": {},
   "source": [
    "***"
   ]
  },
  {
   "cell_type": "markdown",
   "metadata": {},
   "source": [
    "## Importing and Transforming Data"
   ]
  },
  {
   "cell_type": "code",
   "execution_count": 1,
   "metadata": {},
   "outputs": [],
   "source": [
    "# import functions for transforming data to work with sktime\n",
    "from sktime.datatypes._panel._convert import from_2d_array_to_nested, from_nested_to_2d_array, is_nested_dataframe\n",
    "import pandas as pd"
   ]
  },
  {
   "cell_type": "code",
   "execution_count": 2,
   "metadata": {},
   "outputs": [],
   "source": [
    "# import weekly finance time series\n",
    "Y = pd.read_csv(\"../../../Data/Train/Clean/weekly_finance_clean.csv\")"
   ]
  },
  {
   "cell_type": "code",
   "execution_count": 3,
   "metadata": {},
   "outputs": [],
   "source": [
    "# store the number of series and number of time periods\n",
    "num_series, num_periods = Y.shape"
   ]
  },
  {
   "cell_type": "code",
   "execution_count": 4,
   "metadata": {},
   "outputs": [
    {
     "data": {
      "text/html": [
       "<div>\n",
       "<style scoped>\n",
       "    .dataframe tbody tr th:only-of-type {\n",
       "        vertical-align: middle;\n",
       "    }\n",
       "\n",
       "    .dataframe tbody tr th {\n",
       "        vertical-align: top;\n",
       "    }\n",
       "\n",
       "    .dataframe thead th {\n",
       "        text-align: right;\n",
       "    }\n",
       "</style>\n",
       "<table border=\"1\" class=\"dataframe\">\n",
       "  <thead>\n",
       "    <tr style=\"text-align: right;\">\n",
       "      <th></th>\n",
       "      <th>V2</th>\n",
       "      <th>V3</th>\n",
       "      <th>V4</th>\n",
       "      <th>V5</th>\n",
       "      <th>V6</th>\n",
       "      <th>V7</th>\n",
       "      <th>V8</th>\n",
       "      <th>V9</th>\n",
       "      <th>V10</th>\n",
       "      <th>V11</th>\n",
       "      <th>...</th>\n",
       "      <th>V239</th>\n",
       "      <th>V240</th>\n",
       "      <th>V241</th>\n",
       "      <th>V242</th>\n",
       "      <th>V243</th>\n",
       "      <th>V244</th>\n",
       "      <th>V245</th>\n",
       "      <th>V246</th>\n",
       "      <th>V247</th>\n",
       "      <th>V248</th>\n",
       "    </tr>\n",
       "  </thead>\n",
       "  <tbody>\n",
       "    <tr>\n",
       "      <th>0</th>\n",
       "      <td>10825.88</td>\n",
       "      <td>10830.99</td>\n",
       "      <td>10831.68</td>\n",
       "      <td>10826.93</td>\n",
       "      <td>10782.88</td>\n",
       "      <td>10753.11</td>\n",
       "      <td>10708.7</td>\n",
       "      <td>10133.12</td>\n",
       "      <td>10055.67</td>\n",
       "      <td>9976.13</td>\n",
       "      <td>...</td>\n",
       "      <td>10551.34</td>\n",
       "      <td>10536.37</td>\n",
       "      <td>10603.52</td>\n",
       "      <td>10625.25</td>\n",
       "      <td>10665.82</td>\n",
       "      <td>10647.36</td>\n",
       "      <td>10642.22</td>\n",
       "      <td>10678.92</td>\n",
       "      <td>10678.0</td>\n",
       "      <td>10676.48</td>\n",
       "    </tr>\n",
       "    <tr>\n",
       "      <th>1</th>\n",
       "      <td>1725.70</td>\n",
       "      <td>1725.70</td>\n",
       "      <td>1749.70</td>\n",
       "      <td>1749.70</td>\n",
       "      <td>1917.60</td>\n",
       "      <td>1917.60</td>\n",
       "      <td>1813.3</td>\n",
       "      <td>1813.30</td>\n",
       "      <td>1991.30</td>\n",
       "      <td>1991.30</td>\n",
       "      <td>...</td>\n",
       "      <td>3538.90</td>\n",
       "      <td>3611.90</td>\n",
       "      <td>3611.90</td>\n",
       "      <td>3680.90</td>\n",
       "      <td>3680.90</td>\n",
       "      <td>3534.20</td>\n",
       "      <td>3534.20</td>\n",
       "      <td>3566.90</td>\n",
       "      <td>3566.9</td>\n",
       "      <td>3489.80</td>\n",
       "    </tr>\n",
       "    <tr>\n",
       "      <th>2</th>\n",
       "      <td>733.60</td>\n",
       "      <td>856.20</td>\n",
       "      <td>778.30</td>\n",
       "      <td>763.20</td>\n",
       "      <td>744.50</td>\n",
       "      <td>745.70</td>\n",
       "      <td>681.4</td>\n",
       "      <td>668.70</td>\n",
       "      <td>695.10</td>\n",
       "      <td>729.70</td>\n",
       "      <td>...</td>\n",
       "      <td>1043.80</td>\n",
       "      <td>1081.10</td>\n",
       "      <td>1081.40</td>\n",
       "      <td>1089.10</td>\n",
       "      <td>984.80</td>\n",
       "      <td>1048.60</td>\n",
       "      <td>1059.60</td>\n",
       "      <td>1113.30</td>\n",
       "      <td>1016.8</td>\n",
       "      <td>1084.10</td>\n",
       "    </tr>\n",
       "    <tr>\n",
       "      <th>3</th>\n",
       "      <td>733.60</td>\n",
       "      <td>856.20</td>\n",
       "      <td>778.30</td>\n",
       "      <td>763.20</td>\n",
       "      <td>744.50</td>\n",
       "      <td>745.70</td>\n",
       "      <td>681.4</td>\n",
       "      <td>668.70</td>\n",
       "      <td>695.10</td>\n",
       "      <td>729.70</td>\n",
       "      <td>...</td>\n",
       "      <td>1043.80</td>\n",
       "      <td>1081.10</td>\n",
       "      <td>1081.40</td>\n",
       "      <td>1089.10</td>\n",
       "      <td>984.80</td>\n",
       "      <td>1048.60</td>\n",
       "      <td>1059.60</td>\n",
       "      <td>1113.30</td>\n",
       "      <td>1016.8</td>\n",
       "      <td>1084.10</td>\n",
       "    </tr>\n",
       "    <tr>\n",
       "      <th>4</th>\n",
       "      <td>2166.00</td>\n",
       "      <td>2126.00</td>\n",
       "      <td>2100.00</td>\n",
       "      <td>2026.00</td>\n",
       "      <td>2028.00</td>\n",
       "      <td>2015.00</td>\n",
       "      <td>2013.0</td>\n",
       "      <td>1983.00</td>\n",
       "      <td>2019.00</td>\n",
       "      <td>2036.00</td>\n",
       "      <td>...</td>\n",
       "      <td>2536.00</td>\n",
       "      <td>2534.00</td>\n",
       "      <td>2554.00</td>\n",
       "      <td>2567.00</td>\n",
       "      <td>2548.00</td>\n",
       "      <td>2512.00</td>\n",
       "      <td>2542.00</td>\n",
       "      <td>2606.00</td>\n",
       "      <td>2607.0</td>\n",
       "      <td>2530.00</td>\n",
       "    </tr>\n",
       "    <tr>\n",
       "      <th>...</th>\n",
       "      <td>...</td>\n",
       "      <td>...</td>\n",
       "      <td>...</td>\n",
       "      <td>...</td>\n",
       "      <td>...</td>\n",
       "      <td>...</td>\n",
       "      <td>...</td>\n",
       "      <td>...</td>\n",
       "      <td>...</td>\n",
       "      <td>...</td>\n",
       "      <td>...</td>\n",
       "      <td>...</td>\n",
       "      <td>...</td>\n",
       "      <td>...</td>\n",
       "      <td>...</td>\n",
       "      <td>...</td>\n",
       "      <td>...</td>\n",
       "      <td>...</td>\n",
       "      <td>...</td>\n",
       "      <td>...</td>\n",
       "      <td>...</td>\n",
       "    </tr>\n",
       "    <tr>\n",
       "      <th>159</th>\n",
       "      <td>1092.00</td>\n",
       "      <td>1085.00</td>\n",
       "      <td>1078.00</td>\n",
       "      <td>1092.00</td>\n",
       "      <td>1085.00</td>\n",
       "      <td>1078.00</td>\n",
       "      <td>1092.0</td>\n",
       "      <td>1086.00</td>\n",
       "      <td>1078.00</td>\n",
       "      <td>1091.00</td>\n",
       "      <td>...</td>\n",
       "      <td>1093.00</td>\n",
       "      <td>1085.00</td>\n",
       "      <td>1078.00</td>\n",
       "      <td>1071.00</td>\n",
       "      <td>1064.00</td>\n",
       "      <td>1092.00</td>\n",
       "      <td>1085.00</td>\n",
       "      <td>1078.00</td>\n",
       "      <td>1071.0</td>\n",
       "      <td>1064.00</td>\n",
       "    </tr>\n",
       "    <tr>\n",
       "      <th>160</th>\n",
       "      <td>1820.00</td>\n",
       "      <td>1813.00</td>\n",
       "      <td>1806.00</td>\n",
       "      <td>1799.00</td>\n",
       "      <td>1792.00</td>\n",
       "      <td>1820.00</td>\n",
       "      <td>1813.0</td>\n",
       "      <td>1806.00</td>\n",
       "      <td>1799.00</td>\n",
       "      <td>1820.00</td>\n",
       "      <td>...</td>\n",
       "      <td>1799.00</td>\n",
       "      <td>1792.00</td>\n",
       "      <td>1785.00</td>\n",
       "      <td>1820.00</td>\n",
       "      <td>1813.00</td>\n",
       "      <td>1806.00</td>\n",
       "      <td>1799.00</td>\n",
       "      <td>1792.00</td>\n",
       "      <td>1785.0</td>\n",
       "      <td>1778.00</td>\n",
       "    </tr>\n",
       "    <tr>\n",
       "      <th>161</th>\n",
       "      <td>1917.90</td>\n",
       "      <td>1918.30</td>\n",
       "      <td>1947.70</td>\n",
       "      <td>1954.50</td>\n",
       "      <td>2022.70</td>\n",
       "      <td>2008.30</td>\n",
       "      <td>1996.6</td>\n",
       "      <td>1984.30</td>\n",
       "      <td>1978.80</td>\n",
       "      <td>1980.40</td>\n",
       "      <td>...</td>\n",
       "      <td>2578.70</td>\n",
       "      <td>2588.40</td>\n",
       "      <td>2573.90</td>\n",
       "      <td>2579.90</td>\n",
       "      <td>2564.10</td>\n",
       "      <td>2584.90</td>\n",
       "      <td>2503.20</td>\n",
       "      <td>2378.30</td>\n",
       "      <td>2381.2</td>\n",
       "      <td>2509.40</td>\n",
       "    </tr>\n",
       "    <tr>\n",
       "      <th>162</th>\n",
       "      <td>1368.00</td>\n",
       "      <td>1305.50</td>\n",
       "      <td>1308.60</td>\n",
       "      <td>1280.20</td>\n",
       "      <td>1356.30</td>\n",
       "      <td>1217.90</td>\n",
       "      <td>1432.5</td>\n",
       "      <td>1256.30</td>\n",
       "      <td>1363.80</td>\n",
       "      <td>1480.10</td>\n",
       "      <td>...</td>\n",
       "      <td>2232.70</td>\n",
       "      <td>2278.50</td>\n",
       "      <td>2255.70</td>\n",
       "      <td>2166.70</td>\n",
       "      <td>2127.70</td>\n",
       "      <td>2112.70</td>\n",
       "      <td>2102.90</td>\n",
       "      <td>2102.20</td>\n",
       "      <td>2177.5</td>\n",
       "      <td>2160.30</td>\n",
       "    </tr>\n",
       "    <tr>\n",
       "      <th>163</th>\n",
       "      <td>3241.00</td>\n",
       "      <td>3238.00</td>\n",
       "      <td>3275.00</td>\n",
       "      <td>3355.00</td>\n",
       "      <td>3275.00</td>\n",
       "      <td>3764.00</td>\n",
       "      <td>3763.0</td>\n",
       "      <td>3807.00</td>\n",
       "      <td>3805.00</td>\n",
       "      <td>3306.00</td>\n",
       "      <td>...</td>\n",
       "      <td>6652.00</td>\n",
       "      <td>7672.00</td>\n",
       "      <td>6934.00</td>\n",
       "      <td>6246.00</td>\n",
       "      <td>6609.00</td>\n",
       "      <td>6191.00</td>\n",
       "      <td>5965.00</td>\n",
       "      <td>6140.00</td>\n",
       "      <td>6014.0</td>\n",
       "      <td>5811.00</td>\n",
       "    </tr>\n",
       "  </tbody>\n",
       "</table>\n",
       "<p>164 rows × 247 columns</p>\n",
       "</div>"
      ],
      "text/plain": [
       "           V2        V3        V4        V5        V6        V7       V8  \\\n",
       "0    10825.88  10830.99  10831.68  10826.93  10782.88  10753.11  10708.7   \n",
       "1     1725.70   1725.70   1749.70   1749.70   1917.60   1917.60   1813.3   \n",
       "2      733.60    856.20    778.30    763.20    744.50    745.70    681.4   \n",
       "3      733.60    856.20    778.30    763.20    744.50    745.70    681.4   \n",
       "4     2166.00   2126.00   2100.00   2026.00   2028.00   2015.00   2013.0   \n",
       "..        ...       ...       ...       ...       ...       ...      ...   \n",
       "159   1092.00   1085.00   1078.00   1092.00   1085.00   1078.00   1092.0   \n",
       "160   1820.00   1813.00   1806.00   1799.00   1792.00   1820.00   1813.0   \n",
       "161   1917.90   1918.30   1947.70   1954.50   2022.70   2008.30   1996.6   \n",
       "162   1368.00   1305.50   1308.60   1280.20   1356.30   1217.90   1432.5   \n",
       "163   3241.00   3238.00   3275.00   3355.00   3275.00   3764.00   3763.0   \n",
       "\n",
       "           V9       V10      V11  ...      V239      V240      V241      V242  \\\n",
       "0    10133.12  10055.67  9976.13  ...  10551.34  10536.37  10603.52  10625.25   \n",
       "1     1813.30   1991.30  1991.30  ...   3538.90   3611.90   3611.90   3680.90   \n",
       "2      668.70    695.10   729.70  ...   1043.80   1081.10   1081.40   1089.10   \n",
       "3      668.70    695.10   729.70  ...   1043.80   1081.10   1081.40   1089.10   \n",
       "4     1983.00   2019.00  2036.00  ...   2536.00   2534.00   2554.00   2567.00   \n",
       "..        ...       ...      ...  ...       ...       ...       ...       ...   \n",
       "159   1086.00   1078.00  1091.00  ...   1093.00   1085.00   1078.00   1071.00   \n",
       "160   1806.00   1799.00  1820.00  ...   1799.00   1792.00   1785.00   1820.00   \n",
       "161   1984.30   1978.80  1980.40  ...   2578.70   2588.40   2573.90   2579.90   \n",
       "162   1256.30   1363.80  1480.10  ...   2232.70   2278.50   2255.70   2166.70   \n",
       "163   3807.00   3805.00  3306.00  ...   6652.00   7672.00   6934.00   6246.00   \n",
       "\n",
       "         V243      V244      V245      V246     V247      V248  \n",
       "0    10665.82  10647.36  10642.22  10678.92  10678.0  10676.48  \n",
       "1     3680.90   3534.20   3534.20   3566.90   3566.9   3489.80  \n",
       "2      984.80   1048.60   1059.60   1113.30   1016.8   1084.10  \n",
       "3      984.80   1048.60   1059.60   1113.30   1016.8   1084.10  \n",
       "4     2548.00   2512.00   2542.00   2606.00   2607.0   2530.00  \n",
       "..        ...       ...       ...       ...      ...       ...  \n",
       "159   1064.00   1092.00   1085.00   1078.00   1071.0   1064.00  \n",
       "160   1813.00   1806.00   1799.00   1792.00   1785.0   1778.00  \n",
       "161   2564.10   2584.90   2503.20   2378.30   2381.2   2509.40  \n",
       "162   2127.70   2112.70   2102.90   2102.20   2177.5   2160.30  \n",
       "163   6609.00   6191.00   5965.00   6140.00   6014.0   5811.00  \n",
       "\n",
       "[164 rows x 247 columns]"
      ]
     },
     "execution_count": 4,
     "metadata": {},
     "output_type": "execute_result"
    }
   ],
   "source": [
    "Y"
   ]
  },
  {
   "cell_type": "code",
   "execution_count": 5,
   "metadata": {},
   "outputs": [],
   "source": [
    "# transform to nested dataframe structure\n",
    "Y_nested = from_2d_array_to_nested(Y)"
   ]
  },
  {
   "cell_type": "code",
   "execution_count": 6,
   "metadata": {},
   "outputs": [
    {
     "data": {
      "text/plain": [
       "True"
      ]
     },
     "execution_count": 6,
     "metadata": {},
     "output_type": "execute_result"
    }
   ],
   "source": [
    "# test for nested dataframe structure\n",
    "is_nested_dataframe(Y_nested)"
   ]
  },
  {
   "cell_type": "code",
   "execution_count": 7,
   "metadata": {},
   "outputs": [
    {
     "data": {
      "text/html": [
       "<div>\n",
       "<style scoped>\n",
       "    .dataframe tbody tr th:only-of-type {\n",
       "        vertical-align: middle;\n",
       "    }\n",
       "\n",
       "    .dataframe tbody tr th {\n",
       "        vertical-align: top;\n",
       "    }\n",
       "\n",
       "    .dataframe thead th {\n",
       "        text-align: right;\n",
       "    }\n",
       "</style>\n",
       "<table border=\"1\" class=\"dataframe\">\n",
       "  <thead>\n",
       "    <tr style=\"text-align: right;\">\n",
       "      <th></th>\n",
       "      <th>0</th>\n",
       "    </tr>\n",
       "  </thead>\n",
       "  <tbody>\n",
       "    <tr>\n",
       "      <th>0</th>\n",
       "      <td>0      10825.88\n",
       "1      10830.99\n",
       "2      10831.6...</td>\n",
       "    </tr>\n",
       "    <tr>\n",
       "      <th>1</th>\n",
       "      <td>0      1725.7\n",
       "1      1725.7\n",
       "2      1749.7\n",
       "3   ...</td>\n",
       "    </tr>\n",
       "    <tr>\n",
       "      <th>2</th>\n",
       "      <td>0       733.6\n",
       "1       856.2\n",
       "2       778.3\n",
       "3   ...</td>\n",
       "    </tr>\n",
       "    <tr>\n",
       "      <th>3</th>\n",
       "      <td>0       733.6\n",
       "1       856.2\n",
       "2       778.3\n",
       "3   ...</td>\n",
       "    </tr>\n",
       "    <tr>\n",
       "      <th>4</th>\n",
       "      <td>0      2166.0\n",
       "1      2126.0\n",
       "2      2100.0\n",
       "3   ...</td>\n",
       "    </tr>\n",
       "    <tr>\n",
       "      <th>...</th>\n",
       "      <td>...</td>\n",
       "    </tr>\n",
       "    <tr>\n",
       "      <th>159</th>\n",
       "      <td>0      1092.0\n",
       "1      1085.0\n",
       "2      1078.0\n",
       "3   ...</td>\n",
       "    </tr>\n",
       "    <tr>\n",
       "      <th>160</th>\n",
       "      <td>0      1820.0\n",
       "1      1813.0\n",
       "2      1806.0\n",
       "3   ...</td>\n",
       "    </tr>\n",
       "    <tr>\n",
       "      <th>161</th>\n",
       "      <td>0      1917.9\n",
       "1      1918.3\n",
       "2      1947.7\n",
       "3   ...</td>\n",
       "    </tr>\n",
       "    <tr>\n",
       "      <th>162</th>\n",
       "      <td>0      1368.0\n",
       "1      1305.5\n",
       "2      1308.6\n",
       "3   ...</td>\n",
       "    </tr>\n",
       "    <tr>\n",
       "      <th>163</th>\n",
       "      <td>0      3241.0\n",
       "1      3238.0\n",
       "2      3275.0\n",
       "3   ...</td>\n",
       "    </tr>\n",
       "  </tbody>\n",
       "</table>\n",
       "<p>164 rows × 1 columns</p>\n",
       "</div>"
      ],
      "text/plain": [
       "                                                     0\n",
       "0    0      10825.88\n",
       "1      10830.99\n",
       "2      10831.6...\n",
       "1    0      1725.7\n",
       "1      1725.7\n",
       "2      1749.7\n",
       "3   ...\n",
       "2    0       733.6\n",
       "1       856.2\n",
       "2       778.3\n",
       "3   ...\n",
       "3    0       733.6\n",
       "1       856.2\n",
       "2       778.3\n",
       "3   ...\n",
       "4    0      2166.0\n",
       "1      2126.0\n",
       "2      2100.0\n",
       "3   ...\n",
       "..                                                 ...\n",
       "159  0      1092.0\n",
       "1      1085.0\n",
       "2      1078.0\n",
       "3   ...\n",
       "160  0      1820.0\n",
       "1      1813.0\n",
       "2      1806.0\n",
       "3   ...\n",
       "161  0      1917.9\n",
       "1      1918.3\n",
       "2      1947.7\n",
       "3   ...\n",
       "162  0      1368.0\n",
       "1      1305.5\n",
       "2      1308.6\n",
       "3   ...\n",
       "163  0      3241.0\n",
       "1      3238.0\n",
       "2      3275.0\n",
       "3   ...\n",
       "\n",
       "[164 rows x 1 columns]"
      ]
     },
     "execution_count": 7,
     "metadata": {},
     "output_type": "execute_result"
    }
   ],
   "source": [
    "Y_nested"
   ]
  },
  {
   "cell_type": "markdown",
   "metadata": {},
   "source": [
    "***"
   ]
  },
  {
   "cell_type": "markdown",
   "metadata": {},
   "source": [
    "## Forecast with Local LGBM for One Series"
   ]
  },
  {
   "cell_type": "markdown",
   "metadata": {},
   "source": [
    "First, train a local LGBM model (trained on data from one series) for one series only."
   ]
  },
  {
   "cell_type": "code",
   "execution_count": 8,
   "metadata": {},
   "outputs": [],
   "source": [
    "# general modules\n",
    "import pandas as pd\n",
    "import numpy as np\n",
    "\n",
    "# light gradient boosting model package\n",
    "import lightgbm as lgb\n",
    "\n",
    "#### sktime functions ####\n",
    "\n",
    "# train-test split function for temporal data\n",
    "from sktime.forecasting.model_selection import temporal_train_test_split\n",
    "\n",
    "# import trend forecaster to detrend data\n",
    "from sktime.forecasting.trend import PolynomialTrendForecaster\n",
    "\n",
    "# import detrender and deseasonalizer\n",
    "from sktime.transformations.series.detrend import Detrender, Deseasonalizer\n",
    "\n",
    "# data reduction for regressions or trees\n",
    "from sktime.forecasting.compose import make_reduction\n",
    "\n",
    "# import composite forecasting tool\n",
    "from sktime.forecasting.compose import TransformedTargetForecaster\n",
    "\n",
    "# import mean absolute error and mean squared error metrics (specify square root in function)\n",
    "from sktime.performance_metrics.forecasting import mean_absolute_error, mean_squared_error\n",
    "\n",
    "# nice time series plots\n",
    "from sktime.utils.plotting import plot_series"
   ]
  },
  {
   "cell_type": "code",
   "execution_count": 9,
   "metadata": {},
   "outputs": [],
   "source": [
    "# forecast 20 periods out\n",
    "fh = np.arange(1, 21)"
   ]
  },
  {
   "cell_type": "markdown",
   "metadata": {},
   "source": [
    "Scikit-learn API for regression using lgbm [here](https://lightgbm.readthedocs.io/en/latest/pythonapi/lightgbm.LGBMRegressor.html#lightgbm.LGBMRegressor)."
   ]
  },
  {
   "cell_type": "code",
   "execution_count": 10,
   "metadata": {},
   "outputs": [],
   "source": [
    "# this function has tons of options to mess with, we use defaults here\n",
    "regressor = lgb.LGBMRegressor()"
   ]
  },
  {
   "cell_type": "code",
   "execution_count": 11,
   "metadata": {},
   "outputs": [],
   "source": [
    "#### forecasting pipeline\n",
    "# deseasonalize the data\n",
    "# detrend the data\n",
    "# ------- need to make these conditional transformations\n",
    "\n",
    "forecaster = TransformedTargetForecaster(\n",
    "    [\n",
    "        (\"deseasonalize\", Deseasonalizer(sp=52, model=\"additive\")),\n",
    "        (\"detrend\", Detrender(forecaster=PolynomialTrendForecaster(degree=1))),\n",
    "        (\"forecast\", make_reduction(regressor, window_length=6, strategy=\"recursive\")),\n",
    "    ]\n",
    ")"
   ]
  },
  {
   "cell_type": "code",
   "execution_count": 12,
   "metadata": {},
   "outputs": [
    {
     "data": {
      "text/plain": [
       "0       733.6\n",
       "1       856.2\n",
       "2       778.3\n",
       "3       763.2\n",
       "4       744.5\n",
       "        ...  \n",
       "242    1048.6\n",
       "243    1059.6\n",
       "244    1113.3\n",
       "245    1016.8\n",
       "246    1084.1\n",
       "Length: 247, dtype: float64"
      ]
     },
     "execution_count": 12,
     "metadata": {},
     "output_type": "execute_result"
    }
   ],
   "source": [
    "# select one series\n",
    "y = Y_nested.iloc[3,0]\n",
    "y"
   ]
  },
  {
   "cell_type": "code",
   "execution_count": 13,
   "metadata": {},
   "outputs": [],
   "source": [
    "# train - test split\n",
    "y_train, y_test = temporal_train_test_split(y, test_size=len(fh))"
   ]
  },
  {
   "cell_type": "code",
   "execution_count": 14,
   "metadata": {},
   "outputs": [
    {
     "data": {
      "text/plain": [
       "TransformedTargetForecaster(steps=[('deseasonalize', Deseasonalizer(sp=52)),\n",
       "                                   ('detrend',\n",
       "                                    Detrender(forecaster=PolynomialTrendForecaster())),\n",
       "                                   ('forecast',\n",
       "                                    RecursiveTabularRegressionForecaster(estimator=LGBMRegressor(),\n",
       "                                                                         window_length=6))])"
      ]
     },
     "execution_count": 14,
     "metadata": {},
     "output_type": "execute_result"
    }
   ],
   "source": [
    "# train the forecasting model\n",
    "forecaster.fit(y_train)"
   ]
  },
  {
   "cell_type": "code",
   "execution_count": 15,
   "metadata": {},
   "outputs": [],
   "source": [
    "# generate forecasts\n",
    "y_pred = forecaster.predict(fh)"
   ]
  },
  {
   "cell_type": "code",
   "execution_count": 16,
   "metadata": {},
   "outputs": [
    {
     "data": {
      "text/plain": [
       "(<Figure size 1152x288 with 1 Axes>, <AxesSubplot:>)"
      ]
     },
     "execution_count": 16,
     "metadata": {},
     "output_type": "execute_result"
    },
    {
     "data": {
      "image/png": "[encoded data removed]",
      "text/plain": [
       "<Figure size 1152x288 with 1 Axes>"
      ]
     },
     "metadata": {
      "needs_background": "light"
     },
     "output_type": "display_data"
    }
   ],
   "source": [
    "# plot training and testing data and forecasts (y_pred)\n",
    "plot_series(y_train, y_test, y_pred, labels=[\"y_train\", \"y_test\", \"y_pred\"])"
   ]
  },
  {
   "cell_type": "code",
   "execution_count": 17,
   "metadata": {},
   "outputs": [
    {
     "data": {
      "text/plain": [
       "19.75214133364893"
      ]
     },
     "execution_count": 17,
     "metadata": {},
     "output_type": "execute_result"
    }
   ],
   "source": [
    "# MAE\n",
    "mean_absolute_error(y_test, y_pred)"
   ]
  },
  {
   "cell_type": "code",
   "execution_count": 18,
   "metadata": {},
   "outputs": [
    {
     "data": {
      "text/plain": [
       "27.251539173688666"
      ]
     },
     "execution_count": 18,
     "metadata": {},
     "output_type": "execute_result"
    }
   ],
   "source": [
    "# RMSE\n",
    "mean_squared_error(y_test, y_pred, square_root=True)"
   ]
  },
  {
   "cell_type": "markdown",
   "metadata": {},
   "source": [
    "***"
   ]
  },
  {
   "cell_type": "markdown",
   "metadata": {},
   "source": [
    "## Forecast with Local LGBM for All Series"
   ]
  },
  {
   "cell_type": "code",
   "execution_count": 19,
   "metadata": {},
   "outputs": [],
   "source": [
    "# empty arrays to store error metrics for each series\n",
    "maes = np.zeros([num_series])\n",
    "rmses = np.zeros([num_series])\n",
    "# list to store forecasts\n",
    "Y_preds = []\n",
    "\n",
    "# loop over all series\n",
    "for i in range(num_series):\n",
    "    # select ith series\n",
    "    y = Y_nested.iloc[i,0]\n",
    "    \n",
    "    # train-test split\n",
    "    y_train, y_test = temporal_train_test_split(y, test_size=len(fh))\n",
    "    \n",
    "    # train model\n",
    "    forecaster.fit(y_train)\n",
    "    \n",
    "    # generate forecasts\n",
    "    y_pred = forecaster.predict(fh)\n",
    "    \n",
    "    # store forecasts\n",
    "    Y_preds.append(y_pred)\n",
    "    \n",
    "    # store error metrics\n",
    "    maes[i] = mean_absolute_error(y_test, y_pred)\n",
    "    rmses[i] = mean_squared_error(y_test, y_pred, square_root=True)    "
   ]
  },
  {
   "cell_type": "code",
   "execution_count": 20,
   "metadata": {},
   "outputs": [
    {
     "data": {
      "text/plain": [
       "141.0380413352515"
      ]
     },
     "execution_count": 20,
     "metadata": {},
     "output_type": "execute_result"
    }
   ],
   "source": [
    "# average mean absolute error across series\n",
    "np.mean(maes)"
   ]
  },
  {
   "cell_type": "code",
   "execution_count": 21,
   "metadata": {},
   "outputs": [
    {
     "data": {
      "text/plain": [
       "164.84702469187312"
      ]
     },
     "execution_count": 21,
     "metadata": {},
     "output_type": "execute_result"
    }
   ],
   "source": [
    "# average root mean squared error across series\n",
    "np.mean(rmses)"
   ]
  },
  {
   "cell_type": "code",
   "execution_count": 22,
   "metadata": {},
   "outputs": [
    {
     "data": {
      "text/plain": [
       "(<Figure size 1152x288 with 1 Axes>, <AxesSubplot:>)"
      ]
     },
     "execution_count": 22,
     "metadata": {},
     "output_type": "execute_result"
    },
    {
     "data": {
      "image/png": "[encoded data removed]",
      "text/plain": [
       "<Figure size 1152x288 with 1 Axes>"
      ]
     },
     "metadata": {
      "needs_background": "light"
     },
     "output_type": "display_data"
    }
   ],
   "source": [
    "series_num = 50\n",
    "plot_series(Y_nested.iloc[series_num,0][:-len(fh)],\n",
    "            Y_nested.iloc[series_num,0][-len(fh):],\n",
    "            Y_preds[series_num], \n",
    "            labels=[\"y_train\", \"y_test\", \"y_pred\"])"
   ]
  },
  {
   "cell_type": "code",
   "execution_count": 23,
   "metadata": {},
   "outputs": [
    {
     "data": {
      "text/plain": [
       "(<Figure size 1152x288 with 1 Axes>, <AxesSubplot:>)"
      ]
     },
     "execution_count": 23,
     "metadata": {},
     "output_type": "execute_result"
    },
    {
     "data": {
      "image/png": "[encoded data removed]",
      "text/plain": [
       "<Figure size 1152x288 with 1 Axes>"
      ]
     },
     "metadata": {
      "needs_background": "light"
     },
     "output_type": "display_data"
    }
   ],
   "source": [
    "series_num = 100\n",
    "plot_series(Y_nested.iloc[series_num,0][:-len(fh)],\n",
    "            Y_nested.iloc[series_num,0][-len(fh):],\n",
    "            Y_preds[series_num], \n",
    "            labels=[\"y_train\", \"y_test\", \"y_pred\"])"
   ]
  },
  {
   "cell_type": "code",
   "execution_count": 24,
   "metadata": {},
   "outputs": [
    {
     "data": {
      "text/plain": [
       "(<Figure size 1152x288 with 1 Axes>, <AxesSubplot:>)"
      ]
     },
     "execution_count": 24,
     "metadata": {},
     "output_type": "execute_result"
    },
    {
     "data": {
      "image/png": "[encoded data removed]",
      "text/plain": [
       "<Figure size 1152x288 with 1 Axes>"
      ]
     },
     "metadata": {
      "needs_background": "light"
     },
     "output_type": "display_data"
    }
   ],
   "source": [
    "series_num = 160\n",
    "plot_series(Y_nested.iloc[series_num,0][:-len(fh)],\n",
    "            Y_nested.iloc[series_num,0][-len(fh):],\n",
    "            Y_preds[series_num], \n",
    "            labels=[\"y_train\", \"y_test\", \"y_pred\"])"
   ]
  },
  {
   "cell_type": "markdown",
   "metadata": {},
   "source": [
    "***"
   ]
  },
  {
   "cell_type": "markdown",
   "metadata": {},
   "source": [
    "## Forecast with Global LGBM for All Series"
   ]
  },
  {
   "cell_type": "code",
   "execution_count": null,
   "metadata": {},
   "outputs": [],
   "source": []
  }
 ],
 "metadata": {
  "kernelspec": {
   "display_name": "Python 3",
   "language": "python",
   "name": "python3"
  },
  "language_info": {
   "codemirror_mode": {
    "name": "ipython",
    "version": 3
   },
   "file_extension": ".py",
   "mimetype": "text/x-python",
   "name": "python",
   "nbconvert_exporter": "python",
   "pygments_lexer": "ipython3",
   "version": "3.8.3"
  }
 },
 "nbformat": 4,
 "nbformat_minor": 4
}
