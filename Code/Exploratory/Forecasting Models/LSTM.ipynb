{
 "cells": [
  {
   "cell_type": "markdown",
   "id": "d53d6dba",
   "metadata": {},
   "source": [
    "# Code for Implementing LSTM Forecasting Model"
   ]
  },
  {
   "cell_type": "markdown",
   "id": "c4928548",
   "metadata": {},
   "source": [
    "***"
   ]
  },
  {
   "cell_type": "markdown",
   "id": "a6ed4bec",
   "metadata": {},
   "source": [
    "We are basing our modeling process off of [this](https://www.sciencedirect.com/science/article/abs/pii/S0031320321006178) paper."
   ]
  },
  {
   "cell_type": "markdown",
   "id": "b0f0d7b9",
   "metadata": {},
   "source": [
    "Key points:\n",
    "\n",
    "* stacked architecture has been best across real-world datasets. [source](https://www.sciencedirect.com/science/article/abs/pii/S0169207020300996)\n",
    "* include residual connections - used in winning M4 method\n",
    "* COntinuous COin Betting (COCOB) optimizer can be used for Backpropoagation Through Time (BPTT) to help automate the process (don't have to choose initial learning rate)\n",
    "* Use LSTM cell with peephole connections\n"
   ]
  },
  {
   "cell_type": "code",
   "execution_count": null,
   "id": "54ea43ee",
   "metadata": {},
   "outputs": [],
   "source": []
  }
 ],
 "metadata": {
  "kernelspec": {
   "display_name": "Python 3 (ipykernel)",
   "language": "python",
   "name": "python3"
  },
  "language_info": {
   "codemirror_mode": {
    "name": "ipython",
    "version": 3
   },
   "file_extension": ".py",
   "mimetype": "text/x-python",
   "name": "python",
   "nbconvert_exporter": "python",
   "pygments_lexer": "ipython3",
   "version": "3.9.7"
  }
 },
 "nbformat": 4,
 "nbformat_minor": 5
}
