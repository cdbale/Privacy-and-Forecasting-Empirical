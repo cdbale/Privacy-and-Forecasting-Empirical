{
 "cells": [
  {
   "cell_type": "markdown",
   "metadata": {},
   "source": [
    "# Implementing ARIMA Model"
   ]
  },
  {
   "cell_type": "markdown",
   "metadata": {},
   "source": [
    "***"
   ]
  },
  {
   "cell_type": "code",
   "execution_count": 1,
   "metadata": {},
   "outputs": [],
   "source": [
    "# load modules\n",
    "import pmdarima as pm\n",
    "import statsmodels.tools.eval_measures as em\n",
    "import numpy as np\n",
    "import matplotlib.pyplot as plt"
   ]
  },
  {
   "cell_type": "code",
   "execution_count": 2,
   "metadata": {},
   "outputs": [],
   "source": [
    "# import weekly finance series, skipping column names\n",
    "ts = np.genfromtxt(\"../Data/Train/Clean/weekly_finance_clean.csv\", delimiter = ',', skip_header = 1)"
   ]
  },
  {
   "cell_type": "code",
   "execution_count": 3,
   "metadata": {},
   "outputs": [],
   "source": [
    "# store the total number of series and the number of time periods\n",
    "num_series, num_t = ts.shape"
   ]
  },
  {
   "cell_type": "markdown",
   "metadata": {},
   "source": [
    "***"
   ]
  },
  {
   "cell_type": "markdown",
   "metadata": {},
   "source": [
    "## Model Implementation - One Series"
   ]
  },
  {
   "cell_type": "markdown",
   "metadata": {},
   "source": [
    "#### 1. Plot the data"
   ]
  },
  {
   "cell_type": "code",
   "execution_count": 4,
   "metadata": {},
   "outputs": [
    {
     "data": {
      "text/plain": [
       "[<matplotlib.lines.Line2D at 0x1bd535d04c0>]"
      ]
     },
     "execution_count": 4,
     "metadata": {},
     "output_type": "execute_result"
    },
    {
     "data": {
      "image/png": "[encoded data removed]",
      "text/plain": [
       "<Figure size 432x288 with 1 Axes>"
      ]
     },
     "metadata": {
      "needs_background": "light"
     },
     "output_type": "display_data"
    }
   ],
   "source": [
    "# plot a random series we will use for model testing\n",
    "x = ts[100,:]\n",
    "plt.plot(x)"
   ]
  },
  {
   "cell_type": "markdown",
   "metadata": {},
   "source": [
    "Highly auto-correlated series."
   ]
  },
  {
   "cell_type": "code",
   "execution_count": 5,
   "metadata": {},
   "outputs": [
    {
     "name": "stderr",
     "output_type": "stream",
     "text": [
      "c:\\users\\cameron\\appdata\\local\\programs\\python\\python38\\lib\\site-packages\\pmdarima\\utils\\visualization.py:220: FutureWarning: the 'unbiased'' keyword is deprecated, use 'adjusted' instead\n",
      "  res = tsaplots.plot_acf(\n"
     ]
    },
    {
     "data": {
      "image/png": "[encoded data removed]",
      "text/plain": [
       "<Figure size 432x288 with 1 Axes>"
      ]
     },
     "metadata": {
      "needs_background": "light"
     },
     "output_type": "display_data"
    }
   ],
   "source": [
    "# autocorrelation plot\n",
    "pm.plot_acf(x)"
   ]
  },
  {
   "cell_type": "markdown",
   "metadata": {},
   "source": [
    "#### 2. Pre-processing for auto-ARIMA"
   ]
  },
  {
   "cell_type": "markdown",
   "metadata": {},
   "source": [
    "The stepwise approach follows the strategy laid out by Hyndman and Khandakar in their 2008 paper, “Automatic Time Series Forecasting: The forecast Package for R”."
   ]
  },
  {
   "cell_type": "code",
   "execution_count": 6,
   "metadata": {},
   "outputs": [],
   "source": [
    "train, test = ts[100, :-20], ts[100, -20:]"
   ]
  },
  {
   "cell_type": "markdown",
   "metadata": {},
   "source": [
    "#### 2.1. Conduct KPSS Test of Stationarity"
   ]
  },
  {
   "cell_type": "markdown",
   "metadata": {},
   "source": [
    "[Seasonality blog post by Rob Hyndman](https://robjhyndman.com/hyndsight/seasonal-periods/)."
   ]
  },
  {
   "cell_type": "markdown",
   "metadata": {},
   "source": [
    "Doing this manually saves some computation time, [documentation here](https://alkaline-ml.com/pmdarima/modules/generated/pmdarima.arima.ndiffs.html#pmdarima.arima.ndiffs). Used to pre-determine the number of differences to take `d`."
   ]
  },
  {
   "cell_type": "code",
   "execution_count": 7,
   "metadata": {},
   "outputs": [
    {
     "data": {
      "text/plain": [
       "1"
      ]
     },
     "execution_count": 7,
     "metadata": {},
     "output_type": "execute_result"
    }
   ],
   "source": [
    "d = pm.arima.ndiffs(train, alpha = 0.05, test = 'kpss', max_d = 2)\n",
    "d"
   ]
  },
  {
   "cell_type": "markdown",
   "metadata": {},
   "source": [
    "#### 2.2. Conduct OCSB Test of Seasonality"
   ]
  },
  {
   "cell_type": "markdown",
   "metadata": {},
   "source": [
    "Again, doing this manually saves some computation time, [documentation here](https://alkaline-ml.com/pmdarima/modules/generated/pmdarima.arima.OCSBTest.html#pmdarima.arima.OCSBTest.estimate_seasonal_differencing_term). Used to pre-determine the number of seasonal differences to take `D`."
   ]
  },
  {
   "cell_type": "code",
   "execution_count": 8,
   "metadata": {},
   "outputs": [
    {
     "data": {
      "text/plain": [
       "0"
      ]
     },
     "execution_count": 8,
     "metadata": {},
     "output_type": "execute_result"
    }
   ],
   "source": [
    "# seasonal differencing term\n",
    "# 52 weeks in a year, recommended by Hyndman\n",
    "m = 52 \n",
    "D = pm.arima.nsdiffs(train, m)\n",
    "D"
   ]
  },
  {
   "cell_type": "markdown",
   "metadata": {},
   "source": [
    "#### 3. Fit the Model"
   ]
  },
  {
   "cell_type": "code",
   "execution_count": 9,
   "metadata": {},
   "outputs": [
    {
     "name": "stdout",
     "output_type": "stream",
     "text": [
      "Performing stepwise search to minimize aic\n",
      " ARIMA(2,1,2)(1,0,1)[52] intercept   : AIC=1734.536, Time=8.70 sec\n",
      " ARIMA(0,1,0)(0,0,0)[52] intercept   : AIC=1947.358, Time=0.01 sec\n",
      " ARIMA(1,1,0)(1,0,0)[52] intercept   : AIC=inf, Time=1.52 sec\n",
      " ARIMA(0,1,1)(0,0,1)[52] intercept   : AIC=inf, Time=2.73 sec\n",
      " ARIMA(0,1,0)(0,0,0)[52]             : AIC=1949.083, Time=0.01 sec\n",
      " ARIMA(2,1,2)(0,0,1)[52] intercept   : AIC=inf, Time=5.08 sec\n",
      " ARIMA(2,1,2)(1,0,0)[52] intercept   : AIC=1732.487, Time=8.00 sec\n",
      " ARIMA(2,1,2)(0,0,0)[52] intercept   : AIC=1861.166, Time=0.25 sec\n",
      " ARIMA(2,1,2)(2,0,0)[52] intercept   : AIC=inf, Time=32.06 sec\n",
      " ARIMA(2,1,2)(2,0,1)[52] intercept   : AIC=inf, Time=47.50 sec\n",
      " ARIMA(1,1,2)(1,0,0)[52] intercept   : AIC=1732.161, Time=4.46 sec\n",
      " ARIMA(1,1,2)(0,0,0)[52] intercept   : AIC=1867.751, Time=0.14 sec\n",
      " ARIMA(1,1,2)(2,0,0)[52] intercept   : AIC=1733.873, Time=26.25 sec\n",
      " ARIMA(1,1,2)(1,0,1)[52] intercept   : AIC=1733.878, Time=4.38 sec\n",
      " ARIMA(1,1,2)(0,0,1)[52] intercept   : AIC=inf, Time=4.70 sec\n",
      " ARIMA(1,1,2)(2,0,1)[52] intercept   : AIC=inf, Time=25.55 sec\n",
      " ARIMA(0,1,2)(1,0,0)[52] intercept   : AIC=1729.426, Time=2.65 sec\n",
      " ARIMA(0,1,2)(0,0,0)[52] intercept   : AIC=1868.861, Time=0.12 sec\n",
      " ARIMA(0,1,2)(2,0,0)[52] intercept   : AIC=1731.404, Time=17.18 sec\n",
      " ARIMA(0,1,2)(1,0,1)[52] intercept   : AIC=1731.405, Time=3.66 sec\n",
      " ARIMA(0,1,2)(0,0,1)[52] intercept   : AIC=inf, Time=3.21 sec\n",
      " ARIMA(0,1,2)(2,0,1)[52] intercept   : AIC=inf, Time=29.09 sec\n",
      " ARIMA(0,1,1)(1,0,0)[52] intercept   : AIC=1728.254, Time=2.19 sec\n",
      " ARIMA(0,1,1)(0,0,0)[52] intercept   : AIC=1866.949, Time=0.05 sec\n",
      " ARIMA(0,1,1)(2,0,0)[52] intercept   : AIC=1730.149, Time=12.76 sec\n",
      " ARIMA(0,1,1)(1,0,1)[52] intercept   : AIC=1730.152, Time=3.40 sec\n",
      " ARIMA(0,1,1)(2,0,1)[52] intercept   : AIC=inf, Time=19.55 sec\n",
      " ARIMA(0,1,0)(1,0,0)[52] intercept   : AIC=inf, Time=1.09 sec\n",
      " ARIMA(1,1,1)(1,0,0)[52] intercept   : AIC=1729.265, Time=3.16 sec\n",
      " ARIMA(0,1,1)(1,0,0)[52]             : AIC=1734.654, Time=0.63 sec\n",
      "\n",
      "Best model:  ARIMA(0,1,1)(1,0,0)[52] intercept\n",
      "Total fit time: 270.177 seconds\n"
     ]
    }
   ],
   "source": [
    "# fit stepwise auto-ARIMA\n",
    "stepwise_fit = pm.auto_arima(train, \n",
    "                             m=52,                   # seasonal differencing term                \n",
    "                             seasonal=True,          # compute seasonal model\n",
    "                             d=d,                    # pre-calculated number of differences\n",
    "                             D=D,                    # pre-calculated number of seasonal differences\n",
    "                             trace=True,             # print optimization process results\n",
    "                             error_action='ignore',  # don't want to know if an order does not work\n",
    "                             suppress_warnings=True, # don't want convergence warnings\n",
    "                             stepwise=True)          # set to stepwise"
   ]
  },
  {
   "cell_type": "code",
   "execution_count": 10,
   "metadata": {},
   "outputs": [
    {
     "data": {
      "text/html": [
       "<table class=\"simpletable\">\n",
       "<caption>SARIMAX Results</caption>\n",
       "<tr>\n",
       "  <th>Dep. Variable:</th>                  <td>y</td>                <th>  No. Observations:  </th>    <td>227</td>  \n",
       "</tr>\n",
       "<tr>\n",
       "  <th>Model:</th>           <td>SARIMAX(0, 1, 1)x(1, 0, [], 52)</td> <th>  Log Likelihood     </th> <td>-860.127</td>\n",
       "</tr>\n",
       "<tr>\n",
       "  <th>Date:</th>                   <td>Wed, 09 Feb 2022</td>         <th>  AIC                </th> <td>1728.254</td>\n",
       "</tr>\n",
       "<tr>\n",
       "  <th>Time:</th>                       <td>20:07:31</td>             <th>  BIC                </th> <td>1741.936</td>\n",
       "</tr>\n",
       "<tr>\n",
       "  <th>Sample:</th>                         <td>0</td>                <th>  HQIC               </th> <td>1733.776</td>\n",
       "</tr>\n",
       "<tr>\n",
       "  <th></th>                             <td> - 227</td>              <th>                     </th>     <td> </td>   \n",
       "</tr>\n",
       "<tr>\n",
       "  <th>Covariance Type:</th>               <td>opg</td>               <th>                     </th>     <td> </td>   \n",
       "</tr>\n",
       "</table>\n",
       "<table class=\"simpletable\">\n",
       "<tr>\n",
       "      <td></td>         <th>coef</th>     <th>std err</th>      <th>z</th>      <th>P>|z|</th>  <th>[0.025</th>    <th>0.975]</th>  \n",
       "</tr>\n",
       "<tr>\n",
       "  <th>intercept</th> <td>    0.5542</td> <td>    0.214</td> <td>    2.591</td> <td> 0.010</td> <td>    0.135</td> <td>    0.973</td>\n",
       "</tr>\n",
       "<tr>\n",
       "  <th>ma.L1</th>     <td>   -0.5983</td> <td>    0.054</td> <td>  -10.998</td> <td> 0.000</td> <td>   -0.705</td> <td>   -0.492</td>\n",
       "</tr>\n",
       "<tr>\n",
       "  <th>ar.S.L52</th>  <td>    0.7495</td> <td>    0.031</td> <td>   24.180</td> <td> 0.000</td> <td>    0.689</td> <td>    0.810</td>\n",
       "</tr>\n",
       "<tr>\n",
       "  <th>sigma2</th>    <td>   97.7450</td> <td>    7.478</td> <td>   13.072</td> <td> 0.000</td> <td>   83.089</td> <td>  112.401</td>\n",
       "</tr>\n",
       "</table>\n",
       "<table class=\"simpletable\">\n",
       "<tr>\n",
       "  <th>Ljung-Box (L1) (Q):</th>     <td>0.41</td> <th>  Jarque-Bera (JB):  </th> <td>37.72</td>\n",
       "</tr>\n",
       "<tr>\n",
       "  <th>Prob(Q):</th>                <td>0.52</td> <th>  Prob(JB):          </th> <td>0.00</td> \n",
       "</tr>\n",
       "<tr>\n",
       "  <th>Heteroskedasticity (H):</th> <td>1.47</td> <th>  Skew:              </th> <td>0.69</td> \n",
       "</tr>\n",
       "<tr>\n",
       "  <th>Prob(H) (two-sided):</th>    <td>0.10</td> <th>  Kurtosis:          </th> <td>4.44</td> \n",
       "</tr>\n",
       "</table><br/><br/>Warnings:<br/>[1] Covariance matrix calculated using the outer product of gradients (complex-step)."
      ],
      "text/plain": [
       "<class 'statsmodels.iolib.summary.Summary'>\n",
       "\"\"\"\n",
       "                                      SARIMAX Results                                      \n",
       "===========================================================================================\n",
       "Dep. Variable:                                   y   No. Observations:                  227\n",
       "Model:             SARIMAX(0, 1, 1)x(1, 0, [], 52)   Log Likelihood                -860.127\n",
       "Date:                             Wed, 09 Feb 2022   AIC                           1728.254\n",
       "Time:                                     20:07:31   BIC                           1741.936\n",
       "Sample:                                          0   HQIC                          1733.776\n",
       "                                             - 227                                         \n",
       "Covariance Type:                               opg                                         \n",
       "==============================================================================\n",
       "                 coef    std err          z      P>|z|      [0.025      0.975]\n",
       "------------------------------------------------------------------------------\n",
       "intercept      0.5542      0.214      2.591      0.010       0.135       0.973\n",
       "ma.L1         -0.5983      0.054    -10.998      0.000      -0.705      -0.492\n",
       "ar.S.L52       0.7495      0.031     24.180      0.000       0.689       0.810\n",
       "sigma2        97.7450      7.478     13.072      0.000      83.089     112.401\n",
       "===================================================================================\n",
       "Ljung-Box (L1) (Q):                   0.41   Jarque-Bera (JB):                37.72\n",
       "Prob(Q):                              0.52   Prob(JB):                         0.00\n",
       "Heteroskedasticity (H):               1.47   Skew:                             0.69\n",
       "Prob(H) (two-sided):                  0.10   Kurtosis:                         4.44\n",
       "===================================================================================\n",
       "\n",
       "Warnings:\n",
       "[1] Covariance matrix calculated using the outer product of gradients (complex-step).\n",
       "\"\"\""
      ]
     },
     "execution_count": 10,
     "metadata": {},
     "output_type": "execute_result"
    }
   ],
   "source": [
    "stepwise_fit.summary()"
   ]
  },
  {
   "cell_type": "markdown",
   "metadata": {},
   "source": [
    "#### 4. Check Residual Autocorrelation"
   ]
  },
  {
   "cell_type": "code",
   "execution_count": 11,
   "metadata": {},
   "outputs": [
    {
     "name": "stderr",
     "output_type": "stream",
     "text": [
      "c:\\users\\cameron\\appdata\\local\\programs\\python\\python38\\lib\\site-packages\\pmdarima\\utils\\visualization.py:220: FutureWarning: the 'unbiased'' keyword is deprecated, use 'adjusted' instead\n",
      "  res = tsaplots.plot_acf(\n"
     ]
    },
    {
     "data": {
      "image/png": "[encoded data removed]",
      "text/plain": [
       "<Figure size 432x288 with 1 Axes>"
      ]
     },
     "metadata": {
      "needs_background": "light"
     },
     "output_type": "display_data"
    }
   ],
   "source": [
    "pm.plot_acf(stepwise_fit.resid())"
   ]
  },
  {
   "cell_type": "markdown",
   "metadata": {},
   "source": [
    "#### 5. Make Predictions"
   ]
  },
  {
   "cell_type": "code",
   "execution_count": 12,
   "metadata": {},
   "outputs": [],
   "source": [
    "prediction = stepwise_fit.predict(n_periods = 20)"
   ]
  },
  {
   "cell_type": "markdown",
   "metadata": {},
   "source": [
    "#### 6. Evaluate Predictions"
   ]
  },
  {
   "cell_type": "code",
   "execution_count": 13,
   "metadata": {},
   "outputs": [
    {
     "data": {
      "image/png": "[encoded data removed]",
      "text/plain": [
       "<Figure size 432x288 with 1 Axes>"
      ]
     },
     "metadata": {
      "needs_background": "light"
     },
     "output_type": "display_data"
    }
   ],
   "source": [
    "plt.plot(test, label = \"Test\")\n",
    "plt.plot(prediction, label = \"Predicted\")\n",
    "plt.show()"
   ]
  },
  {
   "cell_type": "code",
   "execution_count": 14,
   "metadata": {},
   "outputs": [
    {
     "data": {
      "text/plain": [
       "12.864228655335037"
      ]
     },
     "execution_count": 14,
     "metadata": {},
     "output_type": "execute_result"
    }
   ],
   "source": [
    "em.rmse(test, prediction)"
   ]
  },
  {
   "cell_type": "code",
   "execution_count": 15,
   "metadata": {},
   "outputs": [
    {
     "data": {
      "text/plain": [
       "10.687242202643494"
      ]
     },
     "execution_count": 15,
     "metadata": {},
     "output_type": "execute_result"
    }
   ],
   "source": [
    "em.meanabs(test, prediction)"
   ]
  },
  {
   "cell_type": "markdown",
   "metadata": {},
   "source": [
    "***"
   ]
  },
  {
   "cell_type": "markdown",
   "metadata": {},
   "source": [
    "## Model Implementation - All Series"
   ]
  },
  {
   "cell_type": "code",
   "execution_count": 16,
   "metadata": {},
   "outputs": [],
   "source": [
    "# 52 weeks in a year, recommended by Hyndman\n",
    "m = 52\n",
    "\n",
    "# forecast horizon\n",
    "nfs = 20\n",
    "\n",
    "# empty array to store forecasted values\n",
    "pred_vals = np.zeros([num_series, nfs])\n",
    "# empty array to store test values\n",
    "test_vals = np.zeros([num_series, nfs])"
   ]
  },
  {
   "cell_type": "code",
   "execution_count": null,
   "metadata": {},
   "outputs": [
    {
     "name": "stdout",
     "output_type": "stream",
     "text": [
      "0 out of 164 models trained.\n",
      "1 out of 164 models trained.\n",
      "2 out of 164 models trained.\n",
      "3 out of 164 models trained.\n",
      "4 out of 164 models trained.\n",
      "5 out of 164 models trained.\n",
      "6 out of 164 models trained.\n",
      "7 out of 164 models trained.\n",
      "8 out of 164 models trained.\n",
      "9 out of 164 models trained.\n",
      "10 out of 164 models trained.\n",
      "11 out of 164 models trained.\n",
      "12 out of 164 models trained.\n",
      "13 out of 164 models trained.\n",
      "14 out of 164 models trained.\n",
      "15 out of 164 models trained.\n",
      "16 out of 164 models trained.\n",
      "17 out of 164 models trained.\n",
      "18 out of 164 models trained.\n",
      "19 out of 164 models trained.\n",
      "20 out of 164 models trained.\n",
      "21 out of 164 models trained.\n",
      "22 out of 164 models trained.\n",
      "23 out of 164 models trained.\n",
      "24 out of 164 models trained.\n",
      "25 out of 164 models trained.\n",
      "26 out of 164 models trained.\n",
      "27 out of 164 models trained.\n",
      "28 out of 164 models trained.\n",
      "29 out of 164 models trained.\n",
      "30 out of 164 models trained.\n",
      "31 out of 164 models trained.\n",
      "32 out of 164 models trained.\n",
      "33 out of 164 models trained.\n",
      "34 out of 164 models trained.\n",
      "35 out of 164 models trained.\n",
      "36 out of 164 models trained.\n",
      "37 out of 164 models trained.\n",
      "38 out of 164 models trained.\n",
      "39 out of 164 models trained.\n",
      "40 out of 164 models trained.\n",
      "41 out of 164 models trained.\n",
      "42 out of 164 models trained.\n",
      "43 out of 164 models trained.\n",
      "44 out of 164 models trained.\n",
      "45 out of 164 models trained.\n",
      "46 out of 164 models trained.\n",
      "47 out of 164 models trained.\n",
      "48 out of 164 models trained.\n",
      "49 out of 164 models trained.\n",
      "50 out of 164 models trained.\n",
      "51 out of 164 models trained.\n",
      "52 out of 164 models trained.\n",
      "53 out of 164 models trained.\n",
      "54 out of 164 models trained.\n",
      "55 out of 164 models trained.\n",
      "56 out of 164 models trained.\n",
      "57 out of 164 models trained.\n",
      "58 out of 164 models trained.\n",
      "59 out of 164 models trained.\n",
      "60 out of 164 models trained.\n",
      "61 out of 164 models trained.\n",
      "62 out of 164 models trained.\n",
      "63 out of 164 models trained.\n",
      "64 out of 164 models trained.\n",
      "65 out of 164 models trained.\n",
      "66 out of 164 models trained.\n",
      "67 out of 164 models trained.\n",
      "68 out of 164 models trained.\n",
      "69 out of 164 models trained.\n",
      "70 out of 164 models trained.\n",
      "71 out of 164 models trained.\n",
      "72 out of 164 models trained.\n"
     ]
    }
   ],
   "source": [
    "for i, series in enumerate(ts):\n",
    "    \n",
    "    if i % 1 == 0:\n",
    "        print(i, 'out of', num_series, 'models trained.')\n",
    "    \n",
    "    # split into training and testing data\n",
    "    train, test = series[:-nfs], series[-nfs:]\n",
    "    \n",
    "    # store test data\n",
    "    test_vals[i,:] = test\n",
    "    \n",
    "    # calculate the number of differences\n",
    "    d = pm.arima.ndiffs(train, alpha = 0.05, test = 'kpss', max_d = 2)\n",
    "    \n",
    "    # calculate the number of seasonal differences\n",
    "    D = pm.arima.nsdiffs(train, m, max_D = 2, test = 'ocsb')\n",
    "    \n",
    "    # fit stepwise auto-ARIMA\n",
    "    stepwise_fit = pm.auto_arima(train, \n",
    "                                 m=m,                    # seasonal differencing term                \n",
    "                                 seasonal=True,          # compute seasonal model\n",
    "                                 d=d,                    # pre-calculated number of differences\n",
    "                                 D=D,                    # pre-calculated number of seasonal differences\n",
    "                                 trace=False,            # don't print optimization process results\n",
    "                                 error_action='ignore',  # don't want to know if an order does not work\n",
    "                                 suppress_warnings=True, # don't want convergence warnings\n",
    "                                 stepwise=True)          # set to stepwise\n",
    "    \n",
    "    # make predictions for 20 period horizon\n",
    "    prediction = stepwise_fit.predict(n_periods = nfs)\n",
    "    \n",
    "    # store predictions\n",
    "    pred_vals[i,:] = prediction"
   ]
  },
  {
   "cell_type": "code",
   "execution_count": null,
   "metadata": {},
   "outputs": [],
   "source": [
    "# calculate root mean squared error and mean absolute error\n",
    "# for predictions from all series\n",
    "\n",
    "# empty arrays for errors\n",
    "rmse = np.zeros(num_series)\n",
    "mae = np.zeros(num_series)\n",
    "\n",
    "for i in range(num_series):\n",
    "    rmse[i] = em.rmse(test_vals[i,:], pred_vals[i,:])\n",
    "    mae[i] = em.meanabs(test_vals[i,:], pred_vals[i,:])"
   ]
  },
  {
   "cell_type": "code",
   "execution_count": null,
   "metadata": {},
   "outputs": [],
   "source": [
    "# average root mean squared error across series\n",
    "np.mean(rmse)"
   ]
  },
  {
   "cell_type": "code",
   "execution_count": null,
   "metadata": {},
   "outputs": [],
   "source": [
    "# average mean absolute error across series\n",
    "np.mean(mae)"
   ]
  },
  {
   "cell_type": "code",
   "execution_count": null,
   "metadata": {},
   "outputs": [],
   "source": [
    "plt.plot(test_vals[10,:], label = \"Actual\")\n",
    "plt.plot(pred_vals[10,:], label = \"Predicted\")\n",
    "plt.legend()"
   ]
  },
  {
   "cell_type": "code",
   "execution_count": null,
   "metadata": {},
   "outputs": [],
   "source": [
    "plt.plot(test_vals[50,:], label = \"Actual\")\n",
    "plt.plot(pred_vals[50,:], label = \"Predicted\")\n",
    "plt.legend()"
   ]
  },
  {
   "cell_type": "code",
   "execution_count": null,
   "metadata": {},
   "outputs": [],
   "source": [
    "plt.plot(test_vals[150,:], label = \"Actual\")\n",
    "plt.plot(pred_vals[150,:], label = \"Predicted\")\n",
    "plt.legend()"
   ]
  },
  {
   "cell_type": "code",
   "execution_count": null,
   "metadata": {},
   "outputs": [],
   "source": [
    "plt.plot(test_vals[160,:], label = \"Actual\")\n",
    "plt.plot(pred_vals[160,:], label = \"Predicted\")\n",
    "plt.legend()"
   ]
  },
  {
   "cell_type": "code",
   "execution_count": null,
   "metadata": {},
   "outputs": [],
   "source": [
    "plt.plot(test_vals[163,:], label = \"Actual\")\n",
    "plt.plot(pred_vals[163,:], label = \"Predicted\")\n",
    "plt.legend()"
   ]
  },
  {
   "cell_type": "markdown",
   "metadata": {},
   "source": [
    "***"
   ]
  },
  {
   "cell_type": "markdown",
   "metadata": {},
   "source": [
    "Testing with BoxCox transformation."
   ]
  },
  {
   "cell_type": "code",
   "execution_count": null,
   "metadata": {},
   "outputs": [],
   "source": [
    "series = ts[150,:]\n",
    "\n",
    "BC = pm.preprocessing.BoxCoxEndogTransformer()\n",
    "\n",
    "series = BC.fit_transform(series)[0]"
   ]
  },
  {
   "cell_type": "code",
   "execution_count": null,
   "metadata": {},
   "outputs": [],
   "source": [
    "# split into training and testing data\n",
    "train, test = series[:-nfs], series[-nfs:]"
   ]
  },
  {
   "cell_type": "code",
   "execution_count": null,
   "metadata": {},
   "outputs": [],
   "source": [
    "# calculate the number of differences\n",
    "d = pm.arima.ndiffs(train, alpha = 0.05, test = 'kpss', max_d = 2)\n",
    "    \n",
    "# calculate the number of seasonal differences\n",
    "D = pm.arima.nsdiffs(train, m, max_D = 2, test = 'ocsb')\n",
    "    \n",
    "# fit stepwise auto-ARIMA\n",
    "stepwise_fit = pm.auto_arima(train, \n",
    "                             m=m,                    # seasonal differencing term                \n",
    "                             seasonal=True,          # compute seasonal model\n",
    "                             d=d,                    # pre-calculated number of differences\n",
    "                             D=D,                    # pre-calculated number of seasonal differences\n",
    "                             trace=True,            # don't print optimization process results\n",
    "                             error_action='ignore',  # don't want to know if an order does not work\n",
    "                             suppress_warnings=True, # don't want convergence warnings\n",
    "                             stepwise=True)          # set to stepwise\n",
    "    \n",
    "# make predictions for 20 period horizon\n",
    "prediction = stepwise_fit.predict(n_periods = nfs)"
   ]
  },
  {
   "cell_type": "code",
   "execution_count": null,
   "metadata": {},
   "outputs": [],
   "source": [
    "stepwise_fit.summary()"
   ]
  },
  {
   "cell_type": "code",
   "execution_count": null,
   "metadata": {},
   "outputs": [],
   "source": [
    "plt.plot(series)"
   ]
  },
  {
   "cell_type": "code",
   "execution_count": null,
   "metadata": {},
   "outputs": [],
   "source": [
    "pm.plot_acf(stepwise_fit.resid())"
   ]
  },
  {
   "cell_type": "code",
   "execution_count": null,
   "metadata": {},
   "outputs": [],
   "source": [
    "plt.plot(test, label = \"Actual\")\n",
    "plt.plot(prediction, label = \"Predicted\")\n",
    "plt.legend()"
   ]
  }
 ],
 "metadata": {
  "kernelspec": {
   "display_name": "Python 3",
   "language": "python",
   "name": "python3"
  },
  "language_info": {
   "codemirror_mode": {
    "name": "ipython",
    "version": 3
   },
   "file_extension": ".py",
   "mimetype": "text/x-python",
   "name": "python",
   "nbconvert_exporter": "python",
   "pygments_lexer": "ipython3",
   "version": "3.8.3"
  }
 },
 "nbformat": 4,
 "nbformat_minor": 4
}
