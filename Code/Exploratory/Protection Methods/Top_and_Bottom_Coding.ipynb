{
 "cells": [
  {
   "cell_type": "markdown",
   "id": "be68b4e7",
   "metadata": {},
   "source": [
    "# Code for Top and Bottom Coding Protection Methods"
   ]
  },
  {
   "cell_type": "markdown",
   "id": "ca07cfa7",
   "metadata": {},
   "source": [
    "***"
   ]
  },
  {
   "cell_type": "markdown",
   "id": "60384bac",
   "metadata": {},
   "source": [
    "Borrowing the notation from [Schneider & Lee (2022)](https://arxiv.org/abs/2106.16085):"
   ]
  },
  {
   "cell_type": "markdown",
   "id": "8e242e2b",
   "metadata": {},
   "source": [
    "There are $J$ times series denoted $y_j$.\n",
    "\n",
    "The confidential (actual) value of $y_j$ at time $t$ is denoted $A_{j,t}$.\n",
    "\n",
    "Under `Top Coding`, the top $p$ percent of observations are replaced with the $1-p$ quantile. Under `Bottom Coding`, the bottom $p$ percent of observations are replaced with the $p$ quantile."
   ]
  },
  {
   "cell_type": "markdown",
   "id": "d8ed50c0",
   "metadata": {},
   "source": [
    "***"
   ]
  },
  {
   "cell_type": "code",
   "execution_count": 1,
   "id": "b88f3655",
   "metadata": {},
   "outputs": [],
   "source": [
    "# general modules\n",
    "import numpy as np\n",
    "import pandas as pd\n",
    "\n",
    "# nice time series plots\n",
    "from sktime.utils.plotting import plot_series"
   ]
  },
  {
   "cell_type": "code",
   "execution_count": 2,
   "id": "3a16c068",
   "metadata": {},
   "outputs": [],
   "source": [
    "# import weekly finance series, skipping column names\n",
    "Y = np.genfromtxt(\"../../../Data/Train/Clean/weekly_finance_clean.csv\", delimiter = ',', skip_header = 1)"
   ]
  },
  {
   "cell_type": "code",
   "execution_count": 3,
   "id": "2ea2a30d",
   "metadata": {},
   "outputs": [],
   "source": [
    "y = Y[0,:]"
   ]
  },
  {
   "cell_type": "code",
   "execution_count": 5,
   "id": "6799a7be",
   "metadata": {},
   "outputs": [],
   "source": [
    "q = np.quantile(y, q=0.1)"
   ]
  },
  {
   "cell_type": "code",
   "execution_count": 12,
   "id": "fa7a472d",
   "metadata": {},
   "outputs": [],
   "source": [
    "y_bc = np.array([i if i > q else q for i in y])"
   ]
  },
  {
   "cell_type": "code",
   "execution_count": null,
   "id": "bb69cad6",
   "metadata": {},
   "outputs": [],
   "source": [
    "def coding_protection(series, coding_type, percent_protected):\n",
    "    if coding_type==\"Bottom\":\n",
    "        q = np.quantile(series, q=percent_protected)\n",
    "        series_bc = [i if i > q else q for i in series]\n",
    "    elif coding_type==\"Top\":\n",
    "        q = np.quantile(series, q=1-percent_protected)\n",
    "        series_bc = [i if i < q else q for i in series]"
   ]
  },
  {
   "cell_type": "code",
   "execution_count": null,
   "id": "6db194ca",
   "metadata": {},
   "outputs": [],
   "source": []
  },
  {
   "cell_type": "code",
   "execution_count": null,
   "id": "4b162991",
   "metadata": {},
   "outputs": [],
   "source": []
  },
  {
   "cell_type": "code",
   "execution_count": null,
   "id": "46c6d868",
   "metadata": {},
   "outputs": [],
   "source": []
  }
 ],
 "metadata": {
  "kernelspec": {
   "display_name": "Python 3 (ipykernel)",
   "language": "python",
   "name": "python3"
  },
  "language_info": {
   "codemirror_mode": {
    "name": "ipython",
    "version": 3
   },
   "file_extension": ".py",
   "mimetype": "text/x-python",
   "name": "python",
   "nbconvert_exporter": "python",
   "pygments_lexer": "ipython3",
   "version": "3.9.7"
  }
 },
 "nbformat": 4,
 "nbformat_minor": 5
}
