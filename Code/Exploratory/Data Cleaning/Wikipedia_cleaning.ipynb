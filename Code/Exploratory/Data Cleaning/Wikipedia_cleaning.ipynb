{
 "cells": [
  {
   "cell_type": "markdown",
   "id": "94720b15",
   "metadata": {},
   "source": [
    "# Code for cleaning the wikipedia page views data."
   ]
  },
  {
   "cell_type": "markdown",
   "id": "26e9be69",
   "metadata": {},
   "source": [
    "***"
   ]
  },
  {
   "cell_type": "code",
   "execution_count": 1,
   "id": "e884cd56",
   "metadata": {},
   "outputs": [],
   "source": [
    "import pandas as pd\n",
    "import numpy as np"
   ]
  },
  {
   "cell_type": "code",
   "execution_count": 2,
   "id": "a3226863",
   "metadata": {},
   "outputs": [],
   "source": [
    "# read in data and remove row names\n",
    "wp = pd.read_csv(\"../../../Data/Wikipedia/train_2.csv\").iloc[:,1:]"
   ]
  },
  {
   "cell_type": "code",
   "execution_count": 3,
   "id": "411cfd39",
   "metadata": {},
   "outputs": [],
   "source": [
    "wp = wp.dropna()"
   ]
  },
  {
   "cell_type": "code",
   "execution_count": 4,
   "id": "b54d9adc",
   "metadata": {},
   "outputs": [],
   "source": [
    "wp = wp.iloc[:,1:609]"
   ]
  },
  {
   "cell_type": "code",
   "execution_count": 5,
   "id": "38185962",
   "metadata": {},
   "outputs": [],
   "source": [
    "sample_wp = wp.iloc[:10000,:]"
   ]
  },
  {
   "cell_type": "code",
   "execution_count": 6,
   "id": "67d700f5",
   "metadata": {},
   "outputs": [],
   "source": [
    "sample_wp.columns = range(sample_wp.columns.size)"
   ]
  },
  {
   "cell_type": "code",
   "execution_count": 7,
   "id": "e104668e",
   "metadata": {},
   "outputs": [],
   "source": [
    "sample_wp.index = range(sample_wp.index.size)"
   ]
  },
  {
   "cell_type": "code",
   "execution_count": 8,
   "id": "8fd46559",
   "metadata": {},
   "outputs": [],
   "source": [
    "corr_matrix = sample_wp.T.corr().abs()"
   ]
  },
  {
   "cell_type": "code",
   "execution_count": 9,
   "id": "a918a6d6",
   "metadata": {},
   "outputs": [],
   "source": [
    "#the matrix is symmetric so we need to extract upper triangle matrix without diagonal (k = 1)\n",
    "sol = (corr_matrix.where(np.triu(np.ones(corr_matrix.shape), k=1).astype(bool))\n",
    "                  .stack()\n",
    "                  .sort_values(ascending=False))"
   ]
  },
  {
   "cell_type": "code",
   "execution_count": 10,
   "id": "763777ac",
   "metadata": {},
   "outputs": [],
   "source": [
    "high_corr = sol[sol>0.50]"
   ]
  },
  {
   "cell_type": "code",
   "execution_count": 11,
   "id": "78068993",
   "metadata": {},
   "outputs": [],
   "source": [
    "ids = []\n",
    "for index, value in high_corr.items():\n",
    "    for v in index:\n",
    "        ids.append(v)"
   ]
  },
  {
   "cell_type": "code",
   "execution_count": 12,
   "id": "79cf7fe8",
   "metadata": {},
   "outputs": [],
   "source": [
    "counts = np.unique(ids, return_counts=True)"
   ]
  },
  {
   "cell_type": "code",
   "execution_count": 13,
   "id": "67095dbd",
   "metadata": {},
   "outputs": [
    {
     "data": {
      "text/plain": [
       "(array([   0,    1,    2, ..., 9997, 9998, 9999]),\n",
       " array([ 13,   8,  56, ..., 130,  20,  54], dtype=int64))"
      ]
     },
     "execution_count": 13,
     "metadata": {},
     "output_type": "execute_result"
    }
   ],
   "source": [
    "counts"
   ]
  },
  {
   "cell_type": "code",
   "execution_count": 14,
   "id": "092d3656",
   "metadata": {},
   "outputs": [],
   "source": [
    "sorted_ids = [x for _, x in sorted(zip(counts[1], counts[0]))]"
   ]
  },
  {
   "cell_type": "code",
   "execution_count": 15,
   "id": "baf9611d",
   "metadata": {},
   "outputs": [],
   "source": [
    "select_ids = sorted_ids[:474]"
   ]
  },
  {
   "cell_type": "code",
   "execution_count": 16,
   "id": "b9b24175",
   "metadata": {},
   "outputs": [],
   "source": [
    "select_series = sample_wp.iloc[select_ids,:]"
   ]
  },
  {
   "cell_type": "code",
   "execution_count": 17,
   "id": "dbe7ebbb",
   "metadata": {},
   "outputs": [],
   "source": [
    "select_series.to_csv(\"../../../Data/Train/Clean/full_wikipedia_clean.csv\", index=False)"
   ]
  },
  {
   "cell_type": "code",
   "execution_count": null,
   "id": "2b8a4a3a",
   "metadata": {},
   "outputs": [],
   "source": []
  }
 ],
 "metadata": {
  "kernelspec": {
   "display_name": "Python 3 (ipykernel)",
   "language": "python",
   "name": "python3"
  },
  "language_info": {
   "codemirror_mode": {
    "name": "ipython",
    "version": 3
   },
   "file_extension": ".py",
   "mimetype": "text/x-python",
   "name": "python",
   "nbconvert_exporter": "python",
   "pygments_lexer": "ipython3",
   "version": "3.9.7"
  }
 },
 "nbformat": 4,
 "nbformat_minor": 5
}
