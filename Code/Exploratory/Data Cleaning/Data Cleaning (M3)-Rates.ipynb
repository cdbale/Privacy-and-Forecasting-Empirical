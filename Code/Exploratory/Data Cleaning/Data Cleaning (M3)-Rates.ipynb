{
 "cells": [
  {
   "cell_type": "code",
   "execution_count": 22,
   "id": "f0512bfe",
   "metadata": {},
   "outputs": [],
   "source": [
    "import pandas as pd\n",
    "import numpy as np"
   ]
  },
  {
   "cell_type": "markdown",
   "id": "495abe35",
   "metadata": {},
   "source": [
    "Since our method requires *k* nearest neighbors, we will drop any series within a category that do not have the same length as *k* other series. The maximum value of *k* we consider is 15, so we will require at least 16 series of each length in each category."
   ]
  },
  {
   "cell_type": "markdown",
   "id": "9cf8dd5e",
   "metadata": {},
   "source": [
    "## Write a function to import and split the series by category and length."
   ]
  },
  {
   "cell_type": "markdown",
   "id": "2d6f9fe7",
   "metadata": {},
   "source": [
    "***"
   ]
  },
  {
   "cell_type": "code",
   "execution_count": 23,
   "id": "ed029bef",
   "metadata": {},
   "outputs": [],
   "source": [
    "def rate_conversion(time_series):\n",
    "    \n",
    "    # assumes time_series is a pandas series\n",
    "    \n",
    "    rate_series = pd.Series(np.repeat(np.nan, time_series.shape[0]))\n",
    "    \n",
    "    for i in range(time_series.shape[0]):\n",
    "        if i == 0:\n",
    "            rate_series.iloc[i] = 0.0\n",
    "        else:\n",
    "            rate_series.iloc[i] = (time_series.iloc[i] - time_series.iloc[i-1])/np.mean([time_series.iloc[i], time_series.iloc[i-1]])\n",
    "            \n",
    "    return rate_series"
   ]
  },
  {
   "cell_type": "code",
   "execution_count": 24,
   "id": "6d0de62e",
   "metadata": {},
   "outputs": [],
   "source": [
    "def import_split_save(time_series_frequency, min_number_series):\n",
    "    \n",
    "    '''\n",
    "    Function to import a subset of the M3 data defined by the frequency, i.e., yearly, quarterly, monthly, other.\n",
    "    Split the subset into further subsets defined by the category, e.g., MICRO, FINANCE, etc.\n",
    "    \n",
    "    Args:\n",
    "    \n",
    "    time_series_frequency (str): frequency corresponding to the desired file (accepts yearly, quarterly, monthly, other)\n",
    "    min_number_series (int): minimum number of series that must have the same length to be kept in the data. Allows us to\n",
    "        use global forecasting models and swap values between nearest neighbor time series. Select a value equal to (k + 1) \n",
    "        where k is the largest value you will consider for swapping.\n",
    "    '''\n",
    "    \n",
    "    # import time series file\n",
    "    temp = pd.read_csv(\"../../../Data/M3/M3-\" + time_series_frequency + \".csv\")\n",
    "    \n",
    "    # find the index of the column of the first time period\n",
    "    start = np.where(temp.columns == '1')[0][0] \n",
    "    \n",
    "    # strip the whitespace and store the categories (e.g., MICRO)\n",
    "    temp.Category = temp.Category.str.strip()\n",
    "    categories = np.unique(temp.Category)\n",
    "    \n",
    "    ## for each category, sort the data by length of series and save in a separate csv file\n",
    "    for cat in categories:\n",
    "        \n",
    "        # filter for the desired category and sort by series length\n",
    "        temp_cat = temp.loc[temp.Category == cat].sort_values(\"N\")\n",
    "        \n",
    "        # count how many series have each length\n",
    "        length_counts = temp_cat.N.value_counts()\n",
    "        \n",
    "        # indicate which lengths to keep based on which have at least 4 series\n",
    "        length_keep = length_counts.index[length_counts >= min_number_series]\n",
    "        \n",
    "        # filter for the series with the appropriate lengths\n",
    "        temp_cat = temp_cat.loc[temp_cat.N.isin(length_keep),:]\n",
    "        \n",
    "        num_series = temp_cat.shape[0]\n",
    "        \n",
    "        # if there will be no time series for a given frequency and category, skip to the next\n",
    "        if num_series == 0:\n",
    "            print(time_series_frequency + \" \" + cat + \": \" + str(num_series) + \" series.\")\n",
    "            continue\n",
    "        \n",
    "        print(time_series_frequency + \" \" + cat + \": \" + str(num_series) + \" series.\")\n",
    "        \n",
    "        # remove all columns except time series values and split time series into a list\n",
    "        Y = [x.dropna() for _, x in temp_cat.iloc[:,start:].iterrows()]\n",
    "        \n",
    "        # ensure all values are positive\n",
    "        Y = [pd.Series([i if i >= 1 else 1 for i in x]) for x in Y]\n",
    "        \n",
    "        # apply log transformation\n",
    "        Y = [np.log(x) for x in Y]\n",
    "        \n",
    "        # convert to rates\n",
    "        Y = [rate_conversion(x) for x in Y]\n",
    "        \n",
    "        ## create training data excluding test horizon\n",
    "        ## the number indicates how many periods are excluded from the end of the series for testing\n",
    "        \n",
    "        # used for machine learning feature selection for k-nTS+\n",
    "        Y_train_2, Y_test_2 = pd.DataFrame([x.iloc[:-2] for x in Y]), pd.DataFrame([x.iloc[-2] for x in Y])\n",
    "        \n",
    "        # used for assessing final forecast accuracy\n",
    "        Y_train_1, Y_test_1 = pd.DataFrame([x.iloc[:-1] for x in Y]), pd.DataFrame([x.iloc[-1] for x in Y])\n",
    "        \n",
    "        Y_train_1.columns = np.arange(Y_train_1.shape[1])\n",
    "        Y_train_2.columns = np.arange(Y_train_2.shape[1])\n",
    "        Y_test_1.columns = np.arange(Y_test_1.shape[1])\n",
    "        Y_test_2.columns = np.arange(Y_test_2.shape[1])\n",
    "        \n",
    "        # save files\n",
    "        Y_train_2.to_csv(\"../../../Data/Cleaned/M3/rate_\" + time_series_frequency + \"-\" + cat + \"_h2_train\" + \".csv\", index=False)\n",
    "        Y_train_1.to_csv(\"../../../Data/Cleaned/M3/rate_\" + time_series_frequency + \"-\" + cat + \"_h1_train\" + \".csv\", index=False)\n",
    "        Y_test_2.to_csv(\"../../../Data/Cleaned/M3/rate_\" + time_series_frequency + \"-\" + cat + \"_h2_test\" + \".csv\", index=False)\n",
    "        Y_test_1.to_csv(\"../../../Data/Cleaned/M3/rate_\" + time_series_frequency + \"-\" + cat + \"_h1_test\" + \".csv\", index=False)"
   ]
  },
  {
   "cell_type": "code",
   "execution_count": 25,
   "id": "14992e2b",
   "metadata": {},
   "outputs": [
    {
     "name": "stdout",
     "output_type": "stream",
     "text": [
      "yearly DEMOGRAPHIC: 204 series.\n",
      "yearly FINANCE: 20 series.\n",
      "yearly INDUSTRY: 41 series.\n",
      "yearly MACRO: 77 series.\n",
      "yearly MICRO: 146 series.\n",
      "yearly OTHER: 0 series.\n",
      "quarterly DEMOGRAPHIC: 0 series.\n",
      "quarterly FINANCE: 16 series.\n",
      "quarterly INDUSTRY: 0 series.\n",
      "quarterly MACRO: 324 series.\n",
      "quarterly MICRO: 174 series.\n",
      "monthly DEMOGRAPHIC: 80 series.\n",
      "monthly FINANCE: 98 series.\n",
      "monthly INDUSTRY: 289 series.\n",
      "monthly MACRO: 250 series.\n",
      "monthly MICRO: 474 series.\n",
      "monthly OTHER: 50 series.\n",
      "other FINANCE: 0 series.\n",
      "other MICRO: 0 series.\n",
      "other OTHER: 120 series.\n"
     ]
    },
    {
     "data": {
      "text/plain": [
       "[None, None, None, None]"
      ]
     },
     "execution_count": 25,
     "metadata": {},
     "output_type": "execute_result"
    }
   ],
   "source": [
    "[import_split_save(freq, 16) for freq in [\"yearly\", \"quarterly\", \"monthly\", \"other\"]]"
   ]
  },
  {
   "cell_type": "code",
   "execution_count": null,
   "id": "2c92652f",
   "metadata": {},
   "outputs": [],
   "source": []
  }
 ],
 "metadata": {
  "kernelspec": {
   "display_name": "Python 3 (ipykernel)",
   "language": "python",
   "name": "python3"
  },
  "language_info": {
   "codemirror_mode": {
    "name": "ipython",
    "version": 3
   },
   "file_extension": ".py",
   "mimetype": "text/x-python",
   "name": "python",
   "nbconvert_exporter": "python",
   "pygments_lexer": "ipython3",
   "version": "3.11.4"
  }
 },
 "nbformat": 4,
 "nbformat_minor": 5
}
