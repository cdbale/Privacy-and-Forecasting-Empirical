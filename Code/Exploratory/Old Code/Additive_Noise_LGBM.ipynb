{
 "cells": [
  {
   "cell_type": "markdown",
   "id": "0e4052c3",
   "metadata": {},
   "source": [
    "# Examining the Effects of Additive Noise on LGBM Forecast Accuracy"
   ]
  },
  {
   "cell_type": "markdown",
   "id": "7a4bd4c9",
   "metadata": {},
   "source": [
    "***"
   ]
  },
  {
   "cell_type": "code",
   "execution_count": 1,
   "id": "dd558349",
   "metadata": {},
   "outputs": [],
   "source": [
    "# general modules\n",
    "import pandas as pd\n",
    "import numpy as np\n",
    "import lightgbm as lgb\n",
    "\n",
    "##### the `helper_functions.py` file contains many custom functions we wrote to aid in our analysis\n",
    "##### `full_coding_analysis` combines all of the following - train-test split data,\n",
    "##### data protection, train models, compare accuracies, return accuracy results\n",
    "from helper_functions import *"
   ]
  },
  {
   "cell_type": "code",
   "execution_count": 2,
   "id": "053d11e1",
   "metadata": {},
   "outputs": [],
   "source": [
    "# import weekly finance time series\n",
    "Y = np.genfromtxt(\"../../Data/Train/Clean/weekly_finance_clean.csv\", delimiter = ',', skip_header = 1)\n",
    "Y = pd.DataFrame(Y)"
   ]
  },
  {
   "cell_type": "code",
   "execution_count": 3,
   "id": "7cdb11c7",
   "metadata": {},
   "outputs": [],
   "source": [
    "# detrender = Detrender()\n",
    "# detrended_series = [detrender.fit_transform(series) for _ , series in Y.iterrows()]\n",
    "# detrended_series = [i+np.abs(np.min(i))+1.0 for i in detrended_series]\n",
    "# Y = pd.concat(detrended_series, axis=1).T"
   ]
  },
  {
   "cell_type": "markdown",
   "id": "a2cdca93",
   "metadata": {},
   "source": [
    "***"
   ]
  },
  {
   "cell_type": "markdown",
   "id": "693a5968",
   "metadata": {},
   "source": [
    "## Simple Model (window length = 10)"
   ]
  },
  {
   "cell_type": "code",
   "execution_count": 4,
   "id": "c6ca18f3",
   "metadata": {},
   "outputs": [],
   "source": [
    "forecaster = lgb.LGBMRegressor()\n",
    "window_length=10"
   ]
  },
  {
   "cell_type": "code",
   "execution_count": 5,
   "id": "96460ce3",
   "metadata": {},
   "outputs": [],
   "source": [
    "results_dict_10 = {}\n",
    "fcasts_10 = {}\n",
    "fcasts_protected_10 = {}\n",
    "tests = {}\n",
    "num_stdevs = [1, 2]\n",
    "horizons = [1, 20]"
   ]
  },
  {
   "cell_type": "code",
   "execution_count": 6,
   "id": "33b06dee",
   "metadata": {},
   "outputs": [],
   "source": [
    "for n in num_stdevs:\n",
    "    for h in horizons:\n",
    "        idx = \"h=\"+str(h)+\", \"+str(n)+\" stan. devs\"\n",
    "        results_dict_10[idx], tests[idx], fcasts_10[idx], fcasts_protected_10[idx] = full_coding_analysis(time_series_data=Y, \n",
    "                                                                                                          forecasting_model=forecaster, \n",
    "                                                                                                          forecast_horizon=h,\n",
    "                                                                                                          num_stdev=n,\n",
    "                                                                                                          window_length=window_length)"
   ]
  },
  {
   "cell_type": "code",
   "execution_count": 7,
   "id": "93202597",
   "metadata": {},
   "outputs": [
    {
     "data": {
      "text/plain": [
       "{'h=1, 1 stan. devs': {'Mean Accuracies': array([67.4396, 67.4396]),\n",
       "  'Protected Mean Accuracies:': array([289.8237, 289.8237]),\n",
       "  '% Change Mean accuracy:': array([-3.2975, -3.2975]),\n",
       "  '% Change Median accuracy:': array([-1.4905, -1.4905]),\n",
       "  '% Forecasted Points adjusted downward:': 0.5488,\n",
       "  '% Forecasted Points adjusted upward:': 0.4512,\n",
       "  '% Series with improved accuracy:': array([0.2683, 0.2683]),\n",
       "  '% Series with reduced accuracy:': array([0.7317, 0.7317]),\n",
       "  'Original Mean Absolute Error Upward Adjusted:': 93.0647,\n",
       "  'Original Mean Absolute Error Downward Adjusted:': 46.3701,\n",
       "  'Protected Mean Absolute Error Upward Adjusted:': 474.7413,\n",
       "  'Protected Mean Absolute Error Downward Adjusted:': 137.7803},\n",
       " 'h=20, 1 stan. devs': {'Mean Accuracies': array([115.1224, 138.0561]),\n",
       "  'Protected Mean Accuracies:': array([266.9036, 289.6825]),\n",
       "  '% Change Mean accuracy:': array([-1.3184, -1.0983]),\n",
       "  '% Change Median accuracy:': array([-0.4752, -0.5819]),\n",
       "  '% Forecasted Points adjusted downward:': 0.5768,\n",
       "  '% Forecasted Points adjusted upward:': 0.4232,\n",
       "  '% Series with improved accuracy:': array([0.189 , 0.2012]),\n",
       "  '% Series with reduced accuracy:': array([0.811 , 0.7988]),\n",
       "  'Original Mean Absolute Error Upward Adjusted:': 129.4651,\n",
       "  'Original Mean Absolute Error Downward Adjusted:': 104.6004,\n",
       "  'Protected Mean Absolute Error Upward Adjusted:': 357.3519,\n",
       "  'Protected Mean Absolute Error Downward Adjusted:': 200.5493},\n",
       " 'h=1, 2 stan. devs': {'Mean Accuracies': array([67.4396, 67.4396]),\n",
       "  'Protected Mean Accuracies:': array([905.5531, 905.5531]),\n",
       "  '% Change Mean accuracy:': array([-12.4276, -12.4276]),\n",
       "  '% Change Median accuracy:': array([-3.5476, -3.5476]),\n",
       "  '% Forecasted Points adjusted downward:': 0.689,\n",
       "  '% Forecasted Points adjusted upward:': 0.311,\n",
       "  '% Series with improved accuracy:': array([0.1707, 0.1707]),\n",
       "  '% Series with reduced accuracy:': array([0.8293, 0.8293]),\n",
       "  'Original Mean Absolute Error Upward Adjusted:': 85.0556,\n",
       "  'Original Mean Absolute Error Downward Adjusted:': 59.489,\n",
       "  'Protected Mean Absolute Error Upward Adjusted:': 126.3217,\n",
       "  'Protected Mean Absolute Error Downward Adjusted:': 1257.2417},\n",
       " 'h=20, 2 stan. devs': {'Mean Accuracies': array([115.1224, 138.0561]),\n",
       "  'Protected Mean Accuracies:': array([558.9498, 575.3243]),\n",
       "  '% Change Mean accuracy:': array([-3.8553, -3.1673]),\n",
       "  '% Change Median accuracy:': array([-0.8721, -0.8883]),\n",
       "  '% Forecasted Points adjusted downward:': 0.5332,\n",
       "  '% Forecasted Points adjusted upward:': 0.4668,\n",
       "  '% Series with improved accuracy:': array([0.1037, 0.1098]),\n",
       "  '% Series with reduced accuracy:': array([0.8963, 0.8902]),\n",
       "  'Original Mean Absolute Error Upward Adjusted:': 166.087,\n",
       "  'Original Mean Absolute Error Downward Adjusted:': 70.5102,\n",
       "  'Protected Mean Absolute Error Upward Adjusted:': 1018.1218,\n",
       "  'Protected Mean Absolute Error Downward Adjusted:': 157.0102}}"
      ]
     },
     "execution_count": 7,
     "metadata": {},
     "output_type": "execute_result"
    }
   ],
   "source": [
    "results_dict_10"
   ]
  },
  {
   "cell_type": "markdown",
   "id": "92ee4971",
   "metadata": {},
   "source": [
    "***\n",
    "***"
   ]
  },
  {
   "cell_type": "markdown",
   "id": "31b5ceaa",
   "metadata": {},
   "source": [
    "## 'Medium' Model (window length = 20)"
   ]
  },
  {
   "cell_type": "code",
   "execution_count": 8,
   "id": "b90008b5",
   "metadata": {},
   "outputs": [],
   "source": [
    "forecaster = lgb.LGBMRegressor()\n",
    "window_length = 20"
   ]
  },
  {
   "cell_type": "code",
   "execution_count": 9,
   "id": "d97db584",
   "metadata": {},
   "outputs": [],
   "source": [
    "results_dict_20 = {}\n",
    "fcasts_20 = {}\n",
    "fcasts_protected_20 = {}\n",
    "tests = {}\n",
    "num_stdevs = [1, 2]\n",
    "horizons = [1, 20]"
   ]
  },
  {
   "cell_type": "code",
   "execution_count": 10,
   "id": "3c10841a",
   "metadata": {},
   "outputs": [],
   "source": [
    "for n in num_stdevs:\n",
    "    for h in horizons:\n",
    "        idx = \"h=\"+str(h)+\", \"+str(n)+\" stan. devs\"\n",
    "        results_dict_20[idx], tests[idx], fcasts_20[idx], fcasts_protected_20[idx] = full_coding_analysis(time_series_data=Y, \n",
    "                                                                                                          forecasting_model=forecaster, \n",
    "                                                                                                          forecast_horizon=h,\n",
    "                                                                                                          num_stdev=n,\n",
    "                                                                                                          window_length=window_length)"
   ]
  },
  {
   "cell_type": "code",
   "execution_count": 11,
   "id": "f34e8433",
   "metadata": {},
   "outputs": [
    {
     "data": {
      "text/plain": [
       "{'h=1, 1 stan. devs': {'Mean Accuracies': array([64.9424, 64.9424]),\n",
       "  'Protected Mean Accuracies:': array([197.0099, 197.0099]),\n",
       "  '% Change Mean accuracy:': array([-2.0336, -2.0336]),\n",
       "  '% Change Median accuracy:': array([-1.297, -1.297]),\n",
       "  '% Forecasted Points adjusted downward:': 0.5549,\n",
       "  '% Forecasted Points adjusted upward:': 0.4451,\n",
       "  '% Series with improved accuracy:': array([0.2317, 0.2317]),\n",
       "  '% Series with reduced accuracy:': array([0.7683, 0.7683]),\n",
       "  'Original Mean Absolute Error Upward Adjusted:': 82.2189,\n",
       "  'Original Mean Absolute Error Downward Adjusted:': 51.0831,\n",
       "  'Protected Mean Absolute Error Upward Adjusted:': 218.9173,\n",
       "  'Protected Mean Absolute Error Downward Adjusted:': 179.4357},\n",
       " 'h=20, 1 stan. devs': {'Mean Accuracies': array([125.6744, 149.4553]),\n",
       "  'Protected Mean Accuracies:': array([280.1729, 301.3825]),\n",
       "  '% Change Mean accuracy:': array([-1.2294, -1.0165]),\n",
       "  '% Change Median accuracy:': array([-0.2378, -0.1969]),\n",
       "  '% Forecasted Points adjusted downward:': 0.6128,\n",
       "  '% Forecasted Points adjusted upward:': 0.3872,\n",
       "  '% Series with improved accuracy:': array([0.2134, 0.2256]),\n",
       "  '% Series with reduced accuracy:': array([0.7866, 0.7744]),\n",
       "  'Original Mean Absolute Error Upward Adjusted:': 94.0046,\n",
       "  'Original Mean Absolute Error Downward Adjusted:': 145.6847,\n",
       "  'Protected Mean Absolute Error Upward Adjusted:': 147.9899,\n",
       "  'Protected Mean Absolute Error Downward Adjusted:': 363.6916},\n",
       " 'h=1, 2 stan. devs': {'Mean Accuracies': array([64.9424, 64.9424]),\n",
       "  'Protected Mean Accuracies:': array([869.5552, 869.5552]),\n",
       "  '% Change Mean accuracy:': array([-12.3896, -12.3896]),\n",
       "  '% Change Median accuracy:': array([-3.5473, -3.5473]),\n",
       "  '% Forecasted Points adjusted downward:': 0.7317,\n",
       "  '% Forecasted Points adjusted upward:': 0.2683,\n",
       "  '% Series with improved accuracy:': array([0.1524, 0.1524]),\n",
       "  '% Series with reduced accuracy:': array([0.8476, 0.8476]),\n",
       "  'Original Mean Absolute Error Upward Adjusted:': 33.1099,\n",
       "  'Original Mean Absolute Error Downward Adjusted:': 76.6143,\n",
       "  'Protected Mean Absolute Error Upward Adjusted:': 94.584,\n",
       "  'Protected Mean Absolute Error Downward Adjusted:': 1153.7112},\n",
       " 'h=20, 2 stan. devs': {'Mean Accuracies': array([125.6744, 149.4553]),\n",
       "  'Protected Mean Accuracies:': array([284.472 , 306.5106]),\n",
       "  '% Change Mean accuracy:': array([-1.2636, -1.0509]),\n",
       "  '% Change Median accuracy:': array([-0.8488, -0.7637]),\n",
       "  '% Forecasted Points adjusted downward:': 0.6253,\n",
       "  '% Forecasted Points adjusted upward:': 0.3747,\n",
       "  '% Series with improved accuracy:': array([0.128 , 0.1341]),\n",
       "  '% Series with reduced accuracy:': array([0.872 , 0.8659]),\n",
       "  'Original Mean Absolute Error Upward Adjusted:': 150.5388,\n",
       "  'Original Mean Absolute Error Downward Adjusted:': 110.7752,\n",
       "  'Protected Mean Absolute Error Upward Adjusted:': 387.4982,\n",
       "  'Protected Mean Absolute Error Downward Adjusted:': 222.7367}}"
      ]
     },
     "execution_count": 11,
     "metadata": {},
     "output_type": "execute_result"
    }
   ],
   "source": [
    "results_dict_20"
   ]
  },
  {
   "cell_type": "markdown",
   "id": "16949b2b",
   "metadata": {},
   "source": [
    "***\n",
    "***"
   ]
  },
  {
   "cell_type": "markdown",
   "id": "06e14070",
   "metadata": {},
   "source": [
    "## Complex Model (window length = 40)"
   ]
  },
  {
   "cell_type": "code",
   "execution_count": 12,
   "id": "0068a8a0",
   "metadata": {},
   "outputs": [],
   "source": [
    "forecaster = lgb.LGBMRegressor()\n",
    "window_length = 40"
   ]
  },
  {
   "cell_type": "code",
   "execution_count": 13,
   "id": "865f9c69",
   "metadata": {},
   "outputs": [],
   "source": [
    "results_dict_40 = {}\n",
    "fcasts_40 = {}\n",
    "fcasts_protected_40 = {}\n",
    "tests = {}\n",
    "num_stdevs = [1, 2]\n",
    "horizons = [1, 20]"
   ]
  },
  {
   "cell_type": "code",
   "execution_count": 14,
   "id": "98c813f9",
   "metadata": {},
   "outputs": [],
   "source": [
    "for n in num_stdevs:\n",
    "    for h in horizons:\n",
    "        idx = \"h=\"+str(h)+\", \"+str(n)+\" stan. devs\"\n",
    "        results_dict_40[idx], tests[idx], fcasts_40[idx], fcasts_protected_40[idx] = full_coding_analysis(time_series_data=Y, \n",
    "                                                                                                          forecasting_model=forecaster, \n",
    "                                                                                                          forecast_horizon=h,\n",
    "                                                                                                          num_stdev=n,\n",
    "                                                                                                          window_length=window_length)"
   ]
  },
  {
   "cell_type": "code",
   "execution_count": 15,
   "id": "b8747d6b",
   "metadata": {},
   "outputs": [
    {
     "data": {
      "text/plain": [
       "{'h=1, 1 stan. devs': {'Mean Accuracies': array([67.7525, 67.7525]),\n",
       "  'Protected Mean Accuracies:': array([209.7504, 209.7504]),\n",
       "  '% Change Mean accuracy:': array([-2.0958, -2.0958]),\n",
       "  '% Change Median accuracy:': array([-1.6916, -1.6916]),\n",
       "  '% Forecasted Points adjusted downward:': 0.5549,\n",
       "  '% Forecasted Points adjusted upward:': 0.4451,\n",
       "  '% Series with improved accuracy:': array([0.2073, 0.2073]),\n",
       "  '% Series with reduced accuracy:': array([0.7927, 0.7927]),\n",
       "  'Original Mean Absolute Error Upward Adjusted:': 92.3736,\n",
       "  'Original Mean Absolute Error Downward Adjusted:': 48.0014,\n",
       "  'Protected Mean Absolute Error Upward Adjusted:': 312.9471,\n",
       "  'Protected Mean Absolute Error Downward Adjusted:': 126.9662},\n",
       " 'h=20, 1 stan. devs': {'Mean Accuracies': array([166.4712, 191.1059]),\n",
       "  'Protected Mean Accuracies:': array([399.1456, 444.8764]),\n",
       "  '% Change Mean accuracy:': array([-1.3977, -1.3279]),\n",
       "  '% Change Median accuracy:': array([-0.5531, -0.5066]),\n",
       "  '% Forecasted Points adjusted downward:': 0.525,\n",
       "  '% Forecasted Points adjusted upward:': 0.475,\n",
       "  '% Series with improved accuracy:': array([0.2195, 0.2012]),\n",
       "  '% Series with reduced accuracy:': array([0.7805, 0.7988]),\n",
       "  'Original Mean Absolute Error Upward Adjusted:': 196.5429,\n",
       "  'Original Mean Absolute Error Downward Adjusted:': 139.2635,\n",
       "  'Protected Mean Absolute Error Upward Adjusted:': 621.1779,\n",
       "  'Protected Mean Absolute Error Downward Adjusted:': 198.2593},\n",
       " 'h=1, 2 stan. devs': {'Mean Accuracies': array([67.7525, 67.7525]),\n",
       "  'Protected Mean Accuracies:': array([606.7543, 606.7543]),\n",
       "  '% Change Mean accuracy:': array([-7.9555, -7.9555]),\n",
       "  '% Change Median accuracy:': array([-3.423, -3.423]),\n",
       "  '% Forecasted Points adjusted downward:': 0.4634,\n",
       "  '% Forecasted Points adjusted upward:': 0.5366,\n",
       "  '% Series with improved accuracy:': array([0.1707, 0.1707]),\n",
       "  '% Series with reduced accuracy:': array([0.8293, 0.8293]),\n",
       "  'Original Mean Absolute Error Upward Adjusted:': 90.9326,\n",
       "  'Original Mean Absolute Error Downward Adjusted:': 40.9123,\n",
       "  'Protected Mean Absolute Error Upward Adjusted:': 1013.5724,\n",
       "  'Protected Mean Absolute Error Downward Adjusted:': 135.7017},\n",
       " 'h=20, 2 stan. devs': {'Mean Accuracies': array([166.4712, 191.1059]),\n",
       "  'Protected Mean Accuracies:': array([512.2223, 531.0449]),\n",
       "  '% Change Mean accuracy:': array([-2.0769, -1.7788]),\n",
       "  '% Change Median accuracy:': array([-0.6692, -0.5137]),\n",
       "  '% Forecasted Points adjusted downward:': 0.4954,\n",
       "  '% Forecasted Points adjusted upward:': 0.5046,\n",
       "  '% Series with improved accuracy:': array([0.2012, 0.1829]),\n",
       "  '% Series with reduced accuracy:': array([0.7988, 0.8171]),\n",
       "  'Original Mean Absolute Error Upward Adjusted:': 222.2367,\n",
       "  'Original Mean Absolute Error Downward Adjusted:': 109.6762,\n",
       "  'Protected Mean Absolute Error Upward Adjusted:': 820.1705,\n",
       "  'Protected Mean Absolute Error Downward Adjusted:': 198.5889}}"
      ]
     },
     "execution_count": 15,
     "metadata": {},
     "output_type": "execute_result"
    }
   ],
   "source": [
    "results_dict_40"
   ]
  }
 ],
 "metadata": {
  "kernelspec": {
   "display_name": "Python 3 (ipykernel)",
   "language": "python",
   "name": "python3"
  },
  "language_info": {
   "codemirror_mode": {
    "name": "ipython",
    "version": 3
   },
   "file_extension": ".py",
   "mimetype": "text/x-python",
   "name": "python",
   "nbconvert_exporter": "python",
   "pygments_lexer": "ipython3",
   "version": "3.9.7"
  }
 },
 "nbformat": 4,
 "nbformat_minor": 5
}
