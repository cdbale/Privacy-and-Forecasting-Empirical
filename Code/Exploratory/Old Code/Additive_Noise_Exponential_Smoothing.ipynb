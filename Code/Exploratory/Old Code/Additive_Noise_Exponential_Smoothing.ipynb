{
 "cells": [
  {
   "cell_type": "markdown",
   "id": "0e4052c3",
   "metadata": {},
   "source": [
    "## Examining the Effects of Additive Noise on Exponential Smoothing Forecast Accuracy"
   ]
  },
  {
   "cell_type": "markdown",
   "id": "7a4bd4c9",
   "metadata": {},
   "source": [
    "***"
   ]
  },
  {
   "cell_type": "code",
   "execution_count": 1,
   "id": "dd558349",
   "metadata": {},
   "outputs": [],
   "source": [
    "# general modules\n",
    "import pandas as pd\n",
    "import numpy as np\n",
    "import sktime\n",
    "\n",
    "# import exponential smoothing forecasting model\n",
    "from sktime.forecasting.exp_smoothing import ExponentialSmoothing\n",
    "\n",
    "# functions for transformation+forecasting pipeline\n",
    "from sktime.forecasting.compose import TransformedTargetForecaster\n",
    "\n",
    "# time series transformations\n",
    "from sktime.transformations.series.detrend import ConditionalDeseasonalizer\n",
    "\n",
    "##### the `helper_functions.py` file contains many custom functions we wrote to aid in our analysis\n",
    "##### `full_coding_analysis` combines all of the following - train-test split data,\n",
    "##### data protection, train models, compare accuracies, return accuracy results\n",
    "from helper_functions import *\n",
    "\n",
    "# suppress warnings from exponential smoothing model not converging\n",
    "import warnings\n",
    "warnings.filterwarnings('ignore')\n",
    "\n",
    "# nice time series plots\n",
    "from sktime.utils.plotting import plot_series"
   ]
  },
  {
   "cell_type": "code",
   "execution_count": 2,
   "id": "053d11e1",
   "metadata": {},
   "outputs": [],
   "source": [
    "# import weekly finance time series\n",
    "Y = np.genfromtxt(\"../../Data/Train/Clean/weekly_finance_clean.csv\", delimiter = ',', skip_header = 1)\n",
    "Y = pd.DataFrame(Y)"
   ]
  },
  {
   "cell_type": "markdown",
   "id": "167c3365",
   "metadata": {},
   "source": [
    "***\n",
    "***"
   ]
  },
  {
   "cell_type": "code",
   "execution_count": null,
   "id": "ce018232",
   "metadata": {},
   "outputs": [],
   "source": [
    "# time_series_data = Y\n",
    "# forecast_horizon=20\n",
    "# coding_type=\"Top\"\n",
    "# coding_percentage=0.10\n",
    "# forecasting_model = lgb.LGBMRegressor()\n",
    "# # define forecasting model\n",
    "# # perform additive deseasonalization conditional on autocorrelation test for seasonality\n",
    "\n",
    "# forecasting_model = TransformedTargetForecaster(\n",
    "#     [\n",
    "#         (\"forecast\", ExponentialSmoothing(use_boxcox=False)),\n",
    "#     ]\n",
    "# )\n",
    "# window_length=10"
   ]
  },
  {
   "cell_type": "code",
   "execution_count": null,
   "id": "664c389b",
   "metadata": {},
   "outputs": [],
   "source": [
    "# # create train-test split - we assume the 'test' values are unobserved\n",
    "#     # transpose the input data because `temporal_train_test_split` splits on rows\n",
    "# Train, Test = temporal_train_test_split(time_series_data.T, test_size=forecast_horizon)\n",
    "#     # transpose back\n",
    "# Train = Train.T\n",
    "# Test = Test.T"
   ]
  },
  {
   "cell_type": "code",
   "execution_count": null,
   "id": "5eefcbc5",
   "metadata": {},
   "outputs": [],
   "source": [
    "# if coding_type is not None:\n",
    "#     Train_protected = Train.apply(coding_protection, axis=1, args=(coding_type, coding_percentage))\n",
    "# elif num_stdev is not None:\n",
    "#     Train_protected = additive_noise_protection(Train, num_stdev=num_stdev)\n",
    "# elif epsilon is not None:\n",
    "#     Train_protected = DP_protection(Train, epsilon=epsilon)"
   ]
  },
  {
   "cell_type": "code",
   "execution_count": null,
   "id": "b0379be8",
   "metadata": {},
   "outputs": [],
   "source": [
    "# Train, mins, means = pre_process(Train)\n",
    "# Train_protected, mins_protected, means_protected = pre_process(Train_protected)"
   ]
  },
  {
   "cell_type": "code",
   "execution_count": null,
   "id": "0b5eec7a",
   "metadata": {},
   "outputs": [],
   "source": [
    "# if type(forecasting_model) == lgb.sklearn.LGBMRegressor:\n",
    "#     #Train, Test = pre_process(Train, Test)\n",
    "#     #Train_protected, _ = pre_process(Train_protected, Test)\n",
    "#     # construct detrender\n",
    "#     detrender = Detrender()\n",
    "#     detrended_series = [detrender.fit_transform(series) for _ , series in Train_protected.iterrows()]\n",
    "#     Train_protected_orig = Train_protected.copy()\n",
    "#     Train_protected = pd.concat(detrended_series, axis=1).T\n",
    "#     detrended_series = [detrender.fit_transform(series) for _ , series in Train.iterrows()]\n",
    "#     Train_orig = Train.copy()\n",
    "#     Train = pd.concat(detrended_series, axis=1).T\n",
    "    \n",
    "# if type(forecasting_model) == sktime.forecasting.compose._pipeline.TransformedTargetForecaster:\n",
    "#     # create nested dataframes to use with sktime functions\n",
    "#     Train = from_2d_array_to_nested(Train)\n",
    "#     Train_protected = from_2d_array_to_nested(Train_protected)"
   ]
  },
  {
   "cell_type": "code",
   "execution_count": null,
   "id": "fbea1907",
   "metadata": {},
   "outputs": [],
   "source": [
    "# # forecasts from model trained on original data\n",
    "# fcasts = train_and_forecast(forecasting_model=forecasting_model, horizon_length=forecast_horizon, training_data=Train, window_length=window_length)\n",
    "\n",
    "#     # forecasts from model trained on protected data\n",
    "# fcasts_protected = train_and_forecast(forecasting_model=forecasting_model, horizon_length=forecast_horizon, training_data=Train_protected, window_length=window_length)"
   ]
  },
  {
   "cell_type": "code",
   "execution_count": null,
   "id": "3af5a6b0",
   "metadata": {},
   "outputs": [],
   "source": [
    "# if type(forecasting_model) == lgb.sklearn.LGBMRegressor:\n",
    "#     fcasts = reverse_transformation(fcasts, Train_orig, \"Add Trend\")\n",
    "#     fcasts_protected = reverse_transformation(fcasts_protected, Train_protected_orig, \"Add Trend\")"
   ]
  },
  {
   "cell_type": "code",
   "execution_count": null,
   "id": "69345d09",
   "metadata": {},
   "outputs": [],
   "source": [
    "# fcasts = post_process(fcasts, mins, means)\n",
    "# fcasts_protected = post_process(fcasts_protected, mins_protected, means_protected)"
   ]
  },
  {
   "cell_type": "markdown",
   "id": "f7d8236f",
   "metadata": {},
   "source": [
    "***\n",
    "***"
   ]
  },
  {
   "cell_type": "code",
   "execution_count": null,
   "id": "de7346af",
   "metadata": {},
   "outputs": [],
   "source": [
    "# detrender = Detrender()\n",
    "# detrended_series = [detrender.fit_transform(series) for _ , series in Y.iterrows()]\n",
    "# detrended_series = [i+np.abs(np.min(i))+1.0 for i in detrended_series]\n",
    "# Y = pd.concat(detrended_series, axis=1).T"
   ]
  },
  {
   "cell_type": "markdown",
   "id": "a2cdca93",
   "metadata": {},
   "source": [
    "***"
   ]
  },
  {
   "cell_type": "markdown",
   "id": "693a5968",
   "metadata": {},
   "source": [
    "## SES"
   ]
  },
  {
   "cell_type": "code",
   "execution_count": null,
   "id": "c6ca18f3",
   "metadata": {},
   "outputs": [],
   "source": [
    "# define forecasting model\n",
    "# perform additive deseasonalization conditional on autocorrelation test for seasonality\n",
    "\n",
    "forecaster = TransformedTargetForecaster(\n",
    "    [\n",
    "        (\"forecast\", ExponentialSmoothing(use_boxcox=False)),\n",
    "    ]\n",
    ")"
   ]
  },
  {
   "cell_type": "code",
   "execution_count": null,
   "id": "96460ce3",
   "metadata": {},
   "outputs": [],
   "source": [
    "results_dict_ses = {}\n",
    "fcasts_ses = {}\n",
    "fcasts_protected_ses = {}\n",
    "tests = {}\n",
    "num_stdevs = [1, 2]\n",
    "horizons = [1, 20]"
   ]
  },
  {
   "cell_type": "code",
   "execution_count": null,
   "id": "33b06dee",
   "metadata": {},
   "outputs": [],
   "source": [
    "for n in num_stdevs:\n",
    "    for h in horizons:\n",
    "        idx = \"h=\"+str(h)+\", \"+str(n)+\" stan. devs\"\n",
    "        results_dict_ses[idx], tests[idx], fcasts_ses[idx], fcasts_protected_ses[idx] = full_coding_analysis(time_series_data=Y, \n",
    "                                                                                                             forecasting_model=forecaster, \n",
    "                                                                                                             forecast_horizon=h,\n",
    "                                                                                                             num_stdev=n)"
   ]
  },
  {
   "cell_type": "markdown",
   "id": "58ca2364",
   "metadata": {},
   "source": [
    "***\n",
    "***"
   ]
  },
  {
   "cell_type": "code",
   "execution_count": null,
   "id": "93202597",
   "metadata": {},
   "outputs": [],
   "source": [
    "results_dict_ses"
   ]
  },
  {
   "cell_type": "markdown",
   "id": "92ee4971",
   "metadata": {},
   "source": [
    "***\n",
    "***"
   ]
  },
  {
   "cell_type": "markdown",
   "id": "fd8a115f",
   "metadata": {},
   "source": [
    "## DES"
   ]
  },
  {
   "cell_type": "code",
   "execution_count": null,
   "id": "56fd1478",
   "metadata": {},
   "outputs": [],
   "source": [
    "# define forecasting model\n",
    "# perform additive deseasonalization conditional on autocorrelation test for seasonality\n",
    "\n",
    "forecaster = TransformedTargetForecaster(\n",
    "    [\n",
    "        (\"forecast\", ExponentialSmoothing(trend=\"additive\", use_boxcox=False)),\n",
    "    ]\n",
    ")"
   ]
  },
  {
   "cell_type": "code",
   "execution_count": null,
   "id": "d53855fb",
   "metadata": {},
   "outputs": [],
   "source": [
    "results_dict_des = {}\n",
    "fcasts_des = {}\n",
    "fcasts_protected_des = {}\n",
    "tests = {}\n",
    "num_stdevs = [1, 2]\n",
    "horizons = [1, 20]"
   ]
  },
  {
   "cell_type": "code",
   "execution_count": null,
   "id": "679e3752",
   "metadata": {},
   "outputs": [],
   "source": [
    "for n in num_stdevs:\n",
    "    for h in horizons:\n",
    "        idx = \"h=\"+str(h)+\", \"+str(n)+\" stan. devs\"\n",
    "        results_dict_des[idx], tests[idx], fcasts_des[idx], fcasts_protected_des[idx] = full_coding_analysis(time_series_data=Y, \n",
    "                                                                                                             forecasting_model=forecaster, \n",
    "                                                                                                             forecast_horizon=h,\n",
    "                                                                                                             num_stdev=n)"
   ]
  },
  {
   "cell_type": "code",
   "execution_count": null,
   "id": "3dfc1a39",
   "metadata": {},
   "outputs": [],
   "source": [
    "results_dict_des"
   ]
  },
  {
   "cell_type": "markdown",
   "id": "16949b2b",
   "metadata": {},
   "source": [
    "***\n",
    "***"
   ]
  },
  {
   "cell_type": "markdown",
   "id": "a96331bb",
   "metadata": {},
   "source": [
    "## TES"
   ]
  },
  {
   "cell_type": "code",
   "execution_count": null,
   "id": "d2c4a618",
   "metadata": {},
   "outputs": [],
   "source": [
    "# define forecasting model\n",
    "# perform additive deseasonalization conditional on autocorrelation test for seasonality\n",
    "\n",
    "forecaster = TransformedTargetForecaster(\n",
    "    [\n",
    "        (\"forecast\", ExponentialSmoothing(trend=\"additive\",\n",
    "                                          seasonal=\"additive\",\n",
    "                                          sp=52,\n",
    "                                          damped_trend=False, \n",
    "                                          use_boxcox=False)),\n",
    "    ]\n",
    ")"
   ]
  },
  {
   "cell_type": "code",
   "execution_count": null,
   "id": "9e0b4da5",
   "metadata": {},
   "outputs": [],
   "source": [
    "results_dict_tes = {}\n",
    "fcasts_tes = {}\n",
    "fcasts_protected_tes = {}\n",
    "tests = {}\n",
    "num_stdevs = [1, 2]\n",
    "horizons = [1, 20]"
   ]
  },
  {
   "cell_type": "code",
   "execution_count": null,
   "id": "a64ae5c2",
   "metadata": {},
   "outputs": [],
   "source": [
    "for n in num_stdevs:\n",
    "    for h in horizons:\n",
    "        idx = \"h=\"+str(h)+\", \"+str(n)+\" stan. devs\"\n",
    "        results_dict_tes[idx], tests[idx], fcasts_tes[idx], fcasts_protected_tes[idx] = full_coding_analysis(time_series_data=Y, \n",
    "                                                                                                             forecasting_model=forecaster, \n",
    "                                                                                                             forecast_horizon=h,\n",
    "                                                                                                             num_stdev=n)"
   ]
  },
  {
   "cell_type": "code",
   "execution_count": null,
   "id": "c9210f04",
   "metadata": {},
   "outputs": [],
   "source": [
    "results_dict_tes"
   ]
  }
 ],
 "metadata": {
  "kernelspec": {
   "display_name": "Python 3 (ipykernel)",
   "language": "python",
   "name": "python3"
  },
  "language_info": {
   "codemirror_mode": {
    "name": "ipython",
    "version": 3
   },
   "file_extension": ".py",
   "mimetype": "text/x-python",
   "name": "python",
   "nbconvert_exporter": "python",
   "pygments_lexer": "ipython3",
   "version": "3.9.7"
  }
 },
 "nbformat": 4,
 "nbformat_minor": 5
}
