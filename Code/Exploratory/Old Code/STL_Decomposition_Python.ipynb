{
 "cells": [
  {
   "cell_type": "code",
   "execution_count": 1,
   "id": "d3c8741e",
   "metadata": {},
   "outputs": [],
   "source": [
    "import pandas as pd\n",
    "import numpy as np\n",
    "# nice time series plots\n",
    "from sktime.utils.plotting import plot_series\n",
    "\n",
    "from sktime.transformations.series.detrend import STLTransformer\n",
    "from sktime.forecasting.trend import STLForecaster\n",
    "\n",
    "from sktime.performance_metrics.forecasting import mean_absolute_error\n",
    "\n",
    "from data_processing_functions import *\n",
    "from forecasting_functions import *"
   ]
  },
  {
   "cell_type": "code",
   "execution_count": 2,
   "id": "0688e4e1",
   "metadata": {},
   "outputs": [],
   "source": [
    "# import monthly micro time series\n",
    "# ignore header and skip the first row to use integers as column names\n",
    "full_data = pd.read_csv(\"../../Data/Train/Clean/full_m3_monthly_micro_clean.csv\", header=None, skiprows=1)"
   ]
  },
  {
   "cell_type": "code",
   "execution_count": 3,
   "id": "2922d084",
   "metadata": {},
   "outputs": [],
   "source": [
    "# convert to a list of series, potentially with different lengths\n",
    "# drop NA values\n",
    "full_data = [x.dropna() for _, x in full_data.iterrows()]"
   ]
  },
  {
   "cell_type": "code",
   "execution_count": 4,
   "id": "55c1f43b",
   "metadata": {},
   "outputs": [],
   "source": [
    "h = 1"
   ]
  },
  {
   "cell_type": "code",
   "execution_count": 5,
   "id": "d3967ad6",
   "metadata": {},
   "outputs": [],
   "source": [
    "# create train and test set using forecast horizon\n",
    "Y = [x.iloc[:-h] for x in full_data]\n",
    "Test = [x.iloc[-h:] for x in full_data]\n",
    "Test = pd.DataFrame([x.reset_index(drop=True) for x in Test]).T"
   ]
  },
  {
   "cell_type": "code",
   "execution_count": 6,
   "id": "5303ad6b",
   "metadata": {},
   "outputs": [],
   "source": [
    "num_series = len(Y)"
   ]
  },
  {
   "cell_type": "markdown",
   "id": "a0f1df83",
   "metadata": {},
   "source": [
    "***"
   ]
  },
  {
   "cell_type": "markdown",
   "id": "f1aa968f",
   "metadata": {},
   "source": [
    "Take the log of the data."
   ]
  },
  {
   "cell_type": "code",
   "execution_count": 7,
   "id": "3d0d9c8c",
   "metadata": {},
   "outputs": [],
   "source": [
    "Y_processed, Y_last_window, Y_last_window_trend, pre_detrend = pre_process(ts_data=Y,\n",
    "                                                                           target_forecast_period=h,\n",
    "                                                                           log=True,\n",
    "                                                                           mean_normalize=True)"
   ]
  },
  {
   "cell_type": "markdown",
   "id": "f9ae703f",
   "metadata": {},
   "source": [
    "Perform decomposition using STL."
   ]
  },
  {
   "cell_type": "code",
   "execution_count": null,
   "id": "9e7c991d",
   "metadata": {},
   "outputs": [],
   "source": [
    "trend_fcasts = []\n",
    "seasonal_fcasts = []\n",
    "remainders = []\n",
    "\n",
    "for series in Y_processed:\n",
    "    transformer = STLForecaster(sp=12)\n",
    "    transformer.fit(series)\n",
    "    # store remainder for forecasting later\n",
    "    remainders.append(transformer.resid_ + transformer.trend_)\n",
    "    # forecast the trend\n",
    "    trend_fcasts.append(transformer.forecaster_trend_.predict(h))\n",
    "    # forecast the seasonality\n",
    "    seasonal_fcasts.append(transformer.forecaster_seasonal_.predict(h))"
   ]
  },
  {
   "cell_type": "markdown",
   "id": "a1e64bc8",
   "metadata": {},
   "source": [
    "Forecast the remainder using the machine learning method."
   ]
  },
  {
   "cell_type": "code",
   "execution_count": 8,
   "id": "cb3c2b93",
   "metadata": {},
   "outputs": [
    {
     "name": "stdout",
     "output_type": "stream",
     "text": [
      "|   iter    |  target   | learni... | num_bo... |\n",
      "-------------------------------------------------\n",
      "| \u001b[95m 2       \u001b[0m | \u001b[95m-0.1937  \u001b[0m | \u001b[95m 0.05783 \u001b[0m | \u001b[95m 404.2   \u001b[0m |\n",
      "| \u001b[95m 6       \u001b[0m | \u001b[95m-0.1935  \u001b[0m | \u001b[95m 0.05969 \u001b[0m | \u001b[95m 211.8   \u001b[0m |\n",
      "| \u001b[95m 8       \u001b[0m | \u001b[95m-0.1932  \u001b[0m | \u001b[95m 0.04071 \u001b[0m | \u001b[95m 330.6   \u001b[0m |\n",
      "| \u001b[95m 12      \u001b[0m | \u001b[95m-0.1929  \u001b[0m | \u001b[95m 0.05634 \u001b[0m | \u001b[95m 212.1   \u001b[0m |\n",
      "=================================================\n",
      "Final Result:  {'target': -0.19285174568790603, 'params': {'learning_rate_': 0.05634224871572112, 'num_boost_rounds_': 212.1407063415852}}\n"
     ]
    }
   ],
   "source": [
    "rem_fcasts = LGBM_forecast(ts_data=Y_processed, h=h, lags=28, max_samples_per_ts=None)"
   ]
  },
  {
   "cell_type": "markdown",
   "id": "b5375efd",
   "metadata": {},
   "source": [
    "Combine forecasts for each piece to get final forecast (which still needs to be post-processed)."
   ]
  },
  {
   "cell_type": "code",
   "execution_count": null,
   "id": "4f8b98d3",
   "metadata": {},
   "outputs": [],
   "source": [
    "fcasts = [trend_fcasts[i] + seasonal_fcasts[i] + rem_fcasts[i] for i in range(num_series)]\n",
    "# fcasts = [seasonal_fcasts[i] + rem_fcasts[i] for i in range(num_series)]"
   ]
  },
  {
   "cell_type": "code",
   "execution_count": 9,
   "id": "1bd5e7df",
   "metadata": {},
   "outputs": [],
   "source": [
    "fcasts = post_process(full_ts_data=Y,\n",
    "                      forecasts=rem_fcasts,\n",
    "                      target_forecast_period=h,\n",
    "                      log=True,\n",
    "                      mean_normalize=True)"
   ]
  },
  {
   "cell_type": "code",
   "execution_count": 10,
   "id": "f113593e",
   "metadata": {},
   "outputs": [
    {
     "data": {
      "text/plain": [
       "696.5942675429146"
      ]
     },
     "execution_count": 10,
     "metadata": {},
     "output_type": "execute_result"
    }
   ],
   "source": [
    "mean_absolute_error(Test, fcasts)"
   ]
  },
  {
   "cell_type": "code",
   "execution_count": null,
   "id": "28abe42a",
   "metadata": {},
   "outputs": [],
   "source": []
  },
  {
   "cell_type": "code",
   "execution_count": null,
   "id": "e08f2421",
   "metadata": {},
   "outputs": [],
   "source": []
  }
 ],
 "metadata": {
  "kernelspec": {
   "display_name": "Python 3 (ipykernel)",
   "language": "python",
   "name": "python3"
  },
  "language_info": {
   "codemirror_mode": {
    "name": "ipython",
    "version": 3
   },
   "file_extension": ".py",
   "mimetype": "text/x-python",
   "name": "python",
   "nbconvert_exporter": "python",
   "pygments_lexer": "ipython3",
   "version": "3.9.7"
  }
 },
 "nbformat": 4,
 "nbformat_minor": 5
}
